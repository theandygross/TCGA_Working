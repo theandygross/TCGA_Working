{
 "metadata": {
  "name": ""
 },
 "nbformat": 3,
 "nbformat_minor": 0,
 "worksheets": [
  {
   "cells": [
    {
     "cell_type": "markdown",
     "metadata": {},
     "source": [
      "<div class=\"page-header\">\n",
      "    <h1>UCSD Scientific Python User Group<small> October 16, 2013</small></h1>\n",
      "</div> \n"
     ]
    },
    {
     "cell_type": "heading",
     "level": 1,
     "metadata": {},
     "source": [
      "Background"
     ]
    },
    {
     "cell_type": "markdown",
     "metadata": {},
     "source": [
      "<blockquote>\n",
      "<p>\n",
      "The Scientific Python User Group was created to foster an informal environment for students to learn more about the constantly expanding scientific Python ecosystem. We plan to have monthly meeting structured with two students giving short presentations on how they use open-source Python resources to support their research. \n",
      "</p>\n",
      "\n",
      "<p>We have established three major goals:    </p>\n",
      "<ul>\n",
      "<li>To further develop awareness and knowledge of the growing pool of resources within the Python ecosystem and how they can be used within diverse areas of academic research.</li>\n",
      "<li>To expose students to good software practices and highlight the technical underpinnings that are crucial to good research but often get skipped over in traditional research presentations.</li>\n",
      "<li>To encourage use and contribution to open- source scientific software.</li>\n",
      "</ul>\n",
      "\n",
      "</blockquote>"
     ]
    },
    {
     "cell_type": "heading",
     "level": 1,
     "metadata": {},
     "source": [
      "Introductions"
     ]
    },
    {
     "cell_type": "markdown",
     "metadata": {},
     "source": [
      "<blockquote>\n",
      "<h3>Github, mailing list, ect...</h3>\n",
      "<h3>Sign the sheet: more names =  more food</h3> \n",
      "</blockquote>"
     ]
    },
    {
     "cell_type": "heading",
     "level": 1,
     "metadata": {},
     "source": [
      "Presentations  "
     ]
    },
    {
     "cell_type": "markdown",
     "metadata": {},
     "source": [
      "<blockquote>\n",
      "<h2>Chris DeBoever <small>  Using gridspec and hierarchical clustering for heatmaps.</small> </h2> \n",
      "http://matplotlib.org/\n",
      "\n",
      "<h2>Olga Botvinnik <small>  Update of previous presentation.</small> </h2> \n",
      "http://olgabot.github.io/prettyplotlib/ \n",
      "\n",
      "<h2>Kunal Bhutani <small>  Reshaping dataframes using Pandas</small> </h2>\n",
      "http://pandas.pydata.org/ \n",
      "\n",
      "<h2>Andy Gross <small>  Using Bootstrap in the Ipython notebook</small> </h2>\n",
      "http://getbootstrap.com/\n",
      "</blockquote>"
     ]
    },
    {
     "cell_type": "heading",
     "level": 1,
     "metadata": {},
     "source": [
      "Conclusion"
     ]
    },
    {
     "cell_type": "markdown",
     "metadata": {},
     "source": [
      "<blockquote>\n",
      "<h3>Shameless recruitment of future talks.</h3>\n",
      "<h3>Planning the next meeting</h3> \n",
      "</blockquote>"
     ]
    }
   ],
   "metadata": {}
  }
 ]
}