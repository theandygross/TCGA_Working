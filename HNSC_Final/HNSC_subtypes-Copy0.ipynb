{
 "metadata": {
  "name": ""
 },
 "nbformat": 3,
 "nbformat_minor": 0,
 "worksheets": [
  {
   "cells": [
    {
     "cell_type": "markdown",
     "metadata": {},
     "source": [
      "<h1 class=\"alert alert-info\">HNSCC HPV- Cohort <small> <i class=\"icon-repeat\"></i> Integrative Prognositic Screen</small></h1>"
     ]
    },
    {
     "cell_type": "code",
     "collapsed": false,
     "input": [
      "OUT_PATH = '/cellar/users/agross/HNSCC_Test/Data6'\n",
      "RUN_DATE = '2013_05_23'\n",
      "VERSION = 'all_2'\n",
      "CANCER = 'HNSC'"
     ],
     "language": "python",
     "metadata": {},
     "outputs": [],
     "prompt_number": 12
    },
    {
     "cell_type": "heading",
     "level": 1,
     "metadata": {},
     "source": [
      "Setup"
     ]
    },
    {
     "cell_type": "code",
     "collapsed": false,
     "input": [
      "%load_ext nbtoc\n",
      "%nbtoc"
     ],
     "language": "python",
     "metadata": {},
     "outputs": [
      {
       "output_type": "stream",
       "stream": "stdout",
       "text": [
        "The nbtoc extension is already loaded. To reload it, use:\n",
        "  %reload_ext nbtoc\n"
       ]
      },
      {
       "html": [
        "<!-- extracted from https://gist.github.com/magican/5574556 -->\n",
        "<div id=\"toc-wrapper\">\n",
        "    <div class=\"header\">Contents <a href=\"#\" class=\"hide-btn\">[hide]</a></div>\n",
        "    <div id=\"toc\"></div>\n",
        "</div>\n",
        " \n",
        "<style>\n",
        "  #toc {\n",
        "    overflow-y: scroll;\n",
        "    max-height: 300px;\n",
        "  }\n",
        "  #toc-wrapper {\n",
        "    position: fixed; top: 120px; max-width:430px; right: 20px;\n",
        "    border: thin solid rgba(0, 0, 0, 0.38); opacity: .8;\n",
        "    border-radius: 5px; background-color: #fff; padding:10px;\n",
        "    z-index: 100;\n",
        "  }\n",
        "  #toc-wrapper.closed {\n",
        "      min-width: 100px;\n",
        "      width: auto;\n",
        "      transition: width;\n",
        "  }\n",
        "  #toc-wrapper:hover{\n",
        "      opacity:1;\n",
        "  }\n",
        "  #toc-wrapper .header {\n",
        "      font-size:18px; font-weight: bold;\n",
        "  }\n",
        "  #toc-wrapper .hide-btn {\n",
        "      font-size: 14px;\n",
        "  }\n",
        " \n",
        "</style>\n",
        "\n",
        "<style>\n",
        "  ol.nested {\n",
        "    counter-reset: item;\n",
        "    list-style: none;\n",
        "  }\n",
        "  li.nested {\n",
        "        display: block;\n",
        "    }\n",
        "  li.nested:before {\n",
        "        counter-increment: item;\n",
        "        content: counters(item, \".\")\" \";\n",
        "    }\n",
        "</style>\n"
       ],
       "metadata": {},
       "output_type": "display_data"
      },
      {
       "javascript": [
        "// adapted from https://gist.github.com/magican/5574556\n",
        "\n",
        "function clone_anchor(element) {\n",
        "  // clone link\n",
        "  var h = element.find(\"div.text_cell_render\").find(':header').first();\n",
        "  var a = h.find('a').clone();\n",
        "  var new_a = $(\"<a>\");\n",
        "  new_a.attr(\"href\", a.attr(\"href\"));\n",
        "  // get the text *excluding* the link text, whatever it may be\n",
        "  var hclone = h.clone();\n",
        "  hclone.children().remove();\n",
        "  new_a.text(hclone.text());\n",
        "  return new_a;\n",
        "}\n",
        "\n",
        "function ol_depth(element) {\n",
        "  // get depth of nested ol\n",
        "  var d = 0;\n",
        "  while (element.prop(\"tagName\").toLowerCase() == 'ol') {\n",
        "    d += 1;\n",
        "    element = element.parent();\n",
        "  }\n",
        "  return d;\n",
        "}\n",
        "\n",
        "function table_of_contents(threshold) {\n",
        "  if (threshold === undefined) {\n",
        "    threshold = 4;\n",
        "  }\n",
        "  var cells = IPython.notebook.get_cells();\n",
        "  \n",
        "  var ol = $(\"<ol/>\");\n",
        "  $(\"#toc\").empty().append(ol);\n",
        "  \n",
        "  for (var i=0; i < cells.length; i++) {\n",
        "    var cell = cells[i];\n",
        "    \n",
        "    if (cell.cell_type !== 'heading') continue;\n",
        "    \n",
        "    var level = cell.level;\n",
        "    if (level > threshold) continue;\n",
        "    \n",
        "    var depth = ol_depth(ol);\n",
        "\n",
        "    // walk down levels\n",
        "    for (; depth < level; depth++) {\n",
        "      var new_ol = $(\"<ol/>\");\n",
        "      ol.append(new_ol);\n",
        "      ol = new_ol;\n",
        "    }\n",
        "    // walk up levels\n",
        "    for (; depth > level; depth--) {\n",
        "      ol = ol.parent();\n",
        "    }\n",
        "    //\n",
        "    ol.append(\n",
        "      $(\"<li/>\").append(clone_anchor(cell.element))\n",
        "    );\n",
        "  }\n",
        "\n",
        "  $('#toc-wrapper .header').click(function(){\n",
        "    $('#toc').slideToggle();\n",
        "    $('#toc-wrapper').toggleClass('closed');\n",
        "    if ($('#toc-wrapper').hasClass('closed')){\n",
        "      $('#toc-wrapper .hide-btn').text('[show]');\n",
        "    } else {\n",
        "      $('#toc-wrapper .hide-btn').text('[hide]');\n",
        "    }\n",
        "    return false;\n",
        "  })\n",
        "\n",
        "  $(window).resize(function(){\n",
        "    $('#toc').css({maxHeight: $(window).height() - 200})\n",
        "  })\n",
        "\n",
        "  $(window).trigger('resize')\n",
        "}\n",
        "\n",
        "table_of_contents();\n",
        "\n",
        "\n"
       ],
       "metadata": {},
       "output_type": "display_data"
      }
     ],
     "prompt_number": 13
    },
    {
     "cell_type": "code",
     "collapsed": false,
     "input": [
      "cd ../src"
     ],
     "language": "python",
     "metadata": {},
     "outputs": [
      {
       "output_type": "stream",
       "stream": "stdout",
       "text": [
        "/cellar/users/agross/TCGA_Code/TCGA/Pathway_Merge/src\n"
       ]
      }
     ],
     "prompt_number": 14
    },
    {
     "cell_type": "code",
     "collapsed": false,
     "input": [
      "from Processing.Imports import *\n",
      "from Figures.Survival import survival_and_stats"
     ],
     "language": "python",
     "metadata": {},
     "outputs": [],
     "prompt_number": 15
    },
    {
     "cell_type": "heading",
     "level": 2,
     "metadata": {},
     "source": [
      "Read in Preprocessed Data"
     ]
    },
    {
     "cell_type": "code",
     "collapsed": false,
     "input": [
      "run_path  = '{}/Firehose__{}/'.format(OUT_PATH, RUN_DATE)\n",
      "run = get_run(run_path, 'Run_' + VERSION)\n",
      "cancer = run.load_cancer(CANCER)\n",
      "clinical = cancer.load_clinical()\n",
      "\n",
      "mut = cancer.load_data('Mutation')\n",
      "mut.uncompress()\n",
      "cn = cancer.load_data('CN_broad')\n",
      "cn.uncompress()"
     ],
     "language": "python",
     "metadata": {},
     "outputs": [],
     "prompt_number": 16
    },
    {
     "cell_type": "code",
     "collapsed": false,
     "input": [
      "rna = pickle.load(open(cancer.path + '/mRNASeq/store/no_hpv.p', 'rb'))\n",
      "#meth = pickle.load(open(cancer.path + '/Methylation/store/no_hpv.p', 'rb'))\n",
      "mirna = pickle.load(open(cancer.path + '/miRNASeq/store/no_hpv.p', 'rb'))"
     ],
     "language": "python",
     "metadata": {},
     "outputs": [],
     "prompt_number": 5
    },
    {
     "cell_type": "code",
     "collapsed": false,
     "input": [
      "clinical_processed = clinical.processed\n",
      "hpv_inferred = clinical_processed.hpv_inferred\n",
      "surv = clinical.survival.survival_5y\n",
      "age = clinical.timeline.age.astype(float)\n",
      "old = pd.Series(1.*(age>=75), name='old')"
     ],
     "language": "python",
     "metadata": {},
     "outputs": [],
     "prompt_number": 6
    },
    {
     "cell_type": "heading",
     "level": 2,
     "metadata": {},
     "source": [
      "Setup Survival Screen Functions"
     ]
    },
    {
     "cell_type": "code",
     "collapsed": false,
     "input": [
      "from Processing.Screen import *\n",
      "def get_patient_set(filters):\n",
      "    f1 = list(filters)\n",
      "    filter_df = pd.concat(f1, axis=1)\n",
      "    clinical_filter = filter_df.dropna().sum(1) == 0\n",
      "    keepers_o = true_index(clinical_filter)\n",
      "    keepers_o = keepers_o.intersection(mut.features.columns).intersection(cn.features.columns)\n",
      "    \n",
      "    f2 = [age >= 85] + list(filters)\n",
      "    filter_df = pd.concat(f2, axis=1)\n",
      "    clinical_filter = filter_df.sum(1) == 0\n",
      "    keepers = true_index(clinical_filter)\n",
      "    keepers = keepers.intersection(mut.features.columns).intersection(cn.features.columns)\n",
      "    return keepers, keepers_o\n",
      "\n",
      "def get_data(keepers_o, binary_cutoff=12):\n",
      "    rate = mut.df.sum()\n",
      "    mut_df = mut_filter(mut.features.ix[:,keepers_o], rate, binary_cutoff).T\n",
      "    amp_df, del_df = cn_filter(cn.features, binary_cutoff)\n",
      "    cna_df = pd.concat([del_df, amp_df], keys=['del','amp'], axis=1)\n",
      "    cna_df.columns = map(lambda i: '_'.join(i), cna_df.columns)\n",
      "\n",
      "    rna_df = process_real(rna.features.ix['binary'])\n",
      "    mirna_df = process_real(mirna.features.ix['binary'])\n",
      "\n",
      "    clinical_df = clinical_processed.select(lambda s: 'age' not in s, 1)\n",
      "    df = pd.concat({'clinical': clinical_df,\n",
      "                    'mutation': mut_df,\n",
      "                    'cna': cna_df,\n",
      "                    'rna': rna_df,\n",
      "                    'mirna': mirna_df}, axis=1).T\n",
      "    df = df.ix[:, keepers_o]\n",
      "    return df"
     ],
     "language": "python",
     "metadata": {},
     "outputs": [],
     "prompt_number": 7
    },
    {
     "cell_type": "code",
     "collapsed": false,
     "input": [
      "def extract_chi2(full, reduced):\n",
      "    '''\n",
      "    Extract chi2 statstic of likelihood ratio test \n",
      "    on two R models. \n",
      "    '''\n",
      "    full_ll = list(full.rx2('loglik'))\n",
      "    reduced_ll = list(reduced.rx2('loglik'))\n",
      "    chi2 = 2*full_ll[1] - 2*reduced_ll[1]\n",
      "    return chi2\n",
      "\n",
      "def get_interaction(a,b, surv, int_direction='both'):\n",
      "    '''\n",
      "    Get test statistic (chi2 distributed) of interaction between \n",
      "    two event vectors.  \n",
      "    '''\n",
      "    a,b = a.copy(), b.copy()\n",
      "    a.name, b.name = 'a','b'\n",
      "    m1 = get_cox_ph(surv, covariates=[a,b], \n",
      "                    formula='Surv(days, event) ~ a + b')\n",
      "\n",
      "    int_var = 1.*(combine(a,b)==int_direction)\n",
      "    int_var.name = 'interaction'\n",
      "    m2 = get_cox_ph(surv, int_var)\n",
      "    chi2 = extract_chi2(m2, m1)\n",
      "    return chi2\n",
      "\n",
      "def interaction_empirical_p(a, b, surv, num_perm=101):\n",
      "    '''\n",
      "    Calculate an empirical p-value for an interaction by sampling\n",
      "    with replacement.  \n",
      "    \n",
      "    We first test if there is an improvement in model fit by \n",
      "    considering the interaction of the two events.  If so, we \n",
      "    then derive an empirical p-value. \n",
      "    '''\n",
      "    a,b = match_series(a,b)\n",
      "    if fisher_exact_test(a,b)['odds_ratio'] > 1:\n",
      "        int_direction = 'both'\n",
      "    else:\n",
      "        int_direction = 'neither'\n",
      "    r = get_interaction(a, b, surv)\n",
      "    if r < 0:\n",
      "        return pd.Series({'p': 1, 'interaction': int_direction})\n",
      "    \n",
      "    mat = random.choice(a.index, size=(num_perm, len(a.index)))\n",
      "    \n",
      "    vec = {}\n",
      "    for i,idx in enumerate(mat):\n",
      "        a_p = pd.Series(list(a.ix[idx]), range(len(idx)))\n",
      "        b_p = pd.Series(list(b.ix[idx]), range(len(idx)))\n",
      "        surv_p = pd.DataFrame(surv.unstack().ix[a.index].as_matrix(), \n",
      "                              index=range(len(idx)), \n",
      "                              columns=['days','event']).stack()\n",
      "        vec[i] = get_interaction(a_p, b_p, surv_p, int_direction)\n",
      "    vec = pd.Series(vec)\n",
      "    \n",
      "    empirical_p = 1.*(len(vec) - sum(vec <= r)) / len(vec)\n",
      "    return pd.Series({'p': empirical_p, 'interaction': int_direction})\n",
      "\n",
      "def get_interactions(df, cov_df, surv, test):\n",
      "    binary = df[df.T.describe().ix['unique'] == 2]\n",
      "    binary = binary.apply(lambda v: v == v.dropna().unique()[0], 1)\n",
      "    n_tests = (len(binary) * (len(binary) - 1)) / 2\n",
      "    s = pd.DataFrame({(a,b): interaction_empirical_p(v1,v2, surv) \n",
      "                          for a,v1 in binary.iterrows()\n",
      "                          for b,v2 in binary.iterrows()\n",
      "                          if (a < b)\n",
      "                          and fisher_exact_test(v1,v2).ix['p'] < (.05 / n_tests)}).T\n",
      "    int_pairs =  s.ix[s.p < .1].sort('p')\n",
      "    \n",
      "    int_associations = {}\n",
      "    for p,vals in int_pairs.iterrows():\n",
      "        combo = H.combine(binary.ix[p[0]], binary.ix[p[1]])\n",
      "        vec = combo == vals['interaction']\n",
      "        int_associations[p] = test(vec, surv, cov_df) \n",
      "    int_associations = pd.DataFrame(int_associations).T\n",
      "    return s, int_associations"
     ],
     "language": "python",
     "metadata": {},
     "outputs": [],
     "prompt_number": 8
    },
    {
     "cell_type": "code",
     "collapsed": false,
     "input": [
      "def test(s, surv, cov_df):\n",
      "    s = s.dropna()\n",
      "    try:\n",
      "        return get_cox_ph_ms(surv, s, cov_df, return_val='LR', interactions='just_feature')\n",
      "    except:\n",
      "        return pd.Series(index=['LR','feature_p', 'fmla', 'hazzard'])\n",
      "\n",
      "\n",
      "def run_screen(filters, cov):\n",
      "    cov_df = pd.concat(cov, axis=1)\n",
      "    keepers, keepers_o = get_patient_set(filters)\n",
      "    cutoff = max(np.floor(len(keepers_o) / 10.), 8)\n",
      "    cutoff = min(cutoff, 15)\n",
      "    df = get_data(keepers_o)\n",
      "    binary = filter_binary(df, cutoff)    \n",
      "\n",
      "    univariate = cox_screen(binary, surv)\n",
      "    vec = univariate.LR.p.sort_index()\n",
      "    univariate['q_bonf'] = vec.groupby(level=0).apply(lambda s: s*len(s)).order()\n",
      "    univariate['q_bh'] = vec.groupby(level=0).apply(bhCorrection).order()\n",
      "    hits = univariate[univariate['q_bh'] < .5].index\n",
      "    \n",
      "    feature_age = df.ix[hits].apply(test, args=(surv, cov_df,), axis=1)\n",
      "    vec = feature_age.LR.ix[univariate.index].sort_index()\n",
      "    feature_age['q_bonf'] = vec.groupby(level=0).apply(lambda s: s*len(s)).order()\n",
      "    feature_age['q_bh'] = vec.groupby(level=0).apply(bhCorrection).order()\n",
      "    feature_age['q_all'] = feature_age['q_bh'] * 5\n",
      "    hits = feature_age[feature_age.q_all < .3].index\n",
      "    try:\n",
      "        pairs, interactions = get_interactions(df.ix[hits], cov_df, \n",
      "                                               surv, test)\n",
      "        res = pd.concat([feature_age, interactions]).sort('LR')\n",
      "    except:\n",
      "        res = feature_age.sort('LR')\n",
      "    return res, pairs, feature_age, univariate, keepers_o, df"
     ],
     "language": "python",
     "metadata": {},
     "outputs": [],
     "prompt_number": 9
    },
    {
     "cell_type": "heading",
     "level": 1,
     "metadata": {},
     "source": [
      "Run Survival Screen"
     ]
    },
    {
     "cell_type": "heading",
     "level": 2,
     "metadata": {},
     "source": [
      "Decision 1: TP53 Mutation / 3p Deletion Aggregate Event"
     ]
    },
    {
     "cell_type": "code",
     "collapsed": false,
     "input": [
      "res, pairs, feature_age, univariate, keepers_o, df = run_screen([hpv_inferred==1], [old, age])"
     ],
     "language": "python",
     "metadata": {},
     "outputs": [],
     "prompt_number": 10
    },
    {
     "cell_type": "code",
     "collapsed": false,
     "input": [
      "res.sort('LR').head(10)"
     ],
     "language": "python",
     "metadata": {},
     "outputs": [
      {
       "html": [
        "<div style=\"max-height:1000px;max-width:1500px;overflow:auto;\">\n",
        "<table border=\"1\" class=\"dataframe\">\n",
        "  <thead>\n",
        "    <tr style=\"text-align: right;\">\n",
        "      <th></th>\n",
        "      <th></th>\n",
        "      <th>LR</th>\n",
        "      <th>feature_p</th>\n",
        "      <th>fmla</th>\n",
        "      <th>hazzard</th>\n",
        "      <th>q_all</th>\n",
        "      <th>q_bh</th>\n",
        "      <th>q_bonf</th>\n",
        "    </tr>\n",
        "  </thead>\n",
        "  <tbody>\n",
        "    <tr>\n",
        "      <th>(cna, del_3p14.2)</th>\n",
        "      <th>(mutation, TP53)</th>\n",
        "      <td>  6.3e-06</td>\n",
        "      <td> 3.91e-05</td>\n",
        "      <td> Surv(days, event) ~ feature + old + feature:old\\n</td>\n",
        "      <td> 3.61</td>\n",
        "      <td>  NaN</td>\n",
        "      <td>      NaN</td>\n",
        "      <td>  NaN</td>\n",
        "    </tr>\n",
        "    <tr>\n",
        "      <th>(clinical, smoker_inferred)</th>\n",
        "      <th>(cna, del_3p14.2)</th>\n",
        "      <td> 4.49e-05</td>\n",
        "      <td> 3.98e-05</td>\n",
        "      <td> Surv(days, event) ~ feature + old + feature:old\\n</td>\n",
        "      <td>  2.5</td>\n",
        "      <td>  NaN</td>\n",
        "      <td>      NaN</td>\n",
        "      <td>  NaN</td>\n",
        "    </tr>\n",
        "    <tr>\n",
        "      <th>clinical</th>\n",
        "      <th>spread</th>\n",
        "      <td> 0.000113</td>\n",
        "      <td>      NaN</td>\n",
        "      <td>               Surv(days, event) ~ feature + old\\n</td>\n",
        "      <td>  NaN</td>\n",
        "      <td> 0.00</td>\n",
        "      <td> 8.12e-04</td>\n",
        "      <td> 0.00</td>\n",
        "    </tr>\n",
        "    <tr>\n",
        "      <th>(clinical, smoker_inferred)</th>\n",
        "      <th>(cna, del_3p12.2)</th>\n",
        "      <td> 0.000115</td>\n",
        "      <td> 7.24e-05</td>\n",
        "      <td> Surv(days, event) ~ feature + old + feature:old\\n</td>\n",
        "      <td> 2.35</td>\n",
        "      <td>  NaN</td>\n",
        "      <td>      NaN</td>\n",
        "      <td>  NaN</td>\n",
        "    </tr>\n",
        "    <tr>\n",
        "      <th>cna</th>\n",
        "      <th>del_3p14.2</th>\n",
        "      <td> 0.000162</td>\n",
        "      <td>  0.00224</td>\n",
        "      <td> Surv(days, event) ~ feature + old + age + feat...</td>\n",
        "      <td> 6.38</td>\n",
        "      <td> 0.06</td>\n",
        "      <td> 1.14e-02</td>\n",
        "      <td> 0.01</td>\n",
        "    </tr>\n",
        "    <tr>\n",
        "      <th rowspan=\"2\" valign=\"top\">clinical</th>\n",
        "      <th>spread_inferred</th>\n",
        "      <td> 0.000181</td>\n",
        "      <td>  9.9e-05</td>\n",
        "      <td>               Surv(days, event) ~ feature + old\\n</td>\n",
        "      <td> 2.19</td>\n",
        "      <td> 0.00</td>\n",
        "      <td> 8.12e-04</td>\n",
        "      <td> 0.00</td>\n",
        "    </tr>\n",
        "    <tr>\n",
        "      <th>year</th>\n",
        "      <td> 0.000308</td>\n",
        "      <td>      NaN</td>\n",
        "      <td> Surv(days, event) ~ feature + old + feature:old\\n</td>\n",
        "      <td>  NaN</td>\n",
        "      <td> 0.00</td>\n",
        "      <td> 9.23e-04</td>\n",
        "      <td> 0.00</td>\n",
        "    </tr>\n",
        "    <tr>\n",
        "      <th>cna</th>\n",
        "      <th>del_3p25.3</th>\n",
        "      <td> 0.000339</td>\n",
        "      <td>  0.00127</td>\n",
        "      <td>               Surv(days, event) ~ feature + old\\n</td>\n",
        "      <td> 2.55</td>\n",
        "      <td> 0.06</td>\n",
        "      <td> 1.19e-02</td>\n",
        "      <td> 0.02</td>\n",
        "    </tr>\n",
        "    <tr>\n",
        "      <th>mutation</th>\n",
        "      <th>TP53</th>\n",
        "      <td> 0.000394</td>\n",
        "      <td>   0.0017</td>\n",
        "      <td>               Surv(days, event) ~ feature + old\\n</td>\n",
        "      <td> 2.62</td>\n",
        "      <td> 0.19</td>\n",
        "      <td> 3.70e-02</td>\n",
        "      <td> 0.04</td>\n",
        "    </tr>\n",
        "    <tr>\n",
        "      <th>clinical</th>\n",
        "      <th>lymph_status</th>\n",
        "      <td> 0.000544</td>\n",
        "      <td> 0.000234</td>\n",
        "      <td> Surv(days, event) ~ feature + old + feature:old\\n</td>\n",
        "      <td> 2.25</td>\n",
        "      <td> 0.01</td>\n",
        "      <td> 1.22e-03</td>\n",
        "      <td> 0.00</td>\n",
        "    </tr>\n",
        "  </tbody>\n",
        "</table>\n",
        "</div>"
       ],
       "metadata": {},
       "output_type": "pyout",
       "prompt_number": 11,
       "text": [
        "                                                     LR feature_p                                               fmla hazzard  q_all      q_bh  q_bonf\n",
        "(cna, del_3p14.2)           (mutation, TP53)    6.3e-06  3.91e-05  Surv(days, event) ~ feature + old + feature:old\\n    3.61    NaN       NaN     NaN\n",
        "(clinical, smoker_inferred) (cna, del_3p14.2)  4.49e-05  3.98e-05  Surv(days, event) ~ feature + old + feature:old\\n     2.5    NaN       NaN     NaN\n",
        "clinical                    spread             0.000113       NaN                Surv(days, event) ~ feature + old\\n     NaN   0.00  8.12e-04    0.00\n",
        "(clinical, smoker_inferred) (cna, del_3p12.2)  0.000115  7.24e-05  Surv(days, event) ~ feature + old + feature:old\\n    2.35    NaN       NaN     NaN\n",
        "cna                         del_3p14.2         0.000162   0.00224  Surv(days, event) ~ feature + old + age + feat...    6.38   0.06  1.14e-02    0.01\n",
        "clinical                    spread_inferred    0.000181   9.9e-05                Surv(days, event) ~ feature + old\\n    2.19   0.00  8.12e-04    0.00\n",
        "                            year               0.000308       NaN  Surv(days, event) ~ feature + old + feature:old\\n     NaN   0.00  9.23e-04    0.00\n",
        "cna                         del_3p25.3         0.000339   0.00127                Surv(days, event) ~ feature + old\\n    2.55   0.06  1.19e-02    0.02\n",
        "mutation                    TP53               0.000394    0.0017                Surv(days, event) ~ feature + old\\n    2.62   0.19  3.70e-02    0.04\n",
        "clinical                    lymph_status       0.000544  0.000234  Surv(days, event) ~ feature + old + feature:old\\n    2.25   0.01  1.22e-03    0.00"
       ]
      }
     ],
     "prompt_number": 11
    },
    {
     "cell_type": "code",
     "collapsed": false,
     "input": [
      "combo = combine(df.ix['mutation'].ix['TP53'], df.ix['cna'].ix['del_3p14.2'])\n",
      "survival_and_stats(combo, surv, figsize=(6,4))"
     ],
     "language": "python",
     "metadata": {},
     "outputs": [
      {
       "metadata": {},
       "output_type": "display_data",
       "png": "[encoded data removed]",
       "text": [
        "<matplotlib.figure.Figure at 0x896af10>"
       ]
      }
     ],
     "prompt_number": 12
    },
    {
     "cell_type": "code",
     "collapsed": false,
     "input": [
      "pairs.sort('p').head()"
     ],
     "language": "python",
     "metadata": {},
     "outputs": [
      {
       "html": [
        "<div style=\"max-height:1000px;max-width:1500px;overflow:auto;\">\n",
        "<table border=\"1\" class=\"dataframe\">\n",
        "  <thead>\n",
        "    <tr style=\"text-align: right;\">\n",
        "      <th></th>\n",
        "      <th>interaction</th>\n",
        "      <th>p</th>\n",
        "    </tr>\n",
        "  </thead>\n",
        "  <tbody>\n",
        "    <tr>\n",
        "      <th>((clinical, smoker_inferred), (cna, del_3p14.2))</th>\n",
        "      <td> both</td>\n",
        "      <td>      0</td>\n",
        "    </tr>\n",
        "    <tr>\n",
        "      <th>((cna, del_3p14.2), (mutation, TP53))</th>\n",
        "      <td> both</td>\n",
        "      <td> 0.0099</td>\n",
        "    </tr>\n",
        "    <tr>\n",
        "      <th>((clinical, lymph_status), (clinical, spread))</th>\n",
        "      <td> both</td>\n",
        "      <td> 0.0297</td>\n",
        "    </tr>\n",
        "    <tr>\n",
        "      <th>((clinical, smoker_inferred), (cna, del_3p12.2))</th>\n",
        "      <td> both</td>\n",
        "      <td> 0.0396</td>\n",
        "    </tr>\n",
        "    <tr>\n",
        "      <th>((clinical, smoker_inferred), (cna, del_3p25.3))</th>\n",
        "      <td> both</td>\n",
        "      <td>  0.168</td>\n",
        "    </tr>\n",
        "  </tbody>\n",
        "</table>\n",
        "</div>"
       ],
       "metadata": {},
       "output_type": "pyout",
       "prompt_number": 13,
       "text": [
        "                                                 interaction       p\n",
        "((clinical, smoker_inferred), (cna, del_3p14.2))        both       0\n",
        "((cna, del_3p14.2), (mutation, TP53))                   both  0.0099\n",
        "((clinical, lymph_status), (clinical, spread))          both  0.0297\n",
        "((clinical, smoker_inferred), (cna, del_3p12.2))        both  0.0396\n",
        "((clinical, smoker_inferred), (cna, del_3p25.3))        both   0.168"
       ]
      }
     ],
     "prompt_number": 13
    },
    {
     "cell_type": "code",
     "collapsed": false,
     "input": [
      "interaction_empirical_p(df.ix['mutation'].ix['TP53'], \n",
      "                        df.ix['cna'].ix['del_3p14.2'], \n",
      "                        surv, num_perm=1001)"
     ],
     "language": "python",
     "metadata": {},
     "outputs": [
      {
       "metadata": {},
       "output_type": "pyout",
       "prompt_number": 14,
       "text": [
        "interaction     both\n",
        "p              0.029\n",
        "dtype: object"
       ]
      }
     ],
     "prompt_number": 14
    },
    {
     "cell_type": "code",
     "collapsed": false,
     "input": [
      "two_hit = combo == 'both'\n",
      "survival_and_stats(two_hit, surv, figsize=(6,4))"
     ],
     "language": "python",
     "metadata": {},
     "outputs": [
      {
       "metadata": {},
       "output_type": "display_data",
       "png": "[encoded data removed]",
       "text": [
        "<matplotlib.figure.Figure at 0x8aa04d0>"
       ]
      }
     ],
     "prompt_number": 15
    },
    {
     "cell_type": "heading",
     "level": 2,
     "metadata": {},
     "source": [
      "Decision 2: MUC5B Mutation "
     ]
    },
    {
     "cell_type": "code",
     "collapsed": false,
     "input": [
      "res, pairs, feature_age, univariate, keepers_o, df = run_screen([hpv_inferred==1, two_hit==0], [age, old])"
     ],
     "language": "python",
     "metadata": {},
     "outputs": [],
     "prompt_number": 16
    },
    {
     "cell_type": "code",
     "collapsed": false,
     "input": [
      "res.head()"
     ],
     "language": "python",
     "metadata": {},
     "outputs": [
      {
       "html": [
        "<div style=\"max-height:1000px;max-width:1500px;overflow:auto;\">\n",
        "<table border=\"1\" class=\"dataframe\">\n",
        "  <thead>\n",
        "    <tr style=\"text-align: right;\">\n",
        "      <th></th>\n",
        "      <th></th>\n",
        "      <th>LR</th>\n",
        "      <th>feature_p</th>\n",
        "      <th>fmla</th>\n",
        "      <th>hazzard</th>\n",
        "      <th>q_all</th>\n",
        "      <th>q_bh</th>\n",
        "      <th>q_bonf</th>\n",
        "    </tr>\n",
        "  </thead>\n",
        "  <tbody>\n",
        "    <tr>\n",
        "      <th>mutation</th>\n",
        "      <th>MUC5B</th>\n",
        "      <td> 1.11e-04</td>\n",
        "      <td> 8.90e-06</td>\n",
        "      <td>               Surv(days, event) ~ feature + old\\n</td>\n",
        "      <td> 4.08</td>\n",
        "      <td> 0.08</td>\n",
        "      <td> 0.02</td>\n",
        "      <td> 0.02</td>\n",
        "    </tr>\n",
        "    <tr>\n",
        "      <th>clinical</th>\n",
        "      <th>year</th>\n",
        "      <td> 6.85e-04</td>\n",
        "      <td>      NaN</td>\n",
        "      <td> Surv(days, event) ~ feature + old + feature:old\\n</td>\n",
        "      <td>  NaN</td>\n",
        "      <td> 0.03</td>\n",
        "      <td> 0.01</td>\n",
        "      <td> 0.01</td>\n",
        "    </tr>\n",
        "    <tr>\n",
        "      <th rowspan=\"2\" valign=\"top\">mirna</th>\n",
        "      <th>hsa-mir-548k</th>\n",
        "      <td> 2.38e-03</td>\n",
        "      <td> 2.35e-03</td>\n",
        "      <td>               Surv(days, event) ~ feature + old\\n</td>\n",
        "      <td> 1.91</td>\n",
        "      <td> 1.06</td>\n",
        "      <td> 0.21</td>\n",
        "      <td> 0.21</td>\n",
        "    </tr>\n",
        "    <tr>\n",
        "      <th>hsa-mir-137</th>\n",
        "      <td> 5.01e-03</td>\n",
        "      <td> 4.89e-03</td>\n",
        "      <td>               Surv(days, event) ~ feature + old\\n</td>\n",
        "      <td> 1.81</td>\n",
        "      <td> 1.12</td>\n",
        "      <td> 0.22</td>\n",
        "      <td> 0.45</td>\n",
        "    </tr>\n",
        "    <tr>\n",
        "      <th>clinical</th>\n",
        "      <th>smoker</th>\n",
        "      <td> 7.75e-03</td>\n",
        "      <td> 4.86e-03</td>\n",
        "      <td>                     Surv(days, event) ~ feature\\n</td>\n",
        "      <td> 0.31</td>\n",
        "      <td> 0.13</td>\n",
        "      <td> 0.03</td>\n",
        "      <td> 0.07</td>\n",
        "    </tr>\n",
        "  </tbody>\n",
        "</table>\n",
        "</div>"
       ],
       "metadata": {},
       "output_type": "pyout",
       "prompt_number": 17,
       "text": [
        "                             LR  feature_p                                               fmla  hazzard  q_all  q_bh  q_bonf\n",
        "mutation MUC5B         1.11e-04   8.90e-06                Surv(days, event) ~ feature + old\\n     4.08   0.08  0.02    0.02\n",
        "clinical year          6.85e-04        NaN  Surv(days, event) ~ feature + old + feature:old\\n      NaN   0.03  0.01    0.01\n",
        "mirna    hsa-mir-548k  2.38e-03   2.35e-03                Surv(days, event) ~ feature + old\\n     1.91   1.06  0.21    0.21\n",
        "         hsa-mir-137   5.01e-03   4.89e-03                Surv(days, event) ~ feature + old\\n     1.81   1.12  0.22    0.45\n",
        "clinical smoker        7.75e-03   4.86e-03                      Surv(days, event) ~ feature\\n     0.31   0.13  0.03    0.07"
       ]
      }
     ],
     "prompt_number": 17
    },
    {
     "cell_type": "code",
     "collapsed": false,
     "input": [
      "muc5b = df.ix['mutation'].ix['MUC5B'].ix[keepers_o].dropna()\n",
      "survival_and_stats(muc5b, surv, figsize=(6,4)) "
     ],
     "language": "python",
     "metadata": {},
     "outputs": [
      {
       "metadata": {},
       "output_type": "display_data",
       "png": "[encoded data removed]",
       "text": [
        "<matplotlib.figure.Figure at 0x8889d90>"
       ]
      }
     ],
     "prompt_number": 18
    },
    {
     "cell_type": "heading",
     "level": 2,
     "metadata": {},
     "source": [
      "Add covaratiate: Year of Diagnosis"
     ]
    },
    {
     "cell_type": "code",
     "collapsed": false,
     "input": [
      "res, pairs, feature_age, univariate, keepers_o, df = run_screen([hpv_inferred==1, two_hit==0, muc5b==1], [age, old])"
     ],
     "language": "python",
     "metadata": {},
     "outputs": [],
     "prompt_number": 19
    },
    {
     "cell_type": "code",
     "collapsed": false,
     "input": [
      "res.sort('LR').head()"
     ],
     "language": "python",
     "metadata": {},
     "outputs": [
      {
       "html": [
        "<div style=\"max-height:1000px;max-width:1500px;overflow:auto;\">\n",
        "<table border=\"1\" class=\"dataframe\">\n",
        "  <thead>\n",
        "    <tr style=\"text-align: right;\">\n",
        "      <th></th>\n",
        "      <th></th>\n",
        "      <th>LR</th>\n",
        "      <th>feature_p</th>\n",
        "      <th>fmla</th>\n",
        "      <th>hazzard</th>\n",
        "      <th>q_all</th>\n",
        "      <th>q_bh</th>\n",
        "      <th>q_bonf</th>\n",
        "    </tr>\n",
        "  </thead>\n",
        "  <tbody>\n",
        "    <tr>\n",
        "      <th>mirna</th>\n",
        "      <th>hsa-mir-137</th>\n",
        "      <td> 0.00</td>\n",
        "      <td> 2.04e-03</td>\n",
        "      <td> Surv(days, event) ~ feature + age + feature:age\\n</td>\n",
        "      <td> 2.12</td>\n",
        "      <td> 0.74</td>\n",
        "      <td> 0.15</td>\n",
        "      <td> 0.16</td>\n",
        "    </tr>\n",
        "    <tr>\n",
        "      <th>clinical</th>\n",
        "      <th>year</th>\n",
        "      <td> 0.00</td>\n",
        "      <td>      NaN</td>\n",
        "      <td>                     Surv(days, event) ~ feature\\n</td>\n",
        "      <td>  NaN</td>\n",
        "      <td> 0.12</td>\n",
        "      <td> 0.02</td>\n",
        "      <td> 0.02</td>\n",
        "    </tr>\n",
        "    <tr>\n",
        "      <th rowspan=\"2\" valign=\"top\">mirna</th>\n",
        "      <th>hsa-mir-548k</th>\n",
        "      <td> 0.00</td>\n",
        "      <td> 8.38e-04</td>\n",
        "      <td>                     Surv(days, event) ~ feature\\n</td>\n",
        "      <td> 2.16</td>\n",
        "      <td> 0.74</td>\n",
        "      <td> 0.15</td>\n",
        "      <td> 0.43</td>\n",
        "    </tr>\n",
        "    <tr>\n",
        "      <th>hsa-mir-3144</th>\n",
        "      <td> 0.01</td>\n",
        "      <td> 3.18e-03</td>\n",
        "      <td>               Surv(days, event) ~ feature + old\\n</td>\n",
        "      <td> 2.11</td>\n",
        "      <td> 0.74</td>\n",
        "      <td> 0.15</td>\n",
        "      <td> 0.45</td>\n",
        "    </tr>\n",
        "    <tr>\n",
        "      <th>clinical</th>\n",
        "      <th>spread_inferred</th>\n",
        "      <td> 0.01</td>\n",
        "      <td> 6.40e-03</td>\n",
        "      <td>               Surv(days, event) ~ feature + old\\n</td>\n",
        "      <td> 1.88</td>\n",
        "      <td> 0.17</td>\n",
        "      <td> 0.03</td>\n",
        "      <td> 0.07</td>\n",
        "    </tr>\n",
        "  </tbody>\n",
        "</table>\n",
        "</div>"
       ],
       "metadata": {},
       "output_type": "pyout",
       "prompt_number": 20,
       "text": [
        "                            LR  feature_p                                               fmla  hazzard  q_all  q_bh  q_bonf\n",
        "mirna    hsa-mir-137      0.00   2.04e-03  Surv(days, event) ~ feature + age + feature:age\\n     2.12   0.74  0.15    0.16\n",
        "clinical year             0.00        NaN                      Surv(days, event) ~ feature\\n      NaN   0.12  0.02    0.02\n",
        "mirna    hsa-mir-548k     0.00   8.38e-04                      Surv(days, event) ~ feature\\n     2.16   0.74  0.15    0.43\n",
        "         hsa-mir-3144     0.01   3.18e-03                Surv(days, event) ~ feature + old\\n     2.11   0.74  0.15    0.45\n",
        "clinical spread_inferred  0.01   6.40e-03                Surv(days, event) ~ feature + old\\n     1.88   0.17  0.03    0.07"
       ]
      }
     ],
     "prompt_number": 20
    },
    {
     "cell_type": "code",
     "collapsed": false,
     "input": [
      "pre_2k = df.ix['clinical'].ix['year'].ix[keepers_o].dropna()\n",
      "survival_and_stats(pre_2k, surv, figsize=(6,4))"
     ],
     "language": "python",
     "metadata": {},
     "outputs": [
      {
       "metadata": {},
       "output_type": "display_data",
       "png": "[encoded data removed]",
       "text": [
        "<matplotlib.figure.Figure at 0x88a2050>"
       ]
      }
     ],
     "prompt_number": 21
    },
    {
     "cell_type": "heading",
     "level": 2,
     "metadata": {},
     "source": [
      "Decision 3: mir-548k Presence"
     ]
    },
    {
     "cell_type": "code",
     "collapsed": false,
     "input": [
      "year = clinical_processed.year.ix[keepers_o].dropna()\n",
      "res, pairs, feature_age, univariate, keepers_o, df = run_screen([hpv_inferred==1, two_hit==0, muc5b==1], \n",
      "                                                         [age, old, year])"
     ],
     "language": "python",
     "metadata": {},
     "outputs": [],
     "prompt_number": 22
    },
    {
     "cell_type": "code",
     "collapsed": false,
     "input": [
      "res.head()"
     ],
     "language": "python",
     "metadata": {},
     "outputs": [
      {
       "html": [
        "<div style=\"max-height:1000px;max-width:1500px;overflow:auto;\">\n",
        "<table border=\"1\" class=\"dataframe\">\n",
        "  <thead>\n",
        "    <tr style=\"text-align: right;\">\n",
        "      <th></th>\n",
        "      <th></th>\n",
        "      <th>LR</th>\n",
        "      <th>feature_p</th>\n",
        "      <th>fmla</th>\n",
        "      <th>hazzard</th>\n",
        "      <th>q_all</th>\n",
        "      <th>q_bh</th>\n",
        "      <th>q_bonf</th>\n",
        "    </tr>\n",
        "  </thead>\n",
        "  <tbody>\n",
        "    <tr>\n",
        "      <th>mirna</th>\n",
        "      <th>hsa-mir-548k</th>\n",
        "      <td> 3.17e-05</td>\n",
        "      <td> 1.65e-05</td>\n",
        "      <td> Surv(days, event) ~ feature + year + feature:y...</td>\n",
        "      <td> 3.83</td>\n",
        "      <td> 0.01</td>\n",
        "      <td> 0.00</td>\n",
        "      <td> 0.00</td>\n",
        "    </tr>\n",
        "    <tr>\n",
        "      <th rowspan=\"2\" valign=\"top\">clinical</th>\n",
        "      <th>smoker_inferred</th>\n",
        "      <td> 1.93e-03</td>\n",
        "      <td> 5.46e-03</td>\n",
        "      <td> Surv(days, event) ~ feature + year + feature:y...</td>\n",
        "      <td> 2.68</td>\n",
        "      <td> 0.08</td>\n",
        "      <td> 0.02</td>\n",
        "      <td> 0.02</td>\n",
        "    </tr>\n",
        "    <tr>\n",
        "      <th>smoker</th>\n",
        "      <td> 3.73e-03</td>\n",
        "      <td> 4.53e-03</td>\n",
        "      <td> Surv(days, event) ~ feature + year + feature:y...</td>\n",
        "      <td> 0.18</td>\n",
        "      <td> 0.08</td>\n",
        "      <td> 0.02</td>\n",
        "      <td> 0.03</td>\n",
        "    </tr>\n",
        "    <tr>\n",
        "      <th rowspan=\"2\" valign=\"top\">mirna</th>\n",
        "      <th>hsa-mir-329-1</th>\n",
        "      <td> 9.01e-03</td>\n",
        "      <td> 8.77e-03</td>\n",
        "      <td>              Surv(days, event) ~ feature + year\\n</td>\n",
        "      <td> 1.82</td>\n",
        "      <td> 1.59</td>\n",
        "      <td> 0.32</td>\n",
        "      <td> 0.78</td>\n",
        "    </tr>\n",
        "    <tr>\n",
        "      <th>hsa-mir-3144</th>\n",
        "      <td> 1.10e-02</td>\n",
        "      <td> 7.70e-03</td>\n",
        "      <td>              Surv(days, event) ~ feature + year\\n</td>\n",
        "      <td> 1.97</td>\n",
        "      <td> 1.59</td>\n",
        "      <td> 0.32</td>\n",
        "      <td> 0.95</td>\n",
        "    </tr>\n",
        "  </tbody>\n",
        "</table>\n",
        "</div>"
       ],
       "metadata": {},
       "output_type": "pyout",
       "prompt_number": 23,
       "text": [
        "                                LR  feature_p                                               fmla  hazzard  q_all  q_bh  q_bonf\n",
        "mirna    hsa-mir-548k     3.17e-05   1.65e-05  Surv(days, event) ~ feature + year + feature:y...     3.83   0.01  0.00    0.00\n",
        "clinical smoker_inferred  1.93e-03   5.46e-03  Surv(days, event) ~ feature + year + feature:y...     2.68   0.08  0.02    0.02\n",
        "         smoker           3.73e-03   4.53e-03  Surv(days, event) ~ feature + year + feature:y...     0.18   0.08  0.02    0.03\n",
        "mirna    hsa-mir-329-1    9.01e-03   8.77e-03               Surv(days, event) ~ feature + year\\n     1.82   1.59  0.32    0.78\n",
        "         hsa-mir-3144     1.10e-02   7.70e-03               Surv(days, event) ~ feature + year\\n     1.97   1.59  0.32    0.95"
       ]
      }
     ],
     "prompt_number": 23
    },
    {
     "cell_type": "code",
     "collapsed": false,
     "input": [
      "mir548 = df.ix['mirna'].ix['hsa-mir-548k'].ix[keepers_o].dropna()\n",
      "survival_and_stats(mir548, surv, figsize=(6,4))"
     ],
     "language": "python",
     "metadata": {},
     "outputs": [
      {
       "metadata": {},
       "output_type": "display_data",
       "png": "[encoded data removed]",
       "text": [
        "<matplotlib.figure.Figure at 0x89af950>"
       ]
      }
     ],
     "prompt_number": 24
    },
    {
     "cell_type": "code",
     "collapsed": false,
     "input": [
      "survival_and_stats(mir548.ix[true_index(year=='post_2000')].dropna(), surv, figsize=(6,4))"
     ],
     "language": "python",
     "metadata": {},
     "outputs": [
      {
       "metadata": {},
       "output_type": "display_data",
       "png": "[encoded data removed]",
       "text": [
        "<matplotlib.figure.Figure at 0xab67190>"
       ]
      }
     ],
     "prompt_number": 25
    },
    {
     "cell_type": "heading",
     "level": 1,
     "metadata": {},
     "source": [
      "Final Model"
     ]
    },
    {
     "cell_type": "code",
     "collapsed": false,
     "input": [
      "st = (two_hit*1.).copy() + 1\n",
      "st.ix[true_index(st==2).intersection(true_index(muc5b==1))] = 4\n",
      "st.ix[true_index(st==2).intersection(true_index(mir548==1))] = 3"
     ],
     "language": "python",
     "metadata": {},
     "outputs": [],
     "prompt_number": 26
    },
    {
     "cell_type": "code",
     "collapsed": false,
     "input": [
      "survival_and_stats(st.dropna(), surv, order=[4,3,2,1])"
     ],
     "language": "python",
     "metadata": {},
     "outputs": [
      {
       "metadata": {},
       "output_type": "display_data",
       "png": "[encoded data removed]",
       "text": [
        "<matplotlib.figure.Figure at 0x88df950>"
       ]
      }
     ],
     "prompt_number": 27
    }
   ],
   "metadata": {}
  }
 ]
}