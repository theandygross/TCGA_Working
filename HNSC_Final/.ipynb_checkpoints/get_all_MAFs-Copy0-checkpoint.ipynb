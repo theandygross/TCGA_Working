{
 "metadata": {
  "name": ""
 },
 "nbformat": 3,
 "nbformat_minor": 0,
 "worksheets": [
  {
   "cells": [
    {
     "cell_type": "markdown",
     "metadata": {},
     "source": [
      "<h1 class=\"alert alert-info\">Download Data <small>  <i class=\"icon-download\"></i>  Get All Available MAF Files from TCGA Data Portal</small></h1>"
     ]
    },
    {
     "cell_type": "code",
     "collapsed": false,
     "input": [
      "import pandas as pd\n",
      "from bs4 import BeautifulSoup"
     ],
     "language": "python",
     "metadata": {},
     "outputs": [],
     "prompt_number": 1
    },
    {
     "cell_type": "heading",
     "level": 4,
     "metadata": {},
     "source": [
      "Download most recent files from MAF dashboard"
     ]
    },
    {
     "cell_type": "code",
     "collapsed": false,
     "input": [
      "OUT_PATH = '/cellar/users/agross/Data/TCGA/New_MAFs2/'"
     ],
     "language": "python",
     "metadata": {},
     "outputs": [],
     "prompt_number": 5
    },
    {
     "cell_type": "code",
     "collapsed": false,
     "input": [
      "tab = pd.read_table('http://tcga-data.nci.nih.gov/datareports/resources/latestmaf', parse_dates=[1])"
     ],
     "language": "python",
     "metadata": {},
     "outputs": [],
     "prompt_number": 6
    },
    {
     "cell_type": "heading",
     "level": 4,
     "metadata": {},
     "source": [
      "Download all of the MAFs by following the links"
     ]
    },
    {
     "cell_type": "markdown",
     "metadata": {},
     "source": [
      "* This takes a while, as I'm downloading all of the data.\n",
      "* I read in the table first to count the number of comment lines and a second time to actuall load the data.\n",
      "* Yes there is likely a more efficient way to do this, but I'm waiting on https://github.com/pydata/pandas/issues/2685"
     ]
    },
    {
     "cell_type": "code",
     "collapsed": false,
     "input": [
      "maf = {}\n",
      "for f in tab.MAF_FILE_URL:\n",
      "    try:\n",
      "        t = pd.read_table(f, nrows=10, sep='not_real_term', header=None, squeeze=True)\n",
      "        skip = t.apply(lambda s: s.startswith('#'))\n",
      "        skip = list(skip[skip==True].index)\n",
      "        maf[f] = pd.read_table(f, skiprows=skip, header=0, index_col=0)\n",
      "    except:\n",
      "        print f"
     ],
     "language": "python",
     "metadata": {},
     "outputs": [
      {
       "output_type": "stream",
       "stream": "stdout",
       "text": [
        "https://tcga-data.nci.nih.gov/tcgafiles/ftp_auth/distro_ftpusers/anonymous/tumor/gbm/cgcc/broad.mit.edu/abi/tracerel/broad.mit.edu_GBM.ABI.1.32.0/broad.mit.edu_GBM.ABI.1.somatic.maf\n",
        "https://tcga-data.nci.nih.gov/tcgafiles/ftp_auth/distro_ftpusers/anonymous/tumor/ov/cgcc/broad.mit.edu/abi/tracerel/broad.mit.edu_OV.ABI.2.4.0/broad.mit.edu_OV.ABI.2.somatic.maf"
       ]
      },
      {
       "output_type": "stream",
       "stream": "stdout",
       "text": [
        "\n",
        "https://tcga-data.nci.nih.gov/tcgafiles/ftp_auth/distro_ftpusers/tcga4yeo/tumor/coad/gsc/hgsc.bcm.edu/illuminaga_dnaseq_cont/mutations_protected/hgsc.bcm.edu_COAD.IlluminaGA_DNASeq_Cont.Level_2.1.5.0/hgsc.bcm.edu_COAD.IlluminaGA_DNASeq.1.protected.maf"
       ]
      },
      {
       "output_type": "stream",
       "stream": "stdout",
       "text": [
        "\n",
        "https://tcga-data.nci.nih.gov/tcgafiles/ftp_auth/distro_ftpusers/tcga4yeo/tumor/kich/gsc/hgsc.bcm.edu/illuminaga_dnaseq_cont/mutations_protected/hgsc.bcm.edu_KICH.IlluminaGA_DNASeq_Cont.Level_2.1.2.0/hgsc.bcm.edu_KICH.IlluminaGA_DNASeq.1.protected.maf"
       ]
      },
      {
       "output_type": "stream",
       "stream": "stdout",
       "text": [
        "\n",
        "https://tcga-data.nci.nih.gov/tcgafiles/ftp_auth/distro_ftpusers/tcga4yeo/tumor/kirc/gsc/hgsc.bcm.edu/mixed_dnaseq_cont/mutations_protected/hgsc.bcm.edu_KIRC.Mixed_DNASeq_Cont.Level_2.1.1.0/hgsc.bcm.edu_KIRC.Mixed_DNASeq.1.protected.maf"
       ]
      },
      {
       "output_type": "stream",
       "stream": "stdout",
       "text": [
        "\n",
        "https://tcga-data.nci.nih.gov/tcgafiles/ftp_auth/distro_ftpusers/tcga4yeo/tumor/read/gsc/hgsc.bcm.edu/illuminaga_dnaseq_cont/mutations_protected/hgsc.bcm.edu_READ.IlluminaGA_DNASeq_Cont.Level_2.1.6.0/hgsc.bcm.edu_READ.IlluminaGA_DNASeq.1.protected.maf"
       ]
      },
      {
       "output_type": "stream",
       "stream": "stdout",
       "text": [
        "\n",
        "https://tcga-data.nci.nih.gov/tcgafiles/ftp_auth/distro_ftpusers/tcga4yeo/tumor/read/gsc/hgsc.bcm.edu/solid_dnaseq_cont/mutations_protected/hgsc.bcm.edu_READ.SOLiD_DNASeq_Cont.Level_2.1.7.0/hgsc.bcm.edu_READ.SOLiD_DNASeq.1.protected.maf"
       ]
      },
      {
       "output_type": "stream",
       "stream": "stdout",
       "text": [
        "\n"
       ]
      }
     ],
     "prompt_number": 17
    },
    {
     "cell_type": "code",
     "collapsed": false,
     "input": [
      "len(maf)"
     ],
     "language": "python",
     "metadata": {},
     "outputs": [
      {
       "metadata": {},
       "output_type": "pyout",
       "prompt_number": 18,
       "text": [
        "33"
       ]
      }
     ],
     "prompt_number": 18
    },
    {
     "cell_type": "code",
     "collapsed": false,
     "input": [
      "m2 = pd.concat(maf)\n",
      "m3 = m2.dropna(axis=1, how='all')"
     ],
     "language": "python",
     "metadata": {},
     "outputs": [],
     "prompt_number": 19
    },
    {
     "cell_type": "heading",
     "level": 4,
     "metadata": {},
     "source": [
      "Reduce MAF down to most usefull columns"
     ]
    },
    {
     "cell_type": "code",
     "collapsed": false,
     "input": [
      "cols = ['NCBI_Build', 'Chromosome', 'Start_position', \n",
      "         'End_position', 'Strand', 'Reference_Allele', \n",
      "         'Tumor_Seq_Allele1', 'Tumor_Seq_Allele2',\n",
      "         'Tumor_Sample_Barcode', 'Protein_Change',\n",
      "         'Variant_Classification','Variant_Type']\n",
      "\n",
      "m4 = m3[cols]\n",
      "m4 = m4.reset_index()\n",
      "m4.index = map(lambda s: s.split('/')[-1], m4.index)\n",
      "m4 = m4.groupby(['Hugo_Symbol','Tumor_Sample_Barcode','Start_position']).first()\n",
      "m4 = m4.reset_index()"
     ],
     "language": "python",
     "metadata": {},
     "outputs": [
      {
       "ename": "AttributeError",
       "evalue": "'numpy.int64' object has no attribute 'split'",
       "output_type": "pyerr",
       "traceback": [
        "\u001b[1;31m---------------------------------------------------------------------------\u001b[0m\n\u001b[1;31mAttributeError\u001b[0m                            Traceback (most recent call last)",
        "\u001b[1;32m<ipython-input-20-18526a4c30f6>\u001b[0m in \u001b[0;36m<module>\u001b[1;34m()\u001b[0m\n\u001b[0;32m      7\u001b[0m \u001b[0mm4\u001b[0m \u001b[1;33m=\u001b[0m \u001b[0mm3\u001b[0m\u001b[1;33m[\u001b[0m\u001b[0mcols\u001b[0m\u001b[1;33m]\u001b[0m\u001b[1;33m\u001b[0m\u001b[0m\n\u001b[0;32m      8\u001b[0m \u001b[0mm4\u001b[0m \u001b[1;33m=\u001b[0m \u001b[0mm4\u001b[0m\u001b[1;33m.\u001b[0m\u001b[0mreset_index\u001b[0m\u001b[1;33m(\u001b[0m\u001b[1;33m)\u001b[0m\u001b[1;33m\u001b[0m\u001b[0m\n\u001b[1;32m----> 9\u001b[1;33m \u001b[0mm4\u001b[0m\u001b[1;33m.\u001b[0m\u001b[0mindex\u001b[0m \u001b[1;33m=\u001b[0m \u001b[0mmap\u001b[0m\u001b[1;33m(\u001b[0m\u001b[1;32mlambda\u001b[0m \u001b[0ms\u001b[0m\u001b[1;33m:\u001b[0m \u001b[0ms\u001b[0m\u001b[1;33m.\u001b[0m\u001b[0msplit\u001b[0m\u001b[1;33m(\u001b[0m\u001b[1;34m'/'\u001b[0m\u001b[1;33m)\u001b[0m\u001b[1;33m[\u001b[0m\u001b[1;33m-\u001b[0m\u001b[1;36m1\u001b[0m\u001b[1;33m]\u001b[0m\u001b[1;33m,\u001b[0m \u001b[0mm4\u001b[0m\u001b[1;33m.\u001b[0m\u001b[0mindex\u001b[0m\u001b[1;33m)\u001b[0m\u001b[1;33m\u001b[0m\u001b[0m\n\u001b[0m\u001b[0;32m     10\u001b[0m \u001b[0mm4\u001b[0m \u001b[1;33m=\u001b[0m \u001b[0mm4\u001b[0m\u001b[1;33m.\u001b[0m\u001b[0mgroupby\u001b[0m\u001b[1;33m(\u001b[0m\u001b[1;33m[\u001b[0m\u001b[1;34m'Hugo_Symbol'\u001b[0m\u001b[1;33m,\u001b[0m\u001b[1;34m'Tumor_Sample_Barcode'\u001b[0m\u001b[1;33m,\u001b[0m\u001b[1;34m'Start_position'\u001b[0m\u001b[1;33m]\u001b[0m\u001b[1;33m)\u001b[0m\u001b[1;33m.\u001b[0m\u001b[0mfirst\u001b[0m\u001b[1;33m(\u001b[0m\u001b[1;33m)\u001b[0m\u001b[1;33m\u001b[0m\u001b[0m\n\u001b[0;32m     11\u001b[0m \u001b[0mm4\u001b[0m \u001b[1;33m=\u001b[0m \u001b[0mm4\u001b[0m\u001b[1;33m.\u001b[0m\u001b[0mreset_index\u001b[0m\u001b[1;33m(\u001b[0m\u001b[1;33m)\u001b[0m\u001b[1;33m\u001b[0m\u001b[0m\n",
        "\u001b[1;32m<ipython-input-20-18526a4c30f6>\u001b[0m in \u001b[0;36m<lambda>\u001b[1;34m(s)\u001b[0m\n\u001b[0;32m      7\u001b[0m \u001b[0mm4\u001b[0m \u001b[1;33m=\u001b[0m \u001b[0mm3\u001b[0m\u001b[1;33m[\u001b[0m\u001b[0mcols\u001b[0m\u001b[1;33m]\u001b[0m\u001b[1;33m\u001b[0m\u001b[0m\n\u001b[0;32m      8\u001b[0m \u001b[0mm4\u001b[0m \u001b[1;33m=\u001b[0m \u001b[0mm4\u001b[0m\u001b[1;33m.\u001b[0m\u001b[0mreset_index\u001b[0m\u001b[1;33m(\u001b[0m\u001b[1;33m)\u001b[0m\u001b[1;33m\u001b[0m\u001b[0m\n\u001b[1;32m----> 9\u001b[1;33m \u001b[0mm4\u001b[0m\u001b[1;33m.\u001b[0m\u001b[0mindex\u001b[0m \u001b[1;33m=\u001b[0m \u001b[0mmap\u001b[0m\u001b[1;33m(\u001b[0m\u001b[1;32mlambda\u001b[0m \u001b[0ms\u001b[0m\u001b[1;33m:\u001b[0m \u001b[0ms\u001b[0m\u001b[1;33m.\u001b[0m\u001b[0msplit\u001b[0m\u001b[1;33m(\u001b[0m\u001b[1;34m'/'\u001b[0m\u001b[1;33m)\u001b[0m\u001b[1;33m[\u001b[0m\u001b[1;33m-\u001b[0m\u001b[1;36m1\u001b[0m\u001b[1;33m]\u001b[0m\u001b[1;33m,\u001b[0m \u001b[0mm4\u001b[0m\u001b[1;33m.\u001b[0m\u001b[0mindex\u001b[0m\u001b[1;33m)\u001b[0m\u001b[1;33m\u001b[0m\u001b[0m\n\u001b[0m\u001b[0;32m     10\u001b[0m \u001b[0mm4\u001b[0m \u001b[1;33m=\u001b[0m \u001b[0mm4\u001b[0m\u001b[1;33m.\u001b[0m\u001b[0mgroupby\u001b[0m\u001b[1;33m(\u001b[0m\u001b[1;33m[\u001b[0m\u001b[1;34m'Hugo_Symbol'\u001b[0m\u001b[1;33m,\u001b[0m\u001b[1;34m'Tumor_Sample_Barcode'\u001b[0m\u001b[1;33m,\u001b[0m\u001b[1;34m'Start_position'\u001b[0m\u001b[1;33m]\u001b[0m\u001b[1;33m)\u001b[0m\u001b[1;33m.\u001b[0m\u001b[0mfirst\u001b[0m\u001b[1;33m(\u001b[0m\u001b[1;33m)\u001b[0m\u001b[1;33m\u001b[0m\u001b[0m\n\u001b[0;32m     11\u001b[0m \u001b[0mm4\u001b[0m \u001b[1;33m=\u001b[0m \u001b[0mm4\u001b[0m\u001b[1;33m.\u001b[0m\u001b[0mreset_index\u001b[0m\u001b[1;33m(\u001b[0m\u001b[1;33m)\u001b[0m\u001b[1;33m\u001b[0m\u001b[0m\n",
        "\u001b[1;31mAttributeError\u001b[0m: 'numpy.int64' object has no attribute 'split'"
       ]
      }
     ],
     "prompt_number": 20
    },
    {
     "cell_type": "code",
     "collapsed": false,
     "input": [
      "m4.to_csv(OUT_PATH + 'mega_maf.csv')"
     ],
     "language": "python",
     "metadata": {},
     "outputs": [],
     "prompt_number": 74
    },
    {
     "cell_type": "heading",
     "level": 4,
     "metadata": {},
     "source": [
      "Get gene by patient mutation count matrix and save"
     ]
    },
    {
     "cell_type": "code",
     "collapsed": false,
     "input": [
      "m5 = m4.ix[m4.Variant_Classification != 'Silent']\n",
      "cc = m5.groupby(['Hugo_Symbol','Tumor_Sample_Barcode']).size()\n",
      "cc = cc.reset_index()"
     ],
     "language": "python",
     "metadata": {},
     "outputs": [],
     "prompt_number": 81
    },
    {
     "cell_type": "code",
     "collapsed": false,
     "input": [
      "cc.to_csv(OUT_PATH + 'meta.csv')"
     ],
     "language": "python",
     "metadata": {},
     "outputs": [],
     "prompt_number": 84
    }
   ],
   "metadata": {}
  }
 ]
}