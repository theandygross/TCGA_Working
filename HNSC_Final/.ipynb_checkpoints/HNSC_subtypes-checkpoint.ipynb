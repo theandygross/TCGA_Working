{
 "metadata": {
  "name": ""
 },
 "nbformat": 3,
 "nbformat_minor": 0,
 "worksheets": [
  {
   "cells": [
    {
     "cell_type": "markdown",
     "metadata": {},
     "source": [
      "<h1 class=\"alert alert-info\">HNSCC HPV- Cohort <small> <i class=\"icon-repeat\"></i> Integrative Prognositic Screen</small></h1>"
     ]
    },
    {
     "cell_type": "code",
     "collapsed": false,
     "input": [
      "OUT_PATH = '/cellar/users/agross/HNSCC_Test/Data6'\n",
      "RUN_DATE = '2013_05_23'\n",
      "VERSION = 'all_2'\n",
      "CANCER = 'HNSC'"
     ],
     "language": "python",
     "metadata": {},
     "outputs": [],
     "prompt_number": 1
    },
    {
     "cell_type": "heading",
     "level": 1,
     "metadata": {},
     "source": [
      "Setup"
     ]
    },
    {
     "cell_type": "code",
     "collapsed": false,
     "input": [
      "%load_ext nbtoc\n",
      "%nbtoc"
     ],
     "language": "python",
     "metadata": {},
     "outputs": [
      {
       "html": [
        "<!-- extracted from https://gist.github.com/magican/5574556 -->\n",
        "<div id=\"toc-wrapper\">\n",
        "    <div class=\"header\">Contents <a href=\"#\" class=\"hide-btn\">[hide]</a></div>\n",
        "    <div id=\"toc\"></div>\n",
        "</div>\n",
        " \n",
        "<style>\n",
        "  #toc {\n",
        "    overflow-y: scroll;\n",
        "    max-height: 300px;\n",
        "  }\n",
        "  #toc-wrapper {\n",
        "    position: fixed; top: 120px; max-width:430px; right: 20px;\n",
        "    border: thin solid rgba(0, 0, 0, 0.38); opacity: .8;\n",
        "    border-radius: 5px; background-color: #fff; padding:10px;\n",
        "    z-index: 100;\n",
        "  }\n",
        "  #toc-wrapper.closed {\n",
        "      min-width: 100px;\n",
        "      width: auto;\n",
        "      transition: width;\n",
        "  }\n",
        "  #toc-wrapper:hover{\n",
        "      opacity:1;\n",
        "  }\n",
        "  #toc-wrapper .header {\n",
        "      font-size:18px; font-weight: bold;\n",
        "  }\n",
        "  #toc-wrapper .hide-btn {\n",
        "      font-size: 14px;\n",
        "  }\n",
        " \n",
        "</style>\n",
        "\n",
        "<style>\n",
        "  ol.nested {\n",
        "    counter-reset: item;\n",
        "    list-style: none;\n",
        "  }\n",
        "  li.nested {\n",
        "        display: block;\n",
        "    }\n",
        "  li.nested:before {\n",
        "        counter-increment: item;\n",
        "        content: counters(item, \".\")\" \";\n",
        "    }\n",
        "</style>\n"
       ],
       "metadata": {},
       "output_type": "display_data"
      },
      {
       "javascript": [
        "// adapted from https://gist.github.com/magican/5574556\n",
        "\n",
        "function clone_anchor(element) {\n",
        "  // clone link\n",
        "  var h = element.find(\"div.text_cell_render\").find(':header').first();\n",
        "  var a = h.find('a').clone();\n",
        "  var new_a = $(\"<a>\");\n",
        "  new_a.attr(\"href\", a.attr(\"href\"));\n",
        "  // get the text *excluding* the link text, whatever it may be\n",
        "  var hclone = h.clone();\n",
        "  hclone.children().remove();\n",
        "  new_a.text(hclone.text());\n",
        "  return new_a;\n",
        "}\n",
        "\n",
        "function ol_depth(element) {\n",
        "  // get depth of nested ol\n",
        "  var d = 0;\n",
        "  while (element.prop(\"tagName\").toLowerCase() == 'ol') {\n",
        "    d += 1;\n",
        "    element = element.parent();\n",
        "  }\n",
        "  return d;\n",
        "}\n",
        "\n",
        "function table_of_contents(threshold) {\n",
        "  if (threshold === undefined) {\n",
        "    threshold = 4;\n",
        "  }\n",
        "  var cells = IPython.notebook.get_cells();\n",
        "  \n",
        "  var ol = $(\"<ol/>\");\n",
        "  $(\"#toc\").empty().append(ol);\n",
        "  \n",
        "  for (var i=0; i < cells.length; i++) {\n",
        "    var cell = cells[i];\n",
        "    \n",
        "    if (cell.cell_type !== 'heading') continue;\n",
        "    \n",
        "    var level = cell.level;\n",
        "    if (level > threshold) continue;\n",
        "    \n",
        "    var depth = ol_depth(ol);\n",
        "\n",
        "    // walk down levels\n",
        "    for (; depth < level; depth++) {\n",
        "      var new_ol = $(\"<ol/>\");\n",
        "      ol.append(new_ol);\n",
        "      ol = new_ol;\n",
        "    }\n",
        "    // walk up levels\n",
        "    for (; depth > level; depth--) {\n",
        "      ol = ol.parent();\n",
        "    }\n",
        "    //\n",
        "    ol.append(\n",
        "      $(\"<li/>\").append(clone_anchor(cell.element))\n",
        "    );\n",
        "  }\n",
        "\n",
        "  $('#toc-wrapper .header').click(function(){\n",
        "    $('#toc').slideToggle();\n",
        "    $('#toc-wrapper').toggleClass('closed');\n",
        "    if ($('#toc-wrapper').hasClass('closed')){\n",
        "      $('#toc-wrapper .hide-btn').text('[show]');\n",
        "    } else {\n",
        "      $('#toc-wrapper .hide-btn').text('[hide]');\n",
        "    }\n",
        "    return false;\n",
        "  })\n",
        "\n",
        "  $(window).resize(function(){\n",
        "    $('#toc').css({maxHeight: $(window).height() - 200})\n",
        "  })\n",
        "\n",
        "  $(window).trigger('resize')\n",
        "}\n",
        "\n",
        "table_of_contents();\n",
        "\n",
        "\n"
       ],
       "metadata": {},
       "output_type": "display_data"
      }
     ],
     "prompt_number": 2
    },
    {
     "cell_type": "code",
     "collapsed": false,
     "input": [
      "cd ../src"
     ],
     "language": "python",
     "metadata": {},
     "outputs": [
      {
       "output_type": "stream",
       "stream": "stdout",
       "text": [
        "/cellar/users/agross/TCGA_Code/TCGA/Pathway_Merge/src\n"
       ]
      }
     ],
     "prompt_number": 3
    },
    {
     "cell_type": "code",
     "collapsed": false,
     "input": [
      "from Processing.Imports import *\n",
      "from Figures.Survival import survival_and_stats"
     ],
     "language": "python",
     "metadata": {},
     "outputs": [],
     "prompt_number": 4
    },
    {
     "cell_type": "heading",
     "level": 2,
     "metadata": {},
     "source": [
      "Read in Preprocessed Data"
     ]
    },
    {
     "cell_type": "code",
     "collapsed": false,
     "input": [
      "run_path  = '{}/Firehose__{}/'.format(OUT_PATH, RUN_DATE)\n",
      "run = get_run(run_path, 'Run_' + VERSION)\n",
      "cancer = run.load_cancer(CANCER)\n",
      "clinical = cancer.load_clinical()\n",
      "\n",
      "mut = cancer.load_data('Mutation')\n",
      "mut.uncompress()\n",
      "cn = cancer.load_data('CN_broad')\n",
      "cn.uncompress()"
     ],
     "language": "python",
     "metadata": {},
     "outputs": [],
     "prompt_number": 5
    },
    {
     "cell_type": "code",
     "collapsed": false,
     "input": [
      "rna = pickle.load(open(cancer.path + '/mRNASeq/store/no_hpv.p', 'rb'))\n",
      "#meth = pickle.load(open(cancer.path + '/Methylation/store/no_hpv.p', 'rb'))\n",
      "mirna = pickle.load(open(cancer.path + '/miRNASeq/store/no_hpv.p', 'rb'))"
     ],
     "language": "python",
     "metadata": {},
     "outputs": [],
     "prompt_number": 6
    },
    {
     "cell_type": "code",
     "collapsed": false,
     "input": [
      "clinical_processed = clinical.processed\n",
      "clinical_processed = clinical_processed.replace('yes', 1.).replace('no', 0.)\n",
      "clinical_processed['year'] = clinical_processed.year == 'post_2000'\n",
      "hpv_inferred = clinical_processed.hpv_inferred\n",
      "surv = clinical.survival.survival_5y\n",
      "age = clinical.timeline.age.astype(float)\n",
      "old = pd.Series(1.*(age>=75), name='old')"
     ],
     "language": "python",
     "metadata": {},
     "outputs": [],
     "prompt_number": 7
    },
    {
     "cell_type": "code",
     "collapsed": false,
     "input": [
      "bg = screen_feature(rna.global_vars.background, spearman_pandas, rna.pathways)\n",
      "dd = rna.pathways.ix[bg.index[::-1]].T.corr()\n",
      "dd = pd.DataFrame(np.triu(dd, 1), dd.index, dd.index)\n",
      "dd = dd.replace(0, nan).stack()\n",
      "drop = dd[dd.abs() > .7].index.get_level_values(1)\n",
      "pathways_to_keep = rna.pathways.index.diff(drop.unique())"
     ],
     "language": "python",
     "metadata": {},
     "outputs": [],
     "prompt_number": 8
    },
    {
     "cell_type": "code",
     "collapsed": false,
     "input": [
      "from Initialization.InitializeReal import exp_change\n",
      "\n",
      "def binarize(f):\n",
      "    f = f - f.mean()\n",
      "    f2 = (f.order()**2)\n",
      "    split = f.ix[(f2.cumsum() - (f2.sum() / 2.)).abs().idxmin()]\n",
      "    return f > split"
     ],
     "language": "python",
     "metadata": {},
     "outputs": [],
     "prompt_number": 9
    },
    {
     "cell_type": "code",
     "collapsed": false,
     "input": [
      "from Initialization.InitializeReal import exp_change\n",
      "\n",
      "def binarize(f):\n",
      "    f = f - f.mean()\n",
      "    f2 = (f.order()**2)\n",
      "    split = f.ix[(f2.cumsum() - (f2.sum() / 2.)).abs().idxmin()]\n",
      "    return f > split\n",
      "\n",
      "dd = rna.df.ix[rna.features.index.get_level_values(1)].dropna()\n",
      "rr = dd.apply(exp_change, 1)\n",
      "d2 = dd.ix[rr.sort('F').index[-300:]].xs('01',1,1)\n",
      "real_genes = rna.features.ix['real'].index\n",
      "tf = lambda s: binarize(s) if s.name in real_genes else s < -1\n",
      "d3 = d2.apply(tf, 1)\n",
      "\n",
      "binary_pathways = rna.pathways.ix[pathways_to_keep].apply(binarize, 1)\n",
      "rna_df = pd.concat([d3, binary_pathways]).T\n",
      "\n",
      "mirna_binarized = mirna.features.ix['real'].apply(binarize, 1)\n",
      "mirna_df = pd.concat([mirna.features.ix['binary'], mirna_binarized]).T"
     ],
     "language": "python",
     "metadata": {},
     "outputs": [],
     "prompt_number": 10
    },
    {
     "cell_type": "code",
     "collapsed": false,
     "input": [
      "n0 = clinical_processed.lymph_stage == 'N0'\n",
      "n0.name = 'lymph_n0'\n",
      "s4 = clinical_processed.stage == 'Stage IV'\n",
      "s4.name = 'Stage_IV'\n",
      "oc = clinical_processed.tumor_subdivision == 'oral cavity'\n",
      "oc.name = 'oral_cavity'\n",
      "lx = clinical_processed.tumor_subdivision == 'larynx'\n",
      "lx.name = 'larynx'\n",
      "ox = clinical_processed.tumor_subdivision == 'oropharynx'\n",
      "ox.name = 'oropharynx'\n",
      "year = clinical_processed.year\n",
      "white = clinical.clinical.race == 'WHITE'\n",
      "white.name = 'race_white'\n",
      "gender = clinical.clinical.gender\n",
      "gender.name = 'gender_male'\n",
      "\n",
      "inferred = clinical_processed[['drinker_inferred','invasion_inferred',\n",
      "                               'smoker_inferred','spread_inferred']]\n",
      "\n",
      "clinical_df = pd.concat([n0, s4, oc, lx, ox, year, white, gender], 1)\n",
      "clinical_df = pd.concat([clinical_df, inferred], 1)"
     ],
     "language": "python",
     "metadata": {},
     "outputs": [],
     "prompt_number": 11
    },
    {
     "cell_type": "heading",
     "level": 2,
     "metadata": {},
     "source": [
      "Setup Survival Screen Functions"
     ]
    },
    {
     "cell_type": "code",
     "collapsed": false,
     "input": [
      "from Processing.Screen import *\n",
      "\n",
      "\n",
      "def get_patient_set(filters):\n",
      "    f1 = list(filters)\n",
      "    filter_df = pd.concat(f1, axis=1)\n",
      "    clinical_filter = filter_df.dropna().sum(1) == 0\n",
      "    keepers_o = true_index(clinical_filter)\n",
      "    keepers_o = keepers_o.intersection(mut.features.columns).intersection(cn.features.columns)\n",
      "    keepers = keepers_o.intersection(true_index(age < 85))\n",
      "    return keepers, keepers_o\n",
      "\n",
      "def get_data(keepers_o, binary_cutoff=12):\n",
      "    rate = mut.df.sum()\n",
      "    mut_df = mut_filter(mut.features.ix[:,keepers_o], rate, binary_cutoff).T\n",
      "    amp_df, del_df = cn_filter(cn.features.ix[:, keepers_o], binary_cutoff)\n",
      "    cna_df = pd.concat([del_df, amp_df], keys=['del','amp'], axis=1)\n",
      "    cna_df.columns = map(lambda i: '_'.join(i), cna_df.columns)\n",
      "\n",
      "    df = pd.concat({'clinical': clinical_df,\n",
      "                    'mutation': mut_df,\n",
      "                    'cna': cna_df,\n",
      "                    'rna': rna_df,\n",
      "                    'mirna': mirna_df}, axis=1).T\n",
      "    df = df.ix[:, keepers_o]\n",
      "    return df"
     ],
     "language": "python",
     "metadata": {},
     "outputs": [],
     "prompt_number": 12
    },
    {
     "cell_type": "code",
     "collapsed": false,
     "input": [
      "def extract_chi2(full, reduced):\n",
      "    '''\n",
      "    Extract chi2 statstic of likelihood ratio test \n",
      "    on two R models. \n",
      "    '''\n",
      "    full_ll = list(full.rx2('loglik'))\n",
      "    reduced_ll = list(reduced.rx2('loglik'))\n",
      "    chi2 = 2*full_ll[1] - 2*reduced_ll[1]\n",
      "    return chi2\n",
      "\n",
      "def get_interaction(a,b, surv, int_direction='both'):\n",
      "    '''\n",
      "    Get test statistic (chi2 distributed) of interaction between \n",
      "    two event vectors.  \n",
      "    '''\n",
      "    a,b = a.copy(), b.copy()\n",
      "    a.name, b.name = 'a','b'\n",
      "    m1 = get_cox_ph(surv, covariates=[a,b], \n",
      "                    formula='Surv(days, event) ~ a + b')\n",
      "    int_var = 1.*(combine(a,b)==int_direction)\n",
      "    int_var.name = 'interaction'\n",
      "    m2 = get_cox_ph(surv, int_var)\n",
      "    \n",
      "    m3 = get_cox_ph(surv, combine(a,b))\n",
      "    \n",
      "    chi2_a = extract_chi2(m2, m1)\n",
      "    chi2_b = extract_chi2(m3, m2)\n",
      "    return chi2_a - chi2_b\n",
      "\n",
      "def interaction_empirical_p(a, b, surv, num_perm=101):\n",
      "    '''\n",
      "    Calculate an empirical p-value for an interaction by sampling\n",
      "    with replacement.  \n",
      "    \n",
      "    We first test if there is an improvement in model fit by \n",
      "    considering the interaction of the two events.  If so, we \n",
      "    then derive an empirical p-value. \n",
      "    '''\n",
      "    a,b = match_series(a,b)\n",
      "    if fisher_exact_test(a,b)['odds_ratio'] > 1:\n",
      "        int_direction = 'both'\n",
      "    else:\n",
      "        int_direction = 'neither'\n",
      "    r = get_interaction(a, b, surv)\n",
      "    #if r < 0:\n",
      "    #    return pd.Series({'p': 1, 'interaction': int_direction})\n",
      "    \n",
      "    #mat = random.choice(a.index, size=(num_perm, len(a.index)))\n",
      "    mat = array([random.permutation(a.index) for i in range(num_perm)])\n",
      "    \n",
      "    vec = {}\n",
      "    for i,idx in enumerate(mat):\n",
      "        a_p = pd.Series(list(a.ix[idx]), range(len(idx)))\n",
      "        b_p = pd.Series(list(b.ix[idx]), range(len(idx)))\n",
      "        surv_p = pd.DataFrame(surv.unstack().ix[a.index].as_matrix(), \n",
      "                              index=range(len(idx)), \n",
      "                              columns=['days','event']).stack()\n",
      "        vec[i] = get_interaction(a_p, b_p, surv_p, int_direction)\n",
      "    vec = pd.Series(vec).dropna()\n",
      "    empirical_p = 1.*(len(vec) - sum(vec <= r)) / len(vec)\n",
      "    return pd.Series({'p': empirical_p, 'interaction': int_direction})\n",
      "\n",
      "def get_interactions(df, cov_df, surv, test):\n",
      "    binary = df[df.T.describe().ix['unique'] == 2]\n",
      "    '''drop redundant features within a data-type'''\n",
      "    s = {b for i,(a,v1) in enumerate(binary.iterrows())\n",
      "           for j,(b,v2) in enumerate(binary.iterrows())\n",
      "           if (i < j)\n",
      "           and a[0] == b[0]\n",
      "           and np.log2(fisher_exact_test(v1,v2)['odds_ratio']) > 4}\n",
      "    binary = binary.ix[binary.index.diff(s)]\n",
      "\n",
      "    #binary = binary.apply(lambda v: v == v.dropna().unique()[0], 1)\n",
      "    n_tests = (len(binary) * (len(binary) - 1)) / 2\n",
      "    #return binary \n",
      "    s = pd.DataFrame({(a,b): interaction_empirical_p(v1,v2, surv, num_perm=101) \n",
      "                          for a,v1 in binary.iterrows()\n",
      "                          for b,v2 in binary.iterrows()\n",
      "                          if (a < b)\n",
      "                          and fisher_exact_test(v1,v2).ix['p'] < (.05 / n_tests)\n",
      "                          and fisher_exact_test(v1,v2).ix['odds_ratio'] != np.inf\n",
      "                          and a[0] != b[0]}).T\n",
      "    int_pairs =  s.ix[s.p < .1].sort('p')\n",
      "    \n",
      "    int_associations = {}\n",
      "    for p,vals in int_pairs.iterrows():\n",
      "        combo = H.combine(binary.ix[p[0]], binary.ix[p[1]])\n",
      "        vec = combo == vals['interaction']\n",
      "        int_associations[p] = test(vec, surv, cov_df) \n",
      "    int_associations = pd.DataFrame(int_associations).T\n",
      "    return s, int_associations"
     ],
     "language": "python",
     "metadata": {},
     "outputs": [],
     "prompt_number": 13
    },
    {
     "cell_type": "code",
     "collapsed": false,
     "input": [
      "def test(s, surv, cov_df):\n",
      "    s = s.dropna()\n",
      "    #data_specific = {'mutation': rate, 'cna': cin, 'rna': rna.global_vars.filtered_pc1,\n",
      "    #                 'mirna': rna.global_vars.filtered_pc1, 'clinical': []}\n",
      "    #cov_df2 = cov_df.join(data_specific[s.name[0]])\n",
      "    try:\n",
      "        return get_cox_ph_ms(surv, s, cov_df, return_val='LR', interactions='just_feature')\n",
      "    except:\n",
      "        return pd.Series(index=['LR','feature_p', 'fmla', 'hazzard'])\n",
      "\n",
      "\n",
      "def run_screen(filters, cov):\n",
      "    cov_df = pd.concat(cov, axis=1)\n",
      "    keepers, keepers_o = get_patient_set(filters)\n",
      "\n",
      "    cutoff = max(np.ceil(len(keepers_o) * .05), 10)\n",
      "    #cutoff = min(cutoff, 15)\n",
      "    df = get_data(keepers_o)\n",
      "    df = filter_binary(df, cutoff)\n",
      "\n",
      "    univariate = cox_screen(df, surv)\n",
      "    vec = univariate.LR.p.sort_index()\n",
      "    univariate['q_bonf'] = vec.groupby(level=0).apply(lambda s: s*len(s)).order()\n",
      "    univariate['q_bh'] = vec.groupby(level=0).apply(bhCorrection).order()\n",
      "    #hits = univariate[univariate['q_bh'] < .2].index\n",
      "    hits = univariate.index\n",
      "    \n",
      "    feature_age = df.ix[hits].apply(test, args=(surv, cov_df,), axis=1)\n",
      "    vec = feature_age.LR.ix[univariate.index].sort_index()\n",
      "    feature_age['q_bonf_within'] = vec.groupby(level=0).apply(lambda s: s*len(s)).order()\n",
      "    feature_age['q_bh_within'] = vec.groupby(level=0).apply(bhCorrection).order()\n",
      "    feature_age['q_two_step'] = feature_age['q_bh_within'] * 4\n",
      "    feature_age['q_bh_all'] = bhCorrection(vec)\n",
      "    feature_age['q_bonf_all'] = vec * len(vec)\n",
      "    hits = true_index(feature_age.sort('LR').q_bh_all < .1)\n",
      "    #return hits, feature_age, univariate, keepers_o, df\n",
      "    try:\n",
      "        pairs, interactions = get_interactions(df.ix[hits], cov_df, \n",
      "                                               surv, test)\n",
      "        res = pd.concat([feature_age, interactions]).sort('LR')\n",
      "    except:\n",
      "        res = feature_age.sort('LR')\n",
      "        pairs = []\n",
      "    return res, pairs, feature_age, univariate, keepers_o, df"
     ],
     "language": "python",
     "metadata": {},
     "outputs": [],
     "prompt_number": 14
    },
    {
     "cell_type": "heading",
     "level": 1,
     "metadata": {},
     "source": [
      "Run Survival Screen"
     ]
    },
    {
     "cell_type": "heading",
     "level": 2,
     "metadata": {},
     "source": [
      "Decision 1: TP53 Mutation / 3p Deletion Aggregate Event"
     ]
    },
    {
     "cell_type": "code",
     "collapsed": false,
     "input": [
      "res, pairs, feature_age, univariate, keepers_o, df = run_screen([hpv_inferred==1], [old, age])"
     ],
     "language": "python",
     "metadata": {},
     "outputs": [],
     "prompt_number": 61
    },
    {
     "cell_type": "code",
     "collapsed": false,
     "input": [
      "res.head(3)"
     ],
     "language": "python",
     "metadata": {},
     "outputs": [
      {
       "html": [
        "<div style=\"max-height:1000px;max-width:1500px;overflow:auto;\">\n",
        "<table border=\"1\" class=\"dataframe\">\n",
        "  <thead>\n",
        "    <tr style=\"text-align: right;\">\n",
        "      <th></th>\n",
        "      <th></th>\n",
        "      <th>LR</th>\n",
        "      <th>feature_p</th>\n",
        "      <th>fmla</th>\n",
        "      <th>hazzard</th>\n",
        "      <th>q_bh_all</th>\n",
        "      <th>q_bh_within</th>\n",
        "      <th>q_bonf_all</th>\n",
        "      <th>q_bonf_within</th>\n",
        "      <th>q_two_step</th>\n",
        "    </tr>\n",
        "  </thead>\n",
        "  <tbody>\n",
        "    <tr>\n",
        "      <th>(cna, del_3p14.2)</th>\n",
        "      <th>(mutation, TP53)</th>\n",
        "      <td> 7.32e-06</td>\n",
        "      <td>  4.3e-05</td>\n",
        "      <td> Surv(days, event) ~ feature + old + feature:old\\n</td>\n",
        "      <td>  3.59</td>\n",
        "      <td>  NaN</td>\n",
        "      <td>  NaN</td>\n",
        "      <td>  NaN</td>\n",
        "      <td>  NaN</td>\n",
        "      <td>  NaN</td>\n",
        "    </tr>\n",
        "    <tr>\n",
        "      <th>mirna</th>\n",
        "      <th>hsa-mir-3170</th>\n",
        "      <td> 8.22e-06</td>\n",
        "      <td> 1.48e-05</td>\n",
        "      <td>               Surv(days, event) ~ feature + old\\n</td>\n",
        "      <td>   2.4</td>\n",
        "      <td> 0.01</td>\n",
        "      <td> 0.00</td>\n",
        "      <td> 0.01</td>\n",
        "      <td> 0.00</td>\n",
        "      <td> 0.01</td>\n",
        "    </tr>\n",
        "    <tr>\n",
        "      <th>rna</th>\n",
        "      <th>BIOCARTA_RAS_PATHWAY</th>\n",
        "      <td> 1.47e-05</td>\n",
        "      <td>  0.00241</td>\n",
        "      <td> Surv(days, event) ~ feature + old + age + feat...</td>\n",
        "      <td> 0.061</td>\n",
        "      <td> 0.01</td>\n",
        "      <td> 0.01</td>\n",
        "      <td> 0.01</td>\n",
        "      <td> 0.01</td>\n",
        "      <td> 0.02</td>\n",
        "    </tr>\n",
        "  </tbody>\n",
        "</table>\n",
        "</div>"
       ],
       "metadata": {},
       "output_type": "pyout",
       "prompt_number": 62,
       "text": [
        "                                              LR feature_p                                               fmla hazzard  q_bh_all  q_bh_within  q_bonf_all  q_bonf_within  q_two_step\n",
        "(cna, del_3p14.2) (mutation, TP53)      7.32e-06   4.3e-05  Surv(days, event) ~ feature + old + feature:old\\n    3.59       NaN          NaN         NaN            NaN         NaN\n",
        "mirna             hsa-mir-3170          8.22e-06  1.48e-05                Surv(days, event) ~ feature + old\\n     2.4      0.01         0.00        0.01           0.00        0.01\n",
        "rna               BIOCARTA_RAS_PATHWAY  1.47e-05   0.00241  Surv(days, event) ~ feature + old + age + feat...   0.061      0.01         0.01        0.01           0.01        0.02"
       ]
      }
     ],
     "prompt_number": 62
    },
    {
     "cell_type": "code",
     "collapsed": false,
     "input": [
      "df.groupby(level=0).size()"
     ],
     "language": "python",
     "metadata": {},
     "outputs": [
      {
       "metadata": {},
       "output_type": "pyout",
       "prompt_number": 67,
       "text": [
        "clinical     11\n",
        "cna          70\n",
        "mirna       222\n",
        "mutation    114\n",
        "rna         425\n",
        "dtype: int64"
       ]
      }
     ],
     "prompt_number": 67
    },
    {
     "cell_type": "code",
     "collapsed": false,
     "input": [
      "res.ix['rna'].ix['ST_ERK1_ERK2_MAPK_PATHWAY']"
     ],
     "language": "python",
     "metadata": {},
     "outputs": [
      {
       "metadata": {},
       "output_type": "pyout",
       "prompt_number": 68,
       "text": [
        "LR                                          0.000217\n",
        "feature_p                                    0.00102\n",
        "fmla             Surv(days, event) ~ feature + old\\n\n",
        "hazzard                                         2.65\n",
        "q_bh_all                                      0.0214\n",
        "q_bh_within                                   0.0194\n",
        "q_bonf_all                                     0.183\n",
        "q_bonf_within                                 0.0922\n",
        "q_two_step                                    0.0776\n",
        "Name: ST_ERK1_ERK2_MAPK_PATHWAY, dtype: object"
       ]
      }
     ],
     "prompt_number": 68
    },
    {
     "cell_type": "code",
     "collapsed": false,
     "input": [
      "feature_age[feature_age.q_bh_all < .1].sort('LR').groupby(level=0).first()"
     ],
     "language": "python",
     "metadata": {},
     "outputs": [
      {
       "html": [
        "<div style=\"max-height:1000px;max-width:1500px;overflow:auto;\">\n",
        "<table border=\"1\" class=\"dataframe\">\n",
        "  <thead>\n",
        "    <tr style=\"text-align: right;\">\n",
        "      <th></th>\n",
        "      <th>LR</th>\n",
        "      <th>feature_p</th>\n",
        "      <th>fmla</th>\n",
        "      <th>hazzard</th>\n",
        "      <th>q_bonf_within</th>\n",
        "      <th>q_bh_within</th>\n",
        "      <th>q_two_step</th>\n",
        "      <th>q_bh_all</th>\n",
        "      <th>q_bonf_all</th>\n",
        "    </tr>\n",
        "  </thead>\n",
        "  <tbody>\n",
        "    <tr>\n",
        "      <th>clinical</th>\n",
        "      <td> 5.88e-05</td>\n",
        "      <td> 2.96e-05</td>\n",
        "      <td>               Surv(days, event) ~ feature + old\\n</td>\n",
        "      <td> 2.29</td>\n",
        "      <td> 6.46e-04</td>\n",
        "      <td> 6.46e-04</td>\n",
        "      <td> 0.00</td>\n",
        "      <td> 0.01</td>\n",
        "      <td> 0.05</td>\n",
        "    </tr>\n",
        "    <tr>\n",
        "      <th>cna</th>\n",
        "      <td> 1.36e-04</td>\n",
        "      <td> 2.08e-03</td>\n",
        "      <td> Surv(days, event) ~ feature + old + age + feat...</td>\n",
        "      <td> 6.48</td>\n",
        "      <td> 9.53e-03</td>\n",
        "      <td> 9.53e-03</td>\n",
        "      <td> 0.04</td>\n",
        "      <td> 0.02</td>\n",
        "      <td> 0.11</td>\n",
        "    </tr>\n",
        "    <tr>\n",
        "      <th>mirna</th>\n",
        "      <td> 8.22e-06</td>\n",
        "      <td> 1.48e-05</td>\n",
        "      <td>               Surv(days, event) ~ feature + old\\n</td>\n",
        "      <td> 2.40</td>\n",
        "      <td> 1.82e-03</td>\n",
        "      <td> 1.82e-03</td>\n",
        "      <td> 0.01</td>\n",
        "      <td> 0.01</td>\n",
        "      <td> 0.01</td>\n",
        "    </tr>\n",
        "    <tr>\n",
        "      <th>mutation</th>\n",
        "      <td> 4.79e-04</td>\n",
        "      <td> 1.96e-03</td>\n",
        "      <td>               Surv(days, event) ~ feature + old\\n</td>\n",
        "      <td> 2.58</td>\n",
        "      <td> 5.46e-02</td>\n",
        "      <td> 4.20e-02</td>\n",
        "      <td> 0.17</td>\n",
        "      <td> 0.03</td>\n",
        "      <td> 0.40</td>\n",
        "    </tr>\n",
        "    <tr>\n",
        "      <th>rna</th>\n",
        "      <td> 1.47e-05</td>\n",
        "      <td> 2.41e-03</td>\n",
        "      <td> Surv(days, event) ~ feature + old + age + feat...</td>\n",
        "      <td> 0.06</td>\n",
        "      <td> 6.25e-03</td>\n",
        "      <td> 6.25e-03</td>\n",
        "      <td> 0.02</td>\n",
        "      <td> 0.01</td>\n",
        "      <td> 0.01</td>\n",
        "    </tr>\n",
        "  </tbody>\n",
        "</table>\n",
        "</div>"
       ],
       "metadata": {},
       "output_type": "pyout",
       "prompt_number": 17,
       "text": [
        "                LR  feature_p                                               fmla  hazzard  q_bonf_within  q_bh_within  q_two_step  q_bh_all  q_bonf_all\n",
        "clinical  5.88e-05   2.96e-05                Surv(days, event) ~ feature + old\\n     2.29       6.46e-04     6.46e-04        0.00      0.01        0.05\n",
        "cna       1.36e-04   2.08e-03  Surv(days, event) ~ feature + old + age + feat...     6.48       9.53e-03     9.53e-03        0.04      0.02        0.11\n",
        "mirna     8.22e-06   1.48e-05                Surv(days, event) ~ feature + old\\n     2.40       1.82e-03     1.82e-03        0.01      0.01        0.01\n",
        "mutation  4.79e-04   1.96e-03                Surv(days, event) ~ feature + old\\n     2.58       5.46e-02     4.20e-02        0.17      0.03        0.40\n",
        "rna       1.47e-05   2.41e-03  Surv(days, event) ~ feature + old + age + feat...     0.06       6.25e-03     6.25e-03        0.02      0.01        0.01"
       ]
      }
     ],
     "prompt_number": 17
    },
    {
     "cell_type": "code",
     "collapsed": false,
     "input": [
      "feature_age[feature_age.q_bh_all < .1]"
     ],
     "language": "python",
     "metadata": {},
     "outputs": [
      {
       "html": [
        "<div style=\"max-height:1000px;max-width:1500px;overflow:auto;\">\n",
        "<table border=\"1\" class=\"dataframe\">\n",
        "  <thead>\n",
        "    <tr style=\"text-align: right;\">\n",
        "      <th></th>\n",
        "      <th></th>\n",
        "      <th>LR</th>\n",
        "      <th>feature_p</th>\n",
        "      <th>fmla</th>\n",
        "      <th>hazzard</th>\n",
        "      <th>q_bonf_within</th>\n",
        "      <th>q_bh_within</th>\n",
        "      <th>q_two_step</th>\n",
        "      <th>q_bh_all</th>\n",
        "      <th>q_bonf_all</th>\n",
        "    </tr>\n",
        "  </thead>\n",
        "  <tbody>\n",
        "    <tr>\n",
        "      <th>rna</th>\n",
        "      <th>REACTOME_PHOSPHORYLATION_OF_THE_APC</th>\n",
        "      <td> 4.02e-04</td>\n",
        "      <td> 3.40e-02</td>\n",
        "      <td> Surv(days, event) ~ feature + year + feature:y...</td>\n",
        "      <td> 5.81e+00</td>\n",
        "      <td> 0.17</td>\n",
        "      <td> 0.08</td>\n",
        "      <td> 0.34</td>\n",
        "      <td> 0.09</td>\n",
        "      <td> 0.36</td>\n",
        "    </tr>\n",
        "    <tr>\n",
        "      <th>mirna</th>\n",
        "      <th>hsa-mir-548k</th>\n",
        "      <td> 1.54e-05</td>\n",
        "      <td> 3.27e-05</td>\n",
        "      <td> Surv(days, event) ~ feature + year + feature:y...</td>\n",
        "      <td> 2.99e+00</td>\n",
        "      <td> 0.00</td>\n",
        "      <td> 0.00</td>\n",
        "      <td> 0.01</td>\n",
        "      <td> 0.01</td>\n",
        "      <td> 0.01</td>\n",
        "    </tr>\n",
        "    <tr>\n",
        "      <th>rna</th>\n",
        "      <th>LIMK1</th>\n",
        "      <td> 8.35e-05</td>\n",
        "      <td> 9.93e-01</td>\n",
        "      <td> Surv(days, event) ~ feature + old + year + fea...</td>\n",
        "      <td> 1.63e+01</td>\n",
        "      <td> 0.04</td>\n",
        "      <td> 0.04</td>\n",
        "      <td> 0.14</td>\n",
        "      <td> 0.04</td>\n",
        "      <td> 0.08</td>\n",
        "    </tr>\n",
        "    <tr>\n",
        "      <th>mutation</th>\n",
        "      <th>BIOCARTA_IL3_PATHWAY</th>\n",
        "      <td> 1.22e-04</td>\n",
        "      <td> 1.36e-01</td>\n",
        "      <td> Surv(days, event) ~ feature + age + year + fea...</td>\n",
        "      <td> 4.40e-04</td>\n",
        "      <td> 0.02</td>\n",
        "      <td> 0.02</td>\n",
        "      <td> 0.09</td>\n",
        "      <td> 0.04</td>\n",
        "      <td> 0.11</td>\n",
        "    </tr>\n",
        "  </tbody>\n",
        "</table>\n",
        "</div>"
       ],
       "metadata": {},
       "output_type": "pyout",
       "prompt_number": 60,
       "text": [
        "                                                    LR  feature_p                                               fmla   hazzard  q_bonf_within  q_bh_within  q_two_step  q_bh_all  q_bonf_all\n",
        "rna      REACTOME_PHOSPHORYLATION_OF_THE_APC  4.02e-04   3.40e-02  Surv(days, event) ~ feature + year + feature:y...  5.81e+00           0.17         0.08        0.34      0.09        0.36\n",
        "mirna    hsa-mir-548k                         1.54e-05   3.27e-05  Surv(days, event) ~ feature + year + feature:y...  2.99e+00           0.00         0.00        0.01      0.01        0.01\n",
        "rna      LIMK1                                8.35e-05   9.93e-01  Surv(days, event) ~ feature + old + year + fea...  1.63e+01           0.04         0.04        0.14      0.04        0.08\n",
        "mutation BIOCARTA_IL3_PATHWAY                 1.22e-04   1.36e-01  Surv(days, event) ~ feature + age + year + fea...  4.40e-04           0.02         0.02        0.09      0.04        0.11"
       ]
      }
     ],
     "prompt_number": 60
    },
    {
     "cell_type": "code",
     "collapsed": false,
     "input": [
      "f = univariate.ix['mirna'].apply(lambda s: pd.core.format.format_array(s, None))\n",
      "f.to_csv('/cellar/users/agross/Desktop/Figures/mirna_uni.csv', tupleize_cols=False)\n",
      "f = univariate.ix['rna'].apply(lambda s: pd.core.format.format_array(s, None))\n",
      "f.to_csv('/cellar/users/agross/Desktop/Figures/rna_uni.csv', tupleize_cols=False)\n",
      "f = univariate.ix['cna'].apply(lambda s: pd.core.format.format_array(s, None))\n",
      "f.to_csv('/cellar/users/agross/Desktop/Figures/cna_uni.csv', tupleize_cols=False)\n",
      "f = univariate.ix['mutation'].apply(lambda s: pd.core.format.format_array(s, None))\n",
      "f.to_csv('/cellar/users/agross/Desktop/Figures/mut_uni.csv', tupleize_cols=False)\n",
      "f = univariate.ix['clinical'].apply(lambda s: pd.core.format.format_array(s, None))\n",
      "f.to_csv('/cellar/users/agross/Desktop/Figures/clinical_uni.csv', tupleize_cols=False)"
     ],
     "language": "python",
     "metadata": {},
     "outputs": [],
     "prompt_number": 18
    },
    {
     "cell_type": "markdown",
     "metadata": {},
     "source": [
      "Our primary screen identified 51 events that were each independently associated with patient survival (Extended Data Fig. 3). "
     ]
    },
    {
     "cell_type": "code",
     "collapsed": false,
     "input": [
      "df.groupby(level=0).size()"
     ],
     "language": "python",
     "metadata": {},
     "outputs": [
      {
       "metadata": {},
       "output_type": "pyout",
       "prompt_number": 19,
       "text": [
        "clinical     11\n",
        "cna          70\n",
        "mirna       222\n",
        "mutation    114\n",
        "rna         425\n",
        "dtype: int64"
       ]
      }
     ],
     "prompt_number": 19
    },
    {
     "cell_type": "code",
     "collapsed": false,
     "input": [
      "feature_age[feature_age.q_bh_all < .1].groupby(level=0).size()"
     ],
     "language": "python",
     "metadata": {},
     "outputs": [
      {
       "metadata": {},
       "output_type": "pyout",
       "prompt_number": 20,
       "text": [
        "clinical     5\n",
        "cna          9\n",
        "mirna       14\n",
        "mutation     4\n",
        "rna         47\n",
        "dtype: int64"
       ]
      }
     ],
     "prompt_number": 20
    },
    {
     "cell_type": "code",
     "collapsed": false,
     "input": [
      "len(feature_age[feature_age.q_bh_all < .1])"
     ],
     "language": "python",
     "metadata": {},
     "outputs": [
      {
       "metadata": {},
       "output_type": "pyout",
       "prompt_number": 21,
       "text": [
        "79"
       ]
      }
     ],
     "prompt_number": 21
    },
    {
     "cell_type": "markdown",
     "metadata": {},
     "source": [
      "Among mutation events, TP53 had the highest survival association overall (Fig. 2b, Corrected P < 0.03)."
     ]
    },
    {
     "cell_type": "code",
     "collapsed": false,
     "input": [
      "feature_age.sort('LR').ix['clinical']"
     ],
     "language": "python",
     "metadata": {},
     "outputs": [
      {
       "html": [
        "<div style=\"max-height:1000px;max-width:1500px;overflow:auto;\">\n",
        "<table border=\"1\" class=\"dataframe\">\n",
        "  <thead>\n",
        "    <tr style=\"text-align: right;\">\n",
        "      <th></th>\n",
        "      <th>LR</th>\n",
        "      <th>feature_p</th>\n",
        "      <th>fmla</th>\n",
        "      <th>hazzard</th>\n",
        "      <th>q_bonf_within</th>\n",
        "      <th>q_bh_within</th>\n",
        "      <th>q_two_step</th>\n",
        "      <th>q_bh_all</th>\n",
        "      <th>q_bonf_all</th>\n",
        "    </tr>\n",
        "  </thead>\n",
        "  <tbody>\n",
        "    <tr>\n",
        "      <th>spread_inferred</th>\n",
        "      <td> 5.88e-05</td>\n",
        "      <td> 2.96e-05</td>\n",
        "      <td>               Surv(days, event) ~ feature + old\\n</td>\n",
        "      <td> 2.29</td>\n",
        "      <td> 6.46e-04</td>\n",
        "      <td> 6.46e-04</td>\n",
        "      <td> 0.00</td>\n",
        "      <td> 0.01</td>\n",
        "      <td>   0.05</td>\n",
        "    </tr>\n",
        "    <tr>\n",
        "      <th>drinker_inferred</th>\n",
        "      <td> 2.57e-04</td>\n",
        "      <td> 6.45e-04</td>\n",
        "      <td>               Surv(days, event) ~ feature + old\\n</td>\n",
        "      <td> 2.23</td>\n",
        "      <td> 2.83e-03</td>\n",
        "      <td> 1.28e-03</td>\n",
        "      <td> 0.01</td>\n",
        "      <td> 0.02</td>\n",
        "      <td>   0.22</td>\n",
        "    </tr>\n",
        "    <tr>\n",
        "      <th>year</th>\n",
        "      <td> 3.49e-04</td>\n",
        "      <td> 1.87e-04</td>\n",
        "      <td>               Surv(days, event) ~ feature + old\\n</td>\n",
        "      <td> 0.47</td>\n",
        "      <td> 3.84e-03</td>\n",
        "      <td> 1.28e-03</td>\n",
        "      <td> 0.01</td>\n",
        "      <td> 0.02</td>\n",
        "      <td>   0.29</td>\n",
        "    </tr>\n",
        "    <tr>\n",
        "      <th>lymph_n0</th>\n",
        "      <td> 3.02e-03</td>\n",
        "      <td> 4.77e-03</td>\n",
        "      <td>               Surv(days, event) ~ feature + old\\n</td>\n",
        "      <td> 0.53</td>\n",
        "      <td> 3.32e-02</td>\n",
        "      <td> 8.30e-03</td>\n",
        "      <td> 0.03</td>\n",
        "      <td> 0.07</td>\n",
        "      <td>   2.54</td>\n",
        "    </tr>\n",
        "    <tr>\n",
        "      <th>smoker_inferred</th>\n",
        "      <td> 7.74e-03</td>\n",
        "      <td> 6.56e-03</td>\n",
        "      <td> Surv(days, event) ~ feature + old + age + feat...</td>\n",
        "      <td> 1.92</td>\n",
        "      <td> 8.52e-02</td>\n",
        "      <td> 1.70e-02</td>\n",
        "      <td> 0.07</td>\n",
        "      <td> 0.09</td>\n",
        "      <td>   6.52</td>\n",
        "    </tr>\n",
        "    <tr>\n",
        "      <th>invasion_inferred</th>\n",
        "      <td> 1.04e-02</td>\n",
        "      <td> 1.10e-02</td>\n",
        "      <td>               Surv(days, event) ~ feature + old\\n</td>\n",
        "      <td> 1.64</td>\n",
        "      <td> 1.15e-01</td>\n",
        "      <td> 1.91e-02</td>\n",
        "      <td> 0.08</td>\n",
        "      <td> 0.11</td>\n",
        "      <td>   8.78</td>\n",
        "    </tr>\n",
        "    <tr>\n",
        "      <th>oral_cavity</th>\n",
        "      <td> 2.58e-02</td>\n",
        "      <td> 1.62e-01</td>\n",
        "      <td> Surv(days, event) ~ feature + old + age + feat...</td>\n",
        "      <td> 0.75</td>\n",
        "      <td> 2.83e-01</td>\n",
        "      <td> 4.05e-02</td>\n",
        "      <td> 0.16</td>\n",
        "      <td> 0.17</td>\n",
        "      <td>  21.69</td>\n",
        "    </tr>\n",
        "    <tr>\n",
        "      <th>larynx</th>\n",
        "      <td> 3.99e-02</td>\n",
        "      <td> 4.18e-01</td>\n",
        "      <td> Surv(days, event) ~ feature + old + age + feat...</td>\n",
        "      <td> 1.19</td>\n",
        "      <td> 4.39e-01</td>\n",
        "      <td> 5.49e-02</td>\n",
        "      <td> 0.22</td>\n",
        "      <td> 0.21</td>\n",
        "      <td>  33.61</td>\n",
        "    </tr>\n",
        "    <tr>\n",
        "      <th>Stage_IV</th>\n",
        "      <td> 5.28e-02</td>\n",
        "      <td> 5.37e-02</td>\n",
        "      <td>               Surv(days, event) ~ feature + old\\n</td>\n",
        "      <td> 1.47</td>\n",
        "      <td> 5.81e-01</td>\n",
        "      <td> 6.45e-02</td>\n",
        "      <td> 0.26</td>\n",
        "      <td> 0.24</td>\n",
        "      <td>  44.46</td>\n",
        "    </tr>\n",
        "    <tr>\n",
        "      <th>race_white</th>\n",
        "      <td> 1.55e-01</td>\n",
        "      <td> 1.39e-01</td>\n",
        "      <td>               Surv(days, event) ~ feature + old\\n</td>\n",
        "      <td> 0.69</td>\n",
        "      <td> 1.71e+00</td>\n",
        "      <td> 1.71e-01</td>\n",
        "      <td> 0.68</td>\n",
        "      <td> 0.42</td>\n",
        "      <td> 130.64</td>\n",
        "    </tr>\n",
        "    <tr>\n",
        "      <th>gender_male</th>\n",
        "      <td> 5.53e-01</td>\n",
        "      <td>      NaN</td>\n",
        "      <td>               Surv(days, event) ~ feature + old\\n</td>\n",
        "      <td>  NaN</td>\n",
        "      <td> 6.08e+00</td>\n",
        "      <td> 5.53e-01</td>\n",
        "      <td> 2.21</td>\n",
        "      <td> 0.79</td>\n",
        "      <td> 465.51</td>\n",
        "    </tr>\n",
        "  </tbody>\n",
        "</table>\n",
        "</div>"
       ],
       "metadata": {},
       "output_type": "pyout",
       "prompt_number": 22,
       "text": [
        "                         LR  feature_p                                               fmla  hazzard  q_bonf_within  q_bh_within  q_two_step  q_bh_all  q_bonf_all\n",
        "spread_inferred    5.88e-05   2.96e-05                Surv(days, event) ~ feature + old\\n     2.29       6.46e-04     6.46e-04        0.00      0.01        0.05\n",
        "drinker_inferred   2.57e-04   6.45e-04                Surv(days, event) ~ feature + old\\n     2.23       2.83e-03     1.28e-03        0.01      0.02        0.22\n",
        "year               3.49e-04   1.87e-04                Surv(days, event) ~ feature + old\\n     0.47       3.84e-03     1.28e-03        0.01      0.02        0.29\n",
        "lymph_n0           3.02e-03   4.77e-03                Surv(days, event) ~ feature + old\\n     0.53       3.32e-02     8.30e-03        0.03      0.07        2.54\n",
        "smoker_inferred    7.74e-03   6.56e-03  Surv(days, event) ~ feature + old + age + feat...     1.92       8.52e-02     1.70e-02        0.07      0.09        6.52\n",
        "invasion_inferred  1.04e-02   1.10e-02                Surv(days, event) ~ feature + old\\n     1.64       1.15e-01     1.91e-02        0.08      0.11        8.78\n",
        "oral_cavity        2.58e-02   1.62e-01  Surv(days, event) ~ feature + old + age + feat...     0.75       2.83e-01     4.05e-02        0.16      0.17       21.69\n",
        "larynx             3.99e-02   4.18e-01  Surv(days, event) ~ feature + old + age + feat...     1.19       4.39e-01     5.49e-02        0.22      0.21       33.61\n",
        "Stage_IV           5.28e-02   5.37e-02                Surv(days, event) ~ feature + old\\n     1.47       5.81e-01     6.45e-02        0.26      0.24       44.46\n",
        "race_white         1.55e-01   1.39e-01                Surv(days, event) ~ feature + old\\n     0.69       1.71e+00     1.71e-01        0.68      0.42      130.64\n",
        "gender_male        5.53e-01        NaN                Surv(days, event) ~ feature + old\\n      NaN       6.08e+00     5.53e-01        2.21      0.79      465.51"
       ]
      }
     ],
     "prompt_number": 22
    },
    {
     "cell_type": "code",
     "collapsed": false,
     "input": [
      "len(pairs.sort('p'))"
     ],
     "language": "python",
     "metadata": {},
     "outputs": [
      {
       "metadata": {},
       "output_type": "pyout",
       "prompt_number": 23,
       "text": [
        "18"
       ]
      }
     ],
     "prompt_number": 23
    },
    {
     "cell_type": "code",
     "collapsed": false,
     "input": [
      "combo = combine(df.ix['mutation'].ix['TP53'], df.ix['cna'].ix['del_3p14.2'])\n",
      "survival_and_stats(combo, surv, figsize=(6,4))"
     ],
     "language": "python",
     "metadata": {},
     "outputs": [
      {
       "metadata": {},
       "output_type": "display_data",
       "png": "[encoded data removed]",
       "text": [
        "<matplotlib.figure.Figure at 0x89c1650>"
       ]
      }
     ],
     "prompt_number": 24
    },
    {
     "cell_type": "markdown",
     "metadata": {},
     "source": [
      "We show that in HPV negative (HPV\uf02d) patients, the detrimental impact of TP53 mutation occurs only in combination with loss of chromosome 3p, leading to a marked decrease in median survival from >5 years for TP53 mutation only to 1.7 years for both events."
     ]
    },
    {
     "cell_type": "code",
     "collapsed": false,
     "input": [
      "get_surv_fit_lr(clinical.survival.survival, combo)"
     ],
     "language": "python",
     "metadata": {},
     "outputs": [
      {
       "html": [
        "<div style=\"max-height:1000px;max-width:1500px;overflow:auto;\">\n",
        "<table border=\"1\" class=\"dataframe\">\n",
        "  <thead>\n",
        "    <tr>\n",
        "      <th></th>\n",
        "      <th colspan=\"2\" halign=\"left\">Stats</th>\n",
        "      <th colspan=\"3\" halign=\"left\">Median Survival</th>\n",
        "      <th colspan=\"3\" halign=\"left\">5y Survival</th>\n",
        "      <th colspan=\"2\" halign=\"left\">Log-Rank</th>\n",
        "    </tr>\n",
        "    <tr>\n",
        "      <th></th>\n",
        "      <th># Patients</th>\n",
        "      <th># Events</th>\n",
        "      <th>Median</th>\n",
        "      <th>Lower</th>\n",
        "      <th>Upper</th>\n",
        "      <th>Surv</th>\n",
        "      <th>Lower</th>\n",
        "      <th>Upper</th>\n",
        "      <th>chi2</th>\n",
        "      <th>p</th>\n",
        "    </tr>\n",
        "  </thead>\n",
        "  <tbody>\n",
        "    <tr>\n",
        "      <th></th>\n",
        "      <td>    </td>\n",
        "      <td>   </td>\n",
        "      <td>     </td>\n",
        "      <td>     </td>\n",
        "      <td>     </td>\n",
        "      <td>      </td>\n",
        "      <td>      </td>\n",
        "      <td>      </td>\n",
        "      <td> 14.6</td>\n",
        "      <td> 0.00214</td>\n",
        "    </tr>\n",
        "    <tr>\n",
        "      <th>both</th>\n",
        "      <td> 185</td>\n",
        "      <td> 97</td>\n",
        "      <td> 1.71</td>\n",
        "      <td>  1.5</td>\n",
        "      <td> 2.58</td>\n",
        "      <td> 0.321</td>\n",
        "      <td> 0.239</td>\n",
        "      <td> 0.432</td>\n",
        "      <td>     </td>\n",
        "      <td>        </td>\n",
        "    </tr>\n",
        "    <tr>\n",
        "      <th>TP53</th>\n",
        "      <td>  25</td>\n",
        "      <td>  7</td>\n",
        "      <td>  NaN</td>\n",
        "      <td> 4.49</td>\n",
        "      <td>  NaN</td>\n",
        "      <td> 0.528</td>\n",
        "      <td> 0.281</td>\n",
        "      <td> 0.996</td>\n",
        "      <td>     </td>\n",
        "      <td>        </td>\n",
        "    </tr>\n",
        "    <tr>\n",
        "      <th>neither</th>\n",
        "      <td>  24</td>\n",
        "      <td>  9</td>\n",
        "      <td> 7.44</td>\n",
        "      <td> 4.71</td>\n",
        "      <td>  NaN</td>\n",
        "      <td> 0.615</td>\n",
        "      <td> 0.374</td>\n",
        "      <td>     1</td>\n",
        "      <td>     </td>\n",
        "      <td>        </td>\n",
        "    </tr>\n",
        "    <tr>\n",
        "      <th>del_3p14.2</th>\n",
        "      <td>  24</td>\n",
        "      <td>  9</td>\n",
        "      <td> 5.48</td>\n",
        "      <td> 2.96</td>\n",
        "      <td>  NaN</td>\n",
        "      <td> 0.642</td>\n",
        "      <td> 0.436</td>\n",
        "      <td> 0.948</td>\n",
        "      <td>     </td>\n",
        "      <td>        </td>\n",
        "    </tr>\n",
        "  </tbody>\n",
        "</table>\n",
        "</div>"
       ],
       "metadata": {},
       "output_type": "pyout",
       "prompt_number": 25,
       "text": [
        "                Stats          Median Survival             5y Survival               Log-Rank         \n",
        "           # Patients # Events          Median Lower Upper        Surv  Lower  Upper     chi2        p\n",
        "                                                                                         14.6  0.00214\n",
        "both              185       97            1.71   1.5  2.58       0.321  0.239  0.432                  \n",
        "TP53               25        7             NaN  4.49   NaN       0.528  0.281  0.996                  \n",
        "neither            24        9            7.44  4.71   NaN       0.615  0.374      1                  \n",
        "del_3p14.2         24        9            5.48  2.96   NaN       0.642  0.436  0.948                  "
       ]
      }
     ],
     "prompt_number": 25
    },
    {
     "cell_type": "code",
     "collapsed": false,
     "input": [
      "two_hit = combo == 'both'\n",
      "survival_and_stats(two_hit, surv, figsize=(6,4))"
     ],
     "language": "python",
     "metadata": {},
     "outputs": [
      {
       "metadata": {},
       "output_type": "display_data",
       "png": "[encoded data removed]",
       "text": [
        "<matplotlib.figure.Figure at 0x8b0c150>"
       ]
      }
     ],
     "prompt_number": 26
    },
    {
     "cell_type": "markdown",
     "metadata": {},
     "source": [
      "The most significant association with survival was the aggregate of TP53 mutation and 3p deletion (Fig. 2c-d, HR 2.5 +/- .5). "
     ]
    },
    {
     "cell_type": "code",
     "collapsed": false,
     "input": [
      "get_cox_ph(surv, two_hit, print_desc=True);"
     ],
     "language": "python",
     "metadata": {},
     "outputs": [
      {
       "output_type": "stream",
       "stream": "stdout",
       "text": [
        "\n",
        "         coef exp(coef) se(coef)    z       p\n",
        "feature 0.931      2.54    0.253 3.68 0.00024\n",
        "\n",
        "Likelihood ratio test=16.2  on 1 df, p=5.55e-05  n= 258, number of events= 110 \n",
        "\n"
       ]
      }
     ],
     "prompt_number": 27
    },
    {
     "cell_type": "code",
     "collapsed": false,
     "input": [
      "(exp(0.931)), exp(0.931) -  exp(0.931 - 0.253)"
     ],
     "language": "python",
     "metadata": {},
     "outputs": [
      {
       "metadata": {},
       "output_type": "pyout",
       "prompt_number": 28,
       "text": [
        "(2.5370449544725853, 0.56711103258165552)"
       ]
      }
     ],
     "prompt_number": 28
    },
    {
     "cell_type": "markdown",
     "metadata": {},
     "source": [
      "These events co-occur in 185 of 258 HPV\uf02d patients (Fig. 2c, Fisher\u2019s Exact Test, P < 10^10)"
     ]
    },
    {
     "cell_type": "code",
     "collapsed": false,
     "input": [
      "combo.value_counts().sum()"
     ],
     "language": "python",
     "metadata": {},
     "outputs": [
      {
       "metadata": {},
       "output_type": "pyout",
       "prompt_number": 29,
       "text": [
        "258"
       ]
      }
     ],
     "prompt_number": 29
    },
    {
     "cell_type": "code",
     "collapsed": false,
     "input": [
      "fisher_exact_test(df.ix['mutation'].ix['TP53'], df.ix['cna'].ix['del_3p14.2'])"
     ],
     "language": "python",
     "metadata": {},
     "outputs": [
      {
       "metadata": {},
       "output_type": "pyout",
       "prompt_number": 30,
       "text": [
        "odds_ratio    7.40e+00\n",
        "p             3.29e-08\n",
        "dtype: float64"
       ]
      }
     ],
     "prompt_number": 30
    },
    {
     "cell_type": "markdown",
     "metadata": {},
     "source": [
      "while each event by itself has a significant association with survival, these marginal effects are driven by the large number of patients who have both events together (Fig. 2d, Extended Data Fig. 4, Permutation Test P < .006, Bonferroni Corrected P < .2). "
     ]
    },
    {
     "cell_type": "code",
     "collapsed": true,
     "input": [
      "#interaction_empirical_p(df.ix['mutation'].ix['TP53'], df.ix['cna'].ix['del_3p14.2'], surv, num_perm=5001)"
     ],
     "language": "python",
     "metadata": {},
     "outputs": [],
     "prompt_number": 31
    },
    {
     "cell_type": "code",
     "collapsed": false,
     "input": [
      ".0058*18"
     ],
     "language": "python",
     "metadata": {},
     "outputs": [
      {
       "metadata": {},
       "output_type": "pyout",
       "prompt_number": 32,
       "text": [
        "0.10439999999999999"
       ]
      }
     ],
     "prompt_number": 32
    },
    {
     "cell_type": "heading",
     "level": 2,
     "metadata": {},
     "source": [
      "Decision 2: MUC5B Mutation "
     ]
    },
    {
     "cell_type": "code",
     "collapsed": false,
     "input": [
      "res, pairs, feature_age, univariate, keepers_o, df = run_screen([hpv_inferred==1, two_hit==0], [age, old])"
     ],
     "language": "python",
     "metadata": {},
     "outputs": [],
     "prompt_number": 33
    },
    {
     "cell_type": "code",
     "collapsed": false,
     "input": [
      "res.head()"
     ],
     "language": "python",
     "metadata": {},
     "outputs": [
      {
       "html": [
        "<div style=\"max-height:1000px;max-width:1500px;overflow:auto;\">\n",
        "<table border=\"1\" class=\"dataframe\">\n",
        "  <thead>\n",
        "    <tr style=\"text-align: right;\">\n",
        "      <th></th>\n",
        "      <th></th>\n",
        "      <th>LR</th>\n",
        "      <th>feature_p</th>\n",
        "      <th>fmla</th>\n",
        "      <th>hazzard</th>\n",
        "      <th>q_bonf_within</th>\n",
        "      <th>q_bh_within</th>\n",
        "      <th>q_two_step</th>\n",
        "      <th>q_bh_all</th>\n",
        "      <th>q_bonf_all</th>\n",
        "    </tr>\n",
        "  </thead>\n",
        "  <tbody>\n",
        "    <tr>\n",
        "      <th>mutation</th>\n",
        "      <th>MUC5B</th>\n",
        "      <td> 1.15e-04</td>\n",
        "      <td> 9.38e-06</td>\n",
        "      <td>               Surv(days, event) ~ feature + old\\n</td>\n",
        "      <td> 4.06</td>\n",
        "      <td> 0.02</td>\n",
        "      <td> 0.02</td>\n",
        "      <td> 0.09</td>\n",
        "      <td> 0.05</td>\n",
        "      <td> 0.11</td>\n",
        "    </tr>\n",
        "    <tr>\n",
        "      <th rowspan=\"3\" valign=\"top\">rna</th>\n",
        "      <th>KEGG_DORSO_VENTRAL_AXIS_FORMATION</th>\n",
        "      <td> 1.61e-04</td>\n",
        "      <td> 2.62e-01</td>\n",
        "      <td> Surv(days, event) ~ feature + old + feature:old\\n</td>\n",
        "      <td> 1.37</td>\n",
        "      <td> 0.07</td>\n",
        "      <td> 0.04</td>\n",
        "      <td> 0.14</td>\n",
        "      <td> 0.05</td>\n",
        "      <td> 0.15</td>\n",
        "    </tr>\n",
        "    <tr>\n",
        "      <th>REACTOME_PHOSPHORYLATION_OF_THE_APC</th>\n",
        "      <td> 1.68e-04</td>\n",
        "      <td> 4.44e-03</td>\n",
        "      <td>               Surv(days, event) ~ feature + old\\n</td>\n",
        "      <td> 5.32</td>\n",
        "      <td> 0.07</td>\n",
        "      <td> 0.04</td>\n",
        "      <td> 0.14</td>\n",
        "      <td> 0.05</td>\n",
        "      <td> 0.15</td>\n",
        "    </tr>\n",
        "    <tr>\n",
        "      <th>NT5C2</th>\n",
        "      <td> 7.81e-04</td>\n",
        "      <td> 5.54e-03</td>\n",
        "      <td> Surv(days, event) ~ feature + old + feature:old\\n</td>\n",
        "      <td> 0.55</td>\n",
        "      <td> 0.33</td>\n",
        "      <td> 0.10</td>\n",
        "      <td> 0.40</td>\n",
        "      <td> 0.15</td>\n",
        "      <td> 0.72</td>\n",
        "    </tr>\n",
        "    <tr>\n",
        "      <th>clinical</th>\n",
        "      <th>year</th>\n",
        "      <td> 7.95e-04</td>\n",
        "      <td> 1.78e-04</td>\n",
        "      <td> Surv(days, event) ~ feature + old + feature:old\\n</td>\n",
        "      <td> 0.44</td>\n",
        "      <td> 0.01</td>\n",
        "      <td> 0.01</td>\n",
        "      <td> 0.03</td>\n",
        "      <td> 0.15</td>\n",
        "      <td> 0.73</td>\n",
        "    </tr>\n",
        "  </tbody>\n",
        "</table>\n",
        "</div>"
       ],
       "metadata": {},
       "output_type": "pyout",
       "prompt_number": 34,
       "text": [
        "                                                    LR  feature_p                                               fmla  hazzard  q_bonf_within  q_bh_within  q_two_step  q_bh_all  q_bonf_all\n",
        "mutation MUC5B                                1.15e-04   9.38e-06                Surv(days, event) ~ feature + old\\n     4.06           0.02         0.02        0.09      0.05        0.11\n",
        "rna      KEGG_DORSO_VENTRAL_AXIS_FORMATION    1.61e-04   2.62e-01  Surv(days, event) ~ feature + old + feature:old\\n     1.37           0.07         0.04        0.14      0.05        0.15\n",
        "         REACTOME_PHOSPHORYLATION_OF_THE_APC  1.68e-04   4.44e-03                Surv(days, event) ~ feature + old\\n     5.32           0.07         0.04        0.14      0.05        0.15\n",
        "         NT5C2                                7.81e-04   5.54e-03  Surv(days, event) ~ feature + old + feature:old\\n     0.55           0.33         0.10        0.40      0.15        0.72\n",
        "clinical year                                 7.95e-04   1.78e-04  Surv(days, event) ~ feature + old + feature:old\\n     0.44           0.01         0.01        0.03      0.15        0.73"
       ]
      }
     ],
     "prompt_number": 34
    },
    {
     "cell_type": "code",
     "collapsed": false,
     "input": [
      "muc5b = df.ix['mutation'].ix['MUC5B'].ix[keepers_o].dropna()\n",
      "survival_and_stats(muc5b, surv, figsize=(6,4)) "
     ],
     "language": "python",
     "metadata": {},
     "outputs": [
      {
       "metadata": {},
       "output_type": "display_data",
       "png": "[encoded data removed]",
       "text": [
        "<matplotlib.figure.Figure at 0x8ade9d0>"
       ]
      }
     ],
     "prompt_number": 35
    },
    {
     "cell_type": "code",
     "collapsed": false,
     "input": [
      "get_cox_ph(surv, muc5b, print_desc=True);"
     ],
     "language": "python",
     "metadata": {},
     "outputs": [
      {
       "output_type": "stream",
       "stream": "stdout",
       "text": [
        "\n",
        "        coef exp(coef) se(coef)   z       p\n",
        "feature 1.35      3.86    0.314 4.3 1.7e-05\n",
        "\n",
        "Likelihood ratio test=14  on 1 df, p=0.000179  n= 185, number of events= 91 \n",
        "\n"
       ]
      }
     ],
     "prompt_number": 36
    },
    {
     "cell_type": "code",
     "collapsed": false,
     "input": [
      "exp(1.35), exp(1.35) -  exp(1.35 - 0.314)"
     ],
     "language": "python",
     "metadata": {},
     "outputs": [
      {
       "metadata": {},
       "output_type": "pyout",
       "prompt_number": 37,
       "text": [
        "(3.8574255306969745, 1.0395027808148671)"
       ]
      }
     ],
     "prompt_number": 37
    },
    {
     "cell_type": "heading",
     "level": 2,
     "metadata": {},
     "source": [
      "Add covaratiate: Year of Diagnosis"
     ]
    },
    {
     "cell_type": "code",
     "collapsed": false,
     "input": [
      "res, pairs, feature_age, univariate, keepers_o, df = run_screen([hpv_inferred==1, two_hit==0, muc5b==1], [age, old])"
     ],
     "language": "python",
     "metadata": {},
     "outputs": [],
     "prompt_number": 38
    },
    {
     "cell_type": "code",
     "collapsed": false,
     "input": [
      "res.sort('LR').head().T"
     ],
     "language": "python",
     "metadata": {},
     "outputs": [
      {
       "html": [
        "<div style=\"max-height:1000px;max-width:1500px;overflow:auto;\">\n",
        "<table border=\"1\" class=\"dataframe\">\n",
        "  <thead>\n",
        "    <tr>\n",
        "      <th></th>\n",
        "      <th colspan=\"4\" halign=\"left\">rna</th>\n",
        "      <th>mirna</th>\n",
        "    </tr>\n",
        "    <tr>\n",
        "      <th></th>\n",
        "      <th>HOXC5</th>\n",
        "      <th>RAD51</th>\n",
        "      <th>REACTOME_PHOSPHORYLATION_OF_THE_APC</th>\n",
        "      <th>SERPINH1</th>\n",
        "      <th>hsa-mir-137</th>\n",
        "    </tr>\n",
        "  </thead>\n",
        "  <tbody>\n",
        "    <tr>\n",
        "      <th>LR</th>\n",
        "      <td>                                          0.000345</td>\n",
        "      <td>                                          0.000498</td>\n",
        "      <td>                            0.000761</td>\n",
        "      <td>                                           0.00186</td>\n",
        "      <td>                                           0.00225</td>\n",
        "    </tr>\n",
        "    <tr>\n",
        "      <th>feature_p</th>\n",
        "      <td>                                           0.00591</td>\n",
        "      <td>                                             0.983</td>\n",
        "      <td>                             0.00887</td>\n",
        "      <td>                                             0.555</td>\n",
        "      <td>                                            0.0025</td>\n",
        "    </tr>\n",
        "    <tr>\n",
        "      <th>fmla</th>\n",
        "      <td> Surv(days, event) ~ feature + age + feature:age\\n</td>\n",
        "      <td> Surv(days, event) ~ feature + age + old + feat...</td>\n",
        "      <td> Surv(days, event) ~ feature + old\\n</td>\n",
        "      <td> Surv(days, event) ~ feature + age + old + feat...</td>\n",
        "      <td> Surv(days, event) ~ feature + age + feature:age\\n</td>\n",
        "    </tr>\n",
        "    <tr>\n",
        "      <th>hazzard</th>\n",
        "      <td>                                              10.5</td>\n",
        "      <td>                                          8.34e-10</td>\n",
        "      <td>                                4.67</td>\n",
        "      <td>                                              1.28</td>\n",
        "      <td>                                              2.09</td>\n",
        "    </tr>\n",
        "    <tr>\n",
        "      <th>q_bonf_within</th>\n",
        "      <td>                                             0.145</td>\n",
        "      <td>                                              0.21</td>\n",
        "      <td>                                0.32</td>\n",
        "      <td>                                             0.782</td>\n",
        "      <td>                                             0.494</td>\n",
        "    </tr>\n",
        "    <tr>\n",
        "      <th>q_bh_within</th>\n",
        "      <td>                                             0.105</td>\n",
        "      <td>                                             0.105</td>\n",
        "      <td>                               0.107</td>\n",
        "      <td>                                             0.195</td>\n",
        "      <td>                                             0.153</td>\n",
        "    </tr>\n",
        "    <tr>\n",
        "      <th>q_two_step</th>\n",
        "      <td>                                              0.42</td>\n",
        "      <td>                                              0.42</td>\n",
        "      <td>                               0.427</td>\n",
        "      <td>                                             0.782</td>\n",
        "      <td>                                             0.611</td>\n",
        "    </tr>\n",
        "    <tr>\n",
        "      <th>q_bh_all</th>\n",
        "      <td>                                             0.226</td>\n",
        "      <td>                                             0.226</td>\n",
        "      <td>                                0.23</td>\n",
        "      <td>                                             0.253</td>\n",
        "      <td>                                             0.253</td>\n",
        "    </tr>\n",
        "    <tr>\n",
        "      <th>q_bonf_all</th>\n",
        "      <td>                                             0.313</td>\n",
        "      <td>                                             0.451</td>\n",
        "      <td>                                0.69</td>\n",
        "      <td>                                              1.68</td>\n",
        "      <td>                                              2.04</td>\n",
        "    </tr>\n",
        "  </tbody>\n",
        "</table>\n",
        "</div>"
       ],
       "metadata": {},
       "output_type": "pyout",
       "prompt_number": 39,
       "text": [
        "                                                             rna                                                                                                                                                                                         mirna\n",
        "                                                           HOXC5                                              RAD51  REACTOME_PHOSPHORYLATION_OF_THE_APC                                           SERPINH1                                        hsa-mir-137\n",
        "LR                                                      0.000345                                           0.000498                             0.000761                                            0.00186                                            0.00225\n",
        "feature_p                                                0.00591                                              0.983                              0.00887                                              0.555                                             0.0025\n",
        "fmla           Surv(days, event) ~ feature + age + feature:age\\n  Surv(days, event) ~ feature + age + old + feat...  Surv(days, event) ~ feature + old\\n  Surv(days, event) ~ feature + age + old + feat...  Surv(days, event) ~ feature + age + feature:age\\n\n",
        "hazzard                                                     10.5                                           8.34e-10                                 4.67                                               1.28                                               2.09\n",
        "q_bonf_within                                              0.145                                               0.21                                 0.32                                              0.782                                              0.494\n",
        "q_bh_within                                                0.105                                              0.105                                0.107                                              0.195                                              0.153\n",
        "q_two_step                                                  0.42                                               0.42                                0.427                                              0.782                                              0.611\n",
        "q_bh_all                                                   0.226                                              0.226                                 0.23                                              0.253                                              0.253\n",
        "q_bonf_all                                                 0.313                                              0.451                                 0.69                                               1.68                                               2.04"
       ]
      }
     ],
     "prompt_number": 39
    },
    {
     "cell_type": "code",
     "collapsed": false,
     "input": [
      "res.ix['clinical']"
     ],
     "language": "python",
     "metadata": {},
     "outputs": [
      {
       "html": [
        "<div style=\"max-height:1000px;max-width:1500px;overflow:auto;\">\n",
        "<table border=\"1\" class=\"dataframe\">\n",
        "  <thead>\n",
        "    <tr style=\"text-align: right;\">\n",
        "      <th></th>\n",
        "      <th>LR</th>\n",
        "      <th>feature_p</th>\n",
        "      <th>fmla</th>\n",
        "      <th>hazzard</th>\n",
        "      <th>q_bonf_within</th>\n",
        "      <th>q_bh_within</th>\n",
        "      <th>q_two_step</th>\n",
        "      <th>q_bh_all</th>\n",
        "      <th>q_bonf_all</th>\n",
        "    </tr>\n",
        "  </thead>\n",
        "  <tbody>\n",
        "    <tr>\n",
        "      <th>year</th>\n",
        "      <td> 0.00</td>\n",
        "      <td> 2.76e-04</td>\n",
        "      <td>                     Surv(days, event) ~ feature\\n</td>\n",
        "      <td> 0.42</td>\n",
        "      <td>  0.03</td>\n",
        "      <td> 0.03</td>\n",
        "      <td> 0.13</td>\n",
        "      <td> 0.25</td>\n",
        "      <td>   2.66</td>\n",
        "    </tr>\n",
        "    <tr>\n",
        "      <th>smoker_inferred</th>\n",
        "      <td> 0.02</td>\n",
        "      <td> 6.30e-03</td>\n",
        "      <td>                     Surv(days, event) ~ feature\\n</td>\n",
        "      <td> 2.30</td>\n",
        "      <td>  0.18</td>\n",
        "      <td> 0.06</td>\n",
        "      <td> 0.24</td>\n",
        "      <td> 0.33</td>\n",
        "      <td>  14.60</td>\n",
        "    </tr>\n",
        "    <tr>\n",
        "      <th>spread_inferred</th>\n",
        "      <td> 0.02</td>\n",
        "      <td> 1.65e-02</td>\n",
        "      <td>               Surv(days, event) ~ feature + old\\n</td>\n",
        "      <td> 1.74</td>\n",
        "      <td>  0.21</td>\n",
        "      <td> 0.06</td>\n",
        "      <td> 0.24</td>\n",
        "      <td> 0.33</td>\n",
        "      <td>  16.96</td>\n",
        "    </tr>\n",
        "    <tr>\n",
        "      <th>larynx</th>\n",
        "      <td> 0.02</td>\n",
        "      <td> 8.14e-01</td>\n",
        "      <td> Surv(days, event) ~ feature + age + old + feat...</td>\n",
        "      <td> 1.06</td>\n",
        "      <td>  0.24</td>\n",
        "      <td> 0.06</td>\n",
        "      <td> 0.24</td>\n",
        "      <td> 0.36</td>\n",
        "      <td>  19.65</td>\n",
        "    </tr>\n",
        "    <tr>\n",
        "      <th>oral_cavity</th>\n",
        "      <td> 0.03</td>\n",
        "      <td> 4.89e-01</td>\n",
        "      <td> Surv(days, event) ~ feature + age + old + feat...</td>\n",
        "      <td> 0.85</td>\n",
        "      <td>  0.30</td>\n",
        "      <td> 0.06</td>\n",
        "      <td> 0.24</td>\n",
        "      <td> 0.39</td>\n",
        "      <td>  24.43</td>\n",
        "    </tr>\n",
        "    <tr>\n",
        "      <th>drinker_inferred</th>\n",
        "      <td> 0.03</td>\n",
        "      <td> 1.07e-02</td>\n",
        "      <td>                     Surv(days, event) ~ feature\\n</td>\n",
        "      <td> 2.17</td>\n",
        "      <td>  0.35</td>\n",
        "      <td> 0.06</td>\n",
        "      <td> 0.24</td>\n",
        "      <td> 0.41</td>\n",
        "      <td>  29.08</td>\n",
        "    </tr>\n",
        "    <tr>\n",
        "      <th>invasion_inferred</th>\n",
        "      <td> 0.05</td>\n",
        "      <td> 1.24e-01</td>\n",
        "      <td> Surv(days, event) ~ feature + old + feature:old\\n</td>\n",
        "      <td> 1.44</td>\n",
        "      <td>  0.51</td>\n",
        "      <td> 0.07</td>\n",
        "      <td> 0.29</td>\n",
        "      <td> 0.43</td>\n",
        "      <td>  42.29</td>\n",
        "    </tr>\n",
        "    <tr>\n",
        "      <th>race_white</th>\n",
        "      <td> 0.12</td>\n",
        "      <td> 9.82e-02</td>\n",
        "      <td>               Surv(days, event) ~ feature + old\\n</td>\n",
        "      <td> 0.62</td>\n",
        "      <td>  1.27</td>\n",
        "      <td> 0.14</td>\n",
        "      <td> 0.58</td>\n",
        "      <td> 0.59</td>\n",
        "      <td> 104.42</td>\n",
        "    </tr>\n",
        "    <tr>\n",
        "      <th>lymph_n0</th>\n",
        "      <td> 0.12</td>\n",
        "      <td> 1.30e-01</td>\n",
        "      <td>               Surv(days, event) ~ feature + old\\n</td>\n",
        "      <td> 0.67</td>\n",
        "      <td>  1.30</td>\n",
        "      <td> 0.14</td>\n",
        "      <td> 0.58</td>\n",
        "      <td> 0.59</td>\n",
        "      <td> 107.07</td>\n",
        "    </tr>\n",
        "    <tr>\n",
        "      <th>Stage_IV</th>\n",
        "      <td> 0.37</td>\n",
        "      <td> 3.75e-01</td>\n",
        "      <td>               Surv(days, event) ~ feature + old\\n</td>\n",
        "      <td> 1.23</td>\n",
        "      <td>  4.10</td>\n",
        "      <td> 0.41</td>\n",
        "      <td> 1.64</td>\n",
        "      <td> 0.91</td>\n",
        "      <td> 338.03</td>\n",
        "    </tr>\n",
        "    <tr>\n",
        "      <th>gender_male</th>\n",
        "      <td> 1.00</td>\n",
        "      <td>      NaN</td>\n",
        "      <td>                     Surv(days, event) ~ feature\\n</td>\n",
        "      <td>  NaN</td>\n",
        "      <td> 11.00</td>\n",
        "      <td> 1.00</td>\n",
        "      <td> 4.00</td>\n",
        "      <td> 1.00</td>\n",
        "      <td> 906.00</td>\n",
        "    </tr>\n",
        "  </tbody>\n",
        "</table>\n",
        "</div>"
       ],
       "metadata": {},
       "output_type": "pyout",
       "prompt_number": 40,
       "text": [
        "                     LR  feature_p                                               fmla  hazzard  q_bonf_within  q_bh_within  q_two_step  q_bh_all  q_bonf_all\n",
        "year               0.00   2.76e-04                      Surv(days, event) ~ feature\\n     0.42           0.03         0.03        0.13      0.25        2.66\n",
        "smoker_inferred    0.02   6.30e-03                      Surv(days, event) ~ feature\\n     2.30           0.18         0.06        0.24      0.33       14.60\n",
        "spread_inferred    0.02   1.65e-02                Surv(days, event) ~ feature + old\\n     1.74           0.21         0.06        0.24      0.33       16.96\n",
        "larynx             0.02   8.14e-01  Surv(days, event) ~ feature + age + old + feat...     1.06           0.24         0.06        0.24      0.36       19.65\n",
        "oral_cavity        0.03   4.89e-01  Surv(days, event) ~ feature + age + old + feat...     0.85           0.30         0.06        0.24      0.39       24.43\n",
        "drinker_inferred   0.03   1.07e-02                      Surv(days, event) ~ feature\\n     2.17           0.35         0.06        0.24      0.41       29.08\n",
        "invasion_inferred  0.05   1.24e-01  Surv(days, event) ~ feature + old + feature:old\\n     1.44           0.51         0.07        0.29      0.43       42.29\n",
        "race_white         0.12   9.82e-02                Surv(days, event) ~ feature + old\\n     0.62           1.27         0.14        0.58      0.59      104.42\n",
        "lymph_n0           0.12   1.30e-01                Surv(days, event) ~ feature + old\\n     0.67           1.30         0.14        0.58      0.59      107.07\n",
        "Stage_IV           0.37   3.75e-01                Surv(days, event) ~ feature + old\\n     1.23           4.10         0.41        1.64      0.91      338.03\n",
        "gender_male        1.00        NaN                      Surv(days, event) ~ feature\\n      NaN          11.00         1.00        4.00      1.00      906.00"
       ]
      }
     ],
     "prompt_number": 40
    },
    {
     "cell_type": "code",
     "collapsed": false,
     "input": [
      "pre_2k = df.ix['clinical'].ix['year'].ix[keepers_o].dropna()\n",
      "survival_and_stats(pre_2k, surv, figsize=(6,4))"
     ],
     "language": "python",
     "metadata": {},
     "outputs": [
      {
       "metadata": {},
       "output_type": "display_data",
       "png": "[encoded data removed]",
       "text": [
        "<matplotlib.figure.Figure at 0xbda6c50>"
       ]
      }
     ],
     "prompt_number": 41
    },
    {
     "cell_type": "heading",
     "level": 2,
     "metadata": {},
     "source": [
      "Decision 3: mir-548k Presence"
     ]
    },
    {
     "cell_type": "code",
     "collapsed": false,
     "input": [
      "year = clinical_processed.year.ix[keepers_o].dropna()\n",
      "res, pairs, feature_age, univariate, keepers_o, df = run_screen([hpv_inferred==1, two_hit==0, muc5b==1], \n",
      "                                                         [age, old, year])"
     ],
     "language": "python",
     "metadata": {},
     "outputs": [],
     "prompt_number": 42
    },
    {
     "cell_type": "code",
     "collapsed": false,
     "input": [
      "res.head()"
     ],
     "language": "python",
     "metadata": {},
     "outputs": [
      {
       "html": [
        "<div style=\"max-height:1000px;max-width:1500px;overflow:auto;\">\n",
        "<table border=\"1\" class=\"dataframe\">\n",
        "  <thead>\n",
        "    <tr style=\"text-align: right;\">\n",
        "      <th></th>\n",
        "      <th></th>\n",
        "      <th>LR</th>\n",
        "      <th>feature_p</th>\n",
        "      <th>fmla</th>\n",
        "      <th>hazzard</th>\n",
        "      <th>q_bh_all</th>\n",
        "      <th>q_bh_within</th>\n",
        "      <th>q_bonf_all</th>\n",
        "      <th>q_bonf_within</th>\n",
        "      <th>q_two_step</th>\n",
        "    </tr>\n",
        "  </thead>\n",
        "  <tbody>\n",
        "    <tr>\n",
        "      <th>mirna</th>\n",
        "      <th>hsa-mir-548k</th>\n",
        "      <td> 1.54e-05</td>\n",
        "      <td> 3.27e-05</td>\n",
        "      <td> Surv(days, event) ~ feature + year + feature:y...</td>\n",
        "      <td> 2.99e+00</td>\n",
        "      <td> 0.01</td>\n",
        "      <td> 0.00</td>\n",
        "      <td> 0.01</td>\n",
        "      <td> 0.00</td>\n",
        "      <td> 0.01</td>\n",
        "    </tr>\n",
        "    <tr>\n",
        "      <th>rna</th>\n",
        "      <th>LIMK1</th>\n",
        "      <td> 8.35e-05</td>\n",
        "      <td> 9.93e-01</td>\n",
        "      <td> Surv(days, event) ~ feature + old + year + fea...</td>\n",
        "      <td> 1.63e+01</td>\n",
        "      <td> 0.04</td>\n",
        "      <td> 0.04</td>\n",
        "      <td> 0.08</td>\n",
        "      <td> 0.04</td>\n",
        "      <td> 0.14</td>\n",
        "    </tr>\n",
        "    <tr>\n",
        "      <th>mutation</th>\n",
        "      <th>BIOCARTA_IL3_PATHWAY</th>\n",
        "      <td> 1.22e-04</td>\n",
        "      <td> 1.36e-01</td>\n",
        "      <td> Surv(days, event) ~ feature + age + year + fea...</td>\n",
        "      <td> 4.40e-04</td>\n",
        "      <td> 0.04</td>\n",
        "      <td> 0.02</td>\n",
        "      <td> 0.11</td>\n",
        "      <td> 0.02</td>\n",
        "      <td> 0.09</td>\n",
        "    </tr>\n",
        "    <tr>\n",
        "      <th rowspan=\"2\" valign=\"top\">rna</th>\n",
        "      <th>REACTOME_PHOSPHORYLATION_OF_THE_APC</th>\n",
        "      <td> 4.02e-04</td>\n",
        "      <td> 3.40e-02</td>\n",
        "      <td> Surv(days, event) ~ feature + year + feature:y...</td>\n",
        "      <td> 5.81e+00</td>\n",
        "      <td> 0.09</td>\n",
        "      <td> 0.08</td>\n",
        "      <td> 0.36</td>\n",
        "      <td> 0.17</td>\n",
        "      <td> 0.34</td>\n",
        "    </tr>\n",
        "    <tr>\n",
        "      <th>HOXC5</th>\n",
        "      <td> 9.56e-04</td>\n",
        "      <td> 7.65e-03</td>\n",
        "      <td> Surv(days, event) ~ feature + age + year + fea...</td>\n",
        "      <td> 9.50e+00</td>\n",
        "      <td> 0.12</td>\n",
        "      <td> 0.11</td>\n",
        "      <td> 0.87</td>\n",
        "      <td> 0.40</td>\n",
        "      <td> 0.45</td>\n",
        "    </tr>\n",
        "  </tbody>\n",
        "</table>\n",
        "</div>"
       ],
       "metadata": {},
       "output_type": "pyout",
       "prompt_number": 43,
       "text": [
        "                                                    LR  feature_p                                               fmla   hazzard  q_bh_all  q_bh_within  q_bonf_all  q_bonf_within  q_two_step\n",
        "mirna    hsa-mir-548k                         1.54e-05   3.27e-05  Surv(days, event) ~ feature + year + feature:y...  2.99e+00      0.01         0.00        0.01           0.00        0.01\n",
        "rna      LIMK1                                8.35e-05   9.93e-01  Surv(days, event) ~ feature + old + year + fea...  1.63e+01      0.04         0.04        0.08           0.04        0.14\n",
        "mutation BIOCARTA_IL3_PATHWAY                 1.22e-04   1.36e-01  Surv(days, event) ~ feature + age + year + fea...  4.40e-04      0.04         0.02        0.11           0.02        0.09\n",
        "rna      REACTOME_PHOSPHORYLATION_OF_THE_APC  4.02e-04   3.40e-02  Surv(days, event) ~ feature + year + feature:y...  5.81e+00      0.09         0.08        0.36           0.17        0.34\n",
        "         HOXC5                                9.56e-04   7.65e-03  Surv(days, event) ~ feature + age + year + fea...  9.50e+00      0.12         0.11        0.87           0.40        0.45"
       ]
      }
     ],
     "prompt_number": 43
    },
    {
     "cell_type": "code",
     "collapsed": false,
     "input": [
      "mir548 = df.ix['mirna'].ix['hsa-mir-548k'].ix[keepers_o].dropna()\n",
      "survival_and_stats(mir548, surv, figsize=(6,4))"
     ],
     "language": "python",
     "metadata": {},
     "outputs": [
      {
       "metadata": {},
       "output_type": "display_data",
       "png": "[encoded data removed]",
       "text": [
        "<matplotlib.figure.Figure at 0x8bd10d0>"
       ]
      }
     ],
     "prompt_number": 44
    },
    {
     "cell_type": "code",
     "collapsed": false,
     "input": [
      "get_cox_ph(surv, mir548, print_desc=True);"
     ],
     "language": "python",
     "metadata": {},
     "outputs": [
      {
       "output_type": "stream",
       "stream": "stdout",
       "text": [
        "\n",
        "         coef exp(coef) se(coef)   z       p\n",
        "feature 0.809      2.24    0.231 3.5 0.00047\n",
        "\n",
        "Likelihood ratio test=12.3  on 1 df, p=0.000451  n= 167, number of events= 77 \n",
        "\n"
       ]
      }
     ],
     "prompt_number": 45
    },
    {
     "cell_type": "code",
     "collapsed": false,
     "input": [
      "exp(.803), exp(.803) -  exp(.803 - 0.231)"
     ],
     "language": "python",
     "metadata": {},
     "outputs": [
      {
       "metadata": {},
       "output_type": "pyout",
       "prompt_number": 46,
       "text": [
        "(2.2322275762345734, 0.46042045180499902)"
       ]
      }
     ],
     "prompt_number": 46
    },
    {
     "cell_type": "code",
     "collapsed": false,
     "input": [
      "survival_and_stats(mir548.ix[true_index(year)].dropna(), surv, figsize=(6,4))"
     ],
     "language": "python",
     "metadata": {},
     "outputs": [
      {
       "metadata": {},
       "output_type": "display_data",
       "png": "[encoded data removed]",
       "text": [
        "<matplotlib.figure.Figure at 0x8bdab90>"
       ]
      }
     ],
     "prompt_number": 47
    },
    {
     "cell_type": "heading",
     "level": 1,
     "metadata": {},
     "source": [
      "Final Model"
     ]
    },
    {
     "cell_type": "code",
     "collapsed": false,
     "input": [
      "st = (two_hit*1.).copy() + 1\n",
      "st.ix[true_index(st==2).intersection(true_index(muc5b==1))] = 4\n",
      "st.ix[true_index(st==2).intersection(true_index(mir548==1))] = 3"
     ],
     "language": "python",
     "metadata": {},
     "outputs": [],
     "prompt_number": 48
    },
    {
     "cell_type": "code",
     "collapsed": false,
     "input": [
      "survival_and_stats(st.dropna(), surv, order=[4,3,2,1])"
     ],
     "language": "python",
     "metadata": {},
     "outputs": [
      {
       "metadata": {},
       "output_type": "display_data",
       "png": "[encoded data removed]",
       "text": [
        "<matplotlib.figure.Figure at 0x88d2190>"
       ]
      }
     ],
     "prompt_number": 49
    },
    {
     "cell_type": "code",
     "collapsed": false,
     "input": [
      "get_cox_ph(surv, '_' + st.astype(str), print_desc=True, interactions=False);"
     ],
     "language": "python",
     "metadata": {},
     "outputs": [
      {
       "output_type": "stream",
       "stream": "stdout",
       "text": [
        "\n",
        "             coef exp(coef) se(coef)    z       p\n",
        "feature_2.0 0.483      1.62    0.285 1.69 9.0e-02\n",
        "feature_3.0 1.263      3.54    0.277 4.56 5.2e-06\n",
        "feature_4.0 2.173      8.79    0.374 5.80 6.4e-09\n",
        "\n",
        "Likelihood ratio test=41.3  on 3 df, p=5.58e-09  n= 258, number of events= 110 \n",
        "\n"
       ]
      }
     ],
     "prompt_number": 50
    }
   ],
   "metadata": {}
  }
 ]
}