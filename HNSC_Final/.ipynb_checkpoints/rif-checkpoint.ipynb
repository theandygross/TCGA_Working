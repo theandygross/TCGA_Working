{
 "metadata": {
  "name": ""
 },
 "nbformat": 3,
 "nbformat_minor": 0,
 "worksheets": [
  {
   "cells": [
    {
     "cell_type": "heading",
     "level": 1,
     "metadata": {},
     "source": [
      "Zheng et. al ChipSeq Processing"
     ]
    },
    {
     "cell_type": "markdown",
     "metadata": {},
     "source": [
      "* This section of the code takes in mapped ChipSeq data and normalizes it according to the methods in Zheng et. al.\n",
      "* Here I use the Pandas package to organize the data into data frames as well as for the rolling averages. It can be downloaded using easy_install (easy_install pandas) or a variety of other package managers.\n",
      "* The files this spits out is about 13GB so make sure you have space."
     ]
    },
    {
     "cell_type": "code",
     "collapsed": false,
     "input": [
      "from matplotlib.pylab import *\n",
      "import numpy as np\n",
      "import pandas as pd\n",
      "import os as os\n",
      "import cPickle as pickle"
     ],
     "language": "python",
     "metadata": {},
     "outputs": [],
     "prompt_number": 2
    },
    {
     "cell_type": "heading",
     "level": 2,
     "metadata": {},
     "source": [
      "Path to the data"
     ]
    },
    {
     "cell_type": "markdown",
     "metadata": {},
     "source": [
      "* Data can be downloaded [here](http://www.ncbi.nlm.nih.gov/geo/query/acc.cgi?acc=GSE19635).\n",
      "* I uncompressed GSE19635_RAW.tar and threw it into the ChipSeq directory.\n",
      "* It's about 8GB so I'm not going to attach it with the code."
     ]
    },
    {
     "cell_type": "code",
     "collapsed": false,
     "input": [
      "inPath = '/cellar/users/agross/Data/Rifkin/ChipSeq/'\n",
      "outPath = '/cellar/users/agross/Data/Rifkin/Z_Maps/'"
     ],
     "language": "python",
     "metadata": {},
     "outputs": [],
     "prompt_number": 3
    },
    {
     "cell_type": "markdown",
     "metadata": {},
     "source": [
      "####Static Parameters\n",
      "Chromosome data from [SGD reference genome](http://www.yeastgenome.org/cache/genomeSnapshot.html)."
     ]
    },
    {
     "cell_type": "code",
     "collapsed": false,
     "input": [
      "'''From SGD reference genome used for this mapping (last is mt)'''\n",
      "#chrs = ['01','02','03','04','05','06','07','08','09','10','11','12','13','14','15','16','mt']\n",
      "chrs = ['01','02','03','04','05','06','07','08','09','10','11','12','13','14','15','16']\n",
      "chrLengths = [230218,813184,316620,1531933,576874,270161,1090940,562643,439888,745751,\n",
      "              666816,1078177,924431,784333,1091291,948066,85779]\n",
      "probeLength = 24"
     ],
     "language": "python",
     "metadata": {},
     "outputs": [],
     "prompt_number": 4
    },
    {
     "cell_type": "markdown",
     "metadata": {},
     "source": [
      "####getSignalMaps\n",
      "<pre>--Reads a .eland_result file, and maps reads to chromosome positions\n",
      "   inputs\n",
      "     fileName:     name of .eland_result file\n",
      "     chrs:         list of chromosomes\n",
      "     chrLengths:   lengths of each chromosome, in order\n",
      "     probeLength:  length of probes, for mapping purposes\n",
      "   returns\n",
      "     chrMapping:   list of chromosome signal maps \n",
      "</pre>   "
     ]
    },
    {
     "cell_type": "code",
     "collapsed": false,
     "input": [
      "def getSignalMaps(fileName, chrs, chrLengths, probeLength):\n",
      "    file_h = open(fileName, 'r')\n",
      "    def parse(s):\n",
      "        split = s.replace('>','').strip().split('\\t')\n",
      "        split[6] = split[6][3:5]\n",
      "        return split[2:9]\n",
      "    reads = numpy.array([parse(line) for line in file_h])\n",
      "    print file_h.name + ' has : ' +str(len(reads)) + ' reads.'\n",
      "\n",
      "    chrMapping = [[] for i in range(len(chrs))]\n",
      "    for i,chr in enumerate(chrs):\n",
      "        chrReads = reads.take(where(reads[:,4]==chr)[0], axis=0)\n",
      "        print '\\t' + chr + ': ' + str(len(chrReads)) + ' reads'\n",
      "        chrMap = numpy.zeros((chrLengths[i]), dtype=int)\n",
      "        for read in chrReads:\n",
      "            readStart = int(read[5])\n",
      "            if read[6] == 'F':\n",
      "                chrMap[readStart:readStart+probeLength] = chrMap[readStart:readStart+probeLength]+1\n",
      "            else:\n",
      "                chrMap[readStart-probeLength:readStart] = chrMap[readStart-probeLength:readStart]+1\n",
      "        chrMapping[i] = chrMap\n",
      "    return chrMapping"
     ],
     "language": "python",
     "metadata": {},
     "outputs": [],
     "prompt_number": 5
    },
    {
     "cell_type": "markdown",
     "metadata": {},
     "source": [
      "####getZTransform\n",
      "* Takes a signal map and does a Z-Transform as in the methods\n",
      "* Adding replicates together... good idea?\n",
      "* I'm a little unsure of how they get c, here I take the median of the ratios for each chromosome.\n",
      "<pre>\n",
      "   inputs\n",
      "     signalMaps:   list of read counts mapped to each chromosome\n",
      "   returns\n",
      "     Z:            Z transform of signal maps\n",
      "</pre>   "
     ]
    },
    {
     "cell_type": "code",
     "collapsed": false,
     "input": [
      "def getZTransform(signalMaps):\n",
      "    print 'normalizing the maps agaist the background'  \n",
      "    A = [signalMaps['rep1'][i]*signalMaps['rep2'][i] for i in range(len(chrs))]\n",
      "    B = [signalMaps['input'][i]*signalMaps['input'][i] for i in range(len(chrs))]\n",
      "    r = [numpy.array(B[i], dtype=float)+.00001 / A[i] for i in range(len(B))]\n",
      "    c_chr = [median(r[i]) for i in range(len(r))]\n",
      "    \n",
      "    mean_A = {'w1':  [numpy.roll(pandas.rolling_mean(A_ch, (2*1 + 1)),-1) for A_ch in A],\n",
      "              'w10': [numpy.roll(pandas.rolling_mean(A_ch, (2*10 + 1)),-10) for A_ch in A],\n",
      "              'chr': [numpy.ones_like(A_ch)*mean(A_ch) for A_ch in A]}\n",
      "    mean_B = {'w1':  [numpy.roll(pandas.rolling_mean(B_ch, (2*1 + 1)),-1) for B_ch in B],\n",
      "              'w10': [numpy.roll(pandas.rolling_mean(B_ch, (2*10 + 1)),-10) for B_ch in B],\n",
      "              'chr': [numpy.ones_like(B_ch)*mean(B_ch) for B_ch in B]}\n",
      "    \n",
      "    sigma_choices = [[mean_A[window][i] + (mean_B[window][i]/pow(c_chr[i],2)) \n",
      "                      for window in ['w1','w10','chr']] for i in range(len(chrs))]\n",
      "    \n",
      "    sigma = [numpy.sqrt(numpy.nanmax(sigma_choices[i], axis=0)) for i in range(len(chrs))]\n",
      "    \n",
      "    Z = [(A[i] - (B[i] / c_chr[i]))/sigma[i] for i in range(len(chrs))]\n",
      "    return Z"
     ],
     "language": "python",
     "metadata": {},
     "outputs": [],
     "prompt_number": 6
    },
    {
     "cell_type": "code",
     "collapsed": false,
     "input": [
      "variants = list(set(range(1,51)).difference([19,20,23,27,29,39,49]))\n",
      "segregants = dict([('SEG'+str(i),('SEG'+str(i)+'ChIP_rep1u_eland_result.txt',\n",
      "                                  'SEG'+str(i)+'ChIP_rep2u_eland_result.txt',\n",
      "                                  'SEG'+str(i)+'inputu_eland_result.txt')) \n",
      "              for i in variants for j in range(1,3)])"
     ],
     "language": "python",
     "metadata": {},
     "outputs": [],
     "prompt_number": 7
    },
    {
     "cell_type": "code",
     "collapsed": false,
     "input": [
      "segregants"
     ],
     "language": "python",
     "metadata": {},
     "outputs": [
      {
       "metadata": {},
       "output_type": "pyout",
       "prompt_number": 11,
       "text": [
        "{'SEG1': ('SEG1ChIP_rep1u_eland_result.txt',\n",
        "  'SEG1ChIP_rep2u_eland_result.txt',\n",
        "  'SEG1inputu_eland_result.txt'),\n",
        " 'SEG10': ('SEG10ChIP_rep1u_eland_result.txt',\n",
        "  'SEG10ChIP_rep2u_eland_result.txt',\n",
        "  'SEG10inputu_eland_result.txt'),\n",
        " 'SEG11': ('SEG11ChIP_rep1u_eland_result.txt',\n",
        "  'SEG11ChIP_rep2u_eland_result.txt',\n",
        "  'SEG11inputu_eland_result.txt'),\n",
        " 'SEG12': ('SEG12ChIP_rep1u_eland_result.txt',\n",
        "  'SEG12ChIP_rep2u_eland_result.txt',\n",
        "  'SEG12inputu_eland_result.txt'),\n",
        " 'SEG13': ('SEG13ChIP_rep1u_eland_result.txt',\n",
        "  'SEG13ChIP_rep2u_eland_result.txt',\n",
        "  'SEG13inputu_eland_result.txt'),\n",
        " 'SEG14': ('SEG14ChIP_rep1u_eland_result.txt',\n",
        "  'SEG14ChIP_rep2u_eland_result.txt',\n",
        "  'SEG14inputu_eland_result.txt'),\n",
        " 'SEG15': ('SEG15ChIP_rep1u_eland_result.txt',\n",
        "  'SEG15ChIP_rep2u_eland_result.txt',\n",
        "  'SEG15inputu_eland_result.txt'),\n",
        " 'SEG16': ('SEG16ChIP_rep1u_eland_result.txt',\n",
        "  'SEG16ChIP_rep2u_eland_result.txt',\n",
        "  'SEG16inputu_eland_result.txt'),\n",
        " 'SEG17': ('SEG17ChIP_rep1u_eland_result.txt',\n",
        "  'SEG17ChIP_rep2u_eland_result.txt',\n",
        "  'SEG17inputu_eland_result.txt'),\n",
        " 'SEG18': ('SEG18ChIP_rep1u_eland_result.txt',\n",
        "  'SEG18ChIP_rep2u_eland_result.txt',\n",
        "  'SEG18inputu_eland_result.txt'),\n",
        " 'SEG2': ('SEG2ChIP_rep1u_eland_result.txt',\n",
        "  'SEG2ChIP_rep2u_eland_result.txt',\n",
        "  'SEG2inputu_eland_result.txt'),\n",
        " 'SEG21': ('SEG21ChIP_rep1u_eland_result.txt',\n",
        "  'SEG21ChIP_rep2u_eland_result.txt',\n",
        "  'SEG21inputu_eland_result.txt'),\n",
        " 'SEG22': ('SEG22ChIP_rep1u_eland_result.txt',\n",
        "  'SEG22ChIP_rep2u_eland_result.txt',\n",
        "  'SEG22inputu_eland_result.txt'),\n",
        " 'SEG24': ('SEG24ChIP_rep1u_eland_result.txt',\n",
        "  'SEG24ChIP_rep2u_eland_result.txt',\n",
        "  'SEG24inputu_eland_result.txt'),\n",
        " 'SEG25': ('SEG25ChIP_rep1u_eland_result.txt',\n",
        "  'SEG25ChIP_rep2u_eland_result.txt',\n",
        "  'SEG25inputu_eland_result.txt'),\n",
        " 'SEG26': ('SEG26ChIP_rep1u_eland_result.txt',\n",
        "  'SEG26ChIP_rep2u_eland_result.txt',\n",
        "  'SEG26inputu_eland_result.txt'),\n",
        " 'SEG28': ('SEG28ChIP_rep1u_eland_result.txt',\n",
        "  'SEG28ChIP_rep2u_eland_result.txt',\n",
        "  'SEG28inputu_eland_result.txt'),\n",
        " 'SEG3': ('SEG3ChIP_rep1u_eland_result.txt',\n",
        "  'SEG3ChIP_rep2u_eland_result.txt',\n",
        "  'SEG3inputu_eland_result.txt'),\n",
        " 'SEG30': ('SEG30ChIP_rep1u_eland_result.txt',\n",
        "  'SEG30ChIP_rep2u_eland_result.txt',\n",
        "  'SEG30inputu_eland_result.txt'),\n",
        " 'SEG31': ('SEG31ChIP_rep1u_eland_result.txt',\n",
        "  'SEG31ChIP_rep2u_eland_result.txt',\n",
        "  'SEG31inputu_eland_result.txt'),\n",
        " 'SEG32': ('SEG32ChIP_rep1u_eland_result.txt',\n",
        "  'SEG32ChIP_rep2u_eland_result.txt',\n",
        "  'SEG32inputu_eland_result.txt'),\n",
        " 'SEG33': ('SEG33ChIP_rep1u_eland_result.txt',\n",
        "  'SEG33ChIP_rep2u_eland_result.txt',\n",
        "  'SEG33inputu_eland_result.txt'),\n",
        " 'SEG34': ('SEG34ChIP_rep1u_eland_result.txt',\n",
        "  'SEG34ChIP_rep2u_eland_result.txt',\n",
        "  'SEG34inputu_eland_result.txt'),\n",
        " 'SEG35': ('SEG35ChIP_rep1u_eland_result.txt',\n",
        "  'SEG35ChIP_rep2u_eland_result.txt',\n",
        "  'SEG35inputu_eland_result.txt'),\n",
        " 'SEG36': ('SEG36ChIP_rep1u_eland_result.txt',\n",
        "  'SEG36ChIP_rep2u_eland_result.txt',\n",
        "  'SEG36inputu_eland_result.txt'),\n",
        " 'SEG37': ('SEG37ChIP_rep1u_eland_result.txt',\n",
        "  'SEG37ChIP_rep2u_eland_result.txt',\n",
        "  'SEG37inputu_eland_result.txt'),\n",
        " 'SEG38': ('SEG38ChIP_rep1u_eland_result.txt',\n",
        "  'SEG38ChIP_rep2u_eland_result.txt',\n",
        "  'SEG38inputu_eland_result.txt'),\n",
        " 'SEG4': ('SEG4ChIP_rep1u_eland_result.txt',\n",
        "  'SEG4ChIP_rep2u_eland_result.txt',\n",
        "  'SEG4inputu_eland_result.txt'),\n",
        " 'SEG40': ('SEG40ChIP_rep1u_eland_result.txt',\n",
        "  'SEG40ChIP_rep2u_eland_result.txt',\n",
        "  'SEG40inputu_eland_result.txt'),\n",
        " 'SEG41': ('SEG41ChIP_rep1u_eland_result.txt',\n",
        "  'SEG41ChIP_rep2u_eland_result.txt',\n",
        "  'SEG41inputu_eland_result.txt'),\n",
        " 'SEG42': ('SEG42ChIP_rep1u_eland_result.txt',\n",
        "  'SEG42ChIP_rep2u_eland_result.txt',\n",
        "  'SEG42inputu_eland_result.txt'),\n",
        " 'SEG43': ('SEG43ChIP_rep1u_eland_result.txt',\n",
        "  'SEG43ChIP_rep2u_eland_result.txt',\n",
        "  'SEG43inputu_eland_result.txt'),\n",
        " 'SEG44': ('SEG44ChIP_rep1u_eland_result.txt',\n",
        "  'SEG44ChIP_rep2u_eland_result.txt',\n",
        "  'SEG44inputu_eland_result.txt'),\n",
        " 'SEG45': ('SEG45ChIP_rep1u_eland_result.txt',\n",
        "  'SEG45ChIP_rep2u_eland_result.txt',\n",
        "  'SEG45inputu_eland_result.txt'),\n",
        " 'SEG46': ('SEG46ChIP_rep1u_eland_result.txt',\n",
        "  'SEG46ChIP_rep2u_eland_result.txt',\n",
        "  'SEG46inputu_eland_result.txt'),\n",
        " 'SEG47': ('SEG47ChIP_rep1u_eland_result.txt',\n",
        "  'SEG47ChIP_rep2u_eland_result.txt',\n",
        "  'SEG47inputu_eland_result.txt'),\n",
        " 'SEG48': ('SEG48ChIP_rep1u_eland_result.txt',\n",
        "  'SEG48ChIP_rep2u_eland_result.txt',\n",
        "  'SEG48inputu_eland_result.txt'),\n",
        " 'SEG5': ('SEG5ChIP_rep1u_eland_result.txt',\n",
        "  'SEG5ChIP_rep2u_eland_result.txt',\n",
        "  'SEG5inputu_eland_result.txt'),\n",
        " 'SEG50': ('SEG50ChIP_rep1u_eland_result.txt',\n",
        "  'SEG50ChIP_rep2u_eland_result.txt',\n",
        "  'SEG50inputu_eland_result.txt'),\n",
        " 'SEG6': ('SEG6ChIP_rep1u_eland_result.txt',\n",
        "  'SEG6ChIP_rep2u_eland_result.txt',\n",
        "  'SEG6inputu_eland_result.txt'),\n",
        " 'SEG7': ('SEG7ChIP_rep1u_eland_result.txt',\n",
        "  'SEG7ChIP_rep2u_eland_result.txt',\n",
        "  'SEG7inputu_eland_result.txt'),\n",
        " 'SEG8': ('SEG8ChIP_rep1u_eland_result.txt',\n",
        "  'SEG8ChIP_rep2u_eland_result.txt',\n",
        "  'SEG8inputu_eland_result.txt'),\n",
        " 'SEG9': ('SEG9ChIP_rep1u_eland_result.txt',\n",
        "  'SEG9ChIP_rep2u_eland_result.txt',\n",
        "  'SEG9inputu_eland_result.txt')}"
       ]
      }
     ],
     "prompt_number": 11
    },
    {
     "cell_type": "code",
     "collapsed": false,
     "input": [
      "seg"
     ],
     "language": "python",
     "metadata": {},
     "outputs": [
      {
       "ename": "NameError",
       "evalue": "name 'seg' is not defined",
       "output_type": "pyerr",
       "traceback": [
        "\u001b[1;31m---------------------------------------------------------------------------\u001b[0m\n\u001b[1;31mNameError\u001b[0m                                 Traceback (most recent call last)",
        "\u001b[1;32m<ipython-input-12-055967acf4ca>\u001b[0m in \u001b[0;36m<module>\u001b[1;34m()\u001b[0m\n\u001b[1;32m----> 1\u001b[1;33m \u001b[0mseg\u001b[0m\u001b[1;33m\u001b[0m\u001b[0m\n\u001b[0m",
        "\u001b[1;31mNameError\u001b[0m: name 'seg' is not defined"
       ]
      }
     ],
     "prompt_number": 12
    },
    {
     "cell_type": "code",
     "collapsed": false,
     "input": [
      "!mkdir"
     ],
     "language": "python",
     "metadata": {},
     "outputs": []
    },
    {
     "cell_type": "code",
     "collapsed": false,
     "input": [
      "for seg in segregants.keys()[:2]:\n",
      "    signalMaps = {}\n",
      "    for j,exp in enumerate(['rep1','rep2','input']):\n",
      "        signalMaps[exp] = getSignalMaps(inPath+segregants[seg][j], chrs, chrLengths, probeLength)\n",
      "    Z = getZTransform(signalMaps)\n",
      "    pickle.dump(Z, open(outpath+seg+'.p', 'wb'))"
     ],
     "language": "python",
     "metadata": {},
     "outputs": [
      {
       "ename": "IOError",
       "evalue": "[Errno 2] No such file or directory: '/cellar/users/agross/Data/Rifkin/ChipSeq/SEG38ChIP_rep1u_eland_result.txt'",
       "output_type": "pyerr",
       "traceback": [
        "\u001b[1;31m---------------------------------------------------------------------------\u001b[0m\n\u001b[1;31mIOError\u001b[0m                                   Traceback (most recent call last)",
        "\u001b[1;32m<ipython-input-13-346eb0c119c8>\u001b[0m in \u001b[0;36m<module>\u001b[1;34m()\u001b[0m\n\u001b[0;32m      2\u001b[0m     \u001b[0msignalMaps\u001b[0m \u001b[1;33m=\u001b[0m \u001b[1;33m{\u001b[0m\u001b[1;33m}\u001b[0m\u001b[1;33m\u001b[0m\u001b[0m\n\u001b[0;32m      3\u001b[0m     \u001b[1;32mfor\u001b[0m \u001b[0mj\u001b[0m\u001b[1;33m,\u001b[0m\u001b[0mexp\u001b[0m \u001b[1;32min\u001b[0m \u001b[0menumerate\u001b[0m\u001b[1;33m(\u001b[0m\u001b[1;33m[\u001b[0m\u001b[1;34m'rep1'\u001b[0m\u001b[1;33m,\u001b[0m\u001b[1;34m'rep2'\u001b[0m\u001b[1;33m,\u001b[0m\u001b[1;34m'input'\u001b[0m\u001b[1;33m]\u001b[0m\u001b[1;33m)\u001b[0m\u001b[1;33m:\u001b[0m\u001b[1;33m\u001b[0m\u001b[0m\n\u001b[1;32m----> 4\u001b[1;33m         \u001b[0msignalMaps\u001b[0m\u001b[1;33m[\u001b[0m\u001b[0mexp\u001b[0m\u001b[1;33m]\u001b[0m \u001b[1;33m=\u001b[0m \u001b[0mgetSignalMaps\u001b[0m\u001b[1;33m(\u001b[0m\u001b[0minPath\u001b[0m\u001b[1;33m+\u001b[0m\u001b[0msegregants\u001b[0m\u001b[1;33m[\u001b[0m\u001b[0mseg\u001b[0m\u001b[1;33m]\u001b[0m\u001b[1;33m[\u001b[0m\u001b[0mj\u001b[0m\u001b[1;33m]\u001b[0m\u001b[1;33m,\u001b[0m \u001b[0mchrs\u001b[0m\u001b[1;33m,\u001b[0m \u001b[0mchrLengths\u001b[0m\u001b[1;33m,\u001b[0m \u001b[0mprobeLength\u001b[0m\u001b[1;33m)\u001b[0m\u001b[1;33m\u001b[0m\u001b[0m\n\u001b[0m\u001b[0;32m      5\u001b[0m     \u001b[0mZ\u001b[0m \u001b[1;33m=\u001b[0m \u001b[0mgetZTransform\u001b[0m\u001b[1;33m(\u001b[0m\u001b[0msignalMaps\u001b[0m\u001b[1;33m)\u001b[0m\u001b[1;33m\u001b[0m\u001b[0m\n\u001b[0;32m      6\u001b[0m     \u001b[0mpickle\u001b[0m\u001b[1;33m.\u001b[0m\u001b[0mdump\u001b[0m\u001b[1;33m(\u001b[0m\u001b[0mZ\u001b[0m\u001b[1;33m,\u001b[0m \u001b[0mopen\u001b[0m\u001b[1;33m(\u001b[0m\u001b[0moutpath\u001b[0m\u001b[1;33m+\u001b[0m\u001b[0mseg\u001b[0m\u001b[1;33m+\u001b[0m\u001b[1;34m'.p'\u001b[0m\u001b[1;33m,\u001b[0m \u001b[1;34m'wb'\u001b[0m\u001b[1;33m)\u001b[0m\u001b[1;33m)\u001b[0m\u001b[1;33m\u001b[0m\u001b[0m\n",
        "\u001b[1;32m<ipython-input-5-7b2591bdb00c>\u001b[0m in \u001b[0;36mgetSignalMaps\u001b[1;34m(fileName, chrs, chrLengths, probeLength)\u001b[0m\n\u001b[0;32m      1\u001b[0m \u001b[1;32mdef\u001b[0m \u001b[0mgetSignalMaps\u001b[0m\u001b[1;33m(\u001b[0m\u001b[0mfileName\u001b[0m\u001b[1;33m,\u001b[0m \u001b[0mchrs\u001b[0m\u001b[1;33m,\u001b[0m \u001b[0mchrLengths\u001b[0m\u001b[1;33m,\u001b[0m \u001b[0mprobeLength\u001b[0m\u001b[1;33m)\u001b[0m\u001b[1;33m:\u001b[0m\u001b[1;33m\u001b[0m\u001b[0m\n\u001b[1;32m----> 2\u001b[1;33m     \u001b[0mfile_h\u001b[0m \u001b[1;33m=\u001b[0m \u001b[0mopen\u001b[0m\u001b[1;33m(\u001b[0m\u001b[0mfileName\u001b[0m\u001b[1;33m,\u001b[0m \u001b[1;34m'r'\u001b[0m\u001b[1;33m)\u001b[0m\u001b[1;33m\u001b[0m\u001b[0m\n\u001b[0m\u001b[0;32m      3\u001b[0m     \u001b[1;32mdef\u001b[0m \u001b[0mparse\u001b[0m\u001b[1;33m(\u001b[0m\u001b[0ms\u001b[0m\u001b[1;33m)\u001b[0m\u001b[1;33m:\u001b[0m\u001b[1;33m\u001b[0m\u001b[0m\n\u001b[0;32m      4\u001b[0m         \u001b[0msplit\u001b[0m \u001b[1;33m=\u001b[0m \u001b[0ms\u001b[0m\u001b[1;33m.\u001b[0m\u001b[0mreplace\u001b[0m\u001b[1;33m(\u001b[0m\u001b[1;34m'>'\u001b[0m\u001b[1;33m,\u001b[0m\u001b[1;34m''\u001b[0m\u001b[1;33m)\u001b[0m\u001b[1;33m.\u001b[0m\u001b[0mstrip\u001b[0m\u001b[1;33m(\u001b[0m\u001b[1;33m)\u001b[0m\u001b[1;33m.\u001b[0m\u001b[0msplit\u001b[0m\u001b[1;33m(\u001b[0m\u001b[1;34m'\\t'\u001b[0m\u001b[1;33m)\u001b[0m\u001b[1;33m\u001b[0m\u001b[0m\n\u001b[0;32m      5\u001b[0m         \u001b[0msplit\u001b[0m\u001b[1;33m[\u001b[0m\u001b[1;36m6\u001b[0m\u001b[1;33m]\u001b[0m \u001b[1;33m=\u001b[0m \u001b[0msplit\u001b[0m\u001b[1;33m[\u001b[0m\u001b[1;36m6\u001b[0m\u001b[1;33m]\u001b[0m\u001b[1;33m[\u001b[0m\u001b[1;36m3\u001b[0m\u001b[1;33m:\u001b[0m\u001b[1;36m5\u001b[0m\u001b[1;33m]\u001b[0m\u001b[1;33m\u001b[0m\u001b[0m\n",
        "\u001b[1;31mIOError\u001b[0m: [Errno 2] No such file or directory: '/cellar/users/agross/Data/Rifkin/ChipSeq/SEG38ChIP_rep1u_eland_result.txt'"
       ]
      }
     ],
     "prompt_number": 13
    },
    {
     "cell_type": "code",
     "collapsed": false,
     "input": [],
     "language": "python",
     "metadata": {},
     "outputs": []
    }
   ],
   "metadata": {}
  }
 ]
}