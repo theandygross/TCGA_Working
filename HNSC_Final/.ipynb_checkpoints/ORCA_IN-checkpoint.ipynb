{
 "metadata": {
  "name": ""
 },
 "nbformat": 3,
 "nbformat_minor": 0,
 "worksheets": [
  {
   "cells": [
    {
     "cell_type": "code",
     "collapsed": false,
     "input": [
      "import pandas as pd"
     ],
     "language": "python",
     "metadata": {},
     "outputs": [],
     "prompt_number": 1
    },
    {
     "cell_type": "code",
     "collapsed": false,
     "input": [
      "cd ../src/"
     ],
     "language": "python",
     "metadata": {},
     "outputs": [
      {
       "output_type": "stream",
       "stream": "stdout",
       "text": [
        "/cellar/users/agross/TCGA_Code/TCGA/Pathway_Merge/src\n"
       ]
      }
     ],
     "prompt_number": 24
    },
    {
     "cell_type": "code",
     "collapsed": false,
     "input": [
      "from Processing.Imports import *\n",
      "from Figures.Survival import survival_and_stats"
     ],
     "language": "python",
     "metadata": {},
     "outputs": [],
     "prompt_number": 25
    },
    {
     "cell_type": "code",
     "collapsed": false,
     "input": [
      "path = '/cellar/users/agross/Data/ICGC/ORCA_IN/'"
     ],
     "language": "python",
     "metadata": {},
     "outputs": [],
     "prompt_number": 2
    },
    {
     "cell_type": "code",
     "collapsed": false,
     "input": [
      "clin = pd.read_table(path + 'clinical.ORCA-IN.tsv', index_col=0, na_values=['N/A'])\n",
      "clin = clin.dropna(how='all', axis=1)"
     ],
     "language": "python",
     "metadata": {},
     "outputs": [],
     "prompt_number": 79
    },
    {
     "cell_type": "code",
     "collapsed": false,
     "input": [
      "event = 1.*(clin.donor_vital_status == 'deceased')\n",
      "days = clin.donor_survival_time * 30.4\n",
      "age = clin.donor_age_at_diagnosis.groupby(level=0).first().astype(float)\n",
      "grade = clin.tumour_grade.groupby(level=0).max()\n",
      "node = clin.tumour_stage.dropna().map(lambda s: 'N0' not in s) "
     ],
     "language": "python",
     "metadata": {},
     "outputs": [],
     "prompt_number": 86
    },
    {
     "cell_type": "code",
     "collapsed": false,
     "input": [
      "surv = pd.concat([days, event], keys=['days','event'], axis=1)\n",
      "surv = surv.groupby(level=0).first().stack()"
     ],
     "language": "python",
     "metadata": {},
     "outputs": [],
     "prompt_number": 87
    },
    {
     "cell_type": "code",
     "collapsed": false,
     "input": [
      "survival_and_stats(node, surv)"
     ],
     "language": "python",
     "metadata": {},
     "outputs": [
      {
       "metadata": {},
       "output_type": "display_data",
       "png": "[encoded data removed]",
       "text": [
        "<matplotlib.figure.Figure at 0x88daa50>"
       ]
      }
     ],
     "prompt_number": 88
    },
    {
     "cell_type": "code",
     "collapsed": false,
     "input": [
      "mut = pd.read_table(path + 'simple_somatic_mutation.ORCA-IN.tsv', index_col=0)\n",
      "mut = mut.dropna(how='all', axis=1)\n",
      "mut = mut.groupby(level=0).first()"
     ],
     "language": "python",
     "metadata": {},
     "outputs": [],
     "prompt_number": 171
    },
    {
     "cell_type": "code",
     "collapsed": false,
     "input": [
      "mapping = pd.read_csv('/cellar/users/agross/Data/GeneSets/hugo_to_ensembl.csv')\n",
      "mapping  = mapping.dropna()\n",
      "mapping = mapping.set_index('Ensembl ID')['Approved Symbol']"
     ],
     "language": "python",
     "metadata": {},
     "outputs": [],
     "prompt_number": 172
    },
    {
     "cell_type": "code",
     "collapsed": false,
     "input": [
      "mapping = mapping.groupby(level=0).first()"
     ],
     "language": "python",
     "metadata": {},
     "outputs": [],
     "prompt_number": 173
    },
    {
     "cell_type": "code",
     "collapsed": false,
     "input": [
      "gene = mut.gene_affected.map(mapping)"
     ],
     "language": "python",
     "metadata": {},
     "outputs": [],
     "prompt_number": 174
    },
    {
     "cell_type": "code",
     "collapsed": false,
     "input": [
      "hit_mat = pd.concat([mut.icgc_donor_id, gene], axis=1).dropna()\n",
      "hit_mat = hit_mat.groupby(['icgc_donor_id', 'gene_affected']).size().unstack().fillna(0).T"
     ],
     "language": "python",
     "metadata": {},
     "outputs": [],
     "prompt_number": 175
    }
   ],
   "metadata": {}
  }
 ]
}