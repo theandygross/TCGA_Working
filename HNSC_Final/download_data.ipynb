{
 "metadata": {
  "name": ""
 },
 "nbformat": 3,
 "nbformat_minor": 0,
 "worksheets": [
  {
   "cells": [
    {
     "cell_type": "markdown",
     "metadata": {},
     "source": [
      "<h1 class=\"alert alert-info\">Initialization <small>  <i class=\"icon-download\"></i>  Download and process all of the data fom Firehose</small></h1> \n",
      "\n",
      "<h4>See https://confluence.broadinstitute.org/display/GDAC/Download for firehose_get documentation (requires wget)</h4> "
     ]
    },
    {
     "cell_type": "heading",
     "level": 1,
     "metadata": {},
     "source": [
      "Parameters"
     ]
    },
    {
     "cell_type": "markdown",
     "metadata": {},
     "source": [
      "<span class='altert alert-success' style='font-size:120%'>Change __OUT_PATH__ to directory on your machine where you want to store the data</span>"
     ]
    },
    {
     "cell_type": "code",
     "collapsed": false,
     "input": [
      "OUT_PATH = '/cellar/users/agross/HNSCC_Test/Data6'"
     ],
     "language": "python",
     "metadata": {},
     "outputs": [],
     "prompt_number": 1
    },
    {
     "cell_type": "code",
     "collapsed": false,
     "input": [
      "RUN_DATE = '2013_05_23'\n",
      "CANCER = 'HNSC'\n",
      "VERSION = 'all_2'\n",
      "DESCRIPTION = '''Testing in new file tree.'''\n",
      "\n",
      "PARAMETERS = {'min_patients' : 12,\n",
      "              'pathway_file' : '../Extra_Data/c2.cp.v3.0.symbols_edit.csv'\n",
      "              }"
     ],
     "language": "python",
     "metadata": {},
     "outputs": [],
     "prompt_number": 2
    },
    {
     "cell_type": "heading",
     "level": 1,
     "metadata": {},
     "source": [
      "Initialization"
     ]
    },
    {
     "cell_type": "code",
     "collapsed": false,
     "input": [
      "cd ../src/"
     ],
     "language": "python",
     "metadata": {},
     "outputs": [
      {
       "output_type": "stream",
       "stream": "stdout",
       "text": [
        "/cellar/users/agross/TCGA_Code/TCGA/Pathway_Merge/src\n"
       ]
      }
     ],
     "prompt_number": 3
    },
    {
     "cell_type": "code",
     "collapsed": false,
     "input": [
      "import pickle as pickle\n",
      "import pandas as pd\n",
      "import os as os \n",
      "\n",
      "from Data.Containers import Run\n",
      "\n",
      "from Data.Containers import get_run\n",
      "from Data.Containers import Cancer\n",
      "from Initialization.InitializeCN import initialize_cn\n",
      "from Initialization.InitializeReal import initialize_real\n",
      "from Initialization.InitializeMut import initialize_mut\n",
      "from Initialization.PreprocessMethylation import process_meth"
     ],
     "language": "python",
     "metadata": {},
     "outputs": [],
     "prompt_number": 4
    },
    {
     "cell_type": "code",
     "collapsed": false,
     "input": [
      "!curl http://gdac.broadinstitute.org/runs/code/firehose_get_latest.zip -o fh_get.zip\n",
      "! unzip fh_get.zip"
     ],
     "language": "python",
     "metadata": {},
     "outputs": [
      {
       "output_type": "stream",
       "stream": "stdout",
       "text": [
        "  % Total    % Received % Xferd  Average Speed   Time    Time     Time  Current\r\n",
        "                                 Dload  Upload   Total   Spent    Left  Speed\r\n",
        "\r",
        "  0     0    0     0    0     0      0      0 --:--:-- --:--:-- --:--:--     0"
       ]
      },
      {
       "output_type": "stream",
       "stream": "stdout",
       "text": [
        "\r",
        "  0     0    0     0    0     0      0      0 --:--:-- --:--:-- --:--:--     0"
       ]
      },
      {
       "output_type": "stream",
       "stream": "stdout",
       "text": [
        "\r",
        "100  6422  100  6422    0     0  25993      0 --:--:-- --:--:-- --:--:-- 26000\r\n"
       ]
      },
      {
       "output_type": "stream",
       "stream": "stdout",
       "text": [
        "Archive:  fh_get.zip\r\n",
        "  inflating: firehose_get            \r\n"
       ]
      }
     ],
     "prompt_number": 5
    },
    {
     "cell_type": "heading",
     "level": 1,
     "metadata": {},
     "source": [
      "Download data"
     ]
    },
    {
     "cell_type": "markdown",
     "metadata": {},
     "source": [
      "<span class='alert alert-warning'>Takes about 5 min to download data.</span>"
     ]
    },
    {
     "cell_type": "code",
     "collapsed": false,
     "input": [
      "!firehose_get -b analyses $RUN_DATE HNSC"
     ],
     "language": "python",
     "metadata": {},
     "outputs": [
      {
       "output_type": "stream",
       "stream": "stdout",
       "text": [
        "Validating run selection against Broad Institute website ...\r\n"
       ]
      },
      {
       "output_type": "stream",
       "stream": "stdout",
       "text": [
        "You've asked to download archives for the following disease cohorts\r\n",
        "\r\n",
        "      HNSC\r\n",
        "\r\n",
        "from the analyses__2013_05_23 Firehose run. \r\n",
        "Attempting to retrieve data for Broad GDAC run analyses__2013_05_23 ...\r\n",
        "--2013-10-02 18:47:43--  http://gdac.broadinstitute.org/runs/analyses__2013_05_23/data/HNSC/\r\n"
       ]
      },
      {
       "output_type": "stream",
       "stream": "stdout",
       "text": [
        "     0K                                                      100% 24.3M=0s\r\n"
       ]
      },
      {
       "output_type": "stream",
       "stream": "stdout",
       "text": [
        "     0K                                                      100% 94.6K=0.08s\r\n",
        "--2013-10-02 18:47:43--  http://gdac.broadinstitute.org/runs/analyses__2013_05_23/data/HNSC/20130523/\r\n"
       ]
      },
      {
       "output_type": "stream",
       "stream": "stdout",
       "text": [
        "     0K                                                        139K=0.3s\r\n",
        "--2013-10-02 18:47:44--  http://gdac.broadinstitute.org/runs/analyses__2013_05_23/data/HNSC/20130523/gdac.broadinstitute.org_HNSC-TP.Aggregate_Molecular_Subtype_Clusters.Level_4.2013052300.0.0.tar.gz\r\n"
       ]
      },
      {
       "output_type": "stream",
       "stream": "stdout",
       "text": [
        "Saving to: `analyses__2013_05_23/HNSC/20130523/gdac.broadinstitute.org_HNSC-TP.Aggregate_Molecular_Subtype_Clusters.Level_4.2013052300.0.0.tar.gz'\r\n",
        "     0K                                                      100%  255M=0s\r\n",
        "--2013-10-02 18:47:44--  http://gdac.broadinstitute.org/runs/analyses__2013_05_23/data/HNSC/20130523/gdac.broadinstitute.org_HNSC-TP.Aggregate_Molecular_Subtype_Clusters.Level_4.2013052300.0.0.tar.gz.md5\r\n"
       ]
      },
      {
       "output_type": "stream",
       "stream": "stdout",
       "text": [
        "Saving to: `analyses__2013_05_23/HNSC/20130523/gdac.broadinstitute.org_HNSC-TP.Aggregate_Molecular_Subtype_Clusters.Level_4.2013052300.0.0.tar.gz.md5'\r\n",
        "     0K                                                      100% 10.5M=0s\r\n",
        "--2013-10-02 18:47:44--  http://gdac.broadinstitute.org/runs/analyses__2013_05_23/data/HNSC/20130523/gdac.broadinstitute.org_HNSC-TP.Aggregate_Molecular_Subtype_Clusters.aux.2013052300.0.0.tar.gz\r\n"
       ]
      },
      {
       "output_type": "stream",
       "stream": "stdout",
       "text": [
        "Saving to: `analyses__2013_05_23/HNSC/20130523/gdac.broadinstitute.org_HNSC-TP.Aggregate_Molecular_Subtype_Clusters.aux.2013052300.0.0.tar.gz'\r\n",
        "     0K                                                      100%  143M=0s\r\n",
        "--2013-10-02 18:47:44--  http://gdac.broadinstitute.org/runs/analyses__2013_05_23/data/HNSC/20130523/gdac.broadinstitute.org_HNSC-TP.Aggregate_Molecular_Subtype_Clusters.aux.2013052300.0.0.tar.gz.md5\r\n"
       ]
      },
      {
       "output_type": "stream",
       "stream": "stdout",
       "text": [
        "Saving to: `analyses__2013_05_23/HNSC/20130523/gdac.broadinstitute.org_HNSC-TP.Aggregate_Molecular_Subtype_Clusters.aux.2013052300.0.0.tar.gz.md5'\r\n",
        "     0K                                                      100% 10.6M=0s\r\n",
        "--2013-10-02 18:47:44--  http://gdac.broadinstitute.org/runs/analyses__2013_05_23/data/HNSC/20130523/gdac.broadinstitute.org_HNSC-TP.Aggregate_Molecular_Subtype_Clusters.mage-tab.2013052300.0.0.tar.gz\r\n"
       ]
      },
      {
       "output_type": "stream",
       "stream": "stdout",
       "text": [
        "Saving to: `analyses__2013_05_23/HNSC/20130523/gdac.broadinstitute.org_HNSC-TP.Aggregate_Molecular_Subtype_Clusters.mage-tab.2013052300.0.0.tar.gz'\r\n",
        "     0K                                                      100%  125M=0s\r\n",
        "--2013-10-02 18:47:45--  http://gdac.broadinstitute.org/runs/analyses__2013_05_23/data/HNSC/20130523/gdac.broadinstitute.org_HNSC-TP.Aggregate_Molecular_Subtype_Clusters.mage-tab.2013052300.0.0.tar.gz.md5\r\n"
       ]
      },
      {
       "output_type": "stream",
       "stream": "stdout",
       "text": [
        "Saving to: `analyses__2013_05_23/HNSC/20130523/gdac.broadinstitute.org_HNSC-TP.Aggregate_Molecular_Subtype_Clusters.mage-tab.2013052300.0.0.tar.gz.md5'\r\n",
        "     0K                                                      100% 10.1M=0s\r\n",
        "--2013-10-02 18:47:45--  http://gdac.broadinstitute.org/runs/analyses__2013_05_23/data/HNSC/20130523/gdac.broadinstitute.org_HNSC-TP.CopyNumber_Clustering_CNMF.Level_4.2013052300.0.0.tar.gz\r\n"
       ]
      },
      {
       "output_type": "stream",
       "stream": "stdout",
       "text": [
        "Saving to: `analyses__2013_05_23/HNSC/20130523/gdac.broadinstitute.org_HNSC-TP.CopyNumber_Clustering_CNMF.Level_4.2013052300.0.0.tar.gz'\r\n"
       ]
      },
      {
       "output_type": "stream",
       "stream": "stdout",
       "text": [
        "     0K ........ ........ ..                                 100%  772K=1.5s\r\n"
       ]
      },
      {
       "output_type": "stream",
       "stream": "stdout",
       "text": [
        "--2013-10-02 18:47:46--  http://gdac.broadinstitute.org/runs/analyses__2013_05_23/data/HNSC/20130523/gdac.broadinstitute.org_HNSC-TP.CopyNumber_Clustering_CNMF.Level_4.2013052300.0.0.tar.gz.md5\r\n"
       ]
      },
      {
       "output_type": "stream",
       "stream": "stdout",
       "text": [
        "Saving to: `analyses__2013_05_23/HNSC/20130523/gdac.broadinstitute.org_HNSC-TP.CopyNumber_Clustering_CNMF.Level_4.2013052300.0.0.tar.gz.md5'\r\n",
        "     0K                                                      100% 22.5M=0s\r\n",
        "--2013-10-02 18:47:46--  http://gdac.broadinstitute.org/runs/analyses__2013_05_23/data/HNSC/20130523/gdac.broadinstitute.org_HNSC-TP.CopyNumber_Clustering_CNMF.aux.2013052300.0.0.tar.gz\r\n"
       ]
      },
      {
       "output_type": "stream",
       "stream": "stdout",
       "text": [
        "Saving to: `analyses__2013_05_23/HNSC/20130523/gdac.broadinstitute.org_HNSC-TP.CopyNumber_Clustering_CNMF.aux.2013052300.0.0.tar.gz'\r\n",
        "     0K                                                      100%  853M=0s\r\n",
        "--2013-10-02 18:47:46--  http://gdac.broadinstitute.org/runs/analyses__2013_05_23/data/HNSC/20130523/gdac.broadinstitute.org_HNSC-TP.CopyNumber_Clustering_CNMF.aux.2013052300.0.0.tar.gz.md5\r\n"
       ]
      },
      {
       "output_type": "stream",
       "stream": "stdout",
       "text": [
        "Saving to: `analyses__2013_05_23/HNSC/20130523/gdac.broadinstitute.org_HNSC-TP.CopyNumber_Clustering_CNMF.aux.2013052300.0.0.tar.gz.md5'\r\n",
        "     0K                                                      100% 23.4M=0s\r\n",
        "--2013-10-02 18:47:47--  http://gdac.broadinstitute.org/runs/analyses__2013_05_23/data/HNSC/20130523/gdac.broadinstitute.org_HNSC-TP.CopyNumber_Clustering_CNMF.mage-tab.2013052300.0.0.tar.gz\r\n"
       ]
      },
      {
       "output_type": "stream",
       "stream": "stdout",
       "text": [
        "Saving to: `analyses__2013_05_23/HNSC/20130523/gdac.broadinstitute.org_HNSC-TP.CopyNumber_Clustering_CNMF.mage-tab.2013052300.0.0.tar.gz'\r\n",
        "     0K                                                      100%  142M=0s\r\n",
        "--2013-10-02 18:47:47--  http://gdac.broadinstitute.org/runs/analyses__2013_05_23/data/HNSC/20130523/gdac.broadinstitute.org_HNSC-TP.CopyNumber_Clustering_CNMF.mage-tab.2013052300.0.0.tar.gz.md5\r\n"
       ]
      },
      {
       "output_type": "stream",
       "stream": "stdout",
       "text": [
        "Saving to: `analyses__2013_05_23/HNSC/20130523/gdac.broadinstitute.org_HNSC-TP.CopyNumber_Clustering_CNMF.mage-tab.2013052300.0.0.tar.gz.md5'\r\n",
        "     0K                                                      100% 9.99M=0s\r\n",
        "--2013-10-02 18:47:47--  http://gdac.broadinstitute.org/runs/analyses__2013_05_23/data/HNSC/20130523/gdac.broadinstitute.org_HNSC-TP.CopyNumber_Gistic2.Level_4.2013052300.0.0.tar.gz\r\n"
       ]
      },
      {
       "output_type": "stream",
       "stream": "stdout",
       "text": [
        "Saving to: `analyses__2013_05_23/HNSC/20130523/gdac.broadinstitute.org_HNSC-TP.CopyNumber_Gistic2.Level_4.2013052300.0.0.tar.gz'\r\n"
       ]
      },
      {
       "output_type": "stream",
       "stream": "stdout",
       "text": [
        "     0K ........ ........ ........ ........ ........ ........ 11% 1.03M 22s\r\n"
       ]
      },
      {
       "output_type": "stream",
       "stream": "stdout",
       "text": [
        "  3072K ........ ........ ........ ........ ........ ........ 23% 1023K 19s\r\n"
       ]
      },
      {
       "output_type": "stream",
       "stream": "stdout",
       "text": [
        "  6144K ........ ........ ........ ........ ........ ........ 35% 1.03M 16s\r\n"
       ]
      },
      {
       "output_type": "stream",
       "stream": "stdout",
       "text": [
        "  9216K ........ ........ ........ ........ ........ ........ 46% 1.03M 13s\r\n"
       ]
      },
      {
       "output_type": "stream",
       "stream": "stdout",
       "text": [
        " 12288K ........ ........ ........ ........ ........ ........ 58% 1020K 10s\r\n"
       ]
      },
      {
       "output_type": "stream",
       "stream": "stdout",
       "text": [
        " 15360K ........ ........ ........ ........ ........ ........ 70% 1019K 7s\r\n"
       ]
      },
      {
       "output_type": "stream",
       "stream": "stdout",
       "text": [
        " 18432K ........ ........ ........ ........ ........ ........ 82% 1022K 5s\r\n"
       ]
      },
      {
       "output_type": "stream",
       "stream": "stdout",
       "text": [
        " 21504K ........ ........ ........ ........ ........ ........ 93% 1023K 2s\r\n"
       ]
      },
      {
       "output_type": "stream",
       "stream": "stdout",
       "text": [
        " 24576K ........ ........ ........                           100%  977K=25s\r\n"
       ]
      },
      {
       "output_type": "stream",
       "stream": "stdout",
       "text": [
        "--2013-10-02 18:48:12--  http://gdac.broadinstitute.org/runs/analyses__2013_05_23/data/HNSC/20130523/gdac.broadinstitute.org_HNSC-TP.CopyNumber_Gistic2.Level_4.2013052300.0.0.tar.gz.md5\r\n"
       ]
      },
      {
       "output_type": "stream",
       "stream": "stdout",
       "text": [
        "Saving to: `analyses__2013_05_23/HNSC/20130523/gdac.broadinstitute.org_HNSC-TP.CopyNumber_Gistic2.Level_4.2013052300.0.0.tar.gz.md5'\r\n",
        "     0K                                                      100% 9.08M=0s\r\n",
        "--2013-10-02 18:48:13--  http://gdac.broadinstitute.org/runs/analyses__2013_05_23/data/HNSC/20130523/gdac.broadinstitute.org_HNSC-TP.CopyNumber_Gistic2.aux.2013052300.0.0.tar.gz\r\n"
       ]
      },
      {
       "output_type": "stream",
       "stream": "stdout",
       "text": [
        "Saving to: `analyses__2013_05_23/HNSC/20130523/gdac.broadinstitute.org_HNSC-TP.CopyNumber_Gistic2.aux.2013052300.0.0.tar.gz'\r\n"
       ]
      },
      {
       "output_type": "stream",
       "stream": "stdout",
       "text": [
        "     0K ........ ........ ........ ........ ........ ........  6%  996K 43s\r\n"
       ]
      },
      {
       "output_type": "stream",
       "stream": "stdout",
       "text": [
        "  3072K ........ ........ ........ ........ ........ ........ 13% 1.02M 39s\r\n"
       ]
      },
      {
       "output_type": "stream",
       "stream": "stdout",
       "text": [
        "  6144K ........ ........ ........ ........ ........ ........ 20% 1.03M 35s\r\n"
       ]
      },
      {
       "output_type": "stream",
       "stream": "stdout",
       "text": [
        "  9216K ........ ........ ........ ........ ........ ........ 26% 1023K 33s\r\n"
       ]
      },
      {
       "output_type": "stream",
       "stream": "stdout",
       "text": [
        " 12288K ........ ........ ........ ........ ........ ........ 33% 1022K 30s\r\n"
       ]
      },
      {
       "output_type": "stream",
       "stream": "stdout",
       "text": [
        " 15360K ........ ........ ........ ........ ........ ........ 40% 1.03M 27s\r\n"
       ]
      },
      {
       "output_type": "stream",
       "stream": "stdout",
       "text": [
        " 18432K ........ ........ ........ ........ ........ ........ 46% 1023K 24s\r\n"
       ]
      },
      {
       "output_type": "stream",
       "stream": "stdout",
       "text": [
        " 21504K ........ ........ ........ ........ ........ ........ 53% 1.03M 21s\r\n"
       ]
      },
      {
       "output_type": "stream",
       "stream": "stdout",
       "text": [
        " 24576K ........ ........ ........ ........ ........ ........ 60% 1.03M 18s\r\n"
       ]
      },
      {
       "output_type": "stream",
       "stream": "stdout",
       "text": [
        " 27648K ........ ........ ........ ........ ........ ........ 67% 1.03M 15s\r\n"
       ]
      },
      {
       "output_type": "stream",
       "stream": "stdout",
       "text": [
        " 30720K ........ ........ ........ ........ ........ ........ 73%  977K 12s\r\n"
       ]
      },
      {
       "output_type": "stream",
       "stream": "stdout",
       "text": [
        " 33792K ........ ........ ........ ........ ........ ........ 80% 1.06M 9s\r\n"
       ]
      },
      {
       "output_type": "stream",
       "stream": "stdout",
       "text": [
        " 36864K ........ ........ ........ ........ ........ ........ 87% 1023K 6s\r\n"
       ]
      },
      {
       "output_type": "stream",
       "stream": "stdout",
       "text": [
        " 39936K ........ ........ ........ ........ ........ ........ 93% 1.03M 3s\r\n"
       ]
      },
      {
       "output_type": "stream",
       "stream": "stdout",
       "text": [
        " 43008K ........ ........ ........ ........ ........ ...     100% 1019K=44s\r\n"
       ]
      },
      {
       "output_type": "stream",
       "stream": "stdout",
       "text": [
        "--2013-10-02 18:48:57--  http://gdac.broadinstitute.org/runs/analyses__2013_05_23/data/HNSC/20130523/gdac.broadinstitute.org_HNSC-TP.CopyNumber_Gistic2.aux.2013052300.0.0.tar.gz.md5\r\n"
       ]
      },
      {
       "output_type": "stream",
       "stream": "stdout",
       "text": [
        "Saving to: `analyses__2013_05_23/HNSC/20130523/gdac.broadinstitute.org_HNSC-TP.CopyNumber_Gistic2.aux.2013052300.0.0.tar.gz.md5'\r\n",
        "     0K                                                      100% 5.98M=0s\r\n",
        "--2013-10-02 18:48:57--  http://gdac.broadinstitute.org/runs/analyses__2013_05_23/data/HNSC/20130523/gdac.broadinstitute.org_HNSC-TP.CopyNumber_Gistic2.mage-tab.2013052300.0.0.tar.gz\r\n"
       ]
      },
      {
       "output_type": "stream",
       "stream": "stdout",
       "text": [
        "Saving to: `analyses__2013_05_23/HNSC/20130523/gdac.broadinstitute.org_HNSC-TP.CopyNumber_Gistic2.mage-tab.2013052300.0.0.tar.gz'\r\n",
        "     0K                                                      100%  230M=0s\r\n",
        "--2013-10-02 18:48:57--  http://gdac.broadinstitute.org/runs/analyses__2013_05_23/data/HNSC/20130523/gdac.broadinstitute.org_HNSC-TP.CopyNumber_Gistic2.mage-tab.2013052300.0.0.tar.gz.md5\r\n"
       ]
      },
      {
       "output_type": "stream",
       "stream": "stdout",
       "text": [
        "Saving to: `analyses__2013_05_23/HNSC/20130523/gdac.broadinstitute.org_HNSC-TP.CopyNumber_Gistic2.mage-tab.2013052300.0.0.tar.gz.md5'\r\n",
        "     0K                                                      100% 4.19M=0s\r\n",
        "--2013-10-02 18:48:57--  http://gdac.broadinstitute.org/runs/analyses__2013_05_23/data/HNSC/20130523/gdac.broadinstitute.org_HNSC-TP.Correlate_Clinical_vs_CopyNumber_Arm.Level_4.2013052300.0.0.tar.gz\r\n"
       ]
      },
      {
       "output_type": "stream",
       "stream": "stdout",
       "text": [
        "Saving to: `analyses__2013_05_23/HNSC/20130523/gdac.broadinstitute.org_HNSC-TP.Correlate_Clinical_vs_CopyNumber_Arm.Level_4.2013052300.0.0.tar.gz'\r\n"
       ]
      },
      {
       "output_type": "stream",
       "stream": "stdout",
       "text": [
        "     0K .                                                    100% 1.12M=0.08s\r\n"
       ]
      },
      {
       "output_type": "stream",
       "stream": "stdout",
       "text": [
        "--2013-10-02 18:48:57--  http://gdac.broadinstitute.org/runs/analyses__2013_05_23/data/HNSC/20130523/gdac.broadinstitute.org_HNSC-TP.Correlate_Clinical_vs_CopyNumber_Arm.Level_4.2013052300.0.0.tar.gz.md5\r\n"
       ]
      },
      {
       "output_type": "stream",
       "stream": "stdout",
       "text": [
        "Saving to: `analyses__2013_05_23/HNSC/20130523/gdac.broadinstitute.org_HNSC-TP.Correlate_Clinical_vs_CopyNumber_Arm.Level_4.2013052300.0.0.tar.gz.md5'\r\n",
        "     0K                                                      100% 10.5M=0s\r\n",
        "--2013-10-02 18:48:58--  http://gdac.broadinstitute.org/runs/analyses__2013_05_23/data/HNSC/20130523/gdac.broadinstitute.org_HNSC-TP.Correlate_Clinical_vs_CopyNumber_Arm.aux.2013052300.0.0.tar.gz\r\n"
       ]
      },
      {
       "output_type": "stream",
       "stream": "stdout",
       "text": [
        "Saving to: `analyses__2013_05_23/HNSC/20130523/gdac.broadinstitute.org_HNSC-TP.Correlate_Clinical_vs_CopyNumber_Arm.aux.2013052300.0.0.tar.gz'\r\n"
       ]
      },
      {
       "output_type": "stream",
       "stream": "stdout",
       "text": [
        "     0K .......                                              100% 1.16M=0.4s\r\n",
        "--2013-10-02 18:48:58--  http://gdac.broadinstitute.org/runs/analyses__2013_05_23/data/HNSC/20130523/gdac.broadinstitute.org_HNSC-TP.Correlate_Clinical_vs_CopyNumber_Arm.aux.2013052300.0.0.tar.gz.md5\r\n"
       ]
      },
      {
       "output_type": "stream",
       "stream": "stdout",
       "text": [
        "Saving to: `analyses__2013_05_23/HNSC/20130523/gdac.broadinstitute.org_HNSC-TP.Correlate_Clinical_vs_CopyNumber_Arm.aux.2013052300.0.0.tar.gz.md5'\r\n",
        "     0K                                                      100% 10.3M=0s\r\n",
        "--2013-10-02 18:48:58--  http://gdac.broadinstitute.org/runs/analyses__2013_05_23/data/HNSC/20130523/gdac.broadinstitute.org_HNSC-TP.Correlate_Clinical_vs_CopyNumber_Arm.mage-tab.2013052300.0.0.tar.gz\r\n"
       ]
      },
      {
       "output_type": "stream",
       "stream": "stdout",
       "text": [
        "Saving to: `analyses__2013_05_23/HNSC/20130523/gdac.broadinstitute.org_HNSC-TP.Correlate_Clinical_vs_CopyNumber_Arm.mage-tab.2013052300.0.0.tar.gz'\r\n",
        "     0K                                                      100%  136M=0s\r\n"
       ]
      },
      {
       "output_type": "stream",
       "stream": "stdout",
       "text": [
        "--2013-10-02 18:48:58--  http://gdac.broadinstitute.org/runs/analyses__2013_05_23/data/HNSC/20130523/gdac.broadinstitute.org_HNSC-TP.Correlate_Clinical_vs_CopyNumber_Arm.mage-tab.2013052300.0.0.tar.gz.md5\r\n"
       ]
      },
      {
       "output_type": "stream",
       "stream": "stdout",
       "text": [
        "Saving to: `analyses__2013_05_23/HNSC/20130523/gdac.broadinstitute.org_HNSC-TP.Correlate_Clinical_vs_CopyNumber_Arm.mage-tab.2013052300.0.0.tar.gz.md5'\r\n",
        "     0K                                                      100% 23.6M=0s\r\n",
        "--2013-10-02 18:48:58--  http://gdac.broadinstitute.org/runs/analyses__2013_05_23/data/HNSC/20130523/gdac.broadinstitute.org_HNSC-TP.Correlate_Clinical_vs_CopyNumber_Focal.Level_4.2013052300.0.0.tar.gz\r\n"
       ]
      },
      {
       "output_type": "stream",
       "stream": "stdout",
       "text": [
        "Saving to: `analyses__2013_05_23/HNSC/20130523/gdac.broadinstitute.org_HNSC-TP.Correlate_Clinical_vs_CopyNumber_Focal.Level_4.2013052300.0.0.tar.gz'\r\n"
       ]
      },
      {
       "output_type": "stream",
       "stream": "stdout",
       "text": [
        "     0K .                                                    100% 1.36M=0.08s\r\n"
       ]
      },
      {
       "output_type": "stream",
       "stream": "stdout",
       "text": [
        "--2013-10-02 18:48:58--  http://gdac.broadinstitute.org/runs/analyses__2013_05_23/data/HNSC/20130523/gdac.broadinstitute.org_HNSC-TP.Correlate_Clinical_vs_CopyNumber_Focal.Level_4.2013052300.0.0.tar.gz.md5\r\n"
       ]
      },
      {
       "output_type": "stream",
       "stream": "stdout",
       "text": [
        "Saving to: `analyses__2013_05_23/HNSC/20130523/gdac.broadinstitute.org_HNSC-TP.Correlate_Clinical_vs_CopyNumber_Focal.Level_4.2013052300.0.0.tar.gz.md5'\r\n",
        "     0K                                                      100% 26.9M=0s\r\n",
        "--2013-10-02 18:48:59--  http://gdac.broadinstitute.org/runs/analyses__2013_05_23/data/HNSC/20130523/gdac.broadinstitute.org_HNSC-TP.Correlate_Clinical_vs_CopyNumber_Focal.aux.2013052300.0.0.tar.gz\r\n"
       ]
      },
      {
       "output_type": "stream",
       "stream": "stdout",
       "text": [
        "Saving to: `analyses__2013_05_23/HNSC/20130523/gdac.broadinstitute.org_HNSC-TP.Correlate_Clinical_vs_CopyNumber_Focal.aux.2013052300.0.0.tar.gz'\r\n"
       ]
      },
      {
       "output_type": "stream",
       "stream": "stdout",
       "text": [
        "     0K ........                                             100% 1.04M=0.5s\r\n",
        "--2013-10-02 18:48:59--  http://gdac.broadinstitute.org/runs/analyses__2013_05_23/data/HNSC/20130523/gdac.broadinstitute.org_HNSC-TP.Correlate_Clinical_vs_CopyNumber_Focal.aux.2013052300.0.0.tar.gz.md5\r\n"
       ]
      },
      {
       "output_type": "stream",
       "stream": "stdout",
       "text": [
        "Saving to: `analyses__2013_05_23/HNSC/20130523/gdac.broadinstitute.org_HNSC-TP.Correlate_Clinical_vs_CopyNumber_Focal.aux.2013052300.0.0.tar.gz.md5'\r\n",
        "     0K                                                      100% 11.5M=0s\r\n",
        "--2013-10-02 18:48:59--  http://gdac.broadinstitute.org/runs/analyses__2013_05_23/data/HNSC/20130523/gdac.broadinstitute.org_HNSC-TP.Correlate_Clinical_vs_CopyNumber_Focal.mage-tab.2013052300.0.0.tar.gz\r\n"
       ]
      },
      {
       "output_type": "stream",
       "stream": "stdout",
       "text": [
        "Saving to: `analyses__2013_05_23/HNSC/20130523/gdac.broadinstitute.org_HNSC-TP.Correlate_Clinical_vs_CopyNumber_Focal.mage-tab.2013052300.0.0.tar.gz'\r\n",
        "     0K                                                      100%  137M=0s\r\n",
        "--2013-10-02 18:48:59--  http://gdac.broadinstitute.org/runs/analyses__2013_05_23/data/HNSC/20130523/gdac.broadinstitute.org_HNSC-TP.Correlate_Clinical_vs_CopyNumber_Focal.mage-tab.2013052300.0.0.tar.gz.md5\r\n"
       ]
      },
      {
       "output_type": "stream",
       "stream": "stdout",
       "text": [
        "Saving to: `analyses__2013_05_23/HNSC/20130523/gdac.broadinstitute.org_HNSC-TP.Correlate_Clinical_vs_CopyNumber_Focal.mage-tab.2013052300.0.0.tar.gz.md5'\r\n",
        "     0K                                                      100% 10.5M=0s\r\n",
        "--2013-10-02 18:48:59--  http://gdac.broadinstitute.org/runs/analyses__2013_05_23/data/HNSC/20130523/gdac.broadinstitute.org_HNSC-TP.Correlate_Clinical_vs_Methylation.Level_4.2013052300.0.0.tar.gz\r\n"
       ]
      },
      {
       "output_type": "stream",
       "stream": "stdout",
       "text": [
        "Saving to: `analyses__2013_05_23/HNSC/20130523/gdac.broadinstitute.org_HNSC-TP.Correlate_Clinical_vs_Methylation.Level_4.2013052300.0.0.tar.gz'\r\n"
       ]
      },
      {
       "output_type": "stream",
       "stream": "stdout",
       "text": [
        "     0K ........ ........ ........                           100% 1023K=1.5s\r\n",
        "--2013-10-02 18:49:01--  http://gdac.broadinstitute.org/runs/analyses__2013_05_23/data/HNSC/20130523/gdac.broadinstitute.org_HNSC-TP.Correlate_Clinical_vs_Methylation.Level_4.2013052300.0.0.tar.gz.md5\r\n"
       ]
      },
      {
       "output_type": "stream",
       "stream": "stdout",
       "text": [
        "Saving to: `analyses__2013_05_23/HNSC/20130523/gdac.broadinstitute.org_HNSC-TP.Correlate_Clinical_vs_Methylation.Level_4.2013052300.0.0.tar.gz.md5'\r\n",
        "     0K                                                      100% 11.0M=0s\r\n",
        "--2013-10-02 18:49:01--  http://gdac.broadinstitute.org/runs/analyses__2013_05_23/data/HNSC/20130523/gdac.broadinstitute.org_HNSC-TP.Correlate_Clinical_vs_Methylation.aux.2013052300.0.0.tar.gz\r\n"
       ]
      },
      {
       "output_type": "stream",
       "stream": "stdout",
       "text": [
        "Saving to: `analyses__2013_05_23/HNSC/20130523/gdac.broadinstitute.org_HNSC-TP.Correlate_Clinical_vs_Methylation.aux.2013052300.0.0.tar.gz'\r\n",
        "     0K                                                      100%  149M=0s\r\n",
        "--2013-10-02 18:49:01--  http://gdac.broadinstitute.org/runs/analyses__2013_05_23/data/HNSC/20130523/gdac.broadinstitute.org_HNSC-TP.Correlate_Clinical_vs_Methylation.aux.2013052300.0.0.tar.gz.md5\r\n"
       ]
      },
      {
       "output_type": "stream",
       "stream": "stdout",
       "text": [
        "Saving to: `analyses__2013_05_23/HNSC/20130523/gdac.broadinstitute.org_HNSC-TP.Correlate_Clinical_vs_Methylation.aux.2013052300.0.0.tar.gz.md5'\r\n",
        "     0K                                                      100% 22.7M=0s\r\n",
        "--2013-10-02 18:49:01--  http://gdac.broadinstitute.org/runs/analyses__2013_05_23/data/HNSC/20130523/gdac.broadinstitute.org_HNSC-TP.Correlate_Clinical_vs_Methylation.mage-tab.2013052300.0.0.tar.gz\r\n"
       ]
      },
      {
       "output_type": "stream",
       "stream": "stdout",
       "text": [
        "Saving to: `analyses__2013_05_23/HNSC/20130523/gdac.broadinstitute.org_HNSC-TP.Correlate_Clinical_vs_Methylation.mage-tab.2013052300.0.0.tar.gz'\r\n",
        "     0K                                                      100%  318M=0s\r\n",
        "--2013-10-02 18:49:01--  http://gdac.broadinstitute.org/runs/analyses__2013_05_23/data/HNSC/20130523/gdac.broadinstitute.org_HNSC-TP.Correlate_Clinical_vs_Methylation.mage-tab.2013052300.0.0.tar.gz.md5\r\n"
       ]
      },
      {
       "output_type": "stream",
       "stream": "stdout",
       "text": [
        "Saving to: `analyses__2013_05_23/HNSC/20130523/gdac.broadinstitute.org_HNSC-TP.Correlate_Clinical_vs_Methylation.mage-tab.2013052300.0.0.tar.gz.md5'\r\n",
        "     0K                                                      100% 24.9M=0s\r\n",
        "--2013-10-02 18:49:01--  http://gdac.broadinstitute.org/runs/analyses__2013_05_23/data/HNSC/20130523/gdac.broadinstitute.org_HNSC-TP.Correlate_Clinical_vs_Molecular_Subtypes.Level_4.2013052300.0.0.tar.gz\r\n"
       ]
      },
      {
       "output_type": "stream",
       "stream": "stdout",
       "text": [
        "Saving to: `analyses__2013_05_23/HNSC/20130523/gdac.broadinstitute.org_HNSC-TP.Correlate_Clinical_vs_Molecular_Subtypes.Level_4.2013052300.0.0.tar.gz'\r\n"
       ]
      },
      {
       "output_type": "stream",
       "stream": "stdout",
       "text": [
        "     0K ........ ........ .....                              100% 1.04M=1.3s\r\n"
       ]
      },
      {
       "output_type": "stream",
       "stream": "stdout",
       "text": [
        "--2013-10-02 18:49:03--  http://gdac.broadinstitute.org/runs/analyses__2013_05_23/data/HNSC/20130523/gdac.broadinstitute.org_HNSC-TP.Correlate_Clinical_vs_Molecular_Subtypes.Level_4.2013052300.0.0.tar.gz.md5\r\n"
       ]
      },
      {
       "output_type": "stream",
       "stream": "stdout",
       "text": [
        "Saving to: `analyses__2013_05_23/HNSC/20130523/gdac.broadinstitute.org_HNSC-TP.Correlate_Clinical_vs_Molecular_Subtypes.Level_4.2013052300.0.0.tar.gz.md5'\r\n"
       ]
      },
      {
       "output_type": "stream",
       "stream": "stdout",
       "text": [
        "     0K                                                      100% 11.5M=0s\r\n",
        "--2013-10-02 18:49:03--  http://gdac.broadinstitute.org/runs/analyses__2013_05_23/data/HNSC/20130523/gdac.broadinstitute.org_HNSC-TP.Correlate_Clinical_vs_Molecular_Subtypes.aux.2013052300.0.0.tar.gz\r\n"
       ]
      },
      {
       "output_type": "stream",
       "stream": "stdout",
       "text": [
        "Saving to: `analyses__2013_05_23/HNSC/20130523/gdac.broadinstitute.org_HNSC-TP.Correlate_Clinical_vs_Molecular_Subtypes.aux.2013052300.0.0.tar.gz'\r\n",
        "     0K                                                      100%  281M=0s\r\n",
        "--2013-10-02 18:49:03--  http://gdac.broadinstitute.org/runs/analyses__2013_05_23/data/HNSC/20130523/gdac.broadinstitute.org_HNSC-TP.Correlate_Clinical_vs_Molecular_Subtypes.aux.2013052300.0.0.tar.gz.md5\r\n"
       ]
      },
      {
       "output_type": "stream",
       "stream": "stdout",
       "text": [
        "Saving to: `analyses__2013_05_23/HNSC/20130523/gdac.broadinstitute.org_HNSC-TP.Correlate_Clinical_vs_Molecular_Subtypes.aux.2013052300.0.0.tar.gz.md5'\r\n",
        "     0K                                                      100% 10.1M=0s\r\n",
        "--2013-10-02 18:49:03--  http://gdac.broadinstitute.org/runs/analyses__2013_05_23/data/HNSC/20130523/gdac.broadinstitute.org_HNSC-TP.Correlate_Clinical_vs_Molecular_Subtypes.mage-tab.2013052300.0.0.tar.gz\r\n"
       ]
      },
      {
       "output_type": "stream",
       "stream": "stdout",
       "text": [
        "Saving to: `analyses__2013_05_23/HNSC/20130523/gdac.broadinstitute.org_HNSC-TP.Correlate_Clinical_vs_Molecular_Subtypes.mage-tab.2013052300.0.0.tar.gz'\r\n",
        "     0K                                                      100%  252M=0s\r\n",
        "--2013-10-02 18:49:03--  http://gdac.broadinstitute.org/runs/analyses__2013_05_23/data/HNSC/20130523/gdac.broadinstitute.org_HNSC-TP.Correlate_Clinical_vs_Molecular_Subtypes.mage-tab.2013052300.0.0.tar.gz.md5\r\n"
       ]
      },
      {
       "output_type": "stream",
       "stream": "stdout",
       "text": [
        "Saving to: `analyses__2013_05_23/HNSC/20130523/gdac.broadinstitute.org_HNSC-TP.Correlate_Clinical_vs_Molecular_Subtypes.mage-tab.2013052300.0.0.tar.gz.md5'\r\n",
        "     0K                                                      100% 11.5M=0s\r\n",
        "--2013-10-02 18:49:03--  http://gdac.broadinstitute.org/runs/analyses__2013_05_23/data/HNSC/20130523/gdac.broadinstitute.org_HNSC-TP.Correlate_Clinical_vs_Mutation.Level_4.2013052300.0.0.tar.gz\r\n"
       ]
      },
      {
       "output_type": "stream",
       "stream": "stdout",
       "text": [
        "Saving to: `analyses__2013_05_23/HNSC/20130523/gdac.broadinstitute.org_HNSC-TP.Correlate_Clinical_vs_Mutation.Level_4.2013052300.0.0.tar.gz'\r\n"
       ]
      },
      {
       "output_type": "stream",
       "stream": "stdout",
       "text": [
        "     0K .                                                    100% 1.47M=0.08s\r\n",
        "--2013-10-02 18:49:03--  http://gdac.broadinstitute.org/runs/analyses__2013_05_23/data/HNSC/20130523/gdac.broadinstitute.org_HNSC-TP.Correlate_Clinical_vs_Mutation.Level_4.2013052300.0.0.tar.gz.md5\r\n"
       ]
      },
      {
       "output_type": "stream",
       "stream": "stdout",
       "text": [
        "Saving to: `analyses__2013_05_23/HNSC/20130523/gdac.broadinstitute.org_HNSC-TP.Correlate_Clinical_vs_Mutation.Level_4.2013052300.0.0.tar.gz.md5'\r\n",
        "     0K                                                      100% 10.8M=0s\r\n",
        "--2013-10-02 18:49:04--  http://gdac.broadinstitute.org/runs/analyses__2013_05_23/data/HNSC/20130523/gdac.broadinstitute.org_HNSC-TP.Correlate_Clinical_vs_Mutation.aux.2013052300.0.0.tar.gz\r\n"
       ]
      },
      {
       "output_type": "stream",
       "stream": "stdout",
       "text": [
        "Saving to: `analyses__2013_05_23/HNSC/20130523/gdac.broadinstitute.org_HNSC-TP.Correlate_Clinical_vs_Mutation.aux.2013052300.0.0.tar.gz'\r\n"
       ]
      },
      {
       "output_type": "stream",
       "stream": "stdout",
       "text": [
        "     0K ....                                                 100% 1.08M=0.2s\r\n",
        "--2013-10-02 18:49:04--  http://gdac.broadinstitute.org/runs/analyses__2013_05_23/data/HNSC/20130523/gdac.broadinstitute.org_HNSC-TP.Correlate_Clinical_vs_Mutation.aux.2013052300.0.0.tar.gz.md5\r\n"
       ]
      },
      {
       "output_type": "stream",
       "stream": "stdout",
       "text": [
        "Saving to: `analyses__2013_05_23/HNSC/20130523/gdac.broadinstitute.org_HNSC-TP.Correlate_Clinical_vs_Mutation.aux.2013052300.0.0.tar.gz.md5'\r\n",
        "     0K                                                      100% 10.6M=0s\r\n",
        "--2013-10-02 18:49:04--  http://gdac.broadinstitute.org/runs/analyses__2013_05_23/data/HNSC/20130523/gdac.broadinstitute.org_HNSC-TP.Correlate_Clinical_vs_Mutation.mage-tab.2013052300.0.0.tar.gz\r\n"
       ]
      },
      {
       "output_type": "stream",
       "stream": "stdout",
       "text": [
        "Saving to: `analyses__2013_05_23/HNSC/20130523/gdac.broadinstitute.org_HNSC-TP.Correlate_Clinical_vs_Mutation.mage-tab.2013052300.0.0.tar.gz'\r\n",
        "     0K                                                      100%  136M=0s\r\n",
        "--2013-10-02 18:49:04--  http://gdac.broadinstitute.org/runs/analyses__2013_05_23/data/HNSC/20130523/gdac.broadinstitute.org_HNSC-TP.Correlate_Clinical_vs_Mutation.mage-tab.2013052300.0.0.tar.gz.md5\r\n"
       ]
      },
      {
       "output_type": "stream",
       "stream": "stdout",
       "text": [
        "Saving to: `analyses__2013_05_23/HNSC/20130523/gdac.broadinstitute.org_HNSC-TP.Correlate_Clinical_vs_Mutation.mage-tab.2013052300.0.0.tar.gz.md5'\r\n",
        "     0K                                                      100% 10.9M=0s\r\n",
        "--2013-10-02 18:49:04--  http://gdac.broadinstitute.org/runs/analyses__2013_05_23/data/HNSC/20130523/gdac.broadinstitute.org_HNSC-TP.Correlate_Clinical_vs_RPPA.Level_4.2013052300.0.0.tar.gz\r\n"
       ]
      },
      {
       "output_type": "stream",
       "stream": "stdout",
       "text": [
        "Saving to: `analyses__2013_05_23/HNSC/20130523/gdac.broadinstitute.org_HNSC-TP.Correlate_Clinical_vs_RPPA.Level_4.2013052300.0.0.tar.gz'\r\n"
       ]
      },
      {
       "output_type": "stream",
       "stream": "stdout",
       "text": [
        "     0K ..                                                   100% 1.16M=0.2s\r\n",
        "--2013-10-02 18:49:04--  http://gdac.broadinstitute.org/runs/analyses__2013_05_23/data/HNSC/20130523/gdac.broadinstitute.org_HNSC-TP.Correlate_Clinical_vs_RPPA.Level_4.2013052300.0.0.tar.gz.md5\r\n"
       ]
      },
      {
       "output_type": "stream",
       "stream": "stdout",
       "text": [
        "Saving to: `analyses__2013_05_23/HNSC/20130523/gdac.broadinstitute.org_HNSC-TP.Correlate_Clinical_vs_RPPA.Level_4.2013052300.0.0.tar.gz.md5'\r\n",
        "     0K                                                      100% 21.9M=0s\r\n",
        "--2013-10-02 18:49:05--  http://gdac.broadinstitute.org/runs/analyses__2013_05_23/data/HNSC/20130523/gdac.broadinstitute.org_HNSC-TP.Correlate_Clinical_vs_RPPA.aux.2013052300.0.0.tar.gz\r\n"
       ]
      },
      {
       "output_type": "stream",
       "stream": "stdout",
       "text": [
        "Saving to: `analyses__2013_05_23/HNSC/20130523/gdac.broadinstitute.org_HNSC-TP.Correlate_Clinical_vs_RPPA.aux.2013052300.0.0.tar.gz'\r\n",
        "     0K                                                      100%  111M=0s\r\n",
        "--2013-10-02 18:49:05--  http://gdac.broadinstitute.org/runs/analyses__2013_05_23/data/HNSC/20130523/gdac.broadinstitute.org_HNSC-TP.Correlate_Clinical_vs_RPPA.aux.2013052300.0.0.tar.gz.md5\r\n"
       ]
      },
      {
       "output_type": "stream",
       "stream": "stdout",
       "text": [
        "Saving to: `analyses__2013_05_23/HNSC/20130523/gdac.broadinstitute.org_HNSC-TP.Correlate_Clinical_vs_RPPA.aux.2013052300.0.0.tar.gz.md5'\r\n",
        "     0K                                                      100% 9.09M=0s\r\n",
        "--2013-10-02 18:49:05--  http://gdac.broadinstitute.org/runs/analyses__2013_05_23/data/HNSC/20130523/gdac.broadinstitute.org_HNSC-TP.Correlate_Clinical_vs_RPPA.mage-tab.2013052300.0.0.tar.gz\r\n"
       ]
      },
      {
       "output_type": "stream",
       "stream": "stdout",
       "text": [
        "Saving to: `analyses__2013_05_23/HNSC/20130523/gdac.broadinstitute.org_HNSC-TP.Correlate_Clinical_vs_RPPA.mage-tab.2013052300.0.0.tar.gz'\r\n",
        "     0K                                                      100%  131M=0s\r\n",
        "--2013-10-02 18:49:05--  http://gdac.broadinstitute.org/runs/analyses__2013_05_23/data/HNSC/20130523/gdac.broadinstitute.org_HNSC-TP.Correlate_Clinical_vs_RPPA.mage-tab.2013052300.0.0.tar.gz.md5\r\n"
       ]
      },
      {
       "output_type": "stream",
       "stream": "stdout",
       "text": [
        "Saving to: `analyses__2013_05_23/HNSC/20130523/gdac.broadinstitute.org_HNSC-TP.Correlate_Clinical_vs_RPPA.mage-tab.2013052300.0.0.tar.gz.md5'\r\n",
        "     0K                                                      100% 10.3M=0s\r\n",
        "--2013-10-02 18:49:05--  http://gdac.broadinstitute.org/runs/analyses__2013_05_23/data/HNSC/20130523/gdac.broadinstitute.org_HNSC-TP.Correlate_Clinical_vs_mRNAseq.Level_4.2013052300.0.0.tar.gz\r\n"
       ]
      },
      {
       "output_type": "stream",
       "stream": "stdout",
       "text": [
        "Saving to: `analyses__2013_05_23/HNSC/20130523/gdac.broadinstitute.org_HNSC-TP.Correlate_Clinical_vs_mRNAseq.Level_4.2013052300.0.0.tar.gz'\r\n"
       ]
      },
      {
       "output_type": "stream",
       "stream": "stdout",
       "text": [
        "     0K ........ ........ ........                           100% 1.03M=1.5s\r\n"
       ]
      },
      {
       "output_type": "stream",
       "stream": "stdout",
       "text": [
        "--2013-10-02 18:49:06--  http://gdac.broadinstitute.org/runs/analyses__2013_05_23/data/HNSC/20130523/gdac.broadinstitute.org_HNSC-TP.Correlate_Clinical_vs_mRNAseq.Level_4.2013052300.0.0.tar.gz.md5\r\n"
       ]
      },
      {
       "output_type": "stream",
       "stream": "stdout",
       "text": [
        "Saving to: `analyses__2013_05_23/HNSC/20130523/gdac.broadinstitute.org_HNSC-TP.Correlate_Clinical_vs_mRNAseq.Level_4.2013052300.0.0.tar.gz.md5'\r\n",
        "     0K                                                      100% 24.4M=0s\r\n",
        "--2013-10-02 18:49:07--  http://gdac.broadinstitute.org/runs/analyses__2013_05_23/data/HNSC/20130523/gdac.broadinstitute.org_HNSC-TP.Correlate_Clinical_vs_mRNAseq.aux.2013052300.0.0.tar.gz\r\n"
       ]
      },
      {
       "output_type": "stream",
       "stream": "stdout",
       "text": [
        "Saving to: `analyses__2013_05_23/HNSC/20130523/gdac.broadinstitute.org_HNSC-TP.Correlate_Clinical_vs_mRNAseq.aux.2013052300.0.0.tar.gz'\r\n",
        "     0K                                                      100%  125M=0s\r\n",
        "--2013-10-02 18:49:07--  http://gdac.broadinstitute.org/runs/analyses__2013_05_23/data/HNSC/20130523/gdac.broadinstitute.org_HNSC-TP.Correlate_Clinical_vs_mRNAseq.aux.2013052300.0.0.tar.gz.md5\r\n"
       ]
      },
      {
       "output_type": "stream",
       "stream": "stdout",
       "text": [
        "Saving to: `analyses__2013_05_23/HNSC/20130523/gdac.broadinstitute.org_HNSC-TP.Correlate_Clinical_vs_mRNAseq.aux.2013052300.0.0.tar.gz.md5'\r\n",
        "     0K                                                      100% 9.43M=0s\r\n",
        "--2013-10-02 18:49:07--  http://gdac.broadinstitute.org/runs/analyses__2013_05_23/data/HNSC/20130523/gdac.broadinstitute.org_HNSC-TP.Correlate_Clinical_vs_mRNAseq.mage-tab.2013052300.0.0.tar.gz\r\n"
       ]
      },
      {
       "output_type": "stream",
       "stream": "stdout",
       "text": [
        "Saving to: `analyses__2013_05_23/HNSC/20130523/gdac.broadinstitute.org_HNSC-TP.Correlate_Clinical_vs_mRNAseq.mage-tab.2013052300.0.0.tar.gz'\r\n",
        "     0K                                                      100%  131M=0s\r\n",
        "--2013-10-02 18:49:07--  http://gdac.broadinstitute.org/runs/analyses__2013_05_23/data/HNSC/20130523/gdac.broadinstitute.org_HNSC-TP.Correlate_Clinical_vs_mRNAseq.mage-tab.2013052300.0.0.tar.gz.md5\r\n"
       ]
      },
      {
       "output_type": "stream",
       "stream": "stdout",
       "text": [
        "Saving to: `analyses__2013_05_23/HNSC/20130523/gdac.broadinstitute.org_HNSC-TP.Correlate_Clinical_vs_mRNAseq.mage-tab.2013052300.0.0.tar.gz.md5'\r\n",
        "     0K                                                      100% 10.1M=0s\r\n",
        "--2013-10-02 18:49:07--  http://gdac.broadinstitute.org/runs/analyses__2013_05_23/data/HNSC/20130523/gdac.broadinstitute.org_HNSC-TP.Correlate_Clinical_vs_miRseq.Level_4.2013052300.0.0.tar.gz\r\n"
       ]
      },
      {
       "output_type": "stream",
       "stream": "stdout",
       "text": [
        "Saving to: `analyses__2013_05_23/HNSC/20130523/gdac.broadinstitute.org_HNSC-TP.Correlate_Clinical_vs_miRseq.Level_4.2013052300.0.0.tar.gz'\r\n"
       ]
      },
      {
       "output_type": "stream",
       "stream": "stdout",
       "text": [
        "     0K ...                                                  100% 1.41M=0.2s\r\n",
        "--2013-10-02 18:49:07--  http://gdac.broadinstitute.org/runs/analyses__2013_05_23/data/HNSC/20130523/gdac.broadinstitute.org_HNSC-TP.Correlate_Clinical_vs_miRseq.Level_4.2013052300.0.0.tar.gz.md5\r\n"
       ]
      },
      {
       "output_type": "stream",
       "stream": "stdout",
       "text": [
        "Saving to: `analyses__2013_05_23/HNSC/20130523/gdac.broadinstitute.org_HNSC-TP.Correlate_Clinical_vs_miRseq.Level_4.2013052300.0.0.tar.gz.md5'\r\n",
        "     0K                                                      100% 10.3M=0s\r\n",
        "--2013-10-02 18:49:07--  http://gdac.broadinstitute.org/runs/analyses__2013_05_23/data/HNSC/20130523/gdac.broadinstitute.org_HNSC-TP.Correlate_Clinical_vs_miRseq.aux.2013052300.0.0.tar.gz\r\n"
       ]
      },
      {
       "output_type": "stream",
       "stream": "stdout",
       "text": [
        "Saving to: `analyses__2013_05_23/HNSC/20130523/gdac.broadinstitute.org_HNSC-TP.Correlate_Clinical_vs_miRseq.aux.2013052300.0.0.tar.gz'\r\n",
        "     0K                                                      100%  323M=0s\r\n",
        "--2013-10-02 18:49:07--  http://gdac.broadinstitute.org/runs/analyses__2013_05_23/data/HNSC/20130523/gdac.broadinstitute.org_HNSC-TP.Correlate_Clinical_vs_miRseq.aux.2013052300.0.0.tar.gz.md5\r\n"
       ]
      },
      {
       "output_type": "stream",
       "stream": "stdout",
       "text": [
        "Saving to: `analyses__2013_05_23/HNSC/20130523/gdac.broadinstitute.org_HNSC-TP.Correlate_Clinical_vs_miRseq.aux.2013052300.0.0.tar.gz.md5'\r\n",
        "     0K                                                      100% 23.9M=0s\r\n",
        "--2013-10-02 18:49:07--  http://gdac.broadinstitute.org/runs/analyses__2013_05_23/data/HNSC/20130523/gdac.broadinstitute.org_HNSC-TP.Correlate_Clinical_vs_miRseq.mage-tab.2013052300.0.0.tar.gz\r\n"
       ]
      },
      {
       "output_type": "stream",
       "stream": "stdout",
       "text": [
        "Saving to: `analyses__2013_05_23/HNSC/20130523/gdac.broadinstitute.org_HNSC-TP.Correlate_Clinical_vs_miRseq.mage-tab.2013052300.0.0.tar.gz'\r\n",
        "     0K                                                      100%  279M=0s\r\n",
        "--2013-10-02 18:49:07--  http://gdac.broadinstitute.org/runs/analyses__2013_05_23/data/HNSC/20130523/gdac.broadinstitute.org_HNSC-TP.Correlate_Clinical_vs_miRseq.mage-tab.2013052300.0.0.tar.gz.md5\r\n"
       ]
      },
      {
       "output_type": "stream",
       "stream": "stdout",
       "text": [
        "Saving to: `analyses__2013_05_23/HNSC/20130523/gdac.broadinstitute.org_HNSC-TP.Correlate_Clinical_vs_miRseq.mage-tab.2013052300.0.0.tar.gz.md5'\r\n",
        "     0K                                                      100% 23.1M=0s\r\n",
        "--2013-10-02 18:49:08--  http://gdac.broadinstitute.org/runs/analyses__2013_05_23/data/HNSC/20130523/gdac.broadinstitute.org_HNSC-TP.Correlate_CopyNumber_vs_mRNAseq.Level_3.2013052300.0.0.tar.gz\r\n"
       ]
      },
      {
       "output_type": "stream",
       "stream": "stdout",
       "text": [
        "Saving to: `analyses__2013_05_23/HNSC/20130523/gdac.broadinstitute.org_HNSC-TP.Correlate_CopyNumber_vs_mRNAseq.Level_3.2013052300.0.0.tar.gz'\r\n"
       ]
      },
      {
       "output_type": "stream",
       "stream": "stdout",
       "text": [
        "     0K ........ ......                                      100% 1.10M=0.8s\r\n",
        "--2013-10-02 18:49:08--  http://gdac.broadinstitute.org/runs/analyses__2013_05_23/data/HNSC/20130523/gdac.broadinstitute.org_HNSC-TP.Correlate_CopyNumber_vs_mRNAseq.Level_3.2013052300.0.0.tar.gz.md5\r\n"
       ]
      },
      {
       "output_type": "stream",
       "stream": "stdout",
       "text": [
        "Saving to: `analyses__2013_05_23/HNSC/20130523/gdac.broadinstitute.org_HNSC-TP.Correlate_CopyNumber_vs_mRNAseq.Level_3.2013052300.0.0.tar.gz.md5'\r\n",
        "     0K                                                      100% 10.2M=0s\r\n",
        "--2013-10-02 18:49:09--  http://gdac.broadinstitute.org/runs/analyses__2013_05_23/data/HNSC/20130523/gdac.broadinstitute.org_HNSC-TP.Correlate_CopyNumber_vs_mRNAseq.aux.2013052300.0.0.tar.gz\r\n"
       ]
      },
      {
       "output_type": "stream",
       "stream": "stdout",
       "text": [
        "Saving to: `analyses__2013_05_23/HNSC/20130523/gdac.broadinstitute.org_HNSC-TP.Correlate_CopyNumber_vs_mRNAseq.aux.2013052300.0.0.tar.gz'\r\n",
        "     0K                                                      100% 99.6M=0s\r\n",
        "--2013-10-02 18:49:09--  http://gdac.broadinstitute.org/runs/analyses__2013_05_23/data/HNSC/20130523/gdac.broadinstitute.org_HNSC-TP.Correlate_CopyNumber_vs_mRNAseq.aux.2013052300.0.0.tar.gz.md5\r\n"
       ]
      },
      {
       "output_type": "stream",
       "stream": "stdout",
       "text": [
        "Saving to: `analyses__2013_05_23/HNSC/20130523/gdac.broadinstitute.org_HNSC-TP.Correlate_CopyNumber_vs_mRNAseq.aux.2013052300.0.0.tar.gz.md5'\r\n",
        "     0K                                                      100% 10.4M=0s\r\n",
        "--2013-10-02 18:49:09--  http://gdac.broadinstitute.org/runs/analyses__2013_05_23/data/HNSC/20130523/gdac.broadinstitute.org_HNSC-TP.Correlate_CopyNumber_vs_mRNAseq.mage-tab.2013052300.0.0.tar.gz\r\n"
       ]
      },
      {
       "output_type": "stream",
       "stream": "stdout",
       "text": [
        "Saving to: `analyses__2013_05_23/HNSC/20130523/gdac.broadinstitute.org_HNSC-TP.Correlate_CopyNumber_vs_mRNAseq.mage-tab.2013052300.0.0.tar.gz'\r\n",
        "     0K                                                      100%  124M=0s\r\n",
        "--2013-10-02 18:49:09--  http://gdac.broadinstitute.org/runs/analyses__2013_05_23/data/HNSC/20130523/gdac.broadinstitute.org_HNSC-TP.Correlate_CopyNumber_vs_mRNAseq.mage-tab.2013052300.0.0.tar.gz.md5\r\n"
       ]
      },
      {
       "output_type": "stream",
       "stream": "stdout",
       "text": [
        "Saving to: `analyses__2013_05_23/HNSC/20130523/gdac.broadinstitute.org_HNSC-TP.Correlate_CopyNumber_vs_mRNAseq.mage-tab.2013052300.0.0.tar.gz.md5'\r\n",
        "     0K                                                      100% 10.2M=0s\r\n",
        "--2013-10-02 18:49:09--  http://gdac.broadinstitute.org/runs/analyses__2013_05_23/data/HNSC/20130523/gdac.broadinstitute.org_HNSC-TP.Correlate_Methylation_vs_mRNA.Level_4.2013052300.0.0.tar.gz\r\n"
       ]
      },
      {
       "output_type": "stream",
       "stream": "stdout",
       "text": [
        "Saving to: `analyses__2013_05_23/HNSC/20130523/gdac.broadinstitute.org_HNSC-TP.Correlate_Methylation_vs_mRNA.Level_4.2013052300.0.0.tar.gz'\r\n"
       ]
      },
      {
       "output_type": "stream",
       "stream": "stdout",
       "text": [
        "     0K ........ ....                                        100% 1.06M=0.7s\r\n",
        "--2013-10-02 18:49:10--  http://gdac.broadinstitute.org/runs/analyses__2013_05_23/data/HNSC/20130523/gdac.broadinstitute.org_HNSC-TP.Correlate_Methylation_vs_mRNA.Level_4.2013052300.0.0.tar.gz.md5\r\n"
       ]
      },
      {
       "output_type": "stream",
       "stream": "stdout",
       "text": [
        "Saving to: `analyses__2013_05_23/HNSC/20130523/gdac.broadinstitute.org_HNSC-TP.Correlate_Methylation_vs_mRNA.Level_4.2013052300.0.0.tar.gz.md5'\r\n",
        "     0K                                                      100% 10.4M=0s\r\n",
        "--2013-10-02 18:49:10--  http://gdac.broadinstitute.org/runs/analyses__2013_05_23/data/HNSC/20130523/gdac.broadinstitute.org_HNSC-TP.Correlate_Methylation_vs_mRNA.aux.2013052300.0.0.tar.gz\r\n"
       ]
      },
      {
       "output_type": "stream",
       "stream": "stdout",
       "text": [
        "Saving to: `analyses__2013_05_23/HNSC/20130523/gdac.broadinstitute.org_HNSC-TP.Correlate_Methylation_vs_mRNA.aux.2013052300.0.0.tar.gz'\r\n",
        "     0K                                                      100%  128M=0s\r\n",
        "--2013-10-02 18:49:10--  http://gdac.broadinstitute.org/runs/analyses__2013_05_23/data/HNSC/20130523/gdac.broadinstitute.org_HNSC-TP.Correlate_Methylation_vs_mRNA.aux.2013052300.0.0.tar.gz.md5\r\n"
       ]
      },
      {
       "output_type": "stream",
       "stream": "stdout",
       "text": [
        "Saving to: `analyses__2013_05_23/HNSC/20130523/gdac.broadinstitute.org_HNSC-TP.Correlate_Methylation_vs_mRNA.aux.2013052300.0.0.tar.gz.md5'\r\n",
        "     0K                                                      100% 9.43M=0s\r\n",
        "--2013-10-02 18:49:10--  http://gdac.broadinstitute.org/runs/analyses__2013_05_23/data/HNSC/20130523/gdac.broadinstitute.org_HNSC-TP.Correlate_Methylation_vs_mRNA.mage-tab.2013052300.0.0.tar.gz\r\n"
       ]
      },
      {
       "output_type": "stream",
       "stream": "stdout",
       "text": [
        "Saving to: `analyses__2013_05_23/HNSC/20130523/gdac.broadinstitute.org_HNSC-TP.Correlate_Methylation_vs_mRNA.mage-tab.2013052300.0.0.tar.gz'\r\n",
        "     0K                                                      100% 94.8M=0s\r\n"
       ]
      },
      {
       "output_type": "stream",
       "stream": "stdout",
       "text": [
        "--2013-10-02 18:49:10--  http://gdac.broadinstitute.org/runs/analyses__2013_05_23/data/HNSC/20130523/gdac.broadinstitute.org_HNSC-TP.Correlate_Methylation_vs_mRNA.mage-tab.2013052300.0.0.tar.gz.md5\r\n"
       ]
      },
      {
       "output_type": "stream",
       "stream": "stdout",
       "text": [
        "Saving to: `analyses__2013_05_23/HNSC/20130523/gdac.broadinstitute.org_HNSC-TP.Correlate_Methylation_vs_mRNA.mage-tab.2013052300.0.0.tar.gz.md5'\r\n",
        "     0K                                                      100% 9.05M=0s\r\n",
        "--2013-10-02 18:49:10--  http://gdac.broadinstitute.org/runs/analyses__2013_05_23/data/HNSC/20130523/gdac.broadinstitute.org_HNSC-TP.Correlate_molecularSubtype_vs_CopyNumber_Arm.Level_4.2013052300.0.0.tar.gz\r\n"
       ]
      },
      {
       "output_type": "stream",
       "stream": "stdout",
       "text": [
        "Saving to: `analyses__2013_05_23/HNSC/20130523/gdac.broadinstitute.org_HNSC-TP.Correlate_molecularSubtype_vs_CopyNumber_Arm.Level_4.2013052300.0.0.tar.gz'\r\n"
       ]
      },
      {
       "output_type": "stream",
       "stream": "stdout",
       "text": [
        "     0K ........ .....                                       100% 1.14M=0.7s\r\n"
       ]
      },
      {
       "output_type": "stream",
       "stream": "stdout",
       "text": [
        "--2013-10-02 18:49:11--  http://gdac.broadinstitute.org/runs/analyses__2013_05_23/data/HNSC/20130523/gdac.broadinstitute.org_HNSC-TP.Correlate_molecularSubtype_vs_CopyNumber_Arm.Level_4.2013052300.0.0.tar.gz.md5\r\n"
       ]
      },
      {
       "output_type": "stream",
       "stream": "stdout",
       "text": [
        "Saving to: `analyses__2013_05_23/HNSC/20130523/gdac.broadinstitute.org_HNSC-TP.Correlate_molecularSubtype_vs_CopyNumber_Arm.Level_4.2013052300.0.0.tar.gz.md5'\r\n",
        "     0K                                                      100% 17.7M=0s\r\n",
        "--2013-10-02 18:49:11--  http://gdac.broadinstitute.org/runs/analyses__2013_05_23/data/HNSC/20130523/gdac.broadinstitute.org_HNSC-TP.Correlate_molecularSubtype_vs_CopyNumber_Arm.aux.2013052300.0.0.tar.gz\r\n"
       ]
      },
      {
       "output_type": "stream",
       "stream": "stdout",
       "text": [
        "Saving to: `analyses__2013_05_23/HNSC/20130523/gdac.broadinstitute.org_HNSC-TP.Correlate_molecularSubtype_vs_CopyNumber_Arm.aux.2013052300.0.0.tar.gz'\r\n",
        "     0K                                                      100%  311M=0s\r\n",
        "--2013-10-02 18:49:11--  http://gdac.broadinstitute.org/runs/analyses__2013_05_23/data/HNSC/20130523/gdac.broadinstitute.org_HNSC-TP.Correlate_molecularSubtype_vs_CopyNumber_Arm.aux.2013052300.0.0.tar.gz.md5\r\n"
       ]
      },
      {
       "output_type": "stream",
       "stream": "stdout",
       "text": [
        "Saving to: `analyses__2013_05_23/HNSC/20130523/gdac.broadinstitute.org_HNSC-TP.Correlate_molecularSubtype_vs_CopyNumber_Arm.aux.2013052300.0.0.tar.gz.md5'\r\n",
        "     0K                                                      100% 27.5M=0s\r\n",
        "--2013-10-02 18:49:11--  http://gdac.broadinstitute.org/runs/analyses__2013_05_23/data/HNSC/20130523/gdac.broadinstitute.org_HNSC-TP.Correlate_molecularSubtype_vs_CopyNumber_Arm.mage-tab.2013052300.0.0.tar.gz\r\n"
       ]
      },
      {
       "output_type": "stream",
       "stream": "stdout",
       "text": [
        "Saving to: `analyses__2013_05_23/HNSC/20130523/gdac.broadinstitute.org_HNSC-TP.Correlate_molecularSubtype_vs_CopyNumber_Arm.mage-tab.2013052300.0.0.tar.gz'\r\n",
        "     0K                                                      100%  223M=0s\r\n",
        "--2013-10-02 18:49:11--  http://gdac.broadinstitute.org/runs/analyses__2013_05_23/data/HNSC/20130523/gdac.broadinstitute.org_HNSC-TP.Correlate_molecularSubtype_vs_CopyNumber_Arm.mage-tab.2013052300.0.0.tar.gz.md5\r\n"
       ]
      },
      {
       "output_type": "stream",
       "stream": "stdout",
       "text": [
        "Saving to: `analyses__2013_05_23/HNSC/20130523/gdac.broadinstitute.org_HNSC-TP.Correlate_molecularSubtype_vs_CopyNumber_Arm.mage-tab.2013052300.0.0.tar.gz.md5'\r\n",
        "     0K                                                      100% 10.9M=0s\r\n",
        "--2013-10-02 18:49:11--  http://gdac.broadinstitute.org/runs/analyses__2013_05_23/data/HNSC/20130523/gdac.broadinstitute.org_HNSC-TP.Correlate_molecularSubtype_vs_CopyNumber_Focal.Level_4.2013052300.0.0.tar.gz\r\n"
       ]
      },
      {
       "output_type": "stream",
       "stream": "stdout",
       "text": [
        "Saving to: `analyses__2013_05_23/HNSC/20130523/gdac.broadinstitute.org_HNSC-TP.Correlate_molecularSubtype_vs_CopyNumber_Focal.Level_4.2013052300.0.0.tar.gz'\r\n"
       ]
      },
      {
       "output_type": "stream",
       "stream": "stdout",
       "text": [
        "     0K ........ ........ ........                           100% 1015K=1.5s\r\n"
       ]
      },
      {
       "output_type": "stream",
       "stream": "stdout",
       "text": [
        "--2013-10-02 18:49:13--  http://gdac.broadinstitute.org/runs/analyses__2013_05_23/data/HNSC/20130523/gdac.broadinstitute.org_HNSC-TP.Correlate_molecularSubtype_vs_CopyNumber_Focal.Level_4.2013052300.0.0.tar.gz.md5\r\n"
       ]
      },
      {
       "output_type": "stream",
       "stream": "stdout",
       "text": [
        "Saving to: `analyses__2013_05_23/HNSC/20130523/gdac.broadinstitute.org_HNSC-TP.Correlate_molecularSubtype_vs_CopyNumber_Focal.Level_4.2013052300.0.0.tar.gz.md5'\r\n",
        "     0K                                                      100% 11.8M=0s\r\n",
        "--2013-10-02 18:49:13--  http://gdac.broadinstitute.org/runs/analyses__2013_05_23/data/HNSC/20130523/gdac.broadinstitute.org_HNSC-TP.Correlate_molecularSubtype_vs_CopyNumber_Focal.aux.2013052300.0.0.tar.gz\r\n"
       ]
      },
      {
       "output_type": "stream",
       "stream": "stdout",
       "text": [
        "Saving to: `analyses__2013_05_23/HNSC/20130523/gdac.broadinstitute.org_HNSC-TP.Correlate_molecularSubtype_vs_CopyNumber_Focal.aux.2013052300.0.0.tar.gz'\r\n",
        "     0K                                                      100%  263M=0s\r\n",
        "--2013-10-02 18:49:13--  http://gdac.broadinstitute.org/runs/analyses__2013_05_23/data/HNSC/20130523/gdac.broadinstitute.org_HNSC-TP.Correlate_molecularSubtype_vs_CopyNumber_Focal.aux.2013052300.0.0.tar.gz.md5\r\n"
       ]
      },
      {
       "output_type": "stream",
       "stream": "stdout",
       "text": [
        "Saving to: `analyses__2013_05_23/HNSC/20130523/gdac.broadinstitute.org_HNSC-TP.Correlate_molecularSubtype_vs_CopyNumber_Focal.aux.2013052300.0.0.tar.gz.md5'\r\n",
        "     0K                                                      100% 11.4M=0s\r\n",
        "--2013-10-02 18:49:13--  http://gdac.broadinstitute.org/runs/analyses__2013_05_23/data/HNSC/20130523/gdac.broadinstitute.org_HNSC-TP.Correlate_molecularSubtype_vs_CopyNumber_Focal.mage-tab.2013052300.0.0.tar.gz\r\n"
       ]
      },
      {
       "output_type": "stream",
       "stream": "stdout",
       "text": [
        "Saving to: `analyses__2013_05_23/HNSC/20130523/gdac.broadinstitute.org_HNSC-TP.Correlate_molecularSubtype_vs_CopyNumber_Focal.mage-tab.2013052300.0.0.tar.gz'\r\n",
        "     0K                                                      100%  606M=0s\r\n",
        "--2013-10-02 18:49:13--  http://gdac.broadinstitute.org/runs/analyses__2013_05_23/data/HNSC/20130523/gdac.broadinstitute.org_HNSC-TP.Correlate_molecularSubtype_vs_CopyNumber_Focal.mage-tab.2013052300.0.0.tar.gz.md5\r\n"
       ]
      },
      {
       "output_type": "stream",
       "stream": "stdout",
       "text": [
        "Saving to: `analyses__2013_05_23/HNSC/20130523/gdac.broadinstitute.org_HNSC-TP.Correlate_molecularSubtype_vs_CopyNumber_Focal.mage-tab.2013052300.0.0.tar.gz.md5'\r\n",
        "     0K                                                      100% 29.0M=0s\r\n",
        "--2013-10-02 18:49:13--  http://gdac.broadinstitute.org/runs/analyses__2013_05_23/data/HNSC/20130523/gdac.broadinstitute.org_HNSC-TP.Correlate_molecularSubtype_vs_Mutation.Level_4.2013052300.0.0.tar.gz\r\n"
       ]
      },
      {
       "output_type": "stream",
       "stream": "stdout",
       "text": [
        "Saving to: `analyses__2013_05_23/HNSC/20130523/gdac.broadinstitute.org_HNSC-TP.Correlate_molecularSubtype_vs_Mutation.Level_4.2013052300.0.0.tar.gz'\r\n"
       ]
      },
      {
       "output_type": "stream",
       "stream": "stdout",
       "text": [
        "     0K ....                                                 100% 1.22M=0.2s\r\n",
        "--2013-10-02 18:49:14--  http://gdac.broadinstitute.org/runs/analyses__2013_05_23/data/HNSC/20130523/gdac.broadinstitute.org_HNSC-TP.Correlate_molecularSubtype_vs_Mutation.Level_4.2013052300.0.0.tar.gz.md5\r\n"
       ]
      },
      {
       "output_type": "stream",
       "stream": "stdout",
       "text": [
        "Saving to: `analyses__2013_05_23/HNSC/20130523/gdac.broadinstitute.org_HNSC-TP.Correlate_molecularSubtype_vs_Mutation.Level_4.2013052300.0.0.tar.gz.md5'\r\n",
        "     0K                                                      100% 11.2M=0s\r\n",
        "--2013-10-02 18:49:14--  http://gdac.broadinstitute.org/runs/analyses__2013_05_23/data/HNSC/20130523/gdac.broadinstitute.org_HNSC-TP.Correlate_molecularSubtype_vs_Mutation.aux.2013052300.0.0.tar.gz\r\n"
       ]
      },
      {
       "output_type": "stream",
       "stream": "stdout",
       "text": [
        "Saving to: `analyses__2013_05_23/HNSC/20130523/gdac.broadinstitute.org_HNSC-TP.Correlate_molecularSubtype_vs_Mutation.aux.2013052300.0.0.tar.gz'\r\n",
        "     0K                                                      100%  604M=0s\r\n",
        "--2013-10-02 18:49:14--  http://gdac.broadinstitute.org/runs/analyses__2013_05_23/data/HNSC/20130523/gdac.broadinstitute.org_HNSC-TP.Correlate_molecularSubtype_vs_Mutation.aux.2013052300.0.0.tar.gz.md5\r\n"
       ]
      },
      {
       "output_type": "stream",
       "stream": "stdout",
       "text": [
        "Saving to: `analyses__2013_05_23/HNSC/20130523/gdac.broadinstitute.org_HNSC-TP.Correlate_molecularSubtype_vs_Mutation.aux.2013052300.0.0.tar.gz.md5'\r\n",
        "     0K                                                      100% 10.9M=0s\r\n",
        "--2013-10-02 18:49:14--  http://gdac.broadinstitute.org/runs/analyses__2013_05_23/data/HNSC/20130523/gdac.broadinstitute.org_HNSC-TP.Correlate_molecularSubtype_vs_Mutation.mage-tab.2013052300.0.0.tar.gz\r\n"
       ]
      },
      {
       "output_type": "stream",
       "stream": "stdout",
       "text": [
        "Saving to: `analyses__2013_05_23/HNSC/20130523/gdac.broadinstitute.org_HNSC-TP.Correlate_molecularSubtype_vs_Mutation.mage-tab.2013052300.0.0.tar.gz'\r\n",
        "     0K                                                      100%  153M=0s\r\n",
        "--2013-10-02 18:49:14--  http://gdac.broadinstitute.org/runs/analyses__2013_05_23/data/HNSC/20130523/gdac.broadinstitute.org_HNSC-TP.Correlate_molecularSubtype_vs_Mutation.mage-tab.2013052300.0.0.tar.gz.md5\r\n"
       ]
      },
      {
       "output_type": "stream",
       "stream": "stdout",
       "text": [
        "Saving to: `analyses__2013_05_23/HNSC/20130523/gdac.broadinstitute.org_HNSC-TP.Correlate_molecularSubtype_vs_Mutation.mage-tab.2013052300.0.0.tar.gz.md5'\r\n",
        "     0K                                                      100% 10.5M=0s\r\n",
        "--2013-10-02 18:49:14--  http://gdac.broadinstitute.org/runs/analyses__2013_05_23/data/HNSC/20130523/gdac.broadinstitute.org_HNSC-TP.Methylation_Clustering_CNMF.Level_4.2013052300.0.0.tar.gz\r\n"
       ]
      },
      {
       "output_type": "stream",
       "stream": "stdout",
       "text": [
        "Saving to: `analyses__2013_05_23/HNSC/20130523/gdac.broadinstitute.org_HNSC-TP.Methylation_Clustering_CNMF.Level_4.2013052300.0.0.tar.gz'\r\n"
       ]
      },
      {
       "output_type": "stream",
       "stream": "stdout",
       "text": [
        "     0K ........ ........ ........ ........ ........ ........ 14% 1024K 17s\r\n"
       ]
      },
      {
       "output_type": "stream",
       "stream": "stdout",
       "text": [
        "  3072K ........ ........ ........ ........ ........ ........ 29% 1.03M 14s\r\n"
       ]
      },
      {
       "output_type": "stream",
       "stream": "stdout",
       "text": [
        "  6144K ........ ........ ........ ........ ........ ........ 44% 1.03M 11s\r\n"
       ]
      },
      {
       "output_type": "stream",
       "stream": "stdout",
       "text": [
        "  9216K ........ ........ ........ ........ ........ ........ 59% 1.00M 8s\r\n"
       ]
      },
      {
       "output_type": "stream",
       "stream": "stdout",
       "text": [
        " 12288K ........ ........ ........ ........ ........ ........ 73% 1.02M 5s\r\n"
       ]
      },
      {
       "output_type": "stream",
       "stream": "stdout",
       "text": [
        " 15360K ........ ........ ........ ........ ........ ........ 88% 1.00M 2s\r\n"
       ]
      },
      {
       "output_type": "stream",
       "stream": "stdout",
       "text": [
        " 18432K ........ ........ ........ ........ ....             100% 1.01M=20s\r\n"
       ]
      },
      {
       "output_type": "stream",
       "stream": "stdout",
       "text": [
        "--2013-10-02 18:49:35--  http://gdac.broadinstitute.org/runs/analyses__2013_05_23/data/HNSC/20130523/gdac.broadinstitute.org_HNSC-TP.Methylation_Clustering_CNMF.Level_4.2013052300.0.0.tar.gz.md5\r\n"
       ]
      },
      {
       "output_type": "stream",
       "stream": "stdout",
       "text": [
        "Saving to: `analyses__2013_05_23/HNSC/20130523/gdac.broadinstitute.org_HNSC-TP.Methylation_Clustering_CNMF.Level_4.2013052300.0.0.tar.gz.md5'\r\n",
        "     0K                                                      100% 10.1M=0s\r\n",
        "--2013-10-02 18:49:35--  http://gdac.broadinstitute.org/runs/analyses__2013_05_23/data/HNSC/20130523/gdac.broadinstitute.org_HNSC-TP.Methylation_Clustering_CNMF.aux.2013052300.0.0.tar.gz\r\n"
       ]
      },
      {
       "output_type": "stream",
       "stream": "stdout",
       "text": [
        "Saving to: `analyses__2013_05_23/HNSC/20130523/gdac.broadinstitute.org_HNSC-TP.Methylation_Clustering_CNMF.aux.2013052300.0.0.tar.gz'\r\n"
       ]
      },
      {
       "output_type": "stream",
       "stream": "stdout",
       "text": [
        "     0K                                                      100% 81.4K=0.08s\r\n",
        "--2013-10-02 18:49:35--  http://gdac.broadinstitute.org/runs/analyses__2013_05_23/data/HNSC/20130523/gdac.broadinstitute.org_HNSC-TP.Methylation_Clustering_CNMF.aux.2013052300.0.0.tar.gz.md5\r\n"
       ]
      },
      {
       "output_type": "stream",
       "stream": "stdout",
       "text": [
        "Saving to: `analyses__2013_05_23/HNSC/20130523/gdac.broadinstitute.org_HNSC-TP.Methylation_Clustering_CNMF.aux.2013052300.0.0.tar.gz.md5'\r\n",
        "     0K                                                      100% 9.40M=0s\r\n",
        "--2013-10-02 18:49:35--  http://gdac.broadinstitute.org/runs/analyses__2013_05_23/data/HNSC/20130523/gdac.broadinstitute.org_HNSC-TP.Methylation_Clustering_CNMF.mage-tab.2013052300.0.0.tar.gz\r\n"
       ]
      },
      {
       "output_type": "stream",
       "stream": "stdout",
       "text": [
        "Saving to: `analyses__2013_05_23/HNSC/20130523/gdac.broadinstitute.org_HNSC-TP.Methylation_Clustering_CNMF.mage-tab.2013052300.0.0.tar.gz'\r\n",
        "     0K                                                      100%  147M=0s\r\n",
        "--2013-10-02 18:49:35--  http://gdac.broadinstitute.org/runs/analyses__2013_05_23/data/HNSC/20130523/gdac.broadinstitute.org_HNSC-TP.Methylation_Clustering_CNMF.mage-tab.2013052300.0.0.tar.gz.md5\r\n"
       ]
      },
      {
       "output_type": "stream",
       "stream": "stdout",
       "text": [
        "Saving to: `analyses__2013_05_23/HNSC/20130523/gdac.broadinstitute.org_HNSC-TP.Methylation_Clustering_CNMF.mage-tab.2013052300.0.0.tar.gz.md5'\r\n",
        "     0K                                                      100% 9.87M=0s\r\n",
        "--2013-10-02 18:49:35--  http://gdac.broadinstitute.org/runs/analyses__2013_05_23/data/HNSC/20130523/gdac.broadinstitute.org_HNSC-TP.Methylation_Preprocess.Level_4.2013052300.0.0.tar.gz\r\n"
       ]
      },
      {
       "output_type": "stream",
       "stream": "stdout",
       "text": [
        "Saving to: `analyses__2013_05_23/HNSC/20130523/gdac.broadinstitute.org_HNSC-TP.Methylation_Preprocess.Level_4.2013052300.0.0.tar.gz'\r\n",
        "     0K                                                      100% 26.8M=0s\r\n",
        "--2013-10-02 18:49:35--  http://gdac.broadinstitute.org/runs/analyses__2013_05_23/data/HNSC/20130523/gdac.broadinstitute.org_HNSC-TP.Methylation_Preprocess.Level_4.2013052300.0.0.tar.gz.md5\r\n"
       ]
      },
      {
       "output_type": "stream",
       "stream": "stdout",
       "text": [
        "Saving to: `analyses__2013_05_23/HNSC/20130523/gdac.broadinstitute.org_HNSC-TP.Methylation_Preprocess.Level_4.2013052300.0.0.tar.gz.md5'\r\n",
        "     0K                                                      100% 9.17M=0s\r\n"
       ]
      },
      {
       "output_type": "stream",
       "stream": "stdout",
       "text": [
        "--2013-10-02 18:49:35--  http://gdac.broadinstitute.org/runs/analyses__2013_05_23/data/HNSC/20130523/gdac.broadinstitute.org_HNSC-TP.Methylation_Preprocess.aux.2013052300.0.0.tar.gz\r\n"
       ]
      },
      {
       "output_type": "stream",
       "stream": "stdout",
       "text": [
        "Saving to: `analyses__2013_05_23/HNSC/20130523/gdac.broadinstitute.org_HNSC-TP.Methylation_Preprocess.aux.2013052300.0.0.tar.gz'\r\n",
        "     0K                                                      100%  238M=0s\r\n",
        "--2013-10-02 18:49:35--  http://gdac.broadinstitute.org/runs/analyses__2013_05_23/data/HNSC/20130523/gdac.broadinstitute.org_HNSC-TP.Methylation_Preprocess.aux.2013052300.0.0.tar.gz.md5\r\n"
       ]
      },
      {
       "output_type": "stream",
       "stream": "stdout",
       "text": [
        "Saving to: `analyses__2013_05_23/HNSC/20130523/gdac.broadinstitute.org_HNSC-TP.Methylation_Preprocess.aux.2013052300.0.0.tar.gz.md5'\r\n",
        "     0K                                                      100% 11.3M=0s\r\n",
        "--2013-10-02 18:49:36--  http://gdac.broadinstitute.org/runs/analyses__2013_05_23/data/HNSC/20130523/gdac.broadinstitute.org_HNSC-TP.Methylation_Preprocess.mage-tab.2013052300.0.0.tar.gz\r\n"
       ]
      },
      {
       "output_type": "stream",
       "stream": "stdout",
       "text": [
        "Saving to: `analyses__2013_05_23/HNSC/20130523/gdac.broadinstitute.org_HNSC-TP.Methylation_Preprocess.mage-tab.2013052300.0.0.tar.gz'\r\n",
        "     0K                                                      100%  101M=0s\r\n",
        "--2013-10-02 18:49:36--  http://gdac.broadinstitute.org/runs/analyses__2013_05_23/data/HNSC/20130523/gdac.broadinstitute.org_HNSC-TP.Methylation_Preprocess.mage-tab.2013052300.0.0.tar.gz.md5\r\n"
       ]
      },
      {
       "output_type": "stream",
       "stream": "stdout",
       "text": [
        "Saving to: `analyses__2013_05_23/HNSC/20130523/gdac.broadinstitute.org_HNSC-TP.Methylation_Preprocess.mage-tab.2013052300.0.0.tar.gz.md5'\r\n",
        "     0K                                                      100% 25.1M=0s\r\n",
        "--2013-10-02 18:49:36--  http://gdac.broadinstitute.org/runs/analyses__2013_05_23/data/HNSC/20130523/gdac.broadinstitute.org_HNSC-TP.MutSigNozzleReport1.5.Level_4.2013052300.0.0.tar.gz\r\n"
       ]
      },
      {
       "output_type": "stream",
       "stream": "stdout",
       "text": [
        "Saving to: `analyses__2013_05_23/HNSC/20130523/gdac.broadinstitute.org_HNSC-TP.MutSigNozzleReport1.5.Level_4.2013052300.0.0.tar.gz'\r\n"
       ]
      },
      {
       "output_type": "stream",
       "stream": "stdout",
       "text": [
        "     0K ........ ........ ........ ........ ........ ........ 15%  853K 20s\r\n"
       ]
      },
      {
       "output_type": "stream",
       "stream": "stdout",
       "text": [
        "  3072K ........ ........ ........ ........ ........ ........ 30% 1024K 15s\r\n"
       ]
      },
      {
       "output_type": "stream",
       "stream": "stdout",
       "text": [
        "  6144K ........ ........ ........ ........ ........ ........ 45% 1.01M 12s\r\n"
       ]
      },
      {
       "output_type": "stream",
       "stream": "stdout",
       "text": [
        "  9216K ........ ........ ........ ........ ........ ........ 60% 1.03M 8s\r\n"
       ]
      },
      {
       "output_type": "stream",
       "stream": "stdout",
       "text": [
        " 12288K ........ ........ ........ ........ ........ ........ 75% 1019K 5s\r\n"
       ]
      },
      {
       "output_type": "stream",
       "stream": "stdout",
       "text": [
        " 15360K ........ ........ ........ ........ ........ ........ 90% 1.01M 2s\r\n"
       ]
      },
      {
       "output_type": "stream",
       "stream": "stdout",
       "text": [
        " 18432K ........ ........ ........ .......                   100% 1000K=20s\r\n"
       ]
      },
      {
       "output_type": "stream",
       "stream": "stdout",
       "text": [
        "--2013-10-02 18:49:56--  http://gdac.broadinstitute.org/runs/analyses__2013_05_23/data/HNSC/20130523/gdac.broadinstitute.org_HNSC-TP.MutSigNozzleReport1.5.Level_4.2013052300.0.0.tar.gz.md5\r\n"
       ]
      },
      {
       "output_type": "stream",
       "stream": "stdout",
       "text": [
        "Saving to: `analyses__2013_05_23/HNSC/20130523/gdac.broadinstitute.org_HNSC-TP.MutSigNozzleReport1.5.Level_4.2013052300.0.0.tar.gz.md5'\r\n",
        "     0K                                                      100% 6.42M=0s\r\n",
        "--2013-10-02 18:49:57--  http://gdac.broadinstitute.org/runs/analyses__2013_05_23/data/HNSC/20130523/gdac.broadinstitute.org_HNSC-TP.MutSigNozzleReport1.5.aux.2013052300.0.0.tar.gz\r\n"
       ]
      },
      {
       "output_type": "stream",
       "stream": "stdout",
       "text": [
        "Saving to: `analyses__2013_05_23/HNSC/20130523/gdac.broadinstitute.org_HNSC-TP.MutSigNozzleReport1.5.aux.2013052300.0.0.tar.gz'\r\n",
        "     0K                                                      100%  168M=0s\r\n",
        "--2013-10-02 18:49:57--  http://gdac.broadinstitute.org/runs/analyses__2013_05_23/data/HNSC/20130523/gdac.broadinstitute.org_HNSC-TP.MutSigNozzleReport1.5.aux.2013052300.0.0.tar.gz.md5\r\n"
       ]
      },
      {
       "output_type": "stream",
       "stream": "stdout",
       "text": [
        "Saving to: `analyses__2013_05_23/HNSC/20130523/gdac.broadinstitute.org_HNSC-TP.MutSigNozzleReport1.5.aux.2013052300.0.0.tar.gz.md5'\r\n",
        "     0K                                                      100% 11.9M=0s\r\n",
        "--2013-10-02 18:49:57--  http://gdac.broadinstitute.org/runs/analyses__2013_05_23/data/HNSC/20130523/gdac.broadinstitute.org_HNSC-TP.MutSigNozzleReport1.5.mage-tab.2013052300.0.0.tar.gz\r\n"
       ]
      },
      {
       "output_type": "stream",
       "stream": "stdout",
       "text": [
        "Saving to: `analyses__2013_05_23/HNSC/20130523/gdac.broadinstitute.org_HNSC-TP.MutSigNozzleReport1.5.mage-tab.2013052300.0.0.tar.gz'\r\n",
        "     0K                                                      100%  520M=0s\r\n",
        "--2013-10-02 18:49:57--  http://gdac.broadinstitute.org/runs/analyses__2013_05_23/data/HNSC/20130523/gdac.broadinstitute.org_HNSC-TP.MutSigNozzleReport1.5.mage-tab.2013052300.0.0.tar.gz.md5\r\n"
       ]
      },
      {
       "output_type": "stream",
       "stream": "stdout",
       "text": [
        "Saving to: `analyses__2013_05_23/HNSC/20130523/gdac.broadinstitute.org_HNSC-TP.MutSigNozzleReport1.5.mage-tab.2013052300.0.0.tar.gz.md5'\r\n",
        "     0K                                                      100% 12.4M=0s\r\n",
        "--2013-10-02 18:49:57--  http://gdac.broadinstitute.org/runs/analyses__2013_05_23/data/HNSC/20130523/gdac.broadinstitute.org_HNSC-TP.MutSigNozzleReport2.0.Level_4.2013052300.0.0.tar.gz\r\n"
       ]
      },
      {
       "output_type": "stream",
       "stream": "stdout",
       "text": [
        "Saving to: `analyses__2013_05_23/HNSC/20130523/gdac.broadinstitute.org_HNSC-TP.MutSigNozzleReport2.0.Level_4.2013052300.0.0.tar.gz'\r\n"
       ]
      },
      {
       "output_type": "stream",
       "stream": "stdout",
       "text": [
        "     0K ........ ........ ........ ........ ........ ........ 15%  997K 17s\r\n"
       ]
      },
      {
       "output_type": "stream",
       "stream": "stdout",
       "text": [
        "  3072K ........ ........ ........ ........ ........ ........ 30% 1023K 14s\r\n"
       ]
      },
      {
       "output_type": "stream",
       "stream": "stdout",
       "text": [
        "  6144K ........ ........ ........ ........ ........ ........ 45% 1022K 11s\r\n"
       ]
      },
      {
       "output_type": "stream",
       "stream": "stdout",
       "text": [
        "  9216K ........ ........ ........ ........ ........ ........ 60% 1023K 8s\r\n"
       ]
      },
      {
       "output_type": "stream",
       "stream": "stdout",
       "text": [
        " 12288K ........ ........ ........ ........ ........ ........ 75% 1021K 5s\r\n"
       ]
      },
      {
       "output_type": "stream",
       "stream": "stdout",
       "text": [
        " 15360K ........ ........ ........ ........ ........ ........ 90%  994K 2s\r\n"
       ]
      },
      {
       "output_type": "stream",
       "stream": "stdout",
       "text": [
        " 18432K ........ ........ ........ ....                      100% 1.01M=20s\r\n"
       ]
      },
      {
       "output_type": "stream",
       "stream": "stdout",
       "text": [
        "--2013-10-02 18:50:17--  http://gdac.broadinstitute.org/runs/analyses__2013_05_23/data/HNSC/20130523/gdac.broadinstitute.org_HNSC-TP.MutSigNozzleReport2.0.Level_4.2013052300.0.0.tar.gz.md5\r\n"
       ]
      },
      {
       "output_type": "stream",
       "stream": "stdout",
       "text": [
        "Saving to: `analyses__2013_05_23/HNSC/20130523/gdac.broadinstitute.org_HNSC-TP.MutSigNozzleReport2.0.Level_4.2013052300.0.0.tar.gz.md5'\r\n",
        "     0K                                                      100% 27.6M=0s\r\n",
        "--2013-10-02 18:50:17--  http://gdac.broadinstitute.org/runs/analyses__2013_05_23/data/HNSC/20130523/gdac.broadinstitute.org_HNSC-TP.MutSigNozzleReport2.0.aux.2013052300.0.0.tar.gz\r\n"
       ]
      },
      {
       "output_type": "stream",
       "stream": "stdout",
       "text": [
        "Saving to: `analyses__2013_05_23/HNSC/20130523/gdac.broadinstitute.org_HNSC-TP.MutSigNozzleReport2.0.aux.2013052300.0.0.tar.gz'\r\n",
        "     0K                                                      100%  201M=0s\r\n",
        "--2013-10-02 18:50:17--  http://gdac.broadinstitute.org/runs/analyses__2013_05_23/data/HNSC/20130523/gdac.broadinstitute.org_HNSC-TP.MutSigNozzleReport2.0.aux.2013052300.0.0.tar.gz.md5\r\n"
       ]
      },
      {
       "output_type": "stream",
       "stream": "stdout",
       "text": [
        "Saving to: `analyses__2013_05_23/HNSC/20130523/gdac.broadinstitute.org_HNSC-TP.MutSigNozzleReport2.0.aux.2013052300.0.0.tar.gz.md5'\r\n",
        "     0K                                                      100% 8.86M=0s\r\n",
        "--2013-10-02 18:50:17--  http://gdac.broadinstitute.org/runs/analyses__2013_05_23/data/HNSC/20130523/gdac.broadinstitute.org_HNSC-TP.MutSigNozzleReport2.0.mage-tab.2013052300.0.0.tar.gz\r\n"
       ]
      },
      {
       "output_type": "stream",
       "stream": "stdout",
       "text": [
        "Saving to: `analyses__2013_05_23/HNSC/20130523/gdac.broadinstitute.org_HNSC-TP.MutSigNozzleReport2.0.mage-tab.2013052300.0.0.tar.gz'\r\n",
        "     0K                                                      100%  431M=0s\r\n"
       ]
      },
      {
       "output_type": "stream",
       "stream": "stdout",
       "text": [
        "--2013-10-02 18:50:17--  http://gdac.broadinstitute.org/runs/analyses__2013_05_23/data/HNSC/20130523/gdac.broadinstitute.org_HNSC-TP.MutSigNozzleReport2.0.mage-tab.2013052300.0.0.tar.gz.md5\r\n"
       ]
      },
      {
       "output_type": "stream",
       "stream": "stdout",
       "text": [
        "Saving to: `analyses__2013_05_23/HNSC/20130523/gdac.broadinstitute.org_HNSC-TP.MutSigNozzleReport2.0.mage-tab.2013052300.0.0.tar.gz.md5'\r\n",
        "     0K                                                      100% 24.0M=0s\r\n",
        "--2013-10-02 18:50:18--  http://gdac.broadinstitute.org/runs/analyses__2013_05_23/data/HNSC/20130523/gdac.broadinstitute.org_HNSC-TP.MutSigNozzleReportCV.Level_4.2013052300.0.0.tar.gz\r\n"
       ]
      },
      {
       "output_type": "stream",
       "stream": "stdout",
       "text": [
        "Saving to: `analyses__2013_05_23/HNSC/20130523/gdac.broadinstitute.org_HNSC-TP.MutSigNozzleReportCV.Level_4.2013052300.0.0.tar.gz'\r\n"
       ]
      },
      {
       "output_type": "stream",
       "stream": "stdout",
       "text": [
        "     0K ........ ........ ........ ........ ........ ........ 16%  995K 16s\r\n"
       ]
      },
      {
       "output_type": "stream",
       "stream": "stdout",
       "text": [
        "  3072K ........ ........ ........ ........ ........ ........ 33% 1.03M 12s\r\n"
       ]
      },
      {
       "output_type": "stream",
       "stream": "stdout",
       "text": [
        "  6144K ........ ........ ........ ........ ........ ........ 49% 1.03M 9s\r\n"
       ]
      },
      {
       "output_type": "stream",
       "stream": "stdout",
       "text": [
        "  9216K ........ ........ ........ ........ ........ ........ 66% 1.04M 6s\r\n"
       ]
      },
      {
       "output_type": "stream",
       "stream": "stdout",
       "text": [
        " 12288K ........ ........ ........ ........ ........ ........ 82% 1.04M 3s\r\n"
       ]
      },
      {
       "output_type": "stream",
       "stream": "stdout",
       "text": [
        " 15360K ........ ........ ........ ........ ........ ........ 99% 1.00M 0s\r\n"
       ]
      },
      {
       "output_type": "stream",
       "stream": "stdout",
       "text": [
        " 18432K ..                                                   100% 1.01M=18s\r\n"
       ]
      },
      {
       "output_type": "stream",
       "stream": "stdout",
       "text": [
        "--2013-10-02 18:50:36--  http://gdac.broadinstitute.org/runs/analyses__2013_05_23/data/HNSC/20130523/gdac.broadinstitute.org_HNSC-TP.MutSigNozzleReportCV.Level_4.2013052300.0.0.tar.gz.md5\r\n"
       ]
      },
      {
       "output_type": "stream",
       "stream": "stdout",
       "text": [
        "Saving to: `analyses__2013_05_23/HNSC/20130523/gdac.broadinstitute.org_HNSC-TP.MutSigNozzleReportCV.Level_4.2013052300.0.0.tar.gz.md5'\r\n",
        "     0K                                                      100% 6.57M=0s\r\n",
        "--2013-10-02 18:50:36--  http://gdac.broadinstitute.org/runs/analyses__2013_05_23/data/HNSC/20130523/gdac.broadinstitute.org_HNSC-TP.MutSigNozzleReportCV.aux.2013052300.0.0.tar.gz\r\n"
       ]
      },
      {
       "output_type": "stream",
       "stream": "stdout",
       "text": [
        "Saving to: `analyses__2013_05_23/HNSC/20130523/gdac.broadinstitute.org_HNSC-TP.MutSigNozzleReportCV.aux.2013052300.0.0.tar.gz'\r\n",
        "     0K                                                      100%  175M=0s\r\n",
        "--2013-10-02 18:50:36--  http://gdac.broadinstitute.org/runs/analyses__2013_05_23/data/HNSC/20130523/gdac.broadinstitute.org_HNSC-TP.MutSigNozzleReportCV.aux.2013052300.0.0.tar.gz.md5\r\n"
       ]
      },
      {
       "output_type": "stream",
       "stream": "stdout",
       "text": [
        "Saving to: `analyses__2013_05_23/HNSC/20130523/gdac.broadinstitute.org_HNSC-TP.MutSigNozzleReportCV.aux.2013052300.0.0.tar.gz.md5'\r\n",
        "     0K                                                      100% 9.61M=0s\r\n",
        "--2013-10-02 18:50:36--  http://gdac.broadinstitute.org/runs/analyses__2013_05_23/data/HNSC/20130523/gdac.broadinstitute.org_HNSC-TP.MutSigNozzleReportCV.mage-tab.2013052300.0.0.tar.gz\r\n"
       ]
      },
      {
       "output_type": "stream",
       "stream": "stdout",
       "text": [
        "Saving to: `analyses__2013_05_23/HNSC/20130523/gdac.broadinstitute.org_HNSC-TP.MutSigNozzleReportCV.mage-tab.2013052300.0.0.tar.gz'\r\n",
        "     0K                                                      100%  647M=0s\r\n",
        "--2013-10-02 18:50:36--  http://gdac.broadinstitute.org/runs/analyses__2013_05_23/data/HNSC/20130523/gdac.broadinstitute.org_HNSC-TP.MutSigNozzleReportCV.mage-tab.2013052300.0.0.tar.gz.md5\r\n"
       ]
      },
      {
       "output_type": "stream",
       "stream": "stdout",
       "text": [
        "Saving to: `analyses__2013_05_23/HNSC/20130523/gdac.broadinstitute.org_HNSC-TP.MutSigNozzleReportCV.mage-tab.2013052300.0.0.tar.gz.md5'\r\n",
        "     0K                                                      100% 9.77M=0s\r\n",
        "--2013-10-02 18:50:36--  http://gdac.broadinstitute.org/runs/analyses__2013_05_23/data/HNSC/20130523/gdac.broadinstitute.org_HNSC-TP.MutSigNozzleReportMerged.Level_4.2013052300.0.0.tar.gz\r\n"
       ]
      },
      {
       "output_type": "stream",
       "stream": "stdout",
       "text": [
        "Saving to: `analyses__2013_05_23/HNSC/20130523/gdac.broadinstitute.org_HNSC-TP.MutSigNozzleReportMerged.Level_4.2013052300.0.0.tar.gz'\r\n"
       ]
      },
      {
       "output_type": "stream",
       "stream": "stdout",
       "text": [
        "     0K ........ ........ ........ ........ ........ ........ 15% 1022K 16s\r\n"
       ]
      },
      {
       "output_type": "stream",
       "stream": "stdout",
       "text": [
        "  3072K ........ ........ ........ ........ ........ ........ 31% 1022K 13s\r\n"
       ]
      },
      {
       "output_type": "stream",
       "stream": "stdout",
       "text": [
        "  6144K ........ ........ ........ ........ ........ ........ 46% 1010K 10s\r\n"
       ]
      },
      {
       "output_type": "stream",
       "stream": "stdout",
       "text": [
        "  9216K ........ ........ ........ ........ ........ ........ 62% 1.04M 7s\r\n"
       ]
      },
      {
       "output_type": "stream",
       "stream": "stdout",
       "text": [
        " 12288K ........ ........ ........ ........ ........ ........ 78% 1023K 4s\r\n"
       ]
      },
      {
       "output_type": "stream",
       "stream": "stdout",
       "text": [
        " 15360K ........ ........ ........ ........ ........ ........ 93% 1.03M 1s\r\n"
       ]
      },
      {
       "output_type": "stream",
       "stream": "stdout",
       "text": [
        " 18432K ........ ........ ..                                 100% 1.05M=19s\r\n"
       ]
      },
      {
       "output_type": "stream",
       "stream": "stdout",
       "text": [
        "--2013-10-02 18:50:55--  http://gdac.broadinstitute.org/runs/analyses__2013_05_23/data/HNSC/20130523/gdac.broadinstitute.org_HNSC-TP.MutSigNozzleReportMerged.Level_4.2013052300.0.0.tar.gz.md5\r\n"
       ]
      },
      {
       "output_type": "stream",
       "stream": "stdout",
       "text": [
        "Saving to: `analyses__2013_05_23/HNSC/20130523/gdac.broadinstitute.org_HNSC-TP.MutSigNozzleReportMerged.Level_4.2013052300.0.0.tar.gz.md5'\r\n",
        "     0K                                                      100% 11.7M=0s\r\n",
        "--2013-10-02 18:50:55--  http://gdac.broadinstitute.org/runs/analyses__2013_05_23/data/HNSC/20130523/gdac.broadinstitute.org_HNSC-TP.MutSigNozzleReportMerged.aux.2013052300.0.0.tar.gz\r\n"
       ]
      },
      {
       "output_type": "stream",
       "stream": "stdout",
       "text": [
        "Saving to: `analyses__2013_05_23/HNSC/20130523/gdac.broadinstitute.org_HNSC-TP.MutSigNozzleReportMerged.aux.2013052300.0.0.tar.gz'\r\n",
        "     0K                                                      100%  240M=0s\r\n",
        "--2013-10-02 18:50:56--  http://gdac.broadinstitute.org/runs/analyses__2013_05_23/data/HNSC/20130523/gdac.broadinstitute.org_HNSC-TP.MutSigNozzleReportMerged.aux.2013052300.0.0.tar.gz.md5\r\n"
       ]
      },
      {
       "output_type": "stream",
       "stream": "stdout",
       "text": [
        "Saving to: `analyses__2013_05_23/HNSC/20130523/gdac.broadinstitute.org_HNSC-TP.MutSigNozzleReportMerged.aux.2013052300.0.0.tar.gz.md5'\r\n",
        "     0K                                                      100% 9.43M=0s\r\n"
       ]
      },
      {
       "output_type": "stream",
       "stream": "stdout",
       "text": [
        "--2013-10-02 18:50:56--  http://gdac.broadinstitute.org/runs/analyses__2013_05_23/data/HNSC/20130523/gdac.broadinstitute.org_HNSC-TP.MutSigNozzleReportMerged.mage-tab.2013052300.0.0.tar.gz\r\n"
       ]
      },
      {
       "output_type": "stream",
       "stream": "stdout",
       "text": [
        "Saving to: `analyses__2013_05_23/HNSC/20130523/gdac.broadinstitute.org_HNSC-TP.MutSigNozzleReportMerged.mage-tab.2013052300.0.0.tar.gz'\r\n",
        "     0K                                                      100% 1.00G=0s\r\n",
        "--2013-10-02 18:50:56--  http://gdac.broadinstitute.org/runs/analyses__2013_05_23/data/HNSC/20130523/gdac.broadinstitute.org_HNSC-TP.MutSigNozzleReportMerged.mage-tab.2013052300.0.0.tar.gz.md5\r\n"
       ]
      },
      {
       "output_type": "stream",
       "stream": "stdout",
       "text": [
        "Saving to: `analyses__2013_05_23/HNSC/20130523/gdac.broadinstitute.org_HNSC-TP.MutSigNozzleReportMerged.mage-tab.2013052300.0.0.tar.gz.md5'\r\n",
        "     0K                                                      100% 9.35M=0s\r\n",
        "--2013-10-02 18:50:56--  http://gdac.broadinstitute.org/runs/analyses__2013_05_23/data/HNSC/20130523/gdac.broadinstitute.org_HNSC-TP.Mutation_Assessor.Level_4.2013052300.0.0.tar.gz\r\n"
       ]
      },
      {
       "output_type": "stream",
       "stream": "stdout",
       "text": [
        "Saving to: `analyses__2013_05_23/HNSC/20130523/gdac.broadinstitute.org_HNSC-TP.Mutation_Assessor.Level_4.2013052300.0.0.tar.gz'\r\n"
       ]
      },
      {
       "output_type": "stream",
       "stream": "stdout",
       "text": [
        "     0K ........ ........ ........ ........ ........ ........ 18% 1.05M 12s\r\n"
       ]
      },
      {
       "output_type": "stream",
       "stream": "stdout",
       "text": [
        "  3072K ........ ........ ........ ........ ........ ........ 37% 1022K 10s\r\n"
       ]
      },
      {
       "output_type": "stream",
       "stream": "stdout",
       "text": [
        "  6144K ........ ........ ........ ........ ........ ........ 56% 1.01M 7s\r\n"
       ]
      },
      {
       "output_type": "stream",
       "stream": "stdout",
       "text": [
        "  9216K ........ ........ ........ ........ ........ ........ 75% 1.02M 4s\r\n"
       ]
      },
      {
       "output_type": "stream",
       "stream": "stdout",
       "text": [
        " 12288K ........ ........ ........ ........ ........ ........ 94% 1.04M 1s\r\n"
       ]
      },
      {
       "output_type": "stream",
       "stream": "stdout",
       "text": [
        " 15360K ........ ......                                      100%  962K=16s\r\n"
       ]
      },
      {
       "output_type": "stream",
       "stream": "stdout",
       "text": [
        "--2013-10-02 18:51:12--  http://gdac.broadinstitute.org/runs/analyses__2013_05_23/data/HNSC/20130523/gdac.broadinstitute.org_HNSC-TP.Mutation_Assessor.Level_4.2013052300.0.0.tar.gz.md5\r\n"
       ]
      },
      {
       "output_type": "stream",
       "stream": "stdout",
       "text": [
        "Saving to: `analyses__2013_05_23/HNSC/20130523/gdac.broadinstitute.org_HNSC-TP.Mutation_Assessor.Level_4.2013052300.0.0.tar.gz.md5'\r\n",
        "     0K                                                      100% 15.4M=0s\r\n",
        "--2013-10-02 18:51:12--  http://gdac.broadinstitute.org/runs/analyses__2013_05_23/data/HNSC/20130523/gdac.broadinstitute.org_HNSC-TP.Mutation_Assessor.aux.2013052300.0.0.tar.gz\r\n"
       ]
      },
      {
       "output_type": "stream",
       "stream": "stdout",
       "text": [
        "Saving to: `analyses__2013_05_23/HNSC/20130523/gdac.broadinstitute.org_HNSC-TP.Mutation_Assessor.aux.2013052300.0.0.tar.gz'\r\n",
        "     0K                                                      100%  462M=0s\r\n",
        "--2013-10-02 18:51:12--  http://gdac.broadinstitute.org/runs/analyses__2013_05_23/data/HNSC/20130523/gdac.broadinstitute.org_HNSC-TP.Mutation_Assessor.aux.2013052300.0.0.tar.gz.md5\r\n"
       ]
      },
      {
       "output_type": "stream",
       "stream": "stdout",
       "text": [
        "Saving to: `analyses__2013_05_23/HNSC/20130523/gdac.broadinstitute.org_HNSC-TP.Mutation_Assessor.aux.2013052300.0.0.tar.gz.md5'\r\n",
        "     0K                                                      100% 22.9M=0s\r\n",
        "--2013-10-02 18:51:12--  http://gdac.broadinstitute.org/runs/analyses__2013_05_23/data/HNSC/20130523/gdac.broadinstitute.org_HNSC-TP.Mutation_Assessor.mage-tab.2013052300.0.0.tar.gz\r\n"
       ]
      },
      {
       "output_type": "stream",
       "stream": "stdout",
       "text": [
        "Saving to: `analyses__2013_05_23/HNSC/20130523/gdac.broadinstitute.org_HNSC-TP.Mutation_Assessor.mage-tab.2013052300.0.0.tar.gz'\r\n",
        "     0K                                                      100%  246M=0s\r\n",
        "--2013-10-02 18:51:12--  http://gdac.broadinstitute.org/runs/analyses__2013_05_23/data/HNSC/20130523/gdac.broadinstitute.org_HNSC-TP.Mutation_Assessor.mage-tab.2013052300.0.0.tar.gz.md5\r\n"
       ]
      },
      {
       "output_type": "stream",
       "stream": "stdout",
       "text": [
        "Saving to: `analyses__2013_05_23/HNSC/20130523/gdac.broadinstitute.org_HNSC-TP.Mutation_Assessor.mage-tab.2013052300.0.0.tar.gz.md5'\r\n",
        "     0K                                                      100% 24.0M=0s\r\n",
        "--2013-10-02 18:51:12--  http://gdac.broadinstitute.org/runs/analyses__2013_05_23/data/HNSC/20130523/gdac.broadinstitute.org_HNSC-TP.Pathway_Hotnet.Level_3.2013052300.0.0.tar.gz\r\n"
       ]
      },
      {
       "output_type": "stream",
       "stream": "stdout",
       "text": [
        "Saving to: `analyses__2013_05_23/HNSC/20130523/gdac.broadinstitute.org_HNSC-TP.Pathway_Hotnet.Level_3.2013052300.0.0.tar.gz'\r\n",
        "     0K                                                      100%  465M=0s\r\n",
        "--2013-10-02 18:51:12--  http://gdac.broadinstitute.org/runs/analyses__2013_05_23/data/HNSC/20130523/gdac.broadinstitute.org_HNSC-TP.Pathway_Hotnet.Level_3.2013052300.0.0.tar.gz.md5\r\n"
       ]
      },
      {
       "output_type": "stream",
       "stream": "stdout",
       "text": [
        "Saving to: `analyses__2013_05_23/HNSC/20130523/gdac.broadinstitute.org_HNSC-TP.Pathway_Hotnet.Level_3.2013052300.0.0.tar.gz.md5'\r\n",
        "     0K                                                      100% 8.66M=0s\r\n",
        "--2013-10-02 18:51:12--  http://gdac.broadinstitute.org/runs/analyses__2013_05_23/data/HNSC/20130523/gdac.broadinstitute.org_HNSC-TP.Pathway_Hotnet.Level_4.2013052300.0.0.tar.gz\r\n"
       ]
      },
      {
       "output_type": "stream",
       "stream": "stdout",
       "text": [
        "Saving to: `analyses__2013_05_23/HNSC/20130523/gdac.broadinstitute.org_HNSC-TP.Pathway_Hotnet.Level_4.2013052300.0.0.tar.gz'\r\n",
        "     0K                                                      100%  789M=0s\r\n",
        "--2013-10-02 18:51:12--  http://gdac.broadinstitute.org/runs/analyses__2013_05_23/data/HNSC/20130523/gdac.broadinstitute.org_HNSC-TP.Pathway_Hotnet.Level_4.2013052300.0.0.tar.gz.md5\r\n"
       ]
      },
      {
       "output_type": "stream",
       "stream": "stdout",
       "text": [
        "Saving to: `analyses__2013_05_23/HNSC/20130523/gdac.broadinstitute.org_HNSC-TP.Pathway_Hotnet.Level_4.2013052300.0.0.tar.gz.md5'\r\n",
        "     0K                                                      100% 6.76M=0s\r\n",
        "--2013-10-02 18:51:12--  http://gdac.broadinstitute.org/runs/analyses__2013_05_23/data/HNSC/20130523/gdac.broadinstitute.org_HNSC-TP.Pathway_Hotnet.aux.2013052300.0.0.tar.gz\r\n"
       ]
      },
      {
       "output_type": "stream",
       "stream": "stdout",
       "text": [
        "Saving to: `analyses__2013_05_23/HNSC/20130523/gdac.broadinstitute.org_HNSC-TP.Pathway_Hotnet.aux.2013052300.0.0.tar.gz'\r\n",
        "     0K                                                      100%  181M=0s\r\n",
        "--2013-10-02 18:51:13--  http://gdac.broadinstitute.org/runs/analyses__2013_05_23/data/HNSC/20130523/gdac.broadinstitute.org_HNSC-TP.Pathway_Hotnet.aux.2013052300.0.0.tar.gz.md5\r\n"
       ]
      },
      {
       "output_type": "stream",
       "stream": "stdout",
       "text": [
        "Saving to: `analyses__2013_05_23/HNSC/20130523/gdac.broadinstitute.org_HNSC-TP.Pathway_Hotnet.aux.2013052300.0.0.tar.gz.md5'\r\n",
        "     0K                                                      100% 10.2M=0s\r\n",
        "--2013-10-02 18:51:13--  http://gdac.broadinstitute.org/runs/analyses__2013_05_23/data/HNSC/20130523/gdac.broadinstitute.org_HNSC-TP.Pathway_Hotnet.mage-tab.2013052300.0.0.tar.gz\r\n"
       ]
      },
      {
       "output_type": "stream",
       "stream": "stdout",
       "text": [
        "Saving to: `analyses__2013_05_23/HNSC/20130523/gdac.broadinstitute.org_HNSC-TP.Pathway_Hotnet.mage-tab.2013052300.0.0.tar.gz'\r\n",
        "     0K                                                      100%  340M=0s\r\n",
        "--2013-10-02 18:51:13--  http://gdac.broadinstitute.org/runs/analyses__2013_05_23/data/HNSC/20130523/gdac.broadinstitute.org_HNSC-TP.Pathway_Hotnet.mage-tab.2013052300.0.0.tar.gz.md5\r\n"
       ]
      },
      {
       "output_type": "stream",
       "stream": "stdout",
       "text": [
        "Saving to: `analyses__2013_05_23/HNSC/20130523/gdac.broadinstitute.org_HNSC-TP.Pathway_Hotnet.mage-tab.2013052300.0.0.tar.gz.md5'\r\n",
        "     0K                                                      100% 9.41M=0s\r\n",
        "--2013-10-02 18:51:13--  http://gdac.broadinstitute.org/runs/analyses__2013_05_23/data/HNSC/20130523/gdac.broadinstitute.org_HNSC-TP.Pathway_Paradigm_RNASeq.Level_4.2013052300.0.0.tar.gz\r\n"
       ]
      },
      {
       "output_type": "stream",
       "stream": "stdout",
       "text": [
        "Saving to: `analyses__2013_05_23/HNSC/20130523/gdac.broadinstitute.org_HNSC-TP.Pathway_Paradigm_RNASeq.Level_4.2013052300.0.0.tar.gz'\r\n"
       ]
      },
      {
       "output_type": "stream",
       "stream": "stdout",
       "text": [
        "     0K ........ ........ ........ ........ ........ ........ 20% 1.05M 11s\r\n"
       ]
      },
      {
       "output_type": "stream",
       "stream": "stdout",
       "text": [
        "  3072K ........ ........ ........ ........ ........ ........ 41% 1021K 8s\r\n"
       ]
      },
      {
       "output_type": "stream",
       "stream": "stdout",
       "text": [
        "  6144K ........ ........ ........ ........ ........ ........ 62% 1.03M 5s\r\n"
       ]
      },
      {
       "output_type": "stream",
       "stream": "stdout",
       "text": [
        "  9216K ........ ........ ........ ........ ........ ........ 83%  994K 2s\r\n"
       ]
      },
      {
       "output_type": "stream",
       "stream": "stdout",
       "text": [
        " 12288K ........ ........ ........ ........ .....            100%  972K=14s\r\n"
       ]
      },
      {
       "output_type": "stream",
       "stream": "stdout",
       "text": [
        "--2013-10-02 18:51:27--  http://gdac.broadinstitute.org/runs/analyses__2013_05_23/data/HNSC/20130523/gdac.broadinstitute.org_HNSC-TP.Pathway_Paradigm_RNASeq.Level_4.2013052300.0.0.tar.gz.md5\r\n"
       ]
      },
      {
       "output_type": "stream",
       "stream": "stdout",
       "text": [
        "Saving to: `analyses__2013_05_23/HNSC/20130523/gdac.broadinstitute.org_HNSC-TP.Pathway_Paradigm_RNASeq.Level_4.2013052300.0.0.tar.gz.md5'\r\n",
        "     0K                                                      100% 6.42M=0s\r\n",
        "--2013-10-02 18:51:27--  http://gdac.broadinstitute.org/runs/analyses__2013_05_23/data/HNSC/20130523/gdac.broadinstitute.org_HNSC-TP.Pathway_Paradigm_RNASeq.aux.2013052300.0.0.tar.gz\r\n"
       ]
      },
      {
       "output_type": "stream",
       "stream": "stdout",
       "text": [
        "Saving to: `analyses__2013_05_23/HNSC/20130523/gdac.broadinstitute.org_HNSC-TP.Pathway_Paradigm_RNASeq.aux.2013052300.0.0.tar.gz'\r\n",
        "     0K                                                      100%  127M=0s\r\n",
        "--2013-10-02 18:51:28--  http://gdac.broadinstitute.org/runs/analyses__2013_05_23/data/HNSC/20130523/gdac.broadinstitute.org_HNSC-TP.Pathway_Paradigm_RNASeq.aux.2013052300.0.0.tar.gz.md5\r\n"
       ]
      },
      {
       "output_type": "stream",
       "stream": "stdout",
       "text": [
        "Saving to: `analyses__2013_05_23/HNSC/20130523/gdac.broadinstitute.org_HNSC-TP.Pathway_Paradigm_RNASeq.aux.2013052300.0.0.tar.gz.md5'\r\n",
        "     0K                                                      100% 25.4M=0s\r\n",
        "--2013-10-02 18:51:28--  http://gdac.broadinstitute.org/runs/analyses__2013_05_23/data/HNSC/20130523/gdac.broadinstitute.org_HNSC-TP.Pathway_Paradigm_RNASeq.mage-tab.2013052300.0.0.tar.gz\r\n"
       ]
      },
      {
       "output_type": "stream",
       "stream": "stdout",
       "text": [
        "Saving to: `analyses__2013_05_23/HNSC/20130523/gdac.broadinstitute.org_HNSC-TP.Pathway_Paradigm_RNASeq.mage-tab.2013052300.0.0.tar.gz'\r\n",
        "     0K                                                      100%  209M=0s\r\n",
        "--2013-10-02 18:51:28--  http://gdac.broadinstitute.org/runs/analyses__2013_05_23/data/HNSC/20130523/gdac.broadinstitute.org_HNSC-TP.Pathway_Paradigm_RNASeq.mage-tab.2013052300.0.0.tar.gz.md5\r\n"
       ]
      },
      {
       "output_type": "stream",
       "stream": "stdout",
       "text": [
        "Saving to: `analyses__2013_05_23/HNSC/20130523/gdac.broadinstitute.org_HNSC-TP.Pathway_Paradigm_RNASeq.mage-tab.2013052300.0.0.tar.gz.md5'\r\n",
        "     0K                                                      100% 22.5M=0s\r\n",
        "--2013-10-02 18:51:28--  http://gdac.broadinstitute.org/runs/analyses__2013_05_23/data/HNSC/20130523/gdac.broadinstitute.org_HNSC-TP.Pathway_Paradigm_RNASeq_And_Copy_Number.Level_4.2013052300.0.0.tar.gz\r\n"
       ]
      },
      {
       "output_type": "stream",
       "stream": "stdout",
       "text": [
        "Saving to: `analyses__2013_05_23/HNSC/20130523/gdac.broadinstitute.org_HNSC-TP.Pathway_Paradigm_RNASeq_And_Copy_Number.Level_4.2013052300.0.0.tar.gz'\r\n"
       ]
      },
      {
       "output_type": "stream",
       "stream": "stdout",
       "text": [
        "     0K ........ ........ ........ ........ ........ ........ 19% 1.02M 12s\r\n"
       ]
      },
      {
       "output_type": "stream",
       "stream": "stdout",
       "text": [
        "  3072K ........ ........ ........ ........ ........ ........ 38%  996K 10s\r\n"
       ]
      },
      {
       "output_type": "stream",
       "stream": "stdout",
       "text": [
        "  6144K ........ ........ ........ ........ ........ ........ 57%  971K 7s\r\n"
       ]
      },
      {
       "output_type": "stream",
       "stream": "stdout",
       "text": [
        "  9216K ........ ........ ........ ........ ........ ........ 76% 1022K 4s\r\n"
       ]
      },
      {
       "output_type": "stream",
       "stream": "stdout",
       "text": [
        " 12288K ........ ........ ........ ........ ........ ........ 95%  995K 1s\r\n"
       ]
      },
      {
       "output_type": "stream",
       "stream": "stdout",
       "text": [
        " 15360K ........ ..                                          100% 1.01M=16s\r\n"
       ]
      },
      {
       "output_type": "stream",
       "stream": "stdout",
       "text": [
        "--2013-10-02 18:51:44--  http://gdac.broadinstitute.org/runs/analyses__2013_05_23/data/HNSC/20130523/gdac.broadinstitute.org_HNSC-TP.Pathway_Paradigm_RNASeq_And_Copy_Number.Level_4.2013052300.0.0.tar.gz.md5\r\n"
       ]
      },
      {
       "output_type": "stream",
       "stream": "stdout",
       "text": [
        "Saving to: `analyses__2013_05_23/HNSC/20130523/gdac.broadinstitute.org_HNSC-TP.Pathway_Paradigm_RNASeq_And_Copy_Number.Level_4.2013052300.0.0.tar.gz.md5'\r\n",
        "     0K                                                      100% 18.9M=0s\r\n",
        "--2013-10-02 18:51:44--  http://gdac.broadinstitute.org/runs/analyses__2013_05_23/data/HNSC/20130523/gdac.broadinstitute.org_HNSC-TP.Pathway_Paradigm_RNASeq_And_Copy_Number.aux.2013052300.0.0.tar.gz\r\n"
       ]
      },
      {
       "output_type": "stream",
       "stream": "stdout",
       "text": [
        "Saving to: `analyses__2013_05_23/HNSC/20130523/gdac.broadinstitute.org_HNSC-TP.Pathway_Paradigm_RNASeq_And_Copy_Number.aux.2013052300.0.0.tar.gz'\r\n",
        "     0K                                                      100%  142M=0s\r\n",
        "--2013-10-02 18:51:44--  http://gdac.broadinstitute.org/runs/analyses__2013_05_23/data/HNSC/20130523/gdac.broadinstitute.org_HNSC-TP.Pathway_Paradigm_RNASeq_And_Copy_Number.aux.2013052300.0.0.tar.gz.md5\r\n"
       ]
      },
      {
       "output_type": "stream",
       "stream": "stdout",
       "text": [
        "Saving to: `analyses__2013_05_23/HNSC/20130523/gdac.broadinstitute.org_HNSC-TP.Pathway_Paradigm_RNASeq_And_Copy_Number.aux.2013052300.0.0.tar.gz.md5'\r\n",
        "     0K                                                      100% 10.1M=0s\r\n",
        "--2013-10-02 18:51:44--  http://gdac.broadinstitute.org/runs/analyses__2013_05_23/data/HNSC/20130523/gdac.broadinstitute.org_HNSC-TP.Pathway_Paradigm_RNASeq_And_Copy_Number.mage-tab.2013052300.0.0.tar.gz\r\n"
       ]
      },
      {
       "output_type": "stream",
       "stream": "stdout",
       "text": [
        "Saving to: `analyses__2013_05_23/HNSC/20130523/gdac.broadinstitute.org_HNSC-TP.Pathway_Paradigm_RNASeq_And_Copy_Number.mage-tab.2013052300.0.0.tar.gz'\r\n",
        "     0K                                                      100%  361M=0s\r\n",
        "--2013-10-02 18:51:44--  http://gdac.broadinstitute.org/runs/analyses__2013_05_23/data/HNSC/20130523/gdac.broadinstitute.org_HNSC-TP.Pathway_Paradigm_RNASeq_And_Copy_Number.mage-tab.2013052300.0.0.tar.gz.md5\r\n"
       ]
      },
      {
       "output_type": "stream",
       "stream": "stdout",
       "text": [
        "Saving to: `analyses__2013_05_23/HNSC/20130523/gdac.broadinstitute.org_HNSC-TP.Pathway_Paradigm_RNASeq_And_Copy_Number.mage-tab.2013052300.0.0.tar.gz.md5'\r\n",
        "     0K                                                      100% 30.7M=0s\r\n",
        "--2013-10-02 18:51:44--  http://gdac.broadinstitute.org/runs/analyses__2013_05_23/data/HNSC/20130523/gdac.broadinstitute.org_HNSC-TP.RPPA_Clustering_CNMF.Level_4.2013052300.0.0.tar.gz\r\n"
       ]
      },
      {
       "output_type": "stream",
       "stream": "stdout",
       "text": [
        "Saving to: `analyses__2013_05_23/HNSC/20130523/gdac.broadinstitute.org_HNSC-TP.RPPA_Clustering_CNMF.Level_4.2013052300.0.0.tar.gz'\r\n"
       ]
      },
      {
       "output_type": "stream",
       "stream": "stdout",
       "text": [
        "     0K ........ ........ ..                                 100% 1.08M=1.1s\r\n",
        "--2013-10-02 18:51:46--  http://gdac.broadinstitute.org/runs/analyses__2013_05_23/data/HNSC/20130523/gdac.broadinstitute.org_HNSC-TP.RPPA_Clustering_CNMF.Level_4.2013052300.0.0.tar.gz.md5\r\n"
       ]
      },
      {
       "output_type": "stream",
       "stream": "stdout",
       "text": [
        "Saving to: `analyses__2013_05_23/HNSC/20130523/gdac.broadinstitute.org_HNSC-TP.RPPA_Clustering_CNMF.Level_4.2013052300.0.0.tar.gz.md5'\r\n",
        "     0K                                                      100% 24.4M=0s\r\n",
        "--2013-10-02 18:51:46--  http://gdac.broadinstitute.org/runs/analyses__2013_05_23/data/HNSC/20130523/gdac.broadinstitute.org_HNSC-TP.RPPA_Clustering_CNMF.aux.2013052300.0.0.tar.gz\r\n"
       ]
      },
      {
       "output_type": "stream",
       "stream": "stdout",
       "text": [
        "Saving to: `analyses__2013_05_23/HNSC/20130523/gdac.broadinstitute.org_HNSC-TP.RPPA_Clustering_CNMF.aux.2013052300.0.0.tar.gz'\r\n",
        "     0K                                                      100%  924M=0s\r\n",
        "--2013-10-02 18:51:46--  http://gdac.broadinstitute.org/runs/analyses__2013_05_23/data/HNSC/20130523/gdac.broadinstitute.org_HNSC-TP.RPPA_Clustering_CNMF.aux.2013052300.0.0.tar.gz.md5\r\n"
       ]
      },
      {
       "output_type": "stream",
       "stream": "stdout",
       "text": [
        "Saving to: `analyses__2013_05_23/HNSC/20130523/gdac.broadinstitute.org_HNSC-TP.RPPA_Clustering_CNMF.aux.2013052300.0.0.tar.gz.md5'\r\n",
        "     0K                                                      100% 24.8M=0s\r\n",
        "--2013-10-02 18:51:46--  http://gdac.broadinstitute.org/runs/analyses__2013_05_23/data/HNSC/20130523/gdac.broadinstitute.org_HNSC-TP.RPPA_Clustering_CNMF.mage-tab.2013052300.0.0.tar.gz\r\n"
       ]
      },
      {
       "output_type": "stream",
       "stream": "stdout",
       "text": [
        "Saving to: `analyses__2013_05_23/HNSC/20130523/gdac.broadinstitute.org_HNSC-TP.RPPA_Clustering_CNMF.mage-tab.2013052300.0.0.tar.gz'\r\n",
        "     0K                                                      100%  142M=0s\r\n",
        "--2013-10-02 18:51:46--  http://gdac.broadinstitute.org/runs/analyses__2013_05_23/data/HNSC/20130523/gdac.broadinstitute.org_HNSC-TP.RPPA_Clustering_CNMF.mage-tab.2013052300.0.0.tar.gz.md5\r\n"
       ]
      },
      {
       "output_type": "stream",
       "stream": "stdout",
       "text": [
        "Saving to: `analyses__2013_05_23/HNSC/20130523/gdac.broadinstitute.org_HNSC-TP.RPPA_Clustering_CNMF.mage-tab.2013052300.0.0.tar.gz.md5'\r\n",
        "     0K                                                      100% 9.24M=0s\r\n",
        "--2013-10-02 18:51:46--  http://gdac.broadinstitute.org/runs/analyses__2013_05_23/data/HNSC/20130523/gdac.broadinstitute.org_HNSC-TP.RPPA_Clustering_Consensus.Level_4.2013052300.0.0.tar.gz\r\n"
       ]
      },
      {
       "output_type": "stream",
       "stream": "stdout",
       "text": [
        "Saving to: `analyses__2013_05_23/HNSC/20130523/gdac.broadinstitute.org_HNSC-TP.RPPA_Clustering_Consensus.Level_4.2013052300.0.0.tar.gz'\r\n"
       ]
      },
      {
       "output_type": "stream",
       "stream": "stdout",
       "text": [
        "     0K ........ ........ ........ .....                     100% 1.04M=1.8s\r\n",
        "--2013-10-02 18:51:48--  http://gdac.broadinstitute.org/runs/analyses__2013_05_23/data/HNSC/20130523/gdac.broadinstitute.org_HNSC-TP.RPPA_Clustering_Consensus.Level_4.2013052300.0.0.tar.gz.md5\r\n"
       ]
      },
      {
       "output_type": "stream",
       "stream": "stdout",
       "text": [
        "Saving to: `analyses__2013_05_23/HNSC/20130523/gdac.broadinstitute.org_HNSC-TP.RPPA_Clustering_Consensus.Level_4.2013052300.0.0.tar.gz.md5'\r\n",
        "     0K                                                      100% 24.0M=0s\r\n",
        "--2013-10-02 18:51:48--  http://gdac.broadinstitute.org/runs/analyses__2013_05_23/data/HNSC/20130523/gdac.broadinstitute.org_HNSC-TP.RPPA_Clustering_Consensus.aux.2013052300.0.0.tar.gz\r\n"
       ]
      },
      {
       "output_type": "stream",
       "stream": "stdout",
       "text": [
        "Saving to: `analyses__2013_05_23/HNSC/20130523/gdac.broadinstitute.org_HNSC-TP.RPPA_Clustering_Consensus.aux.2013052300.0.0.tar.gz'\r\n",
        "     0K                                                      100%  246M=0s\r\n",
        "--2013-10-02 18:51:48--  http://gdac.broadinstitute.org/runs/analyses__2013_05_23/data/HNSC/20130523/gdac.broadinstitute.org_HNSC-TP.RPPA_Clustering_Consensus.aux.2013052300.0.0.tar.gz.md5\r\n"
       ]
      },
      {
       "output_type": "stream",
       "stream": "stdout",
       "text": [
        "Saving to: `analyses__2013_05_23/HNSC/20130523/gdac.broadinstitute.org_HNSC-TP.RPPA_Clustering_Consensus.aux.2013052300.0.0.tar.gz.md5'\r\n",
        "     0K                                                      100% 20.8M=0s\r\n",
        "--2013-10-02 18:51:48--  http://gdac.broadinstitute.org/runs/analyses__2013_05_23/data/HNSC/20130523/gdac.broadinstitute.org_HNSC-TP.RPPA_Clustering_Consensus.mage-tab.2013052300.0.0.tar.gz\r\n"
       ]
      },
      {
       "output_type": "stream",
       "stream": "stdout",
       "text": [
        "Saving to: `analyses__2013_05_23/HNSC/20130523/gdac.broadinstitute.org_HNSC-TP.RPPA_Clustering_Consensus.mage-tab.2013052300.0.0.tar.gz'\r\n",
        "     0K                                                      100%  346M=0s\r\n",
        "--2013-10-02 18:51:48--  http://gdac.broadinstitute.org/runs/analyses__2013_05_23/data/HNSC/20130523/gdac.broadinstitute.org_HNSC-TP.RPPA_Clustering_Consensus.mage-tab.2013052300.0.0.tar.gz.md5\r\n"
       ]
      },
      {
       "output_type": "stream",
       "stream": "stdout",
       "text": [
        "Saving to: `analyses__2013_05_23/HNSC/20130523/gdac.broadinstitute.org_HNSC-TP.RPPA_Clustering_Consensus.mage-tab.2013052300.0.0.tar.gz.md5'\r\n",
        "     0K                                                      100% 9.50M=0s\r\n",
        "--2013-10-02 18:51:48--  http://gdac.broadinstitute.org/runs/analyses__2013_05_23/data/HNSC/20130523/gdac.broadinstitute.org_HNSC-TP.mRNAseq_Clustering_CNMF.Level_4.2013052300.0.0.tar.gz\r\n"
       ]
      },
      {
       "output_type": "stream",
       "stream": "stdout",
       "text": [
        "Saving to: `analyses__2013_05_23/HNSC/20130523/gdac.broadinstitute.org_HNSC-TP.mRNAseq_Clustering_CNMF.Level_4.2013052300.0.0.tar.gz'\r\n"
       ]
      },
      {
       "output_type": "stream",
       "stream": "stdout",
       "text": [
        "     0K ........ ........ ........ ........ ........ ........ 36%  993K 5s\r\n"
       ]
      },
      {
       "output_type": "stream",
       "stream": "stdout",
       "text": [
        "  3072K ........ ........ ........ ........ ........ ........ 72%  995K 2s\r\n"
       ]
      },
      {
       "output_type": "stream",
       "stream": "stdout",
       "text": [
        "  6144K ........ ........ ........ ........ ...              100% 1.01M=8.4s\r\n"
       ]
      },
      {
       "output_type": "stream",
       "stream": "stdout",
       "text": [
        "--2013-10-02 18:51:57--  http://gdac.broadinstitute.org/runs/analyses__2013_05_23/data/HNSC/20130523/gdac.broadinstitute.org_HNSC-TP.mRNAseq_Clustering_CNMF.Level_4.2013052300.0.0.tar.gz.md5\r\n"
       ]
      },
      {
       "output_type": "stream",
       "stream": "stdout",
       "text": [
        "Saving to: `analyses__2013_05_23/HNSC/20130523/gdac.broadinstitute.org_HNSC-TP.mRNAseq_Clustering_CNMF.Level_4.2013052300.0.0.tar.gz.md5'\r\n",
        "     0K                                                      100% 9.97M=0s\r\n"
       ]
      },
      {
       "output_type": "stream",
       "stream": "stdout",
       "text": [
        "--2013-10-02 18:51:57--  http://gdac.broadinstitute.org/runs/analyses__2013_05_23/data/HNSC/20130523/gdac.broadinstitute.org_HNSC-TP.mRNAseq_Clustering_CNMF.aux.2013052300.0.0.tar.gz\r\n"
       ]
      },
      {
       "output_type": "stream",
       "stream": "stdout",
       "text": [
        "Saving to: `analyses__2013_05_23/HNSC/20130523/gdac.broadinstitute.org_HNSC-TP.mRNAseq_Clustering_CNMF.aux.2013052300.0.0.tar.gz'\r\n",
        "     0K                                                      100%  891M=0s\r\n",
        "--2013-10-02 18:51:57--  http://gdac.broadinstitute.org/runs/analyses__2013_05_23/data/HNSC/20130523/gdac.broadinstitute.org_HNSC-TP.mRNAseq_Clustering_CNMF.aux.2013052300.0.0.tar.gz.md5\r\n"
       ]
      },
      {
       "output_type": "stream",
       "stream": "stdout",
       "text": [
        "Saving to: `analyses__2013_05_23/HNSC/20130523/gdac.broadinstitute.org_HNSC-TP.mRNAseq_Clustering_CNMF.aux.2013052300.0.0.tar.gz.md5'\r\n",
        "     0K                                                      100% 21.9M=0s\r\n",
        "--2013-10-02 18:51:57--  http://gdac.broadinstitute.org/runs/analyses__2013_05_23/data/HNSC/20130523/gdac.broadinstitute.org_HNSC-TP.mRNAseq_Clustering_CNMF.mage-tab.2013052300.0.0.tar.gz\r\n"
       ]
      },
      {
       "output_type": "stream",
       "stream": "stdout",
       "text": [
        "Saving to: `analyses__2013_05_23/HNSC/20130523/gdac.broadinstitute.org_HNSC-TP.mRNAseq_Clustering_CNMF.mage-tab.2013052300.0.0.tar.gz'\r\n",
        "     0K                                                      100%  369M=0s\r\n",
        "--2013-10-02 18:51:57--  http://gdac.broadinstitute.org/runs/analyses__2013_05_23/data/HNSC/20130523/gdac.broadinstitute.org_HNSC-TP.mRNAseq_Clustering_CNMF.mage-tab.2013052300.0.0.tar.gz.md5\r\n"
       ]
      },
      {
       "output_type": "stream",
       "stream": "stdout",
       "text": [
        "Saving to: `analyses__2013_05_23/HNSC/20130523/gdac.broadinstitute.org_HNSC-TP.mRNAseq_Clustering_CNMF.mage-tab.2013052300.0.0.tar.gz.md5'\r\n",
        "     0K                                                      100% 23.9M=0s\r\n",
        "--2013-10-02 18:51:57--  http://gdac.broadinstitute.org/runs/analyses__2013_05_23/data/HNSC/20130523/gdac.broadinstitute.org_HNSC-TP.mRNAseq_Clustering_Consensus.Level_4.2013052300.0.0.tar.gz\r\n"
       ]
      },
      {
       "output_type": "stream",
       "stream": "stdout",
       "text": [
        "Saving to: `analyses__2013_05_23/HNSC/20130523/gdac.broadinstitute.org_HNSC-TP.mRNAseq_Clustering_Consensus.Level_4.2013052300.0.0.tar.gz'\r\n"
       ]
      },
      {
       "output_type": "stream",
       "stream": "stdout",
       "text": [
        "     0K ........ ........ ........ ........ ........ ........ 36% 1.03M 5s\r\n"
       ]
      },
      {
       "output_type": "stream",
       "stream": "stdout",
       "text": [
        "  3072K ........ ........ ........ ........ ........ ........ 72% 1.02M 2s\r\n"
       ]
      },
      {
       "output_type": "stream",
       "stream": "stdout",
       "text": [
        "  6144K ........ ........ ........ ........ ....             100% 1.01M=8.1s\r\n"
       ]
      },
      {
       "output_type": "stream",
       "stream": "stdout",
       "text": [
        "--2013-10-02 18:52:06--  http://gdac.broadinstitute.org/runs/analyses__2013_05_23/data/HNSC/20130523/gdac.broadinstitute.org_HNSC-TP.mRNAseq_Clustering_Consensus.Level_4.2013052300.0.0.tar.gz.md5\r\n"
       ]
      },
      {
       "output_type": "stream",
       "stream": "stdout",
       "text": [
        "Saving to: `analyses__2013_05_23/HNSC/20130523/gdac.broadinstitute.org_HNSC-TP.mRNAseq_Clustering_Consensus.Level_4.2013052300.0.0.tar.gz.md5'\r\n",
        "     0K                                                      100% 16.7M=0s\r\n",
        "--2013-10-02 18:52:06--  http://gdac.broadinstitute.org/runs/analyses__2013_05_23/data/HNSC/20130523/gdac.broadinstitute.org_HNSC-TP.mRNAseq_Clustering_Consensus.aux.2013052300.0.0.tar.gz\r\n"
       ]
      },
      {
       "output_type": "stream",
       "stream": "stdout",
       "text": [
        "Saving to: `analyses__2013_05_23/HNSC/20130523/gdac.broadinstitute.org_HNSC-TP.mRNAseq_Clustering_Consensus.aux.2013052300.0.0.tar.gz'\r\n",
        "     0K                                                      100%  313M=0s\r\n",
        "--2013-10-02 18:52:06--  http://gdac.broadinstitute.org/runs/analyses__2013_05_23/data/HNSC/20130523/gdac.broadinstitute.org_HNSC-TP.mRNAseq_Clustering_Consensus.aux.2013052300.0.0.tar.gz.md5\r\n"
       ]
      },
      {
       "output_type": "stream",
       "stream": "stdout",
       "text": [
        "Saving to: `analyses__2013_05_23/HNSC/20130523/gdac.broadinstitute.org_HNSC-TP.mRNAseq_Clustering_Consensus.aux.2013052300.0.0.tar.gz.md5'\r\n",
        "     0K                                                      100% 22.6M=0s\r\n",
        "--2013-10-02 18:52:06--  http://gdac.broadinstitute.org/runs/analyses__2013_05_23/data/HNSC/20130523/gdac.broadinstitute.org_HNSC-TP.mRNAseq_Clustering_Consensus.mage-tab.2013052300.0.0.tar.gz\r\n"
       ]
      },
      {
       "output_type": "stream",
       "stream": "stdout",
       "text": [
        "Saving to: `analyses__2013_05_23/HNSC/20130523/gdac.broadinstitute.org_HNSC-TP.mRNAseq_Clustering_Consensus.mage-tab.2013052300.0.0.tar.gz'\r\n",
        "     0K                                                      100%  406M=0s\r\n",
        "--2013-10-02 18:52:06--  http://gdac.broadinstitute.org/runs/analyses__2013_05_23/data/HNSC/20130523/gdac.broadinstitute.org_HNSC-TP.mRNAseq_Clustering_Consensus.mage-tab.2013052300.0.0.tar.gz.md5\r\n"
       ]
      },
      {
       "output_type": "stream",
       "stream": "stdout",
       "text": [
        "Saving to: `analyses__2013_05_23/HNSC/20130523/gdac.broadinstitute.org_HNSC-TP.mRNAseq_Clustering_Consensus.mage-tab.2013052300.0.0.tar.gz.md5'\r\n",
        "     0K                                                      100% 24.9M=0s\r\n",
        "--2013-10-02 18:52:06--  http://gdac.broadinstitute.org/runs/analyses__2013_05_23/data/HNSC/20130523/gdac.broadinstitute.org_HNSC-TP.miRseq_Clustering_CNMF.Level_4.2013052300.0.0.tar.gz\r\n"
       ]
      },
      {
       "output_type": "stream",
       "stream": "stdout",
       "text": [
        "Saving to: `analyses__2013_05_23/HNSC/20130523/gdac.broadinstitute.org_HNSC-TP.miRseq_Clustering_CNMF.Level_4.2013052300.0.0.tar.gz'\r\n"
       ]
      },
      {
       "output_type": "stream",
       "stream": "stdout",
       "text": [
        "     0K ........ ........ ........ ......                    100% 1.02M=1.9s\r\n",
        "--2013-10-02 18:52:08--  http://gdac.broadinstitute.org/runs/analyses__2013_05_23/data/HNSC/20130523/gdac.broadinstitute.org_HNSC-TP.miRseq_Clustering_CNMF.Level_4.2013052300.0.0.tar.gz.md5\r\n"
       ]
      },
      {
       "output_type": "stream",
       "stream": "stdout",
       "text": [
        "Saving to: `analyses__2013_05_23/HNSC/20130523/gdac.broadinstitute.org_HNSC-TP.miRseq_Clustering_CNMF.Level_4.2013052300.0.0.tar.gz.md5'\r\n",
        "     0K                                                      100% 11.4M=0s\r\n",
        "--2013-10-02 18:52:08--  http://gdac.broadinstitute.org/runs/analyses__2013_05_23/data/HNSC/20130523/gdac.broadinstitute.org_HNSC-TP.miRseq_Clustering_CNMF.aux.2013052300.0.0.tar.gz\r\n"
       ]
      },
      {
       "output_type": "stream",
       "stream": "stdout",
       "text": [
        "Saving to: `analyses__2013_05_23/HNSC/20130523/gdac.broadinstitute.org_HNSC-TP.miRseq_Clustering_CNMF.aux.2013052300.0.0.tar.gz'\r\n",
        "     0K                                                      100% 1.05G=0s\r\n",
        "--2013-10-02 18:52:08--  http://gdac.broadinstitute.org/runs/analyses__2013_05_23/data/HNSC/20130523/gdac.broadinstitute.org_HNSC-TP.miRseq_Clustering_CNMF.aux.2013052300.0.0.tar.gz.md5\r\n"
       ]
      },
      {
       "output_type": "stream",
       "stream": "stdout",
       "text": [
        "Saving to: `analyses__2013_05_23/HNSC/20130523/gdac.broadinstitute.org_HNSC-TP.miRseq_Clustering_CNMF.aux.2013052300.0.0.tar.gz.md5'\r\n",
        "     0K                                                      100% 22.5M=0s\r\n",
        "--2013-10-02 18:52:08--  http://gdac.broadinstitute.org/runs/analyses__2013_05_23/data/HNSC/20130523/gdac.broadinstitute.org_HNSC-TP.miRseq_Clustering_CNMF.mage-tab.2013052300.0.0.tar.gz\r\n"
       ]
      },
      {
       "output_type": "stream",
       "stream": "stdout",
       "text": [
        "Saving to: `analyses__2013_05_23/HNSC/20130523/gdac.broadinstitute.org_HNSC-TP.miRseq_Clustering_CNMF.mage-tab.2013052300.0.0.tar.gz'\r\n",
        "     0K                                                      100%  146M=0s\r\n",
        "--2013-10-02 18:52:08--  http://gdac.broadinstitute.org/runs/analyses__2013_05_23/data/HNSC/20130523/gdac.broadinstitute.org_HNSC-TP.miRseq_Clustering_CNMF.mage-tab.2013052300.0.0.tar.gz.md5\r\n"
       ]
      },
      {
       "output_type": "stream",
       "stream": "stdout",
       "text": [
        "Saving to: `analyses__2013_05_23/HNSC/20130523/gdac.broadinstitute.org_HNSC-TP.miRseq_Clustering_CNMF.mage-tab.2013052300.0.0.tar.gz.md5'\r\n",
        "     0K                                                      100% 20.6M=0s\r\n",
        "--2013-10-02 18:52:08--  http://gdac.broadinstitute.org/runs/analyses__2013_05_23/data/HNSC/20130523/gdac.broadinstitute.org_HNSC-TP.miRseq_Clustering_Consensus.Level_4.2013052300.0.0.tar.gz\r\n"
       ]
      },
      {
       "output_type": "stream",
       "stream": "stdout",
       "text": [
        "Saving to: `analyses__2013_05_23/HNSC/20130523/gdac.broadinstitute.org_HNSC-TP.miRseq_Clustering_Consensus.Level_4.2013052300.0.0.tar.gz'\r\n"
       ]
      },
      {
       "output_type": "stream",
       "stream": "stdout",
       "text": [
        "     0K ........ ........ ........ ........ ........ ........ 86% 1021K 0s\r\n"
       ]
      },
      {
       "output_type": "stream",
       "stream": "stdout",
       "text": [
        "  3072K .......                                              100% 1019K=3.5s\r\n"
       ]
      },
      {
       "output_type": "stream",
       "stream": "stdout",
       "text": [
        "--2013-10-02 18:52:12--  http://gdac.broadinstitute.org/runs/analyses__2013_05_23/data/HNSC/20130523/gdac.broadinstitute.org_HNSC-TP.miRseq_Clustering_Consensus.Level_4.2013052300.0.0.tar.gz.md5\r\n"
       ]
      },
      {
       "output_type": "stream",
       "stream": "stdout",
       "text": [
        "Saving to: `analyses__2013_05_23/HNSC/20130523/gdac.broadinstitute.org_HNSC-TP.miRseq_Clustering_Consensus.Level_4.2013052300.0.0.tar.gz.md5'\r\n",
        "     0K                                                      100% 28.6M=0s\r\n",
        "--2013-10-02 18:52:12--  http://gdac.broadinstitute.org/runs/analyses__2013_05_23/data/HNSC/20130523/gdac.broadinstitute.org_HNSC-TP.miRseq_Clustering_Consensus.aux.2013052300.0.0.tar.gz\r\n"
       ]
      },
      {
       "output_type": "stream",
       "stream": "stdout",
       "text": [
        "Saving to: `analyses__2013_05_23/HNSC/20130523/gdac.broadinstitute.org_HNSC-TP.miRseq_Clustering_Consensus.aux.2013052300.0.0.tar.gz'\r\n",
        "     0K                                                      100%  119M=0s\r\n",
        "--2013-10-02 18:52:12--  http://gdac.broadinstitute.org/runs/analyses__2013_05_23/data/HNSC/20130523/gdac.broadinstitute.org_HNSC-TP.miRseq_Clustering_Consensus.aux.2013052300.0.0.tar.gz.md5\r\n"
       ]
      },
      {
       "output_type": "stream",
       "stream": "stdout",
       "text": [
        "Saving to: `analyses__2013_05_23/HNSC/20130523/gdac.broadinstitute.org_HNSC-TP.miRseq_Clustering_Consensus.aux.2013052300.0.0.tar.gz.md5'\r\n",
        "     0K                                                      100% 22.5M=0s\r\n",
        "--2013-10-02 18:52:12--  http://gdac.broadinstitute.org/runs/analyses__2013_05_23/data/HNSC/20130523/gdac.broadinstitute.org_HNSC-TP.miRseq_Clustering_Consensus.mage-tab.2013052300.0.0.tar.gz\r\n"
       ]
      },
      {
       "output_type": "stream",
       "stream": "stdout",
       "text": [
        "Saving to: `analyses__2013_05_23/HNSC/20130523/gdac.broadinstitute.org_HNSC-TP.miRseq_Clustering_Consensus.mage-tab.2013052300.0.0.tar.gz'\r\n",
        "     0K                                                      100%  425M=0s\r\n"
       ]
      },
      {
       "output_type": "stream",
       "stream": "stdout",
       "text": [
        "--2013-10-02 18:52:12--  http://gdac.broadinstitute.org/runs/analyses__2013_05_23/data/HNSC/20130523/gdac.broadinstitute.org_HNSC-TP.miRseq_Clustering_Consensus.mage-tab.2013052300.0.0.tar.gz.md5\r\n"
       ]
      },
      {
       "output_type": "stream",
       "stream": "stdout",
       "text": [
        "Saving to: `analyses__2013_05_23/HNSC/20130523/gdac.broadinstitute.org_HNSC-TP.miRseq_Clustering_Consensus.mage-tab.2013052300.0.0.tar.gz.md5'\r\n",
        "     0K                                                      100% 25.2M=0s\r\n",
        "--2013-10-02 18:52:12--  http://gdac.broadinstitute.org/runs/analyses__2013_05_23/data/HNSC/20130523/gdac.broadinstitute.org_HNSC-TP.miRseq_Mature_Clustering_CNMF.Level_4.2013052300.0.0.tar.gz\r\n"
       ]
      },
      {
       "output_type": "stream",
       "stream": "stdout",
       "text": [
        "Saving to: `analyses__2013_05_23/HNSC/20130523/gdac.broadinstitute.org_HNSC-TP.miRseq_Mature_Clustering_CNMF.Level_4.2013052300.0.0.tar.gz'\r\n"
       ]
      },
      {
       "output_type": "stream",
       "stream": "stdout",
       "text": [
        "     0K ........ ........ ........ ......                    100% 1.07M=1.8s\r\n",
        "--2013-10-02 18:52:14--  http://gdac.broadinstitute.org/runs/analyses__2013_05_23/data/HNSC/20130523/gdac.broadinstitute.org_HNSC-TP.miRseq_Mature_Clustering_CNMF.Level_4.2013052300.0.0.tar.gz.md5\r\n"
       ]
      },
      {
       "output_type": "stream",
       "stream": "stdout",
       "text": [
        "Saving to: `analyses__2013_05_23/HNSC/20130523/gdac.broadinstitute.org_HNSC-TP.miRseq_Mature_Clustering_CNMF.Level_4.2013052300.0.0.tar.gz.md5'\r\n",
        "     0K                                                      100% 26.1M=0s\r\n",
        "--2013-10-02 18:52:14--  http://gdac.broadinstitute.org/runs/analyses__2013_05_23/data/HNSC/20130523/gdac.broadinstitute.org_HNSC-TP.miRseq_Mature_Clustering_CNMF.aux.2013052300.0.0.tar.gz\r\n"
       ]
      },
      {
       "output_type": "stream",
       "stream": "stdout",
       "text": [
        "Saving to: `analyses__2013_05_23/HNSC/20130523/gdac.broadinstitute.org_HNSC-TP.miRseq_Mature_Clustering_CNMF.aux.2013052300.0.0.tar.gz'\r\n",
        "     0K                                                      100% 1.03G=0s\r\n",
        "--2013-10-02 18:52:15--  http://gdac.broadinstitute.org/runs/analyses__2013_05_23/data/HNSC/20130523/gdac.broadinstitute.org_HNSC-TP.miRseq_Mature_Clustering_CNMF.aux.2013052300.0.0.tar.gz.md5\r\n"
       ]
      },
      {
       "output_type": "stream",
       "stream": "stdout",
       "text": [
        "Saving to: `analyses__2013_05_23/HNSC/20130523/gdac.broadinstitute.org_HNSC-TP.miRseq_Mature_Clustering_CNMF.aux.2013052300.0.0.tar.gz.md5'\r\n",
        "     0K                                                      100% 9.61M=0s\r\n",
        "--2013-10-02 18:52:15--  http://gdac.broadinstitute.org/runs/analyses__2013_05_23/data/HNSC/20130523/gdac.broadinstitute.org_HNSC-TP.miRseq_Mature_Clustering_CNMF.mage-tab.2013052300.0.0.tar.gz\r\n"
       ]
      },
      {
       "output_type": "stream",
       "stream": "stdout",
       "text": [
        "Saving to: `analyses__2013_05_23/HNSC/20130523/gdac.broadinstitute.org_HNSC-TP.miRseq_Mature_Clustering_CNMF.mage-tab.2013052300.0.0.tar.gz'\r\n",
        "     0K                                                      100%  142M=0s\r\n",
        "--2013-10-02 18:52:15--  http://gdac.broadinstitute.org/runs/analyses__2013_05_23/data/HNSC/20130523/gdac.broadinstitute.org_HNSC-TP.miRseq_Mature_Clustering_CNMF.mage-tab.2013052300.0.0.tar.gz.md5\r\n"
       ]
      },
      {
       "output_type": "stream",
       "stream": "stdout",
       "text": [
        "Saving to: `analyses__2013_05_23/HNSC/20130523/gdac.broadinstitute.org_HNSC-TP.miRseq_Mature_Clustering_CNMF.mage-tab.2013052300.0.0.tar.gz.md5'\r\n",
        "     0K                                                      100% 10.0M=0s\r\n",
        "--2013-10-02 18:52:15--  http://gdac.broadinstitute.org/runs/analyses__2013_05_23/data/HNSC/20130523/gdac.broadinstitute.org_HNSC-TP.miRseq_Mature_Clustering_Consensus.Level_4.2013052300.0.0.tar.gz\r\n"
       ]
      },
      {
       "output_type": "stream",
       "stream": "stdout",
       "text": [
        "Saving to: `analyses__2013_05_23/HNSC/20130523/gdac.broadinstitute.org_HNSC-TP.miRseq_Mature_Clustering_Consensus.Level_4.2013052300.0.0.tar.gz'\r\n"
       ]
      },
      {
       "output_type": "stream",
       "stream": "stdout",
       "text": [
        "     0K ........ ........ ........ ........ ........ ........ 91%  841K 0s\r\n"
       ]
      },
      {
       "output_type": "stream",
       "stream": "stdout",
       "text": [
        "  3072K ....                                                 100% 1.18M=3.9s\r\n"
       ]
      },
      {
       "output_type": "stream",
       "stream": "stdout",
       "text": [
        "--2013-10-02 18:52:19--  http://gdac.broadinstitute.org/runs/analyses__2013_05_23/data/HNSC/20130523/gdac.broadinstitute.org_HNSC-TP.miRseq_Mature_Clustering_Consensus.Level_4.2013052300.0.0.tar.gz.md5\r\n"
       ]
      },
      {
       "output_type": "stream",
       "stream": "stdout",
       "text": [
        "Saving to: `analyses__2013_05_23/HNSC/20130523/gdac.broadinstitute.org_HNSC-TP.miRseq_Mature_Clustering_Consensus.Level_4.2013052300.0.0.tar.gz.md5'\r\n",
        "     0K                                                      100% 31.4M=0s\r\n",
        "--2013-10-02 18:52:19--  http://gdac.broadinstitute.org/runs/analyses__2013_05_23/data/HNSC/20130523/gdac.broadinstitute.org_HNSC-TP.miRseq_Mature_Clustering_Consensus.aux.2013052300.0.0.tar.gz\r\n"
       ]
      },
      {
       "output_type": "stream",
       "stream": "stdout",
       "text": [
        "Saving to: `analyses__2013_05_23/HNSC/20130523/gdac.broadinstitute.org_HNSC-TP.miRseq_Mature_Clustering_Consensus.aux.2013052300.0.0.tar.gz'\r\n",
        "     0K                                                      100%  288M=0s\r\n",
        "--2013-10-02 18:52:19--  http://gdac.broadinstitute.org/runs/analyses__2013_05_23/data/HNSC/20130523/gdac.broadinstitute.org_HNSC-TP.miRseq_Mature_Clustering_Consensus.aux.2013052300.0.0.tar.gz.md5\r\n"
       ]
      },
      {
       "output_type": "stream",
       "stream": "stdout",
       "text": [
        "Saving to: `analyses__2013_05_23/HNSC/20130523/gdac.broadinstitute.org_HNSC-TP.miRseq_Mature_Clustering_Consensus.aux.2013052300.0.0.tar.gz.md5'\r\n",
        "     0K                                                      100% 9.72M=0s\r\n",
        "--2013-10-02 18:52:19--  http://gdac.broadinstitute.org/runs/analyses__2013_05_23/data/HNSC/20130523/gdac.broadinstitute.org_HNSC-TP.miRseq_Mature_Clustering_Consensus.mage-tab.2013052300.0.0.tar.gz\r\n"
       ]
      },
      {
       "output_type": "stream",
       "stream": "stdout",
       "text": [
        "Saving to: `analyses__2013_05_23/HNSC/20130523/gdac.broadinstitute.org_HNSC-TP.miRseq_Mature_Clustering_Consensus.mage-tab.2013052300.0.0.tar.gz'\r\n",
        "     0K                                                      100%  411M=0s\r\n",
        "--2013-10-02 18:52:19--  http://gdac.broadinstitute.org/runs/analyses__2013_05_23/data/HNSC/20130523/gdac.broadinstitute.org_HNSC-TP.miRseq_Mature_Clustering_Consensus.mage-tab.2013052300.0.0.tar.gz.md5\r\n"
       ]
      },
      {
       "output_type": "stream",
       "stream": "stdout",
       "text": [
        "Saving to: `analyses__2013_05_23/HNSC/20130523/gdac.broadinstitute.org_HNSC-TP.miRseq_Mature_Clustering_Consensus.mage-tab.2013052300.0.0.tar.gz.md5'\r\n",
        "     0K                                                      100% 20.5M=0s\r\n",
        "--2013-10-02 18:52:19--  http://gdac.broadinstitute.org/runs/analyses__2013_05_23/data/HNSC/20130523/gdac.broadinstitute.org_HNSC-TP.miRseq_Mature_Preprocess.Level_4.2013052300.0.0.tar.gz\r\n"
       ]
      },
      {
       "output_type": "stream",
       "stream": "stdout",
       "text": [
        "Saving to: `analyses__2013_05_23/HNSC/20130523/gdac.broadinstitute.org_HNSC-TP.miRseq_Mature_Preprocess.Level_4.2013052300.0.0.tar.gz'\r\n"
       ]
      },
      {
       "output_type": "stream",
       "stream": "stdout",
       "text": [
        "     0K ........ ........ ........                           100% 1013K=1.5s\r\n",
        "--2013-10-02 18:52:21--  http://gdac.broadinstitute.org/runs/analyses__2013_05_23/data/HNSC/20130523/gdac.broadinstitute.org_HNSC-TP.miRseq_Mature_Preprocess.Level_4.2013052300.0.0.tar.gz.md5\r\n"
       ]
      },
      {
       "output_type": "stream",
       "stream": "stdout",
       "text": [
        "Saving to: `analyses__2013_05_23/HNSC/20130523/gdac.broadinstitute.org_HNSC-TP.miRseq_Mature_Preprocess.Level_4.2013052300.0.0.tar.gz.md5'\r\n",
        "     0K                                                      100% 8.47M=0s\r\n",
        "--2013-10-02 18:52:21--  http://gdac.broadinstitute.org/runs/analyses__2013_05_23/data/HNSC/20130523/gdac.broadinstitute.org_HNSC-TP.miRseq_Mature_Preprocess.aux.2013052300.0.0.tar.gz\r\n"
       ]
      },
      {
       "output_type": "stream",
       "stream": "stdout",
       "text": [
        "Saving to: `analyses__2013_05_23/HNSC/20130523/gdac.broadinstitute.org_HNSC-TP.miRseq_Mature_Preprocess.aux.2013052300.0.0.tar.gz'\r\n",
        "     0K                                                      100%  249M=0s\r\n",
        "--2013-10-02 18:52:21--  http://gdac.broadinstitute.org/runs/analyses__2013_05_23/data/HNSC/20130523/gdac.broadinstitute.org_HNSC-TP.miRseq_Mature_Preprocess.aux.2013052300.0.0.tar.gz.md5\r\n"
       ]
      },
      {
       "output_type": "stream",
       "stream": "stdout",
       "text": [
        "Saving to: `analyses__2013_05_23/HNSC/20130523/gdac.broadinstitute.org_HNSC-TP.miRseq_Mature_Preprocess.aux.2013052300.0.0.tar.gz.md5'\r\n",
        "     0K                                                      100% 23.2M=0s\r\n",
        "--2013-10-02 18:52:21--  http://gdac.broadinstitute.org/runs/analyses__2013_05_23/data/HNSC/20130523/gdac.broadinstitute.org_HNSC-TP.miRseq_Mature_Preprocess.mage-tab.2013052300.0.0.tar.gz\r\n"
       ]
      },
      {
       "output_type": "stream",
       "stream": "stdout",
       "text": [
        "Saving to: `analyses__2013_05_23/HNSC/20130523/gdac.broadinstitute.org_HNSC-TP.miRseq_Mature_Preprocess.mage-tab.2013052300.0.0.tar.gz'\r\n",
        "     0K                                                      100%  107M=0s\r\n",
        "--2013-10-02 18:52:21--  http://gdac.broadinstitute.org/runs/analyses__2013_05_23/data/HNSC/20130523/gdac.broadinstitute.org_HNSC-TP.miRseq_Mature_Preprocess.mage-tab.2013052300.0.0.tar.gz.md5\r\n"
       ]
      },
      {
       "output_type": "stream",
       "stream": "stdout",
       "text": [
        "Saving to: `analyses__2013_05_23/HNSC/20130523/gdac.broadinstitute.org_HNSC-TP.miRseq_Mature_Preprocess.mage-tab.2013052300.0.0.tar.gz.md5'\r\n",
        "     0K                                                      100% 28.0M=0s\r\n",
        "--2013-10-02 18:52:21--  http://gdac.broadinstitute.org/runs/analyses__2013_05_23/data/HNSC/20130523/gdac.broadinstitute.org_HNSC-TP.miRseq_Preprocess.Level_4.2013052300.0.0.tar.gz\r\n"
       ]
      },
      {
       "output_type": "stream",
       "stream": "stdout",
       "text": [
        "Saving to: `analyses__2013_05_23/HNSC/20130523/gdac.broadinstitute.org_HNSC-TP.miRseq_Preprocess.Level_4.2013052300.0.0.tar.gz'\r\n"
       ]
      },
      {
       "output_type": "stream",
       "stream": "stdout",
       "text": [
        "     0K ........ ........ ........ ........ ......           100% 1.03M=2.4s\r\n"
       ]
      },
      {
       "output_type": "stream",
       "stream": "stdout",
       "text": [
        "--2013-10-02 18:52:24--  http://gdac.broadinstitute.org/runs/analyses__2013_05_23/data/HNSC/20130523/gdac.broadinstitute.org_HNSC-TP.miRseq_Preprocess.Level_4.2013052300.0.0.tar.gz.md5\r\n"
       ]
      },
      {
       "output_type": "stream",
       "stream": "stdout",
       "text": [
        "Saving to: `analyses__2013_05_23/HNSC/20130523/gdac.broadinstitute.org_HNSC-TP.miRseq_Preprocess.Level_4.2013052300.0.0.tar.gz.md5'\r\n",
        "     0K                                                      100% 24.1M=0s\r\n",
        "--2013-10-02 18:52:24--  http://gdac.broadinstitute.org/runs/analyses__2013_05_23/data/HNSC/20130523/gdac.broadinstitute.org_HNSC-TP.miRseq_Preprocess.aux.2013052300.0.0.tar.gz\r\n"
       ]
      },
      {
       "output_type": "stream",
       "stream": "stdout",
       "text": [
        "Saving to: `analyses__2013_05_23/HNSC/20130523/gdac.broadinstitute.org_HNSC-TP.miRseq_Preprocess.aux.2013052300.0.0.tar.gz'\r\n",
        "     0K                                                      100%  203M=0s\r\n",
        "--2013-10-02 18:52:24--  http://gdac.broadinstitute.org/runs/analyses__2013_05_23/data/HNSC/20130523/gdac.broadinstitute.org_HNSC-TP.miRseq_Preprocess.aux.2013052300.0.0.tar.gz.md5\r\n"
       ]
      },
      {
       "output_type": "stream",
       "stream": "stdout",
       "text": [
        "Saving to: `analyses__2013_05_23/HNSC/20130523/gdac.broadinstitute.org_HNSC-TP.miRseq_Preprocess.aux.2013052300.0.0.tar.gz.md5'\r\n",
        "     0K                                                      100% 8.21M=0s\r\n",
        "--2013-10-02 18:52:24--  http://gdac.broadinstitute.org/runs/analyses__2013_05_23/data/HNSC/20130523/gdac.broadinstitute.org_HNSC-TP.miRseq_Preprocess.mage-tab.2013052300.0.0.tar.gz\r\n"
       ]
      },
      {
       "output_type": "stream",
       "stream": "stdout",
       "text": [
        "Saving to: `analyses__2013_05_23/HNSC/20130523/gdac.broadinstitute.org_HNSC-TP.miRseq_Preprocess.mage-tab.2013052300.0.0.tar.gz'\r\n",
        "     0K                                                      100%  291M=0s\r\n",
        "--2013-10-02 18:52:24--  http://gdac.broadinstitute.org/runs/analyses__2013_05_23/data/HNSC/20130523/gdac.broadinstitute.org_HNSC-TP.miRseq_Preprocess.mage-tab.2013052300.0.0.tar.gz.md5\r\n"
       ]
      },
      {
       "output_type": "stream",
       "stream": "stdout",
       "text": [
        "Saving to: `analyses__2013_05_23/HNSC/20130523/gdac.broadinstitute.org_HNSC-TP.miRseq_Preprocess.mage-tab.2013052300.0.0.tar.gz.md5'\r\n",
        "     0K                                                      100% 24.8M=0s\r\n",
        "FINISHED --2013-10-02 18:52:24--\r\n",
        "Total wall clock time: 4m 41s\r\n",
        "Downloaded: 221 files, 260M in 4m 19s (1.00 MB/s)\r\n",
        "\r\n",
        "\r\n",
        "Now performing post-processing on retrieved files ...\r\n"
       ]
      }
     ],
     "prompt_number": 6
    },
    {
     "cell_type": "code",
     "collapsed": false,
     "input": [
      "!firehose_get -b -o miR_gene_expression stddata $RUN_DATE HNSC"
     ],
     "language": "python",
     "metadata": {},
     "outputs": [
      {
       "output_type": "stream",
       "stream": "stdout",
       "text": [
        "Validating run selection against Broad Institute website ...\r\n"
       ]
      },
      {
       "output_type": "stream",
       "stream": "stdout",
       "text": [
        "You've asked to download archives for the following tasks\r\n",
        "\r\n",
        "     miR_gene_expression\r\n",
        "\r\n",
        "run against the disease cohorts\r\n",
        "\r\n",
        "      HNSC\r\n",
        "\r\n",
        "from the stddata__2013_05_23 Firehose run. \r\n",
        "Attempting to retrieve data for Broad GDAC run stddata__2013_05_23 ...\r\n",
        "--2013-10-02 18:52:25--  http://gdac.broadinstitute.org/runs/stddata__2013_05_23/data/HNSC/\r\n"
       ]
      },
      {
       "output_type": "stream",
       "stream": "stdout",
       "text": [
        "     0K                                                      100% 26.4M=0s\r\n"
       ]
      },
      {
       "output_type": "stream",
       "stream": "stdout",
       "text": [
        "     0K                                                      100% 94.7K=0.08s\r\n",
        "--2013-10-02 18:52:25--  http://gdac.broadinstitute.org/runs/stddata__2013_05_23/data/HNSC/20130523/\r\n"
       ]
      },
      {
       "output_type": "stream",
       "stream": "stdout",
       "text": [
        "     0K                                                        175K=0.2s\r\n",
        "--2013-10-02 18:52:26--  http://gdac.broadinstitute.org/runs/stddata__2013_05_23/data/HNSC/20130523/gdac.broadinstitute.org_HNSC.Merge_mirnaseq__illuminaga_mirnaseq__bcgsc_ca__Level_3__miR_gene_expression__data.Level_3.2013052300.0.0.tar.gz\r\n"
       ]
      },
      {
       "output_type": "stream",
       "stream": "stdout",
       "text": [
        "Saving to: `stddata__2013_05_23/HNSC/20130523/gdac.broadinstitute.org_HNSC.Merge_mirnaseq__illuminaga_mirnaseq__bcgsc_ca__Level_3__miR_gene_expression__data.Level_3.2013052300.0.0.tar.gz'\r\n"
       ]
      },
      {
       "output_type": "stream",
       "stream": "stdout",
       "text": [
        "     0K .                                                    100%  391K=0.3s\r\n",
        "--2013-10-02 18:52:26--  http://gdac.broadinstitute.org/runs/stddata__2013_05_23/data/HNSC/20130523/gdac.broadinstitute.org_HNSC.Merge_mirnaseq__illuminaga_mirnaseq__bcgsc_ca__Level_3__miR_gene_expression__data.Level_3.2013052300.0.0.tar.gz.md5\r\n"
       ]
      },
      {
       "output_type": "stream",
       "stream": "stdout",
       "text": [
        "Saving to: `stddata__2013_05_23/HNSC/20130523/gdac.broadinstitute.org_HNSC.Merge_mirnaseq__illuminaga_mirnaseq__bcgsc_ca__Level_3__miR_gene_expression__data.Level_3.2013052300.0.0.tar.gz.md5'\r\n",
        "     0K                                                      100% 32.2M=0s\r\n",
        "--2013-10-02 18:52:26--  http://gdac.broadinstitute.org/runs/stddata__2013_05_23/data/HNSC/20130523/gdac.broadinstitute.org_HNSC.Merge_mirnaseq__illuminaga_mirnaseq__bcgsc_ca__Level_3__miR_gene_expression__data.aux.2013052300.0.0.tar.gz\r\n"
       ]
      },
      {
       "output_type": "stream",
       "stream": "stdout",
       "text": [
        "Saving to: `stddata__2013_05_23/HNSC/20130523/gdac.broadinstitute.org_HNSC.Merge_mirnaseq__illuminaga_mirnaseq__bcgsc_ca__Level_3__miR_gene_expression__data.aux.2013052300.0.0.tar.gz'\r\n",
        "     0K                                                      100%  132M=0s\r\n",
        "--2013-10-02 18:52:26--  http://gdac.broadinstitute.org/runs/stddata__2013_05_23/data/HNSC/20130523/gdac.broadinstitute.org_HNSC.Merge_mirnaseq__illuminaga_mirnaseq__bcgsc_ca__Level_3__miR_gene_expression__data.aux.2013052300.0.0.tar.gz.md5\r\n"
       ]
      },
      {
       "output_type": "stream",
       "stream": "stdout",
       "text": [
        "Saving to: `stddata__2013_05_23/HNSC/20130523/gdac.broadinstitute.org_HNSC.Merge_mirnaseq__illuminaga_mirnaseq__bcgsc_ca__Level_3__miR_gene_expression__data.aux.2013052300.0.0.tar.gz.md5'\r\n",
        "     0K                                                      100% 27.4M=0s\r\n",
        "--2013-10-02 18:52:26--  http://gdac.broadinstitute.org/runs/stddata__2013_05_23/data/HNSC/20130523/gdac.broadinstitute.org_HNSC.Merge_mirnaseq__illuminaga_mirnaseq__bcgsc_ca__Level_3__miR_gene_expression__data.mage-tab.2013052300.0.0.tar.gz\r\n"
       ]
      },
      {
       "output_type": "stream",
       "stream": "stdout",
       "text": [
        "Saving to: `stddata__2013_05_23/HNSC/20130523/gdac.broadinstitute.org_HNSC.Merge_mirnaseq__illuminaga_mirnaseq__bcgsc_ca__Level_3__miR_gene_expression__data.mage-tab.2013052300.0.0.tar.gz'\r\n",
        "     0K                                                      100%  258M=0s\r\n",
        "--2013-10-02 18:52:26--  http://gdac.broadinstitute.org/runs/stddata__2013_05_23/data/HNSC/20130523/gdac.broadinstitute.org_HNSC.Merge_mirnaseq__illuminaga_mirnaseq__bcgsc_ca__Level_3__miR_gene_expression__data.mage-tab.2013052300.0.0.tar.gz.md5\r\n"
       ]
      },
      {
       "output_type": "stream",
       "stream": "stdout",
       "text": [
        "Saving to: `stddata__2013_05_23/HNSC/20130523/gdac.broadinstitute.org_HNSC.Merge_mirnaseq__illuminaga_mirnaseq__bcgsc_ca__Level_3__miR_gene_expression__data.mage-tab.2013052300.0.0.tar.gz.md5'\r\n",
        "     0K                                                      100% 14.1M=0s\r\n",
        "--2013-10-02 18:52:27--  http://gdac.broadinstitute.org/runs/stddata__2013_05_23/data/HNSC/20130523/gdac.broadinstitute.org_HNSC.Merge_mirnaseq__illuminahiseq_mirnaseq__bcgsc_ca__Level_3__miR_gene_expression__data.Level_3.2013052300.0.0.tar.gz\r\n"
       ]
      },
      {
       "output_type": "stream",
       "stream": "stdout",
       "text": [
        "Saving to: `stddata__2013_05_23/HNSC/20130523/gdac.broadinstitute.org_HNSC.Merge_mirnaseq__illuminahiseq_mirnaseq__bcgsc_ca__Level_3__miR_gene_expression__data.Level_3.2013052300.0.0.tar.gz'\r\n"
       ]
      },
      {
       "output_type": "stream",
       "stream": "stdout",
       "text": [
        "     0K ........ ........ .....                              100%  929K=1.5s\r\n",
        "--2013-10-02 18:52:28--  http://gdac.broadinstitute.org/runs/stddata__2013_05_23/data/HNSC/20130523/gdac.broadinstitute.org_HNSC.Merge_mirnaseq__illuminahiseq_mirnaseq__bcgsc_ca__Level_3__miR_gene_expression__data.Level_3.2013052300.0.0.tar.gz.md5\r\n"
       ]
      },
      {
       "output_type": "stream",
       "stream": "stdout",
       "text": [
        "Saving to: `stddata__2013_05_23/HNSC/20130523/gdac.broadinstitute.org_HNSC.Merge_mirnaseq__illuminahiseq_mirnaseq__bcgsc_ca__Level_3__miR_gene_expression__data.Level_3.2013052300.0.0.tar.gz.md5'\r\n",
        "     0K                                                      100% 14.1M=0s\r\n",
        "--2013-10-02 18:52:28--  http://gdac.broadinstitute.org/runs/stddata__2013_05_23/data/HNSC/20130523/gdac.broadinstitute.org_HNSC.Merge_mirnaseq__illuminahiseq_mirnaseq__bcgsc_ca__Level_3__miR_gene_expression__data.aux.2013052300.0.0.tar.gz\r\n"
       ]
      },
      {
       "output_type": "stream",
       "stream": "stdout",
       "text": [
        "Saving to: `stddata__2013_05_23/HNSC/20130523/gdac.broadinstitute.org_HNSC.Merge_mirnaseq__illuminahiseq_mirnaseq__bcgsc_ca__Level_3__miR_gene_expression__data.aux.2013052300.0.0.tar.gz'\r\n",
        "     0K                                                      100%  137M=0s\r\n",
        "--2013-10-02 18:52:28--  http://gdac.broadinstitute.org/runs/stddata__2013_05_23/data/HNSC/20130523/gdac.broadinstitute.org_HNSC.Merge_mirnaseq__illuminahiseq_mirnaseq__bcgsc_ca__Level_3__miR_gene_expression__data.aux.2013052300.0.0.tar.gz.md5\r\n"
       ]
      },
      {
       "output_type": "stream",
       "stream": "stdout",
       "text": [
        "Saving to: `stddata__2013_05_23/HNSC/20130523/gdac.broadinstitute.org_HNSC.Merge_mirnaseq__illuminahiseq_mirnaseq__bcgsc_ca__Level_3__miR_gene_expression__data.aux.2013052300.0.0.tar.gz.md5'\r\n",
        "     0K                                                      100% 33.8M=0s\r\n"
       ]
      },
      {
       "output_type": "stream",
       "stream": "stdout",
       "text": [
        "--2013-10-02 18:52:28--  http://gdac.broadinstitute.org/runs/stddata__2013_05_23/data/HNSC/20130523/gdac.broadinstitute.org_HNSC.Merge_mirnaseq__illuminahiseq_mirnaseq__bcgsc_ca__Level_3__miR_gene_expression__data.mage-tab.2013052300.0.0.tar.gz\r\n"
       ]
      },
      {
       "output_type": "stream",
       "stream": "stdout",
       "text": [
        "Saving to: `stddata__2013_05_23/HNSC/20130523/gdac.broadinstitute.org_HNSC.Merge_mirnaseq__illuminahiseq_mirnaseq__bcgsc_ca__Level_3__miR_gene_expression__data.mage-tab.2013052300.0.0.tar.gz'\r\n",
        "     0K                                                      100%  493M=0s\r\n",
        "--2013-10-02 18:52:28--  http://gdac.broadinstitute.org/runs/stddata__2013_05_23/data/HNSC/20130523/gdac.broadinstitute.org_HNSC.Merge_mirnaseq__illuminahiseq_mirnaseq__bcgsc_ca__Level_3__miR_gene_expression__data.mage-tab.2013052300.0.0.tar.gz.md5\r\n"
       ]
      },
      {
       "output_type": "stream",
       "stream": "stdout",
       "text": [
        "Saving to: `stddata__2013_05_23/HNSC/20130523/gdac.broadinstitute.org_HNSC.Merge_mirnaseq__illuminahiseq_mirnaseq__bcgsc_ca__Level_3__miR_gene_expression__data.mage-tab.2013052300.0.0.tar.gz.md5'\r\n",
        "     0K                                                      100% 31.9M=0s\r\n",
        "FINISHED --2013-10-02 18:52:29--\r\n",
        "Total wall clock time: 3.7s\r\n",
        "Downloaded: 15 files, 1.5M in 2.1s (743 KB/s)\r\n",
        "\r\n",
        "\r\n",
        "Now performing post-processing on retrieved files ...\r\n"
       ]
      }
     ],
     "prompt_number": 7
    },
    {
     "cell_type": "code",
     "collapsed": false,
     "input": [
      "!firehose_get -b -o RSEM_genes_normalized stddata $RUN_DATE HNSC"
     ],
     "language": "python",
     "metadata": {},
     "outputs": [
      {
       "output_type": "stream",
       "stream": "stdout",
       "text": [
        "Validating run selection against Broad Institute website ...\r\n"
       ]
      },
      {
       "output_type": "stream",
       "stream": "stdout",
       "text": [
        "You've asked to download archives for the following tasks\r\n",
        "\r\n",
        "     RSEM_genes_normalized\r\n",
        "\r\n",
        "run against the disease cohorts\r\n",
        "\r\n",
        "      HNSC\r\n",
        "\r\n",
        "from the stddata__2013_05_23 Firehose run. \r\n",
        "Attempting to retrieve data for Broad GDAC run stddata__2013_05_23 ...\r\n",
        "--2013-10-02 18:52:29--  http://gdac.broadinstitute.org/runs/stddata__2013_05_23/data/HNSC/\r\n"
       ]
      },
      {
       "output_type": "stream",
       "stream": "stdout",
       "text": [
        "     0K                                                      100% 34.7M=0s\r\n"
       ]
      },
      {
       "output_type": "stream",
       "stream": "stdout",
       "text": [
        "     0K                                                      100% 94.6K=0.08s\r\n"
       ]
      },
      {
       "output_type": "stream",
       "stream": "stdout",
       "text": [
        "--2013-10-02 18:52:29--  http://gdac.broadinstitute.org/runs/stddata__2013_05_23/data/HNSC/20130523/\r\n"
       ]
      },
      {
       "output_type": "stream",
       "stream": "stdout",
       "text": [
        "     0K                                                        130K=0.3s\r\n",
        "--2013-10-02 18:52:30--  http://gdac.broadinstitute.org/runs/stddata__2013_05_23/data/HNSC/20130523/gdac.broadinstitute.org_HNSC.Merge_rnaseqv2__illuminahiseq_rnaseqv2__unc_edu__Level_3__RSEM_genes_normalized__data.Level_3.2013052300.0.0.tar.gz\r\n"
       ]
      },
      {
       "output_type": "stream",
       "stream": "stdout",
       "text": [
        "Saving to: `stddata__2013_05_23/HNSC/20130523/gdac.broadinstitute.org_HNSC.Merge_rnaseqv2__illuminahiseq_rnaseqv2__unc_edu__Level_3__RSEM_genes_normalized__data.Level_3.2013052300.0.0.tar.gz'\r\n"
       ]
      },
      {
       "output_type": "stream",
       "stream": "stdout",
       "text": [
        "     0K ........ ........ ........ ........ ........ ........ 11%  901K 27s\r\n"
       ]
      },
      {
       "output_type": "stream",
       "stream": "stdout",
       "text": [
        "  3072K ........ ........ ........ ........ ........ ........ 22%  996K 22s\r\n"
       ]
      },
      {
       "output_type": "stream",
       "stream": "stdout",
       "text": [
        "  6144K ........ ........ ........ ........ ........ ........ 33% 1.03M 18s\r\n"
       ]
      },
      {
       "output_type": "stream",
       "stream": "stdout",
       "text": [
        "  9216K ........ ........ ........ ........ ........ ........ 45% 1.03M 15s\r\n"
       ]
      },
      {
       "output_type": "stream",
       "stream": "stdout",
       "text": [
        " 12288K ........ ........ ........ ........ ........ ........ 56% 1.03M 12s\r\n"
       ]
      },
      {
       "output_type": "stream",
       "stream": "stdout",
       "text": [
        " 15360K ........ ........ ........ ........ ........ ........ 67% 1.02M 9s\r\n"
       ]
      },
      {
       "output_type": "stream",
       "stream": "stdout",
       "text": [
        " 18432K ........ ........ ........ ........ ........ ........ 79% 1.03M 6s\r\n"
       ]
      },
      {
       "output_type": "stream",
       "stream": "stdout",
       "text": [
        " 21504K ........ ........ ........ ........ ........ ........ 90% 1.01M 2s\r\n"
       ]
      },
      {
       "output_type": "stream",
       "stream": "stdout",
       "text": [
        " 24576K ........ ........ ........ ........ .......          100% 1.04M=26s\r\n"
       ]
      },
      {
       "output_type": "stream",
       "stream": "stdout",
       "text": [
        "--2013-10-02 18:52:57--  http://gdac.broadinstitute.org/runs/stddata__2013_05_23/data/HNSC/20130523/gdac.broadinstitute.org_HNSC.Merge_rnaseqv2__illuminahiseq_rnaseqv2__unc_edu__Level_3__RSEM_genes_normalized__data.Level_3.2013052300.0.0.tar.gz.md5\r\n"
       ]
      },
      {
       "output_type": "stream",
       "stream": "stdout",
       "text": [
        "Saving to: `stddata__2013_05_23/HNSC/20130523/gdac.broadinstitute.org_HNSC.Merge_rnaseqv2__illuminahiseq_rnaseqv2__unc_edu__Level_3__RSEM_genes_normalized__data.Level_3.2013052300.0.0.tar.gz.md5'\r\n",
        "     0K                                                      100% 14.0M=0s\r\n",
        "--2013-10-02 18:52:57--  http://gdac.broadinstitute.org/runs/stddata__2013_05_23/data/HNSC/20130523/gdac.broadinstitute.org_HNSC.Merge_rnaseqv2__illuminahiseq_rnaseqv2__unc_edu__Level_3__RSEM_genes_normalized__data.aux.2013052300.0.0.tar.gz\r\n"
       ]
      },
      {
       "output_type": "stream",
       "stream": "stdout",
       "text": [
        "Saving to: `stddata__2013_05_23/HNSC/20130523/gdac.broadinstitute.org_HNSC.Merge_rnaseqv2__illuminahiseq_rnaseqv2__unc_edu__Level_3__RSEM_genes_normalized__data.aux.2013052300.0.0.tar.gz'\r\n",
        "     0K                                                      100%  137M=0s\r\n",
        "--2013-10-02 18:52:57--  http://gdac.broadinstitute.org/runs/stddata__2013_05_23/data/HNSC/20130523/gdac.broadinstitute.org_HNSC.Merge_rnaseqv2__illuminahiseq_rnaseqv2__unc_edu__Level_3__RSEM_genes_normalized__data.aux.2013052300.0.0.tar.gz.md5\r\n"
       ]
      },
      {
       "output_type": "stream",
       "stream": "stdout",
       "text": [
        "Saving to: `stddata__2013_05_23/HNSC/20130523/gdac.broadinstitute.org_HNSC.Merge_rnaseqv2__illuminahiseq_rnaseqv2__unc_edu__Level_3__RSEM_genes_normalized__data.aux.2013052300.0.0.tar.gz.md5'\r\n",
        "     0K                                                      100% 13.8M=0s\r\n",
        "--2013-10-02 18:52:57--  http://gdac.broadinstitute.org/runs/stddata__2013_05_23/data/HNSC/20130523/gdac.broadinstitute.org_HNSC.Merge_rnaseqv2__illuminahiseq_rnaseqv2__unc_edu__Level_3__RSEM_genes_normalized__data.mage-tab.2013052300.0.0.tar.gz\r\n"
       ]
      },
      {
       "output_type": "stream",
       "stream": "stdout",
       "text": [
        "Saving to: `stddata__2013_05_23/HNSC/20130523/gdac.broadinstitute.org_HNSC.Merge_rnaseqv2__illuminahiseq_rnaseqv2__unc_edu__Level_3__RSEM_genes_normalized__data.mage-tab.2013052300.0.0.tar.gz'\r\n",
        "     0K                                                      100%  227M=0s\r\n",
        "--2013-10-02 18:52:57--  http://gdac.broadinstitute.org/runs/stddata__2013_05_23/data/HNSC/20130523/gdac.broadinstitute.org_HNSC.Merge_rnaseqv2__illuminahiseq_rnaseqv2__unc_edu__Level_3__RSEM_genes_normalized__data.mage-tab.2013052300.0.0.tar.gz.md5\r\n"
       ]
      },
      {
       "output_type": "stream",
       "stream": "stdout",
       "text": [
        "Saving to: `stddata__2013_05_23/HNSC/20130523/gdac.broadinstitute.org_HNSC.Merge_rnaseqv2__illuminahiseq_rnaseqv2__unc_edu__Level_3__RSEM_genes_normalized__data.mage-tab.2013052300.0.0.tar.gz.md5'\r\n",
        "     0K                                                      100% 14.1M=0s\r\n",
        "FINISHED --2013-10-02 18:52:57--\r\n",
        "Total wall clock time: 28s\r\n",
        "Downloaded: 9 files, 27M in 27s (1012 KB/s)\r\n",
        "\r\n",
        "\r\n",
        "Now performing post-processing on retrieved files ...\r\n"
       ]
      }
     ],
     "prompt_number": 8
    },
    {
     "cell_type": "code",
     "collapsed": false,
     "input": [
      "!firehose_get -b -o rppa stddata $RUN_DATE HNSC"
     ],
     "language": "python",
     "metadata": {},
     "outputs": [
      {
       "output_type": "stream",
       "stream": "stdout",
       "text": [
        "Validating run selection against Broad Institute website ...\r\n"
       ]
      },
      {
       "output_type": "stream",
       "stream": "stdout",
       "text": [
        "You've asked to download archives for the following tasks\r\n",
        "\r\n",
        "     rppa\r\n",
        "\r\n",
        "run against the disease cohorts\r\n",
        "\r\n",
        "      HNSC\r\n",
        "\r\n",
        "from the stddata__2013_05_23 Firehose run. \r\n",
        "Attempting to retrieve data for Broad GDAC run stddata__2013_05_23 ...\r\n",
        "--2013-10-02 18:52:58--  http://gdac.broadinstitute.org/runs/stddata__2013_05_23/data/HNSC/\r\n"
       ]
      },
      {
       "output_type": "stream",
       "stream": "stdout",
       "text": [
        "     0K                                                      100% 28.2M=0s\r\n"
       ]
      },
      {
       "output_type": "stream",
       "stream": "stdout",
       "text": [
        "     0K                                                      100% 94.8K=0.08s\r\n",
        "--2013-10-02 18:52:58--  http://gdac.broadinstitute.org/runs/stddata__2013_05_23/data/HNSC/20130523/\r\n"
       ]
      },
      {
       "output_type": "stream",
       "stream": "stdout",
       "text": [
        "     0K                                                        130K=0.3s\r\n",
        "--2013-10-02 18:52:58--  http://gdac.broadinstitute.org/runs/stddata__2013_05_23/data/HNSC/20130523/gdac.broadinstitute.org_HNSC.Merge_protein_exp__mda_rppa_core__mdanderson_org__Level_3__protein_normalization__data.Level_3.2013052300.0.0.tar.gz\r\n"
       ]
      },
      {
       "output_type": "stream",
       "stream": "stdout",
       "text": [
        "Saving to: `stddata__2013_05_23/HNSC/20130523/gdac.broadinstitute.org_HNSC.Merge_protein_exp__mda_rppa_core__mdanderson_org__Level_3__protein_normalization__data.Level_3.2013052300.0.0.tar.gz'\r\n"
       ]
      },
      {
       "output_type": "stream",
       "stream": "stdout",
       "text": [
        "     0K ...                                                  100%  426K=0.6s\r\n",
        "--2013-10-02 18:52:59--  http://gdac.broadinstitute.org/runs/stddata__2013_05_23/data/HNSC/20130523/gdac.broadinstitute.org_HNSC.Merge_protein_exp__mda_rppa_core__mdanderson_org__Level_3__protein_normalization__data.Level_3.2013052300.0.0.tar.gz.md5\r\n"
       ]
      },
      {
       "output_type": "stream",
       "stream": "stdout",
       "text": [
        "Saving to: `stddata__2013_05_23/HNSC/20130523/gdac.broadinstitute.org_HNSC.Merge_protein_exp__mda_rppa_core__mdanderson_org__Level_3__protein_normalization__data.Level_3.2013052300.0.0.tar.gz.md5'\r\n",
        "     0K                                                      100% 15.6M=0s\r\n",
        "--2013-10-02 18:52:59--  http://gdac.broadinstitute.org/runs/stddata__2013_05_23/data/HNSC/20130523/gdac.broadinstitute.org_HNSC.Merge_protein_exp__mda_rppa_core__mdanderson_org__Level_3__protein_normalization__data.aux.2013052300.0.0.tar.gz\r\n"
       ]
      },
      {
       "output_type": "stream",
       "stream": "stdout",
       "text": [
        "Saving to: `stddata__2013_05_23/HNSC/20130523/gdac.broadinstitute.org_HNSC.Merge_protein_exp__mda_rppa_core__mdanderson_org__Level_3__protein_normalization__data.aux.2013052300.0.0.tar.gz'\r\n",
        "     0K                                                      100%  130M=0s\r\n",
        "--2013-10-02 18:52:59--  http://gdac.broadinstitute.org/runs/stddata__2013_05_23/data/HNSC/20130523/gdac.broadinstitute.org_HNSC.Merge_protein_exp__mda_rppa_core__mdanderson_org__Level_3__protein_normalization__data.aux.2013052300.0.0.tar.gz.md5\r\n"
       ]
      },
      {
       "output_type": "stream",
       "stream": "stdout",
       "text": [
        "Saving to: `stddata__2013_05_23/HNSC/20130523/gdac.broadinstitute.org_HNSC.Merge_protein_exp__mda_rppa_core__mdanderson_org__Level_3__protein_normalization__data.aux.2013052300.0.0.tar.gz.md5'\r\n",
        "     0K                                                      100% 13.8M=0s\r\n",
        "--2013-10-02 18:52:59--  http://gdac.broadinstitute.org/runs/stddata__2013_05_23/data/HNSC/20130523/gdac.broadinstitute.org_HNSC.Merge_protein_exp__mda_rppa_core__mdanderson_org__Level_3__protein_normalization__data.mage-tab.2013052300.0.0.tar.gz\r\n"
       ]
      },
      {
       "output_type": "stream",
       "stream": "stdout",
       "text": [
        "Saving to: `stddata__2013_05_23/HNSC/20130523/gdac.broadinstitute.org_HNSC.Merge_protein_exp__mda_rppa_core__mdanderson_org__Level_3__protein_normalization__data.mage-tab.2013052300.0.0.tar.gz'\r\n",
        "     0K                                                      100%  172M=0s\r\n",
        "--2013-10-02 18:52:59--  http://gdac.broadinstitute.org/runs/stddata__2013_05_23/data/HNSC/20130523/gdac.broadinstitute.org_HNSC.Merge_protein_exp__mda_rppa_core__mdanderson_org__Level_3__protein_normalization__data.mage-tab.2013052300.0.0.tar.gz.md5\r\n"
       ]
      },
      {
       "output_type": "stream",
       "stream": "stdout",
       "text": [
        "Saving to: `stddata__2013_05_23/HNSC/20130523/gdac.broadinstitute.org_HNSC.Merge_protein_exp__mda_rppa_core__mdanderson_org__Level_3__protein_normalization__data.mage-tab.2013052300.0.0.tar.gz.md5'\r\n",
        "     0K                                                      100% 36.7M=0s\r\n",
        "--2013-10-02 18:52:59--  http://gdac.broadinstitute.org/runs/stddata__2013_05_23/data/HNSC/20130523/gdac.broadinstitute.org_HNSC.RPPA_AnnotateWithGene.Level_3.2013052300.0.0.tar.gz\r\n"
       ]
      },
      {
       "output_type": "stream",
       "stream": "stdout",
       "text": [
        "Saving to: `stddata__2013_05_23/HNSC/20130523/gdac.broadinstitute.org_HNSC.RPPA_AnnotateWithGene.Level_3.2013052300.0.0.tar.gz'\r\n"
       ]
      },
      {
       "output_type": "stream",
       "stream": "stdout",
       "text": [
        "     0K ........                                             100% 1002K=0.6s\r\n",
        "--2013-10-02 18:53:00--  http://gdac.broadinstitute.org/runs/stddata__2013_05_23/data/HNSC/20130523/gdac.broadinstitute.org_HNSC.RPPA_AnnotateWithGene.Level_3.2013052300.0.0.tar.gz.md5\r\n"
       ]
      },
      {
       "output_type": "stream",
       "stream": "stdout",
       "text": [
        "Saving to: `stddata__2013_05_23/HNSC/20130523/gdac.broadinstitute.org_HNSC.RPPA_AnnotateWithGene.Level_3.2013052300.0.0.tar.gz.md5'\r\n",
        "     0K                                                      100% 9.43M=0s\r\n",
        "--2013-10-02 18:53:00--  http://gdac.broadinstitute.org/runs/stddata__2013_05_23/data/HNSC/20130523/gdac.broadinstitute.org_HNSC.RPPA_AnnotateWithGene.aux.2013052300.0.0.tar.gz\r\n"
       ]
      },
      {
       "output_type": "stream",
       "stream": "stdout",
       "text": [
        "Saving to: `stddata__2013_05_23/HNSC/20130523/gdac.broadinstitute.org_HNSC.RPPA_AnnotateWithGene.aux.2013052300.0.0.tar.gz'\r\n",
        "     0K                                                      100%  156M=0s\r\n",
        "--2013-10-02 18:53:00--  http://gdac.broadinstitute.org/runs/stddata__2013_05_23/data/HNSC/20130523/gdac.broadinstitute.org_HNSC.RPPA_AnnotateWithGene.aux.2013052300.0.0.tar.gz.md5\r\n"
       ]
      },
      {
       "output_type": "stream",
       "stream": "stdout",
       "text": [
        "Saving to: `stddata__2013_05_23/HNSC/20130523/gdac.broadinstitute.org_HNSC.RPPA_AnnotateWithGene.aux.2013052300.0.0.tar.gz.md5'\r\n",
        "     0K                                                      100% 27.6M=0s\r\n",
        "--2013-10-02 18:53:00--  http://gdac.broadinstitute.org/runs/stddata__2013_05_23/data/HNSC/20130523/gdac.broadinstitute.org_HNSC.RPPA_AnnotateWithGene.mage-tab.2013052300.0.0.tar.gz\r\n"
       ]
      },
      {
       "output_type": "stream",
       "stream": "stdout",
       "text": [
        "Saving to: `stddata__2013_05_23/HNSC/20130523/gdac.broadinstitute.org_HNSC.RPPA_AnnotateWithGene.mage-tab.2013052300.0.0.tar.gz'\r\n",
        "     0K                                                      100%  195M=0s\r\n",
        "--2013-10-02 18:53:00--  http://gdac.broadinstitute.org/runs/stddata__2013_05_23/data/HNSC/20130523/gdac.broadinstitute.org_HNSC.RPPA_AnnotateWithGene.mage-tab.2013052300.0.0.tar.gz.md5\r\n"
       ]
      },
      {
       "output_type": "stream",
       "stream": "stdout",
       "text": [
        "Saving to: `stddata__2013_05_23/HNSC/20130523/gdac.broadinstitute.org_HNSC.RPPA_AnnotateWithGene.mage-tab.2013052300.0.0.tar.gz.md5'\r\n",
        "     0K                                                      100% 9.10M=0s\r\n",
        "FINISHED --2013-10-02 18:53:01--\r\n",
        "Total wall clock time: 2.9s\r\n",
        "Downloaded: 15 files, 880K in 1.5s (573 KB/s)\r\n",
        "\r\n",
        "\r\n",
        "Now performing post-processing on retrieved files ...\r\n"
       ]
      }
     ],
     "prompt_number": 9
    },
    {
     "cell_type": "code",
     "collapsed": false,
     "input": [
      "!firehose_get -b -o clinical stddata $RUN_DATE HNSC"
     ],
     "language": "python",
     "metadata": {},
     "outputs": [
      {
       "output_type": "stream",
       "stream": "stdout",
       "text": [
        "Validating run selection against Broad Institute website ...\r\n"
       ]
      },
      {
       "output_type": "stream",
       "stream": "stdout",
       "text": [
        "You've asked to download archives for the following tasks\r\n",
        "\r\n",
        "     clinical\r\n",
        "\r\n",
        "run against the disease cohorts\r\n",
        "\r\n",
        "      HNSC\r\n",
        "\r\n",
        "from the stddata__2013_05_23 Firehose run. \r\n",
        "Attempting to retrieve data for Broad GDAC run stddata__2013_05_23 ...\r\n",
        "--2013-10-02 18:53:01--  http://gdac.broadinstitute.org/runs/stddata__2013_05_23/data/HNSC/\r\n"
       ]
      },
      {
       "output_type": "stream",
       "stream": "stdout",
       "text": [
        "     0K                                                      100% 33.5M=0s\r\n"
       ]
      },
      {
       "output_type": "stream",
       "stream": "stdout",
       "text": [
        "     0K                                                      100% 95.0K=0.08s\r\n",
        "--2013-10-02 18:53:01--  http://gdac.broadinstitute.org/runs/stddata__2013_05_23/data/HNSC/20130523/\r\n"
       ]
      },
      {
       "output_type": "stream",
       "stream": "stdout",
       "text": [
        "     0K                                                        130K=0.3s\r\n",
        "--2013-10-02 18:53:02--  http://gdac.broadinstitute.org/runs/stddata__2013_05_23/data/HNSC/20130523/gdac.broadinstitute.org_HNSC.Clinical_Pick_Tier1.Level_4.2013052300.0.0.tar.gz\r\n"
       ]
      },
      {
       "output_type": "stream",
       "stream": "stdout",
       "text": [
        "Saving to: `stddata__2013_05_23/HNSC/20130523/gdac.broadinstitute.org_HNSC.Clinical_Pick_Tier1.Level_4.2013052300.0.0.tar.gz'\r\n",
        "     0K                                                      100%  369M=0s\r\n",
        "--2013-10-02 18:53:02--  http://gdac.broadinstitute.org/runs/stddata__2013_05_23/data/HNSC/20130523/gdac.broadinstitute.org_HNSC.Clinical_Pick_Tier1.Level_4.2013052300.0.0.tar.gz.md5\r\n"
       ]
      },
      {
       "output_type": "stream",
       "stream": "stdout",
       "text": [
        "Saving to: `stddata__2013_05_23/HNSC/20130523/gdac.broadinstitute.org_HNSC.Clinical_Pick_Tier1.Level_4.2013052300.0.0.tar.gz.md5'\r\n",
        "     0K                                                      100% 26.7M=0s\r\n",
        "--2013-10-02 18:53:02--  http://gdac.broadinstitute.org/runs/stddata__2013_05_23/data/HNSC/20130523/gdac.broadinstitute.org_HNSC.Clinical_Pick_Tier1.aux.2013052300.0.0.tar.gz\r\n"
       ]
      },
      {
       "output_type": "stream",
       "stream": "stdout",
       "text": [
        "Saving to: `stddata__2013_05_23/HNSC/20130523/gdac.broadinstitute.org_HNSC.Clinical_Pick_Tier1.aux.2013052300.0.0.tar.gz'\r\n",
        "     0K                                                      100%  361M=0s\r\n",
        "--2013-10-02 18:53:02--  http://gdac.broadinstitute.org/runs/stddata__2013_05_23/data/HNSC/20130523/gdac.broadinstitute.org_HNSC.Clinical_Pick_Tier1.aux.2013052300.0.0.tar.gz.md5\r\n"
       ]
      },
      {
       "output_type": "stream",
       "stream": "stdout",
       "text": [
        "Saving to: `stddata__2013_05_23/HNSC/20130523/gdac.broadinstitute.org_HNSC.Clinical_Pick_Tier1.aux.2013052300.0.0.tar.gz.md5'\r\n",
        "     0K                                                      100% 24.5M=0s\r\n",
        "--2013-10-02 18:53:02--  http://gdac.broadinstitute.org/runs/stddata__2013_05_23/data/HNSC/20130523/gdac.broadinstitute.org_HNSC.Clinical_Pick_Tier1.mage-tab.2013052300.0.0.tar.gz\r\n"
       ]
      },
      {
       "output_type": "stream",
       "stream": "stdout",
       "text": [
        "Saving to: `stddata__2013_05_23/HNSC/20130523/gdac.broadinstitute.org_HNSC.Clinical_Pick_Tier1.mage-tab.2013052300.0.0.tar.gz'\r\n",
        "     0K                                                      100%  129M=0s\r\n",
        "--2013-10-02 18:53:02--  http://gdac.broadinstitute.org/runs/stddata__2013_05_23/data/HNSC/20130523/gdac.broadinstitute.org_HNSC.Clinical_Pick_Tier1.mage-tab.2013052300.0.0.tar.gz.md5\r\n"
       ]
      },
      {
       "output_type": "stream",
       "stream": "stdout",
       "text": [
        "Saving to: `stddata__2013_05_23/HNSC/20130523/gdac.broadinstitute.org_HNSC.Clinical_Pick_Tier1.mage-tab.2013052300.0.0.tar.gz.md5'\r\n",
        "     0K                                                      100% 8.09M=0s\r\n",
        "--2013-10-02 18:53:02--  http://gdac.broadinstitute.org/runs/stddata__2013_05_23/data/HNSC/20130523/gdac.broadinstitute.org_HNSC.Merge_Clinical.Level_1.2013052300.0.0.tar.gz\r\n"
       ]
      },
      {
       "output_type": "stream",
       "stream": "stdout",
       "text": [
        "Saving to: `stddata__2013_05_23/HNSC/20130523/gdac.broadinstitute.org_HNSC.Merge_Clinical.Level_1.2013052300.0.0.tar.gz'\r\n"
       ]
      },
      {
       "output_type": "stream",
       "stream": "stdout",
       "text": [
        "     0K ..                                                   100%  386K=0.4s\r\n",
        "--2013-10-02 18:53:03--  http://gdac.broadinstitute.org/runs/stddata__2013_05_23/data/HNSC/20130523/gdac.broadinstitute.org_HNSC.Merge_Clinical.Level_1.2013052300.0.0.tar.gz.md5\r\n"
       ]
      },
      {
       "output_type": "stream",
       "stream": "stdout",
       "text": [
        "Saving to: `stddata__2013_05_23/HNSC/20130523/gdac.broadinstitute.org_HNSC.Merge_Clinical.Level_1.2013052300.0.0.tar.gz.md5'\r\n",
        "     0K                                                      100% 8.29M=0s\r\n"
       ]
      },
      {
       "output_type": "stream",
       "stream": "stdout",
       "text": [
        "--2013-10-02 18:53:03--  http://gdac.broadinstitute.org/runs/stddata__2013_05_23/data/HNSC/20130523/gdac.broadinstitute.org_HNSC.Merge_Clinical.aux.2013052300.0.0.tar.gz\r\n"
       ]
      },
      {
       "output_type": "stream",
       "stream": "stdout",
       "text": [
        "Saving to: `stddata__2013_05_23/HNSC/20130523/gdac.broadinstitute.org_HNSC.Merge_Clinical.aux.2013052300.0.0.tar.gz'\r\n",
        "     0K                                                      100% 99.7M=0s\r\n",
        "--2013-10-02 18:53:03--  http://gdac.broadinstitute.org/runs/stddata__2013_05_23/data/HNSC/20130523/gdac.broadinstitute.org_HNSC.Merge_Clinical.aux.2013052300.0.0.tar.gz.md5\r\n"
       ]
      },
      {
       "output_type": "stream",
       "stream": "stdout",
       "text": [
        "Saving to: `stddata__2013_05_23/HNSC/20130523/gdac.broadinstitute.org_HNSC.Merge_Clinical.aux.2013052300.0.0.tar.gz.md5'\r\n",
        "     0K                                                      100% 7.86M=0s\r\n",
        "--2013-10-02 18:53:03--  http://gdac.broadinstitute.org/runs/stddata__2013_05_23/data/HNSC/20130523/gdac.broadinstitute.org_HNSC.Merge_Clinical.mage-tab.2013052300.0.0.tar.gz\r\n"
       ]
      },
      {
       "output_type": "stream",
       "stream": "stdout",
       "text": [
        "Saving to: `stddata__2013_05_23/HNSC/20130523/gdac.broadinstitute.org_HNSC.Merge_Clinical.mage-tab.2013052300.0.0.tar.gz'\r\n",
        "     0K                                                      100%  365M=0s\r\n",
        "--2013-10-02 18:53:03--  http://gdac.broadinstitute.org/runs/stddata__2013_05_23/data/HNSC/20130523/gdac.broadinstitute.org_HNSC.Merge_Clinical.mage-tab.2013052300.0.0.tar.gz.md5\r\n"
       ]
      },
      {
       "output_type": "stream",
       "stream": "stdout",
       "text": [
        "Saving to: `stddata__2013_05_23/HNSC/20130523/gdac.broadinstitute.org_HNSC.Merge_Clinical.mage-tab.2013052300.0.0.tar.gz.md5'\r\n",
        "     0K                                                      100% 8.31M=0s\r\n",
        "FINISHED --2013-10-02 18:53:03--\r\n",
        "Total wall clock time: 2.2s\r\n",
        "Downloaded: 15 files, 224K in 0.8s (278 KB/s)\r\n",
        "\r\n",
        "\r\n",
        "Now performing post-processing on retrieved files ...\r\n"
       ]
      }
     ],
     "prompt_number": 10
    },
    {
     "cell_type": "markdown",
     "metadata": {},
     "source": [
      "<span class='alert alert-warning'>Takes about 25 min to download methylation data.</span>"
     ]
    },
    {
     "cell_type": "code",
     "collapsed": false,
     "input": [
      "#!firehose_get -b -o humanmethylation450 stddata $RUN_DATE HNSC"
     ],
     "language": "python",
     "metadata": {},
     "outputs": [],
     "prompt_number": 11
    },
    {
     "cell_type": "heading",
     "level": 1,
     "metadata": {},
     "source": [
      "Clean Up Downloads"
     ]
    },
    {
     "cell_type": "code",
     "collapsed": false,
     "input": [
      "!rm fh_get.zip\n",
      "!rm firehose_get"
     ],
     "language": "python",
     "metadata": {},
     "outputs": [],
     "prompt_number": 12
    },
    {
     "cell_type": "code",
     "collapsed": false,
     "input": [
      "if not os.path.isdir(OUT_PATH):\n",
      "    os.makedirs(OUT_PATH)"
     ],
     "language": "python",
     "metadata": {},
     "outputs": [],
     "prompt_number": 13
    },
    {
     "cell_type": "code",
     "collapsed": false,
     "input": [
      "analyses_folder = 'analyses__' + RUN_DATE\n",
      "!mv $analyses_folder {OUT_PATH + '/' + analyses_folder}"
     ],
     "language": "python",
     "metadata": {},
     "outputs": [],
     "prompt_number": 14
    },
    {
     "cell_type": "code",
     "collapsed": false,
     "input": [
      "stddata_folder = 'stddata__' + RUN_DATE\n",
      "!mv $stddata_folder {OUT_PATH + '/' + stddata_folder}"
     ],
     "language": "python",
     "metadata": {},
     "outputs": [],
     "prompt_number": 15
    },
    {
     "cell_type": "heading",
     "level": 1,
     "metadata": {},
     "source": [
      "Exctract data and set up file hierarchy for downstream analysis"
     ]
    },
    {
     "cell_type": "code",
     "collapsed": false,
     "input": [
      "from Initialization.ProcessFirehose import process_firehose_get\n",
      "\n",
      "process_firehose_get(OUT_PATH, CANCER, RUN_DATE)"
     ],
     "language": "python",
     "metadata": {},
     "outputs": [],
     "prompt_number": 16
    },
    {
     "cell_type": "markdown",
     "metadata": {},
     "source": [
      "Get rid of all of the downloaded zip files that we processed"
     ]
    },
    {
     "cell_type": "code",
     "collapsed": false,
     "input": [
      "!rm -rf {OUT_PATH + '/' + stddata_folder}\n",
      "!rm -rf {OUT_PATH + '/' + analyses_folder}"
     ],
     "language": "python",
     "metadata": {},
     "outputs": [],
     "prompt_number": 17
    },
    {
     "cell_type": "heading",
     "level": 1,
     "metadata": {},
     "source": [
      "Create Run Object for Firehose Download"
     ]
    },
    {
     "cell_type": "code",
     "collapsed": false,
     "input": [
      "data_path = '{}/Firehose__{}/'.format(OUT_PATH, RUN_DATE)\n",
      "result_path = data_path + 'ucsd_analyses/'"
     ],
     "language": "python",
     "metadata": {},
     "outputs": [],
     "prompt_number": 18
    },
    {
     "cell_type": "code",
     "collapsed": false,
     "input": [
      "cancer_codes = pd.read_table('../Extra_Data/diseaseStudy.txt',\n",
      "                             index_col=0, squeeze=True)\n",
      "run_dir = 'http://gdac.broadinstitute.org/runs'\n",
      "f = '{}/analyses__{}/ingested_data.tsv'.format(run_dir, RUN_DATE)\n",
      "sample_matrix = pd.read_table(f, skiprows=4, index_col=0).dropna()"
     ],
     "language": "python",
     "metadata": {},
     "outputs": [],
     "prompt_number": 19
    },
    {
     "cell_type": "code",
     "collapsed": false,
     "input": [
      "run = Run(RUN_DATE, VERSION, data_path, result_path, PARAMETERS, \n",
      "          cancer_codes, sample_matrix, DESCRIPTION)\n",
      "run.save()\n",
      "run"
     ],
     "language": "python",
     "metadata": {},
     "outputs": [
      {
       "metadata": {},
       "output_type": "pyout",
       "prompt_number": 20,
       "text": [
        "Run object for TCGA Analysis\n",
        "Firehose run date: 2013_05_23\n",
        "Code version: all_2\n",
        "Comment: Testing in new file tree.\n"
       ]
      }
     ],
     "prompt_number": 20
    },
    {
     "cell_type": "heading",
     "level": 1,
     "metadata": {},
     "source": [
      "Initialize Data Objects into the File Hierarchy"
     ]
    },
    {
     "cell_type": "code",
     "collapsed": false,
     "input": [
      "cancer = Cancer(CANCER, run)\n",
      "cancer.initialize_data(run, save=True)\n",
      "initialize_real(CANCER, run.report_path, 'mRNASeq', \n",
      "                create_meta_features=True)\n",
      "initialize_real(CANCER, run.report_path, 'RPPA', \n",
      "                create_meta_features=True, create_real_features=False)\n",
      "initialize_real(CANCER, run.report_path, 'miRNASeq', \n",
      "                create_meta_features=False)\n",
      "initialize_cn(CANCER, run.report_path, 'CN_broad')\n",
      "initialize_mut(CANCER, run.report_path, create_meta_features=True);"
     ],
     "language": "python",
     "metadata": {},
     "outputs": [],
     "prompt_number": 21
    },
    {
     "cell_type": "code",
     "collapsed": false,
     "input": [
      "#process_meth(run.data_path, cancer.name)\n",
      "#initialize_real(cancer_type, run.report_path, 'Methylation', create_meta_features=True)"
     ],
     "language": "python",
     "metadata": {},
     "outputs": [],
     "prompt_number": 22
    }
   ],
   "metadata": {}
  }
 ]
}