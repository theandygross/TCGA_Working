{
 "metadata": {
  "name": ""
 },
 "nbformat": 3,
 "nbformat_minor": 0,
 "worksheets": [
  {
   "cells": [
    {
     "cell_type": "markdown",
     "metadata": {},
     "source": [
      "<div class=\"page-header\">\n",
      "    <h1>Bootstrap in IPython<small> A Quick Look at Some New Tools</small></h1>\n",
      "    <p class='lead'>Andrew Gross</p>\n",
      "</div> \n",
      "\n",
      "The IPython notebook has recently switched to [Twitter's Bootstrap](http://getbootstrap.com/2.3.2/index.html) for their front end. \n",
      "\n",
      "In addition to providing the flashy interface, the full power of bootstraps magic functions become available within the notebook for marking up documentation.\n",
      "\n",
      "Here are a few examples I pulled from the Boostrap website."
     ]
    },
    {
     "cell_type": "heading",
     "level": 2,
     "metadata": {},
     "source": [
      "Blockquotes "
     ]
    },
    {
     "cell_type": "markdown",
     "metadata": {},
     "source": [
      "    <blockquote>...</blockquote>\n",
      "\n",
      "<blockquote>Nullam quis risus eget urna mollis ornare vel eu leo. Cum sociis natoque penatibus et magnis dis parturient montes, nascetur ridiculus mus. Nullam id dolor id nibh ultricies vehicula.\n",
      "\n",
      "Cum sociis natoque penatibus et magnis dis parturient montes, nascetur ridiculus mus. Donec ullamcorper nulla non metus auctor fringilla. Duis mollis, est non commodo luctus, nisi erat porttitor ligula, eget lacinia odio sem nec elit. Donec ullamcorper nulla non metus auctor fringilla.\n",
      "\n",
      "Maecenas sed diam eget risus varius blandit sit amet non magna. Donec id elit non mi porta gravida at eget metus. Duis mollis, est non commodo luctus, nisi erat porttitor ligula, eget lacinia odio sem nec elit\n",
      "</blockquote>"
     ]
    },
    {
     "cell_type": "heading",
     "level": 2,
     "metadata": {},
     "source": [
      "Emphasis classes"
     ]
    },
    {
     "cell_type": "markdown",
     "metadata": {},
     "source": [
      "    <p class=\"muted\">Fusce dapibus, tellus ac cursus commodo, tortor mauris nibh.</p>\n",
      "    <p class=\"text-warning\">Etiam porta sem malesuada magna mollis euismod.</p>\n",
      "    <p class=\"text-error\">Donec ullamcorper nulla non metus auctor fringilla.</p>\n",
      "    <p class=\"text-info\">Aenean eu leo quam. Pellentesque ornare sem lacinia quam venenatis.</p>\n",
      "    <p class=\"text-success\">Duis mollis, est non commodo luctus, nisi erat porttitor ligula.</p>\n",
      "\n",
      "<blockquote>\n",
      "<p class=\"muted\">Fusce dapibus, tellus ac cursus commodo, tortor mauris nibh.</p>\n",
      "<p class=\"text-warning\">Etiam porta sem malesuada magna mollis euismod.</p>\n",
      "<p class=\"text-error\">Donec ullamcorper nulla non metus auctor fringilla.</p>\n",
      "<p class=\"text-info\">Aenean eu leo quam. Pellentesque ornare sem lacinia quam venenatis.</p>\n",
      "<p class=\"text-success\">Duis mollis, est non commodo luctus, nisi erat porttitor ligula.</p>\n",
      "</blockquote>"
     ]
    },
    {
     "cell_type": "heading",
     "level": 2,
     "metadata": {},
     "source": [
      "Horizontal description"
     ]
    },
    {
     "cell_type": "markdown",
     "metadata": {},
     "source": [
      "<p>Make terms and descriptions in <code>&lt;dl&gt;</code> line up side-by-side.</p>\n",
      "\n",
      "    <dl class=\"dl-horizontal\">\n",
      "        <dt>Description lists</dt>\n",
      "        <dd>A description list is perfect for defining terms.</dd>\n",
      "            ...\n",
      "    </dl>\n",
      "\n",
      "<dl class=\"dl-horizontal\">\n",
      "            <dt>Description lists</dt>\n",
      "            <dd>A description list is perfect for defining terms.</dd>\n",
      "            <dt>Euismod</dt>\n",
      "            <dd>Vestibulum id ligula porta felis euismod semper eget lacinia odio sem nec elit.</dd>\n",
      "            <dd>Donec id elit non mi porta gravida at eget metus.</dd>\n",
      "            <dt>Malesuada porta</dt>\n",
      "            <dd>Etiam porta sem malesuada magna mollis euismod.</dd>\n",
      "            <dt>Felis euismod semper eget lacinia</dt>\n",
      "            <dd>Fusce dapibus, tellus ac cursus commodo, tortor mauris condimentum nibh, ut fermentum massa justo sit amet risus.</dd>\n",
      "          </dl>"
     ]
    },
    {
     "cell_type": "heading",
     "level": 2,
     "metadata": {},
     "source": [
      "Magic Classes for Headers"
     ]
    },
    {
     "cell_type": "markdown",
     "metadata": {},
     "source": [
      "    <h3 class='alert alert-sucess'>Sucess</h3>\n",
      "<h3 class='alert alert-success'>Sucess</h3>\n",
      "\n",
      "    <h3 class='alert alert-error'>Error</h3>\n",
      "<h3 class='alert alert-error'>Error</h3>\n",
      "\n",
      "    <h3 class='alert alert-warning'>Warning</h3>\n",
      "<h3 class='alert alert-warning'>Warning</h3>\n",
      "\n",
      "    <h3 class='alert alert-info'>Info</h3>\n",
      "<h3 class='alert alert-info'>Info</h3>"
     ]
    },
    {
     "cell_type": "heading",
     "level": 2,
     "metadata": {},
     "source": [
      "The Next Level"
     ]
    },
    {
     "cell_type": "markdown",
     "metadata": {},
     "source": [
      "Boostrap has a number of built-in tools and widgets, that at somepoint could become extremely powerfull using IPython paridigms such as __repr_html__."
     ]
    },
    {
     "cell_type": "markdown",
     "metadata": {},
     "source": [
      "    <div id=\"myCarousel\" class=\"carousel slide\" style='width:700px'>\n",
      "        <ol class=\"carousel-indicators\">\n",
      "          <li data-target=\"#myCarousel\" data-slide-to=\"0\" class=\"\"></li>\n",
      "          <li data-target=\"#myCarousel\" data-slide-to=\"1\" class=\"\"></li>\n",
      "          <li data-target=\"#myCarousel\" data-slide-to=\"2\" class=\"active\"></li>\n",
      "        </ol>\n",
      "        <div class=\"carousel-inner\">\n",
      "          <div class=\"item\">\n",
      "            <img src=\"http://getbootstrap.com/2.3.2/assets/img/bootstrap-mdo-sfmoma-01.jpg\" alt=\"\">\n",
      "            <div class=\"carousel-caption\">\n",
      "              <h4>First Thumbnail label</h4>\n",
      "              <p>Cras justo odio, dapibus ac facilisis in, egestas eget quam. Donec id elit non mi porta gravida at eget metus. Nullam id dolor id nibh ultricies vehicula ut id elit.</p>\n",
      "            </div>\n",
      "          </div>\n",
      "          <div class=\"item\">\n",
      "            <img src=\"http://getbootstrap.com/2.3.2/assets/img/bootstrap-mdo-sfmoma-02.jpg\" alt=\"\">\n",
      "            <div class=\"carousel-caption\">\n",
      "              <h4>Second Thumbnail label</h4>\n",
      "              <p>Cras justo odio, dapibus ac facilisis in, egestas eget quam. Donec id elit non mi porta gravida at eget metus. Nullam id dolor id nibh ultricies vehicula ut id elit.</p>\n",
      "            </div>\n",
      "          </div>\n",
      "          <div class=\"item active\">\n",
      "            <img src=\"http://getbootstrap.com/2.3.2/assets/img/bootstrap-mdo-sfmoma-03.jpg\" alt=\"\">\n",
      "            <div class=\"carousel-caption\">\n",
      "              <h4>Third Thumbnail label</h4>\n",
      "              <p>Cras justo odio, dapibus ac facilisis in, egestas eget quam. Donec id elit non mi porta gravida at eget metus. Nullam id dolor id nibh ultricies vehicula ut id elit.</p>\n",
      "            </div>\n",
      "          </div>\n",
      "        </div>\n",
      "        <a class=\"left carousel-control\" href=\"#myCarousel\" data-slide=\"prev\">\u2039</a>\n",
      "        <a class=\"right carousel-control\" href=\"#myCarousel\" data-slide=\"next\">\u203a</a>\n",
      "        </div>\n",
      "\n",
      "<div id=\"myCarousel\" class=\"carousel slide\" style='width:700px'>\n",
      "    <ol class=\"carousel-indicators\">\n",
      "      <li data-target=\"#myCarousel\" data-slide-to=\"0\" class=\"\"></li>\n",
      "      <li data-target=\"#myCarousel\" data-slide-to=\"1\" class=\"\"></li>\n",
      "      <li data-target=\"#myCarousel\" data-slide-to=\"2\" class=\"active\"></li>\n",
      "    </ol>\n",
      "    <div class=\"carousel-inner\">\n",
      "      <div class=\"item\">\n",
      "        <img src=\"http://getbootstrap.com/2.3.2/assets/img/bootstrap-mdo-sfmoma-01.jpg\" alt=\"\">\n",
      "        <div class=\"carousel-caption\">\n",
      "          <h4>First Thumbnail label</h4>\n",
      "          <p>Cras justo odio, dapibus ac facilisis in, egestas eget quam. Donec id elit non mi porta gravida at eget metus. Nullam id dolor id nibh ultricies vehicula ut id elit.</p>\n",
      "        </div>\n",
      "      </div>\n",
      "      <div class=\"item\">\n",
      "        <img src=\"http://getbootstrap.com/2.3.2/assets/img/bootstrap-mdo-sfmoma-02.jpg\" alt=\"\">\n",
      "        <div class=\"carousel-caption\">\n",
      "          <h4>Second Thumbnail label</h4>\n",
      "          <p>Cras justo odio, dapibus ac facilisis in, egestas eget quam. Donec id elit non mi porta gravida at eget metus. Nullam id dolor id nibh ultricies vehicula ut id elit.</p>\n",
      "        </div>\n",
      "      </div>\n",
      "      <div class=\"item active\">\n",
      "        <img src=\"http://getbootstrap.com/2.3.2/assets/img/bootstrap-mdo-sfmoma-03.jpg\" alt=\"\">\n",
      "        <div class=\"carousel-caption\">\n",
      "          <h4>Third Thumbnail label</h4>\n",
      "          <p>Cras justo odio, dapibus ac facilisis in, egestas eget quam. Donec id elit non mi porta gravida at eget metus. Nullam id dolor id nibh ultricies vehicula ut id elit.</p>\n",
      "        </div>\n",
      "      </div>\n",
      "    </div>\n",
      "    <a class=\"left carousel-control\" href=\"#myCarousel\" data-slide=\"prev\">\u2039</a>\n",
      "    <a class=\"right carousel-control\" href=\"#myCarousel\" data-slide=\"next\">\u203a</a>\n",
      "    </div>"
     ]
    }
   ],
   "metadata": {}
  }
 ]
}