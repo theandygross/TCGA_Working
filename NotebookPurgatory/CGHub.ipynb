{
 "metadata": {
  "name": "CGHub"
 },
 "nbformat": 3,
 "nbformat_minor": 0,
 "worksheets": [
  {
   "cells": [
    {
     "cell_type": "markdown",
     "metadata": {},
     "source": [
      "#Download Samples from GCHub"
     ]
    },
    {
     "cell_type": "code",
     "collapsed": false,
     "input": [
      "import pandas as pd\n",
      "import os as os"
     ],
     "language": "python",
     "metadata": {},
     "outputs": [],
     "prompt_number": 1
    },
    {
     "cell_type": "markdown",
     "metadata": {},
     "source": [
      "####Hard coding in sample IDs to avoid confusion\n",
      "* These are from subtype 4 with the MUC5B mutations that we need to hand check"
     ]
    },
    {
     "cell_type": "code",
     "collapsed": false,
     "input": [
      "subtype_4 = ['TCGA-BA-4074', 'TCGA-BA-6872', 'TCGA-CN-4727', 'TCGA-CN-5367',\n",
      "             'TCGA-CN-5370', 'TCGA-CN-6019', 'TCGA-CN-6021', 'TCGA-CN-6992',\n",
      "             'TCGA-CR-6491', 'TCGA-CR-7377', 'TCGA-CV-6935', 'TCGA-CV-6936',\n",
      "             'TCGA-CV-7236', 'TCGA-CV-7253', 'TCGA-CV-7263', 'TCGA-CV-7409',\n",
      "             'TCGA-CV-7421']"
     ],
     "language": "python",
     "metadata": {},
     "outputs": [],
     "prompt_number": 2
    },
    {
     "cell_type": "markdown",
     "metadata": {},
     "source": [
      "####Map TCGA Barcodes to tumor sample UUIDs \n",
      "* This table was pulled from https://tcga-data.nci.nih.gov/uuid/uuidBrowser.htm"
     ]
    },
    {
     "cell_type": "code",
     "collapsed": false,
     "input": [
      "uuid = pd.read_csv('/cellar/users/agross/Downloads/uuidBrowser (2).csv')\n",
      "\n",
      "selected = uuid[uuid.Barcode.map(lambda s: s[:12]).isin(subtype_4)]\n",
      "selected = selected[selected['Sample Type']=='Primary solid Tumor']\n",
      "ids = selected[selected['Element Type'] == 'Sample']"
     ],
     "language": "python",
     "metadata": {},
     "outputs": [],
     "prompt_number": 3
    },
    {
     "cell_type": "markdown",
     "metadata": {},
     "source": [
      "####Get tumor exome UUIDs with cgquery\n",
      "* I'm using Hannah's copy of cgquery because I'm too lazy to figure it out"
     ]
    },
    {
     "cell_type": "code",
     "collapsed": false,
     "input": [
      "cgquery = '/cellar/users/agross/sources/cghub/bin/cgquery'"
     ],
     "language": "python",
     "metadata": {},
     "outputs": [],
     "prompt_number": 4
    },
    {
     "cell_type": "code",
     "collapsed": false,
     "input": [
      "address = {}\n",
      "for idx, sample in ids.iterrows():\n",
      "    query = '\"sample_id={}&library_strategy=WXS\"'.format(sample['UUID'])\n",
      "    text = !$cgquery $query\n",
      "    l = [f for f in text if 'analysis_data_uri' in f][0]\n",
      "    address[idx] = l.split()[-1]\n",
      "address = pd.Series(address, name='address')\n",
      "ids = ids.join(address)"
     ],
     "language": "python",
     "metadata": {},
     "outputs": [],
     "prompt_number": 5
    },
    {
     "cell_type": "markdown",
     "metadata": {},
     "source": [
      "####Download the BAM files with gtdownload\n",
      "* I'm throwing them all in a new folder in scratch \n",
      "* Had to download libxqilla-dev"
     ]
    },
    {
     "cell_type": "code",
     "collapsed": false,
     "input": [
      "gtdownload = '/cellar/users/agross/sources/cghub/bin/gtdownload'"
     ],
     "language": "python",
     "metadata": {},
     "outputs": [],
     "prompt_number": 6
    },
    {
     "cell_type": "code",
     "collapsed": false,
     "input": [
      "address_list = '-d ' + ' -d '.join(ids.address)\n",
      "key_loc = '/cellar/users/hcarter/CGHub/cghub.key'\n",
      "download_dir = '/cellar/data/TCGA/Firehose__2013_04_21/bam_files/subtype_4'\n",
      "if not os.path.isdir(download_dir):\n",
      "    os.makedirs(download_dir)\n",
      "src = '/cellar/users/hcarter/programs/GeneTorrent-3.8.3/src'"
     ],
     "language": "python",
     "metadata": {},
     "outputs": [],
     "prompt_number": 7
    },
    {
     "cell_type": "code",
     "collapsed": false,
     "input": [
      "command = '{} -vv {} -C {} -p {} -c {}'.format(gtdownload, address_list, src, download_dir, key_loc)\n",
      "command"
     ],
     "language": "python",
     "metadata": {},
     "outputs": [
      {
       "output_type": "pyout",
       "prompt_number": 8,
       "text": [
        "'/cellar/users/agross/sources/cghub/bin/gtdownload -vv -d https://cghub.ucsc.edu/cghub/data/analysis/download/f757c929-9f16-456f-b6af-177e646ad990 -d https://cghub.ucsc.edu/cghub/data/analysis/download/215f5639-3b2b-48de-9dda-db9f6c4cf771 -d https://cghub.ucsc.edu/cghub/data/analysis/download/d0031528-60e3-436b-b2dc-252680f481d1 -d https://cghub.ucsc.edu/cghub/data/analysis/download/ad0634f4-e103-493d-b7c4-1c96c9a5c074 -d https://cghub.ucsc.edu/cghub/data/analysis/download/bb49dbaa-7ef1-401a-b3bb-a3bbb34ab43a -d https://cghub.ucsc.edu/cghub/data/analysis/download/a76b9e85-308e-4ad1-8d6c-ceabbbdffd6c -d https://cghub.ucsc.edu/cghub/data/analysis/download/58814296-6603-4f26-83e8-036975754e56 -d https://cghub.ucsc.edu/cghub/data/analysis/download/2a1b712d-88ac-4d6b-9e4f-3cffa72cbd59 -d https://cghub.ucsc.edu/cghub/data/analysis/download/04cc0eb1-fe62-495c-b11b-6d73026e5aaa -d https://cghub.ucsc.edu/cghub/data/analysis/download/ed445aad-d629-4b41-9395-363118028458 -d https://cghub.ucsc.edu/cghub/data/analysis/download/806bec99-9f96-4720-acd1-925cf7e1033a -d https://cghub.ucsc.edu/cghub/data/analysis/download/36e1e94c-0b00-4ece-981e-9761ab6d7740 -d https://cghub.ucsc.edu/cghub/data/analysis/download/708cda89-c433-43eb-82ec-c4e4d9986449 -d https://cghub.ucsc.edu/cghub/data/analysis/download/7f795cf3-9490-4f6b-8adf-6a92acdb3271 -d https://cghub.ucsc.edu/cghub/data/analysis/download/43ea43f7-d516-4b44-9d2c-1371ec0c3d9d -d https://cghub.ucsc.edu/cghub/data/analysis/download/00e83700-5bca-45f8-98cf-a4d0580eac52 -d https://cghub.ucsc.edu/cghub/data/analysis/download/003cdc3b-fdd6-493e-b322-b19a1e504786 -C /cellar/users/hcarter/programs/GeneTorrent-3.8.3/src -p /cellar/data/TCGA/Firehose__2013_04_21/bam_files/subtype_4 -c /cellar/users/hcarter/CGHub/cghub.key'"
       ]
      }
     ],
     "prompt_number": 8
    },
    {
     "cell_type": "code",
     "collapsed": false,
     "input": [
      "!$gtdownload -vv $address_list -C $src -p $download_dir -c $key_loc"
     ],
     "language": "python",
     "metadata": {},
     "outputs": [
      {
       "output_type": "stream",
       "stream": "stdout",
       "text": [
        "/cellar/users/agross/sources/cghub/bin/../libexec/gtdownload: error while loading shared libraries: libicuuc.so.44: cannot open shared object file: No such file or directory\r\n"
       ]
      }
     ],
     "prompt_number": 11
    },
    {
     "cell_type": "code",
     "collapsed": false,
     "input": [],
     "language": "python",
     "metadata": {},
     "outputs": []
    }
   ],
   "metadata": {}
  }
 ]
}