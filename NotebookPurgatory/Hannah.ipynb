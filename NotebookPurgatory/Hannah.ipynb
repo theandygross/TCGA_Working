{
 "metadata": {
  "name": "Hannah"
 },
 "nbformat": 3,
 "nbformat_minor": 0,
 "worksheets": [
  {
   "cells": [
    {
     "cell_type": "code",
     "collapsed": false,
     "input": [
      "import pandas as pd"
     ],
     "language": "python",
     "metadata": {},
     "outputs": [],
     "prompt_number": 1
    },
    {
     "cell_type": "code",
     "collapsed": false,
     "input": [
      "cd /cellar/users/hcarter/projects/personalizedmedicine/exprs/ks_somatic/"
     ],
     "language": "python",
     "metadata": {},
     "outputs": [
      {
       "output_type": "stream",
       "stream": "stdout",
       "text": [
        "/cellar/users/hcarter/projects/personalizedmedicine/exprs/ks_somatic\n"
       ]
      }
     ],
     "prompt_number": 2
    },
    {
     "cell_type": "code",
     "collapsed": false,
     "input": [
      "l = open('strelka/all.somatic.snvs.vcf', 'rb').readlines()\n",
      "h = [s for s in l if s.startswith('##')]\n",
      "len(h)"
     ],
     "language": "python",
     "metadata": {},
     "outputs": [
      {
       "output_type": "pyout",
       "prompt_number": 34,
       "text": [
        "51"
       ]
      }
     ],
     "prompt_number": 34
    },
    {
     "cell_type": "code",
     "collapsed": false,
     "input": [
      "ls -la"
     ],
     "language": "python",
     "metadata": {},
     "outputs": [
      {
       "output_type": "stream",
       "stream": "stdout",
       "text": [
        "total 1104\r\n"
       ]
      },
      {
       "output_type": "stream",
       "stream": "stdout",
       "text": [
        "drwxr-xr-x+ 4 hcarter users     16 2013-02-22 13:25 \u001b[0m\u001b[01;34m.\u001b[0m/\r\n",
        "drwxr-xr-x+ 8 hcarter users      8 2013-02-20 16:00 \u001b[01;34m..\u001b[0m/\r\n",
        "-rw-r--r--+ 1 hcarter users 383306 2013-02-22 12:17 all.somatic.snvs.forCRAVAT\r\n",
        "-rw-rw-r--+ 1 hcarter users 336038 2013-02-22 12:16 all.somatic.snvs.genomic\r\n",
        "-rw-rw-r--+ 1 hcarter users  23488 2013-02-21 21:28 all.somatic.snvs.genomic.mapped\r\n",
        "-rw-rw-r--+ 1 hcarter users     35 2013-02-21 21:28 all.somatic.snvs.genomic.mapped.log\r\n",
        "drwxr-xr-x+ 6 hcarter users      8 2013-02-22 13:27 \u001b[01;34mcravat\u001b[0m/\r\n",
        "drwxrwxr-x  2 hcarter users      3 2013-02-22 13:25 \u001b[01;34mIGV\u001b[0m/\r\n",
        "-rw-rw-r--+ 1 hcarter users 130428 2013-02-21 08:42 passed.somatic.snvs.genomic\r\n",
        "-rw-rw-r--+ 1 hcarter users  11988 2013-02-22 11:02 passed.somatic.snvs.genomic.mapped\r\n",
        "-rw-rw-r--+ 1 hcarter users  12015 2013-02-21 21:28 passed.somatic.snvs.genomic.mapped~\r\n",
        "-rw-rw-r--+ 1 hcarter users     35 2013-02-21 21:28 passed.somatic.snvs.genomic.mapped.log\r\n",
        "-rw-rw-r--+ 1 hcarter users   1418 2013-02-21 08:49 readme\r\n",
        "-rw-rw-r--+ 1 hcarter users    547 2013-02-21 08:29 readme~\r\n",
        "-rw-rw-r--+ 1 hcarter users 124486 2013-02-21 21:28 SNVs.different.mapped\r\n",
        "lrwxrwxrwx  1 hcarter users     59 2013-02-20 20:36 \u001b[01;36mstrelka\u001b[0m -> \u001b[01;34m/cellar/users/hcarter/Data/projects/jrm/strelka/ks/results/\u001b[0m/\r\n"
       ]
      }
     ],
     "prompt_number": 5
    },
    {
     "cell_type": "code",
     "collapsed": false,
     "input": [],
     "language": "python",
     "metadata": {},
     "outputs": []
    },
    {
     "cell_type": "code",
     "collapsed": false,
     "input": [
      "a = pd.read_table('all.somatic.snvs.genomic.mapped', header=None, index_col=0)\n",
      "b = pd.read_table('strelka/all.somatic.snvs.vcf', header=0, skiprows=51)"
     ],
     "language": "python",
     "metadata": {},
     "outputs": [],
     "prompt_number": 58
    },
    {
     "cell_type": "code",
     "collapsed": false,
     "input": [
      "a = a.rename(columns={2: '#CHROM', 4: 'POS'})"
     ],
     "language": "python",
     "metadata": {},
     "outputs": [],
     "prompt_number": 59
    },
    {
     "cell_type": "code",
     "collapsed": false,
     "input": [
      "a.head().T"
     ],
     "language": "python",
     "metadata": {},
     "outputs": [
      {
       "html": [
        "<div style=\"max-height:1000px;max-width:1500px;overflow:auto;\">\n",
        "<table border=\"1\" class=\"dataframe\">\n",
        "  <thead>\n",
        "    <tr style=\"text-align: right;\">\n",
        "      <th></th>\n",
        "      <th>all.somatic.snvs.genomic157</th>\n",
        "      <th>160</th>\n",
        "      <th>161</th>\n",
        "      <th>245</th>\n",
        "      <th>527</th>\n",
        "    </tr>\n",
        "  </thead>\n",
        "  <tbody>\n",
        "    <tr>\n",
        "      <th>1</th>\n",
        "      <td>                                              LRP8</td>\n",
        "      <td>                                            HEATR8</td>\n",
        "      <td>                                             USP24</td>\n",
        "      <td>                                            LRRC8D</td>\n",
        "      <td>                                          NBPF12</td>\n",
        "    </tr>\n",
        "    <tr>\n",
        "      <th>#CHROM</th>\n",
        "      <td>                                              chr1</td>\n",
        "      <td>                                              chr1</td>\n",
        "      <td>                                              chr1</td>\n",
        "      <td>                                              chr1</td>\n",
        "      <td>                                            chr1</td>\n",
        "    </tr>\n",
        "    <tr>\n",
        "      <th>3</th>\n",
        "      <td>                                          53720806</td>\n",
        "      <td>                                          55166102</td>\n",
        "      <td>                                          55612671</td>\n",
        "      <td>                                          90401017</td>\n",
        "      <td>                                       146399596</td>\n",
        "    </tr>\n",
        "    <tr>\n",
        "      <th>POS</th>\n",
        "      <td>                                          53720807</td>\n",
        "      <td>                                          55166103</td>\n",
        "      <td>                                          55612672</td>\n",
        "      <td>                                          90401018</td>\n",
        "      <td>                                       146399597</td>\n",
        "    </tr>\n",
        "    <tr>\n",
        "      <th>5</th>\n",
        "      <td>                                                 +</td>\n",
        "      <td>                                                 +</td>\n",
        "      <td>                                                 +</td>\n",
        "      <td>                                                 +</td>\n",
        "      <td>                                               +</td>\n",
        "    </tr>\n",
        "    <tr>\n",
        "      <th>6</th>\n",
        "      <td>                                                 C</td>\n",
        "      <td>                                                 G</td>\n",
        "      <td>                                                 C</td>\n",
        "      <td>                                                 C</td>\n",
        "      <td>                                               A</td>\n",
        "    </tr>\n",
        "    <tr>\n",
        "      <th>7</th>\n",
        "      <td>                                                 T</td>\n",
        "      <td>                                                 T</td>\n",
        "      <td>                                                 A</td>\n",
        "      <td>                                                 T</td>\n",
        "      <td>                                               A</td>\n",
        "    </tr>\n",
        "    <tr>\n",
        "      <th>8</th>\n",
        "      <td> NM_017522.4,NM_033300.3,NM_001018054.2,NM_0046...</td>\n",
        "      <td> NM_001039464.2,ENST00000371287,ENST00000454855...</td>\n",
        "      <td> NM_015306.2,ENST00000407756,ENST00000294383,uc...</td>\n",
        "      <td> NM_001134479.1,NM_018103.4,ENST00000394593,ENS...</td>\n",
        "      <td> ENST00000309471,ENST00000446760,ENST00000442909</td>\n",
        "    </tr>\n",
        "    <tr>\n",
        "      <th>9</th>\n",
        "      <td> G625R,G659R,G829R,G829R,G45R,G382R,G625R,G659R...</td>\n",
        "      <td> G1025V,G94V,G543V,G593V,G1054V,G1025V,G227V,G5...</td>\n",
        "      <td>               G727V,G567V,G727V,G561V,G727V,G727V</td>\n",
        "      <td>   L797L,L797L,L797L,L797L,L797L,L797L,L797L,L797L</td>\n",
        "      <td>                               D104D,D179D,D179D</td>\n",
        "    </tr>\n",
        "    <tr>\n",
        "      <th>10</th>\n",
        "      <td> Missense,Missense,Missense,Missense,Missense,M...</td>\n",
        "      <td> Missense,Missense,Missense,Missense,Missense,M...</td>\n",
        "      <td> Missense,Missense,Missense,Missense,Missense,M...</td>\n",
        "      <td> Silent,Silent,Silent,Silent,Silent,Silent,Sile...</td>\n",
        "      <td>                            Silent,Silent,Silent</td>\n",
        "    </tr>\n",
        "  </tbody>\n",
        "</table>\n",
        "</div>"
       ],
       "output_type": "pyout",
       "prompt_number": 60,
       "text": [
        "0                             all.somatic.snvs.genomic157  \\\n",
        "1                                                    LRP8   \n",
        "#CHROM                                               chr1   \n",
        "3                                                53720806   \n",
        "POS                                              53720807   \n",
        "5                                                       +   \n",
        "6                                                       C   \n",
        "7                                                       T   \n",
        "8       NM_017522.4,NM_033300.3,NM_001018054.2,NM_0046...   \n",
        "9       G625R,G659R,G829R,G829R,G45R,G382R,G625R,G659R...   \n",
        "10      Missense,Missense,Missense,Missense,Missense,M...   \n",
        "\n",
        "0                                                     160  \\\n",
        "1                                                  HEATR8   \n",
        "#CHROM                                               chr1   \n",
        "3                                                55166102   \n",
        "POS                                              55166103   \n",
        "5                                                       +   \n",
        "6                                                       G   \n",
        "7                                                       T   \n",
        "8       NM_001039464.2,ENST00000371287,ENST00000454855...   \n",
        "9       G1025V,G94V,G543V,G593V,G1054V,G1025V,G227V,G5...   \n",
        "10      Missense,Missense,Missense,Missense,Missense,M...   \n",
        "\n",
        "0                                                     161  \\\n",
        "1                                                   USP24   \n",
        "#CHROM                                               chr1   \n",
        "3                                                55612671   \n",
        "POS                                              55612672   \n",
        "5                                                       +   \n",
        "6                                                       C   \n",
        "7                                                       A   \n",
        "8       NM_015306.2,ENST00000407756,ENST00000294383,uc...   \n",
        "9                     G727V,G567V,G727V,G561V,G727V,G727V   \n",
        "10      Missense,Missense,Missense,Missense,Missense,M...   \n",
        "\n",
        "0                                                     245  \\\n",
        "1                                                  LRRC8D   \n",
        "#CHROM                                               chr1   \n",
        "3                                                90401017   \n",
        "POS                                              90401018   \n",
        "5                                                       +   \n",
        "6                                                       C   \n",
        "7                                                       T   \n",
        "8       NM_001134479.1,NM_018103.4,ENST00000394593,ENS...   \n",
        "9         L797L,L797L,L797L,L797L,L797L,L797L,L797L,L797L   \n",
        "10      Silent,Silent,Silent,Silent,Silent,Silent,Sile...   \n",
        "\n",
        "0                                                   527  \n",
        "1                                                NBPF12  \n",
        "#CHROM                                             chr1  \n",
        "3                                             146399596  \n",
        "POS                                           146399597  \n",
        "5                                                     +  \n",
        "6                                                     A  \n",
        "7                                                     A  \n",
        "8       ENST00000309471,ENST00000446760,ENST00000442909  \n",
        "9                                     D104D,D179D,D179D  \n",
        "10                                 Silent,Silent,Silent  "
       ]
      }
     ],
     "prompt_number": 60
    },
    {
     "cell_type": "code",
     "collapsed": false,
     "input": [
      "a = a.set_index(['#CHROM','POS'])\n",
      "b = b.set_index(['#CHROM','POS'])"
     ],
     "language": "python",
     "metadata": {},
     "outputs": [],
     "prompt_number": 71
    },
    {
     "cell_type": "code",
     "collapsed": false,
     "input": [
      "c = a.join(b)"
     ],
     "language": "python",
     "metadata": {},
     "outputs": [],
     "prompt_number": 77
    },
    {
     "cell_type": "code",
     "collapsed": false,
     "input": [
      "c.groupby(level=0).size().plot(kind='bar')"
     ],
     "language": "python",
     "metadata": {},
     "outputs": [
      {
       "output_type": "pyout",
       "prompt_number": 85,
       "text": [
        "<matplotlib.axes.AxesSubplot at 0x50df650>"
       ]
      },
      {
       "output_type": "display_data",
       "png": "[encoded data removed]"
      }
     ],
     "prompt_number": 85
    },
    {
     "cell_type": "code",
     "collapsed": false,
     "input": [],
     "language": "python",
     "metadata": {},
     "outputs": []
    }
   ],
   "metadata": {}
  }
 ]
}