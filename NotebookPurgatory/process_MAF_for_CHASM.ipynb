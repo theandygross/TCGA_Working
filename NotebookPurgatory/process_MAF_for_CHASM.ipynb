{
 "metadata": {
  "name": "process_MAF_for_CHASM"
 },
 "nbformat": 3,
 "nbformat_minor": 0,
 "worksheets": [
  {
   "cells": [
    {
     "cell_type": "code",
     "collapsed": false,
     "input": [
      "cd ../src"
     ],
     "language": "python",
     "metadata": {},
     "outputs": [
      {
       "output_type": "stream",
       "stream": "stdout",
       "text": [
        "/cellar/users/agross/TCGA_Code/TCGA/Pathway_Merge/src\n"
       ]
      }
     ],
     "prompt_number": 1
    },
    {
     "cell_type": "code",
     "collapsed": false,
     "input": [
      "import os as os\n",
      "import pickle as pickle\n",
      "import pandas as pd\n",
      "\n",
      "from Reports.NotebookTools import *\n",
      "from Processing.Tests import *\n",
      "from Reports.Figures import *\n",
      "\n",
      "pd.set_option('precision',3)"
     ],
     "language": "python",
     "metadata": {},
     "outputs": [],
     "prompt_number": 2
    },
    {
     "cell_type": "code",
     "collapsed": false,
     "input": [
      "result_path = '/scratch/TCGA/Firehose__2012_01_16/ucsd_analyses'\n",
      "run = sorted(os.listdir(result_path))[0]\n",
      "run = pickle.load(open('/'.join([result_path, run, 'RunObject.p']), 'rb'))"
     ],
     "language": "python",
     "metadata": {},
     "outputs": [],
     "prompt_number": 3
    },
    {
     "cell_type": "code",
     "collapsed": false,
     "input": [
      "cancer = run.load_cancer('HNSC')"
     ],
     "language": "python",
     "metadata": {},
     "outputs": [],
     "prompt_number": 4
    },
    {
     "cell_type": "code",
     "collapsed": false,
     "input": [
      "def get_submaf(data_path, cancer, genes='All'):\n",
      "    maf = pd.read_table(data_path + '/'.join(['analyses', cancer, 'MutSigNozzleReport2',  cancer + '-TP.final_analysis_set.maf']))\n",
      "    maf = maf.dropna(how='all', axis=[0,1])\n",
      "    maf.Tumor_Sample_Barcode = maf.Tumor_Sample_Barcode.map(lambda s: s[:12])\n",
      "    if genes != 'All':\n",
      "        maf = maf[maf.Hugo_Symbol.isin(genes)]\n",
      "    get_allele = lambda s: [a for a in [s['Tumor_Seq_Allele1'], s['Tumor_Seq_Allele2']]\n",
      "                        if a != s['Reference_Allele']][0]\n",
      "    maf['Alt_Allele'] = maf.apply(get_allele, 1)\n",
      "    maf = maf[['Hugo_Symbol', 'Chromosome', 'Start_position', 'End_position', \n",
      "               'Strand', 'Reference_Allele', 'Alt_Allele', 'Tumor_Sample_Barcode']]\n",
      "    maf = maf.set_index('Hugo_Symbol', append=True)\n",
      "    maf.index = maf.index.swaplevel(0,1)\n",
      "    return maf   "
     ],
     "language": "python",
     "metadata": {},
     "outputs": [],
     "prompt_number": 8
    },
    {
     "cell_type": "code",
     "collapsed": false,
     "input": [
      "maf = get_submaf(run.data_path, cancer.name)\n",
      "maf.index = ['{}_{}'.format(*s) for s in maf.index]\n",
      "maf.Chromosome = maf.Chromosome.map(lambda s: 'chr' + s)\n",
      "maf.Start_position = maf.Start_position - 1\n",
      "maf.to_csv('/cellar/users/agross/Desktop/hnsc.tab', sep='\\t', header=False)"
     ],
     "language": "python",
     "metadata": {},
     "outputs": [],
     "prompt_number": "*"
    },
    {
     "cell_type": "code",
     "collapsed": false,
     "input": [],
     "language": "python",
     "metadata": {},
     "outputs": []
    }
   ],
   "metadata": {}
  }
 ]
}