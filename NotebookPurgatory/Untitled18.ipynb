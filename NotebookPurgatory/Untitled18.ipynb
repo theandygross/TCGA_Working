{
 "metadata": {
  "name": "Untitled18"
 },
 "nbformat": 3,
 "nbformat_minor": 0,
 "worksheets": [
  {
   "cells": [
    {
     "cell_type": "code",
     "collapsed": false,
     "input": [
      "import os"
     ],
     "language": "python",
     "metadata": {},
     "outputs": [],
     "prompt_number": 40
    },
    {
     "cell_type": "code",
     "collapsed": false,
     "input": [
      "path = '/cellar/users/koyel_mitra/Desktop/Mary/Data/Glucose/Glu_Array3/GLU (200 PLATES)/Glu_Screen3_Reps_A_fname_mod/'"
     ],
     "language": "python",
     "metadata": {},
     "outputs": [],
     "prompt_number": 41
    },
    {
     "cell_type": "code",
     "collapsed": false,
     "input": [
      "for f in os.listdir(path):\n",
      "   new_f = '_'.join(array(f.split('_'))[[0,2]])\n",
      "   os.rename(path + f, path + new_f)"
     ],
     "language": "python",
     "metadata": {},
     "outputs": [],
     "prompt_number": 42
    }
   ],
   "metadata": {}
  }
 ]
}