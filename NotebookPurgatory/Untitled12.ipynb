{
 "metadata": {
  "name": "Untitled12"
 },
 "nbformat": 3,
 "nbformat_minor": 0,
 "worksheets": [
  {
   "cells": [
    {
     "cell_type": "code",
     "collapsed": false,
     "input": [
      "draw_survival_curves(combo=='3p+p53', surv, clinical.clinical.tumor_subdivision, show=True)"
     ],
     "language": "python",
     "metadata": {},
     "outputs": []
    }
   ],
   "metadata": {}
  }
 ]
}