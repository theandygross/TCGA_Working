{
 "metadata": {
  "name": "GSEA"
 },
 "nbformat": 3,
 "nbformat_minor": 0,
 "worksheets": [
  {
   "cells": [
    {
     "cell_type": "code",
     "collapsed": false,
     "input": [
      "gsea = '/cellar/users/agross/gsea2-2.0.10.jar'\n",
      "preranked = 'xtools.gsea.GseaPreranked'\n",
      "gene_sets = '/cellar/users/agross/Data/GeneSets/c2.cp.v3.0.symbols.gmt'\n",
      "input_file = '/cellar/users/agross/tmp.rnk'\n",
      "chip = '/cellar/users/agross/Data/GeneSets/GENE_SYMBOL.chip'\n",
      "out = '/cellar/users/agross/gsea_home/output/feb27'\n",
      "params = [('gmx', gene_sets), ('mode', 'Max_probe'), ('norm', 'meandiv'), ('nperm', 1000), ('collapse', 'false'),\n",
      "          ('rnk', input_file), ('scoring_scheme', 'weighted'), ('chip', chip), ('include_only_symbols', 'true'),\n",
      "          ('make_sets', 'false'), ('rnd_seed', 'timestamp'), ('set_max', 500), ('set_min', 15), \n",
      "          ('zip_report', 'false'), ('out', out), ('gui', 'false')]"
     ],
     "language": "python",
     "metadata": {},
     "outputs": [],
     "prompt_number": 10
    },
    {
     "cell_type": "code",
     "collapsed": false,
     "input": [
      "args = ' '.join(['-{} {}'.format(p1,p2) for p1,p2 in params])"
     ],
     "language": "python",
     "metadata": {},
     "outputs": [],
     "prompt_number": 11
    },
    {
     "cell_type": "code",
     "collapsed": false,
     "input": [
      "args"
     ],
     "language": "python",
     "metadata": {},
     "outputs": [
      {
       "output_type": "pyout",
       "prompt_number": 12,
       "text": [
        "'-gmx /cellar/users/agross/Data/GeneSets/c2.cp.v3.0.symbols.gmt -mode Max_probe -norm meandiv -nperm 1000 -collapse false -rnk /cellar/users/agross/tmp.rnk -scoring_scheme weighted -chip /cellar/users/agross/Data/GeneSets/GENE_SYMBOL.chip -include_only_symbols true -make_sets false -rnd_seed timestamp -set_max 500 -set_min 15 -zip_report false -out /cellar/users/agross/gsea_home/output/feb27 -gui false'"
       ]
      }
     ],
     "prompt_number": 12
    },
    {
     "cell_type": "code",
     "collapsed": false,
     "input": [
      "s = '!java -cp $gsea -Xmx512m $preranked -gmx $gene_sets -collapse false -mode Max_probe -norm meandiv -nperm 1000 -rnk $input_file -scoring_scheme weighted -chip $chip -include_only_symbols true -make_sets true -rnd_seed timestamp -set_max 500 -set_min 15 -zip_report false -out $out -gui false'"
     ],
     "language": "python",
     "metadata": {},
     "outputs": [],
     "prompt_number": 8
    },
    {
     "cell_type": "code",
     "collapsed": false,
     "input": [
      "!java -cp $gsea -Xmx512m $preranked $args"
     ],
     "language": "python",
     "metadata": {},
     "outputs": [
      {
       "output_type": "stream",
       "stream": "stdout",
       "text": [
        "1927 [INFO ] Begun importing: RankedList from: /cellar/users/agross/tmp.rnk\r\n"
       ]
      },
      {
       "output_type": "stream",
       "stream": "stdout",
       "text": [
        "6492 [INFO ] No ranked list collapsing was done .. using original as is\r\n",
        "to parse>/cellar/users/agross/Data/GeneSets/c2.cp.v3.0.symbols.gmt< got: [/cellar/users/agross/Data/GeneSets/c2.cp.v3.0.symbols.gmt]\r\n",
        "6506 [INFO ] Begun importing: GeneSetMatrix from: c2.cp.v3.0.symbols.gmt\r\n"
       ]
      },
      {
       "output_type": "stream",
       "stream": "stdout",
       "text": [
        "6654 [INFO ] Got gsets: 880 now preprocessing them ... min: 15 max: 500\r\n"
       ]
      },
      {
       "output_type": "stream",
       "stream": "stdout",
       "text": [
        "Done removeGeneSetsSmallerThan: 15 for: 501 / 701\r\n",
        "6759 [INFO ] Done preproc for smaller than: 15\r\n"
       ]
      },
      {
       "output_type": "stream",
       "stream": "stdout",
       "text": [
        "Done removeGeneSetsLargerThan 501 / 696\r\n"
       ]
      },
      {
       "output_type": "stream",
       "stream": "stdout",
       "text": [
        "to parse>/cellar/users/agross/Data/GeneSets/GENE_SYMBOL.chip< got: [/cellar/users/agross/Data/GeneSets/GENE_SYMBOL.chip]\r\n"
       ]
      },
      {
       "output_type": "stream",
       "stream": "stdout",
       "text": [
        "GeneSetCohorted: 501 / 696\r\n",
        "GeneSetCohorted_scored: 501 / 696\r\n"
       ]
      },
      {
       "output_type": "stream",
       "stream": "stdout",
       "text": [
        "shuffleGeneSet for GeneSet 1/696 nperm: 1000\r\n"
       ]
      },
      {
       "output_type": "stream",
       "stream": "stdout",
       "text": [
        "GeneSetCohorted: 501 / 1000\r\n",
        "GeneSetCohorted_scored: 501 / 1000\r\n"
       ]
      },
      {
       "output_type": "stream",
       "stream": "stdout",
       "text": [
        "GeneSetCohorted: 501 / 1000\r\n",
        "GeneSetCohorted_scored: 501 / 1000\r\n"
       ]
      },
      {
       "output_type": "stream",
       "stream": "stdout",
       "text": [
        "GeneSetCohorted: 501 / 1000\r\n",
        "GeneSetCohorted_scored: 501 / 1000\r\n"
       ]
      },
      {
       "output_type": "stream",
       "stream": "stdout",
       "text": [
        "GeneSetCohorted: 501 / 1000\r\n",
        "GeneSetCohorted_scored: 501 / 1000\r\n"
       ]
      },
      {
       "output_type": "stream",
       "stream": "stdout",
       "text": [
        "GeneSetCohorted: 501 / 1000\r\n",
        "GeneSetCohorted_scored: 501 / 1000\r\n"
       ]
      },
      {
       "output_type": "stream",
       "stream": "stdout",
       "text": [
        "shuffleGeneSet for GeneSet 6/696 nperm: 1000\r\n"
       ]
      },
      {
       "output_type": "stream",
       "stream": "stdout",
       "text": [
        "GeneSetCohorted: 501 / 1000\r\n",
        "GeneSetCohorted_scored: 501 / 1000\r\n"
       ]
      },
      {
       "output_type": "stream",
       "stream": "stdout",
       "text": [
        "GeneSetCohorted: 501 / 1000\r\n",
        "GeneSetCohorted_scored: 501 / 1000\r\n"
       ]
      },
      {
       "output_type": "stream",
       "stream": "stdout",
       "text": [
        "GeneSetCohorted: 501 / 1000\r\n",
        "GeneSetCohorted_scored: 501 / 1000\r\n"
       ]
      },
      {
       "output_type": "stream",
       "stream": "stdout",
       "text": [
        "GeneSetCohorted: 501 / 1000\r\n",
        "GeneSetCohorted_scored: 501 / 1000\r\n"
       ]
      },
      {
       "output_type": "stream",
       "stream": "stdout",
       "text": [
        "GeneSetCohorted: 501 / 1000\r\n",
        "GeneSetCohorted_scored: 501 / 1000\r\n"
       ]
      },
      {
       "output_type": "stream",
       "stream": "stdout",
       "text": [
        "shuffleGeneSet for GeneSet 11/696 nperm: 1000\r\n"
       ]
      },
      {
       "output_type": "stream",
       "stream": "stdout",
       "text": [
        "GeneSetCohorted: 501 / 1000\r\n",
        "GeneSetCohorted_scored: 501 / 1000\r\n"
       ]
      },
      {
       "output_type": "stream",
       "stream": "stdout",
       "text": [
        "GeneSetCohorted: 501 / 1000\r\n",
        "GeneSetCohorted_scored: 501 / 1000\r\n"
       ]
      },
      {
       "output_type": "stream",
       "stream": "stdout",
       "text": [
        "GeneSetCohorted: 501 / 1000\r\n"
       ]
      },
      {
       "output_type": "stream",
       "stream": "stdout",
       "text": [
        "GeneSetCohorted_scored: 501 / 1000\r\n"
       ]
      },
      {
       "output_type": "stream",
       "stream": "stdout",
       "text": [
        "GeneSetCohorted: 501 / 1000\r\n",
        "GeneSetCohorted_scored: 501 / 1000\r\n"
       ]
      },
      {
       "output_type": "stream",
       "stream": "stdout",
       "text": [
        "GeneSetCohorted: 501 / 1000\r\n",
        "GeneSetCohorted_scored: 501 / 1000\r\n"
       ]
      },
      {
       "output_type": "stream",
       "stream": "stdout",
       "text": [
        "shuffleGeneSet for GeneSet 16/696 nperm: 1000\r\n"
       ]
      },
      {
       "output_type": "stream",
       "stream": "stdout",
       "text": [
        "GeneSetCohorted: 501 / 1000\r\n",
        "GeneSetCohorted_scored: 501 / 1000\r\n"
       ]
      },
      {
       "output_type": "stream",
       "stream": "stdout",
       "text": [
        "GeneSetCohorted: 501 / 1000\r\n",
        "GeneSetCohorted_scored: 501 / 1000\r\n"
       ]
      },
      {
       "output_type": "stream",
       "stream": "stdout",
       "text": [
        "GeneSetCohorted: 501 / 1000\r\n"
       ]
      },
      {
       "output_type": "stream",
       "stream": "stdout",
       "text": [
        "GeneSetCohorted_scored: 501 / 1000\r\n"
       ]
      },
      {
       "output_type": "stream",
       "stream": "stdout",
       "text": [
        "GeneSetCohorted: 501 / 1000\r\n",
        "GeneSetCohorted_scored: 501 / 1000\r\n"
       ]
      },
      {
       "output_type": "stream",
       "stream": "stdout",
       "text": [
        "GeneSetCohorted: 501 / 1000\r\n",
        "GeneSetCohorted_scored: 501 / 1000\r\n"
       ]
      },
      {
       "output_type": "stream",
       "stream": "stdout",
       "text": [
        "shuffleGeneSet for GeneSet 21/696 nperm: 1000\r\n",
        "GeneSetCohorted: 501 / 1000\r\n"
       ]
      },
      {
       "output_type": "stream",
       "stream": "stdout",
       "text": [
        "GeneSetCohorted_scored: 501 / 1000\r\n"
       ]
      },
      {
       "output_type": "stream",
       "stream": "stdout",
       "text": [
        "GeneSetCohorted: 501 / 1000\r\n"
       ]
      },
      {
       "output_type": "stream",
       "stream": "stdout",
       "text": [
        "GeneSetCohorted_scored: 501 / 1000\r\n"
       ]
      },
      {
       "output_type": "stream",
       "stream": "stdout",
       "text": [
        "GeneSetCohorted: 501 / 1000\r\n",
        "GeneSetCohorted_scored: 501 / 1000\r\n"
       ]
      },
      {
       "output_type": "stream",
       "stream": "stdout",
       "text": [
        "GeneSetCohorted: 501 / 1000\r\n",
        "GeneSetCohorted_scored: 501 / 1000\r\n"
       ]
      },
      {
       "output_type": "stream",
       "stream": "stdout",
       "text": [
        "GeneSetCohorted: 501 / 1000\r\n",
        "GeneSetCohorted_scored: 501 / 1000\r\n"
       ]
      },
      {
       "output_type": "stream",
       "stream": "stdout",
       "text": [
        "shuffleGeneSet for GeneSet 26/696 nperm: 1000\r\n",
        "GeneSetCohorted: 501 / 1000\r\n",
        "GeneSetCohorted_scored: 501 / 1000\r\n"
       ]
      },
      {
       "output_type": "stream",
       "stream": "stdout",
       "text": [
        "GeneSetCohorted: 501 / 1000\r\n",
        "GeneSetCohorted_scored: 501 / 1000\r\n"
       ]
      },
      {
       "output_type": "stream",
       "stream": "stdout",
       "text": [
        "GeneSetCohorted: 501 / 1000\r\n",
        "GeneSetCohorted_scored: 501 / 1000\r\n"
       ]
      },
      {
       "output_type": "stream",
       "stream": "stdout",
       "text": [
        "GeneSetCohorted: 501 / 1000\r\n",
        "GeneSetCohorted_scored: 501 / 1000\r\n"
       ]
      },
      {
       "output_type": "stream",
       "stream": "stdout",
       "text": [
        "GeneSetCohorted: 501 / 1000\r\n",
        "GeneSetCohorted_scored: 501 / 1000\r\n"
       ]
      },
      {
       "output_type": "stream",
       "stream": "stdout",
       "text": [
        "shuffleGeneSet for GeneSet 31/696 nperm: 1000\r\n",
        "GeneSetCohorted: 501 / 1000\r\n",
        "GeneSetCohorted_scored: 501 / 1000\r\n"
       ]
      },
      {
       "output_type": "stream",
       "stream": "stdout",
       "text": [
        "GeneSetCohorted: 501 / 1000\r\n"
       ]
      },
      {
       "output_type": "stream",
       "stream": "stdout",
       "text": [
        "GeneSetCohorted_scored: 501 / 1000\r\n"
       ]
      },
      {
       "output_type": "stream",
       "stream": "stdout",
       "text": [
        "GeneSetCohorted: 501 / 1000\r\n",
        "GeneSetCohorted_scored: 501 / 1000\r\n"
       ]
      },
      {
       "output_type": "stream",
       "stream": "stdout",
       "text": [
        "GeneSetCohorted: 501 / 1000\r\n",
        "GeneSetCohorted_scored: 501 / 1000\r\n"
       ]
      },
      {
       "output_type": "stream",
       "stream": "stdout",
       "text": [
        "GeneSetCohorted: 501 / 1000\r\n",
        "GeneSetCohorted_scored: 501 / 1000\r\n"
       ]
      },
      {
       "output_type": "stream",
       "stream": "stdout",
       "text": [
        "shuffleGeneSet for GeneSet 36/696 nperm: 1000\r\n",
        "GeneSetCohorted: 501 / 1000\r\n"
       ]
      },
      {
       "output_type": "stream",
       "stream": "stdout",
       "text": [
        "GeneSetCohorted_scored: 501 / 1000\r\n"
       ]
      },
      {
       "output_type": "stream",
       "stream": "stdout",
       "text": [
        "GeneSetCohorted: 501 / 1000\r\n",
        "GeneSetCohorted_scored: 501 / 1000\r\n"
       ]
      },
      {
       "output_type": "stream",
       "stream": "stdout",
       "text": [
        "GeneSetCohorted: 501 / 1000\r\n"
       ]
      },
      {
       "output_type": "stream",
       "stream": "stdout",
       "text": [
        "GeneSetCohorted_scored: 501 / 1000\r\n"
       ]
      },
      {
       "output_type": "stream",
       "stream": "stdout",
       "text": [
        "GeneSetCohorted: 501 / 1000\r\n",
        "GeneSetCohorted_scored: 501 / 1000\r\n"
       ]
      },
      {
       "output_type": "stream",
       "stream": "stdout",
       "text": [
        "GeneSetCohorted: 501 / 1000\r\n",
        "GeneSetCohorted_scored: 501 / 1000\r\n"
       ]
      },
      {
       "output_type": "stream",
       "stream": "stdout",
       "text": [
        "shuffleGeneSet for GeneSet 41/696 nperm: 1000\r\n"
       ]
      },
      {
       "output_type": "stream",
       "stream": "stdout",
       "text": [
        "GeneSetCohorted: 501 / 1000\r\n",
        "GeneSetCohorted_scored: 501 / 1000\r\n"
       ]
      },
      {
       "output_type": "stream",
       "stream": "stdout",
       "text": [
        "GeneSetCohorted: 501 / 1000\r\n",
        "GeneSetCohorted_scored: 501 / 1000\r\n"
       ]
      },
      {
       "output_type": "stream",
       "stream": "stdout",
       "text": [
        "GeneSetCohorted: 501 / 1000\r\n",
        "GeneSetCohorted_scored: 501 / 1000\r\n"
       ]
      },
      {
       "output_type": "stream",
       "stream": "stdout",
       "text": [
        "GeneSetCohorted: 501 / 1000\r\n",
        "GeneSetCohorted_scored: 501 / 1000\r\n"
       ]
      },
      {
       "output_type": "stream",
       "stream": "stdout",
       "text": [
        "GeneSetCohorted: 501 / 1000\r\n",
        "GeneSetCohorted_scored: 501 / 1000\r\n"
       ]
      },
      {
       "output_type": "stream",
       "stream": "stdout",
       "text": [
        "shuffleGeneSet for GeneSet 46/696 nperm: 1000\r\n"
       ]
      },
      {
       "output_type": "stream",
       "stream": "stdout",
       "text": [
        "GeneSetCohorted: 501 / 1000\r\n",
        "GeneSetCohorted_scored: 501 / 1000\r\n"
       ]
      },
      {
       "output_type": "stream",
       "stream": "stdout",
       "text": [
        "GeneSetCohorted: 501 / 1000\r\n",
        "GeneSetCohorted_scored: 501 / 1000\r\n"
       ]
      },
      {
       "output_type": "stream",
       "stream": "stdout",
       "text": [
        "GeneSetCohorted: 501 / 1000\r\n",
        "GeneSetCohorted_scored: 501 / 1000\r\n"
       ]
      },
      {
       "output_type": "stream",
       "stream": "stdout",
       "text": [
        "GeneSetCohorted: 501 / 1000\r\n",
        "GeneSetCohorted_scored: 501 / 1000\r\n"
       ]
      },
      {
       "output_type": "stream",
       "stream": "stdout",
       "text": [
        "GeneSetCohorted: 501 / 1000\r\n",
        "GeneSetCohorted_scored: 501 / 1000\r\n"
       ]
      },
      {
       "output_type": "stream",
       "stream": "stdout",
       "text": [
        "shuffleGeneSet for GeneSet 51/696 nperm: 1000\r\n"
       ]
      },
      {
       "output_type": "stream",
       "stream": "stdout",
       "text": [
        "GeneSetCohorted: 501 / 1000\r\n",
        "GeneSetCohorted_scored: 501 / 1000\r\n"
       ]
      },
      {
       "output_type": "stream",
       "stream": "stdout",
       "text": [
        "GeneSetCohorted: 501 / 1000\r\n",
        "GeneSetCohorted_scored: 501 / 1000\r\n"
       ]
      },
      {
       "output_type": "stream",
       "stream": "stdout",
       "text": [
        "GeneSetCohorted: 501 / 1000\r\n",
        "GeneSetCohorted_scored: 501 / 1000\r\n"
       ]
      },
      {
       "output_type": "stream",
       "stream": "stdout",
       "text": [
        "GeneSetCohorted: 501 / 1000\r\n",
        "GeneSetCohorted_scored: 501 / 1000\r\n"
       ]
      },
      {
       "output_type": "stream",
       "stream": "stdout",
       "text": [
        "GeneSetCohorted: 501 / 1000\r\n",
        "GeneSetCohorted_scored: 501 / 1000\r\n"
       ]
      },
      {
       "output_type": "stream",
       "stream": "stdout",
       "text": [
        "shuffleGeneSet for GeneSet 56/696 nperm: 1000\r\n"
       ]
      },
      {
       "output_type": "stream",
       "stream": "stdout",
       "text": [
        "GeneSetCohorted: 501 / 1000\r\n",
        "GeneSetCohorted_scored: 501 / 1000\r\n"
       ]
      },
      {
       "output_type": "stream",
       "stream": "stdout",
       "text": [
        "GeneSetCohorted: 501 / 1000\r\n",
        "GeneSetCohorted_scored: 501 / 1000\r\n"
       ]
      },
      {
       "output_type": "stream",
       "stream": "stdout",
       "text": [
        "GeneSetCohorted: 501 / 1000\r\n",
        "GeneSetCohorted_scored: 501 / 1000\r\n"
       ]
      },
      {
       "output_type": "stream",
       "stream": "stdout",
       "text": [
        "GeneSetCohorted: 501 / 1000\r\n",
        "GeneSetCohorted_scored: 501 / 1000\r\n"
       ]
      },
      {
       "output_type": "stream",
       "stream": "stdout",
       "text": [
        "GeneSetCohorted: 501 / 1000\r\n",
        "GeneSetCohorted_scored: 501 / 1000\r\n"
       ]
      },
      {
       "output_type": "stream",
       "stream": "stdout",
       "text": [
        "shuffleGeneSet for GeneSet 61/696 nperm: 1000\r\n"
       ]
      },
      {
       "output_type": "stream",
       "stream": "stdout",
       "text": [
        "GeneSetCohorted: 501 / 1000\r\n",
        "GeneSetCohorted_scored: 501 / 1000\r\n"
       ]
      },
      {
       "output_type": "stream",
       "stream": "stdout",
       "text": [
        "GeneSetCohorted: 501 / 1000\r\n"
       ]
      },
      {
       "output_type": "stream",
       "stream": "stdout",
       "text": [
        "GeneSetCohorted_scored: 501 / 1000\r\n"
       ]
      },
      {
       "output_type": "stream",
       "stream": "stdout",
       "text": [
        "GeneSetCohorted: 501 / 1000\r\n"
       ]
      },
      {
       "output_type": "stream",
       "stream": "stdout",
       "text": [
        "GeneSetCohorted_scored: 501 / 1000\r\n"
       ]
      },
      {
       "output_type": "stream",
       "stream": "stdout",
       "text": [
        "GeneSetCohorted: 501 / 1000\r\n",
        "GeneSetCohorted_scored: 501 / 1000\r\n"
       ]
      },
      {
       "output_type": "stream",
       "stream": "stdout",
       "text": [
        "GeneSetCohorted: 501 / 1000\r\n",
        "GeneSetCohorted_scored: 501 / 1000\r\n"
       ]
      },
      {
       "output_type": "stream",
       "stream": "stdout",
       "text": [
        "shuffleGeneSet for GeneSet 66/696 nperm: 1000\r\n"
       ]
      },
      {
       "output_type": "stream",
       "stream": "stdout",
       "text": [
        "GeneSetCohorted: 501 / 1000\r\n"
       ]
      },
      {
       "output_type": "stream",
       "stream": "stdout",
       "text": [
        "GeneSetCohorted_scored: 501 / 1000\r\n"
       ]
      },
      {
       "output_type": "stream",
       "stream": "stdout",
       "text": [
        "GeneSetCohorted: 501 / 1000\r\n",
        "GeneSetCohorted_scored: 501 / 1000\r\n"
       ]
      },
      {
       "output_type": "stream",
       "stream": "stdout",
       "text": [
        "GeneSetCohorted: 501 / 1000\r\n",
        "GeneSetCohorted_scored: 501 / 1000\r\n"
       ]
      },
      {
       "output_type": "stream",
       "stream": "stdout",
       "text": [
        "GeneSetCohorted: 501 / 1000\r\n",
        "GeneSetCohorted_scored: 501 / 1000\r\n"
       ]
      },
      {
       "output_type": "stream",
       "stream": "stdout",
       "text": [
        "GeneSetCohorted: 501 / 1000\r\n",
        "GeneSetCohorted_scored: 501 / 1000\r\n"
       ]
      },
      {
       "output_type": "stream",
       "stream": "stdout",
       "text": [
        "shuffleGeneSet for GeneSet 71/696 nperm: 1000\r\n"
       ]
      },
      {
       "output_type": "stream",
       "stream": "stdout",
       "text": [
        "GeneSetCohorted: 501 / 1000\r\n",
        "GeneSetCohorted_scored: 501 / 1000\r\n"
       ]
      },
      {
       "output_type": "stream",
       "stream": "stdout",
       "text": [
        "GeneSetCohorted: 501 / 1000\r\n",
        "GeneSetCohorted_scored: 501 / 1000\r\n"
       ]
      },
      {
       "output_type": "stream",
       "stream": "stdout",
       "text": [
        "GeneSetCohorted: 501 / 1000\r\n",
        "GeneSetCohorted_scored: 501 / 1000\r\n"
       ]
      },
      {
       "output_type": "stream",
       "stream": "stdout",
       "text": [
        "GeneSetCohorted: 501 / 1000\r\n",
        "GeneSetCohorted_scored: 501 / 1000\r\n"
       ]
      },
      {
       "output_type": "stream",
       "stream": "stdout",
       "text": [
        "GeneSetCohorted: 501 / 1000\r\n",
        "GeneSetCohorted_scored: 501 / 1000\r\n"
       ]
      },
      {
       "output_type": "stream",
       "stream": "stdout",
       "text": [
        "shuffleGeneSet for GeneSet 76/696 nperm: 1000\r\n"
       ]
      },
      {
       "output_type": "stream",
       "stream": "stdout",
       "text": [
        "GeneSetCohorted: 501 / 1000\r\n",
        "GeneSetCohorted_scored: 501 / 1000\r\n"
       ]
      },
      {
       "output_type": "stream",
       "stream": "stdout",
       "text": [
        "GeneSetCohorted: 501 / 1000\r\n",
        "GeneSetCohorted_scored: 501 / 1000\r\n"
       ]
      },
      {
       "output_type": "stream",
       "stream": "stdout",
       "text": [
        "GeneSetCohorted: 501 / 1000\r\n",
        "GeneSetCohorted_scored: 501 / 1000\r\n"
       ]
      },
      {
       "output_type": "stream",
       "stream": "stdout",
       "text": [
        "GeneSetCohorted: 501 / 1000\r\n",
        "GeneSetCohorted_scored: 501 / 1000\r\n"
       ]
      },
      {
       "output_type": "stream",
       "stream": "stdout",
       "text": [
        "GeneSetCohorted: 501 / 1000\r\n",
        "GeneSetCohorted_scored: 501 / 1000\r\n"
       ]
      },
      {
       "output_type": "stream",
       "stream": "stdout",
       "text": [
        "shuffleGeneSet for GeneSet 81/696 nperm: 1000\r\n"
       ]
      },
      {
       "output_type": "stream",
       "stream": "stdout",
       "text": [
        "GeneSetCohorted: 501 / 1000\r\n"
       ]
      },
      {
       "output_type": "stream",
       "stream": "stdout",
       "text": [
        "GeneSetCohorted_scored: 501 / 1000\r\n"
       ]
      },
      {
       "output_type": "stream",
       "stream": "stdout",
       "text": [
        "GeneSetCohorted: 501 / 1000\r\n"
       ]
      },
      {
       "output_type": "stream",
       "stream": "stdout",
       "text": [
        "GeneSetCohorted_scored: 501 / 1000\r\n"
       ]
      },
      {
       "output_type": "stream",
       "stream": "stdout",
       "text": [
        "GeneSetCohorted: 501 / 1000\r\n"
       ]
      },
      {
       "output_type": "stream",
       "stream": "stdout",
       "text": [
        "GeneSetCohorted_scored: 501 / 1000\r\n"
       ]
      },
      {
       "output_type": "stream",
       "stream": "stdout",
       "text": [
        "GeneSetCohorted: 501 / 1000\r\n",
        "GeneSetCohorted_scored: 501 / 1000\r\n"
       ]
      },
      {
       "output_type": "stream",
       "stream": "stdout",
       "text": [
        "GeneSetCohorted: 501 / 1000\r\n",
        "GeneSetCohorted_scored: 501 / 1000\r\n"
       ]
      },
      {
       "output_type": "stream",
       "stream": "stdout",
       "text": [
        "shuffleGeneSet for GeneSet 86/696 nperm: 1000\r\n"
       ]
      },
      {
       "output_type": "stream",
       "stream": "stdout",
       "text": [
        "GeneSetCohorted: 501 / 1000\r\n",
        "GeneSetCohorted_scored: 501 / 1000\r\n"
       ]
      },
      {
       "output_type": "stream",
       "stream": "stdout",
       "text": [
        "GeneSetCohorted: 501 / 1000\r\n"
       ]
      },
      {
       "output_type": "stream",
       "stream": "stdout",
       "text": [
        "GeneSetCohorted_scored: 501 / 1000\r\n"
       ]
      },
      {
       "output_type": "stream",
       "stream": "stdout",
       "text": [
        "GeneSetCohorted: 501 / 1000\r\n"
       ]
      },
      {
       "output_type": "stream",
       "stream": "stdout",
       "text": [
        "GeneSetCohorted_scored: 501 / 1000\r\n"
       ]
      },
      {
       "output_type": "stream",
       "stream": "stdout",
       "text": [
        "GeneSetCohorted: 501 / 1000\r\n"
       ]
      },
      {
       "output_type": "stream",
       "stream": "stdout",
       "text": [
        "GeneSetCohorted_scored: 501 / 1000\r\n"
       ]
      },
      {
       "output_type": "stream",
       "stream": "stdout",
       "text": [
        "GeneSetCohorted: 501 / 1000\r\n",
        "GeneSetCohorted_scored: 501 / 1000\r\n"
       ]
      },
      {
       "output_type": "stream",
       "stream": "stdout",
       "text": [
        "shuffleGeneSet for GeneSet 91/696 nperm: 1000\r\n",
        "GeneSetCohorted: 501 / 1000\r\n"
       ]
      },
      {
       "output_type": "stream",
       "stream": "stdout",
       "text": [
        "GeneSetCohorted_scored: 501 / 1000\r\n"
       ]
      },
      {
       "output_type": "stream",
       "stream": "stdout",
       "text": [
        "GeneSetCohorted: 501 / 1000\r\n"
       ]
      },
      {
       "output_type": "stream",
       "stream": "stdout",
       "text": [
        "GeneSetCohorted_scored: 501 / 1000\r\n"
       ]
      },
      {
       "output_type": "stream",
       "stream": "stdout",
       "text": [
        "GeneSetCohorted: 501 / 1000\r\n"
       ]
      },
      {
       "output_type": "stream",
       "stream": "stdout",
       "text": [
        "GeneSetCohorted_scored: 501 / 1000\r\n"
       ]
      },
      {
       "output_type": "stream",
       "stream": "stdout",
       "text": [
        "GeneSetCohorted: 501 / 1000\r\n"
       ]
      },
      {
       "output_type": "stream",
       "stream": "stdout",
       "text": [
        "GeneSetCohorted_scored: 501 / 1000\r\n"
       ]
      },
      {
       "output_type": "stream",
       "stream": "stdout",
       "text": [
        "GeneSetCohorted: 501 / 1000\r\n",
        "GeneSetCohorted_scored: 501 / 1000\r\n"
       ]
      },
      {
       "output_type": "stream",
       "stream": "stdout",
       "text": [
        "shuffleGeneSet for GeneSet 96/696 nperm: 1000\r\n"
       ]
      },
      {
       "output_type": "stream",
       "stream": "stdout",
       "text": [
        "GeneSetCohorted: 501 / 1000\r\n",
        "GeneSetCohorted_scored: 501 / 1000\r\n"
       ]
      },
      {
       "output_type": "stream",
       "stream": "stdout",
       "text": [
        "GeneSetCohorted: 501 / 1000\r\n",
        "GeneSetCohorted_scored: 501 / 1000\r\n"
       ]
      },
      {
       "output_type": "stream",
       "stream": "stdout",
       "text": [
        "GeneSetCohorted: 501 / 1000\r\n",
        "GeneSetCohorted_scored: 501 / 1000\r\n"
       ]
      },
      {
       "output_type": "stream",
       "stream": "stdout",
       "text": [
        "GeneSetCohorted: 501 / 1000\r\n",
        "GeneSetCohorted_scored: 501 / 1000\r\n"
       ]
      },
      {
       "output_type": "stream",
       "stream": "stdout",
       "text": [
        "GeneSetCohorted: 501 / 1000\r\n",
        "GeneSetCohorted_scored: 501 / 1000\r\n"
       ]
      },
      {
       "output_type": "stream",
       "stream": "stdout",
       "text": [
        "shuffleGeneSet for GeneSet 101/696 nperm: 1000\r\n"
       ]
      },
      {
       "output_type": "stream",
       "stream": "stdout",
       "text": [
        "GeneSetCohorted: 501 / 1000\r\n"
       ]
      },
      {
       "output_type": "stream",
       "stream": "stdout",
       "text": [
        "GeneSetCohorted_scored: 501 / 1000\r\n"
       ]
      },
      {
       "output_type": "stream",
       "stream": "stdout",
       "text": [
        "GeneSetCohorted: 501 / 1000\r\n",
        "GeneSetCohorted_scored: 501 / 1000\r\n"
       ]
      },
      {
       "output_type": "stream",
       "stream": "stdout",
       "text": [
        "GeneSetCohorted: 501 / 1000\r\n"
       ]
      },
      {
       "output_type": "stream",
       "stream": "stdout",
       "text": [
        "GeneSetCohorted_scored: 501 / 1000\r\n"
       ]
      },
      {
       "output_type": "stream",
       "stream": "stdout",
       "text": [
        "GeneSetCohorted: 501 / 1000\r\n",
        "GeneSetCohorted_scored: 501 / 1000\r\n"
       ]
      },
      {
       "output_type": "stream",
       "stream": "stdout",
       "text": [
        "GeneSetCohorted: 501 / 1000\r\n",
        "GeneSetCohorted_scored: 501 / 1000\r\n"
       ]
      },
      {
       "output_type": "stream",
       "stream": "stdout",
       "text": [
        "shuffleGeneSet for GeneSet 106/696 nperm: 1000\r\n"
       ]
      },
      {
       "output_type": "stream",
       "stream": "stdout",
       "text": [
        "GeneSetCohorted: 501 / 1000\r\n"
       ]
      },
      {
       "output_type": "stream",
       "stream": "stdout",
       "text": [
        "GeneSetCohorted_scored: 501 / 1000\r\n"
       ]
      },
      {
       "output_type": "stream",
       "stream": "stdout",
       "text": [
        "GeneSetCohorted: 501 / 1000\r\n",
        "GeneSetCohorted_scored: 501 / 1000\r\n"
       ]
      },
      {
       "output_type": "stream",
       "stream": "stdout",
       "text": [
        "GeneSetCohorted: 501 / 1000\r\n",
        "GeneSetCohorted_scored: 501 / 1000\r\n"
       ]
      },
      {
       "output_type": "stream",
       "stream": "stdout",
       "text": [
        "GeneSetCohorted: 501 / 1000\r\n"
       ]
      },
      {
       "output_type": "stream",
       "stream": "stdout",
       "text": [
        "GeneSetCohorted_scored: 501 / 1000\r\n"
       ]
      },
      {
       "output_type": "stream",
       "stream": "stdout",
       "text": [
        "GeneSetCohorted: 501 / 1000\r\n",
        "GeneSetCohorted_scored: 501 / 1000\r\n"
       ]
      },
      {
       "output_type": "stream",
       "stream": "stdout",
       "text": [
        "shuffleGeneSet for GeneSet 111/696 nperm: 1000\r\n"
       ]
      },
      {
       "output_type": "stream",
       "stream": "stdout",
       "text": [
        "GeneSetCohorted: 501 / 1000\r\n",
        "GeneSetCohorted_scored: 501 / 1000\r\n"
       ]
      },
      {
       "output_type": "stream",
       "stream": "stdout",
       "text": [
        "GeneSetCohorted: 501 / 1000\r\n",
        "GeneSetCohorted_scored: 501 / 1000\r\n"
       ]
      },
      {
       "output_type": "stream",
       "stream": "stdout",
       "text": [
        "GeneSetCohorted: 501 / 1000\r\n"
       ]
      },
      {
       "output_type": "stream",
       "stream": "stdout",
       "text": [
        "GeneSetCohorted_scored: 501 / 1000\r\n"
       ]
      },
      {
       "output_type": "stream",
       "stream": "stdout",
       "text": [
        "GeneSetCohorted: 501 / 1000\r\n",
        "GeneSetCohorted_scored: 501 / 1000\r\n"
       ]
      },
      {
       "output_type": "stream",
       "stream": "stdout",
       "text": [
        "GeneSetCohorted: 501 / 1000\r\n",
        "GeneSetCohorted_scored: 501 / 1000\r\n"
       ]
      },
      {
       "output_type": "stream",
       "stream": "stdout",
       "text": [
        "shuffleGeneSet for GeneSet 116/696 nperm: 1000\r\n"
       ]
      },
      {
       "output_type": "stream",
       "stream": "stdout",
       "text": [
        "GeneSetCohorted: 501 / 1000\r\n"
       ]
      },
      {
       "output_type": "stream",
       "stream": "stdout",
       "text": [
        "GeneSetCohorted_scored: 501 / 1000\r\n"
       ]
      },
      {
       "output_type": "stream",
       "stream": "stdout",
       "text": [
        "GeneSetCohorted: 501 / 1000\r\n"
       ]
      },
      {
       "output_type": "stream",
       "stream": "stdout",
       "text": [
        "GeneSetCohorted_scored: 501 / 1000\r\n"
       ]
      },
      {
       "output_type": "stream",
       "stream": "stdout",
       "text": [
        "GeneSetCohorted: 501 / 1000\r\n"
       ]
      },
      {
       "output_type": "stream",
       "stream": "stdout",
       "text": [
        "GeneSetCohorted_scored: 501 / 1000\r\n"
       ]
      },
      {
       "output_type": "stream",
       "stream": "stdout",
       "text": [
        "GeneSetCohorted: 501 / 1000\r\n",
        "GeneSetCohorted_scored: 501 / 1000\r\n"
       ]
      },
      {
       "output_type": "stream",
       "stream": "stdout",
       "text": [
        "GeneSetCohorted: 501 / 1000\r\n"
       ]
      },
      {
       "output_type": "stream",
       "stream": "stdout",
       "text": [
        "GeneSetCohorted_scored: 501 / 1000\r\n"
       ]
      },
      {
       "output_type": "stream",
       "stream": "stdout",
       "text": [
        "shuffleGeneSet for GeneSet 121/696 nperm: 1000\r\n"
       ]
      },
      {
       "output_type": "stream",
       "stream": "stdout",
       "text": [
        "GeneSetCohorted: 501 / 1000\r\n"
       ]
      },
      {
       "output_type": "stream",
       "stream": "stdout",
       "text": [
        "GeneSetCohorted_scored: 501 / 1000\r\n"
       ]
      },
      {
       "output_type": "stream",
       "stream": "stdout",
       "text": [
        "GeneSetCohorted: 501 / 1000\r\n",
        "GeneSetCohorted_scored: 501 / 1000\r\n"
       ]
      },
      {
       "output_type": "stream",
       "stream": "stdout",
       "text": [
        "GeneSetCohorted: 501 / 1000\r\n",
        "GeneSetCohorted_scored: 501 / 1000\r\n"
       ]
      },
      {
       "output_type": "stream",
       "stream": "stdout",
       "text": [
        "GeneSetCohorted: 501 / 1000\r\n"
       ]
      },
      {
       "output_type": "stream",
       "stream": "stdout",
       "text": [
        "GeneSetCohorted_scored: 501 / 1000\r\n"
       ]
      },
      {
       "output_type": "stream",
       "stream": "stdout",
       "text": [
        "GeneSetCohorted: 501 / 1000\r\n",
        "GeneSetCohorted_scored: 501 / 1000\r\n"
       ]
      },
      {
       "output_type": "stream",
       "stream": "stdout",
       "text": [
        "shuffleGeneSet for GeneSet 126/696 nperm: 1000\r\n"
       ]
      },
      {
       "output_type": "stream",
       "stream": "stdout",
       "text": [
        "GeneSetCohorted: 501 / 1000\r\n"
       ]
      },
      {
       "output_type": "stream",
       "stream": "stdout",
       "text": [
        "GeneSetCohorted_scored: 501 / 1000\r\n"
       ]
      },
      {
       "output_type": "stream",
       "stream": "stdout",
       "text": [
        "GeneSetCohorted: 501 / 1000\r\n",
        "GeneSetCohorted_scored: 501 / 1000\r\n"
       ]
      },
      {
       "output_type": "stream",
       "stream": "stdout",
       "text": [
        "GeneSetCohorted: 501 / 1000\r\n",
        "GeneSetCohorted_scored: 501 / 1000\r\n"
       ]
      },
      {
       "output_type": "stream",
       "stream": "stdout",
       "text": [
        "GeneSetCohorted: 501 / 1000\r\n"
       ]
      },
      {
       "output_type": "stream",
       "stream": "stdout",
       "text": [
        "GeneSetCohorted_scored: 501 / 1000\r\n"
       ]
      },
      {
       "output_type": "stream",
       "stream": "stdout",
       "text": [
        "GeneSetCohorted: 501 / 1000\r\n",
        "GeneSetCohorted_scored: 501 / 1000\r\n"
       ]
      },
      {
       "output_type": "stream",
       "stream": "stdout",
       "text": [
        "shuffleGeneSet for GeneSet 131/696 nperm: 1000\r\n"
       ]
      },
      {
       "output_type": "stream",
       "stream": "stdout",
       "text": [
        "GeneSetCohorted: 501 / 1000\r\n"
       ]
      },
      {
       "output_type": "stream",
       "stream": "stdout",
       "text": [
        "GeneSetCohorted_scored: 501 / 1000\r\n"
       ]
      },
      {
       "output_type": "stream",
       "stream": "stdout",
       "text": [
        "GeneSetCohorted: 501 / 1000\r\n",
        "GeneSetCohorted_scored: 501 / 1000\r\n"
       ]
      },
      {
       "output_type": "stream",
       "stream": "stdout",
       "text": [
        "GeneSetCohorted: 501 / 1000\r\n",
        "GeneSetCohorted_scored: 501 / 1000\r\n"
       ]
      },
      {
       "output_type": "stream",
       "stream": "stdout",
       "text": [
        "GeneSetCohorted: 501 / 1000\r\n"
       ]
      },
      {
       "output_type": "stream",
       "stream": "stdout",
       "text": [
        "GeneSetCohorted_scored: 501 / 1000\r\n"
       ]
      },
      {
       "output_type": "stream",
       "stream": "stdout",
       "text": [
        "GeneSetCohorted: 501 / 1000\r\n",
        "GeneSetCohorted_scored: 501 / 1000\r\n"
       ]
      },
      {
       "output_type": "stream",
       "stream": "stdout",
       "text": [
        "shuffleGeneSet for GeneSet 136/696 nperm: 1000\r\n"
       ]
      },
      {
       "output_type": "stream",
       "stream": "stdout",
       "text": [
        "GeneSetCohorted: 501 / 1000\r\n",
        "GeneSetCohorted_scored: 501 / 1000\r\n"
       ]
      },
      {
       "output_type": "stream",
       "stream": "stdout",
       "text": [
        "GeneSetCohorted: 501 / 1000\r\n",
        "GeneSetCohorted_scored: 501 / 1000\r\n"
       ]
      },
      {
       "output_type": "stream",
       "stream": "stdout",
       "text": [
        "GeneSetCohorted: 501 / 1000\r\n"
       ]
      },
      {
       "output_type": "stream",
       "stream": "stdout",
       "text": [
        "GeneSetCohorted_scored: 501 / 1000\r\n"
       ]
      },
      {
       "output_type": "stream",
       "stream": "stdout",
       "text": [
        "GeneSetCohorted: 501 / 1000\r\n",
        "GeneSetCohorted_scored: 501 / 1000\r\n"
       ]
      },
      {
       "output_type": "stream",
       "stream": "stdout",
       "text": [
        "GeneSetCohorted: 501 / 1000\r\n",
        "GeneSetCohorted_scored: 501 / 1000\r\n"
       ]
      },
      {
       "output_type": "stream",
       "stream": "stdout",
       "text": [
        "shuffleGeneSet for GeneSet 141/696 nperm: 1000\r\n",
        "GeneSetCohorted: 501 / 1000\r\n"
       ]
      },
      {
       "output_type": "stream",
       "stream": "stdout",
       "text": [
        "GeneSetCohorted_scored: 501 / 1000\r\n"
       ]
      },
      {
       "output_type": "stream",
       "stream": "stdout",
       "text": [
        "GeneSetCohorted: 501 / 1000\r\n",
        "GeneSetCohorted_scored: 501 / 1000\r\n"
       ]
      },
      {
       "output_type": "stream",
       "stream": "stdout",
       "text": [
        "GeneSetCohorted: 501 / 1000\r\n"
       ]
      },
      {
       "output_type": "stream",
       "stream": "stdout",
       "text": [
        "GeneSetCohorted_scored: 501 / 1000\r\n"
       ]
      },
      {
       "output_type": "stream",
       "stream": "stdout",
       "text": [
        "GeneSetCohorted: 501 / 1000\r\n",
        "GeneSetCohorted_scored: 501 / 1000\r\n"
       ]
      },
      {
       "output_type": "stream",
       "stream": "stdout",
       "text": [
        "GeneSetCohorted: 501 / 1000\r\n"
       ]
      },
      {
       "output_type": "stream",
       "stream": "stdout",
       "text": [
        "GeneSetCohorted_scored: 501 / 1000\r\n"
       ]
      },
      {
       "output_type": "stream",
       "stream": "stdout",
       "text": [
        "shuffleGeneSet for GeneSet 146/696 nperm: 1000\r\n"
       ]
      },
      {
       "output_type": "stream",
       "stream": "stdout",
       "text": [
        "GeneSetCohorted: 501 / 1000\r\n"
       ]
      },
      {
       "output_type": "stream",
       "stream": "stdout",
       "text": [
        "GeneSetCohorted_scored: 501 / 1000\r\n"
       ]
      },
      {
       "output_type": "stream",
       "stream": "stdout",
       "text": [
        "GeneSetCohorted: 501 / 1000\r\n",
        "GeneSetCohorted_scored: 501 / 1000\r\n"
       ]
      },
      {
       "output_type": "stream",
       "stream": "stdout",
       "text": [
        "GeneSetCohorted: 501 / 1000\r\n",
        "GeneSetCohorted_scored: 501 / 1000\r\n"
       ]
      },
      {
       "output_type": "stream",
       "stream": "stdout",
       "text": [
        "GeneSetCohorted: 501 / 1000\r\n",
        "GeneSetCohorted_scored: 501 / 1000\r\n"
       ]
      },
      {
       "output_type": "stream",
       "stream": "stdout",
       "text": [
        "GeneSetCohorted: 501 / 1000\r\n"
       ]
      },
      {
       "output_type": "stream",
       "stream": "stdout",
       "text": [
        "GeneSetCohorted_scored: 501 / 1000\r\n"
       ]
      },
      {
       "output_type": "stream",
       "stream": "stdout",
       "text": [
        "shuffleGeneSet for GeneSet 151/696 nperm: 1000\r\n"
       ]
      },
      {
       "output_type": "stream",
       "stream": "stdout",
       "text": [
        "GeneSetCohorted: 501 / 1000\r\n",
        "GeneSetCohorted_scored: 501 / 1000\r\n"
       ]
      },
      {
       "output_type": "stream",
       "stream": "stdout",
       "text": [
        "GeneSetCohorted: 501 / 1000\r\n",
        "GeneSetCohorted_scored: 501 / 1000\r\n"
       ]
      },
      {
       "output_type": "stream",
       "stream": "stdout",
       "text": [
        "GeneSetCohorted: 501 / 1000\r\n",
        "GeneSetCohorted_scored: 501 / 1000\r\n"
       ]
      },
      {
       "output_type": "stream",
       "stream": "stdout",
       "text": [
        "GeneSetCohorted: 501 / 1000\r\n"
       ]
      },
      {
       "output_type": "stream",
       "stream": "stdout",
       "text": [
        "GeneSetCohorted_scored: 501 / 1000\r\n"
       ]
      },
      {
       "output_type": "stream",
       "stream": "stdout",
       "text": [
        "GeneSetCohorted: 501 / 1000\r\n"
       ]
      },
      {
       "output_type": "stream",
       "stream": "stdout",
       "text": [
        "GeneSetCohorted_scored: 501 / 1000\r\n"
       ]
      },
      {
       "output_type": "stream",
       "stream": "stdout",
       "text": [
        "shuffleGeneSet for GeneSet 156/696 nperm: 1000\r\n"
       ]
      },
      {
       "output_type": "stream",
       "stream": "stdout",
       "text": [
        "GeneSetCohorted: 501 / 1000\r\n",
        "GeneSetCohorted_scored: 501 / 1000\r\n"
       ]
      },
      {
       "output_type": "stream",
       "stream": "stdout",
       "text": [
        "GeneSetCohorted: 501 / 1000\r\n",
        "GeneSetCohorted_scored: 501 / 1000\r\n"
       ]
      },
      {
       "output_type": "stream",
       "stream": "stdout",
       "text": [
        "GeneSetCohorted: 501 / 1000\r\n",
        "GeneSetCohorted_scored: 501 / 1000\r\n"
       ]
      },
      {
       "output_type": "stream",
       "stream": "stdout",
       "text": [
        "GeneSetCohorted: 501 / 1000\r\n",
        "GeneSetCohorted_scored: 501 / 1000\r\n"
       ]
      },
      {
       "output_type": "stream",
       "stream": "stdout",
       "text": [
        "GeneSetCohorted: 501 / 1000\r\n",
        "GeneSetCohorted_scored: 501 / 1000\r\n"
       ]
      },
      {
       "output_type": "stream",
       "stream": "stdout",
       "text": [
        "shuffleGeneSet for GeneSet 161/696 nperm: 1000\r\n"
       ]
      },
      {
       "output_type": "stream",
       "stream": "stdout",
       "text": [
        "GeneSetCohorted: 501 / 1000\r\n",
        "GeneSetCohorted_scored: 501 / 1000\r\n"
       ]
      },
      {
       "output_type": "stream",
       "stream": "stdout",
       "text": [
        "GeneSetCohorted: 501 / 1000\r\n",
        "GeneSetCohorted_scored: 501 / 1000\r\n"
       ]
      },
      {
       "output_type": "stream",
       "stream": "stdout",
       "text": [
        "GeneSetCohorted: 501 / 1000\r\n",
        "GeneSetCohorted_scored: 501 / 1000\r\n"
       ]
      },
      {
       "output_type": "stream",
       "stream": "stdout",
       "text": [
        "GeneSetCohorted: 501 / 1000\r\n",
        "GeneSetCohorted_scored: 501 / 1000\r\n"
       ]
      },
      {
       "output_type": "stream",
       "stream": "stdout",
       "text": [
        "GeneSetCohorted: 501 / 1000\r\n"
       ]
      },
      {
       "output_type": "stream",
       "stream": "stdout",
       "text": [
        "GeneSetCohorted_scored: 501 / 1000\r\n"
       ]
      },
      {
       "output_type": "stream",
       "stream": "stdout",
       "text": [
        "shuffleGeneSet for GeneSet 166/696 nperm: 1000\r\n"
       ]
      },
      {
       "output_type": "stream",
       "stream": "stdout",
       "text": [
        "GeneSetCohorted: 501 / 1000\r\n",
        "GeneSetCohorted_scored: 501 / 1000\r\n"
       ]
      },
      {
       "output_type": "stream",
       "stream": "stdout",
       "text": [
        "GeneSetCohorted: 501 / 1000\r\n",
        "GeneSetCohorted_scored: 501 / 1000\r\n"
       ]
      },
      {
       "output_type": "stream",
       "stream": "stdout",
       "text": [
        "GeneSetCohorted: 501 / 1000\r\n"
       ]
      },
      {
       "output_type": "stream",
       "stream": "stdout",
       "text": [
        "GeneSetCohorted_scored: 501 / 1000\r\n"
       ]
      },
      {
       "output_type": "stream",
       "stream": "stdout",
       "text": [
        "GeneSetCohorted: 501 / 1000\r\n",
        "GeneSetCohorted_scored: 501 / 1000\r\n"
       ]
      },
      {
       "output_type": "stream",
       "stream": "stdout",
       "text": [
        "GeneSetCohorted: 501 / 1000\r\n",
        "GeneSetCohorted_scored: 501 / 1000\r\n"
       ]
      },
      {
       "output_type": "stream",
       "stream": "stdout",
       "text": [
        "shuffleGeneSet for GeneSet 171/696 nperm: 1000\r\n"
       ]
      },
      {
       "output_type": "stream",
       "stream": "stdout",
       "text": [
        "GeneSetCohorted: 501 / 1000\r\n"
       ]
      },
      {
       "output_type": "stream",
       "stream": "stdout",
       "text": [
        "GeneSetCohorted_scored: 501 / 1000\r\n"
       ]
      },
      {
       "output_type": "stream",
       "stream": "stdout",
       "text": [
        "GeneSetCohorted: 501 / 1000\r\n",
        "GeneSetCohorted_scored: 501 / 1000\r\n"
       ]
      },
      {
       "output_type": "stream",
       "stream": "stdout",
       "text": [
        "GeneSetCohorted: 501 / 1000\r\n",
        "GeneSetCohorted_scored: 501 / 1000\r\n"
       ]
      },
      {
       "output_type": "stream",
       "stream": "stdout",
       "text": [
        "GeneSetCohorted: 501 / 1000\r\n",
        "GeneSetCohorted_scored: 501 / 1000\r\n"
       ]
      },
      {
       "output_type": "stream",
       "stream": "stdout",
       "text": [
        "GeneSetCohorted: 501 / 1000\r\n",
        "GeneSetCohorted_scored: 501 / 1000\r\n"
       ]
      },
      {
       "output_type": "stream",
       "stream": "stdout",
       "text": [
        "shuffleGeneSet for GeneSet 176/696 nperm: 1000\r\n"
       ]
      },
      {
       "output_type": "stream",
       "stream": "stdout",
       "text": [
        "GeneSetCohorted: 501 / 1000\r\n",
        "GeneSetCohorted_scored: 501 / 1000\r\n"
       ]
      },
      {
       "output_type": "stream",
       "stream": "stdout",
       "text": [
        "GeneSetCohorted: 501 / 1000\r\n",
        "GeneSetCohorted_scored: 501 / 1000\r\n"
       ]
      },
      {
       "output_type": "stream",
       "stream": "stdout",
       "text": [
        "GeneSetCohorted: 501 / 1000\r\n"
       ]
      },
      {
       "output_type": "stream",
       "stream": "stdout",
       "text": [
        "GeneSetCohorted_scored: 501 / 1000\r\n"
       ]
      },
      {
       "output_type": "stream",
       "stream": "stdout",
       "text": [
        "GeneSetCohorted: 501 / 1000\r\n",
        "GeneSetCohorted_scored: 501 / 1000\r\n"
       ]
      },
      {
       "output_type": "stream",
       "stream": "stdout",
       "text": [
        "GeneSetCohorted: 501 / 1000\r\n",
        "GeneSetCohorted_scored: 501 / 1000\r\n"
       ]
      },
      {
       "output_type": "stream",
       "stream": "stdout",
       "text": [
        "shuffleGeneSet for GeneSet 181/696 nperm: 1000\r\n"
       ]
      },
      {
       "output_type": "stream",
       "stream": "stdout",
       "text": [
        "GeneSetCohorted: 501 / 1000\r\n",
        "GeneSetCohorted_scored: 501 / 1000\r\n"
       ]
      },
      {
       "output_type": "stream",
       "stream": "stdout",
       "text": [
        "GeneSetCohorted: 501 / 1000\r\n",
        "GeneSetCohorted_scored: 501 / 1000\r\n"
       ]
      },
      {
       "output_type": "stream",
       "stream": "stdout",
       "text": [
        "GeneSetCohorted: 501 / 1000\r\n",
        "GeneSetCohorted_scored: 501 / 1000\r\n"
       ]
      },
      {
       "output_type": "stream",
       "stream": "stdout",
       "text": [
        "GeneSetCohorted: 501 / 1000\r\n",
        "GeneSetCohorted_scored: 501 / 1000\r\n"
       ]
      },
      {
       "output_type": "stream",
       "stream": "stdout",
       "text": [
        "GeneSetCohorted: 501 / 1000\r\n",
        "GeneSetCohorted_scored: 501 / 1000\r\n"
       ]
      },
      {
       "output_type": "stream",
       "stream": "stdout",
       "text": [
        "shuffleGeneSet for GeneSet 186/696 nperm: 1000\r\n",
        "GeneSetCohorted: 501 / 1000\r\n"
       ]
      },
      {
       "output_type": "stream",
       "stream": "stdout",
       "text": [
        "GeneSetCohorted_scored: 501 / 1000\r\n"
       ]
      },
      {
       "output_type": "stream",
       "stream": "stdout",
       "text": [
        "GeneSetCohorted: 501 / 1000\r\n",
        "GeneSetCohorted_scored: 501 / 1000\r\n"
       ]
      },
      {
       "output_type": "stream",
       "stream": "stdout",
       "text": [
        "GeneSetCohorted: 501 / 1000\r\n",
        "GeneSetCohorted_scored: 501 / 1000\r\n"
       ]
      },
      {
       "output_type": "stream",
       "stream": "stdout",
       "text": [
        "GeneSetCohorted: 501 / 1000\r\n"
       ]
      },
      {
       "output_type": "stream",
       "stream": "stdout",
       "text": [
        "GeneSetCohorted_scored: 501 / 1000\r\n"
       ]
      },
      {
       "output_type": "stream",
       "stream": "stdout",
       "text": [
        "GeneSetCohorted: 501 / 1000\r\n",
        "GeneSetCohorted_scored: 501 / 1000\r\n"
       ]
      },
      {
       "output_type": "stream",
       "stream": "stdout",
       "text": [
        "shuffleGeneSet for GeneSet 191/696 nperm: 1000\r\n"
       ]
      },
      {
       "output_type": "stream",
       "stream": "stdout",
       "text": [
        "GeneSetCohorted: 501 / 1000\r\n",
        "GeneSetCohorted_scored: 501 / 1000\r\n"
       ]
      },
      {
       "output_type": "stream",
       "stream": "stdout",
       "text": [
        "GeneSetCohorted: 501 / 1000\r\n",
        "GeneSetCohorted_scored: 501 / 1000\r\n"
       ]
      },
      {
       "output_type": "stream",
       "stream": "stdout",
       "text": [
        "GeneSetCohorted: 501 / 1000\r\n"
       ]
      },
      {
       "output_type": "stream",
       "stream": "stdout",
       "text": [
        "GeneSetCohorted_scored: 501 / 1000\r\n"
       ]
      },
      {
       "output_type": "stream",
       "stream": "stdout",
       "text": [
        "GeneSetCohorted: 501 / 1000\r\n",
        "GeneSetCohorted_scored: 501 / 1000\r\n"
       ]
      },
      {
       "output_type": "stream",
       "stream": "stdout",
       "text": [
        "GeneSetCohorted: 501 / 1000\r\n",
        "GeneSetCohorted_scored: 501 / 1000\r\n"
       ]
      },
      {
       "output_type": "stream",
       "stream": "stdout",
       "text": [
        "shuffleGeneSet for GeneSet 196/696 nperm: 1000\r\n"
       ]
      },
      {
       "output_type": "stream",
       "stream": "stdout",
       "text": [
        "GeneSetCohorted: 501 / 1000\r\n",
        "GeneSetCohorted_scored: 501 / 1000\r\n"
       ]
      },
      {
       "output_type": "stream",
       "stream": "stdout",
       "text": [
        "GeneSetCohorted: 501 / 1000\r\n",
        "GeneSetCohorted_scored: 501 / 1000\r\n"
       ]
      },
      {
       "output_type": "stream",
       "stream": "stdout",
       "text": [
        "GeneSetCohorted: 501 / 1000\r\n",
        "GeneSetCohorted_scored: 501 / 1000\r\n"
       ]
      },
      {
       "output_type": "stream",
       "stream": "stdout",
       "text": [
        "GeneSetCohorted: 501 / 1000\r\n",
        "GeneSetCohorted_scored: 501 / 1000\r\n"
       ]
      },
      {
       "output_type": "stream",
       "stream": "stdout",
       "text": [
        "GeneSetCohorted: 501 / 1000\r\n",
        "GeneSetCohorted_scored: 501 / 1000\r\n"
       ]
      },
      {
       "output_type": "stream",
       "stream": "stdout",
       "text": [
        "shuffleGeneSet for GeneSet 201/696 nperm: 1000\r\n",
        "GeneSetCohorted: 501 / 1000\r\n",
        "GeneSetCohorted_scored: 501 / 1000\r\n"
       ]
      },
      {
       "output_type": "stream",
       "stream": "stdout",
       "text": [
        "GeneSetCohorted: 501 / 1000\r\n",
        "GeneSetCohorted_scored: 501 / 1000\r\n"
       ]
      },
      {
       "output_type": "stream",
       "stream": "stdout",
       "text": [
        "GeneSetCohorted: 501 / 1000\r\n",
        "GeneSetCohorted_scored: 501 / 1000\r\n"
       ]
      },
      {
       "output_type": "stream",
       "stream": "stdout",
       "text": [
        "GeneSetCohorted: 501 / 1000\r\n",
        "GeneSetCohorted_scored: 501 / 1000\r\n"
       ]
      },
      {
       "output_type": "stream",
       "stream": "stdout",
       "text": [
        "GeneSetCohorted: 501 / 1000\r\n",
        "GeneSetCohorted_scored: 501 / 1000\r\n"
       ]
      },
      {
       "output_type": "stream",
       "stream": "stdout",
       "text": [
        "shuffleGeneSet for GeneSet 206/696 nperm: 1000\r\n"
       ]
      },
      {
       "output_type": "stream",
       "stream": "stdout",
       "text": [
        "GeneSetCohorted: 501 / 1000\r\n",
        "GeneSetCohorted_scored: 501 / 1000\r\n"
       ]
      },
      {
       "output_type": "stream",
       "stream": "stdout",
       "text": [
        "GeneSetCohorted: 501 / 1000\r\n",
        "GeneSetCohorted_scored: 501 / 1000\r\n"
       ]
      },
      {
       "output_type": "stream",
       "stream": "stdout",
       "text": [
        "GeneSetCohorted: 501 / 1000\r\n",
        "GeneSetCohorted_scored: 501 / 1000\r\n"
       ]
      },
      {
       "output_type": "stream",
       "stream": "stdout",
       "text": [
        "GeneSetCohorted: 501 / 1000\r\n",
        "GeneSetCohorted_scored: 501 / 1000\r\n"
       ]
      },
      {
       "output_type": "stream",
       "stream": "stdout",
       "text": [
        "GeneSetCohorted: 501 / 1000\r\n",
        "GeneSetCohorted_scored: 501 / 1000\r\n"
       ]
      },
      {
       "output_type": "stream",
       "stream": "stdout",
       "text": [
        "shuffleGeneSet for GeneSet 211/696 nperm: 1000\r\n",
        "GeneSetCohorted: 501 / 1000\r\n",
        "GeneSetCohorted_scored: 501 / 1000\r\n"
       ]
      },
      {
       "output_type": "stream",
       "stream": "stdout",
       "text": [
        "GeneSetCohorted: 501 / 1000\r\n",
        "GeneSetCohorted_scored: 501 / 1000\r\n"
       ]
      },
      {
       "output_type": "stream",
       "stream": "stdout",
       "text": [
        "GeneSetCohorted: 501 / 1000\r\n",
        "GeneSetCohorted_scored: 501 / 1000\r\n"
       ]
      },
      {
       "output_type": "stream",
       "stream": "stdout",
       "text": [
        "GeneSetCohorted: 501 / 1000\r\n",
        "GeneSetCohorted_scored: 501 / 1000\r\n"
       ]
      },
      {
       "output_type": "stream",
       "stream": "stdout",
       "text": [
        "GeneSetCohorted: 501 / 1000\r\n",
        "GeneSetCohorted_scored: 501 / 1000\r\n"
       ]
      },
      {
       "output_type": "stream",
       "stream": "stdout",
       "text": [
        "shuffleGeneSet for GeneSet 216/696 nperm: 1000\r\n"
       ]
      },
      {
       "output_type": "stream",
       "stream": "stdout",
       "text": [
        "GeneSetCohorted: 501 / 1000\r\n",
        "GeneSetCohorted_scored: 501 / 1000\r\n"
       ]
      },
      {
       "output_type": "stream",
       "stream": "stdout",
       "text": [
        "GeneSetCohorted: 501 / 1000\r\n",
        "GeneSetCohorted_scored: 501 / 1000\r\n"
       ]
      },
      {
       "output_type": "stream",
       "stream": "stdout",
       "text": [
        "GeneSetCohorted: 501 / 1000\r\n",
        "GeneSetCohorted_scored: 501 / 1000\r\n"
       ]
      },
      {
       "output_type": "stream",
       "stream": "stdout",
       "text": [
        "GeneSetCohorted: 501 / 1000\r\n"
       ]
      },
      {
       "output_type": "stream",
       "stream": "stdout",
       "text": [
        "GeneSetCohorted_scored: 501 / 1000\r\n"
       ]
      },
      {
       "output_type": "stream",
       "stream": "stdout",
       "text": [
        "GeneSetCohorted: 501 / 1000\r\n",
        "GeneSetCohorted_scored: 501 / 1000\r\n"
       ]
      },
      {
       "output_type": "stream",
       "stream": "stdout",
       "text": [
        "shuffleGeneSet for GeneSet 221/696 nperm: 1000\r\n",
        "GeneSetCohorted: 501 / 1000\r\n",
        "GeneSetCohorted_scored: 501 / 1000\r\n"
       ]
      },
      {
       "output_type": "stream",
       "stream": "stdout",
       "text": [
        "GeneSetCohorted: 501 / 1000\r\n",
        "GeneSetCohorted_scored: 501 / 1000\r\n"
       ]
      },
      {
       "output_type": "stream",
       "stream": "stdout",
       "text": [
        "GeneSetCohorted: 501 / 1000\r\n",
        "GeneSetCohorted_scored: 501 / 1000\r\n"
       ]
      },
      {
       "output_type": "stream",
       "stream": "stdout",
       "text": [
        "GeneSetCohorted: 501 / 1000\r\n"
       ]
      },
      {
       "output_type": "stream",
       "stream": "stdout",
       "text": [
        "GeneSetCohorted_scored: 501 / 1000\r\n"
       ]
      },
      {
       "output_type": "stream",
       "stream": "stdout",
       "text": [
        "GeneSetCohorted: 501 / 1000\r\n",
        "GeneSetCohorted_scored: 501 / 1000\r\n"
       ]
      },
      {
       "output_type": "stream",
       "stream": "stdout",
       "text": [
        "shuffleGeneSet for GeneSet 226/696 nperm: 1000\r\n"
       ]
      },
      {
       "output_type": "stream",
       "stream": "stdout",
       "text": [
        "GeneSetCohorted: 501 / 1000\r\n",
        "GeneSetCohorted_scored: 501 / 1000\r\n"
       ]
      },
      {
       "output_type": "stream",
       "stream": "stdout",
       "text": [
        "GeneSetCohorted: 501 / 1000\r\n",
        "GeneSetCohorted_scored: 501 / 1000\r\n"
       ]
      },
      {
       "output_type": "stream",
       "stream": "stdout",
       "text": [
        "GeneSetCohorted: 501 / 1000\r\n"
       ]
      },
      {
       "output_type": "stream",
       "stream": "stdout",
       "text": [
        "GeneSetCohorted_scored: 501 / 1000\r\n"
       ]
      },
      {
       "output_type": "stream",
       "stream": "stdout",
       "text": [
        "GeneSetCohorted: 501 / 1000\r\n",
        "GeneSetCohorted_scored: 501 / 1000\r\n"
       ]
      },
      {
       "output_type": "stream",
       "stream": "stdout",
       "text": [
        "GeneSetCohorted: 501 / 1000\r\n",
        "GeneSetCohorted_scored: 501 / 1000\r\n"
       ]
      },
      {
       "output_type": "stream",
       "stream": "stdout",
       "text": [
        "shuffleGeneSet for GeneSet 231/696 nperm: 1000\r\n"
       ]
      },
      {
       "output_type": "stream",
       "stream": "stdout",
       "text": [
        "GeneSetCohorted: 501 / 1000\r\n",
        "GeneSetCohorted_scored: 501 / 1000\r\n"
       ]
      },
      {
       "output_type": "stream",
       "stream": "stdout",
       "text": [
        "GeneSetCohorted: 501 / 1000\r\n",
        "GeneSetCohorted_scored: 501 / 1000\r\n"
       ]
      },
      {
       "output_type": "stream",
       "stream": "stdout",
       "text": [
        "GeneSetCohorted: 501 / 1000\r\n",
        "GeneSetCohorted_scored: 501 / 1000\r\n"
       ]
      },
      {
       "output_type": "stream",
       "stream": "stdout",
       "text": [
        "GeneSetCohorted: 501 / 1000\r\n",
        "GeneSetCohorted_scored: 501 / 1000\r\n"
       ]
      },
      {
       "output_type": "stream",
       "stream": "stdout",
       "text": [
        "GeneSetCohorted: 501 / 1000\r\n",
        "GeneSetCohorted_scored: 501 / 1000\r\n"
       ]
      },
      {
       "output_type": "stream",
       "stream": "stdout",
       "text": [
        "shuffleGeneSet for GeneSet 236/696 nperm: 1000\r\n"
       ]
      },
      {
       "output_type": "stream",
       "stream": "stdout",
       "text": [
        "GeneSetCohorted: 501 / 1000\r\n",
        "GeneSetCohorted_scored: 501 / 1000\r\n"
       ]
      },
      {
       "output_type": "stream",
       "stream": "stdout",
       "text": [
        "GeneSetCohorted: 501 / 1000\r\n",
        "GeneSetCohorted_scored: 501 / 1000\r\n"
       ]
      },
      {
       "output_type": "stream",
       "stream": "stdout",
       "text": [
        "GeneSetCohorted: 501 / 1000\r\n",
        "GeneSetCohorted_scored: 501 / 1000\r\n"
       ]
      },
      {
       "output_type": "stream",
       "stream": "stdout",
       "text": [
        "GeneSetCohorted: 501 / 1000\r\n",
        "GeneSetCohorted_scored: 501 / 1000\r\n"
       ]
      },
      {
       "output_type": "stream",
       "stream": "stdout",
       "text": [
        "GeneSetCohorted: 501 / 1000\r\n",
        "GeneSetCohorted_scored: 501 / 1000\r\n"
       ]
      },
      {
       "output_type": "stream",
       "stream": "stdout",
       "text": [
        "shuffleGeneSet for GeneSet 241/696 nperm: 1000\r\n",
        "GeneSetCohorted: 501 / 1000\r\n",
        "GeneSetCohorted_scored: 501 / 1000\r\n"
       ]
      },
      {
       "output_type": "stream",
       "stream": "stdout",
       "text": [
        "GeneSetCohorted: 501 / 1000\r\n",
        "GeneSetCohorted_scored: 501 / 1000\r\n"
       ]
      },
      {
       "output_type": "stream",
       "stream": "stdout",
       "text": [
        "GeneSetCohorted: 501 / 1000\r\n",
        "GeneSetCohorted_scored: 501 / 1000\r\n"
       ]
      },
      {
       "output_type": "stream",
       "stream": "stdout",
       "text": [
        "GeneSetCohorted: 501 / 1000\r\n",
        "GeneSetCohorted_scored: 501 / 1000\r\n"
       ]
      },
      {
       "output_type": "stream",
       "stream": "stdout",
       "text": [
        "GeneSetCohorted: 501 / 1000\r\n",
        "GeneSetCohorted_scored: 501 / 1000\r\n"
       ]
      },
      {
       "output_type": "stream",
       "stream": "stdout",
       "text": [
        "shuffleGeneSet for GeneSet 246/696 nperm: 1000\r\n"
       ]
      },
      {
       "output_type": "stream",
       "stream": "stdout",
       "text": [
        "GeneSetCohorted: 501 / 1000\r\n",
        "GeneSetCohorted_scored: 501 / 1000\r\n"
       ]
      },
      {
       "output_type": "stream",
       "stream": "stdout",
       "text": [
        "GeneSetCohorted: 501 / 1000\r\n",
        "GeneSetCohorted_scored: 501 / 1000\r\n"
       ]
      },
      {
       "output_type": "stream",
       "stream": "stdout",
       "text": [
        "GeneSetCohorted: 501 / 1000\r\n",
        "GeneSetCohorted_scored: 501 / 1000\r\n"
       ]
      },
      {
       "output_type": "stream",
       "stream": "stdout",
       "text": [
        "GeneSetCohorted: 501 / 1000\r\n",
        "GeneSetCohorted_scored: 501 / 1000\r\n"
       ]
      },
      {
       "output_type": "stream",
       "stream": "stdout",
       "text": [
        "GeneSetCohorted: 501 / 1000\r\n",
        "GeneSetCohorted_scored: 501 / 1000\r\n"
       ]
      },
      {
       "output_type": "stream",
       "stream": "stdout",
       "text": [
        "shuffleGeneSet for GeneSet 251/696 nperm: 1000\r\n",
        "GeneSetCohorted: 501 / 1000\r\n",
        "GeneSetCohorted_scored: 501 / 1000\r\n"
       ]
      },
      {
       "output_type": "stream",
       "stream": "stdout",
       "text": [
        "GeneSetCohorted: 501 / 1000\r\n"
       ]
      },
      {
       "output_type": "stream",
       "stream": "stdout",
       "text": [
        "GeneSetCohorted_scored: 501 / 1000\r\n"
       ]
      },
      {
       "output_type": "stream",
       "stream": "stdout",
       "text": [
        "GeneSetCohorted: 501 / 1000\r\n",
        "GeneSetCohorted_scored: 501 / 1000\r\n"
       ]
      },
      {
       "output_type": "stream",
       "stream": "stdout",
       "text": [
        "GeneSetCohorted: 501 / 1000\r\n",
        "GeneSetCohorted_scored: 501 / 1000\r\n"
       ]
      },
      {
       "output_type": "stream",
       "stream": "stdout",
       "text": [
        "GeneSetCohorted: 501 / 1000\r\n",
        "GeneSetCohorted_scored: 501 / 1000\r\n"
       ]
      },
      {
       "output_type": "stream",
       "stream": "stdout",
       "text": [
        "shuffleGeneSet for GeneSet 256/696 nperm: 1000\r\n",
        "GeneSetCohorted: 501 / 1000\r\n",
        "GeneSetCohorted_scored: 501 / 1000\r\n"
       ]
      },
      {
       "output_type": "stream",
       "stream": "stdout",
       "text": [
        "GeneSetCohorted: 501 / 1000\r\n",
        "GeneSetCohorted_scored: 501 / 1000\r\n"
       ]
      },
      {
       "output_type": "stream",
       "stream": "stdout",
       "text": [
        "GeneSetCohorted: 501 / 1000\r\n",
        "GeneSetCohorted_scored: 501 / 1000\r\n"
       ]
      },
      {
       "output_type": "stream",
       "stream": "stdout",
       "text": [
        "GeneSetCohorted: 501 / 1000\r\n",
        "GeneSetCohorted_scored: 501 / 1000\r\n"
       ]
      },
      {
       "output_type": "stream",
       "stream": "stdout",
       "text": [
        "GeneSetCohorted: 501 / 1000\r\n",
        "GeneSetCohorted_scored: 501 / 1000\r\n"
       ]
      },
      {
       "output_type": "stream",
       "stream": "stdout",
       "text": [
        "shuffleGeneSet for GeneSet 261/696 nperm: 1000\r\n"
       ]
      },
      {
       "output_type": "stream",
       "stream": "stdout",
       "text": [
        "GeneSetCohorted: 501 / 1000\r\n"
       ]
      },
      {
       "output_type": "stream",
       "stream": "stdout",
       "text": [
        "GeneSetCohorted_scored: 501 / 1000\r\n"
       ]
      },
      {
       "output_type": "stream",
       "stream": "stdout",
       "text": [
        "GeneSetCohorted: 501 / 1000\r\n",
        "GeneSetCohorted_scored: 501 / 1000\r\n"
       ]
      },
      {
       "output_type": "stream",
       "stream": "stdout",
       "text": [
        "GeneSetCohorted: 501 / 1000\r\n",
        "GeneSetCohorted_scored: 501 / 1000\r\n"
       ]
      },
      {
       "output_type": "stream",
       "stream": "stdout",
       "text": [
        "GeneSetCohorted: 501 / 1000\r\n",
        "GeneSetCohorted_scored: 501 / 1000\r\n"
       ]
      },
      {
       "output_type": "stream",
       "stream": "stdout",
       "text": [
        "GeneSetCohorted: 501 / 1000\r\n",
        "GeneSetCohorted_scored: 501 / 1000\r\n"
       ]
      },
      {
       "output_type": "stream",
       "stream": "stdout",
       "text": [
        "shuffleGeneSet for GeneSet 266/696 nperm: 1000\r\n"
       ]
      },
      {
       "output_type": "stream",
       "stream": "stdout",
       "text": [
        "GeneSetCohorted: 501 / 1000\r\n",
        "GeneSetCohorted_scored: 501 / 1000\r\n"
       ]
      },
      {
       "output_type": "stream",
       "stream": "stdout",
       "text": [
        "GeneSetCohorted: 501 / 1000\r\n",
        "GeneSetCohorted_scored: 501 / 1000\r\n"
       ]
      },
      {
       "output_type": "stream",
       "stream": "stdout",
       "text": [
        "GeneSetCohorted: 501 / 1000\r\n",
        "GeneSetCohorted_scored: 501 / 1000\r\n"
       ]
      },
      {
       "output_type": "stream",
       "stream": "stdout",
       "text": [
        "GeneSetCohorted: 501 / 1000\r\n",
        "GeneSetCohorted_scored: 501 / 1000\r\n"
       ]
      },
      {
       "output_type": "stream",
       "stream": "stdout",
       "text": [
        "GeneSetCohorted: 501 / 1000\r\n",
        "GeneSetCohorted_scored: 501 / 1000\r\n"
       ]
      },
      {
       "output_type": "stream",
       "stream": "stdout",
       "text": [
        "shuffleGeneSet for GeneSet 271/696 nperm: 1000\r\n"
       ]
      },
      {
       "output_type": "stream",
       "stream": "stdout",
       "text": [
        "GeneSetCohorted: 501 / 1000\r\n",
        "GeneSetCohorted_scored: 501 / 1000\r\n"
       ]
      },
      {
       "output_type": "stream",
       "stream": "stdout",
       "text": [
        "GeneSetCohorted: 501 / 1000\r\n",
        "GeneSetCohorted_scored: 501 / 1000\r\n"
       ]
      },
      {
       "output_type": "stream",
       "stream": "stdout",
       "text": [
        "GeneSetCohorted: 501 / 1000\r\n"
       ]
      },
      {
       "output_type": "stream",
       "stream": "stdout",
       "text": [
        "GeneSetCohorted_scored: 501 / 1000\r\n"
       ]
      },
      {
       "output_type": "stream",
       "stream": "stdout",
       "text": [
        "GeneSetCohorted: 501 / 1000\r\n",
        "GeneSetCohorted_scored: 501 / 1000\r\n"
       ]
      },
      {
       "output_type": "stream",
       "stream": "stdout",
       "text": [
        "GeneSetCohorted: 501 / 1000\r\n",
        "GeneSetCohorted_scored: 501 / 1000\r\n"
       ]
      },
      {
       "output_type": "stream",
       "stream": "stdout",
       "text": [
        "shuffleGeneSet for GeneSet 276/696 nperm: 1000\r\n",
        "GeneSetCohorted: 501 / 1000\r\n",
        "GeneSetCohorted_scored: 501 / 1000\r\n"
       ]
      },
      {
       "output_type": "stream",
       "stream": "stdout",
       "text": [
        "GeneSetCohorted: 501 / 1000\r\n",
        "GeneSetCohorted_scored: 501 / 1000\r\n"
       ]
      },
      {
       "output_type": "stream",
       "stream": "stdout",
       "text": [
        "GeneSetCohorted: 501 / 1000\r\n",
        "GeneSetCohorted_scored: 501 / 1000\r\n"
       ]
      },
      {
       "output_type": "stream",
       "stream": "stdout",
       "text": [
        "GeneSetCohorted: 501 / 1000\r\n"
       ]
      },
      {
       "output_type": "stream",
       "stream": "stdout",
       "text": [
        "GeneSetCohorted_scored: 501 / 1000\r\n"
       ]
      },
      {
       "output_type": "stream",
       "stream": "stdout",
       "text": [
        "GeneSetCohorted: 501 / 1000\r\n",
        "GeneSetCohorted_scored: 501 / 1000\r\n"
       ]
      },
      {
       "output_type": "stream",
       "stream": "stdout",
       "text": [
        "shuffleGeneSet for GeneSet 281/696 nperm: 1000\r\n"
       ]
      },
      {
       "output_type": "stream",
       "stream": "stdout",
       "text": [
        "GeneSetCohorted: 501 / 1000\r\n",
        "GeneSetCohorted_scored: 501 / 1000\r\n"
       ]
      },
      {
       "output_type": "stream",
       "stream": "stdout",
       "text": [
        "GeneSetCohorted: 501 / 1000\r\n",
        "GeneSetCohorted_scored: 501 / 1000\r\n"
       ]
      },
      {
       "output_type": "stream",
       "stream": "stdout",
       "text": [
        "GeneSetCohorted: 501 / 1000\r\n",
        "GeneSetCohorted_scored: 501 / 1000\r\n"
       ]
      },
      {
       "output_type": "stream",
       "stream": "stdout",
       "text": [
        "GeneSetCohorted: 501 / 1000\r\n",
        "GeneSetCohorted_scored: 501 / 1000\r\n"
       ]
      },
      {
       "output_type": "stream",
       "stream": "stdout",
       "text": [
        "GeneSetCohorted: 501 / 1000\r\n",
        "GeneSetCohorted_scored: 501 / 1000\r\n"
       ]
      },
      {
       "output_type": "stream",
       "stream": "stdout",
       "text": [
        "shuffleGeneSet for GeneSet 286/696 nperm: 1000\r\n"
       ]
      },
      {
       "output_type": "stream",
       "stream": "stdout",
       "text": [
        "GeneSetCohorted: 501 / 1000\r\n",
        "GeneSetCohorted_scored: 501 / 1000\r\n"
       ]
      },
      {
       "output_type": "stream",
       "stream": "stdout",
       "text": [
        "GeneSetCohorted: 501 / 1000\r\n",
        "GeneSetCohorted_scored: 501 / 1000\r\n"
       ]
      },
      {
       "output_type": "stream",
       "stream": "stdout",
       "text": [
        "GeneSetCohorted: 501 / 1000\r\n"
       ]
      },
      {
       "output_type": "stream",
       "stream": "stdout",
       "text": [
        "GeneSetCohorted_scored: 501 / 1000\r\n"
       ]
      },
      {
       "output_type": "stream",
       "stream": "stdout",
       "text": [
        "GeneSetCohorted: 501 / 1000\r\n",
        "GeneSetCohorted_scored: 501 / 1000\r\n"
       ]
      },
      {
       "output_type": "stream",
       "stream": "stdout",
       "text": [
        "GeneSetCohorted: 501 / 1000\r\n",
        "GeneSetCohorted_scored: 501 / 1000\r\n"
       ]
      },
      {
       "output_type": "stream",
       "stream": "stdout",
       "text": [
        "shuffleGeneSet for GeneSet 291/696 nperm: 1000\r\n",
        "GeneSetCohorted: 501 / 1000\r\n",
        "GeneSetCohorted_scored: 501 / 1000\r\n"
       ]
      },
      {
       "output_type": "stream",
       "stream": "stdout",
       "text": [
        "GeneSetCohorted: 501 / 1000\r\n",
        "GeneSetCohorted_scored: 501 / 1000\r\n"
       ]
      },
      {
       "output_type": "stream",
       "stream": "stdout",
       "text": [
        "GeneSetCohorted: 501 / 1000\r\n",
        "GeneSetCohorted_scored: 501 / 1000\r\n"
       ]
      },
      {
       "output_type": "stream",
       "stream": "stdout",
       "text": [
        "GeneSetCohorted: 501 / 1000\r\n",
        "GeneSetCohorted_scored: 501 / 1000\r\n"
       ]
      },
      {
       "output_type": "stream",
       "stream": "stdout",
       "text": [
        "GeneSetCohorted: 501 / 1000\r\n",
        "GeneSetCohorted_scored: 501 / 1000\r\n"
       ]
      },
      {
       "output_type": "stream",
       "stream": "stdout",
       "text": [
        "shuffleGeneSet for GeneSet 296/696 nperm: 1000\r\n",
        "GeneSetCohorted: 501 / 1000\r\n",
        "GeneSetCohorted_scored: 501 / 1000\r\n"
       ]
      },
      {
       "output_type": "stream",
       "stream": "stdout",
       "text": [
        "GeneSetCohorted: 501 / 1000\r\n",
        "GeneSetCohorted_scored: 501 / 1000\r\n"
       ]
      },
      {
       "output_type": "stream",
       "stream": "stdout",
       "text": [
        "GeneSetCohorted: 501 / 1000\r\n",
        "GeneSetCohorted_scored: 501 / 1000\r\n"
       ]
      },
      {
       "output_type": "stream",
       "stream": "stdout",
       "text": [
        "GeneSetCohorted: 501 / 1000\r\n",
        "GeneSetCohorted_scored: 501 / 1000\r\n"
       ]
      },
      {
       "output_type": "stream",
       "stream": "stdout",
       "text": [
        "GeneSetCohorted: 501 / 1000\r\n",
        "GeneSetCohorted_scored: 501 / 1000\r\n"
       ]
      },
      {
       "output_type": "stream",
       "stream": "stdout",
       "text": [
        "shuffleGeneSet for GeneSet 301/696 nperm: 1000\r\n"
       ]
      },
      {
       "output_type": "stream",
       "stream": "stdout",
       "text": [
        "GeneSetCohorted: 501 / 1000\r\n",
        "GeneSetCohorted_scored: 501 / 1000\r\n"
       ]
      },
      {
       "output_type": "stream",
       "stream": "stdout",
       "text": [
        "GeneSetCohorted: 501 / 1000\r\n",
        "GeneSetCohorted_scored: 501 / 1000\r\n"
       ]
      },
      {
       "output_type": "stream",
       "stream": "stdout",
       "text": [
        "GeneSetCohorted: 501 / 1000\r\n",
        "GeneSetCohorted_scored: 501 / 1000\r\n"
       ]
      },
      {
       "output_type": "stream",
       "stream": "stdout",
       "text": [
        "GeneSetCohorted: 501 / 1000\r\n",
        "GeneSetCohorted_scored: 501 / 1000\r\n"
       ]
      },
      {
       "output_type": "stream",
       "stream": "stdout",
       "text": [
        "GeneSetCohorted: 501 / 1000\r\n",
        "GeneSetCohorted_scored: 501 / 1000\r\n"
       ]
      },
      {
       "output_type": "stream",
       "stream": "stdout",
       "text": [
        "shuffleGeneSet for GeneSet 306/696 nperm: 1000\r\n"
       ]
      },
      {
       "output_type": "stream",
       "stream": "stdout",
       "text": [
        "GeneSetCohorted: 501 / 1000\r\n",
        "GeneSetCohorted_scored: 501 / 1000\r\n"
       ]
      },
      {
       "output_type": "stream",
       "stream": "stdout",
       "text": [
        "GeneSetCohorted: 501 / 1000\r\n",
        "GeneSetCohorted_scored: 501 / 1000\r\n"
       ]
      },
      {
       "output_type": "stream",
       "stream": "stdout",
       "text": [
        "GeneSetCohorted: 501 / 1000\r\n",
        "GeneSetCohorted_scored: 501 / 1000\r\n"
       ]
      },
      {
       "output_type": "stream",
       "stream": "stdout",
       "text": [
        "GeneSetCohorted: 501 / 1000\r\n",
        "GeneSetCohorted_scored: 501 / 1000\r\n"
       ]
      },
      {
       "output_type": "stream",
       "stream": "stdout",
       "text": [
        "GeneSetCohorted: 501 / 1000\r\n",
        "GeneSetCohorted_scored: 501 / 1000\r\n"
       ]
      },
      {
       "output_type": "stream",
       "stream": "stdout",
       "text": [
        "shuffleGeneSet for GeneSet 311/696 nperm: 1000\r\n"
       ]
      },
      {
       "output_type": "stream",
       "stream": "stdout",
       "text": [
        "GeneSetCohorted: 501 / 1000\r\n",
        "GeneSetCohorted_scored: 501 / 1000\r\n"
       ]
      },
      {
       "output_type": "stream",
       "stream": "stdout",
       "text": [
        "GeneSetCohorted: 501 / 1000\r\n",
        "GeneSetCohorted_scored: 501 / 1000\r\n"
       ]
      },
      {
       "output_type": "stream",
       "stream": "stdout",
       "text": [
        "GeneSetCohorted: 501 / 1000\r\n"
       ]
      },
      {
       "output_type": "stream",
       "stream": "stdout",
       "text": [
        "GeneSetCohorted_scored: 501 / 1000\r\n"
       ]
      },
      {
       "output_type": "stream",
       "stream": "stdout",
       "text": [
        "GeneSetCohorted: 501 / 1000\r\n",
        "GeneSetCohorted_scored: 501 / 1000\r\n"
       ]
      },
      {
       "output_type": "stream",
       "stream": "stdout",
       "text": [
        "GeneSetCohorted: 501 / 1000\r\n",
        "GeneSetCohorted_scored: 501 / 1000\r\n"
       ]
      },
      {
       "output_type": "stream",
       "stream": "stdout",
       "text": [
        "shuffleGeneSet for GeneSet 316/696 nperm: 1000\r\n"
       ]
      },
      {
       "output_type": "stream",
       "stream": "stdout",
       "text": [
        "GeneSetCohorted: 501 / 1000\r\n",
        "GeneSetCohorted_scored: 501 / 1000\r\n"
       ]
      },
      {
       "output_type": "stream",
       "stream": "stdout",
       "text": [
        "GeneSetCohorted: 501 / 1000\r\n",
        "GeneSetCohorted_scored: 501 / 1000\r\n"
       ]
      },
      {
       "output_type": "stream",
       "stream": "stdout",
       "text": [
        "GeneSetCohorted: 501 / 1000\r\n",
        "GeneSetCohorted_scored: 501 / 1000\r\n"
       ]
      },
      {
       "output_type": "stream",
       "stream": "stdout",
       "text": [
        "GeneSetCohorted: 501 / 1000\r\n",
        "GeneSetCohorted_scored: 501 / 1000\r\n"
       ]
      },
      {
       "output_type": "stream",
       "stream": "stdout",
       "text": [
        "GeneSetCohorted: 501 / 1000\r\n",
        "GeneSetCohorted_scored: 501 / 1000\r\n"
       ]
      },
      {
       "output_type": "stream",
       "stream": "stdout",
       "text": [
        "shuffleGeneSet for GeneSet 321/696 nperm: 1000\r\n",
        "GeneSetCohorted: 501 / 1000\r\n",
        "GeneSetCohorted_scored: 501 / 1000\r\n"
       ]
      },
      {
       "output_type": "stream",
       "stream": "stdout",
       "text": [
        "GeneSetCohorted: 501 / 1000\r\n",
        "GeneSetCohorted_scored: 501 / 1000\r\n"
       ]
      },
      {
       "output_type": "stream",
       "stream": "stdout",
       "text": [
        "GeneSetCohorted: 501 / 1000\r\n"
       ]
      },
      {
       "output_type": "stream",
       "stream": "stdout",
       "text": [
        "GeneSetCohorted_scored: 501 / 1000\r\n"
       ]
      },
      {
       "output_type": "stream",
       "stream": "stdout",
       "text": [
        "GeneSetCohorted: 501 / 1000\r\n",
        "GeneSetCohorted_scored: 501 / 1000\r\n"
       ]
      },
      {
       "output_type": "stream",
       "stream": "stdout",
       "text": [
        "GeneSetCohorted: 501 / 1000\r\n",
        "GeneSetCohorted_scored: 501 / 1000\r\n"
       ]
      },
      {
       "output_type": "stream",
       "stream": "stdout",
       "text": [
        "shuffleGeneSet for GeneSet 326/696 nperm: 1000\r\n"
       ]
      },
      {
       "output_type": "stream",
       "stream": "stdout",
       "text": [
        "GeneSetCohorted: 501 / 1000\r\n",
        "GeneSetCohorted_scored: 501 / 1000\r\n"
       ]
      },
      {
       "output_type": "stream",
       "stream": "stdout",
       "text": [
        "GeneSetCohorted: 501 / 1000\r\n",
        "GeneSetCohorted_scored: 501 / 1000\r\n"
       ]
      },
      {
       "output_type": "stream",
       "stream": "stdout",
       "text": [
        "GeneSetCohorted: 501 / 1000\r\n"
       ]
      },
      {
       "output_type": "stream",
       "stream": "stdout",
       "text": [
        "GeneSetCohorted_scored: 501 / 1000\r\n"
       ]
      },
      {
       "output_type": "stream",
       "stream": "stdout",
       "text": [
        "GeneSetCohorted: 501 / 1000\r\n",
        "GeneSetCohorted_scored: 501 / 1000\r\n"
       ]
      },
      {
       "output_type": "stream",
       "stream": "stdout",
       "text": [
        "GeneSetCohorted: 501 / 1000\r\n",
        "GeneSetCohorted_scored: 501 / 1000\r\n"
       ]
      },
      {
       "output_type": "stream",
       "stream": "stdout",
       "text": [
        "shuffleGeneSet for GeneSet 331/696 nperm: 1000\r\n"
       ]
      },
      {
       "output_type": "stream",
       "stream": "stdout",
       "text": [
        "GeneSetCohorted: 501 / 1000\r\n",
        "GeneSetCohorted_scored: 501 / 1000\r\n"
       ]
      },
      {
       "output_type": "stream",
       "stream": "stdout",
       "text": [
        "GeneSetCohorted: 501 / 1000\r\n",
        "GeneSetCohorted_scored: 501 / 1000\r\n"
       ]
      },
      {
       "output_type": "stream",
       "stream": "stdout",
       "text": [
        "GeneSetCohorted: 501 / 1000\r\n",
        "GeneSetCohorted_scored: 501 / 1000\r\n"
       ]
      },
      {
       "output_type": "stream",
       "stream": "stdout",
       "text": [
        "GeneSetCohorted: 501 / 1000\r\n"
       ]
      },
      {
       "output_type": "stream",
       "stream": "stdout",
       "text": [
        "GeneSetCohorted_scored: 501 / 1000\r\n"
       ]
      },
      {
       "output_type": "stream",
       "stream": "stdout",
       "text": [
        "GeneSetCohorted: 501 / 1000\r\n",
        "GeneSetCohorted_scored: 501 / 1000\r\n"
       ]
      },
      {
       "output_type": "stream",
       "stream": "stdout",
       "text": [
        "shuffleGeneSet for GeneSet 336/696 nperm: 1000\r\n",
        "GeneSetCohorted: 501 / 1000\r\n",
        "GeneSetCohorted_scored: 501 / 1000\r\n"
       ]
      },
      {
       "output_type": "stream",
       "stream": "stdout",
       "text": [
        "GeneSetCohorted: 501 / 1000\r\n",
        "GeneSetCohorted_scored: 501 / 1000\r\n"
       ]
      },
      {
       "output_type": "stream",
       "stream": "stdout",
       "text": [
        "GeneSetCohorted: 501 / 1000\r\n",
        "GeneSetCohorted_scored: 501 / 1000\r\n"
       ]
      },
      {
       "output_type": "stream",
       "stream": "stdout",
       "text": [
        "GeneSetCohorted: 501 / 1000\r\n"
       ]
      },
      {
       "output_type": "stream",
       "stream": "stdout",
       "text": [
        "GeneSetCohorted_scored: 501 / 1000\r\n"
       ]
      },
      {
       "output_type": "stream",
       "stream": "stdout",
       "text": [
        "GeneSetCohorted: 501 / 1000\r\n",
        "GeneSetCohorted_scored: 501 / 1000\r\n"
       ]
      },
      {
       "output_type": "stream",
       "stream": "stdout",
       "text": [
        "shuffleGeneSet for GeneSet 341/696 nperm: 1000\r\n"
       ]
      },
      {
       "output_type": "stream",
       "stream": "stdout",
       "text": [
        "GeneSetCohorted: 501 / 1000\r\n",
        "GeneSetCohorted_scored: 501 / 1000\r\n"
       ]
      },
      {
       "output_type": "stream",
       "stream": "stdout",
       "text": [
        "GeneSetCohorted: 501 / 1000\r\n",
        "GeneSetCohorted_scored: 501 / 1000\r\n"
       ]
      },
      {
       "output_type": "stream",
       "stream": "stdout",
       "text": [
        "GeneSetCohorted: 501 / 1000\r\n",
        "GeneSetCohorted_scored: 501 / 1000\r\n"
       ]
      },
      {
       "output_type": "stream",
       "stream": "stdout",
       "text": [
        "GeneSetCohorted: 501 / 1000\r\n",
        "GeneSetCohorted_scored: 501 / 1000\r\n"
       ]
      },
      {
       "output_type": "stream",
       "stream": "stdout",
       "text": [
        "GeneSetCohorted: 501 / 1000\r\n",
        "GeneSetCohorted_scored: 501 / 1000\r\n"
       ]
      },
      {
       "output_type": "stream",
       "stream": "stdout",
       "text": [
        "shuffleGeneSet for GeneSet 346/696 nperm: 1000\r\n"
       ]
      },
      {
       "output_type": "stream",
       "stream": "stdout",
       "text": [
        "GeneSetCohorted: 501 / 1000\r\n",
        "GeneSetCohorted_scored: 501 / 1000\r\n"
       ]
      },
      {
       "output_type": "stream",
       "stream": "stdout",
       "text": [
        "GeneSetCohorted: 501 / 1000\r\n",
        "GeneSetCohorted_scored: 501 / 1000\r\n"
       ]
      },
      {
       "output_type": "stream",
       "stream": "stdout",
       "text": [
        "GeneSetCohorted: 501 / 1000\r\n",
        "GeneSetCohorted_scored: 501 / 1000\r\n"
       ]
      },
      {
       "output_type": "stream",
       "stream": "stdout",
       "text": [
        "GeneSetCohorted: 501 / 1000\r\n",
        "GeneSetCohorted_scored: 501 / 1000\r\n"
       ]
      },
      {
       "output_type": "stream",
       "stream": "stdout",
       "text": [
        "GeneSetCohorted: 501 / 1000\r\n",
        "GeneSetCohorted_scored: 501 / 1000\r\n"
       ]
      },
      {
       "output_type": "stream",
       "stream": "stdout",
       "text": [
        "shuffleGeneSet for GeneSet 351/696 nperm: 1000\r\n",
        "GeneSetCohorted: 501 / 1000\r\n",
        "GeneSetCohorted_scored: 501 / 1000\r\n"
       ]
      },
      {
       "output_type": "stream",
       "stream": "stdout",
       "text": [
        "GeneSetCohorted: 501 / 1000\r\n"
       ]
      },
      {
       "output_type": "stream",
       "stream": "stdout",
       "text": [
        "GeneSetCohorted_scored: 501 / 1000\r\n"
       ]
      },
      {
       "output_type": "stream",
       "stream": "stdout",
       "text": [
        "GeneSetCohorted: 501 / 1000\r\n"
       ]
      },
      {
       "output_type": "stream",
       "stream": "stdout",
       "text": [
        "GeneSetCohorted_scored: 501 / 1000\r\n"
       ]
      },
      {
       "output_type": "stream",
       "stream": "stdout",
       "text": [
        "GeneSetCohorted: 501 / 1000\r\n"
       ]
      },
      {
       "output_type": "stream",
       "stream": "stdout",
       "text": [
        "GeneSetCohorted_scored: 501 / 1000\r\n"
       ]
      },
      {
       "output_type": "stream",
       "stream": "stdout",
       "text": [
        "GeneSetCohorted: 501 / 1000\r\n",
        "GeneSetCohorted_scored: 501 / 1000\r\n"
       ]
      },
      {
       "output_type": "stream",
       "stream": "stdout",
       "text": [
        "shuffleGeneSet for GeneSet 356/696 nperm: 1000\r\n"
       ]
      },
      {
       "output_type": "stream",
       "stream": "stdout",
       "text": [
        "GeneSetCohorted: 501 / 1000\r\n"
       ]
      },
      {
       "output_type": "stream",
       "stream": "stdout",
       "text": [
        "GeneSetCohorted_scored: 501 / 1000\r\n"
       ]
      },
      {
       "output_type": "stream",
       "stream": "stdout",
       "text": [
        "GeneSetCohorted: 501 / 1000\r\n"
       ]
      },
      {
       "output_type": "stream",
       "stream": "stdout",
       "text": [
        "GeneSetCohorted_scored: 501 / 1000\r\n"
       ]
      },
      {
       "output_type": "stream",
       "stream": "stdout",
       "text": [
        "GeneSetCohorted: 501 / 1000\r\n"
       ]
      },
      {
       "output_type": "stream",
       "stream": "stdout",
       "text": [
        "GeneSetCohorted_scored: 501 / 1000\r\n"
       ]
      },
      {
       "output_type": "stream",
       "stream": "stdout",
       "text": [
        "GeneSetCohorted: 501 / 1000\r\n",
        "GeneSetCohorted_scored: 501 / 1000\r\n"
       ]
      },
      {
       "output_type": "stream",
       "stream": "stdout",
       "text": [
        "GeneSetCohorted: 501 / 1000\r\n",
        "GeneSetCohorted_scored: 501 / 1000\r\n"
       ]
      },
      {
       "output_type": "stream",
       "stream": "stdout",
       "text": [
        "shuffleGeneSet for GeneSet 361/696 nperm: 1000\r\n"
       ]
      },
      {
       "output_type": "stream",
       "stream": "stdout",
       "text": [
        "GeneSetCohorted: 501 / 1000\r\n",
        "GeneSetCohorted_scored: 501 / 1000\r\n"
       ]
      },
      {
       "output_type": "stream",
       "stream": "stdout",
       "text": [
        "GeneSetCohorted: 501 / 1000\r\n",
        "GeneSetCohorted_scored: 501 / 1000\r\n"
       ]
      },
      {
       "output_type": "stream",
       "stream": "stdout",
       "text": [
        "GeneSetCohorted: 501 / 1000\r\n",
        "GeneSetCohorted_scored: 501 / 1000\r\n"
       ]
      },
      {
       "output_type": "stream",
       "stream": "stdout",
       "text": [
        "GeneSetCohorted: 501 / 1000\r\n",
        "GeneSetCohorted_scored: 501 / 1000\r\n"
       ]
      },
      {
       "output_type": "stream",
       "stream": "stdout",
       "text": [
        "GeneSetCohorted: 501 / 1000\r\n"
       ]
      },
      {
       "output_type": "stream",
       "stream": "stdout",
       "text": [
        "GeneSetCohorted_scored: 501 / 1000\r\n"
       ]
      },
      {
       "output_type": "stream",
       "stream": "stdout",
       "text": [
        "shuffleGeneSet for GeneSet 366/696 nperm: 1000\r\n"
       ]
      },
      {
       "output_type": "stream",
       "stream": "stdout",
       "text": [
        "GeneSetCohorted: 501 / 1000\r\n",
        "GeneSetCohorted_scored: 501 / 1000\r\n"
       ]
      },
      {
       "output_type": "stream",
       "stream": "stdout",
       "text": [
        "GeneSetCohorted: 501 / 1000\r\n",
        "GeneSetCohorted_scored: 501 / 1000\r\n"
       ]
      },
      {
       "output_type": "stream",
       "stream": "stdout",
       "text": [
        "GeneSetCohorted: 501 / 1000\r\n",
        "GeneSetCohorted_scored: 501 / 1000\r\n"
       ]
      },
      {
       "output_type": "stream",
       "stream": "stdout",
       "text": [
        "GeneSetCohorted: 501 / 1000\r\n",
        "GeneSetCohorted_scored: 501 / 1000\r\n"
       ]
      },
      {
       "output_type": "stream",
       "stream": "stdout",
       "text": [
        "GeneSetCohorted: 501 / 1000\r\n",
        "GeneSetCohorted_scored: 501 / 1000\r\n"
       ]
      },
      {
       "output_type": "stream",
       "stream": "stdout",
       "text": [
        "shuffleGeneSet for GeneSet 371/696 nperm: 1000\r\n"
       ]
      },
      {
       "output_type": "stream",
       "stream": "stdout",
       "text": [
        "GeneSetCohorted: 501 / 1000\r\n",
        "GeneSetCohorted_scored: 501 / 1000\r\n"
       ]
      },
      {
       "output_type": "stream",
       "stream": "stdout",
       "text": [
        "GeneSetCohorted: 501 / 1000\r\n"
       ]
      },
      {
       "output_type": "stream",
       "stream": "stdout",
       "text": [
        "GeneSetCohorted_scored: 501 / 1000\r\n"
       ]
      },
      {
       "output_type": "stream",
       "stream": "stdout",
       "text": [
        "GeneSetCohorted: 501 / 1000\r\n",
        "GeneSetCohorted_scored: 501 / 1000\r\n"
       ]
      },
      {
       "output_type": "stream",
       "stream": "stdout",
       "text": [
        "GeneSetCohorted: 501 / 1000\r\n",
        "GeneSetCohorted_scored: 501 / 1000\r\n"
       ]
      },
      {
       "output_type": "stream",
       "stream": "stdout",
       "text": [
        "GeneSetCohorted: 501 / 1000\r\n",
        "GeneSetCohorted_scored: 501 / 1000\r\n"
       ]
      },
      {
       "output_type": "stream",
       "stream": "stdout",
       "text": [
        "shuffleGeneSet for GeneSet 376/696 nperm: 1000\r\n"
       ]
      },
      {
       "output_type": "stream",
       "stream": "stdout",
       "text": [
        "GeneSetCohorted: 501 / 1000\r\n",
        "GeneSetCohorted_scored: 501 / 1000\r\n"
       ]
      },
      {
       "output_type": "stream",
       "stream": "stdout",
       "text": [
        "GeneSetCohorted: 501 / 1000\r\n"
       ]
      },
      {
       "output_type": "stream",
       "stream": "stdout",
       "text": [
        "GeneSetCohorted_scored: 501 / 1000\r\n"
       ]
      },
      {
       "output_type": "stream",
       "stream": "stdout",
       "text": [
        "GeneSetCohorted: 501 / 1000\r\n",
        "GeneSetCohorted_scored: 501 / 1000\r\n"
       ]
      },
      {
       "output_type": "stream",
       "stream": "stdout",
       "text": [
        "GeneSetCohorted: 501 / 1000\r\n",
        "GeneSetCohorted_scored: 501 / 1000\r\n"
       ]
      },
      {
       "output_type": "stream",
       "stream": "stdout",
       "text": [
        "GeneSetCohorted: 501 / 1000\r\n"
       ]
      },
      {
       "output_type": "stream",
       "stream": "stdout",
       "text": [
        "GeneSetCohorted_scored: 501 / 1000\r\n"
       ]
      },
      {
       "output_type": "stream",
       "stream": "stdout",
       "text": [
        "shuffleGeneSet for GeneSet 381/696 nperm: 1000\r\n"
       ]
      },
      {
       "output_type": "stream",
       "stream": "stdout",
       "text": [
        "GeneSetCohorted: 501 / 1000\r\n",
        "GeneSetCohorted_scored: 501 / 1000\r\n"
       ]
      },
      {
       "output_type": "stream",
       "stream": "stdout",
       "text": [
        "GeneSetCohorted: 501 / 1000\r\n",
        "GeneSetCohorted_scored: 501 / 1000\r\n"
       ]
      },
      {
       "output_type": "stream",
       "stream": "stdout",
       "text": [
        "GeneSetCohorted: 501 / 1000\r\n",
        "GeneSetCohorted_scored: 501 / 1000\r\n"
       ]
      },
      {
       "output_type": "stream",
       "stream": "stdout",
       "text": [
        "GeneSetCohorted: 501 / 1000\r\n",
        "GeneSetCohorted_scored: 501 / 1000\r\n"
       ]
      },
      {
       "output_type": "stream",
       "stream": "stdout",
       "text": [
        "GeneSetCohorted: 501 / 1000\r\n",
        "GeneSetCohorted_scored: 501 / 1000\r\n"
       ]
      },
      {
       "output_type": "stream",
       "stream": "stdout",
       "text": [
        "shuffleGeneSet for GeneSet 386/696 nperm: 1000\r\n"
       ]
      },
      {
       "output_type": "stream",
       "stream": "stdout",
       "text": [
        "GeneSetCohorted: 501 / 1000\r\n"
       ]
      },
      {
       "output_type": "stream",
       "stream": "stdout",
       "text": [
        "GeneSetCohorted_scored: 501 / 1000\r\n"
       ]
      },
      {
       "output_type": "stream",
       "stream": "stdout",
       "text": [
        "GeneSetCohorted: 501 / 1000\r\n",
        "GeneSetCohorted_scored: 501 / 1000\r\n"
       ]
      },
      {
       "output_type": "stream",
       "stream": "stdout",
       "text": [
        "GeneSetCohorted: 501 / 1000\r\n",
        "GeneSetCohorted_scored: 501 / 1000\r\n"
       ]
      },
      {
       "output_type": "stream",
       "stream": "stdout",
       "text": [
        "GeneSetCohorted: 501 / 1000\r\n",
        "GeneSetCohorted_scored: 501 / 1000\r\n"
       ]
      },
      {
       "output_type": "stream",
       "stream": "stdout",
       "text": [
        "GeneSetCohorted: 501 / 1000\r\n",
        "GeneSetCohorted_scored: 501 / 1000\r\n"
       ]
      },
      {
       "output_type": "stream",
       "stream": "stdout",
       "text": [
        "shuffleGeneSet for GeneSet 391/696 nperm: 1000\r\n",
        "GeneSetCohorted: 501 / 1000\r\n",
        "GeneSetCohorted_scored: 501 / 1000\r\n"
       ]
      },
      {
       "output_type": "stream",
       "stream": "stdout",
       "text": [
        "GeneSetCohorted: 501 / 1000\r\n",
        "GeneSetCohorted_scored: 501 / 1000\r\n"
       ]
      },
      {
       "output_type": "stream",
       "stream": "stdout",
       "text": [
        "GeneSetCohorted: 501 / 1000\r\n",
        "GeneSetCohorted_scored: 501 / 1000\r\n"
       ]
      },
      {
       "output_type": "stream",
       "stream": "stdout",
       "text": [
        "GeneSetCohorted: 501 / 1000\r\n"
       ]
      },
      {
       "output_type": "stream",
       "stream": "stdout",
       "text": [
        "GeneSetCohorted_scored: 501 / 1000\r\n"
       ]
      },
      {
       "output_type": "stream",
       "stream": "stdout",
       "text": [
        "GeneSetCohorted: 501 / 1000\r\n",
        "GeneSetCohorted_scored: 501 / 1000\r\n"
       ]
      },
      {
       "output_type": "stream",
       "stream": "stdout",
       "text": [
        "shuffleGeneSet for GeneSet 396/696 nperm: 1000\r\n"
       ]
      },
      {
       "output_type": "stream",
       "stream": "stdout",
       "text": [
        "GeneSetCohorted: 501 / 1000\r\n",
        "GeneSetCohorted_scored: 501 / 1000\r\n"
       ]
      },
      {
       "output_type": "stream",
       "stream": "stdout",
       "text": [
        "GeneSetCohorted: 501 / 1000\r\n",
        "GeneSetCohorted_scored: 501 / 1000\r\n"
       ]
      },
      {
       "output_type": "stream",
       "stream": "stdout",
       "text": [
        "GeneSetCohorted: 501 / 1000\r\n",
        "GeneSetCohorted_scored: 501 / 1000\r\n"
       ]
      },
      {
       "output_type": "stream",
       "stream": "stdout",
       "text": [
        "GeneSetCohorted: 501 / 1000\r\n",
        "GeneSetCohorted_scored: 501 / 1000\r\n"
       ]
      },
      {
       "output_type": "stream",
       "stream": "stdout",
       "text": [
        "GeneSetCohorted: 501 / 1000\r\n",
        "GeneSetCohorted_scored: 501 / 1000\r\n"
       ]
      },
      {
       "output_type": "stream",
       "stream": "stdout",
       "text": [
        "shuffleGeneSet for GeneSet 401/696 nperm: 1000\r\n"
       ]
      },
      {
       "output_type": "stream",
       "stream": "stdout",
       "text": [
        "GeneSetCohorted: 501 / 1000\r\n",
        "GeneSetCohorted_scored: 501 / 1000\r\n"
       ]
      },
      {
       "output_type": "stream",
       "stream": "stdout",
       "text": [
        "GeneSetCohorted: 501 / 1000\r\n"
       ]
      },
      {
       "output_type": "stream",
       "stream": "stdout",
       "text": [
        "GeneSetCohorted_scored: 501 / 1000\r\n"
       ]
      },
      {
       "output_type": "stream",
       "stream": "stdout",
       "text": [
        "GeneSetCohorted: 501 / 1000\r\n",
        "GeneSetCohorted_scored: 501 / 1000\r\n"
       ]
      },
      {
       "output_type": "stream",
       "stream": "stdout",
       "text": [
        "GeneSetCohorted: 501 / 1000\r\n",
        "GeneSetCohorted_scored: 501 / 1000\r\n"
       ]
      },
      {
       "output_type": "stream",
       "stream": "stdout",
       "text": [
        "GeneSetCohorted: 501 / 1000\r\n"
       ]
      },
      {
       "output_type": "stream",
       "stream": "stdout",
       "text": [
        "GeneSetCohorted_scored: 501 / 1000\r\n"
       ]
      },
      {
       "output_type": "stream",
       "stream": "stdout",
       "text": [
        "shuffleGeneSet for GeneSet 406/696 nperm: 1000\r\n"
       ]
      },
      {
       "output_type": "stream",
       "stream": "stdout",
       "text": [
        "GeneSetCohorted: 501 / 1000\r\n",
        "GeneSetCohorted_scored: 501 / 1000\r\n"
       ]
      },
      {
       "output_type": "stream",
       "stream": "stdout",
       "text": [
        "GeneSetCohorted: 501 / 1000\r\n",
        "GeneSetCohorted_scored: 501 / 1000\r\n"
       ]
      },
      {
       "output_type": "stream",
       "stream": "stdout",
       "text": [
        "GeneSetCohorted: 501 / 1000\r\n",
        "GeneSetCohorted_scored: 501 / 1000\r\n"
       ]
      },
      {
       "output_type": "stream",
       "stream": "stdout",
       "text": [
        "GeneSetCohorted: 501 / 1000\r\n",
        "GeneSetCohorted_scored: 501 / 1000\r\n"
       ]
      },
      {
       "output_type": "stream",
       "stream": "stdout",
       "text": [
        "GeneSetCohorted: 501 / 1000\r\n"
       ]
      },
      {
       "output_type": "stream",
       "stream": "stdout",
       "text": [
        "GeneSetCohorted_scored: 501 / 1000\r\n"
       ]
      },
      {
       "output_type": "stream",
       "stream": "stdout",
       "text": [
        "shuffleGeneSet for GeneSet 411/696 nperm: 1000\r\n"
       ]
      },
      {
       "output_type": "stream",
       "stream": "stdout",
       "text": [
        "GeneSetCohorted: 501 / 1000\r\n",
        "GeneSetCohorted_scored: 501 / 1000\r\n"
       ]
      },
      {
       "output_type": "stream",
       "stream": "stdout",
       "text": [
        "GeneSetCohorted: 501 / 1000\r\n",
        "GeneSetCohorted_scored: 501 / 1000\r\n"
       ]
      },
      {
       "output_type": "stream",
       "stream": "stdout",
       "text": [
        "GeneSetCohorted: 501 / 1000\r\n",
        "GeneSetCohorted_scored: 501 / 1000\r\n"
       ]
      },
      {
       "output_type": "stream",
       "stream": "stdout",
       "text": [
        "GeneSetCohorted: 501 / 1000\r\n",
        "GeneSetCohorted_scored: 501 / 1000\r\n"
       ]
      },
      {
       "output_type": "stream",
       "stream": "stdout",
       "text": [
        "GeneSetCohorted: 501 / 1000\r\n",
        "GeneSetCohorted_scored: 501 / 1000\r\n"
       ]
      },
      {
       "output_type": "stream",
       "stream": "stdout",
       "text": [
        "shuffleGeneSet for GeneSet 416/696 nperm: 1000\r\n"
       ]
      },
      {
       "output_type": "stream",
       "stream": "stdout",
       "text": [
        "GeneSetCohorted: 501 / 1000\r\n",
        "GeneSetCohorted_scored: 501 / 1000\r\n"
       ]
      },
      {
       "output_type": "stream",
       "stream": "stdout",
       "text": [
        "GeneSetCohorted: 501 / 1000\r\n",
        "GeneSetCohorted_scored: 501 / 1000\r\n"
       ]
      },
      {
       "output_type": "stream",
       "stream": "stdout",
       "text": [
        "GeneSetCohorted: 501 / 1000\r\n",
        "GeneSetCohorted_scored: 501 / 1000\r\n"
       ]
      },
      {
       "output_type": "stream",
       "stream": "stdout",
       "text": [
        "GeneSetCohorted: 501 / 1000\r\n"
       ]
      },
      {
       "output_type": "stream",
       "stream": "stdout",
       "text": [
        "GeneSetCohorted_scored: 501 / 1000\r\n"
       ]
      },
      {
       "output_type": "stream",
       "stream": "stdout",
       "text": [
        "GeneSetCohorted: 501 / 1000\r\n",
        "GeneSetCohorted_scored: 501 / 1000\r\n"
       ]
      },
      {
       "output_type": "stream",
       "stream": "stdout",
       "text": [
        "shuffleGeneSet for GeneSet 421/696 nperm: 1000\r\n"
       ]
      },
      {
       "output_type": "stream",
       "stream": "stdout",
       "text": [
        "GeneSetCohorted: 501 / 1000\r\n",
        "GeneSetCohorted_scored: 501 / 1000\r\n"
       ]
      },
      {
       "output_type": "stream",
       "stream": "stdout",
       "text": [
        "GeneSetCohorted: 501 / 1000\r\n"
       ]
      },
      {
       "output_type": "stream",
       "stream": "stdout",
       "text": [
        "GeneSetCohorted_scored: 501 / 1000\r\n"
       ]
      },
      {
       "output_type": "stream",
       "stream": "stdout",
       "text": [
        "GeneSetCohorted: 501 / 1000\r\n",
        "GeneSetCohorted_scored: 501 / 1000\r\n"
       ]
      },
      {
       "output_type": "stream",
       "stream": "stdout",
       "text": [
        "GeneSetCohorted: 501 / 1000\r\n",
        "GeneSetCohorted_scored: 501 / 1000\r\n"
       ]
      },
      {
       "output_type": "stream",
       "stream": "stdout",
       "text": [
        "GeneSetCohorted: 501 / 1000\r\n",
        "GeneSetCohorted_scored: 501 / 1000\r\n"
       ]
      },
      {
       "output_type": "stream",
       "stream": "stdout",
       "text": [
        "shuffleGeneSet for GeneSet 426/696 nperm: 1000\r\n"
       ]
      },
      {
       "output_type": "stream",
       "stream": "stdout",
       "text": [
        "GeneSetCohorted: 501 / 1000\r\n",
        "GeneSetCohorted_scored: 501 / 1000\r\n"
       ]
      },
      {
       "output_type": "stream",
       "stream": "stdout",
       "text": [
        "GeneSetCohorted: 501 / 1000\r\n",
        "GeneSetCohorted_scored: 501 / 1000\r\n"
       ]
      },
      {
       "output_type": "stream",
       "stream": "stdout",
       "text": [
        "GeneSetCohorted: 501 / 1000\r\n",
        "GeneSetCohorted_scored: 501 / 1000\r\n"
       ]
      },
      {
       "output_type": "stream",
       "stream": "stdout",
       "text": [
        "GeneSetCohorted: 501 / 1000\r\n",
        "GeneSetCohorted_scored: 501 / 1000\r\n"
       ]
      },
      {
       "output_type": "stream",
       "stream": "stdout",
       "text": [
        "GeneSetCohorted: 501 / 1000\r\n",
        "GeneSetCohorted_scored: 501 / 1000\r\n"
       ]
      },
      {
       "output_type": "stream",
       "stream": "stdout",
       "text": [
        "shuffleGeneSet for GeneSet 431/696 nperm: 1000\r\n"
       ]
      },
      {
       "output_type": "stream",
       "stream": "stdout",
       "text": [
        "GeneSetCohorted: 501 / 1000\r\n",
        "GeneSetCohorted_scored: 501 / 1000\r\n"
       ]
      },
      {
       "output_type": "stream",
       "stream": "stdout",
       "text": [
        "GeneSetCohorted: 501 / 1000\r\n",
        "GeneSetCohorted_scored: 501 / 1000\r\n"
       ]
      },
      {
       "output_type": "stream",
       "stream": "stdout",
       "text": [
        "GeneSetCohorted: 501 / 1000\r\n",
        "GeneSetCohorted_scored: 501 / 1000\r\n"
       ]
      },
      {
       "output_type": "stream",
       "stream": "stdout",
       "text": [
        "GeneSetCohorted: 501 / 1000\r\n",
        "GeneSetCohorted_scored: 501 / 1000\r\n"
       ]
      },
      {
       "output_type": "stream",
       "stream": "stdout",
       "text": [
        "GeneSetCohorted: 501 / 1000\r\n",
        "GeneSetCohorted_scored: 501 / 1000\r\n"
       ]
      },
      {
       "output_type": "stream",
       "stream": "stdout",
       "text": [
        "shuffleGeneSet for GeneSet 436/696 nperm: 1000\r\n"
       ]
      },
      {
       "output_type": "stream",
       "stream": "stdout",
       "text": [
        "GeneSetCohorted: 501 / 1000\r\n",
        "GeneSetCohorted_scored: 501 / 1000\r\n"
       ]
      },
      {
       "output_type": "stream",
       "stream": "stdout",
       "text": [
        "GeneSetCohorted: 501 / 1000\r\n",
        "GeneSetCohorted_scored: 501 / 1000\r\n"
       ]
      },
      {
       "output_type": "stream",
       "stream": "stdout",
       "text": [
        "GeneSetCohorted: 501 / 1000\r\n"
       ]
      },
      {
       "output_type": "stream",
       "stream": "stdout",
       "text": [
        "GeneSetCohorted_scored: 501 / 1000\r\n"
       ]
      },
      {
       "output_type": "stream",
       "stream": "stdout",
       "text": [
        "GeneSetCohorted: 501 / 1000\r\n",
        "GeneSetCohorted_scored: 501 / 1000\r\n"
       ]
      },
      {
       "output_type": "stream",
       "stream": "stdout",
       "text": [
        "GeneSetCohorted: 501 / 1000\r\n",
        "GeneSetCohorted_scored: 501 / 1000\r\n"
       ]
      },
      {
       "output_type": "stream",
       "stream": "stdout",
       "text": [
        "shuffleGeneSet for GeneSet 441/696 nperm: 1000\r\n"
       ]
      },
      {
       "output_type": "stream",
       "stream": "stdout",
       "text": [
        "GeneSetCohorted: 501 / 1000\r\n",
        "GeneSetCohorted_scored: 501 / 1000\r\n"
       ]
      },
      {
       "output_type": "stream",
       "stream": "stdout",
       "text": [
        "GeneSetCohorted: 501 / 1000\r\n",
        "GeneSetCohorted_scored: 501 / 1000\r\n"
       ]
      },
      {
       "output_type": "stream",
       "stream": "stdout",
       "text": [
        "GeneSetCohorted: 501 / 1000\r\n",
        "GeneSetCohorted_scored: 501 / 1000\r\n"
       ]
      },
      {
       "output_type": "stream",
       "stream": "stdout",
       "text": [
        "GeneSetCohorted: 501 / 1000\r\n",
        "GeneSetCohorted_scored: 501 / 1000\r\n"
       ]
      },
      {
       "output_type": "stream",
       "stream": "stdout",
       "text": [
        "GeneSetCohorted: 501 / 1000\r\n",
        "GeneSetCohorted_scored: 501 / 1000\r\n"
       ]
      },
      {
       "output_type": "stream",
       "stream": "stdout",
       "text": [
        "shuffleGeneSet for GeneSet 446/696 nperm: 1000\r\n"
       ]
      },
      {
       "output_type": "stream",
       "stream": "stdout",
       "text": [
        "GeneSetCohorted: 501 / 1000\r\n"
       ]
      },
      {
       "output_type": "stream",
       "stream": "stdout",
       "text": [
        "GeneSetCohorted_scored: 501 / 1000\r\n"
       ]
      },
      {
       "output_type": "stream",
       "stream": "stdout",
       "text": [
        "GeneSetCohorted: 501 / 1000\r\n",
        "GeneSetCohorted_scored: 501 / 1000\r\n"
       ]
      },
      {
       "output_type": "stream",
       "stream": "stdout",
       "text": [
        "GeneSetCohorted: 501 / 1000\r\n",
        "GeneSetCohorted_scored: 501 / 1000\r\n"
       ]
      },
      {
       "output_type": "stream",
       "stream": "stdout",
       "text": [
        "GeneSetCohorted: 501 / 1000\r\n",
        "GeneSetCohorted_scored: 501 / 1000\r\n"
       ]
      },
      {
       "output_type": "stream",
       "stream": "stdout",
       "text": [
        "GeneSetCohorted: 501 / 1000\r\n",
        "GeneSetCohorted_scored: 501 / 1000\r\n"
       ]
      },
      {
       "output_type": "stream",
       "stream": "stdout",
       "text": [
        "shuffleGeneSet for GeneSet 451/696 nperm: 1000\r\n"
       ]
      },
      {
       "output_type": "stream",
       "stream": "stdout",
       "text": [
        "GeneSetCohorted: 501 / 1000\r\n",
        "GeneSetCohorted_scored: 501 / 1000\r\n"
       ]
      },
      {
       "output_type": "stream",
       "stream": "stdout",
       "text": [
        "GeneSetCohorted: 501 / 1000\r\n",
        "GeneSetCohorted_scored: 501 / 1000\r\n"
       ]
      },
      {
       "output_type": "stream",
       "stream": "stdout",
       "text": [
        "GeneSetCohorted: 501 / 1000\r\n",
        "GeneSetCohorted_scored: 501 / 1000\r\n"
       ]
      },
      {
       "output_type": "stream",
       "stream": "stdout",
       "text": [
        "GeneSetCohorted: 501 / 1000\r\n",
        "GeneSetCohorted_scored: 501 / 1000\r\n"
       ]
      },
      {
       "output_type": "stream",
       "stream": "stdout",
       "text": [
        "GeneSetCohorted: 501 / 1000\r\n",
        "GeneSetCohorted_scored: 501 / 1000\r\n"
       ]
      },
      {
       "output_type": "stream",
       "stream": "stdout",
       "text": [
        "shuffleGeneSet for GeneSet 456/696 nperm: 1000\r\n"
       ]
      },
      {
       "output_type": "stream",
       "stream": "stdout",
       "text": [
        "GeneSetCohorted: 501 / 1000\r\n",
        "GeneSetCohorted_scored: 501 / 1000\r\n"
       ]
      },
      {
       "output_type": "stream",
       "stream": "stdout",
       "text": [
        "GeneSetCohorted: 501 / 1000\r\n",
        "GeneSetCohorted_scored: 501 / 1000\r\n"
       ]
      },
      {
       "output_type": "stream",
       "stream": "stdout",
       "text": [
        "GeneSetCohorted: 501 / 1000\r\n"
       ]
      },
      {
       "output_type": "stream",
       "stream": "stdout",
       "text": [
        "GeneSetCohorted_scored: 501 / 1000\r\n"
       ]
      },
      {
       "output_type": "stream",
       "stream": "stdout",
       "text": [
        "GeneSetCohorted: 501 / 1000\r\n",
        "GeneSetCohorted_scored: 501 / 1000\r\n"
       ]
      },
      {
       "output_type": "stream",
       "stream": "stdout",
       "text": [
        "GeneSetCohorted: 501 / 1000\r\n",
        "GeneSetCohorted_scored: 501 / 1000\r\n"
       ]
      },
      {
       "output_type": "stream",
       "stream": "stdout",
       "text": [
        "shuffleGeneSet for GeneSet 461/696 nperm: 1000\r\n"
       ]
      },
      {
       "output_type": "stream",
       "stream": "stdout",
       "text": [
        "GeneSetCohorted: 501 / 1000\r\n",
        "GeneSetCohorted_scored: 501 / 1000\r\n"
       ]
      },
      {
       "output_type": "stream",
       "stream": "stdout",
       "text": [
        "GeneSetCohorted: 501 / 1000\r\n",
        "GeneSetCohorted_scored: 501 / 1000\r\n"
       ]
      },
      {
       "output_type": "stream",
       "stream": "stdout",
       "text": [
        "GeneSetCohorted: 501 / 1000\r\n",
        "GeneSetCohorted_scored: 501 / 1000\r\n"
       ]
      },
      {
       "output_type": "stream",
       "stream": "stdout",
       "text": [
        "GeneSetCohorted: 501 / 1000\r\n",
        "GeneSetCohorted_scored: 501 / 1000\r\n"
       ]
      },
      {
       "output_type": "stream",
       "stream": "stdout",
       "text": [
        "GeneSetCohorted: 501 / 1000\r\n",
        "GeneSetCohorted_scored: 501 / 1000\r\n"
       ]
      },
      {
       "output_type": "stream",
       "stream": "stdout",
       "text": [
        "shuffleGeneSet for GeneSet 466/696 nperm: 1000\r\n"
       ]
      },
      {
       "output_type": "stream",
       "stream": "stdout",
       "text": [
        "GeneSetCohorted: 501 / 1000\r\n",
        "GeneSetCohorted_scored: 501 / 1000\r\n"
       ]
      },
      {
       "output_type": "stream",
       "stream": "stdout",
       "text": [
        "GeneSetCohorted: 501 / 1000\r\n",
        "GeneSetCohorted_scored: 501 / 1000\r\n"
       ]
      },
      {
       "output_type": "stream",
       "stream": "stdout",
       "text": [
        "GeneSetCohorted: 501 / 1000\r\n",
        "GeneSetCohorted_scored: 501 / 1000\r\n"
       ]
      },
      {
       "output_type": "stream",
       "stream": "stdout",
       "text": [
        "GeneSetCohorted: 501 / 1000\r\n",
        "GeneSetCohorted_scored: 501 / 1000\r\n"
       ]
      },
      {
       "output_type": "stream",
       "stream": "stdout",
       "text": [
        "GeneSetCohorted: 501 / 1000\r\n"
       ]
      },
      {
       "output_type": "stream",
       "stream": "stdout",
       "text": [
        "GeneSetCohorted_scored: 501 / 1000\r\n"
       ]
      },
      {
       "output_type": "stream",
       "stream": "stdout",
       "text": [
        "shuffleGeneSet for GeneSet 471/696 nperm: 1000\r\n"
       ]
      },
      {
       "output_type": "stream",
       "stream": "stdout",
       "text": [
        "GeneSetCohorted: 501 / 1000\r\n"
       ]
      },
      {
       "output_type": "stream",
       "stream": "stdout",
       "text": [
        "GeneSetCohorted_scored: 501 / 1000\r\n"
       ]
      },
      {
       "output_type": "stream",
       "stream": "stdout",
       "text": [
        "GeneSetCohorted: 501 / 1000\r\n",
        "GeneSetCohorted_scored: 501 / 1000\r\n"
       ]
      },
      {
       "output_type": "stream",
       "stream": "stdout",
       "text": [
        "GeneSetCohorted: 501 / 1000\r\n",
        "GeneSetCohorted_scored: 501 / 1000\r\n"
       ]
      },
      {
       "output_type": "stream",
       "stream": "stdout",
       "text": [
        "GeneSetCohorted: 501 / 1000\r\n",
        "GeneSetCohorted_scored: 501 / 1000\r\n"
       ]
      },
      {
       "output_type": "stream",
       "stream": "stdout",
       "text": [
        "GeneSetCohorted: 501 / 1000\r\n"
       ]
      },
      {
       "output_type": "stream",
       "stream": "stdout",
       "text": [
        "GeneSetCohorted_scored: 501 / 1000\r\n"
       ]
      },
      {
       "output_type": "stream",
       "stream": "stdout",
       "text": [
        "shuffleGeneSet for GeneSet 476/696 nperm: 1000\r\n"
       ]
      },
      {
       "output_type": "stream",
       "stream": "stdout",
       "text": [
        "GeneSetCohorted: 501 / 1000\r\n",
        "GeneSetCohorted_scored: 501 / 1000\r\n"
       ]
      },
      {
       "output_type": "stream",
       "stream": "stdout",
       "text": [
        "GeneSetCohorted: 501 / 1000\r\n",
        "GeneSetCohorted_scored: 501 / 1000\r\n"
       ]
      },
      {
       "output_type": "stream",
       "stream": "stdout",
       "text": [
        "GeneSetCohorted: 501 / 1000\r\n",
        "GeneSetCohorted_scored: 501 / 1000\r\n"
       ]
      },
      {
       "output_type": "stream",
       "stream": "stdout",
       "text": [
        "GeneSetCohorted: 501 / 1000\r\n",
        "GeneSetCohorted_scored: 501 / 1000\r\n"
       ]
      },
      {
       "output_type": "stream",
       "stream": "stdout",
       "text": [
        "GeneSetCohorted: 501 / 1000\r\n",
        "GeneSetCohorted_scored: 501 / 1000\r\n"
       ]
      },
      {
       "output_type": "stream",
       "stream": "stdout",
       "text": [
        "shuffleGeneSet for GeneSet 481/696 nperm: 1000\r\n"
       ]
      },
      {
       "output_type": "stream",
       "stream": "stdout",
       "text": [
        "GeneSetCohorted: 501 / 1000\r\n",
        "GeneSetCohorted_scored: 501 / 1000\r\n"
       ]
      },
      {
       "output_type": "stream",
       "stream": "stdout",
       "text": [
        "GeneSetCohorted: 501 / 1000\r\n",
        "GeneSetCohorted_scored: 501 / 1000\r\n"
       ]
      },
      {
       "output_type": "stream",
       "stream": "stdout",
       "text": [
        "GeneSetCohorted: 501 / 1000\r\n",
        "GeneSetCohorted_scored: 501 / 1000\r\n"
       ]
      },
      {
       "output_type": "stream",
       "stream": "stdout",
       "text": [
        "GeneSetCohorted: 501 / 1000\r\n",
        "GeneSetCohorted_scored: 501 / 1000\r\n"
       ]
      },
      {
       "output_type": "stream",
       "stream": "stdout",
       "text": [
        "GeneSetCohorted: 501 / 1000\r\n"
       ]
      },
      {
       "output_type": "stream",
       "stream": "stdout",
       "text": [
        "GeneSetCohorted_scored: 501 / 1000\r\n"
       ]
      },
      {
       "output_type": "stream",
       "stream": "stdout",
       "text": [
        "shuffleGeneSet for GeneSet 486/696 nperm: 1000\r\n"
       ]
      },
      {
       "output_type": "stream",
       "stream": "stdout",
       "text": [
        "GeneSetCohorted: 501 / 1000\r\n",
        "GeneSetCohorted_scored: 501 / 1000\r\n"
       ]
      },
      {
       "output_type": "stream",
       "stream": "stdout",
       "text": [
        "GeneSetCohorted: 501 / 1000\r\n",
        "GeneSetCohorted_scored: 501 / 1000\r\n"
       ]
      },
      {
       "output_type": "stream",
       "stream": "stdout",
       "text": [
        "GeneSetCohorted: 501 / 1000\r\n",
        "GeneSetCohorted_scored: 501 / 1000\r\n"
       ]
      },
      {
       "output_type": "stream",
       "stream": "stdout",
       "text": [
        "GeneSetCohorted: 501 / 1000\r\n",
        "GeneSetCohorted_scored: 501 / 1000\r\n"
       ]
      },
      {
       "output_type": "stream",
       "stream": "stdout",
       "text": [
        "GeneSetCohorted: 501 / 1000\r\n",
        "GeneSetCohorted_scored: 501 / 1000\r\n"
       ]
      },
      {
       "output_type": "stream",
       "stream": "stdout",
       "text": [
        "shuffleGeneSet for GeneSet 491/696 nperm: 1000\r\n"
       ]
      },
      {
       "output_type": "stream",
       "stream": "stdout",
       "text": [
        "GeneSetCohorted: 501 / 1000\r\n",
        "GeneSetCohorted_scored: 501 / 1000\r\n"
       ]
      },
      {
       "output_type": "stream",
       "stream": "stdout",
       "text": [
        "GeneSetCohorted: 501 / 1000\r\n",
        "GeneSetCohorted_scored: 501 / 1000\r\n"
       ]
      },
      {
       "output_type": "stream",
       "stream": "stdout",
       "text": [
        "GeneSetCohorted: 501 / 1000\r\n",
        "GeneSetCohorted_scored: 501 / 1000\r\n"
       ]
      },
      {
       "output_type": "stream",
       "stream": "stdout",
       "text": [
        "GeneSetCohorted: 501 / 1000\r\n"
       ]
      },
      {
       "output_type": "stream",
       "stream": "stdout",
       "text": [
        "GeneSetCohorted_scored: 501 / 1000\r\n"
       ]
      },
      {
       "output_type": "stream",
       "stream": "stdout",
       "text": [
        "GeneSetCohorted: 501 / 1000\r\n",
        "GeneSetCohorted_scored: 501 / 1000\r\n"
       ]
      },
      {
       "output_type": "stream",
       "stream": "stdout",
       "text": [
        "shuffleGeneSet for GeneSet 496/696 nperm: 1000\r\n"
       ]
      },
      {
       "output_type": "stream",
       "stream": "stdout",
       "text": [
        "GeneSetCohorted: 501 / 1000\r\n",
        "GeneSetCohorted_scored: 501 / 1000\r\n"
       ]
      },
      {
       "output_type": "stream",
       "stream": "stdout",
       "text": [
        "GeneSetCohorted: 501 / 1000\r\n",
        "GeneSetCohorted_scored: 501 / 1000\r\n"
       ]
      },
      {
       "output_type": "stream",
       "stream": "stdout",
       "text": [
        "GeneSetCohorted: 501 / 1000\r\n",
        "GeneSetCohorted_scored: 501 / 1000\r\n"
       ]
      },
      {
       "output_type": "stream",
       "stream": "stdout",
       "text": [
        "GeneSetCohorted: 501 / 1000\r\n",
        "GeneSetCohorted_scored: 501 / 1000\r\n"
       ]
      },
      {
       "output_type": "stream",
       "stream": "stdout",
       "text": [
        "GeneSetCohorted: 501 / 1000\r\n",
        "GeneSetCohorted_scored: 501 / 1000\r\n"
       ]
      },
      {
       "output_type": "stream",
       "stream": "stdout",
       "text": [
        "shuffleGeneSet for GeneSet 501/696 nperm: 1000\r\n"
       ]
      },
      {
       "output_type": "stream",
       "stream": "stdout",
       "text": [
        "GeneSetCohorted: 501 / 1000\r\n",
        "GeneSetCohorted_scored: 501 / 1000\r\n"
       ]
      },
      {
       "output_type": "stream",
       "stream": "stdout",
       "text": [
        "GeneSetCohorted: 501 / 1000\r\n",
        "GeneSetCohorted_scored: 501 / 1000\r\n"
       ]
      },
      {
       "output_type": "stream",
       "stream": "stdout",
       "text": [
        "GeneSetCohorted: 501 / 1000\r\n"
       ]
      },
      {
       "output_type": "stream",
       "stream": "stdout",
       "text": [
        "GeneSetCohorted_scored: 501 / 1000\r\n"
       ]
      },
      {
       "output_type": "stream",
       "stream": "stdout",
       "text": [
        "GeneSetCohorted: 501 / 1000\r\n"
       ]
      },
      {
       "output_type": "stream",
       "stream": "stdout",
       "text": [
        "GeneSetCohorted_scored: 501 / 1000\r\n"
       ]
      },
      {
       "output_type": "stream",
       "stream": "stdout",
       "text": [
        "GeneSetCohorted: 501 / 1000\r\n",
        "GeneSetCohorted_scored: 501 / 1000\r\n"
       ]
      },
      {
       "output_type": "stream",
       "stream": "stdout",
       "text": [
        "shuffleGeneSet for GeneSet 506/696 nperm: 1000\r\n",
        "GeneSetCohorted: 501 / 1000\r\n"
       ]
      },
      {
       "output_type": "stream",
       "stream": "stdout",
       "text": [
        "GeneSetCohorted_scored: 501 / 1000\r\n"
       ]
      },
      {
       "output_type": "stream",
       "stream": "stdout",
       "text": [
        "GeneSetCohorted: 501 / 1000\r\n",
        "GeneSetCohorted_scored: 501 / 1000\r\n"
       ]
      },
      {
       "output_type": "stream",
       "stream": "stdout",
       "text": [
        "GeneSetCohorted: 501 / 1000\r\n",
        "GeneSetCohorted_scored: 501 / 1000\r\n"
       ]
      },
      {
       "output_type": "stream",
       "stream": "stdout",
       "text": [
        "GeneSetCohorted: 501 / 1000\r\n",
        "GeneSetCohorted_scored: 501 / 1000\r\n"
       ]
      },
      {
       "output_type": "stream",
       "stream": "stdout",
       "text": [
        "GeneSetCohorted: 501 / 1000\r\n",
        "GeneSetCohorted_scored: 501 / 1000\r\n"
       ]
      },
      {
       "output_type": "stream",
       "stream": "stdout",
       "text": [
        "shuffleGeneSet for GeneSet 511/696 nperm: 1000\r\n"
       ]
      },
      {
       "output_type": "stream",
       "stream": "stdout",
       "text": [
        "GeneSetCohorted: 501 / 1000\r\n",
        "GeneSetCohorted_scored: 501 / 1000\r\n"
       ]
      },
      {
       "output_type": "stream",
       "stream": "stdout",
       "text": [
        "GeneSetCohorted: 501 / 1000\r\n",
        "GeneSetCohorted_scored: 501 / 1000\r\n"
       ]
      },
      {
       "output_type": "stream",
       "stream": "stdout",
       "text": [
        "GeneSetCohorted: 501 / 1000\r\n"
       ]
      },
      {
       "output_type": "stream",
       "stream": "stdout",
       "text": [
        "GeneSetCohorted_scored: 501 / 1000\r\n"
       ]
      },
      {
       "output_type": "stream",
       "stream": "stdout",
       "text": [
        "GeneSetCohorted: 501 / 1000\r\n",
        "GeneSetCohorted_scored: 501 / 1000\r\n"
       ]
      },
      {
       "output_type": "stream",
       "stream": "stdout",
       "text": [
        "GeneSetCohorted: 501 / 1000\r\n",
        "GeneSetCohorted_scored: 501 / 1000\r\n"
       ]
      },
      {
       "output_type": "stream",
       "stream": "stdout",
       "text": [
        "shuffleGeneSet for GeneSet 516/696 nperm: 1000\r\n"
       ]
      },
      {
       "output_type": "stream",
       "stream": "stdout",
       "text": [
        "GeneSetCohorted: 501 / 1000\r\n"
       ]
      },
      {
       "output_type": "stream",
       "stream": "stdout",
       "text": [
        "GeneSetCohorted_scored: 501 / 1000\r\n"
       ]
      },
      {
       "output_type": "stream",
       "stream": "stdout",
       "text": [
        "GeneSetCohorted: 501 / 1000\r\n",
        "GeneSetCohorted_scored: 501 / 1000\r\n"
       ]
      },
      {
       "output_type": "stream",
       "stream": "stdout",
       "text": [
        "GeneSetCohorted: 501 / 1000\r\n"
       ]
      },
      {
       "output_type": "stream",
       "stream": "stdout",
       "text": [
        "GeneSetCohorted_scored: 501 / 1000\r\n"
       ]
      },
      {
       "output_type": "stream",
       "stream": "stdout",
       "text": [
        "GeneSetCohorted: 501 / 1000\r\n"
       ]
      },
      {
       "output_type": "stream",
       "stream": "stdout",
       "text": [
        "GeneSetCohorted_scored: 501 / 1000\r\n"
       ]
      },
      {
       "output_type": "stream",
       "stream": "stdout",
       "text": [
        "GeneSetCohorted: 501 / 1000\r\n",
        "GeneSetCohorted_scored: 501 / 1000\r\n"
       ]
      },
      {
       "output_type": "stream",
       "stream": "stdout",
       "text": [
        "shuffleGeneSet for GeneSet 521/696 nperm: 1000\r\n"
       ]
      },
      {
       "output_type": "stream",
       "stream": "stdout",
       "text": [
        "GeneSetCohorted: 501 / 1000\r\n",
        "GeneSetCohorted_scored: 501 / 1000\r\n"
       ]
      },
      {
       "output_type": "stream",
       "stream": "stdout",
       "text": [
        "GeneSetCohorted: 501 / 1000\r\n"
       ]
      },
      {
       "output_type": "stream",
       "stream": "stdout",
       "text": [
        "GeneSetCohorted_scored: 501 / 1000\r\n"
       ]
      },
      {
       "output_type": "stream",
       "stream": "stdout",
       "text": [
        "GeneSetCohorted: 501 / 1000\r\n",
        "GeneSetCohorted_scored: 501 / 1000\r\n"
       ]
      },
      {
       "output_type": "stream",
       "stream": "stdout",
       "text": [
        "GeneSetCohorted: 501 / 1000\r\n",
        "GeneSetCohorted_scored: 501 / 1000\r\n"
       ]
      },
      {
       "output_type": "stream",
       "stream": "stdout",
       "text": [
        "GeneSetCohorted: 501 / 1000\r\n",
        "GeneSetCohorted_scored: 501 / 1000\r\n"
       ]
      },
      {
       "output_type": "stream",
       "stream": "stdout",
       "text": [
        "shuffleGeneSet for GeneSet 526/696 nperm: 1000\r\n"
       ]
      },
      {
       "output_type": "stream",
       "stream": "stdout",
       "text": [
        "GeneSetCohorted: 501 / 1000\r\n",
        "GeneSetCohorted_scored: 501 / 1000\r\n"
       ]
      },
      {
       "output_type": "stream",
       "stream": "stdout",
       "text": [
        "GeneSetCohorted: 501 / 1000\r\n",
        "GeneSetCohorted_scored: 501 / 1000\r\n"
       ]
      },
      {
       "output_type": "stream",
       "stream": "stdout",
       "text": [
        "GeneSetCohorted: 501 / 1000\r\n",
        "GeneSetCohorted_scored: 501 / 1000\r\n"
       ]
      },
      {
       "output_type": "stream",
       "stream": "stdout",
       "text": [
        "GeneSetCohorted: 501 / 1000\r\n",
        "GeneSetCohorted_scored: 501 / 1000\r\n"
       ]
      },
      {
       "output_type": "stream",
       "stream": "stdout",
       "text": [
        "GeneSetCohorted: 501 / 1000\r\n",
        "GeneSetCohorted_scored: 501 / 1000\r\n"
       ]
      },
      {
       "output_type": "stream",
       "stream": "stdout",
       "text": [
        "shuffleGeneSet for GeneSet 531/696 nperm: 1000\r\n"
       ]
      },
      {
       "output_type": "stream",
       "stream": "stdout",
       "text": [
        "GeneSetCohorted: 501 / 1000\r\n"
       ]
      },
      {
       "output_type": "stream",
       "stream": "stdout",
       "text": [
        "GeneSetCohorted_scored: 501 / 1000\r\n"
       ]
      },
      {
       "output_type": "stream",
       "stream": "stdout",
       "text": [
        "GeneSetCohorted: 501 / 1000\r\n",
        "GeneSetCohorted_scored: 501 / 1000\r\n"
       ]
      },
      {
       "output_type": "stream",
       "stream": "stdout",
       "text": [
        "GeneSetCohorted: 501 / 1000\r\n",
        "GeneSetCohorted_scored: 501 / 1000\r\n"
       ]
      },
      {
       "output_type": "stream",
       "stream": "stdout",
       "text": [
        "GeneSetCohorted: 501 / 1000\r\n",
        "GeneSetCohorted_scored: 501 / 1000\r\n"
       ]
      },
      {
       "output_type": "stream",
       "stream": "stdout",
       "text": [
        "GeneSetCohorted: 501 / 1000\r\n",
        "GeneSetCohorted_scored: 501 / 1000\r\n"
       ]
      },
      {
       "output_type": "stream",
       "stream": "stdout",
       "text": [
        "shuffleGeneSet for GeneSet 536/696 nperm: 1000\r\n"
       ]
      },
      {
       "output_type": "stream",
       "stream": "stdout",
       "text": [
        "GeneSetCohorted: 501 / 1000\r\n",
        "GeneSetCohorted_scored: 501 / 1000\r\n"
       ]
      },
      {
       "output_type": "stream",
       "stream": "stdout",
       "text": [
        "GeneSetCohorted: 501 / 1000\r\n"
       ]
      },
      {
       "output_type": "stream",
       "stream": "stdout",
       "text": [
        "GeneSetCohorted_scored: 501 / 1000\r\n"
       ]
      },
      {
       "output_type": "stream",
       "stream": "stdout",
       "text": [
        "GeneSetCohorted: 501 / 1000\r\n",
        "GeneSetCohorted_scored: 501 / 1000\r\n"
       ]
      },
      {
       "output_type": "stream",
       "stream": "stdout",
       "text": [
        "GeneSetCohorted: 501 / 1000\r\n",
        "GeneSetCohorted_scored: 501 / 1000\r\n"
       ]
      },
      {
       "output_type": "stream",
       "stream": "stdout",
       "text": [
        "GeneSetCohorted: 501 / 1000\r\n",
        "GeneSetCohorted_scored: 501 / 1000\r\n"
       ]
      },
      {
       "output_type": "stream",
       "stream": "stdout",
       "text": [
        "shuffleGeneSet for GeneSet 541/696 nperm: 1000\r\n"
       ]
      },
      {
       "output_type": "stream",
       "stream": "stdout",
       "text": [
        "GeneSetCohorted: 501 / 1000\r\n",
        "GeneSetCohorted_scored: 501 / 1000\r\n"
       ]
      },
      {
       "output_type": "stream",
       "stream": "stdout",
       "text": [
        "GeneSetCohorted: 501 / 1000\r\n",
        "GeneSetCohorted_scored: 501 / 1000\r\n"
       ]
      },
      {
       "output_type": "stream",
       "stream": "stdout",
       "text": [
        "GeneSetCohorted: 501 / 1000\r\n",
        "GeneSetCohorted_scored: 501 / 1000\r\n"
       ]
      },
      {
       "output_type": "stream",
       "stream": "stdout",
       "text": [
        "GeneSetCohorted: 501 / 1000\r\n",
        "GeneSetCohorted_scored: 501 / 1000\r\n"
       ]
      },
      {
       "output_type": "stream",
       "stream": "stdout",
       "text": [
        "GeneSetCohorted: 501 / 1000\r\n",
        "GeneSetCohorted_scored: 501 / 1000\r\n"
       ]
      },
      {
       "output_type": "stream",
       "stream": "stdout",
       "text": [
        "shuffleGeneSet for GeneSet 546/696 nperm: 1000\r\n"
       ]
      },
      {
       "output_type": "stream",
       "stream": "stdout",
       "text": [
        "GeneSetCohorted: 501 / 1000\r\n",
        "GeneSetCohorted_scored: 501 / 1000\r\n"
       ]
      },
      {
       "output_type": "stream",
       "stream": "stdout",
       "text": [
        "GeneSetCohorted: 501 / 1000\r\n",
        "GeneSetCohorted_scored: 501 / 1000\r\n"
       ]
      },
      {
       "output_type": "stream",
       "stream": "stdout",
       "text": [
        "GeneSetCohorted: 501 / 1000\r\n",
        "GeneSetCohorted_scored: 501 / 1000\r\n"
       ]
      },
      {
       "output_type": "stream",
       "stream": "stdout",
       "text": [
        "GeneSetCohorted: 501 / 1000\r\n",
        "GeneSetCohorted_scored: 501 / 1000\r\n"
       ]
      },
      {
       "output_type": "stream",
       "stream": "stdout",
       "text": [
        "GeneSetCohorted: 501 / 1000\r\n",
        "GeneSetCohorted_scored: 501 / 1000\r\n"
       ]
      },
      {
       "output_type": "stream",
       "stream": "stdout",
       "text": [
        "shuffleGeneSet for GeneSet 551/696 nperm: 1000\r\n",
        "GeneSetCohorted: 501 / 1000\r\n",
        "GeneSetCohorted_scored: 501 / 1000\r\n"
       ]
      },
      {
       "output_type": "stream",
       "stream": "stdout",
       "text": [
        "GeneSetCohorted: 501 / 1000\r\n"
       ]
      },
      {
       "output_type": "stream",
       "stream": "stdout",
       "text": [
        "GeneSetCohorted_scored: 501 / 1000\r\n"
       ]
      },
      {
       "output_type": "stream",
       "stream": "stdout",
       "text": [
        "GeneSetCohorted: 501 / 1000\r\n"
       ]
      },
      {
       "output_type": "stream",
       "stream": "stdout",
       "text": [
        "GeneSetCohorted_scored: 501 / 1000\r\n"
       ]
      },
      {
       "output_type": "stream",
       "stream": "stdout",
       "text": [
        "GeneSetCohorted: 501 / 1000\r\n",
        "GeneSetCohorted_scored: 501 / 1000\r\n"
       ]
      },
      {
       "output_type": "stream",
       "stream": "stdout",
       "text": [
        "GeneSetCohorted: 501 / 1000\r\n",
        "GeneSetCohorted_scored: 501 / 1000\r\n"
       ]
      },
      {
       "output_type": "stream",
       "stream": "stdout",
       "text": [
        "shuffleGeneSet for GeneSet 556/696 nperm: 1000\r\n"
       ]
      },
      {
       "output_type": "stream",
       "stream": "stdout",
       "text": [
        "GeneSetCohorted: 501 / 1000\r\n",
        "GeneSetCohorted_scored: 501 / 1000\r\n"
       ]
      },
      {
       "output_type": "stream",
       "stream": "stdout",
       "text": [
        "GeneSetCohorted: 501 / 1000\r\n"
       ]
      },
      {
       "output_type": "stream",
       "stream": "stdout",
       "text": [
        "GeneSetCohorted_scored: 501 / 1000\r\n"
       ]
      },
      {
       "output_type": "stream",
       "stream": "stdout",
       "text": [
        "GeneSetCohorted: 501 / 1000\r\n",
        "GeneSetCohorted_scored: 501 / 1000\r\n"
       ]
      },
      {
       "output_type": "stream",
       "stream": "stdout",
       "text": [
        "GeneSetCohorted: 501 / 1000\r\n",
        "GeneSetCohorted_scored: 501 / 1000\r\n"
       ]
      },
      {
       "output_type": "stream",
       "stream": "stdout",
       "text": [
        "GeneSetCohorted: 501 / 1000\r\n",
        "GeneSetCohorted_scored: 501 / 1000\r\n"
       ]
      },
      {
       "output_type": "stream",
       "stream": "stdout",
       "text": [
        "shuffleGeneSet for GeneSet 561/696 nperm: 1000\r\n",
        "GeneSetCohorted: 501 / 1000\r\n",
        "GeneSetCohorted_scored: 501 / 1000\r\n"
       ]
      },
      {
       "output_type": "stream",
       "stream": "stdout",
       "text": [
        "GeneSetCohorted: 501 / 1000\r\n"
       ]
      },
      {
       "output_type": "stream",
       "stream": "stdout",
       "text": [
        "GeneSetCohorted_scored: 501 / 1000\r\n"
       ]
      },
      {
       "output_type": "stream",
       "stream": "stdout",
       "text": [
        "GeneSetCohorted: 501 / 1000\r\n",
        "GeneSetCohorted_scored: 501 / 1000\r\n"
       ]
      },
      {
       "output_type": "stream",
       "stream": "stdout",
       "text": [
        "GeneSetCohorted: 501 / 1000\r\n",
        "GeneSetCohorted_scored: 501 / 1000\r\n"
       ]
      },
      {
       "output_type": "stream",
       "stream": "stdout",
       "text": [
        "GeneSetCohorted: 501 / 1000\r\n",
        "GeneSetCohorted_scored: 501 / 1000\r\n"
       ]
      },
      {
       "output_type": "stream",
       "stream": "stdout",
       "text": [
        "shuffleGeneSet for GeneSet 566/696 nperm: 1000\r\n"
       ]
      },
      {
       "output_type": "stream",
       "stream": "stdout",
       "text": [
        "GeneSetCohorted: 501 / 1000\r\n"
       ]
      },
      {
       "output_type": "stream",
       "stream": "stdout",
       "text": [
        "GeneSetCohorted_scored: 501 / 1000\r\n"
       ]
      },
      {
       "output_type": "stream",
       "stream": "stdout",
       "text": [
        "GeneSetCohorted: 501 / 1000\r\n"
       ]
      },
      {
       "output_type": "stream",
       "stream": "stdout",
       "text": [
        "GeneSetCohorted_scored: 501 / 1000\r\n"
       ]
      },
      {
       "output_type": "stream",
       "stream": "stdout",
       "text": [
        "GeneSetCohorted: 501 / 1000\r\n",
        "GeneSetCohorted_scored: 501 / 1000\r\n"
       ]
      },
      {
       "output_type": "stream",
       "stream": "stdout",
       "text": [
        "GeneSetCohorted: 501 / 1000\r\n",
        "GeneSetCohorted_scored: 501 / 1000\r\n"
       ]
      },
      {
       "output_type": "stream",
       "stream": "stdout",
       "text": [
        "GeneSetCohorted: 501 / 1000\r\n",
        "GeneSetCohorted_scored: 501 / 1000\r\n"
       ]
      },
      {
       "output_type": "stream",
       "stream": "stdout",
       "text": [
        "shuffleGeneSet for GeneSet 571/696 nperm: 1000\r\n"
       ]
      },
      {
       "output_type": "stream",
       "stream": "stdout",
       "text": [
        "GeneSetCohorted: 501 / 1000\r\n",
        "GeneSetCohorted_scored: 501 / 1000\r\n"
       ]
      },
      {
       "output_type": "stream",
       "stream": "stdout",
       "text": [
        "GeneSetCohorted: 501 / 1000\r\n",
        "GeneSetCohorted_scored: 501 / 1000\r\n"
       ]
      },
      {
       "output_type": "stream",
       "stream": "stdout",
       "text": [
        "GeneSetCohorted: 501 / 1000\r\n",
        "GeneSetCohorted_scored: 501 / 1000\r\n"
       ]
      },
      {
       "output_type": "stream",
       "stream": "stdout",
       "text": [
        "GeneSetCohorted: 501 / 1000\r\n",
        "GeneSetCohorted_scored: 501 / 1000\r\n"
       ]
      },
      {
       "output_type": "stream",
       "stream": "stdout",
       "text": [
        "GeneSetCohorted: 501 / 1000\r\n",
        "GeneSetCohorted_scored: 501 / 1000\r\n"
       ]
      },
      {
       "output_type": "stream",
       "stream": "stdout",
       "text": [
        "shuffleGeneSet for GeneSet 576/696 nperm: 1000\r\n",
        "GeneSetCohorted: 501 / 1000\r\n",
        "GeneSetCohorted_scored: 501 / 1000\r\n"
       ]
      },
      {
       "output_type": "stream",
       "stream": "stdout",
       "text": [
        "GeneSetCohorted: 501 / 1000\r\n",
        "GeneSetCohorted_scored: 501 / 1000\r\n"
       ]
      },
      {
       "output_type": "stream",
       "stream": "stdout",
       "text": [
        "GeneSetCohorted: 501 / 1000\r\n"
       ]
      },
      {
       "output_type": "stream",
       "stream": "stdout",
       "text": [
        "GeneSetCohorted_scored: 501 / 1000\r\n"
       ]
      },
      {
       "output_type": "stream",
       "stream": "stdout",
       "text": [
        "GeneSetCohorted: 501 / 1000\r\n",
        "GeneSetCohorted_scored: 501 / 1000\r\n"
       ]
      },
      {
       "output_type": "stream",
       "stream": "stdout",
       "text": [
        "GeneSetCohorted: 501 / 1000\r\n",
        "GeneSetCohorted_scored: 501 / 1000\r\n"
       ]
      },
      {
       "output_type": "stream",
       "stream": "stdout",
       "text": [
        "shuffleGeneSet for GeneSet 581/696 nperm: 1000\r\n"
       ]
      },
      {
       "output_type": "stream",
       "stream": "stdout",
       "text": [
        "GeneSetCohorted: 501 / 1000\r\n"
       ]
      },
      {
       "output_type": "stream",
       "stream": "stdout",
       "text": [
        "GeneSetCohorted_scored: 501 / 1000\r\n"
       ]
      },
      {
       "output_type": "stream",
       "stream": "stdout",
       "text": [
        "GeneSetCohorted: 501 / 1000\r\n",
        "GeneSetCohorted_scored: 501 / 1000\r\n"
       ]
      },
      {
       "output_type": "stream",
       "stream": "stdout",
       "text": [
        "GeneSetCohorted: 501 / 1000\r\n"
       ]
      },
      {
       "output_type": "stream",
       "stream": "stdout",
       "text": [
        "GeneSetCohorted_scored: 501 / 1000\r\n"
       ]
      },
      {
       "output_type": "stream",
       "stream": "stdout",
       "text": [
        "GeneSetCohorted: 501 / 1000\r\n",
        "GeneSetCohorted_scored: 501 / 1000\r\n"
       ]
      },
      {
       "output_type": "stream",
       "stream": "stdout",
       "text": [
        "GeneSetCohorted: 501 / 1000\r\n",
        "GeneSetCohorted_scored: 501 / 1000\r\n"
       ]
      },
      {
       "output_type": "stream",
       "stream": "stdout",
       "text": [
        "shuffleGeneSet for GeneSet 586/696 nperm: 1000\r\n"
       ]
      },
      {
       "output_type": "stream",
       "stream": "stdout",
       "text": [
        "GeneSetCohorted: 501 / 1000\r\n",
        "GeneSetCohorted_scored: 501 / 1000\r\n"
       ]
      },
      {
       "output_type": "stream",
       "stream": "stdout",
       "text": [
        "GeneSetCohorted: 501 / 1000\r\n",
        "GeneSetCohorted_scored: 501 / 1000\r\n"
       ]
      },
      {
       "output_type": "stream",
       "stream": "stdout",
       "text": [
        "GeneSetCohorted: 501 / 1000\r\n",
        "GeneSetCohorted_scored: 501 / 1000\r\n"
       ]
      },
      {
       "output_type": "stream",
       "stream": "stdout",
       "text": [
        "GeneSetCohorted: 501 / 1000\r\n",
        "GeneSetCohorted_scored: 501 / 1000\r\n"
       ]
      },
      {
       "output_type": "stream",
       "stream": "stdout",
       "text": [
        "GeneSetCohorted: 501 / 1000\r\n"
       ]
      },
      {
       "output_type": "stream",
       "stream": "stdout",
       "text": [
        "GeneSetCohorted_scored: 501 / 1000\r\n"
       ]
      },
      {
       "output_type": "stream",
       "stream": "stdout",
       "text": [
        "shuffleGeneSet for GeneSet 591/696 nperm: 1000\r\n"
       ]
      },
      {
       "output_type": "stream",
       "stream": "stdout",
       "text": [
        "GeneSetCohorted: 501 / 1000\r\n"
       ]
      },
      {
       "output_type": "stream",
       "stream": "stdout",
       "text": [
        "GeneSetCohorted_scored: 501 / 1000\r\n"
       ]
      },
      {
       "output_type": "stream",
       "stream": "stdout",
       "text": [
        "GeneSetCohorted: 501 / 1000\r\n",
        "GeneSetCohorted_scored: 501 / 1000\r\n"
       ]
      },
      {
       "output_type": "stream",
       "stream": "stdout",
       "text": [
        "GeneSetCohorted: 501 / 1000\r\n",
        "GeneSetCohorted_scored: 501 / 1000\r\n"
       ]
      },
      {
       "output_type": "stream",
       "stream": "stdout",
       "text": [
        "GeneSetCohorted: 501 / 1000\r\n",
        "GeneSetCohorted_scored: 501 / 1000\r\n"
       ]
      },
      {
       "output_type": "stream",
       "stream": "stdout",
       "text": [
        "GeneSetCohorted: 501 / 1000\r\n",
        "GeneSetCohorted_scored: 501 / 1000\r\n"
       ]
      },
      {
       "output_type": "stream",
       "stream": "stdout",
       "text": [
        "shuffleGeneSet for GeneSet 596/696 nperm: 1000\r\n"
       ]
      },
      {
       "output_type": "stream",
       "stream": "stdout",
       "text": [
        "GeneSetCohorted: 501 / 1000\r\n",
        "GeneSetCohorted_scored: 501 / 1000\r\n"
       ]
      },
      {
       "output_type": "stream",
       "stream": "stdout",
       "text": [
        "GeneSetCohorted: 501 / 1000\r\n"
       ]
      },
      {
       "output_type": "stream",
       "stream": "stdout",
       "text": [
        "GeneSetCohorted_scored: 501 / 1000\r\n"
       ]
      },
      {
       "output_type": "stream",
       "stream": "stdout",
       "text": [
        "GeneSetCohorted: 501 / 1000\r\n",
        "GeneSetCohorted_scored: 501 / 1000\r\n"
       ]
      },
      {
       "output_type": "stream",
       "stream": "stdout",
       "text": [
        "GeneSetCohorted: 501 / 1000\r\n",
        "GeneSetCohorted_scored: 501 / 1000\r\n"
       ]
      },
      {
       "output_type": "stream",
       "stream": "stdout",
       "text": [
        "GeneSetCohorted: 501 / 1000\r\n"
       ]
      },
      {
       "output_type": "stream",
       "stream": "stdout",
       "text": [
        "GeneSetCohorted_scored: 501 / 1000\r\n"
       ]
      },
      {
       "output_type": "stream",
       "stream": "stdout",
       "text": [
        "shuffleGeneSet for GeneSet 601/696 nperm: 1000\r\n"
       ]
      },
      {
       "output_type": "stream",
       "stream": "stdout",
       "text": [
        "GeneSetCohorted: 501 / 1000\r\n",
        "GeneSetCohorted_scored: 501 / 1000\r\n"
       ]
      },
      {
       "output_type": "stream",
       "stream": "stdout",
       "text": [
        "GeneSetCohorted: 501 / 1000\r\n",
        "GeneSetCohorted_scored: 501 / 1000\r\n"
       ]
      },
      {
       "output_type": "stream",
       "stream": "stdout",
       "text": [
        "GeneSetCohorted: 501 / 1000\r\n",
        "GeneSetCohorted_scored: 501 / 1000\r\n"
       ]
      },
      {
       "output_type": "stream",
       "stream": "stdout",
       "text": [
        "GeneSetCohorted: 501 / 1000\r\n",
        "GeneSetCohorted_scored: 501 / 1000\r\n"
       ]
      },
      {
       "output_type": "stream",
       "stream": "stdout",
       "text": [
        "GeneSetCohorted: 501 / 1000\r\n",
        "GeneSetCohorted_scored: 501 / 1000\r\n"
       ]
      },
      {
       "output_type": "stream",
       "stream": "stdout",
       "text": [
        "shuffleGeneSet for GeneSet 606/696 nperm: 1000\r\n"
       ]
      },
      {
       "output_type": "stream",
       "stream": "stdout",
       "text": [
        "GeneSetCohorted: 501 / 1000\r\n",
        "GeneSetCohorted_scored: 501 / 1000\r\n"
       ]
      },
      {
       "output_type": "stream",
       "stream": "stdout",
       "text": [
        "GeneSetCohorted: 501 / 1000\r\n",
        "GeneSetCohorted_scored: 501 / 1000\r\n"
       ]
      },
      {
       "output_type": "stream",
       "stream": "stdout",
       "text": [
        "GeneSetCohorted: 501 / 1000\r\n",
        "GeneSetCohorted_scored: 501 / 1000\r\n"
       ]
      },
      {
       "output_type": "stream",
       "stream": "stdout",
       "text": [
        "GeneSetCohorted: 501 / 1000\r\n",
        "GeneSetCohorted_scored: 501 / 1000\r\n"
       ]
      },
      {
       "output_type": "stream",
       "stream": "stdout",
       "text": [
        "GeneSetCohorted: 501 / 1000\r\n",
        "GeneSetCohorted_scored: 501 / 1000\r\n"
       ]
      },
      {
       "output_type": "stream",
       "stream": "stdout",
       "text": [
        "shuffleGeneSet for GeneSet 611/696 nperm: 1000\r\n",
        "GeneSetCohorted: 501 / 1000\r\n"
       ]
      },
      {
       "output_type": "stream",
       "stream": "stdout",
       "text": [
        "GeneSetCohorted_scored: 501 / 1000\r\n"
       ]
      },
      {
       "output_type": "stream",
       "stream": "stdout",
       "text": [
        "GeneSetCohorted: 501 / 1000\r\n",
        "GeneSetCohorted_scored: 501 / 1000\r\n"
       ]
      },
      {
       "output_type": "stream",
       "stream": "stdout",
       "text": [
        "GeneSetCohorted: 501 / 1000\r\n",
        "GeneSetCohorted_scored: 501 / 1000\r\n"
       ]
      },
      {
       "output_type": "stream",
       "stream": "stdout",
       "text": [
        "GeneSetCohorted: 501 / 1000\r\n",
        "GeneSetCohorted_scored: 501 / 1000\r\n"
       ]
      },
      {
       "output_type": "stream",
       "stream": "stdout",
       "text": [
        "GeneSetCohorted: 501 / 1000\r\n"
       ]
      },
      {
       "output_type": "stream",
       "stream": "stdout",
       "text": [
        "GeneSetCohorted_scored: 501 / 1000\r\n"
       ]
      },
      {
       "output_type": "stream",
       "stream": "stdout",
       "text": [
        "shuffleGeneSet for GeneSet 616/696 nperm: 1000\r\n"
       ]
      },
      {
       "output_type": "stream",
       "stream": "stdout",
       "text": [
        "GeneSetCohorted: 501 / 1000\r\n",
        "GeneSetCohorted_scored: 501 / 1000\r\n"
       ]
      },
      {
       "output_type": "stream",
       "stream": "stdout",
       "text": [
        "GeneSetCohorted: 501 / 1000\r\n",
        "GeneSetCohorted_scored: 501 / 1000\r\n"
       ]
      },
      {
       "output_type": "stream",
       "stream": "stdout",
       "text": [
        "GeneSetCohorted: 501 / 1000\r\n",
        "GeneSetCohorted_scored: 501 / 1000\r\n"
       ]
      },
      {
       "output_type": "stream",
       "stream": "stdout",
       "text": [
        "GeneSetCohorted: 501 / 1000\r\n",
        "GeneSetCohorted_scored: 501 / 1000\r\n"
       ]
      },
      {
       "output_type": "stream",
       "stream": "stdout",
       "text": [
        "GeneSetCohorted: 501 / 1000\r\n",
        "GeneSetCohorted_scored: 501 / 1000\r\n"
       ]
      },
      {
       "output_type": "stream",
       "stream": "stdout",
       "text": [
        "shuffleGeneSet for GeneSet 621/696 nperm: 1000\r\n"
       ]
      },
      {
       "output_type": "stream",
       "stream": "stdout",
       "text": [
        "GeneSetCohorted: 501 / 1000\r\n",
        "GeneSetCohorted_scored: 501 / 1000\r\n"
       ]
      },
      {
       "output_type": "stream",
       "stream": "stdout",
       "text": [
        "GeneSetCohorted: 501 / 1000\r\n",
        "GeneSetCohorted_scored: 501 / 1000\r\n"
       ]
      },
      {
       "output_type": "stream",
       "stream": "stdout",
       "text": [
        "GeneSetCohorted: 501 / 1000\r\n",
        "GeneSetCohorted_scored: 501 / 1000\r\n"
       ]
      },
      {
       "output_type": "stream",
       "stream": "stdout",
       "text": [
        "GeneSetCohorted: 501 / 1000\r\n",
        "GeneSetCohorted_scored: 501 / 1000\r\n"
       ]
      },
      {
       "output_type": "stream",
       "stream": "stdout",
       "text": [
        "GeneSetCohorted: 501 / 1000\r\n",
        "GeneSetCohorted_scored: 501 / 1000\r\n"
       ]
      },
      {
       "output_type": "stream",
       "stream": "stdout",
       "text": [
        "shuffleGeneSet for GeneSet 626/696 nperm: 1000\r\n",
        "GeneSetCohorted: 501 / 1000\r\n",
        "GeneSetCohorted_scored: 501 / 1000\r\n"
       ]
      },
      {
       "output_type": "stream",
       "stream": "stdout",
       "text": [
        "GeneSetCohorted: 501 / 1000\r\n",
        "GeneSetCohorted_scored: 501 / 1000\r\n"
       ]
      },
      {
       "output_type": "stream",
       "stream": "stdout",
       "text": [
        "GeneSetCohorted: 501 / 1000\r\n",
        "GeneSetCohorted_scored: 501 / 1000\r\n"
       ]
      },
      {
       "output_type": "stream",
       "stream": "stdout",
       "text": [
        "GeneSetCohorted: 501 / 1000\r\n",
        "GeneSetCohorted_scored: 501 / 1000\r\n"
       ]
      },
      {
       "output_type": "stream",
       "stream": "stdout",
       "text": [
        "GeneSetCohorted: 501 / 1000\r\n",
        "GeneSetCohorted_scored: 501 / 1000\r\n"
       ]
      },
      {
       "output_type": "stream",
       "stream": "stdout",
       "text": [
        "shuffleGeneSet for GeneSet 631/696 nperm: 1000\r\n"
       ]
      },
      {
       "output_type": "stream",
       "stream": "stdout",
       "text": [
        "GeneSetCohorted: 501 / 1000\r\n",
        "GeneSetCohorted_scored: 501 / 1000\r\n"
       ]
      },
      {
       "output_type": "stream",
       "stream": "stdout",
       "text": [
        "GeneSetCohorted: 501 / 1000\r\n",
        "GeneSetCohorted_scored: 501 / 1000\r\n"
       ]
      },
      {
       "output_type": "stream",
       "stream": "stdout",
       "text": [
        "GeneSetCohorted: 501 / 1000\r\n",
        "GeneSetCohorted_scored: 501 / 1000\r\n"
       ]
      },
      {
       "output_type": "stream",
       "stream": "stdout",
       "text": [
        "GeneSetCohorted: 501 / 1000\r\n",
        "GeneSetCohorted_scored: 501 / 1000\r\n"
       ]
      },
      {
       "output_type": "stream",
       "stream": "stdout",
       "text": [
        "GeneSetCohorted: 501 / 1000\r\n",
        "GeneSetCohorted_scored: 501 / 1000\r\n"
       ]
      },
      {
       "output_type": "stream",
       "stream": "stdout",
       "text": [
        "shuffleGeneSet for GeneSet 636/696 nperm: 1000\r\n",
        "GeneSetCohorted: 501 / 1000\r\n",
        "GeneSetCohorted_scored: 501 / 1000\r\n"
       ]
      },
      {
       "output_type": "stream",
       "stream": "stdout",
       "text": [
        "GeneSetCohorted: 501 / 1000\r\n",
        "GeneSetCohorted_scored: 501 / 1000\r\n"
       ]
      },
      {
       "output_type": "stream",
       "stream": "stdout",
       "text": [
        "GeneSetCohorted: 501 / 1000\r\n",
        "GeneSetCohorted_scored: 501 / 1000\r\n"
       ]
      },
      {
       "output_type": "stream",
       "stream": "stdout",
       "text": [
        "GeneSetCohorted: 501 / 1000\r\n",
        "GeneSetCohorted_scored: 501 / 1000\r\n"
       ]
      },
      {
       "output_type": "stream",
       "stream": "stdout",
       "text": [
        "GeneSetCohorted: 501 / 1000\r\n"
       ]
      },
      {
       "output_type": "stream",
       "stream": "stdout",
       "text": [
        "GeneSetCohorted_scored: 501 / 1000\r\n"
       ]
      },
      {
       "output_type": "stream",
       "stream": "stdout",
       "text": [
        "shuffleGeneSet for GeneSet 641/696 nperm: 1000\r\n",
        "GeneSetCohorted: 501 / 1000\r\n"
       ]
      },
      {
       "output_type": "stream",
       "stream": "stdout",
       "text": [
        "GeneSetCohorted_scored: 501 / 1000\r\n"
       ]
      },
      {
       "output_type": "stream",
       "stream": "stdout",
       "text": [
        "GeneSetCohorted: 501 / 1000\r\n",
        "GeneSetCohorted_scored: 501 / 1000\r\n"
       ]
      },
      {
       "output_type": "stream",
       "stream": "stdout",
       "text": [
        "GeneSetCohorted: 501 / 1000\r\n"
       ]
      },
      {
       "output_type": "stream",
       "stream": "stdout",
       "text": [
        "GeneSetCohorted_scored: 501 / 1000\r\n"
       ]
      },
      {
       "output_type": "stream",
       "stream": "stdout",
       "text": [
        "GeneSetCohorted: 501 / 1000\r\n",
        "GeneSetCohorted_scored: 501 / 1000\r\n"
       ]
      },
      {
       "output_type": "stream",
       "stream": "stdout",
       "text": [
        "GeneSetCohorted: 501 / 1000\r\n",
        "GeneSetCohorted_scored: 501 / 1000\r\n"
       ]
      },
      {
       "output_type": "stream",
       "stream": "stdout",
       "text": [
        "shuffleGeneSet for GeneSet 646/696 nperm: 1000\r\n"
       ]
      },
      {
       "output_type": "stream",
       "stream": "stdout",
       "text": [
        "GeneSetCohorted: 501 / 1000\r\n",
        "GeneSetCohorted_scored: 501 / 1000\r\n"
       ]
      },
      {
       "output_type": "stream",
       "stream": "stdout",
       "text": [
        "GeneSetCohorted: 501 / 1000\r\n"
       ]
      },
      {
       "output_type": "stream",
       "stream": "stdout",
       "text": [
        "GeneSetCohorted_scored: 501 / 1000\r\n"
       ]
      },
      {
       "output_type": "stream",
       "stream": "stdout",
       "text": [
        "GeneSetCohorted: 501 / 1000\r\n"
       ]
      },
      {
       "output_type": "stream",
       "stream": "stdout",
       "text": [
        "GeneSetCohorted_scored: 501 / 1000\r\n"
       ]
      },
      {
       "output_type": "stream",
       "stream": "stdout",
       "text": [
        "GeneSetCohorted: 501 / 1000\r\n",
        "GeneSetCohorted_scored: 501 / 1000\r\n"
       ]
      },
      {
       "output_type": "stream",
       "stream": "stdout",
       "text": [
        "GeneSetCohorted: 501 / 1000\r\n",
        "GeneSetCohorted_scored: 501 / 1000\r\n"
       ]
      },
      {
       "output_type": "stream",
       "stream": "stdout",
       "text": [
        "shuffleGeneSet for GeneSet 651/696 nperm: 1000\r\n"
       ]
      },
      {
       "output_type": "stream",
       "stream": "stdout",
       "text": [
        "GeneSetCohorted: 501 / 1000\r\n",
        "GeneSetCohorted_scored: 501 / 1000\r\n"
       ]
      },
      {
       "output_type": "stream",
       "stream": "stdout",
       "text": [
        "GeneSetCohorted: 501 / 1000\r\n"
       ]
      },
      {
       "output_type": "stream",
       "stream": "stdout",
       "text": [
        "GeneSetCohorted_scored: 501 / 1000\r\n"
       ]
      },
      {
       "output_type": "stream",
       "stream": "stdout",
       "text": [
        "GeneSetCohorted: 501 / 1000\r\n",
        "GeneSetCohorted_scored: 501 / 1000\r\n"
       ]
      },
      {
       "output_type": "stream",
       "stream": "stdout",
       "text": [
        "GeneSetCohorted: 501 / 1000\r\n",
        "GeneSetCohorted_scored: 501 / 1000\r\n"
       ]
      },
      {
       "output_type": "stream",
       "stream": "stdout",
       "text": [
        "GeneSetCohorted: 501 / 1000\r\n"
       ]
      },
      {
       "output_type": "stream",
       "stream": "stdout",
       "text": [
        "GeneSetCohorted_scored: 501 / 1000\r\n"
       ]
      },
      {
       "output_type": "stream",
       "stream": "stdout",
       "text": [
        "shuffleGeneSet for GeneSet 656/696 nperm: 1000\r\n",
        "GeneSetCohorted: 501 / 1000\r\n",
        "GeneSetCohorted_scored: 501 / 1000\r\n"
       ]
      },
      {
       "output_type": "stream",
       "stream": "stdout",
       "text": [
        "GeneSetCohorted: 501 / 1000\r\n",
        "GeneSetCohorted_scored: 501 / 1000\r\n"
       ]
      },
      {
       "output_type": "stream",
       "stream": "stdout",
       "text": [
        "GeneSetCohorted: 501 / 1000\r\n",
        "GeneSetCohorted_scored: 501 / 1000\r\n"
       ]
      },
      {
       "output_type": "stream",
       "stream": "stdout",
       "text": [
        "GeneSetCohorted: 501 / 1000\r\n",
        "GeneSetCohorted_scored: 501 / 1000\r\n"
       ]
      },
      {
       "output_type": "stream",
       "stream": "stdout",
       "text": [
        "GeneSetCohorted: 501 / 1000\r\n",
        "GeneSetCohorted_scored: 501 / 1000\r\n"
       ]
      },
      {
       "output_type": "stream",
       "stream": "stdout",
       "text": [
        "shuffleGeneSet for GeneSet 661/696 nperm: 1000\r\n"
       ]
      },
      {
       "output_type": "stream",
       "stream": "stdout",
       "text": [
        "GeneSetCohorted: 501 / 1000\r\n",
        "GeneSetCohorted_scored: 501 / 1000\r\n"
       ]
      },
      {
       "output_type": "stream",
       "stream": "stdout",
       "text": [
        "GeneSetCohorted: 501 / 1000\r\n"
       ]
      },
      {
       "output_type": "stream",
       "stream": "stdout",
       "text": [
        "GeneSetCohorted_scored: 501 / 1000\r\n"
       ]
      },
      {
       "output_type": "stream",
       "stream": "stdout",
       "text": [
        "GeneSetCohorted: 501 / 1000\r\n",
        "GeneSetCohorted_scored: 501 / 1000\r\n"
       ]
      },
      {
       "output_type": "stream",
       "stream": "stdout",
       "text": [
        "GeneSetCohorted: 501 / 1000\r\n",
        "GeneSetCohorted_scored: 501 / 1000\r\n"
       ]
      },
      {
       "output_type": "stream",
       "stream": "stdout",
       "text": [
        "GeneSetCohorted: 501 / 1000\r\n",
        "GeneSetCohorted_scored: 501 / 1000\r\n"
       ]
      },
      {
       "output_type": "stream",
       "stream": "stdout",
       "text": [
        "shuffleGeneSet for GeneSet 666/696 nperm: 1000\r\n",
        "GeneSetCohorted: 501 / 1000\r\n"
       ]
      },
      {
       "output_type": "stream",
       "stream": "stdout",
       "text": [
        "GeneSetCohorted_scored: 501 / 1000\r\n"
       ]
      },
      {
       "output_type": "stream",
       "stream": "stdout",
       "text": [
        "GeneSetCohorted: 501 / 1000\r\n",
        "GeneSetCohorted_scored: 501 / 1000\r\n"
       ]
      },
      {
       "output_type": "stream",
       "stream": "stdout",
       "text": [
        "GeneSetCohorted: 501 / 1000\r\n",
        "GeneSetCohorted_scored: 501 / 1000\r\n"
       ]
      },
      {
       "output_type": "stream",
       "stream": "stdout",
       "text": [
        "GeneSetCohorted: 501 / 1000\r\n",
        "GeneSetCohorted_scored: 501 / 1000\r\n"
       ]
      },
      {
       "output_type": "stream",
       "stream": "stdout",
       "text": [
        "GeneSetCohorted: 501 / 1000\r\n",
        "GeneSetCohorted_scored: 501 / 1000\r\n"
       ]
      },
      {
       "output_type": "stream",
       "stream": "stdout",
       "text": [
        "shuffleGeneSet for GeneSet 671/696 nperm: 1000\r\n",
        "GeneSetCohorted: 501 / 1000\r\n",
        "GeneSetCohorted_scored: 501 / 1000\r\n"
       ]
      },
      {
       "output_type": "stream",
       "stream": "stdout",
       "text": [
        "GeneSetCohorted: 501 / 1000\r\n",
        "GeneSetCohorted_scored: 501 / 1000\r\n"
       ]
      },
      {
       "output_type": "stream",
       "stream": "stdout",
       "text": [
        "GeneSetCohorted: 501 / 1000\r\n",
        "GeneSetCohorted_scored: 501 / 1000\r\n"
       ]
      },
      {
       "output_type": "stream",
       "stream": "stdout",
       "text": [
        "GeneSetCohorted: 501 / 1000\r\n",
        "GeneSetCohorted_scored: 501 / 1000\r\n"
       ]
      },
      {
       "output_type": "stream",
       "stream": "stdout",
       "text": [
        "GeneSetCohorted: 501 / 1000\r\n"
       ]
      },
      {
       "output_type": "stream",
       "stream": "stdout",
       "text": [
        "GeneSetCohorted_scored: 501 / 1000\r\n"
       ]
      },
      {
       "output_type": "stream",
       "stream": "stdout",
       "text": [
        "shuffleGeneSet for GeneSet 676/696 nperm: 1000\r\n"
       ]
      },
      {
       "output_type": "stream",
       "stream": "stdout",
       "text": [
        "GeneSetCohorted: 501 / 1000\r\n",
        "GeneSetCohorted_scored: 501 / 1000\r\n"
       ]
      },
      {
       "output_type": "stream",
       "stream": "stdout",
       "text": [
        "GeneSetCohorted: 501 / 1000\r\n",
        "GeneSetCohorted_scored: 501 / 1000\r\n"
       ]
      },
      {
       "output_type": "stream",
       "stream": "stdout",
       "text": [
        "GeneSetCohorted: 501 / 1000\r\n",
        "GeneSetCohorted_scored: 501 / 1000\r\n"
       ]
      },
      {
       "output_type": "stream",
       "stream": "stdout",
       "text": [
        "GeneSetCohorted: 501 / 1000\r\n",
        "GeneSetCohorted_scored: 501 / 1000\r\n"
       ]
      },
      {
       "output_type": "stream",
       "stream": "stdout",
       "text": [
        "GeneSetCohorted: 501 / 1000\r\n",
        "GeneSetCohorted_scored: 501 / 1000\r\n"
       ]
      },
      {
       "output_type": "stream",
       "stream": "stdout",
       "text": [
        "shuffleGeneSet for GeneSet 681/696 nperm: 1000\r\n",
        "GeneSetCohorted: 501 / 1000\r\n"
       ]
      },
      {
       "output_type": "stream",
       "stream": "stdout",
       "text": [
        "GeneSetCohorted_scored: 501 / 1000\r\n"
       ]
      },
      {
       "output_type": "stream",
       "stream": "stdout",
       "text": [
        "GeneSetCohorted: 501 / 1000\r\n",
        "GeneSetCohorted_scored: 501 / 1000\r\n"
       ]
      },
      {
       "output_type": "stream",
       "stream": "stdout",
       "text": [
        "GeneSetCohorted: 501 / 1000\r\n",
        "GeneSetCohorted_scored: 501 / 1000\r\n"
       ]
      },
      {
       "output_type": "stream",
       "stream": "stdout",
       "text": [
        "GeneSetCohorted: 501 / 1000\r\n"
       ]
      },
      {
       "output_type": "stream",
       "stream": "stdout",
       "text": [
        "GeneSetCohorted_scored: 501 / 1000\r\n"
       ]
      },
      {
       "output_type": "stream",
       "stream": "stdout",
       "text": [
        "GeneSetCohorted: 501 / 1000\r\n",
        "GeneSetCohorted_scored: 501 / 1000\r\n"
       ]
      },
      {
       "output_type": "stream",
       "stream": "stdout",
       "text": [
        "shuffleGeneSet for GeneSet 686/696 nperm: 1000\r\n"
       ]
      },
      {
       "output_type": "stream",
       "stream": "stdout",
       "text": [
        "GeneSetCohorted: 501 / 1000\r\n"
       ]
      },
      {
       "output_type": "stream",
       "stream": "stdout",
       "text": [
        "GeneSetCohorted_scored: 501 / 1000\r\n"
       ]
      },
      {
       "output_type": "stream",
       "stream": "stdout",
       "text": [
        "GeneSetCohorted: 501 / 1000\r\n",
        "GeneSetCohorted_scored: 501 / 1000\r\n"
       ]
      },
      {
       "output_type": "stream",
       "stream": "stdout",
       "text": [
        "GeneSetCohorted: 501 / 1000\r\n",
        "GeneSetCohorted_scored: 501 / 1000\r\n"
       ]
      },
      {
       "output_type": "stream",
       "stream": "stdout",
       "text": [
        "GeneSetCohorted: 501 / 1000\r\n",
        "GeneSetCohorted_scored: 501 / 1000\r\n"
       ]
      },
      {
       "output_type": "stream",
       "stream": "stdout",
       "text": [
        "GeneSetCohorted: 501 / 1000\r\n",
        "GeneSetCohorted_scored: 501 / 1000\r\n"
       ]
      },
      {
       "output_type": "stream",
       "stream": "stdout",
       "text": [
        "shuffleGeneSet for GeneSet 691/696 nperm: 1000\r\n"
       ]
      },
      {
       "output_type": "stream",
       "stream": "stdout",
       "text": [
        "GeneSetCohorted: 501 / 1000\r\n",
        "GeneSetCohorted_scored: 501 / 1000\r\n"
       ]
      },
      {
       "output_type": "stream",
       "stream": "stdout",
       "text": [
        "GeneSetCohorted: 501 / 1000\r\n"
       ]
      },
      {
       "output_type": "stream",
       "stream": "stdout",
       "text": [
        "GeneSetCohorted_scored: 501 / 1000\r\n"
       ]
      },
      {
       "output_type": "stream",
       "stream": "stdout",
       "text": [
        "GeneSetCohorted: 501 / 1000\r\n",
        "GeneSetCohorted_scored: 501 / 1000\r\n"
       ]
      },
      {
       "output_type": "stream",
       "stream": "stdout",
       "text": [
        "GeneSetCohorted: 501 / 1000\r\n",
        "GeneSetCohorted_scored: 501 / 1000\r\n"
       ]
      },
      {
       "output_type": "stream",
       "stream": "stdout",
       "text": [
        "GeneSetCohorted: 501 / 1000\r\n",
        "GeneSetCohorted_scored: 501 / 1000\r\n"
       ]
      },
      {
       "output_type": "stream",
       "stream": "stdout",
       "text": [
        "shuffleGeneSet for GeneSet 696/696 nperm: 1000\r\n"
       ]
      },
      {
       "output_type": "stream",
       "stream": "stdout",
       "text": [
        "GeneSetCohorted: 501 / 1000\r\n",
        "GeneSetCohorted_scored: 501 / 1000\r\n"
       ]
      },
      {
       "output_type": "stream",
       "stream": "stdout",
       "text": [
        "Creating marker selection reports ...\r\n",
        "9288 [INFO ] Begun importing: Chip from: /cellar/users/agross/Data/GeneSets/GENE_SYMBOL.chip\r\n"
       ]
      },
      {
       "output_type": "stream",
       "stream": "stdout",
       "text": [
        "397656 [WARN ] Missing chip file: >/cellar/users/agross/Data/GeneSets/GENE_SYMBOL.chip<\tat edu.mit.broad.vdb.chip.FileInMemoryChip.initHere(?:?)\r\n"
       ]
      },
      {
       "output_type": "stream",
       "stream": "stdout",
       "text": [
        "9614 [INFO ] Parsed from unigene / gene symbol: 38870\r\n",
        "397689 [WARN ] Missing chip file: >/cellar/users/agross/Data/GeneSets/GENE_SYMBOL.chip<\tat edu.mit.broad.vdb.chip.FileInMemoryChip.initHere(?:?)\r\n"
       ]
      },
      {
       "output_type": "stream",
       "stream": "stdout",
       "text": [
        "397736 [ERROR] No Probe called: SPOPL on this chip (chip name is >GENE_SYMBOL.chip<)\tat edu.mit.broad.genome.objects.FeatureAnnot$Helper._hugo(?:?)\r\n",
        "397737 [ERROR] Turning off subsequent error notifications\tat edu.mit.broad.genome.objects.FeatureAnnot$Helper._hugo(?:?)\r\n"
       ]
      },
      {
       "output_type": "stream",
       "stream": "stdout",
       "text": [
        "Creating FDR reports ...\r\n"
       ]
      },
      {
       "output_type": "stream",
       "stream": "stdout",
       "text": [
        "Done FDR reports for positive phenotype\r\n"
       ]
      },
      {
       "output_type": "stream",
       "stream": "stdout",
       "text": [
        "Done FDR reports for negative phenotype\r\n"
       ]
      },
      {
       "output_type": "stream",
       "stream": "stdout",
       "text": [
        "Creating global reports ...\r\n",
        "Done all reports!!\r\n"
       ]
      },
      {
       "output_type": "stream",
       "stream": "stdout",
       "text": [
        "Time taken: 402 secs\r\n"
       ]
      }
     ],
     "prompt_number": 13
    },
    {
     "cell_type": "code",
     "collapsed": false,
     "input": [],
     "language": "python",
     "metadata": {},
     "outputs": []
    }
   ],
   "metadata": {}
  }
 ]
}