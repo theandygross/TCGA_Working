{
 "metadata": {
  "name": "LUSC_rna_all"
 },
 "nbformat": 3,
 "nbformat_minor": 0,
 "worksheets": [
  {
   "cells": [
    {
     "cell_type": "markdown",
     "metadata": {},
     "source": [
      "#HNSC Figures"
     ]
    },
    {
     "cell_type": "code",
     "collapsed": false,
     "input": [
      "cd ../src"
     ],
     "language": "python",
     "metadata": {},
     "outputs": [
      {
       "output_type": "stream",
       "stream": "stdout",
       "text": [
        "/cellar/users/agross/TCGA_Code/TCGA/Pathway_Merge/src\n"
       ]
      }
     ],
     "prompt_number": 1
    },
    {
     "cell_type": "code",
     "collapsed": false,
     "input": [
      "import os as os\n",
      "import pickle as pickle\n",
      "import pandas as pd\n",
      "\n",
      "from Reports.NotebookTools import *\n",
      "from Processing.Tests import *\n",
      "from Reports.Figures import *\n",
      "from Processing.Helpers import *\n",
      "from Figures.Survival import draw_survival_curve\n",
      "\n",
      "pd.set_option('precision',3)\n",
      "pd.set_option('display.line_width', 100)\n",
      "pd.set_option('display.width', 300)"
     ],
     "language": "python",
     "metadata": {},
     "outputs": [],
     "prompt_number": 2
    },
    {
     "cell_type": "markdown",
     "metadata": {},
     "source": [
      "##Load Firehose Run"
     ]
    },
    {
     "cell_type": "code",
     "collapsed": false,
     "input": [
      "result_path = '/cellar/data/TCGA/Firehose__2013_04_21/ucsd_analyses'\n",
      "run = sorted(os.listdir(result_path))[0]\n",
      "run = pickle.load(open('/'.join([result_path, run, 'RunObject.p']), 'rb'))"
     ],
     "language": "python",
     "metadata": {},
     "outputs": [],
     "prompt_number": 3
    },
    {
     "cell_type": "markdown",
     "metadata": {},
     "source": [
      "##Read in Data"
     ]
    },
    {
     "cell_type": "code",
     "collapsed": false,
     "input": [
      "cancer = run.load_cancer('LUSC')\n",
      "clinical = cancer.load_clinical()\n",
      "global_vars = cancer.load_global_vars()\n",
      "\n",
      "mut = cancer.load_data('MAF')\n",
      "mut.uncompress()\n",
      "meth = cancer.load_data('Methylation')\n",
      "cn = cancer.load_data('CN_broad')\n",
      "cn.uncompress()\n",
      "rna = cancer.load_data('mRNASeq')\n",
      "rppa  = cancer.load_data('RPPA')\n",
      "mirna = cancer.load_data('miRNASeq')\n",
      "age = clinical.clinical.ageatinitialpathologicdiagnosis.astype(float)"
     ],
     "language": "python",
     "metadata": {},
     "outputs": [],
     "prompt_number": 4
    },
    {
     "cell_type": "code",
     "collapsed": false,
     "input": [
      "surv = clinical.survival.survival_5y\n",
      "fmla = 'Surv(days, event) ~ feature'\n",
      "cox = lambda s: get_cox_ph_ms(surv, s, return_val='model', formula=fmla)[3][0]\n",
      "def cox_screen(df):\n",
      "    stat = df.apply(cox, 1)\n",
      "    rr = pd.concat([pd.Series(chi2.sf(stat, 1), index=stat.index), stat], axis=1, keys=['p','chi2'])\n",
      "    rr['q'] = bhCorrection(rr.p)\n",
      "    rr = rr.sort('p')\n",
      "    return rr\n",
      "\n",
      "stage = clinical.clinical.tumorstage"
     ],
     "language": "python",
     "metadata": {},
     "outputs": [],
     "prompt_number": 19
    },
    {
     "cell_type": "code",
     "collapsed": false,
     "input": [
      "get_cox_ph_ms(surv, covariates=pd.concat([age], axis=1), return_val='model_desc', interactions=False);"
     ],
     "language": "python",
     "metadata": {},
     "outputs": [
      {
       "output_type": "stream",
       "stream": "stdout",
       "text": [
        "\n",
        "                                 coef exp(coef) se(coef)    z     p\n",
        "ageatinitialpathologicdiagnosis 0.224      1.25    0.112 1.99 0.046\n",
        "\n",
        "Likelihood ratio test=4.21  on 1 df, p=0.0403  n= 319, number of events= 102 \n",
        "\n"
       ]
      }
     ],
     "prompt_number": 7
    },
    {
     "cell_type": "markdown",
     "metadata": {},
     "source": [
      "##Run Expression Data"
     ]
    },
    {
     "cell_type": "code",
     "collapsed": false,
     "input": [
      "df = rna.df"
     ],
     "language": "python",
     "metadata": {},
     "outputs": [],
     "prompt_number": 9
    },
    {
     "cell_type": "code",
     "collapsed": false,
     "input": [
      "binary = (df[(df < -1).sum(1) > (df.shape[1]/2)] >= -1)*1.\n",
      "binary = binary[binary.sum(1).isin(range(20, df.shape[1]/2))]\n",
      "real = df[((df.max(1) - df.min(1)) > 2)]"
     ],
     "language": "python",
     "metadata": {},
     "outputs": [],
     "prompt_number": 10
    },
    {
     "cell_type": "code",
     "collapsed": false,
     "input": [
      "lr = binary.apply(log_rank, args=(surv,), axis=1)\n",
      "lr['q'] = bhCorrection(lr.p)"
     ],
     "language": "python",
     "metadata": {},
     "outputs": [],
     "prompt_number": 12
    },
    {
     "cell_type": "code",
     "collapsed": false,
     "input": [
      "lr.sort('p').head(10)"
     ],
     "language": "python",
     "metadata": {},
     "outputs": [
      {
       "html": [
        "<div style=\"max-height:1000px;max-width:1500px;overflow:auto;\">\n",
        "<table border=\"1\" class=\"dataframe\">\n",
        "  <thead>\n",
        "    <tr style=\"text-align: right;\">\n",
        "      <th></th>\n",
        "      <th>chi2</th>\n",
        "      <th>p</th>\n",
        "      <th>q</th>\n",
        "    </tr>\n",
        "  </thead>\n",
        "  <tbody>\n",
        "    <tr>\n",
        "      <th>GPR78</th>\n",
        "      <td> 14.38</td>\n",
        "      <td> 1.50e-04</td>\n",
        "      <td> 0.24</td>\n",
        "    </tr>\n",
        "    <tr>\n",
        "      <th>DISC2</th>\n",
        "      <td> 11.82</td>\n",
        "      <td> 5.86e-04</td>\n",
        "      <td> 0.41</td>\n",
        "    </tr>\n",
        "    <tr>\n",
        "      <th>C19orf69</th>\n",
        "      <td> 11.07</td>\n",
        "      <td> 8.76e-04</td>\n",
        "      <td> 0.41</td>\n",
        "    </tr>\n",
        "    <tr>\n",
        "      <th>TRIM53</th>\n",
        "      <td> 10.78</td>\n",
        "      <td> 1.02e-03</td>\n",
        "      <td> 0.41</td>\n",
        "    </tr>\n",
        "    <tr>\n",
        "      <th>GAGE8</th>\n",
        "      <td>  8.82</td>\n",
        "      <td> 2.98e-03</td>\n",
        "      <td> 0.96</td>\n",
        "    </tr>\n",
        "    <tr>\n",
        "      <th>KCNH6</th>\n",
        "      <td>  8.35</td>\n",
        "      <td> 3.86e-03</td>\n",
        "      <td> 0.99</td>\n",
        "    </tr>\n",
        "    <tr>\n",
        "      <th>FAM123C</th>\n",
        "      <td>  7.70</td>\n",
        "      <td> 5.51e-03</td>\n",
        "      <td> 0.99</td>\n",
        "    </tr>\n",
        "    <tr>\n",
        "      <th>OR10H2</th>\n",
        "      <td>  7.57</td>\n",
        "      <td> 5.94e-03</td>\n",
        "      <td> 0.99</td>\n",
        "    </tr>\n",
        "    <tr>\n",
        "      <th>TSIX</th>\n",
        "      <td>  7.28</td>\n",
        "      <td> 6.97e-03</td>\n",
        "      <td> 0.99</td>\n",
        "    </tr>\n",
        "    <tr>\n",
        "      <th>GAGE2B</th>\n",
        "      <td>  7.28</td>\n",
        "      <td> 6.98e-03</td>\n",
        "      <td> 0.99</td>\n",
        "    </tr>\n",
        "  </tbody>\n",
        "</table>\n",
        "</div>"
       ],
       "output_type": "pyout",
       "prompt_number": 13,
       "text": [
        "           chi2         p     q\n",
        "GPR78     14.38  1.50e-04  0.24\n",
        "DISC2     11.82  5.86e-04  0.41\n",
        "C19orf69  11.07  8.76e-04  0.41\n",
        "TRIM53    10.78  1.02e-03  0.41\n",
        "GAGE8      8.82  2.98e-03  0.96\n",
        "KCNH6      8.35  3.86e-03  0.99\n",
        "FAM123C    7.70  5.51e-03  0.99\n",
        "OR10H2     7.57  5.94e-03  0.99\n",
        "TSIX       7.28  6.97e-03  0.99\n",
        "GAGE2B     7.28  6.98e-03  0.99"
       ]
      }
     ],
     "prompt_number": 13
    },
    {
     "cell_type": "code",
     "collapsed": false,
     "input": [
      "draw_survival_curves(binary.ix['GPR78'], surv, show=True)"
     ],
     "language": "python",
     "metadata": {},
     "outputs": [
      {
       "html": [
        "<img src='data:image/png;base64,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'>"
       ],
       "output_type": "pyout",
       "prompt_number": 14,
       "text": [
        "<Reports.Figures.Show at 0x8035190>"
       ]
      }
     ],
     "prompt_number": 14
    },
    {
     "cell_type": "code",
     "collapsed": false,
     "input": [
      "screen_feature(binary.ix['GPR78'], spearman_pandas, rna.features).head()"
     ],
     "language": "python",
     "metadata": {},
     "outputs": [
      {
       "html": [
        "<div style=\"max-height:1000px;max-width:1500px;overflow:auto;\">\n",
        "<table border=\"1\" class=\"dataframe\">\n",
        "  <thead>\n",
        "    <tr style=\"text-align: right;\">\n",
        "      <th></th>\n",
        "      <th>rho</th>\n",
        "      <th>p</th>\n",
        "      <th>q</th>\n",
        "    </tr>\n",
        "  </thead>\n",
        "  <tbody>\n",
        "    <tr>\n",
        "      <th>BIOCARTA_ATRBRCA_PATHWAY</th>\n",
        "      <td>-0.33</td>\n",
        "      <td> 3.31e-10</td>\n",
        "      <td> 7.35e-08</td>\n",
        "    </tr>\n",
        "    <tr>\n",
        "      <th>SA_G2_AND_M_PHASES</th>\n",
        "      <td>-0.32</td>\n",
        "      <td> 5.85e-10</td>\n",
        "      <td> 7.35e-08</td>\n",
        "    </tr>\n",
        "    <tr>\n",
        "      <th>REACTOME_FANCONI_ANEMIA_PATHWAY</th>\n",
        "      <td>-0.32</td>\n",
        "      <td> 6.58e-10</td>\n",
        "      <td> 7.35e-08</td>\n",
        "    </tr>\n",
        "    <tr>\n",
        "      <th>BIOCARTA_CELL2CELL_PATHWAY</th>\n",
        "      <td> 0.32</td>\n",
        "      <td> 1.11e-09</td>\n",
        "      <td> 9.32e-08</td>\n",
        "    </tr>\n",
        "    <tr>\n",
        "      <th>KEGG_MISMATCH_REPAIR</th>\n",
        "      <td>-0.31</td>\n",
        "      <td> 4.42e-09</td>\n",
        "      <td> 2.46e-07</td>\n",
        "    </tr>\n",
        "  </tbody>\n",
        "</table>\n",
        "</div>"
       ],
       "output_type": "pyout",
       "prompt_number": 16,
       "text": [
        "                                  rho         p         q\n",
        "BIOCARTA_ATRBRCA_PATHWAY        -0.33  3.31e-10  7.35e-08\n",
        "SA_G2_AND_M_PHASES              -0.32  5.85e-10  7.35e-08\n",
        "REACTOME_FANCONI_ANEMIA_PATHWAY -0.32  6.58e-10  7.35e-08\n",
        "BIOCARTA_CELL2CELL_PATHWAY       0.32  1.11e-09  9.32e-08\n",
        "KEGG_MISMATCH_REPAIR            -0.31  4.42e-09  2.46e-07"
       ]
      }
     ],
     "prompt_number": 16
    },
    {
     "cell_type": "code",
     "collapsed": false,
     "input": [
      "draw_survival_curves(binary.ix['DISC2'], surv, show=True)"
     ],
     "language": "python",
     "metadata": {},
     "outputs": [
      {
       "html": [
        "<img src='data:image/png;base64,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'>"
       ],
       "output_type": "pyout",
       "prompt_number": 15,
       "text": [
        "<Reports.Figures.Show at 0x8508590>"
       ]
      }
     ],
     "prompt_number": 15
    },
    {
     "cell_type": "markdown",
     "metadata": {},
     "source": [
      "###Variable transcripts"
     ]
    },
    {
     "cell_type": "code",
     "collapsed": false,
     "input": [
      "from scipy.stats import chi2"
     ],
     "language": "python",
     "metadata": {},
     "outputs": [],
     "prompt_number": 17
    },
    {
     "cell_type": "code",
     "collapsed": false,
     "input": [
      "df = rna.df\n",
      "real = df[((df.max(1) - df.clip_lower(0).min(1)) > 2)]\n",
      "real  = real[real.std(1) > 1]"
     ],
     "language": "python",
     "metadata": {},
     "outputs": [],
     "prompt_number": 18
    },
    {
     "cell_type": "code",
     "collapsed": false,
     "input": [
      "rr = cox_screen(real)"
     ],
     "language": "python",
     "metadata": {},
     "outputs": [],
     "prompt_number": 20
    },
    {
     "cell_type": "code",
     "collapsed": false,
     "input": [
      "rr.sort('p').head(5)"
     ],
     "language": "python",
     "metadata": {},
     "outputs": [
      {
       "html": [
        "<div style=\"max-height:1000px;max-width:1500px;overflow:auto;\">\n",
        "<table border=\"1\" class=\"dataframe\">\n",
        "  <thead>\n",
        "    <tr style=\"text-align: right;\">\n",
        "      <th></th>\n",
        "      <th>p</th>\n",
        "      <th>chi2</th>\n",
        "      <th>q</th>\n",
        "    </tr>\n",
        "  </thead>\n",
        "  <tbody>\n",
        "    <tr>\n",
        "      <th>CYP19A1</th>\n",
        "      <td> 8.94e-05</td>\n",
        "      <td> 15.35</td>\n",
        "      <td> 0.74</td>\n",
        "    </tr>\n",
        "    <tr>\n",
        "      <th>SOX18</th>\n",
        "      <td> 2.99e-04</td>\n",
        "      <td> 13.08</td>\n",
        "      <td> 0.74</td>\n",
        "    </tr>\n",
        "    <tr>\n",
        "      <th>SNAI1</th>\n",
        "      <td> 4.50e-04</td>\n",
        "      <td> 12.31</td>\n",
        "      <td> 0.74</td>\n",
        "    </tr>\n",
        "    <tr>\n",
        "      <th>GPR78</th>\n",
        "      <td> 5.10e-04</td>\n",
        "      <td> 12.08</td>\n",
        "      <td> 0.74</td>\n",
        "    </tr>\n",
        "    <tr>\n",
        "      <th>LIF</th>\n",
        "      <td> 7.22e-04</td>\n",
        "      <td> 11.43</td>\n",
        "      <td> 0.74</td>\n",
        "    </tr>\n",
        "  </tbody>\n",
        "</table>\n",
        "</div>"
       ],
       "output_type": "pyout",
       "prompt_number": 27,
       "text": [
        "                p   chi2     q\n",
        "CYP19A1  8.94e-05  15.35  0.74\n",
        "SOX18    2.99e-04  13.08  0.74\n",
        "SNAI1    4.50e-04  12.31  0.74\n",
        "GPR78    5.10e-04  12.08  0.74\n",
        "LIF      7.22e-04  11.43  0.74"
       ]
      }
     ],
     "prompt_number": 27
    },
    {
     "cell_type": "code",
     "collapsed": false,
     "input": [
      "draw_survival_curves(rna.df.ix['SNAI1'], surv, show=True, std=1)"
     ],
     "language": "python",
     "metadata": {},
     "outputs": [
      {
       "html": [
        "<img src='data:image/png;base64,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'>"
       ],
       "output_type": "pyout",
       "prompt_number": 23,
       "text": [
        "<Reports.Figures.Show at 0x805c850>"
       ]
      }
     ],
     "prompt_number": 23
    },
    {
     "cell_type": "code",
     "collapsed": false,
     "input": [
      "screen_feature(rna.df.ix['SNAI1'], spearman_pandas, rna.features).head()"
     ],
     "language": "python",
     "metadata": {},
     "outputs": [
      {
       "html": [
        "<div style=\"max-height:1000px;max-width:1500px;overflow:auto;\">\n",
        "<table border=\"1\" class=\"dataframe\">\n",
        "  <thead>\n",
        "    <tr style=\"text-align: right;\">\n",
        "      <th></th>\n",
        "      <th>rho</th>\n",
        "      <th>p</th>\n",
        "      <th>q</th>\n",
        "    </tr>\n",
        "  </thead>\n",
        "  <tbody>\n",
        "    <tr>\n",
        "      <th>REACTOME_PLATELET_DEGRANULATION</th>\n",
        "      <td> 0.68</td>\n",
        "      <td> 1.64e-47</td>\n",
        "      <td> 5.50e-45</td>\n",
        "    </tr>\n",
        "    <tr>\n",
        "      <th>REACTOME_OTHER_SEMAPHORIN_INTERACTIONS</th>\n",
        "      <td> 0.66</td>\n",
        "      <td> 1.22e-44</td>\n",
        "      <td> 2.04e-42</td>\n",
        "    </tr>\n",
        "    <tr>\n",
        "      <th>BIOCARTA_EPHA4_PATHWAY</th>\n",
        "      <td> 0.64</td>\n",
        "      <td> 2.28e-41</td>\n",
        "      <td> 2.55e-39</td>\n",
        "    </tr>\n",
        "    <tr>\n",
        "      <th>REACTOME_INTEGRIN_CELL_SURFACE_INTERACTIONS</th>\n",
        "      <td> 0.63</td>\n",
        "      <td> 3.12e-40</td>\n",
        "      <td> 2.61e-38</td>\n",
        "    </tr>\n",
        "    <tr>\n",
        "      <th>BIOCARTA_STEM_PATHWAY</th>\n",
        "      <td> 0.63</td>\n",
        "      <td> 3.99e-40</td>\n",
        "      <td> 2.67e-38</td>\n",
        "    </tr>\n",
        "  </tbody>\n",
        "</table>\n",
        "</div>"
       ],
       "output_type": "pyout",
       "prompt_number": 35,
       "text": [
        "                                              rho         p         q\n",
        "REACTOME_PLATELET_DEGRANULATION              0.68  1.64e-47  5.50e-45\n",
        "REACTOME_OTHER_SEMAPHORIN_INTERACTIONS       0.66  1.22e-44  2.04e-42\n",
        "BIOCARTA_EPHA4_PATHWAY                       0.64  2.28e-41  2.55e-39\n",
        "REACTOME_INTEGRIN_CELL_SURFACE_INTERACTIONS  0.63  3.12e-40  2.61e-38\n",
        "BIOCARTA_STEM_PATHWAY                        0.63  3.99e-40  2.67e-38"
       ]
      }
     ],
     "prompt_number": 35
    },
    {
     "cell_type": "code",
     "collapsed": false,
     "input": [
      "tt = lambda a,b: kruskal_pandas(b,a)"
     ],
     "language": "python",
     "metadata": {},
     "outputs": [],
     "prompt_number": 29
    },
    {
     "cell_type": "code",
     "collapsed": false,
     "input": [
      "screen_feature(rna.df.ix['SNAI1'], tt, mut.features).head()"
     ],
     "language": "python",
     "metadata": {},
     "outputs": [
      {
       "html": [
        "<div style=\"max-height:1000px;max-width:1500px;overflow:auto;\">\n",
        "<table border=\"1\" class=\"dataframe\">\n",
        "  <thead>\n",
        "    <tr style=\"text-align: right;\">\n",
        "      <th></th>\n",
        "      <th>H</th>\n",
        "      <th>p</th>\n",
        "      <th>q</th>\n",
        "    </tr>\n",
        "  </thead>\n",
        "  <tbody>\n",
        "    <tr>\n",
        "      <th>KEGG_PHOSPHATIDYLINOSITOL_SIGNALING_SYSTEM</th>\n",
        "      <td> 14.32</td>\n",
        "      <td> 1.54e-04</td>\n",
        "      <td> 0.18</td>\n",
        "    </tr>\n",
        "    <tr>\n",
        "      <th>REACTOME_AMINE_COMPOUND_SLC_TRANSPORTERS</th>\n",
        "      <td> 10.53</td>\n",
        "      <td> 1.17e-03</td>\n",
        "      <td> 0.41</td>\n",
        "    </tr>\n",
        "    <tr>\n",
        "      <th>REACTOME_METAL_ION_SLC_TRANSPORTERS</th>\n",
        "      <td> 10.28</td>\n",
        "      <td> 1.35e-03</td>\n",
        "      <td> 0.41</td>\n",
        "    </tr>\n",
        "    <tr>\n",
        "      <th>REACTOME_ZINC_TRANSPORTATION</th>\n",
        "      <td>  9.75</td>\n",
        "      <td> 1.79e-03</td>\n",
        "      <td> 0.41</td>\n",
        "    </tr>\n",
        "    <tr>\n",
        "      <th>NLRP13</th>\n",
        "      <td>  9.37</td>\n",
        "      <td> 2.20e-03</td>\n",
        "      <td> 0.41</td>\n",
        "    </tr>\n",
        "  </tbody>\n",
        "</table>\n",
        "</div>"
       ],
       "output_type": "pyout",
       "prompt_number": 32,
       "text": [
        "                                                H         p     q\n",
        "KEGG_PHOSPHATIDYLINOSITOL_SIGNALING_SYSTEM  14.32  1.54e-04  0.18\n",
        "REACTOME_AMINE_COMPOUND_SLC_TRANSPORTERS    10.53  1.17e-03  0.41\n",
        "REACTOME_METAL_ION_SLC_TRANSPORTERS         10.28  1.35e-03  0.41\n",
        "REACTOME_ZINC_TRANSPORTATION                 9.75  1.79e-03  0.41\n",
        "NLRP13                                       9.37  2.20e-03  0.41"
       ]
      }
     ],
     "prompt_number": 32
    },
    {
     "cell_type": "code",
     "collapsed": false,
     "input": [
      "screen_feature(rna.df.ix['SNAI1'], tt, cn.features > -1).head()"
     ],
     "language": "python",
     "metadata": {},
     "outputs": [
      {
       "html": [
        "<div style=\"max-height:1000px;max-width:1500px;overflow:auto;\">\n",
        "<table border=\"1\" class=\"dataframe\">\n",
        "  <thead>\n",
        "    <tr style=\"text-align: right;\">\n",
        "      <th></th>\n",
        "      <th>H</th>\n",
        "      <th>p</th>\n",
        "      <th>q</th>\n",
        "    </tr>\n",
        "  </thead>\n",
        "  <tbody>\n",
        "    <tr>\n",
        "      <th>(Deletion, 2q36.2, Lesion)</th>\n",
        "      <td> 22.01</td>\n",
        "      <td> 2.71e-06</td>\n",
        "      <td> 7.21e-04</td>\n",
        "    </tr>\n",
        "    <tr>\n",
        "      <th>(Deletion, 1p36.22, Lesion)</th>\n",
        "      <td> 19.90</td>\n",
        "      <td> 8.18e-06</td>\n",
        "      <td> 1.09e-03</td>\n",
        "    </tr>\n",
        "    <tr>\n",
        "      <th>(Deletion, 1p13.2, Lesion)</th>\n",
        "      <td> 13.07</td>\n",
        "      <td> 3.00e-04</td>\n",
        "      <td> 2.66e-02</td>\n",
        "    </tr>\n",
        "    <tr>\n",
        "      <th>(Deletion, Xq22.3, Lesion)</th>\n",
        "      <td> 11.76</td>\n",
        "      <td> 6.06e-04</td>\n",
        "      <td> 4.03e-02</td>\n",
        "    </tr>\n",
        "    <tr>\n",
        "      <th>(Deletion, Xq22.3, (COL4A5,))</th>\n",
        "      <td> 11.00</td>\n",
        "      <td> 9.12e-04</td>\n",
        "      <td> 4.85e-02</td>\n",
        "    </tr>\n",
        "  </tbody>\n",
        "</table>\n",
        "</div>"
       ],
       "output_type": "pyout",
       "prompt_number": 31,
       "text": [
        "                                   H         p         q\n",
        "(Deletion, 2q36.2, Lesion)     22.01  2.71e-06  7.21e-04\n",
        "(Deletion, 1p36.22, Lesion)    19.90  8.18e-06  1.09e-03\n",
        "(Deletion, 1p13.2, Lesion)     13.07  3.00e-04  2.66e-02\n",
        "(Deletion, Xq22.3, Lesion)     11.76  6.06e-04  4.03e-02\n",
        "(Deletion, Xq22.3, (COL4A5,))  11.00  9.12e-04  4.85e-02"
       ]
      }
     ],
     "prompt_number": 31
    },
    {
     "cell_type": "code",
     "collapsed": false,
     "input": [
      "df = real.ix[rr.sort('p').index[:5]].dropna(how='all', axis=1).T\n",
      "U,S,vH = frame_svd((df- df.mean())/ df.std())\n",
      "U[0] = -U[0]\n",
      "vH[0] = -vH[0]\n",
      "mir = U[0]\n",
      "mirna_vec = vH[0]\n",
      "mir.name = 'rna_vec'"
     ],
     "language": "python",
     "metadata": {},
     "outputs": [],
     "prompt_number": 36
    },
    {
     "cell_type": "code",
     "collapsed": false,
     "input": [
      "mirna_vec.order()"
     ],
     "language": "python",
     "metadata": {},
     "outputs": [
      {
       "output_type": "pyout",
       "prompt_number": 37,
       "text": [
        "CYP19A1    0.26\n",
        "GPR78      0.28\n",
        "LIF        0.47\n",
        "SOX18      0.51\n",
        "SNAI1      0.61\n",
        "Name: 0, dtype: float64"
       ]
      }
     ],
     "prompt_number": 37
    },
    {
     "cell_type": "code",
     "collapsed": false,
     "input": [
      "corr = real.T.corr()\n",
      "def neighbor_smooth(g):\n",
      "    try:\n",
      "        df = real.ix[corr.ix[g].order().index[-5:]].T\n",
      "        U,S,vH = frame_svd((df- df.mean())/ df.std())\n",
      "        return U[0]\n",
      "    except:\n",
      "        return real.ix[g]"
     ],
     "language": "python",
     "metadata": {},
     "outputs": [],
     "prompt_number": 46
    },
    {
     "cell_type": "code",
     "collapsed": false,
     "input": [
      "real_smooth = pd.DataFrame({g: neighbor_smooth(g) for g in real.index}).T"
     ],
     "language": "python",
     "metadata": {},
     "outputs": [],
     "prompt_number": 47
    },
    {
     "cell_type": "code",
     "collapsed": false,
     "input": [
      "rr_smooth = cox_screen(real_smooth)"
     ],
     "language": "python",
     "metadata": {},
     "outputs": [],
     "prompt_number": 54
    },
    {
     "cell_type": "code",
     "collapsed": false,
     "input": [
      "rr_smooth.sort('p').head()"
     ],
     "language": "python",
     "metadata": {},
     "outputs": [
      {
       "html": [
        "<div style=\"max-height:1000px;max-width:1500px;overflow:auto;\">\n",
        "<table border=\"1\" class=\"dataframe\">\n",
        "  <thead>\n",
        "    <tr style=\"text-align: right;\">\n",
        "      <th></th>\n",
        "      <th>p</th>\n",
        "      <th>chi2</th>\n",
        "      <th>q</th>\n",
        "    </tr>\n",
        "  </thead>\n",
        "  <tbody>\n",
        "    <tr>\n",
        "      <th>USP43</th>\n",
        "      <td> 0</td>\n",
        "      <td> 10.40</td>\n",
        "      <td> 0.67</td>\n",
        "    </tr>\n",
        "    <tr>\n",
        "      <th>MICALCL</th>\n",
        "      <td> 0</td>\n",
        "      <td> 10.39</td>\n",
        "      <td> 0.67</td>\n",
        "    </tr>\n",
        "    <tr>\n",
        "      <th>SERPINI1</th>\n",
        "      <td> 0</td>\n",
        "      <td> 10.23</td>\n",
        "      <td> 0.67</td>\n",
        "    </tr>\n",
        "    <tr>\n",
        "      <th>PGA4</th>\n",
        "      <td> 0</td>\n",
        "      <td>  9.76</td>\n",
        "      <td> 0.67</td>\n",
        "    </tr>\n",
        "    <tr>\n",
        "      <th>LIF</th>\n",
        "      <td> 0</td>\n",
        "      <td>  9.54</td>\n",
        "      <td> 0.67</td>\n",
        "    </tr>\n",
        "  </tbody>\n",
        "</table>\n",
        "</div>"
       ],
       "output_type": "pyout",
       "prompt_number": 57,
       "text": [
        "          p   chi2     q\n",
        "USP43     0  10.40  0.67\n",
        "MICALCL   0  10.39  0.67\n",
        "SERPINI1  0  10.23  0.67\n",
        "PGA4      0   9.76  0.67\n",
        "LIF       0   9.54  0.67"
       ]
      }
     ],
     "prompt_number": 57
    },
    {
     "cell_type": "code",
     "collapsed": false,
     "input": [
      "pd.concat([rr_smooth, rr], axis=1, keys=['smooth','normal']).sort([('normal','p')]).head(10)"
     ],
     "language": "python",
     "metadata": {},
     "outputs": [
      {
       "html": [
        "<div style=\"max-height:1000px;max-width:1500px;overflow:auto;\">\n",
        "<table border=\"1\" class=\"dataframe\">\n",
        "  <thead>\n",
        "    <tr>\n",
        "      <th></th>\n",
        "      <th colspan=\"3\" halign=\"left\">smooth</th>\n",
        "      <th colspan=\"3\" halign=\"left\">normal</th>\n",
        "    </tr>\n",
        "    <tr>\n",
        "      <th></th>\n",
        "      <th>p</th>\n",
        "      <th>chi2</th>\n",
        "      <th>q</th>\n",
        "      <th>p</th>\n",
        "      <th>chi2</th>\n",
        "      <th>q</th>\n",
        "    </tr>\n",
        "  </thead>\n",
        "  <tbody>\n",
        "    <tr>\n",
        "      <th>CYP19A1</th>\n",
        "      <td> 0.01</td>\n",
        "      <td> 7.84</td>\n",
        "      <td> 0.67</td>\n",
        "      <td> 8.94e-05</td>\n",
        "      <td> 15.35</td>\n",
        "      <td> 0.74</td>\n",
        "    </tr>\n",
        "    <tr>\n",
        "      <th>SOX18</th>\n",
        "      <td> 0.01</td>\n",
        "      <td> 6.53</td>\n",
        "      <td> 0.67</td>\n",
        "      <td> 2.99e-04</td>\n",
        "      <td> 13.08</td>\n",
        "      <td> 0.74</td>\n",
        "    </tr>\n",
        "    <tr>\n",
        "      <th>SNAI1</th>\n",
        "      <td> 0.01</td>\n",
        "      <td> 7.43</td>\n",
        "      <td> 0.67</td>\n",
        "      <td> 4.50e-04</td>\n",
        "      <td> 12.31</td>\n",
        "      <td> 0.74</td>\n",
        "    </tr>\n",
        "    <tr>\n",
        "      <th>GPR78</th>\n",
        "      <td> 0.00</td>\n",
        "      <td> 8.12</td>\n",
        "      <td> 0.67</td>\n",
        "      <td> 5.10e-04</td>\n",
        "      <td> 12.08</td>\n",
        "      <td> 0.74</td>\n",
        "    </tr>\n",
        "    <tr>\n",
        "      <th>LIF</th>\n",
        "      <td> 0.00</td>\n",
        "      <td> 9.54</td>\n",
        "      <td> 0.67</td>\n",
        "      <td> 7.22e-04</td>\n",
        "      <td> 11.43</td>\n",
        "      <td> 0.74</td>\n",
        "    </tr>\n",
        "    <tr>\n",
        "      <th>LOC220594</th>\n",
        "      <td> 0.01</td>\n",
        "      <td> 7.62</td>\n",
        "      <td> 0.67</td>\n",
        "      <td> 7.68e-04</td>\n",
        "      <td> 11.32</td>\n",
        "      <td> 0.74</td>\n",
        "    </tr>\n",
        "    <tr>\n",
        "      <th>THBD</th>\n",
        "      <td> 0.00</td>\n",
        "      <td> 9.22</td>\n",
        "      <td> 0.67</td>\n",
        "      <td> 8.18e-04</td>\n",
        "      <td> 11.20</td>\n",
        "      <td> 0.74</td>\n",
        "    </tr>\n",
        "    <tr>\n",
        "      <th>IL4R</th>\n",
        "      <td> 0.00</td>\n",
        "      <td> 8.13</td>\n",
        "      <td> 0.67</td>\n",
        "      <td> 9.16e-04</td>\n",
        "      <td> 10.99</td>\n",
        "      <td> 0.74</td>\n",
        "    </tr>\n",
        "    <tr>\n",
        "      <th>C19orf69</th>\n",
        "      <td> 0.02</td>\n",
        "      <td> 5.70</td>\n",
        "      <td> 0.67</td>\n",
        "      <td> 9.23e-04</td>\n",
        "      <td> 10.98</td>\n",
        "      <td> 0.74</td>\n",
        "    </tr>\n",
        "    <tr>\n",
        "      <th>ISM2</th>\n",
        "      <td> 0.02</td>\n",
        "      <td> 5.41</td>\n",
        "      <td> 0.67</td>\n",
        "      <td> 9.50e-04</td>\n",
        "      <td> 10.92</td>\n",
        "      <td> 0.74</td>\n",
        "    </tr>\n",
        "  </tbody>\n",
        "</table>\n",
        "</div>"
       ],
       "output_type": "pyout",
       "prompt_number": 58,
       "text": [
        "           smooth                normal             \n",
        "                p  chi2     q         p   chi2     q\n",
        "CYP19A1      0.01  7.84  0.67  8.94e-05  15.35  0.74\n",
        "SOX18        0.01  6.53  0.67  2.99e-04  13.08  0.74\n",
        "SNAI1        0.01  7.43  0.67  4.50e-04  12.31  0.74\n",
        "GPR78        0.00  8.12  0.67  5.10e-04  12.08  0.74\n",
        "LIF          0.00  9.54  0.67  7.22e-04  11.43  0.74\n",
        "LOC220594    0.01  7.62  0.67  7.68e-04  11.32  0.74\n",
        "THBD         0.00  9.22  0.67  8.18e-04  11.20  0.74\n",
        "IL4R         0.00  8.13  0.67  9.16e-04  10.99  0.74\n",
        "C19orf69     0.02  5.70  0.67  9.23e-04  10.98  0.74\n",
        "ISM2         0.02  5.41  0.67  9.50e-04  10.92  0.74"
       ]
      }
     ],
     "prompt_number": 58
    },
    {
     "cell_type": "code",
     "collapsed": false,
     "input": [
      "screen_feature(real.ix['SNAI1'], spearman_pandas, mirna.features).head()"
     ],
     "language": "python",
     "metadata": {},
     "outputs": [
      {
       "html": [
        "<div style=\"max-height:1000px;max-width:1500px;overflow:auto;\">\n",
        "<table border=\"1\" class=\"dataframe\">\n",
        "  <thead>\n",
        "    <tr style=\"text-align: right;\">\n",
        "      <th></th>\n",
        "      <th>rho</th>\n",
        "      <th>p</th>\n",
        "      <th>q</th>\n",
        "    </tr>\n",
        "  </thead>\n",
        "  <tbody>\n",
        "    <tr>\n",
        "      <th>(real, hsa-mir-205)</th>\n",
        "      <td>-0.50</td>\n",
        "      <td> 5.49e-22</td>\n",
        "      <td> 3.78e-19</td>\n",
        "    </tr>\n",
        "    <tr>\n",
        "      <th>(real, hsa-mir-33a)</th>\n",
        "      <td>-0.49</td>\n",
        "      <td> 2.70e-21</td>\n",
        "      <td> 8.67e-19</td>\n",
        "    </tr>\n",
        "    <tr>\n",
        "      <th>(real, hsa-mir-944)</th>\n",
        "      <td>-0.49</td>\n",
        "      <td> 3.78e-21</td>\n",
        "      <td> 8.67e-19</td>\n",
        "    </tr>\n",
        "    <tr>\n",
        "      <th>(real, hsa-mir-708)</th>\n",
        "      <td>-0.48</td>\n",
        "      <td> 4.73e-20</td>\n",
        "      <td> 8.15e-18</td>\n",
        "    </tr>\n",
        "    <tr>\n",
        "      <th>(real, hsa-mir-324)</th>\n",
        "      <td>-0.45</td>\n",
        "      <td> 8.66e-18</td>\n",
        "      <td> 1.19e-15</td>\n",
        "    </tr>\n",
        "  </tbody>\n",
        "</table>\n",
        "</div>"
       ],
       "output_type": "pyout",
       "prompt_number": 60,
       "text": [
        "                      rho         p         q\n",
        "(real, hsa-mir-205) -0.50  5.49e-22  3.78e-19\n",
        "(real, hsa-mir-33a) -0.49  2.70e-21  8.67e-19\n",
        "(real, hsa-mir-944) -0.49  3.78e-21  8.67e-19\n",
        "(real, hsa-mir-708) -0.48  4.73e-20  8.15e-18\n",
        "(real, hsa-mir-324) -0.45  8.66e-18  1.19e-15"
       ]
      }
     ],
     "prompt_number": 60
    },
    {
     "cell_type": "code",
     "collapsed": false,
     "input": [
      "rr_path = cox_screen(rna.features)"
     ],
     "language": "python",
     "metadata": {},
     "outputs": [],
     "prompt_number": 62
    },
    {
     "cell_type": "code",
     "collapsed": false,
     "input": [
      "rr_path.head() "
     ],
     "language": "python",
     "metadata": {},
     "outputs": [
      {
       "html": [
        "<div style=\"max-height:1000px;max-width:1500px;overflow:auto;\">\n",
        "<table border=\"1\" class=\"dataframe\">\n",
        "  <thead>\n",
        "    <tr style=\"text-align: right;\">\n",
        "      <th></th>\n",
        "      <th>p</th>\n",
        "      <th>chi2</th>\n",
        "      <th>q</th>\n",
        "    </tr>\n",
        "  </thead>\n",
        "  <tbody>\n",
        "    <tr>\n",
        "      <th>REACTOME_P130CAS_LINKAGE_TO_MAPK_SIGNALING_FOR_INTEGRINS</th>\n",
        "      <td> 0.00</td>\n",
        "      <td> 8.88</td>\n",
        "      <td> 0.38</td>\n",
        "    </tr>\n",
        "    <tr>\n",
        "      <th>REACTOME_COMMON_PATHWAY</th>\n",
        "      <td> 0.00</td>\n",
        "      <td> 8.68</td>\n",
        "      <td> 0.38</td>\n",
        "    </tr>\n",
        "    <tr>\n",
        "      <th>BIOCARTA_CELL2CELL_PATHWAY</th>\n",
        "      <td> 0.01</td>\n",
        "      <td> 7.47</td>\n",
        "      <td> 0.38</td>\n",
        "    </tr>\n",
        "    <tr>\n",
        "      <th>BIOCARTA_EXTRINSIC_PATHWAY</th>\n",
        "      <td> 0.01</td>\n",
        "      <td> 7.19</td>\n",
        "      <td> 0.38</td>\n",
        "    </tr>\n",
        "    <tr>\n",
        "      <th>REACTOME_INTEGRIN_ALPHAIIBBETA3_SIGNALING</th>\n",
        "      <td> 0.01</td>\n",
        "      <td> 7.15</td>\n",
        "      <td> 0.38</td>\n",
        "    </tr>\n",
        "  </tbody>\n",
        "</table>\n",
        "</div>"
       ],
       "output_type": "pyout",
       "prompt_number": 63,
       "text": [
        "                                                             p  chi2     q\n",
        "REACTOME_P130CAS_LINKAGE_TO_MAPK_SIGNALING_FOR_INTEGRINS  0.00  8.88  0.38\n",
        "REACTOME_COMMON_PATHWAY                                   0.00  8.68  0.38\n",
        "BIOCARTA_CELL2CELL_PATHWAY                                0.01  7.47  0.38\n",
        "BIOCARTA_EXTRINSIC_PATHWAY                                0.01  7.19  0.38\n",
        "REACTOME_INTEGRIN_ALPHAIIBBETA3_SIGNALING                 0.01  7.15  0.38"
       ]
      }
     ],
     "prompt_number": 63
    },
    {
     "cell_type": "code",
     "collapsed": false,
     "input": [],
     "language": "python",
     "metadata": {},
     "outputs": []
    }
   ],
   "metadata": {}
  }
 ]
}