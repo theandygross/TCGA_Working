{
 "metadata": {
  "name": "Untitled7-Copy1"
 },
 "nbformat": 3,
 "nbformat_minor": 0,
 "worksheets": [
  {
   "cells": [
    {
     "cell_type": "code",
     "collapsed": false,
     "input": [
      "cd ../src"
     ],
     "language": "python",
     "metadata": {},
     "outputs": [
      {
       "output_type": "stream",
       "stream": "stdout",
       "text": [
        "/cellar/users/agross/TCGA_Code/TCGA/Pathway_Merge/src\n"
       ]
      }
     ],
     "prompt_number": 1
    },
    {
     "cell_type": "code",
     "collapsed": false,
     "input": [
      "import os as os\n",
      "import pickle as pickle"
     ],
     "language": "python",
     "metadata": {},
     "outputs": [],
     "prompt_number": 2
    },
    {
     "cell_type": "code",
     "collapsed": false,
     "input": [
      "result_path = '/scratch/TCGA/Firehose__2012_12_21/ucsd_analyses'\n",
      "run = sorted(os.listdir(result_path))[-1]\n",
      "run = pickle.load(open('/'.join([result_path, run, 'RunObject.p']), 'rb'))"
     ],
     "language": "python",
     "metadata": {},
     "outputs": [],
     "prompt_number": 3
    },
    {
     "cell_type": "code",
     "collapsed": false,
     "input": [
      "paths = {c: '/'.join([run.report_path, c, 'MAF', 'Tests', 'Event_Free_Survival_5y', 'TestResult.p'])\n",
      "         for c in run.cancers}\n",
      "results = {c: pickle.load(open(p, 'rb')) for c,p in paths.iteritems() if os.path.isfile(p)}"
     ],
     "language": "python",
     "metadata": {},
     "outputs": [],
     "prompt_number": 4
    },
    {
     "cell_type": "code",
     "collapsed": false,
     "input": [
      "c = 'KIRC'\n",
      "cancer = run.load_cancer(c)"
     ],
     "language": "python",
     "metadata": {},
     "outputs": [],
     "prompt_number": 5
    },
    {
     "cell_type": "code",
     "collapsed": false,
     "input": [
      "res = results[c]"
     ],
     "language": "python",
     "metadata": {},
     "outputs": [],
     "prompt_number": 6
    },
    {
     "cell_type": "code",
     "collapsed": false,
     "input": [
      "res.path = '/'.join([res._dataset_path, 'Tests', res.name])\n",
      "fig_path = '/'.join([res.path, 'Figures',''])\n",
      "thresholded = res.results.ix[res.p_values < .01]\n",
      "\n",
      "data = res.get_dataset()\n",
      "data.uncompress()   \n",
      "\n",
      "clinical = cancer.load_clinical()"
     ],
     "language": "python",
     "metadata": {},
     "outputs": [],
     "prompt_number": 7
    },
    {
     "cell_type": "code",
     "collapsed": false,
     "input": [
      "from Reports.Reports import *\n",
      "from Reports.Figures import *\n",
      "from Processing.Tests import get_cox_ph_ms"
     ],
     "language": "python",
     "metadata": {},
     "outputs": [],
     "prompt_number": 8
    },
    {
     "cell_type": "code",
     "collapsed": false,
     "input": [
      "class NozzleTable2(object):\n",
      "    def __init__(self, table, caption='', idx_name=''):\n",
      "        table = table.applymap(lambda s: \"%8.2e\"%s).astype(float)\n",
      "        index_series = Series(dict((i,i) for i in table.index), name=idx_name)\n",
      "        self.table = table.join(index_series)\n",
      "        self.table = roll_df(self.table,1)\n",
      "        self.row_pos = dict((g,i+1) for i,g in enumerate(self.table.index))\n",
      "        self.col_pos = dict((c,i+1) for i,c in enumerate(self.table.columns))\n",
      "        \n",
      "        r_table = self.table.copy().fillna(1.)\n",
      "        r_table = com.convert_to_r_dataframe(r_table) #@UndefinedVariable\n",
      "        self.nozzle_table = nz.newTable(r_table, caption)\n",
      "        \n",
      "    def add_to_table(self, result, row, col, captions='', title='',\n",
      "                     isSignificant=True):\n",
      "        '''\n",
      "        Add a figure from a file to the Nozzle table.\n",
      "        This is just a wrapper to put a figure(s) in a result section.\n",
      "        '''\n",
      "        self.nozzle_table = nz.addTo(self.nozzle_table, result, \n",
      "                                     row=self.row_pos[row], \n",
      "                                     column=self.col_pos[col]) "
     ],
     "language": "python",
     "metadata": {},
     "outputs": [],
     "prompt_number": 9
    },
    {
     "cell_type": "code",
     "collapsed": false,
     "input": [
      "res.features_tested.shape"
     ],
     "language": "python",
     "metadata": {},
     "outputs": [
      {
       "output_type": "pyout",
       "prompt_number": 31,
       "text": [
        "(665,)"
       ]
      }
     ],
     "prompt_number": 31
    },
    {
     "cell_type": "code",
     "collapsed": false,
     "input": [
      "res.results.head(10)"
     ],
     "language": "python",
     "metadata": {},
     "outputs": [
      {
       "html": [
        "<div style=\"max-height:1000px;max-width:1500px;overflow:auto;\">\n",
        "<table border=\"1\" class=\"dataframe\">\n",
        "  <thead>\n",
        "    <tr style=\"text-align: right;\">\n",
        "      <th></th>\n",
        "      <th>LR</th>\n",
        "      <th>feature_p</th>\n",
        "      <th>fmla</th>\n",
        "      <th>hazzard</th>\n",
        "    </tr>\n",
        "  </thead>\n",
        "  <tbody>\n",
        "    <tr>\n",
        "      <td><strong>KEGG_GLYCOSYLPHOSPHATIDYLINOSITOL_GPI_ANCHOR_BIOSYNTHESIS</strong></td>\n",
        "      <td> 0.0002158543</td>\n",
        "      <td>   0.9946476</td>\n",
        "      <td> Surv(days, event) ~ feature + rate_non + age +...</td>\n",
        "      <td> 1.606206e-33</td>\n",
        "    </tr>\n",
        "    <tr>\n",
        "      <td><strong>KEGG_ALDOSTERONE_REGULATED_SODIUM_REABSORPTION</strong></td>\n",
        "      <td> 0.0004956817</td>\n",
        "      <td>   0.1830776</td>\n",
        "      <td> Surv(days, event) ~ feature * rate_non + age *...</td>\n",
        "      <td>     1.535489</td>\n",
        "    </tr>\n",
        "    <tr>\n",
        "      <td><strong>REACTOME_SYNTHESIS_OF_GLYCOSYLPHOSPHATIDYLINOSITOL</strong></td>\n",
        "      <td>  0.001170788</td>\n",
        "      <td>    0.995509</td>\n",
        "      <td> Surv(days, event) ~ feature + rate_non + age +...</td>\n",
        "      <td> 2.845089e-34</td>\n",
        "    </tr>\n",
        "    <tr>\n",
        "      <td><strong>REACTOME_PHASE_1_FUNCTIONALIZATION</strong></td>\n",
        "      <td>  0.002814611</td>\n",
        "      <td>    0.994109</td>\n",
        "      <td> Surv(days, event) ~ feature * rate_non + age *...</td>\n",
        "      <td> 6.233069e-20</td>\n",
        "    </tr>\n",
        "    <tr>\n",
        "      <td><strong>REACTOME_MAPK_TARGETS_NUCLEAR_EVENTS_MEDIATED_BY_MAP_KINASES</strong></td>\n",
        "      <td>  0.005434348</td>\n",
        "      <td>   0.3141021</td>\n",
        "      <td> Surv(days, event) ~ feature * rate_non + age *...</td>\n",
        "      <td>   0.08462172</td>\n",
        "    </tr>\n",
        "    <tr>\n",
        "      <td><strong>BIOCARTA_PITX2_PATHWAY</strong></td>\n",
        "      <td>  0.005448618</td>\n",
        "      <td>  0.02452305</td>\n",
        "      <td> Surv(days, event) ~ feature + rate_non + age +...</td>\n",
        "      <td>   0.01763541</td>\n",
        "    </tr>\n",
        "    <tr>\n",
        "      <td><strong>REACTOME_SYNTHESIS_OF_GPI_ANCHORED_PROTEINS</strong></td>\n",
        "      <td>  0.005729126</td>\n",
        "      <td>  0.03304514</td>\n",
        "      <td> Surv(days, event) ~ feature + rate_non + age +...</td>\n",
        "      <td>    0.2165017</td>\n",
        "    </tr>\n",
        "    <tr>\n",
        "      <td><strong>KEGG_GLYCOLYSIS_GLUCONEOGENESIS</strong></td>\n",
        "      <td>  0.005785585</td>\n",
        "      <td>  0.01129435</td>\n",
        "      <td> Surv(days, event) ~ feature + rate_non + age +...</td>\n",
        "      <td>    0.1995806</td>\n",
        "    </tr>\n",
        "    <tr>\n",
        "      <td><strong>REACTOME_MYD88_CASCADE</strong></td>\n",
        "      <td>  0.006287336</td>\n",
        "      <td> 0.001934007</td>\n",
        "      <td> Surv(days, event) ~ feature + rate_non + age +...</td>\n",
        "      <td>     2.886122</td>\n",
        "    </tr>\n",
        "    <tr>\n",
        "      <td><strong>BIOCARTA_CALCINEURIN_PATHWAY</strong></td>\n",
        "      <td>  0.006521228</td>\n",
        "      <td>   0.0459835</td>\n",
        "      <td> Surv(days, event) ~ feature + rate_non + age +...</td>\n",
        "      <td> 8.289578e-10</td>\n",
        "    </tr>\n",
        "  </tbody>\n",
        "</table>\n",
        "</div>"
       ],
       "output_type": "pyout",
       "prompt_number": 35,
       "text": [
        "                                                                        LR  \\\n",
        "KEGG_GLYCOSYLPHOSPHATIDYLINOSITOL_GPI_ANCHOR_BIOSYNTHESIS     0.0002158543   \n",
        "KEGG_ALDOSTERONE_REGULATED_SODIUM_REABSORPTION                0.0004956817   \n",
        "REACTOME_SYNTHESIS_OF_GLYCOSYLPHOSPHATIDYLINOSITOL             0.001170788   \n",
        "REACTOME_PHASE_1_FUNCTIONALIZATION                             0.002814611   \n",
        "REACTOME_MAPK_TARGETS_NUCLEAR_EVENTS_MEDIATED_BY_MAP_KINASES   0.005434348   \n",
        "BIOCARTA_PITX2_PATHWAY                                         0.005448618   \n",
        "REACTOME_SYNTHESIS_OF_GPI_ANCHORED_PROTEINS                    0.005729126   \n",
        "KEGG_GLYCOLYSIS_GLUCONEOGENESIS                                0.005785585   \n",
        "REACTOME_MYD88_CASCADE                                         0.006287336   \n",
        "BIOCARTA_CALCINEURIN_PATHWAY                                   0.006521228   \n",
        "\n",
        "                                                                feature_p  \\\n",
        "KEGG_GLYCOSYLPHOSPHATIDYLINOSITOL_GPI_ANCHOR_BIOSYNTHESIS       0.9946476   \n",
        "KEGG_ALDOSTERONE_REGULATED_SODIUM_REABSORPTION                  0.1830776   \n",
        "REACTOME_SYNTHESIS_OF_GLYCOSYLPHOSPHATIDYLINOSITOL               0.995509   \n",
        "REACTOME_PHASE_1_FUNCTIONALIZATION                               0.994109   \n",
        "REACTOME_MAPK_TARGETS_NUCLEAR_EVENTS_MEDIATED_BY_MAP_KINASES    0.3141021   \n",
        "BIOCARTA_PITX2_PATHWAY                                         0.02452305   \n",
        "REACTOME_SYNTHESIS_OF_GPI_ANCHORED_PROTEINS                    0.03304514   \n",
        "KEGG_GLYCOLYSIS_GLUCONEOGENESIS                                0.01129435   \n",
        "REACTOME_MYD88_CASCADE                                        0.001934007   \n",
        "BIOCARTA_CALCINEURIN_PATHWAY                                    0.0459835   \n",
        "\n",
        "                                                                                                           fmla  \\\n",
        "KEGG_GLYCOSYLPHOSPHATIDYLINOSITOL_GPI_ANCHOR_BIOSYNTHESIS     Surv(days, event) ~ feature + rate_non + age +...   \n",
        "KEGG_ALDOSTERONE_REGULATED_SODIUM_REABSORPTION                Surv(days, event) ~ feature * rate_non + age *...   \n",
        "REACTOME_SYNTHESIS_OF_GLYCOSYLPHOSPHATIDYLINOSITOL            Surv(days, event) ~ feature + rate_non + age +...   \n",
        "REACTOME_PHASE_1_FUNCTIONALIZATION                            Surv(days, event) ~ feature * rate_non + age *...   \n",
        "REACTOME_MAPK_TARGETS_NUCLEAR_EVENTS_MEDIATED_BY_MAP_KINASES  Surv(days, event) ~ feature * rate_non + age *...   \n",
        "BIOCARTA_PITX2_PATHWAY                                        Surv(days, event) ~ feature + rate_non + age +...   \n",
        "REACTOME_SYNTHESIS_OF_GPI_ANCHORED_PROTEINS                   Surv(days, event) ~ feature + rate_non + age +...   \n",
        "KEGG_GLYCOLYSIS_GLUCONEOGENESIS                               Surv(days, event) ~ feature + rate_non + age +...   \n",
        "REACTOME_MYD88_CASCADE                                        Surv(days, event) ~ feature + rate_non + age +...   \n",
        "BIOCARTA_CALCINEURIN_PATHWAY                                  Surv(days, event) ~ feature + rate_non + age +...   \n",
        "\n",
        "                                                                   hazzard  \n",
        "KEGG_GLYCOSYLPHOSPHATIDYLINOSITOL_GPI_ANCHOR_BIOSYNTHESIS     1.606206e-33  \n",
        "KEGG_ALDOSTERONE_REGULATED_SODIUM_REABSORPTION                    1.535489  \n",
        "REACTOME_SYNTHESIS_OF_GLYCOSYLPHOSPHATIDYLINOSITOL            2.845089e-34  \n",
        "REACTOME_PHASE_1_FUNCTIONALIZATION                            6.233069e-20  \n",
        "REACTOME_MAPK_TARGETS_NUCLEAR_EVENTS_MEDIATED_BY_MAP_KINASES    0.08462172  \n",
        "BIOCARTA_PITX2_PATHWAY                                          0.01763541  \n",
        "REACTOME_SYNTHESIS_OF_GPI_ANCHORED_PROTEINS                      0.2165017  \n",
        "KEGG_GLYCOLYSIS_GLUCONEOGENESIS                                  0.1995806  \n",
        "REACTOME_MYD88_CASCADE                                            2.886122  \n",
        "BIOCARTA_CALCINEURIN_PATHWAY                                  8.289578e-10  "
       ]
      }
     ],
     "prompt_number": 35
    },
    {
     "cell_type": "code",
     "collapsed": false,
     "input": [
      "f = data.features.ix['KEGG_GLYCOSYLPHOSPHATIDYLINOSITOL_GPI_ANCHOR_BIOSYNTHESIS']\n",
      "f.name = 'mutation'\n",
      "crosstab(f, stage).T.plot(kind='bar')"
     ],
     "language": "python",
     "metadata": {},
     "outputs": [
      {
       "output_type": "pyout",
       "prompt_number": 114,
       "text": [
        "<matplotlib.axes.AxesSubplot at 0x9895610>"
       ]
      },
      {
       "output_type": "display_data",
       "png": "[encoded data removed]"
      }
     ],
     "prompt_number": 114
    },
    {
     "cell_type": "code",
     "collapsed": false,
     "input": [
      "conv = {'stge i': 1, 'stge iii': 3, 'stge iv': 4, 'stge ii': 2}\n",
      "stage = clinical.clinical.tumor_stage.map(conv)\n",
      "\n",
      "trans = {'t1a': 1, 't1': 1, 't2': 2, 't1b': 1, 't3a': 3, 't3b': 3, 't4': 4, 't2a': 2, 't3': 3, 't2b': 2, 't3c': 3}\n",
      "grade = clinical.clinical.tumor_grade.map(trans)"
     ],
     "language": "python",
     "metadata": {},
     "outputs": [],
     "prompt_number": 44
    },
    {
     "cell_type": "code",
     "collapsed": false,
     "input": [
      "import Processing.Tests as T\n",
      "reload(T)"
     ],
     "language": "python",
     "metadata": {},
     "outputs": [
      {
       "output_type": "pyout",
       "prompt_number": 53,
       "text": [
        "<module 'Processing.Tests' from 'Processing/Tests.pyc'>"
       ]
      }
     ],
     "prompt_number": 53
    },
    {
     "cell_type": "code",
     "collapsed": false,
     "input": [
      "from Processing.Tests import get_cox_ph_ms"
     ],
     "language": "python",
     "metadata": {},
     "outputs": [],
     "prompt_number": 54
    },
    {
     "cell_type": "code",
     "collapsed": false,
     "input": [
      "#feature = rest.ix['CDO1']\n",
      "#s1 = stage[stage == 4].index\n",
      "feature = data.features.ix['KEGG_GLYCOSYLPHOSPHATIDYLINOSITOL_GPI_ANCHOR_BIOSYNTHESIS']\n",
      "\n",
      "m = get_cox_ph_ms(res.test.surv, feature.dropna(), res.test.covariates, return_val='LR', get_model=True)\n",
      "print m['LR']\n",
      "print \n",
      "m = m['model']\n",
      "coef = com.convert_robj(base.summary(m).rx2('coefficients'))\n",
      "coef = NozzleTable2(coef, caption='Model Coefficients', idx_name='covariate')\n",
      "summary = str(m).split('\\n')[-2]\n",
      "print coef.table   \n",
      "print \n",
      "print summary"
     ],
     "language": "python",
     "metadata": {},
     "outputs": [
      {
       "output_type": "stream",
       "stream": "stdout",
       "text": [
        "0.00586963654634\n",
        "\n",
        "               covariate    coef     exp(coef)   se(coef)        z      Pr(>|z|)\n",
        "feature          feature -74.900  2.990000e-33  12400.000 -0.00605  9.950000e-01\n",
        "tumor_stage  tumor_stage   0.957  2.600000e+00      0.128  7.46000  8.790000e-14\n",
        "age                  age   0.504  1.660000e+00      0.126  4.01000  6.030000e-05\n",
        "feature:age  feature:age  34.400  9.010000e+14   5550.000  0.00620  9.950000e-01\n",
        "\n",
        "Likelihood ratio test=98  on 4 df, p=0  n= 279, number of events= 82 \n"
       ]
      }
     ],
     "prompt_number": 108
    },
    {
     "cell_type": "code",
     "collapsed": false,
     "input": [
      "from IPython.display import Image"
     ],
     "language": "python",
     "metadata": {},
     "outputs": [],
     "prompt_number": 109
    },
    {
     "cell_type": "code",
     "collapsed": false,
     "input": [
      "res.test.covariates = res.test.covariates[['age']].join(stage)"
     ],
     "language": "python",
     "metadata": {},
     "outputs": [],
     "prompt_number": 72
    },
    {
     "cell_type": "code",
     "collapsed": false,
     "input": [
      "f = feature.ix[s1].dropna().astype(float)\n",
      "f = (f - f.mean()) / f.std()\n",
      "f = f > 0"
     ],
     "language": "python",
     "metadata": {},
     "outputs": [],
     "prompt_number": 259
    },
    {
     "cell_type": "code",
     "collapsed": false,
     "input": [
      "f = feature\n",
      "#f = (f - f.mean()) / f.std()\n",
      "#f = f > 0\n",
      "#f = -1*(f < -1) + 1*(f > 1)\n",
      "draw_survival_curves_model(f, res.test, ann='All')\n",
      "Image(filename='tmp.png')"
     ],
     "language": "python",
     "metadata": {},
     "outputs": [
      {
       "output_type": "pyout",
       "png": "[encoded data removed]",
       "prompt_number": 112,
       "text": [
        "<IPython.core.display.Image at 0x9dafed0>"
       ]
      }
     ],
     "prompt_number": 112
    },
    {
     "cell_type": "code",
     "collapsed": true,
     "input": [
      "fig, ax = subplots(figsize=(df.shape[1]*.5,df.shape[0]*.5))\n",
      "#df = mut.df.ix[run.gene_sets[f]]\n",
      "s1 = stage[stage == 3].index\n",
      "df = data.df.ix[run.gene_sets['KEGG_GLYCOSYLPHOSPHATIDYLINOSITOL_GPI_ANCHOR_BIOSYNTHESIS'], s1]\n",
      "df = df.ix[df.sum(1) > 0, df.sum() > 0]\n",
      "df = df.ix[df.sum(1).order(ascending=False).index]\n",
      "o = np.sort(df.apply(lambda s: ''.join(map(str, s)))).index[::-1]\n",
      "df = df[o]\n",
      "memo_plot(df, ax=ax)"
     ],
     "language": "python",
     "metadata": {},
     "outputs": [
      {
       "output_type": "display_data",
       "png": "[encoded data removed]"
      }
     ],
     "prompt_number": 132
    },
    {
     "cell_type": "code",
     "collapsed": true,
     "input": [
      "\n",
      "df = df.ix[df.sum(1) > 0, df.sum() > 0]\n",
      "df = df.ix[df.sum(1).order(ascending=False).index]\n",
      "o = np.sort(df.apply(lambda s: ''.join(map(str, s)))).index[::-1]\n",
      "df = df[o]\n",
      "memo_plot(df, ax=ax)\n",
      "ax.bar(arange(len(df.columns)) - .3, df.sum() / df.sum().max(), bottom = -1.5, width=.6, alpha=.5)\n",
      "counts = df.sum(1)[::-1]\n",
      "width = df.shape[1]\n",
      "ax.barh(arange(len(counts)) - .3, (counts / counts.max())*width*.25, left=width - .2, \n",
      "        height=.6, alpha=.5)\n",
      "#ax.plot(width - .2, width - .2 + counts.max())*width*.25\n",
      "ax.set_frame_on(False)\n",
      "ax.tick_params(right='off')"
     ],
     "language": "python",
     "metadata": {},
     "outputs": [
      {
       "ename": "AssertionError",
       "evalue": "",
       "output_type": "pyerr",
       "traceback": [
        "\u001b[1;31m---------------------------------------------------------------------------\u001b[0m\n\u001b[1;31mAssertionError\u001b[0m                            Traceback (most recent call last)",
        "\u001b[1;32m/cellar/users/agross/semillon/epd/lib/python2.7/site-packages/ipython-0.13-py2.7.egg/IPython/zmq/pylab/backend_inline.pyc\u001b[0m in \u001b[0;36mshow\u001b[1;34m(close)\u001b[0m\n\u001b[0;32m    100\u001b[0m     \u001b[1;32mtry\u001b[0m\u001b[1;33m:\u001b[0m\u001b[1;33m\u001b[0m\u001b[0m\n\u001b[0;32m    101\u001b[0m         \u001b[1;32mfor\u001b[0m \u001b[0mfigure_manager\u001b[0m \u001b[1;32min\u001b[0m \u001b[0mGcf\u001b[0m\u001b[1;33m.\u001b[0m\u001b[0mget_all_fig_managers\u001b[0m\u001b[1;33m(\u001b[0m\u001b[1;33m)\u001b[0m\u001b[1;33m:\u001b[0m\u001b[1;33m\u001b[0m\u001b[0m\n\u001b[1;32m--> 102\u001b[1;33m             \u001b[0msend_figure\u001b[0m\u001b[1;33m(\u001b[0m\u001b[0mfigure_manager\u001b[0m\u001b[1;33m.\u001b[0m\u001b[0mcanvas\u001b[0m\u001b[1;33m.\u001b[0m\u001b[0mfigure\u001b[0m\u001b[1;33m)\u001b[0m\u001b[1;33m\u001b[0m\u001b[0m\n\u001b[0m\u001b[0;32m    103\u001b[0m     \u001b[1;32mfinally\u001b[0m\u001b[1;33m:\u001b[0m\u001b[1;33m\u001b[0m\u001b[0m\n\u001b[0;32m    104\u001b[0m         \u001b[0mshow\u001b[0m\u001b[1;33m.\u001b[0m\u001b[0m_to_draw\u001b[0m \u001b[1;33m=\u001b[0m \u001b[1;33m[\u001b[0m\u001b[1;33m]\u001b[0m\u001b[1;33m\u001b[0m\u001b[0m\n",
        "\u001b[1;32m/cellar/users/agross/semillon/epd/lib/python2.7/site-packages/ipython-0.13-py2.7.egg/IPython/zmq/pylab/backend_inline.pyc\u001b[0m in \u001b[0;36msend_figure\u001b[1;34m(fig)\u001b[0m\n\u001b[0;32m    209\u001b[0m     \"\"\"\n\u001b[0;32m    210\u001b[0m     \u001b[0mfmt\u001b[0m \u001b[1;33m=\u001b[0m \u001b[0mInlineBackend\u001b[0m\u001b[1;33m.\u001b[0m\u001b[0minstance\u001b[0m\u001b[1;33m(\u001b[0m\u001b[1;33m)\u001b[0m\u001b[1;33m.\u001b[0m\u001b[0mfigure_format\u001b[0m\u001b[1;33m\u001b[0m\u001b[0m\n\u001b[1;32m--> 211\u001b[1;33m     \u001b[0mdata\u001b[0m \u001b[1;33m=\u001b[0m \u001b[0mprint_figure\u001b[0m\u001b[1;33m(\u001b[0m\u001b[0mfig\u001b[0m\u001b[1;33m,\u001b[0m \u001b[0mfmt\u001b[0m\u001b[1;33m)\u001b[0m\u001b[1;33m\u001b[0m\u001b[0m\n\u001b[0m\u001b[0;32m    212\u001b[0m     \u001b[1;31m# print_figure will return None if there's nothing to draw:\u001b[0m\u001b[1;33m\u001b[0m\u001b[1;33m\u001b[0m\u001b[0m\n\u001b[0;32m    213\u001b[0m     \u001b[1;32mif\u001b[0m \u001b[0mdata\u001b[0m \u001b[1;32mis\u001b[0m \u001b[0mNone\u001b[0m\u001b[1;33m:\u001b[0m\u001b[1;33m\u001b[0m\u001b[0m\n",
        "\u001b[1;32m/cellar/users/agross/semillon/epd/lib/python2.7/site-packages/ipython-0.13-py2.7.egg/IPython/core/pylabtools.pyc\u001b[0m in \u001b[0;36mprint_figure\u001b[1;34m(fig, fmt)\u001b[0m\n\u001b[0;32m    102\u001b[0m     \u001b[1;32mtry\u001b[0m\u001b[1;33m:\u001b[0m\u001b[1;33m\u001b[0m\u001b[0m\n\u001b[0;32m    103\u001b[0m         \u001b[0mbytes_io\u001b[0m \u001b[1;33m=\u001b[0m \u001b[0mBytesIO\u001b[0m\u001b[1;33m(\u001b[0m\u001b[1;33m)\u001b[0m\u001b[1;33m\u001b[0m\u001b[0m\n\u001b[1;32m--> 104\u001b[1;33m         \u001b[0mfig\u001b[0m\u001b[1;33m.\u001b[0m\u001b[0mcanvas\u001b[0m\u001b[1;33m.\u001b[0m\u001b[0mprint_figure\u001b[0m\u001b[1;33m(\u001b[0m\u001b[0mbytes_io\u001b[0m\u001b[1;33m,\u001b[0m \u001b[0mformat\u001b[0m\u001b[1;33m=\u001b[0m\u001b[0mfmt\u001b[0m\u001b[1;33m,\u001b[0m \u001b[0mbbox_inches\u001b[0m\u001b[1;33m=\u001b[0m\u001b[1;34m'tight'\u001b[0m\u001b[1;33m)\u001b[0m\u001b[1;33m\u001b[0m\u001b[0m\n\u001b[0m\u001b[0;32m    105\u001b[0m         \u001b[0mdata\u001b[0m \u001b[1;33m=\u001b[0m \u001b[0mbytes_io\u001b[0m\u001b[1;33m.\u001b[0m\u001b[0mgetvalue\u001b[0m\u001b[1;33m(\u001b[0m\u001b[1;33m)\u001b[0m\u001b[1;33m\u001b[0m\u001b[0m\n\u001b[0;32m    106\u001b[0m     \u001b[1;32mfinally\u001b[0m\u001b[1;33m:\u001b[0m\u001b[1;33m\u001b[0m\u001b[0m\n",
        "\u001b[1;32m/cellar/users/agross/semillon/epd/lib/python2.7/site-packages/matplotlib/backend_bases.pyc\u001b[0m in \u001b[0;36mprint_figure\u001b[1;34m(self, filename, dpi, facecolor, edgecolor, orientation, format, **kwargs)\u001b[0m\n\u001b[0;32m   1981\u001b[0m                     \u001b[0morientation\u001b[0m\u001b[1;33m=\u001b[0m\u001b[0morientation\u001b[0m\u001b[1;33m,\u001b[0m\u001b[1;33m\u001b[0m\u001b[0m\n\u001b[0;32m   1982\u001b[0m                     \u001b[0mdryrun\u001b[0m\u001b[1;33m=\u001b[0m\u001b[0mTrue\u001b[0m\u001b[1;33m,\u001b[0m\u001b[1;33m\u001b[0m\u001b[0m\n\u001b[1;32m-> 1983\u001b[1;33m                     **kwargs)\n\u001b[0m\u001b[0;32m   1984\u001b[0m                 \u001b[0mrenderer\u001b[0m \u001b[1;33m=\u001b[0m \u001b[0mself\u001b[0m\u001b[1;33m.\u001b[0m\u001b[0mfigure\u001b[0m\u001b[1;33m.\u001b[0m\u001b[0m_cachedRenderer\u001b[0m\u001b[1;33m\u001b[0m\u001b[0m\n\u001b[0;32m   1985\u001b[0m                 \u001b[0mbbox_inches\u001b[0m \u001b[1;33m=\u001b[0m \u001b[0mself\u001b[0m\u001b[1;33m.\u001b[0m\u001b[0mfigure\u001b[0m\u001b[1;33m.\u001b[0m\u001b[0mget_tightbbox\u001b[0m\u001b[1;33m(\u001b[0m\u001b[0mrenderer\u001b[0m\u001b[1;33m)\u001b[0m\u001b[1;33m\u001b[0m\u001b[0m\n",
        "\u001b[1;32m/cellar/users/agross/semillon/epd/lib/python2.7/site-packages/matplotlib/backends/backend_agg.pyc\u001b[0m in \u001b[0;36mprint_png\u001b[1;34m(self, filename_or_obj, *args, **kwargs)\u001b[0m\n\u001b[0;32m    443\u001b[0m \u001b[1;33m\u001b[0m\u001b[0m\n\u001b[0;32m    444\u001b[0m     \u001b[1;32mdef\u001b[0m \u001b[0mprint_png\u001b[0m\u001b[1;33m(\u001b[0m\u001b[0mself\u001b[0m\u001b[1;33m,\u001b[0m \u001b[0mfilename_or_obj\u001b[0m\u001b[1;33m,\u001b[0m \u001b[1;33m*\u001b[0m\u001b[0margs\u001b[0m\u001b[1;33m,\u001b[0m \u001b[1;33m**\u001b[0m\u001b[0mkwargs\u001b[0m\u001b[1;33m)\u001b[0m\u001b[1;33m:\u001b[0m\u001b[1;33m\u001b[0m\u001b[0m\n\u001b[1;32m--> 445\u001b[1;33m         \u001b[0mFigureCanvasAgg\u001b[0m\u001b[1;33m.\u001b[0m\u001b[0mdraw\u001b[0m\u001b[1;33m(\u001b[0m\u001b[0mself\u001b[0m\u001b[1;33m)\u001b[0m\u001b[1;33m\u001b[0m\u001b[0m\n\u001b[0m\u001b[0;32m    446\u001b[0m         \u001b[0mrenderer\u001b[0m \u001b[1;33m=\u001b[0m \u001b[0mself\u001b[0m\u001b[1;33m.\u001b[0m\u001b[0mget_renderer\u001b[0m\u001b[1;33m(\u001b[0m\u001b[1;33m)\u001b[0m\u001b[1;33m\u001b[0m\u001b[0m\n\u001b[0;32m    447\u001b[0m         \u001b[0moriginal_dpi\u001b[0m \u001b[1;33m=\u001b[0m \u001b[0mrenderer\u001b[0m\u001b[1;33m.\u001b[0m\u001b[0mdpi\u001b[0m\u001b[1;33m\u001b[0m\u001b[0m\n",
        "\u001b[1;32m/cellar/users/agross/semillon/epd/lib/python2.7/site-packages/matplotlib/backends/backend_agg.pyc\u001b[0m in \u001b[0;36mdraw\u001b[1;34m(self)\u001b[0m\n\u001b[0;32m    399\u001b[0m \u001b[1;33m\u001b[0m\u001b[0m\n\u001b[0;32m    400\u001b[0m         \u001b[0mself\u001b[0m\u001b[1;33m.\u001b[0m\u001b[0mrenderer\u001b[0m \u001b[1;33m=\u001b[0m \u001b[0mself\u001b[0m\u001b[1;33m.\u001b[0m\u001b[0mget_renderer\u001b[0m\u001b[1;33m(\u001b[0m\u001b[1;33m)\u001b[0m\u001b[1;33m\u001b[0m\u001b[0m\n\u001b[1;32m--> 401\u001b[1;33m         \u001b[0mself\u001b[0m\u001b[1;33m.\u001b[0m\u001b[0mfigure\u001b[0m\u001b[1;33m.\u001b[0m\u001b[0mdraw\u001b[0m\u001b[1;33m(\u001b[0m\u001b[0mself\u001b[0m\u001b[1;33m.\u001b[0m\u001b[0mrenderer\u001b[0m\u001b[1;33m)\u001b[0m\u001b[1;33m\u001b[0m\u001b[0m\n\u001b[0m\u001b[0;32m    402\u001b[0m \u001b[1;33m\u001b[0m\u001b[0m\n\u001b[0;32m    403\u001b[0m     \u001b[1;32mdef\u001b[0m \u001b[0mget_renderer\u001b[0m\u001b[1;33m(\u001b[0m\u001b[0mself\u001b[0m\u001b[1;33m)\u001b[0m\u001b[1;33m:\u001b[0m\u001b[1;33m\u001b[0m\u001b[0m\n",
        "\u001b[1;32m/cellar/users/agross/semillon/epd/lib/python2.7/site-packages/matplotlib/artist.pyc\u001b[0m in \u001b[0;36mdraw_wrapper\u001b[1;34m(artist, renderer, *args, **kwargs)\u001b[0m\n\u001b[0;32m     53\u001b[0m     \u001b[1;32mdef\u001b[0m \u001b[0mdraw_wrapper\u001b[0m\u001b[1;33m(\u001b[0m\u001b[0martist\u001b[0m\u001b[1;33m,\u001b[0m \u001b[0mrenderer\u001b[0m\u001b[1;33m,\u001b[0m \u001b[1;33m*\u001b[0m\u001b[0margs\u001b[0m\u001b[1;33m,\u001b[0m \u001b[1;33m**\u001b[0m\u001b[0mkwargs\u001b[0m\u001b[1;33m)\u001b[0m\u001b[1;33m:\u001b[0m\u001b[1;33m\u001b[0m\u001b[0m\n\u001b[0;32m     54\u001b[0m         \u001b[0mbefore\u001b[0m\u001b[1;33m(\u001b[0m\u001b[0martist\u001b[0m\u001b[1;33m,\u001b[0m \u001b[0mrenderer\u001b[0m\u001b[1;33m)\u001b[0m\u001b[1;33m\u001b[0m\u001b[0m\n\u001b[1;32m---> 55\u001b[1;33m         \u001b[0mdraw\u001b[0m\u001b[1;33m(\u001b[0m\u001b[0martist\u001b[0m\u001b[1;33m,\u001b[0m \u001b[0mrenderer\u001b[0m\u001b[1;33m,\u001b[0m \u001b[1;33m*\u001b[0m\u001b[0margs\u001b[0m\u001b[1;33m,\u001b[0m \u001b[1;33m**\u001b[0m\u001b[0mkwargs\u001b[0m\u001b[1;33m)\u001b[0m\u001b[1;33m\u001b[0m\u001b[0m\n\u001b[0m\u001b[0;32m     56\u001b[0m         \u001b[0mafter\u001b[0m\u001b[1;33m(\u001b[0m\u001b[0martist\u001b[0m\u001b[1;33m,\u001b[0m \u001b[0mrenderer\u001b[0m\u001b[1;33m)\u001b[0m\u001b[1;33m\u001b[0m\u001b[0m\n\u001b[0;32m     57\u001b[0m \u001b[1;33m\u001b[0m\u001b[0m\n",
        "\u001b[1;32m/cellar/users/agross/semillon/epd/lib/python2.7/site-packages/matplotlib/figure.pyc\u001b[0m in \u001b[0;36mdraw\u001b[1;34m(self, renderer)\u001b[0m\n\u001b[0;32m    882\u001b[0m         \u001b[0mdsu\u001b[0m\u001b[1;33m.\u001b[0m\u001b[0msort\u001b[0m\u001b[1;33m(\u001b[0m\u001b[0mkey\u001b[0m\u001b[1;33m=\u001b[0m\u001b[0mitemgetter\u001b[0m\u001b[1;33m(\u001b[0m\u001b[1;36m0\u001b[0m\u001b[1;33m)\u001b[0m\u001b[1;33m)\u001b[0m\u001b[1;33m\u001b[0m\u001b[0m\n\u001b[0;32m    883\u001b[0m         \u001b[1;32mfor\u001b[0m \u001b[0mzorder\u001b[0m\u001b[1;33m,\u001b[0m \u001b[0mfunc\u001b[0m\u001b[1;33m,\u001b[0m \u001b[0margs\u001b[0m \u001b[1;32min\u001b[0m \u001b[0mdsu\u001b[0m\u001b[1;33m:\u001b[0m\u001b[1;33m\u001b[0m\u001b[0m\n\u001b[1;32m--> 884\u001b[1;33m             \u001b[0mfunc\u001b[0m\u001b[1;33m(\u001b[0m\u001b[1;33m*\u001b[0m\u001b[0margs\u001b[0m\u001b[1;33m)\u001b[0m\u001b[1;33m\u001b[0m\u001b[0m\n\u001b[0m\u001b[0;32m    885\u001b[0m \u001b[1;33m\u001b[0m\u001b[0m\n\u001b[0;32m    886\u001b[0m         \u001b[0mrenderer\u001b[0m\u001b[1;33m.\u001b[0m\u001b[0mclose_group\u001b[0m\u001b[1;33m(\u001b[0m\u001b[1;34m'figure'\u001b[0m\u001b[1;33m)\u001b[0m\u001b[1;33m\u001b[0m\u001b[0m\n",
        "\u001b[1;32m/cellar/users/agross/semillon/epd/lib/python2.7/site-packages/matplotlib/artist.pyc\u001b[0m in \u001b[0;36mdraw_wrapper\u001b[1;34m(artist, renderer, *args, **kwargs)\u001b[0m\n\u001b[0;32m     53\u001b[0m     \u001b[1;32mdef\u001b[0m \u001b[0mdraw_wrapper\u001b[0m\u001b[1;33m(\u001b[0m\u001b[0martist\u001b[0m\u001b[1;33m,\u001b[0m \u001b[0mrenderer\u001b[0m\u001b[1;33m,\u001b[0m \u001b[1;33m*\u001b[0m\u001b[0margs\u001b[0m\u001b[1;33m,\u001b[0m \u001b[1;33m**\u001b[0m\u001b[0mkwargs\u001b[0m\u001b[1;33m)\u001b[0m\u001b[1;33m:\u001b[0m\u001b[1;33m\u001b[0m\u001b[0m\n\u001b[0;32m     54\u001b[0m         \u001b[0mbefore\u001b[0m\u001b[1;33m(\u001b[0m\u001b[0martist\u001b[0m\u001b[1;33m,\u001b[0m \u001b[0mrenderer\u001b[0m\u001b[1;33m)\u001b[0m\u001b[1;33m\u001b[0m\u001b[0m\n\u001b[1;32m---> 55\u001b[1;33m         \u001b[0mdraw\u001b[0m\u001b[1;33m(\u001b[0m\u001b[0martist\u001b[0m\u001b[1;33m,\u001b[0m \u001b[0mrenderer\u001b[0m\u001b[1;33m,\u001b[0m \u001b[1;33m*\u001b[0m\u001b[0margs\u001b[0m\u001b[1;33m,\u001b[0m \u001b[1;33m**\u001b[0m\u001b[0mkwargs\u001b[0m\u001b[1;33m)\u001b[0m\u001b[1;33m\u001b[0m\u001b[0m\n\u001b[0m\u001b[0;32m     56\u001b[0m         \u001b[0mafter\u001b[0m\u001b[1;33m(\u001b[0m\u001b[0martist\u001b[0m\u001b[1;33m,\u001b[0m \u001b[0mrenderer\u001b[0m\u001b[1;33m)\u001b[0m\u001b[1;33m\u001b[0m\u001b[0m\n\u001b[0;32m     57\u001b[0m \u001b[1;33m\u001b[0m\u001b[0m\n",
        "\u001b[1;32m/cellar/users/agross/semillon/epd/lib/python2.7/site-packages/matplotlib/axes.pyc\u001b[0m in \u001b[0;36mdraw\u001b[1;34m(self, renderer, inframe)\u001b[0m\n\u001b[0;32m   1880\u001b[0m             \u001b[0mself\u001b[0m\u001b[1;33m.\u001b[0m\u001b[0mapply_aspect\u001b[0m\u001b[1;33m(\u001b[0m\u001b[0mpos\u001b[0m\u001b[1;33m)\u001b[0m\u001b[1;33m\u001b[0m\u001b[0m\n\u001b[0;32m   1881\u001b[0m         \u001b[1;32melse\u001b[0m\u001b[1;33m:\u001b[0m\u001b[1;33m\u001b[0m\u001b[0m\n\u001b[1;32m-> 1882\u001b[1;33m             \u001b[0mself\u001b[0m\u001b[1;33m.\u001b[0m\u001b[0mapply_aspect\u001b[0m\u001b[1;33m(\u001b[0m\u001b[1;33m)\u001b[0m\u001b[1;33m\u001b[0m\u001b[0m\n\u001b[0m\u001b[0;32m   1883\u001b[0m \u001b[1;33m\u001b[0m\u001b[0m\n\u001b[0;32m   1884\u001b[0m \u001b[1;33m\u001b[0m\u001b[0m\n",
        "\u001b[1;32m/cellar/users/agross/semillon/epd/lib/python2.7/site-packages/matplotlib/axes.pyc\u001b[0m in \u001b[0;36mapply_aspect\u001b[1;34m(self, position)\u001b[0m\n\u001b[0;32m   1144\u001b[0m                 \u001b[0mbox_aspect\u001b[0m \u001b[1;33m=\u001b[0m \u001b[0mA\u001b[0m \u001b[1;33m*\u001b[0m \u001b[0mself\u001b[0m\u001b[1;33m.\u001b[0m\u001b[0mget_data_ratio\u001b[0m\u001b[1;33m(\u001b[0m\u001b[1;33m)\u001b[0m\u001b[1;33m\u001b[0m\u001b[0m\n\u001b[0;32m   1145\u001b[0m             \u001b[0mpb\u001b[0m \u001b[1;33m=\u001b[0m \u001b[0mposition\u001b[0m\u001b[1;33m.\u001b[0m\u001b[0mfrozen\u001b[0m\u001b[1;33m(\u001b[0m\u001b[1;33m)\u001b[0m\u001b[1;33m\u001b[0m\u001b[0m\n\u001b[1;32m-> 1146\u001b[1;33m             \u001b[0mpb1\u001b[0m \u001b[1;33m=\u001b[0m \u001b[0mpb\u001b[0m\u001b[1;33m.\u001b[0m\u001b[0mshrunk_to_aspect\u001b[0m\u001b[1;33m(\u001b[0m\u001b[0mbox_aspect\u001b[0m\u001b[1;33m,\u001b[0m \u001b[0mpb\u001b[0m\u001b[1;33m,\u001b[0m \u001b[0mfig_aspect\u001b[0m\u001b[1;33m)\u001b[0m\u001b[1;33m\u001b[0m\u001b[0m\n\u001b[0m\u001b[0;32m   1147\u001b[0m             \u001b[0mself\u001b[0m\u001b[1;33m.\u001b[0m\u001b[0mset_position\u001b[0m\u001b[1;33m(\u001b[0m\u001b[0mpb1\u001b[0m\u001b[1;33m.\u001b[0m\u001b[0manchored\u001b[0m\u001b[1;33m(\u001b[0m\u001b[0mself\u001b[0m\u001b[1;33m.\u001b[0m\u001b[0mget_anchor\u001b[0m\u001b[1;33m(\u001b[0m\u001b[1;33m)\u001b[0m\u001b[1;33m,\u001b[0m \u001b[0mpb\u001b[0m\u001b[1;33m)\u001b[0m\u001b[1;33m,\u001b[0m \u001b[1;34m'active'\u001b[0m\u001b[1;33m)\u001b[0m\u001b[1;33m\u001b[0m\u001b[0m\n\u001b[0;32m   1148\u001b[0m             \u001b[1;32mreturn\u001b[0m\u001b[1;33m\u001b[0m\u001b[0m\n",
        "\u001b[1;32m/cellar/users/agross/semillon/epd/lib/python2.7/site-packages/matplotlib/transforms.pyc\u001b[0m in \u001b[0;36mshrunk_to_aspect\u001b[1;34m(self, box_aspect, container, fig_aspect)\u001b[0m\n\u001b[0;32m    548\u001b[0m         \u001b[0mratio\u001b[0m \u001b[0mof\u001b[0m \u001b[0mthe\u001b[0m \u001b[0mabsolute\u001b[0m \u001b[0mdimensions\u001b[0m\u001b[1;33m,\u001b[0m \u001b[1;32mnot\u001b[0m \u001b[0mthe\u001b[0m \u001b[0mrelative\u001b[0m \u001b[0mdimensions\u001b[0m\u001b[1;33m.\u001b[0m\u001b[1;33m\u001b[0m\u001b[0m\n\u001b[0;32m    549\u001b[0m         \"\"\"\n\u001b[1;32m--> 550\u001b[1;33m         \u001b[1;32massert\u001b[0m \u001b[0mbox_aspect\u001b[0m \u001b[1;33m>\u001b[0m \u001b[1;36m0\u001b[0m \u001b[1;32mand\u001b[0m \u001b[0mfig_aspect\u001b[0m \u001b[1;33m>\u001b[0m \u001b[1;36m0\u001b[0m\u001b[1;33m\u001b[0m\u001b[0m\n\u001b[0m\u001b[0;32m    551\u001b[0m         \u001b[1;32mif\u001b[0m \u001b[0mcontainer\u001b[0m \u001b[1;32mis\u001b[0m \u001b[0mNone\u001b[0m\u001b[1;33m:\u001b[0m\u001b[1;33m\u001b[0m\u001b[0m\n\u001b[0;32m    552\u001b[0m             \u001b[0mcontainer\u001b[0m \u001b[1;33m=\u001b[0m \u001b[0mself\u001b[0m\u001b[1;33m\u001b[0m\u001b[0m\n",
        "\u001b[1;31mAssertionError\u001b[0m: "
       ]
      }
     ],
     "prompt_number": 129
    },
    {
     "cell_type": "code",
     "collapsed": true,
     "input": [
      "s1 = stage[stage == 4].index\n",
      "f = feature.ix[s1].dropna().astype(float)\n",
      "#f = (f - f.mean()) / f.std()\n",
      "f = f > 0\n",
      "draw_survival_curves_model(f, res.test, ann='Stage 4')\n",
      "Image(filename='tmp.png')"
     ],
     "language": "python",
     "metadata": {},
     "outputs": [
      {
       "ename": "RRuntimeError",
       "evalue": "Error in `contrasts<-`(`*tmp*`, value = contr.funs[1 + isOF[nn]]) : \n  contrasts can be applied only to factors with 2 or more levels\n",
       "output_type": "pyerr",
       "traceback": [
        "\u001b[1;31m---------------------------------------------------------------------------\u001b[0m\n\u001b[1;31mRRuntimeError\u001b[0m                             Traceback (most recent call last)",
        "\u001b[1;32m<ipython-input-113-d5da216d2a55>\u001b[0m in \u001b[0;36m<module>\u001b[1;34m()\u001b[0m\n\u001b[0;32m      3\u001b[0m \u001b[1;31m#f = (f - f.mean()) / f.std()\u001b[0m\u001b[1;33m\u001b[0m\u001b[1;33m\u001b[0m\u001b[0m\n\u001b[0;32m      4\u001b[0m \u001b[0mf\u001b[0m \u001b[1;33m=\u001b[0m \u001b[0mf\u001b[0m \u001b[1;33m>\u001b[0m \u001b[1;36m0\u001b[0m\u001b[1;33m\u001b[0m\u001b[0m\n\u001b[1;32m----> 5\u001b[1;33m \u001b[0mdraw_survival_curves_model\u001b[0m\u001b[1;33m(\u001b[0m\u001b[0mf\u001b[0m\u001b[1;33m,\u001b[0m \u001b[0mres\u001b[0m\u001b[1;33m.\u001b[0m\u001b[0mtest\u001b[0m\u001b[1;33m,\u001b[0m \u001b[0mann\u001b[0m\u001b[1;33m=\u001b[0m\u001b[1;34m'Stage 4'\u001b[0m\u001b[1;33m)\u001b[0m\u001b[1;33m\u001b[0m\u001b[0m\n\u001b[0m\u001b[0;32m      6\u001b[0m \u001b[0mImage\u001b[0m\u001b[1;33m(\u001b[0m\u001b[0mfilename\u001b[0m\u001b[1;33m=\u001b[0m\u001b[1;34m'tmp.png'\u001b[0m\u001b[1;33m)\u001b[0m\u001b[1;33m\u001b[0m\u001b[0m\n",
        "\u001b[1;32m/cellar/users/agross/TCGA_Code/TCGA/Pathway_Merge/src/Reports/Figures.pyc\u001b[0m in \u001b[0;36mdraw_survival_curves_model\u001b[1;34m(feature, test, filename, show, title, labels, colors, ann)\u001b[0m\n\u001b[0;32m    200\u001b[0m     \u001b[0mfmla\u001b[0m \u001b[1;33m=\u001b[0m \u001b[0mrobjects\u001b[0m\u001b[1;33m.\u001b[0m\u001b[0mFormula\u001b[0m\u001b[1;33m(\u001b[0m\u001b[1;34m'Surv(days, event) ~ feature'\u001b[0m\u001b[1;33m)\u001b[0m\u001b[1;33m\u001b[0m\u001b[0m\n\u001b[0;32m    201\u001b[0m     m = get_cox_ph_ms(test.surv, feature, test.covariates, \n\u001b[1;32m--> 202\u001b[1;33m                       return_val='model', formula=fmla)\n\u001b[0m\u001b[0;32m    203\u001b[0m     \u001b[0mls\u001b[0m \u001b[1;33m=\u001b[0m \u001b[0mr\u001b[0m\u001b[1;33m(\u001b[0m\u001b[1;34m'2:'\u001b[0m \u001b[1;33m+\u001b[0m \u001b[0mstr\u001b[0m\u001b[1;33m(\u001b[0m\u001b[0mlen\u001b[0m\u001b[1;33m(\u001b[0m\u001b[0mset\u001b[0m\u001b[1;33m(\u001b[0m\u001b[0mfeature\u001b[0m\u001b[1;33m)\u001b[0m\u001b[1;33m)\u001b[0m\u001b[1;33m+\u001b[0m\u001b[1;36m1\u001b[0m\u001b[1;33m)\u001b[0m\u001b[1;33m)\u001b[0m \u001b[1;31m#R line styles\u001b[0m\u001b[1;33m\u001b[0m\u001b[0m\n\u001b[0;32m    204\u001b[0m     \u001b[1;32mif\u001b[0m \u001b[0mfilename\u001b[0m\u001b[1;33m.\u001b[0m\u001b[0mendswith\u001b[0m\u001b[1;33m(\u001b[0m\u001b[1;34m'.png'\u001b[0m\u001b[1;33m)\u001b[0m\u001b[1;33m:\u001b[0m\u001b[1;33m\u001b[0m\u001b[0m\n",
        "\u001b[1;32m/cellar/users/agross/TCGA_Code/TCGA/Pathway_Merge/src/Processing/Tests.pyc\u001b[0m in \u001b[0;36mget_cox_ph_ms\u001b[1;34m(surv, feature, covariates, return_val, null_model, formula, get_model)\u001b[0m\n\u001b[0;32m     94\u001b[0m \u001b[1;33m\u001b[0m\u001b[0m\n\u001b[0;32m     95\u001b[0m     \u001b[1;32mif\u001b[0m \u001b[0mformula\u001b[0m \u001b[1;32mis\u001b[0m \u001b[1;32mnot\u001b[0m \u001b[0mNone\u001b[0m\u001b[1;33m:\u001b[0m\u001b[1;33m\u001b[0m\u001b[0m\n\u001b[1;32m---> 96\u001b[1;33m         \u001b[0ms\u001b[0m \u001b[1;33m=\u001b[0m \u001b[0msurvival\u001b[0m\u001b[1;33m.\u001b[0m\u001b[0mcoxph\u001b[0m\u001b[1;33m(\u001b[0m\u001b[0mfmla\u001b[0m\u001b[1;33m,\u001b[0m \u001b[0mdf\u001b[0m\u001b[1;33m)\u001b[0m\u001b[1;33m\u001b[0m\u001b[0m\n\u001b[0m\u001b[0;32m     97\u001b[0m     \u001b[1;32melse\u001b[0m\u001b[1;33m:\u001b[0m\u001b[1;33m\u001b[0m\u001b[0m\n\u001b[0;32m     98\u001b[0m         \u001b[0ms\u001b[0m \u001b[1;33m=\u001b[0m \u001b[0mcox_model_selection\u001b[0m\u001b[1;33m(\u001b[0m\u001b[0mfmla\u001b[0m\u001b[1;33m,\u001b[0m \u001b[0mdf\u001b[0m\u001b[1;33m)\u001b[0m\u001b[1;33m\u001b[0m\u001b[0m\n",
        "\u001b[1;32m/cellar/users/agross/semillon/epd/lib/python2.7/site-packages/rpy2/robjects/functions.pyc\u001b[0m in \u001b[0;36m__call__\u001b[1;34m(self, *args, **kwargs)\u001b[0m\n\u001b[0;32m     80\u001b[0m                 \u001b[0mv\u001b[0m \u001b[1;33m=\u001b[0m \u001b[0mkwargs\u001b[0m\u001b[1;33m.\u001b[0m\u001b[0mpop\u001b[0m\u001b[1;33m(\u001b[0m\u001b[0mk\u001b[0m\u001b[1;33m)\u001b[0m\u001b[1;33m\u001b[0m\u001b[0m\n\u001b[0;32m     81\u001b[0m                 \u001b[0mkwargs\u001b[0m\u001b[1;33m[\u001b[0m\u001b[0mr_k\u001b[0m\u001b[1;33m]\u001b[0m \u001b[1;33m=\u001b[0m \u001b[0mv\u001b[0m\u001b[1;33m\u001b[0m\u001b[0m\n\u001b[1;32m---> 82\u001b[1;33m         \u001b[1;32mreturn\u001b[0m \u001b[0msuper\u001b[0m\u001b[1;33m(\u001b[0m\u001b[0mSignatureTranslatedFunction\u001b[0m\u001b[1;33m,\u001b[0m \u001b[0mself\u001b[0m\u001b[1;33m)\u001b[0m\u001b[1;33m.\u001b[0m\u001b[0m__call__\u001b[0m\u001b[1;33m(\u001b[0m\u001b[1;33m*\u001b[0m\u001b[0margs\u001b[0m\u001b[1;33m,\u001b[0m \u001b[1;33m**\u001b[0m\u001b[0mkwargs\u001b[0m\u001b[1;33m)\u001b[0m\u001b[1;33m\u001b[0m\u001b[0m\n\u001b[0m",
        "\u001b[1;32m/cellar/users/agross/semillon/epd/lib/python2.7/site-packages/rpy2/robjects/functions.pyc\u001b[0m in \u001b[0;36m__call__\u001b[1;34m(self, *args, **kwargs)\u001b[0m\n\u001b[0;32m     32\u001b[0m         \u001b[1;32mfor\u001b[0m \u001b[0mk\u001b[0m\u001b[1;33m,\u001b[0m \u001b[0mv\u001b[0m \u001b[1;32min\u001b[0m \u001b[0mkwargs\u001b[0m\u001b[1;33m.\u001b[0m\u001b[0miteritems\u001b[0m\u001b[1;33m(\u001b[0m\u001b[1;33m)\u001b[0m\u001b[1;33m:\u001b[0m\u001b[1;33m\u001b[0m\u001b[0m\n\u001b[0;32m     33\u001b[0m             \u001b[0mnew_kwargs\u001b[0m\u001b[1;33m[\u001b[0m\u001b[0mk\u001b[0m\u001b[1;33m]\u001b[0m \u001b[1;33m=\u001b[0m \u001b[0mconversion\u001b[0m\u001b[1;33m.\u001b[0m\u001b[0mpy2ri\u001b[0m\u001b[1;33m(\u001b[0m\u001b[0mv\u001b[0m\u001b[1;33m)\u001b[0m\u001b[1;33m\u001b[0m\u001b[0m\n\u001b[1;32m---> 34\u001b[1;33m         \u001b[0mres\u001b[0m \u001b[1;33m=\u001b[0m \u001b[0msuper\u001b[0m\u001b[1;33m(\u001b[0m\u001b[0mFunction\u001b[0m\u001b[1;33m,\u001b[0m \u001b[0mself\u001b[0m\u001b[1;33m)\u001b[0m\u001b[1;33m.\u001b[0m\u001b[0m__call__\u001b[0m\u001b[1;33m(\u001b[0m\u001b[1;33m*\u001b[0m\u001b[0mnew_args\u001b[0m\u001b[1;33m,\u001b[0m \u001b[1;33m**\u001b[0m\u001b[0mnew_kwargs\u001b[0m\u001b[1;33m)\u001b[0m\u001b[1;33m\u001b[0m\u001b[0m\n\u001b[0m\u001b[0;32m     35\u001b[0m         \u001b[0mres\u001b[0m \u001b[1;33m=\u001b[0m \u001b[0mconversion\u001b[0m\u001b[1;33m.\u001b[0m\u001b[0mri2py\u001b[0m\u001b[1;33m(\u001b[0m\u001b[0mres\u001b[0m\u001b[1;33m)\u001b[0m\u001b[1;33m\u001b[0m\u001b[0m\n\u001b[0;32m     36\u001b[0m         \u001b[1;32mreturn\u001b[0m \u001b[0mres\u001b[0m\u001b[1;33m\u001b[0m\u001b[0m\n",
        "\u001b[1;31mRRuntimeError\u001b[0m: Error in `contrasts<-`(`*tmp*`, value = contr.funs[1 + isOF[nn]]) : \n  contrasts can be applied only to factors with 2 or more levels\n"
       ]
      }
     ],
     "prompt_number": 113
    },
    {
     "cell_type": "code",
     "collapsed": false,
     "input": [
      "f.value_counts()"
     ],
     "language": "python",
     "metadata": {},
     "outputs": [
      {
       "output_type": "pyout",
       "prompt_number": 120,
       "text": [
        "False    71\n",
        "True      5"
       ]
      }
     ],
     "prompt_number": 120
    },
    {
     "cell_type": "code",
     "collapsed": false,
     "input": [
      "s1 = stage[stage == 3].index\n",
      "f = feature.ix[s1].dropna().astype(float)\n",
      "#f = (f - f.mean()) / f.std()\n",
      "f = f > 0\n",
      "draw_survival_curves_model(f, res.test, ann='Stage 3')\n",
      "Image(filename='tmp.png')"
     ],
     "language": "python",
     "metadata": {},
     "outputs": [
      {
       "output_type": "pyout",
       "png": "[encoded data removed]",
       "prompt_number": 127,
       "text": [
        "<IPython.core.display.Image at 0x9c58bd0>"
       ]
      }
     ],
     "prompt_number": 127
    },
    {
     "cell_type": "code",
     "collapsed": false,
     "input": [
      "s1 = stage[stage == 2].index\n",
      "f = feature.ix[s1].dropna().astype(float)\n",
      "#f = (f - f.mean()) / f.std()\n",
      "f = f > 0\n",
      "draw_survival_curves_model(f, res.test, labels=['low','high'], ann='Stage 2')\n",
      "Image(filename='tmp.png')"
     ],
     "language": "python",
     "metadata": {},
     "outputs": [
      {
       "output_type": "pyout",
       "png": "[encoded data removed]",
       "prompt_number": 77,
       "text": [
        "<IPython.core.display.Image at 0x9213cd0>"
       ]
      }
     ],
     "prompt_number": 77
    },
    {
     "cell_type": "code",
     "collapsed": false,
     "input": [
      "clinical.survival.survival.ix[feature[feature > 0].index].unstack().sort(columns=['event', 'days'])"
     ],
     "language": "python",
     "metadata": {},
     "outputs": [
      {
       "html": [
        "<div style=\"max-height:1000px;max-width:1500px;overflow:auto;\">\n",
        "<table border=\"1\" class=\"dataframe\">\n",
        "  <thead>\n",
        "    <tr style=\"text-align: right;\">\n",
        "      <th></th>\n",
        "      <th>days</th>\n",
        "      <th>event</th>\n",
        "    </tr>\n",
        "  </thead>\n",
        "  <tbody>\n",
        "    <tr>\n",
        "      <td><strong>TCGA-B0-5120</strong></td>\n",
        "      <td>   55</td>\n",
        "      <td> 0</td>\n",
        "    </tr>\n",
        "    <tr>\n",
        "      <td><strong>TCGA-EU-5907</strong></td>\n",
        "      <td>  126</td>\n",
        "      <td> 0</td>\n",
        "    </tr>\n",
        "    <tr>\n",
        "      <td><strong>TCGA-B0-5097</strong></td>\n",
        "      <td>  151</td>\n",
        "      <td> 0</td>\n",
        "    </tr>\n",
        "    <tr>\n",
        "      <td><strong>TCGA-EU-5906</strong></td>\n",
        "      <td>  206</td>\n",
        "      <td> 0</td>\n",
        "    </tr>\n",
        "    <tr>\n",
        "      <td><strong>TCGA-B0-5703</strong></td>\n",
        "      <td>  262</td>\n",
        "      <td> 0</td>\n",
        "    </tr>\n",
        "    <tr>\n",
        "      <td><strong>TCGA-B0-5400</strong></td>\n",
        "      <td>  677</td>\n",
        "      <td> 0</td>\n",
        "    </tr>\n",
        "    <tr>\n",
        "      <td><strong>TCGA-CZ-4853</strong></td>\n",
        "      <td>  774</td>\n",
        "      <td> 0</td>\n",
        "    </tr>\n",
        "    <tr>\n",
        "      <td><strong>TCGA-BP-4986</strong></td>\n",
        "      <td>  785</td>\n",
        "      <td> 0</td>\n",
        "    </tr>\n",
        "    <tr>\n",
        "      <td><strong>TCGA-B0-5697</strong></td>\n",
        "      <td> 1135</td>\n",
        "      <td> 0</td>\n",
        "    </tr>\n",
        "    <tr>\n",
        "      <td><strong>TCGA-B0-5702</strong></td>\n",
        "      <td> 1158</td>\n",
        "      <td> 0</td>\n",
        "    </tr>\n",
        "    <tr>\n",
        "      <td><strong>TCGA-BP-4963</strong></td>\n",
        "      <td> 1834</td>\n",
        "      <td> 0</td>\n",
        "    </tr>\n",
        "    <tr>\n",
        "      <td><strong>TCGA-CJ-6027</strong></td>\n",
        "      <td> 1855</td>\n",
        "      <td> 0</td>\n",
        "    </tr>\n",
        "    <tr>\n",
        "      <td><strong>TCGA-BP-4961</strong></td>\n",
        "      <td> 1935</td>\n",
        "      <td> 0</td>\n",
        "    </tr>\n",
        "    <tr>\n",
        "      <td><strong>TCGA-CW-5588</strong></td>\n",
        "      <td> 2016</td>\n",
        "      <td> 0</td>\n",
        "    </tr>\n",
        "    <tr>\n",
        "      <td><strong>TCGA-BP-5174</strong></td>\n",
        "      <td> 2257</td>\n",
        "      <td> 0</td>\n",
        "    </tr>\n",
        "    <tr>\n",
        "      <td><strong>TCGA-B0-5707</strong></td>\n",
        "      <td> 2592</td>\n",
        "      <td> 0</td>\n",
        "    </tr>\n",
        "    <tr>\n",
        "      <td><strong>TCGA-BP-4167</strong></td>\n",
        "      <td> 2718</td>\n",
        "      <td> 0</td>\n",
        "    </tr>\n",
        "    <tr>\n",
        "      <td><strong>TCGA-B0-4823</strong></td>\n",
        "      <td>  454</td>\n",
        "      <td> 1</td>\n",
        "    </tr>\n",
        "    <tr>\n",
        "      <td><strong>TCGA-B0-5075</strong></td>\n",
        "      <td>  608</td>\n",
        "      <td> 1</td>\n",
        "    </tr>\n",
        "    <tr>\n",
        "      <td><strong>TCGA-B0-5077</strong></td>\n",
        "      <td> 1291</td>\n",
        "      <td> 1</td>\n",
        "    </tr>\n",
        "  </tbody>\n",
        "</table>\n",
        "</div>"
       ],
       "output_type": "pyout",
       "prompt_number": 126,
       "text": [
        "              days  event\n",
        "TCGA-B0-5120    55      0\n",
        "TCGA-EU-5907   126      0\n",
        "TCGA-B0-5097   151      0\n",
        "TCGA-EU-5906   206      0\n",
        "TCGA-B0-5703   262      0\n",
        "TCGA-B0-5400   677      0\n",
        "TCGA-CZ-4853   774      0\n",
        "TCGA-BP-4986   785      0\n",
        "TCGA-B0-5697  1135      0\n",
        "TCGA-B0-5702  1158      0\n",
        "TCGA-BP-4963  1834      0\n",
        "TCGA-CJ-6027  1855      0\n",
        "TCGA-BP-4961  1935      0\n",
        "TCGA-CW-5588  2016      0\n",
        "TCGA-BP-5174  2257      0\n",
        "TCGA-B0-5707  2592      0\n",
        "TCGA-BP-4167  2718      0\n",
        "TCGA-B0-4823   454      1\n",
        "TCGA-B0-5075   608      1\n",
        "TCGA-B0-5077  1291      1"
       ]
      }
     ],
     "prompt_number": 126
    },
    {
     "cell_type": "code",
     "collapsed": false,
     "input": [],
     "language": "python",
     "metadata": {},
     "outputs": []
    },
    {
     "cell_type": "code",
     "collapsed": false,
     "input": [
      "s1 = stage[stage == 1].index\n",
      "f = feature.ix[s1].dropna().astype(float)\n",
      "#f = (f - f.mean()) / f.std()\n",
      "f = f > 0\n",
      "draw_survival_curves_model(f, res.test, ann='Stage 1')\n",
      "Image(filename='tmp.png')"
     ],
     "language": "python",
     "metadata": {},
     "outputs": [
      {
       "output_type": "pyout",
       "png": "[encoded data removed]",
       "prompt_number": 117,
       "text": [
        "<IPython.core.display.Image at 0x9db2d50>"
       ]
      }
     ],
     "prompt_number": 117
    },
    {
     "cell_type": "code",
     "collapsed": false,
     "input": [
      "draw_survival_curves_model(stage, res.test, labels=[1,2,3,4])\n",
      "Image(filename='tmp.png')"
     ],
     "language": "python",
     "metadata": {},
     "outputs": [
      {
       "output_type": "pyout",
       "png": "[encoded data removed]",
       "prompt_number": 155,
       "text": [
        "<IPython.core.display.Image at 0x5cd0090>"
       ]
      }
     ],
     "prompt_number": 155
    },
    {
     "cell_type": "code",
     "collapsed": false,
     "input": [
      "feature = thresholded.index[0]\n",
      "fmla = thresholded.ix[feature, 'fmla']\n",
      "feature = data.features.ix[feature]"
     ],
     "language": "python",
     "metadata": {},
     "outputs": [],
     "prompt_number": 299
    },
    {
     "cell_type": "code",
     "collapsed": false,
     "input": [
      "curves = nz.newFigure(fig_path + feature.name + '.png')\n",
      "m = get_cox_ph_ms(res.test.surv, feature, res.test.covariates, return_val='model', formula=fmla)\n",
      "coef = com.convert_robj(base.summary(m)  .rx2('coefficients'))\n",
      "coef = NozzleTable2(coef, caption='Model Coefficients', idx_name='covariate')\n",
      "summary = str(m).split('\\n')[-2]"
     ],
     "language": "python",
     "metadata": {},
     "outputs": [],
     "prompt_number": 300
    },
    {
     "cell_type": "code",
     "collapsed": false,
     "input": [
      "def add_cox_result(tab, p):\n",
      "    f = fig_path + p + '_' + val + '.png'\n",
      "    create_figure_bool(cancer, val, cancer.meta_matrix.ix[p], f)\n",
      "    \n",
      "    m = base.summary(models[p])\n",
      "    coef = com.convert_robj(m.rx2('coefficients'))\n",
      "    coef = NozzleTable2(coef, caption='Model Coefficients', idx_name='covariate')\n",
      "    f = fig_path + p + '.png'\n",
      "    create_figure_bool(cancer, 'pathway_bar', cancer.meta_matrix.ix[p], f)\n",
      "    counts = nz.newFigure(f)\n",
      "    result = nz.newResult('')\n",
      "    result = nz.addTo(result, nz.addTo(nz.newSubSection('Cox Model for ' + p), curves,\n",
      "                        coef.nozzle_table), counts)\n",
      "    tab.add_to_table(result, p, 'Pathway')"
     ],
     "language": "python",
     "metadata": {},
     "outputs": []
    },
    {
     "cell_type": "code",
     "collapsed": false,
     "input": [
      "   \n",
      " \n",
      "        \n",
      "    #fig_path_rel = '/'.join(['..'] + cancer.report_folder.split('/')[-2:]) + FIG_EXT    \n",
      "    fig = nz.newFigure(fig_path + 'good_guys_nl.png', \n",
      "                       fileHighRes=fig_path + 'good_guys.png')\n",
      "    tab = NozzleTable2(good_guys, idx_name='Pathway')\n",
      "    \n",
      "    for p in tab.table.index:\n",
      "        add_cox_result(tab, p)\n",
      "    \n",
      "    good_section = nz.newSection('Good Guys')\n",
      "    good_section = nz.addTo(good_section, fig, tab.nozzle_table)\n",
      "    #report = nz.addToResults(report, good_section)\n",
      "    \n",
      "    fig = nz.newFigure(fig_path + 'bad_guys_nl.png', \n",
      "                       fileHighRes=fig_path + 'bad_guys.png')\n",
      "    tab = NozzleTable2(bad_guys, idx_name='Pathway')\n",
      "    \n",
      "    for p in tab.table.index:\n",
      "        add_cox_result(tab, p)\n",
      "    \n",
      "    bad_section = nz.newSection('Bad Guys')\n",
      "    bad_section = nz.addTo(bad_section, fig, tab.nozzle_table)\n",
      "    #report = nz.addToResults(report, bad_section)\n",
      "    return good_section, bad_section\n",
      "    #nz.writeReport(report, filename=cancer.data_path + cancer.report_folder + 'survival')"
     ],
     "language": "python",
     "metadata": {},
     "outputs": []
    },
    {
     "cell_type": "code",
     "collapsed": false,
     "input": [
      "    def add_cox_result(tab, p):\n",
      "        f = fig_path + p + '_' + val + '.png'\n",
      "        create_figure_bool(cancer, val, cancer.meta_matrix.ix[p], f)\n",
      "        curves = nz.newFigure(f)\n",
      "        m = base.summary(models[p])\n",
      "        coef = com.convert_robj(m.rx2('coefficients'))\n",
      "        coef = NozzleTable2(coef, caption='Model Coefficients', idx_name='covariate')\n",
      "        f = fig_path + p + '.png'\n",
      "        create_figure_bool(cancer, 'pathway_bar', cancer.meta_matrix.ix[p], f)\n",
      "        counts = nz.newFigure(f)\n",
      "        result = nz.newResult('')\n",
      "        result = nz.addTo(result, nz.addTo(nz.newSubSection('Cox Model for ' + p), curves,\n",
      "                            coef.nozzle_table), counts)\n",
      "        tab.add_to_table(result, p, 'Pathway') \n",
      "        \n",
      "    #fig_path_rel = '/'.join(['..'] + cancer.report_folder.split('/')[-2:]) + FIG_EXT    \n",
      "    fig = nz.newFigure(fig_path + 'good_guys_nl.png', \n",
      "                       fileHighRes=fig_path + 'good_guys.png')\n",
      "    tab = NozzleTable2(good_guys, idx_name='Pathway')\n",
      "    \n",
      "    for p in tab.table.index:\n",
      "        add_cox_result(tab, p)"
     ],
     "language": "python",
     "metadata": {},
     "outputs": []
    }
   ],
   "metadata": {}
  }
 ]
}