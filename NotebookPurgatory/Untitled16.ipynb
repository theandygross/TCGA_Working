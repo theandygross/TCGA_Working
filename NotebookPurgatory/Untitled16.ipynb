{
 "metadata": {
  "name": "Untitled16"
 },
 "nbformat": 3,
 "nbformat_minor": 0,
 "worksheets": [
  {
   "cells": [
    {
     "cell_type": "markdown",
     "metadata": {},
     "source": [
      "#HNSC Copy Number Event Screen \n",
      "* This is a screen for survival associated copy-number event features. \n",
      "* I am using the results of the [GISTIC2](http://www.broadinstitute.org/cgi-bin/cancer/publications/pub_paper.cgi?mode=view&paper_id=216&p=t) analysis for the event calls. \n",
      "* Briefly their encoding for CN events is as follows:\n",
      "    * -2 homozygous loss\n",
      "    * -1 heterozygous loss\n",
      "    * 0 diploid\n",
      "    * 1 amplification\n",
      "    * 2 high grade amplification\n",
      "* There are two types of features: \n",
      "    * Lesions are events that occur on a broad level  \n",
      "    * Gene level events are localized to a gene\n",
      "* Since gene level events on a shared copy-number band are usually highly correlated I combine them for the sake of limiting the number of tests preformed."
     ]
    },
    {
     "cell_type": "code",
     "collapsed": false,
     "input": [
      "cd ../src/"
     ],
     "language": "python",
     "metadata": {},
     "outputs": [
      {
       "output_type": "stream",
       "stream": "stdout",
       "text": [
        "/cellar/users/agross/TCGA_Code/TCGA/Pathway_Merge/src\n"
       ]
      }
     ],
     "prompt_number": 2
    },
    {
     "cell_type": "code",
     "collapsed": false,
     "input": [
      "import pandas as pd"
     ],
     "language": "python",
     "metadata": {},
     "outputs": [],
     "prompt_number": 4
    },
    {
     "cell_type": "code",
     "collapsed": false,
     "input": [
      "def get_gistic_lesions(cancer_name, data_path):\n",
      "    gistic_ext = data_path + '/'.join(['analyses', cancer_name, \n",
      "                                       'CopyNumber_Gistic2', ''])\n",
      "    gistic = pd.read_table(gistic_ext + 'all_lesions.conf_99.txt', index_col=[0,1])\n",
      "    lesions = gistic.select(lambda s: 'TCGA' in s, axis=1) \n",
      "    lesions = lesions.select(lambda s: 'values' not in s[0], axis=0) \n",
      "    lesions = lesions.rename(columns=lambda s: s[:12])\n",
      "    from_tuples = pd.MultiIndex.from_tuples\n",
      "    lesions.index = from_tuples([(s[0].split(' ')[0], s[1].strip(), 'Lesion') \n",
      "                                 for s in lesions.index])\n",
      "    lesions = lesions.groupby(level=[0,1,2]).first()\n",
      "    lesions.T['Deletion'] = (lesions.T['Deletion']*-1).replace(-0,0)\n",
      "    return lesions"
     ],
     "language": "python",
     "metadata": {},
     "outputs": [],
     "prompt_number": 5
    },
    {
     "cell_type": "code",
     "collapsed": false,
     "input": [
      "def get_gistic_genes(cancer_name, data_path, filter_with_rna=True, \n",
      "                     collapse_on_bands=True, min_patients=5):\n",
      "    gistic_ext = data_path + '/'.join(['analyses', cancer_name, \n",
      "                                       'CopyNumber_Gistic2', ''])\n",
      "    gistic = read_table(gistic_ext + 'all_thresholded.by_genes.txt', \n",
      "                        index_col=[2,1,0])\n",
      "    gistic = gistic.rename(columns=lambda s: s[:12]).astype(float)\n",
      "\n",
      "    deletion = gistic[(gistic == -2).sum(1) > min_patients]\n",
      "    amp = gistic[(gistic == 2).sum(1) > min_patients]\n",
      "    ft = pd.MultiIndex.from_tuples #rediculously long pandas names\n",
      "    deletion.index = ft([('Deletion', s[0], s[2]) for s in deletion.index])\n",
      "    amp.index = ft([('Amplification', s[0], s[2]) for s in amp.index])\n",
      "    \n",
      "    if filter_with_rna:\n",
      "        rna = read_rnaSeq(cancer_name, data_path, average_on_genes=True)\n",
      "        def rna_filter(df, val):\n",
      "            p_vals = Series({g: kruskal_p(df.ix[g] == val, rna.ix[g[-1]]) \n",
      "                             for g in df.index if g[-1] in rna.index})\n",
      "            q_vals = bhCorrection(p_vals)\n",
      "            return df.ix[q_vals[q_vals < .1].index]\n",
      "        deletion = rna_filter(deletion, -2)\n",
      "        amp = rna_filter(amp, 2)"
     ],
     "language": "python",
     "metadata": {},
     "outputs": []
    },
    {
     "cell_type": "code",
     "collapsed": false,
     "input": [
      "data_path = '/scratch/TCGA/Firehose__2012_01_16/'\n",
      "cancer = 'HNSC'"
     ],
     "language": "python",
     "metadata": {},
     "outputs": [],
     "prompt_number": 7
    },
    {
     "cell_type": "code",
     "collapsed": false,
     "input": [
      "get_gistic_lesions(cancer, data_path)"
     ],
     "language": "python",
     "metadata": {},
     "outputs": [
      {
       "html": [
        "<pre>\n",
        "&ltclass 'pandas.core.frame.DataFrame'&gt\n",
        "MultiIndex: 72 entries, (Amplification, 11p11.2, Lesion) to (Deletion, Xq21.33, Lesion)\n",
        "Columns: 322 entries, TCGA-BA-4074 to TCGA-IQ-7632\n",
        "dtypes: float64(322)\n",
        "</pre>"
       ],
       "output_type": "pyout",
       "prompt_number": 8,
       "text": [
        "<class 'pandas.core.frame.DataFrame'>\n",
        "MultiIndex: 72 entries, (Amplification, 11p11.2, Lesion) to (Deletion, Xq21.33, Lesion)\n",
        "Columns: 322 entries, TCGA-BA-4074 to TCGA-IQ-7632\n",
        "dtypes: float64(322)"
       ]
      }
     ],
     "prompt_number": 8
    },
    {
     "cell_type": "code",
     "collapsed": false,
     "input": [],
     "language": "python",
     "metadata": {},
     "outputs": []
    }
   ],
   "metadata": {}
  }
 ]
}