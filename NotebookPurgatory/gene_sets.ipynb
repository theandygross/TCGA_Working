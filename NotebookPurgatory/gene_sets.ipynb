{
 "metadata": {
  "name": "gene_sets"
 },
 "nbformat": 3,
 "nbformat_minor": 0,
 "worksheets": [
  {
   "cells": [
    {
     "cell_type": "code",
     "collapsed": false,
     "input": [
      "import pandas as pd"
     ],
     "language": "python",
     "metadata": {},
     "outputs": [],
     "prompt_number": 1
    },
    {
     "cell_type": "code",
     "collapsed": false,
     "input": [
      "tab = pd.read_table('/cellar/users/agross/Downloads/mart_export (5).txt')"
     ],
     "language": "python",
     "metadata": {},
     "outputs": [],
     "prompt_number": 2
    },
    {
     "cell_type": "code",
     "collapsed": false,
     "input": [
      "families = tab.groupby('Gene Family Name').agg(lambda s: set(s['Approved Symbol']))\n",
      "families = families['Approved Symbol']"
     ],
     "language": "python",
     "metadata": {},
     "outputs": [],
     "prompt_number": 3
    },
    {
     "cell_type": "code",
     "collapsed": false,
     "input": [
      "counts = families.map(len)\n",
      "families = families[counts > 1]"
     ],
     "language": "python",
     "metadata": {},
     "outputs": [],
     "prompt_number": 4
    },
    {
     "cell_type": "code",
     "collapsed": false,
     "input": [
      "complexes = pd.read_csv('/cellar/users/agross/Data/GeneSets/complexes.csv', delimiter=';', index_col=0)\n",
      "complexes = complexes[complexes.organism.isin(['Mammalia', 'Human'])]\n",
      "counts = complexes['subunits (Entrez IDs)'].apply(lambda s: len(s.split(',')))\n",
      "complexes = complexes[counts > 1]"
     ],
     "language": "python",
     "metadata": {},
     "outputs": [],
     "prompt_number": 25
    },
    {
     "cell_type": "code",
     "collapsed": false,
     "input": [
      "entrez_to_hugo = pd.read_table('/cellar/users/agross/Downloads/mart_export (6).txt')\n",
      "entrez_to_hugo = entrez_to_hugo.dropna().set_index('Entrez Gene ID')['Approved Symbol']"
     ],
     "language": "python",
     "metadata": {},
     "outputs": [],
     "prompt_number": 56
    },
    {
     "cell_type": "code",
     "collapsed": false,
     "input": [
      "lo = {}\n",
      "for c,v in complexes.iterrows():\n",
      "    genes = v['subunits (Entrez IDs)'].replace('(','').replace(')','')\n",
      "    genes = [entrez_to_hugo[float(g)] for g in genes.split(',') if g and float(g) in entrez_to_hugo]\n",
      "    lo[v['Complex name']] = genes\n",
      "lo = pd.Series(lo)"
     ],
     "language": "python",
     "metadata": {},
     "outputs": [],
     "prompt_number": 92
    },
    {
     "cell_type": "code",
     "collapsed": false,
     "input": [
      "lo.to_csv('/cellar/users/agross/Data/GeneSets/complexes_sets.csv')"
     ],
     "language": "python",
     "metadata": {},
     "outputs": [],
     "prompt_number": 94
    },
    {
     "cell_type": "code",
     "collapsed": false,
     "input": [
      "lo"
     ],
     "language": "python",
     "metadata": {},
     "outputs": [
      {
       "output_type": "pyout",
       "prompt_number": 95,
       "text": [
        "(E.F.G) complex                                                        [SNRPE, SNRPF, SNRPG]\n",
        "12S U11 snRNP                              [SNRNP25, SNRNP48, PDCD7, PRKRIP1, SRSF7, SNRP...\n",
        "13S condensin complex                                     [NCAPD2, NCAPG, NCAPH, SMC2, SMC4]\n",
        "17S U2 snRNP                               [CHERP, DDX46, DHX15, DNAJC8, HMG20B, HSPD1, P...\n",
        "18S U11/U12 snRNP                          [SNRNP25, SNRNP48, DHX15, PDCD7, PRPF8, RNPC3,...\n",
        "20S proteasome                             [PSMA1, PSMA2, PSMA3, PSMA4, PSMA5, PSMA6, PSM...\n",
        "26S proteasome                             [PSMA1, PSMA2, PSMA3, PSMA4, PSMA5, PSMA6, PSM...\n",
        "5S-DNA-TFIIIA-TFIIIC2 subcomplex             [GTF3A, GTF3C1, GTF3C2, GTF3C3, GTF3C4, GTF3C5]\n",
        "5S-DNA-TFIIIA-TFIIIC2-TFIIIB subcomplex    [BDP1, BRF1, GTF3A, GTF3C1, GTF3C2, GTF3C3, GT...\n",
        "9-1-1 complex                                                            [HUS1, RAD1, RAD9A]\n",
        "AFF1-MLLT1-CBX8 complex                                                  [AFF1, CBX8, MLLT1]\n",
        "AIF-CYPA-DNA complex                                                           [AIFM1, PPIA]\n",
        "ALL-1 supercomplex                         [KDM1A, CHD3, CPSF2, EFTUD2, HDAC1, HDAC2, MBD...\n",
        "AR coactivator complex                                                [CLNS1A, PRMT5, WDR77]\n",
        "ARC complex                                [CCNC, CDK8, MED1, MED12, MED13, MED14, MED15,...\n",
        "...\n",
        "p27-cyclinD2-Cdk4 complex                                                       []\n",
        "p27-cyclinE-CDK2 complex                                     [CCNE1, CDK2, CDKN1B]\n",
        "p300-CBP-p270 complex                                      [ARID1A, CREBBP, EP300]\n",
        "p300-CBP-p270-SWI/SNF complex    [ARID1A, CREBBP, EP300, SMARCA4, SMARCB1, SMAR...\n",
        "p300-MDM2-p53 protein complex                                  [EP300, MDM2, TP53]\n",
        "p32-CBF-DNA complex                                      [C1QBP, NFYA, NFYB, NFYC]\n",
        "p33ING1b-HDAC1 complex                                               [HDAC1, ING1]\n",
        "p33ING1b-PCNA complex                                             [ING1, KIAA0101]\n",
        "p33ING1b-p300 complex                                                [EP300, ING1]\n",
        "p400-associated complex          [ACTB, EP400, RUVBL1, RUVBL2, TRRAP, ACTL6A, A...\n",
        "p53-SP1 complex                                                             [TP53]\n",
        "p54(nrb)-PSF-matrin3 complex                                   [MATR3, NONO, SFPQ]\n",
        "pRB-E2F-1 complex                                                      [E2F1, RB1]\n",
        "snRNP-free U1A (SF-A) complex                            [DDX5, NONO, SFPQ, SNRPA]\n",
        "tRNA splicing endonuclease                   [CLP1, TSEN15, TSEN2, TSEN34, TSEN54]\n",
        "Length: 697"
       ]
      }
     ],
     "prompt_number": 95
    },
    {
     "cell_type": "code",
     "collapsed": false,
     "input": [],
     "language": "python",
     "metadata": {},
     "outputs": []
    }
   ],
   "metadata": {}
  }
 ]
}