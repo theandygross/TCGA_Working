{
 "metadata": {
  "name": "process_data_to_csvs"
 },
 "nbformat": 3,
 "nbformat_minor": 0,
 "worksheets": [
  {
   "cells": [
    {
     "cell_type": "code",
     "collapsed": false,
     "input": [
      "cd ../src"
     ],
     "language": "python",
     "metadata": {},
     "outputs": [
      {
       "output_type": "stream",
       "stream": "stdout",
       "text": [
        "/cellar/users/agross/TCGA_Code/TCGA/Pathway_Merge/src\n"
       ]
      }
     ],
     "prompt_number": 1
    },
    {
     "cell_type": "code",
     "collapsed": false,
     "input": [
      "import os as os\n",
      "import pickle as pickle\n",
      "\n",
      "from Data.Containers import Run, Cancer, Clinical, Dataset\n",
      "from Processing.GlobalFeatures import get_global_vars\n",
      "from pandas import Series, DataFrame"
     ],
     "language": "python",
     "metadata": {},
     "outputs": [],
     "prompt_number": 2
    },
    {
     "cell_type": "code",
     "collapsed": false,
     "input": [
      "result_path = '/scratch/TCGA/Firehose__2012_12_21/ucsd_analyses'\n",
      "run = sorted(os.listdir(result_path))[-1]\n",
      "run = pickle.load(open('/'.join([result_path, run, 'RunObject.p']), 'rb'))"
     ],
     "language": "python",
     "metadata": {},
     "outputs": [],
     "prompt_number": 25
    },
    {
     "cell_type": "code",
     "collapsed": false,
     "input": [
      "from Data.Firehose import *"
     ],
     "language": "python",
     "metadata": {},
     "outputs": [],
     "prompt_number": 30
    },
    {
     "cell_type": "code",
     "collapsed": false,
     "input": [
      "def check_save(df, cancer, data_type, filename):\n",
      "    path = run.data_path + 'ucsd_processing/' + cancer + '/'\n",
      "    if not os.path.isdir(path + data_type):\n",
      "        os.makedirs(path + data_type)\n",
      "    df.to_csv(path + data_type + '/' + filename)\n",
      "    "
     ],
     "language": "python",
     "metadata": {},
     "outputs": [],
     "prompt_number": 35
    },
    {
     "cell_type": "code",
     "collapsed": false,
     "input": [
      "for cancer in run.cancers:\n",
      "    try:\n",
      "        rnaSeq = read_rnaSeq(cancer, run.data_path, average_on_genes=True)\n",
      "        check_save(rnaSeq, cancer, 'rnaSeq', 'averaged_on_genes.csv')\n",
      "    except:\n",
      "        print 'rnaSeq', cancer\n",
      "    \n",
      "    try:\n",
      "        mutation = get_mutation_matrix(run.data_path, cancer)\n",
      "        check_save(mutation, cancer, 'mutation', 'hit_matrix.csv')\n",
      "    except:\n",
      "        print 'mutation', cancer\n",
      "     \n",
      "    try:\n",
      "        gistic = get_gistic_gene_matrix(run.data_path, cancer)\n",
      "        check_save(gistic, cancer, 'copy_number', 'gistic_matrix.csv')\n",
      "    except:\n",
      "        print 'CN', cancer\n",
      "        \n",
      "    try:\n",
      "        mrna = read_mrna(cancer, run.data_path)\n",
      "        check_save(mrna, cancer, 'mRNA', 'normalized_expression.csv')\n",
      "    except:\n",
      "        print 'mRNA', cancer"
     ],
     "language": "python",
     "metadata": {},
     "outputs": [
      {
       "output_type": "stream",
       "stream": "stdout",
       "text": [
        "mRNA BLCA\n",
        "mRNA"
       ]
      },
      {
       "output_type": "stream",
       "stream": "stdout",
       "text": [
        " CESC\n",
        "rnaSeq"
       ]
      },
      {
       "output_type": "stream",
       "stream": "stdout",
       "text": [
        " DLBC\n",
        "mutation DLBC\n",
        "mRNA"
       ]
      },
      {
       "output_type": "stream",
       "stream": "stdout",
       "text": [
        " DLBC\n",
        "rnaSeq ESCA\n",
        "mutation ESCA\n",
        "CN ESCA\n",
        "mRNA ESCA\n",
        "mRNA"
       ]
      },
      {
       "output_type": "stream",
       "stream": "stdout",
       "text": [
        " HNSC\n",
        "mutation"
       ]
      },
      {
       "output_type": "stream",
       "stream": "stdout",
       "text": [
        " KICH\n",
        "mRNA"
       ]
      },
      {
       "output_type": "stream",
       "stream": "stdout",
       "text": [
        " KICH\n",
        "rnaSeq"
       ]
      },
      {
       "output_type": "stream",
       "stream": "stdout",
       "text": [
        " LAML\n",
        "CN"
       ]
      },
      {
       "output_type": "stream",
       "stream": "stdout",
       "text": [
        " LAML\n",
        "mRNA LAML\n",
        "rnaSeq"
       ]
      },
      {
       "output_type": "stream",
       "stream": "stdout",
       "text": [
        " LIHC\n",
        "mutation LIHC\n",
        "mRNA"
       ]
      },
      {
       "output_type": "stream",
       "stream": "stdout",
       "text": [
        " LIHC\n",
        "rnaSeq"
       ]
      },
      {
       "output_type": "stream",
       "stream": "stdout",
       "text": [
        " PAAD\n",
        "mRNA"
       ]
      },
      {
       "output_type": "stream",
       "stream": "stdout",
       "text": [
        " PAAD\n",
        "mRNA"
       ]
      },
      {
       "output_type": "stream",
       "stream": "stdout",
       "text": [
        " PRAD\n",
        "rnaSeq"
       ]
      },
      {
       "output_type": "stream",
       "stream": "stdout",
       "text": [
        " SARC\n",
        "mutation SARC\n",
        "mRNA"
       ]
      },
      {
       "output_type": "stream",
       "stream": "stdout",
       "text": [
        " SARC\n",
        "mutation"
       ]
      },
      {
       "output_type": "stream",
       "stream": "stdout",
       "text": [
        " SKCM\n",
        "mRNA"
       ]
      },
      {
       "output_type": "stream",
       "stream": "stdout",
       "text": [
        " SKCM\n",
        "rnaSeq"
       ]
      },
      {
       "output_type": "stream",
       "stream": "stdout",
       "text": [
        " STAD\n",
        "mRNA"
       ]
      },
      {
       "output_type": "stream",
       "stream": "stdout",
       "text": [
        " STAD\n",
        "mRNA"
       ]
      },
      {
       "output_type": "stream",
       "stream": "stdout",
       "text": [
        " THCA\n"
       ]
      }
     ],
     "prompt_number": 39
    }
   ],
   "metadata": {}
  }
 ]
}