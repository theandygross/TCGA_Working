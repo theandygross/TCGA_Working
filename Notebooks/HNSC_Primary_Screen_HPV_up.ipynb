{
 "metadata": {
  "name": ""
 },
 "nbformat": 3,
 "nbformat_minor": 0,
 "worksheets": [
  {
   "cells": [
    {
     "cell_type": "markdown",
     "metadata": {},
     "source": [
      "#HNSC Figures"
     ]
    },
    {
     "cell_type": "code",
     "collapsed": false,
     "input": [
      "cd ../src"
     ],
     "language": "python",
     "metadata": {},
     "outputs": [
      {
       "output_type": "stream",
       "stream": "stdout",
       "text": [
        "/cellar/users/agross/TCGA_Code/TCGA/Pathway_Merge/src\n"
       ]
      }
     ],
     "prompt_number": 125
    },
    {
     "cell_type": "code",
     "collapsed": false,
     "input": [
      "from Processing.Imports import *\n",
      "from Figures.Survival import survival_and_stats"
     ],
     "language": "python",
     "metadata": {},
     "outputs": [],
     "prompt_number": 126
    },
    {
     "cell_type": "markdown",
     "metadata": {},
     "source": [
      "##Read in Data"
     ]
    },
    {
     "cell_type": "code",
     "collapsed": false,
     "input": [
      "cancer = run.load_cancer('CESC')\n",
      "clinical = cancer.load_clinical()\n",
      "global_vars = cancer.load_global_vars()\n",
      "rna = cancer.load_data('mRNASeq')\n",
      "\n",
      "from Data.ProcessClinical import format_survival_from_data_portal\n",
      "path  = '/cellar/users/agross/Data/TCGA/CESC_Followup/'\n",
      "survival, timeline = format_survival_from_data_portal(path, cancer.name)\n",
      "clinical.survival = survival\n",
      "clinical.artificially_censor(5)\n",
      "age = timeline.age\n",
      "\n",
      "surv = clinical.survival.survival_5y"
     ],
     "language": "python",
     "metadata": {},
     "outputs": [],
     "prompt_number": 127
    },
    {
     "cell_type": "code",
     "collapsed": false,
     "input": [
      "mmp = [g for g in rna.features.ix['real'].index if 'MMP' in g]\n",
      "df = rna.df.xs('01',1,1).ix[mmp].dropna(1, how='all').dropna(0, how='all')\n",
      "cox_screen(df, surv).head()"
     ],
     "language": "python",
     "metadata": {},
     "outputs": [
      {
       "html": [
        "<div style=\"max-height:1000px;max-width:1500px;overflow:auto;\">\n",
        "<table border=\"1\" class=\"dataframe\">\n",
        "  <thead>\n",
        "    <tr>\n",
        "      <th></th>\n",
        "      <th colspan=\"4\" halign=\"left\">hazard</th>\n",
        "      <th colspan=\"4\" halign=\"left\">LR</th>\n",
        "      <th colspan=\"2\" halign=\"left\">concordance</th>\n",
        "    </tr>\n",
        "    <tr>\n",
        "      <th></th>\n",
        "      <th>exp(-coef)</th>\n",
        "      <th>exp(coef)</th>\n",
        "      <th>lower .95</th>\n",
        "      <th>upper .95</th>\n",
        "      <th>df</th>\n",
        "      <th>p</th>\n",
        "      <th>stat</th>\n",
        "      <th>q</th>\n",
        "      <th>se</th>\n",
        "      <th>stat</th>\n",
        "    </tr>\n",
        "  </thead>\n",
        "  <tbody>\n",
        "    <tr>\n",
        "      <th>MMP1</th>\n",
        "      <td> 0.76</td>\n",
        "      <td> 1.32</td>\n",
        "      <td> 1.06</td>\n",
        "      <td> 1.64</td>\n",
        "      <td> 1</td>\n",
        "      <td> 0.01</td>\n",
        "      <td> 7.33</td>\n",
        "      <td> 0.03</td>\n",
        "      <td> 0.1</td>\n",
        "      <td> 0.73</td>\n",
        "    </tr>\n",
        "    <tr>\n",
        "      <th>MMP12</th>\n",
        "      <td> 0.76</td>\n",
        "      <td> 1.32</td>\n",
        "      <td> 1.01</td>\n",
        "      <td> 1.74</td>\n",
        "      <td> 1</td>\n",
        "      <td> 0.03</td>\n",
        "      <td> 4.84</td>\n",
        "      <td> 0.06</td>\n",
        "      <td> 0.1</td>\n",
        "      <td> 0.72</td>\n",
        "    </tr>\n",
        "    <tr>\n",
        "      <th>MMP3</th>\n",
        "      <td> 0.86</td>\n",
        "      <td> 1.17</td>\n",
        "      <td> 0.96</td>\n",
        "      <td> 1.42</td>\n",
        "      <td> 1</td>\n",
        "      <td> 0.12</td>\n",
        "      <td> 2.45</td>\n",
        "      <td> 0.16</td>\n",
        "      <td> 0.1</td>\n",
        "      <td> 0.69</td>\n",
        "    </tr>\n",
        "    <tr>\n",
        "      <th>MMP9</th>\n",
        "      <td> 0.93</td>\n",
        "      <td> 1.08</td>\n",
        "      <td> 0.73</td>\n",
        "      <td> 1.59</td>\n",
        "      <td> 1</td>\n",
        "      <td> 0.70</td>\n",
        "      <td> 0.15</td>\n",
        "      <td> 0.70</td>\n",
        "      <td> 0.1</td>\n",
        "      <td> 0.56</td>\n",
        "    </tr>\n",
        "  </tbody>\n",
        "</table>\n",
        "</div>"
       ],
       "metadata": {},
       "output_type": "pyout",
       "prompt_number": 129,
       "text": [
        "           hazard                                   LR                    concordance      \n",
        "       exp(-coef)  exp(coef)  lower .95  upper .95  df     p  stat     q           se  stat\n",
        "MMP1         0.76       1.32       1.06       1.64   1  0.01  7.33  0.03          0.1  0.73\n",
        "MMP12        0.76       1.32       1.01       1.74   1  0.03  4.84  0.06          0.1  0.72\n",
        "MMP3         0.86       1.17       0.96       1.42   1  0.12  2.45  0.16          0.1  0.69\n",
        "MMP9         0.93       1.08       0.73       1.59   1  0.70  0.15  0.70          0.1  0.56"
       ]
      }
     ],
     "prompt_number": 129
    },
    {
     "cell_type": "code",
     "collapsed": false,
     "input": [
      "violin_plot_series(rna.df.ix['MMP1'])"
     ],
     "language": "python",
     "metadata": {},
     "outputs": [
      {
       "metadata": {},
       "output_type": "display_data",
       "png": "[encoded data removed]",
       "text": [
        "<matplotlib.figure.Figure at 0xb5f2510>"
       ]
      }
     ],
     "prompt_number": 60
    },
    {
     "cell_type": "code",
     "collapsed": false,
     "input": [
      "survival_and_stats(to_quants(rna.df.ix['MMP1'].ix[:,'01'], std=.5, labels=True), surv, figsize=(5,3))"
     ],
     "language": "python",
     "metadata": {},
     "outputs": [
      {
       "metadata": {},
       "output_type": "display_data",
       "png": "[encoded data removed]",
       "text": [
        "<matplotlib.figure.Figure at 0xa5c1710>"
       ]
      }
     ],
     "prompt_number": 65
    },
    {
     "cell_type": "code",
     "collapsed": false,
     "input": [
      "run = get_run('/cellar/data/TCGA/Firehose__2013_05_23/', 'Run_all')\n",
      "\n",
      "cancer = run.load_cancer('HNSC')\n",
      "clinical = cancer.load_clinical()\n",
      "global_vars = cancer.load_global_vars()\n",
      "\n",
      "mut = cancer.load_data('Mutation')\n",
      "mut.uncompress()\n",
      "meth = cancer.load_data('Methylation')\n",
      "cn = cancer.load_data('CN_broad')\n",
      "cn.uncompress()\n",
      "rna = cancer.load_data('mRNASeq')\n",
      "rppa  = cancer.load_data('RPPA')\n",
      "mirna = cancer.load_data('miRNASeq')\n",
      "age = clinical.clinical.age.astype(float)"
     ],
     "language": "python",
     "metadata": {},
     "outputs": [],
     "prompt_number": 66
    },
    {
     "cell_type": "code",
     "collapsed": false,
     "input": [
      "from Data.ProcessClinical import format_survival_from_data_portal\n",
      "path  = '/cellar/users/agross/Data/TCGA/HNSC_Followup/'\n",
      "survival, timeline = format_survival_from_data_portal(path, cancer.name)\n",
      "clinical.survival = survival\n",
      "clinical.artificially_censor(5)\n",
      "age = timeline.age"
     ],
     "language": "python",
     "metadata": {},
     "outputs": [],
     "prompt_number": 98
    },
    {
     "cell_type": "code",
     "collapsed": false,
     "input": [
      "surv = clinical.survival.survival_5y\n",
      "old = pd.Series(1.*(age>=75), name='old')"
     ],
     "language": "python",
     "metadata": {},
     "outputs": [],
     "prompt_number": 99
    },
    {
     "cell_type": "code",
     "collapsed": false,
     "input": [
      "mmp = [g for g in rna.features.ix['real'].index if 'MMP' in g]\n",
      "df = rna.df.xs('01',1,1).ix[mmp].ix[:,true_index(hpv_inferred)].dropna(1, how='all').dropna(0, how='all')\n",
      "cox_screen(df, surv).head()"
     ],
     "language": "python",
     "metadata": {},
     "outputs": [
      {
       "html": [
        "<div style=\"max-height:1000px;max-width:1500px;overflow:auto;\">\n",
        "<table border=\"1\" class=\"dataframe\">\n",
        "  <thead>\n",
        "    <tr>\n",
        "      <th></th>\n",
        "      <th colspan=\"4\" halign=\"left\">hazard</th>\n",
        "      <th colspan=\"4\" halign=\"left\">LR</th>\n",
        "      <th colspan=\"2\" halign=\"left\">concordance</th>\n",
        "    </tr>\n",
        "    <tr>\n",
        "      <th></th>\n",
        "      <th>exp(-coef)</th>\n",
        "      <th>exp(coef)</th>\n",
        "      <th>lower .95</th>\n",
        "      <th>upper .95</th>\n",
        "      <th>df</th>\n",
        "      <th>p</th>\n",
        "      <th>stat</th>\n",
        "      <th>q</th>\n",
        "      <th>se</th>\n",
        "      <th>stat</th>\n",
        "    </tr>\n",
        "  </thead>\n",
        "  <tbody>\n",
        "    <tr>\n",
        "      <th>MMP14</th>\n",
        "      <td> 0.10</td>\n",
        "      <td> 9.85</td>\n",
        "      <td> 1.28</td>\n",
        "      <td> 76.07</td>\n",
        "      <td> 1</td>\n",
        "      <td> 0.01</td>\n",
        "      <td> 6.82</td>\n",
        "      <td> 0.06</td>\n",
        "      <td> 0.13</td>\n",
        "      <td> 0.76</td>\n",
        "    </tr>\n",
        "    <tr>\n",
        "      <th>MMP2</th>\n",
        "      <td> 0.44</td>\n",
        "      <td> 2.25</td>\n",
        "      <td> 1.11</td>\n",
        "      <td>  4.56</td>\n",
        "      <td> 1</td>\n",
        "      <td> 0.01</td>\n",
        "      <td> 6.77</td>\n",
        "      <td> 0.06</td>\n",
        "      <td> 0.13</td>\n",
        "      <td> 0.77</td>\n",
        "    </tr>\n",
        "    <tr>\n",
        "      <th>MMP13</th>\n",
        "      <td> 0.76</td>\n",
        "      <td> 1.32</td>\n",
        "      <td> 1.05</td>\n",
        "      <td>  1.66</td>\n",
        "      <td> 1</td>\n",
        "      <td> 0.02</td>\n",
        "      <td> 5.47</td>\n",
        "      <td> 0.08</td>\n",
        "      <td> 0.13</td>\n",
        "      <td> 0.76</td>\n",
        "    </tr>\n",
        "    <tr>\n",
        "      <th>MMP16</th>\n",
        "      <td> 0.72</td>\n",
        "      <td> 1.39</td>\n",
        "      <td> 0.91</td>\n",
        "      <td>  2.13</td>\n",
        "      <td> 1</td>\n",
        "      <td> 0.07</td>\n",
        "      <td> 3.26</td>\n",
        "      <td> 0.23</td>\n",
        "      <td> 0.13</td>\n",
        "      <td> 0.70</td>\n",
        "    </tr>\n",
        "    <tr>\n",
        "      <th>IMMP2L</th>\n",
        "      <td> 2.68</td>\n",
        "      <td> 0.37</td>\n",
        "      <td> 0.08</td>\n",
        "      <td>  1.69</td>\n",
        "      <td> 1</td>\n",
        "      <td> 0.18</td>\n",
        "      <td> 1.76</td>\n",
        "      <td> 0.37</td>\n",
        "      <td> 0.13</td>\n",
        "      <td> 0.58</td>\n",
        "    </tr>\n",
        "  </tbody>\n",
        "</table>\n",
        "</div>"
       ],
       "metadata": {},
       "output_type": "pyout",
       "prompt_number": 118,
       "text": [
        "            hazard                                   LR                    concordance      \n",
        "        exp(-coef)  exp(coef)  lower .95  upper .95  df     p  stat     q           se  stat\n",
        "MMP14         0.10       9.85       1.28      76.07   1  0.01  6.82  0.06         0.13  0.76\n",
        "MMP2          0.44       2.25       1.11       4.56   1  0.01  6.77  0.06         0.13  0.77\n",
        "MMP13         0.76       1.32       1.05       1.66   1  0.02  5.47  0.08         0.13  0.76\n",
        "MMP16         0.72       1.39       0.91       2.13   1  0.07  3.26  0.23         0.13  0.70\n",
        "IMMP2L        2.68       0.37       0.08       1.69   1  0.18  1.76  0.37         0.13  0.58"
       ]
      }
     ],
     "prompt_number": 118
    },
    {
     "cell_type": "code",
     "collapsed": false,
     "input": [
      "draw_survival_curves(rna.df.ix['MMP2'].ix[:,'01'], surv, hpv_inferred, show=True, std=1)"
     ],
     "language": "python",
     "metadata": {},
     "outputs": [
      {
       "html": [
        "<img src='data:image/png;base64,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'>"
       ],
       "metadata": {},
       "output_type": "pyout",
       "prompt_number": 124,
       "text": [
        "<Reports.NotebookTools.Show at 0x6c81cd0>"
       ]
      }
     ],
     "prompt_number": 124
    },
    {
     "cell_type": "markdown",
     "metadata": {},
     "source": [
      "##Clinical Features"
     ]
    },
    {
     "cell_type": "code",
     "collapsed": false,
     "input": [
      "clinical_processed = pd.read_csv(cancer.path + '/Clinical/clinical_processed.csv', index_col=0)\n",
      "clinical_processed['pre_2000'] = (clinical_processed.year < 2000).map({True: 'pre_2000', False: 'post_2000'})\n",
      "hpv_inferred = clinical_processed.hpv.dropna() == 'HPV+'"
     ],
     "language": "python",
     "metadata": {},
     "outputs": [],
     "prompt_number": 5
    },
    {
     "cell_type": "code",
     "collapsed": false,
     "input": [
      "surv = clinical.survival.survival_5y\n",
      "old = pd.Series(1.*(age>=75), name='old')"
     ],
     "language": "python",
     "metadata": {},
     "outputs": [],
     "prompt_number": 6
    },
    {
     "cell_type": "code",
     "collapsed": false,
     "input": [
      "hpv_inferred.value_counts()"
     ],
     "language": "python",
     "metadata": {},
     "outputs": [
      {
       "metadata": {},
       "output_type": "pyout",
       "prompt_number": 7,
       "text": [
        "False    257\n",
        "True      45\n",
        "dtype: int64"
       ]
      }
     ],
     "prompt_number": 7
    },
    {
     "cell_type": "code",
     "collapsed": false,
     "input": [
      "survival_and_stats(hpv_inferred, surv)"
     ],
     "language": "python",
     "metadata": {},
     "outputs": [
      {
       "metadata": {},
       "output_type": "display_data",
       "png": "[encoded data removed]",
       "text": [
        "<matplotlib.figure.Figure at 0x65cdbd0>"
       ]
      }
     ],
     "prompt_number": 8
    },
    {
     "cell_type": "code",
     "collapsed": false,
     "input": [
      "draw_survival_curves(rna.df.ix['MMP2'].ix[:,'01'], surv, hpv_inferred, show=True, std=1)"
     ],
     "language": "python",
     "metadata": {},
     "outputs": [
      {
       "html": [
        "<img src='data:image/png;base64,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'>"
       ],
       "metadata": {},
       "output_type": "pyout",
       "prompt_number": 16,
       "text": [
        "<Reports.NotebookTools.Show at 0x6d8e150>"
       ]
      }
     ],
     "prompt_number": 16
    },
    {
     "cell_type": "markdown",
     "metadata": {},
     "source": [
      "##Molecular Characterization"
     ]
    },
    {
     "cell_type": "markdown",
     "metadata": {},
     "source": [
      "###Global Variables"
     ]
    },
    {
     "cell_type": "code",
     "collapsed": false,
     "input": [
      "global_df = pd.concat([global_vars['mutation'], global_vars['cna'], rna.global_vars, \n",
      "                           meth.global_vars, mirna.global_vars], \n",
      "                           keys=['mutation', 'cna', 'rna', 'methylation', 'mirna'], axis=1)"
     ],
     "language": "python",
     "metadata": {},
     "outputs": [],
     "prompt_number": 63
    },
    {
     "cell_type": "code",
     "collapsed": false,
     "input": [
      "screen_feature(hpv_inferred, kruskal_pandas, global_df.T)"
     ],
     "language": "python",
     "metadata": {},
     "outputs": [
      {
       "html": [
        "<div style=\"max-height:1000px;max-width:1500px;overflow:auto;\">\n",
        "<table border=\"1\" class=\"dataframe\">\n",
        "  <thead>\n",
        "    <tr style=\"text-align: right;\">\n",
        "      <th></th>\n",
        "      <th>H</th>\n",
        "      <th>p</th>\n",
        "      <th>q</th>\n",
        "    </tr>\n",
        "  </thead>\n",
        "  <tbody>\n",
        "    <tr>\n",
        "      <th>(rna, pc2)</th>\n",
        "      <td> 45.95</td>\n",
        "      <td> 1.21e-11</td>\n",
        "      <td> 1.65e-10</td>\n",
        "    </tr>\n",
        "    <tr>\n",
        "      <th>(rna, pc1)</th>\n",
        "      <td> 45.95</td>\n",
        "      <td> 1.21e-11</td>\n",
        "      <td> 1.65e-10</td>\n",
        "    </tr>\n",
        "    <tr>\n",
        "      <th>(rna, background)</th>\n",
        "      <td> 45.76</td>\n",
        "      <td> 1.34e-11</td>\n",
        "      <td> 1.65e-10</td>\n",
        "    </tr>\n",
        "    <tr>\n",
        "      <th>(methylation, pathway_pc2)</th>\n",
        "      <td> 44.64</td>\n",
        "      <td> 2.36e-11</td>\n",
        "      <td> 2.19e-10</td>\n",
        "    </tr>\n",
        "    <tr>\n",
        "      <th>(mirna, background)</th>\n",
        "      <td> 34.08</td>\n",
        "      <td> 5.28e-09</td>\n",
        "      <td> 3.90e-08</td>\n",
        "    </tr>\n",
        "    <tr>\n",
        "      <th>(rna, pathway_pc1)</th>\n",
        "      <td> 32.40</td>\n",
        "      <td> 1.26e-08</td>\n",
        "      <td> 7.74e-08</td>\n",
        "    </tr>\n",
        "    <tr>\n",
        "      <th>(cna, lesion_amp)</th>\n",
        "      <td> 28.23</td>\n",
        "      <td> 1.08e-07</td>\n",
        "      <td> 5.69e-07</td>\n",
        "    </tr>\n",
        "    <tr>\n",
        "      <th>(rna, filtered_pc1)</th>\n",
        "      <td> 24.24</td>\n",
        "      <td> 8.52e-07</td>\n",
        "      <td> 3.94e-06</td>\n",
        "    </tr>\n",
        "    <tr>\n",
        "      <th>(mutation, A-&gt;mut)</th>\n",
        "      <td> 23.66</td>\n",
        "      <td> 1.15e-06</td>\n",
        "      <td> 4.72e-06</td>\n",
        "    </tr>\n",
        "    <tr>\n",
        "      <th>(rna, filtered_pc2)</th>\n",
        "      <td> 20.09</td>\n",
        "      <td> 7.41e-06</td>\n",
        "      <td> 2.55e-05</td>\n",
        "    </tr>\n",
        "    <tr>\n",
        "      <th>(mirna, filtered_pc2)</th>\n",
        "      <td> 19.96</td>\n",
        "      <td> 7.91e-06</td>\n",
        "      <td> 2.55e-05</td>\n",
        "    </tr>\n",
        "    <tr>\n",
        "      <th>(mirna, filtered_pc1)</th>\n",
        "      <td> 19.88</td>\n",
        "      <td> 8.26e-06</td>\n",
        "      <td> 2.55e-05</td>\n",
        "    </tr>\n",
        "    <tr>\n",
        "      <th>(mutation, *Cp(A_C_T)-&gt;T)</th>\n",
        "      <td> 18.43</td>\n",
        "      <td> 1.76e-05</td>\n",
        "      <td> 5.02e-05</td>\n",
        "    </tr>\n",
        "    <tr>\n",
        "      <th>(cna, gene_amp)</th>\n",
        "      <td> 17.80</td>\n",
        "      <td> 2.45e-05</td>\n",
        "      <td> 6.47e-05</td>\n",
        "    </tr>\n",
        "    <tr>\n",
        "      <th>(cna, gene_del)</th>\n",
        "      <td> 16.32</td>\n",
        "      <td> 5.35e-05</td>\n",
        "      <td> 1.32e-04</td>\n",
        "    </tr>\n",
        "    <tr>\n",
        "      <th>(mirna, pc1)</th>\n",
        "      <td> 14.72</td>\n",
        "      <td> 1.25e-04</td>\n",
        "      <td> 2.71e-04</td>\n",
        "    </tr>\n",
        "    <tr>\n",
        "      <th>(mirna, pc2)</th>\n",
        "      <td> 14.72</td>\n",
        "      <td> 1.25e-04</td>\n",
        "      <td> 2.71e-04</td>\n",
        "    </tr>\n",
        "    <tr>\n",
        "      <th>(rna, pathway_pc2)</th>\n",
        "      <td> 12.36</td>\n",
        "      <td> 4.40e-04</td>\n",
        "      <td> 9.04e-04</td>\n",
        "    </tr>\n",
        "    <tr>\n",
        "      <th>(cna, gene_del_homo)</th>\n",
        "      <td>  9.00</td>\n",
        "      <td> 2.70e-03</td>\n",
        "      <td> 5.25e-03</td>\n",
        "    </tr>\n",
        "    <tr>\n",
        "      <th>(cna, lesion_amp_high)</th>\n",
        "      <td>  6.97</td>\n",
        "      <td> 8.27e-03</td>\n",
        "      <td> 1.53e-02</td>\n",
        "    </tr>\n",
        "    <tr>\n",
        "      <th>(methylation, filtered_pc1)</th>\n",
        "      <td>  6.22</td>\n",
        "      <td> 1.26e-02</td>\n",
        "      <td> 2.22e-02</td>\n",
        "    </tr>\n",
        "    <tr>\n",
        "      <th>(mutation, *CpG-&gt;T)</th>\n",
        "      <td>  5.62</td>\n",
        "      <td> 1.78e-02</td>\n",
        "      <td> 2.90e-02</td>\n",
        "    </tr>\n",
        "    <tr>\n",
        "      <th>(mutation, rate_non)</th>\n",
        "      <td>  5.60</td>\n",
        "      <td> 1.80e-02</td>\n",
        "      <td> 2.90e-02</td>\n",
        "    </tr>\n",
        "    <tr>\n",
        "      <th>(cna, gene_amp_high)</th>\n",
        "      <td>  4.62</td>\n",
        "      <td> 3.15e-02</td>\n",
        "      <td> 4.86e-02</td>\n",
        "    </tr>\n",
        "    <tr>\n",
        "      <th>(mutation, rate_sil)</th>\n",
        "      <td>  4.15</td>\n",
        "      <td> 4.16e-02</td>\n",
        "      <td> 6.16e-02</td>\n",
        "    </tr>\n",
        "    <tr>\n",
        "      <th>(mutation, rate_dbsnp)</th>\n",
        "      <td>  3.82</td>\n",
        "      <td> 5.07e-02</td>\n",
        "      <td> 7.21e-02</td>\n",
        "    </tr>\n",
        "    <tr>\n",
        "      <th>(mutation, C-&gt;(G_A))</th>\n",
        "      <td>  3.48</td>\n",
        "      <td> 6.20e-02</td>\n",
        "      <td> 8.50e-02</td>\n",
        "    </tr>\n",
        "    <tr>\n",
        "      <th>(cna, chrom_instability)</th>\n",
        "      <td>  3.28</td>\n",
        "      <td> 7.00e-02</td>\n",
        "      <td> 9.25e-02</td>\n",
        "    </tr>\n",
        "    <tr>\n",
        "      <th>(methylation, background)</th>\n",
        "      <td>  3.13</td>\n",
        "      <td> 7.68e-02</td>\n",
        "      <td> 9.28e-02</td>\n",
        "    </tr>\n",
        "    <tr>\n",
        "      <th>(methylation, pc2)</th>\n",
        "      <td>  3.11</td>\n",
        "      <td> 7.78e-02</td>\n",
        "      <td> 9.28e-02</td>\n",
        "    </tr>\n",
        "    <tr>\n",
        "      <th>(methylation, pc1)</th>\n",
        "      <td>  3.11</td>\n",
        "      <td> 7.78e-02</td>\n",
        "      <td> 9.28e-02</td>\n",
        "    </tr>\n",
        "    <tr>\n",
        "      <th>(mutation, double_null)</th>\n",
        "      <td>  2.98</td>\n",
        "      <td> 8.43e-02</td>\n",
        "      <td> 9.75e-02</td>\n",
        "    </tr>\n",
        "    <tr>\n",
        "      <th>(mutation, indel+null)</th>\n",
        "      <td>  2.41</td>\n",
        "      <td> 1.21e-01</td>\n",
        "      <td> 1.35e-01</td>\n",
        "    </tr>\n",
        "    <tr>\n",
        "      <th>(methylation, filtered_pc2)</th>\n",
        "      <td>  1.94</td>\n",
        "      <td> 1.64e-01</td>\n",
        "      <td> 1.78e-01</td>\n",
        "    </tr>\n",
        "    <tr>\n",
        "      <th>(methylation, pathway_pc1)</th>\n",
        "      <td>  0.99</td>\n",
        "      <td> 3.20e-01</td>\n",
        "      <td> 3.39e-01</td>\n",
        "    </tr>\n",
        "    <tr>\n",
        "      <th>(cna, lesion_del)</th>\n",
        "      <td>   NaN</td>\n",
        "      <td>      NaN</td>\n",
        "      <td> 1.00e+00</td>\n",
        "    </tr>\n",
        "    <tr>\n",
        "      <th>(cna, lesion_del_homo)</th>\n",
        "      <td>   NaN</td>\n",
        "      <td>      NaN</td>\n",
        "      <td> 1.00e+00</td>\n",
        "    </tr>\n",
        "  </tbody>\n",
        "</table>\n",
        "</div>"
       ],
       "metadata": {},
       "output_type": "pyout",
       "prompt_number": 96,
       "text": [
        "                                 H         p         q\n",
        "(rna, pc2)                   45.95  1.21e-11  1.65e-10\n",
        "(rna, pc1)                   45.95  1.21e-11  1.65e-10\n",
        "(rna, background)            45.76  1.34e-11  1.65e-10\n",
        "(methylation, pathway_pc2)   44.64  2.36e-11  2.19e-10\n",
        "(mirna, background)          34.08  5.28e-09  3.90e-08\n",
        "(rna, pathway_pc1)           32.40  1.26e-08  7.74e-08\n",
        "(cna, lesion_amp)            28.23  1.08e-07  5.69e-07\n",
        "(rna, filtered_pc1)          24.24  8.52e-07  3.94e-06\n",
        "(mutation, A->mut)           23.66  1.15e-06  4.72e-06\n",
        "(rna, filtered_pc2)          20.09  7.41e-06  2.55e-05\n",
        "(mirna, filtered_pc2)        19.96  7.91e-06  2.55e-05\n",
        "(mirna, filtered_pc1)        19.88  8.26e-06  2.55e-05\n",
        "(mutation, *Cp(A_C_T)->T)    18.43  1.76e-05  5.02e-05\n",
        "(cna, gene_amp)              17.80  2.45e-05  6.47e-05\n",
        "(cna, gene_del)              16.32  5.35e-05  1.32e-04\n",
        "(mirna, pc1)                 14.72  1.25e-04  2.71e-04\n",
        "(mirna, pc2)                 14.72  1.25e-04  2.71e-04\n",
        "(rna, pathway_pc2)           12.36  4.40e-04  9.04e-04\n",
        "(cna, gene_del_homo)          9.00  2.70e-03  5.25e-03\n",
        "(cna, lesion_amp_high)        6.97  8.27e-03  1.53e-02\n",
        "(methylation, filtered_pc1)   6.22  1.26e-02  2.22e-02\n",
        "(mutation, *CpG->T)           5.62  1.78e-02  2.90e-02\n",
        "(mutation, rate_non)          5.60  1.80e-02  2.90e-02\n",
        "(cna, gene_amp_high)          4.62  3.15e-02  4.86e-02\n",
        "(mutation, rate_sil)          4.15  4.16e-02  6.16e-02\n",
        "(mutation, rate_dbsnp)        3.82  5.07e-02  7.21e-02\n",
        "(mutation, C->(G_A))          3.48  6.20e-02  8.50e-02\n",
        "(cna, chrom_instability)      3.28  7.00e-02  9.25e-02\n",
        "(methylation, background)     3.13  7.68e-02  9.28e-02\n",
        "(methylation, pc2)            3.11  7.78e-02  9.28e-02\n",
        "(methylation, pc1)            3.11  7.78e-02  9.28e-02\n",
        "(mutation, double_null)       2.98  8.43e-02  9.75e-02\n",
        "(mutation, indel+null)        2.41  1.21e-01  1.35e-01\n",
        "(methylation, filtered_pc2)   1.94  1.64e-01  1.78e-01\n",
        "(methylation, pathway_pc1)    0.99  3.20e-01  3.39e-01\n",
        "(cna, lesion_del)              NaN       NaN  1.00e+00\n",
        "(cna, lesion_del_homo)         NaN       NaN  1.00e+00"
       ]
      }
     ],
     "prompt_number": 96
    },
    {
     "cell_type": "code",
     "collapsed": false,
     "input": [
      "violin_plot_pandas(hpv_inferred, global_df.mirna.pc1)"
     ],
     "language": "python",
     "metadata": {},
     "outputs": [
      {
       "metadata": {},
       "output_type": "display_data",
       "png": "[encoded data removed]",
       "text": [
        "<matplotlib.figure.Figure at 0xb6b00d0>"
       ]
      }
     ],
     "prompt_number": 98
    },
    {
     "cell_type": "code",
     "collapsed": false,
     "input": [
      "violin_plot_pandas(hpv_inferred, global_df.rna.pc1)"
     ],
     "language": "python",
     "metadata": {},
     "outputs": [
      {
       "metadata": {},
       "output_type": "display_data",
       "png": "[encoded data removed]",
       "text": [
        "<matplotlib.figure.Figure at 0x8764410>"
       ]
      }
     ],
     "prompt_number": 99
    },
    {
     "cell_type": "markdown",
     "metadata": {},
     "source": [
      "###mRNA Pathways"
     ]
    },
    {
     "cell_type": "code",
     "collapsed": false,
     "input": [
      "s_rna = screen_feature(hpv_inferred, kruskal_pandas, rna.pathways)\n",
      "s_rna.head(10)"
     ],
     "language": "python",
     "metadata": {},
     "outputs": [
      {
       "html": [
        "<div style=\"max-height:1000px;max-width:1500px;overflow:auto;\">\n",
        "<table border=\"1\" class=\"dataframe\">\n",
        "  <thead>\n",
        "    <tr style=\"text-align: right;\">\n",
        "      <th></th>\n",
        "      <th>H</th>\n",
        "      <th>p</th>\n",
        "      <th>q</th>\n",
        "    </tr>\n",
        "  </thead>\n",
        "  <tbody>\n",
        "    <tr>\n",
        "      <th>REACTOME_SYNTHESIS_OF_DNA</th>\n",
        "      <td> 59.80</td>\n",
        "      <td> 1.05e-14</td>\n",
        "      <td> 2.47e-13</td>\n",
        "    </tr>\n",
        "    <tr>\n",
        "      <th>REACTOME_G1_S_TRANSITION</th>\n",
        "      <td> 59.68</td>\n",
        "      <td> 1.12e-14</td>\n",
        "      <td> 2.47e-13</td>\n",
        "    </tr>\n",
        "    <tr>\n",
        "      <th>REACTOME_S_PHASE</th>\n",
        "      <td> 59.12</td>\n",
        "      <td> 1.48e-14</td>\n",
        "      <td> 2.47e-13</td>\n",
        "    </tr>\n",
        "    <tr>\n",
        "      <th>REACTOME_TRANSCRIPTION_COUPLED_NER</th>\n",
        "      <td> 58.36</td>\n",
        "      <td> 2.19e-14</td>\n",
        "      <td> 2.73e-13</td>\n",
        "    </tr>\n",
        "    <tr>\n",
        "      <th>REACTOME_MITOTIC_M_M_G1_PHASES</th>\n",
        "      <td> 52.15</td>\n",
        "      <td> 5.13e-13</td>\n",
        "      <td> 5.13e-12</td>\n",
        "    </tr>\n",
        "    <tr>\n",
        "      <th>REACTOME_GAP_JUNCTION_DEGRADATION</th>\n",
        "      <td> 50.01</td>\n",
        "      <td> 1.53e-12</td>\n",
        "      <td> 1.27e-11</td>\n",
        "    </tr>\n",
        "    <tr>\n",
        "      <th>BIOCARTA_SRCRPTP_PATHWAY</th>\n",
        "      <td> 45.92</td>\n",
        "      <td> 1.23e-11</td>\n",
        "      <td> 8.80e-11</td>\n",
        "    </tr>\n",
        "    <tr>\n",
        "      <th>REACTOME_CELL_CYCLE_CHECKPOINTS</th>\n",
        "      <td> 45.17</td>\n",
        "      <td> 1.81e-11</td>\n",
        "      <td> 1.13e-10</td>\n",
        "    </tr>\n",
        "    <tr>\n",
        "      <th>REACTOME_DNA_REPLICATION_PRE_INITIATION</th>\n",
        "      <td> 44.55</td>\n",
        "      <td> 2.48e-11</td>\n",
        "      <td> 1.38e-10</td>\n",
        "    </tr>\n",
        "    <tr>\n",
        "      <th>REACTOME_RECRUITMENT_OF_NUMA_TO_MITOTIC_CENTROSOMES</th>\n",
        "      <td> 44.18</td>\n",
        "      <td> 3.00e-11</td>\n",
        "      <td> 1.50e-10</td>\n",
        "    </tr>\n",
        "  </tbody>\n",
        "</table>\n",
        "</div>"
       ],
       "metadata": {},
       "output_type": "pyout",
       "prompt_number": 65,
       "text": [
        "                                                         H         p         q\n",
        "REACTOME_SYNTHESIS_OF_DNA                            59.80  1.05e-14  2.47e-13\n",
        "REACTOME_G1_S_TRANSITION                             59.68  1.12e-14  2.47e-13\n",
        "REACTOME_S_PHASE                                     59.12  1.48e-14  2.47e-13\n",
        "REACTOME_TRANSCRIPTION_COUPLED_NER                   58.36  2.19e-14  2.73e-13\n",
        "REACTOME_MITOTIC_M_M_G1_PHASES                       52.15  5.13e-13  5.13e-12\n",
        "REACTOME_GAP_JUNCTION_DEGRADATION                    50.01  1.53e-12  1.27e-11\n",
        "BIOCARTA_SRCRPTP_PATHWAY                             45.92  1.23e-11  8.80e-11\n",
        "REACTOME_CELL_CYCLE_CHECKPOINTS                      45.17  1.81e-11  1.13e-10\n",
        "REACTOME_DNA_REPLICATION_PRE_INITIATION              44.55  2.48e-11  1.38e-10\n",
        "REACTOME_RECRUITMENT_OF_NUMA_TO_MITOTIC_CENTROSOMES  44.18  3.00e-11  1.50e-10"
       ]
      }
     ],
     "prompt_number": 65
    },
    {
     "cell_type": "markdown",
     "metadata": {},
     "source": [
      "##Single Genes"
     ]
    },
    {
     "cell_type": "code",
     "collapsed": false,
     "input": [
      "s = screen_feature(hpv_inferred, kruskal_pandas, rna.features.ix['real'])"
     ],
     "language": "python",
     "metadata": {},
     "outputs": [],
     "prompt_number": 66
    },
    {
     "cell_type": "code",
     "collapsed": false,
     "input": [
      "s.head()"
     ],
     "language": "python",
     "metadata": {},
     "outputs": [
      {
       "html": [
        "<div style=\"max-height:1000px;max-width:1500px;overflow:auto;\">\n",
        "<table border=\"1\" class=\"dataframe\">\n",
        "  <thead>\n",
        "    <tr style=\"text-align: right;\">\n",
        "      <th></th>\n",
        "      <th>H</th>\n",
        "      <th>p</th>\n",
        "      <th>q</th>\n",
        "    </tr>\n",
        "  </thead>\n",
        "  <tbody>\n",
        "    <tr>\n",
        "      <th>C9orf53</th>\n",
        "      <td> 76.07</td>\n",
        "      <td> 2.74e-18</td>\n",
        "      <td> 8.03e-15</td>\n",
        "    </tr>\n",
        "    <tr>\n",
        "      <th>CDKN2A</th>\n",
        "      <td> 75.51</td>\n",
        "      <td> 3.63e-18</td>\n",
        "      <td> 8.03e-15</td>\n",
        "    </tr>\n",
        "    <tr>\n",
        "      <th>PCNA</th>\n",
        "      <td> 68.07</td>\n",
        "      <td> 1.58e-16</td>\n",
        "      <td> 1.93e-13</td>\n",
        "    </tr>\n",
        "    <tr>\n",
        "      <th>DONSON</th>\n",
        "      <td> 67.87</td>\n",
        "      <td> 1.75e-16</td>\n",
        "      <td> 1.93e-13</td>\n",
        "    </tr>\n",
        "    <tr>\n",
        "      <th>FKBP9</th>\n",
        "      <td> 67.02</td>\n",
        "      <td> 2.69e-16</td>\n",
        "      <td> 2.38e-13</td>\n",
        "    </tr>\n",
        "  </tbody>\n",
        "</table>\n",
        "</div>"
       ],
       "metadata": {},
       "output_type": "pyout",
       "prompt_number": 67,
       "text": [
        "             H         p         q\n",
        "C9orf53  76.07  2.74e-18  8.03e-15\n",
        "CDKN2A   75.51  3.63e-18  8.03e-15\n",
        "PCNA     68.07  1.58e-16  1.93e-13\n",
        "DONSON   67.87  1.75e-16  1.93e-13\n",
        "FKBP9    67.02  2.69e-16  2.38e-13"
       ]
      }
     ],
     "prompt_number": 67
    },
    {
     "cell_type": "code",
     "collapsed": false,
     "input": [
      "violin_plot_pandas(hpv_inferred, rna.features.ix['real'].ix['CDKN2A'])"
     ],
     "language": "python",
     "metadata": {},
     "outputs": [
      {
       "metadata": {},
       "output_type": "display_data",
       "png": "[encoded data removed]",
       "text": [
        "<matplotlib.figure.Figure at 0x88cdad0>"
       ]
      }
     ],
     "prompt_number": 68
    },
    {
     "cell_type": "markdown",
     "metadata": {},
     "source": [
      "###Protien Antibodies"
     ]
    },
    {
     "cell_type": "code",
     "collapsed": false,
     "input": [
      "s_rppa = screen_feature(hpv_inferred, kruskal_pandas, rppa.df.xs('01',1,1)).head()\n",
      "s_rppa.head(15) "
     ],
     "language": "python",
     "metadata": {},
     "outputs": [
      {
       "html": [
        "<div style=\"max-height:1000px;max-width:1500px;overflow:auto;\">\n",
        "<table border=\"1\" class=\"dataframe\">\n",
        "  <thead>\n",
        "    <tr style=\"text-align: right;\">\n",
        "      <th></th>\n",
        "      <th>H</th>\n",
        "      <th>p</th>\n",
        "      <th>q</th>\n",
        "    </tr>\n",
        "  </thead>\n",
        "  <tbody>\n",
        "    <tr>\n",
        "      <th>(RB1, Rb_pS807_S811-R-V)</th>\n",
        "      <td> 19.01</td>\n",
        "      <td> 1.30e-05</td>\n",
        "      <td> 0</td>\n",
        "    </tr>\n",
        "    <tr>\n",
        "      <th>(CAV1, Caveolin-1-R-V)</th>\n",
        "      <td> 18.44</td>\n",
        "      <td> 1.76e-05</td>\n",
        "      <td> 0</td>\n",
        "    </tr>\n",
        "    <tr>\n",
        "      <th>(RB1, Rb-M-V)</th>\n",
        "      <td> 17.75</td>\n",
        "      <td> 2.52e-05</td>\n",
        "      <td> 0</td>\n",
        "    </tr>\n",
        "    <tr>\n",
        "      <th>(SYK, Syk-M-V)</th>\n",
        "      <td> 15.14</td>\n",
        "      <td> 9.99e-05</td>\n",
        "      <td> 0</td>\n",
        "    </tr>\n",
        "    <tr>\n",
        "      <th>(CLDN7, Claudin-7-R-V)</th>\n",
        "      <td> 14.95</td>\n",
        "      <td> 1.10e-04</td>\n",
        "      <td> 0</td>\n",
        "    </tr>\n",
        "  </tbody>\n",
        "</table>\n",
        "</div>"
       ],
       "metadata": {},
       "output_type": "pyout",
       "prompt_number": 69,
       "text": [
        "                              H         p  q\n",
        "(RB1, Rb_pS807_S811-R-V)  19.01  1.30e-05  0\n",
        "(CAV1, Caveolin-1-R-V)    18.44  1.76e-05  0\n",
        "(RB1, Rb-M-V)             17.75  2.52e-05  0\n",
        "(SYK, Syk-M-V)            15.14  9.99e-05  0\n",
        "(CLDN7, Claudin-7-R-V)    14.95  1.10e-04  0"
       ]
      }
     ],
     "prompt_number": 69
    },
    {
     "cell_type": "code",
     "collapsed": false,
     "input": [
      "fig, axs = subplots(1,2, figsize=(12,4))\n",
      "violin_plot_pandas(hpv_inferred, rna.df.ix['RB1'].ix[:,'01'], ax=axs[0])\n",
      "violin_plot_pandas(hpv_inferred, rppa.df.ix['RB1'].ix[0].ix[:,'01'], ax=axs[1])"
     ],
     "language": "python",
     "metadata": {},
     "outputs": [
      {
       "metadata": {},
       "output_type": "display_data",
       "png": "[encoded data removed]",
       "text": [
        "<matplotlib.figure.Figure at 0x39f1510>"
       ]
      }
     ],
     "prompt_number": 70
    },
    {
     "cell_type": "markdown",
     "metadata": {},
     "source": [
      "###Mutation"
     ]
    },
    {
     "cell_type": "code",
     "collapsed": false,
     "input": [
      "s = screen_feature(hpv_inferred, chi2_cont_test, mut.features)\n",
      "s.head(10)"
     ],
     "language": "python",
     "metadata": {},
     "outputs": [
      {
       "html": [
        "<div style=\"max-height:1000px;max-width:1500px;overflow:auto;\">\n",
        "<table border=\"1\" class=\"dataframe\">\n",
        "  <thead>\n",
        "    <tr style=\"text-align: right;\">\n",
        "      <th></th>\n",
        "      <th>chi2</th>\n",
        "      <th>p</th>\n",
        "      <th>dof</th>\n",
        "      <th>q</th>\n",
        "    </tr>\n",
        "  </thead>\n",
        "  <tbody>\n",
        "    <tr>\n",
        "      <th>TP53</th>\n",
        "      <td> 100.32</td>\n",
        "      <td> 1.30e-23</td>\n",
        "      <td> 1</td>\n",
        "      <td> 1.28e-20</td>\n",
        "    </tr>\n",
        "    <tr>\n",
        "      <th>KEGG_CELL_CYCLE</th>\n",
        "      <td>  39.48</td>\n",
        "      <td> 3.32e-10</td>\n",
        "      <td> 1</td>\n",
        "      <td> 1.64e-07</td>\n",
        "    </tr>\n",
        "    <tr>\n",
        "      <th>KEGG_MAPK_SIGNALING_PATHWAY</th>\n",
        "      <td>  35.64</td>\n",
        "      <td> 2.38e-09</td>\n",
        "      <td> 1</td>\n",
        "      <td> 7.83e-07</td>\n",
        "    </tr>\n",
        "    <tr>\n",
        "      <th>CDKN2A</th>\n",
        "      <td>  12.07</td>\n",
        "      <td> 5.13e-04</td>\n",
        "      <td> 1</td>\n",
        "      <td> 1.27e-01</td>\n",
        "    </tr>\n",
        "    <tr>\n",
        "      <th>REACTOME_RNA_POLYMERASE_III_TRANSCRIPTION_INITIATION_FROM_TYPE_3_PROMOTER</th>\n",
        "      <td>  10.70</td>\n",
        "      <td> 1.07e-03</td>\n",
        "      <td> 1</td>\n",
        "      <td> 2.12e-01</td>\n",
        "    </tr>\n",
        "    <tr>\n",
        "      <th>ZNF750</th>\n",
        "      <td>   9.47</td>\n",
        "      <td> 2.09e-03</td>\n",
        "      <td> 1</td>\n",
        "      <td> 3.44e-01</td>\n",
        "    </tr>\n",
        "    <tr>\n",
        "      <th>KEGG_OLFACTORY_TRANSDUCTION</th>\n",
        "      <td>   7.48</td>\n",
        "      <td> 6.23e-03</td>\n",
        "      <td> 1</td>\n",
        "      <td> 7.85e-01</td>\n",
        "    </tr>\n",
        "    <tr>\n",
        "      <th>REACTOME_IONOTROPIC_ACTIVITY_OF_KAINATE_RECEPTORS</th>\n",
        "      <td>   7.45</td>\n",
        "      <td> 6.35e-03</td>\n",
        "      <td> 1</td>\n",
        "      <td> 7.85e-01</td>\n",
        "    </tr>\n",
        "    <tr>\n",
        "      <th>BIOCARTA_IL22BP_PATHWAY</th>\n",
        "      <td>   6.82</td>\n",
        "      <td> 9.04e-03</td>\n",
        "      <td> 1</td>\n",
        "      <td> 9.81e-01</td>\n",
        "    </tr>\n",
        "    <tr>\n",
        "      <th>FAT1</th>\n",
        "      <td>   6.65</td>\n",
        "      <td> 9.92e-03</td>\n",
        "      <td> 1</td>\n",
        "      <td> 9.81e-01</td>\n",
        "    </tr>\n",
        "  </tbody>\n",
        "</table>\n",
        "</div>"
       ],
       "metadata": {},
       "output_type": "pyout",
       "prompt_number": 71,
       "text": [
        "                                                                             chi2         p  dof         q\n",
        "TP53                                                                       100.32  1.30e-23    1  1.28e-20\n",
        "KEGG_CELL_CYCLE                                                             39.48  3.32e-10    1  1.64e-07\n",
        "KEGG_MAPK_SIGNALING_PATHWAY                                                 35.64  2.38e-09    1  7.83e-07\n",
        "CDKN2A                                                                      12.07  5.13e-04    1  1.27e-01\n",
        "REACTOME_RNA_POLYMERASE_III_TRANSCRIPTION_INITIATION_FROM_TYPE_3_PROMOTER   10.70  1.07e-03    1  2.12e-01\n",
        "ZNF750                                                                       9.47  2.09e-03    1  3.44e-01\n",
        "KEGG_OLFACTORY_TRANSDUCTION                                                  7.48  6.23e-03    1  7.85e-01\n",
        "REACTOME_IONOTROPIC_ACTIVITY_OF_KAINATE_RECEPTORS                            7.45  6.35e-03    1  7.85e-01\n",
        "BIOCARTA_IL22BP_PATHWAY                                                      6.82  9.04e-03    1  9.81e-01\n",
        "FAT1                                                                         6.65  9.92e-03    1  9.81e-01"
       ]
      }
     ],
     "prompt_number": 71
    },
    {
     "cell_type": "code",
     "collapsed": false,
     "input": [
      "fig, axs = subplots(1,2, figsize=(12,4))\n",
      "f = combine(hpv_inferred, mut.df.ix['TP53']>0)\n",
      "#f = f[f != 'both']\n",
      "f.name = 'f'\n",
      "violin_plot_pandas(f, rna.df.ix['TP53'].ix[:,'01'], ax=axs[1]);\n",
      "plt.sca(axs[0])\n",
      "venn_pandas(hpv_inferred, mut.features.ix['TP53'])"
     ],
     "language": "python",
     "metadata": {},
     "outputs": [
      {
       "metadata": {},
       "output_type": "display_data",
       "png": "[encoded data removed]",
       "text": [
        "<matplotlib.figure.Figure at 0xc011c10>"
       ]
      }
     ],
     "prompt_number": 77
    },
    {
     "cell_type": "markdown",
     "metadata": {},
     "source": [
      "###Methylation Pathways"
     ]
    },
    {
     "cell_type": "code",
     "collapsed": false,
     "input": [
      "s = screen_feature(hpv_inferred, kruskal_pandas, meth.features)\n",
      "s.head(10)"
     ],
     "language": "python",
     "metadata": {},
     "outputs": [
      {
       "html": [
        "<div style=\"max-height:1000px;max-width:1500px;overflow:auto;\">\n",
        "<table border=\"1\" class=\"dataframe\">\n",
        "  <thead>\n",
        "    <tr style=\"text-align: right;\">\n",
        "      <th></th>\n",
        "      <th>H</th>\n",
        "      <th>p</th>\n",
        "      <th>q</th>\n",
        "    </tr>\n",
        "  </thead>\n",
        "  <tbody>\n",
        "    <tr>\n",
        "      <th>(pathways, REACTOME_SEROTONIN_RECEPTORS)</th>\n",
        "      <td> 27.79</td>\n",
        "      <td> 1.35e-07</td>\n",
        "      <td> 2.23e-06</td>\n",
        "    </tr>\n",
        "    <tr>\n",
        "      <th>(real, AASDHPPT)</th>\n",
        "      <td> 27.61</td>\n",
        "      <td> 1.48e-07</td>\n",
        "      <td> 2.23e-06</td>\n",
        "    </tr>\n",
        "    <tr>\n",
        "      <th>(real, KIN)</th>\n",
        "      <td> 25.83</td>\n",
        "      <td> 3.72e-07</td>\n",
        "      <td> 3.72e-06</td>\n",
        "    </tr>\n",
        "    <tr>\n",
        "      <th>(pathways, ST_B_CELL_ANTIGEN_RECEPTOR)</th>\n",
        "      <td> 21.17</td>\n",
        "      <td> 4.21e-06</td>\n",
        "      <td> 3.16e-05</td>\n",
        "    </tr>\n",
        "    <tr>\n",
        "      <th>(real, NCRNA00185)</th>\n",
        "      <td> 13.91</td>\n",
        "      <td> 1.92e-04</td>\n",
        "      <td> 1.15e-03</td>\n",
        "    </tr>\n",
        "    <tr>\n",
        "      <th>(binary, TTTY5)</th>\n",
        "      <td> 11.02</td>\n",
        "      <td> 8.99e-04</td>\n",
        "      <td> 4.50e-03</td>\n",
        "    </tr>\n",
        "    <tr>\n",
        "      <th>(binary, MIR514-3;MIR514-2)</th>\n",
        "      <td> 10.08</td>\n",
        "      <td> 1.50e-03</td>\n",
        "      <td> 6.43e-03</td>\n",
        "    </tr>\n",
        "    <tr>\n",
        "      <th>(real, SNORD75;SNORD78;ZBTB37;SNORD76;GAS5;SNORD77;SNORD44)</th>\n",
        "      <td>  9.28</td>\n",
        "      <td> 2.32e-03</td>\n",
        "      <td> 8.70e-03</td>\n",
        "    </tr>\n",
        "    <tr>\n",
        "      <th>(binary, P2RY13;MED12L)</th>\n",
        "      <td>  8.58</td>\n",
        "      <td> 3.40e-03</td>\n",
        "      <td> 1.12e-02</td>\n",
        "    </tr>\n",
        "    <tr>\n",
        "      <th>(real, OR4C45)</th>\n",
        "      <td>  8.40</td>\n",
        "      <td> 3.74e-03</td>\n",
        "      <td> 1.12e-02</td>\n",
        "    </tr>\n",
        "  </tbody>\n",
        "</table>\n",
        "</div>"
       ],
       "metadata": {},
       "output_type": "pyout",
       "prompt_number": 78,
       "text": [
        "                                                                 H         p         q\n",
        "(pathways, REACTOME_SEROTONIN_RECEPTORS)                     27.79  1.35e-07  2.23e-06\n",
        "(real, AASDHPPT)                                             27.61  1.48e-07  2.23e-06\n",
        "(real, KIN)                                                  25.83  3.72e-07  3.72e-06\n",
        "(pathways, ST_B_CELL_ANTIGEN_RECEPTOR)                       21.17  4.21e-06  3.16e-05\n",
        "(real, NCRNA00185)                                           13.91  1.92e-04  1.15e-03\n",
        "(binary, TTTY5)                                              11.02  8.99e-04  4.50e-03\n",
        "(binary, MIR514-3;MIR514-2)                                  10.08  1.50e-03  6.43e-03\n",
        "(real, SNORD75;SNORD78;ZBTB37;SNORD76;GAS5;SNORD77;SNORD44)   9.28  2.32e-03  8.70e-03\n",
        "(binary, P2RY13;MED12L)                                       8.58  3.40e-03  1.12e-02\n",
        "(real, OR4C45)                                                8.40  3.74e-03  1.12e-02"
       ]
      }
     ],
     "prompt_number": 78
    },
    {
     "cell_type": "markdown",
     "metadata": {},
     "source": [
      "###Copy Number"
     ]
    },
    {
     "cell_type": "code",
     "collapsed": false,
     "input": [
      "s = screen_feature(hpv_inferred, chi2_cont_test, cn.features < 0)\n",
      "s.head()"
     ],
     "language": "python",
     "metadata": {},
     "outputs": [
      {
       "html": [
        "<div style=\"max-height:1000px;max-width:1500px;overflow:auto;\">\n",
        "<table border=\"1\" class=\"dataframe\">\n",
        "  <thead>\n",
        "    <tr style=\"text-align: right;\">\n",
        "      <th></th>\n",
        "      <th>chi2</th>\n",
        "      <th>p</th>\n",
        "      <th>dof</th>\n",
        "      <th>q</th>\n",
        "    </tr>\n",
        "  </thead>\n",
        "  <tbody>\n",
        "    <tr>\n",
        "      <th>(Deletion, 9p21.3, Lesion)</th>\n",
        "      <td> 46.02</td>\n",
        "      <td> 1.17e-11</td>\n",
        "      <td> 1</td>\n",
        "      <td> 8.21e-10</td>\n",
        "    </tr>\n",
        "    <tr>\n",
        "      <th>(Deletion, 18q23, Lesion)</th>\n",
        "      <td> 43.75</td>\n",
        "      <td> 3.73e-11</td>\n",
        "      <td> 1</td>\n",
        "      <td> 1.30e-09</td>\n",
        "    </tr>\n",
        "    <tr>\n",
        "      <th>(Deletion, 18q21.2, Lesion)</th>\n",
        "      <td> 39.66</td>\n",
        "      <td> 3.02e-10</td>\n",
        "      <td> 1</td>\n",
        "      <td> 7.04e-09</td>\n",
        "    </tr>\n",
        "    <tr>\n",
        "      <th>(Deletion, 3p25.3, Lesion)</th>\n",
        "      <td> 38.42</td>\n",
        "      <td> 5.71e-10</td>\n",
        "      <td> 1</td>\n",
        "      <td> 1.00e-08</td>\n",
        "    </tr>\n",
        "    <tr>\n",
        "      <th>(Deletion, 8p23.2, Lesion)</th>\n",
        "      <td> 31.13</td>\n",
        "      <td> 2.41e-08</td>\n",
        "      <td> 1</td>\n",
        "      <td> 3.38e-07</td>\n",
        "    </tr>\n",
        "  </tbody>\n",
        "</table>\n",
        "</div>"
       ],
       "metadata": {},
       "output_type": "pyout",
       "prompt_number": 79,
       "text": [
        "                              chi2         p  dof         q\n",
        "(Deletion, 9p21.3, Lesion)   46.02  1.17e-11    1  8.21e-10\n",
        "(Deletion, 18q23, Lesion)    43.75  3.73e-11    1  1.30e-09\n",
        "(Deletion, 18q21.2, Lesion)  39.66  3.02e-10    1  7.04e-09\n",
        "(Deletion, 3p25.3, Lesion)   38.42  5.71e-10    1  1.00e-08\n",
        "(Deletion, 8p23.2, Lesion)   31.13  2.41e-08    1  3.38e-07"
       ]
      }
     ],
     "prompt_number": 79
    },
    {
     "cell_type": "code",
     "collapsed": false,
     "input": [
      "s = screen_feature(hpv_inferred, chi2_cont_test, cn.features > 0)\n",
      "s.head()"
     ],
     "language": "python",
     "metadata": {},
     "outputs": [
      {
       "html": [
        "<div style=\"max-height:1000px;max-width:1500px;overflow:auto;\">\n",
        "<table border=\"1\" class=\"dataframe\">\n",
        "  <thead>\n",
        "    <tr style=\"text-align: right;\">\n",
        "      <th></th>\n",
        "      <th>chi2</th>\n",
        "      <th>p</th>\n",
        "      <th>dof</th>\n",
        "      <th>q</th>\n",
        "    </tr>\n",
        "  </thead>\n",
        "  <tbody>\n",
        "    <tr>\n",
        "      <th>(Amplification, 7p11.2, Lesion)</th>\n",
        "      <td> 32.72</td>\n",
        "      <td> 1.06e-08</td>\n",
        "      <td> 1</td>\n",
        "      <td> 7.45e-07</td>\n",
        "    </tr>\n",
        "    <tr>\n",
        "      <th>(Amplification, 8q24.21, Lesion)</th>\n",
        "      <td> 24.16</td>\n",
        "      <td> 8.88e-07</td>\n",
        "      <td> 1</td>\n",
        "      <td> 3.11e-05</td>\n",
        "    </tr>\n",
        "    <tr>\n",
        "      <th>(Amplification, 11q13.3, Lesion)</th>\n",
        "      <td> 20.58</td>\n",
        "      <td> 5.71e-06</td>\n",
        "      <td> 1</td>\n",
        "      <td> 1.33e-04</td>\n",
        "    </tr>\n",
        "    <tr>\n",
        "      <th>(Amplification, 7q21.3, Lesion)</th>\n",
        "      <td> 19.22</td>\n",
        "      <td> 1.16e-05</td>\n",
        "      <td> 1</td>\n",
        "      <td> 2.04e-04</td>\n",
        "    </tr>\n",
        "    <tr>\n",
        "      <th>(Amplification, 2q11.2, Lesion)</th>\n",
        "      <td> 12.69</td>\n",
        "      <td> 3.68e-04</td>\n",
        "      <td> 1</td>\n",
        "      <td> 5.15e-03</td>\n",
        "    </tr>\n",
        "  </tbody>\n",
        "</table>\n",
        "</div>"
       ],
       "metadata": {},
       "output_type": "pyout",
       "prompt_number": 86,
       "text": [
        "                                   chi2         p  dof         q\n",
        "(Amplification, 7p11.2, Lesion)   32.72  1.06e-08    1  7.45e-07\n",
        "(Amplification, 8q24.21, Lesion)  24.16  8.88e-07    1  3.11e-05\n",
        "(Amplification, 11q13.3, Lesion)  20.58  5.71e-06    1  1.33e-04\n",
        "(Amplification, 7q21.3, Lesion)   19.22  1.16e-05    1  2.04e-04\n",
        "(Amplification, 2q11.2, Lesion)   12.69  3.68e-04    1  5.15e-03"
       ]
      }
     ],
     "prompt_number": 86
    },
    {
     "cell_type": "markdown",
     "metadata": {},
     "source": [
      "###microRNA"
     ]
    },
    {
     "cell_type": "code",
     "collapsed": false,
     "input": [
      "screen_feature(hpv_inferred, kruskal_pandas, mirna.features).head()"
     ],
     "language": "python",
     "metadata": {},
     "outputs": [
      {
       "html": [
        "<div style=\"max-height:1000px;max-width:1500px;overflow:auto;\">\n",
        "<table border=\"1\" class=\"dataframe\">\n",
        "  <thead>\n",
        "    <tr style=\"text-align: right;\">\n",
        "      <th></th>\n",
        "      <th>H</th>\n",
        "      <th>p</th>\n",
        "      <th>q</th>\n",
        "    </tr>\n",
        "  </thead>\n",
        "  <tbody>\n",
        "    <tr>\n",
        "      <th>(binary, hsa-mir-548b)</th>\n",
        "      <td> 36.68</td>\n",
        "      <td> 1.39e-09</td>\n",
        "      <td> 4.52e-07</td>\n",
        "    </tr>\n",
        "    <tr>\n",
        "      <th>(binary, hsa-mir-9-3)</th>\n",
        "      <td> 34.00</td>\n",
        "      <td> 5.51e-09</td>\n",
        "      <td> 8.93e-07</td>\n",
        "    </tr>\n",
        "    <tr>\n",
        "      <th>(real, hsa-mir-193b)</th>\n",
        "      <td> 31.48</td>\n",
        "      <td> 2.01e-08</td>\n",
        "      <td> 2.17e-06</td>\n",
        "    </tr>\n",
        "    <tr>\n",
        "      <th>(binary, hsa-mir-3681)</th>\n",
        "      <td> 28.88</td>\n",
        "      <td> 7.68e-08</td>\n",
        "      <td> 6.22e-06</td>\n",
        "    </tr>\n",
        "    <tr>\n",
        "      <th>(binary, hsa-mir-588)</th>\n",
        "      <td> 24.41</td>\n",
        "      <td> 7.79e-07</td>\n",
        "      <td> 4.82e-05</td>\n",
        "    </tr>\n",
        "  </tbody>\n",
        "</table>\n",
        "</div>"
       ],
       "metadata": {},
       "output_type": "pyout",
       "prompt_number": 87,
       "text": [
        "                            H         p         q\n",
        "(binary, hsa-mir-548b)  36.68  1.39e-09  4.52e-07\n",
        "(binary, hsa-mir-9-3)   34.00  5.51e-09  8.93e-07\n",
        "(real, hsa-mir-193b)    31.48  2.01e-08  2.17e-06\n",
        "(binary, hsa-mir-3681)  28.88  7.68e-08  6.22e-06\n",
        "(binary, hsa-mir-588)   24.41  7.79e-07  4.82e-05"
       ]
      }
     ],
     "prompt_number": 87
    }
   ],
   "metadata": {}
  }
 ]
}