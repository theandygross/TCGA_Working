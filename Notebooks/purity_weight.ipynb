{
 "metadata": {
  "name": "purity_weight"
 },
 "nbformat": 3,
 "nbformat_minor": 0,
 "worksheets": [
  {
   "cells": [
    {
     "cell_type": "code",
     "collapsed": false,
     "input": [
      "tab = pd.read_table('/cellar/users/agross/biospecimen_tumor_sample_hnsc.txt', index_col=0, na_values=['[Not Available]'])"
     ],
     "language": "python",
     "metadata": {},
     "outputs": []
    },
    {
     "cell_type": "code",
     "collapsed": false,
     "input": [
      "p53_mut = 1.*(mut.df.ix['TP53', keepers].dropna() > 0)\n",
      "p53_mut.name = 'p53_mut'\n",
      "del_3p = cn.df.ix['Deletion'].ix['3p14.2', keepers].ix[0].dropna()\n",
      "del_3p.name = 'del_3p'\n",
      "\n",
      "combo = combine(p53_mut==1, del_3p==-1)\n",
      "two_hit = 1.*(combo == 'both')\n",
      "two_hit.name = 'two_hit'\n",
      "\n",
      "subtype = combine(two_hit, mut.features.ix['REACTOME_SHC_MEDIATED_SIGNALLING']).dropna() == 'REACTOME_SHC_MEDIATED_SIGNALLING'\n",
      "df = pd.concat([3.*(combine(subtype, two_hit==0)=='both'), 4.*(combine(mut.features.ix['MUC5B']==1, two_hit==1)=='both'), (two_hit + 1)], axis=1)\n",
      "subtypes = df.max(1).map({1:2, 2:3, 3:1, 4:4})"
     ],
     "language": "python",
     "metadata": {},
     "outputs": []
    },
    {
     "cell_type": "code",
     "collapsed": false,
     "input": [
      "w= tab.tumor_weight.groupby(level=0).sum()\n",
      "n = tab.tumor_nuclei_percent.groupby(level=0).max()\n",
      "y = clinical.clinical.yearofinitialpathologicdiagnosis.astype(float)\n",
      "n.name = 'purity'\n",
      "w.name = 'weight'\n",
      "get_cox_ph(surv, feature=subtypes.astype(str), covariates=pd.concat([1.*(n>=73), np.log(w)], axis=1), return_val='model_desc');"
     ],
     "language": "python",
     "metadata": {},
     "outputs": []
    }
   ],
   "metadata": {}
  }
 ]
}