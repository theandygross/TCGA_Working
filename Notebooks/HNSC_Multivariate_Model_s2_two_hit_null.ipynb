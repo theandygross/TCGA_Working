{
 "metadata": {
  "name": "HNSC_Multivariate_Model_s2_two_hit_null"
 },
 "nbformat": 3,
 "nbformat_minor": 0,
 "worksheets": [
  {
   "cells": [
    {
     "cell_type": "markdown",
     "metadata": {},
     "source": [
      "#HNSC Multivariate Screen  \n",
      "\n",
      "This is a screen for survival associated features.  "
     ]
    },
    {
     "cell_type": "code",
     "collapsed": false,
     "input": [
      "cd ../src"
     ],
     "language": "python",
     "metadata": {},
     "outputs": [
      {
       "output_type": "stream",
       "stream": "stdout",
       "text": [
        "/cellar/users/agross/TCGA_Code/TCGA/Pathway_Merge/src\n"
       ]
      }
     ],
     "prompt_number": 1
    },
    {
     "cell_type": "code",
     "collapsed": false,
     "input": [
      "from Processing.Imports import *"
     ],
     "language": "python",
     "metadata": {},
     "outputs": [],
     "prompt_number": 2
    },
    {
     "cell_type": "markdown",
     "metadata": {},
     "source": [
      "##Read in Data"
     ]
    },
    {
     "cell_type": "code",
     "collapsed": false,
     "input": [
      "run = get_run('/cellar/data/TCGA/Firehose__2013_04_21/', 'Run_all')\n",
      "\n",
      "cancer = run.load_cancer('HNSC')\n",
      "clinical = cancer.load_clinical()\n",
      "global_vars = cancer.load_global_vars()\n",
      "\n",
      "mut = cancer.load_data('Mutation')\n",
      "mut.uncompress()\n",
      "meth = cancer.load_data('Methylation')\n",
      "cn = cancer.load_data('CN_broad')\n",
      "cn.uncompress()\n",
      "rna = cancer.load_data('mRNASeq')\n",
      "rppa  = cancer.load_data('RPPA')\n",
      "mirna = cancer.load_data('miRNASeq')\n",
      "age = clinical.clinical.age.astype(float)\n",
      "\n",
      "hpv_all = pd.read_csv('/cellar/users/agross/hpv_summary_3_20_13_distribute.csv', index_col=0)\n",
      "hpv = hpv_all.Molecular_HPV.map({0:'HPV-', 1:'HPV+'})\n",
      "hpv.name = 'HPV'"
     ],
     "language": "python",
     "metadata": {},
     "outputs": [],
     "prompt_number": 3
    },
    {
     "cell_type": "code",
     "collapsed": false,
     "input": [
      "from Data.ProcessClinical import format_survival_from_data_portal\n",
      "path  = '/cellar/users/agross/Data/TCGA/HNSC_Followup/'\n",
      "survival, timeline = format_survival_from_data_portal(path, cancer.name)\n",
      "clinical.survival = survival\n",
      "clinical.artificially_censor(5)\n",
      "age = timeline.age"
     ],
     "language": "python",
     "metadata": {},
     "outputs": [],
     "prompt_number": 4
    },
    {
     "cell_type": "markdown",
     "metadata": {},
     "source": [
      "##Clinical Features"
     ]
    },
    {
     "cell_type": "code",
     "collapsed": false,
     "input": [
      "clinical_processed = pd.read_csv(cancer.path + '/Clinical/clinical_processed.csv', index_col=0)\n",
      "hpv_inferred = clinical_processed.hpv_inferred"
     ],
     "language": "python",
     "metadata": {},
     "outputs": [],
     "prompt_number": 5
    },
    {
     "cell_type": "code",
     "collapsed": false,
     "input": [
      "combo = combine(cn.df.ix['Deletion'].ix['3p14.2'].ix[0]<0, mut.features.ix['TP53'])\n",
      "two_hit = 1.*(combo == 'both')"
     ],
     "language": "python",
     "metadata": {},
     "outputs": [],
     "prompt_number": 6
    },
    {
     "cell_type": "code",
     "collapsed": false,
     "input": [
      "filters = pd.concat([age>=100, hpv_inferred==1, two_hit==1], axis=1)\n",
      "clinical_filter = filters.sum(1) == 0\n",
      "keepers_o = true_index(clinical_filter)"
     ],
     "language": "python",
     "metadata": {},
     "outputs": [],
     "prompt_number": 7
    },
    {
     "cell_type": "code",
     "collapsed": false,
     "input": [
      "filters = pd.concat([age>=85, hpv_inferred==1, two_hit==1], axis=1)\n",
      "clinical_filter = filters.sum(1) == 0\n",
      "keepers = true_index(clinical_filter)"
     ],
     "language": "python",
     "metadata": {},
     "outputs": [],
     "prompt_number": 46
    },
    {
     "cell_type": "code",
     "collapsed": false,
     "input": [
      "surv = clinical.survival.survival_5y\n",
      "old = pd.Series(1.*(age>=75), name='old')"
     ],
     "language": "python",
     "metadata": {},
     "outputs": [],
     "prompt_number": 9
    },
    {
     "cell_type": "markdown",
     "metadata": {},
     "source": [
      "####Form expression and methylation features without HPV  \n",
      "* HPV has a big influence on expression, here I am creating a second set of features without HPV\n",
      "* I use this sparingly but it helps to tease out wheter an association is due to a underlying relationship with HPV"
     ]
    },
    {
     "cell_type": "code",
     "collapsed": false,
     "input": [
      "from Stats.Survival import cox\n",
      "\n",
      "rev_kruskal = lambda a,b: kruskal_pandas(b,a)\n",
      "def fc(hit_vec, response_vec):\n",
      "    f = response_vec.groupby(hit_vec).median()\n",
      "    return f[0] > f[1]\n",
      "\n",
      "def mut_filter(df, rate):\n",
      "    df = df[df.sum(1) >= 10]\n",
      "    cc = screen_feature(rate, rev_kruskal, df)\n",
      "    \n",
      "    fc_apply = lambda s: fc(s, rate)\n",
      "    direction = df.apply(fc_apply, axis=1)\n",
      "    direction.name = 'direction'\n",
      "    \n",
      "    cc = cc.join(direction)\n",
      "    cc = cc[cc.direction==False]\n",
      "    \n",
      "    df = df.ix[((cc.p>.00001) + (df.sum(1).isin(range(10, df.shape[1] / 3)))) > 0]\n",
      "    df = df.dropna(axis=1)\n",
      "    return df\n",
      "\n",
      "def cox_screen(df, surv, axis=1):\n",
      "    rr = df.apply(lambda s: cox(s.dropna(), surv), axis=axis)\n",
      "    if axis==0:\n",
      "        rr = rr.T\n",
      "    rr['q'] = bhCorrection(rr.p)\n",
      "    rr = rr.sort('p')\n",
      "    return rr"
     ],
     "language": "python",
     "metadata": {},
     "outputs": [],
     "prompt_number": 10
    },
    {
     "cell_type": "code",
     "collapsed": false,
     "input": [
      "try:\n",
      "    rna = pickle.load(open(cancer.path + '/mRNASeq/store/no_hpv.p', 'rb'))\n",
      "    meth = pickle.load(open(cancer.path + '/Methylation/store/no_hpv.p', 'rb'))\n",
      "    mirna = pickle.load(open(cancer.path + '/miRNASeq/store/no_hpv.p', 'rb'))\n",
      "except:\n",
      "    from Initialization.InitializeReal import RealDataset\n",
      "    from Processing.Helpers import make_path_dump\n",
      "    rna = RealDataset(run, cancer, 'mRNASeq', keepers_o)\n",
      "    meth = RealDataset(run, cancer, 'Methylation', keepers_o)\n",
      "    mirna = RealDataset(run, cancer, 'miRNASeq', keepers_o, create_meta_features=False)\n",
      "    \n",
      "    make_path_dump(rna, rna.path + '/store/no_hpv.p')\n",
      "    make_path_dump(meth, meth.path + '/store/no_hpv.p')\n",
      "    make_path_dump(mirna, mirna.path + '/store/no_hpv.p')"
     ],
     "language": "python",
     "metadata": {},
     "outputs": [],
     "prompt_number": 11
    },
    {
     "cell_type": "code",
     "collapsed": false,
     "input": [
      "mut_df = mut_filter(mut.features.ix[:,keepers_o], mut.df.sum()).T\n",
      "\n",
      "del_df = (cn.features.ix['Deletion', keepers_o].dropna(1) < 0).astype(int)\n",
      "del_df = del_df[del_df.sum(1) > 10]\n",
      "del_df.index = del_df.index.droplevel(1)\n",
      "del_df = del_df.T\n",
      "amp_df = (cn.features.ix['Amplification', keepers_o].dropna(1) > 0).astype(int)\n",
      "amp_df = amp_df[amp_df.sum(1) > 10]\n",
      "amp_df.index = amp_df.index.droplevel(1)\n",
      "amp_df = amp_df.T\n",
      "\n",
      "global_df = pd.concat([global_vars['mutation'], global_vars['cna'], rna.global_vars, \n",
      "                       meth.global_vars, mirna.global_vars], \n",
      "                keys=['mutation', 'cna', 'rna', 'methylation', 'mirna'], axis=1)\n",
      "global_df.columns = map(lambda s: '_'.join(s), global_df.columns)\n",
      "\n",
      "mirna_df = mirna.features.copy()\n",
      "mirna_df.index = map(lambda s: '_'.join(s), mirna_df.index)\n",
      "mirna_df = mirna_df.T\n",
      "\n",
      "clinical_df = clinical_processed.select(lambda s: 'hpv' not in s, 1)"
     ],
     "language": "python",
     "metadata": {},
     "outputs": [],
     "prompt_number": 12
    },
    {
     "cell_type": "code",
     "collapsed": false,
     "input": [
      "data_sets = {'clinical': clinical_df,\n",
      "             'global': global_df,\n",
      "             'mutation': mut_df,\n",
      "             'deletion': del_df,\n",
      "             'amplification': amp_df,\n",
      "             'rna': rna.pathways.T,\n",
      "             'mirna': mirna_df,\n",
      "             'methylation': meth.pathways.T}"
     ],
     "language": "python",
     "metadata": {},
     "outputs": [],
     "prompt_number": 13
    },
    {
     "cell_type": "code",
     "collapsed": false,
     "input": [
      "univariate = pd.concat({d: cox_screen(df.ix[keepers], surv, 0) for d,df in data_sets.iteritems()})"
     ],
     "language": "python",
     "metadata": {},
     "outputs": [],
     "prompt_number": 14
    },
    {
     "cell_type": "code",
     "collapsed": false,
     "input": [
      "univariate.sort('q').head(10)"
     ],
     "language": "python",
     "metadata": {},
     "outputs": [
      {
       "html": [
        "<div style=\"max-height:1000px;max-width:1500px;overflow:auto;\">\n",
        "<table border=\"1\" class=\"dataframe\">\n",
        "  <thead>\n",
        "    <tr style=\"text-align: right;\">\n",
        "      <th></th>\n",
        "      <th></th>\n",
        "      <th>LR</th>\n",
        "      <th>p</th>\n",
        "      <th>q</th>\n",
        "    </tr>\n",
        "  </thead>\n",
        "  <tbody>\n",
        "    <tr>\n",
        "      <th rowspan=\"3\" valign=\"top\">amplification</th>\n",
        "      <th>12q15</th>\n",
        "      <td> 16.48</td>\n",
        "      <td> 4.92e-05</td>\n",
        "      <td> 0.00</td>\n",
        "    </tr>\n",
        "    <tr>\n",
        "      <th>12p13.33</th>\n",
        "      <td> 11.46</td>\n",
        "      <td> 7.13e-04</td>\n",
        "      <td> 0.01</td>\n",
        "    </tr>\n",
        "    <tr>\n",
        "      <th>18p11.31</th>\n",
        "      <td>  6.01</td>\n",
        "      <td> 1.42e-02</td>\n",
        "      <td> 0.12</td>\n",
        "    </tr>\n",
        "    <tr>\n",
        "      <th rowspan=\"4\" valign=\"top\">clinical</th>\n",
        "      <th>invasion</th>\n",
        "      <td>  4.68</td>\n",
        "      <td> 3.05e-02</td>\n",
        "      <td> 0.12</td>\n",
        "    </tr>\n",
        "    <tr>\n",
        "      <th>tumor_subdivision</th>\n",
        "      <td>  4.67</td>\n",
        "      <td> 3.07e-02</td>\n",
        "      <td> 0.12</td>\n",
        "    </tr>\n",
        "    <tr>\n",
        "      <th>invasion_inferred</th>\n",
        "      <td>  4.91</td>\n",
        "      <td> 2.68e-02</td>\n",
        "      <td> 0.12</td>\n",
        "    </tr>\n",
        "    <tr>\n",
        "      <th>lymph_stage</th>\n",
        "      <td>  4.93</td>\n",
        "      <td> 2.63e-02</td>\n",
        "      <td> 0.12</td>\n",
        "    </tr>\n",
        "    <tr>\n",
        "      <th>mirna</th>\n",
        "      <th>binary_hsa-mir-548s</th>\n",
        "      <td> 12.35</td>\n",
        "      <td> 4.41e-04</td>\n",
        "      <td> 0.12</td>\n",
        "    </tr>\n",
        "    <tr>\n",
        "      <th rowspan=\"2\" valign=\"top\">clinical</th>\n",
        "      <th>lymph_status</th>\n",
        "      <td>  3.17</td>\n",
        "      <td> 7.50e-02</td>\n",
        "      <td> 0.17</td>\n",
        "    </tr>\n",
        "    <tr>\n",
        "      <th>spread</th>\n",
        "      <td>  3.18</td>\n",
        "      <td> 7.45e-02</td>\n",
        "      <td> 0.17</td>\n",
        "    </tr>\n",
        "  </tbody>\n",
        "</table>\n",
        "</div>"
       ],
       "output_type": "pyout",
       "prompt_number": 15,
       "text": [
        "                                      LR         p     q\n",
        "amplification 12q15                16.48  4.92e-05  0.00\n",
        "              12p13.33             11.46  7.13e-04  0.01\n",
        "              18p11.31              6.01  1.42e-02  0.12\n",
        "clinical      invasion              4.68  3.05e-02  0.12\n",
        "              tumor_subdivision     4.67  3.07e-02  0.12\n",
        "              invasion_inferred     4.91  2.68e-02  0.12\n",
        "              lymph_stage           4.93  2.63e-02  0.12\n",
        "mirna         binary_hsa-mir-548s  12.35  4.41e-04  0.12\n",
        "clinical      lymph_status          3.17  7.50e-02  0.17\n",
        "              spread                3.18  7.45e-02  0.17"
       ]
      }
     ],
     "prompt_number": 15
    },
    {
     "cell_type": "code",
     "collapsed": false,
     "input": [
      "hits = univariate[univariate.q < .3].index"
     ],
     "language": "python",
     "metadata": {},
     "outputs": [],
     "prompt_number": 16
    },
    {
     "cell_type": "code",
     "collapsed": false,
     "input": [
      "cov_df = pd.concat([age, old], axis=1)\n",
      "def test(s):\n",
      "    s = s.dropna()\n",
      "    try:\n",
      "        s = s.astype(float)\n",
      "    except:\n",
      "\n",
      "        pass\n",
      "    return get_cox_ph_ms(surv, s, cov_df, return_val='LR', interactions=False);"
     ],
     "language": "python",
     "metadata": {},
     "outputs": [],
     "prompt_number": 17
    },
    {
     "cell_type": "code",
     "collapsed": false,
     "input": [
      "df = pd.concat(data_sets, 1).T.ix[hits, keepers_o]\n",
      "feature_age = df.apply(test, 1)"
     ],
     "language": "python",
     "metadata": {},
     "outputs": [],
     "prompt_number": 18
    },
    {
     "cell_type": "code",
     "collapsed": false,
     "input": [
      "vec = feature_age.LR.ix[univariate.index].sort_index()\n",
      "feature_age['q_bonf'] = vec.groupby(level=0).apply(lambda s: s*len(s)).order()\n",
      "feature_age['q_bh'] = vec.groupby(level=0).apply(bhCorrection).order()"
     ],
     "language": "python",
     "metadata": {},
     "outputs": [],
     "prompt_number": 20
    },
    {
     "cell_type": "code",
     "collapsed": false,
     "input": [
      "feature_age.sort('LR').head()"
     ],
     "language": "python",
     "metadata": {},
     "outputs": [
      {
       "html": [
        "<div style=\"max-height:1000px;max-width:1500px;overflow:auto;\">\n",
        "<table border=\"1\" class=\"dataframe\">\n",
        "  <thead>\n",
        "    <tr style=\"text-align: right;\">\n",
        "      <th></th>\n",
        "      <th></th>\n",
        "      <th>LR</th>\n",
        "      <th>feature_p</th>\n",
        "      <th>fmla</th>\n",
        "      <th>hazzard</th>\n",
        "      <th>q_bonf</th>\n",
        "      <th>q_bh</th>\n",
        "    </tr>\n",
        "  </thead>\n",
        "  <tbody>\n",
        "    <tr>\n",
        "      <th>amplification</th>\n",
        "      <th>12q15</th>\n",
        "      <td> 0.00</td>\n",
        "      <td> 0.00</td>\n",
        "      <td> Surv(days, event) ~ feature + old\\n</td>\n",
        "      <td> 4.97</td>\n",
        "      <td> 0.06</td>\n",
        "      <td> 0.06</td>\n",
        "    </tr>\n",
        "    <tr>\n",
        "      <th>clinical</th>\n",
        "      <th>lymph_stage</th>\n",
        "      <td> 0.00</td>\n",
        "      <td>  NaN</td>\n",
        "      <td> Surv(days, event) ~ feature + old\\n</td>\n",
        "      <td>  NaN</td>\n",
        "      <td> 0.04</td>\n",
        "      <td> 0.04</td>\n",
        "    </tr>\n",
        "    <tr>\n",
        "      <th>mirna</th>\n",
        "      <th>binary_hsa-mir-548s</th>\n",
        "      <td> 0.00</td>\n",
        "      <td> 0.00</td>\n",
        "      <td> Surv(days, event) ~ feature + old\\n</td>\n",
        "      <td> 4.45</td>\n",
        "      <td> 1.41</td>\n",
        "      <td> 1.00</td>\n",
        "    </tr>\n",
        "    <tr>\n",
        "      <th>clinical</th>\n",
        "      <th>invasion_inferred</th>\n",
        "      <td> 0.01</td>\n",
        "      <td> 0.02</td>\n",
        "      <td> Surv(days, event) ~ feature + old\\n</td>\n",
        "      <td> 3.54</td>\n",
        "      <td> 0.15</td>\n",
        "      <td> 0.08</td>\n",
        "    </tr>\n",
        "    <tr>\n",
        "      <th>amplification</th>\n",
        "      <th>12p13.33</th>\n",
        "      <td> 0.03</td>\n",
        "      <td> 0.02</td>\n",
        "      <td> Surv(days, event) ~ feature + old\\n</td>\n",
        "      <td> 3.41</td>\n",
        "      <td> 0.73</td>\n",
        "      <td> 0.37</td>\n",
        "    </tr>\n",
        "  </tbody>\n",
        "</table>\n",
        "</div>"
       ],
       "output_type": "pyout",
       "prompt_number": 21,
       "text": [
        "                                     LR  feature_p                                 fmla  hazzard  q_bonf  q_bh\n",
        "amplification 12q15                0.00       0.00  Surv(days, event) ~ feature + old\\n     4.97    0.06  0.06\n",
        "clinical      lymph_stage          0.00        NaN  Surv(days, event) ~ feature + old\\n      NaN    0.04  0.04\n",
        "mirna         binary_hsa-mir-548s  0.00       0.00  Surv(days, event) ~ feature + old\\n     4.45    1.41  1.00\n",
        "clinical      invasion_inferred    0.01       0.02  Surv(days, event) ~ feature + old\\n     3.54    0.15  0.08\n",
        "amplification 12p13.33             0.03       0.02  Surv(days, event) ~ feature + old\\n     3.41    0.73  0.37"
       ]
      }
     ],
     "prompt_number": 21
    },
    {
     "cell_type": "code",
     "collapsed": false,
     "input": [
      "draw_survival_curves(cn.features.ix['Amplification'].ix['12q15'].ix[0]>0, surv, two_hit.ix[true_index(hpv_inferred==0)], show=True, ann='p')"
     ],
     "language": "python",
     "metadata": {},
     "outputs": [
      {
       "html": [
        "<img src='data:image/png;base64,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'>"
       ],
       "output_type": "pyout",
       "prompt_number": 54,
       "text": [
        "<Reports.NotebookTools.Show at 0x83cc3d0>"
       ]
      }
     ],
     "prompt_number": 54
    },
    {
     "cell_type": "code",
     "collapsed": false,
     "input": [
      "screen_feature(amp_df['12q15'].ix[keepers_o], fisher_exact_test, mut.features).head()"
     ],
     "language": "python",
     "metadata": {},
     "outputs": [
      {
       "html": [
        "<div style=\"max-height:1000px;max-width:1500px;overflow:auto;\">\n",
        "<table border=\"1\" class=\"dataframe\">\n",
        "  <thead>\n",
        "    <tr style=\"text-align: right;\">\n",
        "      <th></th>\n",
        "      <th>odds_ratio</th>\n",
        "      <th>p</th>\n",
        "      <th>q</th>\n",
        "    </tr>\n",
        "  </thead>\n",
        "  <tbody>\n",
        "    <tr>\n",
        "      <th>BAZ2B</th>\n",
        "      <td>   inf</td>\n",
        "      <td> 0.01</td>\n",
        "      <td> 1</td>\n",
        "    </tr>\n",
        "    <tr>\n",
        "      <th>REACTOME_PURINE_METABOLISM</th>\n",
        "      <td>  6.88</td>\n",
        "      <td> 0.01</td>\n",
        "      <td> 1</td>\n",
        "    </tr>\n",
        "    <tr>\n",
        "      <th>PCDH10</th>\n",
        "      <td> 11.80</td>\n",
        "      <td> 0.01</td>\n",
        "      <td> 1</td>\n",
        "    </tr>\n",
        "    <tr>\n",
        "      <th>PCDH11X</th>\n",
        "      <td> 11.80</td>\n",
        "      <td> 0.01</td>\n",
        "      <td> 1</td>\n",
        "    </tr>\n",
        "    <tr>\n",
        "      <th>KEGG_DORSO_VENTRAL_AXIS_FORMATION</th>\n",
        "      <td>  0.15</td>\n",
        "      <td> 0.02</td>\n",
        "      <td> 1</td>\n",
        "    </tr>\n",
        "  </tbody>\n",
        "</table>\n",
        "</div>"
       ],
       "output_type": "pyout",
       "prompt_number": 64,
       "text": [
        "                                   odds_ratio     p  q\n",
        "BAZ2B                                     inf  0.01  1\n",
        "REACTOME_PURINE_METABOLISM               6.88  0.01  1\n",
        "PCDH10                                  11.80  0.01  1\n",
        "PCDH11X                                 11.80  0.01  1\n",
        "KEGG_DORSO_VENTRAL_AXIS_FORMATION        0.15  0.02  1"
       ]
      }
     ],
     "prompt_number": 64
    },
    {
     "cell_type": "code",
     "collapsed": false,
     "input": [
      "draw_survival_curves(amp_df['12q15'].ix[keepers_o], surv, show=True, ann='p')"
     ],
     "language": "python",
     "metadata": {},
     "outputs": [
      {
       "html": [
        "<img src='data:image/png;base64,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'>"
       ],
       "output_type": "pyout",
       "prompt_number": 63,
       "text": [
        "<Reports.NotebookTools.Show at 0x868dcd0>"
       ]
      }
     ],
     "prompt_number": 63
    }
   ],
   "metadata": {}
  }
 ]
}