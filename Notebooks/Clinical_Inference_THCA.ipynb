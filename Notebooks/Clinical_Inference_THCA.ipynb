{
 "metadata": {
  "name": ""
 },
 "nbformat": 3,
 "nbformat_minor": 0,
 "worksheets": [
  {
   "cells": [
    {
     "cell_type": "markdown",
     "metadata": {},
     "source": [
      "#Predicting Clinical Variables"
     ]
    },
    {
     "cell_type": "code",
     "collapsed": false,
     "input": [
      "cd ../src"
     ],
     "language": "python",
     "metadata": {},
     "outputs": [
      {
       "output_type": "stream",
       "stream": "stdout",
       "text": [
        "/cellar/users/agross/TCGA_Code/TCGA/Pathway_Merge/src\n"
       ]
      }
     ],
     "prompt_number": 1
    },
    {
     "cell_type": "code",
     "collapsed": false,
     "input": [
      "import warnings\n",
      "warnings.filterwarnings('ignore')"
     ],
     "language": "python",
     "metadata": {},
     "outputs": [],
     "prompt_number": 2
    },
    {
     "cell_type": "code",
     "collapsed": false,
     "input": [
      "from Processing.Imports import *\n",
      "from Figures.Survival import survival_stat_plot\n",
      "from Stats.Survival import log_rank\n",
      "from Figures.Survival import survival_and_stats"
     ],
     "language": "python",
     "metadata": {},
     "outputs": [],
     "prompt_number": 3
    },
    {
     "cell_type": "code",
     "collapsed": false,
     "input": [
      "run = get_run('/cellar/data/TCGA/Firehose__2013_05_23/', 'Run_all')\n",
      "\n",
      "cancer = run.load_cancer('THCA')\n",
      "clinical = cancer.load_clinical()\n",
      "global_vars = cancer.load_global_vars()\n",
      "\n",
      "mut = cancer.load_data('Mutation')\n",
      "mut.uncompress()\n",
      "meth = cancer.load_data('Methylation')\n",
      "cn = cancer.load_data('CN_broad')\n",
      "cn.uncompress()\n",
      "rna = cancer.load_data('mRNASeq')\n",
      "rppa  = cancer.load_data('RPPA')\n",
      "mirna = cancer.load_data('miRNASeq')\n",
      "age = clinical.clinical.age.astype(float)"
     ],
     "language": "python",
     "metadata": {},
     "outputs": [],
     "prompt_number": 4
    },
    {
     "cell_type": "code",
     "collapsed": false,
     "input": [
      "surv = clinical.survival.survival_5y"
     ],
     "language": "python",
     "metadata": {},
     "outputs": [],
     "prompt_number": 5
    },
    {
     "cell_type": "code",
     "collapsed": false,
     "input": [
      "from Stats.Classification import SVC_fill"
     ],
     "language": "python",
     "metadata": {},
     "outputs": [],
     "prompt_number": 6
    },
    {
     "cell_type": "code",
     "collapsed": false,
     "input": [
      "clinical = Clinical(cancer, run)"
     ],
     "language": "python",
     "metadata": {},
     "outputs": [],
     "prompt_number": 10
    },
    {
     "cell_type": "code",
     "collapsed": false,
     "input": [
      "nn  = clinical.clinical.numberoflymphnodespositivebyhe.dropna().astype(float)\n",
      "ln = clinical.stage.pathologicn.replace('nx',nan).dropna() == 'n0'"
     ],
     "language": "python",
     "metadata": {},
     "outputs": [],
     "prompt_number": 27
    },
    {
     "cell_type": "code",
     "collapsed": false,
     "input": [
      "pd.crosstab(ln, nn>0)"
     ],
     "language": "python",
     "metadata": {},
     "outputs": [
      {
       "html": [
        "<div style=\"max-height:1000px;max-width:1500px;overflow:auto;\">\n",
        "<table border=\"1\" class=\"dataframe\">\n",
        "  <thead>\n",
        "    <tr style=\"text-align: right;\">\n",
        "      <th>numberoflymphnodespositivebyhe</th>\n",
        "      <th>False</th>\n",
        "      <th>True</th>\n",
        "    </tr>\n",
        "    <tr>\n",
        "      <th>row_0</th>\n",
        "      <th></th>\n",
        "      <th></th>\n",
        "    </tr>\n",
        "  </thead>\n",
        "  <tbody>\n",
        "    <tr>\n",
        "      <th>False</th>\n",
        "      <td>   2</td>\n",
        "      <td> 178</td>\n",
        "    </tr>\n",
        "    <tr>\n",
        "      <th>True </th>\n",
        "      <td> 142</td>\n",
        "      <td>   1</td>\n",
        "    </tr>\n",
        "  </tbody>\n",
        "</table>\n",
        "</div>"
       ],
       "metadata": {},
       "output_type": "pyout",
       "prompt_number": 31,
       "text": [
        "numberoflymphnodespositivebyhe  False  True \n",
        "row_0                                       \n",
        "False                               2    178\n",
        "True                              142      1"
       ]
      }
     ],
     "prompt_number": 31
    },
    {
     "cell_type": "code",
     "collapsed": false,
     "input": [
      "df = rna.features.ix['real']\n",
      "gg = df.apply(lambda s: to_quants(s, std=1) > 0, axis=1)\n",
      "df = pd.concat([gg, rna.features.ix['binary']])"
     ],
     "language": "python",
     "metadata": {},
     "outputs": [],
     "prompt_number": 32
    },
    {
     "cell_type": "code",
     "collapsed": false,
     "input": [
      "q = df.sum(1).quantile(.80)\n",
      "dd = df[df.sum(1) > q]"
     ],
     "language": "python",
     "metadata": {},
     "outputs": [],
     "prompt_number": 65
    },
    {
     "cell_type": "code",
     "collapsed": false,
     "input": [
      "ret = SVC_fill(ln, rna.features.ix['binary'])\n",
      "ret['auc']"
     ],
     "language": "python",
     "metadata": {},
     "outputs": [
      {
       "metadata": {},
       "output_type": "pyout",
       "prompt_number": 79,
       "text": [
        "0.80000000000000004"
       ]
      }
     ],
     "prompt_number": 79
    },
    {
     "cell_type": "code",
     "collapsed": false,
     "input": [
      "fun = ret['decision_function']\n",
      "violin_plot_pandas(clinical.stage.pathologicn, fun)"
     ],
     "language": "python",
     "metadata": {},
     "outputs": [
      {
       "metadata": {},
       "output_type": "display_data",
       "png": "[encoded data removed]",
       "text": [
        "<matplotlib.figure.Figure at 0x111e1c50>"
       ]
      }
     ],
     "prompt_number": 80
    },
    {
     "cell_type": "code",
     "collapsed": false,
     "input": [
      "screen_feature(ret['inferred_values'], chi2_cont_test, mut.features).head()"
     ],
     "language": "python",
     "metadata": {},
     "outputs": [
      {
       "html": [
        "<div style=\"max-height:1000px;max-width:1500px;overflow:auto;\">\n",
        "<table border=\"1\" class=\"dataframe\">\n",
        "  <thead>\n",
        "    <tr style=\"text-align: right;\">\n",
        "      <th></th>\n",
        "      <th>chi2</th>\n",
        "      <th>p</th>\n",
        "      <th>dof</th>\n",
        "      <th>q</th>\n",
        "    </tr>\n",
        "  </thead>\n",
        "  <tbody>\n",
        "    <tr>\n",
        "      <th>BRAF</th>\n",
        "      <td> 113.99</td>\n",
        "      <td> 1.31e-26</td>\n",
        "      <td> 1</td>\n",
        "      <td> 2.70e-24</td>\n",
        "    </tr>\n",
        "    <tr>\n",
        "      <th>KEGG_GNRH_SIGNALING_PATHWAY</th>\n",
        "      <td>  40.06</td>\n",
        "      <td> 2.46e-10</td>\n",
        "      <td> 1</td>\n",
        "      <td> 2.53e-08</td>\n",
        "    </tr>\n",
        "    <tr>\n",
        "      <th>KEGG_GAP_JUNCTION</th>\n",
        "      <td>  36.15</td>\n",
        "      <td> 1.82e-09</td>\n",
        "      <td> 1</td>\n",
        "      <td> 1.25e-07</td>\n",
        "    </tr>\n",
        "    <tr>\n",
        "      <th>NRAS</th>\n",
        "      <td>  32.15</td>\n",
        "      <td> 1.43e-08</td>\n",
        "      <td> 1</td>\n",
        "      <td> 7.35e-07</td>\n",
        "    </tr>\n",
        "    <tr>\n",
        "      <th>KEGG_TIGHT_JUNCTION</th>\n",
        "      <td>  25.15</td>\n",
        "      <td> 5.30e-07</td>\n",
        "      <td> 1</td>\n",
        "      <td> 2.18e-05</td>\n",
        "    </tr>\n",
        "  </tbody>\n",
        "</table>\n",
        "</div>"
       ],
       "metadata": {},
       "output_type": "pyout",
       "prompt_number": 81,
       "text": [
        "                               chi2         p  dof         q\n",
        "BRAF                         113.99  1.31e-26    1  2.70e-24\n",
        "KEGG_GNRH_SIGNALING_PATHWAY   40.06  2.46e-10    1  2.53e-08\n",
        "KEGG_GAP_JUNCTION             36.15  1.82e-09    1  1.25e-07\n",
        "NRAS                          32.15  1.43e-08    1  7.35e-07\n",
        "KEGG_TIGHT_JUNCTION           25.15  5.30e-07    1  2.18e-05"
       ]
      }
     ],
     "prompt_number": 81
    },
    {
     "cell_type": "code",
     "collapsed": false,
     "input": [
      "ret = SVC_fill(ln, rna.features.ix['binary'], metric='precision')\n",
      "ret['auc']"
     ],
     "language": "python",
     "metadata": {},
     "outputs": [
      {
       "metadata": {},
       "output_type": "pyout",
       "prompt_number": 83,
       "text": [
        "0.80000000000000004"
       ]
      }
     ],
     "prompt_number": 83
    },
    {
     "cell_type": "code",
     "collapsed": false,
     "input": [
      "fun = ret['decision_function']\n",
      "violin_plot_pandas(clinical.stage.pathologicn, fun)"
     ],
     "language": "python",
     "metadata": {},
     "outputs": [
      {
       "metadata": {},
       "output_type": "display_data",
       "png": "[encoded data removed]",
       "text": [
        "<matplotlib.figure.Figure at 0x8c9d350>"
       ]
      }
     ],
     "prompt_number": 84
    },
    {
     "cell_type": "code",
     "collapsed": false,
     "input": [
      "screen_feature(ret['inferred_values'], chi2_cont_test, mut.features).head()"
     ],
     "language": "python",
     "metadata": {},
     "outputs": [
      {
       "html": [
        "<div style=\"max-height:1000px;max-width:1500px;overflow:auto;\">\n",
        "<table border=\"1\" class=\"dataframe\">\n",
        "  <thead>\n",
        "    <tr style=\"text-align: right;\">\n",
        "      <th></th>\n",
        "      <th>chi2</th>\n",
        "      <th>p</th>\n",
        "      <th>dof</th>\n",
        "      <th>q</th>\n",
        "    </tr>\n",
        "  </thead>\n",
        "  <tbody>\n",
        "    <tr>\n",
        "      <th>BRAF</th>\n",
        "      <td> 136.04</td>\n",
        "      <td> 1.96e-31</td>\n",
        "      <td> 1</td>\n",
        "      <td> 4.03e-29</td>\n",
        "    </tr>\n",
        "    <tr>\n",
        "      <th>KEGG_GNRH_SIGNALING_PATHWAY</th>\n",
        "      <td>  35.22</td>\n",
        "      <td> 2.94e-09</td>\n",
        "      <td> 1</td>\n",
        "      <td> 2.35e-07</td>\n",
        "    </tr>\n",
        "    <tr>\n",
        "      <th>KEGG_GAP_JUNCTION</th>\n",
        "      <td>  34.93</td>\n",
        "      <td> 3.42e-09</td>\n",
        "      <td> 1</td>\n",
        "      <td> 2.35e-07</td>\n",
        "    </tr>\n",
        "    <tr>\n",
        "      <th>KEGG_TIGHT_JUNCTION</th>\n",
        "      <td>  30.59</td>\n",
        "      <td> 3.18e-08</td>\n",
        "      <td> 1</td>\n",
        "      <td> 1.35e-06</td>\n",
        "    </tr>\n",
        "    <tr>\n",
        "      <th>NRAS</th>\n",
        "      <td>  30.54</td>\n",
        "      <td> 3.27e-08</td>\n",
        "      <td> 1</td>\n",
        "      <td> 1.35e-06</td>\n",
        "    </tr>\n",
        "  </tbody>\n",
        "</table>\n",
        "</div>"
       ],
       "metadata": {},
       "output_type": "pyout",
       "prompt_number": 73,
       "text": [
        "                               chi2         p  dof         q\n",
        "BRAF                         136.04  1.96e-31    1  4.03e-29\n",
        "KEGG_GNRH_SIGNALING_PATHWAY   35.22  2.94e-09    1  2.35e-07\n",
        "KEGG_GAP_JUNCTION             34.93  3.42e-09    1  2.35e-07\n",
        "KEGG_TIGHT_JUNCTION           30.59  3.18e-08    1  1.35e-06\n",
        "NRAS                          30.54  3.27e-08    1  1.35e-06"
       ]
      }
     ],
     "prompt_number": 73
    },
    {
     "cell_type": "code",
     "collapsed": false,
     "input": [
      "screen_feature(ret['inferred_values'], kruskal_pandas, rna.features).head()"
     ],
     "language": "python",
     "metadata": {},
     "outputs": [
      {
       "html": [
        "<div style=\"max-height:1000px;max-width:1500px;overflow:auto;\">\n",
        "<table border=\"1\" class=\"dataframe\">\n",
        "  <thead>\n",
        "    <tr style=\"text-align: right;\">\n",
        "      <th></th>\n",
        "      <th>H</th>\n",
        "      <th>p</th>\n",
        "      <th>q</th>\n",
        "    </tr>\n",
        "  </thead>\n",
        "  <tbody>\n",
        "    <tr>\n",
        "      <th>(pathways, KEGG_PHENYLALANINE_METABOLISM)</th>\n",
        "      <td> 220.64</td>\n",
        "      <td> 6.54e-50</td>\n",
        "      <td> 3.76e-46</td>\n",
        "    </tr>\n",
        "    <tr>\n",
        "      <th>(pathways, REACTOME_PKA_ACTIVATION)</th>\n",
        "      <td> 218.22</td>\n",
        "      <td> 2.21e-49</td>\n",
        "      <td> 6.36e-46</td>\n",
        "    </tr>\n",
        "    <tr>\n",
        "      <th>(pathways, KEGG_CIRCADIAN_RHYTHM_MAMMAL)</th>\n",
        "      <td> 210.50</td>\n",
        "      <td> 1.07e-47</td>\n",
        "      <td> 2.04e-44</td>\n",
        "    </tr>\n",
        "    <tr>\n",
        "      <th>(pathways, REACTOME_SYNTHESIS_OF_BILE_ACIDS_AND_BILE_SALTS)</th>\n",
        "      <td> 209.65</td>\n",
        "      <td> 1.64e-47</td>\n",
        "      <td> 2.35e-44</td>\n",
        "    </tr>\n",
        "    <tr>\n",
        "      <th>(real, ADIPOR2)</th>\n",
        "      <td> 206.96</td>\n",
        "      <td> 6.32e-47</td>\n",
        "      <td> 6.72e-44</td>\n",
        "    </tr>\n",
        "  </tbody>\n",
        "</table>\n",
        "</div>"
       ],
       "metadata": {},
       "output_type": "pyout",
       "prompt_number": 74,
       "text": [
        "                                                                  H         p         q\n",
        "(pathways, KEGG_PHENYLALANINE_METABOLISM)                    220.64  6.54e-50  3.76e-46\n",
        "(pathways, REACTOME_PKA_ACTIVATION)                          218.22  2.21e-49  6.36e-46\n",
        "(pathways, KEGG_CIRCADIAN_RHYTHM_MAMMAL)                     210.50  1.07e-47  2.04e-44\n",
        "(pathways, REACTOME_SYNTHESIS_OF_BILE_ACIDS_AND_BILE_SALTS)  209.65  1.64e-47  2.35e-44\n",
        "(real, ADIPOR2)                                              206.96  6.32e-47  6.72e-44"
       ]
      }
     ],
     "prompt_number": 74
    },
    {
     "cell_type": "markdown",
     "metadata": {},
     "source": [
      "http://www.ncbi.nlm.nih.gov/pubmed/21938494"
     ]
    },
    {
     "cell_type": "markdown",
     "metadata": {},
     "source": [
      "#Now in BRAF nulls"
     ]
    },
    {
     "cell_type": "code",
     "collapsed": false,
     "input": [
      "df_2 = df.ix[:,true_index(mut.features.ix['BRAF']==0)].dropna(1)\n",
      "ret = SVC_fill(ln > 0, df_2, metric='auc')\n",
      "ret['auc']"
     ],
     "language": "python",
     "metadata": {},
     "outputs": [
      {
       "metadata": {},
       "output_type": "pyout",
       "prompt_number": 195,
       "text": [
        "0.91860465116279066"
       ]
      }
     ],
     "prompt_number": 195
    },
    {
     "cell_type": "code",
     "collapsed": false,
     "input": [
      "fun = ret['decision_function']\n",
      "violin_plot_pandas(ln>0, fun)ret = SVC_fill(hpv=='HPV+', background)\n",
      "ret['auc']"
     ],
     "language": "python",
     "metadata": {},
     "outputs": [
      {
       "metadata": {},
       "output_type": "display_data",
       "png": "[encoded data removed]",
       "text": [
        "<matplotlib.figure.Figure at 0x88bb710>"
       ]
      }
     ],
     "prompt_number": 196
    },
    {
     "cell_type": "code",
     "collapsed": false,
     "input": [
      "screen_feature(ret['inferred_values'], chi2_cont_test, mut.features).head()"
     ],
     "language": "python",
     "metadata": {},
     "outputs": [
      {
       "html": [
        "<div style=\"max-height:1000px;max-width:1500px;overflow:auto;\">\n",
        "<table border=\"1\" class=\"dataframe\">\n",
        "  <thead>\n",
        "    <tr style=\"text-align: right;\">\n",
        "      <th></th>\n",
        "      <th>chi2</th>\n",
        "      <th>p</th>\n",
        "      <th>dof</th>\n",
        "      <th>q</th>\n",
        "    </tr>\n",
        "  </thead>\n",
        "  <tbody>\n",
        "    <tr>\n",
        "      <th>REACTOME_CELL_JUNCTION_ORGANIZATION</th>\n",
        "      <td> 4.67</td>\n",
        "      <td> 0.03</td>\n",
        "      <td> 1</td>\n",
        "      <td> 0.99</td>\n",
        "    </tr>\n",
        "    <tr>\n",
        "      <th>KEGG_GNRH_SIGNALING_PATHWAY</th>\n",
        "      <td> 3.98</td>\n",
        "      <td> 0.05</td>\n",
        "      <td> 1</td>\n",
        "      <td> 0.99</td>\n",
        "    </tr>\n",
        "    <tr>\n",
        "      <th>NRAS</th>\n",
        "      <td> 3.39</td>\n",
        "      <td> 0.07</td>\n",
        "      <td> 1</td>\n",
        "      <td> 0.99</td>\n",
        "    </tr>\n",
        "    <tr>\n",
        "      <th>KEGG_GAP_JUNCTION</th>\n",
        "      <td> 3.07</td>\n",
        "      <td> 0.08</td>\n",
        "      <td> 1</td>\n",
        "      <td> 0.99</td>\n",
        "    </tr>\n",
        "    <tr>\n",
        "      <th>KEGG_AXON_GUIDANCE</th>\n",
        "      <td> 2.59</td>\n",
        "      <td> 0.11</td>\n",
        "      <td> 1</td>\n",
        "      <td> 0.99</td>\n",
        "    </tr>\n",
        "  </tbody>\n",
        "</table>\n",
        "</div>"
       ],
       "metadata": {},
       "output_type": "pyout",
       "prompt_number": 199,
       "text": [
        "                                     chi2     p  dof     q\n",
        "REACTOME_CELL_JUNCTION_ORGANIZATION  4.67  0.03    1  0.99\n",
        "KEGG_GNRH_SIGNALING_PATHWAY          3.98  0.05    1  0.99\n",
        "NRAS                                 3.39  0.07    1  0.99\n",
        "KEGG_GAP_JUNCTION                    3.07  0.08    1  0.99\n",
        "KEGG_AXON_GUIDANCE                   2.59  0.11    1  0.99"
       ]
      }
     ],
     "prompt_number": 199
    },
    {
     "cell_type": "code",
     "collapsed": false,
     "input": [
      "screen_feature(ret['inferred_values'], kruskal_pandas, rna.features).head()"
     ],
     "language": "python",
     "metadata": {},
     "outputs": [
      {
       "html": [
        "<div style=\"max-height:1000px;max-width:1500px;overflow:auto;\">\n",
        "<table border=\"1\" class=\"dataframe\">\n",
        "  <thead>\n",
        "    <tr style=\"text-align: right;\">\n",
        "      <th></th>\n",
        "      <th>H</th>\n",
        "      <th>p</th>\n",
        "      <th>q</th>\n",
        "    </tr>\n",
        "  </thead>\n",
        "  <tbody>\n",
        "    <tr>\n",
        "      <th>(real, LCA5L)</th>\n",
        "      <td> 40.05</td>\n",
        "      <td> 2.48e-10</td>\n",
        "      <td> 1.42e-06</td>\n",
        "    </tr>\n",
        "    <tr>\n",
        "      <th>(real, S100A10)</th>\n",
        "      <td> 36.90</td>\n",
        "      <td> 1.25e-09</td>\n",
        "      <td> 2.23e-06</td>\n",
        "    </tr>\n",
        "    <tr>\n",
        "      <th>(real, RETN)</th>\n",
        "      <td> 36.77</td>\n",
        "      <td> 1.33e-09</td>\n",
        "      <td> 2.23e-06</td>\n",
        "    </tr>\n",
        "    <tr>\n",
        "      <th>(binary, C11orf20)</th>\n",
        "      <td> 36.26</td>\n",
        "      <td> 1.73e-09</td>\n",
        "      <td> 2.23e-06</td>\n",
        "    </tr>\n",
        "    <tr>\n",
        "      <th>(real, TRIM58)</th>\n",
        "      <td> 36.04</td>\n",
        "      <td> 1.94e-09</td>\n",
        "      <td> 2.23e-06</td>\n",
        "    </tr>\n",
        "  </tbody>\n",
        "</table>\n",
        "</div>"
       ],
       "metadata": {},
       "output_type": "pyout",
       "prompt_number": 197,
       "text": [
        "                        H         p         q\n",
        "(real, LCA5L)       40.05  2.48e-10  1.42e-06\n",
        "(real, S100A10)     36.90  1.25e-09  2.23e-06\n",
        "(real, RETN)        36.77  1.33e-09  2.23e-06\n",
        "(binary, C11orf20)  36.26  1.73e-09  2.23e-06\n",
        "(real, TRIM58)      36.04  1.94e-09  2.23e-06"
       ]
      }
     ],
     "prompt_number": 197
    },
    {
     "cell_type": "markdown",
     "metadata": {},
     "source": [
      "#In BRAF mutatants"
     ]
    },
    {
     "cell_type": "code",
     "collapsed": false,
     "input": [
      "df_2 = df.ix[:,true_index(mut.features.ix['BRAF']==1)].dropna(1)\n",
      "ret = SVC_fill(ln > 0, df_2, metric='auc')\n",
      "ret['auc']"
     ],
     "language": "python",
     "metadata": {},
     "outputs": [
      {
       "metadata": {},
       "output_type": "pyout",
       "prompt_number": 200,
       "text": [
        "0.87022900763358779"
       ]
      }
     ],
     "prompt_number": 200
    },
    {
     "cell_type": "code",
     "collapsed": false,
     "input": [
      "fun = ret['decision_function']\n",
      "violin_plot_pandas(ln>0, fun)"
     ],
     "language": "python",
     "metadata": {},
     "outputs": [
      {
       "metadata": {},
       "output_type": "display_data",
       "png": "[encoded data removed]",
       "text": [
        "<matplotlib.figure.Figure at 0x8841410>"
       ]
      }
     ],
     "prompt_number": 201
    },
    {
     "cell_type": "code",
     "collapsed": false,
     "input": [
      "screen_feature(ret['inferred_values'], chi2_cont_test, mut.features).head()"
     ],
     "language": "python",
     "metadata": {},
     "outputs": [
      {
       "html": [
        "<div style=\"max-height:1000px;max-width:1500px;overflow:auto;\">\n",
        "<table border=\"1\" class=\"dataframe\">\n",
        "  <thead>\n",
        "    <tr style=\"text-align: right;\">\n",
        "      <th></th>\n",
        "      <th>chi2</th>\n",
        "      <th>p</th>\n",
        "      <th>dof</th>\n",
        "      <th>q</th>\n",
        "    </tr>\n",
        "  </thead>\n",
        "  <tbody>\n",
        "    <tr>\n",
        "      <th>KEGG_NEUROACTIVE_LIGAND_RECEPTOR_INTERACTION</th>\n",
        "      <td> 8.13</td>\n",
        "      <td> 0.00</td>\n",
        "      <td> 1</td>\n",
        "      <td> 0.9</td>\n",
        "    </tr>\n",
        "    <tr>\n",
        "      <th>REACTOME_GPCR_LIGAND_BINDING</th>\n",
        "      <td> 4.97</td>\n",
        "      <td> 0.03</td>\n",
        "      <td> 1</td>\n",
        "      <td> 1.0</td>\n",
        "    </tr>\n",
        "    <tr>\n",
        "      <th>REACTOME_GLUCOSE_METABOLISM</th>\n",
        "      <td> 4.83</td>\n",
        "      <td> 0.03</td>\n",
        "      <td> 1</td>\n",
        "      <td> 1.0</td>\n",
        "    </tr>\n",
        "    <tr>\n",
        "      <th>REACTOME_AMINO_ACID_AND_OLIGOPEPTIDE_SLC_TRANSPORTERS</th>\n",
        "      <td> 4.66</td>\n",
        "      <td> 0.03</td>\n",
        "      <td> 1</td>\n",
        "      <td> 1.0</td>\n",
        "    </tr>\n",
        "    <tr>\n",
        "      <th>REACTOME_CLASS_A1_RHODOPSIN_LIKE_RECEPTORS</th>\n",
        "      <td> 4.26</td>\n",
        "      <td> 0.04</td>\n",
        "      <td> 1</td>\n",
        "      <td> 1.0</td>\n",
        "    </tr>\n",
        "  </tbody>\n",
        "</table>\n",
        "</div>"
       ],
       "metadata": {},
       "output_type": "pyout",
       "prompt_number": 202,
       "text": [
        "                                                       chi2     p  dof    q\n",
        "KEGG_NEUROACTIVE_LIGAND_RECEPTOR_INTERACTION           8.13  0.00    1  0.9\n",
        "REACTOME_GPCR_LIGAND_BINDING                           4.97  0.03    1  1.0\n",
        "REACTOME_GLUCOSE_METABOLISM                            4.83  0.03    1  1.0\n",
        "REACTOME_AMINO_ACID_AND_OLIGOPEPTIDE_SLC_TRANSPORTERS  4.66  0.03    1  1.0\n",
        "REACTOME_CLASS_A1_RHODOPSIN_LIKE_RECEPTORS             4.26  0.04    1  1.0"
       ]
      }
     ],
     "prompt_number": 202
    },
    {
     "cell_type": "code",
     "collapsed": false,
     "input": [
      "screen_feature(ret['inferred_values'], kruskal_pandas, rna.features).head()"
     ],
     "language": "python",
     "metadata": {},
     "outputs": [
      {
       "html": [
        "<div style=\"max-height:1000px;max-width:1500px;overflow:auto;\">\n",
        "<table border=\"1\" class=\"dataframe\">\n",
        "  <thead>\n",
        "    <tr style=\"text-align: right;\">\n",
        "      <th></th>\n",
        "      <th>H</th>\n",
        "      <th>p</th>\n",
        "      <th>q</th>\n",
        "    </tr>\n",
        "  </thead>\n",
        "  <tbody>\n",
        "    <tr>\n",
        "      <th>(real, TIA1)</th>\n",
        "      <td> 31.84</td>\n",
        "      <td> 1.67e-08</td>\n",
        "      <td> 8.50e-05</td>\n",
        "    </tr>\n",
        "    <tr>\n",
        "      <th>(real, CLPB)</th>\n",
        "      <td> 30.73</td>\n",
        "      <td> 2.96e-08</td>\n",
        "      <td> 8.50e-05</td>\n",
        "    </tr>\n",
        "    <tr>\n",
        "      <th>(real, OGDH)</th>\n",
        "      <td> 26.44</td>\n",
        "      <td> 2.72e-07</td>\n",
        "      <td> 5.22e-04</td>\n",
        "    </tr>\n",
        "    <tr>\n",
        "      <th>(real, DNAJC5)</th>\n",
        "      <td> 24.68</td>\n",
        "      <td> 6.78e-07</td>\n",
        "      <td> 9.24e-04</td>\n",
        "    </tr>\n",
        "    <tr>\n",
        "      <th>(real, C2orf56)</th>\n",
        "      <td> 24.35</td>\n",
        "      <td> 8.04e-07</td>\n",
        "      <td> 9.24e-04</td>\n",
        "    </tr>\n",
        "  </tbody>\n",
        "</table>\n",
        "</div>"
       ],
       "metadata": {},
       "output_type": "pyout",
       "prompt_number": 203,
       "text": [
        "                     H         p         q\n",
        "(real, TIA1)     31.84  1.67e-08  8.50e-05\n",
        "(real, CLPB)     30.73  2.96e-08  8.50e-05\n",
        "(real, OGDH)     26.44  2.72e-07  5.22e-04\n",
        "(real, DNAJC5)   24.68  6.78e-07  9.24e-04\n",
        "(real, C2orf56)  24.35  8.04e-07  9.24e-04"
       ]
      }
     ],
     "prompt_number": 203
    },
    {
     "cell_type": "code",
     "collapsed": false,
     "input": [],
     "language": "python",
     "metadata": {},
     "outputs": []
    }
   ],
   "metadata": {}
  }
 ]
}