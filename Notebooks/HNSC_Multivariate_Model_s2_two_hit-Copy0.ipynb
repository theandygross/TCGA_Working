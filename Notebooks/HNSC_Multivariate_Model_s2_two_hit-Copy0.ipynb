{
 "metadata": {
  "name": ""
 },
 "nbformat": 3,
 "nbformat_minor": 0,
 "worksheets": [
  {
   "cells": [
    {
     "cell_type": "markdown",
     "metadata": {},
     "source": [
      "#HNSC Multivariate Screen  \n",
      "\n",
      "This is a screen for survival associated features.  "
     ]
    },
    {
     "cell_type": "code",
     "collapsed": false,
     "input": [
      "cd ../src"
     ],
     "language": "python",
     "metadata": {},
     "outputs": [
      {
       "output_type": "stream",
       "stream": "stdout",
       "text": [
        "/cellar/users/agross/TCGA_Code/TCGA/Pathway_Merge/src\n"
       ]
      }
     ],
     "prompt_number": 1
    },
    {
     "cell_type": "code",
     "collapsed": false,
     "input": [
      "from Processing.Imports import *"
     ],
     "language": "python",
     "metadata": {},
     "outputs": [],
     "prompt_number": 2
    },
    {
     "cell_type": "markdown",
     "metadata": {},
     "source": [
      "##Read in Data"
     ]
    },
    {
     "cell_type": "code",
     "collapsed": false,
     "input": [
      "run = get_run('/cellar/data/TCGA/Firehose__2013_04_21/', 'Run_all')\n",
      "\n",
      "cancer = run.load_cancer('HNSC')\n",
      "clinical = cancer.load_clinical()\n",
      "global_vars = cancer.load_global_vars()\n",
      "\n",
      "mut = cancer.load_data('Mutation')\n",
      "mut.uncompress()\n",
      "meth = cancer.load_data('Methylation')\n",
      "cn = cancer.load_data('CN_broad')\n",
      "cn.uncompress()\n",
      "rna = cancer.load_data('mRNASeq')\n",
      "rppa  = cancer.load_data('RPPA')\n",
      "mirna = cancer.load_data('miRNASeq')\n",
      "age = clinical.clinical.age.astype(float)\n",
      "\n",
      "hpv_all = pd.read_csv('/cellar/users/agross/hpv_summary_3_20_13_distribute.csv', index_col=0)\n",
      "hpv = hpv_all.Molecular_HPV.map({0:'HPV-', 1:'HPV+'})\n",
      "hpv.name = 'HPV'"
     ],
     "language": "python",
     "metadata": {},
     "outputs": [],
     "prompt_number": 3
    },
    {
     "cell_type": "code",
     "collapsed": false,
     "input": [
      "from Data.ProcessClinical import format_survival_from_data_portal\n",
      "path  = '/cellar/users/agross/Data/TCGA/HNSC_Followup/'\n",
      "survival, timeline = format_survival_from_data_portal(path, cancer.name)\n",
      "clinical.survival = survival\n",
      "clinical.artificially_censor(5)\n",
      "age = timeline.age"
     ],
     "language": "python",
     "metadata": {},
     "outputs": [],
     "prompt_number": 4
    },
    {
     "cell_type": "code",
     "collapsed": false,
     "input": [
      "combo = combine(cn.df.ix['Deletion'].ix['3p14.2'].ix[0]<0, mut.features.ix['TP53'])\n",
      "two_hit = 1.*(combo == 'both')"
     ],
     "language": "python",
     "metadata": {},
     "outputs": [],
     "prompt_number": 5
    },
    {
     "cell_type": "code",
     "collapsed": false,
     "input": [
      "filters = pd.concat([age>=100, hpv=='HPV+'], axis=1)\n",
      "clinical_filter = filters.sum(1) == 0\n",
      "keepers_o = true_index(clinical_filter)"
     ],
     "language": "python",
     "metadata": {},
     "outputs": [],
     "prompt_number": 7
    },
    {
     "cell_type": "markdown",
     "metadata": {},
     "source": [
      "##Clinical Features"
     ]
    },
    {
     "cell_type": "code",
     "collapsed": false,
     "input": [
      "stage = clinical.clinical.tumorstage.fillna('nx')\n",
      "stage = stage.dropna().map(lambda s: s.replace('a','').replace('b',''))\n",
      "\n",
      "lymph_stage = clinical.clinical.lymphnodepathologicspread.ix[keepers_o]\n",
      "lymph_stage = lymph_stage.replace('nx', nan).dropna().map(lambda s: s[:2])\n",
      "\n",
      "age = age\n",
      "old_age = (age >= 75).map({True: 'Age > 75', False: 'Age < 75'})\n",
      "pack_years = py = clinical.clinical.numberpackyearssmoked.dropna().astype(float)\n",
      "\n",
      "group = [['oral tongue','oral cavity','floor of mouth','buccal mucosa','alveolar ridge','hard palate','lip'],\n",
      "         ['oropharynx','tonsil','base of tongue'],\n",
      "         #['hypopharynx'],\n",
      "         ['larynx']]\n",
      "groups = ['oral cavity','oropharynx','larynx']\n",
      "tumor_subdivision = pd.Series({idx: groups[i] for i,g in enumerate(group) for idx,j in \n",
      "                               clinical.clinical.neoplasmanatomicsubdivision.iteritems() if j in g})\n",
      "\n",
      "invasion = clinical.clinical.perineuralinvasionpresent.replace('nan', nan)\n",
      "invasion = invasion.fillna('Missing')\n",
      "\n",
      "spread = clinical.clinical.presenceofpathologicalnodalextracapsularspread\n",
      "spread = spread.map({'no extranodal extension': 'no', 'microscopic extension':'yes', \n",
      "                     'gross extension':'yes'}).dropna()\n",
      "\n",
      "year = clinical.clinical.yearofinitialpathologicdiagnosis\n",
      "year = year.replace('[Discrepancy]', nan).astype(float)\n",
      "\n",
      "lymph = lymph_stage.ix[keepers_o] != 'n0'\n",
      "lymph_status = combine(lymph, spread.ix[keepers_o]=='yes')\n",
      "lymph_status = lymph_status.map({'neither': 'n0', lymph.name: 'lymph_node', 'both': 'extra_capsular_spread'})\n",
      "lymph_status = (lymph_status == 'extra_capsular_spread').astype(float)"
     ],
     "language": "python",
     "metadata": {},
     "outputs": [],
     "prompt_number": 8
    },
    {
     "cell_type": "code",
     "collapsed": false,
     "input": [
      "diff = screen_feature(spread, fisher_exact_test, rna.features.ix['binary'])\n",
      "dd = diff[diff.p < .01]\n",
      "\n",
      "vec = (2.*(dd.odds_ratio > 1) - 1)\n",
      "loading = vec.dot(1.*(rna.df.xs('01',1,1).ix[vec.index] > -1))\n",
      "\n",
      "ratio = loading.groupby(spread).apply(pd.value_counts).unstack().fillna(0)\n",
      "prob = ratio.T.cumsum() / ratio.sum(1)\n",
      "cutoff = min(true_index((prob.yes > .5)))\n",
      "\n",
      "f = spread.copy() == 'yes'\n",
      "f = f.ix[loading.index]\n",
      "f[f.isnull()] = loading[f.isnull()] >= cutoff\n",
      "spread_inferred = f.fillna(False).astype(float)"
     ],
     "language": "python",
     "metadata": {},
     "outputs": [],
     "prompt_number": 9
    },
    {
     "cell_type": "code",
     "collapsed": false,
     "input": [
      "clinical_df = pd.concat([stage, lymph_stage, age, old_age, pack_years,\n",
      "                         tumor_subdivision, invasion, lymph_status, spread_inferred],\n",
      "                        keys = ['stage', 'lymph_stage', 'age', 'old_age', 'pack_years',\n",
      "                         'tumor_subdivision', 'invasion', 'lymph_status', 'spread_inferred'],\n",
      "                        axis=1)"
     ],
     "language": "python",
     "metadata": {},
     "outputs": [],
     "prompt_number": 10
    },
    {
     "cell_type": "code",
     "collapsed": false,
     "input": [
      "draw_survival_curves(spread_inferred, surv, old, show=True)"
     ],
     "language": "python",
     "metadata": {},
     "outputs": [
      {
       "html": [
        "<img src='data:image/png;base64,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'>"
       ],
       "metadata": {},
       "output_type": "pyout",
       "prompt_number": 14,
       "text": [
        "<Reports.NotebookTools.Show at 0x72db950>"
       ]
      }
     ],
     "prompt_number": 14
    },
    {
     "cell_type": "code",
     "collapsed": false,
     "input": [
      "filters = pd.concat([age>=100, hpv=='HPV+', two_hit==0], axis=1)\n",
      "clinical_filter = filters.sum(1) == 0\n",
      "keepers_o = true_index(clinical_filter)"
     ],
     "language": "python",
     "metadata": {},
     "outputs": [],
     "prompt_number": 46
    },
    {
     "cell_type": "code",
     "collapsed": false,
     "input": [
      "filters = pd.concat([age>=85, hpv=='HPV+', two_hit==0], axis=1)\n",
      "clinical_filter = filters.sum(1) == 0\n",
      "keepers = true_index(clinical_filter)"
     ],
     "language": "python",
     "metadata": {},
     "outputs": [],
     "prompt_number": 56
    },
    {
     "cell_type": "code",
     "collapsed": false,
     "input": [
      "surv = clinical.survival.survival_5y\n",
      "old = pd.Series(1.*(age>=75), name='old')"
     ],
     "language": "python",
     "metadata": {},
     "outputs": [],
     "prompt_number": 12
    },
    {
     "cell_type": "markdown",
     "metadata": {},
     "source": [
      "####Form expression and methylation features without HPV  \n",
      "* HPV has a big influence on expression, here I am creating a second set of features without HPV\n",
      "* I use this sparingly but it helps to tease out wheter an association is due to a underlying relationship with HPV"
     ]
    },
    {
     "cell_type": "code",
     "collapsed": false,
     "input": [
      "from Stats.Survival import cox"
     ],
     "language": "python",
     "metadata": {},
     "outputs": [],
     "prompt_number": 6
    },
    {
     "cell_type": "code",
     "collapsed": true,
     "input": [
      "from Initialization.InitializeReal import RealDataset\n",
      "rna = RealDataset(run, cancer, 'mRNASeq', keepers_o)\n",
      "meth = RealDataset(run, cancer, 'Methylation', keepers_o)\n",
      "mirna = RealDataset(run, cancer, 'miRNASeq', keepers_o, create_meta_features=False)"
     ],
     "language": "python",
     "metadata": {},
     "outputs": [],
     "prompt_number": 148
    },
    {
     "cell_type": "code",
     "collapsed": false,
     "input": [
      "lr = clinical_df.ix[keepers].apply(cox, args=(surv,)).T"
     ],
     "language": "python",
     "metadata": {},
     "outputs": [],
     "prompt_number": 57
    },
    {
     "cell_type": "code",
     "collapsed": false,
     "input": [
      "lr.sort('p').head()"
     ],
     "language": "python",
     "metadata": {},
     "outputs": [
      {
       "html": [
        "<div style=\"max-height:1000px;max-width:1500px;overflow:auto;\">\n",
        "<table border=\"1\" class=\"dataframe\">\n",
        "  <thead>\n",
        "    <tr style=\"text-align: right;\">\n",
        "      <th></th>\n",
        "      <th>LR</th>\n",
        "      <th>p</th>\n",
        "    </tr>\n",
        "  </thead>\n",
        "  <tbody>\n",
        "    <tr>\n",
        "      <th>lymph_stage</th>\n",
        "      <td> 7.27</td>\n",
        "      <td> 0.01</td>\n",
        "    </tr>\n",
        "    <tr>\n",
        "      <th>spread_inferred</th>\n",
        "      <td> 7.06</td>\n",
        "      <td> 0.01</td>\n",
        "    </tr>\n",
        "    <tr>\n",
        "      <th>invasion</th>\n",
        "      <td> 6.67</td>\n",
        "      <td> 0.01</td>\n",
        "    </tr>\n",
        "    <tr>\n",
        "      <th>stage</th>\n",
        "      <td> 4.01</td>\n",
        "      <td> 0.05</td>\n",
        "    </tr>\n",
        "    <tr>\n",
        "      <th>lymph_status</th>\n",
        "      <td> 3.75</td>\n",
        "      <td> 0.05</td>\n",
        "    </tr>\n",
        "  </tbody>\n",
        "</table>\n",
        "</div>"
       ],
       "metadata": {},
       "output_type": "pyout",
       "prompt_number": 58,
       "text": [
        "                   LR     p\n",
        "lymph_stage      7.27  0.01\n",
        "spread_inferred  7.06  0.01\n",
        "invasion         6.67  0.01\n",
        "stage            4.01  0.05\n",
        "lymph_status     3.75  0.05"
       ]
      }
     ],
     "prompt_number": 58
    },
    {
     "cell_type": "code",
     "collapsed": false,
     "input": [
      "cov_df = pd.concat([age, old], axis=1)\n",
      "test = lambda s: get_cox_ph_ms(surv, s.dropna(), cov_df, return_val='LR', interactions=False);"
     ],
     "language": "python",
     "metadata": {},
     "outputs": [],
     "prompt_number": 59
    },
    {
     "cell_type": "code",
     "collapsed": false,
     "input": [
      "clinical_df.ix[keepers_o].apply(test).T.sort('LR')"
     ],
     "language": "python",
     "metadata": {},
     "outputs": [
      {
       "html": [
        "<div style=\"max-height:1000px;max-width:1500px;overflow:auto;\">\n",
        "<table border=\"1\" class=\"dataframe\">\n",
        "  <thead>\n",
        "    <tr style=\"text-align: right;\">\n",
        "      <th></th>\n",
        "      <th>LR</th>\n",
        "      <th>feature_p</th>\n",
        "      <th>fmla</th>\n",
        "      <th>hazzard</th>\n",
        "    </tr>\n",
        "  </thead>\n",
        "  <tbody>\n",
        "    <tr>\n",
        "      <th>spread_inferred</th>\n",
        "      <td> 0.00952</td>\n",
        "      <td> 0.00764</td>\n",
        "      <td> Surv(days, event) ~ feature + old\\n</td>\n",
        "      <td> 1.76</td>\n",
        "    </tr>\n",
        "    <tr>\n",
        "      <th>lymph_status</th>\n",
        "      <td>  0.0636</td>\n",
        "      <td>  0.0554</td>\n",
        "      <td> Surv(days, event) ~ feature + old\\n</td>\n",
        "      <td> 1.54</td>\n",
        "    </tr>\n",
        "    <tr>\n",
        "      <th>invasion</th>\n",
        "      <td>  0.0833</td>\n",
        "      <td>     NaN</td>\n",
        "      <td> Surv(days, event) ~ feature + old\\n</td>\n",
        "      <td>  NaN</td>\n",
        "    </tr>\n",
        "    <tr>\n",
        "      <th>stage</th>\n",
        "      <td>       1</td>\n",
        "      <td>     NaN</td>\n",
        "      <td>           Surv(days, event) ~ old\\n</td>\n",
        "      <td>  NaN</td>\n",
        "    </tr>\n",
        "    <tr>\n",
        "      <th>lymph_stage</th>\n",
        "      <td>       1</td>\n",
        "      <td>     NaN</td>\n",
        "      <td>             Surv(days, event) ~ 1\\n</td>\n",
        "      <td>  NaN</td>\n",
        "    </tr>\n",
        "    <tr>\n",
        "      <th>age</th>\n",
        "      <td>       1</td>\n",
        "      <td>     NaN</td>\n",
        "      <td>           Surv(days, event) ~ old\\n</td>\n",
        "      <td>  NaN</td>\n",
        "    </tr>\n",
        "    <tr>\n",
        "      <th>old_age</th>\n",
        "      <td>       1</td>\n",
        "      <td>     NaN</td>\n",
        "      <td>       Surv(days, event) ~ feature\\n</td>\n",
        "      <td>  NaN</td>\n",
        "    </tr>\n",
        "    <tr>\n",
        "      <th>pack_years</th>\n",
        "      <td>       1</td>\n",
        "      <td>     NaN</td>\n",
        "      <td>             Surv(days, event) ~ 1\\n</td>\n",
        "      <td>  NaN</td>\n",
        "    </tr>\n",
        "    <tr>\n",
        "      <th>tumor_subdivision</th>\n",
        "      <td>       1</td>\n",
        "      <td>     NaN</td>\n",
        "      <td>           Surv(days, event) ~ old\\n</td>\n",
        "      <td>  NaN</td>\n",
        "    </tr>\n",
        "  </tbody>\n",
        "</table>\n",
        "</div>"
       ],
       "metadata": {},
       "output_type": "pyout",
       "prompt_number": 60,
       "text": [
        "                        LR feature_p                                 fmla hazzard\n",
        "spread_inferred    0.00952   0.00764  Surv(days, event) ~ feature + old\\n    1.76\n",
        "lymph_status        0.0636    0.0554  Surv(days, event) ~ feature + old\\n    1.54\n",
        "invasion            0.0833       NaN  Surv(days, event) ~ feature + old\\n     NaN\n",
        "stage                    1       NaN            Surv(days, event) ~ old\\n     NaN\n",
        "lymph_stage              1       NaN              Surv(days, event) ~ 1\\n     NaN\n",
        "age                      1       NaN            Surv(days, event) ~ old\\n     NaN\n",
        "old_age                  1       NaN        Surv(days, event) ~ feature\\n     NaN\n",
        "pack_years               1       NaN              Surv(days, event) ~ 1\\n     NaN\n",
        "tumor_subdivision        1       NaN            Surv(days, event) ~ old\\n     NaN"
       ]
      }
     ],
     "prompt_number": 60
    },
    {
     "cell_type": "code",
     "collapsed": false,
     "input": [
      "gv = pd.concat([global_vars['mutation'], global_vars['cna'], rna.global_vars, meth.global_vars, mirna.global_vars], \n",
      "                keys=['mutation', 'cna', 'rna', 'methylation', 'mirna'], axis=1)\n",
      "gv = gv.ix[keepers_o]"
     ],
     "language": "python",
     "metadata": {},
     "outputs": [
      {
       "ename": "AttributeError",
       "evalue": "'RealDataset' object has no attribute 'global_vars'",
       "output_type": "pyerr",
       "traceback": [
        "\u001b[1;31m---------------------------------------------------------------------------\u001b[0m\n\u001b[1;31mAttributeError\u001b[0m                            Traceback (most recent call last)",
        "\u001b[1;32m<ipython-input-61-275694b18808>\u001b[0m in \u001b[0;36m<module>\u001b[1;34m()\u001b[0m\n\u001b[1;32m----> 1\u001b[1;33m gv = pd.concat([global_vars['mutation'], global_vars['cna'], rna.global_vars, meth.global_vars, mirna.global_vars], \n\u001b[0m\u001b[0;32m      2\u001b[0m                 keys=['mutation', 'cna', 'rna', 'methylation', 'mirna'], axis=1)\n\u001b[0;32m      3\u001b[0m \u001b[0mgv\u001b[0m \u001b[1;33m=\u001b[0m \u001b[0mgv\u001b[0m\u001b[1;33m.\u001b[0m\u001b[0mix\u001b[0m\u001b[1;33m[\u001b[0m\u001b[0mkeepers_o\u001b[0m\u001b[1;33m]\u001b[0m\u001b[1;33m\u001b[0m\u001b[0m\n",
        "\u001b[1;31mAttributeError\u001b[0m: 'RealDataset' object has no attribute 'global_vars'"
       ]
      }
     ],
     "prompt_number": 61
    },
    {
     "cell_type": "code",
     "collapsed": false,
     "input": [
      "cox_screen(gv.T, surv).head()"
     ],
     "language": "python",
     "metadata": {},
     "outputs": [
      {
       "html": [
        "<div style=\"max-height:1000px;max-width:1500px;overflow:auto;\">\n",
        "<table border=\"1\" class=\"dataframe\">\n",
        "  <thead>\n",
        "    <tr style=\"text-align: right;\">\n",
        "      <th></th>\n",
        "      <th></th>\n",
        "      <th>LR</th>\n",
        "      <th>p</th>\n",
        "      <th>q</th>\n",
        "    </tr>\n",
        "  </thead>\n",
        "  <tbody>\n",
        "    <tr>\n",
        "      <th>mirna</th>\n",
        "      <th>filtered_pc1</th>\n",
        "      <td> 7.43</td>\n",
        "      <td> 0.01</td>\n",
        "      <td> 0.24</td>\n",
        "    </tr>\n",
        "    <tr>\n",
        "      <th rowspan=\"2\" valign=\"top\">rna</th>\n",
        "      <th>pathway_pc1</th>\n",
        "      <td> 5.35</td>\n",
        "      <td> 0.02</td>\n",
        "      <td> 0.38</td>\n",
        "    </tr>\n",
        "    <tr>\n",
        "      <th>filtered_pc2</th>\n",
        "      <td> 4.48</td>\n",
        "      <td> 0.03</td>\n",
        "      <td> 0.42</td>\n",
        "    </tr>\n",
        "    <tr>\n",
        "      <th rowspan=\"2\" valign=\"top\">mirna</th>\n",
        "      <th>background</th>\n",
        "      <td> 2.91</td>\n",
        "      <td> 0.09</td>\n",
        "      <td> 0.79</td>\n",
        "    </tr>\n",
        "    <tr>\n",
        "      <th>pc1</th>\n",
        "      <td> 2.04</td>\n",
        "      <td> 0.15</td>\n",
        "      <td> 0.79</td>\n",
        "    </tr>\n",
        "  </tbody>\n",
        "</table>\n",
        "</div>"
       ],
       "metadata": {},
       "output_type": "pyout",
       "prompt_number": 185,
       "text": [
        "                      LR     p     q\n",
        "mirna filtered_pc1  7.43  0.01  0.24\n",
        "rna   pathway_pc1   5.35  0.02  0.38\n",
        "      filtered_pc2  4.48  0.03  0.42\n",
        "mirna background    2.91  0.09  0.79\n",
        "      pc1           2.04  0.15  0.79"
       ]
      }
     ],
     "prompt_number": 185
    },
    {
     "cell_type": "markdown",
     "metadata": {},
     "source": [
      "#Run Mutation Data   \n",
      "\n",
      "###Filter based on mutation rate\n",
      "* We want to filter noisy features that are just artifacts of mutation rate.\n",
      "* The caveat is that we do not want to get rid of passengers that may still have information even though they are mutated at the baseline rate.\n",
      "* The current solution is to only get rid of features with more that half of the patients mutated that are also highly correlated with mutation rate.  We're assuming that the patients without mutations to these pathways are the ones with very low mutation rates such that the actuall genes in the pathway are irrelavant. "
     ]
    },
    {
     "cell_type": "code",
     "collapsed": false,
     "input": [
      "tt = lambda a,b: kruskal_pandas(b,a)\n",
      "def fc(hit_vec, response_vec):\n",
      "    f = response_vec.groupby(hit_vec).median()\n",
      "    return f[0] > f[1]"
     ],
     "language": "python",
     "metadata": {},
     "outputs": [],
     "prompt_number": 152
    },
    {
     "cell_type": "code",
     "collapsed": false,
     "input": [
      "rate = global_vars.mutation.rate_non\n",
      "cc = screen_feature(rate, tt, mut.features)"
     ],
     "language": "python",
     "metadata": {},
     "outputs": [],
     "prompt_number": 153
    },
    {
     "cell_type": "code",
     "collapsed": false,
     "input": [
      "fc_apply = lambda s: fc(s, rate)\n",
      "direction = mut.features.apply(fc_apply, axis=1)\n",
      "direction.name = 'direction'\n",
      "\n",
      "cc = cc.join(direction)\n",
      "cc = cc[cc.direction==False]"
     ],
     "language": "python",
     "metadata": {},
     "outputs": [],
     "prompt_number": 154
    },
    {
     "cell_type": "code",
     "collapsed": false,
     "input": [
      "cc.head()"
     ],
     "language": "python",
     "metadata": {},
     "outputs": [
      {
       "html": [
        "<div style=\"max-height:1000px;max-width:1500px;overflow:auto;\">\n",
        "<table border=\"1\" class=\"dataframe\">\n",
        "  <thead>\n",
        "    <tr style=\"text-align: right;\">\n",
        "      <th></th>\n",
        "      <th>H</th>\n",
        "      <th>p</th>\n",
        "      <th>q</th>\n",
        "      <th>direction</th>\n",
        "    </tr>\n",
        "  </thead>\n",
        "  <tbody>\n",
        "    <tr>\n",
        "      <th>REACTOME_METABOLISM_OF_CARBOHYDRATES</th>\n",
        "      <td> 87.26</td>\n",
        "      <td> 9.53e-21</td>\n",
        "      <td> 9.43e-18</td>\n",
        "      <td> False</td>\n",
        "    </tr>\n",
        "    <tr>\n",
        "      <th>REACTOME_NCAM1_INTERACTIONS</th>\n",
        "      <td> 73.17</td>\n",
        "      <td> 1.19e-17</td>\n",
        "      <td> 4.72e-15</td>\n",
        "      <td> False</td>\n",
        "    </tr>\n",
        "    <tr>\n",
        "      <th>REACTOME_ADHERENS_JUNCTIONS_INTERACTIONS</th>\n",
        "      <td> 72.81</td>\n",
        "      <td> 1.43e-17</td>\n",
        "      <td> 4.72e-15</td>\n",
        "      <td> False</td>\n",
        "    </tr>\n",
        "    <tr>\n",
        "      <th>KEGG_PHOSPHATIDYLINOSITOL_SIGNALING_SYSTEM</th>\n",
        "      <td> 70.12</td>\n",
        "      <td> 5.58e-17</td>\n",
        "      <td> 1.38e-14</td>\n",
        "      <td> False</td>\n",
        "    </tr>\n",
        "    <tr>\n",
        "      <th>KEGG_CARDIAC_MUSCLE_CONTRACTION</th>\n",
        "      <td> 69.07</td>\n",
        "      <td> 9.48e-17</td>\n",
        "      <td> 1.64e-14</td>\n",
        "      <td> False</td>\n",
        "    </tr>\n",
        "  </tbody>\n",
        "</table>\n",
        "</div>"
       ],
       "metadata": {},
       "output_type": "pyout",
       "prompt_number": 155,
       "text": [
        "                                                H         p         q direction\n",
        "REACTOME_METABOLISM_OF_CARBOHYDRATES        87.26  9.53e-21  9.43e-18     False\n",
        "REACTOME_NCAM1_INTERACTIONS                 73.17  1.19e-17  4.72e-15     False\n",
        "REACTOME_ADHERENS_JUNCTIONS_INTERACTIONS    72.81  1.43e-17  4.72e-15     False\n",
        "KEGG_PHOSPHATIDYLINOSITOL_SIGNALING_SYSTEM  70.12  5.58e-17  1.38e-14     False\n",
        "KEGG_CARDIAC_MUSCLE_CONTRACTION             69.07  9.48e-17  1.64e-14     False"
       ]
      }
     ],
     "prompt_number": 155
    },
    {
     "cell_type": "markdown",
     "metadata": {},
     "source": [
      "###Screen for survival associated features  \n",
      "* First pass is a log-rank tet on all features\n",
      "* Next we run the full model with covariates  \n",
      "* We use a combination of the two tests to filter down the candidate associations and pull out the top biomarkers\n",
      "* Here the log-rank test is really underpowered.  \n",
      "* The mutation-rate covariate helps a lot to explain away many of the patients who have very high mutation rates and good prognosis.\n",
      "* The age covariate often explains patients who are in a good-prognosis group but have bad outcomes.\n",
      "* The results of the full model are kind of hard to interperet and non-necessarily relavant as we get a lot of features that help to explain mutation rate effect, ect. and thus improve the model but we don't exactly know what to do with these things for now.   "
     ]
    },
    {
     "cell_type": "markdown",
     "metadata": {},
     "source": [
      "####First pass is a log-rank test on all features"
     ]
    },
    {
     "cell_type": "code",
     "collapsed": false,
     "input": [
      "surv = clinical.survival.survival_5y"
     ],
     "language": "python",
     "metadata": {},
     "outputs": [],
     "prompt_number": 156
    },
    {
     "cell_type": "code",
     "collapsed": false,
     "input": [
      "df = mut.features.ix[((cc.p>.00001) + (mut.features.sum(1) < (mut.features.shape[1] / 2.))) > 0]\n",
      "df = df.ix[:,keepers].dropna(axis=1)\n",
      "\n",
      "lr = df.apply(log_rank, args=(surv,), axis=1)\n",
      "lr['q'] = bhCorrection(lr.p)"
     ],
     "language": "python",
     "metadata": {},
     "outputs": [],
     "prompt_number": 157
    },
    {
     "cell_type": "code",
     "collapsed": false,
     "input": [
      "lr.sort('p').head()"
     ],
     "language": "python",
     "metadata": {},
     "outputs": [
      {
       "html": [
        "<div style=\"max-height:1000px;max-width:1500px;overflow:auto;\">\n",
        "<table border=\"1\" class=\"dataframe\">\n",
        "  <thead>\n",
        "    <tr style=\"text-align: right;\">\n",
        "      <th></th>\n",
        "      <th>chi2</th>\n",
        "      <th>p</th>\n",
        "      <th>q</th>\n",
        "    </tr>\n",
        "  </thead>\n",
        "  <tbody>\n",
        "    <tr>\n",
        "      <th>MUC5B</th>\n",
        "      <td> 22.95</td>\n",
        "      <td> 1.66e-06</td>\n",
        "      <td> 0.00</td>\n",
        "    </tr>\n",
        "    <tr>\n",
        "      <th>EPHA2</th>\n",
        "      <td>  8.00</td>\n",
        "      <td> 4.68e-03</td>\n",
        "      <td> 0.99</td>\n",
        "    </tr>\n",
        "    <tr>\n",
        "      <th>CACNA2D1</th>\n",
        "      <td>  7.72</td>\n",
        "      <td> 5.47e-03</td>\n",
        "      <td> 0.99</td>\n",
        "    </tr>\n",
        "    <tr>\n",
        "      <th>REACTOME_CYTOSOLIC_TRNA_AMINOACYLATION</th>\n",
        "      <td>  7.50</td>\n",
        "      <td> 6.18e-03</td>\n",
        "      <td> 0.99</td>\n",
        "    </tr>\n",
        "    <tr>\n",
        "      <th>REACTOME_TRAFFICKING_OF_AMPA_RECEPTORS</th>\n",
        "      <td>  6.74</td>\n",
        "      <td> 9.44e-03</td>\n",
        "      <td> 0.99</td>\n",
        "    </tr>\n",
        "  </tbody>\n",
        "</table>\n",
        "</div>"
       ],
       "metadata": {},
       "output_type": "pyout",
       "prompt_number": 158,
       "text": [
        "                                         chi2         p     q\n",
        "MUC5B                                   22.95  1.66e-06  0.00\n",
        "EPHA2                                    8.00  4.68e-03  0.99\n",
        "CACNA2D1                                 7.72  5.47e-03  0.99\n",
        "REACTOME_CYTOSOLIC_TRNA_AMINOACYLATION   7.50  6.18e-03  0.99\n",
        "REACTOME_TRAFFICKING_OF_AMPA_RECEPTORS   6.74  9.44e-03  0.99"
       ]
      }
     ],
     "prompt_number": 158
    },
    {
     "cell_type": "markdown",
     "metadata": {},
     "source": [
      "####Next we run the full screen"
     ]
    },
    {
     "cell_type": "code",
     "collapsed": false,
     "input": [
      "rate.hist()"
     ],
     "language": "python",
     "metadata": {},
     "outputs": [
      {
       "metadata": {},
       "output_type": "pyout",
       "prompt_number": 159,
       "text": [
        "<matplotlib.axes.AxesSubplot at 0x14dfb610>"
       ]
      },
      {
       "metadata": {},
       "output_type": "display_data",
       "png": "[encoded data removed]",
       "text": [
        "<matplotlib.figure.Figure at 0x14df9850>"
       ]
      }
     ],
     "prompt_number": 159
    },
    {
     "cell_type": "code",
     "collapsed": false,
     "input": [
      "rate = global_vars[('mutation', 'rate_non')]\n",
      "rate = np.log2(rate)\n",
      "rate.name = 'rate'\n",
      "cov_df = pd.concat([age, rate, old], axis=1)\n",
      "test = lambda s: get_cox_ph_ms(surv, s, cov_df, return_val='LR', interactions=False);"
     ],
     "language": "python",
     "metadata": {},
     "outputs": [],
     "prompt_number": 160
    },
    {
     "cell_type": "code",
     "collapsed": false,
     "input": [
      "df = mut.features.ix[:,keepers_o].dropna(axis=1)\n",
      "df = df.ix[((cc.p>.00001) + (df.sum(1) < (df.shape[1] / 2.))) > 0]"
     ],
     "language": "python",
     "metadata": {},
     "outputs": [],
     "prompt_number": 161
    },
    {
     "cell_type": "code",
     "collapsed": false,
     "input": [
      "mut_res_t = df.apply(test, 1)\n",
      "mut_res_t['LR_q'] = bhCorrection(mut_res_t.LR)"
     ],
     "language": "python",
     "metadata": {},
     "outputs": [],
     "prompt_number": 162
    },
    {
     "cell_type": "code",
     "collapsed": false,
     "input": [
      "mut_res_t.sort('LR').head()"
     ],
     "language": "python",
     "metadata": {},
     "outputs": [
      {
       "html": [
        "<div style=\"max-height:1000px;max-width:1500px;overflow:auto;\">\n",
        "<table border=\"1\" class=\"dataframe\">\n",
        "  <thead>\n",
        "    <tr style=\"text-align: right;\">\n",
        "      <th></th>\n",
        "      <th>LR</th>\n",
        "      <th>feature_p</th>\n",
        "      <th>fmla</th>\n",
        "      <th>hazzard</th>\n",
        "      <th>LR_q</th>\n",
        "    </tr>\n",
        "  </thead>\n",
        "  <tbody>\n",
        "    <tr>\n",
        "      <th>MUC5B</th>\n",
        "      <td> 9.60e-05</td>\n",
        "      <td> 7.04e-06</td>\n",
        "      <td> Surv(days, event) ~ feature + old\\n</td>\n",
        "      <td> 4.13</td>\n",
        "      <td> 0.09</td>\n",
        "    </tr>\n",
        "    <tr>\n",
        "      <th>LPHN3</th>\n",
        "      <td> 2.63e-03</td>\n",
        "      <td> 3.81e-02</td>\n",
        "      <td> Surv(days, event) ~ feature + old\\n</td>\n",
        "      <td> 0.12</td>\n",
        "      <td> 0.79</td>\n",
        "    </tr>\n",
        "    <tr>\n",
        "      <th>CELSR2</th>\n",
        "      <td> 2.67e-03</td>\n",
        "      <td> 2.34e-02</td>\n",
        "      <td> Surv(days, event) ~ feature + old\\n</td>\n",
        "      <td> 0.20</td>\n",
        "      <td> 0.79</td>\n",
        "    </tr>\n",
        "    <tr>\n",
        "      <th>BIOCARTA_PGC1A_PATHWAY</th>\n",
        "      <td> 6.45e-03</td>\n",
        "      <td> 3.53e-02</td>\n",
        "      <td> Surv(days, event) ~ feature + old\\n</td>\n",
        "      <td> 0.22</td>\n",
        "      <td> 1.00</td>\n",
        "    </tr>\n",
        "    <tr>\n",
        "      <th>SCN1A</th>\n",
        "      <td> 7.10e-03</td>\n",
        "      <td> 2.40e-02</td>\n",
        "      <td> Surv(days, event) ~ feature + old\\n</td>\n",
        "      <td> 0.31</td>\n",
        "      <td> 1.00</td>\n",
        "    </tr>\n",
        "  </tbody>\n",
        "</table>\n",
        "</div>"
       ],
       "metadata": {},
       "output_type": "pyout",
       "prompt_number": 163,
       "text": [
        "                              LR  feature_p                                 fmla  hazzard  LR_q\n",
        "MUC5B                   9.60e-05   7.04e-06  Surv(days, event) ~ feature + old\\n     4.13  0.09\n",
        "LPHN3                   2.63e-03   3.81e-02  Surv(days, event) ~ feature + old\\n     0.12  0.79\n",
        "CELSR2                  2.67e-03   2.34e-02  Surv(days, event) ~ feature + old\\n     0.20  0.79\n",
        "BIOCARTA_PGC1A_PATHWAY  6.45e-03   3.53e-02  Surv(days, event) ~ feature + old\\n     0.22  1.00\n",
        "SCN1A                   7.10e-03   2.40e-02  Surv(days, event) ~ feature + old\\n     0.31  1.00"
       ]
      }
     ],
     "prompt_number": 163
    },
    {
     "cell_type": "markdown",
     "metadata": {},
     "source": [
      "#### Here are the unfiltered results  \n",
      "* Note that the cell cycle pathway does nearly as well as TP53 itself, it is very likely that some of the genes in this pathway serve the same function, but including the pathway greatly increases the complexity of downstream analysis and leads to some tough deconvolution of the interaction of HPV with TP53.  \n",
      "* We have a bunch of redundancy here with closely defined gene-sets, so now we will filter some of these out.\n",
      "* Note that I'm choosing to rank the results by the univariate test, while using the full model as a filter, this reduces the biomarkers we followup on to have relatively straight-forward interpretations as their effect is more direct and less mediated by interaction with mutation rate or age."
     ]
    },
    {
     "cell_type": "code",
     "collapsed": false,
     "input": [
      "mut_res = pd.concat([mut_res_t[mut_res_t.LR_q < .3], lr[lr.p < .05]], \n",
      "                    keys=['Full','Univariate'], axis=1).sort([('Full', 'LR')])\n",
      "mut_res = mut_res.dropna()\n",
      "mut_res.head()"
     ],
     "language": "python",
     "metadata": {},
     "outputs": [
      {
       "html": [
        "<div style=\"max-height:1000px;max-width:1500px;overflow:auto;\">\n",
        "<table border=\"1\" class=\"dataframe\">\n",
        "  <thead>\n",
        "    <tr>\n",
        "      <th></th>\n",
        "      <th colspan=\"5\" halign=\"left\">Full</th>\n",
        "      <th colspan=\"3\" halign=\"left\">Univariate</th>\n",
        "    </tr>\n",
        "    <tr>\n",
        "      <th></th>\n",
        "      <th>LR</th>\n",
        "      <th>feature_p</th>\n",
        "      <th>fmla</th>\n",
        "      <th>hazzard</th>\n",
        "      <th>LR_q</th>\n",
        "      <th>chi2</th>\n",
        "      <th>p</th>\n",
        "      <th>q</th>\n",
        "    </tr>\n",
        "  </thead>\n",
        "  <tbody>\n",
        "    <tr>\n",
        "      <th>MUC5B</th>\n",
        "      <td> 9.60e-05</td>\n",
        "      <td> 7.04e-06</td>\n",
        "      <td> Surv(days, event) ~ feature + old\\n</td>\n",
        "      <td> 4.13</td>\n",
        "      <td> 0.09</td>\n",
        "      <td> 22.95</td>\n",
        "      <td> 1.66e-06</td>\n",
        "      <td> 0</td>\n",
        "    </tr>\n",
        "  </tbody>\n",
        "</table>\n",
        "</div>"
       ],
       "metadata": {},
       "output_type": "pyout",
       "prompt_number": 164,
       "text": [
        "           Full                                            Full     Full        Univariate             \n",
        "             LR  feature_p                                 fmla  hazzard  LR_q        chi2         p  q\n",
        "MUC5B  9.60e-05   7.04e-06  Surv(days, event) ~ feature + old\\n     4.13  0.09       22.95  1.66e-06  0"
       ]
      }
     ],
     "prompt_number": 164
    },
    {
     "cell_type": "markdown",
     "metadata": {},
     "source": [
      "##CNA Screen "
     ]
    },
    {
     "cell_type": "markdown",
     "metadata": {},
     "source": [
      "###Univariate model"
     ]
    },
    {
     "cell_type": "code",
     "collapsed": false,
     "input": [
      "df = (cn.features.ix['Deletion', keepers].dropna(1) < 0).astype(int)\n",
      "df = df[df.sum(1) > 10]"
     ],
     "language": "python",
     "metadata": {},
     "outputs": [],
     "prompt_number": 165
    },
    {
     "cell_type": "code",
     "collapsed": false,
     "input": [
      "df = (cn.features.ix['Deletion', keepers].dropna(1) < 0).astype(int)\n",
      "df = df[df.sum(1) > 10]\n",
      "\n",
      "lr = df.apply(log_rank, args=(surv,), axis=1)\n",
      "lr = lr.sort('p')\n",
      "lr_del = lr"
     ],
     "language": "python",
     "metadata": {},
     "outputs": [],
     "prompt_number": 166
    },
    {
     "cell_type": "code",
     "collapsed": false,
     "input": [
      "df = (cn.features.ix['Amplification', keepers].dropna(1) > 0).astype(str)\n",
      "df = df[df.sum(1) > 10]\n",
      "\n",
      "lr = df.apply(log_rank, args=(surv,), axis=1)\n",
      "lr = lr.sort('p')\n",
      "lr_amp = lr"
     ],
     "language": "python",
     "metadata": {},
     "outputs": [],
     "prompt_number": 167
    },
    {
     "cell_type": "code",
     "collapsed": false,
     "input": [
      "lr = pd.concat([lr_del, lr_amp], keys=['Deletion','Amplification'])\n",
      "lr['q'] = bhCorrection(lr.p)"
     ],
     "language": "python",
     "metadata": {},
     "outputs": [],
     "prompt_number": 168
    },
    {
     "cell_type": "code",
     "collapsed": false,
     "input": [
      "lr.head()"
     ],
     "language": "python",
     "metadata": {},
     "outputs": [
      {
       "html": [
        "<div style=\"max-height:1000px;max-width:1500px;overflow:auto;\">\n",
        "<table border=\"1\" class=\"dataframe\">\n",
        "  <thead>\n",
        "    <tr style=\"text-align: right;\">\n",
        "      <th></th>\n",
        "      <th></th>\n",
        "      <th></th>\n",
        "      <th>chi2</th>\n",
        "      <th>p</th>\n",
        "      <th>q</th>\n",
        "    </tr>\n",
        "  </thead>\n",
        "  <tbody>\n",
        "    <tr>\n",
        "      <th rowspan=\"5\" valign=\"top\">Deletion</th>\n",
        "      <th>13q14.2</th>\n",
        "      <th>Lesion</th>\n",
        "      <td> 7.47</td>\n",
        "      <td> 0.01</td>\n",
        "      <td> 0.43</td>\n",
        "    </tr>\n",
        "    <tr>\n",
        "      <th>5q35.3</th>\n",
        "      <th>Lesion</th>\n",
        "      <td> 3.47</td>\n",
        "      <td> 0.06</td>\n",
        "      <td> 0.73</td>\n",
        "    </tr>\n",
        "    <tr>\n",
        "      <th>11p15.4</th>\n",
        "      <th>Lesion</th>\n",
        "      <td> 3.21</td>\n",
        "      <td> 0.07</td>\n",
        "      <td> 0.73</td>\n",
        "    </tr>\n",
        "    <tr>\n",
        "      <th>11q14.1</th>\n",
        "      <th>Lesion</th>\n",
        "      <td> 3.06</td>\n",
        "      <td> 0.08</td>\n",
        "      <td> 0.73</td>\n",
        "    </tr>\n",
        "    <tr>\n",
        "      <th>5q11.2</th>\n",
        "      <th>Lesion</th>\n",
        "      <td> 3.01</td>\n",
        "      <td> 0.08</td>\n",
        "      <td> 0.73</td>\n",
        "    </tr>\n",
        "  </tbody>\n",
        "</table>\n",
        "</div>"
       ],
       "metadata": {},
       "output_type": "pyout",
       "prompt_number": 182,
       "text": [
        "                         chi2     p     q\n",
        "Deletion 13q14.2 Lesion  7.47  0.01  0.43\n",
        "         5q35.3  Lesion  3.47  0.06  0.73\n",
        "         11p15.4 Lesion  3.21  0.07  0.73\n",
        "         11q14.1 Lesion  3.06  0.08  0.73\n",
        "         5q11.2  Lesion  3.01  0.08  0.73"
       ]
      }
     ],
     "prompt_number": 182
    },
    {
     "cell_type": "markdown",
     "metadata": {},
     "source": [
      "###Multi-variate model"
     ]
    },
    {
     "cell_type": "code",
     "collapsed": false,
     "input": [
      "rate = cn.df.ix['Deletion'].sum()\n",
      "rate.name = 'rate'\n",
      "cov_df = pd.concat([age, rate, old], axis=1).dropna()\n",
      "test = lambda s: get_cox_ph_ms(surv, s, cov_df, return_val='LR', interactions=False);\n",
      "\n",
      "df = (cn.features.ix['Deletion', keepers_o].dropna(1) < 0).astype(int)\n",
      "df = df[df.sum(1) > 10]\n",
      "cn_res_t = df.apply(test, 1)\n",
      "cn_res_t['LR_q'] = bhCorrection(cn_res_t.LR)"
     ],
     "language": "python",
     "metadata": {},
     "outputs": [],
     "prompt_number": 170
    },
    {
     "cell_type": "code",
     "collapsed": false,
     "input": [
      "rate = cn.df.ix['Amplification'].sum()\n",
      "rate.name = 'rate'\n",
      "cov_df = pd.concat([age, rate, old], axis=1).dropna()\n",
      "test = lambda s: get_cox_ph_ms(surv, s, cov_df, return_val='LR', interactions=False);\n",
      "\n",
      "df = (cn.features.ix['Amplification', keepers_o].dropna(1) > 0).astype(int)\n",
      "df = df[df.sum(1) > 10]\n",
      "cn_res_a = df.apply(test, 1)\n",
      "cn_res_a['LR_q'] = bhCorrection(cn_res_a.LR)"
     ],
     "language": "python",
     "metadata": {},
     "outputs": [],
     "prompt_number": 171
    },
    {
     "cell_type": "code",
     "collapsed": false,
     "input": [
      "cn_full = pd.concat([cn_res_t, cn_res_a], keys=['Deletion','Amplification'])\n",
      "cn_full['LR_q'] = bhCorrection(cn_full.LR)"
     ],
     "language": "python",
     "metadata": {},
     "outputs": [],
     "prompt_number": 172
    },
    {
     "cell_type": "code",
     "collapsed": false,
     "input": [
      "cn_res = pd.concat([cn_full[cn_full.LR_q < .9], lr[lr.p < .05]], \n",
      "                    keys=['Full','Univariate'], axis=1).sort([('Full', 'LR')])\n",
      "cn_res = cn_res.dropna()\n",
      "cn_res.head()"
     ],
     "language": "python",
     "metadata": {},
     "outputs": [
      {
       "html": [
        "<div style=\"max-height:1000px;max-width:1500px;overflow:auto;\">\n",
        "<table border=\"1\" class=\"dataframe\">\n",
        "  <thead>\n",
        "    <tr>\n",
        "      <th></th>\n",
        "      <th></th>\n",
        "      <th></th>\n",
        "      <th colspan=\"5\" halign=\"left\">Full</th>\n",
        "      <th colspan=\"3\" halign=\"left\">Univariate</th>\n",
        "    </tr>\n",
        "    <tr>\n",
        "      <th></th>\n",
        "      <th></th>\n",
        "      <th></th>\n",
        "      <th>LR</th>\n",
        "      <th>feature_p</th>\n",
        "      <th>fmla</th>\n",
        "      <th>hazzard</th>\n",
        "      <th>LR_q</th>\n",
        "      <th>chi2</th>\n",
        "      <th>p</th>\n",
        "      <th>q</th>\n",
        "    </tr>\n",
        "  </thead>\n",
        "  <tbody>\n",
        "    <tr>\n",
        "      <th>Deletion</th>\n",
        "      <th>13q14.2</th>\n",
        "      <th>Lesion</th>\n",
        "      <td> 0</td>\n",
        "      <td> 0.01</td>\n",
        "      <td> Surv(days, event) ~ feature + old\\n</td>\n",
        "      <td> 0.55</td>\n",
        "      <td> 0.31</td>\n",
        "      <td> 7.47</td>\n",
        "      <td> 0.01</td>\n",
        "      <td> 0.43</td>\n",
        "    </tr>\n",
        "  </tbody>\n",
        "</table>\n",
        "</div>"
       ],
       "metadata": {},
       "output_type": "pyout",
       "prompt_number": 173,
       "text": [
        "                         Full                                            Full     Full        Univariate            \n",
        "                           LR  feature_p                                 fmla  hazzard  LR_q        chi2     p     q\n",
        "Deletion 13q14.2 Lesion     0       0.01  Surv(days, event) ~ feature + old\\n     0.55  0.31        7.47  0.01  0.43"
       ]
      }
     ],
     "prompt_number": 173
    },
    {
     "cell_type": "markdown",
     "metadata": {},
     "source": [
      "##RNA Screen"
     ]
    },
    {
     "cell_type": "code",
     "collapsed": false,
     "input": [
      "cox = cox_screen(rna.pathways, surv)"
     ],
     "language": "python",
     "metadata": {},
     "outputs": [],
     "prompt_number": 174
    },
    {
     "cell_type": "code",
     "collapsed": false,
     "input": [
      "cox.head()"
     ],
     "language": "python",
     "metadata": {},
     "outputs": [
      {
       "html": [
        "<div style=\"max-height:1000px;max-width:1500px;overflow:auto;\">\n",
        "<table border=\"1\" class=\"dataframe\">\n",
        "  <thead>\n",
        "    <tr style=\"text-align: right;\">\n",
        "      <th></th>\n",
        "      <th>LR</th>\n",
        "      <th>p</th>\n",
        "      <th>q</th>\n",
        "    </tr>\n",
        "  </thead>\n",
        "  <tbody>\n",
        "    <tr>\n",
        "      <th>REACTOME_PHOSPHORYLATION_OF_THE_APC</th>\n",
        "      <td> 12.84</td>\n",
        "      <td> 3.39e-04</td>\n",
        "      <td> 0.07</td>\n",
        "    </tr>\n",
        "    <tr>\n",
        "      <th>REACTOME_INACTIVATION_OF_APC_VIA_DIRECT_INHIBITION_OF_THE_APCOMPLEX</th>\n",
        "      <td> 12.79</td>\n",
        "      <td> 3.48e-04</td>\n",
        "      <td> 0.07</td>\n",
        "    </tr>\n",
        "    <tr>\n",
        "      <th>REACTOME_APCDC20_MEDIATED_DEGRADATION_OF_CYCLIN_B</th>\n",
        "      <td> 12.16</td>\n",
        "      <td> 4.89e-04</td>\n",
        "      <td> 0.07</td>\n",
        "    </tr>\n",
        "    <tr>\n",
        "      <th>REACTOME_CONVERSION_FROM_APC_CDC20_TO_APC_CDH1_IN_LATE_ANAPHASE</th>\n",
        "      <td> 10.31</td>\n",
        "      <td> 1.33e-03</td>\n",
        "      <td> 0.14</td>\n",
        "    </tr>\n",
        "    <tr>\n",
        "      <th>BIOCARTA_BARRESTIN_SRC_PATHWAY</th>\n",
        "      <td>  9.03</td>\n",
        "      <td> 2.65e-03</td>\n",
        "      <td> 0.17</td>\n",
        "    </tr>\n",
        "  </tbody>\n",
        "</table>\n",
        "</div>"
       ],
       "metadata": {},
       "output_type": "pyout",
       "prompt_number": 175,
       "text": [
        "                                                                        LR         p     q\n",
        "REACTOME_PHOSPHORYLATION_OF_THE_APC                                  12.84  3.39e-04  0.07\n",
        "REACTOME_INACTIVATION_OF_APC_VIA_DIRECT_INHIBITION_OF_THE_APCOMPLEX  12.79  3.48e-04  0.07\n",
        "REACTOME_APCDC20_MEDIATED_DEGRADATION_OF_CYCLIN_B                    12.16  4.89e-04  0.07\n",
        "REACTOME_CONVERSION_FROM_APC_CDC20_TO_APC_CDH1_IN_LATE_ANAPHASE      10.31  1.33e-03  0.14\n",
        "BIOCARTA_BARRESTIN_SRC_PATHWAY                                        9.03  2.65e-03  0.17"
       ]
      }
     ],
     "prompt_number": 175
    },
    {
     "cell_type": "code",
     "collapsed": false,
     "input": [
      "pc1 = rna.global_vars.pc1\n",
      "background = rna.global_vars.background\n",
      "cov_df = pd.concat([age, pc1, background, old], axis=1).dropna()\n",
      "test = lambda s: get_cox_ph_ms(surv, s, cov_df, return_val='LR', interactions=False);\n",
      "\n",
      "df = rna.pathways.ix[:, keepers_o]\n",
      "rna_res = df.apply(test, 1)\n",
      "rna_res['LR_q'] = bhCorrection(rna_res.LR)"
     ],
     "language": "python",
     "metadata": {},
     "outputs": [],
     "prompt_number": 176
    },
    {
     "cell_type": "code",
     "collapsed": false,
     "input": [
      "rna_res.sort('LR').head()"
     ],
     "language": "python",
     "metadata": {},
     "outputs": [
      {
       "html": [
        "<div style=\"max-height:1000px;max-width:1500px;overflow:auto;\">\n",
        "<table border=\"1\" class=\"dataframe\">\n",
        "  <thead>\n",
        "    <tr style=\"text-align: right;\">\n",
        "      <th></th>\n",
        "      <th>LR</th>\n",
        "      <th>feature_p</th>\n",
        "      <th>fmla</th>\n",
        "      <th>hazzard</th>\n",
        "      <th>LR_q</th>\n",
        "    </tr>\n",
        "  </thead>\n",
        "  <tbody>\n",
        "    <tr>\n",
        "      <th>REACTOME_PHOSPHORYLATION_OF_THE_APC</th>\n",
        "      <td> 8.47e-04</td>\n",
        "      <td> 0</td>\n",
        "      <td> Surv(days, event) ~ feature + old\\n</td>\n",
        "      <td> 1.45</td>\n",
        "      <td> 0.17</td>\n",
        "    </tr>\n",
        "    <tr>\n",
        "      <th>REACTOME_INACTIVATION_OF_APC_VIA_DIRECT_INHIBITION_OF_THE_APCOMPLEX</th>\n",
        "      <td> 1.06e-03</td>\n",
        "      <td> 0</td>\n",
        "      <td> Surv(days, event) ~ feature + old\\n</td>\n",
        "      <td> 1.44</td>\n",
        "      <td> 0.17</td>\n",
        "    </tr>\n",
        "    <tr>\n",
        "      <th>REACTOME_APCDC20_MEDIATED_DEGRADATION_OF_CYCLIN_B</th>\n",
        "      <td> 1.18e-03</td>\n",
        "      <td> 0</td>\n",
        "      <td> Surv(days, event) ~ feature + old\\n</td>\n",
        "      <td> 1.43</td>\n",
        "      <td> 0.17</td>\n",
        "    </tr>\n",
        "    <tr>\n",
        "      <th>REACTOME_G2_M_TRANSITION</th>\n",
        "      <td> 2.66e-03</td>\n",
        "      <td> 0</td>\n",
        "      <td> Surv(days, event) ~ feature + old\\n</td>\n",
        "      <td> 1.39</td>\n",
        "      <td> 0.22</td>\n",
        "    </tr>\n",
        "    <tr>\n",
        "      <th>REACTOME_CENTROSOME_MATURATION</th>\n",
        "      <td> 2.87e-03</td>\n",
        "      <td> 0</td>\n",
        "      <td> Surv(days, event) ~ feature + old\\n</td>\n",
        "      <td> 1.39</td>\n",
        "      <td> 0.22</td>\n",
        "    </tr>\n",
        "  </tbody>\n",
        "</table>\n",
        "</div>"
       ],
       "metadata": {},
       "output_type": "pyout",
       "prompt_number": 177,
       "text": [
        "                                                                           LR  feature_p                                 fmla  hazzard  LR_q\n",
        "REACTOME_PHOSPHORYLATION_OF_THE_APC                                  8.47e-04          0  Surv(days, event) ~ feature + old\\n     1.45  0.17\n",
        "REACTOME_INACTIVATION_OF_APC_VIA_DIRECT_INHIBITION_OF_THE_APCOMPLEX  1.06e-03          0  Surv(days, event) ~ feature + old\\n     1.44  0.17\n",
        "REACTOME_APCDC20_MEDIATED_DEGRADATION_OF_CYCLIN_B                    1.18e-03          0  Surv(days, event) ~ feature + old\\n     1.43  0.17\n",
        "REACTOME_G2_M_TRANSITION                                             2.66e-03          0  Surv(days, event) ~ feature + old\\n     1.39  0.22\n",
        "REACTOME_CENTROSOME_MATURATION                                       2.87e-03          0  Surv(days, event) ~ feature + old\\n     1.39  0.22"
       ]
      }
     ],
     "prompt_number": 177
    },
    {
     "cell_type": "markdown",
     "metadata": {},
     "source": [
      "##miRNA Screen"
     ]
    },
    {
     "cell_type": "code",
     "collapsed": false,
     "input": [
      "cox = cox_screen(mirna.features, surv)"
     ],
     "language": "python",
     "metadata": {},
     "outputs": [],
     "prompt_number": 178
    },
    {
     "cell_type": "code",
     "collapsed": false,
     "input": [
      "cox.head()"
     ],
     "language": "python",
     "metadata": {},
     "outputs": [
      {
       "html": [
        "<div style=\"max-height:1000px;max-width:1500px;overflow:auto;\">\n",
        "<table border=\"1\" class=\"dataframe\">\n",
        "  <thead>\n",
        "    <tr style=\"text-align: right;\">\n",
        "      <th></th>\n",
        "      <th></th>\n",
        "      <th>LR</th>\n",
        "      <th>p</th>\n",
        "      <th>q</th>\n",
        "    </tr>\n",
        "  </thead>\n",
        "  <tbody>\n",
        "    <tr>\n",
        "      <th>real</th>\n",
        "      <th>hsa-mir-135a-2</th>\n",
        "      <td> 17.55</td>\n",
        "      <td> 2.79e-05</td>\n",
        "      <td> 0.01</td>\n",
        "    </tr>\n",
        "    <tr>\n",
        "      <th>binary</th>\n",
        "      <th>hsa-mir-548k</th>\n",
        "      <td> 13.15</td>\n",
        "      <td> 2.87e-04</td>\n",
        "      <td> 0.04</td>\n",
        "    </tr>\n",
        "    <tr>\n",
        "      <th>real</th>\n",
        "      <th>hsa-mir-377</th>\n",
        "      <td>  9.85</td>\n",
        "      <td> 1.70e-03</td>\n",
        "      <td> 0.11</td>\n",
        "    </tr>\n",
        "    <tr>\n",
        "      <th>binary</th>\n",
        "      <th>hsa-mir-137</th>\n",
        "      <td>  9.05</td>\n",
        "      <td> 2.63e-03</td>\n",
        "      <td> 0.11</td>\n",
        "    </tr>\n",
        "    <tr>\n",
        "      <th>real</th>\n",
        "      <th>hsa-mir-337</th>\n",
        "      <td>  8.76</td>\n",
        "      <td> 3.09e-03</td>\n",
        "      <td> 0.11</td>\n",
        "    </tr>\n",
        "  </tbody>\n",
        "</table>\n",
        "</div>"
       ],
       "metadata": {},
       "output_type": "pyout",
       "prompt_number": 179,
       "text": [
        "                          LR         p     q\n",
        "real   hsa-mir-135a-2  17.55  2.79e-05  0.01\n",
        "binary hsa-mir-548k    13.15  2.87e-04  0.04\n",
        "real   hsa-mir-377      9.85  1.70e-03  0.11\n",
        "binary hsa-mir-137      9.05  2.63e-03  0.11\n",
        "real   hsa-mir-337      8.76  3.09e-03  0.11"
       ]
      }
     ],
     "prompt_number": 179
    },
    {
     "cell_type": "code",
     "collapsed": false,
     "input": [
      "pc1 = mirna.global_vars.pc1\n",
      "background = mirna.global_vars.background\n",
      "cov_df = pd.concat([age, pc1, background, old], axis=1).dropna()\n",
      "test = lambda s: get_cox_ph_ms(surv, s, cov_df, return_val='LR', interactions=False);\n",
      "\n",
      "df = mirna.features.ix[:, keepers_o]\n",
      "mirna_res = df.apply(test, 1)\n",
      "mirna_res['LR_q'] = bhCorrection(mirna_res.LR)"
     ],
     "language": "python",
     "metadata": {},
     "outputs": [],
     "prompt_number": 180
    },
    {
     "cell_type": "code",
     "collapsed": false,
     "input": [
      "mirna_res.sort('LR').head()"
     ],
     "language": "python",
     "metadata": {},
     "outputs": [
      {
       "html": [
        "<div style=\"max-height:1000px;max-width:1500px;overflow:auto;\">\n",
        "<table border=\"1\" class=\"dataframe\">\n",
        "  <thead>\n",
        "    <tr style=\"text-align: right;\">\n",
        "      <th></th>\n",
        "      <th></th>\n",
        "      <th>LR</th>\n",
        "      <th>feature_p</th>\n",
        "      <th>fmla</th>\n",
        "      <th>hazzard</th>\n",
        "      <th>LR_q</th>\n",
        "    </tr>\n",
        "  </thead>\n",
        "  <tbody>\n",
        "    <tr>\n",
        "      <th>real</th>\n",
        "      <th>hsa-mir-299</th>\n",
        "      <td> 6.75e-04</td>\n",
        "      <td> 1.06e-03</td>\n",
        "      <td> Surv(days, event) ~ feature + background + old\\n</td>\n",
        "      <td> 1.50</td>\n",
        "      <td> 0.16</td>\n",
        "    </tr>\n",
        "    <tr>\n",
        "      <th>binary</th>\n",
        "      <th>hsa-mir-137</th>\n",
        "      <td> 1.16e-03</td>\n",
        "      <td> 1.09e-03</td>\n",
        "      <td> Surv(days, event) ~ feature + background + old\\n</td>\n",
        "      <td> 1.97</td>\n",
        "      <td> 0.16</td>\n",
        "    </tr>\n",
        "    <tr>\n",
        "      <th>real</th>\n",
        "      <th>hsa-mir-127</th>\n",
        "      <td> 2.20e-03</td>\n",
        "      <td> 2.36e-03</td>\n",
        "      <td>        Surv(days, event) ~ feature + pc1 + old\\n</td>\n",
        "      <td> 1.44</td>\n",
        "      <td> 0.16</td>\n",
        "    </tr>\n",
        "    <tr>\n",
        "      <th>binary</th>\n",
        "      <th>hsa-mir-548k</th>\n",
        "      <td> 2.25e-03</td>\n",
        "      <td> 4.20e-04</td>\n",
        "      <td>              Surv(days, event) ~ feature + old\\n</td>\n",
        "      <td> 2.07</td>\n",
        "      <td> 0.16</td>\n",
        "    </tr>\n",
        "    <tr>\n",
        "      <th>real</th>\n",
        "      <th>hsa-mir-379</th>\n",
        "      <td> 4.00e-03</td>\n",
        "      <td> 1.15e-03</td>\n",
        "      <td>              Surv(days, event) ~ feature + pc1\\n</td>\n",
        "      <td> 1.50</td>\n",
        "      <td> 0.16</td>\n",
        "    </tr>\n",
        "  </tbody>\n",
        "</table>\n",
        "</div>"
       ],
       "metadata": {},
       "output_type": "pyout",
       "prompt_number": 181,
       "text": [
        "                           LR  feature_p                                              fmla  hazzard  LR_q\n",
        "real   hsa-mir-299   6.75e-04   1.06e-03  Surv(days, event) ~ feature + background + old\\n     1.50  0.16\n",
        "binary hsa-mir-137   1.16e-03   1.09e-03  Surv(days, event) ~ feature + background + old\\n     1.97  0.16\n",
        "real   hsa-mir-127   2.20e-03   2.36e-03         Surv(days, event) ~ feature + pc1 + old\\n     1.44  0.16\n",
        "binary hsa-mir-548k  2.25e-03   4.20e-04               Surv(days, event) ~ feature + old\\n     2.07  0.16\n",
        "real   hsa-mir-379   4.00e-03   1.15e-03               Surv(days, event) ~ feature + pc1\\n     1.50  0.16"
       ]
      }
     ],
     "prompt_number": 181
    }
   ],
   "metadata": {}
  }
 ]
}