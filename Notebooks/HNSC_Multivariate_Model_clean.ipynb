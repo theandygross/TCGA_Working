{
 "metadata": {
  "name": "HNSC_Multivariate_Model_clean"
 },
 "nbformat": 3,
 "nbformat_minor": 0,
 "worksheets": [
  {
   "cells": [
    {
     "cell_type": "markdown",
     "metadata": {},
     "source": [
      "#HNSC Multivariate Screen  \n",
      "\n",
      "This is a screen for survival associated features.  "
     ]
    },
    {
     "cell_type": "code",
     "collapsed": false,
     "input": [
      "cd ../src"
     ],
     "language": "python",
     "metadata": {},
     "outputs": [
      {
       "output_type": "stream",
       "stream": "stdout",
       "text": [
        "/cellar/users/agross/TCGA_Code/TCGA/Pathway_Merge/src\n"
       ]
      }
     ],
     "prompt_number": 1
    },
    {
     "cell_type": "code",
     "collapsed": false,
     "input": [
      "from Processing.Imports import *"
     ],
     "language": "python",
     "metadata": {},
     "outputs": [],
     "prompt_number": 2
    },
    {
     "cell_type": "markdown",
     "metadata": {},
     "source": [
      "##Read in Data"
     ]
    },
    {
     "cell_type": "code",
     "collapsed": false,
     "input": [
      "run = get_run('/cellar/data/TCGA/Firehose__2013_04_21/', 'Run_all')\n",
      "\n",
      "cancer = run.load_cancer('HNSC')\n",
      "clinical = cancer.load_clinical()\n",
      "global_vars = cancer.load_global_vars()\n",
      "\n",
      "mut = cancer.load_data('Mutation')\n",
      "mut.uncompress()\n",
      "meth = cancer.load_data('Methylation')\n",
      "cn = cancer.load_data('CN_broad')\n",
      "cn.uncompress()\n",
      "rna = cancer.load_data('mRNASeq')\n",
      "rppa  = cancer.load_data('RPPA')\n",
      "mirna = cancer.load_data('miRNASeq')\n",
      "age = clinical.clinical.age.astype(float)\n",
      "\n",
      "hpv_all = pd.read_csv('/cellar/users/agross/hpv_summary_3_20_13_distribute.csv', index_col=0)\n",
      "hpv = hpv_all.Molecular_HPV.map({0:'HPV-', 1:'HPV+'})\n",
      "hpv.name = 'HPV'"
     ],
     "language": "python",
     "metadata": {},
     "outputs": [],
     "prompt_number": 3
    },
    {
     "cell_type": "code",
     "collapsed": false,
     "input": [
      "from Data.ProcessClinical import format_survival_from_data_portal\n",
      "path  = '/cellar/users/agross/Data/TCGA/HNSC_Followup/'\n",
      "survival, timeline = format_survival_from_data_portal(path, cancer.name)\n",
      "clinical.survival = survival\n",
      "clinical.artificially_censor(5)\n",
      "age = timeline.age"
     ],
     "language": "python",
     "metadata": {},
     "outputs": [],
     "prompt_number": 4
    },
    {
     "cell_type": "markdown",
     "metadata": {},
     "source": [
      "##Clinical Features"
     ]
    },
    {
     "cell_type": "code",
     "collapsed": false,
     "input": [
      "clinical_processed = pd.read_csv(cancer.path + '/Clinical/clinical_processed.csv', index_col=0)"
     ],
     "language": "python",
     "metadata": {},
     "outputs": [],
     "prompt_number": 5
    },
    {
     "cell_type": "code",
     "collapsed": false,
     "input": [
      "hpv_inferred = clinical_processed.hpv_inferred"
     ],
     "language": "python",
     "metadata": {},
     "outputs": [],
     "prompt_number": 8
    },
    {
     "cell_type": "code",
     "collapsed": false,
     "input": [
      "filters = pd.concat([age>=100, hpv_inferred==1], axis=1)\n",
      "clinical_filter = filters.sum(1) == 0\n",
      "keepers_o = true_index(clinical_filter)"
     ],
     "language": "python",
     "metadata": {},
     "outputs": [],
     "prompt_number": 9
    },
    {
     "cell_type": "code",
     "collapsed": false,
     "input": [
      "filters = pd.concat([age>=85, hpv_inferred==1], axis=1)\n",
      "clinical_filter = filters.sum(1) == 0\n",
      "keepers = true_index(clinical_filter)"
     ],
     "language": "python",
     "metadata": {},
     "outputs": [],
     "prompt_number": 10
    },
    {
     "cell_type": "code",
     "collapsed": false,
     "input": [
      "surv = clinical.survival.survival_5y\n",
      "old = pd.Series(1.*(age>=75), name='old')"
     ],
     "language": "python",
     "metadata": {},
     "outputs": [],
     "prompt_number": 11
    },
    {
     "cell_type": "markdown",
     "metadata": {},
     "source": [
      "####Form expression and methylation features without HPV  \n",
      "* HPV has a big influence on expression, here I am creating a second set of features without HPV\n",
      "* I use this sparingly but it helps to tease out wheter an association is due to a underlying relationship with HPV"
     ]
    },
    {
     "cell_type": "code",
     "collapsed": false,
     "input": [
      "from Stats.Survival import cox\n",
      "\n",
      "rev_kruskal = lambda a,b: kruskal_pandas(b,a)\n",
      "def fc(hit_vec, response_vec):\n",
      "    f = response_vec.groupby(hit_vec).median()\n",
      "    return f[0] > f[1]\n",
      "\n",
      "def mut_filter(df, rate):\n",
      "    df = df[df.sum(1) >= 10]\n",
      "    cc = screen_feature(rate, rev_kruskal, df)\n",
      "    \n",
      "    fc_apply = lambda s: fc(s, rate)\n",
      "    direction = df.apply(fc_apply, axis=1)\n",
      "    direction.name = 'direction'\n",
      "    \n",
      "    cc = cc.join(direction)\n",
      "    cc = cc[cc.direction==False]\n",
      "    \n",
      "    df = df.ix[((cc.p>.00001) + (df.sum(1).isin(range(10, df.shape[1] / 3)))) > 0]\n",
      "    df = df.dropna(axis=1)\n",
      "    return df\n",
      "\n",
      "def cox_screen(df, surv, axis=1):\n",
      "    rr = df.apply(lambda s: cox(s.dropna(), surv), axis=axis)\n",
      "    if axis==0:\n",
      "        rr = rr.T\n",
      "    rr['q'] = bhCorrection(rr.p)\n",
      "    rr = rr.sort('p')\n",
      "    return rr"
     ],
     "language": "python",
     "metadata": {},
     "outputs": [],
     "prompt_number": 12
    },
    {
     "cell_type": "code",
     "collapsed": true,
     "input": [
      "try:\n",
      "    rna = pickle.load(open(cancer.path + '/mRNASeq/store/no_hpv.p', 'rb'))\n",
      "    meth = pickle.load(open(cancer.path + '/Methylation/store/no_hpv.p', 'rb'))\n",
      "    mirna = pickle.load(open(cancer.path + '/miRNASeq/store/no_hpv.p', 'rb'))\n",
      "except:\n",
      "    from Initialization.InitializeReal import RealDataset\n",
      "    from Processing.Helpers import make_path_dump\n",
      "    rna = RealDataset(run, cancer, 'mRNASeq', keepers_o)\n",
      "    meth = RealDataset(run, cancer, 'Methylation', keepers_o)\n",
      "    mirna = RealDataset(run, cancer, 'miRNASeq', keepers_o, create_meta_features=False)\n",
      "    \n",
      "    make_path_dump(rna, rna.path + '/store/no_hpv.p')\n",
      "    make_path_dump(meth, meth.path + '/store/no_hpv.p')\n",
      "    make_path_dump(mirna, mirna.path + '/store/no_hpv.p')"
     ],
     "language": "python",
     "metadata": {},
     "outputs": [],
     "prompt_number": 104
    },
    {
     "cell_type": "code",
     "collapsed": false,
     "input": [
      "mut_df = mut_filter(mut.features.ix[:,keepers_o], mut.df.sum()).T\n",
      "\n",
      "del_df = (cn.features.ix['Deletion', keepers_o].dropna(1) < 0).astype(int)\n",
      "del_df = del_df[del_df.sum(1) > 10]\n",
      "del_df.index = del_df.index.droplevel(1)\n",
      "del_df = del_df.T\n",
      "amp_df = (cn.features.ix['Amplification', keepers_o].dropna(1) > 0).astype(int)\n",
      "amp_df = amp_df[amp_df.sum(1) > 10]\n",
      "amp_df.index = amp_df.index.droplevel(1)\n",
      "amp_df = amp_df.T\n",
      "\n",
      "global_df = pd.concat([global_vars['mutation'], global_vars['cna'], rna.global_vars, \n",
      "                       meth.global_vars, mirna.global_vars], \n",
      "                keys=['mutation', 'cna', 'rna', 'methylation', 'mirna'], axis=1)\n",
      "global_df.columns = map(lambda s: '_'.join(s), global_df.columns)\n",
      "\n",
      "mirna_df = mirna.features.copy()\n",
      "mirna_df.index = map(lambda s: '_'.join(s), mirna_df.index)\n",
      "mirna_df = mirna_df.T\n",
      "\n",
      "clinical_df = clinical_processed.select(lambda s: 'hpv' not in s, 1)"
     ],
     "language": "python",
     "metadata": {},
     "outputs": [],
     "prompt_number": 21
    },
    {
     "cell_type": "code",
     "collapsed": false,
     "input": [
      "data_sets = {'clinical': clinical_df,\n",
      "             'global': global_df,\n",
      "             'mutation': mut_df,\n",
      "             'deletion': del_df,\n",
      "             'amplification': amp_df,\n",
      "             'rna': rna.pathways.T,\n",
      "             'mirna': mirna_df,\n",
      "             'methylation': meth.pathways.T}"
     ],
     "language": "python",
     "metadata": {},
     "outputs": [],
     "prompt_number": 23
    },
    {
     "cell_type": "code",
     "collapsed": false,
     "input": [
      "univariate = pd.concat({d: cox_screen(df.ix[keepers], surv, 0) for d,df in data_sets.iteritems()})"
     ],
     "language": "python",
     "metadata": {},
     "outputs": [],
     "prompt_number": 25
    },
    {
     "cell_type": "code",
     "collapsed": false,
     "input": [
      "univariate.sort('q').head(10)"
     ],
     "language": "python",
     "metadata": {},
     "outputs": [
      {
       "html": [
        "<div style=\"max-height:1000px;max-width:1500px;overflow:auto;\">\n",
        "<table border=\"1\" class=\"dataframe\">\n",
        "  <thead>\n",
        "    <tr style=\"text-align: right;\">\n",
        "      <th></th>\n",
        "      <th></th>\n",
        "      <th>LR</th>\n",
        "      <th>p</th>\n",
        "      <th>q</th>\n",
        "    </tr>\n",
        "  </thead>\n",
        "  <tbody>\n",
        "    <tr>\n",
        "      <th rowspan=\"6\" valign=\"top\">clinical</th>\n",
        "      <th>year</th>\n",
        "      <td> 19.18</td>\n",
        "      <td> 1.19e-05</td>\n",
        "      <td> 1.90e-04</td>\n",
        "    </tr>\n",
        "    <tr>\n",
        "      <th>spread_inferred</th>\n",
        "      <td> 14.72</td>\n",
        "      <td> 1.25e-04</td>\n",
        "      <td> 6.64e-04</td>\n",
        "    </tr>\n",
        "    <tr>\n",
        "      <th>lymph_stage</th>\n",
        "      <td> 14.99</td>\n",
        "      <td> 1.08e-04</td>\n",
        "      <td> 6.64e-04</td>\n",
        "    </tr>\n",
        "    <tr>\n",
        "      <th>spread</th>\n",
        "      <td> 12.70</td>\n",
        "      <td> 3.66e-04</td>\n",
        "      <td> 1.46e-03</td>\n",
        "    </tr>\n",
        "    <tr>\n",
        "      <th>invasion</th>\n",
        "      <td> 11.04</td>\n",
        "      <td> 8.94e-04</td>\n",
        "      <td> 2.38e-03</td>\n",
        "    </tr>\n",
        "    <tr>\n",
        "      <th>lymph_status</th>\n",
        "      <td> 11.06</td>\n",
        "      <td> 8.82e-04</td>\n",
        "      <td> 2.38e-03</td>\n",
        "    </tr>\n",
        "    <tr>\n",
        "      <th rowspan=\"2\" valign=\"top\">rna</th>\n",
        "      <th>BIOCARTA_BARRESTIN_SRC_PATHWAY</th>\n",
        "      <td> 19.54</td>\n",
        "      <td> 9.85e-06</td>\n",
        "      <td> 2.46e-03</td>\n",
        "    </tr>\n",
        "    <tr>\n",
        "      <th>BIOCARTA_BARR_MAPK_PATHWAY</th>\n",
        "      <td> 19.27</td>\n",
        "      <td> 1.14e-05</td>\n",
        "      <td> 2.46e-03</td>\n",
        "    </tr>\n",
        "    <tr>\n",
        "      <th rowspan=\"2\" valign=\"top\">clinical</th>\n",
        "      <th>smoker_inferred</th>\n",
        "      <td>  9.98</td>\n",
        "      <td> 1.58e-03</td>\n",
        "      <td> 3.62e-03</td>\n",
        "    </tr>\n",
        "    <tr>\n",
        "      <th>invasion_inferred</th>\n",
        "      <td>  9.34</td>\n",
        "      <td> 2.24e-03</td>\n",
        "      <td> 4.49e-03</td>\n",
        "    </tr>\n",
        "  </tbody>\n",
        "</table>\n",
        "</div>"
       ],
       "output_type": "pyout",
       "prompt_number": 27,
       "text": [
        "                                            LR         p         q\n",
        "clinical year                            19.18  1.19e-05  1.90e-04\n",
        "         spread_inferred                 14.72  1.25e-04  6.64e-04\n",
        "         lymph_stage                     14.99  1.08e-04  6.64e-04\n",
        "         spread                          12.70  3.66e-04  1.46e-03\n",
        "         invasion                        11.04  8.94e-04  2.38e-03\n",
        "         lymph_status                    11.06  8.82e-04  2.38e-03\n",
        "rna      BIOCARTA_BARRESTIN_SRC_PATHWAY  19.54  9.85e-06  2.46e-03\n",
        "         BIOCARTA_BARR_MAPK_PATHWAY      19.27  1.14e-05  2.46e-03\n",
        "clinical smoker_inferred                  9.98  1.58e-03  3.62e-03\n",
        "         invasion_inferred                9.34  2.24e-03  4.49e-03"
       ]
      }
     ],
     "prompt_number": 27
    },
    {
     "cell_type": "code",
     "collapsed": false,
     "input": [
      "hits = univariate[univariate.q < .3].index"
     ],
     "language": "python",
     "metadata": {},
     "outputs": [],
     "prompt_number": 28
    },
    {
     "cell_type": "code",
     "collapsed": false,
     "input": [
      "cov_df = pd.concat([age, old], axis=1)\n",
      "def test(s):\n",
      "    s = s.dropna()\n",
      "    try:\n",
      "        s = s.astype(float)\n",
      "    except:\n",
      "        pass\n",
      "    return get_cox_ph_ms(surv, s, cov_df, return_val='LR', interactions=False);"
     ],
     "language": "python",
     "metadata": {},
     "outputs": [],
     "prompt_number": 29
    },
    {
     "cell_type": "code",
     "collapsed": false,
     "input": [
      "df = pd.concat(data_sets, 1).T.ix[hits, keepers_o]\n",
      "feature_age = df.apply(test, 1)"
     ],
     "language": "python",
     "metadata": {},
     "outputs": [],
     "prompt_number": 30
    },
    {
     "cell_type": "code",
     "collapsed": false,
     "input": [
      "vec = feature_age.LR.ix[univariate.index].sort_index()\n",
      "feature_age['q_bonf'] = vec.groupby(level=0).apply(lambda s: s*len(s)).order()\n",
      "feature_age['q_bh'] = vec.groupby(level=0).apply(bhCorrection).order()"
     ],
     "language": "python",
     "metadata": {},
     "outputs": [],
     "prompt_number": 31
    },
    {
     "cell_type": "code",
     "collapsed": false,
     "input": [
      "feature_age.sort('q_bh').head(10)"
     ],
     "language": "python",
     "metadata": {},
     "outputs": [
      {
       "html": [
        "<div style=\"max-height:1000px;max-width:1500px;overflow:auto;\">\n",
        "<table border=\"1\" class=\"dataframe\">\n",
        "  <thead>\n",
        "    <tr style=\"text-align: right;\">\n",
        "      <th></th>\n",
        "      <th></th>\n",
        "      <th>LR</th>\n",
        "      <th>feature_p</th>\n",
        "      <th>fmla</th>\n",
        "      <th>hazzard</th>\n",
        "      <th>q_bonf</th>\n",
        "      <th>q_bh</th>\n",
        "    </tr>\n",
        "  </thead>\n",
        "  <tbody>\n",
        "    <tr>\n",
        "      <th rowspan=\"2\" valign=\"top\">clinical</th>\n",
        "      <th>year</th>\n",
        "      <td> 2.16e-05</td>\n",
        "      <td> 1.40e-05</td>\n",
        "      <td> Surv(days, event) ~ feature + old\\n</td>\n",
        "      <td> 0.93</td>\n",
        "      <td> 3.46e-04</td>\n",
        "      <td> 3.46e-04</td>\n",
        "    </tr>\n",
        "    <tr>\n",
        "      <th>spread_inferred</th>\n",
        "      <td> 2.13e-04</td>\n",
        "      <td> 1.03e-04</td>\n",
        "      <td> Surv(days, event) ~ feature + old\\n</td>\n",
        "      <td> 2.14</td>\n",
        "      <td> 3.41e-03</td>\n",
        "      <td> 1.71e-03</td>\n",
        "    </tr>\n",
        "    <tr>\n",
        "      <th>mirna</th>\n",
        "      <th>binary_hsa-mir-3170</th>\n",
        "      <td> 7.87e-06</td>\n",
        "      <td> 1.37e-05</td>\n",
        "      <td> Surv(days, event) ~ feature + old\\n</td>\n",
        "      <td> 2.37</td>\n",
        "      <td> 2.22e-03</td>\n",
        "      <td> 2.22e-03</td>\n",
        "    </tr>\n",
        "    <tr>\n",
        "      <th rowspan=\"5\" valign=\"top\">clinical</th>\n",
        "      <th>drinker_inferred</th>\n",
        "      <td> 7.95e-04</td>\n",
        "      <td> 2.54e-03</td>\n",
        "      <td> Surv(days, event) ~ feature + old\\n</td>\n",
        "      <td> 2.37</td>\n",
        "      <td> 1.27e-02</td>\n",
        "      <td> 2.61e-03</td>\n",
        "    </tr>\n",
        "    <tr>\n",
        "      <th>smoker_inferred</th>\n",
        "      <td> 8.16e-04</td>\n",
        "      <td> 1.62e-03</td>\n",
        "      <td> Surv(days, event) ~ feature + old\\n</td>\n",
        "      <td> 2.05</td>\n",
        "      <td> 1.31e-02</td>\n",
        "      <td> 2.61e-03</td>\n",
        "    </tr>\n",
        "    <tr>\n",
        "      <th>spread</th>\n",
        "      <td> 5.26e-04</td>\n",
        "      <td>      NaN</td>\n",
        "      <td> Surv(days, event) ~ feature + old\\n</td>\n",
        "      <td>  NaN</td>\n",
        "      <td> 8.42e-03</td>\n",
        "      <td> 2.61e-03</td>\n",
        "    </tr>\n",
        "    <tr>\n",
        "      <th>smoker</th>\n",
        "      <td> 1.19e-03</td>\n",
        "      <td> 1.93e-03</td>\n",
        "      <td> Surv(days, event) ~ feature + old\\n</td>\n",
        "      <td> 2.54</td>\n",
        "      <td> 1.91e-02</td>\n",
        "      <td> 2.72e-03</td>\n",
        "    </tr>\n",
        "    <tr>\n",
        "      <th>lymph_status</th>\n",
        "      <td> 1.09e-03</td>\n",
        "      <td> 5.24e-04</td>\n",
        "      <td> Surv(days, event) ~ feature + old\\n</td>\n",
        "      <td> 2.09</td>\n",
        "      <td> 1.75e-02</td>\n",
        "      <td> 2.72e-03</td>\n",
        "    </tr>\n",
        "    <tr>\n",
        "      <th rowspan=\"2\" valign=\"top\">rna</th>\n",
        "      <th>BIOCARTA_BARR_MAPK_PATHWAY</th>\n",
        "      <td> 1.99e-05</td>\n",
        "      <td> 3.40e-05</td>\n",
        "      <td> Surv(days, event) ~ feature + old\\n</td>\n",
        "      <td> 0.65</td>\n",
        "      <td> 8.58e-03</td>\n",
        "      <td> 4.29e-03</td>\n",
        "    </tr>\n",
        "    <tr>\n",
        "      <th>BIOCARTA_BARRESTIN_SRC_PATHWAY</th>\n",
        "      <td> 1.45e-05</td>\n",
        "      <td> 2.94e-05</td>\n",
        "      <td> Surv(days, event) ~ feature + old\\n</td>\n",
        "      <td> 1.56</td>\n",
        "      <td> 6.25e-03</td>\n",
        "      <td> 4.29e-03</td>\n",
        "    </tr>\n",
        "  </tbody>\n",
        "</table>\n",
        "</div>"
       ],
       "output_type": "pyout",
       "prompt_number": 34,
       "text": [
        "                                               LR  feature_p                                 fmla  hazzard    q_bonf      q_bh\n",
        "clinical year                            2.16e-05   1.40e-05  Surv(days, event) ~ feature + old\\n     0.93  3.46e-04  3.46e-04\n",
        "         spread_inferred                 2.13e-04   1.03e-04  Surv(days, event) ~ feature + old\\n     2.14  3.41e-03  1.71e-03\n",
        "mirna    binary_hsa-mir-3170             7.87e-06   1.37e-05  Surv(days, event) ~ feature + old\\n     2.37  2.22e-03  2.22e-03\n",
        "clinical drinker_inferred                7.95e-04   2.54e-03  Surv(days, event) ~ feature + old\\n     2.37  1.27e-02  2.61e-03\n",
        "         smoker_inferred                 8.16e-04   1.62e-03  Surv(days, event) ~ feature + old\\n     2.05  1.31e-02  2.61e-03\n",
        "         spread                          5.26e-04        NaN  Surv(days, event) ~ feature + old\\n      NaN  8.42e-03  2.61e-03\n",
        "         smoker                          1.19e-03   1.93e-03  Surv(days, event) ~ feature + old\\n     2.54  1.91e-02  2.72e-03\n",
        "         lymph_status                    1.09e-03   5.24e-04  Surv(days, event) ~ feature + old\\n     2.09  1.75e-02  2.72e-03\n",
        "rna      BIOCARTA_BARR_MAPK_PATHWAY      1.99e-05   3.40e-05  Surv(days, event) ~ feature + old\\n     0.65  8.58e-03  4.29e-03\n",
        "         BIOCARTA_BARRESTIN_SRC_PATHWAY  1.45e-05   2.94e-05  Surv(days, event) ~ feature + old\\n     1.56  6.25e-03  4.29e-03"
       ]
      }
     ],
     "prompt_number": 34
    },
    {
     "cell_type": "code",
     "collapsed": false,
     "input": [
      "feature_age.ix['mutation'].sort('LR').head(20)"
     ],
     "language": "python",
     "metadata": {},
     "outputs": [
      {
       "html": [
        "<div style=\"max-height:1000px;max-width:1500px;overflow:auto;\">\n",
        "<table border=\"1\" class=\"dataframe\">\n",
        "  <thead>\n",
        "    <tr style=\"text-align: right;\">\n",
        "      <th></th>\n",
        "      <th>LR</th>\n",
        "      <th>feature_p</th>\n",
        "      <th>fmla</th>\n",
        "      <th>hazzard</th>\n",
        "      <th>q_bonf</th>\n",
        "      <th>q_bh</th>\n",
        "    </tr>\n",
        "  </thead>\n",
        "  <tbody>\n",
        "    <tr>\n",
        "      <th>TP53</th>\n",
        "      <td> 3.71e-04</td>\n",
        "      <td> 1.63e-03</td>\n",
        "      <td> Surv(days, event) ~ feature + old\\n</td>\n",
        "      <td> 2.62</td>\n",
        "      <td> 0.31</td>\n",
        "      <td> 0.19</td>\n",
        "    </tr>\n",
        "    <tr>\n",
        "      <th>MUC5B</th>\n",
        "      <td> 4.45e-04</td>\n",
        "      <td> 6.53e-05</td>\n",
        "      <td> Surv(days, event) ~ feature + old\\n</td>\n",
        "      <td> 3.10</td>\n",
        "      <td> 0.37</td>\n",
        "      <td> 0.19</td>\n",
        "    </tr>\n",
        "  </tbody>\n",
        "</table>\n",
        "</div>"
       ],
       "output_type": "pyout",
       "prompt_number": 35,
       "text": [
        "             LR  feature_p                                 fmla  hazzard  q_bonf  q_bh\n",
        "TP53   3.71e-04   1.63e-03  Surv(days, event) ~ feature + old\\n     2.62    0.31  0.19\n",
        "MUC5B  4.45e-04   6.53e-05  Surv(days, event) ~ feature + old\\n     3.10    0.37  0.19"
       ]
      }
     ],
     "prompt_number": 35
    },
    {
     "cell_type": "code",
     "collapsed": false,
     "input": [
      "feature_age.ix['deletion'].sort('LR').head()"
     ],
     "language": "python",
     "metadata": {},
     "outputs": [
      {
       "html": [
        "<div style=\"max-height:1000px;max-width:1500px;overflow:auto;\">\n",
        "<table border=\"1\" class=\"dataframe\">\n",
        "  <thead>\n",
        "    <tr style=\"text-align: right;\">\n",
        "      <th></th>\n",
        "      <th>LR</th>\n",
        "      <th>feature_p</th>\n",
        "      <th>fmla</th>\n",
        "      <th>hazzard</th>\n",
        "      <th>q_bonf</th>\n",
        "      <th>q_bh</th>\n",
        "    </tr>\n",
        "  </thead>\n",
        "  <tbody>\n",
        "    <tr>\n",
        "      <th>3p14.2</th>\n",
        "      <td> 4.69e-04</td>\n",
        "      <td> 0.00</td>\n",
        "      <td> Surv(days, event) ~ feature + old\\n</td>\n",
        "      <td> 2.54</td>\n",
        "      <td> 0.02</td>\n",
        "      <td> 0.02</td>\n",
        "    </tr>\n",
        "    <tr>\n",
        "      <th>3p25.3</th>\n",
        "      <td> 1.41e-03</td>\n",
        "      <td> 0.00</td>\n",
        "      <td> Surv(days, event) ~ feature + old\\n</td>\n",
        "      <td> 2.25</td>\n",
        "      <td> 0.06</td>\n",
        "      <td> 0.03</td>\n",
        "    </tr>\n",
        "    <tr>\n",
        "      <th>3p12.2</th>\n",
        "      <td> 2.70e-03</td>\n",
        "      <td> 0.01</td>\n",
        "      <td> Surv(days, event) ~ feature + old\\n</td>\n",
        "      <td> 2.06</td>\n",
        "      <td> 0.12</td>\n",
        "      <td> 0.04</td>\n",
        "    </tr>\n",
        "    <tr>\n",
        "      <th>11q14.1</th>\n",
        "      <td> 4.02e-03</td>\n",
        "      <td> 0.00</td>\n",
        "      <td> Surv(days, event) ~ feature + old\\n</td>\n",
        "      <td> 1.80</td>\n",
        "      <td> 0.18</td>\n",
        "      <td> 0.04</td>\n",
        "    </tr>\n",
        "    <tr>\n",
        "      <th>11p15.4</th>\n",
        "      <td> 9.35e-03</td>\n",
        "      <td> 0.01</td>\n",
        "      <td> Surv(days, event) ~ feature + old\\n</td>\n",
        "      <td> 1.68</td>\n",
        "      <td> 0.41</td>\n",
        "      <td> 0.08</td>\n",
        "    </tr>\n",
        "  </tbody>\n",
        "</table>\n",
        "</div>"
       ],
       "output_type": "pyout",
       "prompt_number": 36,
       "text": [
        "               LR  feature_p                                 fmla  hazzard  q_bonf  q_bh\n",
        "3p14.2   4.69e-04       0.00  Surv(days, event) ~ feature + old\\n     2.54    0.02  0.02\n",
        "3p25.3   1.41e-03       0.00  Surv(days, event) ~ feature + old\\n     2.25    0.06  0.03\n",
        "3p12.2   2.70e-03       0.01  Surv(days, event) ~ feature + old\\n     2.06    0.12  0.04\n",
        "11q14.1  4.02e-03       0.00  Surv(days, event) ~ feature + old\\n     1.80    0.18  0.04\n",
        "11p15.4  9.35e-03       0.01  Surv(days, event) ~ feature + old\\n     1.68    0.41  0.08"
       ]
      }
     ],
     "prompt_number": 36
    },
    {
     "cell_type": "code",
     "collapsed": false,
     "input": [
      "def test(s, cov_df):\n",
      "    s = s.dropna()\n",
      "    try:\n",
      "        s = s.astype(float)\n",
      "    except:\n",
      "        pass\n",
      "    return get_cox_ph_ms(surv, s, cov_df, return_val='LR', interactions=False);"
     ],
     "language": "python",
     "metadata": {},
     "outputs": [],
     "prompt_number": 37
    },
    {
     "cell_type": "code",
     "collapsed": false,
     "input": [
      "cov_df = [age, old, rna.global_vars.pc1, rna.global_vars.pc2, rna.global_vars.background]"
     ],
     "language": "python",
     "metadata": {},
     "outputs": [],
     "prompt_number": 38
    },
    {
     "cell_type": "code",
     "collapsed": false,
     "input": [
      "cov_df = [age, old, rna.global_vars.pc1, rna.global_vars.pc2, rna.global_vars.background]\n",
      "rna_res = df.ix['rna'].apply(test, args=(cov_df,), axis=1)"
     ],
     "language": "python",
     "metadata": {},
     "outputs": [],
     "prompt_number": 39
    },
    {
     "cell_type": "code",
     "collapsed": false,
     "input": [
      "rna_res.sort('LR').head()"
     ],
     "language": "python",
     "metadata": {},
     "outputs": [
      {
       "html": [
        "<div style=\"max-height:1000px;max-width:1500px;overflow:auto;\">\n",
        "<table border=\"1\" class=\"dataframe\">\n",
        "  <thead>\n",
        "    <tr style=\"text-align: right;\">\n",
        "      <th></th>\n",
        "      <th>LR</th>\n",
        "      <th>feature_p</th>\n",
        "      <th>fmla</th>\n",
        "      <th>hazzard</th>\n",
        "    </tr>\n",
        "  </thead>\n",
        "  <tbody>\n",
        "    <tr>\n",
        "      <th>REACTOME_PHOSPHORYLATION_OF_THE_APC</th>\n",
        "      <td> 4.76e-05</td>\n",
        "      <td> 9.93e-05</td>\n",
        "      <td> Surv(days, event) ~ feature + old + pc1 + back...</td>\n",
        "      <td> 1.52</td>\n",
        "    </tr>\n",
        "    <tr>\n",
        "      <th>REACTOME_INACTIVATION_OF_APC_VIA_DIRECT_INHIBITION_OF_THE_APCOMPLEX</th>\n",
        "      <td> 4.93e-05</td>\n",
        "      <td> 8.46e-05</td>\n",
        "      <td> Surv(days, event) ~ feature + old + pc1 + back...</td>\n",
        "      <td> 1.53</td>\n",
        "    </tr>\n",
        "    <tr>\n",
        "      <th>BIOCARTA_BARRESTIN_SRC_PATHWAY</th>\n",
        "      <td> 7.27e-05</td>\n",
        "      <td> 2.94e-05</td>\n",
        "      <td>               Surv(days, event) ~ feature + old\\n</td>\n",
        "      <td> 1.56</td>\n",
        "    </tr>\n",
        "    <tr>\n",
        "      <th>REACTOME_APCDC20_MEDIATED_DEGRADATION_OF_CYCLIN_B</th>\n",
        "      <td> 9.16e-05</td>\n",
        "      <td> 1.51e-04</td>\n",
        "      <td> Surv(days, event) ~ feature + old + pc1 + back...</td>\n",
        "      <td> 1.49</td>\n",
        "    </tr>\n",
        "    <tr>\n",
        "      <th>BIOCARTA_BARR_MAPK_PATHWAY</th>\n",
        "      <td> 1.00e-04</td>\n",
        "      <td> 3.40e-05</td>\n",
        "      <td>               Surv(days, event) ~ feature + old\\n</td>\n",
        "      <td> 0.65</td>\n",
        "    </tr>\n",
        "  </tbody>\n",
        "</table>\n",
        "</div>"
       ],
       "output_type": "pyout",
       "prompt_number": 43,
       "text": [
        "                                                                           LR  feature_p                                               fmla  hazzard\n",
        "REACTOME_PHOSPHORYLATION_OF_THE_APC                                  4.76e-05   9.93e-05  Surv(days, event) ~ feature + old + pc1 + back...     1.52\n",
        "REACTOME_INACTIVATION_OF_APC_VIA_DIRECT_INHIBITION_OF_THE_APCOMPLEX  4.93e-05   8.46e-05  Surv(days, event) ~ feature + old + pc1 + back...     1.53\n",
        "BIOCARTA_BARRESTIN_SRC_PATHWAY                                       7.27e-05   2.94e-05                Surv(days, event) ~ feature + old\\n     1.56\n",
        "REACTOME_APCDC20_MEDIATED_DEGRADATION_OF_CYCLIN_B                    9.16e-05   1.51e-04  Surv(days, event) ~ feature + old + pc1 + back...     1.49\n",
        "BIOCARTA_BARR_MAPK_PATHWAY                                           1.00e-04   3.40e-05                Surv(days, event) ~ feature + old\\n     0.65"
       ]
      }
     ],
     "prompt_number": 43
    },
    {
     "cell_type": "code",
     "collapsed": false,
     "input": [
      "test(rna.pathways.ix['REACTOME_PHOSPHORYLATION_OF_THE_APC'], cov_df)"
     ],
     "language": "python",
     "metadata": {},
     "outputs": [
      {
       "output_type": "pyout",
       "prompt_number": 44,
       "text": [
        "LR                                                    4.76e-05\n",
        "feature_p                                             9.93e-05\n",
        "fmla         Surv(days, event) ~ feature + old + pc1 + back...\n",
        "hazzard                                                   1.52\n",
        "dtype: object"
       ]
      }
     ],
     "prompt_number": 44
    },
    {
     "cell_type": "code",
     "collapsed": false,
     "input": [
      "spread_inferred = clinical_df.spread_inferred"
     ],
     "language": "python",
     "metadata": {},
     "outputs": [],
     "prompt_number": 46
    },
    {
     "cell_type": "code",
     "collapsed": false,
     "input": [
      "screen_feature(spread_inferred, kruskal_pandas, global_df.T).head()"
     ],
     "language": "python",
     "metadata": {},
     "outputs": [
      {
       "html": [
        "<div style=\"max-height:1000px;max-width:1500px;overflow:auto;\">\n",
        "<table border=\"1\" class=\"dataframe\">\n",
        "  <thead>\n",
        "    <tr style=\"text-align: right;\">\n",
        "      <th></th>\n",
        "      <th>H</th>\n",
        "      <th>p</th>\n",
        "      <th>q</th>\n",
        "    </tr>\n",
        "  </thead>\n",
        "  <tbody>\n",
        "    <tr>\n",
        "      <th>rna_filtered_pc2</th>\n",
        "      <td> 20.80</td>\n",
        "      <td> 5.10e-06</td>\n",
        "      <td> 1.89e-04</td>\n",
        "    </tr>\n",
        "    <tr>\n",
        "      <th>rna_pathway_pc1</th>\n",
        "      <td> 12.48</td>\n",
        "      <td> 4.11e-04</td>\n",
        "      <td> 7.61e-03</td>\n",
        "    </tr>\n",
        "    <tr>\n",
        "      <th>cna_gene_amp_high</th>\n",
        "      <td>  9.33</td>\n",
        "      <td> 2.25e-03</td>\n",
        "      <td> 2.77e-02</td>\n",
        "    </tr>\n",
        "    <tr>\n",
        "      <th>mirna_filtered_pc1</th>\n",
        "      <td>  8.18</td>\n",
        "      <td> 4.25e-03</td>\n",
        "      <td> 3.93e-02</td>\n",
        "    </tr>\n",
        "    <tr>\n",
        "      <th>cna_lesion_amp_high</th>\n",
        "      <td>  4.70</td>\n",
        "      <td> 3.01e-02</td>\n",
        "      <td> 1.96e-01</td>\n",
        "    </tr>\n",
        "  </tbody>\n",
        "</table>\n",
        "</div>"
       ],
       "output_type": "pyout",
       "prompt_number": 63,
       "text": [
        "                         H         p         q\n",
        "rna_filtered_pc2     20.80  5.10e-06  1.89e-04\n",
        "rna_pathway_pc1      12.48  4.11e-04  7.61e-03\n",
        "cna_gene_amp_high     9.33  2.25e-03  2.77e-02\n",
        "mirna_filtered_pc1    8.18  4.25e-03  3.93e-02\n",
        "cna_lesion_amp_high   4.70  3.01e-02  1.96e-01"
       ]
      }
     ],
     "prompt_number": 63
    },
    {
     "cell_type": "code",
     "collapsed": false,
     "input": [
      "fisher_exact_test(mut.features.ix['TP53']==1, del_df['3p14.2']==1)"
     ],
     "language": "python",
     "metadata": {},
     "outputs": [
      {
       "output_type": "pyout",
       "prompt_number": 71,
       "text": [
        "odds_ratio    8.06e+00\n",
        "p             4.24e-09\n",
        "dtype: float64"
       ]
      }
     ],
     "prompt_number": 71
    },
    {
     "cell_type": "code",
     "collapsed": false,
     "input": [
      "combo = combine(mut.features.ix['TP53']==1, del_df['3p14.2']==1)\n",
      "two_hit = combo == 'both'"
     ],
     "language": "python",
     "metadata": {},
     "outputs": [],
     "prompt_number": 64
    },
    {
     "cell_type": "code",
     "collapsed": false,
     "input": [
      "test(two_hit, [age, old, global_vars.mutation.rate_non])"
     ],
     "language": "python",
     "metadata": {},
     "outputs": [
      {
       "output_type": "pyout",
       "prompt_number": 68,
       "text": [
        "LR                                      5.18e-06\n",
        "feature_p                               4.14e-05\n",
        "fmla         Surv(days, event) ~ feature + old\\n\n",
        "hazzard                                      2.9\n",
        "dtype: object"
       ]
      }
     ],
     "prompt_number": 68
    },
    {
     "cell_type": "code",
     "collapsed": false,
     "input": [
      "draw_survival_curves(combo=='both', surv, show=True, ann='p')"
     ],
     "language": "python",
     "metadata": {},
     "outputs": [
      {
       "html": [
        "<img src='data:image/png;base64,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'>"
       ],
       "output_type": "pyout",
       "prompt_number": 72,
       "text": [
        "<Reports.NotebookTools.Show at 0x859ef10>"
       ]
      }
     ],
     "prompt_number": 72
    },
    {
     "cell_type": "code",
     "collapsed": false,
     "input": [
      "fisher_exact_test(two_hit, spread_inferred)"
     ],
     "language": "python",
     "metadata": {},
     "outputs": [
      {
       "output_type": "pyout",
       "prompt_number": 73,
       "text": [
        "odds_ratio    3.1\n",
        "p             0.0\n",
        "dtype: float64"
       ]
      }
     ],
     "prompt_number": 73
    }
   ],
   "metadata": {}
  }
 ]
}