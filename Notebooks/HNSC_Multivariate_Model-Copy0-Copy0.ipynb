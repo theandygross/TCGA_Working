{
 "metadata": {
  "name": ""
 },
 "nbformat": 3,
 "nbformat_minor": 0,
 "worksheets": [
  {
   "cells": [
    {
     "cell_type": "markdown",
     "metadata": {},
     "source": [
      "#HNSC Multivariate Screen  \n",
      "\n",
      "This is a screen for survival associated features.  "
     ]
    },
    {
     "cell_type": "code",
     "collapsed": false,
     "input": [
      "cd ../src"
     ],
     "language": "python",
     "metadata": {},
     "outputs": [
      {
       "output_type": "stream",
       "stream": "stdout",
       "text": [
        "/cellar/users/agross/TCGA_Code/TCGA/Pathway_Merge/src\n"
       ]
      }
     ],
     "prompt_number": 1
    },
    {
     "cell_type": "code",
     "collapsed": false,
     "input": [
      "from Processing.Imports import *"
     ],
     "language": "python",
     "metadata": {},
     "outputs": [],
     "prompt_number": 2
    },
    {
     "cell_type": "markdown",
     "metadata": {},
     "source": [
      "##Read in Data"
     ]
    },
    {
     "cell_type": "code",
     "collapsed": false,
     "input": [
      "run = get_run('/cellar/data/TCGA/Firehose__2013_04_21/', 'Run_all')\n",
      "\n",
      "cancer = run.load_cancer('HNSC')\n",
      "clinical = cancer.load_clinical()\n",
      "global_vars = cancer.load_global_vars()\n",
      "\n",
      "mut = cancer.load_data('Mutation')\n",
      "mut.uncompress()\n",
      "meth = cancer.load_data('Methylation')\n",
      "cn = cancer.load_data('CN_broad')\n",
      "cn.uncompress()\n",
      "rna = cancer.load_data('mRNASeq')\n",
      "rppa  = cancer.load_data('RPPA')\n",
      "mirna = cancer.load_data('miRNASeq')\n",
      "age = clinical.clinical.age.astype(float)\n",
      "\n",
      "hpv_all = pd.read_csv('/cellar/users/agross/hpv_summary_3_20_13_distribute.csv', index_col=0)\n",
      "hpv = hpv_all.Molecular_HPV.map({0:'HPV-', 1:'HPV+'})\n",
      "hpv.name = 'HPV'"
     ],
     "language": "python",
     "metadata": {},
     "outputs": [],
     "prompt_number": 3
    },
    {
     "cell_type": "code",
     "collapsed": false,
     "input": [
      "from Data.ProcessClinical import format_survival_from_data_portal\n",
      "path  = '/cellar/users/agross/Data/TCGA/HNSC_Followup/'\n",
      "survival, timeline = format_survival_from_data_portal(path, cancer.name)\n",
      "clinical.survival = survival\n",
      "clinical.artificially_censor(5)\n",
      "age = timeline.age"
     ],
     "language": "python",
     "metadata": {},
     "outputs": [],
     "prompt_number": 4
    },
    {
     "cell_type": "code",
     "collapsed": false,
     "input": [
      "filters = pd.concat([age>=100, hpv=='HPV+'], axis=1)\n",
      "clinical_filter = filters.sum(1) == 0\n",
      "keepers_o = true_index(clinical_filter)"
     ],
     "language": "python",
     "metadata": {},
     "outputs": [],
     "prompt_number": 9
    },
    {
     "cell_type": "markdown",
     "metadata": {},
     "source": [
      "##Clinical Features"
     ]
    },
    {
     "cell_type": "code",
     "collapsed": false,
     "input": [
      "stage = clinical.clinical.tumorstage.ix[keepers_o].fillna('nx')\n",
      "stage = stage.dropna().map(lambda s: s.replace('a','').replace('b',''))\n",
      "\n",
      "lymph_stage = clinical.clinical.lymphnodepathologicspread.ix[keepers_o]\n",
      "lymph_stage = lymph_stage.replace('nx', nan).dropna().map(lambda s: s[:2])\n",
      "\n",
      "age = age\n",
      "old_age = (age >= 75).map({True: 'Age > 75', False: 'Age < 75'})\n",
      "pack_years = py = clinical.clinical.numberpackyearssmoked.dropna().astype(float)\n",
      "\n",
      "group = [['oral tongue','oral cavity','floor of mouth','buccal mucosa','alveolar ridge','hard palate','lip'],\n",
      "         ['oropharynx','tonsil','base of tongue'],\n",
      "         #['hypopharynx'],\n",
      "         ['larynx']]\n",
      "groups = ['oral cavity','oropharynx','larynx']\n",
      "tumor_subdivision = pd.Series({idx: groups[i] for i,g in enumerate(group) for idx,j in \n",
      "                               clinical.clinical.neoplasmanatomicsubdivision.iteritems() if j in g})\n",
      "\n",
      "invasion = clinical.clinical.perineuralinvasionpresent.replace('nan', nan)\n",
      "invasion = invasion.fillna('Missing')\n",
      "\n",
      "spread = clinical.clinical.presenceofpathologicalnodalextracapsularspread\n",
      "spread = spread.map({'no extranodal extension': 'no', 'microscopic extension':'yes', \n",
      "                     'gross extension':'yes'}).dropna()\n",
      "\n",
      "year = clinical.clinical.yearofinitialpathologicdiagnosis\n",
      "year = year.replace('[Discrepancy]', nan).astype(float)\n",
      "\n",
      "lymph = lymph_stage.ix[keepers_o] != 'n0'\n",
      "lymph_status = combine(lymph, spread.ix[keepers_o]=='yes')\n",
      "lymph_status = lymph_status.map({'neither': 'n0', lymph.name: 'lymph_node', 'both': 'extra_capsular_spread'})\n",
      "lymph_status = (lymph_status == 'extra_capsular_spread').astype(float)"
     ],
     "language": "python",
     "metadata": {},
     "outputs": [],
     "prompt_number": 10
    },
    {
     "cell_type": "code",
     "collapsed": false,
     "input": [
      "diff = screen_feature(spread, fisher_exact_test, rna.features.ix['binary'])\n",
      "dd = diff[diff.p < .01]\n",
      "\n",
      "vec = (2.*(dd.odds_ratio > 1) - 1)\n",
      "loading = vec.dot(1.*(rna.df.xs('01',1,1).ix[vec.index] > -1))\n",
      "\n",
      "ratio = loading.groupby(spread).apply(pd.value_counts).unstack().fillna(0)\n",
      "prob = ratio.T.cumsum() / ratio.sum(1)\n",
      "cutoff = min(true_index((prob.yes > .5)))\n",
      "\n",
      "f = spread.copy() == 'yes'\n",
      "f = f.ix[loading.index]\n",
      "f[f.isnull()] = loading[f.isnull()] >= cutoff\n",
      "spread_inferred = f.ix[keepers_o].fillna(False).astype(float)"
     ],
     "language": "python",
     "metadata": {},
     "outputs": [],
     "prompt_number": 11
    },
    {
     "cell_type": "code",
     "collapsed": false,
     "input": [
      "clinical_df = pd.concat([stage, lymph_stage, age, old_age, pack_years,\n",
      "                         tumor_subdivision, invasion, lymph_status, spread_inferred],\n",
      "                        keys = ['stage', 'lymph_stage', 'age', 'old_age', 'pack_years',\n",
      "                         'tumor_subdivision', 'invasion', 'lymph_status', 'spread_inferred'],\n",
      "                        axis=1)"
     ],
     "language": "python",
     "metadata": {},
     "outputs": [],
     "prompt_number": 12
    },
    {
     "cell_type": "code",
     "collapsed": false,
     "input": [
      "combo = combine(cn.df.ix['Deletion'].ix['3p14.2'].ix[0]<0, mut.features.ix['TP53'])\n",
      "two_hit = 1.*(combo == 'both')"
     ],
     "language": "python",
     "metadata": {},
     "outputs": [],
     "prompt_number": 13
    },
    {
     "cell_type": "code",
     "collapsed": false,
     "input": [
      "filters = pd.concat([age>=100, hpv=='HPV+', two_hit==0, mut.features.ix['MUC5B']==1], axis=1)\n",
      "clinical_filter = filters.sum(1) == 0\n",
      "keepers_o = true_index(clinical_filter)"
     ],
     "language": "python",
     "metadata": {},
     "outputs": [],
     "prompt_number": 14
    },
    {
     "cell_type": "code",
     "collapsed": false,
     "input": [
      "filters = pd.concat([age>=85, hpv=='HPV+', two_hit==0, mut.features.ix['MUC5B']==1], axis=1)\n",
      "clinical_filter = filters.sum(1) == 0\n",
      "keepers = true_index(clinical_filter)"
     ],
     "language": "python",
     "metadata": {},
     "outputs": [],
     "prompt_number": 15
    },
    {
     "cell_type": "code",
     "collapsed": false,
     "input": [
      "surv = clinical.survival.survival_5y\n",
      "old = pd.Series(1.*(age>=75), name='old')"
     ],
     "language": "python",
     "metadata": {},
     "outputs": [],
     "prompt_number": 16
    },
    {
     "cell_type": "markdown",
     "metadata": {},
     "source": [
      "####Form expression and methylation features without HPV  \n",
      "* HPV has a big influence on expression, here I am creating a second set of features without HPV\n",
      "* I use this sparingly but it helps to tease out wheter an association is due to a underlying relationship with HPV"
     ]
    },
    {
     "cell_type": "code",
     "collapsed": false,
     "input": [
      "from Stats.Survival import cox"
     ],
     "language": "python",
     "metadata": {},
     "outputs": [],
     "prompt_number": 18
    },
    {
     "cell_type": "code",
     "collapsed": true,
     "input": [
      "from Initialization.InitializeReal import RealDataset\n",
      "rna = RealDataset(run, cancer, 'mRNASeq', keepers_o)\n",
      "meth = RealDataset(run, cancer, 'Methylation', keepers_o)\n",
      "mirna = RealDataset(run, cancer, 'miRNASeq', keepers_o, create_meta_features=False)"
     ],
     "language": "python",
     "metadata": {},
     "outputs": [],
     "prompt_number": 23
    },
    {
     "cell_type": "code",
     "collapsed": false,
     "input": [
      "lr = clinical_df.ix[keepers_o].apply(cox, args=(surv,)).T"
     ],
     "language": "python",
     "metadata": {},
     "outputs": [],
     "prompt_number": 24
    },
    {
     "cell_type": "code",
     "collapsed": false,
     "input": [
      "cov_df = pd.concat([age, old], axis=1)\n",
      "test = lambda s: get_cox_ph_ms(surv, s.dropna(), cov_df, return_val='LR', interactions=False);"
     ],
     "language": "python",
     "metadata": {},
     "outputs": [],
     "prompt_number": 25
    },
    {
     "cell_type": "code",
     "collapsed": false,
     "input": [
      "clinical_df.ix[keepers_o].apply(test).T.sort('LR')"
     ],
     "language": "python",
     "metadata": {},
     "outputs": [
      {
       "html": [
        "<div style=\"max-height:1000px;max-width:1500px;overflow:auto;\">\n",
        "<table border=\"1\" class=\"dataframe\">\n",
        "  <thead>\n",
        "    <tr style=\"text-align: right;\">\n",
        "      <th></th>\n",
        "      <th>LR</th>\n",
        "      <th>feature_p</th>\n",
        "      <th>fmla</th>\n",
        "      <th>hazzard</th>\n",
        "    </tr>\n",
        "  </thead>\n",
        "  <tbody>\n",
        "    <tr>\n",
        "      <th>spread_inferred</th>\n",
        "      <td> 0.00258</td>\n",
        "      <td> 0.000811</td>\n",
        "      <td> Surv(days, event) ~ feature + old\\n</td>\n",
        "      <td> 2.18</td>\n",
        "    </tr>\n",
        "    <tr>\n",
        "      <th>lymph_status</th>\n",
        "      <td>  0.0704</td>\n",
        "      <td>   0.0615</td>\n",
        "      <td>       Surv(days, event) ~ feature\\n</td>\n",
        "      <td> 1.56</td>\n",
        "    </tr>\n",
        "    <tr>\n",
        "      <th>stage</th>\n",
        "      <td>       1</td>\n",
        "      <td>      NaN</td>\n",
        "      <td>             Surv(days, event) ~ 1\\n</td>\n",
        "      <td>  NaN</td>\n",
        "    </tr>\n",
        "    <tr>\n",
        "      <th>lymph_stage</th>\n",
        "      <td>       1</td>\n",
        "      <td>      NaN</td>\n",
        "      <td>             Surv(days, event) ~ 1\\n</td>\n",
        "      <td>  NaN</td>\n",
        "    </tr>\n",
        "    <tr>\n",
        "      <th>age</th>\n",
        "      <td>       1</td>\n",
        "      <td>      NaN</td>\n",
        "      <td>             Surv(days, event) ~ 1\\n</td>\n",
        "      <td>  NaN</td>\n",
        "    </tr>\n",
        "    <tr>\n",
        "      <th>old_age</th>\n",
        "      <td>       1</td>\n",
        "      <td>      NaN</td>\n",
        "      <td>             Surv(days, event) ~ 1\\n</td>\n",
        "      <td>  NaN</td>\n",
        "    </tr>\n",
        "    <tr>\n",
        "      <th>pack_years</th>\n",
        "      <td>       1</td>\n",
        "      <td>      NaN</td>\n",
        "      <td>             Surv(days, event) ~ 1\\n</td>\n",
        "      <td>  NaN</td>\n",
        "    </tr>\n",
        "    <tr>\n",
        "      <th>tumor_subdivision</th>\n",
        "      <td>       1</td>\n",
        "      <td>      NaN</td>\n",
        "      <td>             Surv(days, event) ~ 1\\n</td>\n",
        "      <td>  NaN</td>\n",
        "    </tr>\n",
        "    <tr>\n",
        "      <th>invasion</th>\n",
        "      <td>       1</td>\n",
        "      <td>      NaN</td>\n",
        "      <td>             Surv(days, event) ~ 1\\n</td>\n",
        "      <td>  NaN</td>\n",
        "    </tr>\n",
        "  </tbody>\n",
        "</table>\n",
        "</div>"
       ],
       "metadata": {},
       "output_type": "pyout",
       "prompt_number": 26,
       "text": [
        "                        LR feature_p                                 fmla hazzard\n",
        "spread_inferred    0.00258  0.000811  Surv(days, event) ~ feature + old\\n    2.18\n",
        "lymph_status        0.0704    0.0615        Surv(days, event) ~ feature\\n    1.56\n",
        "stage                    1       NaN              Surv(days, event) ~ 1\\n     NaN\n",
        "lymph_stage              1       NaN              Surv(days, event) ~ 1\\n     NaN\n",
        "age                      1       NaN              Surv(days, event) ~ 1\\n     NaN\n",
        "old_age                  1       NaN              Surv(days, event) ~ 1\\n     NaN\n",
        "pack_years               1       NaN              Surv(days, event) ~ 1\\n     NaN\n",
        "tumor_subdivision        1       NaN              Surv(days, event) ~ 1\\n     NaN\n",
        "invasion                 1       NaN              Surv(days, event) ~ 1\\n     NaN"
       ]
      }
     ],
     "prompt_number": 26
    },
    {
     "cell_type": "code",
     "collapsed": false,
     "input": [
      "draw_survival_curves(spread_inferred.ix[keepers],\n",
      "                     surv, old, show=True, ann='p')"
     ],
     "language": "python",
     "metadata": {},
     "outputs": [
      {
       "html": [
        "<img src='data:image/png;base64,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'>"
       ],
       "metadata": {},
       "output_type": "pyout",
       "prompt_number": 93,
       "text": [
        "<Reports.NotebookTools.Show at 0x75fa5d0>"
       ]
      }
     ],
     "prompt_number": 93
    },
    {
     "cell_type": "code",
     "collapsed": false,
     "input": [
      "gv = pd.concat([global_vars['mutation'], global_vars['cna'], rna.global_vars, meth.global_vars, mirna.global_vars], \n",
      "                keys=['mutation', 'cna', 'rna', 'methylation', 'mirna'], axis=1)\n",
      "gv = gv.ix[keepers_o]"
     ],
     "language": "python",
     "metadata": {},
     "outputs": [],
     "prompt_number": 27
    },
    {
     "cell_type": "code",
     "collapsed": false,
     "input": [
      "cox_screen(gv.T, surv).head()"
     ],
     "language": "python",
     "metadata": {},
     "outputs": [
      {
       "html": [
        "<div style=\"max-height:1000px;max-width:1500px;overflow:auto;\">\n",
        "<table border=\"1\" class=\"dataframe\">\n",
        "  <thead>\n",
        "    <tr style=\"text-align: right;\">\n",
        "      <th></th>\n",
        "      <th></th>\n",
        "      <th>LR</th>\n",
        "      <th>p</th>\n",
        "      <th>q</th>\n",
        "    </tr>\n",
        "  </thead>\n",
        "  <tbody>\n",
        "    <tr>\n",
        "      <th>mirna</th>\n",
        "      <th>filtered_pc1</th>\n",
        "      <td> 8.24</td>\n",
        "      <td> 0.00</td>\n",
        "      <td> 0.15</td>\n",
        "    </tr>\n",
        "    <tr>\n",
        "      <th rowspan=\"2\" valign=\"top\">rna</th>\n",
        "      <th>filtered_pc2</th>\n",
        "      <td> 5.74</td>\n",
        "      <td> 0.02</td>\n",
        "      <td> 0.31</td>\n",
        "    </tr>\n",
        "    <tr>\n",
        "      <th>pathway_pc1</th>\n",
        "      <td> 4.65</td>\n",
        "      <td> 0.03</td>\n",
        "      <td> 0.38</td>\n",
        "    </tr>\n",
        "    <tr>\n",
        "      <th rowspan=\"2\" valign=\"top\">mirna</th>\n",
        "      <th>background</th>\n",
        "      <td> 2.53</td>\n",
        "      <td> 0.11</td>\n",
        "      <td> 0.57</td>\n",
        "    </tr>\n",
        "    <tr>\n",
        "      <th>pc2</th>\n",
        "      <td> 2.45</td>\n",
        "      <td> 0.12</td>\n",
        "      <td> 0.57</td>\n",
        "    </tr>\n",
        "  </tbody>\n",
        "</table>\n",
        "</div>"
       ],
       "metadata": {},
       "output_type": "pyout",
       "prompt_number": 28,
       "text": [
        "                      LR     p     q\n",
        "mirna filtered_pc1  8.24  0.00  0.15\n",
        "rna   filtered_pc2  5.74  0.02  0.31\n",
        "      pathway_pc1   4.65  0.03  0.38\n",
        "mirna background    2.53  0.11  0.57\n",
        "      pc2           2.45  0.12  0.57"
       ]
      }
     ],
     "prompt_number": 28
    },
    {
     "cell_type": "markdown",
     "metadata": {},
     "source": [
      "#Run Mutation Data   \n",
      "\n",
      "###Filter based on mutation rate\n",
      "* We want to filter noisy features that are just artifacts of mutation rate.\n",
      "* The caveat is that we do not want to get rid of passengers that may still have information even though they are mutated at the baseline rate.\n",
      "* The current solution is to only get rid of features with more that half of the patients mutated that are also highly correlated with mutation rate.  We're assuming that the patients without mutations to these pathways are the ones with very low mutation rates such that the actuall genes in the pathway are irrelavant. "
     ]
    },
    {
     "cell_type": "code",
     "collapsed": false,
     "input": [
      "tt = lambda a,b: kruskal_pandas(b,a)\n",
      "def fc(hit_vec, response_vec):\n",
      "    f = response_vec.groupby(hit_vec).median()\n",
      "    return f[0] > f[1]"
     ],
     "language": "python",
     "metadata": {},
     "outputs": [],
     "prompt_number": 29
    },
    {
     "cell_type": "code",
     "collapsed": false,
     "input": [
      "rate = global_vars.mutation.rate_non\n",
      "cc = screen_feature(rate, tt, mut.features)"
     ],
     "language": "python",
     "metadata": {},
     "outputs": [],
     "prompt_number": 30
    },
    {
     "cell_type": "code",
     "collapsed": false,
     "input": [
      "fc_apply = lambda s: fc(s, rate)\n",
      "direction = mut.features.apply(fc_apply, axis=1)\n",
      "direction.name = 'direction'\n",
      "\n",
      "cc = cc.join(direction)\n",
      "cc = cc[cc.direction==False]"
     ],
     "language": "python",
     "metadata": {},
     "outputs": [],
     "prompt_number": 31
    },
    {
     "cell_type": "code",
     "collapsed": false,
     "input": [
      "cc.head()"
     ],
     "language": "python",
     "metadata": {},
     "outputs": [
      {
       "html": [
        "<div style=\"max-height:1000px;max-width:1500px;overflow:auto;\">\n",
        "<table border=\"1\" class=\"dataframe\">\n",
        "  <thead>\n",
        "    <tr style=\"text-align: right;\">\n",
        "      <th></th>\n",
        "      <th>H</th>\n",
        "      <th>p</th>\n",
        "      <th>q</th>\n",
        "      <th>direction</th>\n",
        "    </tr>\n",
        "  </thead>\n",
        "  <tbody>\n",
        "    <tr>\n",
        "      <th>REACTOME_METABOLISM_OF_CARBOHYDRATES</th>\n",
        "      <td> 87.26</td>\n",
        "      <td> 9.53e-21</td>\n",
        "      <td> 9.43e-18</td>\n",
        "      <td> False</td>\n",
        "    </tr>\n",
        "    <tr>\n",
        "      <th>REACTOME_NCAM1_INTERACTIONS</th>\n",
        "      <td> 73.17</td>\n",
        "      <td> 1.19e-17</td>\n",
        "      <td> 4.72e-15</td>\n",
        "      <td> False</td>\n",
        "    </tr>\n",
        "    <tr>\n",
        "      <th>REACTOME_ADHERENS_JUNCTIONS_INTERACTIONS</th>\n",
        "      <td> 72.81</td>\n",
        "      <td> 1.43e-17</td>\n",
        "      <td> 4.72e-15</td>\n",
        "      <td> False</td>\n",
        "    </tr>\n",
        "    <tr>\n",
        "      <th>KEGG_PHOSPHATIDYLINOSITOL_SIGNALING_SYSTEM</th>\n",
        "      <td> 70.12</td>\n",
        "      <td> 5.58e-17</td>\n",
        "      <td> 1.38e-14</td>\n",
        "      <td> False</td>\n",
        "    </tr>\n",
        "    <tr>\n",
        "      <th>KEGG_CARDIAC_MUSCLE_CONTRACTION</th>\n",
        "      <td> 69.07</td>\n",
        "      <td> 9.48e-17</td>\n",
        "      <td> 1.64e-14</td>\n",
        "      <td> False</td>\n",
        "    </tr>\n",
        "  </tbody>\n",
        "</table>\n",
        "</div>"
       ],
       "metadata": {},
       "output_type": "pyout",
       "prompt_number": 32,
       "text": [
        "                                                H         p         q direction\n",
        "REACTOME_METABOLISM_OF_CARBOHYDRATES        87.26  9.53e-21  9.43e-18     False\n",
        "REACTOME_NCAM1_INTERACTIONS                 73.17  1.19e-17  4.72e-15     False\n",
        "REACTOME_ADHERENS_JUNCTIONS_INTERACTIONS    72.81  1.43e-17  4.72e-15     False\n",
        "KEGG_PHOSPHATIDYLINOSITOL_SIGNALING_SYSTEM  70.12  5.58e-17  1.38e-14     False\n",
        "KEGG_CARDIAC_MUSCLE_CONTRACTION             69.07  9.48e-17  1.64e-14     False"
       ]
      }
     ],
     "prompt_number": 32
    },
    {
     "cell_type": "markdown",
     "metadata": {},
     "source": [
      "###Screen for survival associated features  \n",
      "* First pass is a log-rank tet on all features\n",
      "* Next we run the full model with covariates  \n",
      "* We use a combination of the two tests to filter down the candidate associations and pull out the top biomarkers\n",
      "* Here the log-rank test is really underpowered.  \n",
      "* The mutation-rate covariate helps a lot to explain away many of the patients who have very high mutation rates and good prognosis.\n",
      "* The age covariate often explains patients who are in a good-prognosis group but have bad outcomes.\n",
      "* The results of the full model are kind of hard to interperet and non-necessarily relavant as we get a lot of features that help to explain mutation rate effect, ect. and thus improve the model but we don't exactly know what to do with these things for now.   "
     ]
    },
    {
     "cell_type": "markdown",
     "metadata": {},
     "source": [
      "####First pass is a log-rank test on all features"
     ]
    },
    {
     "cell_type": "code",
     "collapsed": false,
     "input": [
      "surv = clinical.survival.survival_5y"
     ],
     "language": "python",
     "metadata": {},
     "outputs": [],
     "prompt_number": 33
    },
    {
     "cell_type": "code",
     "collapsed": false,
     "input": [
      "df = mut.features.ix[((cc.p>.00001) + (mut.features.sum(1) < (mut.features.shape[1] / 2.))) > 0]\n",
      "df = df.ix[:,keepers].dropna(axis=1)\n",
      "\n",
      "lr = df.apply(log_rank, args=(surv,), axis=1)\n",
      "lr['q'] = bhCorrection(lr.p)"
     ],
     "language": "python",
     "metadata": {},
     "outputs": [],
     "prompt_number": 34
    },
    {
     "cell_type": "code",
     "collapsed": false,
     "input": [
      "lr.sort('p').head()"
     ],
     "language": "python",
     "metadata": {},
     "outputs": [
      {
       "html": [
        "<div style=\"max-height:1000px;max-width:1500px;overflow:auto;\">\n",
        "<table border=\"1\" class=\"dataframe\">\n",
        "  <thead>\n",
        "    <tr style=\"text-align: right;\">\n",
        "      <th></th>\n",
        "      <th>chi2</th>\n",
        "      <th>p</th>\n",
        "      <th>q</th>\n",
        "    </tr>\n",
        "  </thead>\n",
        "  <tbody>\n",
        "    <tr>\n",
        "      <th>EPHA2</th>\n",
        "      <td> 12.90</td>\n",
        "      <td> 3.28e-04</td>\n",
        "      <td> 0.29</td>\n",
        "    </tr>\n",
        "    <tr>\n",
        "      <th>MYH13</th>\n",
        "      <td>  9.29</td>\n",
        "      <td> 2.31e-03</td>\n",
        "      <td> 0.99</td>\n",
        "    </tr>\n",
        "    <tr>\n",
        "      <th>KEGG_CYTOSOLIC_DNA_SENSING_PATHWAY</th>\n",
        "      <td>  7.39</td>\n",
        "      <td> 6.56e-03</td>\n",
        "      <td> 0.99</td>\n",
        "    </tr>\n",
        "    <tr>\n",
        "      <th>CACNA2D1</th>\n",
        "      <td>  6.68</td>\n",
        "      <td> 9.74e-03</td>\n",
        "      <td> 0.99</td>\n",
        "    </tr>\n",
        "    <tr>\n",
        "      <th>CELSR2</th>\n",
        "      <td>  6.53</td>\n",
        "      <td> 1.06e-02</td>\n",
        "      <td> 0.99</td>\n",
        "    </tr>\n",
        "  </tbody>\n",
        "</table>\n",
        "</div>"
       ],
       "metadata": {},
       "output_type": "pyout",
       "prompt_number": 35,
       "text": [
        "                                     chi2         p     q\n",
        "EPHA2                               12.90  3.28e-04  0.29\n",
        "MYH13                                9.29  2.31e-03  0.99\n",
        "KEGG_CYTOSOLIC_DNA_SENSING_PATHWAY   7.39  6.56e-03  0.99\n",
        "CACNA2D1                             6.68  9.74e-03  0.99\n",
        "CELSR2                               6.53  1.06e-02  0.99"
       ]
      }
     ],
     "prompt_number": 35
    },
    {
     "cell_type": "markdown",
     "metadata": {},
     "source": [
      "####Next we run the full screen"
     ]
    },
    {
     "cell_type": "code",
     "collapsed": false,
     "input": [
      "rate.hist()"
     ],
     "language": "python",
     "metadata": {},
     "outputs": [
      {
       "metadata": {},
       "output_type": "pyout",
       "prompt_number": 36,
       "text": [
        "<matplotlib.axes.AxesSubplot at 0x78d3f50>"
       ]
      },
      {
       "metadata": {},
       "output_type": "display_data",
       "png": "[encoded data removed]",
       "text": [
        "<matplotlib.figure.Figure at 0x10264810>"
       ]
      }
     ],
     "prompt_number": 36
    },
    {
     "cell_type": "code",
     "collapsed": false,
     "input": [
      "rate = global_vars[('mutation', 'rate_non')]\n",
      "rate = np.log2(rate)\n",
      "rate.name = 'rate'\n",
      "cov_df = pd.concat([age, rate, old], axis=1)\n",
      "test = lambda s: get_cox_ph_ms(surv, s, cov_df, return_val='LR', interactions=False);"
     ],
     "language": "python",
     "metadata": {},
     "outputs": [],
     "prompt_number": 37
    },
    {
     "cell_type": "code",
     "collapsed": false,
     "input": [
      "df = mut.features.ix[:,keepers_o].dropna(axis=1)\n",
      "df = df.ix[((cc.p>.00001) + (df.sum(1) < (df.shape[1] / 2.))) > 0]"
     ],
     "language": "python",
     "metadata": {},
     "outputs": [],
     "prompt_number": 38
    },
    {
     "cell_type": "code",
     "collapsed": false,
     "input": [
      "mut_res_t = df.apply(test, 1)\n",
      "mut_res_t['LR_q'] = bhCorrection(mut_res_t.LR)"
     ],
     "language": "python",
     "metadata": {},
     "outputs": [],
     "prompt_number": 39
    },
    {
     "cell_type": "code",
     "collapsed": false,
     "input": [
      "mut_res_t.sort('LR').head()"
     ],
     "language": "python",
     "metadata": {},
     "outputs": [
      {
       "html": [
        "<div style=\"max-height:1000px;max-width:1500px;overflow:auto;\">\n",
        "<table border=\"1\" class=\"dataframe\">\n",
        "  <thead>\n",
        "    <tr style=\"text-align: right;\">\n",
        "      <th></th>\n",
        "      <th>LR</th>\n",
        "      <th>feature_p</th>\n",
        "      <th>fmla</th>\n",
        "      <th>hazzard</th>\n",
        "      <th>LR_q</th>\n",
        "    </tr>\n",
        "  </thead>\n",
        "  <tbody>\n",
        "    <tr>\n",
        "      <th>CELSR2</th>\n",
        "      <td> 0.00</td>\n",
        "      <td> 0.03</td>\n",
        "      <td> Surv(days, event) ~ feature + old\\n</td>\n",
        "      <td> 1.14e-01</td>\n",
        "      <td> 1</td>\n",
        "    </tr>\n",
        "    <tr>\n",
        "      <th>BAZ2B</th>\n",
        "      <td> 0.00</td>\n",
        "      <td> 0.99</td>\n",
        "      <td> Surv(days, event) ~ feature + old\\n</td>\n",
        "      <td> 3.89e-08</td>\n",
        "      <td> 1</td>\n",
        "    </tr>\n",
        "    <tr>\n",
        "      <th>LPHN3</th>\n",
        "      <td> 0.01</td>\n",
        "      <td> 0.05</td>\n",
        "      <td> Surv(days, event) ~ feature + old\\n</td>\n",
        "      <td> 1.39e-01</td>\n",
        "      <td> 1</td>\n",
        "    </tr>\n",
        "    <tr>\n",
        "      <th>KEGG_CYTOSOLIC_DNA_SENSING_PATHWAY</th>\n",
        "      <td> 0.01</td>\n",
        "      <td> 0.02</td>\n",
        "      <td> Surv(days, event) ~ feature + old\\n</td>\n",
        "      <td> 3.67e-01</td>\n",
        "      <td> 1</td>\n",
        "    </tr>\n",
        "    <tr>\n",
        "      <th>FN1</th>\n",
        "      <td> 0.01</td>\n",
        "      <td> 0.99</td>\n",
        "      <td> Surv(days, event) ~ feature + old\\n</td>\n",
        "      <td> 3.93e-08</td>\n",
        "      <td> 1</td>\n",
        "    </tr>\n",
        "  </tbody>\n",
        "</table>\n",
        "</div>"
       ],
       "metadata": {},
       "output_type": "pyout",
       "prompt_number": 40,
       "text": [
        "                                      LR  feature_p                                 fmla   hazzard  LR_q\n",
        "CELSR2                              0.00       0.03  Surv(days, event) ~ feature + old\\n  1.14e-01     1\n",
        "BAZ2B                               0.00       0.99  Surv(days, event) ~ feature + old\\n  3.89e-08     1\n",
        "LPHN3                               0.01       0.05  Surv(days, event) ~ feature + old\\n  1.39e-01     1\n",
        "KEGG_CYTOSOLIC_DNA_SENSING_PATHWAY  0.01       0.02  Surv(days, event) ~ feature + old\\n  3.67e-01     1\n",
        "FN1                                 0.01       0.99  Surv(days, event) ~ feature + old\\n  3.93e-08     1"
       ]
      }
     ],
     "prompt_number": 40
    },
    {
     "cell_type": "markdown",
     "metadata": {},
     "source": [
      "#### Here are the unfiltered results  \n",
      "* Note that the cell cycle pathway does nearly as well as TP53 itself, it is very likely that some of the genes in this pathway serve the same function, but including the pathway greatly increases the complexity of downstream analysis and leads to some tough deconvolution of the interaction of HPV with TP53.  \n",
      "* We have a bunch of redundancy here with closely defined gene-sets, so now we will filter some of these out.\n",
      "* Note that I'm choosing to rank the results by the univariate test, while using the full model as a filter, this reduces the biomarkers we followup on to have relatively straight-forward interpretations as their effect is more direct and less mediated by interaction with mutation rate or age."
     ]
    },
    {
     "cell_type": "code",
     "collapsed": false,
     "input": [
      "mut_res = pd.concat([mut_res_t[mut_res_t.LR_q < 1.3], lr[lr.p < .05]], \n",
      "                    keys=['Full','Univariate'], axis=1).sort([('Full', 'LR')])\n",
      "mut_res = mut_res.dropna()\n",
      "mut_res.head()"
     ],
     "language": "python",
     "metadata": {},
     "outputs": [
      {
       "html": [
        "<div style=\"max-height:1000px;max-width:1500px;overflow:auto;\">\n",
        "<table border=\"1\" class=\"dataframe\">\n",
        "  <thead>\n",
        "    <tr>\n",
        "      <th></th>\n",
        "      <th colspan=\"5\" halign=\"left\">Full</th>\n",
        "      <th colspan=\"3\" halign=\"left\">Univariate</th>\n",
        "    </tr>\n",
        "    <tr>\n",
        "      <th></th>\n",
        "      <th>LR</th>\n",
        "      <th>feature_p</th>\n",
        "      <th>fmla</th>\n",
        "      <th>hazzard</th>\n",
        "      <th>LR_q</th>\n",
        "      <th>chi2</th>\n",
        "      <th>p</th>\n",
        "      <th>q</th>\n",
        "    </tr>\n",
        "  </thead>\n",
        "  <tbody>\n",
        "    <tr>\n",
        "      <th>CELSR2</th>\n",
        "      <td> 0.00</td>\n",
        "      <td> 0.03</td>\n",
        "      <td> Surv(days, event) ~ feature + old\\n</td>\n",
        "      <td> 1.14e-01</td>\n",
        "      <td> 1</td>\n",
        "      <td>  6.53</td>\n",
        "      <td> 1.06e-02</td>\n",
        "      <td> 0.99</td>\n",
        "    </tr>\n",
        "    <tr>\n",
        "      <th>BAZ2B</th>\n",
        "      <td> 0.00</td>\n",
        "      <td> 0.99</td>\n",
        "      <td> Surv(days, event) ~ feature + old\\n</td>\n",
        "      <td> 3.89e-08</td>\n",
        "      <td> 1</td>\n",
        "      <td>  4.71</td>\n",
        "      <td> 3.00e-02</td>\n",
        "      <td> 0.99</td>\n",
        "    </tr>\n",
        "    <tr>\n",
        "      <th>KEGG_CYTOSOLIC_DNA_SENSING_PATHWAY</th>\n",
        "      <td> 0.01</td>\n",
        "      <td> 0.02</td>\n",
        "      <td> Surv(days, event) ~ feature + old\\n</td>\n",
        "      <td> 3.67e-01</td>\n",
        "      <td> 1</td>\n",
        "      <td>  7.39</td>\n",
        "      <td> 6.56e-03</td>\n",
        "      <td> 0.99</td>\n",
        "    </tr>\n",
        "    <tr>\n",
        "      <th>FN1</th>\n",
        "      <td> 0.01</td>\n",
        "      <td> 0.99</td>\n",
        "      <td> Surv(days, event) ~ feature + old\\n</td>\n",
        "      <td> 3.93e-08</td>\n",
        "      <td> 1</td>\n",
        "      <td>  3.92</td>\n",
        "      <td> 4.77e-02</td>\n",
        "      <td> 0.99</td>\n",
        "    </tr>\n",
        "    <tr>\n",
        "      <th>EPHA2</th>\n",
        "      <td> 0.01</td>\n",
        "      <td> 0.00</td>\n",
        "      <td> Surv(days, event) ~ feature + old\\n</td>\n",
        "      <td> 7.10e+00</td>\n",
        "      <td> 1</td>\n",
        "      <td> 12.90</td>\n",
        "      <td> 3.28e-04</td>\n",
        "      <td> 0.29</td>\n",
        "    </tr>\n",
        "  </tbody>\n",
        "</table>\n",
        "</div>"
       ],
       "metadata": {},
       "output_type": "pyout",
       "prompt_number": 42,
       "text": [
        "                                    Full                                            Full      Full        Univariate                \n",
        "                                      LR  feature_p                                 fmla   hazzard  LR_q        chi2         p     q\n",
        "CELSR2                              0.00       0.03  Surv(days, event) ~ feature + old\\n  1.14e-01     1        6.53  1.06e-02  0.99\n",
        "BAZ2B                               0.00       0.99  Surv(days, event) ~ feature + old\\n  3.89e-08     1        4.71  3.00e-02  0.99\n",
        "KEGG_CYTOSOLIC_DNA_SENSING_PATHWAY  0.01       0.02  Surv(days, event) ~ feature + old\\n  3.67e-01     1        7.39  6.56e-03  0.99\n",
        "FN1                                 0.01       0.99  Surv(days, event) ~ feature + old\\n  3.93e-08     1        3.92  4.77e-02  0.99\n",
        "EPHA2                               0.01       0.00  Surv(days, event) ~ feature + old\\n  7.10e+00     1       12.90  3.28e-04  0.29"
       ]
      }
     ],
     "prompt_number": 42
    },
    {
     "cell_type": "markdown",
     "metadata": {},
     "source": [
      "##CNA Screen "
     ]
    },
    {
     "cell_type": "markdown",
     "metadata": {},
     "source": [
      "###Univariate model"
     ]
    },
    {
     "cell_type": "code",
     "collapsed": false,
     "input": [
      "df = (cn.features.ix['Deletion', keepers].dropna(1) < 0).astype(int)\n",
      "df = df[df.sum(1) > 10]"
     ],
     "language": "python",
     "metadata": {},
     "outputs": [],
     "prompt_number": 65
    },
    {
     "cell_type": "code",
     "collapsed": false,
     "input": [
      "df = (cn.features.ix['Deletion', keepers].dropna(1) < 0).astype(int)\n",
      "df = df[df.sum(1) > 10]\n",
      "\n",
      "lr = df.apply(log_rank, args=(surv,), axis=1)\n",
      "lr = lr.sort('p')\n",
      "lr_del = lr"
     ],
     "language": "python",
     "metadata": {},
     "outputs": [],
     "prompt_number": 66
    },
    {
     "cell_type": "code",
     "collapsed": false,
     "input": [
      "df = (cn.features.ix['Amplification', keepers].dropna(1) > 0).astype(str)\n",
      "df = df[df.sum(1) > 10]\n",
      "\n",
      "lr = df.apply(log_rank, args=(surv,), axis=1)\n",
      "lr = lr.sort('p')\n",
      "lr_amp = lr"
     ],
     "language": "python",
     "metadata": {},
     "outputs": [],
     "prompt_number": 67
    },
    {
     "cell_type": "code",
     "collapsed": false,
     "input": [
      "lr = pd.concat([lr_del, lr_amp], keys=['Deletion','Amplification'])\n",
      "lr['q'] = bhCorrection(lr.p)"
     ],
     "language": "python",
     "metadata": {},
     "outputs": [],
     "prompt_number": 68
    },
    {
     "cell_type": "code",
     "collapsed": false,
     "input": [
      "lr.head()"
     ],
     "language": "python",
     "metadata": {},
     "outputs": [
      {
       "html": [
        "<div style=\"max-height:1000px;max-width:1500px;overflow:auto;\">\n",
        "<table border=\"1\" class=\"dataframe\">\n",
        "  <thead>\n",
        "    <tr style=\"text-align: right;\">\n",
        "      <th></th>\n",
        "      <th></th>\n",
        "      <th></th>\n",
        "      <th>chi2</th>\n",
        "      <th>p</th>\n",
        "      <th>q</th>\n",
        "    </tr>\n",
        "  </thead>\n",
        "  <tbody>\n",
        "    <tr>\n",
        "      <th rowspan=\"5\" valign=\"top\">Deletion</th>\n",
        "      <th>13q14.2</th>\n",
        "      <th>Lesion</th>\n",
        "      <td> 7.04</td>\n",
        "      <td> 0.01</td>\n",
        "      <td> 0.55</td>\n",
        "    </tr>\n",
        "    <tr>\n",
        "      <th>7q36.1</th>\n",
        "      <th>Lesion</th>\n",
        "      <td> 3.06</td>\n",
        "      <td> 0.08</td>\n",
        "      <td> 0.73</td>\n",
        "    </tr>\n",
        "    <tr>\n",
        "      <th>13q12.11</th>\n",
        "      <th>Lesion</th>\n",
        "      <td> 2.84</td>\n",
        "      <td> 0.09</td>\n",
        "      <td> 0.73</td>\n",
        "    </tr>\n",
        "    <tr>\n",
        "      <th>11p15.4</th>\n",
        "      <th>Lesion</th>\n",
        "      <td> 2.82</td>\n",
        "      <td> 0.09</td>\n",
        "      <td> 0.73</td>\n",
        "    </tr>\n",
        "    <tr>\n",
        "      <th>5q35.3</th>\n",
        "      <th>Lesion</th>\n",
        "      <td> 2.69</td>\n",
        "      <td> 0.10</td>\n",
        "      <td> 0.73</td>\n",
        "    </tr>\n",
        "  </tbody>\n",
        "</table>\n",
        "</div>"
       ],
       "metadata": {},
       "output_type": "pyout",
       "prompt_number": 69,
       "text": [
        "                          chi2     p     q\n",
        "Deletion 13q14.2  Lesion  7.04  0.01  0.55\n",
        "         7q36.1   Lesion  3.06  0.08  0.73\n",
        "         13q12.11 Lesion  2.84  0.09  0.73\n",
        "         11p15.4  Lesion  2.82  0.09  0.73\n",
        "         5q35.3   Lesion  2.69  0.10  0.73"
       ]
      }
     ],
     "prompt_number": 69
    },
    {
     "cell_type": "markdown",
     "metadata": {},
     "source": [
      "###Multi-variate model"
     ]
    },
    {
     "cell_type": "code",
     "collapsed": false,
     "input": [
      "rate = cn.df.ix['Deletion'].sum()\n",
      "rate.name = 'rate'\n",
      "cov_df = pd.concat([age, rate, old], axis=1).dropna()\n",
      "test = lambda s: get_cox_ph_ms(surv, s, cov_df, return_val='LR', interactions=False);\n",
      "\n",
      "df = (cn.features.ix['Deletion', keepers_o].dropna(1) < 0).astype(int)\n",
      "df = df[df.sum(1) > 10]\n",
      "cn_res_t = df.apply(test, 1)\n",
      "cn_res_t['LR_q'] = bhCorrection(cn_res_t.LR)"
     ],
     "language": "python",
     "metadata": {},
     "outputs": [],
     "prompt_number": 70
    },
    {
     "cell_type": "code",
     "collapsed": false,
     "input": [
      "rate = cn.df.ix['Amplification'].sum()\n",
      "rate.name = 'rate'\n",
      "cov_df = pd.concat([age, rate, old], axis=1).dropna()\n",
      "test = lambda s: get_cox_ph_ms(surv, s, cov_df, return_val='LR', interactions=False);\n",
      "\n",
      "df = (cn.features.ix['Amplification', keepers_o].dropna(1) > 0).astype(int)\n",
      "df = df[df.sum(1) > 10]\n",
      "cn_res_a = df.apply(test, 1)\n",
      "cn_res_a['LR_q'] = bhCorrection(cn_res_a.LR)"
     ],
     "language": "python",
     "metadata": {},
     "outputs": [],
     "prompt_number": 71
    },
    {
     "cell_type": "code",
     "collapsed": false,
     "input": [
      "cn_full = pd.concat([cn_res_t, cn_res_a], keys=['Deletion','Amplification'])\n",
      "cn_full['LR_q'] = bhCorrection(cn_full.LR)"
     ],
     "language": "python",
     "metadata": {},
     "outputs": [],
     "prompt_number": 72
    },
    {
     "cell_type": "code",
     "collapsed": false,
     "input": [
      "cn_res = pd.concat([cn_full[cn_full.LR_q < .9], lr[lr.p < .05]], \n",
      "                    keys=['Full','Univariate'], axis=1).sort([('Full', 'LR')])\n",
      "cn_res = cn_res.dropna()\n",
      "cn_res.head()"
     ],
     "language": "python",
     "metadata": {},
     "outputs": [
      {
       "html": [
        "<div style=\"max-height:1000px;max-width:1500px;overflow:auto;\">\n",
        "<table border=\"1\" class=\"dataframe\">\n",
        "  <thead>\n",
        "    <tr>\n",
        "      <th></th>\n",
        "      <th></th>\n",
        "      <th></th>\n",
        "      <th colspan=\"5\" halign=\"left\">Full</th>\n",
        "      <th colspan=\"3\" halign=\"left\">Univariate</th>\n",
        "    </tr>\n",
        "    <tr>\n",
        "      <th></th>\n",
        "      <th></th>\n",
        "      <th></th>\n",
        "      <th>LR</th>\n",
        "      <th>feature_p</th>\n",
        "      <th>fmla</th>\n",
        "      <th>hazzard</th>\n",
        "      <th>LR_q</th>\n",
        "      <th>chi2</th>\n",
        "      <th>p</th>\n",
        "      <th>q</th>\n",
        "    </tr>\n",
        "  </thead>\n",
        "  <tbody>\n",
        "    <tr>\n",
        "      <th>Deletion</th>\n",
        "      <th>13q14.2</th>\n",
        "      <th>Lesion</th>\n",
        "      <td> 0.01</td>\n",
        "      <td> 0.01</td>\n",
        "      <td> Surv(days, event) ~ feature + old\\n</td>\n",
        "      <td> 0.54</td>\n",
        "      <td> 0.69</td>\n",
        "      <td> 7.04</td>\n",
        "      <td> 0.01</td>\n",
        "      <td> 0.55</td>\n",
        "    </tr>\n",
        "    <tr>\n",
        "      <th>Amplification</th>\n",
        "      <th>15q26.3</th>\n",
        "      <th>Lesion</th>\n",
        "      <td> 0.04</td>\n",
        "      <td> 0.04</td>\n",
        "      <td>       Surv(days, event) ~ feature\\n</td>\n",
        "      <td> 1.63</td>\n",
        "      <td> 0.69</td>\n",
        "      <td> 5.19</td>\n",
        "      <td> 0.02</td>\n",
        "      <td> 0.73</td>\n",
        "    </tr>\n",
        "  </tbody>\n",
        "</table>\n",
        "</div>"
       ],
       "metadata": {},
       "output_type": "pyout",
       "prompt_number": 73,
       "text": [
        "                              Full                                            Full     Full        Univariate            \n",
        "                                LR  feature_p                                 fmla  hazzard  LR_q        chi2     p     q\n",
        "Deletion      13q14.2 Lesion  0.01       0.01  Surv(days, event) ~ feature + old\\n     0.54  0.69        7.04  0.01  0.55\n",
        "Amplification 15q26.3 Lesion  0.04       0.04        Surv(days, event) ~ feature\\n     1.63  0.69        5.19  0.02  0.73"
       ]
      }
     ],
     "prompt_number": 73
    },
    {
     "cell_type": "markdown",
     "metadata": {},
     "source": [
      "##RNA Screen"
     ]
    },
    {
     "cell_type": "code",
     "collapsed": false,
     "input": [
      "cox = cox_screen(rna.pathways, surv)"
     ],
     "language": "python",
     "metadata": {},
     "outputs": [],
     "prompt_number": 74
    },
    {
     "cell_type": "code",
     "collapsed": false,
     "input": [
      "cox.head()"
     ],
     "language": "python",
     "metadata": {},
     "outputs": [
      {
       "html": [
        "<div style=\"max-height:1000px;max-width:1500px;overflow:auto;\">\n",
        "<table border=\"1\" class=\"dataframe\">\n",
        "  <thead>\n",
        "    <tr style=\"text-align: right;\">\n",
        "      <th></th>\n",
        "      <th>LR</th>\n",
        "      <th>p</th>\n",
        "      <th>q</th>\n",
        "    </tr>\n",
        "  </thead>\n",
        "  <tbody>\n",
        "    <tr>\n",
        "      <th>REACTOME_RECRUITMENT_OF_NUMA_TO_MITOTIC_CENTROSOMES</th>\n",
        "      <td> 11.47</td>\n",
        "      <td> 7.07e-04</td>\n",
        "      <td> 0.24</td>\n",
        "    </tr>\n",
        "    <tr>\n",
        "      <th>REACTOME_INACTIVATION_OF_APC_VIA_DIRECT_INHIBITION_OF_THE_APCOMPLEX</th>\n",
        "      <td> 10.74</td>\n",
        "      <td> 1.05e-03</td>\n",
        "      <td> 0.24</td>\n",
        "    </tr>\n",
        "    <tr>\n",
        "      <th>REACTOME_G2_M_TRANSITION</th>\n",
        "      <td>  9.23</td>\n",
        "      <td> 2.37e-03</td>\n",
        "      <td> 0.26</td>\n",
        "    </tr>\n",
        "    <tr>\n",
        "      <th>REACTOME_PHOSPHORYLATION_OF_THE_APC</th>\n",
        "      <td>  9.17</td>\n",
        "      <td> 2.45e-03</td>\n",
        "      <td> 0.26</td>\n",
        "    </tr>\n",
        "    <tr>\n",
        "      <th>REACTOME_CENTROSOME_MATURATION</th>\n",
        "      <td>  8.89</td>\n",
        "      <td> 2.86e-03</td>\n",
        "      <td> 0.26</td>\n",
        "    </tr>\n",
        "  </tbody>\n",
        "</table>\n",
        "</div>"
       ],
       "metadata": {},
       "output_type": "pyout",
       "prompt_number": 75,
       "text": [
        "                                                                        LR         p     q\n",
        "REACTOME_RECRUITMENT_OF_NUMA_TO_MITOTIC_CENTROSOMES                  11.47  7.07e-04  0.24\n",
        "REACTOME_INACTIVATION_OF_APC_VIA_DIRECT_INHIBITION_OF_THE_APCOMPLEX  10.74  1.05e-03  0.24\n",
        "REACTOME_G2_M_TRANSITION                                              9.23  2.37e-03  0.26\n",
        "REACTOME_PHOSPHORYLATION_OF_THE_APC                                   9.17  2.45e-03  0.26\n",
        "REACTOME_CENTROSOME_MATURATION                                        8.89  2.86e-03  0.26"
       ]
      }
     ],
     "prompt_number": 75
    },
    {
     "cell_type": "code",
     "collapsed": false,
     "input": [
      "pc1 = rna.global_vars.pc1\n",
      "background = rna.global_vars.background\n",
      "cov_df = pd.concat([age, pc1, background, old], axis=1).dropna()\n",
      "test = lambda s: get_cox_ph_ms(surv, s, cov_df, return_val='LR', interactions=False);\n",
      "\n",
      "df = rna.pathways.ix[:, keepers_o]\n",
      "rna_res = df.apply(test, 1)\n",
      "rna_res['LR_q'] = bhCorrection(rna_res.LR)"
     ],
     "language": "python",
     "metadata": {},
     "outputs": [],
     "prompt_number": 76
    },
    {
     "cell_type": "code",
     "collapsed": false,
     "input": [
      "rna_res.sort('LR').head()"
     ],
     "language": "python",
     "metadata": {},
     "outputs": [
      {
       "html": [
        "<div style=\"max-height:1000px;max-width:1500px;overflow:auto;\">\n",
        "<table border=\"1\" class=\"dataframe\">\n",
        "  <thead>\n",
        "    <tr style=\"text-align: right;\">\n",
        "      <th></th>\n",
        "      <th>LR</th>\n",
        "      <th>feature_p</th>\n",
        "      <th>fmla</th>\n",
        "      <th>hazzard</th>\n",
        "      <th>LR_q</th>\n",
        "    </tr>\n",
        "  </thead>\n",
        "  <tbody>\n",
        "    <tr>\n",
        "      <th>REACTOME_RECRUITMENT_OF_NUMA_TO_MITOTIC_CENTROSOMES</th>\n",
        "      <td> 8.33e-04</td>\n",
        "      <td> 8.77e-04</td>\n",
        "      <td> Surv(days, event) ~ feature + old\\n</td>\n",
        "      <td> 1.49</td>\n",
        "      <td> 0.34</td>\n",
        "    </tr>\n",
        "    <tr>\n",
        "      <th>REACTOME_G2_M_TRANSITION</th>\n",
        "      <td> 2.36e-03</td>\n",
        "      <td> 2.76e-03</td>\n",
        "      <td> Surv(days, event) ~ feature + old\\n</td>\n",
        "      <td> 1.43</td>\n",
        "      <td> 0.34</td>\n",
        "    </tr>\n",
        "    <tr>\n",
        "      <th>REACTOME_CENTROSOME_MATURATION</th>\n",
        "      <td> 2.89e-03</td>\n",
        "      <td> 3.36e-03</td>\n",
        "      <td> Surv(days, event) ~ feature + old\\n</td>\n",
        "      <td> 1.43</td>\n",
        "      <td> 0.34</td>\n",
        "    </tr>\n",
        "    <tr>\n",
        "      <th>BIOCARTA_EIF2_PATHWAY</th>\n",
        "      <td> 2.98e-03</td>\n",
        "      <td> 3.59e-03</td>\n",
        "      <td> Surv(days, event) ~ feature + old\\n</td>\n",
        "      <td> 1.43</td>\n",
        "      <td> 0.34</td>\n",
        "    </tr>\n",
        "    <tr>\n",
        "      <th>REACTOME_INACTIVATION_OF_APC_VIA_DIRECT_INHIBITION_OF_THE_APCOMPLEX</th>\n",
        "      <td> 4.38e-03</td>\n",
        "      <td> 9.79e-04</td>\n",
        "      <td>       Surv(days, event) ~ feature\\n</td>\n",
        "      <td> 1.49</td>\n",
        "      <td> 0.34</td>\n",
        "    </tr>\n",
        "  </tbody>\n",
        "</table>\n",
        "</div>"
       ],
       "metadata": {},
       "output_type": "pyout",
       "prompt_number": 77,
       "text": [
        "                                                                           LR  feature_p                                 fmla  hazzard  LR_q\n",
        "REACTOME_RECRUITMENT_OF_NUMA_TO_MITOTIC_CENTROSOMES                  8.33e-04   8.77e-04  Surv(days, event) ~ feature + old\\n     1.49  0.34\n",
        "REACTOME_G2_M_TRANSITION                                             2.36e-03   2.76e-03  Surv(days, event) ~ feature + old\\n     1.43  0.34\n",
        "REACTOME_CENTROSOME_MATURATION                                       2.89e-03   3.36e-03  Surv(days, event) ~ feature + old\\n     1.43  0.34\n",
        "BIOCARTA_EIF2_PATHWAY                                                2.98e-03   3.59e-03  Surv(days, event) ~ feature + old\\n     1.43  0.34\n",
        "REACTOME_INACTIVATION_OF_APC_VIA_DIRECT_INHIBITION_OF_THE_APCOMPLEX  4.38e-03   9.79e-04        Surv(days, event) ~ feature\\n     1.49  0.34"
       ]
      }
     ],
     "prompt_number": 77
    },
    {
     "cell_type": "markdown",
     "metadata": {},
     "source": [
      "##miRNA Screen"
     ]
    },
    {
     "cell_type": "code",
     "collapsed": false,
     "input": [
      "cox = cox_screen(mirna.features, surv)"
     ],
     "language": "python",
     "metadata": {},
     "outputs": [],
     "prompt_number": 78
    },
    {
     "cell_type": "code",
     "collapsed": false,
     "input": [
      "cox.head()"
     ],
     "language": "python",
     "metadata": {},
     "outputs": [
      {
       "html": [
        "<div style=\"max-height:1000px;max-width:1500px;overflow:auto;\">\n",
        "<table border=\"1\" class=\"dataframe\">\n",
        "  <thead>\n",
        "    <tr style=\"text-align: right;\">\n",
        "      <th></th>\n",
        "      <th></th>\n",
        "      <th>LR</th>\n",
        "      <th>p</th>\n",
        "      <th>q</th>\n",
        "    </tr>\n",
        "  </thead>\n",
        "  <tbody>\n",
        "    <tr>\n",
        "      <th>real</th>\n",
        "      <th>hsa-mir-135a-2</th>\n",
        "      <td> 19.35</td>\n",
        "      <td> 1.09e-05</td>\n",
        "      <td> 0.00</td>\n",
        "    </tr>\n",
        "    <tr>\n",
        "      <th>binary</th>\n",
        "      <th>hsa-mir-548k</th>\n",
        "      <td> 14.12</td>\n",
        "      <td> 1.72e-04</td>\n",
        "      <td> 0.02</td>\n",
        "    </tr>\n",
        "    <tr>\n",
        "      <th>real</th>\n",
        "      <th>hsa-mir-377</th>\n",
        "      <td> 10.86</td>\n",
        "      <td> 9.81e-04</td>\n",
        "      <td> 0.06</td>\n",
        "    </tr>\n",
        "    <tr>\n",
        "      <th>binary</th>\n",
        "      <th>hsa-mir-137</th>\n",
        "      <td> 10.68</td>\n",
        "      <td> 1.08e-03</td>\n",
        "      <td> 0.06</td>\n",
        "    </tr>\n",
        "    <tr>\n",
        "      <th>real</th>\n",
        "      <th>hsa-mir-337</th>\n",
        "      <td> 10.55</td>\n",
        "      <td> 1.16e-03</td>\n",
        "      <td> 0.06</td>\n",
        "    </tr>\n",
        "  </tbody>\n",
        "</table>\n",
        "</div>"
       ],
       "metadata": {},
       "output_type": "pyout",
       "prompt_number": 79,
       "text": [
        "                          LR         p     q\n",
        "real   hsa-mir-135a-2  19.35  1.09e-05  0.00\n",
        "binary hsa-mir-548k    14.12  1.72e-04  0.02\n",
        "real   hsa-mir-377     10.86  9.81e-04  0.06\n",
        "binary hsa-mir-137     10.68  1.08e-03  0.06\n",
        "real   hsa-mir-337     10.55  1.16e-03  0.06"
       ]
      }
     ],
     "prompt_number": 79
    },
    {
     "cell_type": "code",
     "collapsed": false,
     "input": [
      "pc1 = mirna.global_vars.pc1\n",
      "background = mirna.global_vars.background\n",
      "cov_df = pd.concat([age, pc1, background, old], axis=1).dropna()\n",
      "test = lambda s: get_cox_ph_ms(surv, s, cov_df, return_val='LR', interactions=False);\n",
      "\n",
      "df = mirna.features.ix[:, keepers_o]\n",
      "mirna_res = df.apply(test, 1)\n",
      "mirna_res['LR_q'] = bhCorrection(mirna_res.LR)"
     ],
     "language": "python",
     "metadata": {},
     "outputs": [],
     "prompt_number": 80
    },
    {
     "cell_type": "code",
     "collapsed": false,
     "input": [
      "mirna_res.sort('LR').head()"
     ],
     "language": "python",
     "metadata": {},
     "outputs": [
      {
       "html": [
        "<div style=\"max-height:1000px;max-width:1500px;overflow:auto;\">\n",
        "<table border=\"1\" class=\"dataframe\">\n",
        "  <thead>\n",
        "    <tr style=\"text-align: right;\">\n",
        "      <th></th>\n",
        "      <th></th>\n",
        "      <th>LR</th>\n",
        "      <th>feature_p</th>\n",
        "      <th>fmla</th>\n",
        "      <th>hazzard</th>\n",
        "      <th>LR_q</th>\n",
        "    </tr>\n",
        "  </thead>\n",
        "  <tbody>\n",
        "    <tr>\n",
        "      <th rowspan=\"4\" valign=\"top\">real</th>\n",
        "      <th>hsa-mir-379</th>\n",
        "      <td> 2.49e-04</td>\n",
        "      <td> 5.79e-04</td>\n",
        "      <td> Surv(days, event) ~ feature + pc1\\n</td>\n",
        "      <td> 1.62</td>\n",
        "      <td> 0.03</td>\n",
        "    </tr>\n",
        "    <tr>\n",
        "      <th>hsa-mir-299</th>\n",
        "      <td> 2.50e-04</td>\n",
        "      <td> 3.87e-04</td>\n",
        "      <td> Surv(days, event) ~ feature + pc1\\n</td>\n",
        "      <td> 1.63</td>\n",
        "      <td> 0.03</td>\n",
        "    </tr>\n",
        "    <tr>\n",
        "      <th>hsa-mir-127</th>\n",
        "      <td> 5.08e-04</td>\n",
        "      <td> 9.29e-04</td>\n",
        "      <td> Surv(days, event) ~ feature + pc1\\n</td>\n",
        "      <td> 1.54</td>\n",
        "      <td> 0.04</td>\n",
        "    </tr>\n",
        "    <tr>\n",
        "      <th>hsa-mir-377</th>\n",
        "      <td> 6.73e-04</td>\n",
        "      <td> 1.08e-03</td>\n",
        "      <td> Surv(days, event) ~ feature + pc1\\n</td>\n",
        "      <td> 1.50</td>\n",
        "      <td> 0.04</td>\n",
        "    </tr>\n",
        "    <tr>\n",
        "      <th>binary</th>\n",
        "      <th>hsa-mir-548k</th>\n",
        "      <td> 9.98e-04</td>\n",
        "      <td> 2.53e-04</td>\n",
        "      <td>       Surv(days, event) ~ feature\\n</td>\n",
        "      <td> 2.26</td>\n",
        "      <td> 0.04</td>\n",
        "    </tr>\n",
        "  </tbody>\n",
        "</table>\n",
        "</div>"
       ],
       "metadata": {},
       "output_type": "pyout",
       "prompt_number": 81,
       "text": [
        "                           LR  feature_p                                 fmla  hazzard  LR_q\n",
        "real   hsa-mir-379   2.49e-04   5.79e-04  Surv(days, event) ~ feature + pc1\\n     1.62  0.03\n",
        "       hsa-mir-299   2.50e-04   3.87e-04  Surv(days, event) ~ feature + pc1\\n     1.63  0.03\n",
        "       hsa-mir-127   5.08e-04   9.29e-04  Surv(days, event) ~ feature + pc1\\n     1.54  0.04\n",
        "       hsa-mir-377   6.73e-04   1.08e-03  Surv(days, event) ~ feature + pc1\\n     1.50  0.04\n",
        "binary hsa-mir-548k  9.98e-04   2.53e-04        Surv(days, event) ~ feature\\n     2.26  0.04"
       ]
      }
     ],
     "prompt_number": 81
    },
    {
     "cell_type": "code",
     "collapsed": false,
     "input": [
      "draw_survival_curves(df.ix['real'].ix['hsa-mir-377'], surv, spread_inferred, show=True)"
     ],
     "language": "python",
     "metadata": {},
     "outputs": [
      {
       "html": [
        "<img src='data:image/png;base64,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'>"
       ],
       "metadata": {},
       "output_type": "pyout",
       "prompt_number": 101,
       "text": [
        "<Reports.NotebookTools.Show at 0x753df10>"
       ]
      }
     ],
     "prompt_number": 101
    }
   ],
   "metadata": {}
  }
 ]
}