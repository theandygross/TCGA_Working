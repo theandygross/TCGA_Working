{
 "metadata": {
  "name": "synapse_TCGA"
 },
 "nbformat": 3,
 "nbformat_minor": 0,
 "worksheets": [
  {
   "cells": [
    {
     "cell_type": "code",
     "collapsed": false,
     "input": [
      "import synapseclient\n",
      "import os\n",
      "syn = synapseclient.Synapse()\n",
      "syn.login()\n",
      "\n",
      "ACRONYM = 'GBM'\n",
      "trainLabelsId = \"syn1714087\"   # Training bootstraps for GBM\n",
      "testLabelsId = \"syn1714083\"    # Testing boostraps for GBM\n",
      "dataId = \"syn1710368\"          # for miRNA GBM data\n",
      "survivalDataId = 'syn1710370'\n",
      "\n",
      "\n",
      "def readFile(entity, strip=None):\n",
      "    with open(os.path.join(entity['cacheDir'], entity['files'][0])) as f:\n",
      "        data = np.asarray([l.strip(strip).split('\\t') for l in f])\n",
      "    return data\n",
      "\n",
      "def match(seq1, seq2):\n",
      "    \"\"\"Finds the index locations of seq1 in seq2\"\"\"\n",
      "    return [ np.nonzero(seq2==x)[0][0] for x in seq1  if x in seq2 ]"
     ],
     "language": "python",
     "metadata": {},
     "outputs": [],
     "prompt_number": 1
    },
    {
     "cell_type": "code",
     "collapsed": false,
     "input": [
      "#Download bootstrap labels\n",
      "testLabels = readFile(syn.get(testLabelsId))\n",
      "trainLabels = readFile(syn.get(trainLabelsId))\n",
      "\n",
      "#Download specific data\n",
      "data = readFile(syn.get(dataId))\n",
      "features=data[0,1:]\n",
      "samples=data[1:,0]\n",
      "data=data[1:,1:].astype(np.float).T\n",
      "\n",
      "#Download and extract the survival data\n",
      "survival=readFile(syn.get(survivalDataId), '\\n')\n",
      "survTime = survival[1:,1].astype(np.int)\n",
      "survStatus = survival[1:,2].astype(np.int)"
     ],
     "language": "python",
     "metadata": {},
     "outputs": [],
     "prompt_number": 2
    },
    {
     "cell_type": "code",
     "collapsed": false,
     "input": [
      "cd ../src/"
     ],
     "language": "python",
     "metadata": {},
     "outputs": [
      {
       "output_type": "stream",
       "stream": "stdout",
       "text": [
        "/cellar/users/agross/TCGA_Code/TCGA/Pathway_Merge/src\n"
       ]
      }
     ],
     "prompt_number": 28
    },
    {
     "cell_type": "code",
     "collapsed": false,
     "input": [
      "testLabels.shape"
     ],
     "language": "python",
     "metadata": {},
     "outputs": [
      {
       "output_type": "pyout",
       "prompt_number": 85,
       "text": [
        "(42, 100)"
       ]
      }
     ],
     "prompt_number": 85
    },
    {
     "cell_type": "code",
     "collapsed": false,
     "input": [
      "import pandas as pd"
     ],
     "language": "python",
     "metadata": {},
     "outputs": [],
     "prompt_number": 29
    },
    {
     "cell_type": "code",
     "collapsed": false,
     "input": [
      "from Figures.Survival import survival_and_stats\n",
      "from Figures.R_Wrappers import draw_survival_curves\n",
      "from Processing.Imports import *"
     ],
     "language": "python",
     "metadata": {},
     "outputs": [],
     "prompt_number": 62
    },
    {
     "cell_type": "code",
     "collapsed": false,
     "input": [
      "df = pd.DataFrame(data, index=features, columns=samples)"
     ],
     "language": "python",
     "metadata": {},
     "outputs": [],
     "prompt_number": 10
    },
    {
     "cell_type": "code",
     "collapsed": false,
     "input": [
      "surv = pd.DataFrame(survival).T.set_index(0).T.set_index('feature')\n",
      "surv = surv[['OS_OS','OS_vital_status']]\n",
      "surv.columns = ['days','event']\n",
      "surv = surv.stack().astype(float)"
     ],
     "language": "python",
     "metadata": {},
     "outputs": [],
     "prompt_number": 44
    },
    {
     "cell_type": "code",
     "collapsed": false,
     "input": [
      "cox_screen(df, surv).head()"
     ],
     "language": "python",
     "metadata": {},
     "outputs": [
      {
       "html": [
        "<div style=\"max-height:1000px;max-width:1500px;overflow:auto;\">\n",
        "<table border=\"1\" class=\"dataframe\">\n",
        "  <thead>\n",
        "    <tr style=\"text-align: right;\">\n",
        "      <th></th>\n",
        "      <th>LR</th>\n",
        "      <th>p</th>\n",
        "      <th>q</th>\n",
        "    </tr>\n",
        "  </thead>\n",
        "  <tbody>\n",
        "    <tr>\n",
        "      <th>miRNA_hsa-miR-222</th>\n",
        "      <td> 14.22</td>\n",
        "      <td> 1.62e-04</td>\n",
        "      <td> 0.09</td>\n",
        "    </tr>\n",
        "    <tr>\n",
        "      <th>miRNA_hsa-miR-221</th>\n",
        "      <td>  9.98</td>\n",
        "      <td> 1.58e-03</td>\n",
        "      <td> 0.42</td>\n",
        "    </tr>\n",
        "    <tr>\n",
        "      <th>miRNA_hsa-miR-200b</th>\n",
        "      <td>  8.95</td>\n",
        "      <td> 2.77e-03</td>\n",
        "      <td> 0.48</td>\n",
        "    </tr>\n",
        "    <tr>\n",
        "      <th>miRNA_hsa-miR-200a</th>\n",
        "      <td>  8.46</td>\n",
        "      <td> 3.63e-03</td>\n",
        "      <td> 0.48</td>\n",
        "    </tr>\n",
        "    <tr>\n",
        "      <th>miRNA_hsa-miR-34a</th>\n",
        "      <td>  7.68</td>\n",
        "      <td> 5.59e-03</td>\n",
        "      <td> 0.60</td>\n",
        "    </tr>\n",
        "  </tbody>\n",
        "</table>\n",
        "</div>"
       ],
       "output_type": "pyout",
       "prompt_number": 88,
       "text": [
        "                       LR         p     q\n",
        "miRNA_hsa-miR-222   14.22  1.62e-04  0.09\n",
        "miRNA_hsa-miR-221    9.98  1.58e-03  0.42\n",
        "miRNA_hsa-miR-200b   8.95  2.77e-03  0.48\n",
        "miRNA_hsa-miR-200a   8.46  3.63e-03  0.48\n",
        "miRNA_hsa-miR-34a    7.68  5.59e-03  0.60"
       ]
      }
     ],
     "prompt_number": 88
    },
    {
     "cell_type": "code",
     "collapsed": false,
     "input": [
      "len(set.union(*map(set, trainLabels)))"
     ],
     "language": "python",
     "metadata": {},
     "outputs": [
      {
       "output_type": "pyout",
       "prompt_number": 83,
       "text": [
        "210"
       ]
      }
     ],
     "prompt_number": 83
    },
    {
     "cell_type": "code",
     "collapsed": false,
     "input": [
      "len(set(trainLabels[0]))"
     ],
     "language": "python",
     "metadata": {},
     "outputs": [
      {
       "output_type": "pyout",
       "prompt_number": 80,
       "text": [
        "76"
       ]
      }
     ],
     "prompt_number": 80
    },
    {
     "cell_type": "code",
     "collapsed": false,
     "input": [
      "draw_survival_curves(df.ix['miRNA_hsa-miR-222'], surv, show=True, ann='p')"
     ],
     "language": "python",
     "metadata": {},
     "outputs": [
      {
       "html": [
        "<img src='data:image/png;base64,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'>"
       ],
       "output_type": "pyout",
       "prompt_number": 90,
       "text": [
        "<Reports.NotebookTools.Show at 0x47657f90>"
       ]
      }
     ],
     "prompt_number": 90
    },
    {
     "cell_type": "code",
     "collapsed": false,
     "input": [
      "survcomp = robjects.packages.importr('survcomp')\n",
      "concordance = survcomp.concordance_index"
     ],
     "language": "python",
     "metadata": {},
     "outputs": [],
     "prompt_number": 68
    },
    {
     "cell_type": "code",
     "collapsed": false,
     "input": [
      "concordance"
     ],
     "language": "python",
     "metadata": {},
     "outputs": [
      {
       "output_type": "pyout",
       "prompt_number": 69,
       "text": [
        "<SignatureTranslatedFunction - Python:0x46285e60 / R:0x5b4e0c8>"
       ]
      }
     ],
     "prompt_number": 69
    },
    {
     "cell_type": "code",
     "collapsed": false,
     "input": [
      "predictions[0]"
     ],
     "language": "python",
     "metadata": {},
     "outputs": [
      {
       "output_type": "pyout",
       "prompt_number": 50,
       "text": [
        "array([  83.72129564,   89.29643187,  108.4119837 ,  122.69634759,\n",
        "        113.3704881 ,  104.8592335 ,  105.9356136 ,  105.2281621 ,\n",
        "        124.2976218 ,  111.85518192,  114.06672518,  110.27409946,\n",
        "        103.06043632,  111.44977025,  128.99157969,  117.28524932,\n",
        "        105.5336014 ,   97.9189183 ,  111.56223601,  131.2030008 ,\n",
        "        100.24558803,  100.08311048,  123.16833068,   87.09229682,\n",
        "        102.23494461,  120.10314167,  107.52883873,  100.77758067,\n",
        "        113.95354883,  125.42154369,  116.06924186,  108.24611842,\n",
        "         96.53092947,  124.55196861,  123.86546172,   96.18637952,\n",
        "        111.30264681,  102.76255383,  118.56068472,  108.21474537,\n",
        "        109.03230605,   92.11874886])"
       ]
      }
     ],
     "prompt_number": 50
    },
    {
     "cell_type": "code",
     "collapsed": false,
     "input": [
      "trainLabels.shape"
     ],
     "language": "python",
     "metadata": {},
     "outputs": [
      {
       "output_type": "pyout",
       "prompt_number": 61,
       "text": [
        "(168, 100)"
       ]
      }
     ],
     "prompt_number": 61
    },
    {
     "cell_type": "code",
     "collapsed": false,
     "input": [
      "%load_ext rmagic\n",
      "%R require(survival); require(randomSurvivalForest); require(survcomp)\n",
      "predictions=[]\n",
      "for bootstrapIdx in range(trainLabels.shape[1]):\n",
      "    #Determine Extract the training and testing sets of one bootstrap\n",
      "    trainIdx = match(trainLabels[:,bootstrapIdx], samples)\n",
      "    testIdx = match(testLabels[:,bootstrapIdx], samples)\n",
      "\n",
      "    #Verify that the labels are the same\n",
      "    assert (np.all(trainLabels[:,bootstrapIdx]==samples[trainIdx]) and \n",
      "            np.all(testLabels[:,bootstrapIdx]==samples[testIdx]))\n",
      "\n",
      "    #Exctract traing and testing set\n",
      "    trainData = data[:, trainIdx].T\n",
      "    trainSurvStatus = survStatus[trainIdx]\n",
      "    trainSurvTime = survTime[trainIdx]\n",
      "    testData = data[:, testIdx].T\n",
      "    testSurvStatus = survStatus[testIdx]\n",
      "    testSurvTime = survTime[testIdx]\n",
      "\n",
      "    #Push to R, model and predict\n",
      "    %Rpush trainData trainSurvStatus trainSurvTime testData testSurvStatus testSurvTime\n",
      "    %R rsf.model.fit  <- rsf(Surv(time,status) ~ ., data=data.frame(time=trainSurvTime,status=trainSurvStatus, trainData), ntree=1000, na.action=\"na.impute\", splitrule=\"logrank\", nsplit=1, importance=\"randomsplit\", seed=-1)\n",
      "    %R -o predictedResponse predictedResponse  <- predict(rsf.model.fit, data.frame(testData), na.action=\"na.impute\")$mortality\n",
      "    #TODO replace this with creating the matrix of results\n",
      "    %R -o concordance concordance  <- concordance.index(predictedResponse, testSurvTime, testSurvStatus)$c.index\n",
      "    print concordance\n",
      "    predictions.append(predictedResponse)"
     ],
     "language": "python",
     "metadata": {},
     "outputs": [
      {
       "output_type": "display_data",
       "text": [
        "Loading required package: survival\n",
        "Loading required package: splines\n",
        "Loading required package: randomSurvivalForest\n",
        "\n",
        " randomSurvivalForest 3.6.4 \n",
        " \n",
        " Type rsf.news() to see new features, changes, and bug fixes. \n",
        " \n",
        "\n",
        "Loading required package: survcomp\n",
        "Loading required package: prodlim\n",
        "KernSmooth 2.23 loaded\n",
        "Copyright M. P. Wand 1997-2009\n"
       ]
      },
      {
       "output_type": "stream",
       "stream": "stdout",
       "text": [
        "[ 0.47252747]\n",
        "[ 0.58978873]"
       ]
      },
      {
       "output_type": "stream",
       "stream": "stdout",
       "text": [
        "\n",
        "[ 0.49906191]"
       ]
      },
      {
       "output_type": "stream",
       "stream": "stdout",
       "text": [
        "\n",
        "[ 0.40896359]"
       ]
      },
      {
       "output_type": "stream",
       "stream": "stdout",
       "text": [
        "\n",
        "[ 0.54499151]"
       ]
      },
      {
       "output_type": "stream",
       "stream": "stdout",
       "text": [
        "\n",
        "[ 0.57644991]"
       ]
      },
      {
       "output_type": "stream",
       "stream": "stdout",
       "text": [
        "\n",
        "[ 0.51100629]"
       ]
      },
      {
       "output_type": "stream",
       "stream": "stdout",
       "text": [
        "\n",
        "[ 0.47136564]"
       ]
      },
      {
       "output_type": "stream",
       "stream": "stdout",
       "text": [
        "\n",
        "[ 0.45321101]"
       ]
      },
      {
       "output_type": "stream",
       "stream": "stdout",
       "text": [
        "\n",
        "[ 0.53529412]"
       ]
      },
      {
       "output_type": "stream",
       "stream": "stdout",
       "text": [
        "\n",
        "[ 0.497307]"
       ]
      },
      {
       "output_type": "stream",
       "stream": "stdout",
       "text": [
        "\n",
        "[ 0.47241379]"
       ]
      },
      {
       "output_type": "stream",
       "stream": "stdout",
       "text": [
        "\n",
        "[ 0.56097561]"
       ]
      },
      {
       "output_type": "stream",
       "stream": "stdout",
       "text": [
        "\n",
        "[ 0.5764526]"
       ]
      },
      {
       "output_type": "stream",
       "stream": "stdout",
       "text": [
        "\n",
        "[ 0.55032468]"
       ]
      },
      {
       "output_type": "stream",
       "stream": "stdout",
       "text": [
        "\n",
        "[ 0.54]"
       ]
      },
      {
       "output_type": "stream",
       "stream": "stdout",
       "text": [
        "\n",
        "[ 0.48417722]"
       ]
      },
      {
       "output_type": "stream",
       "stream": "stdout",
       "text": [
        "\n",
        "[ 0.61510791]"
       ]
      },
      {
       "output_type": "stream",
       "stream": "stdout",
       "text": [
        "\n",
        "[ 0.5472155]"
       ]
      },
      {
       "output_type": "stream",
       "stream": "stdout",
       "text": [
        "\n",
        "[ 0.44941634]"
       ]
      },
      {
       "output_type": "stream",
       "stream": "stdout",
       "text": [
        "\n",
        "[ 0.49829352]"
       ]
      },
      {
       "output_type": "stream",
       "stream": "stdout",
       "text": [
        "\n",
        "[ 0.46263911]"
       ]
      },
      {
       "output_type": "stream",
       "stream": "stdout",
       "text": [
        "\n",
        "[ 0.54761905]"
       ]
      },
      {
       "output_type": "stream",
       "stream": "stdout",
       "text": [
        "\n",
        "[ 0.58752998]"
       ]
      },
      {
       "output_type": "stream",
       "stream": "stdout",
       "text": [
        "\n",
        "[ 0.62144054]"
       ]
      },
      {
       "output_type": "stream",
       "stream": "stdout",
       "text": [
        "\n",
        "[ 0.52487136]"
       ]
      },
      {
       "output_type": "stream",
       "stream": "stdout",
       "text": [
        "\n",
        "[ 0.51718213]"
       ]
      },
      {
       "output_type": "stream",
       "stream": "stdout",
       "text": [
        "\n",
        "[ 0.50319829]"
       ]
      },
      {
       "output_type": "stream",
       "stream": "stdout",
       "text": [
        "\n",
        "[ 0.46422339]"
       ]
      },
      {
       "output_type": "stream",
       "stream": "stdout",
       "text": [
        "\n",
        "[ 0.44878957]"
       ]
      },
      {
       "output_type": "stream",
       "stream": "stdout",
       "text": [
        "\n",
        "[ 0.59057072]"
       ]
      },
      {
       "output_type": "stream",
       "stream": "stdout",
       "text": [
        "\n",
        "[ 0.55042017]"
       ]
      },
      {
       "output_type": "stream",
       "stream": "stdout",
       "text": [
        "\n",
        "[ 0.49734513]"
       ]
      },
      {
       "output_type": "stream",
       "stream": "stdout",
       "text": [
        "\n",
        "[ 0.56805808]"
       ]
      },
      {
       "output_type": "stream",
       "stream": "stdout",
       "text": [
        "\n",
        "[ 0.40436242]"
       ]
      },
      {
       "output_type": "stream",
       "stream": "stdout",
       "text": [
        "\n",
        "[ 0.44064386]"
       ]
      },
      {
       "output_type": "stream",
       "stream": "stdout",
       "text": [
        "\n",
        "[ 0.50347222]"
       ]
      },
      {
       "output_type": "stream",
       "stream": "stdout",
       "text": [
        "\n",
        "[ 0.54291845]"
       ]
      },
      {
       "output_type": "stream",
       "stream": "stdout",
       "text": [
        "\n",
        "[ 0.54950495]"
       ]
      },
      {
       "output_type": "stream",
       "stream": "stdout",
       "text": [
        "\n",
        "[ 0.49088146]"
       ]
      },
      {
       "output_type": "stream",
       "stream": "stdout",
       "text": [
        "\n",
        "[ 0.45544554]"
       ]
      },
      {
       "output_type": "stream",
       "stream": "stdout",
       "text": [
        "\n",
        "[ 0.45945946]"
       ]
      },
      {
       "output_type": "stream",
       "stream": "stdout",
       "text": [
        "\n",
        "[ 0.49537893]"
       ]
      },
      {
       "output_type": "stream",
       "stream": "stdout",
       "text": [
        "\n",
        "[ 0.45299145]"
       ]
      },
      {
       "output_type": "stream",
       "stream": "stdout",
       "text": [
        "\n",
        "[ 0.4613936]"
       ]
      },
      {
       "output_type": "stream",
       "stream": "stdout",
       "text": [
        "\n",
        "[ 0.50865801]"
       ]
      },
      {
       "output_type": "stream",
       "stream": "stdout",
       "text": [
        "\n",
        "[ 0.5602537]"
       ]
      },
      {
       "output_type": "stream",
       "stream": "stdout",
       "text": [
        "\n",
        "[ 0.56825397]"
       ]
      },
      {
       "output_type": "stream",
       "stream": "stdout",
       "text": [
        "\n",
        "[ 0.53264605]"
       ]
      },
      {
       "output_type": "stream",
       "stream": "stdout",
       "text": [
        "\n",
        "[ 0.55681818]"
       ]
      },
      {
       "output_type": "stream",
       "stream": "stdout",
       "text": [
        "\n",
        "[ 0.57314629]"
       ]
      },
      {
       "output_type": "stream",
       "stream": "stdout",
       "text": [
        "\n",
        "[ 0.50606586]"
       ]
      },
      {
       "output_type": "stream",
       "stream": "stdout",
       "text": [
        "\n",
        "[ 0.49230769]"
       ]
      },
      {
       "output_type": "stream",
       "stream": "stdout",
       "text": [
        "\n",
        "[ 0.52372263]"
       ]
      },
      {
       "output_type": "stream",
       "stream": "stdout",
       "text": [
        "\n",
        "[ 0.48412698]"
       ]
      },
      {
       "output_type": "stream",
       "stream": "stdout",
       "text": [
        "\n",
        "[ 0.52664577]"
       ]
      },
      {
       "output_type": "stream",
       "stream": "stdout",
       "text": [
        "\n",
        "[ 0.55381166]"
       ]
      },
      {
       "output_type": "stream",
       "stream": "stdout",
       "text": [
        "\n",
        "[ 0.56260434]"
       ]
      },
      {
       "output_type": "stream",
       "stream": "stdout",
       "text": [
        "\n",
        "[ 0.47147147]"
       ]
      },
      {
       "output_type": "stream",
       "stream": "stdout",
       "text": [
        "\n",
        "[ 0.52610442]"
       ]
      },
      {
       "output_type": "stream",
       "stream": "stdout",
       "text": [
        "\n",
        "[ 0.53472222]"
       ]
      },
      {
       "output_type": "stream",
       "stream": "stdout",
       "text": [
        "\n",
        "[ 0.65904762]"
       ]
      },
      {
       "output_type": "stream",
       "stream": "stdout",
       "text": [
        "\n",
        "[ 0.4972067]"
       ]
      },
      {
       "output_type": "stream",
       "stream": "stdout",
       "text": [
        "\n",
        "[ 0.56687898]"
       ]
      },
      {
       "output_type": "stream",
       "stream": "stdout",
       "text": [
        "\n",
        "[ 0.70537634]"
       ]
      },
      {
       "output_type": "stream",
       "stream": "stdout",
       "text": [
        "\n",
        "[ 0.51674641]"
       ]
      },
      {
       "output_type": "stream",
       "stream": "stdout",
       "text": [
        "\n",
        "[ 0.57115385]"
       ]
      },
      {
       "output_type": "stream",
       "stream": "stdout",
       "text": [
        "\n",
        "[ 0.62256809]"
       ]
      },
      {
       "output_type": "stream",
       "stream": "stdout",
       "text": [
        "\n",
        "[ 0.47384615]"
       ]
      },
      {
       "output_type": "stream",
       "stream": "stdout",
       "text": [
        "\n",
        "[ 0.57767722]"
       ]
      },
      {
       "output_type": "stream",
       "stream": "stdout",
       "text": [
        "\n",
        "[ 0.51277014]"
       ]
      },
      {
       "output_type": "stream",
       "stream": "stdout",
       "text": [
        "\n",
        "[ 0.50186567]"
       ]
      },
      {
       "output_type": "stream",
       "stream": "stdout",
       "text": [
        "\n",
        "[ 0.53583062]"
       ]
      },
      {
       "output_type": "stream",
       "stream": "stdout",
       "text": [
        "\n",
        "[ 0.6290631]"
       ]
      },
      {
       "output_type": "stream",
       "stream": "stdout",
       "text": [
        "\n",
        "[ 0.5433526]"
       ]
      },
      {
       "output_type": "stream",
       "stream": "stdout",
       "text": [
        "\n",
        "[ 0.58890701]"
       ]
      },
      {
       "output_type": "stream",
       "stream": "stdout",
       "text": [
        "\n",
        "[ 0.45121951]"
       ]
      },
      {
       "output_type": "stream",
       "stream": "stdout",
       "text": [
        "\n",
        "[ 0.5787234]"
       ]
      },
      {
       "output_type": "stream",
       "stream": "stdout",
       "text": [
        "\n",
        "[ 0.44978166]"
       ]
      },
      {
       "output_type": "stream",
       "stream": "stdout",
       "text": [
        "\n",
        "[ 0.59100204]"
       ]
      },
      {
       "output_type": "stream",
       "stream": "stdout",
       "text": [
        "\n",
        "[ 0.45102041]"
       ]
      },
      {
       "output_type": "stream",
       "stream": "stdout",
       "text": [
        "\n",
        "[ 0.62315789]"
       ]
      },
      {
       "output_type": "stream",
       "stream": "stdout",
       "text": [
        "\n",
        "[ 0.47378277]"
       ]
      },
      {
       "output_type": "stream",
       "stream": "stdout",
       "text": [
        "\n",
        "[ 0.54329372]"
       ]
      },
      {
       "output_type": "stream",
       "stream": "stdout",
       "text": [
        "\n",
        "[ 0.4556962]"
       ]
      },
      {
       "output_type": "stream",
       "stream": "stdout",
       "text": [
        "\n",
        "[ 0.60545194]"
       ]
      },
      {
       "output_type": "stream",
       "stream": "stdout",
       "text": [
        "\n",
        "[ 0.39292035]"
       ]
      },
      {
       "output_type": "stream",
       "stream": "stdout",
       "text": [
        "\n",
        "[ 0.50535988]"
       ]
      },
      {
       "output_type": "stream",
       "stream": "stdout",
       "text": [
        "\n",
        "[ 0.43478261]"
       ]
      },
      {
       "output_type": "stream",
       "stream": "stdout",
       "text": [
        "\n",
        "[ 0.57833333]"
       ]
      },
      {
       "output_type": "stream",
       "stream": "stdout",
       "text": [
        "\n",
        "[ 0.51111111]"
       ]
      },
      {
       "output_type": "stream",
       "stream": "stdout",
       "text": [
        "\n",
        "[ 0.44137931]"
       ]
      },
      {
       "output_type": "stream",
       "stream": "stdout",
       "text": [
        "\n",
        "[ 0.43875278]"
       ]
      },
      {
       "output_type": "stream",
       "stream": "stdout",
       "text": [
        "\n",
        "[ 0.45732689]"
       ]
      },
      {
       "output_type": "stream",
       "stream": "stdout",
       "text": [
        "\n",
        "[ 0.50642202]"
       ]
      },
      {
       "output_type": "stream",
       "stream": "stdout",
       "text": [
        "\n",
        "[ 0.51828299]"
       ]
      },
      {
       "output_type": "stream",
       "stream": "stdout",
       "text": [
        "\n",
        "[ 0.50998185]"
       ]
      },
      {
       "output_type": "stream",
       "stream": "stdout",
       "text": [
        "\n",
        "[ 0.42931034]"
       ]
      },
      {
       "output_type": "stream",
       "stream": "stdout",
       "text": [
        "\n",
        "[ 0.46771379]"
       ]
      },
      {
       "output_type": "stream",
       "stream": "stdout",
       "text": [
        "\n",
        "[ 0.56701031]"
       ]
      },
      {
       "output_type": "stream",
       "stream": "stdout",
       "text": [
        "\n"
       ]
      }
     ],
     "prompt_number": 3
    }
   ],
   "metadata": {}
  }
 ]
}