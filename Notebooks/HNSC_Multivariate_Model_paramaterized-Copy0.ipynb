{
 "metadata": {
  "name": ""
 },
 "nbformat": 3,
 "nbformat_minor": 0,
 "worksheets": [
  {
   "cells": [
    {
     "cell_type": "markdown",
     "metadata": {},
     "source": [
      "#HNSC Multivariate Screen  \n",
      "\n",
      "This is a screen for survival associated features.  "
     ]
    },
    {
     "cell_type": "code",
     "collapsed": false,
     "input": [
      "cd ../src"
     ],
     "language": "python",
     "metadata": {},
     "outputs": [
      {
       "output_type": "stream",
       "stream": "stdout",
       "text": [
        "/cellar/users/agross/TCGA_Code/TCGA/Pathway_Merge/src\n"
       ]
      }
     ],
     "prompt_number": 1
    },
    {
     "cell_type": "code",
     "collapsed": false,
     "input": [
      "from Processing.Imports import *\n",
      "from Figures.Survival import survival_and_stats"
     ],
     "language": "python",
     "metadata": {},
     "outputs": [],
     "prompt_number": 2
    },
    {
     "cell_type": "markdown",
     "metadata": {},
     "source": [
      "##Read in Data"
     ]
    },
    {
     "cell_type": "code",
     "collapsed": false,
     "input": [
      "run = get_run('/cellar/data/TCGA/Firehose__2013_04_21/', 'Run_all')\n",
      "\n",
      "cancer = run.load_cancer('OV')\n",
      "clinical = cancer.load_clinical()\n",
      "global_vars = cancer.load_global_vars()\n",
      "\n",
      "mut = cancer.load_data('Mutation')\n",
      "mut.uncompress()\n",
      "meth = cancer.load_data('Methylation')\n",
      "cn = cancer.load_data('CN_broad')\n",
      "cn.uncompress()\n",
      "rna = cancer.load_data('mRNASeq')\n",
      "rppa  = cancer.load_data('RPPA')\n",
      "mirna = cancer.load_data('miRNASeq')\n",
      "age = clinical.clinical.age.astype(float)"
     ],
     "language": "python",
     "metadata": {},
     "outputs": [
      {
       "ename": "IOError",
       "evalue": "[Errno 2] No such file or directory: '/cellar/data/TCGA/Firehose__2013_04_21/ucsd_analyses/Run_all/OV/Methylation/DataObject.p'",
       "output_type": "pyerr",
       "traceback": [
        "\u001b[1;31m---------------------------------------------------------------------------\u001b[0m\n\u001b[1;31mIOError\u001b[0m                                   Traceback (most recent call last)",
        "\u001b[1;32m<ipython-input-5-f191ebffc784>\u001b[0m in \u001b[0;36m<module>\u001b[1;34m()\u001b[0m\n\u001b[0;32m      7\u001b[0m \u001b[0mmut\u001b[0m \u001b[1;33m=\u001b[0m \u001b[0mcancer\u001b[0m\u001b[1;33m.\u001b[0m\u001b[0mload_data\u001b[0m\u001b[1;33m(\u001b[0m\u001b[1;34m'Mutation'\u001b[0m\u001b[1;33m)\u001b[0m\u001b[1;33m\u001b[0m\u001b[0m\n\u001b[0;32m      8\u001b[0m \u001b[0mmut\u001b[0m\u001b[1;33m.\u001b[0m\u001b[0muncompress\u001b[0m\u001b[1;33m(\u001b[0m\u001b[1;33m)\u001b[0m\u001b[1;33m\u001b[0m\u001b[0m\n\u001b[1;32m----> 9\u001b[1;33m \u001b[0mmeth\u001b[0m \u001b[1;33m=\u001b[0m \u001b[0mcancer\u001b[0m\u001b[1;33m.\u001b[0m\u001b[0mload_data\u001b[0m\u001b[1;33m(\u001b[0m\u001b[1;34m'Methylation'\u001b[0m\u001b[1;33m)\u001b[0m\u001b[1;33m\u001b[0m\u001b[0m\n\u001b[0m\u001b[0;32m     10\u001b[0m \u001b[0mcn\u001b[0m \u001b[1;33m=\u001b[0m \u001b[0mcancer\u001b[0m\u001b[1;33m.\u001b[0m\u001b[0mload_data\u001b[0m\u001b[1;33m(\u001b[0m\u001b[1;34m'CN_broad'\u001b[0m\u001b[1;33m)\u001b[0m\u001b[1;33m\u001b[0m\u001b[0m\n\u001b[0;32m     11\u001b[0m \u001b[0mcn\u001b[0m\u001b[1;33m.\u001b[0m\u001b[0muncompress\u001b[0m\u001b[1;33m(\u001b[0m\u001b[1;33m)\u001b[0m\u001b[1;33m\u001b[0m\u001b[0m\n",
        "\u001b[1;32m/cellar/users/agross/TCGA_Code/TCGA/Pathway_Merge/src/Data/Containers.pyc\u001b[0m in \u001b[0;36mload_data\u001b[1;34m(self, data_type)\u001b[0m\n\u001b[0;32m    103\u001b[0m         \u001b[1;32massert\u001b[0m \u001b[0mhasattr\u001b[0m\u001b[1;33m(\u001b[0m\u001b[0mself\u001b[0m\u001b[1;33m,\u001b[0m \u001b[1;34m'path'\u001b[0m\u001b[1;33m)\u001b[0m\u001b[1;33m\u001b[0m\u001b[0m\n\u001b[0;32m    104\u001b[0m         \u001b[0mpath\u001b[0m \u001b[1;33m=\u001b[0m \u001b[1;34m'/'\u001b[0m\u001b[1;33m.\u001b[0m\u001b[0mjoin\u001b[0m\u001b[1;33m(\u001b[0m\u001b[1;33m[\u001b[0m\u001b[0mself\u001b[0m\u001b[1;33m.\u001b[0m\u001b[0mpath\u001b[0m\u001b[1;33m,\u001b[0m \u001b[0mdata_type\u001b[0m\u001b[1;33m,\u001b[0m \u001b[1;34m'DataObject.p'\u001b[0m\u001b[1;33m]\u001b[0m\u001b[1;33m)\u001b[0m\u001b[1;33m\u001b[0m\u001b[0m\n\u001b[1;32m--> 105\u001b[1;33m         \u001b[0mobj\u001b[0m \u001b[1;33m=\u001b[0m \u001b[0mpickle\u001b[0m\u001b[1;33m.\u001b[0m\u001b[0mload\u001b[0m\u001b[1;33m(\u001b[0m\u001b[0mopen\u001b[0m\u001b[1;33m(\u001b[0m\u001b[0mpath\u001b[0m\u001b[1;33m,\u001b[0m \u001b[1;34m'rb'\u001b[0m\u001b[1;33m)\u001b[0m\u001b[1;33m)\u001b[0m\u001b[1;33m\u001b[0m\u001b[0m\n\u001b[0m\u001b[0;32m    106\u001b[0m         \u001b[1;32mreturn\u001b[0m \u001b[0mobj\u001b[0m\u001b[1;33m\u001b[0m\u001b[0m\n\u001b[0;32m    107\u001b[0m \u001b[1;33m\u001b[0m\u001b[0m\n",
        "\u001b[1;31mIOError\u001b[0m: [Errno 2] No such file or directory: '/cellar/data/TCGA/Firehose__2013_04_21/ucsd_analyses/Run_all/OV/Methylation/DataObject.p'"
       ]
      }
     ],
     "prompt_number": 5
    },
    {
     "cell_type": "code",
     "collapsed": false,
     "input": [
      "try:\n",
      "    rna = pickle.load(open(cancer.path + '/mRNASeq/store/no_hpv.p', 'rb'))\n",
      "    meth = pickle.load(open(cancer.path + '/Methylation/store/no_hpv.p', 'rb'))\n",
      "    mirna = pickle.load(open(cancer.path + '/miRNASeq/store/no_hpv.p', 'rb'))\n",
      "except:\n",
      "    from Initialization.InitializeReal import RealDataset\n",
      "    from Processing.Helpers import make_path_dump\n",
      "    rna = RealDataset(run, cancer, 'mRNASeq', keepers_o)\n",
      "    meth = RealDataset(run, cancer, 'Methylation', keepers_o)\n",
      "    mirna = RealDataset(run, cancer, 'miRNASeq', keepers_o, create_meta_features=False)\n",
      "    \n",
      "    make_path_dump(rna, rna.path + '/store/no_hpv.p')\n",
      "    make_path_dump(meth, meth.pth + '/store/no_hpv.p')\n",
      "    make_path_dump(mirna, mirna.path + '/store/no_hpv.p')"
     ],
     "language": "python",
     "metadata": {},
     "outputs": [],
     "prompt_number": 4
    },
    {
     "cell_type": "code",
     "collapsed": false,
     "input": [
      "from Data.ProcessClinical import format_survival_from_data_portal\n",
      "path  = '/cellar/users/agross/Data/TCGA/HNSC_Followup/'\n",
      "survival, timeline = format_survival_from_data_portal(path, cancer.name)\n",
      "clinical.survival = survival\n",
      "clinical.artificially_censor(5)\n",
      "age = timeline.age"
     ],
     "language": "python",
     "metadata": {},
     "outputs": [],
     "prompt_number": 5
    },
    {
     "cell_type": "code",
     "collapsed": false,
     "input": [
      "status = clinical.clinical[['hpvstatusbyishtesting','hpvstatusbyp16testing']]\n",
      "hpv_clin = (status.dropna(how='all') == 'positive').sum(1) > 0\n",
      "hpv = hpv.ix[true_index(hpv_clin).union(hpv.index)].fillna('HPV+')"
     ],
     "language": "python",
     "metadata": {},
     "outputs": [],
     "prompt_number": 6
    },
    {
     "cell_type": "code",
     "collapsed": false,
     "input": [
      "clin = pd.read_table(path + 'clinical_patient_hnsc.txt', index_col=0)\n",
      "status = clin[['hpv_status_by_ish_testing','hpv_status_by_p16_testing']]\n",
      "hpv_clin = (status.dropna(how='all') == 'Positive').sum(1) > 0\n",
      "hpv = hpv.ix[true_index(hpv_clin).union(hpv.index)].fillna('HPV+')\n",
      "\n",
      "neg = (status.dropna(how='all') == 'Negative').sum(1) > 0\n",
      "neg = true_index(combine(neg, hpv.ix[neg.index].isnull()) == 'both')\n",
      "for i in neg:\n",
      "    hpv = hpv.set_value(i, 'HPV-')"
     ],
     "language": "python",
     "metadata": {},
     "outputs": [],
     "prompt_number": 7
    },
    {
     "cell_type": "markdown",
     "metadata": {},
     "source": [
      "##Clinical Features"
     ]
    },
    {
     "cell_type": "code",
     "collapsed": false,
     "input": [
      "clinical_processed = pd.read_csv(cancer.path + '/Clinical/clinical_processed.csv', index_col=0)\n",
      "clinical_processed['pre_2000'] = (clinical_processed.year < 2000).map({True: 'pre_2000', False: 'post_2000'})\n",
      "hpv_inferred = clinical_processed.hpv_inferred"
     ],
     "language": "python",
     "metadata": {},
     "outputs": [],
     "prompt_number": 8
    },
    {
     "cell_type": "code",
     "collapsed": false,
     "input": [
      "surv = clinical.survival.survival_5y\n",
      "old = pd.Series(1.*(age>=75), name='old')"
     ],
     "language": "python",
     "metadata": {},
     "outputs": [],
     "prompt_number": 9
    },
    {
     "cell_type": "markdown",
     "metadata": {},
     "source": [
      "####Form expression and methylation features without HPV  \n",
      "* HPV has a big influence on expression, here I am creating a second set of features without HPV\n",
      "* I use this sparingly but it helps to tease out wheter an association is due to a underlying relationship with HPV"
     ]
    },
    {
     "cell_type": "code",
     "collapsed": false,
     "input": [
      "from Stats.Survival import cox\n",
      "\n",
      "rev_kruskal = lambda a,b: kruskal_pandas(b,a)\n",
      "def fc(hit_vec, response_vec):\n",
      "    f = response_vec.groupby(hit_vec).median()\n",
      "    return f[0] > f[1]\n",
      "\n",
      "def mut_filter(df, rate):\n",
      "    df = df[df.sum(1) >= 8]\n",
      "    #return df\n",
      "    cc = screen_feature(rate, rev_kruskal, df)\n",
      "    \n",
      "    fc_apply = lambda s: fc(s, rate)\n",
      "    direction = df.apply(fc_apply, axis=1)\n",
      "    direction.name = 'direction'\n",
      "    \n",
      "    cc = cc.join(direction)\n",
      "    cc = cc[cc.direction==False]\n",
      "    \n",
      "    #df = df.ix[((cc.p>.00001) + (df.sum(1).isin(range(10, df.shape[1] / 3)))) > 0]\n",
      "    df = df.ix[true_index(cc.p > .01)]\n",
      "    df = df.dropna(axis=1)\n",
      "    return df\n",
      "\n",
      "def cox_screen(df, surv, axis=1):\n",
      "    c = df.apply(pd.value_counts).count()\n",
      "    df = df.ix[:, c[c>1].index]\n",
      "    \n",
      "    rr = df.apply(lambda s: cox(s.dropna(), surv), axis=axis)\n",
      "    if axis==0:\n",
      "        rr = rr.T\n",
      "    rr['q'] = bhCorrection(rr.p)\n",
      "    rr = rr.sort('p')\n",
      "    return rr\n",
      "\n",
      "def get_patient_set(filters):\n",
      "    f1 = [age >= 100] + list(filters)\n",
      "    filter_df = pd.concat(f1, axis=1)\n",
      "    clinical_filter = filter_df.sum(1) == 0\n",
      "    keepers_o = true_index(clinical_filter)\n",
      "    \n",
      "    f2 = [age >= 85] + list(filters)\n",
      "    filter_df = pd.concat(f2, axis=1)\n",
      "    clinical_filter = filter_df.sum(1) == 0\n",
      "    keepers = true_index(clinical_filter)\n",
      "    return keepers, keepers_o"
     ],
     "language": "python",
     "metadata": {},
     "outputs": [],
     "prompt_number": 10
    },
    {
     "cell_type": "code",
     "collapsed": false,
     "input": [
      "def get_data(keepers_o):\n",
      "    mut_df = mut_filter(mut.features.ix[:,keepers_o], mut.df.sum()).T\n",
      "    \n",
      "    del_df = (cn.features.ix['Deletion', keepers_o].dropna(1) < 0).astype(int)\n",
      "    del_df = del_df[del_df.sum(1) > 8]\n",
      "    del_df.index = del_df.index.droplevel(1)\n",
      "    del_df = del_df.T\n",
      "    amp_df = (cn.features.ix['Amplification', keepers_o].dropna(1) > 0).astype(int)\n",
      "    amp_df = amp_df[amp_df.sum(1) > 8]\n",
      "    amp_df.index = amp_df.index.droplevel(1)\n",
      "    amp_df = amp_df.T\n",
      "    \n",
      "    global_df = pd.concat([global_vars['mutation'], global_vars['cna'], rna.global_vars, \n",
      "                           meth.global_vars, mirna.global_vars], \n",
      "                    keys=['mutation', 'cna', 'rna', 'methylation', 'mirna'], axis=1)\n",
      "    global_df.columns = map(lambda s: '_'.join(s), global_df.columns)\n",
      "    \n",
      "    mirna_df = mirna.features.copy()\n",
      "    mirna_df.index = map(lambda s: '_'.join(s), mirna_df.index)\n",
      "    mirna_df = mirna_df.T\n",
      "    \n",
      "    clinical_df = clinical_processed.select(lambda s: 'hpv' not in s, 1)\n",
      "    \n",
      "    data_sets = {'clinical': clinical_df,\n",
      "                 'global': global_df,\n",
      "                 'mutation': mut_df,\n",
      "                 'deletion': del_df,\n",
      "                 'amplification': amp_df,\n",
      "                 'rna': rna.pathways.T,\n",
      "                 'mirna': mirna_df,\n",
      "                 'methylation': meth.pathways.T}\n",
      "    return data_sets\n",
      "\n",
      "def test(s, surv, cov_df):\n",
      "    s = s.dropna()\n",
      "    try:\n",
      "        s = s.astype(float)\n",
      "    except:\n",
      "        pass\n",
      "    try:\n",
      "        return get_cox_ph_ms(surv, s, cov_df, return_val='LR', interactions='just_first')\n",
      "    except:\n",
      "        return pd.Series(index=['LR','feature_p', 'fmla', 'hazzard'])\n",
      "    #if (len(s.unique()) == 1):\n",
      "    #    res = pd.Series(index=['LR','feature_p', 'fmla', 'hazzard'])\n",
      "    #if (len(s.unique()) == 2) and (s.value_counts().min() < 8):\n",
      "    #    res = pd.Series(index=['LR','feature_p', 'fmla', 'hazzard'])  \n",
      "    \n",
      "\n",
      "from Stats.Survival import LR_test\n",
      "\n",
      "def _interaction(a,b, surv):\n",
      "    a,b = a.copy(), b.copy()\n",
      "    a.name, b.name = 'a','b'\n",
      "    m1 = get_cox_ph(surv, covariates=[a,b], interactions=True)\n",
      "    if fisher_exact_test(a,b)['odds_ratio'] > 1:\n",
      "        int_direction = 'both'\n",
      "    else:\n",
      "        int_direction = 'neither'\n",
      "        \n",
      "    int_var = 1.*(combine(a,b)==int_direction)\n",
      "    int_var.name = 'interaction'\n",
      "    m2 = get_cox_ph(surv, covariates=[int_var])\n",
      "    return pd.Series({'interaction': int_direction, 'p': LR_test(m2, m1)})\n",
      "def interaction(a,b, surv):\n",
      "    try:\n",
      "        return _interaction(a,b, surv)\n",
      "    except:\n",
      "        return pd.Series(index=['interaction','p'])\n",
      "    \n",
      "def get_interactions(df, cov_df):\n",
      "    binary = df[df.T.describe().ix['unique'] == 2]\n",
      "    s = pd.DataFrame({(a,b): interaction(v1,v2, surv) \n",
      "                          for a,v1 in binary.iterrows()\n",
      "                          for b,v2 in binary.iterrows()\n",
      "                          if (a < b)\n",
      "                          and fisher_exact_test(v1,v2).ix['p'] < .01}).T\n",
      "    int_pairs =  s.ix[s.p < 1].sort('p')\n",
      "    \n",
      "    int_associations = {}\n",
      "    for p,vals in int_pairs.iterrows():\n",
      "        combo = combine(binary.ix[p[0]], binary.ix[p[1]])\n",
      "        vec = combo == vals['interaction']\n",
      "        int_associations[p] = test(vec, surv, cov_df) \n",
      "    int_associations = pd.DataFrame(int_associations).T\n",
      "    return int_associations"
     ],
     "language": "python",
     "metadata": {},
     "outputs": [],
     "prompt_number": 11
    },
    {
     "cell_type": "code",
     "collapsed": false,
     "input": [
      "def run_screen(data_sets, keepers, keepers_o):\n",
      "    univariate = pd.concat({d: cox_screen(df.ix[keepers], surv, 0) for d,df in data_sets.iteritems()})\n",
      "    hits = univariate[univariate.q < .5].index\n",
      "\n",
      "    df = pd.concat(data_sets, 1).T.ix[hits, keepers_o]\n",
      "    cov_df = pd.concat([age], axis=1)\n",
      "    feature_age = df.apply(test, args=(surv, cov_df,), axis=1)\n",
      "    \n",
      "    vec = feature_age.LR.ix[univariate.index].sort_index()\n",
      "    feature_age['q_bonf'] = vec.groupby(level=0).apply(lambda s: s*len(s)).order()\n",
      "    feature_age['q_bh'] = vec.groupby(level=0).apply(bhCorrection).order()\n",
      "    \n",
      "    hits = feature_age[feature_age.q_bh < .3].index\n",
      "    df = pd.concat(data_sets, 1).T.ix[hits, keepers_o]\n",
      "    try:\n",
      "        interactions = get_interactions(df, cov_df)\n",
      "        res = pd.concat([feature_age, interactions]).sort('LR')\n",
      "    except:\n",
      "        res = feature_age\n",
      "    return res"
     ],
     "language": "python",
     "metadata": {},
     "outputs": [],
     "prompt_number": 12
    },
    {
     "cell_type": "code",
     "collapsed": false,
     "input": [
      "spread = clinical_processed.spread_inferred.astype(str)\n",
      "spread.name = 'spread'"
     ],
     "language": "python",
     "metadata": {},
     "outputs": [],
     "prompt_number": 13
    },
    {
     "cell_type": "code",
     "collapsed": false,
     "input": [
      "def get_patient_set(filters):\n",
      "    f1 = [age >= 100] + list(filters)\n",
      "    filter_df = pd.concat(f1, axis=1)\n",
      "    clinical_filter = filter_df.dropna().sum(1) == 0\n",
      "    keepers_o = true_index(clinical_filter)\n",
      "    keepers_o = keepers_o.intersection(mut.features.columns).intersection(cn.features.columns)\n",
      "    \n",
      "    f2 = [age >= 85] + list(filters)\n",
      "    filter_df = pd.concat(f2, axis=1)\n",
      "    clinical_filter = filter_df.sum(1) == 0\n",
      "    keepers = true_index(clinical_filter)\n",
      "    keepers = keepers.intersection(mut.features.columns).intersection(cn.features.columns)\n",
      "    return keepers, keepers_o"
     ],
     "language": "python",
     "metadata": {},
     "outputs": [],
     "prompt_number": 14
    },
    {
     "cell_type": "code",
     "collapsed": false,
     "input": [
      "keepers, keepers_o = get_patient_set([hpv_inferred==1])\n",
      "data_sets = get_data(keepers_o)\n",
      "res = run_screen(data_sets, keepers, keepers_o)"
     ],
     "language": "python",
     "metadata": {},
     "outputs": [],
     "prompt_number": 15
    },
    {
     "cell_type": "code",
     "collapsed": false,
     "input": [
      "res.head()"
     ],
     "language": "python",
     "metadata": {},
     "outputs": [
      {
       "html": [
        "<div style=\"max-height:1000px;max-width:1500px;overflow:auto;\">\n",
        "<table border=\"1\" class=\"dataframe\">\n",
        "  <thead>\n",
        "    <tr style=\"text-align: right;\">\n",
        "      <th></th>\n",
        "      <th></th>\n",
        "      <th>LR</th>\n",
        "      <th>feature_p</th>\n",
        "      <th>fmla</th>\n",
        "      <th>hazzard</th>\n",
        "      <th>q_bh</th>\n",
        "      <th>q_bonf</th>\n",
        "    </tr>\n",
        "  </thead>\n",
        "  <tbody>\n",
        "    <tr>\n",
        "      <th>(deletion, 3p14.2)</th>\n",
        "      <th>(mutation, TP53)</th>\n",
        "      <td> 2.28e-06</td>\n",
        "      <td> 5.42e-05</td>\n",
        "      <td> Surv(days, event) ~ feature + age + feature:age\\n</td>\n",
        "      <td>  4.31</td>\n",
        "      <td>      NaN</td>\n",
        "      <td>      NaN</td>\n",
        "    </tr>\n",
        "    <tr>\n",
        "      <th rowspan=\"2\" valign=\"top\">rna</th>\n",
        "      <th>BIOCARTA_BARRESTIN_SRC_PATHWAY</th>\n",
        "      <td> 8.38e-06</td>\n",
        "      <td> 1.62e-05</td>\n",
        "      <td>               Surv(days, event) ~ feature + age\\n</td>\n",
        "      <td>   1.6</td>\n",
        "      <td> 2.56e-03</td>\n",
        "      <td> 3.62e-03</td>\n",
        "    </tr>\n",
        "    <tr>\n",
        "      <th>BIOCARTA_BARR_MAPK_PATHWAY</th>\n",
        "      <td> 1.19e-05</td>\n",
        "      <td> 1.87e-05</td>\n",
        "      <td>               Surv(days, event) ~ feature + age\\n</td>\n",
        "      <td> 0.634</td>\n",
        "      <td> 2.56e-03</td>\n",
        "      <td> 5.12e-03</td>\n",
        "    </tr>\n",
        "    <tr>\n",
        "      <th>mirna</th>\n",
        "      <th>binary_hsa-mir-3170</th>\n",
        "      <td> 1.71e-05</td>\n",
        "      <td> 2.92e-05</td>\n",
        "      <td>               Surv(days, event) ~ feature + age\\n</td>\n",
        "      <td>  2.33</td>\n",
        "      <td> 4.82e-03</td>\n",
        "      <td> 4.82e-03</td>\n",
        "    </tr>\n",
        "    <tr>\n",
        "      <th>deletion</th>\n",
        "      <th>3p14.2</th>\n",
        "      <td> 1.78e-05</td>\n",
        "      <td>  0.00113</td>\n",
        "      <td> Surv(days, event) ~ feature + age + feature:age\\n</td>\n",
        "      <td>  7.59</td>\n",
        "      <td> 7.85e-04</td>\n",
        "      <td> 7.85e-04</td>\n",
        "    </tr>\n",
        "  </tbody>\n",
        "</table>\n",
        "</div>"
       ],
       "metadata": {},
       "output_type": "pyout",
       "prompt_number": 16,
       "text": [
        "                                                         LR feature_p                                               fmla hazzard      q_bh    q_bonf\n",
        "(deletion, 3p14.2) (mutation, TP53)                2.28e-06  5.42e-05  Surv(days, event) ~ feature + age + feature:age\\n    4.31       NaN       NaN\n",
        "rna                BIOCARTA_BARRESTIN_SRC_PATHWAY  8.38e-06  1.62e-05                Surv(days, event) ~ feature + age\\n     1.6  2.56e-03  3.62e-03\n",
        "                   BIOCARTA_BARR_MAPK_PATHWAY      1.19e-05  1.87e-05                Surv(days, event) ~ feature + age\\n   0.634  2.56e-03  5.12e-03\n",
        "mirna              binary_hsa-mir-3170             1.71e-05  2.92e-05                Surv(days, event) ~ feature + age\\n    2.33  4.82e-03  4.82e-03\n",
        "deletion           3p14.2                          1.78e-05   0.00113  Surv(days, event) ~ feature + age + feature:age\\n    7.59  7.85e-04  7.85e-04"
       ]
      }
     ],
     "prompt_number": 16
    },
    {
     "cell_type": "code",
     "collapsed": false,
     "input": [
      "two_hit = combine(data_sets['mutation']['TP53'], data_sets['deletion']['3p14.2']) == 'both'\n",
      "survival_and_stats(two_hit, surv, figsize=(6,4))"
     ],
     "language": "python",
     "metadata": {},
     "outputs": [
      {
       "metadata": {},
       "output_type": "display_data",
       "png": "[encoded data removed]",
       "text": [
        "<matplotlib.figure.Figure at 0x7e85250>"
       ]
      }
     ],
     "prompt_number": 17
    },
    {
     "cell_type": "code",
     "collapsed": false,
     "input": [
      "combo = combine(data_sets['mutation']['TP53'], data_sets['deletion']['3p14.2'])\n",
      "survival_and_stats(combo, surv, figsize=(6,4))"
     ],
     "language": "python",
     "metadata": {},
     "outputs": [
      {
       "metadata": {},
       "output_type": "display_data",
       "png": "[encoded data removed]",
       "text": [
        "<matplotlib.figure.Figure at 0x7f1ac50>"
       ]
      }
     ],
     "prompt_number": 18
    },
    {
     "cell_type": "code",
     "collapsed": false,
     "input": [
      "keepers, keepers_o = get_patient_set([hpv_inferred==1, two_hit==True])\n",
      "data_sets = get_data(keepers_o)\n",
      "res = run_screen(data_sets, keepers, keepers_o)"
     ],
     "language": "python",
     "metadata": {},
     "outputs": [],
     "prompt_number": 19
    },
    {
     "cell_type": "code",
     "collapsed": false,
     "input": [
      "res.sort('LR').head()"
     ],
     "language": "python",
     "metadata": {},
     "outputs": [
      {
       "html": [
        "<div style=\"max-height:1000px;max-width:1500px;overflow:auto;\">\n",
        "<table border=\"1\" class=\"dataframe\">\n",
        "  <thead>\n",
        "    <tr style=\"text-align: right;\">\n",
        "      <th></th>\n",
        "      <th></th>\n",
        "      <th>LR</th>\n",
        "      <th>feature_p</th>\n",
        "      <th>fmla</th>\n",
        "      <th>hazzard</th>\n",
        "      <th>q_bh</th>\n",
        "      <th>q_bonf</th>\n",
        "    </tr>\n",
        "  </thead>\n",
        "  <tbody>\n",
        "    <tr>\n",
        "      <th>mirna</th>\n",
        "      <th>real_hsa-mir-340</th>\n",
        "      <td> 1.85e-04</td>\n",
        "      <td> 2.21e-05</td>\n",
        "      <td> Surv(days, event) ~ feature + age + feature:age\\n</td>\n",
        "      <td> 3.86e+00</td>\n",
        "      <td> 0.05</td>\n",
        "      <td> 0.05</td>\n",
        "    </tr>\n",
        "    <tr>\n",
        "      <th>deletion</th>\n",
        "      <th>9p21.3</th>\n",
        "      <td> 3.56e-04</td>\n",
        "      <td> 1.11e-02</td>\n",
        "      <td> Surv(days, event) ~ feature + age + feature:age\\n</td>\n",
        "      <td> 1.22e+02</td>\n",
        "      <td> 0.01</td>\n",
        "      <td> 0.01</td>\n",
        "    </tr>\n",
        "    <tr>\n",
        "      <th>mirna</th>\n",
        "      <th>binary_hsa-mir-548s</th>\n",
        "      <td> 5.32e-04</td>\n",
        "      <td> 3.40e-03</td>\n",
        "      <td> Surv(days, event) ~ feature + age + feature:age\\n</td>\n",
        "      <td> 9.31e+00</td>\n",
        "      <td> 0.07</td>\n",
        "      <td> 0.15</td>\n",
        "    </tr>\n",
        "    <tr>\n",
        "      <th>mutation</th>\n",
        "      <th>BIOCARTA_CARDIACEGF_PATHWAY</th>\n",
        "      <td> 5.70e-04</td>\n",
        "      <td> 9.96e-01</td>\n",
        "      <td> Surv(days, event) ~ feature + age + feature:age\\n</td>\n",
        "      <td> 9.24e-30</td>\n",
        "      <td> 0.09</td>\n",
        "      <td> 0.09</td>\n",
        "    </tr>\n",
        "    <tr>\n",
        "      <th>deletion</th>\n",
        "      <th>19p13.3</th>\n",
        "      <td> 5.72e-04</td>\n",
        "      <td> 1.26e-03</td>\n",
        "      <td> Surv(days, event) ~ feature + age + feature:age\\n</td>\n",
        "      <td> 1.46e+01</td>\n",
        "      <td> 0.01</td>\n",
        "      <td> 0.02</td>\n",
        "    </tr>\n",
        "  </tbody>\n",
        "</table>\n",
        "</div>"
       ],
       "metadata": {},
       "output_type": "pyout",
       "prompt_number": 20,
       "text": [
        "                                            LR  feature_p                                               fmla   hazzard  q_bh  q_bonf\n",
        "mirna    real_hsa-mir-340             1.85e-04   2.21e-05  Surv(days, event) ~ feature + age + feature:age\\n  3.86e+00  0.05    0.05\n",
        "deletion 9p21.3                       3.56e-04   1.11e-02  Surv(days, event) ~ feature + age + feature:age\\n  1.22e+02  0.01    0.01\n",
        "mirna    binary_hsa-mir-548s          5.32e-04   3.40e-03  Surv(days, event) ~ feature + age + feature:age\\n  9.31e+00  0.07    0.15\n",
        "mutation BIOCARTA_CARDIACEGF_PATHWAY  5.70e-04   9.96e-01  Surv(days, event) ~ feature + age + feature:age\\n  9.24e-30  0.09    0.09\n",
        "deletion 19p13.3                      5.72e-04   1.26e-03  Surv(days, event) ~ feature + age + feature:age\\n  1.46e+01  0.01    0.02"
       ]
      }
     ],
     "prompt_number": 20
    },
    {
     "cell_type": "code",
     "collapsed": false,
     "input": [
      "p16 = data_sets['deletion']['9p21.3'].ix[keepers_o].dropna()\n",
      "survival_and_stats(p16, survival.survival_5y, figsize=(6,4))"
     ],
     "language": "python",
     "metadata": {},
     "outputs": [
      {
       "metadata": {},
       "output_type": "display_data",
       "png": "[encoded data removed]",
       "text": [
        "<matplotlib.figure.Figure at 0x7e9f750>"
       ]
      }
     ],
     "prompt_number": 22
    },
    {
     "cell_type": "code",
     "collapsed": false,
     "input": [
      "ras = data_sets['mutation']['BIOCARTA_CARDIACEGF_PATHWAY'].ix[keepers_o].dropna()\n",
      "survival_and_stats(ras, survival.survival_5y, figsize=(6,4))"
     ],
     "language": "python",
     "metadata": {},
     "outputs": [
      {
       "metadata": {},
       "output_type": "display_data",
       "png": "[encoded data removed]",
       "text": [
        "<matplotlib.figure.Figure at 0xc3e0a50>"
       ]
      }
     ],
     "prompt_number": 23
    },
    {
     "cell_type": "code",
     "collapsed": false,
     "input": [
      "keepers, keepers_o = get_patient_set([hpv_inferred==1, two_hit==True, ras==1])\n",
      "data_sets = get_data(keepers_o)\n",
      "res = run_screen(data_sets, keepers, keepers_o)"
     ],
     "language": "python",
     "metadata": {},
     "outputs": [],
     "prompt_number": 24
    },
    {
     "cell_type": "code",
     "collapsed": false,
     "input": [
      "res.head()"
     ],
     "language": "python",
     "metadata": {},
     "outputs": [
      {
       "html": [
        "<div style=\"max-height:1000px;max-width:1500px;overflow:auto;\">\n",
        "<table border=\"1\" class=\"dataframe\">\n",
        "  <thead>\n",
        "    <tr style=\"text-align: right;\">\n",
        "      <th></th>\n",
        "      <th></th>\n",
        "      <th>LR</th>\n",
        "      <th>feature_p</th>\n",
        "      <th>fmla</th>\n",
        "      <th>hazzard</th>\n",
        "      <th>q_bh</th>\n",
        "      <th>q_bonf</th>\n",
        "    </tr>\n",
        "  </thead>\n",
        "  <tbody>\n",
        "    <tr>\n",
        "      <th>mutation</th>\n",
        "      <th>BIOCARTA_WNT_PATHWAY</th>\n",
        "      <td> 7.26e-04</td>\n",
        "      <td> 1.48e-04</td>\n",
        "      <td> Surv(days, event) ~ feature + age + feature:age\\n</td>\n",
        "      <td>  16.77</td>\n",
        "      <td> 0.13</td>\n",
        "      <td> 0.13</td>\n",
        "    </tr>\n",
        "    <tr>\n",
        "      <th>mirna</th>\n",
        "      <th>binary_hsa-mir-876</th>\n",
        "      <td> 1.16e-03</td>\n",
        "      <td> 1.00e+00</td>\n",
        "      <td> Surv(days, event) ~ feature + age + feature:age\\n</td>\n",
        "      <td>   0.67</td>\n",
        "      <td> 0.33</td>\n",
        "      <td> 0.33</td>\n",
        "    </tr>\n",
        "    <tr>\n",
        "      <th>deletion</th>\n",
        "      <th>9p21.3</th>\n",
        "      <td> 2.63e-03</td>\n",
        "      <td> 2.06e-02</td>\n",
        "      <td> Surv(days, event) ~ feature + age + feature:age\\n</td>\n",
        "      <td> 104.25</td>\n",
        "      <td> 0.08</td>\n",
        "      <td> 0.08</td>\n",
        "    </tr>\n",
        "    <tr>\n",
        "      <th>clinical</th>\n",
        "      <th>spread</th>\n",
        "      <td> 2.91e-03</td>\n",
        "      <td>      NaN</td>\n",
        "      <td>               Surv(days, event) ~ feature + age\\n</td>\n",
        "      <td>    NaN</td>\n",
        "      <td> 0.03</td>\n",
        "      <td> 0.05</td>\n",
        "    </tr>\n",
        "    <tr>\n",
        "      <th>mirna</th>\n",
        "      <th>real_hsa-mir-340</th>\n",
        "      <td> 3.04e-03</td>\n",
        "      <td> 5.70e-04</td>\n",
        "      <td> Surv(days, event) ~ feature + age + feature:age\\n</td>\n",
        "      <td>   3.36</td>\n",
        "      <td> 0.43</td>\n",
        "      <td> 0.86</td>\n",
        "    </tr>\n",
        "  </tbody>\n",
        "</table>\n",
        "</div>"
       ],
       "metadata": {},
       "output_type": "pyout",
       "prompt_number": 25,
       "text": [
        "                                     LR  feature_p                                               fmla  hazzard  q_bh  q_bonf\n",
        "mutation BIOCARTA_WNT_PATHWAY  7.26e-04   1.48e-04  Surv(days, event) ~ feature + age + feature:age\\n    16.77  0.13    0.13\n",
        "mirna    binary_hsa-mir-876    1.16e-03   1.00e+00  Surv(days, event) ~ feature + age + feature:age\\n     0.67  0.33    0.33\n",
        "deletion 9p21.3                2.63e-03   2.06e-02  Surv(days, event) ~ feature + age + feature:age\\n   104.25  0.08    0.08\n",
        "clinical spread                2.91e-03        NaN                Surv(days, event) ~ feature + age\\n      NaN  0.03    0.05\n",
        "mirna    real_hsa-mir-340      3.04e-03   5.70e-04  Surv(days, event) ~ feature + age + feature:age\\n     3.36  0.43    0.86"
       ]
      }
     ],
     "prompt_number": 25
    },
    {
     "cell_type": "code",
     "collapsed": false,
     "input": [
      "wnt = data_sets['mutation']['BIOCARTA_WNT_PATHWAY'].ix[keepers_o].dropna()\n",
      "survival_and_stats(wnt, surv, figsize=(6,4))"
     ],
     "language": "python",
     "metadata": {},
     "outputs": [
      {
       "metadata": {},
       "output_type": "display_data",
       "png": "[encoded data removed]",
       "text": [
        "<matplotlib.figure.Figure at 0x7dc6690>"
       ]
      }
     ],
     "prompt_number": 27
    },
    {
     "cell_type": "code",
     "collapsed": false,
     "input": [
      "keepers, keepers_o = get_patient_set([hpv_inferred==1, two_hit==True, ras==1, wnt==1])\n",
      "data_sets = get_data(keepers_o)\n",
      "res = run_screen(data_sets, keepers, keepers_o)"
     ],
     "language": "python",
     "metadata": {},
     "outputs": [],
     "prompt_number": "*"
    },
    {
     "cell_type": "code",
     "collapsed": false,
     "input": [
      "res.sort('LR').head()"
     ],
     "language": "python",
     "metadata": {},
     "outputs": [],
     "prompt_number": "*"
    },
    {
     "cell_type": "code",
     "collapsed": false,
     "input": [
      "mdm2 = data_sets['amplification']['12q15'].ix[keepers_o].dropna()\n",
      "survival_and_stats(mdm2, surv, figsize=(6,4))"
     ],
     "language": "python",
     "metadata": {},
     "outputs": [],
     "prompt_number": "*"
    },
    {
     "cell_type": "code",
     "collapsed": false,
     "input": [
      "keepers, keepers_o = get_patient_set([hpv_inferred==1, two_hit==True, ras==1, wnt==1, mdm2==1])\n",
      "data_sets = get_data(keepers_o)\n",
      "res = run_screen(data_sets, keepers, keepers_o)"
     ],
     "language": "python",
     "metadata": {},
     "outputs": [],
     "prompt_number": "*"
    },
    {
     "cell_type": "code",
     "collapsed": false,
     "input": [
      "res.head()"
     ],
     "language": "python",
     "metadata": {},
     "outputs": [],
     "prompt_number": "*"
    },
    {
     "cell_type": "code",
     "collapsed": false,
     "input": [
      "st = (1*(ras==0)).copy()\n",
      "#st.ix[true_index(st==1).intersection(true_index(old==1))] = 2\n",
      "#st.ix[st.index.intersection(true_index(old==1))] = 2\n",
      "st.ix[true_index(st==1).intersection(true_index(mdm2==1))] = 3\n",
      "st.ix[true_index(st==1).intersection(true_index(wnt==1))] = 4"
     ],
     "language": "python",
     "metadata": {},
     "outputs": [],
     "prompt_number": "*"
    },
    {
     "cell_type": "code",
     "collapsed": false,
     "input": [
      "survival_and_stats(st, clinical.survival.survival_5y, upper_lim=10, figsize=(5,4), order=[3,2,1,0])\n",
      "plt.savefig('/cellar/users/agross/Desktop/Figures/subtype1_subtypes.pdf', tranparent=True)"
     ],
     "language": "python",
     "metadata": {},
     "outputs": [],
     "prompt_number": "*"
    },
    {
     "cell_type": "code",
     "collapsed": false,
     "input": [
      "keepers, keepers_o = get_patient_set([hpv_inferred==1, two_hit==False])\n",
      "data_sets = get_data(keepers_o)\n",
      "res = run_screen(data_sets, keepers, keepers_o)"
     ],
     "language": "python",
     "metadata": {},
     "outputs": [],
     "prompt_number": "*"
    },
    {
     "cell_type": "code",
     "collapsed": false,
     "input": [
      "res.head()"
     ],
     "language": "python",
     "metadata": {},
     "outputs": [],
     "prompt_number": "*"
    },
    {
     "cell_type": "code",
     "collapsed": false,
     "input": [
      "muc5b = data_sets['mutation']['MUC5B'].ix[keepers_o].dropna()\n",
      "survival_and_stats(muc5b, surv, figsize=(6,4)) "
     ],
     "language": "python",
     "metadata": {},
     "outputs": [],
     "prompt_number": "*"
    },
    {
     "cell_type": "code",
     "collapsed": false,
     "input": [
      "violin_plot_series(meth.df.ix['MUC5B'])"
     ],
     "language": "python",
     "metadata": {},
     "outputs": [],
     "prompt_number": "*"
    },
    {
     "cell_type": "code",
     "collapsed": false,
     "input": [
      "violin_plot_pandas(muc5b, global_vars.mutation.rate_non.clip(0,.00002).ix[true_index(two_hit==1)])"
     ],
     "language": "python",
     "metadata": {},
     "outputs": [],
     "prompt_number": "*"
    },
    {
     "cell_type": "code",
     "collapsed": false,
     "input": [
      "f = combine(rna.df.ix['MUC5B'].ix[:,'01'] < 0, mut.features.ix['MUC5B'])\n",
      "f = f.ix[keepers_o].dropna()!='neither'"
     ],
     "language": "python",
     "metadata": {},
     "outputs": [],
     "prompt_number": "*"
    },
    {
     "cell_type": "code",
     "collapsed": false,
     "input": [
      "m = global_vars.mutation.rate_non.ix[true_index(muc5b==1)].mean()\n",
      "draw_survival_curves(global_vars.mutation.rate_non > m, surv, muc5b, show=True, show_legend=False, ann='p')"
     ],
     "language": "python",
     "metadata": {},
     "outputs": [],
     "prompt_number": "*"
    },
    {
     "cell_type": "code",
     "collapsed": false,
     "input": [
      "keepers, keepers_o = get_patient_set([hpv_inferred==1, two_hit==False, muc5b==1])\n",
      "data_sets = get_data(keepers_o)\n",
      "res = run_screen(data_sets, keepers, keepers_o)"
     ],
     "language": "python",
     "metadata": {},
     "outputs": [],
     "prompt_number": "*"
    },
    {
     "cell_type": "code",
     "collapsed": false,
     "input": [
      "res.head()"
     ],
     "language": "python",
     "metadata": {},
     "outputs": [],
     "prompt_number": "*"
    },
    {
     "cell_type": "code",
     "collapsed": false,
     "input": [
      "pre_2k = data_sets['clinical']['pre_2000'].ix[keepers_o].dropna()\n",
      "survival_and_stats(pre_2k, surv, figsize=(6,4))\n"
     ],
     "language": "python",
     "metadata": {},
     "outputs": [],
     "prompt_number": "*"
    },
    {
     "cell_type": "code",
     "collapsed": false,
     "input": [
      "keepers, keepers_o = get_patient_set([hpv_inferred==1, two_hit==False, muc5b==1, pre_2k=='pre_2000'])\n",
      "data_sets = get_data(keepers_o)\n",
      "res = run_screen(data_sets, keepers, keepers_o)"
     ],
     "language": "python",
     "metadata": {},
     "outputs": [],
     "prompt_number": "*"
    },
    {
     "cell_type": "code",
     "collapsed": false,
     "input": [
      "res[res.q_bh < .3].head()\n"
     ],
     "language": "python",
     "metadata": {},
     "outputs": [],
     "prompt_number": "*"
    },
    {
     "cell_type": "code",
     "collapsed": false,
     "input": [
      "mir548 = data_sets['mirna']['binary_hsa-mir-548k'].ix[keepers_o].dropna()\n",
      "survival_and_stats(mir548, surv, figsize=(6,4))"
     ],
     "language": "python",
     "metadata": {},
     "outputs": [],
     "prompt_number": "*"
    },
    {
     "cell_type": "code",
     "collapsed": false,
     "input": [
      "keepers, keepers_o = get_patient_set([hpv_inferred==1, two_hit==False, muc5b==1, pre_2k=='pre_2000', mir548==1])\n",
      "data_sets = get_data(keepers_o)\n",
      "res = run_screen(data_sets, keepers, keepers_o)"
     ],
     "language": "python",
     "metadata": {},
     "outputs": [],
     "prompt_number": "*"
    },
    {
     "cell_type": "code",
     "collapsed": false,
     "input": [
      "res.head()"
     ],
     "language": "python",
     "metadata": {},
     "outputs": [],
     "prompt_number": "*"
    },
    {
     "cell_type": "code",
     "collapsed": false,
     "input": [
      "keepers, keepers_o = get_patient_set([hpv_inferred==1, two_hit==False, muc5b==1, pre_2k=='pre_2000', mir548==0])\n",
      "data_sets = get_data(keepers_o)\n",
      "res = run_screen(data_sets, keepers, keepers_o)"
     ],
     "language": "python",
     "metadata": {},
     "outputs": [],
     "prompt_number": "*"
    },
    {
     "cell_type": "code",
     "collapsed": false,
     "input": [
      "res[res.q_bh < .3].sort('q_bonf').head()"
     ],
     "language": "python",
     "metadata": {},
     "outputs": [],
     "prompt_number": "*"
    },
    {
     "cell_type": "code",
     "collapsed": false,
     "input": [
      "draw_survival_curves(data_sets['clinical']['spread_inferred'].ix[keepers_o], surv, show=True, ann='p', show_legend=True)"
     ],
     "language": "python",
     "metadata": {},
     "outputs": [],
     "prompt_number": "*"
    },
    {
     "cell_type": "code",
     "collapsed": false,
     "input": [
      "keepers, keepers_o = get_patient_set([hpv_inferred==1, two_hit==False, muc5b==1, pre_2k=='post_2000'])\n",
      "data_sets = get_data(keepers_o)\n",
      "res = run_screen(data_sets, keepers, keepers_o)"
     ],
     "language": "python",
     "metadata": {},
     "outputs": [],
     "prompt_number": "*"
    },
    {
     "cell_type": "code",
     "collapsed": false,
     "input": [
      "res.sort('q_bh').head()"
     ],
     "language": "python",
     "metadata": {},
     "outputs": [],
     "prompt_number": "*"
    },
    {
     "cell_type": "code",
     "collapsed": false,
     "input": [
      "draw_survival_curves(data_sets['amplification']['2q11.2'].ix[keepers], surv, show=True, ann='p', show_legend=True)"
     ],
     "language": "python",
     "metadata": {},
     "outputs": [],
     "prompt_number": "*"
    },
    {
     "cell_type": "code",
     "collapsed": false,
     "input": [
      "st = (two_hit*1.).copy()\n",
      "#st.ix[st.index.intersection(true_index(clinical_processed.pre_2000=='pre_2000'))] = nan\n",
      "st.ix[true_index(st==1).intersection(true_index(muc5b==1))] = 2\n",
      "#st.ix[true_index(st==1).intersection(true_index(pre_2k=='pre_2000'))] = nan\n",
      "st.ix[true_index(st==1).intersection(true_index(mir548==1))] = 4"
     ],
     "language": "python",
     "metadata": {},
     "outputs": [],
     "prompt_number": "*"
    },
    {
     "cell_type": "code",
     "collapsed": false,
     "input": [
      "survival_and_stats(st.dropna(), surv)"
     ],
     "language": "python",
     "metadata": {},
     "outputs": [],
     "prompt_number": "*"
    },
    {
     "cell_type": "code",
     "collapsed": false,
     "input": [
      "draw_survival_curves(st, surv, show=True, ann='p', show_legend=False)"
     ],
     "language": "python",
     "metadata": {},
     "outputs": [],
     "prompt_number": "*"
    }
   ],
   "metadata": {}
  }
 ]
}