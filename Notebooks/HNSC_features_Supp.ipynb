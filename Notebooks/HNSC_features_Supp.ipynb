{
 "metadata": {
  "name": ""
 },
 "nbformat": 3,
 "nbformat_minor": 0,
 "worksheets": [
  {
   "cells": [
    {
     "cell_type": "markdown",
     "metadata": {
      "slideshow": {
       "slide_type": "slide"
      }
     },
     "source": [
      "#HNSCC Feature Space Exploration\n",
      "<h2 style='color:Green'><em>ONLY HPV- Patients</em></h2> \n",
      "\n",
      "* <a href='#setup'>Setup</a>\n",
      "  * Read in Pre-processed Data\n",
      "  * Update patient followup based on most recent data obtained from TCGA Data-Portal \n",
      "* <a href='#clin_table'>Supplemtal Table 1: Clinical characteristics of HPV- cohort</a>\n",
      "* <a href='#followup'>Supplemental Figure 2: Patient Survial and Followup Characteristics</a>\n",
      "* <a href='#inferred_vars'>Supplemental Figure 3: Inferred Clinical Variables</a>\n",
      "* <a href='#clinical_model'>Supplemental Table 4: Clinical Model</a> \n",
      "  * All variables\n",
      "  * All variables without year of diagnosis\n",
      "  * No inferred variables\n",
      "  * No inferred variables or year of diagnosis"
     ]
    },
    {
     "cell_type": "code",
     "collapsed": false,
     "input": [
      "cd ../src"
     ],
     "language": "python",
     "metadata": {
      "slideshow": {
       "slide_type": "skip"
      }
     },
     "outputs": [
      {
       "output_type": "stream",
       "stream": "stdout",
       "text": [
        "/cellar/users/agross/TCGA_Code/TCGA/Pathway_Merge/src\n"
       ]
      }
     ],
     "prompt_number": 1
    },
    {
     "cell_type": "code",
     "collapsed": false,
     "input": [
      "from Processing.Imports import *\n",
      "from Figures.Survival import survival_stat_plot\n",
      "from Stats.Survival import log_rank\n",
      "from Figures.Survival import survival_and_stats\n",
      "from Stats.Classification import SVC_fill"
     ],
     "language": "python",
     "metadata": {
      "slideshow": {
       "slide_type": "skip"
      }
     },
     "outputs": [],
     "prompt_number": 2
    },
    {
     "cell_type": "code",
     "collapsed": false,
     "input": [
      "from Figures.Helpers import *"
     ],
     "language": "python",
     "metadata": {},
     "outputs": [],
     "prompt_number": 3
    },
    {
     "cell_type": "markdown",
     "metadata": {},
     "source": [
      "<h4 id='read'>Read in Pre-processed Data</h3>"
     ]
    },
    {
     "cell_type": "code",
     "collapsed": false,
     "input": [
      "run = get_run('/cellar/data/TCGA/Firehose__2013_05_23/', 'Run_all')\n",
      "cancer = run.load_cancer('HNSC')\n",
      "clinical = cancer.load_clinical()\n",
      "global_vars = cancer.load_global_vars()\n",
      "\n",
      "mut = cancer.load_data('Mutation')\n",
      "mut.uncompress()\n",
      "cn = cancer.load_data('CN_broad')\n",
      "cn.uncompress()\n",
      "rppa  = cancer.load_data('RPPA')"
     ],
     "language": "python",
     "metadata": {
      "slideshow": {
       "slide_type": "skip"
      }
     },
     "outputs": [],
     "prompt_number": 4
    },
    {
     "cell_type": "code",
     "collapsed": false,
     "input": [
      "rna_all = cancer.load_data('mRNASeq')\n",
      "mirna_all = cancer.load_data('miRNASeq')\n",
      "meth_all = cancer.load_data('Methylation')"
     ],
     "language": "python",
     "metadata": {},
     "outputs": [],
     "prompt_number": 50
    },
    {
     "cell_type": "code",
     "collapsed": false,
     "input": [
      "rna_all = rna_all.features.groupby(level=0).size().order(ascending=False)\n",
      "mirna_all = mirna_all.features.groupby(level=0).size().order(ascending=False)\n",
      "meth_all = meth_all.features.groupby(level=0).size().order(ascending=False)"
     ],
     "language": "python",
     "metadata": {},
     "outputs": [],
     "prompt_number": 53
    },
    {
     "cell_type": "code",
     "collapsed": false,
     "input": [
      "pd.concat({'rna': rna_all, 'mirna': mirna_all, 'methylation': meth_all})"
     ],
     "language": "python",
     "metadata": {},
     "outputs": [
      {
       "metadata": {},
       "output_type": "pyout",
       "prompt_number": 55,
       "text": [
        "methylation  real          16\n",
        "             binary        12\n",
        "             pathways       2\n",
        "mirna        binary       214\n",
        "             real         110\n",
        "rna          real        4424\n",
        "             binary      1952\n",
        "             pathways      50\n",
        "dtype: int64"
       ]
      }
     ],
     "prompt_number": 55
    },
    {
     "cell_type": "code",
     "collapsed": false,
     "input": [
      "rna = pickle.load(open(cancer.path + '/mRNASeq/store/no_hpv.p', 'rb'))\n",
      "meth = pickle.load(open(cancer.path + '/Methylation/store/no_hpv.p', 'rb'))\n",
      "mirna = pickle.load(open(cancer.path + '/miRNASeq/store/no_hpv.p', 'rb'))"
     ],
     "language": "python",
     "metadata": {},
     "outputs": [],
     "prompt_number": 5
    },
    {
     "cell_type": "markdown",
     "metadata": {},
     "source": [
      "<h4 id='update'>Update patient followup based on most recent data obtained from TCGA Data-Portal </h3> \n",
      "\n",
      "* Downloaded from [here](https://tcga-data.nci.nih.gov/tcgafiles/ftp_auth/distro_ftpusers/anonymous/tumor/hnsc/bcr/biotab/clin/) \n",
      "* Contains updated followup on patient outcomes"
     ]
    },
    {
     "cell_type": "code",
     "collapsed": false,
     "input": [
      "from Data.ProcessClinical import format_survival_from_data_portal\n",
      "path  = '/cellar/users/agross/Data/TCGA/HNSC_Followup/'\n",
      "survival, timeline = format_survival_from_data_portal(path, cancer.name)\n",
      "clinical.survival = survival\n",
      "clinical.artificially_censor(5)\n",
      "age = timeline.age"
     ],
     "language": "python",
     "metadata": {
      "slideshow": {
       "slide_type": "skip"
      }
     },
     "outputs": [],
     "prompt_number": 6
    },
    {
     "cell_type": "code",
     "collapsed": false,
     "input": [
      "surv = clinical.survival.survival_5y\n",
      "surv_all = clinical.survival.survival"
     ],
     "language": "python",
     "metadata": {},
     "outputs": [],
     "prompt_number": 7
    },
    {
     "cell_type": "markdown",
     "metadata": {},
     "source": [
      "<h4>Read in preprocessed clnical variables</h3>"
     ]
    },
    {
     "cell_type": "code",
     "collapsed": false,
     "input": [
      "clinical_processed = pd.read_csv(cancer.path + '/Clinical/clinical_processed.csv', index_col=0)\n",
      "keepers_o = true_index(clinical_processed.hpv_inferred==0)"
     ],
     "language": "python",
     "metadata": {},
     "outputs": [],
     "prompt_number": 27
    },
    {
     "cell_type": "code",
     "collapsed": false,
     "input": [
      "clinical_processed = clinical_processed.ix[keepers_o]"
     ],
     "language": "python",
     "metadata": {},
     "outputs": [],
     "prompt_number": 25
    },
    {
     "cell_type": "markdown",
     "metadata": {},
     "source": [
      "<h1 id='disclaimer' style='color:red;'>Disclaimer</h1> \n",
      "<b>I do not acutally use the results here in the pipeline.  These computations are all done in the initial data processing step in the data initializaiton section of the pipeline and build into the Data Container objects, but the results should be the same. See the Initializaiton package."
     ]
    },
    {
     "cell_type": "markdown",
     "metadata": {},
     "source": [
      "<h3 id='mut'>Mutation Feature Space</h3> \n",
      "* See <b><code>Initialization.InitializeMut._create_feature_matrix</code></b>"
     ]
    },
    {
     "cell_type": "code",
     "collapsed": false,
     "input": [
      "from Initialization.InitializeMut import is_one_gene, size_filter"
     ],
     "language": "python",
     "metadata": {},
     "outputs": [],
     "prompt_number": 9
    },
    {
     "cell_type": "markdown",
     "metadata": {},
     "source": [
      "####Single Genes"
     ]
    },
    {
     "cell_type": "code",
     "collapsed": false,
     "input": [
      "min_size = run.parameters['min_patients']\n",
      "hit_matrix = mut.df.fillna(0).clip_upper(1.)"
     ],
     "language": "python",
     "metadata": {},
     "outputs": [],
     "prompt_number": 10
    },
    {
     "cell_type": "code",
     "collapsed": false,
     "input": [
      "fig, axs = subplots(1,2, figsize=(5,3), sharey=True)\n",
      "freq_vec = hit_matrix.ix[:,keepers_o].sum(1).clip_upper(100)\n",
      "freq_vec.hist(log=True, ax=axs[0], color=colors[1], alpha=.5)\n",
      "(freq_vec >= min_size).value_counts().plot(kind='bar', ax=axs[1], log=True,\n",
      "                                              color=colors[1], alpha=.5)\n",
      "axs[0].set_ylabel('# of Genes')\n",
      "axs[0].set_xlabel('# of Patients')\n",
      "axs[1].set_xlabel('More than 12 Patients')\n",
      "\n",
      "prettify_ax(axs[0])\n",
      "prettify_ax(axs[1])\n",
      "fig.tight_layout()"
     ],
     "language": "python",
     "metadata": {},
     "outputs": [
      {
       "metadata": {},
       "output_type": "display_data",
       "png": "[encoded data removed]",
       "text": [
        "<matplotlib.figure.Figure at 0x75ab590>"
       ]
      }
     ],
     "prompt_number": 11
    },
    {
     "cell_type": "code",
     "collapsed": false,
     "input": [
      "fs = hit_matrix.apply(size_filter, args=(min_size,), axis=1)\n",
      "single_genes = hit_matrix.ix[fs]\n",
      "fs.value_counts()"
     ],
     "language": "python",
     "metadata": {},
     "outputs": [
      {
       "metadata": {},
       "output_type": "pyout",
       "prompt_number": 104,
       "text": [
        "False    12894\n",
        "True       315\n",
        "dtype: int64"
       ]
      }
     ],
     "prompt_number": 104
    },
    {
     "cell_type": "code",
     "collapsed": false,
     "input": [
      "meta_matrix = pd.DataFrame({p: hit_matrix.ix[g].sum() for p,g in \n",
      "                         run.gene_sets.iteritems()}).T\n",
      "meta_matrix = meta_matrix.fillna(0).clip_upper(1.)\n",
      "meta_matrix = meta_matrix.dropna()"
     ],
     "language": "python",
     "metadata": {},
     "outputs": [],
     "prompt_number": 82
    },
    {
     "cell_type": "code",
     "collapsed": false,
     "input": [
      "f1 = meta_matrix.apply(size_filter, args=(min_size,), axis=1)\n",
      "f1.value_counts()"
     ],
     "language": "python",
     "metadata": {},
     "outputs": [
      {
       "metadata": {},
       "output_type": "pyout",
       "prompt_number": 83,
       "text": [
        "True     806\n",
        "False     26\n",
        "dtype: int64"
       ]
      }
     ],
     "prompt_number": 83
    },
    {
     "cell_type": "code",
     "collapsed": false,
     "input": [
      "f2 = pd.Series({p: is_one_gene(run.gene_sets[p], hit_matrix) == False\n",
      "                for p in meta_matrix.index})\n",
      "f2.value_counts()"
     ],
     "language": "python",
     "metadata": {},
     "outputs": [
      {
       "metadata": {},
       "output_type": "pyout",
       "prompt_number": 97,
       "text": [
        "True     692\n",
        "False    140\n",
        "dtype: int64"
       ]
      }
     ],
     "prompt_number": 97
    },
    {
     "cell_type": "code",
     "collapsed": false,
     "input": [
      "f_combined = combine(f1, f2) == 'both'\n",
      "f_combined.value_counts()"
     ],
     "language": "python",
     "metadata": {},
     "outputs": [
      {
       "metadata": {},
       "output_type": "pyout",
       "prompt_number": 103,
       "text": [
        "True     674\n",
        "False    158\n",
        "dtype: int64"
       ]
      }
     ],
     "prompt_number": 103
    },
    {
     "cell_type": "code",
     "collapsed": false,
     "input": [
      "pathway_mut = meta_matrix.ix[f_combined]"
     ],
     "language": "python",
     "metadata": {},
     "outputs": [],
     "prompt_number": 111
    },
    {
     "cell_type": "code",
     "collapsed": false,
     "input": [
      "fig, ax = subplots(figsize=(4,3))\n",
      "pathway_mut.sum(1).hist(ax=ax)\n",
      "prettify_ax(ax)\n",
      "ax.set_ylabel('# of Pathways')\n",
      "ax.set_xlabel('# of Patients')"
     ],
     "language": "python",
     "metadata": {},
     "outputs": [
      {
       "metadata": {},
       "output_type": "pyout",
       "prompt_number": 118,
       "text": [
        "<matplotlib.text.Text at 0x1c061510>"
       ]
      },
      {
       "metadata": {},
       "output_type": "display_data",
       "png": "[encoded data removed]",
       "text": [
        "<matplotlib.figure.Figure at 0x1f39d690>"
       ]
      }
     ],
     "prompt_number": 118
    },
    {
     "cell_type": "markdown",
     "metadata": {},
     "source": [
      "####Mutation Feature Space"
     ]
    },
    {
     "cell_type": "code",
     "collapsed": false,
     "input": [
      "mut_fs = pd.Series({'pathways': len(pathway_mut), 'genes': len(single_genes)})\n",
      "mut_fs"
     ],
     "language": "python",
     "metadata": {},
     "outputs": [
      {
       "metadata": {},
       "output_type": "pyout",
       "prompt_number": 125,
       "text": [
        "genes       315\n",
        "pathways    674\n",
        "dtype: int64"
       ]
      }
     ],
     "prompt_number": 125
    },
    {
     "cell_type": "markdown",
     "metadata": {},
     "source": [
      "<h3 id='cna'>Copy Number Alteration Feature Space</h3> \n",
      "\n",
      "* Most of this is done by the [GISTIC2](http://www.broadinstitute.org/cgi-bin/cancer/publications/pub_paper.cgi?mode=view&paper_id=216&p=t) algorithm as availible [on Firehose](http://gdac.broadinstitute.org/runs/analyses__2013_05_23/reports/cancer/HNSC/CopyNumber_Gistic2/nozzle.html) \n",
      "* None of the CNA get filtered out by the frequency filter"
     ]
    },
    {
     "cell_type": "code",
     "collapsed": false,
     "input": [
      "cn_matrix = cn.df\n",
      "fs = cn_matrix.apply(size_filter, args=(min_size,), axis=1)\n",
      "fs.value_counts()"
     ],
     "language": "python",
     "metadata": {},
     "outputs": [
      {
       "metadata": {},
       "output_type": "pyout",
       "prompt_number": 130,
       "text": [
        "True    70\n",
        "dtype: int64"
       ]
      }
     ],
     "prompt_number": 130
    },
    {
     "cell_type": "markdown",
     "metadata": {},
     "source": [
      "<h3 id='mrna'>Messanger RNA Feature Space</h3>  \n",
      "\n",
      "* See <b><code>Initialization.InitializeReal</code></b>\n",
      "* mRNA are a little trickier\n",
      "* We use tumor/normal differential expression to filter down the space"
     ]
    },
    {
     "cell_type": "code",
     "collapsed": false,
     "input": [
      "import Initialization.InitializeReal as IR"
     ],
     "language": "python",
     "metadata": {},
     "outputs": [],
     "prompt_number": 134
    },
    {
     "cell_type": "code",
     "collapsed": false,
     "input": [
      "df = rna.df\n",
      "df"
     ],
     "language": "python",
     "metadata": {},
     "outputs": [
      {
       "html": [
        "<pre>\n",
        "&lt;class 'pandas.core.frame.DataFrame'&gt;\n",
        "Index: 20502 entries, ? to tAKR\n",
        "Columns: 293 entries, (TCGA-BA-4074, 01) to (TCGA-IQ-7632, 01)\n",
        "dtypes: float64(293)\n",
        "</pre>"
       ],
       "metadata": {},
       "output_type": "pyout",
       "prompt_number": 136,
       "text": [
        "<class 'pandas.core.frame.DataFrame'>\n",
        "Index: 20502 entries, ? to tAKR\n",
        "Columns: 293 entries, (TCGA-BA-4074, 01) to (TCGA-IQ-7632, 01)\n",
        "dtypes: float64(293)"
       ]
      }
     ],
     "prompt_number": 136
    },
    {
     "cell_type": "markdown",
     "metadata": {},
     "source": [
      "####Extract binary features as well as differentially expressed featues"
     ]
    },
    {
     "cell_type": "markdown",
     "metadata": {},
     "source": [
      "####Binary Features\n",
      "* Binary features are expressed in between 20 and half of the patients \n",
      "* I use -1 (.5 reads per million) as a cutoff"
     ]
    },
    {
     "cell_type": "code",
     "collapsed": false,
     "input": [
      "df_n = df.xs('01', level=1, axis=1)\n",
      "binary = df_n > -1\n",
      "binary = binary[binary.sum(1).isin(range(20, df.shape[1]/2))]\n",
      "len(binary)"
     ],
     "language": "python",
     "metadata": {},
     "outputs": [
      {
       "metadata": {},
       "output_type": "pyout",
       "prompt_number": 413,
       "text": [
        "1857"
       ]
      }
     ],
     "prompt_number": 413
    },
    {
     "cell_type": "code",
     "collapsed": false,
     "input": [
      "diff = lambda s: chi2_cont_test(s, pd.Series(s.index.get_level_values(1), \n",
      "                                             s.index))\n",
      "dd = df.ix[binary.index] > -1\n",
      "rr = dd.apply(diff, 1)\n",
      "f1 = (rr.p < .01)"
     ],
     "language": "python",
     "metadata": {},
     "outputs": [],
     "prompt_number": 481
    },
    {
     "cell_type": "code",
     "collapsed": false,
     "input": [
      "binary = binary.ix[true_index(f1)]\n",
      "len(binary)"
     ],
     "language": "python",
     "metadata": {},
     "outputs": [
      {
       "metadata": {},
       "output_type": "pyout",
       "prompt_number": 483,
       "text": [
        "542"
       ]
      }
     ],
     "prompt_number": 483
    },
    {
     "cell_type": "code",
     "collapsed": false,
     "input": [
      "real = df_n.ix[df_n.index.diff(binary.index)]"
     ],
     "language": "python",
     "metadata": {},
     "outputs": [],
     "prompt_number": 142
    },
    {
     "cell_type": "markdown",
     "metadata": {},
     "source": [
      "####Differentially expressed features\n",
      "* Fold change filter"
     ]
    },
    {
     "cell_type": "code",
     "collapsed": false,
     "input": [
      "f1 = ((real.max(1) - real.min(1)) > 1)\n",
      "f1.value_counts()"
     ],
     "language": "python",
     "metadata": {},
     "outputs": [
      {
       "metadata": {},
       "output_type": "pyout",
       "prompt_number": 284,
       "text": [
        "True     18281\n",
        "False      364\n",
        "dtype: int64"
       ]
      }
     ],
     "prompt_number": 284
    },
    {
     "cell_type": "code",
     "collapsed": false,
     "input": [
      "(real.max(1) - real.min(1)).order().tail(10)"
     ],
     "language": "python",
     "metadata": {},
     "outputs": [
      {
       "metadata": {},
       "output_type": "pyout",
       "prompt_number": 285,
       "text": [
        "CRNN         19.99\n",
        "C20orf114    20.11\n",
        "S100A7       20.21\n",
        "MUC5B        20.22\n",
        "DES          20.35\n",
        "MYH2         20.62\n",
        "ACTA1        21.02\n",
        "C4orf7       21.03\n",
        "KRT1         22.12\n",
        "KRT4         22.32\n",
        "dtype: float64"
       ]
      }
     ],
     "prompt_number": 285
    },
    {
     "cell_type": "code",
     "collapsed": false,
     "input": [
      "violin_plot_series(rna.df.ix['MUC5B'])"
     ],
     "language": "python",
     "metadata": {},
     "outputs": [
      {
       "metadata": {},
       "output_type": "display_data",
       "png": "[encoded data removed]",
       "text": [
        "<matplotlib.figure.Figure at 0xd1bffd0>"
       ]
      }
     ],
     "prompt_number": 286
    },
    {
     "cell_type": "markdown",
     "metadata": {},
     "source": [
      "* standard deviation filter"
     ]
    },
    {
     "cell_type": "code",
     "collapsed": false,
     "input": [
      "f2 = (real.std(1) > .25)\n",
      "f2.value_counts()"
     ],
     "language": "python",
     "metadata": {},
     "outputs": [
      {
       "metadata": {},
       "output_type": "pyout",
       "prompt_number": 300,
       "text": [
        "True     18016\n",
        "False      629\n",
        "dtype: int64"
       ]
      }
     ],
     "prompt_number": 300
    },
    {
     "cell_type": "code",
     "collapsed": false,
     "input": [
      "real.std(1).order().tail(10)"
     ],
     "language": "python",
     "metadata": {},
     "outputs": [
      {
       "metadata": {},
       "output_type": "pyout",
       "prompt_number": 301,
       "text": [
        "NRAP      5.36\n",
        "XIRP2     5.42\n",
        "XIST      5.43\n",
        "CSRP3     5.45\n",
        "MAGEA4    5.54\n",
        "MAGEA3    5.54\n",
        "MYL1      5.61\n",
        "MAGEA6    5.65\n",
        "MYH1      5.69\n",
        "MYH2      5.79\n",
        "dtype: float64"
       ]
      }
     ],
     "prompt_number": 301
    },
    {
     "cell_type": "code",
     "collapsed": false,
     "input": [
      "violin_plot_series(rna.df.ix['MYH2'])"
     ],
     "language": "python",
     "metadata": {},
     "outputs": [
      {
       "metadata": {},
       "output_type": "display_data",
       "png": "[encoded data removed]",
       "text": [
        "<matplotlib.figure.Figure at 0x2ff4ca10>"
       ]
      }
     ],
     "prompt_number": 302
    },
    {
     "cell_type": "markdown",
     "metadata": {},
     "source": [
      "* Tumor / Normal Expression Change Filter"
     ]
    },
    {
     "cell_type": "code",
     "collapsed": false,
     "input": [
      "def exp_change(s):\n",
      "    '''\n",
      "    Calculates an anova for the change in expression across a variable\n",
      "    on the second level of a MultiIndex. (eg. tumor/normal).\n",
      "    '''\n",
      "    return Tests.anova(pd.Series(s.index.get_level_values(1), s.index), s)"
     ],
     "language": "python",
     "metadata": {},
     "outputs": [],
     "prompt_number": 320
    },
    {
     "cell_type": "code",
     "collapsed": false,
     "input": [
      "ch = df.ix[real.index].apply(exp_change, 1)"
     ],
     "language": "python",
     "metadata": {},
     "outputs": [],
     "prompt_number": 321
    },
    {
     "cell_type": "code",
     "collapsed": false,
     "input": [
      "ch.sort('p').head(10)"
     ],
     "language": "python",
     "metadata": {},
     "outputs": [
      {
       "html": [
        "<div style=\"max-height:1000px;max-width:1500px;overflow:auto;\">\n",
        "<table border=\"1\" class=\"dataframe\">\n",
        "  <thead>\n",
        "    <tr style=\"text-align: right;\">\n",
        "      <th></th>\n",
        "      <th>H</th>\n",
        "      <th>p</th>\n",
        "    </tr>\n",
        "  </thead>\n",
        "  <tbody>\n",
        "    <tr>\n",
        "      <th>C14orf180</th>\n",
        "      <td> 118.69</td>\n",
        "      <td> 1.23e-27</td>\n",
        "    </tr>\n",
        "    <tr>\n",
        "      <th>CAB39L</th>\n",
        "      <td>  88.27</td>\n",
        "      <td> 5.70e-21</td>\n",
        "    </tr>\n",
        "    <tr>\n",
        "      <th>GPD1L</th>\n",
        "      <td>  87.99</td>\n",
        "      <td> 6.58e-21</td>\n",
        "    </tr>\n",
        "    <tr>\n",
        "      <th>LACRT</th>\n",
        "      <td>  87.20</td>\n",
        "      <td> 9.81e-21</td>\n",
        "    </tr>\n",
        "    <tr>\n",
        "      <th>SH3BGRL2</th>\n",
        "      <td>  86.82</td>\n",
        "      <td> 1.19e-20</td>\n",
        "    </tr>\n",
        "    <tr>\n",
        "      <th>KCNC2</th>\n",
        "      <td>  86.21</td>\n",
        "      <td> 1.61e-20</td>\n",
        "    </tr>\n",
        "    <tr>\n",
        "      <th>SUCLG2</th>\n",
        "      <td>  86.14</td>\n",
        "      <td> 1.68e-20</td>\n",
        "    </tr>\n",
        "    <tr>\n",
        "      <th>GLT25D1</th>\n",
        "      <td>  86.10</td>\n",
        "      <td> 1.71e-20</td>\n",
        "    </tr>\n",
        "    <tr>\n",
        "      <th>DLG2</th>\n",
        "      <td>  85.31</td>\n",
        "      <td> 2.55e-20</td>\n",
        "    </tr>\n",
        "    <tr>\n",
        "      <th>TGFB1</th>\n",
        "      <td>  84.83</td>\n",
        "      <td> 3.26e-20</td>\n",
        "    </tr>\n",
        "  </tbody>\n",
        "</table>\n",
        "</div>"
       ],
       "metadata": {},
       "output_type": "pyout",
       "prompt_number": 322,
       "text": [
        "                H         p\n",
        "C14orf180  118.69  1.23e-27\n",
        "CAB39L      88.27  5.70e-21\n",
        "GPD1L       87.99  6.58e-21\n",
        "LACRT       87.20  9.81e-21\n",
        "SH3BGRL2    86.82  1.19e-20\n",
        "KCNC2       86.21  1.61e-20\n",
        "SUCLG2      86.14  1.68e-20\n",
        "GLT25D1     86.10  1.71e-20\n",
        "DLG2        85.31  2.55e-20\n",
        "TGFB1       84.83  3.26e-20"
       ]
      }
     ],
     "prompt_number": 322
    },
    {
     "cell_type": "code",
     "collapsed": false,
     "input": [
      "f3 = (ch.p < .1)\n",
      "f3.value_counts()"
     ],
     "language": "python",
     "metadata": {},
     "outputs": [
      {
       "metadata": {},
       "output_type": "pyout",
       "prompt_number": 406,
       "text": [
        "True     12604\n",
        "False     6041\n",
        "dtype: int64"
       ]
      }
     ],
     "prompt_number": 406
    },
    {
     "cell_type": "code",
     "collapsed": false,
     "input": [
      "ff = f1*f2*f3\n",
      "ff.value_counts()"
     ],
     "language": "python",
     "metadata": {},
     "outputs": [
      {
       "metadata": {},
       "output_type": "pyout",
       "prompt_number": 407,
       "text": [
        "True     12551\n",
        "False     6094\n",
        "dtype: int64"
       ]
      }
     ],
     "prompt_number": 407
    },
    {
     "cell_type": "code",
     "collapsed": false,
     "input": [
      "singles = df_n.ix[true_index(ff)]\n",
      "background_df = real.ix[true_index(ff==False)].dropna()\n",
      "background = extract_pc(background_df, 0)"
     ],
     "language": "python",
     "metadata": {},
     "outputs": [],
     "prompt_number": 408
    },
    {
     "cell_type": "code",
     "collapsed": false,
     "input": [
      "screen_feature(background['pat_vec'], rev_kruskal, clinical_processed.T).head()"
     ],
     "language": "python",
     "metadata": {},
     "outputs": [
      {
       "html": [
        "<div style=\"max-height:1000px;max-width:1500px;overflow:auto;\">\n",
        "<table border=\"1\" class=\"dataframe\">\n",
        "  <thead>\n",
        "    <tr style=\"text-align: right;\">\n",
        "      <th></th>\n",
        "      <th>H</th>\n",
        "      <th>p</th>\n",
        "      <th>q</th>\n",
        "    </tr>\n",
        "  </thead>\n",
        "  <tbody>\n",
        "    <tr>\n",
        "      <th>tumor_subdivision</th>\n",
        "      <td> 19.86</td>\n",
        "      <td> 4.88e-05</td>\n",
        "      <td> 9.27e-04</td>\n",
        "    </tr>\n",
        "    <tr>\n",
        "      <th>lymph_status</th>\n",
        "      <td>  6.89</td>\n",
        "      <td> 3.19e-02</td>\n",
        "      <td> 3.04e-01</td>\n",
        "    </tr>\n",
        "    <tr>\n",
        "      <th>lymph_stage</th>\n",
        "      <td>  7.44</td>\n",
        "      <td> 5.91e-02</td>\n",
        "      <td> 3.50e-01</td>\n",
        "    </tr>\n",
        "    <tr>\n",
        "      <th>drinker_inferred</th>\n",
        "      <td>  2.93</td>\n",
        "      <td> 8.68e-02</td>\n",
        "      <td> 3.50e-01</td>\n",
        "    </tr>\n",
        "    <tr>\n",
        "      <th>stage</th>\n",
        "      <td>  7.99</td>\n",
        "      <td> 9.20e-02</td>\n",
        "      <td> 3.50e-01</td>\n",
        "    </tr>\n",
        "  </tbody>\n",
        "</table>\n",
        "</div>"
       ],
       "metadata": {},
       "output_type": "pyout",
       "prompt_number": 409,
       "text": [
        "                       H         p         q\n",
        "tumor_subdivision  19.86  4.88e-05  9.27e-04\n",
        "lymph_status        6.89  3.19e-02  3.04e-01\n",
        "lymph_stage         7.44  5.91e-02  3.50e-01\n",
        "drinker_inferred    2.93  8.68e-02  3.50e-01\n",
        "stage               7.99  9.20e-02  3.50e-01"
       ]
      }
     ],
     "prompt_number": 409
    },
    {
     "cell_type": "code",
     "collapsed": false,
     "input": [
      "fig, axs = subplots(1,2, figsize=(10,3), sharey=True)\n",
      "bg = background['pat_vec']\n",
      "bg.name = 'background'\n",
      "violin_plot_pandas(clinical_processed.tumor_subdivision, bg, ax=axs[0])\n",
      "tss = clinical.clinical.tissuesourcesite\n",
      "tss = tss[tss.isin(true_index(tss.value_counts() > 5))]\n",
      "violin_plot_pandas(tss, bg, ax=axs[1])\n",
      "for ax in axs:\n",
      "    prettify_ax(ax)\n",
      "fig.tight_layout()"
     ],
     "language": "python",
     "metadata": {},
     "outputs": [
      {
       "metadata": {},
       "output_type": "display_data",
       "png": "[encoded data removed]",
       "text": [
        "<matplotlib.figure.Figure at 0x1b00ecd0>"
       ]
      }
     ],
     "prompt_number": 492
    },
    {
     "cell_type": "code",
     "collapsed": false,
     "input": [
      "ss = screen_feature(background['pat_vec'], spearman_pandas, singles)\n",
      "singles = singles.ix[ss.rho.abs() < .3]"
     ],
     "language": "python",
     "metadata": {},
     "outputs": [],
     "prompt_number": 411
    },
    {
     "cell_type": "code",
     "collapsed": false,
     "input": [
      "ss.ix[3000:4000].head()"
     ],
     "language": "python",
     "metadata": {},
     "outputs": [
      {
       "html": [
        "<div style=\"max-height:1000px;max-width:1500px;overflow:auto;\">\n",
        "<table border=\"1\" class=\"dataframe\">\n",
        "  <thead>\n",
        "    <tr style=\"text-align: right;\">\n",
        "      <th></th>\n",
        "      <th>rho</th>\n",
        "      <th>p</th>\n",
        "      <th>q</th>\n",
        "    </tr>\n",
        "  </thead>\n",
        "  <tbody>\n",
        "    <tr>\n",
        "      <th>LOC642852</th>\n",
        "      <td> 0.33</td>\n",
        "      <td> 4.54e-08</td>\n",
        "      <td> 1.48e-07</td>\n",
        "    </tr>\n",
        "    <tr>\n",
        "      <th>CEACAM3</th>\n",
        "      <td> 0.33</td>\n",
        "      <td> 4.57e-08</td>\n",
        "      <td> 1.49e-07</td>\n",
        "    </tr>\n",
        "    <tr>\n",
        "      <th>LOC284232</th>\n",
        "      <td> 0.33</td>\n",
        "      <td> 4.62e-08</td>\n",
        "      <td> 1.51e-07</td>\n",
        "    </tr>\n",
        "    <tr>\n",
        "      <th>MED18</th>\n",
        "      <td>-0.33</td>\n",
        "      <td> 4.63e-08</td>\n",
        "      <td> 1.51e-07</td>\n",
        "    </tr>\n",
        "    <tr>\n",
        "      <th>UBA6</th>\n",
        "      <td>-0.33</td>\n",
        "      <td> 4.66e-08</td>\n",
        "      <td> 1.52e-07</td>\n",
        "    </tr>\n",
        "  </tbody>\n",
        "</table>\n",
        "</div>"
       ],
       "metadata": {},
       "output_type": "pyout",
       "prompt_number": 402,
       "text": [
        "            rho         p         q\n",
        "LOC642852  0.33  4.54e-08  1.48e-07\n",
        "CEACAM3    0.33  4.57e-08  1.49e-07\n",
        "LOC284232  0.33  4.62e-08  1.51e-07\n",
        "MED18     -0.33  4.63e-08  1.51e-07\n",
        "UBA6      -0.33  4.66e-08  1.52e-07"
       ]
      }
     ],
     "prompt_number": 402
    },
    {
     "cell_type": "code",
     "collapsed": false,
     "input": [
      "series_scatter(real.ix['CEACAM3'], background['pat_vec'])"
     ],
     "language": "python",
     "metadata": {},
     "outputs": [
      {
       "metadata": {},
       "output_type": "display_data",
       "png": "[encoded data removed]",
       "text": [
        "<matplotlib.figure.Figure at 0x2ff69e50>"
       ]
      }
     ],
     "prompt_number": 403
    },
    {
     "cell_type": "code",
     "collapsed": false,
     "input": [
      "series_scatter("
     ],
     "language": "python",
     "metadata": {},
     "outputs": []
    },
    {
     "cell_type": "code",
     "collapsed": false,
     "input": [
      "ss.rho.abs().hist()"
     ],
     "language": "python",
     "metadata": {},
     "outputs": [
      {
       "metadata": {},
       "output_type": "pyout",
       "prompt_number": 391,
       "text": [
        "<matplotlib.axes.AxesSubplot at 0x31537d90>"
       ]
      },
      {
       "metadata": {},
       "output_type": "display_data",
       "png": "[encoded data removed]",
       "text": [
        "<matplotlib.figure.Figure at 0xd43f390>"
       ]
      }
     ],
     "prompt_number": 391
    },
    {
     "cell_type": "code",
     "collapsed": false,
     "input": [
      "singles = ((singles.T - singles.mean(1)) / singles.std(1)).T\n",
      "U, S, pc = frame_svd(singles)"
     ],
     "language": "python",
     "metadata": {},
     "outputs": [],
     "prompt_number": 371
    },
    {
     "cell_type": "code",
     "collapsed": false,
     "input": [
      "draw_survival_curves(pc[0], surv, show=True, std=1)"
     ],
     "language": "python",
     "metadata": {},
     "outputs": [
      {
       "html": [
        "<img src='data:image/png;base64,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'>"
       ],
       "metadata": {},
       "output_type": "pyout",
       "prompt_number": 373,
       "text": [
        "<Reports.NotebookTools.Show at 0x3153ef50>"
       ]
      }
     ],
     "prompt_number": 373
    },
    {
     "cell_type": "code",
     "collapsed": false,
     "input": [
      "fig, axs = subplots(1,2, figsize=(6,3))\n",
      "violin_plot_series(rna.df.ix['TGFB1'], ax=axs[0])\n",
      "axs[0].set_xlabel('Tissue')\n",
      "(-1*np.log10(ch.p)).hist(log=False, bins=20, ax=axs[1]);\n",
      "axs[1].set_xlabel('-log10 p')\n",
      "axs[1].set_ylabel('# of genes')\n",
      "\n",
      "prettify_ax(axs[0])\n",
      "prettify_ax(axs[1])\n",
      "fig.tight_layout()"
     ],
     "language": "python",
     "metadata": {},
     "outputs": [
      {
       "metadata": {},
       "output_type": "display_data",
       "png": "[encoded data removed]",
       "text": [
        "<matplotlib.figure.Figure at 0x2edd4110>"
       ]
      }
     ],
     "prompt_number": 374
    },
    {
     "cell_type": "code",
     "collapsed": false,
     "input": [
      "get_surv_fit(surv, clinical.clinical.tissuesourcesite)"
     ],
     "language": "python",
     "metadata": {},
     "outputs": [
      {
       "html": [
        "<div style=\"max-height:1000px;max-width:1500px;overflow:auto;\">\n",
        "<table border=\"1\" class=\"dataframe\">\n",
        "  <thead>\n",
        "    <tr>\n",
        "      <th></th>\n",
        "      <th colspan=\"2\" halign=\"left\">Stats</th>\n",
        "      <th colspan=\"3\" halign=\"left\">Median Survival</th>\n",
        "      <th colspan=\"3\" halign=\"left\">5y Survival</th>\n",
        "    </tr>\n",
        "    <tr>\n",
        "      <th></th>\n",
        "      <th># Patients</th>\n",
        "      <th># Events</th>\n",
        "      <th>Median</th>\n",
        "      <th>Lower</th>\n",
        "      <th>Upper</th>\n",
        "      <th>Surv</th>\n",
        "      <th>Lower</th>\n",
        "      <th>Upper</th>\n",
        "    </tr>\n",
        "  </thead>\n",
        "  <tbody>\n",
        "    <tr>\n",
        "      <th>ba</th>\n",
        "      <td>  21</td>\n",
        "      <td> 11</td>\n",
        "      <td> 2.21</td>\n",
        "      <td> 1.26</td>\n",
        "      <td>  NaN</td>\n",
        "      <td>  NaN</td>\n",
        "      <td>  NaN</td>\n",
        "      <td>  NaN</td>\n",
        "    </tr>\n",
        "    <tr>\n",
        "      <th>bb</th>\n",
        "      <td>  16</td>\n",
        "      <td>  0</td>\n",
        "      <td>  NaN</td>\n",
        "      <td>  NaN</td>\n",
        "      <td>  NaN</td>\n",
        "      <td> 1.00</td>\n",
        "      <td> 1.00</td>\n",
        "      <td> 1.00</td>\n",
        "    </tr>\n",
        "    <tr>\n",
        "      <th>cn</th>\n",
        "      <td>  55</td>\n",
        "      <td> 19</td>\n",
        "      <td> 2.30</td>\n",
        "      <td> 1.08</td>\n",
        "      <td>  NaN</td>\n",
        "      <td>  NaN</td>\n",
        "      <td>  NaN</td>\n",
        "      <td>  NaN</td>\n",
        "    </tr>\n",
        "    <tr>\n",
        "      <th>cq</th>\n",
        "      <td>  28</td>\n",
        "      <td> 10</td>\n",
        "      <td>  NaN</td>\n",
        "      <td> 2.70</td>\n",
        "      <td>  NaN</td>\n",
        "      <td>  NaN</td>\n",
        "      <td>  NaN</td>\n",
        "      <td>  NaN</td>\n",
        "    </tr>\n",
        "    <tr>\n",
        "      <th>cr</th>\n",
        "      <td>  54</td>\n",
        "      <td> 10</td>\n",
        "      <td>  NaN</td>\n",
        "      <td>  NaN</td>\n",
        "      <td>  NaN</td>\n",
        "      <td> 0.68</td>\n",
        "      <td> 0.50</td>\n",
        "      <td> 0.91</td>\n",
        "    </tr>\n",
        "    <tr>\n",
        "      <th>cv</th>\n",
        "      <td> 106</td>\n",
        "      <td> 68</td>\n",
        "      <td> 2.08</td>\n",
        "      <td> 1.58</td>\n",
        "      <td> 4.36</td>\n",
        "      <td> 0.33</td>\n",
        "      <td> 0.25</td>\n",
        "      <td> 0.44</td>\n",
        "    </tr>\n",
        "    <tr>\n",
        "      <th>cx</th>\n",
        "      <td>   4</td>\n",
        "      <td>  0</td>\n",
        "      <td>  NaN</td>\n",
        "      <td>  NaN</td>\n",
        "      <td>  NaN</td>\n",
        "      <td>  NaN</td>\n",
        "      <td>  NaN</td>\n",
        "      <td>  NaN</td>\n",
        "    </tr>\n",
        "    <tr>\n",
        "      <th>d6</th>\n",
        "      <td>  12</td>\n",
        "      <td>  2</td>\n",
        "      <td>  NaN</td>\n",
        "      <td> 1.10</td>\n",
        "      <td>  NaN</td>\n",
        "      <td>  NaN</td>\n",
        "      <td>  NaN</td>\n",
        "      <td>  NaN</td>\n",
        "    </tr>\n",
        "    <tr>\n",
        "      <th>dq</th>\n",
        "      <td>  13</td>\n",
        "      <td>  3</td>\n",
        "      <td>  NaN</td>\n",
        "      <td> 2.58</td>\n",
        "      <td>  NaN</td>\n",
        "      <td>  NaN</td>\n",
        "      <td>  NaN</td>\n",
        "      <td>  NaN</td>\n",
        "    </tr>\n",
        "    <tr>\n",
        "      <th>f7</th>\n",
        "      <td>   3</td>\n",
        "      <td>  0</td>\n",
        "      <td>  NaN</td>\n",
        "      <td>  NaN</td>\n",
        "      <td>  NaN</td>\n",
        "      <td>  NaN</td>\n",
        "      <td>  NaN</td>\n",
        "      <td>  NaN</td>\n",
        "    </tr>\n",
        "    <tr>\n",
        "      <th>h7</th>\n",
        "      <td>   3</td>\n",
        "      <td>  0</td>\n",
        "      <td>  NaN</td>\n",
        "      <td>  NaN</td>\n",
        "      <td>  NaN</td>\n",
        "      <td>  NaN</td>\n",
        "      <td>  NaN</td>\n",
        "      <td>  NaN</td>\n",
        "    </tr>\n",
        "    <tr>\n",
        "      <th>hd</th>\n",
        "      <td>  10</td>\n",
        "      <td>  0</td>\n",
        "      <td>  NaN</td>\n",
        "      <td>  NaN</td>\n",
        "      <td>  NaN</td>\n",
        "      <td>  NaN</td>\n",
        "      <td>  NaN</td>\n",
        "      <td>  NaN</td>\n",
        "    </tr>\n",
        "    <tr>\n",
        "      <th>hl</th>\n",
        "      <td>   1</td>\n",
        "      <td>  0</td>\n",
        "      <td>  NaN</td>\n",
        "      <td>  NaN</td>\n",
        "      <td>  NaN</td>\n",
        "      <td>  NaN</td>\n",
        "      <td>  NaN</td>\n",
        "      <td>  NaN</td>\n",
        "    </tr>\n",
        "    <tr>\n",
        "      <th>iq</th>\n",
        "      <td>   3</td>\n",
        "      <td>  0</td>\n",
        "      <td>  NaN</td>\n",
        "      <td>  NaN</td>\n",
        "      <td>  NaN</td>\n",
        "      <td>  NaN</td>\n",
        "      <td>  NaN</td>\n",
        "      <td>  NaN</td>\n",
        "    </tr>\n",
        "    <tr>\n",
        "      <th>mt</th>\n",
        "      <td>   2</td>\n",
        "      <td>  0</td>\n",
        "      <td>  NaN</td>\n",
        "      <td>  NaN</td>\n",
        "      <td>  NaN</td>\n",
        "      <td>  NaN</td>\n",
        "      <td>  NaN</td>\n",
        "      <td>  NaN</td>\n",
        "    </tr>\n",
        "  </tbody>\n",
        "</table>\n",
        "</div>"
       ],
       "metadata": {},
       "output_type": "pyout",
       "prompt_number": 62,
       "text": [
        "         Stats            Median Survival                5y Survival              \n",
        "    # Patients  # Events           Median  Lower  Upper         Surv  Lower  Upper\n",
        "ba          21        11             2.21   1.26    NaN          NaN    NaN    NaN\n",
        "bb          16         0              NaN    NaN    NaN         1.00   1.00   1.00\n",
        "cn          55        19             2.30   1.08    NaN          NaN    NaN    NaN\n",
        "cq          28        10              NaN   2.70    NaN          NaN    NaN    NaN\n",
        "cr          54        10              NaN    NaN    NaN         0.68   0.50   0.91\n",
        "cv         106        68             2.08   1.58   4.36         0.33   0.25   0.44\n",
        "cx           4         0              NaN    NaN    NaN          NaN    NaN    NaN\n",
        "d6          12         2              NaN   1.10    NaN          NaN    NaN    NaN\n",
        "dq          13         3              NaN   2.58    NaN          NaN    NaN    NaN\n",
        "f7           3         0              NaN    NaN    NaN          NaN    NaN    NaN\n",
        "h7           3         0              NaN    NaN    NaN          NaN    NaN    NaN\n",
        "hd          10         0              NaN    NaN    NaN          NaN    NaN    NaN\n",
        "hl           1         0              NaN    NaN    NaN          NaN    NaN    NaN\n",
        "iq           3         0              NaN    NaN    NaN          NaN    NaN    NaN\n",
        "mt           2         0              NaN    NaN    NaN          NaN    NaN    NaN"
       ]
      }
     ],
     "prompt_number": 62
    },
    {
     "cell_type": "code",
     "collapsed": false,
     "input": [],
     "language": "python",
     "metadata": {},
     "outputs": []
    }
   ],
   "metadata": {}
  }
 ]
}