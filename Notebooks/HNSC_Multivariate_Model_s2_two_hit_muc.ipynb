{
 "metadata": {
  "name": "HNSC_Multivariate_Model_s2_two_hit_muc"
 },
 "nbformat": 3,
 "nbformat_minor": 0,
 "worksheets": [
  {
   "cells": [
    {
     "cell_type": "markdown",
     "metadata": {},
     "source": [
      "#HNSC Multivariate Screen  \n",
      "\n",
      "This is a screen for survival associated features.  "
     ]
    },
    {
     "cell_type": "code",
     "collapsed": false,
     "input": [
      "cd ../src"
     ],
     "language": "python",
     "metadata": {},
     "outputs": [
      {
       "output_type": "stream",
       "stream": "stdout",
       "text": [
        "/cellar/users/agross/TCGA_Code/TCGA/Pathway_Merge/src\n"
       ]
      }
     ],
     "prompt_number": 1
    },
    {
     "cell_type": "code",
     "collapsed": false,
     "input": [
      "from Processing.Imports import *"
     ],
     "language": "python",
     "metadata": {},
     "outputs": [],
     "prompt_number": 2
    },
    {
     "cell_type": "markdown",
     "metadata": {},
     "source": [
      "##Read in Data"
     ]
    },
    {
     "cell_type": "code",
     "collapsed": false,
     "input": [
      "run = get_run('/cellar/data/TCGA/Firehose__2013_04_21/', 'Run_all')\n",
      "\n",
      "cancer = run.load_cancer('HNSC')\n",
      "clinical = cancer.load_clinical()\n",
      "global_vars = cancer.load_global_vars()\n",
      "\n",
      "mut = cancer.load_data('Mutation')\n",
      "mut.uncompress()\n",
      "meth = cancer.load_data('Methylation')\n",
      "cn = cancer.load_data('CN_broad')\n",
      "cn.uncompress()\n",
      "rna = cancer.load_data('mRNASeq')\n",
      "rppa  = cancer.load_data('RPPA')\n",
      "mirna = cancer.load_data('miRNASeq')\n",
      "age = clinical.clinical.age.astype(float)\n",
      "\n",
      "hpv_all = pd.read_csv('/cellar/users/agross/hpv_summary_3_20_13_distribute.csv', index_col=0)\n",
      "hpv = hpv_all.Molecular_HPV.map({0:'HPV-', 1:'HPV+'})\n",
      "hpv.name = 'HPV'"
     ],
     "language": "python",
     "metadata": {},
     "outputs": [],
     "prompt_number": 3
    },
    {
     "cell_type": "code",
     "collapsed": false,
     "input": [
      "from Data.ProcessClinical import format_survival_from_data_portal\n",
      "path  = '/cellar/users/agross/Data/TCGA/HNSC_Followup/'\n",
      "survival, timeline = format_survival_from_data_portal(path, cancer.name)\n",
      "clinical.survival = survival\n",
      "clinical.artificially_censor(5)\n",
      "age = timeline.age"
     ],
     "language": "python",
     "metadata": {},
     "outputs": [],
     "prompt_number": 4
    },
    {
     "cell_type": "markdown",
     "metadata": {},
     "source": [
      "##Clinical Features"
     ]
    },
    {
     "cell_type": "code",
     "collapsed": false,
     "input": [
      "clinical_processed = pd.read_csv(cancer.path + '/Clinical/clinical_processed.csv', index_col=0)\n",
      "hpv_inferred = clinical_processed.hpv_inferred"
     ],
     "language": "python",
     "metadata": {},
     "outputs": [],
     "prompt_number": 7
    },
    {
     "cell_type": "code",
     "collapsed": false,
     "input": [
      "combo = combine(cn.df.ix['Deletion'].ix['3p14.2'].ix[0]<0, mut.features.ix['TP53'])\n",
      "two_hit = 1.*(combo == 'both')\n",
      "muc5b = mut.features.ix['MUC5B']"
     ],
     "language": "python",
     "metadata": {},
     "outputs": [],
     "prompt_number": 8
    },
    {
     "cell_type": "code",
     "collapsed": false,
     "input": [
      "filters = pd.concat([age>=100, hpv_inferred==1, two_hit==0, muc5b==1], axis=1)\n",
      "clinical_filter = filters.sum(1) == 0\n",
      "keepers_o = true_index(clinical_filter)"
     ],
     "language": "python",
     "metadata": {},
     "outputs": [],
     "prompt_number": 9
    },
    {
     "cell_type": "code",
     "collapsed": false,
     "input": [
      "filters = pd.concat([age>=85, hpv_inferred==1, two_hit==0, muc5b==1], axis=1)\n",
      "clinical_filter = filters.sum(1) == 0\n",
      "keepers = true_index(clinical_filter)"
     ],
     "language": "python",
     "metadata": {},
     "outputs": [],
     "prompt_number": 10
    },
    {
     "cell_type": "code",
     "collapsed": false,
     "input": [
      "surv = clinical.survival.survival_5y\n",
      "old = pd.Series(1.*(age>=75), name='old')"
     ],
     "language": "python",
     "metadata": {},
     "outputs": [],
     "prompt_number": 11
    },
    {
     "cell_type": "markdown",
     "metadata": {},
     "source": [
      "####Form expression and methylation features without HPV  \n",
      "* HPV has a big influence on expression, here I am creating a second set of features without HPV\n",
      "* I use this sparingly but it helps to tease out wheter an association is due to a underlying relationship with HPV"
     ]
    },
    {
     "cell_type": "code",
     "collapsed": false,
     "input": [
      "from Stats.Survival import cox\n",
      "\n",
      "rev_kruskal = lambda a,b: kruskal_pandas(b,a)\n",
      "def fc(hit_vec, response_vec):\n",
      "    f = response_vec.groupby(hit_vec).median()\n",
      "    return f[0] > f[1]\n",
      "\n",
      "def mut_filter(df, rate):\n",
      "    df = df[df.sum(1) >= 10]\n",
      "    cc = screen_feature(rate, rev_kruskal, df)\n",
      "    \n",
      "    fc_apply = lambda s: fc(s, rate)\n",
      "    direction = df.apply(fc_apply, axis=1)\n",
      "    direction.name = 'direction'\n",
      "    \n",
      "    cc = cc.join(direction)\n",
      "    cc = cc[cc.direction==False]\n",
      "    \n",
      "    df = df.ix[((cc.p>.00001) + (df.sum(1).isin(range(10, df.shape[1] / 3)))) > 0]\n",
      "    df = df.dropna(axis=1)\n",
      "    return df\n",
      "\n",
      "def cox_screen(df, surv, axis=1):\n",
      "    rr = df.apply(lambda s: cox(s.dropna(), surv), axis=axis)\n",
      "    if axis==0:\n",
      "        rr = rr.T\n",
      "    rr['q'] = bhCorrection(rr.p)\n",
      "    rr = rr.sort('p')\n",
      "    return rr"
     ],
     "language": "python",
     "metadata": {},
     "outputs": [],
     "prompt_number": 12
    },
    {
     "cell_type": "code",
     "collapsed": true,
     "input": [
      "try:\n",
      "    rna = pickle.load(open(cancer.path + '/mRNASeq/store/no_hpv.p', 'rb'))\n",
      "    meth = pickle.load(open(cancer.path + '/Methylation/store/no_hpv.p', 'rb'))\n",
      "    mirna = pickle.load(open(cancer.path + '/miRNASeq/store/no_hpv.p', 'rb'))\n",
      "except:\n",
      "    from Initialization.InitializeReal import RealDataset\n",
      "    from Processing.Helpers import make_path_dump\n",
      "    rna = RealDataset(run, cancer, 'mRNASeq', keepers_o)\n",
      "    meth = RealDataset(run, cancer, 'Methylation', keepers_o)\n",
      "    mirna = RealDataset(run, cancer, 'miRNASeq', keepers_o, create_meta_features=False)\n",
      "    \n",
      "    make_path_dump(rna, rna.path + '/store/no_hpv.p')\n",
      "    make_path_dump(meth, meth.path + '/store/no_hpv.p')\n",
      "    make_path_dump(mirna, mirna.path + '/store/no_hpv.p')"
     ],
     "language": "python",
     "metadata": {},
     "outputs": [],
     "prompt_number": 13
    },
    {
     "cell_type": "code",
     "collapsed": false,
     "input": [
      "mut_df = mut_filter(mut.features.ix[:,keepers_o], mut.df.sum()).T\n",
      "\n",
      "del_df = (cn.features.ix['Deletion', keepers_o].dropna(1) < 0).astype(int)\n",
      "del_df = del_df[del_df.sum(1) > 10]\n",
      "del_df.index = del_df.index.droplevel(1)\n",
      "del_df = del_df.T\n",
      "amp_df = (cn.features.ix['Amplification', keepers_o].dropna(1) > 0).astype(int)\n",
      "amp_df = amp_df[amp_df.sum(1) > 10]\n",
      "amp_df.index = amp_df.index.droplevel(1)\n",
      "amp_df = amp_df.T\n",
      "\n",
      "global_df = pd.concat([global_vars['mutation'], global_vars['cna'], rna.global_vars, \n",
      "                       meth.global_vars, mirna.global_vars], \n",
      "                keys=['mutation', 'cna', 'rna', 'methylation', 'mirna'], axis=1)\n",
      "global_df.columns = map(lambda s: '_'.join(s), global_df.columns)\n",
      "\n",
      "mirna_df = mirna.features.copy()\n",
      "mirna_df.index = map(lambda s: '_'.join(s), mirna_df.index)\n",
      "mirna_df = mirna_df.T\n",
      "\n",
      "clinical_df = clinical_processed.select(lambda s: 'hpv' not in s, 1)"
     ],
     "language": "python",
     "metadata": {},
     "outputs": [],
     "prompt_number": 14
    },
    {
     "cell_type": "code",
     "collapsed": false,
     "input": [
      "data_sets = {'clinical': clinical_df,\n",
      "             'global': global_df,\n",
      "             'mutation': mut_df,\n",
      "             'deletion': del_df,\n",
      "             'amplification': amp_df,\n",
      "             'rna': rna.pathways.T,\n",
      "             'mirna': mirna_df,\n",
      "             'methylation': meth.pathways.T}"
     ],
     "language": "python",
     "metadata": {},
     "outputs": [],
     "prompt_number": 15
    },
    {
     "cell_type": "code",
     "collapsed": false,
     "input": [
      "univariate = pd.concat({d: cox_screen(df.ix[keepers], surv, 0) for d,df in data_sets.iteritems()})"
     ],
     "language": "python",
     "metadata": {},
     "outputs": [],
     "prompt_number": 16
    },
    {
     "cell_type": "code",
     "collapsed": false,
     "input": [
      "univariate.sort('q').head()"
     ],
     "language": "python",
     "metadata": {},
     "outputs": [
      {
       "html": [
        "<div style=\"max-height:1000px;max-width:1500px;overflow:auto;\">\n",
        "<table border=\"1\" class=\"dataframe\">\n",
        "  <thead>\n",
        "    <tr style=\"text-align: right;\">\n",
        "      <th></th>\n",
        "      <th></th>\n",
        "      <th>LR</th>\n",
        "      <th>p</th>\n",
        "      <th>q</th>\n",
        "    </tr>\n",
        "  </thead>\n",
        "  <tbody>\n",
        "    <tr>\n",
        "      <th>clinical</th>\n",
        "      <th>year</th>\n",
        "      <td> 14.53</td>\n",
        "      <td> 1.38e-04</td>\n",
        "      <td> 0.00</td>\n",
        "    </tr>\n",
        "    <tr>\n",
        "      <th>mirna</th>\n",
        "      <th>real_hsa-mir-135a-2</th>\n",
        "      <td> 19.70</td>\n",
        "      <td> 9.05e-06</td>\n",
        "      <td> 0.00</td>\n",
        "    </tr>\n",
        "    <tr>\n",
        "      <th rowspan=\"3\" valign=\"top\">clinical</th>\n",
        "      <th>spread_inferred</th>\n",
        "      <td>  9.62</td>\n",
        "      <td> 1.93e-03</td>\n",
        "      <td> 0.01</td>\n",
        "    </tr>\n",
        "    <tr>\n",
        "      <th>drinker_inferred</th>\n",
        "      <td>  9.92</td>\n",
        "      <td> 1.63e-03</td>\n",
        "      <td> 0.01</td>\n",
        "    </tr>\n",
        "    <tr>\n",
        "      <th>smoker</th>\n",
        "      <td>  7.62</td>\n",
        "      <td> 5.76e-03</td>\n",
        "      <td> 0.01</td>\n",
        "    </tr>\n",
        "  </tbody>\n",
        "</table>\n",
        "</div>"
       ],
       "output_type": "pyout",
       "prompt_number": 17,
       "text": [
        "                                 LR         p     q\n",
        "clinical year                 14.53  1.38e-04  0.00\n",
        "mirna    real_hsa-mir-135a-2  19.70  9.05e-06  0.00\n",
        "clinical spread_inferred       9.62  1.93e-03  0.01\n",
        "         drinker_inferred      9.92  1.63e-03  0.01\n",
        "         smoker                7.62  5.76e-03  0.01"
       ]
      }
     ],
     "prompt_number": 17
    },
    {
     "cell_type": "code",
     "collapsed": false,
     "input": [
      "hits = univariate[univariate.q < .3].index"
     ],
     "language": "python",
     "metadata": {},
     "outputs": [],
     "prompt_number": 18
    },
    {
     "cell_type": "code",
     "collapsed": false,
     "input": [
      "year = (clinical_df.year.ix[keepers_o] < 2004).map({True: 'Before 2004', False: 'After 2004'})"
     ],
     "language": "python",
     "metadata": {},
     "outputs": [],
     "prompt_number": 54
    },
    {
     "cell_type": "code",
     "collapsed": false,
     "input": [
      "cov_df = pd.concat([age, old], axis=1)\n",
      "def test(s):\n",
      "    s = s.dropna()\n",
      "    try:\n",
      "        s = s.astype(float)\n",
      "    except:\n",
      "        pass\n",
      "    return get_cox_ph_ms(surv, s, cov_df, return_val='LR', interactions=False);"
     ],
     "language": "python",
     "metadata": {},
     "outputs": [],
     "prompt_number": 91
    },
    {
     "cell_type": "code",
     "collapsed": false,
     "input": [
      "df = pd.concat(data_sets, 1).T.ix[hits, keepers_o]\n",
      "feature_age = df.apply(test, 1)"
     ],
     "language": "python",
     "metadata": {},
     "outputs": [],
     "prompt_number": 92
    },
    {
     "cell_type": "code",
     "collapsed": false,
     "input": [
      "vec = feature_age.LR.ix[univariate.index].sort_index()\n",
      "feature_age['q_bonf'] = vec.groupby(level=0).apply(lambda s: s*len(s)).order()\n",
      "feature_age['q_bh'] = vec.groupby(level=0).apply(bhCorrection).order()"
     ],
     "language": "python",
     "metadata": {},
     "outputs": [],
     "prompt_number": 93
    },
    {
     "cell_type": "code",
     "collapsed": false,
     "input": [
      "feature_age.sort('q_bonf').head(10)"
     ],
     "language": "python",
     "metadata": {},
     "outputs": [
      {
       "html": [
        "<div style=\"max-height:1000px;max-width:1500px;overflow:auto;\">\n",
        "<table border=\"1\" class=\"dataframe\">\n",
        "  <thead>\n",
        "    <tr style=\"text-align: right;\">\n",
        "      <th></th>\n",
        "      <th></th>\n",
        "      <th>LR</th>\n",
        "      <th>feature_p</th>\n",
        "      <th>fmla</th>\n",
        "      <th>hazzard</th>\n",
        "      <th>q_bonf</th>\n",
        "      <th>q_bh</th>\n",
        "    </tr>\n",
        "  </thead>\n",
        "  <tbody>\n",
        "    <tr>\n",
        "      <th rowspan=\"6\" valign=\"top\">clinical</th>\n",
        "      <th>year</th>\n",
        "      <td> 2.60e-04</td>\n",
        "      <td> 1.98e-04</td>\n",
        "      <td>       Surv(days, event) ~ feature\\n</td>\n",
        "      <td> 0.93</td>\n",
        "      <td> 0.00</td>\n",
        "      <td> 0.00</td>\n",
        "    </tr>\n",
        "    <tr>\n",
        "      <th>drinker_inferred</th>\n",
        "      <td> 4.15e-04</td>\n",
        "      <td> 1.89e-03</td>\n",
        "      <td>       Surv(days, event) ~ feature\\n</td>\n",
        "      <td> 2.85</td>\n",
        "      <td> 0.01</td>\n",
        "      <td> 0.00</td>\n",
        "    </tr>\n",
        "    <tr>\n",
        "      <th>smoker_inferred</th>\n",
        "      <td> 2.02e-03</td>\n",
        "      <td> 5.17e-03</td>\n",
        "      <td>       Surv(days, event) ~ feature\\n</td>\n",
        "      <td> 2.39</td>\n",
        "      <td> 0.03</td>\n",
        "      <td> 0.01</td>\n",
        "    </tr>\n",
        "    <tr>\n",
        "      <th>drinker</th>\n",
        "      <td> 3.37e-03</td>\n",
        "      <td> 8.18e-03</td>\n",
        "      <td>       Surv(days, event) ~ feature\\n</td>\n",
        "      <td> 3.36</td>\n",
        "      <td> 0.05</td>\n",
        "      <td> 0.01</td>\n",
        "    </tr>\n",
        "    <tr>\n",
        "      <th>smoker</th>\n",
        "      <td> 4.04e-03</td>\n",
        "      <td> 7.97e-03</td>\n",
        "      <td>       Surv(days, event) ~ feature\\n</td>\n",
        "      <td> 2.73</td>\n",
        "      <td> 0.06</td>\n",
        "      <td> 0.01</td>\n",
        "    </tr>\n",
        "    <tr>\n",
        "      <th>spread_inferred</th>\n",
        "      <td> 5.48e-03</td>\n",
        "      <td> 4.19e-03</td>\n",
        "      <td>       Surv(days, event) ~ feature\\n</td>\n",
        "      <td> 1.90</td>\n",
        "      <td> 0.09</td>\n",
        "      <td> 0.01</td>\n",
        "    </tr>\n",
        "    <tr>\n",
        "      <th rowspan=\"2\" valign=\"top\">mirna</th>\n",
        "      <th>binary_hsa-mir-548k</th>\n",
        "      <td> 3.21e-04</td>\n",
        "      <td> 2.93e-04</td>\n",
        "      <td>       Surv(days, event) ~ feature\\n</td>\n",
        "      <td> 2.24</td>\n",
        "      <td> 0.09</td>\n",
        "      <td> 0.05</td>\n",
        "    </tr>\n",
        "    <tr>\n",
        "      <th>binary_hsa-mir-3170</th>\n",
        "      <td> 3.88e-04</td>\n",
        "      <td> 6.60e-04</td>\n",
        "      <td>       Surv(days, event) ~ feature\\n</td>\n",
        "      <td> 2.27</td>\n",
        "      <td> 0.11</td>\n",
        "      <td> 0.05</td>\n",
        "    </tr>\n",
        "    <tr>\n",
        "      <th>rna</th>\n",
        "      <th>REACTOME_RECRUITMENT_OF_NUMA_TO_MITOTIC_CENTROSOMES</th>\n",
        "      <td> 8.40e-04</td>\n",
        "      <td> 6.27e-04</td>\n",
        "      <td> Surv(days, event) ~ feature + old\\n</td>\n",
        "      <td> 1.46</td>\n",
        "      <td> 0.36</td>\n",
        "      <td> 0.16</td>\n",
        "    </tr>\n",
        "    <tr>\n",
        "      <th>mirna</th>\n",
        "      <th>binary_hsa-mir-137</th>\n",
        "      <td> 2.05e-03</td>\n",
        "      <td> 8.38e-04</td>\n",
        "      <td> Surv(days, event) ~ feature + old\\n</td>\n",
        "      <td> 2.11</td>\n",
        "      <td> 0.58</td>\n",
        "      <td> 0.16</td>\n",
        "    </tr>\n",
        "  </tbody>\n",
        "</table>\n",
        "</div>"
       ],
       "output_type": "pyout",
       "prompt_number": 94,
       "text": [
        "                                                                    LR  feature_p                                 fmla  hazzard  q_bonf  q_bh\n",
        "clinical year                                                 2.60e-04   1.98e-04        Surv(days, event) ~ feature\\n     0.93    0.00  0.00\n",
        "         drinker_inferred                                     4.15e-04   1.89e-03        Surv(days, event) ~ feature\\n     2.85    0.01  0.00\n",
        "         smoker_inferred                                      2.02e-03   5.17e-03        Surv(days, event) ~ feature\\n     2.39    0.03  0.01\n",
        "         drinker                                              3.37e-03   8.18e-03        Surv(days, event) ~ feature\\n     3.36    0.05  0.01\n",
        "         smoker                                               4.04e-03   7.97e-03        Surv(days, event) ~ feature\\n     2.73    0.06  0.01\n",
        "         spread_inferred                                      5.48e-03   4.19e-03        Surv(days, event) ~ feature\\n     1.90    0.09  0.01\n",
        "mirna    binary_hsa-mir-548k                                  3.21e-04   2.93e-04        Surv(days, event) ~ feature\\n     2.24    0.09  0.05\n",
        "         binary_hsa-mir-3170                                  3.88e-04   6.60e-04        Surv(days, event) ~ feature\\n     2.27    0.11  0.05\n",
        "rna      REACTOME_RECRUITMENT_OF_NUMA_TO_MITOTIC_CENTROSOMES  8.40e-04   6.27e-04  Surv(days, event) ~ feature + old\\n     1.46    0.36  0.16\n",
        "mirna    binary_hsa-mir-137                                   2.05e-03   8.38e-04  Surv(days, event) ~ feature + old\\n     2.11    0.58  0.16"
       ]
      }
     ],
     "prompt_number": 94
    },
    {
     "cell_type": "code",
     "collapsed": false,
     "input": [
      "sd = combine(clinical_df['drinker_inferred'], clinical_df['smoker_inferred'])"
     ],
     "language": "python",
     "metadata": {},
     "outputs": [],
     "prompt_number": 118
    },
    {
     "cell_type": "code",
     "collapsed": false,
     "input": [
      "draw_survival_curves(sd=='both', surv, two_hit, show=True, ann='p', show_legend=False)"
     ],
     "language": "python",
     "metadata": {},
     "outputs": [
      {
       "html": [
        "<img src='data:image/png;base64,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'>"
       ],
       "output_type": "pyout",
       "prompt_number": 119,
       "text": [
        "<Reports.NotebookTools.Show at 0x728cb90>"
       ]
      }
     ],
     "prompt_number": 119
    },
    {
     "cell_type": "code",
     "collapsed": false,
     "input": [],
     "language": "python",
     "metadata": {},
     "outputs": []
    }
   ],
   "metadata": {}
  }
 ]
}