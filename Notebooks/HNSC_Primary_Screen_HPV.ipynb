{
 "metadata": {
  "name": "HNSC_Primary_Screen_HPV"
 },
 "nbformat": 3,
 "nbformat_minor": 0,
 "worksheets": [
  {
   "cells": [
    {
     "cell_type": "markdown",
     "metadata": {},
     "source": [
      "#HNSC Figures"
     ]
    },
    {
     "cell_type": "code",
     "collapsed": false,
     "input": [
      "cd ../src"
     ],
     "language": "python",
     "metadata": {},
     "outputs": [
      {
       "output_type": "stream",
       "stream": "stdout",
       "text": [
        "/cellar/users/agross/TCGA_Code/TCGA/Pathway_Merge/src\n"
       ]
      }
     ],
     "prompt_number": 181
    },
    {
     "cell_type": "code",
     "collapsed": false,
     "input": [
      "import os as os\n",
      "import pickle as pickle\n",
      "import pandas as pd\n",
      "\n",
      "from Reports.NotebookTools import *\n",
      "from Processing.Tests import *\n",
      "from Reports.Figures import *\n",
      "from Processing.Helpers import *\n",
      "from Figures.Survival import draw_survival_curve\n",
      "\n",
      "pd.set_option('precision',3)\n",
      "pd.set_option('display.line_width', 100)\n",
      "pd.set_option('display.width', 300)"
     ],
     "language": "python",
     "metadata": {},
     "outputs": [],
     "prompt_number": 182
    },
    {
     "cell_type": "markdown",
     "metadata": {},
     "source": [
      "##Load Firehose Run"
     ]
    },
    {
     "cell_type": "code",
     "collapsed": false,
     "input": [
      "result_path = '/scratch/TCGA/Firehose__2012_01_16/ucsd_analyses'\n",
      "run = sorted(os.listdir(result_path))[0]\n",
      "run = pickle.load(open('/'.join([result_path, run, 'RunObject.p']), 'rb'))"
     ],
     "language": "python",
     "metadata": {},
     "outputs": [],
     "prompt_number": 3
    },
    {
     "cell_type": "markdown",
     "metadata": {},
     "source": [
      "##Read in Data"
     ]
    },
    {
     "cell_type": "code",
     "collapsed": false,
     "input": [
      "cancer = run.load_cancer('HNSC')\n",
      "clinical = cancer.load_clinical()\n",
      "global_vars = cancer.load_global_vars()\n",
      "\n",
      "mut = cancer.load_data('MAF')\n",
      "mut.uncompress()\n",
      "meth = cancer.load_data('Methylation')\n",
      "cn = cancer.load_data('CN_broad')\n",
      "cn.uncompress()\n",
      "rna = cancer.load_data('mRNASeq')\n",
      "rppa  = cancer.load_data('RPPA')"
     ],
     "language": "python",
     "metadata": {},
     "outputs": [],
     "prompt_number": 4
    },
    {
     "cell_type": "markdown",
     "metadata": {},
     "source": [
      "###Hard coding updated clinical data for now"
     ]
    },
    {
     "cell_type": "code",
     "collapsed": false,
     "input": [
      "pat = pd.read_csv('/cellar/users/agross/Downloads/HNSC_clin_patient.csv', index_col=0, skiprows=[0], na_values=['[Completed]', '[Not Available]', '[Not Applicable]'])\n",
      "cqcf = pd.read_csv('/cellar/users/agross/Downloads/HNSC_clin_CQCF.csv', index_col=0, skiprows=[0], na_values=['[Completed]', '[Not Available]', '[Not Applicable]'])\n",
      "cqcf = cqcf.replace('None', 'No')\n",
      "followup = pd.read_csv('/cellar/users/agross/Downloads/HNSC_clin_followup.csv', index_col=0, skiprows=[0], na_values=['[Completed]', '[Not Available]', '[Not Applicable]'])\n",
      "followup = followup.groupby(lambda s: s[:12]).last()\n",
      "\n",
      "age = -1*pat.days_to_birth.dropna() / 365.\n",
      "timeline = pat[['days_to_last_followup', 'days_to_death']].dropna(how='all')\n",
      "timeline['days'] = timeline.max(1)\n",
      "deceased = pat.vital_status == 'DECEASED'\n",
      "\n",
      "new_event = followup.select(lambda s: 'days' in s, 1)\n",
      "timeline = new_event.combine_first(timeline)\n",
      "\n",
      "survival = pd.concat([timeline.days, deceased], keys=['days','event'], axis=1)\n",
      "survival = survival.dropna().stack().astype(float)\n",
      "\n",
      "time_to_event = new_event[['days_to_new_tumor_event_after_initial_treatment', 'days_to_death']]\n",
      "time_to_event = time_to_event.join(timeline.days_to_death, lsuffix='_followup', how='outer')\n",
      "pfs = time_to_event.min(1)\n",
      "pfs = pfs[pfs > 30] #30 day buffer\n",
      "event = pfs.notnull()\n",
      "pfs = pd.concat([pfs, timeline.days], axis=1).min(1)\n",
      "\n",
      "pfs = pd.concat([pfs, event], keys=['days','event'], axis=1)\n",
      "pfs.event = pfs.event.fillna(0)\n",
      "pfs = pfs.dropna().stack().astype(float)\n",
      "\n",
      "survival = pd.DataFrame.from_dict({'survival':survival, 'event_free_survival': pfs})\n",
      "\n",
      "clinical.timeline = timeline\n",
      "clinical.survival = survival\n",
      "clinical.artificially_censor(5)\n",
      "\n",
      "surv = clinical.survival.event_free_survival_5y\n",
      "stage = clinical.clinical.tumor_stage.dropna()\n",
      "stage = stage.map({'stge i': 'Stage I', 'stge ii': 'Stage II', \n",
      "                                           'stge iii': 'Stage III', 'stge iv': 'Stage IV'})"
     ],
     "language": "python",
     "metadata": {},
     "outputs": [],
     "prompt_number": 5
    },
    {
     "cell_type": "markdown",
     "metadata": {},
     "source": [
      "###HPV"
     ]
    },
    {
     "cell_type": "code",
     "collapsed": false,
     "input": [
      "hpv_all = pd.read_csv('/cellar/users/agross/hpv_summary_3_20_13_distribute.csv', index_col=0)\n",
      "hpv = hpv_all.Molecular_HPV.map({0:'HPV-', 1:'HPV+'})\n",
      "hpv.name = 'HPV'\n",
      "pd.crosstab(hpv_all.Clinical_HPV_Interpretation, hpv).T"
     ],
     "language": "python",
     "metadata": {},
     "outputs": [
      {
       "html": [
        "<div style=\"max-height:1000px;max-width:1500px;overflow:auto;\">\n",
        "<table border=\"1\" class=\"dataframe\">\n",
        "  <thead>\n",
        "    <tr style=\"text-align: right;\">\n",
        "      <th>Clinical_HPV_Interpretation</th>\n",
        "      <th>Missing</th>\n",
        "      <th>negative</th>\n",
        "      <th>positive</th>\n",
        "    </tr>\n",
        "    <tr>\n",
        "      <th>HPV</th>\n",
        "      <th></th>\n",
        "      <th></th>\n",
        "      <th></th>\n",
        "    </tr>\n",
        "  </thead>\n",
        "  <tbody>\n",
        "    <tr>\n",
        "      <th>HPV+</th>\n",
        "      <td> 4</td>\n",
        "      <td>  16</td>\n",
        "      <td> 15</td>\n",
        "    </tr>\n",
        "    <tr>\n",
        "      <th>HPV-</th>\n",
        "      <td> 6</td>\n",
        "      <td> 238</td>\n",
        "      <td>  0</td>\n",
        "    </tr>\n",
        "  </tbody>\n",
        "</table>\n",
        "</div>"
       ],
       "output_type": "pyout",
       "prompt_number": 65,
       "text": [
        "Clinical_HPV_Interpretation  Missing  negative  positive\n",
        "HPV                                                     \n",
        "HPV+                               4        16        15\n",
        "HPV-                               6       238         0"
       ]
      }
     ],
     "prompt_number": 65
    },
    {
     "cell_type": "code",
     "collapsed": false,
     "input": [
      "hpv_type.value_counts()"
     ],
     "language": "python",
     "metadata": {},
     "outputs": [
      {
       "output_type": "pyout",
       "prompt_number": 191,
       "text": [
        "16    29\n",
        "33     5\n",
        "35     1\n",
        "dtype: int64"
       ]
      }
     ],
     "prompt_number": 191
    },
    {
     "cell_type": "code",
     "collapsed": false,
     "input": [
      "hpv_type = hpv_all[hpv_all.Molecular_HPV==1].maxSequencingSource\n",
      "hpv_type = hpv_type.map(lambda s: s[-2:])\n",
      "hpv_type.name = 'hpv_type'\n",
      "draw_survival_curves(hpv_type, clinical.survival.survival, show=True)"
     ],
     "language": "python",
     "metadata": {},
     "outputs": [
      {
       "html": [
        "<img src='data:image/png;base64,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'>"
       ],
       "output_type": "pyout",
       "prompt_number": 192,
       "text": [
        "<Reports.Figures.Show at 0x8563490>"
       ]
      }
     ],
     "prompt_number": 192
    },
    {
     "cell_type": "code",
     "collapsed": false,
     "input": [
      "screen_feature(hpv_type=='33', kruskal_pandas, rna.features).head()"
     ],
     "language": "python",
     "metadata": {},
     "outputs": [
      {
       "html": [
        "<div style=\"max-height:1000px;max-width:1500px;overflow:auto;\">\n",
        "<table border=\"1\" class=\"dataframe\">\n",
        "  <thead>\n",
        "    <tr style=\"text-align: right;\">\n",
        "      <th></th>\n",
        "      <th>H</th>\n",
        "      <th>p</th>\n",
        "      <th>q</th>\n",
        "    </tr>\n",
        "  </thead>\n",
        "  <tbody>\n",
        "    <tr>\n",
        "      <th>BIOCARTA_EIF_PATHWAY</th>\n",
        "      <td> 5.12</td>\n",
        "      <td> 0.02</td>\n",
        "      <td> 0.9</td>\n",
        "    </tr>\n",
        "    <tr>\n",
        "      <th>BIOCARTA_CELL2CELL_PATHWAY</th>\n",
        "      <td> 4.91</td>\n",
        "      <td> 0.03</td>\n",
        "      <td> 0.9</td>\n",
        "    </tr>\n",
        "    <tr>\n",
        "      <th>BIOCARTA_KREB_PATHWAY</th>\n",
        "      <td> 4.50</td>\n",
        "      <td> 0.03</td>\n",
        "      <td> 0.9</td>\n",
        "    </tr>\n",
        "    <tr>\n",
        "      <th>REACTOME_ACETYLCHOLINE_NEUROTRANSMITTER_RELEASE_CYCLE</th>\n",
        "      <td> 4.11</td>\n",
        "      <td> 0.04</td>\n",
        "      <td> 0.9</td>\n",
        "    </tr>\n",
        "    <tr>\n",
        "      <th>REACTOME_A_THIRD_PROTEOLYTIC_CLEAVAGE_RELEASES_NICD</th>\n",
        "      <td> 3.74</td>\n",
        "      <td> 0.05</td>\n",
        "      <td> 0.9</td>\n",
        "    </tr>\n",
        "  </tbody>\n",
        "</table>\n",
        "</div>"
       ],
       "output_type": "pyout",
       "prompt_number": 154,
       "text": [
        "                                                          H     p    q\n",
        "BIOCARTA_EIF_PATHWAY                                   5.12  0.02  0.9\n",
        "BIOCARTA_CELL2CELL_PATHWAY                             4.91  0.03  0.9\n",
        "BIOCARTA_KREB_PATHWAY                                  4.50  0.03  0.9\n",
        "REACTOME_ACETYLCHOLINE_NEUROTRANSMITTER_RELEASE_CYCLE  4.11  0.04  0.9\n",
        "REACTOME_A_THIRD_PROTEOLYTIC_CLEAVAGE_RELEASES_NICD    3.74  0.05  0.9"
       ]
      }
     ],
     "prompt_number": 154
    },
    {
     "cell_type": "code",
     "collapsed": false,
     "input": [
      "violin_plot_pandas(hpv_type=='33', rna.features.ix['BIOCARTA_EIF_PATHWAY'])"
     ],
     "language": "python",
     "metadata": {},
     "outputs": [
      {
       "output_type": "display_data",
       "png": "[encoded data removed]",
       "text": [
        "<matplotlib.figure.Figure at 0x725e310>"
       ]
      }
     ],
     "prompt_number": 193
    },
    {
     "cell_type": "code",
     "collapsed": false,
     "input": [
      "filters = pd.concat([age>85], axis=1)\n",
      "clinical_filter = filters.sum(1) == 0\n",
      "keepers = true_index(clinical_filter)"
     ],
     "language": "python",
     "metadata": {},
     "outputs": [],
     "prompt_number": 194
    },
    {
     "cell_type": "markdown",
     "metadata": {},
     "source": [
      "###Read in miRNA Data"
     ]
    },
    {
     "cell_type": "code",
     "collapsed": false,
     "input": [
      "path = '/scratch/TCGA/Firehose__2012_03_26/'"
     ],
     "language": "python",
     "metadata": {},
     "outputs": [],
     "prompt_number": 195
    },
    {
     "cell_type": "code",
     "collapsed": false,
     "input": [
      "args = [path] + [cancer.name]\n",
      "f = '{}/stddata/{}/mirnaseq/illuminahiseq_mirnaseq/bcgsc_ca/Level_3/miR_gene_expression/data/data.txt'.format(*args)\n",
      "f = '/cellar/users/agross/Desktop/HNSC.mirnaseq__illuminahiseq_mirnaseq__bcgsc_ca__Level_3__miR_gene_expression__data.data.txt'\n",
      "mirna = pd.read_table(f, index_col=0, header=None)\n",
      "mirna = mirna.T.set_index(['miRNA_ID', 'Hybridization REF'])\n",
      "mirna = mirna.sortlevel(level=0).ix['reads_per_million_miRNA_mapped']\n",
      "mirna = np.log2(mirna.astype(float)).replace(-np.inf, -3.) #close enough to 0\n",
      "mirna = mirna.T\n",
      "mirna.columns = pd.MultiIndex.from_tuples([(i[:12], i[13:15]) for i \n",
      "                                           in mirna.columns])\n",
      "mirna = mirna.T.xs('01', level=1).T #pandas bug"
     ],
     "language": "python",
     "metadata": {},
     "outputs": [],
     "prompt_number": 196
    },
    {
     "cell_type": "code",
     "collapsed": false,
     "input": [
      "surv = clinical.survival.survival_5y"
     ],
     "language": "python",
     "metadata": {},
     "outputs": [],
     "prompt_number": 199
    },
    {
     "cell_type": "code",
     "collapsed": false,
     "input": [
      "cov_df = pd.concat([clinical.clinical.age], axis=1)\n",
      "test = SurvivalTest(surv, cov_df)"
     ],
     "language": "python",
     "metadata": {},
     "outputs": [],
     "prompt_number": 200
    },
    {
     "cell_type": "markdown",
     "metadata": {},
     "source": [
      "##Molecular Characterization"
     ]
    },
    {
     "cell_type": "markdown",
     "metadata": {},
     "source": [
      "###Global Variables"
     ]
    },
    {
     "cell_type": "code",
     "collapsed": false,
     "input": [
      "s = pd.DataFrame({f: kruskal_pandas(hpv, feature) for f,feature in global_vars.T.iterrows()}).T\n",
      "s.sort(columns='p')"
     ],
     "language": "python",
     "metadata": {},
     "outputs": [
      {
       "html": [
        "<div style=\"max-height:1000px;max-width:1500px;overflow:auto;\">\n",
        "<table border=\"1\" class=\"dataframe\">\n",
        "  <thead>\n",
        "    <tr style=\"text-align: right;\">\n",
        "      <th></th>\n",
        "      <th>H</th>\n",
        "      <th>p</th>\n",
        "    </tr>\n",
        "  </thead>\n",
        "  <tbody>\n",
        "    <tr>\n",
        "      <th>(mRNASeq, pc2)</th>\n",
        "      <td> 40.70</td>\n",
        "      <td> 1.77e-10</td>\n",
        "    </tr>\n",
        "    <tr>\n",
        "      <th>(cna, lesion_del)</th>\n",
        "      <td> 22.75</td>\n",
        "      <td> 1.84e-06</td>\n",
        "    </tr>\n",
        "    <tr>\n",
        "      <th>(cna, lesion_amp)</th>\n",
        "      <td> 19.14</td>\n",
        "      <td> 1.21e-05</td>\n",
        "    </tr>\n",
        "    <tr>\n",
        "      <th>(mutation, *Cp(A_C_T)-&gt;T)</th>\n",
        "      <td> 18.64</td>\n",
        "      <td> 1.58e-05</td>\n",
        "    </tr>\n",
        "    <tr>\n",
        "      <th>(mutation, A-&gt;mut)</th>\n",
        "      <td> 17.43</td>\n",
        "      <td> 2.98e-05</td>\n",
        "    </tr>\n",
        "    <tr>\n",
        "      <th>(cna, gene_amp)</th>\n",
        "      <td> 12.62</td>\n",
        "      <td> 3.83e-04</td>\n",
        "    </tr>\n",
        "    <tr>\n",
        "      <th>(cna, gene_del)</th>\n",
        "      <td> 12.06</td>\n",
        "      <td> 5.14e-04</td>\n",
        "    </tr>\n",
        "    <tr>\n",
        "      <th>(mutation, *CpG-&gt;T)</th>\n",
        "      <td> 10.65</td>\n",
        "      <td> 1.10e-03</td>\n",
        "    </tr>\n",
        "    <tr>\n",
        "      <th>(cna, gene_del_homo)</th>\n",
        "      <td>  7.21</td>\n",
        "      <td> 7.23e-03</td>\n",
        "    </tr>\n",
        "    <tr>\n",
        "      <th>(methylation, pc1)</th>\n",
        "      <td>  6.74</td>\n",
        "      <td> 9.42e-03</td>\n",
        "    </tr>\n",
        "    <tr>\n",
        "      <th>(mutation, indel+null)</th>\n",
        "      <td>  4.44</td>\n",
        "      <td> 3.51e-02</td>\n",
        "    </tr>\n",
        "    <tr>\n",
        "      <th>(mutation, rate_non)</th>\n",
        "      <td>  3.61</td>\n",
        "      <td> 5.75e-02</td>\n",
        "    </tr>\n",
        "    <tr>\n",
        "      <th>(mutation, rate_dbsnp)</th>\n",
        "      <td>  3.45</td>\n",
        "      <td> 6.33e-02</td>\n",
        "    </tr>\n",
        "    <tr>\n",
        "      <th>(mutation, C-&gt;(G_A))</th>\n",
        "      <td>  3.30</td>\n",
        "      <td> 6.92e-02</td>\n",
        "    </tr>\n",
        "    <tr>\n",
        "      <th>(mutation, double_null)</th>\n",
        "      <td>  3.00</td>\n",
        "      <td> 8.34e-02</td>\n",
        "    </tr>\n",
        "    <tr>\n",
        "      <th>(cna, gene_amp_high)</th>\n",
        "      <td>  2.99</td>\n",
        "      <td> 8.38e-02</td>\n",
        "    </tr>\n",
        "    <tr>\n",
        "      <th>(mutation, rate_sil)</th>\n",
        "      <td>  2.54</td>\n",
        "      <td> 1.11e-01</td>\n",
        "    </tr>\n",
        "    <tr>\n",
        "      <th>(cna, lesion_amp_high)</th>\n",
        "      <td>  2.51</td>\n",
        "      <td> 1.13e-01</td>\n",
        "    </tr>\n",
        "    <tr>\n",
        "      <th>(cna, chrom_instability)</th>\n",
        "      <td>  1.40</td>\n",
        "      <td> 2.36e-01</td>\n",
        "    </tr>\n",
        "    <tr>\n",
        "      <th>(methylation, pc2)</th>\n",
        "      <td>  0.25</td>\n",
        "      <td> 6.17e-01</td>\n",
        "    </tr>\n",
        "    <tr>\n",
        "      <th>(mRNASeq, pc1)</th>\n",
        "      <td>  0.12</td>\n",
        "      <td> 7.32e-01</td>\n",
        "    </tr>\n",
        "    <tr>\n",
        "      <th>(cna, lesion_del_homo)</th>\n",
        "      <td>   NaN</td>\n",
        "      <td>      NaN</td>\n",
        "    </tr>\n",
        "  </tbody>\n",
        "</table>\n",
        "</div>"
       ],
       "output_type": "pyout",
       "prompt_number": 201,
       "text": [
        "                               H         p\n",
        "(mRNASeq, pc2)             40.70  1.77e-10\n",
        "(cna, lesion_del)          22.75  1.84e-06\n",
        "(cna, lesion_amp)          19.14  1.21e-05\n",
        "(mutation, *Cp(A_C_T)->T)  18.64  1.58e-05\n",
        "(mutation, A->mut)         17.43  2.98e-05\n",
        "(cna, gene_amp)            12.62  3.83e-04\n",
        "(cna, gene_del)            12.06  5.14e-04\n",
        "(mutation, *CpG->T)        10.65  1.10e-03\n",
        "(cna, gene_del_homo)        7.21  7.23e-03\n",
        "(methylation, pc1)          6.74  9.42e-03\n",
        "(mutation, indel+null)      4.44  3.51e-02\n",
        "(mutation, rate_non)        3.61  5.75e-02\n",
        "(mutation, rate_dbsnp)      3.45  6.33e-02\n",
        "(mutation, C->(G_A))        3.30  6.92e-02\n",
        "(mutation, double_null)     3.00  8.34e-02\n",
        "(cna, gene_amp_high)        2.99  8.38e-02\n",
        "(mutation, rate_sil)        2.54  1.11e-01\n",
        "(cna, lesion_amp_high)      2.51  1.13e-01\n",
        "(cna, chrom_instability)    1.40  2.36e-01\n",
        "(methylation, pc2)          0.25  6.17e-01\n",
        "(mRNASeq, pc1)              0.12  7.32e-01\n",
        "(cna, lesion_del_homo)       NaN       NaN"
       ]
      }
     ],
     "prompt_number": 201
    },
    {
     "cell_type": "markdown",
     "metadata": {},
     "source": [
      "###mRNA Pathways"
     ]
    },
    {
     "cell_type": "code",
     "collapsed": false,
     "input": [
      "s_rna = screen_feature(hpv, kruskal_pandas, rna.features)\n",
      "s_rna.head(10)"
     ],
     "language": "python",
     "metadata": {},
     "outputs": [
      {
       "html": [
        "<div style=\"max-height:1000px;max-width:1500px;overflow:auto;\">\n",
        "<table border=\"1\" class=\"dataframe\">\n",
        "  <thead>\n",
        "    <tr style=\"text-align: right;\">\n",
        "      <th></th>\n",
        "      <th>H</th>\n",
        "      <th>p</th>\n",
        "      <th>q</th>\n",
        "    </tr>\n",
        "  </thead>\n",
        "  <tbody>\n",
        "    <tr>\n",
        "      <th>SA_REG_CASCADE_OF_CYCLIN_EXPR</th>\n",
        "      <td> 79.65</td>\n",
        "      <td> 4.46e-19</td>\n",
        "      <td> 1.67e-16</td>\n",
        "    </tr>\n",
        "    <tr>\n",
        "      <th>SA_G1_AND_S_PHASES</th>\n",
        "      <td> 76.72</td>\n",
        "      <td> 1.97e-18</td>\n",
        "      <td> 3.69e-16</td>\n",
        "    </tr>\n",
        "    <tr>\n",
        "      <th>KEGG_MISMATCH_REPAIR</th>\n",
        "      <td> 73.69</td>\n",
        "      <td> 9.13e-18</td>\n",
        "      <td> 6.42e-16</td>\n",
        "    </tr>\n",
        "    <tr>\n",
        "      <th>REACTOME_REPAIR_SYNTHESIS_OF_PATCH_27_30_BASES_LONG_BY_DNA_POLYMERASE</th>\n",
        "      <td> 73.54</td>\n",
        "      <td> 9.87e-18</td>\n",
        "      <td> 6.42e-16</td>\n",
        "    </tr>\n",
        "    <tr>\n",
        "      <th>REACTOME_LAGGING_STRAND_SYNTHESIS</th>\n",
        "      <td> 73.38</td>\n",
        "      <td> 1.07e-17</td>\n",
        "      <td> 6.42e-16</td>\n",
        "    </tr>\n",
        "    <tr>\n",
        "      <th>KEGG_DNA_REPLICATION</th>\n",
        "      <td> 73.27</td>\n",
        "      <td> 1.13e-17</td>\n",
        "      <td> 6.42e-16</td>\n",
        "    </tr>\n",
        "    <tr>\n",
        "      <th>REACTOME_DNA_STRAND_ELONGATION</th>\n",
        "      <td> 73.15</td>\n",
        "      <td> 1.20e-17</td>\n",
        "      <td> 6.42e-16</td>\n",
        "    </tr>\n",
        "    <tr>\n",
        "      <th>REACTOME_GLOBAL_GENOMIC_NER</th>\n",
        "      <td> 72.73</td>\n",
        "      <td> 1.48e-17</td>\n",
        "      <td> 6.96e-16</td>\n",
        "    </tr>\n",
        "    <tr>\n",
        "      <th>REACTOME_REMOVAL_OF_THE_FLAP_INTERMEDIATE</th>\n",
        "      <td> 72.43</td>\n",
        "      <td> 1.73e-17</td>\n",
        "      <td> 7.22e-16</td>\n",
        "    </tr>\n",
        "    <tr>\n",
        "      <th>BIOCARTA_G1_PATHWAY</th>\n",
        "      <td> 71.97</td>\n",
        "      <td> 2.18e-17</td>\n",
        "      <td> 8.04e-16</td>\n",
        "    </tr>\n",
        "  </tbody>\n",
        "</table>\n",
        "</div>"
       ],
       "output_type": "pyout",
       "prompt_number": 17,
       "text": [
        "                                                                           H         p         q\n",
        "SA_REG_CASCADE_OF_CYCLIN_EXPR                                          79.65  4.46e-19  1.67e-16\n",
        "SA_G1_AND_S_PHASES                                                     76.72  1.97e-18  3.69e-16\n",
        "KEGG_MISMATCH_REPAIR                                                   73.69  9.13e-18  6.42e-16\n",
        "REACTOME_REPAIR_SYNTHESIS_OF_PATCH_27_30_BASES_LONG_BY_DNA_POLYMERASE  73.54  9.87e-18  6.42e-16\n",
        "REACTOME_LAGGING_STRAND_SYNTHESIS                                      73.38  1.07e-17  6.42e-16\n",
        "KEGG_DNA_REPLICATION                                                   73.27  1.13e-17  6.42e-16\n",
        "REACTOME_DNA_STRAND_ELONGATION                                         73.15  1.20e-17  6.42e-16\n",
        "REACTOME_GLOBAL_GENOMIC_NER                                            72.73  1.48e-17  6.96e-16\n",
        "REACTOME_REMOVAL_OF_THE_FLAP_INTERMEDIATE                              72.43  1.73e-17  7.22e-16\n",
        "BIOCARTA_G1_PATHWAY                                                    71.97  2.18e-17  8.04e-16"
       ]
      }
     ],
     "prompt_number": 17
    },
    {
     "cell_type": "code",
     "collapsed": false,
     "input": [
      "fig, axs = subplots(1,2, figsize=(9,3))\n",
      "rna.pc_genes['SA_REG_CASCADE_OF_CYCLIN_EXPR'].order().plot(kind='bar')\n",
      "violin_plot_pandas(hpv, pd.Series(rna.features.ix['SA_REG_CASCADE_OF_CYCLIN_EXPR'], name='Cyclin Expression'), ax=axs[0])\n",
      "axs[0].autoscale(enable=True, axis='both', tight=True)\n",
      "fig.tight_layout()"
     ],
     "language": "python",
     "metadata": {},
     "outputs": [
      {
       "output_type": "display_data",
       "png": "[encoded data removed]",
       "text": [
        "<matplotlib.figure.Figure at 0x7397090>"
       ]
      }
     ],
     "prompt_number": 177
    },
    {
     "cell_type": "markdown",
     "metadata": {},
     "source": [
      "##Single Genes"
     ]
    },
    {
     "cell_type": "code",
     "collapsed": false,
     "input": [
      "s = screen_feature(hpv, kruskal_pandas, rna.df)"
     ],
     "language": "python",
     "metadata": {},
     "outputs": [],
     "prompt_number": 178
    },
    {
     "cell_type": "code",
     "collapsed": false,
     "input": [
      "s.head()"
     ],
     "language": "python",
     "metadata": {},
     "outputs": [
      {
       "html": [
        "<div style=\"max-height:1000px;max-width:1500px;overflow:auto;\">\n",
        "<table border=\"1\" class=\"dataframe\">\n",
        "  <thead>\n",
        "    <tr style=\"text-align: right;\">\n",
        "      <th></th>\n",
        "      <th>H</th>\n",
        "      <th>p</th>\n",
        "      <th>q</th>\n",
        "    </tr>\n",
        "  </thead>\n",
        "  <tbody>\n",
        "    <tr>\n",
        "      <th>SMC1B</th>\n",
        "      <td> 89.91</td>\n",
        "      <td> 2.49e-21</td>\n",
        "      <td> 4.16e-17</td>\n",
        "    </tr>\n",
        "    <tr>\n",
        "      <th>ARHGEF33</th>\n",
        "      <td> 88.06</td>\n",
        "      <td> 6.34e-21</td>\n",
        "      <td> 4.16e-17</td>\n",
        "    </tr>\n",
        "    <tr>\n",
        "      <th>RPA2</th>\n",
        "      <td> 87.64</td>\n",
        "      <td> 7.85e-21</td>\n",
        "      <td> 4.16e-17</td>\n",
        "    </tr>\n",
        "    <tr>\n",
        "      <th>TCAM1P</th>\n",
        "      <td> 87.57</td>\n",
        "      <td> 8.12e-21</td>\n",
        "      <td> 4.16e-17</td>\n",
        "    </tr>\n",
        "    <tr>\n",
        "      <th>C19orf57</th>\n",
        "      <td> 84.65</td>\n",
        "      <td> 3.57e-20</td>\n",
        "      <td> 1.31e-16</td>\n",
        "    </tr>\n",
        "  </tbody>\n",
        "</table>\n",
        "</div>"
       ],
       "output_type": "pyout",
       "prompt_number": 20,
       "text": [
        "              H         p         q\n",
        "SMC1B     89.91  2.49e-21  4.16e-17\n",
        "ARHGEF33  88.06  6.34e-21  4.16e-17\n",
        "RPA2      87.64  7.85e-21  4.16e-17\n",
        "TCAM1P    87.57  8.12e-21  4.16e-17\n",
        "C19orf57  84.65  3.57e-20  1.31e-16"
       ]
      }
     ],
     "prompt_number": 20
    },
    {
     "cell_type": "code",
     "collapsed": false,
     "input": [
      "s.H.rank(ascending=False).ix[['SNAI1','TWIST1']]"
     ],
     "language": "python",
     "metadata": {},
     "outputs": [
      {
       "output_type": "pyout",
       "prompt_number": 26,
       "text": [
        "SNAI1     5756.0\n",
        "TWIST1    6788.5\n",
        "Name: H, dtype: float64"
       ]
      }
     ],
     "prompt_number": 26
    },
    {
     "cell_type": "markdown",
     "metadata": {},
     "source": [
      "###Protien Antibodies"
     ]
    },
    {
     "cell_type": "code",
     "collapsed": false,
     "input": [
      "s_rppa = screen_feature(hpv, kruskal_pandas, rppa.features)\n",
      "s_rppa.head(15) "
     ],
     "language": "python",
     "metadata": {},
     "outputs": [
      {
       "html": [
        "<div style=\"max-height:1000px;max-width:1500px;overflow:auto;\">\n",
        "<table border=\"1\" class=\"dataframe\">\n",
        "  <thead>\n",
        "    <tr style=\"text-align: right;\">\n",
        "      <th></th>\n",
        "      <th>H</th>\n",
        "      <th>p</th>\n",
        "      <th>q</th>\n",
        "    </tr>\n",
        "  </thead>\n",
        "  <tbody>\n",
        "    <tr>\n",
        "      <th>(phos_pc, RB1)</th>\n",
        "      <td> 26.79</td>\n",
        "      <td> 2.27e-07</td>\n",
        "      <td> 7.52e-05</td>\n",
        "    </tr>\n",
        "    <tr>\n",
        "      <th>(protiens, (RB1, Rb_pS807_S811-R-V))</th>\n",
        "      <td> 18.90</td>\n",
        "      <td> 1.38e-05</td>\n",
        "      <td> 1.48e-03</td>\n",
        "    </tr>\n",
        "    <tr>\n",
        "      <th>(protiens, (CAV1, Caveolin-1-R-V))</th>\n",
        "      <td> 18.53</td>\n",
        "      <td> 1.67e-05</td>\n",
        "      <td> 1.48e-03</td>\n",
        "    </tr>\n",
        "    <tr>\n",
        "      <th>(pathways, KEGG_CELL_ADHESION_MOLECULES_CAMS)</th>\n",
        "      <td> 18.41</td>\n",
        "      <td> 1.78e-05</td>\n",
        "      <td> 1.48e-03</td>\n",
        "    </tr>\n",
        "    <tr>\n",
        "      <th>(protiens, (RB1, Rb-M-V))</th>\n",
        "      <td> 17.75</td>\n",
        "      <td> 2.51e-05</td>\n",
        "      <td> 1.67e-03</td>\n",
        "    </tr>\n",
        "    <tr>\n",
        "      <th>(pathways, REACTOME_CELL_JUNCTION_ORGANIZATION)</th>\n",
        "      <td> 16.56</td>\n",
        "      <td> 4.70e-05</td>\n",
        "      <td> 2.60e-03</td>\n",
        "    </tr>\n",
        "    <tr>\n",
        "      <th>(protiens, (SYK, Syk-M-V))</th>\n",
        "      <td> 15.23</td>\n",
        "      <td> 9.53e-05</td>\n",
        "      <td> 4.52e-03</td>\n",
        "    </tr>\n",
        "    <tr>\n",
        "      <th>(protiens, (IRS1, IRS1-R-V))</th>\n",
        "      <td> 14.89</td>\n",
        "      <td> 1.14e-04</td>\n",
        "      <td> 4.54e-03</td>\n",
        "    </tr>\n",
        "    <tr>\n",
        "      <th>(protiens, (CLDN7, Claudin-7-R-V))</th>\n",
        "      <td> 14.75</td>\n",
        "      <td> 1.23e-04</td>\n",
        "      <td> 4.54e-03</td>\n",
        "    </tr>\n",
        "    <tr>\n",
        "      <th>(pathways, REACTOME_CELL_CELL_ADHESION_SYSTEMS)</th>\n",
        "      <td> 14.31</td>\n",
        "      <td> 1.55e-04</td>\n",
        "      <td> 5.15e-03</td>\n",
        "    </tr>\n",
        "    <tr>\n",
        "      <th>(pathways, BIOCARTA_P53_PATHWAY)</th>\n",
        "      <td> 13.81</td>\n",
        "      <td> 2.03e-04</td>\n",
        "      <td> 5.82e-03</td>\n",
        "    </tr>\n",
        "    <tr>\n",
        "      <th>(protiens, (NOTCH1, Notch1-R-V))</th>\n",
        "      <td> 13.73</td>\n",
        "      <td> 2.11e-04</td>\n",
        "      <td> 5.82e-03</td>\n",
        "    </tr>\n",
        "    <tr>\n",
        "      <th>(protiens, (PXN, Paxillin-R-V))</th>\n",
        "      <td> 13.31</td>\n",
        "      <td> 2.64e-04</td>\n",
        "      <td> 6.73e-03</td>\n",
        "    </tr>\n",
        "    <tr>\n",
        "      <th>(protiens, (YAP1, YAP_pS127-R-C))</th>\n",
        "      <td> 12.28</td>\n",
        "      <td> 4.57e-04</td>\n",
        "      <td> 1.08e-02</td>\n",
        "    </tr>\n",
        "    <tr>\n",
        "      <th>(phos_pc, YAP1)</th>\n",
        "      <td> 11.40</td>\n",
        "      <td> 7.36e-04</td>\n",
        "      <td> 1.63e-02</td>\n",
        "    </tr>\n",
        "  </tbody>\n",
        "</table>\n",
        "</div>"
       ],
       "output_type": "pyout",
       "prompt_number": 28,
       "text": [
        "                                                     H         p         q\n",
        "(phos_pc, RB1)                                   26.79  2.27e-07  7.52e-05\n",
        "(protiens, (RB1, Rb_pS807_S811-R-V))             18.90  1.38e-05  1.48e-03\n",
        "(protiens, (CAV1, Caveolin-1-R-V))               18.53  1.67e-05  1.48e-03\n",
        "(pathways, KEGG_CELL_ADHESION_MOLECULES_CAMS)    18.41  1.78e-05  1.48e-03\n",
        "(protiens, (RB1, Rb-M-V))                        17.75  2.51e-05  1.67e-03\n",
        "(pathways, REACTOME_CELL_JUNCTION_ORGANIZATION)  16.56  4.70e-05  2.60e-03\n",
        "(protiens, (SYK, Syk-M-V))                       15.23  9.53e-05  4.52e-03\n",
        "(protiens, (IRS1, IRS1-R-V))                     14.89  1.14e-04  4.54e-03\n",
        "(protiens, (CLDN7, Claudin-7-R-V))               14.75  1.23e-04  4.54e-03\n",
        "(pathways, REACTOME_CELL_CELL_ADHESION_SYSTEMS)  14.31  1.55e-04  5.15e-03\n",
        "(pathways, BIOCARTA_P53_PATHWAY)                 13.81  2.03e-04  5.82e-03\n",
        "(protiens, (NOTCH1, Notch1-R-V))                 13.73  2.11e-04  5.82e-03\n",
        "(protiens, (PXN, Paxillin-R-V))                  13.31  2.64e-04  6.73e-03\n",
        "(protiens, (YAP1, YAP_pS127-R-C))                12.28  4.57e-04  1.08e-02\n",
        "(phos_pc, YAP1)                                  11.40  7.36e-04  1.63e-02"
       ]
      }
     ],
     "prompt_number": 28
    },
    {
     "cell_type": "code",
     "collapsed": false,
     "input": [
      "fig, axs = subplots(1,2, figsize=(12,4))\n",
      "violin_plot_pandas(hpv, rna.df.ix['RB1'], ax=axs[0])\n",
      "violin_plot_pandas(hpv, pd.Series(rppa.features.ix[s_rppa.index[0]], name=s_rppa.index[0]), ax=axs[1])"
     ],
     "language": "python",
     "metadata": {},
     "outputs": [
      {
       "output_type": "display_data",
       "png": "[encoded data removed]",
       "text": [
        "<matplotlib.figure.Figure at 0x8eb5d10>"
       ]
      }
     ],
     "prompt_number": 215
    },
    {
     "cell_type": "markdown",
     "metadata": {},
     "source": [
      "###Mutation"
     ]
    },
    {
     "cell_type": "code",
     "collapsed": false,
     "input": [
      "s = screen_feature(hpv, fisher_exact_test, mut.features)\n",
      "s.head(10)"
     ],
     "language": "python",
     "metadata": {},
     "outputs": [
      {
       "html": [
        "<div style=\"max-height:1000px;max-width:1500px;overflow:auto;\">\n",
        "<table border=\"1\" class=\"dataframe\">\n",
        "  <thead>\n",
        "    <tr style=\"text-align: right;\">\n",
        "      <th></th>\n",
        "      <th>odds_ratio</th>\n",
        "      <th>p</th>\n",
        "      <th>q</th>\n",
        "    </tr>\n",
        "  </thead>\n",
        "  <tbody>\n",
        "    <tr>\n",
        "      <th>TP53</th>\n",
        "      <td> 131.92</td>\n",
        "      <td> 1.76e-19</td>\n",
        "      <td> 1.73e-16</td>\n",
        "    </tr>\n",
        "    <tr>\n",
        "      <th>KEGG_CELL_CYCLE</th>\n",
        "      <td>  10.58</td>\n",
        "      <td> 2.80e-08</td>\n",
        "      <td> 1.38e-05</td>\n",
        "    </tr>\n",
        "    <tr>\n",
        "      <th>KEGG_NEUROTROPHIN_SIGNALING_PATHWAY</th>\n",
        "      <td>   9.50</td>\n",
        "      <td> 6.71e-07</td>\n",
        "      <td> 2.20e-04</td>\n",
        "    </tr>\n",
        "    <tr>\n",
        "      <th>KEGG_MAPK_SIGNALING_PATHWAY</th>\n",
        "      <td>  11.97</td>\n",
        "      <td> 1.96e-06</td>\n",
        "      <td> 4.82e-04</td>\n",
        "    </tr>\n",
        "    <tr>\n",
        "      <th>FAT1</th>\n",
        "      <td>    inf</td>\n",
        "      <td> 6.44e-05</td>\n",
        "      <td> 1.26e-02</td>\n",
        "    </tr>\n",
        "    <tr>\n",
        "      <th>KEGG_WNT_SIGNALING_PATHWAY</th>\n",
        "      <td>   6.57</td>\n",
        "      <td> 1.53e-04</td>\n",
        "      <td> 2.50e-02</td>\n",
        "    </tr>\n",
        "    <tr>\n",
        "      <th>CDKN2A</th>\n",
        "      <td>    inf</td>\n",
        "      <td> 2.39e-04</td>\n",
        "      <td> 3.35e-02</td>\n",
        "    </tr>\n",
        "    <tr>\n",
        "      <th>REACTOME_RNA_POLYMERASE_III_TRANSCRIPTION_INITIATION_FROM_TYPE_3_PROMOTER</th>\n",
        "      <td>   0.23</td>\n",
        "      <td> 2.53e-03</td>\n",
        "      <td> 3.10e-01</td>\n",
        "    </tr>\n",
        "    <tr>\n",
        "      <th>REACTOME_IONOTROPIC_ACTIVITY_OF_KAINATE_RECEPTORS</th>\n",
        "      <td>   0.26</td>\n",
        "      <td> 4.47e-03</td>\n",
        "      <td> 4.87e-01</td>\n",
        "    </tr>\n",
        "    <tr>\n",
        "      <th>BIOCARTA_IL22BP_PATHWAY</th>\n",
        "      <td>   0.27</td>\n",
        "      <td> 5.80e-03</td>\n",
        "      <td> 5.70e-01</td>\n",
        "    </tr>\n",
        "  </tbody>\n",
        "</table>\n",
        "</div>"
       ],
       "output_type": "pyout",
       "prompt_number": 37,
       "text": [
        "                                                                           odds_ratio         p         q\n",
        "TP53                                                                           131.92  1.76e-19  1.73e-16\n",
        "KEGG_CELL_CYCLE                                                                 10.58  2.80e-08  1.38e-05\n",
        "KEGG_NEUROTROPHIN_SIGNALING_PATHWAY                                              9.50  6.71e-07  2.20e-04\n",
        "KEGG_MAPK_SIGNALING_PATHWAY                                                     11.97  1.96e-06  4.82e-04\n",
        "FAT1                                                                              inf  6.44e-05  1.26e-02\n",
        "KEGG_WNT_SIGNALING_PATHWAY                                                       6.57  1.53e-04  2.50e-02\n",
        "CDKN2A                                                                            inf  2.39e-04  3.35e-02\n",
        "REACTOME_RNA_POLYMERASE_III_TRANSCRIPTION_INITIATION_FROM_TYPE_3_PROMOTER        0.23  2.53e-03  3.10e-01\n",
        "REACTOME_IONOTROPIC_ACTIVITY_OF_KAINATE_RECEPTORS                                0.26  4.47e-03  4.87e-01\n",
        "BIOCARTA_IL22BP_PATHWAY                                                          0.27  5.80e-03  5.70e-01"
       ]
      }
     ],
     "prompt_number": 37
    },
    {
     "cell_type": "code",
     "collapsed": false,
     "input": [
      "pd.crosstab(hpv=='HPV+', mut.features.ix['FAT1'])"
     ],
     "language": "python",
     "metadata": {},
     "outputs": [
      {
       "html": [
        "<div style=\"max-height:1000px;max-width:1500px;overflow:auto;\">\n",
        "<table border=\"1\" class=\"dataframe\">\n",
        "  <thead>\n",
        "    <tr style=\"text-align: right;\">\n",
        "      <th>FAT1</th>\n",
        "      <th>0.0</th>\n",
        "      <th>1.0</th>\n",
        "    </tr>\n",
        "    <tr>\n",
        "      <th>h</th>\n",
        "      <th></th>\n",
        "      <th></th>\n",
        "    </tr>\n",
        "  </thead>\n",
        "  <tbody>\n",
        "    <tr>\n",
        "      <th>False</th>\n",
        "      <td> 179</td>\n",
        "      <td> 65</td>\n",
        "    </tr>\n",
        "    <tr>\n",
        "      <th>True </th>\n",
        "      <td>  35</td>\n",
        "      <td>  0</td>\n",
        "    </tr>\n",
        "  </tbody>\n",
        "</table>\n",
        "</div>"
       ],
       "output_type": "pyout",
       "prompt_number": 40,
       "text": [
        "FAT1     0   1\n",
        "h             \n",
        "False  179  65\n",
        "True    35   0"
       ]
      }
     ],
     "prompt_number": 40
    },
    {
     "cell_type": "code",
     "collapsed": false,
     "input": [
      "fig, axs = subplots(1,2, figsize=(12,4))\n",
      "f = combine(hpv=='HPV+', mut.df.ix['TP53']>0)\n",
      "f = f[f != 'both']\n",
      "f.name = 'f'\n",
      "violin_plot_pandas(f, rna.df.ix['TP53'], ax=axs[1]);\n",
      "plt.sca(axs[0])\n",
      "venn_pandas(hpv=='HPV+', mut.features.ix['TP53'])"
     ],
     "language": "python",
     "metadata": {},
     "outputs": [
      {
       "output_type": "display_data",
       "png": "[encoded data removed]",
       "text": [
        "<matplotlib.figure.Figure at 0x8ebbe90>"
       ]
      }
     ],
     "prompt_number": 210
    },
    {
     "cell_type": "markdown",
     "metadata": {},
     "source": [
      "###Methylation Pathways"
     ]
    },
    {
     "cell_type": "code",
     "collapsed": false,
     "input": [
      "s = screen_feature(hpv, kruskal_pandas, meth.features)\n",
      "s.head(10)"
     ],
     "language": "python",
     "metadata": {},
     "outputs": [
      {
       "html": [
        "<div style=\"max-height:1000px;max-width:1500px;overflow:auto;\">\n",
        "<table border=\"1\" class=\"dataframe\">\n",
        "  <thead>\n",
        "    <tr style=\"text-align: right;\">\n",
        "      <th></th>\n",
        "      <th>H</th>\n",
        "      <th>p</th>\n",
        "      <th>q</th>\n",
        "    </tr>\n",
        "  </thead>\n",
        "  <tbody>\n",
        "    <tr>\n",
        "      <th>BIOCARTA_GABA_PATHWAY</th>\n",
        "      <td> 48.82</td>\n",
        "      <td> 2.81e-12</td>\n",
        "      <td> 1.73e-09</td>\n",
        "    </tr>\n",
        "    <tr>\n",
        "      <th>REACTOME_METABOLISM_OF_NITRIC_OXIDE</th>\n",
        "      <td> 44.09</td>\n",
        "      <td> 3.14e-11</td>\n",
        "      <td> 9.70e-09</td>\n",
        "    </tr>\n",
        "    <tr>\n",
        "      <th>BIOCARTA_MCM_PATHWAY</th>\n",
        "      <td> 37.05</td>\n",
        "      <td> 1.15e-09</td>\n",
        "      <td> 2.38e-07</td>\n",
        "    </tr>\n",
        "    <tr>\n",
        "      <th>BIOCARTA_RNA_PATHWAY</th>\n",
        "      <td> 36.02</td>\n",
        "      <td> 1.96e-09</td>\n",
        "      <td> 2.84e-07</td>\n",
        "    </tr>\n",
        "    <tr>\n",
        "      <th>REACTOME_HUMAN_TAK1_ACTIVATES_NFKB_BY_PHOSPHORYLATION_AND_ACTIVATION_OF_IKKS_COMPLEX</th>\n",
        "      <td> 35.70</td>\n",
        "      <td> 2.31e-09</td>\n",
        "      <td> 2.84e-07</td>\n",
        "    </tr>\n",
        "    <tr>\n",
        "      <th>REACTOME_ACTIVATION_OF_THE_PRE_REPLICATIVE_COMPLEX</th>\n",
        "      <td> 35.35</td>\n",
        "      <td> 2.76e-09</td>\n",
        "      <td> 2.84e-07</td>\n",
        "    </tr>\n",
        "    <tr>\n",
        "      <th>KEGG_METABOLISM_OF_XENOBIOTICS_BY_CYTOCHROME_P450</th>\n",
        "      <td> 34.84</td>\n",
        "      <td> 3.57e-09</td>\n",
        "      <td> 2.91e-07</td>\n",
        "    </tr>\n",
        "    <tr>\n",
        "      <th>REACTOME_ACTIVATION_OF_ATR_IN_RESPONSE_TO_REPLICATION_STRESS</th>\n",
        "      <td> 34.74</td>\n",
        "      <td> 3.77e-09</td>\n",
        "      <td> 2.91e-07</td>\n",
        "    </tr>\n",
        "    <tr>\n",
        "      <th>REACTOME_GLUTATHIONE_CONJUGATION</th>\n",
        "      <td> 34.40</td>\n",
        "      <td> 4.50e-09</td>\n",
        "      <td> 3.05e-07</td>\n",
        "    </tr>\n",
        "    <tr>\n",
        "      <th>BIOCARTA_RACCYCD_PATHWAY</th>\n",
        "      <td> 34.19</td>\n",
        "      <td> 5.01e-09</td>\n",
        "      <td> 3.05e-07</td>\n",
        "    </tr>\n",
        "  </tbody>\n",
        "</table>\n",
        "</div>"
       ],
       "output_type": "pyout",
       "prompt_number": 41,
       "text": [
        "                                                                                          H         p         q\n",
        "BIOCARTA_GABA_PATHWAY                                                                 48.82  2.81e-12  1.73e-09\n",
        "REACTOME_METABOLISM_OF_NITRIC_OXIDE                                                   44.09  3.14e-11  9.70e-09\n",
        "BIOCARTA_MCM_PATHWAY                                                                  37.05  1.15e-09  2.38e-07\n",
        "BIOCARTA_RNA_PATHWAY                                                                  36.02  1.96e-09  2.84e-07\n",
        "REACTOME_HUMAN_TAK1_ACTIVATES_NFKB_BY_PHOSPHORYLATION_AND_ACTIVATION_OF_IKKS_COMPLEX  35.70  2.31e-09  2.84e-07\n",
        "REACTOME_ACTIVATION_OF_THE_PRE_REPLICATIVE_COMPLEX                                    35.35  2.76e-09  2.84e-07\n",
        "KEGG_METABOLISM_OF_XENOBIOTICS_BY_CYTOCHROME_P450                                     34.84  3.57e-09  2.91e-07\n",
        "REACTOME_ACTIVATION_OF_ATR_IN_RESPONSE_TO_REPLICATION_STRESS                          34.74  3.77e-09  2.91e-07\n",
        "REACTOME_GLUTATHIONE_CONJUGATION                                                      34.40  4.50e-09  3.05e-07\n",
        "BIOCARTA_RACCYCD_PATHWAY                                                              34.19  5.01e-09  3.05e-07"
       ]
      }
     ],
     "prompt_number": 41
    },
    {
     "cell_type": "markdown",
     "metadata": {},
     "source": [
      "###Copy Number"
     ]
    },
    {
     "cell_type": "code",
     "collapsed": false,
     "input": [
      "def fisher_exact_test(hit_vec, response_vec):\n",
      "    '''\n",
      "    Wrapper to do a fischer's exact test on pandas Series\n",
      "    ------------------------------------------------\n",
      "    hit_vec: Series of labels (boolean, or (0,1))\n",
      "    response_vec: Series of measurements (boolean, or (0,1))\n",
      "    '''\n",
      "    #crosstab can't handle multi_index o we use dummy names\n",
      "    cont_table = pd.crosstab(pd.Series(hit_vec, name='h'),\n",
      "                             pd.Series(response_vec, name='r'))\n",
      "    if (cont_table.shape != (2,2)):\n",
      "        return pd.Series(index=['odds_ratio','p'])\n",
      "    return pd.Series(fisher_exact(cont_table), index=['odds_ratio','p'])"
     ],
     "language": "python",
     "metadata": {},
     "outputs": [],
     "prompt_number": 49
    },
    {
     "cell_type": "code",
     "collapsed": false,
     "input": [
      "variable = hpv =='HPV+'\n",
      "cn_association = pd.Series({(g, i, idx): val \n",
      "                            for g in cn.features.index\n",
      "                            for i in ([1,2] if g[0] == 'Amplification' else [-1,-2])\n",
      "                            if (i in cn.features.ix[g].unique())\n",
      "                            for idx,val in fisher_exact_test(cn.features.ix[g] <= i, variable).iteritems()\n",
      "                               })\n",
      "cn_association.index = pd.MultiIndex.from_tuples(cn_association.index)\n",
      "cn_association.index.names = ['feature','level','stat']\n",
      "\n",
      "a = cn_association.unstack(level='stat').sort(columns='p')\n",
      "a['q']  = bhCorrection(a.p)\n",
      "a.head(15)"
     ],
     "language": "python",
     "metadata": {},
     "outputs": [
      {
       "html": [
        "<div style=\"max-height:1000px;max-width:1500px;overflow:auto;\">\n",
        "<table border=\"1\" class=\"dataframe\">\n",
        "  <thead>\n",
        "    <tr style=\"text-align: right;\">\n",
        "      <th></th>\n",
        "      <th></th>\n",
        "      <th>odds_ratio</th>\n",
        "      <th>p</th>\n",
        "      <th>q</th>\n",
        "    </tr>\n",
        "    <tr>\n",
        "      <th>feature</th>\n",
        "      <th>level</th>\n",
        "      <th></th>\n",
        "      <th></th>\n",
        "      <th></th>\n",
        "    </tr>\n",
        "  </thead>\n",
        "  <tbody>\n",
        "    <tr>\n",
        "      <th>(Deletion, 18q22.3, (CNDP2, LOC400657, TSHZ1, ZADH2, ZNF407))</th>\n",
        "      <th>-1</th>\n",
        "      <td> 0.02</td>\n",
        "      <td> 3.66e-13</td>\n",
        "      <td> 7.65e-11</td>\n",
        "    </tr>\n",
        "    <tr>\n",
        "      <th>(Deletion, 18q21.33, (KDSR, KIAA1468, PHLPP1, PIGN, RNF152, SERPINB10, SERPINB12, SERPINB13, SERPINB2, SERPINB3, SERPINB4, SERPINB5, SERPINB7, TNFRSF11A, VPS4B, ZCCHC2))</th>\n",
        "      <th>-1</th>\n",
        "      <td> 0.02</td>\n",
        "      <td> 5.07e-13</td>\n",
        "      <td> 7.65e-11</td>\n",
        "    </tr>\n",
        "    <tr>\n",
        "      <th>(Deletion, 18q22.2, (RTTN, SOCS6))</th>\n",
        "      <th>-1</th>\n",
        "      <td> 0.02</td>\n",
        "      <td> 6.98e-13</td>\n",
        "      <td> 7.65e-11</td>\n",
        "    </tr>\n",
        "    <tr>\n",
        "      <th>(Deletion, 18q21.32, (PMAIP1, SEC11C))</th>\n",
        "      <th>-1</th>\n",
        "      <td> 0.02</td>\n",
        "      <td> 9.59e-13</td>\n",
        "      <td> 7.89e-11</td>\n",
        "    </tr>\n",
        "    <tr>\n",
        "      <th>(Deletion, 18q22.1, (SERPINB8, TMX3))</th>\n",
        "      <th>-1</th>\n",
        "      <td> 0.02</td>\n",
        "      <td> 1.31e-12</td>\n",
        "      <td> 8.64e-11</td>\n",
        "    </tr>\n",
        "    <tr>\n",
        "      <th>(Deletion, 18q21.2, Lesion)</th>\n",
        "      <th>-1</th>\n",
        "      <td> 0.02</td>\n",
        "      <td> 8.13e-12</td>\n",
        "      <td> 3.47e-10</td>\n",
        "    </tr>\n",
        "    <tr>\n",
        "      <th>(Deletion, 18q21.2, (SMAD4,))</th>\n",
        "      <th>-1</th>\n",
        "      <td> 0.02</td>\n",
        "      <td> 8.13e-12</td>\n",
        "      <td> 3.47e-10</td>\n",
        "    </tr>\n",
        "    <tr>\n",
        "      <th>(Deletion, 18q23, Lesion)</th>\n",
        "      <th>-1</th>\n",
        "      <td> 0.03</td>\n",
        "      <td> 8.44e-12</td>\n",
        "      <td> 3.47e-10</td>\n",
        "    </tr>\n",
        "    <tr>\n",
        "      <th>(Deletion, 18q23, (ADNP2, ATP9B, CTDP1, HSBP1L1, LOC100130522, MBP, NFATC1, PARD6G, PQLC1, TXNL4A, ZNF236, ZNF516))</th>\n",
        "      <th>-1</th>\n",
        "      <td> 0.03</td>\n",
        "      <td> 1.56e-11</td>\n",
        "      <td> 5.71e-10</td>\n",
        "    </tr>\n",
        "    <tr>\n",
        "      <th>(Deletion, 9p21.3, Lesion)</th>\n",
        "      <th>-1</th>\n",
        "      <td> 0.05</td>\n",
        "      <td> 2.03e-11</td>\n",
        "      <td> 6.67e-10</td>\n",
        "    </tr>\n",
        "    <tr>\n",
        "      <th>(Deletion, 9p21.3, (C9orf53, CDKN2A, CDKN2B, DMRTA1, ELAVL2, IFNA1, IFNA13, IFNE, KIAA1797, KLHL9, MTAP, PTPLAD2))</th>\n",
        "      <th>-1</th>\n",
        "      <td> 0.08</td>\n",
        "      <td> 1.06e-07</td>\n",
        "      <td> 3.17e-06</td>\n",
        "    </tr>\n",
        "    <tr>\n",
        "      <th>(Deletion, 8p23.2, Lesion)</th>\n",
        "      <th>-1</th>\n",
        "      <td> 0.12</td>\n",
        "      <td> 2.18e-07</td>\n",
        "      <td> 5.98e-06</td>\n",
        "    </tr>\n",
        "    <tr>\n",
        "      <th>(Deletion, 9p23, Lesion)</th>\n",
        "      <th>-1</th>\n",
        "      <td> 0.08</td>\n",
        "      <td> 2.93e-07</td>\n",
        "      <td> 7.41e-06</td>\n",
        "    </tr>\n",
        "    <tr>\n",
        "      <th>(Deletion, 8p23.3, (CLN8, DLGAP2, ERICH1, FBXO25))</th>\n",
        "      <th>-1</th>\n",
        "      <td> 0.12</td>\n",
        "      <td> 1.14e-06</td>\n",
        "      <td> 2.67e-05</td>\n",
        "    </tr>\n",
        "    <tr>\n",
        "      <th>(Deletion, 8p23.2, (CSMD1,))</th>\n",
        "      <th>-1</th>\n",
        "      <td> 0.15</td>\n",
        "      <td> 1.82e-06</td>\n",
        "      <td> 3.99e-05</td>\n",
        "    </tr>\n",
        "  </tbody>\n",
        "</table>\n",
        "</div>"
       ],
       "output_type": "pyout",
       "prompt_number": 52,
       "text": [
        "                                                                                                                                                                                 odds_ratio         p         q\n",
        "feature                                                                                                                                                                   level                                \n",
        "(Deletion, 18q22.3, (CNDP2, LOC400657, TSHZ1, ZADH2, ZNF407))                                                                                                             -1           0.02  3.66e-13  7.65e-11\n",
        "(Deletion, 18q21.33, (KDSR, KIAA1468, PHLPP1, PIGN, RNF152, SERPINB10, SERPINB12, SERPINB13, SERPINB2, SERPINB3, SERPINB4, SERPINB5, SERPINB7, TNFRSF11A, VPS4B, ZCCHC2)) -1           0.02  5.07e-13  7.65e-11\n",
        "(Deletion, 18q22.2, (RTTN, SOCS6))                                                                                                                                        -1           0.02  6.98e-13  7.65e-11\n",
        "(Deletion, 18q21.32, (PMAIP1, SEC11C))                                                                                                                                    -1           0.02  9.59e-13  7.89e-11\n",
        "(Deletion, 18q22.1, (SERPINB8, TMX3))                                                                                                                                     -1           0.02  1.31e-12  8.64e-11\n",
        "(Deletion, 18q21.2, Lesion)                                                                                                                                               -1           0.02  8.13e-12  3.47e-10\n",
        "(Deletion, 18q21.2, (SMAD4,))                                                                                                                                             -1           0.02  8.13e-12  3.47e-10\n",
        "(Deletion, 18q23, Lesion)                                                                                                                                                 -1           0.03  8.44e-12  3.47e-10\n",
        "(Deletion, 18q23, (ADNP2, ATP9B, CTDP1, HSBP1L1, LOC100130522, MBP, NFATC1, PARD6G, PQLC1, TXNL4A, ZNF236, ZNF516))                                                       -1           0.03  1.56e-11  5.71e-10\n",
        "(Deletion, 9p21.3, Lesion)                                                                                                                                                -1           0.05  2.03e-11  6.67e-10\n",
        "(Deletion, 9p21.3, (C9orf53, CDKN2A, CDKN2B, DMRTA1, ELAVL2, IFNA1, IFNA13, IFNE, KIAA1797, KLHL9, MTAP, PTPLAD2))                                                        -1           0.08  1.06e-07  3.17e-06\n",
        "(Deletion, 8p23.2, Lesion)                                                                                                                                                -1           0.12  2.18e-07  5.98e-06\n",
        "(Deletion, 9p23, Lesion)                                                                                                                                                  -1           0.08  2.93e-07  7.41e-06\n",
        "(Deletion, 8p23.3, (CLN8, DLGAP2, ERICH1, FBXO25))                                                                                                                        -1           0.12  1.14e-06  2.67e-05\n",
        "(Deletion, 8p23.2, (CSMD1,))                                                                                                                                              -1           0.15  1.82e-06  3.99e-05"
       ]
      }
     ],
     "prompt_number": 52
    },
    {
     "cell_type": "code",
     "collapsed": false,
     "input": [
      "hpv.name = 'HPV'"
     ],
     "language": "python",
     "metadata": {},
     "outputs": [],
     "prompt_number": 216
    },
    {
     "cell_type": "code",
     "collapsed": false,
     "input": [
      "csmd = cn.features.ix[a.index[6][0]] < 0\n",
      "venn_pandas(csmd, hpv=='HPV+')"
     ],
     "language": "python",
     "metadata": {},
     "outputs": [
      {
       "output_type": "display_data",
       "png": "[encoded data removed]",
       "text": [
        "<matplotlib.figure.Figure at 0x91aa850>"
       ]
      }
     ],
     "prompt_number": 218
    },
    {
     "cell_type": "code",
     "collapsed": false,
     "input": [
      "csmd = cn.features.ix[a.index[14][0]] < 0\n",
      "venn_pandas(csmd, hpv=='HPV+')"
     ],
     "language": "python",
     "metadata": {},
     "outputs": [
      {
       "output_type": "display_data",
       "png": "[encoded data removed]",
       "text": [
        "<matplotlib.figure.Figure at 0x72ad150>"
       ]
      }
     ],
     "prompt_number": 90
    },
    {
     "cell_type": "code",
     "collapsed": false,
     "input": [
      "draw_survival_curves(csmd, surv, hpv, show=True)"
     ],
     "language": "python",
     "metadata": {},
     "outputs": [
      {
       "html": [
        "<img src='data:image/png;base64,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'>"
       ],
       "output_type": "pyout",
       "prompt_number": 91,
       "text": [
        "<Reports.Figures.Show at 0x71a8850>"
       ]
      }
     ],
     "prompt_number": 91
    },
    {
     "cell_type": "code",
     "collapsed": false,
     "input": [
      "pd.crosstab(hpv_type, Series(csmd, name='csmd'))"
     ],
     "language": "python",
     "metadata": {},
     "outputs": [
      {
       "html": [
        "<div style=\"max-height:1000px;max-width:1500px;overflow:auto;\">\n",
        "<table border=\"1\" class=\"dataframe\">\n",
        "  <thead>\n",
        "    <tr style=\"text-align: right;\">\n",
        "      <th>csmd</th>\n",
        "      <th>False</th>\n",
        "      <th>True</th>\n",
        "    </tr>\n",
        "    <tr>\n",
        "      <th>hpv_type</th>\n",
        "      <th></th>\n",
        "      <th></th>\n",
        "    </tr>\n",
        "  </thead>\n",
        "  <tbody>\n",
        "    <tr>\n",
        "      <th>16</th>\n",
        "      <td> 24</td>\n",
        "      <td> 5</td>\n",
        "    </tr>\n",
        "    <tr>\n",
        "      <th>33</th>\n",
        "      <td>  3</td>\n",
        "      <td> 2</td>\n",
        "    </tr>\n",
        "    <tr>\n",
        "      <th>35</th>\n",
        "      <td>  1</td>\n",
        "      <td> 0</td>\n",
        "    </tr>\n",
        "  </tbody>\n",
        "</table>\n",
        "</div>"
       ],
       "output_type": "pyout",
       "prompt_number": 157,
       "text": [
        "csmd      False  True \n",
        "hpv_type              \n",
        "16           24      5\n",
        "33            3      2\n",
        "35            1      0"
       ]
      }
     ],
     "prompt_number": 157
    },
    {
     "cell_type": "markdown",
     "metadata": {},
     "source": [
      "###microRNA"
     ]
    },
    {
     "cell_type": "code",
     "collapsed": false,
     "input": [
      "hpv_type"
     ],
     "language": "python",
     "metadata": {},
     "outputs": [
      {
       "output_type": "pyout",
       "prompt_number": 169,
       "text": [
        "Barcode\n",
        "TCGA-CV-5443    16\n",
        "TCGA-CR-7404    16\n",
        "TCGA-CR-6482    16\n",
        "TCGA-HD-7754    16\n",
        "TCGA-CR-5249    16\n",
        "TCGA-CV-5442    16\n",
        "TCGA-BB-4228    16\n",
        "TCGA-CN-4741    16\n",
        "TCGA-CR-5250    16\n",
        "TCGA-CR-6487    16\n",
        "TCGA-BB-4223    16\n",
        "TCGA-BA-4077    16\n",
        "TCGA-CR-7385    16\n",
        "TCGA-CR-6470    16\n",
        "TCGA-CR-6472    16\n",
        "TCGA-CV-6433    16\n",
        "TCGA-BA-5153    16\n",
        "TCGA-CR-5243    16\n",
        "TCGA-CV-6961    16\n",
        "TCGA-CR-5248    16\n",
        "TCGA-CN-5374    16\n",
        "TCGA-CR-6481    16\n",
        "TCGA-CV-5971    16\n",
        "TCGA-CR-6473    16\n",
        "TCGA-CQ-5323    16\n",
        "TCGA-CR-7368    16\n",
        "TCGA-CV-7100    33\n",
        "TCGA-BB-4225    33\n",
        "TCGA-CV-6939    33\n",
        "TCGA-CR-6471    33\n",
        "TCGA-DQ-7591    35\n",
        "TCGA-BA-5559    16\n",
        "TCGA-CV-7406    16\n",
        "TCGA-CR-7369    16\n",
        "TCGA-HD-7832    33\n",
        "Name: hpv_type, dtype: object"
       ]
      }
     ],
     "prompt_number": 169
    },
    {
     "cell_type": "code",
     "collapsed": false,
     "input": [
      "screen_feature(hpv, kruskal_pandas, mirna).head()"
     ],
     "language": "python",
     "metadata": {},
     "outputs": [
      {
       "html": [
        "<div style=\"max-height:1000px;max-width:1500px;overflow:auto;\">\n",
        "<table border=\"1\" class=\"dataframe\">\n",
        "  <thead>\n",
        "    <tr style=\"text-align: right;\">\n",
        "      <th></th>\n",
        "      <th>H</th>\n",
        "      <th>p</th>\n",
        "      <th>q</th>\n",
        "    </tr>\n",
        "  </thead>\n",
        "  <tbody>\n",
        "    <tr>\n",
        "      <th>hsa-mir-20b</th>\n",
        "      <td> 64.94</td>\n",
        "      <td> 7.72e-16</td>\n",
        "      <td> 8.07e-13</td>\n",
        "    </tr>\n",
        "    <tr>\n",
        "      <th>hsa-mir-363</th>\n",
        "      <td> 61.02</td>\n",
        "      <td> 5.66e-15</td>\n",
        "      <td> 2.96e-12</td>\n",
        "    </tr>\n",
        "    <tr>\n",
        "      <th>hsa-mir-9-2</th>\n",
        "      <td> 54.79</td>\n",
        "      <td> 1.34e-13</td>\n",
        "      <td> 3.63e-11</td>\n",
        "    </tr>\n",
        "    <tr>\n",
        "      <th>hsa-mir-9-1</th>\n",
        "      <td> 54.72</td>\n",
        "      <td> 1.39e-13</td>\n",
        "      <td> 3.63e-11</td>\n",
        "    </tr>\n",
        "    <tr>\n",
        "      <th>hsa-mir-9-3</th>\n",
        "      <td> 47.24</td>\n",
        "      <td> 6.27e-12</td>\n",
        "      <td> 1.31e-09</td>\n",
        "    </tr>\n",
        "  </tbody>\n",
        "</table>\n",
        "</div>"
       ],
       "output_type": "pyout",
       "prompt_number": 159,
       "text": [
        "                 H         p         q\n",
        "hsa-mir-20b  64.94  7.72e-16  8.07e-13\n",
        "hsa-mir-363  61.02  5.66e-15  2.96e-12\n",
        "hsa-mir-9-2  54.79  1.34e-13  3.63e-11\n",
        "hsa-mir-9-1  54.72  1.39e-13  3.63e-11\n",
        "hsa-mir-9-3  47.24  6.27e-12  1.31e-09"
       ]
      }
     ],
     "prompt_number": 159
    },
    {
     "cell_type": "code",
     "collapsed": false,
     "input": [
      "fig, axs = subplots(1,2, figsize=(12,4))\n",
      "violin_plot_pandas(hpv, mirna.ix['hsa-mir-20b'], ax=axs[0])\n",
      "violin_plot_pandas(hpv, mirna.ix['hsa-mir-363'], ax=axs[1])"
     ],
     "language": "python",
     "metadata": {},
     "outputs": [
      {
       "output_type": "display_data",
       "png": "[encoded data removed]",
       "text": [
        "<matplotlib.figure.Figure at 0x8eaf310>"
       ]
      }
     ],
     "prompt_number": 204
    },
    {
     "cell_type": "code",
     "collapsed": false,
     "input": [
      "draw_survival_curves(to_quants(mirna.ix['hsa-mir-363'], std=1), surv, hpv, show=True)"
     ],
     "language": "python",
     "metadata": {},
     "outputs": [
      {
       "html": [
        "<img src='data:image/png;base64,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'>"
       ],
       "output_type": "pyout",
       "prompt_number": 227,
       "text": [
        "<Reports.Figures.Show at 0x7397510>"
       ]
      }
     ],
     "prompt_number": 227
    },
    {
     "cell_type": "code",
     "collapsed": false,
     "input": [],
     "language": "python",
     "metadata": {},
     "outputs": []
    }
   ],
   "metadata": {}
  }
 ]
}