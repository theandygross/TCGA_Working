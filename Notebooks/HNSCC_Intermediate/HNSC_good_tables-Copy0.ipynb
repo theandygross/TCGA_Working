{
 "metadata": {
  "name": "HNSC_good_tables-Copy0"
 },
 "nbformat": 3,
 "nbformat_minor": 0,
 "worksheets": [
  {
   "cells": [
    {
     "cell_type": "code",
     "collapsed": false,
     "input": [
      "cd ../src"
     ],
     "language": "python",
     "metadata": {},
     "outputs": [
      {
       "output_type": "stream",
       "stream": "stdout",
       "text": [
        "/cellar/users/agross/TCGA_Code/TCGA/Pathway_Merge/src\n"
       ]
      }
     ],
     "prompt_number": 1
    },
    {
     "cell_type": "code",
     "collapsed": false,
     "input": [
      "import os as os\n",
      "import pickle as pickle\n",
      "import pandas as pd\n",
      "from pandas import read_table, Series, DataFrame\n",
      "\n",
      "from Data.Firehose import get_gistic\n",
      "from Data.Containers import Dataset"
     ],
     "language": "python",
     "metadata": {},
     "outputs": [],
     "prompt_number": 2
    },
    {
     "cell_type": "code",
     "collapsed": false,
     "input": [
      "result_path = '/scratch/TCGA/Firehose__2012_12_21/ucsd_analyses'\n",
      "run = sorted(os.listdir(result_path))[0]\n",
      "run = pickle.load(open('/'.join([result_path, run, 'RunObject.p']), 'rb'))"
     ],
     "language": "python",
     "metadata": {},
     "outputs": [],
     "prompt_number": 3
    },
    {
     "cell_type": "code",
     "collapsed": false,
     "input": [
      "cancer = run.load_cancer('HNSC')\n",
      "clinical = cancer.load_clinical()\n",
      "global_vars = cancer.load_global_vars()"
     ],
     "language": "python",
     "metadata": {},
     "outputs": [],
     "prompt_number": 4
    },
    {
     "cell_type": "code",
     "collapsed": false,
     "input": [
      "mut = cancer.load_data('MAF')\n",
      "mut.uncompress()\n",
      "cna = cancer.load_data('CN_broad')\n",
      "cna.uncompress()"
     ],
     "language": "python",
     "metadata": {},
     "outputs": [],
     "prompt_number": 5
    },
    {
     "cell_type": "code",
     "collapsed": false,
     "input": [
      "def read_rppa(data_path, cancer):\n",
      "    data_type = 'RPPA_AnnotateWithGene'\n",
      "    rppa = read_table(data_path +  'stddata/RPPA_AnnotateWithGene/' + \n",
      "                      cancer + '.rppa.txt', index_col=0)\n",
      "    rppa = rppa.rename(columns=lambda s: s[:12]) #short barcode format\n",
      "    rppa = np.log2(rppa.astype(np.float))\n",
      "    return rppa\n",
      "\n",
      "def run_feature_matrix(df, test, fp_cutoff=.5):\n",
      "    df = df.ix[df.apply(test.check_feature, 1)]\n",
      "    if hasattr(test, 'first_pass'):\n",
      "        fp = Series({f: test.first_pass(vec) for f,vec in df.iterrows()})\n",
      "        df = df.ix[fp < fp_cutoff]\n",
      "    results = DataFrame({f: test.full_test(vec) for f,vec in df.iterrows()})\n",
      "    return results.T"
     ],
     "language": "python",
     "metadata": {},
     "outputs": [],
     "prompt_number": 6
    },
    {
     "cell_type": "code",
     "collapsed": false,
     "input": [
      "rppa = read_table('/scratch/TCGA/Firehose__2012_12_21/stddata/HNSC/RPPA_AnnotateWithGene/HNSC.rppa.txt', index_col=0)\n",
      "rppa = rppa.rename(columns=lambda s: s[:12]) #short barcode format\n",
      "\n",
      "rppa['protien'] = rppa.index.map(lambda s: s.split('|')[0])\n",
      "rppa['mod'] = rppa.index.map(lambda s: s.split('|')[1])\n",
      "rppa = rppa.set_index(['protien','mod'])\n",
      "m = rppa.divide(rppa.groupby(level=0).first(), level=0)\n",
      "ratios = m[(m != 1).sum(1) > 0]\n",
      "ratios.index.levels[1] = pd.Index(map(lambda s: s + '_ratio', ratios.index.levels[1]))\n",
      "rppa = rppa.append(ratios)"
     ],
     "language": "python",
     "metadata": {},
     "outputs": [],
     "prompt_number": 56
    },
    {
     "cell_type": "code",
     "collapsed": false,
     "input": [
      "from Processing.Tests import SurvivalTest\n",
      "from IPython.display import Image"
     ],
     "language": "python",
     "metadata": {},
     "outputs": [],
     "prompt_number": 8
    },
    {
     "cell_type": "code",
     "collapsed": false,
     "input": [
      "survival_test = 'event_free_survival_5y'\n",
      "covariates = ['age', 'combo']\n",
      "combo = (cna.df.ix[('Deletion', '3p14.2', 'Lesion')] < 0) * (mut.df.ix['TP53'] > 0)\n",
      "combo.name=  'combo'\n",
      "cov_df = global_vars.join(clinical.clinical, how='outer').join(combo)\n",
      "cov_df = cov_df[covariates]\n",
      "surv = clinical.survival[survival_test]\n",
      "test = SurvivalTest(surv, cov_df)\n",
      "test.name = survival_test\n",
      "test.first_pass = lambda feature: get_cox_ph_ms(test.surv, feature, return_val='p_haz', \n",
      "                                         formula='Surv(days, event) ~ feature')"
     ],
     "language": "python",
     "metadata": {},
     "outputs": [],
     "prompt_number": 77
    },
    {
     "cell_type": "code",
     "collapsed": false,
     "input": [
      "def run_feature_matrix(df, test, fp_cutoff=.5):\n",
      "    df = df.ix[df.apply(test.check_feature, 1)]\n",
      "    if hasattr(test, 'first_pass'):\n",
      "        fp = DataFrame({f: test.first_pass(vec) for f,vec in df.iterrows()}).T\n",
      "        df = df[fp.p < fp_cutoff]\n",
      "    results = DataFrame({f: test.full_test(vec) for f,vec in df.iterrows()}).T\n",
      "    return results, fp"
     ],
     "language": "python",
     "metadata": {},
     "outputs": [],
     "prompt_number": 84
    },
    {
     "cell_type": "code",
     "collapsed": false,
     "input": [
      "def run_feature_matrix(df, test, fp_cutoff=.5):\n",
      "    df = df.ix[df.apply(test.check_feature, 1)]\n",
      "    if hasattr(test, 'first_pass'):\n",
      "        fp = df.apply(test.first_pass, 1)\n",
      "        df = df[fp.p < fp_cutoff]\n",
      "    results = df.apply(test.full_test, 1)\n",
      "    return results, fp"
     ],
     "language": "python",
     "metadata": {},
     "outputs": [],
     "prompt_number": 105
    },
    {
     "cell_type": "code",
     "collapsed": false,
     "input": [
      "df = rppa.ix[:5]"
     ],
     "language": "python",
     "metadata": {},
     "outputs": [],
     "prompt_number": 116
    },
    {
     "cell_type": "code",
     "collapsed": false,
     "input": [
      "df = df.ix[df.apply(test.check_feature, 1)]"
     ],
     "language": "python",
     "metadata": {},
     "outputs": [],
     "prompt_number": 117
    },
    {
     "cell_type": "code",
     "collapsed": false,
     "input": [
      "fp = df.apply(test.first_pass,1)"
     ],
     "language": "python",
     "metadata": {},
     "outputs": [],
     "prompt_number": 134
    },
    {
     "cell_type": "code",
     "collapsed": false,
     "input": [
      "df.apply??"
     ],
     "language": "python",
     "metadata": {},
     "outputs": [],
     "prompt_number": 135
    },
    {
     "cell_type": "code",
     "collapsed": false,
     "input": [
      "fp"
     ],
     "language": "python",
     "metadata": {},
     "outputs": [
      {
       "html": [
        "<div style=\"max-height:1000px;max-width:1500px;overflow:auto;\">\n",
        "<table border=\"1\" class=\"dataframe\">\n",
        "  <thead>\n",
        "    <tr style=\"text-align: right;\">\n",
        "      <th></th>\n",
        "      <th>hazzard</th>\n",
        "      <th>p</th>\n",
        "    </tr>\n",
        "  </thead>\n",
        "  <tbody>\n",
        "    <tr>\n",
        "      <td><strong>(YWHAE, 14-3-3_epsilon-M-C)</strong></td>\n",
        "      <td> 1.248781</td>\n",
        "      <td> 0.465925</td>\n",
        "    </tr>\n",
        "    <tr>\n",
        "      <td><strong>(EIF4EBP1, 4E-BP1-R-V)</strong></td>\n",
        "      <td> 0.696916</td>\n",
        "      <td> 0.068302</td>\n",
        "    </tr>\n",
        "    <tr>\n",
        "      <td><strong>(EIF4EBP1, 4E-BP1_pS65-R-V)</strong></td>\n",
        "      <td> 1.066758</td>\n",
        "      <td> 0.835150</td>\n",
        "    </tr>\n",
        "    <tr>\n",
        "      <td><strong>(EIF4EBP1, 4E-BP1_pT37-R-V)</strong></td>\n",
        "      <td> 0.819364</td>\n",
        "      <td> 0.128177</td>\n",
        "    </tr>\n",
        "    <tr>\n",
        "      <td><strong>(EIF4EBP1, 4E-BP1_pT70-R-C)</strong></td>\n",
        "      <td> 1.187155</td>\n",
        "      <td> 0.547039</td>\n",
        "    </tr>\n",
        "  </tbody>\n",
        "</table>\n",
        "</div>"
       ],
       "output_type": "pyout",
       "prompt_number": 133,
       "text": [
        "                              hazzard         p\n",
        "(YWHAE, 14-3-3_epsilon-M-C)  1.248781  0.465925\n",
        "(EIF4EBP1, 4E-BP1-R-V)       0.696916  0.068302\n",
        "(EIF4EBP1, 4E-BP1_pS65-R-V)  1.066758  0.835150\n",
        "(EIF4EBP1, 4E-BP1_pT37-R-V)  0.819364  0.128177\n",
        "(EIF4EBP1, 4E-BP1_pT70-R-C)  1.187155  0.547039"
       ]
      }
     ],
     "prompt_number": 133
    },
    {
     "cell_type": "code",
     "collapsed": false,
     "input": [
      "a,b = run_feature_matrix(rppa.ix[:5], test)"
     ],
     "language": "python",
     "metadata": {},
     "outputs": [],
     "prompt_number": 106
    },
    {
     "cell_type": "code",
     "collapsed": false,
     "input": [
      "a.index"
     ],
     "language": "python",
     "metadata": {},
     "outputs": [
      {
       "output_type": "pyout",
       "prompt_number": 112,
       "text": [
        "Index([(YWHAE, 14-3-3_epsilon-M-C), (EIF4EBP1, 4E-BP1-R-V), (EIF4EBP1, 4E-BP1_pT37-R-V)], dtype=object)"
       ]
      }
     ],
     "prompt_number": 112
    },
    {
     "cell_type": "code",
     "collapsed": false,
     "input": [
      "r = pd.concat([a,b], keys=['Full', 'Univariate'], axis=1)\n",
      "r"
     ],
     "language": "python",
     "metadata": {},
     "outputs": [
      {
       "html": [
        "<div style=\"max-height:1000px;max-width:1500px;overflow:auto;\">\n",
        "<table border=\"1\" class=\"dataframe\">\n",
        "  <thead>\n",
        "    <tr>\n",
        "      <th></th>\n",
        "      <th colspan=\"4\" halign=\"left\">Full</th>\n",
        "      <th colspan=\"2\" halign=\"left\">Univariate</th>\n",
        "    </tr>\n",
        "    <tr>\n",
        "      <th></th>\n",
        "      <th>LR</th>\n",
        "      <th>feature_p</th>\n",
        "      <th>fmla</th>\n",
        "      <th>hazzard</th>\n",
        "      <th>hazzard</th>\n",
        "      <th>p</th>\n",
        "    </tr>\n",
        "  </thead>\n",
        "  <tbody>\n",
        "    <tr>\n",
        "      <td><strong>(EIF4EBP1, 4E-BP1-R-V)</strong></td>\n",
        "      <td> 0.106569</td>\n",
        "      <td> 0.041720</td>\n",
        "      <td> Surv(days, event) ~ age + feature + combo + fe...</td>\n",
        "      <td> 0.390029</td>\n",
        "      <td> 0.696916</td>\n",
        "      <td> 0.068302</td>\n",
        "    </tr>\n",
        "    <tr>\n",
        "      <td><strong>(EIF4EBP1, 4E-BP1_pS65-R-V)</strong></td>\n",
        "      <td>      NaN</td>\n",
        "      <td>      NaN</td>\n",
        "      <td>                                               NaN</td>\n",
        "      <td>      NaN</td>\n",
        "      <td> 1.066758</td>\n",
        "      <td> 0.835150</td>\n",
        "    </tr>\n",
        "    <tr>\n",
        "      <td><strong>(EIF4EBP1, 4E-BP1_pT37-R-V)</strong></td>\n",
        "      <td> 0.048065</td>\n",
        "      <td> 0.021343</td>\n",
        "      <td> Surv(days, event) ~ age + feature + combo + ag...</td>\n",
        "      <td> 0.506491</td>\n",
        "      <td> 0.819364</td>\n",
        "      <td> 0.128177</td>\n",
        "    </tr>\n",
        "    <tr>\n",
        "      <td><strong>(EIF4EBP1, 4E-BP1_pT70-R-C)</strong></td>\n",
        "      <td>      NaN</td>\n",
        "      <td>      NaN</td>\n",
        "      <td>                                               NaN</td>\n",
        "      <td>      NaN</td>\n",
        "      <td> 1.187155</td>\n",
        "      <td> 0.547039</td>\n",
        "    </tr>\n",
        "    <tr>\n",
        "      <td><strong>(YWHAE, 14-3-3_epsilon-M-C)</strong></td>\n",
        "      <td> 1.000000</td>\n",
        "      <td>      NaN</td>\n",
        "      <td>                 Surv(days, event) ~ age + combo\\n</td>\n",
        "      <td>      NaN</td>\n",
        "      <td> 1.248781</td>\n",
        "      <td> 0.465925</td>\n",
        "    </tr>\n",
        "  </tbody>\n",
        "</table>\n",
        "</div>"
       ],
       "output_type": "pyout",
       "prompt_number": 107,
       "text": [
        "                                 Full             \\\n",
        "                                   LR  feature_p   \n",
        "(EIF4EBP1, 4E-BP1-R-V)       0.106569   0.041720   \n",
        "(EIF4EBP1, 4E-BP1_pS65-R-V)       NaN        NaN   \n",
        "(EIF4EBP1, 4E-BP1_pT37-R-V)  0.048065   0.021343   \n",
        "(EIF4EBP1, 4E-BP1_pT70-R-C)       NaN        NaN   \n",
        "(YWHAE, 14-3-3_epsilon-M-C)  1.000000        NaN   \n",
        "\n",
        "                                                                          Full  \\\n",
        "                                                                          fmla   \n",
        "(EIF4EBP1, 4E-BP1-R-V)       Surv(days, event) ~ age + feature + combo + fe...   \n",
        "(EIF4EBP1, 4E-BP1_pS65-R-V)                                                NaN   \n",
        "(EIF4EBP1, 4E-BP1_pT37-R-V)  Surv(days, event) ~ age + feature + combo + ag...   \n",
        "(EIF4EBP1, 4E-BP1_pT70-R-C)                                                NaN   \n",
        "(YWHAE, 14-3-3_epsilon-M-C)                  Surv(days, event) ~ age + combo\\n   \n",
        "\n",
        "                                 Full  Univariate            \n",
        "                              hazzard     hazzard         p  \n",
        "(EIF4EBP1, 4E-BP1-R-V)       0.390029    0.696916  0.068302  \n",
        "(EIF4EBP1, 4E-BP1_pS65-R-V)       NaN    1.066758  0.835150  \n",
        "(EIF4EBP1, 4E-BP1_pT37-R-V)  0.506491    0.819364  0.128177  \n",
        "(EIF4EBP1, 4E-BP1_pT70-R-C)       NaN    1.187155  0.547039  \n",
        "(YWHAE, 14-3-3_epsilon-M-C)       NaN    1.248781  0.465925  "
       ]
      }
     ],
     "prompt_number": 107
    },
    {
     "cell_type": "code",
     "collapsed": false,
     "input": [
      "v = rppa.ix['ESR1'].ix[2]"
     ],
     "language": "python",
     "metadata": {},
     "outputs": [],
     "prompt_number": 61
    },
    {
     "cell_type": "code",
     "collapsed": false,
     "input": [
      "import Processing.Tests as T\n",
      "reload(T)\n",
      "from Processing.Tests import get_cox_ph_ms"
     ],
     "language": "python",
     "metadata": {},
     "outputs": [],
     "prompt_number": 70
    },
    {
     "cell_type": "code",
     "collapsed": false,
     "input": [
      "s = test.first_pass(v)\n",
      "f = test.full_test(v)"
     ],
     "language": "python",
     "metadata": {},
     "outputs": [],
     "prompt_number": 63
    },
    {
     "cell_type": "code",
     "collapsed": false,
     "input": [
      "get_cox_ph_ms(surv, rppa.ix['ESR1'].ix[2], return_val='p_haz')"
     ],
     "language": "python",
     "metadata": {},
     "outputs": [
      {
       "output_type": "pyout",
       "prompt_number": 65,
       "text": [
        "hazzard    0.001143\n",
        "p          0.003019"
       ]
      }
     ],
     "prompt_number": 65
    },
    {
     "cell_type": "code",
     "collapsed": false,
     "input": [
      "pd.concat([s, f], keys=['Univariate', 'Full'])"
     ],
     "language": "python",
     "metadata": {},
     "outputs": [
      {
       "output_type": "pyout",
       "prompt_number": 66,
       "text": [
        "Univariate  hazzard                                      0.001143194\n",
        "            p                                            0.003019072\n",
        "Full        LR                                            0.01276373\n",
        "            feature_p                                     0.01018595\n",
        "            fmla         Surv(days, event) ~ age + feature + combo\\n\n",
        "            hazzard                                      0.002568621"
       ]
      }
     ],
     "prompt_number": 66
    },
    {
     "cell_type": "code",
     "collapsed": false,
     "input": [
      "rppa_e = run_feature_matrix(rppa, test)\n",
      "rppa_e = rppa_e.sort('LR')"
     ],
     "language": "python",
     "metadata": {},
     "outputs": [],
     "prompt_number": 14
    },
    {
     "cell_type": "code",
     "collapsed": false,
     "input": [
      "import Processing.Tests as T\n",
      "reload(T)\n",
      "from Processing.Tests import get_cox_ph_ms"
     ],
     "language": "python",
     "metadata": {},
     "outputs": [],
     "prompt_number": 15
    },
    {
     "cell_type": "code",
     "collapsed": false,
     "input": [
      "formula = 'Surv(days, event) ~ feature'\n",
      "cox_uni = lambda feature: get_cox_ph_ms(test.surv, feature, test.covariates, \n",
      "                                         return_val='p_haz', formula=formula)"
     ],
     "language": "python",
     "metadata": {},
     "outputs": [],
     "prompt_number": 16
    },
    {
     "cell_type": "code",
     "collapsed": false,
     "input": [
      "fp = DataFrame({f: cox_uni(vec) for f,vec in rppa.iterrows() if test.check_feature(vec)}).T"
     ],
     "language": "python",
     "metadata": {},
     "outputs": [],
     "prompt_number": 17
    },
    {
     "cell_type": "code",
     "collapsed": false,
     "input": [
      "from Processing.Helpers import *\n",
      "\n",
      "def add_column_level(tab, arr, name):\n",
      "    tab = tab.T\n",
      "    tab[name] = arr\n",
      "    tab = tab.set_index(name, append=True)\n",
      "    tab.index = tab.index.swaplevel(0,1)\n",
      "    return tab.T"
     ],
     "language": "python",
     "metadata": {},
     "outputs": [],
     "prompt_number": 18
    },
    {
     "cell_type": "code",
     "collapsed": false,
     "input": [
      "q_LR = Series(bhCorrection(rppa_e.LR, n=len(rppa)), name='q')"
     ],
     "language": "python",
     "metadata": {},
     "outputs": [],
     "prompt_number": 19
    },
    {
     "cell_type": "code",
     "collapsed": false,
     "input": [
      "tab = rppa_e[['LR']].rename(columns={'LR':'LR_p'}).join(fp, lsuffix='_').head(20)\n",
      "tab = add_column_level(tab, ['Full','Univariate','Univariate'], 'Model')\n",
      "\n",
      "tab = tab.join(Series(bhCorrection(rppa_e.LR, n=len(rppa)), name=('Full','LR_q')))\n",
      "tab = tab.join(Series(bhCorrection(fp.p, n=len(rppa)), name=('Univariate','q')))"
     ],
     "language": "python",
     "metadata": {},
     "outputs": [],
     "prompt_number": 20
    },
    {
     "cell_type": "code",
     "collapsed": false,
     "input": [
      "pd.set_option('display.precision', 3)"
     ],
     "language": "python",
     "metadata": {},
     "outputs": [],
     "prompt_number": 21
    },
    {
     "cell_type": "code",
     "collapsed": false,
     "input": [
      "tab = tab.sort_index(axis=1)\n",
      "tab.index.name = 'protein'\n",
      "t = tab[tab['Full']['LR_q'] < .1].astype(object)"
     ],
     "language": "python",
     "metadata": {},
     "outputs": [],
     "prompt_number": 23
    },
    {
     "cell_type": "code",
     "collapsed": false,
     "input": [
      "def to_quants(vec):\n",
      "    vec = (vec - vec.mean()) / feature.std()\n",
      "    vec = ((vec > vec.quantile(.75)).astype(int) - \n",
      "           (vec < vec.quantile(.25)).astype(int)).astype(float)\n",
      "    return vec"
     ],
     "language": "python",
     "metadata": {},
     "outputs": [],
     "prompt_number": 1
    },
    {
     "cell_type": "code",
     "collapsed": false,
     "input": [
      "draw_survival_curves(feature, surv, colors=['blue','orange','red'], \n",
      "                           labels=['Bottom 25%', 'Normal', 'Top 25%'], title=feature.name)\n",
      "Image(filename='tmp.png')"
     ],
     "language": "python",
     "metadata": {},
     "outputs": [
      {
       "output_type": "pyout",
       "png": "[encoded data removed]",
       "prompt_number": 60,
       "text": [
        "<IPython.core.display.Image at 0x7578d50>"
       ]
      }
     ],
     "prompt_number": 60
    },
    {
     "cell_type": "code",
     "collapsed": false,
     "input": [
      "feature = to_quants(rppa.ix[rppa_e.index[9]])\n",
      "feature.name = str(feature.name)\n",
      "draw_survival_curves_split(feature, combo==1, surv, colors=['blue','orange','red'], \n",
      "                           labels=['Bottom 25%', 'Normal', 'Top 25%'])\n",
      "Image(filename='tmp.png')"
     ],
     "language": "python",
     "metadata": {},
     "outputs": [
      {
       "output_type": "pyout",
       "png": "[encoded data removed]",
       "prompt_number": 70,
       "text": [
        "<IPython.core.display.Image at 0x64e7f90>"
       ]
      }
     ],
     "prompt_number": 70
    },
    {
     "cell_type": "code",
     "collapsed": false,
     "input": [
      "kjl"
     ],
     "language": "python",
     "metadata": {},
     "outputs": [],
     "prompt_number": 496
    },
    {
     "cell_type": "code",
     "collapsed": false,
     "input": [
      "def run_feature_matrix(df, test, fp_cutoff=.5):\n",
      "    df = df.ix[df.apply(test.check_feature, 1)]\n",
      "    if hasattr(test, 'first_pass'):\n",
      "        fp = DataFrame({f: test.first_pass(vec) for f,vec in df.iterrows()}).T\n",
      "        df = df.ix[fp.p < fp_cutoff]\n",
      "    results = DataFrame({f: test.full_test(vec) for f,vec in df.iterrows()})\n",
      "    return results.T.join(fp, lsuffix='full_')"
     ],
     "language": "python",
     "metadata": {},
     "outputs": [],
     "prompt_number": 525
    },
    {
     "cell_type": "code",
     "collapsed": false,
     "input": [
      "survival_test = 'event_free_survival_5y'\n",
      "covariates = ['age', 'rate_non','combo']\n",
      "combo = (cna.df.ix[('Deletion', '3p14.2', 'Lesion')] < 0) * (mut.df.ix['TP53'] > 0)\n",
      "combo.name = 'combo'\n",
      "cov_df = global_vars.join(clinical.clinical, how='outer').join(combo)\n",
      "cov_df = cov_df[covariates]\n",
      "surv = clinical.survival[survival_test]\n",
      "test = SurvivalTest(surv, cov_df)\n",
      "test.name = survival_test\n",
      "test.first_pass = univariate"
     ],
     "language": "python",
     "metadata": {},
     "outputs": [],
     "prompt_number": 526
    },
    {
     "cell_type": "code",
     "collapsed": false,
     "input": [
      "mut = cancer.load_data('MAF')\n",
      "mut.uncompress()"
     ],
     "language": "python",
     "metadata": {},
     "outputs": [],
     "prompt_number": 527
    },
    {
     "cell_type": "code",
     "collapsed": false,
     "input": [
      "is_pathway = lambda s: 'pathway' if s in run.gene_sets else 'gene'\n",
      "mut.features.index = pd.MultiIndex.from_tuples([(is_pathway(i), i) for i in mut.features.index])\n",
      "counts = Series(mut.features.sum(1), name='count')\n",
      "mut.features = mut.features[counts >= 20]"
     ],
     "language": "python",
     "metadata": {},
     "outputs": [],
     "prompt_number": 528
    },
    {
     "cell_type": "code",
     "collapsed": false,
     "input": [
      "tab = mut_e.ix['pathway'][['LR','hazzard','p']].rename(columns={'LR':'LR_p'}).head(20)\n",
      "tab = add_column_level(tab, ['Full','Univariate','Univariate'], 'Model')\n",
      "\n",
      "tab = tab.join(Series(bhCorrection(mut_e.ix['pathway'].LR, n=len(mut.features.ix['pathway'])), name=('Full','LR_q')))\n",
      "tab = tab.join(Series(bhCorrection(mut_e.ix['pathway'].p, n=len(mut.features.ix['pathway'])), name=('Univariate','q')))"
     ],
     "language": "python",
     "metadata": {},
     "outputs": [],
     "prompt_number": 571
    },
    {
     "cell_type": "code",
     "collapsed": false,
     "input": [
      "tab = tab.sort_index(axis=1)\n",
      "tab[tab['Full']['LR_q'] < .35].astype(object)"
     ],
     "language": "python",
     "metadata": {},
     "outputs": [
      {
       "html": [
        "<div style=\"max-height:1000px;max-width:1500px;overflow:auto;\">\n",
        "<table border=\"1\" class=\"dataframe\">\n",
        "  <thead>\n",
        "    <tr>\n",
        "      <th>Model</th>\n",
        "      <th colspan=\"2\" halign=\"left\">Full</th>\n",
        "      <th colspan=\"3\" halign=\"left\">Univariate</th>\n",
        "    </tr>\n",
        "    <tr>\n",
        "      <th></th>\n",
        "      <th>LR_p</th>\n",
        "      <th>LR_q</th>\n",
        "      <th>hazzard</th>\n",
        "      <th>p</th>\n",
        "      <th>q</th>\n",
        "    </tr>\n",
        "  </thead>\n",
        "  <tbody>\n",
        "    <tr>\n",
        "      <td><strong>BIOCARTA_WNT_PATHWAY</strong></td>\n",
        "      <td>   0.0002</td>\n",
        "      <td> 0.125</td>\n",
        "      <td>  1.72</td>\n",
        "      <td> 0.00885</td>\n",
        "      <td> 0.637</td>\n",
        "    </tr>\n",
        "    <tr>\n",
        "      <td><strong>BIOCARTA_IL1R_PATHWAY</strong></td>\n",
        "      <td> 0.000449</td>\n",
        "      <td>  0.14</td>\n",
        "      <td> 0.416</td>\n",
        "      <td> 0.00574</td>\n",
        "      <td> 0.637</td>\n",
        "    </tr>\n",
        "    <tr>\n",
        "      <td><strong>REACTOME_CHAPERONIN_MEDIATED_PROTEIN_FOLDING</strong></td>\n",
        "      <td>  0.00152</td>\n",
        "      <td> 0.316</td>\n",
        "      <td> 0.604</td>\n",
        "      <td>  0.0492</td>\n",
        "      <td> 0.695</td>\n",
        "    </tr>\n",
        "    <tr>\n",
        "      <td><strong>BIOCARTA_TOLL_PATHWAY</strong></td>\n",
        "      <td>  0.00237</td>\n",
        "      <td> 0.322</td>\n",
        "      <td> 0.672</td>\n",
        "      <td>    0.13</td>\n",
        "      <td> 0.819</td>\n",
        "    </tr>\n",
        "    <tr>\n",
        "      <td><strong>REACTOME_RNA_POLYMERASE_III_TRANSCRIPTION_INITIATION_FROM_TYPE_3_PROMOTER</strong></td>\n",
        "      <td>  0.00258</td>\n",
        "      <td> 0.322</td>\n",
        "      <td> 0.473</td>\n",
        "      <td>   0.055</td>\n",
        "      <td> 0.695</td>\n",
        "    </tr>\n",
        "    <tr>\n",
        "      <td><strong>BIOCARTA_NDKDYNAMIN_PATHWAY</strong></td>\n",
        "      <td>  0.00341</td>\n",
        "      <td> 0.347</td>\n",
        "      <td> 0.549</td>\n",
        "      <td>   0.102</td>\n",
        "      <td> 0.754</td>\n",
        "    </tr>\n",
        "    <tr>\n",
        "      <td><strong>REACTOME_MITOTIC_PROMETAPHASE</strong></td>\n",
        "      <td>   0.0039</td>\n",
        "      <td> 0.347</td>\n",
        "      <td>   1.4</td>\n",
        "      <td>  0.0718</td>\n",
        "      <td>  0.74</td>\n",
        "    </tr>\n",
        "    <tr>\n",
        "      <td><strong>REACTOME_METABOLISM_OF_LIPIDS_AND_LIPOPROTEINS</strong></td>\n",
        "      <td>  0.00594</td>\n",
        "      <td> 0.347</td>\n",
        "      <td>  1.96</td>\n",
        "      <td> 0.00452</td>\n",
        "      <td> 0.637</td>\n",
        "    </tr>\n",
        "    <tr>\n",
        "      <td><strong>REACTOME_DEADENYLATION_OF_MRNA</strong></td>\n",
        "      <td>  0.00615</td>\n",
        "      <td> 0.347</td>\n",
        "      <td> 0.598</td>\n",
        "      <td>  0.0705</td>\n",
        "      <td>  0.74</td>\n",
        "    </tr>\n",
        "    <tr>\n",
        "      <td><strong>SIG_REGULATION_OF_THE_ACTIN_CYTOSKELETON_BY_RHO_GTPASES</strong></td>\n",
        "      <td>  0.00659</td>\n",
        "      <td> 0.347</td>\n",
        "      <td> 0.655</td>\n",
        "      <td>   0.057</td>\n",
        "      <td> 0.695</td>\n",
        "    </tr>\n",
        "    <tr>\n",
        "      <td><strong>REACTOME_NUCLEAR_EVENTS_KINASE_AND_TRANSCRIPTION_FACTOR_ACTIVATION</strong></td>\n",
        "      <td>  0.00659</td>\n",
        "      <td> 0.347</td>\n",
        "      <td> 0.799</td>\n",
        "      <td>   0.431</td>\n",
        "      <td>  0.95</td>\n",
        "    </tr>\n",
        "    <tr>\n",
        "      <td><strong>KEGG_CITRATE_CYCLE_TCA_CYCLE</strong></td>\n",
        "      <td>  0.00668</td>\n",
        "      <td> 0.347</td>\n",
        "      <td> 0.547</td>\n",
        "      <td>   0.029</td>\n",
        "      <td> 0.695</td>\n",
        "    </tr>\n",
        "  </tbody>\n",
        "</table>\n",
        "</div>"
       ],
       "output_type": "pyout",
       "prompt_number": 575,
       "text": [
        "Model                                                                          Full  \\\n",
        "                                                                               LR_p   \n",
        "BIOCARTA_WNT_PATHWAY                                                         0.0002   \n",
        "BIOCARTA_IL1R_PATHWAY                                                      0.000449   \n",
        "REACTOME_CHAPERONIN_MEDIATED_PROTEIN_FOLDING                                0.00152   \n",
        "BIOCARTA_TOLL_PATHWAY                                                       0.00237   \n",
        "REACTOME_RNA_POLYMERASE_III_TRANSCRIPTION_INITIATION_FROM_TYPE_3_PROMOTER   0.00258   \n",
        "BIOCARTA_NDKDYNAMIN_PATHWAY                                                 0.00341   \n",
        "REACTOME_MITOTIC_PROMETAPHASE                                                0.0039   \n",
        "REACTOME_METABOLISM_OF_LIPIDS_AND_LIPOPROTEINS                              0.00594   \n",
        "REACTOME_DEADENYLATION_OF_MRNA                                              0.00615   \n",
        "SIG_REGULATION_OF_THE_ACTIN_CYTOSKELETON_BY_RHO_GTPASES                     0.00659   \n",
        "REACTOME_NUCLEAR_EVENTS_KINASE_AND_TRANSCRIPTION_FACTOR_ACTIVATION          0.00659   \n",
        "KEGG_CITRATE_CYCLE_TCA_CYCLE                                                0.00668   \n",
        "\n",
        "Model                                                                             \\\n",
        "                                                                            LR_q   \n",
        "BIOCARTA_WNT_PATHWAY                                                       0.125   \n",
        "BIOCARTA_IL1R_PATHWAY                                                       0.14   \n",
        "REACTOME_CHAPERONIN_MEDIATED_PROTEIN_FOLDING                               0.316   \n",
        "BIOCARTA_TOLL_PATHWAY                                                      0.322   \n",
        "REACTOME_RNA_POLYMERASE_III_TRANSCRIPTION_INITIATION_FROM_TYPE_3_PROMOTER  0.322   \n",
        "BIOCARTA_NDKDYNAMIN_PATHWAY                                                0.347   \n",
        "REACTOME_MITOTIC_PROMETAPHASE                                              0.347   \n",
        "REACTOME_METABOLISM_OF_LIPIDS_AND_LIPOPROTEINS                             0.347   \n",
        "REACTOME_DEADENYLATION_OF_MRNA                                             0.347   \n",
        "SIG_REGULATION_OF_THE_ACTIN_CYTOSKELETON_BY_RHO_GTPASES                    0.347   \n",
        "REACTOME_NUCLEAR_EVENTS_KINASE_AND_TRANSCRIPTION_FACTOR_ACTIVATION         0.347   \n",
        "KEGG_CITRATE_CYCLE_TCA_CYCLE                                               0.347   \n",
        "\n",
        "Model                                                                     Univariate  \\\n",
        "                                                                             hazzard   \n",
        "BIOCARTA_WNT_PATHWAY                                                            1.72   \n",
        "BIOCARTA_IL1R_PATHWAY                                                          0.416   \n",
        "REACTOME_CHAPERONIN_MEDIATED_PROTEIN_FOLDING                                   0.604   \n",
        "BIOCARTA_TOLL_PATHWAY                                                          0.672   \n",
        "REACTOME_RNA_POLYMERASE_III_TRANSCRIPTION_INITIATION_FROM_TYPE_3_PROMOTER      0.473   \n",
        "BIOCARTA_NDKDYNAMIN_PATHWAY                                                    0.549   \n",
        "REACTOME_MITOTIC_PROMETAPHASE                                                    1.4   \n",
        "REACTOME_METABOLISM_OF_LIPIDS_AND_LIPOPROTEINS                                  1.96   \n",
        "REACTOME_DEADENYLATION_OF_MRNA                                                 0.598   \n",
        "SIG_REGULATION_OF_THE_ACTIN_CYTOSKELETON_BY_RHO_GTPASES                        0.655   \n",
        "REACTOME_NUCLEAR_EVENTS_KINASE_AND_TRANSCRIPTION_FACTOR_ACTIVATION             0.799   \n",
        "KEGG_CITRATE_CYCLE_TCA_CYCLE                                                   0.547   \n",
        "\n",
        "Model                                                                               \\\n",
        "                                                                                 p   \n",
        "BIOCARTA_WNT_PATHWAY                                                       0.00885   \n",
        "BIOCARTA_IL1R_PATHWAY                                                      0.00574   \n",
        "REACTOME_CHAPERONIN_MEDIATED_PROTEIN_FOLDING                                0.0492   \n",
        "BIOCARTA_TOLL_PATHWAY                                                         0.13   \n",
        "REACTOME_RNA_POLYMERASE_III_TRANSCRIPTION_INITIATION_FROM_TYPE_3_PROMOTER    0.055   \n",
        "BIOCARTA_NDKDYNAMIN_PATHWAY                                                  0.102   \n",
        "REACTOME_MITOTIC_PROMETAPHASE                                               0.0718   \n",
        "REACTOME_METABOLISM_OF_LIPIDS_AND_LIPOPROTEINS                             0.00452   \n",
        "REACTOME_DEADENYLATION_OF_MRNA                                              0.0705   \n",
        "SIG_REGULATION_OF_THE_ACTIN_CYTOSKELETON_BY_RHO_GTPASES                      0.057   \n",
        "REACTOME_NUCLEAR_EVENTS_KINASE_AND_TRANSCRIPTION_FACTOR_ACTIVATION           0.431   \n",
        "KEGG_CITRATE_CYCLE_TCA_CYCLE                                                 0.029   \n",
        "\n",
        "Model                                                                             \n",
        "                                                                               q  \n",
        "BIOCARTA_WNT_PATHWAY                                                       0.637  \n",
        "BIOCARTA_IL1R_PATHWAY                                                      0.637  \n",
        "REACTOME_CHAPERONIN_MEDIATED_PROTEIN_FOLDING                               0.695  \n",
        "BIOCARTA_TOLL_PATHWAY                                                      0.819  \n",
        "REACTOME_RNA_POLYMERASE_III_TRANSCRIPTION_INITIATION_FROM_TYPE_3_PROMOTER  0.695  \n",
        "BIOCARTA_NDKDYNAMIN_PATHWAY                                                0.754  \n",
        "REACTOME_MITOTIC_PROMETAPHASE                                               0.74  \n",
        "REACTOME_METABOLISM_OF_LIPIDS_AND_LIPOPROTEINS                             0.637  \n",
        "REACTOME_DEADENYLATION_OF_MRNA                                              0.74  \n",
        "SIG_REGULATION_OF_THE_ACTIN_CYTOSKELETON_BY_RHO_GTPASES                    0.695  \n",
        "REACTOME_NUCLEAR_EVENTS_KINASE_AND_TRANSCRIPTION_FACTOR_ACTIVATION          0.95  \n",
        "KEGG_CITRATE_CYCLE_TCA_CYCLE                                               0.695  "
       ]
      }
     ],
     "prompt_number": 575
    },
    {
     "cell_type": "code",
     "collapsed": false,
     "input": [
      "combo.name = 'p53/3p'"
     ],
     "language": "python",
     "metadata": {},
     "outputs": [],
     "prompt_number": 559
    },
    {
     "cell_type": "code",
     "collapsed": false,
     "input": [
      "crosstab(combo, feature)"
     ],
     "language": "python",
     "metadata": {},
     "outputs": [
      {
       "html": [
        "<div style=\"max-height:1000px;max-width:1500px;overflow:auto;\">\n",
        "<table border=\"1\" class=\"dataframe\">\n",
        "  <thead>\n",
        "    <tr style=\"text-align: right;\">\n",
        "      <th>feature</th>\n",
        "      <th>0.0</th>\n",
        "      <th>1.0</th>\n",
        "    </tr>\n",
        "    <tr>\n",
        "      <th>p53/3p</th>\n",
        "      <th></th>\n",
        "      <th></th>\n",
        "    </tr>\n",
        "  </thead>\n",
        "  <tbody>\n",
        "    <tr>\n",
        "      <td><strong>0</strong></td>\n",
        "      <td> 97</td>\n",
        "      <td>  24</td>\n",
        "    </tr>\n",
        "    <tr>\n",
        "      <td><strong>1</strong></td>\n",
        "      <td>  0</td>\n",
        "      <td> 181</td>\n",
        "    </tr>\n",
        "  </tbody>\n",
        "</table>\n",
        "</div>"
       ],
       "output_type": "pyout",
       "prompt_number": 568,
       "text": [
        "feature   0    1\n",
        "p53/3p          \n",
        "0        97   24\n",
        "1         0  181"
       ]
      }
     ],
     "prompt_number": 568
    },
    {
     "cell_type": "code",
     "collapsed": false,
     "input": [
      "crosstab(feature, mut.features.ix['pathway'].ix['REACTOME_CHAPERONIN_MEDIATED_PROTEIN_FOLDING'])"
     ],
     "language": "python",
     "metadata": {},
     "outputs": [
      {
       "html": [
        "<div style=\"max-height:1000px;max-width:1500px;overflow:auto;\">\n",
        "<table border=\"1\" class=\"dataframe\">\n",
        "  <thead>\n",
        "    <tr style=\"text-align: right;\">\n",
        "      <th>REACTOME_CHAPERONIN_MEDIATED_PROTEIN_FOLDING</th>\n",
        "      <th>0.0</th>\n",
        "      <th>1.0</th>\n",
        "    </tr>\n",
        "    <tr>\n",
        "      <th>POL III Transcription Initiation</th>\n",
        "      <th></th>\n",
        "      <th></th>\n",
        "    </tr>\n",
        "  </thead>\n",
        "  <tbody>\n",
        "    <tr>\n",
        "      <td><strong>0</strong></td>\n",
        "      <td> 216</td>\n",
        "      <td> 59</td>\n",
        "    </tr>\n",
        "    <tr>\n",
        "      <td><strong>1</strong></td>\n",
        "      <td>  19</td>\n",
        "      <td> 12</td>\n",
        "    </tr>\n",
        "  </tbody>\n",
        "</table>\n",
        "</div>"
       ],
       "output_type": "pyout",
       "prompt_number": 588,
       "text": [
        "REACTOME_CHAPERONIN_MEDIATED_PROTEIN_FOLDING    0   1\n",
        "POL III Transcription Initiation                     \n",
        "0                                             216  59\n",
        "1                                              19  12"
       ]
      }
     ],
     "prompt_number": 588
    },
    {
     "cell_type": "code",
     "collapsed": false,
     "input": [
      "feature = mut.features.ix['pathway'].ix['BIOCARTA_NDKDYNAMIN_PATHWAY'] \n",
      "feature.name = 'Chaperonin Mediated Folding'\n",
      "draw_survival_curves_split(feature, combo==1, surv, ann='p')\n",
      "Image(filename='tmp.png')"
     ],
     "language": "python",
     "metadata": {},
     "outputs": [
      {
       "output_type": "pyout",
       "png": "[encoded data removed]",
       "prompt_number": 592,
       "text": [
        "<IPython.core.display.Image at 0x10827ad0>"
       ]
      }
     ],
     "prompt_number": 592
    },
    {
     "cell_type": "code",
     "collapsed": false,
     "input": [
      "global_vars"
     ],
     "language": "python",
     "metadata": {},
     "outputs": [
      {
       "output_type": "pyout",
       "prompt_number": 237,
       "text": [
        "<class 'pandas.core.frame.DataFrame'>\n",
        "Index: 310 entries, TCGA-BA-4074 to TCGA-IQ-7632\n",
        "Data columns:\n",
        "chrom_instability    306  non-null values\n",
        "gene_amp             306  non-null values\n",
        "gene_amp_high        306  non-null values\n",
        "gene_del             306  non-null values\n",
        "gene_del_homo        306  non-null values\n",
        "lesion_amp           306  non-null values\n",
        "lesion_amp_high      306  non-null values\n",
        "lesion_del           306  non-null values\n",
        "lesion_del_homo      306  non-null values\n",
        "rate_dbsnp           306  non-null values\n",
        "rate_sil             306  non-null values\n",
        "rate_non             306  non-null values\n",
        "*CpG->T              306  non-null values\n",
        "*Cp(A_C_T)->T        306  non-null values\n",
        "C->(G_A)             306  non-null values\n",
        "A->mut               306  non-null values\n",
        "indel+null           306  non-null values\n",
        "double_null          306  non-null values\n",
        "dtypes: float64(18)"
       ]
      }
     ],
     "prompt_number": 237
    },
    {
     "cell_type": "code",
     "collapsed": false,
     "input": [
      "violin_plot_pandas(feature, global_vars.chrom_instability);"
     ],
     "language": "python",
     "metadata": {},
     "outputs": [
      {
       "output_type": "display_data",
       "png": "[encoded data removed]"
      }
     ],
     "prompt_number": 242
    },
    {
     "cell_type": "code",
     "collapsed": false,
     "input": [
      "crosstab(mut.features.ix['BIOCARTA_WNT_PATHWAY'].map({0:'wt',1:'mut'}), mut.features.ix['REACTOME_MITOTIC_PROMETAPHASE'].map({0:'wt',1:'mut'})).plot(kind='bar')"
     ],
     "language": "python",
     "metadata": {},
     "outputs": [
      {
       "output_type": "pyout",
       "prompt_number": 233,
       "text": [
        "<matplotlib.axes.AxesSubplot at 0x755bf10>"
       ]
      },
      {
       "output_type": "display_data",
       "png": "[encoded data removed]"
      }
     ],
     "prompt_number": 233
    },
    {
     "cell_type": "code",
     "collapsed": false,
     "input": [
      "pathway_plot(mut.df.ix[run.gene_sets['REACTOME_MITOTIC_PROMETAPHASE']])"
     ],
     "language": "python",
     "metadata": {},
     "outputs": [
      {
       "output_type": "display_data",
       "png": "[encoded data removed]"
      }
     ],
     "prompt_number": 184
    },
    {
     "cell_type": "code",
     "collapsed": false,
     "input": [
      "rna = cancer.load_data('mRNASeq')"
     ],
     "language": "python",
     "metadata": {},
     "outputs": [],
     "prompt_number": 91
    },
    {
     "cell_type": "code",
     "collapsed": false,
     "input": [
      "survival_test = 'event_free_survival_5y'\n",
      "covariates = ['age', 'combo']\n",
      "combo = combo.map({0: 'wt', 1: 'p53/3p'})\n",
      "combo.name = 'combo'\n",
      "cov_df = global_vars.join(clinical.clinical, how='outer').join(combo)\n",
      "cov_df = cov_df[covariates]\n",
      "surv = clinical.survival[survival_test]\n",
      "test = SurvivalTest(surv, cov_df)\n",
      "test.name = survival_test"
     ],
     "language": "python",
     "metadata": {},
     "outputs": [],
     "prompt_number": 116
    },
    {
     "cell_type": "code",
     "collapsed": false,
     "input": [
      "rna_e = run_feature_matrix(rna.features, test)\n",
      "rna_e = rna_e.sort('LR')"
     ],
     "language": "python",
     "metadata": {},
     "outputs": [
      {
       "ename": "SyntaxError",
       "evalue": "invalid syntax (<ipython-input-214-0067b723804a>, line 1)",
       "output_type": "pyerr",
       "traceback": [
        "\u001b[1;36m  File \u001b[1;32m\"<ipython-input-214-0067b723804a>\"\u001b[1;36m, line \u001b[1;32m1\u001b[0m\n\u001b[1;33m    rna_e = run_feature_matrix??(rna.features, test)\u001b[0m\n\u001b[1;37m                              ^\u001b[0m\n\u001b[1;31mSyntaxError\u001b[0m\u001b[1;31m:\u001b[0m invalid syntax\n"
       ]
      }
     ],
     "prompt_number": 214
    },
    {
     "cell_type": "code",
     "collapsed": false,
     "input": [
      "rna_e.head(20)"
     ],
     "language": "python",
     "metadata": {},
     "outputs": [
      {
       "html": [
        "<div style=\"max-height:1000px;max-width:1500px;overflow:auto;\">\n",
        "<table border=\"1\" class=\"dataframe\">\n",
        "  <thead>\n",
        "    <tr style=\"text-align: right;\">\n",
        "      <th></th>\n",
        "      <th>LR</th>\n",
        "      <th>feature_p</th>\n",
        "      <th>fmla</th>\n",
        "      <th>hazzard</th>\n",
        "      <th>first_pass</th>\n",
        "    </tr>\n",
        "  </thead>\n",
        "  <tbody>\n",
        "    <tr>\n",
        "      <td><strong>REACTOME_COPI_MEDIATED_TRANSPORT</strong></td>\n",
        "      <td> 0.002775264</td>\n",
        "      <td>   0.6785251</td>\n",
        "      <td> Surv(days, event) ~ age + feature + combo + ag...</td>\n",
        "      <td>   2.107588</td>\n",
        "      <td> 0.285798</td>\n",
        "    </tr>\n",
        "    <tr>\n",
        "      <td><strong>BIOCARTA_FIBRINOLYSIS_PATHWAY</strong></td>\n",
        "      <td> 0.002885858</td>\n",
        "      <td>   0.1137119</td>\n",
        "      <td> Surv(days, event) ~ age + feature + combo + ag...</td>\n",
        "      <td>    7.96234</td>\n",
        "      <td> 0.001054</td>\n",
        "    </tr>\n",
        "    <tr>\n",
        "      <td><strong>REACTOME_COMMON_PATHWAY</strong></td>\n",
        "      <td>  0.00340983</td>\n",
        "      <td>   0.2221931</td>\n",
        "      <td> Surv(days, event) ~ age + feature + combo + ag...</td>\n",
        "      <td>   5.616401</td>\n",
        "      <td> 0.006650</td>\n",
        "    </tr>\n",
        "    <tr>\n",
        "      <td><strong>BIOCARTA_EXTRINSIC_PATHWAY</strong></td>\n",
        "      <td> 0.003660216</td>\n",
        "      <td>  0.09321205</td>\n",
        "      <td> Surv(days, event) ~ age + feature + combo + ag...</td>\n",
        "      <td>   9.370668</td>\n",
        "      <td> 0.002794</td>\n",
        "    </tr>\n",
        "    <tr>\n",
        "      <td><strong>REACTOME_PHOSPHORYLATION_OF_THE_APC</strong></td>\n",
        "      <td> 0.004764721</td>\n",
        "      <td> 0.005000075</td>\n",
        "      <td> Surv(days, event) ~ age + feature + combo + ag...</td>\n",
        "      <td>   44.44074</td>\n",
        "      <td> 0.012279</td>\n",
        "    </tr>\n",
        "    <tr>\n",
        "      <td><strong>REACTOME_INACTIVATION_OF_APC_VIA_DIRECT_INHIBITION_OF_THE_APCOMPLEX</strong></td>\n",
        "      <td> 0.005166163</td>\n",
        "      <td> 0.003229918</td>\n",
        "      <td> Surv(days, event) ~ age + feature + combo + ag...</td>\n",
        "      <td>   62.82238</td>\n",
        "      <td> 0.005850</td>\n",
        "    </tr>\n",
        "    <tr>\n",
        "      <td><strong>REACTOME_MITOTIC_PROMETAPHASE</strong></td>\n",
        "      <td> 0.005497143</td>\n",
        "      <td> 0.003045916</td>\n",
        "      <td> Surv(days, event) ~ age + feature + combo + ag...</td>\n",
        "      <td>   94.32476</td>\n",
        "      <td> 0.032582</td>\n",
        "    </tr>\n",
        "    <tr>\n",
        "      <td><strong>BIOCARTA_DNAFRAGMENT_PATHWAY</strong></td>\n",
        "      <td> 0.005585354</td>\n",
        "      <td> 0.003774125</td>\n",
        "      <td> Surv(days, event) ~ age + feature + combo + ag...</td>\n",
        "      <td>    91.6171</td>\n",
        "      <td> 0.152954</td>\n",
        "    </tr>\n",
        "    <tr>\n",
        "      <td><strong>REACTOME_CYCLIN_A1_ASSOCIATED_EVENTS_DURING_G2_M_TRANSITION</strong></td>\n",
        "      <td> 0.007030041</td>\n",
        "      <td> 0.003755885</td>\n",
        "      <td> Surv(days, event) ~ age + feature + combo + ag...</td>\n",
        "      <td>   62.18558</td>\n",
        "      <td> 0.047428</td>\n",
        "    </tr>\n",
        "    <tr>\n",
        "      <td><strong>REACTOME_RECRUITMENT_OF_NUMA_TO_MITOTIC_CENTROSOMES</strong></td>\n",
        "      <td> 0.007966643</td>\n",
        "      <td>  0.01358485</td>\n",
        "      <td> Surv(days, event) ~ age + feature + combo + ag...</td>\n",
        "      <td>   41.46768</td>\n",
        "      <td> 0.149953</td>\n",
        "    </tr>\n",
        "    <tr>\n",
        "      <td><strong>REACTOME_APOPTOTIC_CLEAVAGE_OF_CELL_ADHESION_PROTEINS</strong></td>\n",
        "      <td> 0.009020494</td>\n",
        "      <td>  0.01034597</td>\n",
        "      <td> Surv(days, event) ~ age + feature + combo + ag...</td>\n",
        "      <td> 0.01272585</td>\n",
        "      <td> 0.001028</td>\n",
        "    </tr>\n",
        "    <tr>\n",
        "      <td><strong>REACTOME_CYTOSOLIC_TRNA_AMINOACYLATION</strong></td>\n",
        "      <td> 0.009552534</td>\n",
        "      <td> 0.007181313</td>\n",
        "      <td> Surv(days, event) ~ age + feature + combo + ag...</td>\n",
        "      <td>   59.58742</td>\n",
        "      <td> 0.004869</td>\n",
        "    </tr>\n",
        "    <tr>\n",
        "      <td><strong>REACTOME_MITOTIC_M_M_G1_PHASES</strong></td>\n",
        "      <td>  0.01249371</td>\n",
        "      <td> 0.006027691</td>\n",
        "      <td> Surv(days, event) ~ age + feature + combo + ag...</td>\n",
        "      <td>   53.06273</td>\n",
        "      <td> 0.020576</td>\n",
        "    </tr>\n",
        "    <tr>\n",
        "      <td><strong>REACTOME_APCDC20_MEDIATED_DEGRADATION_OF_CYCLIN_B</strong></td>\n",
        "      <td>   0.0139515</td>\n",
        "      <td>  0.01327039</td>\n",
        "      <td> Surv(days, event) ~ age + feature + combo + ag...</td>\n",
        "      <td>   27.41272</td>\n",
        "      <td> 0.021124</td>\n",
        "    </tr>\n",
        "    <tr>\n",
        "      <td><strong>REACTOME_GLOBAL_GENOMIC_NER</strong></td>\n",
        "      <td>  0.01481965</td>\n",
        "      <td>  0.04559131</td>\n",
        "      <td> Surv(days, event) ~ age + feature + combo + ag...</td>\n",
        "      <td>   24.05352</td>\n",
        "      <td> 0.469072</td>\n",
        "    </tr>\n",
        "    <tr>\n",
        "      <td><strong>BIOCARTA_SRCRPTP_PATHWAY</strong></td>\n",
        "      <td>  0.01573347</td>\n",
        "      <td>  0.01879401</td>\n",
        "      <td> Surv(days, event) ~ age + feature + combo + ag...</td>\n",
        "      <td>   27.59379</td>\n",
        "      <td> 0.307798</td>\n",
        "    </tr>\n",
        "    <tr>\n",
        "      <td><strong>BIOCARTA_RB_PATHWAY</strong></td>\n",
        "      <td>  0.01899669</td>\n",
        "      <td>   0.0157338</td>\n",
        "      <td> Surv(days, event) ~ age + feature + combo + ag...</td>\n",
        "      <td>   45.28339</td>\n",
        "      <td> 0.307801</td>\n",
        "    </tr>\n",
        "    <tr>\n",
        "      <td><strong>BIOCARTA_G2_PATHWAY</strong></td>\n",
        "      <td>  0.02035486</td>\n",
        "      <td>  0.01356763</td>\n",
        "      <td> Surv(days, event) ~ age + feature + combo + ag...</td>\n",
        "      <td>   40.31985</td>\n",
        "      <td> 0.173649</td>\n",
        "    </tr>\n",
        "    <tr>\n",
        "      <td><strong>BIOCARTA_PTC1_PATHWAY</strong></td>\n",
        "      <td>  0.02266218</td>\n",
        "      <td>  0.01805585</td>\n",
        "      <td> Surv(days, event) ~ age + feature + combo + ag...</td>\n",
        "      <td>   24.68219</td>\n",
        "      <td> 0.189875</td>\n",
        "    </tr>\n",
        "    <tr>\n",
        "      <td><strong>ST_TYPE_I_INTERFERON_PATHWAY</strong></td>\n",
        "      <td>  0.02476006</td>\n",
        "      <td>   0.2613959</td>\n",
        "      <td> Surv(days, event) ~ age + feature + combo + ag...</td>\n",
        "      <td>   0.121314</td>\n",
        "      <td> 0.335325</td>\n",
        "    </tr>\n",
        "  </tbody>\n",
        "</table>\n",
        "</div>"
       ],
       "output_type": "pyout",
       "prompt_number": 120,
       "text": [
        "                                                                              LR  \\\n",
        "REACTOME_COPI_MEDIATED_TRANSPORT                                     0.002775264   \n",
        "BIOCARTA_FIBRINOLYSIS_PATHWAY                                        0.002885858   \n",
        "REACTOME_COMMON_PATHWAY                                               0.00340983   \n",
        "BIOCARTA_EXTRINSIC_PATHWAY                                           0.003660216   \n",
        "REACTOME_PHOSPHORYLATION_OF_THE_APC                                  0.004764721   \n",
        "REACTOME_INACTIVATION_OF_APC_VIA_DIRECT_INHIBITION_OF_THE_APCOMPLEX  0.005166163   \n",
        "REACTOME_MITOTIC_PROMETAPHASE                                        0.005497143   \n",
        "BIOCARTA_DNAFRAGMENT_PATHWAY                                         0.005585354   \n",
        "REACTOME_CYCLIN_A1_ASSOCIATED_EVENTS_DURING_G2_M_TRANSITION          0.007030041   \n",
        "REACTOME_RECRUITMENT_OF_NUMA_TO_MITOTIC_CENTROSOMES                  0.007966643   \n",
        "REACTOME_APOPTOTIC_CLEAVAGE_OF_CELL_ADHESION_PROTEINS                0.009020494   \n",
        "REACTOME_CYTOSOLIC_TRNA_AMINOACYLATION                               0.009552534   \n",
        "REACTOME_MITOTIC_M_M_G1_PHASES                                        0.01249371   \n",
        "REACTOME_APCDC20_MEDIATED_DEGRADATION_OF_CYCLIN_B                      0.0139515   \n",
        "REACTOME_GLOBAL_GENOMIC_NER                                           0.01481965   \n",
        "BIOCARTA_SRCRPTP_PATHWAY                                              0.01573347   \n",
        "BIOCARTA_RB_PATHWAY                                                   0.01899669   \n",
        "BIOCARTA_G2_PATHWAY                                                   0.02035486   \n",
        "BIOCARTA_PTC1_PATHWAY                                                 0.02266218   \n",
        "ST_TYPE_I_INTERFERON_PATHWAY                                          0.02476006   \n",
        "\n",
        "                                                                       feature_p  \\\n",
        "REACTOME_COPI_MEDIATED_TRANSPORT                                       0.6785251   \n",
        "BIOCARTA_FIBRINOLYSIS_PATHWAY                                          0.1137119   \n",
        "REACTOME_COMMON_PATHWAY                                                0.2221931   \n",
        "BIOCARTA_EXTRINSIC_PATHWAY                                            0.09321205   \n",
        "REACTOME_PHOSPHORYLATION_OF_THE_APC                                  0.005000075   \n",
        "REACTOME_INACTIVATION_OF_APC_VIA_DIRECT_INHIBITION_OF_THE_APCOMPLEX  0.003229918   \n",
        "REACTOME_MITOTIC_PROMETAPHASE                                        0.003045916   \n",
        "BIOCARTA_DNAFRAGMENT_PATHWAY                                         0.003774125   \n",
        "REACTOME_CYCLIN_A1_ASSOCIATED_EVENTS_DURING_G2_M_TRANSITION          0.003755885   \n",
        "REACTOME_RECRUITMENT_OF_NUMA_TO_MITOTIC_CENTROSOMES                   0.01358485   \n",
        "REACTOME_APOPTOTIC_CLEAVAGE_OF_CELL_ADHESION_PROTEINS                 0.01034597   \n",
        "REACTOME_CYTOSOLIC_TRNA_AMINOACYLATION                               0.007181313   \n",
        "REACTOME_MITOTIC_M_M_G1_PHASES                                       0.006027691   \n",
        "REACTOME_APCDC20_MEDIATED_DEGRADATION_OF_CYCLIN_B                     0.01327039   \n",
        "REACTOME_GLOBAL_GENOMIC_NER                                           0.04559131   \n",
        "BIOCARTA_SRCRPTP_PATHWAY                                              0.01879401   \n",
        "BIOCARTA_RB_PATHWAY                                                    0.0157338   \n",
        "BIOCARTA_G2_PATHWAY                                                   0.01356763   \n",
        "BIOCARTA_PTC1_PATHWAY                                                 0.01805585   \n",
        "ST_TYPE_I_INTERFERON_PATHWAY                                           0.2613959   \n",
        "\n",
        "                                                                                                                  fmla  \\\n",
        "REACTOME_COPI_MEDIATED_TRANSPORT                                     Surv(days, event) ~ age + feature + combo + ag...   \n",
        "BIOCARTA_FIBRINOLYSIS_PATHWAY                                        Surv(days, event) ~ age + feature + combo + ag...   \n",
        "REACTOME_COMMON_PATHWAY                                              Surv(days, event) ~ age + feature + combo + ag...   \n",
        "BIOCARTA_EXTRINSIC_PATHWAY                                           Surv(days, event) ~ age + feature + combo + ag...   \n",
        "REACTOME_PHOSPHORYLATION_OF_THE_APC                                  Surv(days, event) ~ age + feature + combo + ag...   \n",
        "REACTOME_INACTIVATION_OF_APC_VIA_DIRECT_INHIBITION_OF_THE_APCOMPLEX  Surv(days, event) ~ age + feature + combo + ag...   \n",
        "REACTOME_MITOTIC_PROMETAPHASE                                        Surv(days, event) ~ age + feature + combo + ag...   \n",
        "BIOCARTA_DNAFRAGMENT_PATHWAY                                         Surv(days, event) ~ age + feature + combo + ag...   \n",
        "REACTOME_CYCLIN_A1_ASSOCIATED_EVENTS_DURING_G2_M_TRANSITION          Surv(days, event) ~ age + feature + combo + ag...   \n",
        "REACTOME_RECRUITMENT_OF_NUMA_TO_MITOTIC_CENTROSOMES                  Surv(days, event) ~ age + feature + combo + ag...   \n",
        "REACTOME_APOPTOTIC_CLEAVAGE_OF_CELL_ADHESION_PROTEINS                Surv(days, event) ~ age + feature + combo + ag...   \n",
        "REACTOME_CYTOSOLIC_TRNA_AMINOACYLATION                               Surv(days, event) ~ age + feature + combo + ag...   \n",
        "REACTOME_MITOTIC_M_M_G1_PHASES                                       Surv(days, event) ~ age + feature + combo + ag...   \n",
        "REACTOME_APCDC20_MEDIATED_DEGRADATION_OF_CYCLIN_B                    Surv(days, event) ~ age + feature + combo + ag...   \n",
        "REACTOME_GLOBAL_GENOMIC_NER                                          Surv(days, event) ~ age + feature + combo + ag...   \n",
        "BIOCARTA_SRCRPTP_PATHWAY                                             Surv(days, event) ~ age + feature + combo + ag...   \n",
        "BIOCARTA_RB_PATHWAY                                                  Surv(days, event) ~ age + feature + combo + ag...   \n",
        "BIOCARTA_G2_PATHWAY                                                  Surv(days, event) ~ age + feature + combo + ag...   \n",
        "BIOCARTA_PTC1_PATHWAY                                                Surv(days, event) ~ age + feature + combo + ag...   \n",
        "ST_TYPE_I_INTERFERON_PATHWAY                                         Surv(days, event) ~ age + feature + combo + ag...   \n",
        "\n",
        "                                                                        hazzard  \\\n",
        "REACTOME_COPI_MEDIATED_TRANSPORT                                       2.107588   \n",
        "BIOCARTA_FIBRINOLYSIS_PATHWAY                                           7.96234   \n",
        "REACTOME_COMMON_PATHWAY                                                5.616401   \n",
        "BIOCARTA_EXTRINSIC_PATHWAY                                             9.370668   \n",
        "REACTOME_PHOSPHORYLATION_OF_THE_APC                                    44.44074   \n",
        "REACTOME_INACTIVATION_OF_APC_VIA_DIRECT_INHIBITION_OF_THE_APCOMPLEX    62.82238   \n",
        "REACTOME_MITOTIC_PROMETAPHASE                                          94.32476   \n",
        "BIOCARTA_DNAFRAGMENT_PATHWAY                                            91.6171   \n",
        "REACTOME_CYCLIN_A1_ASSOCIATED_EVENTS_DURING_G2_M_TRANSITION            62.18558   \n",
        "REACTOME_RECRUITMENT_OF_NUMA_TO_MITOTIC_CENTROSOMES                    41.46768   \n",
        "REACTOME_APOPTOTIC_CLEAVAGE_OF_CELL_ADHESION_PROTEINS                0.01272585   \n",
        "REACTOME_CYTOSOLIC_TRNA_AMINOACYLATION                                 59.58742   \n",
        "REACTOME_MITOTIC_M_M_G1_PHASES                                         53.06273   \n",
        "REACTOME_APCDC20_MEDIATED_DEGRADATION_OF_CYCLIN_B                      27.41272   \n",
        "REACTOME_GLOBAL_GENOMIC_NER                                            24.05352   \n",
        "BIOCARTA_SRCRPTP_PATHWAY                                               27.59379   \n",
        "BIOCARTA_RB_PATHWAY                                                    45.28339   \n",
        "BIOCARTA_G2_PATHWAY                                                    40.31985   \n",
        "BIOCARTA_PTC1_PATHWAY                                                  24.68219   \n",
        "ST_TYPE_I_INTERFERON_PATHWAY                                           0.121314   \n",
        "\n",
        "                                                                     first_pass  \n",
        "REACTOME_COPI_MEDIATED_TRANSPORT                                       0.285798  \n",
        "BIOCARTA_FIBRINOLYSIS_PATHWAY                                          0.001054  \n",
        "REACTOME_COMMON_PATHWAY                                                0.006650  \n",
        "BIOCARTA_EXTRINSIC_PATHWAY                                             0.002794  \n",
        "REACTOME_PHOSPHORYLATION_OF_THE_APC                                    0.012279  \n",
        "REACTOME_INACTIVATION_OF_APC_VIA_DIRECT_INHIBITION_OF_THE_APCOMPLEX    0.005850  \n",
        "REACTOME_MITOTIC_PROMETAPHASE                                          0.032582  \n",
        "BIOCARTA_DNAFRAGMENT_PATHWAY                                           0.152954  \n",
        "REACTOME_CYCLIN_A1_ASSOCIATED_EVENTS_DURING_G2_M_TRANSITION            0.047428  \n",
        "REACTOME_RECRUITMENT_OF_NUMA_TO_MITOTIC_CENTROSOMES                    0.149953  \n",
        "REACTOME_APOPTOTIC_CLEAVAGE_OF_CELL_ADHESION_PROTEINS                  0.001028  \n",
        "REACTOME_CYTOSOLIC_TRNA_AMINOACYLATION                                 0.004869  \n",
        "REACTOME_MITOTIC_M_M_G1_PHASES                                         0.020576  \n",
        "REACTOME_APCDC20_MEDIATED_DEGRADATION_OF_CYCLIN_B                      0.021124  \n",
        "REACTOME_GLOBAL_GENOMIC_NER                                            0.469072  \n",
        "BIOCARTA_SRCRPTP_PATHWAY                                               0.307798  \n",
        "BIOCARTA_RB_PATHWAY                                                    0.307801  \n",
        "BIOCARTA_G2_PATHWAY                                                    0.173649  \n",
        "BIOCARTA_PTC1_PATHWAY                                                  0.189875  \n",
        "ST_TYPE_I_INTERFERON_PATHWAY                                           0.335325  "
       ]
      }
     ],
     "prompt_number": 120
    },
    {
     "cell_type": "code",
     "collapsed": false,
     "input": [
      "combo.name = 'p53/3p'"
     ],
     "language": "python",
     "metadata": {},
     "outputs": [],
     "prompt_number": 100
    },
    {
     "cell_type": "code",
     "collapsed": false,
     "input": [
      "feature = to_quants(rna.features.ix[rna_e.index[11]])\n",
      "feature.name = str(feature.name)\n",
      "draw_survival_curves_split(feature, combo=='wt', surv, colors=['blue','orange','red'], \n",
      "                           labels=['Bottom 25%', 'Normal', 'Top 25%'])\n",
      "Image(filename='tmp.png')"
     ],
     "language": "python",
     "metadata": {},
     "outputs": [
      {
       "output_type": "pyout",
       "png": "[encoded data removed]",
       "prompt_number": 122,
       "text": [
        "<IPython.core.display.Image at 0x72ce050>"
       ]
      }
     ],
     "prompt_number": 122
    },
    {
     "cell_type": "code",
     "collapsed": false,
     "input": [],
     "language": "python",
     "metadata": {},
     "outputs": []
    }
   ],
   "metadata": {}
  }
 ]
}