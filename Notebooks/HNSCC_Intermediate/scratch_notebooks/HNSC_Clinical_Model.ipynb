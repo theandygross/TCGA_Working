{
 "metadata": {
  "name": ""
 },
 "nbformat": 3,
 "nbformat_minor": 0,
 "worksheets": [
  {
   "cells": [
    {
     "cell_type": "markdown",
     "metadata": {
      "slideshow": {
       "slide_type": "slide"
      }
     },
     "source": [
      "#HNSCC Clinical Model"
     ]
    },
    {
     "cell_type": "code",
     "collapsed": false,
     "input": [
      "cd ../src"
     ],
     "language": "python",
     "metadata": {
      "slideshow": {
       "slide_type": "skip"
      }
     },
     "outputs": [
      {
       "output_type": "stream",
       "stream": "stdout",
       "text": [
        "/cellar/users/agross/TCGA_Code/TCGA/Pathway_Merge/src\n"
       ]
      }
     ],
     "prompt_number": 1
    },
    {
     "cell_type": "code",
     "collapsed": false,
     "input": [
      "from Processing.Imports import *\n",
      "from Figures.Survival import survival_stat_plot\n",
      "from Stats.Survival import log_rank\n",
      "from Figures.Survival import survival_and_stats"
     ],
     "language": "python",
     "metadata": {
      "slideshow": {
       "slide_type": "skip"
      }
     },
     "outputs": [],
     "prompt_number": 2
    },
    {
     "cell_type": "markdown",
     "metadata": {},
     "source": [
      "#Read in Pre-processed Data"
     ]
    },
    {
     "cell_type": "code",
     "collapsed": false,
     "input": [
      "run = get_run('/cellar/data/TCGA/Firehose__2013_04_21/', 'Run_all')\n",
      "\n",
      "cancer = run.load_cancer('HNSC')\n",
      "clinical = cancer.load_clinical()\n",
      "global_vars = cancer.load_global_vars()\n",
      "\n",
      "mut = cancer.load_data('Mutation')\n",
      "mut.uncompress()\n",
      "meth = cancer.load_data('Methylation')\n",
      "cn = cancer.load_data('CN_broad')\n",
      "cn.uncompress()\n",
      "rna = cancer.load_data('mRNASeq')\n",
      "rppa  = cancer.load_data('RPPA')\n",
      "mirna = cancer.load_data('miRNASeq')\n",
      "age = clinical.clinical.age.astype(float)\n",
      "\n",
      "hpv_all = pd.read_csv('/cellar/users/agross/hpv_summary_3_20_13_distribute.csv', index_col=0)\n",
      "hpv = hpv_all.Molecular_HPV.map({0:'HPV-', 1:'HPV+'})\n",
      "hpv.name = 'HPV'"
     ],
     "language": "python",
     "metadata": {
      "slideshow": {
       "slide_type": "skip"
      }
     },
     "outputs": [],
     "prompt_number": 3
    },
    {
     "cell_type": "code",
     "collapsed": false,
     "input": [
      "from Data.ProcessClinical import format_survival_from_data_portal\n",
      "path  = '/cellar/users/agross/Data/TCGA/HNSC_Followup/'\n",
      "survival, timeline = format_survival_from_data_portal(path, cancer.name)\n",
      "clinical.survival = survival\n",
      "clinical.artificially_censor(5)\n",
      "age = timeline.age"
     ],
     "language": "python",
     "metadata": {
      "slideshow": {
       "slide_type": "skip"
      }
     },
     "outputs": [],
     "prompt_number": 4
    },
    {
     "cell_type": "code",
     "collapsed": false,
     "input": [
      "filters = pd.concat([age>100, hpv=='HPV+'], axis=1)\n",
      "clinical_filter = filters.sum(1) == 0\n",
      "keepers_o = true_index(clinical_filter)"
     ],
     "language": "python",
     "metadata": {
      "slideshow": {
       "slide_type": "skip"
      }
     },
     "outputs": [],
     "prompt_number": 5
    },
    {
     "cell_type": "code",
     "collapsed": false,
     "input": [
      "filters = pd.concat([age>=85, hpv=='HPV+'], axis=1)\n",
      "clinical_filter = filters.sum(1) == 0\n",
      "keepers = true_index(clinical_filter)"
     ],
     "language": "python",
     "metadata": {
      "slideshow": {
       "slide_type": "skip"
      }
     },
     "outputs": [],
     "prompt_number": 6
    },
    {
     "cell_type": "code",
     "collapsed": false,
     "input": [
      "surv = clinical.survival.survival_5y"
     ],
     "language": "python",
     "metadata": {
      "slideshow": {
       "slide_type": "skip"
      }
     },
     "outputs": [],
     "prompt_number": 7
    },
    {
     "cell_type": "code",
     "collapsed": false,
     "input": [
      "from Initialization.InitializeReal import RealDataset\n",
      "rna = RealDataset(run, cancer, 'mRNASeq', keepers_o)\n",
      "meth = RealDataset(run, cancer, 'Methylation', keepers_o)\n",
      "mirna = RealDataset(run, cancer, 'miRNASeq', keepers_o, create_meta_features=False)"
     ],
     "language": "python",
     "metadata": {
      "slideshow": {
       "slide_type": "skip"
      }
     },
     "outputs": [],
     "prompt_number": 8
    },
    {
     "cell_type": "code",
     "collapsed": false,
     "input": [
      "surv_all = clinical.survival.survival\n",
      "surv = clinical.survival.survival_5y"
     ],
     "language": "python",
     "metadata": {
      "slideshow": {
       "slide_type": "skip"
      }
     },
     "outputs": [],
     "prompt_number": 9
    },
    {
     "cell_type": "code",
     "collapsed": false,
     "input": [
      "new = mut.features.ix[:, mut.features.columns.diff(hpv.index)]"
     ],
     "language": "python",
     "metadata": {
      "slideshow": {
       "slide_type": "skip"
      }
     },
     "outputs": [],
     "prompt_number": 10
    },
    {
     "cell_type": "markdown",
     "metadata": {
      "slideshow": {
       "slide_type": "slide"
      }
     },
     "source": [
      "###HPV \n",
      "* Calls from various sequencing platforms obtained for 279 patients \n",
      "* Missing calls for many patients"
     ]
    },
    {
     "cell_type": "code",
     "collapsed": false,
     "input": [
      "pd.crosstab(hpv_all.Molecular_HPV, hpv_all.Clinical_Staining)"
     ],
     "language": "python",
     "metadata": {
      "slideshow": {
       "slide_type": "fragment"
      }
     },
     "outputs": [
      {
       "html": [
        "<div style=\"max-height:1000px;max-width:1500px;overflow:auto;\">\n",
        "<table border=\"1\" class=\"dataframe\">\n",
        "  <thead>\n",
        "    <tr style=\"text-align: right;\">\n",
        "      <th>Clinical_Staining</th>\n",
        "      <th>0</th>\n",
        "      <th>1</th>\n",
        "      <th>Missing</th>\n",
        "    </tr>\n",
        "    <tr>\n",
        "      <th>Molecular_HPV</th>\n",
        "      <th></th>\n",
        "      <th></th>\n",
        "      <th></th>\n",
        "    </tr>\n",
        "  </thead>\n",
        "  <tbody>\n",
        "    <tr>\n",
        "      <th>0</th>\n",
        "      <td> 62</td>\n",
        "      <td>  1</td>\n",
        "      <td> 181</td>\n",
        "    </tr>\n",
        "    <tr>\n",
        "      <th>1</th>\n",
        "      <td>  2</td>\n",
        "      <td> 21</td>\n",
        "      <td>  12</td>\n",
        "    </tr>\n",
        "  </tbody>\n",
        "</table>\n",
        "</div>"
       ],
       "metadata": {},
       "output_type": "pyout",
       "prompt_number": 11,
       "text": [
        "Clinical_Staining   0   1  Missing\n",
        "Molecular_HPV                     \n",
        "0                  62   1      181\n",
        "1                   2  21       12"
       ]
      }
     ],
     "prompt_number": 11
    },
    {
     "cell_type": "code",
     "collapsed": false,
     "input": [
      "get_surv_fit_lr(surv_all, hpv)"
     ],
     "language": "python",
     "metadata": {
      "slideshow": {
       "slide_type": "subslide"
      }
     },
     "outputs": [
      {
       "html": [
        "<div style=\"max-height:1000px;max-width:1500px;overflow:auto;\">\n",
        "<table border=\"1\" class=\"dataframe\">\n",
        "  <thead>\n",
        "    <tr>\n",
        "      <th></th>\n",
        "      <th colspan=\"2\" halign=\"left\">Stats</th>\n",
        "      <th colspan=\"3\" halign=\"left\">Median Survival</th>\n",
        "      <th colspan=\"3\" halign=\"left\">5y Survival</th>\n",
        "      <th colspan=\"2\" halign=\"left\">Log-Rank</th>\n",
        "    </tr>\n",
        "    <tr>\n",
        "      <th></th>\n",
        "      <th># Patients</th>\n",
        "      <th># Events</th>\n",
        "      <th>Median</th>\n",
        "      <th>Lower</th>\n",
        "      <th>Upper</th>\n",
        "      <th>Surv</th>\n",
        "      <th>Lower</th>\n",
        "      <th>Upper</th>\n",
        "      <th>chi2</th>\n",
        "      <th>p</th>\n",
        "    </tr>\n",
        "  </thead>\n",
        "  <tbody>\n",
        "    <tr>\n",
        "      <th></th>\n",
        "      <td>    </td>\n",
        "      <td>    </td>\n",
        "      <td>     </td>\n",
        "      <td>     </td>\n",
        "      <td>    </td>\n",
        "      <td>      </td>\n",
        "      <td>      </td>\n",
        "      <td>      </td>\n",
        "      <td> 8.33</td>\n",
        "      <td> 0.0039</td>\n",
        "    </tr>\n",
        "    <tr>\n",
        "      <th>HPV-</th>\n",
        "      <td> 244</td>\n",
        "      <td> 118</td>\n",
        "      <td> 2.58</td>\n",
        "      <td> 1.83</td>\n",
        "      <td> 5.4</td>\n",
        "      <td> 0.408</td>\n",
        "      <td> 0.331</td>\n",
        "      <td> 0.502</td>\n",
        "      <td>     </td>\n",
        "      <td>       </td>\n",
        "    </tr>\n",
        "    <tr>\n",
        "      <th>HPV+</th>\n",
        "      <td>  35</td>\n",
        "      <td>   8</td>\n",
        "      <td> 4.82</td>\n",
        "      <td> 4.79</td>\n",
        "      <td> NaN</td>\n",
        "      <td> 0.485</td>\n",
        "      <td> 0.259</td>\n",
        "      <td> 0.907</td>\n",
        "      <td>     </td>\n",
        "      <td>       </td>\n",
        "    </tr>\n",
        "  </tbody>\n",
        "</table>\n",
        "</div>"
       ],
       "metadata": {},
       "output_type": "pyout",
       "prompt_number": 12,
       "text": [
        "          Stats          Median Survival             5y Survival               Log-Rank        \n",
        "     # Patients # Events          Median Lower Upper        Surv  Lower  Upper     chi2       p\n",
        "                                                                                   8.33  0.0039\n",
        "HPV-        244      118            2.58  1.83   5.4       0.408  0.331  0.502                 \n",
        "HPV+         35        8            4.82  4.79   NaN       0.485  0.259  0.907                 "
       ]
      }
     ],
     "prompt_number": 12
    },
    {
     "cell_type": "code",
     "collapsed": false,
     "input": [
      "survival_and_stats(hpv, surv, figsize=(6,4))"
     ],
     "language": "python",
     "metadata": {
      "slideshow": {
       "slide_type": "fragment"
      }
     },
     "outputs": [
      {
       "metadata": {},
       "output_type": "display_data",
       "png": "[encoded data removed]",
       "text": [
        "<matplotlib.figure.Figure at 0x6a45890>"
       ]
      }
     ],
     "prompt_number": 13
    },
    {
     "cell_type": "markdown",
     "metadata": {
      "slideshow": {
       "slide_type": "slide"
      }
     },
     "source": [
      "###Tumor Stage \n",
      "* Different tissues have slightly different staging\n",
      "* No clear survival signal from stage"
     ]
    },
    {
     "cell_type": "code",
     "collapsed": false,
     "input": [
      "stage = clinical.clinical.tumorstage.ix[keepers_o].fillna('nx')\n",
      "stage = stage.dropna().map(lambda s: s.replace('a','').replace('b',''))\n",
      "\n",
      "get_surv_fit_lr(surv_all, stage)"
     ],
     "language": "python",
     "metadata": {
      "slideshow": {
       "slide_type": "fragment"
      }
     },
     "outputs": [
      {
       "html": [
        "<div style=\"max-height:1000px;max-width:1500px;overflow:auto;\">\n",
        "<table border=\"1\" class=\"dataframe\">\n",
        "  <thead>\n",
        "    <tr>\n",
        "      <th></th>\n",
        "      <th colspan=\"2\" halign=\"left\">Stats</th>\n",
        "      <th colspan=\"3\" halign=\"left\">Median Survival</th>\n",
        "      <th colspan=\"3\" halign=\"left\">5y Survival</th>\n",
        "      <th colspan=\"2\" halign=\"left\">Log-Rank</th>\n",
        "    </tr>\n",
        "    <tr>\n",
        "      <th></th>\n",
        "      <th># Patients</th>\n",
        "      <th># Events</th>\n",
        "      <th>Median</th>\n",
        "      <th>Lower</th>\n",
        "      <th>Upper</th>\n",
        "      <th>Surv</th>\n",
        "      <th>Lower</th>\n",
        "      <th>Upper</th>\n",
        "      <th>chi2</th>\n",
        "      <th>p</th>\n",
        "    </tr>\n",
        "  </thead>\n",
        "  <tbody>\n",
        "    <tr>\n",
        "      <th></th>\n",
        "      <td>    </td>\n",
        "      <td>   </td>\n",
        "      <td>     </td>\n",
        "      <td>     </td>\n",
        "      <td>    </td>\n",
        "      <td>      </td>\n",
        "      <td>      </td>\n",
        "      <td>      </td>\n",
        "      <td> 5.28</td>\n",
        "      <td> 0.26</td>\n",
        "    </tr>\n",
        "    <tr>\n",
        "      <th>stge iv</th>\n",
        "      <td> 150</td>\n",
        "      <td> 70</td>\n",
        "      <td>  2.5</td>\n",
        "      <td> 1.64</td>\n",
        "      <td> 5.4</td>\n",
        "      <td> 0.372</td>\n",
        "      <td> 0.272</td>\n",
        "      <td> 0.508</td>\n",
        "      <td>     </td>\n",
        "      <td>     </td>\n",
        "    </tr>\n",
        "    <tr>\n",
        "      <th>nx</th>\n",
        "      <td>  56</td>\n",
        "      <td> 15</td>\n",
        "      <td> 2.58</td>\n",
        "      <td> 1.31</td>\n",
        "      <td> NaN</td>\n",
        "      <td>   NaN</td>\n",
        "      <td>   NaN</td>\n",
        "      <td>   NaN</td>\n",
        "      <td>     </td>\n",
        "      <td>     </td>\n",
        "    </tr>\n",
        "    <tr>\n",
        "      <th>stge ii</th>\n",
        "      <td>  47</td>\n",
        "      <td> 21</td>\n",
        "      <td>    4</td>\n",
        "      <td> 1.71</td>\n",
        "      <td> NaN</td>\n",
        "      <td> 0.454</td>\n",
        "      <td> 0.297</td>\n",
        "      <td> 0.694</td>\n",
        "      <td>     </td>\n",
        "      <td>     </td>\n",
        "    </tr>\n",
        "    <tr>\n",
        "      <th>stge iii</th>\n",
        "      <td>  42</td>\n",
        "      <td> 19</td>\n",
        "      <td> 4.49</td>\n",
        "      <td>  2.2</td>\n",
        "      <td> NaN</td>\n",
        "      <td> 0.386</td>\n",
        "      <td> 0.217</td>\n",
        "      <td> 0.688</td>\n",
        "      <td>     </td>\n",
        "      <td>     </td>\n",
        "    </tr>\n",
        "    <tr>\n",
        "      <th>stge i</th>\n",
        "      <td>  18</td>\n",
        "      <td>  3</td>\n",
        "      <td>  NaN</td>\n",
        "      <td>  NaN</td>\n",
        "      <td> NaN</td>\n",
        "      <td> 0.735</td>\n",
        "      <td> 0.513</td>\n",
        "      <td>     1</td>\n",
        "      <td>     </td>\n",
        "      <td>     </td>\n",
        "    </tr>\n",
        "  </tbody>\n",
        "</table>\n",
        "</div>"
       ],
       "metadata": {},
       "output_type": "pyout",
       "prompt_number": 14,
       "text": [
        "              Stats          Median Survival             5y Survival               Log-Rank      \n",
        "         # Patients # Events          Median Lower Upper        Surv  Lower  Upper     chi2     p\n",
        "                                                                                       5.28  0.26\n",
        "stge iv         150       70             2.5  1.64   5.4       0.372  0.272  0.508               \n",
        "nx               56       15            2.58  1.31   NaN         NaN    NaN    NaN               \n",
        "stge ii          47       21               4  1.71   NaN       0.454  0.297  0.694               \n",
        "stge iii         42       19            4.49   2.2   NaN       0.386  0.217  0.688               \n",
        "stge i           18        3             NaN   NaN   NaN       0.735  0.513      1               "
       ]
      }
     ],
     "prompt_number": 14
    },
    {
     "cell_type": "code",
     "collapsed": false,
     "input": [
      "survival_and_stats(stage, surv, figsize=(6,4))"
     ],
     "language": "python",
     "metadata": {
      "slideshow": {
       "slide_type": "fragment"
      }
     },
     "outputs": [
      {
       "metadata": {},
       "output_type": "display_data",
       "png": "[encoded data removed]",
       "text": [
        "<matplotlib.figure.Figure at 0x69d0ed0>"
       ]
      }
     ],
     "prompt_number": 15
    },
    {
     "cell_type": "markdown",
     "metadata": {
      "slideshow": {
       "slide_type": "slide"
      }
     },
     "source": [
      "###Lymphnode Stage"
     ]
    },
    {
     "cell_type": "code",
     "collapsed": false,
     "input": [
      "lymph_stage = clinical.clinical.lymphnodepathologicspread.ix[keepers_o]\n",
      "lymph_stage = lymph_stage.replace('nx', nan).dropna().map(lambda s: s[:2])\n",
      "get_surv_fit_lr(surv_all, lymph_stage)"
     ],
     "language": "python",
     "metadata": {
      "slideshow": {
       "slide_type": "fragment"
      }
     },
     "outputs": [
      {
       "html": [
        "<div style=\"max-height:1000px;max-width:1500px;overflow:auto;\">\n",
        "<table border=\"1\" class=\"dataframe\">\n",
        "  <thead>\n",
        "    <tr>\n",
        "      <th></th>\n",
        "      <th colspan=\"2\" halign=\"left\">Stats</th>\n",
        "      <th colspan=\"3\" halign=\"left\">Median Survival</th>\n",
        "      <th colspan=\"3\" halign=\"left\">5y Survival</th>\n",
        "      <th colspan=\"2\" halign=\"left\">Log-Rank</th>\n",
        "    </tr>\n",
        "    <tr>\n",
        "      <th></th>\n",
        "      <th># Patients</th>\n",
        "      <th># Events</th>\n",
        "      <th>Median</th>\n",
        "      <th>Lower</th>\n",
        "      <th>Upper</th>\n",
        "      <th>Surv</th>\n",
        "      <th>Lower</th>\n",
        "      <th>Upper</th>\n",
        "      <th>chi2</th>\n",
        "      <th>p</th>\n",
        "    </tr>\n",
        "  </thead>\n",
        "  <tbody>\n",
        "    <tr>\n",
        "      <th></th>\n",
        "      <td>   </td>\n",
        "      <td>   </td>\n",
        "      <td>      </td>\n",
        "      <td>     </td>\n",
        "      <td>    </td>\n",
        "      <td>      </td>\n",
        "      <td>      </td>\n",
        "      <td>      </td>\n",
        "      <td> 14.9</td>\n",
        "      <td> 0.00193</td>\n",
        "    </tr>\n",
        "    <tr>\n",
        "      <th>n0</th>\n",
        "      <td> 97</td>\n",
        "      <td> 30</td>\n",
        "      <td>  7.04</td>\n",
        "      <td> 4.49</td>\n",
        "      <td> NaN</td>\n",
        "      <td> 0.552</td>\n",
        "      <td> 0.407</td>\n",
        "      <td> 0.748</td>\n",
        "      <td>     </td>\n",
        "      <td>        </td>\n",
        "    </tr>\n",
        "    <tr>\n",
        "      <th>n2</th>\n",
        "      <td> 96</td>\n",
        "      <td> 45</td>\n",
        "      <td>  2.16</td>\n",
        "      <td> 1.43</td>\n",
        "      <td> 5.4</td>\n",
        "      <td> 0.344</td>\n",
        "      <td> 0.225</td>\n",
        "      <td> 0.525</td>\n",
        "      <td>     </td>\n",
        "      <td>        </td>\n",
        "    </tr>\n",
        "    <tr>\n",
        "      <th>n1</th>\n",
        "      <td> 33</td>\n",
        "      <td> 11</td>\n",
        "      <td>  7.51</td>\n",
        "      <td> 2.84</td>\n",
        "      <td> NaN</td>\n",
        "      <td> 0.599</td>\n",
        "      <td>  0.41</td>\n",
        "      <td> 0.876</td>\n",
        "      <td>     </td>\n",
        "      <td>        </td>\n",
        "    </tr>\n",
        "    <tr>\n",
        "      <th>n3</th>\n",
        "      <td>  5</td>\n",
        "      <td>  5</td>\n",
        "      <td> 0.962</td>\n",
        "      <td> 0.69</td>\n",
        "      <td> NaN</td>\n",
        "      <td>   NaN</td>\n",
        "      <td>   NaN</td>\n",
        "      <td>   NaN</td>\n",
        "      <td>     </td>\n",
        "      <td>        </td>\n",
        "    </tr>\n",
        "  </tbody>\n",
        "</table>\n",
        "</div>"
       ],
       "metadata": {},
       "output_type": "pyout",
       "prompt_number": 16,
       "text": [
        "        Stats          Median Survival             5y Survival               Log-Rank         \n",
        "   # Patients # Events          Median Lower Upper        Surv  Lower  Upper     chi2        p\n",
        "                                                                                 14.9  0.00193\n",
        "n0         97       30            7.04  4.49   NaN       0.552  0.407  0.748                  \n",
        "n2         96       45            2.16  1.43   5.4       0.344  0.225  0.525                  \n",
        "n1         33       11            7.51  2.84   NaN       0.599   0.41  0.876                  \n",
        "n3          5        5           0.962  0.69   NaN         NaN    NaN    NaN                  "
       ]
      }
     ],
     "prompt_number": 16
    },
    {
     "cell_type": "code",
     "collapsed": false,
     "input": [
      "survival_and_stats(lymph_stage, surv, figsize=(6,4))"
     ],
     "language": "python",
     "metadata": {
      "slideshow": {
       "slide_type": "fragment"
      }
     },
     "outputs": [
      {
       "metadata": {},
       "output_type": "display_data",
       "png": "[encoded data removed]",
       "text": [
        "<matplotlib.figure.Figure at 0x6a05310>"
       ]
      }
     ],
     "prompt_number": 17
    },
    {
     "cell_type": "markdown",
     "metadata": {
      "slideshow": {
       "slide_type": "slide"
      }
     },
     "source": [
      "###Age \n",
      "* The idea here is to figure out any age dependent effects on survival.\n",
      "* The strategy is to slide along the age spectrum and for a given age ask if the survival of patients within 5 year older/younger do better or worse.\n",
      "* The cutoff is relatively arbitrary but you can see that around 85 there seems to be an inflection.\n",
      "* Points not plotted had no improvement over the null model and thus no hazard ratio was calculated."
     ]
    },
    {
     "cell_type": "code",
     "collapsed": false,
     "input": [
      "age.hist()"
     ],
     "language": "python",
     "metadata": {
      "slideshow": {
       "slide_type": "fragment"
      }
     },
     "outputs": [
      {
       "metadata": {},
       "output_type": "pyout",
       "prompt_number": 18,
       "text": [
        "<matplotlib.axes.AxesSubplot at 0x6a31090>"
       ]
      },
      {
       "metadata": {},
       "output_type": "display_data",
       "png": "[encoded data removed]",
       "text": [
        "<matplotlib.figure.Figure at 0x6bdb950>"
       ]
      }
     ],
     "prompt_number": 18
    },
    {
     "cell_type": "code",
     "collapsed": false,
     "input": [
      "fig, axs = subplots(1,2, figsize=(10,4))\n",
      "aa = pd.DataFrame({x: log_rank(age.isin(range(x-5, x+5)), surv) for x in range(40,85)}).T\n",
      "aa.dropna().chi2.plot(ax=axs[0], marker='o', ls='--')\n",
      "axs[0].set_ylabel('chi2')\n",
      "axs[0].set_xlabel('Age Bin')\n",
      "draw_survival_curve((age>=75).map({False: 'age > 75', True: 'age <= 75'}), surv, ax=axs[1])"
     ],
     "language": "python",
     "metadata": {
      "slideshow": {
       "slide_type": "subslide"
      }
     },
     "outputs": [
      {
       "metadata": {},
       "output_type": "display_data",
       "png": "[encoded data removed]",
       "text": [
        "<matplotlib.figure.Figure at 0x6b49950>"
       ]
      }
     ],
     "prompt_number": 19
    },
    {
     "cell_type": "code",
     "collapsed": false,
     "input": [
      "old_age = (age >= 75).map({True: 'Age > 75', False: 'Age < 75'})\n",
      "get_surv_fit_lr(surv_all, old_age)"
     ],
     "language": "python",
     "metadata": {
      "slideshow": {
       "slide_type": "subslide"
      }
     },
     "outputs": [
      {
       "html": [
        "<div style=\"max-height:1000px;max-width:1500px;overflow:auto;\">\n",
        "<table border=\"1\" class=\"dataframe\">\n",
        "  <thead>\n",
        "    <tr>\n",
        "      <th></th>\n",
        "      <th colspan=\"2\" halign=\"left\">Stats</th>\n",
        "      <th colspan=\"3\" halign=\"left\">Median Survival</th>\n",
        "      <th colspan=\"3\" halign=\"left\">5y Survival</th>\n",
        "      <th colspan=\"2\" halign=\"left\">Log-Rank</th>\n",
        "    </tr>\n",
        "    <tr>\n",
        "      <th></th>\n",
        "      <th># Patients</th>\n",
        "      <th># Events</th>\n",
        "      <th>Median</th>\n",
        "      <th>Lower</th>\n",
        "      <th>Upper</th>\n",
        "      <th>Surv</th>\n",
        "      <th>Lower</th>\n",
        "      <th>Upper</th>\n",
        "      <th>chi2</th>\n",
        "      <th>p</th>\n",
        "    </tr>\n",
        "  </thead>\n",
        "  <tbody>\n",
        "    <tr>\n",
        "      <th></th>\n",
        "      <td>    </td>\n",
        "      <td>    </td>\n",
        "      <td>     </td>\n",
        "      <td>     </td>\n",
        "      <td>     </td>\n",
        "      <td>      </td>\n",
        "      <td>       </td>\n",
        "      <td>      </td>\n",
        "      <td> 10.6</td>\n",
        "      <td> 0.00112</td>\n",
        "    </tr>\n",
        "    <tr>\n",
        "      <th>Age &lt; 75</th>\n",
        "      <td> 303</td>\n",
        "      <td> 109</td>\n",
        "      <td> 4.58</td>\n",
        "      <td> 2.99</td>\n",
        "      <td> 6.35</td>\n",
        "      <td> 0.458</td>\n",
        "      <td>  0.377</td>\n",
        "      <td> 0.557</td>\n",
        "      <td>     </td>\n",
        "      <td>        </td>\n",
        "    </tr>\n",
        "    <tr>\n",
        "      <th>Age &gt; 75</th>\n",
        "      <td>  45</td>\n",
        "      <td>  27</td>\n",
        "      <td> 1.81</td>\n",
        "      <td>  1.1</td>\n",
        "      <td>  NaN</td>\n",
        "      <td> 0.182</td>\n",
        "      <td> 0.0609</td>\n",
        "      <td> 0.542</td>\n",
        "      <td>     </td>\n",
        "      <td>        </td>\n",
        "    </tr>\n",
        "  </tbody>\n",
        "</table>\n",
        "</div>"
       ],
       "metadata": {},
       "output_type": "pyout",
       "prompt_number": 20,
       "text": [
        "              Stats          Median Survival             5y Survival                Log-Rank         \n",
        "         # Patients # Events          Median Lower Upper        Surv   Lower  Upper     chi2        p\n",
        "                                                                                        10.6  0.00112\n",
        "Age < 75        303      109            4.58  2.99  6.35       0.458   0.377  0.557                  \n",
        "Age > 75         45       27            1.81   1.1   NaN       0.182  0.0609  0.542                  "
       ]
      }
     ],
     "prompt_number": 20
    },
    {
     "cell_type": "code",
     "collapsed": false,
     "input": [
      "survival_and_stats(old_age, surv, figsize=(6,4))"
     ],
     "language": "python",
     "metadata": {
      "slideshow": {
       "slide_type": "fragment"
      }
     },
     "outputs": [
      {
       "metadata": {},
       "output_type": "display_data",
       "png": "[encoded data removed]",
       "text": [
        "<matplotlib.figure.Figure at 0x6a1fdd0>"
       ]
      }
     ],
     "prompt_number": 21
    },
    {
     "cell_type": "markdown",
     "metadata": {
      "slideshow": {
       "slide_type": "slide"
      }
     },
     "source": [
      "###Pack Years"
     ]
    },
    {
     "cell_type": "code",
     "collapsed": false,
     "input": [
      "py = clinical.clinical.numberpackyearssmoked.dropna().astype(float)\n",
      "py.hist()"
     ],
     "language": "python",
     "metadata": {
      "slideshow": {
       "slide_type": "fragment"
      }
     },
     "outputs": [
      {
       "metadata": {},
       "output_type": "pyout",
       "prompt_number": 22,
       "text": [
        "<matplotlib.axes.AxesSubplot at 0x74e0350>"
       ]
      },
      {
       "metadata": {},
       "output_type": "display_data",
       "png": "[encoded data removed]",
       "text": [
        "<matplotlib.figure.Figure at 0x7508290>"
       ]
      }
     ],
     "prompt_number": 22
    },
    {
     "cell_type": "code",
     "collapsed": false,
     "input": [
      "fig, axs = subplots(1,2, figsize=(10,4))\n",
      "aa = pd.DataFrame({x: log_rank(py.isin(range(x-10, x+10)), surv) for x in range(0,150)}).T\n",
      "aa.dropna().chi2.plot(ax=axs[0], marker='o', ls='--')\n",
      "axs[0].set_ylabel('Hazard Ratio')\n",
      "axs[0].set_xlabel('Pack Years Bin')\n",
      "draw_survival_curve((1.*(py>=70) + 1.*(py>85)).map({0: 'py < 70', 1: '70 <= py 85', 2: 'py >= 85'}), surv, ax=axs[1])"
     ],
     "language": "python",
     "metadata": {
      "slideshow": {
       "slide_type": "subslide"
      }
     },
     "outputs": [
      {
       "metadata": {},
       "output_type": "display_data",
       "png": "[encoded data removed]",
       "text": [
        "<matplotlib.figure.Figure at 0x7a43710>"
       ]
      }
     ],
     "prompt_number": 23
    },
    {
     "cell_type": "code",
     "collapsed": false,
     "input": [
      "tt = lambda a,b: kruskal_pandas(b,a)\n",
      "s = screen_feature((1.*(py>=70) + 1.*(py>85))>0, tt, mut.features)\n",
      "s.head()"
     ],
     "language": "python",
     "metadata": {
      "slideshow": {
       "slide_type": "fragment"
      }
     },
     "outputs": [
      {
       "html": [
        "<div style=\"max-height:1000px;max-width:1500px;overflow:auto;\">\n",
        "<table border=\"1\" class=\"dataframe\">\n",
        "  <thead>\n",
        "    <tr style=\"text-align: right;\">\n",
        "      <th></th>\n",
        "      <th>H</th>\n",
        "      <th>p</th>\n",
        "      <th>q</th>\n",
        "    </tr>\n",
        "  </thead>\n",
        "  <tbody>\n",
        "    <tr>\n",
        "      <th>BIOCARTA_DC_PATHWAY</th>\n",
        "      <td> 23.07</td>\n",
        "      <td> 1.56e-06</td>\n",
        "      <td> 0.00</td>\n",
        "    </tr>\n",
        "    <tr>\n",
        "      <th>REACTOME_PLC_GAMMA1_SIGNALLING</th>\n",
        "      <td> 18.27</td>\n",
        "      <td> 1.91e-05</td>\n",
        "      <td> 0.01</td>\n",
        "    </tr>\n",
        "    <tr>\n",
        "      <th>ROS1</th>\n",
        "      <td> 15.92</td>\n",
        "      <td> 6.59e-05</td>\n",
        "      <td> 0.02</td>\n",
        "    </tr>\n",
        "    <tr>\n",
        "      <th>BIOCARTA_CCR5_PATHWAY</th>\n",
        "      <td> 14.51</td>\n",
        "      <td> 1.39e-04</td>\n",
        "      <td> 0.03</td>\n",
        "    </tr>\n",
        "    <tr>\n",
        "      <th>REACTOME_ACTIVATED_TLR4_SIGNALLING</th>\n",
        "      <td> 13.60</td>\n",
        "      <td> 2.26e-04</td>\n",
        "      <td> 0.04</td>\n",
        "    </tr>\n",
        "  </tbody>\n",
        "</table>\n",
        "</div>"
       ],
       "metadata": {},
       "output_type": "pyout",
       "prompt_number": 24,
       "text": [
        "                                        H         p     q\n",
        "BIOCARTA_DC_PATHWAY                 23.07  1.56e-06  0.00\n",
        "REACTOME_PLC_GAMMA1_SIGNALLING      18.27  1.91e-05  0.01\n",
        "ROS1                                15.92  6.59e-05  0.02\n",
        "BIOCARTA_CCR5_PATHWAY               14.51  1.39e-04  0.03\n",
        "REACTOME_ACTIVATED_TLR4_SIGNALLING  13.60  2.26e-04  0.04"
       ]
      }
     ],
     "prompt_number": 24
    },
    {
     "cell_type": "markdown",
     "metadata": {
      "slideshow": {
       "slide_type": "slide"
      }
     },
     "source": [
      "###Tumor Subdivision \n",
      "* Groups defined by Dr. Coffee\n",
      "* Rough idea of subdivisions"
     ]
    },
    {
     "cell_type": "code",
     "collapsed": false,
     "input": [
      "group = [['oral tongue','oral cavity','floor of mouth','buccal mucosa','alveolar ridge','hard palate','lip'],\n",
      "         ['oropharynx','tonsil','base of tongue'],\n",
      "         #['hypopharynx'],\n",
      "         ['larynx']]\n",
      "groups = ['oral cavity','oropharynx','larynx']\n",
      "tumor_subdivision = pd.Series({idx: groups[i] for i,g in enumerate(group) for idx,j in \n",
      "                               clinical.clinical.neoplasmanatomicsubdivision.iteritems() if j in g})\n",
      "\n",
      "get_surv_fit_lr(surv_all, tumor_subdivision.ix[keepers_o])"
     ],
     "language": "python",
     "metadata": {
      "slideshow": {
       "slide_type": "fragment"
      }
     },
     "outputs": [
      {
       "html": [
        "<div style=\"max-height:1000px;max-width:1500px;overflow:auto;\">\n",
        "<table border=\"1\" class=\"dataframe\">\n",
        "  <thead>\n",
        "    <tr>\n",
        "      <th></th>\n",
        "      <th colspan=\"2\" halign=\"left\">Stats</th>\n",
        "      <th colspan=\"3\" halign=\"left\">Median Survival</th>\n",
        "      <th colspan=\"3\" halign=\"left\">5y Survival</th>\n",
        "      <th colspan=\"2\" halign=\"left\">Log-Rank</th>\n",
        "    </tr>\n",
        "    <tr>\n",
        "      <th></th>\n",
        "      <th># Patients</th>\n",
        "      <th># Events</th>\n",
        "      <th>Median</th>\n",
        "      <th>Lower</th>\n",
        "      <th>Upper</th>\n",
        "      <th>Surv</th>\n",
        "      <th>Lower</th>\n",
        "      <th>Upper</th>\n",
        "      <th>chi2</th>\n",
        "      <th>p</th>\n",
        "    </tr>\n",
        "  </thead>\n",
        "  <tbody>\n",
        "    <tr>\n",
        "      <th></th>\n",
        "      <td>    </td>\n",
        "      <td>   </td>\n",
        "      <td>     </td>\n",
        "      <td>     </td>\n",
        "      <td>     </td>\n",
        "      <td>      </td>\n",
        "      <td>      </td>\n",
        "      <td>      </td>\n",
        "      <td> 0.0976</td>\n",
        "      <td> 0.992</td>\n",
        "    </tr>\n",
        "    <tr>\n",
        "      <th>oral cavity</th>\n",
        "      <td> 188</td>\n",
        "      <td> 85</td>\n",
        "      <td> 3.53</td>\n",
        "      <td> 2.36</td>\n",
        "      <td> 5.48</td>\n",
        "      <td> 0.375</td>\n",
        "      <td> 0.278</td>\n",
        "      <td> 0.508</td>\n",
        "      <td>       </td>\n",
        "      <td>      </td>\n",
        "    </tr>\n",
        "    <tr>\n",
        "      <th>larynx</th>\n",
        "      <td>  80</td>\n",
        "      <td> 34</td>\n",
        "      <td> 2.25</td>\n",
        "      <td> 1.64</td>\n",
        "      <td> 9.08</td>\n",
        "      <td>  0.44</td>\n",
        "      <td> 0.317</td>\n",
        "      <td> 0.611</td>\n",
        "      <td>       </td>\n",
        "      <td>      </td>\n",
        "    </tr>\n",
        "    <tr>\n",
        "      <th>oropharynx</th>\n",
        "      <td>  21</td>\n",
        "      <td>  6</td>\n",
        "      <td> 1.65</td>\n",
        "      <td> 1.43</td>\n",
        "      <td>  NaN</td>\n",
        "      <td>   NaN</td>\n",
        "      <td>   NaN</td>\n",
        "      <td>   NaN</td>\n",
        "      <td>       </td>\n",
        "      <td>      </td>\n",
        "    </tr>\n",
        "  </tbody>\n",
        "</table>\n",
        "</div>"
       ],
       "metadata": {},
       "output_type": "pyout",
       "prompt_number": 25,
       "text": [
        "                 Stats          Median Survival             5y Survival               Log-Rank       \n",
        "            # Patients # Events          Median Lower Upper        Surv  Lower  Upper     chi2      p\n",
        "                                                                                        0.0976  0.992\n",
        "oral cavity        188       85            3.53  2.36  5.48       0.375  0.278  0.508                \n",
        "larynx              80       34            2.25  1.64  9.08        0.44  0.317  0.611                \n",
        "oropharynx          21        6            1.65  1.43   NaN         NaN    NaN    NaN                "
       ]
      }
     ],
     "prompt_number": 25
    },
    {
     "cell_type": "code",
     "collapsed": false,
     "input": [
      "survival_and_stats(tumor_subdivision.ix[keepers_o].dropna(), surv, figsize=(6,4))"
     ],
     "language": "python",
     "metadata": {
      "slideshow": {
       "slide_type": "fragment"
      }
     },
     "outputs": [
      {
       "metadata": {},
       "output_type": "display_data",
       "png": "[encoded data removed]",
       "text": [
        "<matplotlib.figure.Figure at 0x6b37ed0>"
       ]
      }
     ],
     "prompt_number": 26
    },
    {
     "cell_type": "markdown",
     "metadata": {
      "slideshow": {
       "slide_type": "slide"
      }
     },
     "source": [
      "###Disease Spread \n",
      "* Only recorded for a subset of patients "
     ]
    },
    {
     "cell_type": "code",
     "collapsed": false,
     "input": [
      "invasion = clinical.clinical.perineuralinvasionpresent.replace('nan', nan)\n",
      "invasion = invasion.fillna('Missing')\n",
      "invasion.name = 'invasion'\n",
      "invasion.value_counts()"
     ],
     "language": "python",
     "metadata": {
      "slideshow": {
       "slide_type": "fragment"
      }
     },
     "outputs": [
      {
       "metadata": {},
       "output_type": "pyout",
       "prompt_number": 27,
       "text": [
        "yes        115\n",
        "no         110\n",
        "Missing    102\n",
        "dtype: int64"
       ]
      }
     ],
     "prompt_number": 27
    },
    {
     "cell_type": "code",
     "collapsed": false,
     "input": [
      "get_surv_fit_lr(surv_all, invasion)"
     ],
     "language": "python",
     "metadata": {
      "slideshow": {
       "slide_type": "subslide"
      }
     },
     "outputs": [
      {
       "html": [
        "<div style=\"max-height:1000px;max-width:1500px;overflow:auto;\">\n",
        "<table border=\"1\" class=\"dataframe\">\n",
        "  <thead>\n",
        "    <tr>\n",
        "      <th></th>\n",
        "      <th colspan=\"2\" halign=\"left\">Stats</th>\n",
        "      <th colspan=\"3\" halign=\"left\">Median Survival</th>\n",
        "      <th colspan=\"3\" halign=\"left\">5y Survival</th>\n",
        "      <th colspan=\"2\" halign=\"left\">Log-Rank</th>\n",
        "    </tr>\n",
        "    <tr>\n",
        "      <th></th>\n",
        "      <th># Patients</th>\n",
        "      <th># Events</th>\n",
        "      <th>Median</th>\n",
        "      <th>Lower</th>\n",
        "      <th>Upper</th>\n",
        "      <th>Surv</th>\n",
        "      <th>Lower</th>\n",
        "      <th>Upper</th>\n",
        "      <th>chi2</th>\n",
        "      <th>p</th>\n",
        "    </tr>\n",
        "  </thead>\n",
        "  <tbody>\n",
        "    <tr>\n",
        "      <th></th>\n",
        "      <td>    </td>\n",
        "      <td>   </td>\n",
        "      <td>     </td>\n",
        "      <td>     </td>\n",
        "      <td>     </td>\n",
        "      <td>      </td>\n",
        "      <td>      </td>\n",
        "      <td>      </td>\n",
        "      <td> 6.36</td>\n",
        "      <td> 0.0417</td>\n",
        "    </tr>\n",
        "    <tr>\n",
        "      <th>yes</th>\n",
        "      <td> 115</td>\n",
        "      <td> 56</td>\n",
        "      <td> 2.58</td>\n",
        "      <td> 1.42</td>\n",
        "      <td> 7.04</td>\n",
        "      <td> 0.376</td>\n",
        "      <td> 0.271</td>\n",
        "      <td>  0.52</td>\n",
        "      <td>     </td>\n",
        "      <td>       </td>\n",
        "    </tr>\n",
        "    <tr>\n",
        "      <th>no</th>\n",
        "      <td> 110</td>\n",
        "      <td> 33</td>\n",
        "      <td> 4.82</td>\n",
        "      <td>    4</td>\n",
        "      <td>  NaN</td>\n",
        "      <td> 0.492</td>\n",
        "      <td> 0.332</td>\n",
        "      <td> 0.729</td>\n",
        "      <td>     </td>\n",
        "      <td>       </td>\n",
        "    </tr>\n",
        "    <tr>\n",
        "      <th>Missing</th>\n",
        "      <td> 102</td>\n",
        "      <td> 45</td>\n",
        "      <td> 3.53</td>\n",
        "      <td> 2.16</td>\n",
        "      <td> 5.93</td>\n",
        "      <td>  0.38</td>\n",
        "      <td> 0.263</td>\n",
        "      <td> 0.548</td>\n",
        "      <td>     </td>\n",
        "      <td>       </td>\n",
        "    </tr>\n",
        "  </tbody>\n",
        "</table>\n",
        "</div>"
       ],
       "metadata": {},
       "output_type": "pyout",
       "prompt_number": 28,
       "text": [
        "             Stats          Median Survival             5y Survival               Log-Rank        \n",
        "        # Patients # Events          Median Lower Upper        Surv  Lower  Upper     chi2       p\n",
        "                                                                                      6.36  0.0417\n",
        "yes            115       56            2.58  1.42  7.04       0.376  0.271   0.52                 \n",
        "no             110       33            4.82     4   NaN       0.492  0.332  0.729                 \n",
        "Missing        102       45            3.53  2.16  5.93        0.38  0.263  0.548                 "
       ]
      }
     ],
     "prompt_number": 28
    },
    {
     "cell_type": "code",
     "collapsed": false,
     "input": [
      "survival_and_stats(invasion.dropna(), surv, figsize=(6,4))"
     ],
     "language": "python",
     "metadata": {
      "slideshow": {
       "slide_type": "fragment"
      }
     },
     "outputs": [
      {
       "metadata": {},
       "output_type": "display_data",
       "png": "[encoded data removed]",
       "text": [
        "<matplotlib.figure.Figure at 0xcff4fd0>"
       ]
      }
     ],
     "prompt_number": 29
    },
    {
     "cell_type": "markdown",
     "metadata": {
      "slideshow": {
       "slide_type": "slide"
      }
     },
     "source": [
      "###Extra-Capsular Spread\n",
      "* Determined by pathology \n",
      "* Spread of disease outside of lymph nodes\n",
      "* Only recorded in ~200 patients\n",
      "* Only 1 HPV+ patient has disease spread"
     ]
    },
    {
     "cell_type": "code",
     "collapsed": false,
     "input": [
      "spread = clinical.clinical.presenceofpathologicalnodalextracapsularspread\n",
      "spread = spread.map({'no extranodal extension': 'no', 'microscopic extension':'yes', \n",
      "                     'gross extension':'yes'}).dropna()\n",
      "spread.name = 'spread'\n",
      "spread = spread.ix[keepers_o].dropna()\n",
      "get_surv_fit_lr(surv_all, spread)"
     ],
     "language": "python",
     "metadata": {
      "slideshow": {
       "slide_type": "fragment"
      }
     },
     "outputs": [
      {
       "html": [
        "<div style=\"max-height:1000px;max-width:1500px;overflow:auto;\">\n",
        "<table border=\"1\" class=\"dataframe\">\n",
        "  <thead>\n",
        "    <tr>\n",
        "      <th></th>\n",
        "      <th colspan=\"2\" halign=\"left\">Stats</th>\n",
        "      <th colspan=\"3\" halign=\"left\">Median Survival</th>\n",
        "      <th colspan=\"3\" halign=\"left\">5y Survival</th>\n",
        "      <th colspan=\"2\" halign=\"left\">Log-Rank</th>\n",
        "    </tr>\n",
        "    <tr>\n",
        "      <th></th>\n",
        "      <th># Patients</th>\n",
        "      <th># Events</th>\n",
        "      <th>Median</th>\n",
        "      <th>Lower</th>\n",
        "      <th>Upper</th>\n",
        "      <th>Surv</th>\n",
        "      <th>Lower</th>\n",
        "      <th>Upper</th>\n",
        "      <th>chi2</th>\n",
        "      <th>p</th>\n",
        "    </tr>\n",
        "  </thead>\n",
        "  <tbody>\n",
        "    <tr>\n",
        "      <th></th>\n",
        "      <td>    </td>\n",
        "      <td>   </td>\n",
        "      <td>     </td>\n",
        "      <td>     </td>\n",
        "      <td>     </td>\n",
        "      <td>      </td>\n",
        "      <td>      </td>\n",
        "      <td>      </td>\n",
        "      <td> 9.33</td>\n",
        "      <td> 0.00225</td>\n",
        "    </tr>\n",
        "    <tr>\n",
        "      <th>no</th>\n",
        "      <td> 136</td>\n",
        "      <td> 50</td>\n",
        "      <td> 4.49</td>\n",
        "      <td>  2.7</td>\n",
        "      <td> 7.51</td>\n",
        "      <td> 0.482</td>\n",
        "      <td> 0.367</td>\n",
        "      <td> 0.633</td>\n",
        "      <td>     </td>\n",
        "      <td>        </td>\n",
        "    </tr>\n",
        "    <tr>\n",
        "      <th>yes</th>\n",
        "      <td>  56</td>\n",
        "      <td> 33</td>\n",
        "      <td> 1.35</td>\n",
        "      <td> 1.24</td>\n",
        "      <td> 2.08</td>\n",
        "      <td> 0.267</td>\n",
        "      <td> 0.156</td>\n",
        "      <td> 0.456</td>\n",
        "      <td>     </td>\n",
        "      <td>        </td>\n",
        "    </tr>\n",
        "  </tbody>\n",
        "</table>\n",
        "</div>"
       ],
       "metadata": {},
       "output_type": "pyout",
       "prompt_number": 30,
       "text": [
        "         Stats          Median Survival             5y Survival               Log-Rank         \n",
        "    # Patients # Events          Median Lower Upper        Surv  Lower  Upper     chi2        p\n",
        "                                                                                  9.33  0.00225\n",
        "no         136       50            4.49   2.7  7.51       0.482  0.367  0.633                  \n",
        "yes         56       33            1.35  1.24  2.08       0.267  0.156  0.456                  "
       ]
      }
     ],
     "prompt_number": 30
    },
    {
     "cell_type": "code",
     "collapsed": false,
     "input": [
      "survival_and_stats(spread, surv, figsize=(6,4))"
     ],
     "language": "python",
     "metadata": {
      "slideshow": {
       "slide_type": "fragment"
      }
     },
     "outputs": [
      {
       "metadata": {},
       "output_type": "display_data",
       "png": "[encoded data removed]",
       "text": [
        "<matplotlib.figure.Figure at 0xcfd7b90>"
       ]
      }
     ],
     "prompt_number": 31
    },
    {
     "cell_type": "markdown",
     "metadata": {
      "slideshow": {
       "slide_type": "subslide"
      }
     },
     "source": [
      "###Filling in the Gaps\n",
      "* We know that patients with no lymph nodes can not have extra-capsular spread\n",
      "* Thus we have three groups:  \n",
      "    1. Patients with no lymph nodes       \n",
      "    2. Patients with at least one lymph node, but no extra capsular spread      \n",
      "    3. Patients with extra capular spread at a lymph node"
     ]
    },
    {
     "cell_type": "code",
     "collapsed": false,
     "input": [
      "lymph = lymph_stage.ix[keepers_o] != 'n0'\n",
      "lymph_status = combine(lymph, spread.ix[keepers_o]=='yes')\n",
      "lymph_status = lymph_status.map({'neither': 'n0', lymph.name: 'lymph_node', 'both': 'extra_capsular_spread'})\n",
      "get_surv_fit_lr(surv_all, lymph_status)"
     ],
     "language": "python",
     "metadata": {
      "slideshow": {
       "slide_type": "fragment"
      }
     },
     "outputs": [
      {
       "html": [
        "<div style=\"max-height:1000px;max-width:1500px;overflow:auto;\">\n",
        "<table border=\"1\" class=\"dataframe\">\n",
        "  <thead>\n",
        "    <tr>\n",
        "      <th></th>\n",
        "      <th colspan=\"2\" halign=\"left\">Stats</th>\n",
        "      <th colspan=\"3\" halign=\"left\">Median Survival</th>\n",
        "      <th colspan=\"3\" halign=\"left\">5y Survival</th>\n",
        "      <th colspan=\"2\" halign=\"left\">Log-Rank</th>\n",
        "    </tr>\n",
        "    <tr>\n",
        "      <th></th>\n",
        "      <th># Patients</th>\n",
        "      <th># Events</th>\n",
        "      <th>Median</th>\n",
        "      <th>Lower</th>\n",
        "      <th>Upper</th>\n",
        "      <th>Surv</th>\n",
        "      <th>Lower</th>\n",
        "      <th>Upper</th>\n",
        "      <th>chi2</th>\n",
        "      <th>p</th>\n",
        "    </tr>\n",
        "  </thead>\n",
        "  <tbody>\n",
        "    <tr>\n",
        "      <th></th>\n",
        "      <td>    </td>\n",
        "      <td>   </td>\n",
        "      <td>     </td>\n",
        "      <td>     </td>\n",
        "      <td>     </td>\n",
        "      <td>      </td>\n",
        "      <td>      </td>\n",
        "      <td>      </td>\n",
        "      <td> 9.27</td>\n",
        "      <td> 0.00971</td>\n",
        "    </tr>\n",
        "    <tr>\n",
        "      <th>lymph_node</th>\n",
        "      <td> 160</td>\n",
        "      <td> 65</td>\n",
        "      <td> 3.53</td>\n",
        "      <td> 2.25</td>\n",
        "      <td> 5.48</td>\n",
        "      <td> 0.378</td>\n",
        "      <td> 0.273</td>\n",
        "      <td> 0.524</td>\n",
        "      <td>     </td>\n",
        "      <td>        </td>\n",
        "    </tr>\n",
        "    <tr>\n",
        "      <th>n0</th>\n",
        "      <td>  97</td>\n",
        "      <td> 30</td>\n",
        "      <td> 7.04</td>\n",
        "      <td> 4.49</td>\n",
        "      <td>  NaN</td>\n",
        "      <td> 0.552</td>\n",
        "      <td> 0.407</td>\n",
        "      <td> 0.748</td>\n",
        "      <td>     </td>\n",
        "      <td>        </td>\n",
        "    </tr>\n",
        "    <tr>\n",
        "      <th>extra_capsular_spread</th>\n",
        "      <td>  56</td>\n",
        "      <td> 33</td>\n",
        "      <td> 1.35</td>\n",
        "      <td> 1.24</td>\n",
        "      <td> 2.08</td>\n",
        "      <td> 0.267</td>\n",
        "      <td> 0.156</td>\n",
        "      <td> 0.456</td>\n",
        "      <td>     </td>\n",
        "      <td>        </td>\n",
        "    </tr>\n",
        "  </tbody>\n",
        "</table>\n",
        "</div>"
       ],
       "metadata": {},
       "output_type": "pyout",
       "prompt_number": 32,
       "text": [
        "                           Stats          Median Survival             5y Survival               Log-Rank         \n",
        "                      # Patients # Events          Median Lower Upper        Surv  Lower  Upper     chi2        p\n",
        "                                                                                                    9.27  0.00971\n",
        "lymph_node                   160       65            3.53  2.25  5.48       0.378  0.273  0.524                  \n",
        "n0                            97       30            7.04  4.49   NaN       0.552  0.407  0.748                  \n",
        "extra_capsular_spread         56       33            1.35  1.24  2.08       0.267  0.156  0.456                  "
       ]
      }
     ],
     "prompt_number": 32
    },
    {
     "cell_type": "code",
     "collapsed": false,
     "input": [
      "survival_and_stats(lymph_status, surv, figsize=(6,4))"
     ],
     "language": "python",
     "metadata": {
      "slideshow": {
       "slide_type": "fragment"
      }
     },
     "outputs": [
      {
       "metadata": {},
       "output_type": "display_data",
       "png": "[encoded data removed]",
       "text": [
        "<matplotlib.figure.Figure at 0x8329d90>"
       ]
      }
     ],
     "prompt_number": 33
    },
    {
     "cell_type": "markdown",
     "metadata": {
      "slideshow": {
       "slide_type": "subslide"
      }
     },
     "source": [
      "* Grouping the first two groups..."
     ]
    },
    {
     "cell_type": "code",
     "collapsed": false,
     "input": [
      "lymph = lymph_stage.ix[keepers_o] != 'n0'\n",
      "lymph_status = combine(lymph, spread.ix[keepers_o]=='yes')\n",
      "lymph_status = lymph_status.map({'neither': 'n0', lymph.name: 'lymph_node', 'both': 'extra_capsular_spread'})\n",
      "lymph_status = (lymph_status == 'extra_capsular_spread').astype(float)"
     ],
     "language": "python",
     "metadata": {
      "slideshow": {
       "slide_type": "fragment"
      }
     },
     "outputs": [],
     "prompt_number": 34
    },
    {
     "cell_type": "code",
     "collapsed": false,
     "input": [
      "get_surv_fit_lr(surv_all, lymph_status)"
     ],
     "language": "python",
     "metadata": {
      "slideshow": {
       "slide_type": "fragment"
      }
     },
     "outputs": [
      {
       "html": [
        "<div style=\"max-height:1000px;max-width:1500px;overflow:auto;\">\n",
        "<table border=\"1\" class=\"dataframe\">\n",
        "  <thead>\n",
        "    <tr>\n",
        "      <th></th>\n",
        "      <th colspan=\"2\" halign=\"left\">Stats</th>\n",
        "      <th colspan=\"3\" halign=\"left\">Median Survival</th>\n",
        "      <th colspan=\"3\" halign=\"left\">5y Survival</th>\n",
        "      <th colspan=\"2\" halign=\"left\">Log-Rank</th>\n",
        "    </tr>\n",
        "    <tr>\n",
        "      <th></th>\n",
        "      <th># Patients</th>\n",
        "      <th># Events</th>\n",
        "      <th>Median</th>\n",
        "      <th>Lower</th>\n",
        "      <th>Upper</th>\n",
        "      <th>Surv</th>\n",
        "      <th>Lower</th>\n",
        "      <th>Upper</th>\n",
        "      <th>chi2</th>\n",
        "      <th>p</th>\n",
        "    </tr>\n",
        "  </thead>\n",
        "  <tbody>\n",
        "    <tr>\n",
        "      <th></th>\n",
        "      <td>    </td>\n",
        "      <td>   </td>\n",
        "      <td>     </td>\n",
        "      <td>     </td>\n",
        "      <td>     </td>\n",
        "      <td>      </td>\n",
        "      <td>      </td>\n",
        "      <td>      </td>\n",
        "      <td> 6.96</td>\n",
        "      <td> 0.00833</td>\n",
        "    </tr>\n",
        "    <tr>\n",
        "      <th>0</th>\n",
        "      <td> 257</td>\n",
        "      <td> 95</td>\n",
        "      <td> 4.36</td>\n",
        "      <td>  2.7</td>\n",
        "      <td> 5.93</td>\n",
        "      <td> 0.435</td>\n",
        "      <td> 0.343</td>\n",
        "      <td>  0.55</td>\n",
        "      <td>     </td>\n",
        "      <td>        </td>\n",
        "    </tr>\n",
        "    <tr>\n",
        "      <th>1</th>\n",
        "      <td>  56</td>\n",
        "      <td> 33</td>\n",
        "      <td> 1.35</td>\n",
        "      <td> 1.24</td>\n",
        "      <td> 2.08</td>\n",
        "      <td> 0.267</td>\n",
        "      <td> 0.156</td>\n",
        "      <td> 0.456</td>\n",
        "      <td>     </td>\n",
        "      <td>        </td>\n",
        "    </tr>\n",
        "  </tbody>\n",
        "</table>\n",
        "</div>"
       ],
       "metadata": {},
       "output_type": "pyout",
       "prompt_number": 35,
       "text": [
        "       Stats          Median Survival             5y Survival               Log-Rank         \n",
        "  # Patients # Events          Median Lower Upper        Surv  Lower  Upper     chi2        p\n",
        "                                                                                6.96  0.00833\n",
        "0        257       95            4.36   2.7  5.93       0.435  0.343   0.55                  \n",
        "1         56       33            1.35  1.24  2.08       0.267  0.156  0.456                  "
       ]
      }
     ],
     "prompt_number": 35
    },
    {
     "cell_type": "code",
     "collapsed": false,
     "input": [
      "survival_and_stats(lymph_status, surv, figsize=(6,4))"
     ],
     "language": "python",
     "metadata": {
      "slideshow": {
       "slide_type": "fragment"
      }
     },
     "outputs": [
      {
       "metadata": {},
       "output_type": "display_data",
       "png": "[encoded data removed]",
       "text": [
        "<matplotlib.figure.Figure at 0x6a45b90>"
       ]
      }
     ],
     "prompt_number": 36
    },
    {
     "cell_type": "markdown",
     "metadata": {
      "slideshow": {
       "slide_type": "slide"
      }
     },
     "source": [
      "###What if we try to predict extra-capsular spread for patietns without pathology? \n",
      "* We have ~200 with this feature, and this results in broad expression changes. \n",
      "* Strategy: \n",
      "    * Find genes that are turned on or off in the presence of extra-capsular spread\n",
      "    * Fit a model to these genes\n",
      "    * Infer status of unknown genes"
     ]
    },
    {
     "cell_type": "markdown",
     "metadata": {
      "slideshow": {
       "slide_type": "subslide"
      }
     },
     "source": [
      "####Find genes that are turned on or off in the presence of extra-capsular spread"
     ]
    },
    {
     "cell_type": "code",
     "collapsed": false,
     "input": [
      "diff = screen_feature(spread, fisher_exact_test, rna.features.ix['binary'])\n",
      "dd = diff[diff.p < .01]\n",
      "dd.head()"
     ],
     "language": "python",
     "metadata": {
      "slideshow": {
       "slide_type": "fragment"
      }
     },
     "outputs": [
      {
       "html": [
        "<div style=\"max-height:1000px;max-width:1500px;overflow:auto;\">\n",
        "<table border=\"1\" class=\"dataframe\">\n",
        "  <thead>\n",
        "    <tr style=\"text-align: right;\">\n",
        "      <th></th>\n",
        "      <th>odds_ratio</th>\n",
        "      <th>p</th>\n",
        "      <th>q</th>\n",
        "    </tr>\n",
        "  </thead>\n",
        "  <tbody>\n",
        "    <tr>\n",
        "      <th>HTR3B</th>\n",
        "      <td> 0.23</td>\n",
        "      <td> 4.10e-04</td>\n",
        "      <td> 0.5</td>\n",
        "    </tr>\n",
        "    <tr>\n",
        "      <th>TSG1</th>\n",
        "      <td> 5.29</td>\n",
        "      <td> 6.71e-04</td>\n",
        "      <td> 0.5</td>\n",
        "    </tr>\n",
        "    <tr>\n",
        "      <th>ESX1</th>\n",
        "      <td> 8.39</td>\n",
        "      <td> 1.04e-03</td>\n",
        "      <td> 0.5</td>\n",
        "    </tr>\n",
        "    <tr>\n",
        "      <th>COL20A1</th>\n",
        "      <td> 4.16</td>\n",
        "      <td> 1.67e-03</td>\n",
        "      <td> 0.5</td>\n",
        "    </tr>\n",
        "    <tr>\n",
        "      <th>KLHL33</th>\n",
        "      <td> 2.92</td>\n",
        "      <td> 1.85e-03</td>\n",
        "      <td> 0.5</td>\n",
        "    </tr>\n",
        "  </tbody>\n",
        "</table>\n",
        "</div>"
       ],
       "metadata": {},
       "output_type": "pyout",
       "prompt_number": 38,
       "text": [
        "         odds_ratio         p    q\n",
        "HTR3B          0.23  4.10e-04  0.5\n",
        "TSG1           5.29  6.71e-04  0.5\n",
        "ESX1           8.39  1.04e-03  0.5\n",
        "COL20A1        4.16  1.67e-03  0.5\n",
        "KLHL33         2.92  1.85e-03  0.5"
       ]
      }
     ],
     "prompt_number": 38
    },
    {
     "cell_type": "markdown",
     "metadata": {
      "slideshow": {
       "slide_type": "subslide"
      }
     },
     "source": [
      "####Fit a model to these genes"
     ]
    },
    {
     "cell_type": "code",
     "collapsed": false,
     "input": [
      "vec = (2.*(dd.odds_ratio > 1) - 1)\n",
      "loading = vec.dot(1.*(rna.df.xs('01',1,1).ix[vec.index] > -1))\n",
      "violin_plot_pandas(spread, loading)"
     ],
     "language": "python",
     "metadata": {
      "slideshow": {
       "slide_type": "fragment"
      }
     },
     "outputs": [
      {
       "metadata": {},
       "output_type": "display_data",
       "png": "[encoded data removed]",
       "text": [
        "<matplotlib.figure.Figure at 0xe094fd0>"
       ]
      }
     ],
     "prompt_number": 39
    },
    {
     "cell_type": "code",
     "collapsed": false,
     "input": [
      "ratio = loading.groupby(spread).apply(pd.value_counts).unstack().fillna(0)\n",
      "prob = ratio.T.cumsum() / ratio.sum(1)\n",
      "(prob.yes / prob.no).plot(kind='bar')\n",
      "plt.gca().axhline(y=.5, ls='--', lw=4, color='black')"
     ],
     "language": "python",
     "metadata": {
      "slideshow": {
       "slide_type": "fragment"
      }
     },
     "outputs": [
      {
       "metadata": {},
       "output_type": "pyout",
       "prompt_number": 41,
       "text": [
        "<matplotlib.lines.Line2D at 0xef56ed0>"
       ]
      },
      {
       "metadata": {},
       "output_type": "display_data",
       "png": "[encoded data removed]",
       "text": [
        "<matplotlib.figure.Figure at 0x7f919b496ad0>"
       ]
      }
     ],
     "prompt_number": 41
    },
    {
     "cell_type": "markdown",
     "metadata": {
      "slideshow": {
       "slide_type": "subslide"
      }
     },
     "source": [
      "####Infer status of unknown genes"
     ]
    },
    {
     "cell_type": "code",
     "collapsed": false,
     "input": [
      "f = spread.copy() == 'yes'\n",
      "f = f.ix[loading.index]\n",
      "f[f.isnull()] = loading[f.isnull()] >= 8\n",
      "spread_inferred = f\n",
      "spread_inferred = spread_inferred.ix[keepers_o].fillna(False).astype(float)"
     ],
     "language": "python",
     "metadata": {
      "slideshow": {
       "slide_type": "fragment"
      }
     },
     "outputs": [],
     "prompt_number": 42
    },
    {
     "cell_type": "code",
     "collapsed": false,
     "input": [
      "get_surv_fit_lr(surv_all, spread_inferred)"
     ],
     "language": "python",
     "metadata": {
      "slideshow": {
       "slide_type": "fragment"
      }
     },
     "outputs": [
      {
       "html": [
        "<div style=\"max-height:1000px;max-width:1500px;overflow:auto;\">\n",
        "<table border=\"1\" class=\"dataframe\">\n",
        "  <thead>\n",
        "    <tr>\n",
        "      <th></th>\n",
        "      <th colspan=\"2\" halign=\"left\">Stats</th>\n",
        "      <th colspan=\"3\" halign=\"left\">Median Survival</th>\n",
        "      <th colspan=\"3\" halign=\"left\">5y Survival</th>\n",
        "      <th colspan=\"2\" halign=\"left\">Log-Rank</th>\n",
        "    </tr>\n",
        "    <tr>\n",
        "      <th></th>\n",
        "      <th># Patients</th>\n",
        "      <th># Events</th>\n",
        "      <th>Median</th>\n",
        "      <th>Lower</th>\n",
        "      <th>Upper</th>\n",
        "      <th>Surv</th>\n",
        "      <th>Lower</th>\n",
        "      <th>Upper</th>\n",
        "      <th>chi2</th>\n",
        "      <th>p</th>\n",
        "    </tr>\n",
        "  </thead>\n",
        "  <tbody>\n",
        "    <tr>\n",
        "      <th></th>\n",
        "      <td>    </td>\n",
        "      <td>   </td>\n",
        "      <td>     </td>\n",
        "      <td>     </td>\n",
        "      <td>     </td>\n",
        "      <td>      </td>\n",
        "      <td>      </td>\n",
        "      <td>      </td>\n",
        "      <td> 15.5</td>\n",
        "      <td> 8.4e-05</td>\n",
        "    </tr>\n",
        "    <tr>\n",
        "      <th>0</th>\n",
        "      <td> 248</td>\n",
        "      <td> 86</td>\n",
        "      <td> 4.58</td>\n",
        "      <td> 2.99</td>\n",
        "      <td> 6.35</td>\n",
        "      <td> 0.458</td>\n",
        "      <td> 0.363</td>\n",
        "      <td> 0.578</td>\n",
        "      <td>     </td>\n",
        "      <td>        </td>\n",
        "    </tr>\n",
        "    <tr>\n",
        "      <th>1</th>\n",
        "      <td>  65</td>\n",
        "      <td> 42</td>\n",
        "      <td> 1.35</td>\n",
        "      <td> 1.25</td>\n",
        "      <td> 1.71</td>\n",
        "      <td>  0.22</td>\n",
        "      <td> 0.126</td>\n",
        "      <td> 0.383</td>\n",
        "      <td>     </td>\n",
        "      <td>        </td>\n",
        "    </tr>\n",
        "  </tbody>\n",
        "</table>\n",
        "</div>"
       ],
       "metadata": {},
       "output_type": "pyout",
       "prompt_number": 43,
       "text": [
        "       Stats          Median Survival             5y Survival               Log-Rank         \n",
        "  # Patients # Events          Median Lower Upper        Surv  Lower  Upper     chi2        p\n",
        "                                                                                15.5  8.4e-05\n",
        "0        248       86            4.58  2.99  6.35       0.458  0.363  0.578                  \n",
        "1         65       42            1.35  1.25  1.71        0.22  0.126  0.383                  "
       ]
      }
     ],
     "prompt_number": 43
    },
    {
     "cell_type": "code",
     "collapsed": false,
     "input": [
      "survival_and_stats(spread_inferred, surv, figsize=(6,4))"
     ],
     "language": "python",
     "metadata": {
      "slideshow": {
       "slide_type": "fragment"
      }
     },
     "outputs": [
      {
       "metadata": {},
       "output_type": "display_data",
       "png": "[encoded data removed]",
       "text": [
        "<matplotlib.figure.Figure at 0x78cc090>"
       ]
      }
     ],
     "prompt_number": 44
    },
    {
     "cell_type": "markdown",
     "metadata": {
      "slideshow": {
       "slide_type": "slide"
      }
     },
     "source": [
      "###Year of pathological diagnosis\n",
      "* Not much we can do about this but it is a relatively large effect \n",
      "* Likely some sort of collection bias for older samples that were banked"
     ]
    },
    {
     "cell_type": "code",
     "collapsed": false,
     "input": [
      "y = clinical.clinical.yearofinitialpathologicdiagnosis\n",
      "y = y.replace('[Discrepancy]', nan).astype(float)"
     ],
     "language": "python",
     "metadata": {
      "slideshow": {
       "slide_type": "fragment"
      }
     },
     "outputs": [],
     "prompt_number": 45
    },
    {
     "cell_type": "code",
     "collapsed": false,
     "input": [
      "fig, axs = subplots(1,2, figsize=(10,4))\n",
      "aa = pd.DataFrame({x: log_rank(y.isin(range(x-5, x+5)), surv) for x in range(1950,2020)}).T\n",
      "aa.dropna().chi2.plot(ax=axs[0], marker='o', ls='--')\n",
      "axs[0].set_ylabel('Chi2')\n",
      "axs[0].set_xlabel('Pack Years Bin')\n",
      "draw_survival_curve((y >= 1999).map({False: 'Before 1999', True: 'After 1999'}), surv, ax=axs[1])"
     ],
     "language": "python",
     "metadata": {
      "slideshow": {
       "slide_type": "fragment"
      }
     },
     "outputs": [
      {
       "metadata": {},
       "output_type": "display_data",
       "png": "[encoded data removed]",
       "text": [
        "<matplotlib.figure.Figure at 0x7a64d50>"
       ]
      }
     ],
     "prompt_number": 46
    },
    {
     "cell_type": "code",
     "collapsed": false,
     "input": [
      "year = (y.ix[age.index] < 1999).map({True: 'Before 1999', False: 'After 1999'})\n",
      "t = get_surv_fit(surv_all, year)\n",
      "survival_stat_plot(t.sort_index(ascending=False))\n",
      "get_surv_fit_lr(surv_all, year)"
     ],
     "language": "python",
     "metadata": {
      "slideshow": {
       "slide_type": "fragment"
      }
     },
     "outputs": [
      {
       "html": [
        "<div style=\"max-height:1000px;max-width:1500px;overflow:auto;\">\n",
        "<table border=\"1\" class=\"dataframe\">\n",
        "  <thead>\n",
        "    <tr>\n",
        "      <th></th>\n",
        "      <th colspan=\"2\" halign=\"left\">Stats</th>\n",
        "      <th colspan=\"3\" halign=\"left\">Median Survival</th>\n",
        "      <th colspan=\"3\" halign=\"left\">5y Survival</th>\n",
        "      <th colspan=\"2\" halign=\"left\">Log-Rank</th>\n",
        "    </tr>\n",
        "    <tr>\n",
        "      <th></th>\n",
        "      <th># Patients</th>\n",
        "      <th># Events</th>\n",
        "      <th>Median</th>\n",
        "      <th>Lower</th>\n",
        "      <th>Upper</th>\n",
        "      <th>Surv</th>\n",
        "      <th>Lower</th>\n",
        "      <th>Upper</th>\n",
        "      <th>chi2</th>\n",
        "      <th>p</th>\n",
        "    </tr>\n",
        "  </thead>\n",
        "  <tbody>\n",
        "    <tr>\n",
        "      <th></th>\n",
        "      <td>    </td>\n",
        "      <td>   </td>\n",
        "      <td>     </td>\n",
        "      <td>     </td>\n",
        "      <td>     </td>\n",
        "      <td>      </td>\n",
        "      <td>       </td>\n",
        "      <td>      </td>\n",
        "      <td> 20.3</td>\n",
        "      <td> 6.58e-06</td>\n",
        "    </tr>\n",
        "    <tr>\n",
        "      <th>After 1999</th>\n",
        "      <td> 308</td>\n",
        "      <td> 96</td>\n",
        "      <td> 4.82</td>\n",
        "      <td> 4.36</td>\n",
        "      <td>  NaN</td>\n",
        "      <td> 0.493</td>\n",
        "      <td>  0.404</td>\n",
        "      <td> 0.602</td>\n",
        "      <td>     </td>\n",
        "      <td>         </td>\n",
        "    </tr>\n",
        "    <tr>\n",
        "      <th>Before 1999</th>\n",
        "      <td>  40</td>\n",
        "      <td> 40</td>\n",
        "      <td>  1.7</td>\n",
        "      <td> 1.25</td>\n",
        "      <td> 2.96</td>\n",
        "      <td> 0.175</td>\n",
        "      <td> 0.0893</td>\n",
        "      <td> 0.343</td>\n",
        "      <td>     </td>\n",
        "      <td>         </td>\n",
        "    </tr>\n",
        "  </tbody>\n",
        "</table>\n",
        "</div>"
       ],
       "metadata": {},
       "output_type": "pyout",
       "prompt_number": 47,
       "text": [
        "                 Stats          Median Survival             5y Survival                Log-Rank          \n",
        "            # Patients # Events          Median Lower Upper        Surv   Lower  Upper     chi2         p\n",
        "                                                                                           20.3  6.58e-06\n",
        "After 1999         308       96            4.82  4.36   NaN       0.493   0.404  0.602                   \n",
        "Before 1999         40       40             1.7  1.25  2.96       0.175  0.0893  0.343                   "
       ]
      },
      {
       "metadata": {},
       "output_type": "display_data",
       "png": "[encoded data removed]",
       "text": [
        "<matplotlib.figure.Figure at 0xe0b4490>"
       ]
      }
     ],
     "prompt_number": 47
    },
    {
     "cell_type": "markdown",
     "metadata": {
      "slideshow": {
       "slide_type": "slide"
      }
     },
     "source": [
      "###Final Clinical Table \n",
      "* HPV - Patients"
     ]
    },
    {
     "cell_type": "code",
     "collapsed": false,
     "input": [
      "clin = pd.concat([stage, lymph_stage, hpv, spread, spread_inferred, invasion, tumor_subdivision, old_age, year], 1,\n",
      "                  keys=['stage', 'lymph_stage', 'hpv', 'spread', 'spread_inferred', 'invasion', \n",
      "                        'tumor_subdivision', 'old_age', 'year'])"
     ],
     "language": "python",
     "metadata": {},
     "outputs": [],
     "prompt_number": 48
    },
    {
     "cell_type": "code",
     "collapsed": false,
     "input": [
      "t = pd.concat([get_surv_fit_lr(surv_all, f.ix[keepers_o]) for f in \n",
      "               [stage, spread_inferred, invasion, tumor_subdivision, old_age, year]], \n",
      "               keys=['Stage', 'Lymph Status', 'Perineural Invasion', \n",
      "                     'Subdivision', 'Age', 'Year of Surgery'])\n",
      "t"
     ],
     "language": "python",
     "metadata": {
      "slideshow": {
       "slide_type": "fragment"
      }
     },
     "outputs": [
      {
       "html": [
        "<div style=\"max-height:1000px;max-width:1500px;overflow:auto;\">\n",
        "<table border=\"1\" class=\"dataframe\">\n",
        "  <thead>\n",
        "    <tr>\n",
        "      <th></th>\n",
        "      <th></th>\n",
        "      <th colspan=\"2\" halign=\"left\">Stats</th>\n",
        "      <th colspan=\"3\" halign=\"left\">Median Survival</th>\n",
        "      <th colspan=\"3\" halign=\"left\">5y Survival</th>\n",
        "      <th colspan=\"2\" halign=\"left\">Log-Rank</th>\n",
        "    </tr>\n",
        "    <tr>\n",
        "      <th></th>\n",
        "      <th></th>\n",
        "      <th># Patients</th>\n",
        "      <th># Events</th>\n",
        "      <th>Median</th>\n",
        "      <th>Lower</th>\n",
        "      <th>Upper</th>\n",
        "      <th>Surv</th>\n",
        "      <th>Lower</th>\n",
        "      <th>Upper</th>\n",
        "      <th>chi2</th>\n",
        "      <th>p</th>\n",
        "    </tr>\n",
        "  </thead>\n",
        "  <tbody>\n",
        "    <tr>\n",
        "      <th rowspan=\"6\" valign=\"top\">Stage</th>\n",
        "      <th></th>\n",
        "      <td>    </td>\n",
        "      <td>    </td>\n",
        "      <td>     </td>\n",
        "      <td>      </td>\n",
        "      <td>     </td>\n",
        "      <td>       </td>\n",
        "      <td>       </td>\n",
        "      <td>      </td>\n",
        "      <td>   5.28</td>\n",
        "      <td>     0.26</td>\n",
        "    </tr>\n",
        "    <tr>\n",
        "      <th>stge iv</th>\n",
        "      <td> 150</td>\n",
        "      <td>  70</td>\n",
        "      <td>  2.5</td>\n",
        "      <td>  1.64</td>\n",
        "      <td>  5.4</td>\n",
        "      <td>  0.372</td>\n",
        "      <td>  0.272</td>\n",
        "      <td> 0.508</td>\n",
        "      <td>       </td>\n",
        "      <td>         </td>\n",
        "    </tr>\n",
        "    <tr>\n",
        "      <th>nx</th>\n",
        "      <td>  56</td>\n",
        "      <td>  15</td>\n",
        "      <td> 2.58</td>\n",
        "      <td>  1.31</td>\n",
        "      <td>  NaN</td>\n",
        "      <td>    NaN</td>\n",
        "      <td>    NaN</td>\n",
        "      <td>   NaN</td>\n",
        "      <td>       </td>\n",
        "      <td>         </td>\n",
        "    </tr>\n",
        "    <tr>\n",
        "      <th>stge ii</th>\n",
        "      <td>  47</td>\n",
        "      <td>  21</td>\n",
        "      <td>    4</td>\n",
        "      <td>  1.71</td>\n",
        "      <td>  NaN</td>\n",
        "      <td>  0.454</td>\n",
        "      <td>  0.297</td>\n",
        "      <td> 0.694</td>\n",
        "      <td>       </td>\n",
        "      <td>         </td>\n",
        "    </tr>\n",
        "    <tr>\n",
        "      <th>stge iii</th>\n",
        "      <td>  42</td>\n",
        "      <td>  19</td>\n",
        "      <td> 4.49</td>\n",
        "      <td>   2.2</td>\n",
        "      <td>  NaN</td>\n",
        "      <td>  0.386</td>\n",
        "      <td>  0.217</td>\n",
        "      <td> 0.688</td>\n",
        "      <td>       </td>\n",
        "      <td>         </td>\n",
        "    </tr>\n",
        "    <tr>\n",
        "      <th>stge i</th>\n",
        "      <td>  18</td>\n",
        "      <td>   3</td>\n",
        "      <td>  NaN</td>\n",
        "      <td>   NaN</td>\n",
        "      <td>  NaN</td>\n",
        "      <td>  0.735</td>\n",
        "      <td>  0.513</td>\n",
        "      <td>     1</td>\n",
        "      <td>       </td>\n",
        "      <td>         </td>\n",
        "    </tr>\n",
        "    <tr>\n",
        "      <th rowspan=\"3\" valign=\"top\">Lymph Status</th>\n",
        "      <th></th>\n",
        "      <td>    </td>\n",
        "      <td>    </td>\n",
        "      <td>     </td>\n",
        "      <td>      </td>\n",
        "      <td>     </td>\n",
        "      <td>       </td>\n",
        "      <td>       </td>\n",
        "      <td>      </td>\n",
        "      <td>   15.5</td>\n",
        "      <td>  8.4e-05</td>\n",
        "    </tr>\n",
        "    <tr>\n",
        "      <th>0</th>\n",
        "      <td> 248</td>\n",
        "      <td>  86</td>\n",
        "      <td> 4.58</td>\n",
        "      <td>  2.99</td>\n",
        "      <td> 6.35</td>\n",
        "      <td>  0.458</td>\n",
        "      <td>  0.363</td>\n",
        "      <td> 0.578</td>\n",
        "      <td>       </td>\n",
        "      <td>         </td>\n",
        "    </tr>\n",
        "    <tr>\n",
        "      <th>1</th>\n",
        "      <td>  65</td>\n",
        "      <td>  42</td>\n",
        "      <td> 1.35</td>\n",
        "      <td>  1.25</td>\n",
        "      <td> 1.71</td>\n",
        "      <td>   0.22</td>\n",
        "      <td>  0.126</td>\n",
        "      <td> 0.383</td>\n",
        "      <td>       </td>\n",
        "      <td>         </td>\n",
        "    </tr>\n",
        "    <tr>\n",
        "      <th rowspan=\"4\" valign=\"top\">Perineural Invasion</th>\n",
        "      <th></th>\n",
        "      <td>    </td>\n",
        "      <td>    </td>\n",
        "      <td>     </td>\n",
        "      <td>      </td>\n",
        "      <td>     </td>\n",
        "      <td>       </td>\n",
        "      <td>       </td>\n",
        "      <td>      </td>\n",
        "      <td>   8.03</td>\n",
        "      <td>   0.0453</td>\n",
        "    </tr>\n",
        "    <tr>\n",
        "      <th>yes</th>\n",
        "      <td> 112</td>\n",
        "      <td>  55</td>\n",
        "      <td> 2.54</td>\n",
        "      <td>  1.42</td>\n",
        "      <td> 7.51</td>\n",
        "      <td>  0.381</td>\n",
        "      <td>  0.277</td>\n",
        "      <td> 0.525</td>\n",
        "      <td>       </td>\n",
        "      <td>         </td>\n",
        "    </tr>\n",
        "    <tr>\n",
        "      <th>no</th>\n",
        "      <td> 101</td>\n",
        "      <td>  29</td>\n",
        "      <td> 5.48</td>\n",
        "      <td>     4</td>\n",
        "      <td>  NaN</td>\n",
        "      <td>  0.576</td>\n",
        "      <td>  0.438</td>\n",
        "      <td> 0.757</td>\n",
        "      <td>       </td>\n",
        "      <td>         </td>\n",
        "    </tr>\n",
        "    <tr>\n",
        "      <th>Missing</th>\n",
        "      <td>  79</td>\n",
        "      <td>  42</td>\n",
        "      <td> 2.16</td>\n",
        "      <td>  1.64</td>\n",
        "      <td> 4.71</td>\n",
        "      <td>  0.289</td>\n",
        "      <td>  0.177</td>\n",
        "      <td> 0.472</td>\n",
        "      <td>       </td>\n",
        "      <td>         </td>\n",
        "    </tr>\n",
        "    <tr>\n",
        "      <th rowspan=\"4\" valign=\"top\">Subdivision</th>\n",
        "      <th></th>\n",
        "      <td>    </td>\n",
        "      <td>    </td>\n",
        "      <td>     </td>\n",
        "      <td>      </td>\n",
        "      <td>     </td>\n",
        "      <td>       </td>\n",
        "      <td>       </td>\n",
        "      <td>      </td>\n",
        "      <td> 0.0976</td>\n",
        "      <td>    0.992</td>\n",
        "    </tr>\n",
        "    <tr>\n",
        "      <th>oral cavity</th>\n",
        "      <td> 188</td>\n",
        "      <td>  85</td>\n",
        "      <td> 3.53</td>\n",
        "      <td>  2.36</td>\n",
        "      <td> 5.48</td>\n",
        "      <td>  0.375</td>\n",
        "      <td>  0.278</td>\n",
        "      <td> 0.508</td>\n",
        "      <td>       </td>\n",
        "      <td>         </td>\n",
        "    </tr>\n",
        "    <tr>\n",
        "      <th>larynx</th>\n",
        "      <td>  80</td>\n",
        "      <td>  34</td>\n",
        "      <td> 2.25</td>\n",
        "      <td>  1.64</td>\n",
        "      <td> 9.08</td>\n",
        "      <td>   0.44</td>\n",
        "      <td>  0.317</td>\n",
        "      <td> 0.611</td>\n",
        "      <td>       </td>\n",
        "      <td>         </td>\n",
        "    </tr>\n",
        "    <tr>\n",
        "      <th>oropharynx</th>\n",
        "      <td>  21</td>\n",
        "      <td>   6</td>\n",
        "      <td> 1.65</td>\n",
        "      <td>  1.43</td>\n",
        "      <td>  NaN</td>\n",
        "      <td>    NaN</td>\n",
        "      <td>    NaN</td>\n",
        "      <td>   NaN</td>\n",
        "      <td>       </td>\n",
        "      <td>         </td>\n",
        "    </tr>\n",
        "    <tr>\n",
        "      <th rowspan=\"3\" valign=\"top\">Age</th>\n",
        "      <th></th>\n",
        "      <td>    </td>\n",
        "      <td>    </td>\n",
        "      <td>     </td>\n",
        "      <td>      </td>\n",
        "      <td>     </td>\n",
        "      <td>       </td>\n",
        "      <td>       </td>\n",
        "      <td>      </td>\n",
        "      <td>   13.3</td>\n",
        "      <td> 0.000266</td>\n",
        "    </tr>\n",
        "    <tr>\n",
        "      <th>Age &lt; 75</th>\n",
        "      <td> 271</td>\n",
        "      <td> 101</td>\n",
        "      <td> 4.36</td>\n",
        "      <td>  2.54</td>\n",
        "      <td> 7.44</td>\n",
        "      <td>  0.466</td>\n",
        "      <td>  0.385</td>\n",
        "      <td> 0.564</td>\n",
        "      <td>       </td>\n",
        "      <td>         </td>\n",
        "    </tr>\n",
        "    <tr>\n",
        "      <th>Age &gt; 75</th>\n",
        "      <td>  42</td>\n",
        "      <td>  27</td>\n",
        "      <td> 1.57</td>\n",
        "      <td> 0.868</td>\n",
        "      <td>  NaN</td>\n",
        "      <td> 0.0992</td>\n",
        "      <td> 0.0178</td>\n",
        "      <td> 0.553</td>\n",
        "      <td>       </td>\n",
        "      <td>         </td>\n",
        "    </tr>\n",
        "    <tr>\n",
        "      <th rowspan=\"3\" valign=\"top\">Year of Surgery</th>\n",
        "      <th></th>\n",
        "      <td>    </td>\n",
        "      <td>    </td>\n",
        "      <td>     </td>\n",
        "      <td>      </td>\n",
        "      <td>     </td>\n",
        "      <td>       </td>\n",
        "      <td>       </td>\n",
        "      <td>      </td>\n",
        "      <td>   15.3</td>\n",
        "      <td> 8.97e-05</td>\n",
        "    </tr>\n",
        "    <tr>\n",
        "      <th>After 1999</th>\n",
        "      <td> 274</td>\n",
        "      <td>  89</td>\n",
        "      <td>  5.4</td>\n",
        "      <td>  2.58</td>\n",
        "      <td>  NaN</td>\n",
        "      <td>  0.509</td>\n",
        "      <td>  0.422</td>\n",
        "      <td> 0.612</td>\n",
        "      <td>       </td>\n",
        "      <td>         </td>\n",
        "    </tr>\n",
        "    <tr>\n",
        "      <th>Before 1999</th>\n",
        "      <td>  39</td>\n",
        "      <td>  39</td>\n",
        "      <td> 1.58</td>\n",
        "      <td>  1.25</td>\n",
        "      <td> 2.96</td>\n",
        "      <td>  0.179</td>\n",
        "      <td> 0.0918</td>\n",
        "      <td> 0.351</td>\n",
        "      <td>       </td>\n",
        "      <td>         </td>\n",
        "    </tr>\n",
        "  </tbody>\n",
        "</table>\n",
        "</div>"
       ],
       "metadata": {},
       "output_type": "pyout",
       "prompt_number": 49,
       "text": [
        "                                     Stats          Median Survival              5y Survival                Log-Rank          \n",
        "                                # Patients # Events          Median  Lower Upper        Surv   Lower  Upper     chi2         p\n",
        "Stage                                                                                                           5.28      0.26\n",
        "                    stge iv            150       70             2.5   1.64   5.4       0.372   0.272  0.508                   \n",
        "                    nx                  56       15            2.58   1.31   NaN         NaN     NaN    NaN                   \n",
        "                    stge ii             47       21               4   1.71   NaN       0.454   0.297  0.694                   \n",
        "                    stge iii            42       19            4.49    2.2   NaN       0.386   0.217  0.688                   \n",
        "                    stge i              18        3             NaN    NaN   NaN       0.735   0.513      1                   \n",
        "Lymph Status                                                                                                    15.5   8.4e-05\n",
        "                    0                  248       86            4.58   2.99  6.35       0.458   0.363  0.578                   \n",
        "                    1                   65       42            1.35   1.25  1.71        0.22   0.126  0.383                   \n",
        "Perineural Invasion                                                                                             8.03    0.0453\n",
        "                    yes                112       55            2.54   1.42  7.51       0.381   0.277  0.525                   \n",
        "                    no                 101       29            5.48      4   NaN       0.576   0.438  0.757                   \n",
        "                    Missing             79       42            2.16   1.64  4.71       0.289   0.177  0.472                   \n",
        "Subdivision                                                                                                   0.0976     0.992\n",
        "                    oral cavity        188       85            3.53   2.36  5.48       0.375   0.278  0.508                   \n",
        "                    larynx              80       34            2.25   1.64  9.08        0.44   0.317  0.611                   \n",
        "                    oropharynx          21        6            1.65   1.43   NaN         NaN     NaN    NaN                   \n",
        "Age                                                                                                             13.3  0.000266\n",
        "                    Age < 75           271      101            4.36   2.54  7.44       0.466   0.385  0.564                   \n",
        "                    Age > 75            42       27            1.57  0.868   NaN      0.0992  0.0178  0.553                   \n",
        "Year of Surgery                                                                                                 15.3  8.97e-05\n",
        "                    After 1999         274       89             5.4   2.58   NaN       0.509   0.422  0.612                   \n",
        "                    Before 1999         39       39            1.58   1.25  2.96       0.179  0.0918  0.351                   "
       ]
      }
     ],
     "prompt_number": 49
    },
    {
     "cell_type": "markdown",
     "metadata": {
      "slideshow": {
       "slide_type": "slide"
      }
     },
     "source": [
      "* All patients"
     ]
    },
    {
     "cell_type": "code",
     "collapsed": false,
     "input": [
      "t = pd.concat([get_surv_fit_lr(surv_all, f) for f in \n",
      "               [hpv, stage, spread_inferred, invasion, tumor_subdivision, old_age, year]], \n",
      "               keys=['HPV', 'Stage', 'Lymph Status', 'Perineural Invasion', 'Subdivision', \n",
      "                     'Age', 'Year of Surgery'])\n",
      "t"
     ],
     "language": "python",
     "metadata": {
      "slideshow": {
       "slide_type": "fragment"
      }
     },
     "outputs": [
      {
       "html": [
        "<div style=\"max-height:1000px;max-width:1500px;overflow:auto;\">\n",
        "<table border=\"1\" class=\"dataframe\">\n",
        "  <thead>\n",
        "    <tr>\n",
        "      <th></th>\n",
        "      <th></th>\n",
        "      <th colspan=\"2\" halign=\"left\">Stats</th>\n",
        "      <th colspan=\"3\" halign=\"left\">Median Survival</th>\n",
        "      <th colspan=\"3\" halign=\"left\">5y Survival</th>\n",
        "      <th colspan=\"2\" halign=\"left\">Log-Rank</th>\n",
        "    </tr>\n",
        "    <tr>\n",
        "      <th></th>\n",
        "      <th></th>\n",
        "      <th># Patients</th>\n",
        "      <th># Events</th>\n",
        "      <th>Median</th>\n",
        "      <th>Lower</th>\n",
        "      <th>Upper</th>\n",
        "      <th>Surv</th>\n",
        "      <th>Lower</th>\n",
        "      <th>Upper</th>\n",
        "      <th>chi2</th>\n",
        "      <th>p</th>\n",
        "    </tr>\n",
        "  </thead>\n",
        "  <tbody>\n",
        "    <tr>\n",
        "      <th rowspan=\"3\" valign=\"top\">HPV</th>\n",
        "      <th></th>\n",
        "      <td>    </td>\n",
        "      <td>    </td>\n",
        "      <td>     </td>\n",
        "      <td>     </td>\n",
        "      <td>     </td>\n",
        "      <td>      </td>\n",
        "      <td>       </td>\n",
        "      <td>      </td>\n",
        "      <td> 8.33</td>\n",
        "      <td>   0.0039</td>\n",
        "    </tr>\n",
        "    <tr>\n",
        "      <th>HPV-</th>\n",
        "      <td> 244</td>\n",
        "      <td> 118</td>\n",
        "      <td> 2.58</td>\n",
        "      <td> 1.83</td>\n",
        "      <td>  5.4</td>\n",
        "      <td> 0.408</td>\n",
        "      <td>  0.331</td>\n",
        "      <td> 0.502</td>\n",
        "      <td>     </td>\n",
        "      <td>         </td>\n",
        "    </tr>\n",
        "    <tr>\n",
        "      <th>HPV+</th>\n",
        "      <td>  35</td>\n",
        "      <td>   8</td>\n",
        "      <td> 4.82</td>\n",
        "      <td> 4.79</td>\n",
        "      <td>  NaN</td>\n",
        "      <td> 0.485</td>\n",
        "      <td>  0.259</td>\n",
        "      <td> 0.907</td>\n",
        "      <td>     </td>\n",
        "      <td>         </td>\n",
        "    </tr>\n",
        "    <tr>\n",
        "      <th rowspan=\"6\" valign=\"top\">Stage</th>\n",
        "      <th></th>\n",
        "      <td>    </td>\n",
        "      <td>    </td>\n",
        "      <td>     </td>\n",
        "      <td>     </td>\n",
        "      <td>     </td>\n",
        "      <td>      </td>\n",
        "      <td>       </td>\n",
        "      <td>      </td>\n",
        "      <td> 5.28</td>\n",
        "      <td>     0.26</td>\n",
        "    </tr>\n",
        "    <tr>\n",
        "      <th>stge iv</th>\n",
        "      <td> 150</td>\n",
        "      <td>  70</td>\n",
        "      <td>  2.5</td>\n",
        "      <td> 1.64</td>\n",
        "      <td>  5.4</td>\n",
        "      <td> 0.372</td>\n",
        "      <td>  0.272</td>\n",
        "      <td> 0.508</td>\n",
        "      <td>     </td>\n",
        "      <td>         </td>\n",
        "    </tr>\n",
        "    <tr>\n",
        "      <th>nx</th>\n",
        "      <td>  56</td>\n",
        "      <td>  15</td>\n",
        "      <td> 2.58</td>\n",
        "      <td> 1.31</td>\n",
        "      <td>  NaN</td>\n",
        "      <td>   NaN</td>\n",
        "      <td>    NaN</td>\n",
        "      <td>   NaN</td>\n",
        "      <td>     </td>\n",
        "      <td>         </td>\n",
        "    </tr>\n",
        "    <tr>\n",
        "      <th>stge ii</th>\n",
        "      <td>  47</td>\n",
        "      <td>  21</td>\n",
        "      <td>    4</td>\n",
        "      <td> 1.71</td>\n",
        "      <td>  NaN</td>\n",
        "      <td> 0.454</td>\n",
        "      <td>  0.297</td>\n",
        "      <td> 0.694</td>\n",
        "      <td>     </td>\n",
        "      <td>         </td>\n",
        "    </tr>\n",
        "    <tr>\n",
        "      <th>stge iii</th>\n",
        "      <td>  42</td>\n",
        "      <td>  19</td>\n",
        "      <td> 4.49</td>\n",
        "      <td>  2.2</td>\n",
        "      <td>  NaN</td>\n",
        "      <td> 0.386</td>\n",
        "      <td>  0.217</td>\n",
        "      <td> 0.688</td>\n",
        "      <td>     </td>\n",
        "      <td>         </td>\n",
        "    </tr>\n",
        "    <tr>\n",
        "      <th>stge i</th>\n",
        "      <td>  18</td>\n",
        "      <td>   3</td>\n",
        "      <td>  NaN</td>\n",
        "      <td>  NaN</td>\n",
        "      <td>  NaN</td>\n",
        "      <td> 0.735</td>\n",
        "      <td>  0.513</td>\n",
        "      <td>     1</td>\n",
        "      <td>     </td>\n",
        "      <td>         </td>\n",
        "    </tr>\n",
        "    <tr>\n",
        "      <th rowspan=\"3\" valign=\"top\">Lymph Status</th>\n",
        "      <th></th>\n",
        "      <td>    </td>\n",
        "      <td>    </td>\n",
        "      <td>     </td>\n",
        "      <td>     </td>\n",
        "      <td>     </td>\n",
        "      <td>      </td>\n",
        "      <td>       </td>\n",
        "      <td>      </td>\n",
        "      <td> 15.5</td>\n",
        "      <td>  8.4e-05</td>\n",
        "    </tr>\n",
        "    <tr>\n",
        "      <th>0</th>\n",
        "      <td> 248</td>\n",
        "      <td>  86</td>\n",
        "      <td> 4.58</td>\n",
        "      <td> 2.99</td>\n",
        "      <td> 6.35</td>\n",
        "      <td> 0.458</td>\n",
        "      <td>  0.363</td>\n",
        "      <td> 0.578</td>\n",
        "      <td>     </td>\n",
        "      <td>         </td>\n",
        "    </tr>\n",
        "    <tr>\n",
        "      <th>1</th>\n",
        "      <td>  65</td>\n",
        "      <td>  42</td>\n",
        "      <td> 1.35</td>\n",
        "      <td> 1.25</td>\n",
        "      <td> 1.71</td>\n",
        "      <td>  0.22</td>\n",
        "      <td>  0.126</td>\n",
        "      <td> 0.383</td>\n",
        "      <td>     </td>\n",
        "      <td>         </td>\n",
        "    </tr>\n",
        "    <tr>\n",
        "      <th rowspan=\"4\" valign=\"top\">Perineural Invasion</th>\n",
        "      <th></th>\n",
        "      <td>    </td>\n",
        "      <td>    </td>\n",
        "      <td>     </td>\n",
        "      <td>     </td>\n",
        "      <td>     </td>\n",
        "      <td>      </td>\n",
        "      <td>       </td>\n",
        "      <td>      </td>\n",
        "      <td> 6.36</td>\n",
        "      <td>   0.0417</td>\n",
        "    </tr>\n",
        "    <tr>\n",
        "      <th>yes</th>\n",
        "      <td> 115</td>\n",
        "      <td>  56</td>\n",
        "      <td> 2.58</td>\n",
        "      <td> 1.42</td>\n",
        "      <td> 7.04</td>\n",
        "      <td> 0.376</td>\n",
        "      <td>  0.271</td>\n",
        "      <td>  0.52</td>\n",
        "      <td>     </td>\n",
        "      <td>         </td>\n",
        "    </tr>\n",
        "    <tr>\n",
        "      <th>no</th>\n",
        "      <td> 110</td>\n",
        "      <td>  33</td>\n",
        "      <td> 4.82</td>\n",
        "      <td>    4</td>\n",
        "      <td>  NaN</td>\n",
        "      <td> 0.492</td>\n",
        "      <td>  0.332</td>\n",
        "      <td> 0.729</td>\n",
        "      <td>     </td>\n",
        "      <td>         </td>\n",
        "    </tr>\n",
        "    <tr>\n",
        "      <th>Missing</th>\n",
        "      <td> 102</td>\n",
        "      <td>  45</td>\n",
        "      <td> 3.53</td>\n",
        "      <td> 2.16</td>\n",
        "      <td> 5.93</td>\n",
        "      <td>  0.38</td>\n",
        "      <td>  0.263</td>\n",
        "      <td> 0.548</td>\n",
        "      <td>     </td>\n",
        "      <td>         </td>\n",
        "    </tr>\n",
        "    <tr>\n",
        "      <th rowspan=\"4\" valign=\"top\">Subdivision</th>\n",
        "      <th></th>\n",
        "      <td>    </td>\n",
        "      <td>    </td>\n",
        "      <td>     </td>\n",
        "      <td>     </td>\n",
        "      <td>     </td>\n",
        "      <td>      </td>\n",
        "      <td>       </td>\n",
        "      <td>      </td>\n",
        "      <td> 4.39</td>\n",
        "      <td>    0.111</td>\n",
        "    </tr>\n",
        "    <tr>\n",
        "      <th>oral cavity</th>\n",
        "      <td> 200</td>\n",
        "      <td>  90</td>\n",
        "      <td> 3.29</td>\n",
        "      <td>  2.5</td>\n",
        "      <td> 5.48</td>\n",
        "      <td> 0.375</td>\n",
        "      <td>   0.28</td>\n",
        "      <td> 0.501</td>\n",
        "      <td>     </td>\n",
        "      <td>         </td>\n",
        "    </tr>\n",
        "    <tr>\n",
        "      <th>larynx</th>\n",
        "      <td>  81</td>\n",
        "      <td>  34</td>\n",
        "      <td> 2.58</td>\n",
        "      <td> 1.81</td>\n",
        "      <td>  NaN</td>\n",
        "      <td> 0.452</td>\n",
        "      <td>  0.329</td>\n",
        "      <td> 0.619</td>\n",
        "      <td>     </td>\n",
        "      <td>         </td>\n",
        "    </tr>\n",
        "    <tr>\n",
        "      <th>oropharynx</th>\n",
        "      <td>  42</td>\n",
        "      <td>   9</td>\n",
        "      <td> 4.82</td>\n",
        "      <td> 4.79</td>\n",
        "      <td>  NaN</td>\n",
        "      <td> 0.432</td>\n",
        "      <td>  0.201</td>\n",
        "      <td> 0.927</td>\n",
        "      <td>     </td>\n",
        "      <td>         </td>\n",
        "    </tr>\n",
        "    <tr>\n",
        "      <th rowspan=\"3\" valign=\"top\">Age</th>\n",
        "      <th></th>\n",
        "      <td>    </td>\n",
        "      <td>    </td>\n",
        "      <td>     </td>\n",
        "      <td>     </td>\n",
        "      <td>     </td>\n",
        "      <td>      </td>\n",
        "      <td>       </td>\n",
        "      <td>      </td>\n",
        "      <td> 10.6</td>\n",
        "      <td>  0.00112</td>\n",
        "    </tr>\n",
        "    <tr>\n",
        "      <th>Age &lt; 75</th>\n",
        "      <td> 303</td>\n",
        "      <td> 109</td>\n",
        "      <td> 4.58</td>\n",
        "      <td> 2.99</td>\n",
        "      <td> 6.35</td>\n",
        "      <td> 0.458</td>\n",
        "      <td>  0.377</td>\n",
        "      <td> 0.557</td>\n",
        "      <td>     </td>\n",
        "      <td>         </td>\n",
        "    </tr>\n",
        "    <tr>\n",
        "      <th>Age &gt; 75</th>\n",
        "      <td>  45</td>\n",
        "      <td>  27</td>\n",
        "      <td> 1.81</td>\n",
        "      <td>  1.1</td>\n",
        "      <td>  NaN</td>\n",
        "      <td> 0.182</td>\n",
        "      <td> 0.0609</td>\n",
        "      <td> 0.542</td>\n",
        "      <td>     </td>\n",
        "      <td>         </td>\n",
        "    </tr>\n",
        "    <tr>\n",
        "      <th rowspan=\"3\" valign=\"top\">Year of Surgery</th>\n",
        "      <th></th>\n",
        "      <td>    </td>\n",
        "      <td>    </td>\n",
        "      <td>     </td>\n",
        "      <td>     </td>\n",
        "      <td>     </td>\n",
        "      <td>      </td>\n",
        "      <td>       </td>\n",
        "      <td>      </td>\n",
        "      <td> 20.3</td>\n",
        "      <td> 6.58e-06</td>\n",
        "    </tr>\n",
        "    <tr>\n",
        "      <th>After 1999</th>\n",
        "      <td> 308</td>\n",
        "      <td>  96</td>\n",
        "      <td> 4.82</td>\n",
        "      <td> 4.36</td>\n",
        "      <td>  NaN</td>\n",
        "      <td> 0.493</td>\n",
        "      <td>  0.404</td>\n",
        "      <td> 0.602</td>\n",
        "      <td>     </td>\n",
        "      <td>         </td>\n",
        "    </tr>\n",
        "    <tr>\n",
        "      <th>Before 1999</th>\n",
        "      <td>  40</td>\n",
        "      <td>  40</td>\n",
        "      <td>  1.7</td>\n",
        "      <td> 1.25</td>\n",
        "      <td> 2.96</td>\n",
        "      <td> 0.175</td>\n",
        "      <td> 0.0893</td>\n",
        "      <td> 0.343</td>\n",
        "      <td>     </td>\n",
        "      <td>         </td>\n",
        "    </tr>\n",
        "  </tbody>\n",
        "</table>\n",
        "</div>"
       ],
       "metadata": {},
       "output_type": "pyout",
       "prompt_number": 50,
       "text": [
        "                                     Stats          Median Survival             5y Survival                Log-Rank          \n",
        "                                # Patients # Events          Median Lower Upper        Surv   Lower  Upper     chi2         p\n",
        "HPV                                                                                                            8.33    0.0039\n",
        "                    HPV-               244      118            2.58  1.83   5.4       0.408   0.331  0.502                   \n",
        "                    HPV+                35        8            4.82  4.79   NaN       0.485   0.259  0.907                   \n",
        "Stage                                                                                                          5.28      0.26\n",
        "                    stge iv            150       70             2.5  1.64   5.4       0.372   0.272  0.508                   \n",
        "                    nx                  56       15            2.58  1.31   NaN         NaN     NaN    NaN                   \n",
        "                    stge ii             47       21               4  1.71   NaN       0.454   0.297  0.694                   \n",
        "                    stge iii            42       19            4.49   2.2   NaN       0.386   0.217  0.688                   \n",
        "                    stge i              18        3             NaN   NaN   NaN       0.735   0.513      1                   \n",
        "Lymph Status                                                                                                   15.5   8.4e-05\n",
        "                    0                  248       86            4.58  2.99  6.35       0.458   0.363  0.578                   \n",
        "                    1                   65       42            1.35  1.25  1.71        0.22   0.126  0.383                   \n",
        "Perineural Invasion                                                                                            6.36    0.0417\n",
        "                    yes                115       56            2.58  1.42  7.04       0.376   0.271   0.52                   \n",
        "                    no                 110       33            4.82     4   NaN       0.492   0.332  0.729                   \n",
        "                    Missing            102       45            3.53  2.16  5.93        0.38   0.263  0.548                   \n",
        "Subdivision                                                                                                    4.39     0.111\n",
        "                    oral cavity        200       90            3.29   2.5  5.48       0.375    0.28  0.501                   \n",
        "                    larynx              81       34            2.58  1.81   NaN       0.452   0.329  0.619                   \n",
        "                    oropharynx          42        9            4.82  4.79   NaN       0.432   0.201  0.927                   \n",
        "Age                                                                                                            10.6   0.00112\n",
        "                    Age < 75           303      109            4.58  2.99  6.35       0.458   0.377  0.557                   \n",
        "                    Age > 75            45       27            1.81   1.1   NaN       0.182  0.0609  0.542                   \n",
        "Year of Surgery                                                                                                20.3  6.58e-06\n",
        "                    After 1999         308       96            4.82  4.36   NaN       0.493   0.404  0.602                   \n",
        "                    Before 1999         40       40             1.7  1.25  2.96       0.175  0.0893  0.343                   "
       ]
      }
     ],
     "prompt_number": 50
    },
    {
     "cell_type": "markdown",
     "metadata": {
      "slideshow": {
       "slide_type": "slide"
      }
     },
     "source": [
      "##Clinical Model \n",
      "* Establish baseline to see what we can gain from molecular features"
     ]
    },
    {
     "cell_type": "code",
     "collapsed": false,
     "input": [
      "clinical_df = pd.concat([stage, spread_inferred, invasion, tumor_subdivision, old_age, year], \n",
      "                        keys=['stage_', 'lymph_staus_', 'pni_', \n",
      "                              'subdivision_', 'age_', 'year_of_surgery_'],\n",
      "                        axis=1)\n",
      "\n",
      "clinical_vars = clinical_df\n",
      "clinical_vars = clinical_vars.ix[keepers_o].fillna(0)\n",
      "get_cox_ph(surv, covariates=clinical_vars, print_desc=True, interactions=False);"
     ],
     "language": "python",
     "metadata": {
      "slideshow": {
       "slide_type": "fragment"
      }
     },
     "outputs": [
      {
       "output_type": "stream",
       "stream": "stdout",
       "text": [
        "\n",
        "                             coef exp(coef) se(coef)    z       p\n",
        "lymph_staus_                0.415      1.51   0.0842 4.92 8.6e-07\n",
        "age_Age > 75                0.970      2.64   0.2342 4.14 3.4e-05\n",
        "year_of_surgery_Before 1999 0.594      1.81   0.2104 2.82 4.7e-03\n",
        "\n",
        "Likelihood ratio test=41.7  on 3 df, p=4.62e-09  n= 313, number of events= 116 \n",
        "\n"
       ]
      }
     ],
     "prompt_number": 51
    },
    {
     "cell_type": "markdown",
     "metadata": {
      "slideshow": {
       "slide_type": "fragment"
      }
     },
     "source": [
      "* Can't do much about year, seems to just add on top of everything else.."
     ]
    },
    {
     "cell_type": "code",
     "collapsed": false,
     "input": [
      "clinical_df = pd.concat([stage, spread_inferred, tumor_subdivision, old_age], \n",
      "                        keys=['stage_', 'lymph_staus_', 'subdivision_', 'age_'],\n",
      "                        axis=1)\n",
      "\n",
      "clinical_vars = clinical_df\n",
      "clinical_vars = clinical_vars.ix[keepers_o].fillna(0)\n",
      "get_cox_ph(surv, covariates=clinical_vars, print_desc=True, interactions=False);"
     ],
     "language": "python",
     "metadata": {
      "slideshow": {
       "slide_type": "fragment"
      }
     },
     "outputs": [
      {
       "output_type": "stream",
       "stream": "stdout",
       "text": [
        "\n",
        "              coef exp(coef) se(coef)    z       p\n",
        "lymph_staus_ 0.436      1.55   0.0834 5.23 1.7e-07\n",
        "age_Age > 75 1.010      2.74   0.2328 4.34 1.4e-05\n",
        "\n",
        "Likelihood ratio test=34.4  on 2 df, p=3.32e-08  n= 313, number of events= 116 \n",
        "\n"
       ]
      }
     ],
     "prompt_number": 52
    },
    {
     "cell_type": "markdown",
     "metadata": {
      "slideshow": {
       "slide_type": "slide"
      }
     },
     "source": [
      "###Correlation of molecular pheonotypes with clinical variables"
     ]
    },
    {
     "cell_type": "markdown",
     "metadata": {
      "slideshow": {
       "slide_type": "subslide"
      }
     },
     "source": [
      "* Global variables"
     ]
    },
    {
     "cell_type": "code",
     "collapsed": false,
     "input": [
      "gv = pd.concat([global_vars['mutation'], global_vars['cna'], rna.global_vars, meth.global_vars, mirna.global_vars], \n",
      "                keys=['mutation', 'cna', 'rna', 'methylation', 'mirna'], axis=1)\n",
      "gv = gv.ix[keepers_o]\n",
      "global_corr = pd.concat({v: screen_feature(f, kruskal_pandas, gv.T).head(3) \n",
      "                      for v,f in clinical_df.iteritems()})\n",
      "global_corr"
     ],
     "language": "python",
     "metadata": {
      "slideshow": {
       "slide_type": "fragment"
      }
     },
     "outputs": [
      {
       "html": [
        "<div style=\"max-height:1000px;max-width:1500px;overflow:auto;\">\n",
        "<table border=\"1\" class=\"dataframe\">\n",
        "  <thead>\n",
        "    <tr style=\"text-align: right;\">\n",
        "      <th></th>\n",
        "      <th></th>\n",
        "      <th>H</th>\n",
        "      <th>p</th>\n",
        "      <th>q</th>\n",
        "    </tr>\n",
        "  </thead>\n",
        "  <tbody>\n",
        "    <tr>\n",
        "      <th rowspan=\"3\" valign=\"top\">age_</th>\n",
        "      <th>(mutation, rate_dbsnp)</th>\n",
        "      <td>  6.97</td>\n",
        "      <td> 8.27e-03</td>\n",
        "      <td> 2.78e-01</td>\n",
        "    </tr>\n",
        "    <tr>\n",
        "      <th>(mutation, double_null)</th>\n",
        "      <td>  4.68</td>\n",
        "      <td> 3.05e-02</td>\n",
        "      <td> 2.78e-01</td>\n",
        "    </tr>\n",
        "    <tr>\n",
        "      <th>(methylation, background)</th>\n",
        "      <td>  4.09</td>\n",
        "      <td> 4.32e-02</td>\n",
        "      <td> 2.78e-01</td>\n",
        "    </tr>\n",
        "    <tr>\n",
        "      <th rowspan=\"3\" valign=\"top\">lymph_staus_</th>\n",
        "      <th>(rna, filtered_pc2)</th>\n",
        "      <td> 18.24</td>\n",
        "      <td> 1.95e-05</td>\n",
        "      <td> 5.30e-04</td>\n",
        "    </tr>\n",
        "    <tr>\n",
        "      <th>(mirna, filtered_pc1)</th>\n",
        "      <td> 17.50</td>\n",
        "      <td> 2.87e-05</td>\n",
        "      <td> 5.30e-04</td>\n",
        "    </tr>\n",
        "    <tr>\n",
        "      <th>(rna, pathway_pc1)</th>\n",
        "      <td> 10.90</td>\n",
        "      <td> 9.62e-04</td>\n",
        "      <td> 1.19e-02</td>\n",
        "    </tr>\n",
        "    <tr>\n",
        "      <th rowspan=\"3\" valign=\"top\">stage_</th>\n",
        "      <th>(mutation, C-&gt;(G_A))</th>\n",
        "      <td> 20.53</td>\n",
        "      <td> 3.92e-04</td>\n",
        "      <td> 1.33e-02</td>\n",
        "    </tr>\n",
        "    <tr>\n",
        "      <th>(methylation, filtered_pc2)</th>\n",
        "      <td> 19.19</td>\n",
        "      <td> 7.20e-04</td>\n",
        "      <td> 1.33e-02</td>\n",
        "    </tr>\n",
        "    <tr>\n",
        "      <th>(mutation, *CpG-&gt;T)</th>\n",
        "      <td> 17.91</td>\n",
        "      <td> 1.28e-03</td>\n",
        "      <td> 1.58e-02</td>\n",
        "    </tr>\n",
        "    <tr>\n",
        "      <th rowspan=\"3\" valign=\"top\">subdivision_</th>\n",
        "      <th>(rna, filtered_pc1)</th>\n",
        "      <td> 60.71</td>\n",
        "      <td> 6.56e-14</td>\n",
        "      <td> 2.43e-12</td>\n",
        "    </tr>\n",
        "    <tr>\n",
        "      <th>(mutation, *CpG-&gt;T)</th>\n",
        "      <td> 57.10</td>\n",
        "      <td> 3.98e-13</td>\n",
        "      <td> 7.37e-12</td>\n",
        "    </tr>\n",
        "    <tr>\n",
        "      <th>(mutation, C-&gt;(G_A))</th>\n",
        "      <td> 52.18</td>\n",
        "      <td> 4.66e-12</td>\n",
        "      <td> 5.75e-11</td>\n",
        "    </tr>\n",
        "  </tbody>\n",
        "</table>\n",
        "</div>"
       ],
       "metadata": {},
       "output_type": "pyout",
       "prompt_number": 53,
       "text": [
        "                                              H         p         q\n",
        "age_         (mutation, rate_dbsnp)        6.97  8.27e-03  2.78e-01\n",
        "             (mutation, double_null)       4.68  3.05e-02  2.78e-01\n",
        "             (methylation, background)     4.09  4.32e-02  2.78e-01\n",
        "lymph_staus_ (rna, filtered_pc2)          18.24  1.95e-05  5.30e-04\n",
        "             (mirna, filtered_pc1)        17.50  2.87e-05  5.30e-04\n",
        "             (rna, pathway_pc1)           10.90  9.62e-04  1.19e-02\n",
        "stage_       (mutation, C->(G_A))         20.53  3.92e-04  1.33e-02\n",
        "             (methylation, filtered_pc2)  19.19  7.20e-04  1.33e-02\n",
        "             (mutation, *CpG->T)          17.91  1.28e-03  1.58e-02\n",
        "subdivision_ (rna, filtered_pc1)          60.71  6.56e-14  2.43e-12\n",
        "             (mutation, *CpG->T)          57.10  3.98e-13  7.37e-12\n",
        "             (mutation, C->(G_A))         52.18  4.66e-12  5.75e-11"
       ]
      }
     ],
     "prompt_number": 53
    },
    {
     "cell_type": "code",
     "collapsed": false,
     "input": [
      "violin_plot_pandas(tumor_subdivision.ix[keepers_o], gv.rna.filtered_pc1)\n",
      "plt.gca().set_ylabel('mRNA PC1')\n",
      "plt.gca().set_xlabel('')"
     ],
     "language": "python",
     "metadata": {
      "slideshow": {
       "slide_type": "subslide"
      }
     },
     "outputs": [
      {
       "metadata": {},
       "output_type": "pyout",
       "prompt_number": 54,
       "text": [
        "<matplotlib.text.Text at 0xef4a690>"
       ]
      },
      {
       "metadata": {},
       "output_type": "display_data",
       "png": "[encoded data removed]",
       "text": [
        "<matplotlib.figure.Figure at 0x8b8f310>"
       ]
      }
     ],
     "prompt_number": 54
    },
    {
     "cell_type": "code",
     "collapsed": false,
     "input": [
      "violin_plot_pandas(tumor_subdivision.ix[keepers_o], gv.mirna.filtered_pc1)\n",
      "plt.gca().set_ylabel('miRNA PC1')\n",
      "plt.gca().set_xlabel('')"
     ],
     "language": "python",
     "metadata": {
      "slideshow": {
       "slide_type": "subslide"
      }
     },
     "outputs": [
      {
       "metadata": {},
       "output_type": "pyout",
       "prompt_number": 55,
       "text": [
        "<matplotlib.text.Text at 0x8bb4950>"
       ]
      },
      {
       "metadata": {},
       "output_type": "display_data",
       "png": "[encoded data removed]",
       "text": [
        "<matplotlib.figure.Figure at 0x7ae1d50>"
       ]
      }
     ],
     "prompt_number": 55
    },
    {
     "cell_type": "markdown",
     "metadata": {
      "slideshow": {
       "slide_type": "subslide"
      }
     },
     "source": [
      "* Differentially expressed pathways"
     ]
    },
    {
     "cell_type": "code",
     "collapsed": false,
     "input": [
      "rna_corr = pd.concat({v: screen_feature(f, kruskal_pandas, rna.pathways).head(3) \n",
      "                      for v,f in clinical_df.iteritems()})\n",
      "rna_corr"
     ],
     "language": "python",
     "metadata": {
      "slideshow": {
       "slide_type": "fragment"
      }
     },
     "outputs": [
      {
       "html": [
        "<div style=\"max-height:1000px;max-width:1500px;overflow:auto;\">\n",
        "<table border=\"1\" class=\"dataframe\">\n",
        "  <thead>\n",
        "    <tr style=\"text-align: right;\">\n",
        "      <th></th>\n",
        "      <th></th>\n",
        "      <th>H</th>\n",
        "      <th>p</th>\n",
        "      <th>q</th>\n",
        "    </tr>\n",
        "  </thead>\n",
        "  <tbody>\n",
        "    <tr>\n",
        "      <th rowspan=\"3\" valign=\"top\">age_</th>\n",
        "      <th>REACTOME_PROTEOLYTIC_CLEAVAGE_OF_SNARE_COMPLEX_PROTEINS</th>\n",
        "      <td>  8.85</td>\n",
        "      <td> 2.93e-03</td>\n",
        "      <td> 1.00e+00</td>\n",
        "    </tr>\n",
        "    <tr>\n",
        "      <th>BIOCARTA_PGC1A_PATHWAY</th>\n",
        "      <td>  7.72</td>\n",
        "      <td> 5.46e-03</td>\n",
        "      <td> 1.00e+00</td>\n",
        "    </tr>\n",
        "    <tr>\n",
        "      <th>REACTOME_BOTULINUM_NEUROTOXICITY</th>\n",
        "      <td>  6.77</td>\n",
        "      <td> 9.25e-03</td>\n",
        "      <td> 1.00e+00</td>\n",
        "    </tr>\n",
        "    <tr>\n",
        "      <th rowspan=\"3\" valign=\"top\">lymph_staus_</th>\n",
        "      <th>KEGG_TASTE_TRANSDUCTION</th>\n",
        "      <td> 22.15</td>\n",
        "      <td> 2.52e-06</td>\n",
        "      <td> 8.01e-04</td>\n",
        "    </tr>\n",
        "    <tr>\n",
        "      <th>REACTOME_RNA_POLYMERASE_III_TRANSCRIPTION_INITIATION_FROM_TYPE_3_PROMOTER</th>\n",
        "      <td> 21.43</td>\n",
        "      <td> 3.68e-06</td>\n",
        "      <td> 8.01e-04</td>\n",
        "    </tr>\n",
        "    <tr>\n",
        "      <th>REACTOME_RNA_POLYMERASE_I_III_AND_MITOCHONDRIAL_TRANSCRIPTION</th>\n",
        "      <td> 19.92</td>\n",
        "      <td> 8.07e-06</td>\n",
        "      <td> 9.91e-04</td>\n",
        "    </tr>\n",
        "    <tr>\n",
        "      <th rowspan=\"3\" valign=\"top\">stage_</th>\n",
        "      <th>REACTOME_CALCITONIN_LIKE_LIGAND_RECEPTORS</th>\n",
        "      <td> 20.77</td>\n",
        "      <td> 3.52e-04</td>\n",
        "      <td> 7.10e-02</td>\n",
        "    </tr>\n",
        "    <tr>\n",
        "      <th>KEGG_BETA_ALANINE_METABOLISM</th>\n",
        "      <td> 20.51</td>\n",
        "      <td> 3.96e-04</td>\n",
        "      <td> 7.10e-02</td>\n",
        "    </tr>\n",
        "    <tr>\n",
        "      <th>KEGG_LIMONENE_AND_PINENE_DEGRADATION</th>\n",
        "      <td> 19.86</td>\n",
        "      <td> 5.32e-04</td>\n",
        "      <td> 7.10e-02</td>\n",
        "    </tr>\n",
        "    <tr>\n",
        "      <th rowspan=\"3\" valign=\"top\">subdivision_</th>\n",
        "      <th>BIOCARTA_GRANULOCYTES_PATHWAY</th>\n",
        "      <td> 43.36</td>\n",
        "      <td> 3.84e-10</td>\n",
        "      <td> 1.67e-07</td>\n",
        "    </tr>\n",
        "    <tr>\n",
        "      <th>KEGG_MISMATCH_REPAIR</th>\n",
        "      <td> 40.94</td>\n",
        "      <td> 1.29e-09</td>\n",
        "      <td> 1.77e-07</td>\n",
        "    </tr>\n",
        "    <tr>\n",
        "      <th>REACTOME_GLUCURONIDATION</th>\n",
        "      <td> 40.71</td>\n",
        "      <td> 1.45e-09</td>\n",
        "      <td> 1.77e-07</td>\n",
        "    </tr>\n",
        "  </tbody>\n",
        "</table>\n",
        "</div>"
       ],
       "metadata": {},
       "output_type": "pyout",
       "prompt_number": 56,
       "text": [
        "                                                                                            H         p         q\n",
        "age_         REACTOME_PROTEOLYTIC_CLEAVAGE_OF_SNARE_COMPLEX_PROTEINS                     8.85  2.93e-03  1.00e+00\n",
        "             BIOCARTA_PGC1A_PATHWAY                                                      7.72  5.46e-03  1.00e+00\n",
        "             REACTOME_BOTULINUM_NEUROTOXICITY                                            6.77  9.25e-03  1.00e+00\n",
        "lymph_staus_ KEGG_TASTE_TRANSDUCTION                                                    22.15  2.52e-06  8.01e-04\n",
        "             REACTOME_RNA_POLYMERASE_III_TRANSCRIPTION_INITIATION_FROM_TYPE_3_PROMOTER  21.43  3.68e-06  8.01e-04\n",
        "             REACTOME_RNA_POLYMERASE_I_III_AND_MITOCHONDRIAL_TRANSCRIPTION              19.92  8.07e-06  9.91e-04\n",
        "stage_       REACTOME_CALCITONIN_LIKE_LIGAND_RECEPTORS                                  20.77  3.52e-04  7.10e-02\n",
        "             KEGG_BETA_ALANINE_METABOLISM                                               20.51  3.96e-04  7.10e-02\n",
        "             KEGG_LIMONENE_AND_PINENE_DEGRADATION                                       19.86  5.32e-04  7.10e-02\n",
        "subdivision_ BIOCARTA_GRANULOCYTES_PATHWAY                                              43.36  3.84e-10  1.67e-07\n",
        "             KEGG_MISMATCH_REPAIR                                                       40.94  1.29e-09  1.77e-07\n",
        "             REACTOME_GLUCURONIDATION                                                   40.71  1.45e-09  1.77e-07"
       ]
      }
     ],
     "prompt_number": 56
    },
    {
     "cell_type": "markdown",
     "metadata": {
      "slideshow": {
       "slide_type": "subslide"
      }
     },
     "source": [
      "* Differentially expressed genes"
     ]
    },
    {
     "cell_type": "code",
     "collapsed": false,
     "input": [
      "rna_corr = pd.concat({v: screen_feature(f, kruskal_pandas, rna.features).head(3) \n",
      "                      for v,f in clinical_df.iteritems()})\n",
      "rna_corr"
     ],
     "language": "python",
     "metadata": {
      "slideshow": {
       "slide_type": "fragment"
      }
     },
     "outputs": [
      {
       "html": [
        "<div style=\"max-height:1000px;max-width:1500px;overflow:auto;\">\n",
        "<table border=\"1\" class=\"dataframe\">\n",
        "  <thead>\n",
        "    <tr style=\"text-align: right;\">\n",
        "      <th></th>\n",
        "      <th></th>\n",
        "      <th>H</th>\n",
        "      <th>p</th>\n",
        "      <th>q</th>\n",
        "    </tr>\n",
        "  </thead>\n",
        "  <tbody>\n",
        "    <tr>\n",
        "      <th rowspan=\"3\" valign=\"top\">age_</th>\n",
        "      <th>(binary, TMEFF2)</th>\n",
        "      <td> 13.60</td>\n",
        "      <td> 2.26e-04</td>\n",
        "      <td> 6.08e-01</td>\n",
        "    </tr>\n",
        "    <tr>\n",
        "      <th>(real, BCL2L2)</th>\n",
        "      <td> 12.57</td>\n",
        "      <td> 3.93e-04</td>\n",
        "      <td> 6.08e-01</td>\n",
        "    </tr>\n",
        "    <tr>\n",
        "      <th>(real, MMAA)</th>\n",
        "      <td> 12.37</td>\n",
        "      <td> 4.35e-04</td>\n",
        "      <td> 6.08e-01</td>\n",
        "    </tr>\n",
        "    <tr>\n",
        "      <th rowspan=\"3\" valign=\"top\">lymph_staus_</th>\n",
        "      <th>(real, SLC13A4)</th>\n",
        "      <td> 36.10</td>\n",
        "      <td> 1.88e-09</td>\n",
        "      <td> 1.34e-05</td>\n",
        "    </tr>\n",
        "    <tr>\n",
        "      <th>(real, GDPD3)</th>\n",
        "      <td> 31.50</td>\n",
        "      <td> 1.99e-08</td>\n",
        "      <td> 7.09e-05</td>\n",
        "    </tr>\n",
        "    <tr>\n",
        "      <th>(real, A2ML1)</th>\n",
        "      <td> 28.05</td>\n",
        "      <td> 1.18e-07</td>\n",
        "      <td> 2.16e-04</td>\n",
        "    </tr>\n",
        "    <tr>\n",
        "      <th rowspan=\"3\" valign=\"top\">stage_</th>\n",
        "      <th>(real, WDR37)</th>\n",
        "      <td> 34.41</td>\n",
        "      <td> 6.14e-07</td>\n",
        "      <td> 4.37e-03</td>\n",
        "    </tr>\n",
        "    <tr>\n",
        "      <th>(real, HIST1H1E)</th>\n",
        "      <td> 31.84</td>\n",
        "      <td> 2.06e-06</td>\n",
        "      <td> 5.44e-03</td>\n",
        "    </tr>\n",
        "    <tr>\n",
        "      <th>(real, ZC3HAV1)</th>\n",
        "      <td> 31.62</td>\n",
        "      <td> 2.29e-06</td>\n",
        "      <td> 5.44e-03</td>\n",
        "    </tr>\n",
        "    <tr>\n",
        "      <th rowspan=\"3\" valign=\"top\">subdivision_</th>\n",
        "      <th>(real, HOXA7)</th>\n",
        "      <td> 85.81</td>\n",
        "      <td> 2.33e-19</td>\n",
        "      <td> 1.65e-15</td>\n",
        "    </tr>\n",
        "    <tr>\n",
        "      <th>(real, HOXA9)</th>\n",
        "      <td> 72.90</td>\n",
        "      <td> 1.48e-16</td>\n",
        "      <td> 5.25e-13</td>\n",
        "    </tr>\n",
        "    <tr>\n",
        "      <th>(binary, FOXG1)</th>\n",
        "      <td> 69.00</td>\n",
        "      <td> 1.04e-15</td>\n",
        "      <td> 2.46e-12</td>\n",
        "    </tr>\n",
        "  </tbody>\n",
        "</table>\n",
        "</div>"
       ],
       "metadata": {},
       "output_type": "pyout",
       "prompt_number": 57,
       "text": [
        "                                   H         p         q\n",
        "age_         (binary, TMEFF2)  13.60  2.26e-04  6.08e-01\n",
        "             (real, BCL2L2)    12.57  3.93e-04  6.08e-01\n",
        "             (real, MMAA)      12.37  4.35e-04  6.08e-01\n",
        "lymph_staus_ (real, SLC13A4)   36.10  1.88e-09  1.34e-05\n",
        "             (real, GDPD3)     31.50  1.99e-08  7.09e-05\n",
        "             (real, A2ML1)     28.05  1.18e-07  2.16e-04\n",
        "stage_       (real, WDR37)     34.41  6.14e-07  4.37e-03\n",
        "             (real, HIST1H1E)  31.84  2.06e-06  5.44e-03\n",
        "             (real, ZC3HAV1)   31.62  2.29e-06  5.44e-03\n",
        "subdivision_ (real, HOXA7)     85.81  2.33e-19  1.65e-15\n",
        "             (real, HOXA9)     72.90  1.48e-16  5.25e-13\n",
        "             (binary, FOXG1)   69.00  1.04e-15  2.46e-12"
       ]
      }
     ],
     "prompt_number": 57
    },
    {
     "cell_type": "code",
     "collapsed": false,
     "input": [
      "fig, axs = subplots(1,2, figsize=(14,4))\n",
      "violin_plot_pandas(spread_inferred, rna.df.ix['SLC13A4'].ix[:,'01'], ax=axs[0])\n",
      "axs[0].set_ylabel('TWIST mRNA')\n",
      "axs[0].set_xlabel('Lymph Status')\n",
      "\n",
      "violin_plot_pandas(spread_inferred, rna.df.ix['GDPD3'].ix[:,'01'], ax=axs[1])\n",
      "axs[1].set_ylabel('TWIST mRNA')\n",
      "axs[1].set_xlabel('Lymph Status')"
     ],
     "language": "python",
     "metadata": {
      "slideshow": {
       "slide_type": "subslide"
      }
     },
     "outputs": [
      {
       "metadata": {},
       "output_type": "pyout",
       "prompt_number": 58,
       "text": [
        "<matplotlib.text.Text at 0xaed1450>"
       ]
      },
      {
       "metadata": {},
       "output_type": "display_data",
       "png": "[encoded data removed]",
       "text": [
        "<matplotlib.figure.Figure at 0xe1022d0>"
       ]
      }
     ],
     "prompt_number": 58
    },
    {
     "cell_type": "code",
     "collapsed": false,
     "input": [
      "fig, axs = subplots(1,2, figsize=(14,4))\n",
      "violin_plot_pandas(spread_inferred, rna.df.ix['TWIST1'].ix[:,'01'], ax=axs[0])\n",
      "axs[0].set_ylabel('TWIST mRNA')\n",
      "axs[0].set_xlabel('Lymph Status')\n",
      "\n",
      "violin_plot_pandas(spread_inferred, rna.df.ix['SNAI1'].ix[:,'01'], ax=axs[1])\n",
      "axs[1].set_ylabel('TWIST mRNA')\n",
      "axs[1].set_xlabel('Lymph Status')"
     ],
     "language": "python",
     "metadata": {
      "slideshow": {
       "slide_type": "fragment"
      }
     },
     "outputs": [
      {
       "metadata": {},
       "output_type": "pyout",
       "prompt_number": 59,
       "text": [
        "<matplotlib.text.Text at 0xe0de790>"
       ]
      },
      {
       "metadata": {},
       "output_type": "display_data",
       "png": "[encoded data removed]",
       "text": [
        "<matplotlib.figure.Figure at 0x1285cc50>"
       ]
      }
     ],
     "prompt_number": 59
    },
    {
     "cell_type": "markdown",
     "metadata": {
      "slideshow": {
       "slide_type": "subslide"
      }
     },
     "source": [
      "* Differentially expressed mirna"
     ]
    },
    {
     "cell_type": "code",
     "collapsed": false,
     "input": [
      "mirna_corr = pd.concat({v: screen_feature(f, kruskal_pandas, mirna.features).head(3) \n",
      "                      for v,f in clinical_df.iteritems()})\n",
      "mirna_corr"
     ],
     "language": "python",
     "metadata": {
      "slideshow": {
       "slide_type": "fragment"
      }
     },
     "outputs": [
      {
       "html": [
        "<div style=\"max-height:1000px;max-width:1500px;overflow:auto;\">\n",
        "<table border=\"1\" class=\"dataframe\">\n",
        "  <thead>\n",
        "    <tr style=\"text-align: right;\">\n",
        "      <th></th>\n",
        "      <th></th>\n",
        "      <th>H</th>\n",
        "      <th>p</th>\n",
        "      <th>q</th>\n",
        "    </tr>\n",
        "  </thead>\n",
        "  <tbody>\n",
        "    <tr>\n",
        "      <th rowspan=\"3\" valign=\"top\">age_</th>\n",
        "      <th>(binary, hsa-mir-153-1)</th>\n",
        "      <td>  7.05</td>\n",
        "      <td> 7.91e-03</td>\n",
        "      <td> 5.88e-01</td>\n",
        "    </tr>\n",
        "    <tr>\n",
        "      <th>(binary, hsa-mir-383)</th>\n",
        "      <td>  6.89</td>\n",
        "      <td> 8.67e-03</td>\n",
        "      <td> 5.88e-01</td>\n",
        "    </tr>\n",
        "    <tr>\n",
        "      <th>(binary, hsa-mir-3909)</th>\n",
        "      <td>  6.72</td>\n",
        "      <td> 9.55e-03</td>\n",
        "      <td> 5.88e-01</td>\n",
        "    </tr>\n",
        "    <tr>\n",
        "      <th rowspan=\"3\" valign=\"top\">lymph_staus_</th>\n",
        "      <th>(real, hsa-mir-369)</th>\n",
        "      <td> 21.84</td>\n",
        "      <td> 2.96e-06</td>\n",
        "      <td> 8.70e-04</td>\n",
        "    </tr>\n",
        "    <tr>\n",
        "      <th>(real, hsa-mir-487b)</th>\n",
        "      <td> 19.02</td>\n",
        "      <td> 1.29e-05</td>\n",
        "      <td> 1.80e-03</td>\n",
        "    </tr>\n",
        "    <tr>\n",
        "      <th>(real, hsa-mir-656)</th>\n",
        "      <td> 18.35</td>\n",
        "      <td> 1.84e-05</td>\n",
        "      <td> 1.80e-03</td>\n",
        "    </tr>\n",
        "    <tr>\n",
        "      <th rowspan=\"3\" valign=\"top\">stage_</th>\n",
        "      <th>(binary, hsa-mir-219-2)</th>\n",
        "      <td> 22.95</td>\n",
        "      <td> 1.30e-04</td>\n",
        "      <td> 3.81e-02</td>\n",
        "    </tr>\n",
        "    <tr>\n",
        "      <th>(binary, hsa-mir-1227)</th>\n",
        "      <td> 18.42</td>\n",
        "      <td> 1.02e-03</td>\n",
        "      <td> 1.01e-01</td>\n",
        "    </tr>\n",
        "    <tr>\n",
        "      <th>(binary, hsa-mir-526b)</th>\n",
        "      <td> 17.21</td>\n",
        "      <td> 1.76e-03</td>\n",
        "      <td> 1.01e-01</td>\n",
        "    </tr>\n",
        "    <tr>\n",
        "      <th rowspan=\"3\" valign=\"top\">subdivision_</th>\n",
        "      <th>(binary, hsa-mir-9-3)</th>\n",
        "      <td> 37.53</td>\n",
        "      <td> 7.10e-09</td>\n",
        "      <td> 2.09e-06</td>\n",
        "    </tr>\n",
        "    <tr>\n",
        "      <th>(real, hsa-mir-1293)</th>\n",
        "      <td> 35.24</td>\n",
        "      <td> 2.23e-08</td>\n",
        "      <td> 2.86e-06</td>\n",
        "    </tr>\n",
        "    <tr>\n",
        "      <th>(binary, hsa-mir-449a)</th>\n",
        "      <td> 34.70</td>\n",
        "      <td> 2.92e-08</td>\n",
        "      <td> 2.86e-06</td>\n",
        "    </tr>\n",
        "  </tbody>\n",
        "</table>\n",
        "</div>"
       ],
       "metadata": {},
       "output_type": "pyout",
       "prompt_number": 60,
       "text": [
        "                                          H         p         q\n",
        "age_         (binary, hsa-mir-153-1)   7.05  7.91e-03  5.88e-01\n",
        "             (binary, hsa-mir-383)     6.89  8.67e-03  5.88e-01\n",
        "             (binary, hsa-mir-3909)    6.72  9.55e-03  5.88e-01\n",
        "lymph_staus_ (real, hsa-mir-369)      21.84  2.96e-06  8.70e-04\n",
        "             (real, hsa-mir-487b)     19.02  1.29e-05  1.80e-03\n",
        "             (real, hsa-mir-656)      18.35  1.84e-05  1.80e-03\n",
        "stage_       (binary, hsa-mir-219-2)  22.95  1.30e-04  3.81e-02\n",
        "             (binary, hsa-mir-1227)   18.42  1.02e-03  1.01e-01\n",
        "             (binary, hsa-mir-526b)   17.21  1.76e-03  1.01e-01\n",
        "subdivision_ (binary, hsa-mir-9-3)    37.53  7.10e-09  2.09e-06\n",
        "             (real, hsa-mir-1293)     35.24  2.23e-08  2.86e-06\n",
        "             (binary, hsa-mir-449a)   34.70  2.92e-08  2.86e-06"
       ]
      }
     ],
     "prompt_number": 60
    },
    {
     "cell_type": "code",
     "collapsed": false,
     "input": [
      "fig, axs = subplots(1,3, figsize=(14,4))\n",
      "violin_plot_pandas(spread_inferred, mirna.df.ix['hsa-mir-369'].ix[:,'01'], ax=axs[0])\n",
      "f = mirna.df.ix['hsa-mir-369'].ix[:,'01'].ix[true_index(spread_inferred==1)]\n",
      "draw_survival_curve(to_quants(f, labels=True, std=1), surv, ax=axs[1])\n",
      "f = mirna.df.ix['hsa-mir-369'].ix[:,'01'].ix[true_index(spread_inferred==0)]\n",
      "draw_survival_curve(to_quants(f, labels=True, std=1), surv, ax=axs[2])"
     ],
     "language": "python",
     "metadata": {
      "slideshow": {
       "slide_type": "fragment"
      }
     },
     "outputs": [
      {
       "metadata": {},
       "output_type": "display_data",
       "png": "[encoded data removed]",
       "text": [
        "<matplotlib.figure.Figure at 0x1287a350>"
       ]
      }
     ],
     "prompt_number": 61
    }
   ],
   "metadata": {}
  }
 ]
}