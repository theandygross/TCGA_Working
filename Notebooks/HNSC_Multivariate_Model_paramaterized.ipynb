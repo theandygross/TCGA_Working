{
 "metadata": {
  "name": ""
 },
 "nbformat": 3,
 "nbformat_minor": 0,
 "worksheets": [
  {
   "cells": [
    {
     "cell_type": "markdown",
     "metadata": {},
     "source": [
      "#HNSC Multivariate Screen  \n",
      "\n",
      "This is a screen for survival associated features.  "
     ]
    },
    {
     "cell_type": "code",
     "collapsed": false,
     "input": [
      "cd ../src"
     ],
     "language": "python",
     "metadata": {},
     "outputs": [
      {
       "output_type": "stream",
       "stream": "stdout",
       "text": [
        "/cellar/users/agross/TCGA_Code/TCGA/Pathway_Merge/src\n"
       ]
      }
     ],
     "prompt_number": 1
    },
    {
     "cell_type": "code",
     "collapsed": false,
     "input": [
      "from Processing.Imports import *\n",
      "from Figures.Survival import survival_and_stats"
     ],
     "language": "python",
     "metadata": {},
     "outputs": [],
     "prompt_number": 2
    },
    {
     "cell_type": "markdown",
     "metadata": {},
     "source": [
      "##Read in Data"
     ]
    },
    {
     "cell_type": "code",
     "collapsed": false,
     "input": [
      "run = get_run('/cellar/data/TCGA/Firehose__2013_05_23/', 'Run_all')\n",
      "\n",
      "cancer = run.load_cancer('HNSC')\n",
      "clinical = cancer.load_clinical()\n",
      "global_vars = cancer.load_global_vars()\n",
      "\n",
      "mut = cancer.load_data('Mutation')\n",
      "mut.uncompress()\n",
      "meth = cancer.load_data('Methylation')\n",
      "cn = cancer.load_data('CN_broad')\n",
      "cn.uncompress()\n",
      "rna = cancer.load_data('mRNASeq')\n",
      "rppa  = cancer.load_data('RPPA')\n",
      "mirna = cancer.load_data('miRNASeq')\n",
      "age = clinical.clinical.age.astype(float)"
     ],
     "language": "python",
     "metadata": {},
     "outputs": [],
     "prompt_number": 3
    },
    {
     "cell_type": "code",
     "collapsed": false,
     "input": [
      "try:\n",
      "    rna = pickle.load(open(cancer.path + '/mRNASeq/store/no_hpv.p', 'rb'))\n",
      "    meth = pickle.load(open(cancer.path + '/Methylation/store/no_hpv.p', 'rb'))\n",
      "    mirna = pickle.load(open(cancer.path + '/miRNASeq/store/no_hpv.p', 'rb'))\n",
      "except:\n",
      "    from Initialization.InitializeReal import RealDataset\n",
      "    from Processing.Helpers import make_path_dump\n",
      "    rna = RealDataset(run, cancer, 'mRNASeq', keepers_o)\n",
      "    meth = RealDataset(run, cancer, 'Methylation', keepers_o)\n",
      "    mirna = RealDataset(run, cancer, 'miRNASeq', keepers_o, create_meta_features=False)\n",
      "    \n",
      "    make_path_dump(rna, rna.path + '/store/no_hpv.p')\n",
      "    make_path_dump(meth, meth.pth + '/store/no_hpv.p')\n",
      "    make_path_dump(mirna, mirna.path + '/store/no_hpv.p')"
     ],
     "language": "python",
     "metadata": {},
     "outputs": [],
     "prompt_number": 4
    },
    {
     "cell_type": "code",
     "collapsed": false,
     "input": [
      "from Data.ProcessClinical import format_survival_from_data_portal\n",
      "path  = '/cellar/users/agross/Data/TCGA/HNSC_Followup/'\n",
      "survival, timeline = format_survival_from_data_portal(path, cancer.name)\n",
      "clinical.survival = survival\n",
      "clinical.artificially_censor(5)\n",
      "age = timeline.age"
     ],
     "language": "python",
     "metadata": {},
     "outputs": [],
     "prompt_number": 5
    },
    {
     "cell_type": "markdown",
     "metadata": {},
     "source": [
      "##Clinical Features"
     ]
    },
    {
     "cell_type": "code",
     "collapsed": false,
     "input": [
      "clinical_processed = pd.read_csv(cancer.path + '/Clinical/clinical_processed.csv', index_col=0)\n",
      "clinical_processed['pre_2000'] = (clinical_processed.year < 2000).map({True: 'pre_2000', False: 'post_2000'})\n",
      "hpv_inferred = clinical_processed.hpv_inferred"
     ],
     "language": "python",
     "metadata": {},
     "outputs": [],
     "prompt_number": 6
    },
    {
     "cell_type": "code",
     "collapsed": false,
     "input": [
      "surv = clinical.survival.survival_5y\n",
      "old = pd.Series(1.*(age>=75), name='old')"
     ],
     "language": "python",
     "metadata": {},
     "outputs": [],
     "prompt_number": 7
    },
    {
     "cell_type": "markdown",
     "metadata": {},
     "source": [
      "####Form expression and methylation features without HPV  \n",
      "* HPV has a big influence on expression, here I am creating a second set of features without HPV\n",
      "* I use this sparingly but it helps to tease out wheter an association is due to a underlying relationship with HPV"
     ]
    },
    {
     "cell_type": "code",
     "collapsed": false,
     "input": [
      "from Processing.Screen import *"
     ],
     "language": "python",
     "metadata": {},
     "outputs": [],
     "prompt_number": 8
    },
    {
     "cell_type": "code",
     "collapsed": false,
     "input": [
      "def get_patient_set(filters):\n",
      "    f1 = [age >= 100] + list(filters)\n",
      "    filter_df = pd.concat(f1, axis=1)\n",
      "    clinical_filter = filter_df.dropna().sum(1) == 0\n",
      "    keepers_o = true_index(clinical_filter)\n",
      "    keepers_o = keepers_o.intersection(mut.features.columns).intersection(cn.features.columns)\n",
      "    \n",
      "    f2 = [age >= 85] + list(filters)\n",
      "    filter_df = pd.concat(f2, axis=1)\n",
      "    clinical_filter = filter_df.sum(1) == 0\n",
      "    keepers = true_index(clinical_filter)\n",
      "    keepers = keepers.intersection(mut.features.columns).intersection(cn.features.columns)\n",
      "    return keepers, keepers_o\n",
      "\n",
      "def get_data(keepers_o, binary_cutoff=12):\n",
      "    rate = mut.df.sum()\n",
      "    mut_df = mut_filter(mut.features.ix[:,keepers_o], rate, binary_cutoff).T\n",
      "    amp_df, del_df = cn_filter(cn.features, binary_cutoff)\n",
      "    rna_df = process_real(rna.features.ix['binary'])\n",
      "    mirna_df = process_real(mirna.features.ix['binary'])\n",
      "    \n",
      "    global_df = pd.concat([global_vars['mutation'], global_vars['cna'], rna.global_vars, \n",
      "                           meth.global_vars, mirna.global_vars], \n",
      "                           keys=['mutation', 'cna', 'rna', 'methylation', 'mirna'], axis=1)\n",
      "    global_df.columns = map(lambda s: '_'.join(s), global_df.columns)\n",
      "    clinical_df = clinical_processed.select(lambda s: 'age' not in s, 1)\n",
      "    df = pd.concat({'clinical': clinical_df,\n",
      "                    'global': global_df,\n",
      "                    'mutation': mut_df,\n",
      "                    'deletion': del_df,\n",
      "                    'amplification': amp_df,\n",
      "                    'rna': rna_df,\n",
      "                    'mirna': mirna_df,\n",
      "                    'methylation': meth.pathways.T}, axis=1).T\n",
      "    df = df.ix[:, keepers_o]\n",
      "    return df"
     ],
     "language": "python",
     "metadata": {},
     "outputs": [],
     "prompt_number": 9
    },
    {
     "cell_type": "code",
     "collapsed": false,
     "input": [
      "def test(s, surv, cov_df):\n",
      "    s = s.dropna()\n",
      "    try:\n",
      "        return get_cox_ph_ms(surv, s, cov_df, return_val='LR', interactions='just_feature')\n",
      "    except:\n",
      "        return pd.Series(index=['LR','feature_p', 'fmla', 'hazzard'])\n",
      "\n",
      "\n",
      "def run_screen(filters, cov):\n",
      "    cov_df = pd.concat(cov, axis=1)\n",
      "    keepers, keepers_o = get_patient_set(filters)\n",
      "    cutoff = max(np.floor(len(keepers_o) / 10.), 8)\n",
      "    cutoff = min(cutoff, 15)\n",
      "    df = get_data(keepers_o)\n",
      "    binary = filter_binary(df, cutoff)    \n",
      "\n",
      "    univariate = cox_screen(binary, surv)\n",
      "    vec = univariate.LR.p.sort_index()\n",
      "    univariate['q_bonf'] = vec.groupby(level=0).apply(lambda s: s*len(s)).order()\n",
      "    univariate['q_bh'] = vec.groupby(level=0).apply(bhCorrection).order()\n",
      "    hits = univariate[univariate['q_bh'] < .5].index\n",
      "    \n",
      "    feature_age = df.ix[hits].apply(test, args=(surv, cov_df,), axis=1)\n",
      "    vec = feature_age.LR.ix[univariate.index].sort_index()\n",
      "    feature_age['q_bonf'] = vec.groupby(level=0).apply(lambda s: s*len(s)).order()\n",
      "    feature_age['q_bh'] = vec.groupby(level=0).apply(bhCorrection).order()\n",
      "    feature_age['q_all'] = feature_age['q_bh'] * 6\n",
      "    hits = feature_age[feature_age.q_all < .3].index\n",
      "    try:\n",
      "        pairs, interactions = get_interactions(df.ix[hits], cov_df, \n",
      "                                               surv, test)\n",
      "        res = pd.concat([feature_age, interactions]).sort('LR')\n",
      "    except:\n",
      "        res = feature_age.sort('LR')\n",
      "    return res, feature_age, univariate, keepers_o, df"
     ],
     "language": "python",
     "metadata": {},
     "outputs": [],
     "prompt_number": 10
    },
    {
     "cell_type": "code",
     "collapsed": false,
     "input": [
      "res, feature_age, univariate, keepers_o, df = run_screen([hpv_inferred==1], [age, old])"
     ],
     "language": "python",
     "metadata": {},
     "outputs": [],
     "prompt_number": 11
    },
    {
     "cell_type": "code",
     "collapsed": false,
     "input": [
      "res.sort('LR').head()"
     ],
     "language": "python",
     "metadata": {},
     "outputs": [
      {
       "html": [
        "<div style=\"max-height:1000px;max-width:1500px;overflow:auto;\">\n",
        "<table border=\"1\" class=\"dataframe\">\n",
        "  <thead>\n",
        "    <tr style=\"text-align: right;\">\n",
        "      <th></th>\n",
        "      <th></th>\n",
        "      <th>LR</th>\n",
        "      <th>feature_p</th>\n",
        "      <th>fmla</th>\n",
        "      <th>hazzard</th>\n",
        "      <th>q_all</th>\n",
        "      <th>q_bh</th>\n",
        "      <th>q_bonf</th>\n",
        "    </tr>\n",
        "  </thead>\n",
        "  <tbody>\n",
        "    <tr>\n",
        "      <th>(clinical, smoker)</th>\n",
        "      <th>(deletion, 3p14.2)</th>\n",
        "      <td> 2.98e-06</td>\n",
        "      <td> 9.09e-06</td>\n",
        "      <td> Surv(days, event) ~ feature + old\\n</td>\n",
        "      <td>  2.7</td>\n",
        "      <td>      NaN</td>\n",
        "      <td>      NaN</td>\n",
        "      <td>      NaN</td>\n",
        "    </tr>\n",
        "    <tr>\n",
        "      <th>(clinical, smoker_inferred)</th>\n",
        "      <th>(deletion, 3p14.2)</th>\n",
        "      <td> 3.66e-06</td>\n",
        "      <td> 1.24e-05</td>\n",
        "      <td> Surv(days, event) ~ feature + old\\n</td>\n",
        "      <td>  2.6</td>\n",
        "      <td>      NaN</td>\n",
        "      <td>      NaN</td>\n",
        "      <td>      NaN</td>\n",
        "    </tr>\n",
        "    <tr>\n",
        "      <th rowspan=\"2\" valign=\"top\">clinical</th>\n",
        "      <th>smoker</th>\n",
        "      <td> 1.86e-05</td>\n",
        "      <td> 5.45e-05</td>\n",
        "      <td> Surv(days, event) ~ feature + old\\n</td>\n",
        "      <td> 2.55</td>\n",
        "      <td> 7.78e-04</td>\n",
        "      <td> 1.30e-04</td>\n",
        "      <td> 1.48e-04</td>\n",
        "    </tr>\n",
        "    <tr>\n",
        "      <th>smoker_inferred</th>\n",
        "      <td> 3.24e-05</td>\n",
        "      <td> 9.62e-05</td>\n",
        "      <td> Surv(days, event) ~ feature + old\\n</td>\n",
        "      <td> 2.42</td>\n",
        "      <td> 7.78e-04</td>\n",
        "      <td> 1.30e-04</td>\n",
        "      <td> 2.59e-04</td>\n",
        "    </tr>\n",
        "    <tr>\n",
        "      <th>rna</th>\n",
        "      <th>ANKS4B</th>\n",
        "      <td> 4.36e-05</td>\n",
        "      <td> 1.74e-05</td>\n",
        "      <td> Surv(days, event) ~ feature + old\\n</td>\n",
        "      <td> 2.39</td>\n",
        "      <td> 4.30e-01</td>\n",
        "      <td> 7.16e-02</td>\n",
        "      <td> 7.16e-02</td>\n",
        "    </tr>\n",
        "  </tbody>\n",
        "</table>\n",
        "</div>"
       ],
       "metadata": {},
       "output_type": "pyout",
       "prompt_number": 12,
       "text": [
        "                                                      LR feature_p                                 fmla hazzard     q_all      q_bh    q_bonf\n",
        "(clinical, smoker)          (deletion, 3p14.2)  2.98e-06  9.09e-06  Surv(days, event) ~ feature + old\\n     2.7       NaN       NaN       NaN\n",
        "(clinical, smoker_inferred) (deletion, 3p14.2)  3.66e-06  1.24e-05  Surv(days, event) ~ feature + old\\n     2.6       NaN       NaN       NaN\n",
        "clinical                    smoker              1.86e-05  5.45e-05  Surv(days, event) ~ feature + old\\n    2.55  7.78e-04  1.30e-04  1.48e-04\n",
        "                            smoker_inferred     3.24e-05  9.62e-05  Surv(days, event) ~ feature + old\\n    2.42  7.78e-04  1.30e-04  2.59e-04\n",
        "rna                         ANKS4B              4.36e-05  1.74e-05  Surv(days, event) ~ feature + old\\n    2.39  4.30e-01  7.16e-02  7.16e-02"
       ]
      }
     ],
     "prompt_number": 12
    },
    {
     "cell_type": "code",
     "collapsed": false,
     "input": [
      "combo = combine(df.ix['mutation'].ix['TP53'], df.ix['deletion'].ix['3p14.2'])\n",
      "survival_and_stats(combo, surv, figsize=(6,4))"
     ],
     "language": "python",
     "metadata": {},
     "outputs": [
      {
       "metadata": {},
       "output_type": "display_data",
       "png": "[encoded data removed]",
       "text": [
        "<matplotlib.figure.Figure at 0x75f1050>"
       ]
      }
     ],
     "prompt_number": 13
    },
    {
     "cell_type": "code",
     "collapsed": false,
     "input": [
      "two_hit = combo == 'both'\n",
      "survival_and_stats(two_hit, surv, figsize=(6,4))"
     ],
     "language": "python",
     "metadata": {},
     "outputs": [
      {
       "metadata": {},
       "output_type": "display_data",
       "png": "[encoded data removed]",
       "text": [
        "<matplotlib.figure.Figure at 0xac94850>"
       ]
      }
     ],
     "prompt_number": 14
    },
    {
     "cell_type": "code",
     "collapsed": false,
     "input": [
      "res, feature_age, univariate, keepers_o, df = run_screen([hpv_inferred==1, two_hit==1], [age, old])"
     ],
     "language": "python",
     "metadata": {},
     "outputs": [],
     "prompt_number": 15
    },
    {
     "cell_type": "code",
     "collapsed": false,
     "input": [
      "res.sort('LR').head(4)"
     ],
     "language": "python",
     "metadata": {},
     "outputs": [
      {
       "html": [
        "<div style=\"max-height:1000px;max-width:1500px;overflow:auto;\">\n",
        "<table border=\"1\" class=\"dataframe\">\n",
        "  <thead>\n",
        "    <tr style=\"text-align: right;\">\n",
        "      <th></th>\n",
        "      <th></th>\n",
        "      <th>LR</th>\n",
        "      <th>feature_p</th>\n",
        "      <th>fmla</th>\n",
        "      <th>hazzard</th>\n",
        "      <th>q_bonf</th>\n",
        "      <th>q_bh</th>\n",
        "      <th>q_all</th>\n",
        "    </tr>\n",
        "  </thead>\n",
        "  <tbody>\n",
        "    <tr>\n",
        "      <th rowspan=\"2\" valign=\"top\">mutation</th>\n",
        "      <th>BIOCARTA_CARDIACEGF_PATHWAY</th>\n",
        "      <td> 0</td>\n",
        "      <td> 1</td>\n",
        "      <td> Surv(days, event) ~ feature + age + feature:age\\n</td>\n",
        "      <td> 9.10e-30</td>\n",
        "      <td> 0.20</td>\n",
        "      <td> 0.12</td>\n",
        "      <td> 0.71</td>\n",
        "    </tr>\n",
        "    <tr>\n",
        "      <th>BIOCARTA_WNT_PATHWAY</th>\n",
        "      <td> 0</td>\n",
        "      <td> 0</td>\n",
        "      <td>               Surv(days, event) ~ feature + old\\n</td>\n",
        "      <td> 5.16e+00</td>\n",
        "      <td> 0.24</td>\n",
        "      <td> 0.12</td>\n",
        "      <td> 0.71</td>\n",
        "    </tr>\n",
        "    <tr>\n",
        "      <th>amplification</th>\n",
        "      <th>12q15</th>\n",
        "      <td> 0</td>\n",
        "      <td> 0</td>\n",
        "      <td>               Surv(days, event) ~ feature + old\\n</td>\n",
        "      <td> 5.09e+00</td>\n",
        "      <td> 0.07</td>\n",
        "      <td> 0.07</td>\n",
        "      <td> 0.41</td>\n",
        "    </tr>\n",
        "    <tr>\n",
        "      <th>clinical</th>\n",
        "      <th>invasion_inferred</th>\n",
        "      <td> 0</td>\n",
        "      <td> 1</td>\n",
        "      <td> Surv(days, event) ~ feature + old + feature:old\\n</td>\n",
        "      <td> 1.97e+01</td>\n",
        "      <td> 0.03</td>\n",
        "      <td> 0.03</td>\n",
        "      <td> 0.17</td>\n",
        "    </tr>\n",
        "  </tbody>\n",
        "</table>\n",
        "</div>"
       ],
       "metadata": {},
       "output_type": "pyout",
       "prompt_number": 16,
       "text": [
        "                                           LR  feature_p                                               fmla   hazzard  q_bonf  q_bh  q_all\n",
        "mutation      BIOCARTA_CARDIACEGF_PATHWAY   0          1  Surv(days, event) ~ feature + age + feature:age\\n  9.10e-30    0.20  0.12   0.71\n",
        "              BIOCARTA_WNT_PATHWAY          0          0                Surv(days, event) ~ feature + old\\n  5.16e+00    0.24  0.12   0.71\n",
        "amplification 12q15                         0          0                Surv(days, event) ~ feature + old\\n  5.09e+00    0.07  0.07   0.41\n",
        "clinical      invasion_inferred             0          1  Surv(days, event) ~ feature + old + feature:old\\n  1.97e+01    0.03  0.03   0.17"
       ]
      }
     ],
     "prompt_number": 16
    },
    {
     "cell_type": "code",
     "collapsed": false,
     "input": [
      "ras = df.ix['mutation'].ix['BIOCARTA_CARDIACEGF_PATHWAY'].ix[keepers_o].dropna()\n",
      "survival_and_stats(ras, surv, figsize=(6,4))"
     ],
     "language": "python",
     "metadata": {},
     "outputs": [
      {
       "metadata": {},
       "output_type": "display_data",
       "png": "[encoded data removed]",
       "text": [
        "<matplotlib.figure.Figure at 0x79d9ed0>"
       ]
      }
     ],
     "prompt_number": 17
    },
    {
     "cell_type": "code",
     "collapsed": false,
     "input": [
      "res, feature_age, univariate, keepers_o, df = run_screen([hpv_inferred==1, two_hit==1, ras==1], [age, old])"
     ],
     "language": "python",
     "metadata": {},
     "outputs": [],
     "prompt_number": 18
    },
    {
     "cell_type": "code",
     "collapsed": false,
     "input": [
      "res.sort('LR').head()"
     ],
     "language": "python",
     "metadata": {},
     "outputs": [
      {
       "html": [
        "<div style=\"max-height:1000px;max-width:1500px;overflow:auto;\">\n",
        "<table border=\"1\" class=\"dataframe\">\n",
        "  <thead>\n",
        "    <tr style=\"text-align: right;\">\n",
        "      <th></th>\n",
        "      <th></th>\n",
        "      <th>LR</th>\n",
        "      <th>feature_p</th>\n",
        "      <th>fmla</th>\n",
        "      <th>hazzard</th>\n",
        "      <th>q_bonf</th>\n",
        "      <th>q_bh</th>\n",
        "      <th>q_all</th>\n",
        "    </tr>\n",
        "  </thead>\n",
        "  <tbody>\n",
        "    <tr>\n",
        "      <th rowspan=\"2\" valign=\"top\">rna</th>\n",
        "      <th>FRG2C</th>\n",
        "      <td> 9.54e-05</td>\n",
        "      <td> 5.18e-03</td>\n",
        "      <td>               Surv(days, event) ~ feature + old\\n</td>\n",
        "      <td>  0.04</td>\n",
        "      <td> 0.11</td>\n",
        "      <td> 0.11</td>\n",
        "      <td> 0.65</td>\n",
        "    </tr>\n",
        "    <tr>\n",
        "      <th>KIAA0408</th>\n",
        "      <td> 4.85e-03</td>\n",
        "      <td> 8.14e-04</td>\n",
        "      <td> Surv(days, event) ~ feature + old + feature:old\\n</td>\n",
        "      <td>  8.46</td>\n",
        "      <td> 5.47</td>\n",
        "      <td> 1.00</td>\n",
        "      <td> 6.00</td>\n",
        "    </tr>\n",
        "    <tr>\n",
        "      <th>amplification</th>\n",
        "      <th>12q15</th>\n",
        "      <td> 6.10e-03</td>\n",
        "      <td> 5.09e-03</td>\n",
        "      <td>               Surv(days, event) ~ feature + old\\n</td>\n",
        "      <td>  4.61</td>\n",
        "      <td> 0.13</td>\n",
        "      <td> 0.13</td>\n",
        "      <td> 0.81</td>\n",
        "    </tr>\n",
        "    <tr>\n",
        "      <th rowspan=\"2\" valign=\"top\">clinical</th>\n",
        "      <th>invasion_inferred</th>\n",
        "      <td> 3.13e-02</td>\n",
        "      <td> 5.18e-02</td>\n",
        "      <td>               Surv(days, event) ~ feature + old\\n</td>\n",
        "      <td>  3.59</td>\n",
        "      <td> 0.13</td>\n",
        "      <td> 0.08</td>\n",
        "      <td> 0.47</td>\n",
        "    </tr>\n",
        "    <tr>\n",
        "      <th>smoker</th>\n",
        "      <td> 3.95e-02</td>\n",
        "      <td> 1.28e-02</td>\n",
        "      <td> Surv(days, event) ~ feature + age + feature:age\\n</td>\n",
        "      <td> 10.95</td>\n",
        "      <td> 0.16</td>\n",
        "      <td> 0.08</td>\n",
        "      <td> 0.47</td>\n",
        "    </tr>\n",
        "  </tbody>\n",
        "</table>\n",
        "</div>"
       ],
       "metadata": {},
       "output_type": "pyout",
       "prompt_number": 19,
       "text": [
        "                                       LR  feature_p                                               fmla  hazzard  q_bonf  q_bh  q_all\n",
        "rna           FRG2C              9.54e-05   5.18e-03                Surv(days, event) ~ feature + old\\n     0.04    0.11  0.11   0.65\n",
        "              KIAA0408           4.85e-03   8.14e-04  Surv(days, event) ~ feature + old + feature:old\\n     8.46    5.47  1.00   6.00\n",
        "amplification 12q15              6.10e-03   5.09e-03                Surv(days, event) ~ feature + old\\n     4.61    0.13  0.13   0.81\n",
        "clinical      invasion_inferred  3.13e-02   5.18e-02                Surv(days, event) ~ feature + old\\n     3.59    0.13  0.08   0.47\n",
        "              smoker             3.95e-02   1.28e-02  Surv(days, event) ~ feature + age + feature:age\\n    10.95    0.16  0.08   0.47"
       ]
      }
     ],
     "prompt_number": 19
    },
    {
     "cell_type": "code",
     "collapsed": false,
     "input": [
      "mdm2 = df.ix['amplification'].ix['12q15'].ix[keepers_o].dropna()\n",
      "survival_and_stats(mdm2, surv, figsize=(6,4))"
     ],
     "language": "python",
     "metadata": {},
     "outputs": [
      {
       "metadata": {},
       "output_type": "display_data",
       "png": "[encoded data removed]",
       "text": [
        "<matplotlib.figure.Figure at 0xadd60d0>"
       ]
      }
     ],
     "prompt_number": 20
    },
    {
     "cell_type": "code",
     "collapsed": false,
     "input": [
      "res, feature_age, univariate, keepers_o, df = run_screen([hpv_inferred==1, two_hit==1, ras==1, mdm2==1], [age, old])"
     ],
     "language": "python",
     "metadata": {},
     "outputs": [],
     "prompt_number": 21
    },
    {
     "cell_type": "code",
     "collapsed": false,
     "input": [
      "res.sort('LR').head()"
     ],
     "language": "python",
     "metadata": {},
     "outputs": [
      {
       "html": [
        "<div style=\"max-height:1000px;max-width:1500px;overflow:auto;\">\n",
        "<table border=\"1\" class=\"dataframe\">\n",
        "  <thead>\n",
        "    <tr style=\"text-align: right;\">\n",
        "      <th></th>\n",
        "      <th></th>\n",
        "      <th>LR</th>\n",
        "      <th>feature_p</th>\n",
        "      <th>fmla</th>\n",
        "      <th>hazzard</th>\n",
        "      <th>q_bonf</th>\n",
        "      <th>q_bh</th>\n",
        "      <th>q_all</th>\n",
        "    </tr>\n",
        "  </thead>\n",
        "  <tbody>\n",
        "    <tr>\n",
        "      <th rowspan=\"2\" valign=\"top\">mirna</th>\n",
        "      <th>hsa-mir-218-1</th>\n",
        "      <td> 0.00</td>\n",
        "      <td> 1.00</td>\n",
        "      <td>               Surv(days, event) ~ feature + age\\n</td>\n",
        "      <td> 7.63e-10</td>\n",
        "      <td> 0.08</td>\n",
        "      <td> 0.08</td>\n",
        "      <td> 0.49</td>\n",
        "    </tr>\n",
        "    <tr>\n",
        "      <th>hsa-mir-522</th>\n",
        "      <td> 0.00</td>\n",
        "      <td> 0.60</td>\n",
        "      <td> Surv(days, event) ~ feature + age + feature:age\\n</td>\n",
        "      <td> 1.33e-22</td>\n",
        "      <td> 0.26</td>\n",
        "      <td> 0.13</td>\n",
        "      <td> 0.77</td>\n",
        "    </tr>\n",
        "    <tr>\n",
        "      <th>deletion</th>\n",
        "      <th>10p15.3</th>\n",
        "      <td> 0.01</td>\n",
        "      <td> 1.00</td>\n",
        "      <td>               Surv(days, event) ~ feature + age\\n</td>\n",
        "      <td> 2.15e-09</td>\n",
        "      <td> 0.16</td>\n",
        "      <td> 0.16</td>\n",
        "      <td> 0.95</td>\n",
        "    </tr>\n",
        "    <tr>\n",
        "      <th>clinical</th>\n",
        "      <th>smoker</th>\n",
        "      <td> 0.02</td>\n",
        "      <td> 0.03</td>\n",
        "      <td> Surv(days, event) ~ feature + age + feature:age\\n</td>\n",
        "      <td> 4.08e+01</td>\n",
        "      <td> 0.09</td>\n",
        "      <td> 0.09</td>\n",
        "      <td> 0.54</td>\n",
        "    </tr>\n",
        "    <tr>\n",
        "      <th>mirna</th>\n",
        "      <th>hsa-mir-514-1</th>\n",
        "      <td> 0.04</td>\n",
        "      <td> 1.00</td>\n",
        "      <td>               Surv(days, event) ~ feature + age\\n</td>\n",
        "      <td> 4.74e-09</td>\n",
        "      <td> 3.23</td>\n",
        "      <td> 1.00</td>\n",
        "      <td> 6.00</td>\n",
        "    </tr>\n",
        "  </tbody>\n",
        "</table>\n",
        "</div>"
       ],
       "metadata": {},
       "output_type": "pyout",
       "prompt_number": 22,
       "text": [
        "                          LR  feature_p                                               fmla   hazzard  q_bonf  q_bh  q_all\n",
        "mirna    hsa-mir-218-1  0.00       1.00                Surv(days, event) ~ feature + age\\n  7.63e-10    0.08  0.08   0.49\n",
        "         hsa-mir-522    0.00       0.60  Surv(days, event) ~ feature + age + feature:age\\n  1.33e-22    0.26  0.13   0.77\n",
        "deletion 10p15.3        0.01       1.00                Surv(days, event) ~ feature + age\\n  2.15e-09    0.16  0.16   0.95\n",
        "clinical smoker         0.02       0.03  Surv(days, event) ~ feature + age + feature:age\\n  4.08e+01    0.09  0.09   0.54\n",
        "mirna    hsa-mir-514-1  0.04       1.00                Surv(days, event) ~ feature + age\\n  4.74e-09    3.23  1.00   6.00"
       ]
      }
     ],
     "prompt_number": 22
    },
    {
     "cell_type": "code",
     "collapsed": false,
     "input": [
      "mdm2 = data_sets['amplification']['12q15'].ix[keepers_o].dropna()\n",
      "survival_and_stats(mdm2, surv, figsize=(6,4))"
     ],
     "language": "python",
     "metadata": {},
     "outputs": [
      {
       "ename": "NameError",
       "evalue": "name 'data_sets' is not defined",
       "output_type": "pyerr",
       "traceback": [
        "\u001b[1;31m---------------------------------------------------------------------------\u001b[0m\n\u001b[1;31mNameError\u001b[0m                                 Traceback (most recent call last)",
        "\u001b[1;32m<ipython-input-23-2dc4ed05f9b2>\u001b[0m in \u001b[0;36m<module>\u001b[1;34m()\u001b[0m\n\u001b[1;32m----> 1\u001b[1;33m \u001b[0mmdm2\u001b[0m \u001b[1;33m=\u001b[0m \u001b[0mdata_sets\u001b[0m\u001b[1;33m[\u001b[0m\u001b[1;34m'amplification'\u001b[0m\u001b[1;33m]\u001b[0m\u001b[1;33m[\u001b[0m\u001b[1;34m'12q15'\u001b[0m\u001b[1;33m]\u001b[0m\u001b[1;33m.\u001b[0m\u001b[0mix\u001b[0m\u001b[1;33m[\u001b[0m\u001b[0mkeepers_o\u001b[0m\u001b[1;33m]\u001b[0m\u001b[1;33m.\u001b[0m\u001b[0mdropna\u001b[0m\u001b[1;33m(\u001b[0m\u001b[1;33m)\u001b[0m\u001b[1;33m\u001b[0m\u001b[0m\n\u001b[0m\u001b[0;32m      2\u001b[0m \u001b[0msurvival_and_stats\u001b[0m\u001b[1;33m(\u001b[0m\u001b[0mmdm2\u001b[0m\u001b[1;33m,\u001b[0m \u001b[0msurv\u001b[0m\u001b[1;33m,\u001b[0m \u001b[0mfigsize\u001b[0m\u001b[1;33m=\u001b[0m\u001b[1;33m(\u001b[0m\u001b[1;36m6\u001b[0m\u001b[1;33m,\u001b[0m\u001b[1;36m4\u001b[0m\u001b[1;33m)\u001b[0m\u001b[1;33m)\u001b[0m\u001b[1;33m\u001b[0m\u001b[0m\n",
        "\u001b[1;31mNameError\u001b[0m: name 'data_sets' is not defined"
       ]
      }
     ],
     "prompt_number": 23
    },
    {
     "cell_type": "code",
     "collapsed": false,
     "input": [
      "st = (1*(ras==0)).copy()\n",
      "st.ix[true_index(st==1).intersection(true_index(mdm2==1))] = 2\n",
      "st.ix[true_index(st==1).intersection(true_index(wnt==1))] = 3"
     ],
     "language": "python",
     "metadata": {},
     "outputs": []
    },
    {
     "cell_type": "code",
     "collapsed": false,
     "input": [
      "survival_and_stats(st, clinical.survival.survival_5y, upper_lim=10, figsize=(5,4), order=[3,2,1,0])\n",
      "plt.savefig('/cellar/users/agross/Desktop/Figures/subtype1_subtypes.pdf', tranparent=True)"
     ],
     "language": "python",
     "metadata": {},
     "outputs": []
    },
    {
     "cell_type": "code",
     "collapsed": false,
     "input": [
      "res, feature_age, univariate, keepers_o, df = run_screen([hpv_inferred==1, two_hit==0], [age, old])"
     ],
     "language": "python",
     "metadata": {},
     "outputs": []
    },
    {
     "cell_type": "code",
     "collapsed": false,
     "input": [
      "res.head()"
     ],
     "language": "python",
     "metadata": {},
     "outputs": []
    },
    {
     "cell_type": "code",
     "collapsed": false,
     "input": [
      "muc5b = df.ix['mutation'].ix['MUC5B'].ix[keepers_o].dropna()\n",
      "survival_and_stats(muc5b, surv, figsize=(6,4)) "
     ],
     "language": "python",
     "metadata": {},
     "outputs": []
    },
    {
     "cell_type": "code",
     "collapsed": false,
     "input": [
      "res, feature_age, univariate, keepers_o, df = run_screen([hpv_inferred==1, two_hit==0, muc5b==1], [age, old])"
     ],
     "language": "python",
     "metadata": {},
     "outputs": []
    },
    {
     "cell_type": "code",
     "collapsed": false,
     "input": [
      "res.sort('LR').head()"
     ],
     "language": "python",
     "metadata": {},
     "outputs": []
    },
    {
     "cell_type": "code",
     "collapsed": false,
     "input": [
      "pre_2k = df.ix['clinical'].ix['pre_2000'].ix[keepers_o].dropna()\n",
      "survival_and_stats(pre_2k, surv, figsize=(6,4))"
     ],
     "language": "python",
     "metadata": {},
     "outputs": []
    },
    {
     "cell_type": "code",
     "collapsed": false,
     "input": [
      "pre_2k = df.ix['clinical'].ix['pre_2000'].ix[keepers_o].dropna()\n",
      "res, feature_age, univariate, keepers_o, df = run_screen([hpv_inferred==1, two_hit==0, muc5b==1], \n",
      "                                                         [age, old, pre_2k])"
     ],
     "language": "python",
     "metadata": {},
     "outputs": []
    },
    {
     "cell_type": "code",
     "collapsed": false,
     "input": [
      "res.head()"
     ],
     "language": "python",
     "metadata": {},
     "outputs": []
    },
    {
     "cell_type": "code",
     "collapsed": false,
     "input": [
      "mir548 = df.ix['mirna'].ix['hsa-mir-548k'].ix[keepers_o].dropna()\n",
      "survival_and_stats(mir548, surv, figsize=(6,4))"
     ],
     "language": "python",
     "metadata": {},
     "outputs": []
    },
    {
     "cell_type": "code",
     "collapsed": false,
     "input": [
      "survival_and_stats(mir548.ix[true_index(pre_2k=='post_2000')].dropna(), surv, figsize=(6,4))"
     ],
     "language": "python",
     "metadata": {},
     "outputs": []
    },
    {
     "cell_type": "code",
     "collapsed": false,
     "input": [
      "st = (two_hit*1.).copy()\n",
      "st.ix[true_index(st==1).intersection(true_index(muc5b==1))] = 2\n",
      "st.ix[true_index(st==1).intersection(true_index(mir548==1))] = 3"
     ],
     "language": "python",
     "metadata": {},
     "outputs": []
    },
    {
     "cell_type": "code",
     "collapsed": false,
     "input": [
      "survival_and_stats(st.dropna(), surv)"
     ],
     "language": "python",
     "metadata": {},
     "outputs": []
    },
    {
     "cell_type": "code",
     "collapsed": false,
     "input": [
      "draw_survival_curves(clinical_processed.pre_2000=='pre_2000', surv, st, show=True, ann='p', show_legend=False)"
     ],
     "language": "python",
     "metadata": {},
     "outputs": []
    },
    {
     "cell_type": "code",
     "collapsed": false,
     "input": [
      "y = clinical_processed.year.dropna()\n",
      "y = 1.*(y < 2008) + 1.*(y < 2000)\n",
      "draw_survival_curves(y, surv, st, show=True, ann='p', show_legend=True)"
     ],
     "language": "python",
     "metadata": {},
     "outputs": []
    },
    {
     "cell_type": "code",
     "collapsed": false,
     "input": [
      "batch = pd.Series({i: i[5:7] for i in age.index})"
     ],
     "language": "python",
     "metadata": {},
     "outputs": []
    }
   ],
   "metadata": {}
  }
 ]
}