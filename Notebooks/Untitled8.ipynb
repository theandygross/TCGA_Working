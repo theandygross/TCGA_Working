{
 "metadata": {
  "name": ""
 },
 "nbformat": 3,
 "nbformat_minor": 0,
 "worksheets": [
  {
   "cells": [
    {
     "cell_type": "code",
     "collapsed": false,
     "input": [
      "cd ../src"
     ],
     "language": "python",
     "metadata": {},
     "outputs": [
      {
       "output_type": "stream",
       "stream": "stdout",
       "text": [
        "/cellar/users/agross/TCGA_Code/TCGA/Pathway_Merge/src\n"
       ]
      }
     ],
     "prompt_number": 1
    },
    {
     "cell_type": "code",
     "collapsed": false,
     "input": [
      "from Data.Firehose import get_submaf"
     ],
     "language": "python",
     "metadata": {},
     "outputs": [],
     "prompt_number": 2
    },
    {
     "cell_type": "code",
     "collapsed": false,
     "input": [
      "from Processing.Imports import *"
     ],
     "language": "python",
     "metadata": {},
     "outputs": [],
     "prompt_number": 3
    },
    {
     "cell_type": "code",
     "collapsed": false,
     "input": [
      "run = get_run('/cellar/data/TCGA/Firehose__2013_04_21/', 'Run_all')\n",
      "\n",
      "cancer = run.load_cancer('HNSC')\n",
      "clinical = cancer.load_clinical()"
     ],
     "language": "python",
     "metadata": {},
     "outputs": [],
     "prompt_number": 4
    },
    {
     "cell_type": "code",
     "collapsed": false,
     "input": [
      "mut = cancer.load_data('Mutation')\n",
      "mut.uncompress()"
     ],
     "language": "python",
     "metadata": {},
     "outputs": [],
     "prompt_number": 11
    },
    {
     "cell_type": "code",
     "collapsed": false,
     "input": [
      "global_vars = cancer.load_global_vars()"
     ],
     "language": "python",
     "metadata": {},
     "outputs": [],
     "prompt_number": 5
    },
    {
     "cell_type": "code",
     "collapsed": false,
     "input": [
      "screen_feature(clinical.clinical.age, spearman_pandas, global_vars.mutation.T)"
     ],
     "language": "python",
     "metadata": {},
     "outputs": [
      {
       "html": [
        "<div style=\"max-height:1000px;max-width:1500px;overflow:auto;\">\n",
        "<table border=\"1\" class=\"dataframe\">\n",
        "  <thead>\n",
        "    <tr style=\"text-align: right;\">\n",
        "      <th></th>\n",
        "      <th>rho</th>\n",
        "      <th>p</th>\n",
        "      <th>q</th>\n",
        "    </tr>\n",
        "  </thead>\n",
        "  <tbody>\n",
        "    <tr>\n",
        "      <th>rate_sil</th>\n",
        "      <td> 0.18</td>\n",
        "      <td> 0.00</td>\n",
        "      <td> 0.02</td>\n",
        "    </tr>\n",
        "    <tr>\n",
        "      <th>rate_dbsnp</th>\n",
        "      <td> 0.16</td>\n",
        "      <td> 0.01</td>\n",
        "      <td> 0.02</td>\n",
        "    </tr>\n",
        "    <tr>\n",
        "      <th>rate_non</th>\n",
        "      <td> 0.16</td>\n",
        "      <td> 0.01</td>\n",
        "      <td> 0.02</td>\n",
        "    </tr>\n",
        "    <tr>\n",
        "      <th>double_null</th>\n",
        "      <td> 0.10</td>\n",
        "      <td> 0.08</td>\n",
        "      <td> 0.18</td>\n",
        "    </tr>\n",
        "    <tr>\n",
        "      <th>A-&gt;mut</th>\n",
        "      <td>-0.09</td>\n",
        "      <td> 0.13</td>\n",
        "      <td> 0.22</td>\n",
        "    </tr>\n",
        "    <tr>\n",
        "      <th>*Cp(A_C_T)-&gt;T</th>\n",
        "      <td> 0.08</td>\n",
        "      <td> 0.14</td>\n",
        "      <td> 0.22</td>\n",
        "    </tr>\n",
        "    <tr>\n",
        "      <th>indel+null</th>\n",
        "      <td>-0.05</td>\n",
        "      <td> 0.41</td>\n",
        "      <td> 0.49</td>\n",
        "    </tr>\n",
        "    <tr>\n",
        "      <th>C-&gt;(G_A)</th>\n",
        "      <td> 0.04</td>\n",
        "      <td> 0.44</td>\n",
        "      <td> 0.49</td>\n",
        "    </tr>\n",
        "    <tr>\n",
        "      <th>*CpG-&gt;T</th>\n",
        "      <td> 0.00</td>\n",
        "      <td> 0.94</td>\n",
        "      <td> 0.94</td>\n",
        "    </tr>\n",
        "  </tbody>\n",
        "</table>\n",
        "</div>"
       ],
       "metadata": {},
       "output_type": "pyout",
       "prompt_number": 8,
       "text": [
        "                rho     p     q\n",
        "rate_sil       0.18  0.00  0.02\n",
        "rate_dbsnp     0.16  0.01  0.02\n",
        "rate_non       0.16  0.01  0.02\n",
        "double_null    0.10  0.08  0.18\n",
        "A->mut        -0.09  0.13  0.22\n",
        "*Cp(A_C_T)->T  0.08  0.14  0.22\n",
        "indel+null    -0.05  0.41  0.49\n",
        "C->(G_A)       0.04  0.44  0.49\n",
        "*CpG->T        0.00  0.94  0.94"
       ]
      }
     ],
     "prompt_number": 8
    },
    {
     "cell_type": "code",
     "collapsed": false,
     "input": [
      "maf = get_submaf(run.data_path, 'HNSC', fields='all')"
     ],
     "language": "python",
     "metadata": {},
     "outputs": [],
     "prompt_number": 19
    },
    {
     "cell_type": "code",
     "collapsed": false,
     "input": [
      "maf.ix[0].head(40)"
     ],
     "language": "python",
     "metadata": {},
     "outputs": [
      {
       "metadata": {},
       "output_type": "pyout",
       "prompt_number": 34,
       "text": [
        "Entrez_Gene_Id                                                        155184\n",
        "Center                                                         broad.mit.edu\n",
        "NCBI_Build                                                                37\n",
        "Chromosome                                                                 1\n",
        "Start_position                                                       9086388\n",
        "End_position                                                         9086388\n",
        "Strand                                                                     +\n",
        "Variant_Classification                                     Missense_Mutation\n",
        "Variant_Type                                                             SNP\n",
        "Reference_Allele                                                           G\n",
        "Tumor_Seq_Allele1                                                          T\n",
        "Tumor_Seq_Allele2                                                          T\n",
        "dbSNP_RS                                                         rs150973958\n",
        "dbSNP_Val_Status                                                 byFrequency\n",
        "Tumor_Sample_Barcode                                            TCGA-BA-4074\n",
        "Matched_Norm_Sample_Barcode                     TCGA-BA-4074-10A-01D-1434-08\n",
        "Mutation_Status                                                      Somatic\n",
        "Sequencing_Phase                                                     Phase_I\n",
        "Sequence_Source                                                      Capture\n",
        "Sequencer                                                     Illumina GAIIx\n",
        "Tumor_Sample_UUID                       2c84e904-0cbc-4645-b7e5-94ec45e61268\n",
        "Matched_Norm_Sample_UUID                c28b58ca-f8e1-4063-908e-3ecf58104b68\n",
        "Genome_Change                                              g.chr1:9086388G>T\n",
        "Annotation_Transcript                                             uc009vmo.1\n",
        "Transcript_Strand                                                          -\n",
        "Transcript_Exon                                                            1\n",
        "Transcript_Position                                                       17\n",
        "cDNA_Change                                                          c.17C>A\n",
        "Codon_Change                                                c.(16-18)GCG>GAG\n",
        "Protein_Change                                                         p.A6E\n",
        "Other_Transcripts                                                        NaN\n",
        "Refseq_mRNA_Id                                                     NM_207420\n",
        "Refseq_prot_Id                                                     NP_997303\n",
        "SwissProt_acc_Id                                                      Q6PXP3\n",
        "SwissProt_entry_Id                                                GTR7_HUMAN\n",
        "Description                    intestinal facilitative glucose transporter 7\n",
        "UniProt_AApos                                                              6\n",
        "UniProt_Region                                      Cytoplasmic (Potential).\n",
        "UniProt_Site                                                             NaN\n",
        "UniProt_Natural_Variations                                               NaN\n",
        "Name: (SLC2A7, 0), dtype: object"
       ]
      }
     ],
     "prompt_number": 34
    },
    {
     "cell_type": "code",
     "collapsed": false,
     "input": [
      "maf.head()"
     ],
     "language": "python",
     "metadata": {},
     "outputs": [
      {
       "html": [
        "<div style=\"max-height:1000px;max-width:1500px;overflow:auto;\">\n",
        "<table border=\"1\" class=\"dataframe\">\n",
        "  <thead>\n",
        "    <tr style=\"text-align: right;\">\n",
        "      <th></th>\n",
        "      <th></th>\n",
        "      <th>Chromosome</th>\n",
        "      <th>Start_position</th>\n",
        "      <th>End_position</th>\n",
        "      <th>Strand</th>\n",
        "      <th>Reference_Allele</th>\n",
        "      <th>Alt_Allele</th>\n",
        "      <th>Tumor_Sample_Barcode</th>\n",
        "    </tr>\n",
        "    <tr>\n",
        "      <th>Hugo_Symbol</th>\n",
        "      <th></th>\n",
        "      <th></th>\n",
        "      <th></th>\n",
        "      <th></th>\n",
        "      <th></th>\n",
        "      <th></th>\n",
        "      <th></th>\n",
        "      <th></th>\n",
        "    </tr>\n",
        "  </thead>\n",
        "  <tbody>\n",
        "    <tr>\n",
        "      <th>SLC2A7</th>\n",
        "      <th>0</th>\n",
        "      <td> 1</td>\n",
        "      <td>  9086388</td>\n",
        "      <td>  9086388</td>\n",
        "      <td> +</td>\n",
        "      <td> G</td>\n",
        "      <td> T</td>\n",
        "      <td> TCGA-BA-4074</td>\n",
        "    </tr>\n",
        "    <tr>\n",
        "      <th>VPS13D</th>\n",
        "      <th>1</th>\n",
        "      <td> 1</td>\n",
        "      <td> 12423152</td>\n",
        "      <td> 12423152</td>\n",
        "      <td> +</td>\n",
        "      <td> A</td>\n",
        "      <td> T</td>\n",
        "      <td> TCGA-BA-4074</td>\n",
        "    </tr>\n",
        "    <tr>\n",
        "      <th>KIAA0467</th>\n",
        "      <th>2</th>\n",
        "      <td> 1</td>\n",
        "      <td> 43908207</td>\n",
        "      <td> 43908207</td>\n",
        "      <td> +</td>\n",
        "      <td> A</td>\n",
        "      <td> T</td>\n",
        "      <td> TCGA-BA-4074</td>\n",
        "    </tr>\n",
        "    <tr>\n",
        "      <th>BEND5</th>\n",
        "      <th>3</th>\n",
        "      <td> 1</td>\n",
        "      <td> 49202065</td>\n",
        "      <td> 49202065</td>\n",
        "      <td> +</td>\n",
        "      <td> G</td>\n",
        "      <td> C</td>\n",
        "      <td> TCGA-BA-4074</td>\n",
        "    </tr>\n",
        "    <tr>\n",
        "      <th>DIO1</th>\n",
        "      <th>4</th>\n",
        "      <td> 1</td>\n",
        "      <td> 54370406</td>\n",
        "      <td> 54370406</td>\n",
        "      <td> +</td>\n",
        "      <td> G</td>\n",
        "      <td> A</td>\n",
        "      <td> TCGA-BA-4074</td>\n",
        "    </tr>\n",
        "  </tbody>\n",
        "</table>\n",
        "</div>"
       ],
       "metadata": {},
       "output_type": "pyout",
       "prompt_number": 18,
       "text": [
        "              Chromosome  Start_position  End_position Strand Reference_Allele Alt_Allele Tumor_Sample_Barcode\n",
        "Hugo_Symbol                                                                                                   \n",
        "SLC2A7      0          1         9086388       9086388      +                G          T         TCGA-BA-4074\n",
        "VPS13D      1          1        12423152      12423152      +                A          T         TCGA-BA-4074\n",
        "KIAA0467    2          1        43908207      43908207      +                A          T         TCGA-BA-4074\n",
        "BEND5       3          1        49202065      49202065      +                G          C         TCGA-BA-4074\n",
        "DIO1        4          1        54370406      54370406      +                G          A         TCGA-BA-4074"
       ]
      }
     ],
     "prompt_number": 18
    },
    {
     "cell_type": "code",
     "collapsed": false,
     "input": [
      "mut"
     ],
     "language": "python",
     "metadata": {},
     "outputs": []
    },
    {
     "cell_type": "code",
     "collapsed": false,
     "input": [
      "clinical.clinical.age.hist()"
     ],
     "language": "python",
     "metadata": {},
     "outputs": [
      {
       "metadata": {},
       "output_type": "pyout",
       "prompt_number": 16,
       "text": [
        "<matplotlib.axes.AxesSubplot at 0x7646590>"
       ]
      },
      {
       "metadata": {},
       "output_type": "display_data",
       "png": "[encoded data removed]",
       "text": [
        "<matplotlib.figure.Figure at 0x7646f10>"
       ]
      }
     ],
     "prompt_number": 16
    },
    {
     "cell_type": "code",
     "collapsed": false,
     "input": [],
     "language": "python",
     "metadata": {},
     "outputs": []
    }
   ],
   "metadata": {}
  }
 ]
}