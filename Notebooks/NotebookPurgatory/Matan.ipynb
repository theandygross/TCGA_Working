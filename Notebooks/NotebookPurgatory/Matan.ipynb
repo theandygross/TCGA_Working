{
 "metadata": {
  "name": "Matan"
 },
 "nbformat": 3,
 "nbformat_minor": 0,
 "worksheets": [
  {
   "cells": [
    {
     "cell_type": "code",
     "collapsed": false,
     "input": [
      "cd ../src"
     ],
     "language": "python",
     "metadata": {},
     "outputs": [
      {
       "output_type": "stream",
       "stream": "stdout",
       "text": [
        "/cellar/users/agross/TCGA_Code/TCGA/Pathway_Merge/src\n"
       ]
      }
     ],
     "prompt_number": 1
    },
    {
     "cell_type": "code",
     "collapsed": false,
     "input": [
      "import os as os\n",
      "import pickle as pickle\n",
      "import subprocess\n",
      "\n",
      "from pandas import Series, DataFrame\n",
      "from Data.Firehose import *"
     ],
     "language": "python",
     "metadata": {},
     "outputs": [],
     "prompt_number": 2
    },
    {
     "cell_type": "code",
     "collapsed": false,
     "input": [
      "result_path = '/scratch/TCGA/Firehose__2012_12_21/ucsd_analyses'\n",
      "run = sorted(os.listdir(result_path))[0]\n",
      "run = pickle.load(open('/'.join([result_path, run, 'RunObject.p']), 'rb'))"
     ],
     "language": "python",
     "metadata": {},
     "outputs": [],
     "prompt_number": 3
    },
    {
     "cell_type": "code",
     "collapsed": false,
     "input": [
      "def get_gistic_genes(cancer_name, data_path, filter_with_rna=True, \n",
      "                     collapse_on_bands=True, min_patients=5):\n",
      "    gistic_ext = data_path + '/'.join(['analyses', cancer_name, \n",
      "                                       'CopyNumber_Gistic2', ''])\n",
      "    gistic = read_table(gistic_ext + 'all_thresholded.by_genes.txt', \n",
      "                        index_col=[2,1,0])\n",
      "    gistic = gistic.rename(columns=lambda s: s[:12]).astype(float)\n",
      "\n",
      "    deletion = gistic[(gistic == -2).sum(1) > min_patients]\n",
      "    amp = gistic[(gistic == 2).sum(1) > min_patients]\n",
      "    ft = pd.MultiIndex.from_tuples #rediculously long pandas names\n",
      "    deletion.index = ft([('Deletion', s[0], s[2]) for s in deletion.index])\n",
      "    amp.index = ft([('Amplification', s[0], s[2]) for s in amp.index])\n",
      "    \n",
      "    if filter_with_rna:\n",
      "        rna = read_rnaSeq(cancer_name, data_path, average_on_genes=True)\n",
      "        def rna_filter(df, val):\n",
      "            p_vals = Series({g: kruskal_p(df.ix[g] == val, rna.ix[g[-1]]) \n",
      "                             for g in df.index if g[-1] in rna.index})\n",
      "            q_vals = bhCorrection(p_vals)\n",
      "            return df.ix[q_vals[q_vals < .05].index]\n",
      "        deletion = rna_filter(deletion, -1)\n",
      "        amp = rna_filter(amp, 1)\n",
      "   \n",
      "    cna_genes = amp.append(deletion)\n",
      "    if collapse_on_bands == False:\n",
      "        return cna_genes\n",
      "    \n",
      "    cna_genes = DataFrame({(a[0], a[1], tuple(b.index.get_level_values(2))): \n",
      "                           b.mean().round() for a,b in \n",
      "                           cna_genes.groupby(level=[0,1])}).T\n",
      "    cna_genes.index = pd.MultiIndex.from_tuples(cna_genes.index)\n",
      "    return cna_genes"
     ],
     "language": "python",
     "metadata": {},
     "outputs": [],
     "prompt_number": 39
    },
    {
     "cell_type": "code",
     "collapsed": false,
     "input": [
      "mat = get_gistic_gene_matrix(run.data_path, 'OV')\n",
      "mat.index = pd.Index(mat.index.get_level_values(2))"
     ],
     "language": "python",
     "metadata": {},
     "outputs": [],
     "prompt_number": 10
    },
    {
     "cell_type": "code",
     "collapsed": false,
     "input": [
      "(mat == -2).sum(1).hist()"
     ],
     "language": "python",
     "metadata": {},
     "outputs": [
      {
       "output_type": "pyout",
       "prompt_number": 11,
       "text": [
        "<matplotlib.axes.AxesSubplot at 0x6e87d10>"
       ]
      },
      {
       "output_type": "display_data",
       "png": "[encoded data removed]",
       "text": [
        "<matplotlib.figure.Figure at 0x6e874d0>"
       ]
      }
     ],
     "prompt_number": 11
    },
    {
     "cell_type": "code",
     "collapsed": false,
     "input": [
      "mat.stack().value_counts()"
     ],
     "language": "python",
     "metadata": {},
     "outputs": [
      {
       "output_type": "pyout",
       "prompt_number": 12,
       "text": [
        " 0    4857827\n",
        "-1    4722298\n",
        " 1    3280114\n",
        " 2     551481\n",
        "-2     101546"
       ]
      }
     ],
     "prompt_number": 12
    },
    {
     "cell_type": "code",
     "collapsed": false,
     "input": [
      "g1 = get_gistic_genes('OV', run.data_path, collapse_on_bands=False)"
     ],
     "language": "python",
     "metadata": {},
     "outputs": [],
     "prompt_number": 40
    },
    {
     "cell_type": "code",
     "collapsed": false,
     "input": [
      "g = get_gistic_genes('OV', run.data_path, collapse_on_bands=False)"
     ],
     "language": "python",
     "metadata": {},
     "outputs": [],
     "prompt_number": 13
    },
    {
     "cell_type": "code",
     "collapsed": false,
     "input": [
      "deletion = (g1.ix['Deletion'] == -1)"
     ],
     "language": "python",
     "metadata": {},
     "outputs": [],
     "prompt_number": 42
    },
    {
     "cell_type": "code",
     "collapsed": false,
     "input": [
      "g1.ix['Amplification']"
     ],
     "language": "python",
     "metadata": {},
     "outputs": [
      {
       "output_type": "pyout",
       "prompt_number": 44,
       "text": [
        "<class 'pandas.core.frame.DataFrame'>\n",
        "MultiIndex: 8850 entries, (10p11.1, HSD17B7P2) to (Xq28, ZFP92)\n",
        "Columns: 559 entries, TCGA-04-1331 to TCGA-61-2614\n",
        "dtypes: float64(559)"
       ]
      }
     ],
     "prompt_number": 44
    },
    {
     "cell_type": "code",
     "collapsed": false,
     "input": [
      "((g1.ix['Deletion'] > 0).sum().order() / (1.*len(g1.ix['Deletion']))).hist()"
     ],
     "language": "python",
     "metadata": {},
     "outputs": [
      {
       "output_type": "pyout",
       "prompt_number": 59,
       "text": [
        "<matplotlib.axes.AxesSubplot at 0xc173e50>"
       ]
      },
      {
       "output_type": "display_data",
       "png": "[encoded data removed]",
       "text": [
        "<matplotlib.figure.Figure at 0xc17d0d0>"
       ]
      }
     ],
     "prompt_number": 59
    },
    {
     "cell_type": "code",
     "collapsed": false,
     "input": [
      "((g1.ix['Amplification'] > 0).sum().order() / (1.*len(g1.ix['Amplification']))).hist()"
     ],
     "language": "python",
     "metadata": {},
     "outputs": [
      {
       "output_type": "pyout",
       "prompt_number": 60,
       "text": [
        "<matplotlib.axes.AxesSubplot at 0x11281090>"
       ]
      },
      {
       "output_type": "display_data",
       "png": "[encoded data removed]",
       "text": [
        "<matplotlib.figure.Figure at 0xc17d110>"
       ]
      }
     ],
     "prompt_number": 60
    },
    {
     "cell_type": "code",
     "collapsed": false,
     "input": [
      "from Reports.Figures import *"
     ],
     "language": "python",
     "metadata": {},
     "outputs": [],
     "prompt_number": 61
    },
    {
     "cell_type": "code",
     "collapsed": false,
     "input": [
      "(g1.ix['Deletion'] == -1).sum(1).hist()"
     ],
     "language": "python",
     "metadata": {},
     "outputs": [
      {
       "output_type": "pyout",
       "prompt_number": 45,
       "text": [
        "<matplotlib.axes.AxesSubplot at 0x1048cb50>"
       ]
      },
      {
       "output_type": "display_data",
       "png": "[encoded data removed]",
       "text": [
        "<matplotlib.figure.Figure at 0xe5fad10>"
       ]
      }
     ],
     "prompt_number": 45
    },
    {
     "cell_type": "code",
     "collapsed": false,
     "input": [
      "(g1.ix['Amplification'] == 1).sum(1).hist()"
     ],
     "language": "python",
     "metadata": {},
     "outputs": [
      {
       "output_type": "pyout",
       "prompt_number": 46,
       "text": [
        "<matplotlib.axes.AxesSubplot at 0xc1625d0>"
       ]
      },
      {
       "output_type": "display_data",
       "png": "[encoded data removed]",
       "text": [
        "<matplotlib.figure.Figure at 0xc168950>"
       ]
      }
     ],
     "prompt_number": 46
    },
    {
     "cell_type": "code",
     "collapsed": false,
     "input": [
      "g.head().T.head()"
     ],
     "language": "python",
     "metadata": {},
     "outputs": [
      {
       "html": [
        "<div style=\"max-height:1000px;max-width:1500px;overflow:auto;\">\n",
        "<table border=\"1\" class=\"dataframe\">\n",
        "  <thead>\n",
        "    <tr>\n",
        "      <th></th>\n",
        "      <th colspan=\"5\" halign=\"left\">Amplification</th>\n",
        "    </tr>\n",
        "    <tr>\n",
        "      <th></th>\n",
        "      <th colspan=\"5\" halign=\"left\">10p11.1</th>\n",
        "    </tr>\n",
        "    <tr>\n",
        "      <th></th>\n",
        "      <th>HSD17B7P2</th>\n",
        "      <th>LOC100129055</th>\n",
        "      <th>ZNF248</th>\n",
        "      <th>ZNF25</th>\n",
        "      <th>ZNF33A</th>\n",
        "    </tr>\n",
        "  </thead>\n",
        "  <tbody>\n",
        "    <tr>\n",
        "      <th>TCGA-04-1331</th>\n",
        "      <td> 0</td>\n",
        "      <td> 0</td>\n",
        "      <td> 0</td>\n",
        "      <td> 0</td>\n",
        "      <td> 0</td>\n",
        "    </tr>\n",
        "    <tr>\n",
        "      <th>TCGA-04-1332</th>\n",
        "      <td> 1</td>\n",
        "      <td> 1</td>\n",
        "      <td> 1</td>\n",
        "      <td> 1</td>\n",
        "      <td> 1</td>\n",
        "    </tr>\n",
        "    <tr>\n",
        "      <th>TCGA-04-1335</th>\n",
        "      <td> 0</td>\n",
        "      <td> 0</td>\n",
        "      <td> 0</td>\n",
        "      <td> 0</td>\n",
        "      <td> 0</td>\n",
        "    </tr>\n",
        "    <tr>\n",
        "      <th>TCGA-04-1336</th>\n",
        "      <td> 0</td>\n",
        "      <td> 0</td>\n",
        "      <td> 0</td>\n",
        "      <td> 0</td>\n",
        "      <td> 0</td>\n",
        "    </tr>\n",
        "    <tr>\n",
        "      <th>TCGA-04-1337</th>\n",
        "      <td> 0</td>\n",
        "      <td> 0</td>\n",
        "      <td> 0</td>\n",
        "      <td> 0</td>\n",
        "      <td> 0</td>\n",
        "    </tr>\n",
        "  </tbody>\n",
        "</table>\n",
        "</div>"
       ],
       "output_type": "pyout",
       "prompt_number": 27,
       "text": [
        "              Amplification                                     \n",
        "                    10p11.1                                     \n",
        "                  HSD17B7P2  LOC100129055  ZNF248  ZNF25  ZNF33A\n",
        "TCGA-04-1331              0             0       0      0       0\n",
        "TCGA-04-1332              1             1       1      1       1\n",
        "TCGA-04-1335              0             0       0      0       0\n",
        "TCGA-04-1336              0             0       0      0       0\n",
        "TCGA-04-1337              0             0       0      0       0"
       ]
      }
     ],
     "prompt_number": 27
    },
    {
     "cell_type": "code",
     "collapsed": false,
     "input": [
      "def read_rnaSeq(cancer, data_path, patients=None, average_on_genes=False):\n",
      "    stddata_path = data_path + '/'.join(['stddata', cancer,''])\n",
      "    data_types = filter(lambda f: f[:6] == 'rnaseq', os.listdir(stddata_path))\n",
      "    data_type = sorted(data_types)[-1]\n",
      "    if data_type.split('__')[0] == 'rnaseqv2':\n",
      "        rnaSeq = read_table(stddata_path +  data_type + \n",
      "                            '/RSEM_genes_normalized_data.txt',\n",
      "                            index_col=0, skiprows=[1])\n",
      "    else:\n",
      "        rnaSeq = read_table(stddata_path +  data_type + \n",
      "                            '/gene_expression_data.txt', index_col=0)\n",
      "        rnaSeq = rnaSeq.ix[1:,rnaSeq.ix[0] == 'RPKM']\n",
      "    rnaSeq = rnaSeq.select(lambda s: s.split('-')[3] == '01A', 1)\n",
      "    rnaSeq = rnaSeq.rename(columns=lambda s: s[:12])\n",
      "    if patients is not None:\n",
      "        rnaSeq  = rnaSeq.ix[:, patients]\n",
      "    rnaSeq = rnaSeq.dropna(thresh=100)\n",
      "    if average_on_genes:\n",
      "        rnaSeq = rnaSeq.groupby(by=lambda n: n.split('|')[0]).mean()\n",
      "    #rnaSeq = np.log2(rnaSeq.astype(np.float))\n",
      "    return rnaSeq"
     ],
     "language": "python",
     "metadata": {},
     "outputs": [],
     "prompt_number": 76
    },
    {
     "cell_type": "code",
     "collapsed": false,
     "input": [
      "rna = read_rnaSeq('OV', run.data_path, average_on_genes=True)"
     ],
     "language": "python",
     "metadata": {},
     "outputs": [],
     "prompt_number": 77
    },
    {
     "cell_type": "code",
     "collapsed": false,
     "input": [
      "cancer = run.load_cancer('OV')\n",
      "maf = cancer.load_data('MAF')\n",
      "maf.uncompress()"
     ],
     "language": "python",
     "metadata": {},
     "outputs": [],
     "prompt_number": 102
    },
    {
     "cell_type": "code",
     "collapsed": false,
     "input": [
      "f = '/scratch/TCGA/Firehose__2012_01_16/stddata/OV/Merge_transcriptome__agilentg4502a_07_3__unc_edu__Level_3__unc_lowess_normalization_gene_level__data/OV.transcriptome__agilentg4502a_07_3__unc_edu__Level_3__unc_lowess_normalization_gene_level__data.data.txt'"
     ],
     "language": "python",
     "metadata": {},
     "outputs": [],
     "prompt_number": 141
    },
    {
     "cell_type": "code",
     "collapsed": false,
     "input": [],
     "language": "python",
     "metadata": {},
     "outputs": []
    },
    {
     "cell_type": "code",
     "collapsed": false,
     "input": [
      "mrna = pd.read_table(f, index_col=0, skiprows=[1])\n",
      "mrna = mrna.select(lambda s: s.split('-')[3] == '01A', 1)\n",
      "mrna = mrna.rename(columns=lambda s: s[:12])\n",
      "mrna = mrna.replace('null',nan)\n",
      "mrna = mrna.astype(float)"
     ],
     "language": "python",
     "metadata": {},
     "outputs": [],
     "prompt_number": 160
    },
    {
     "cell_type": "code",
     "collapsed": false,
     "input": [
      "vec = mat.ix[1]\n",
      "gene = mat.index[1]"
     ],
     "language": "python",
     "metadata": {},
     "outputs": [],
     "prompt_number": 165
    },
    {
     "cell_type": "code",
     "collapsed": false,
     "input": [],
     "language": "python",
     "metadata": {},
     "outputs": [],
     "prompt_number": 166
    },
    {
     "cell_type": "code",
     "collapsed": false,
     "input": [
      "def get_amp(cna_vec, rna_vec):\n",
      "    background = rna_vec.ix[cna_vec[cna_vec == 0].index]\n",
      "    z = lambda s: (s - background.mean()) / background.std()\n",
      "    \n",
      "    t_set = rna_vec.ix[cna_vec[cna_vec > 0].index]\n",
      "    amp = t_set[t_set > 2]\n",
      "    return amp.to_dict()"
     ],
     "language": "python",
     "metadata": {},
     "outputs": [],
     "prompt_number": 196
    },
    {
     "cell_type": "code",
     "collapsed": false,
     "input": [
      "def get_del(cna_vec, rna_vec):\n",
      "    background = rna_vec.ix[cna_vec[cna_vec == 0].index]\n",
      "    z = lambda s: (s - background.mean()) / background.std()\n",
      "       \n",
      "    t_set = rna_vec.ix[cna_vec[cna_vec < 0].index]\n",
      "    deletion = t_set[t_set < -2]\n",
      "    return deletion.to_dict()"
     ],
     "language": "python",
     "metadata": {},
     "outputs": [],
     "prompt_number": 205
    },
    {
     "cell_type": "code",
     "collapsed": false,
     "input": [
      "deletion = DataFrame({gene: get_del(mat.ix[gene], mrna.ix[gene]) for gene in mat.index.intersection(mrna.index)})\n",
      "deletion.to_csv('/scratch/TCGA/For_Matan/deletion.csv')\n",
      "\n",
      "amplification = DataFrame({gene: get_amp(mat.ix[gene], mrna.ix[gene]) for gene in mat.index.intersection(mrna.index)})\n",
      "amplification.to_csv('/scratch/TCGA/For_Matan/amplification.csv')"
     ],
     "language": "python",
     "metadata": {},
     "outputs": [],
     "prompt_number": 220
    }
   ],
   "metadata": {}
  }
 ]
}