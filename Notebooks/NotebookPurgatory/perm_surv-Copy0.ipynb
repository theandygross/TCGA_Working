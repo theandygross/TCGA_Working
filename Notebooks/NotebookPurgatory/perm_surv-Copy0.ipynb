{
 "metadata": {
  "name": "perm_surv-Copy0"
 },
 "nbformat": 3,
 "nbformat_minor": 0,
 "worksheets": [
  {
   "cells": [
    {
     "cell_type": "code",
     "collapsed": false,
     "input": [
      "cd ../src"
     ],
     "language": "python",
     "metadata": {},
     "outputs": [
      {
       "output_type": "stream",
       "stream": "stdout",
       "text": [
        "/cellar/users/agross/TCGA_Code/TCGA/Pathway_Merge/src\n"
       ]
      }
     ],
     "prompt_number": 1
    },
    {
     "cell_type": "code",
     "collapsed": false,
     "input": [
      "import os as os\n",
      "import pickle as pickle"
     ],
     "language": "python",
     "metadata": {},
     "outputs": [],
     "prompt_number": 2
    },
    {
     "cell_type": "code",
     "collapsed": false,
     "input": [
      "result_path = '/scratch/TCGA/Firehose__2012_12_21/ucsd_analyses'\n",
      "run = sorted(os.listdir(result_path))[0]\n",
      "run = pickle.load(open('/'.join([result_path, run, 'RunObject.p']), 'rb'))"
     ],
     "language": "python",
     "metadata": {},
     "outputs": [],
     "prompt_number": 3
    },
    {
     "cell_type": "code",
     "collapsed": false,
     "input": [
      "paths = {c: '/'.join([run.report_path, c, 'CN_amplification', 'Tests', 'event_free_survival_5y', 'TestResult.p'])\n",
      "         for c in run.cancers}\n",
      "results = {c: pickle.load(open(p, 'rb')) for c,p in paths.iteritems() if os.path.isfile(p)}"
     ],
     "language": "python",
     "metadata": {},
     "outputs": [],
     "prompt_number": 27
    },
    {
     "cell_type": "code",
     "collapsed": false,
     "input": [
      "from pandas import Series, DataFrame\n",
      "from Processing.Helpers import bhCorrection"
     ],
     "language": "python",
     "metadata": {},
     "outputs": [],
     "prompt_number": 28
    },
    {
     "cell_type": "code",
     "collapsed": false,
     "input": [
      "df = DataFrame({c: r.p_values for c,r in results.iteritems()})"
     ],
     "language": "python",
     "metadata": {},
     "outputs": [],
     "prompt_number": 29
    },
    {
     "cell_type": "code",
     "collapsed": false,
     "input": [
      "df.unstack().dropna().order()[:20]"
     ],
     "language": "python",
     "metadata": {},
     "outputs": [
      {
       "output_type": "pyout",
       "prompt_number": 30,
       "text": [
        "KIRC      KEGG_OLFACTORY_TRANSDUCTION                                              2.243702e-05\n",
        "BRCA      BIOCARTA_HIVNEF_PATHWAY                                                  4.202724e-05\n",
        "          BIOCARTA_IL4_PATHWAY                                                     5.769682e-05\n",
        "COAD      KEGG_CELL_CYCLE                                                          6.217983e-05\n",
        "BRCA      BIOCARTA_MAPK_PATHWAY                                                    6.441024e-05\n",
        "KIRC      REACTOME_OLFACTORY_SIGNALING_PATHWAY                                     6.549236e-05\n",
        "COADREAD  KEGG_CELL_CYCLE                                                          8.066557e-05\n",
        "BRCA      REACTOME_REGULATION_OF_APC_ACTIVATORS_BETWEEN_G1_S_AND_EARLY_ANAPHASE    8.419417e-05\n",
        "OV        REACTOME_PURINE_METABOLISM                                                9.60653e-05\n",
        "BRCA      REACTOME_APOPTOSIS                                                       0.0002053773\n",
        "          BIOCARTA_PTEN_PATHWAY                                                     0.000232687\n",
        "BLCA      REACTOME_SEMAPHORIN_INTERACTIONS                                         0.0002685196\n",
        "LUAD      KEGG_METABOLISM_OF_XENOBIOTICS_BY_CYTOCHROME_P450                        0.0002857411\n",
        "LGG       REACTOME_INTEGRATION_OF_ENERGY_METABOLISM                                 0.000339349\n",
        "BRCA      BIOCARTA_P38MAPK_PATHWAY                                                 0.0004357887\n",
        "          BIOCARTA_EGF_PATHWAY                                                     0.0004638232\n",
        "LGG       REACTOME_GENE_EXPRESSION                                                 0.0005328301\n",
        "BRCA      BIOCARTA_PDGF_PATHWAY                                                    0.0005827069\n",
        "          REACTOME_CDC20_PHOSPHO_APC_MEDIATED_DEGRADATION_OF_CYCLIN_A              0.0006122012\n",
        "          BIOCARTA_TPO_PATHWAY                                                     0.0006961361"
       ]
      }
     ],
     "prompt_number": 30
    },
    {
     "cell_type": "code",
     "collapsed": false,
     "input": [
      "df.ix['REACTOME_INORGANIC_CATION_ANION_SLC_TRANSPORTERS'].order()"
     ],
     "language": "python",
     "metadata": {},
     "outputs": [
      {
       "output_type": "pyout",
       "prompt_number": 27,
       "text": [
        "HNSC        0.008242608\n",
        "KIRC         0.01356134\n",
        "KIRP         0.04150385\n",
        "COADREAD     0.09780873\n",
        "READ          0.1238581\n",
        "LAML          0.1307358\n",
        "STAD          0.1382079\n",
        "OV             0.275685\n",
        "BRCA                NaN\n",
        "GBM                 NaN\n",
        "LUAD                NaN\n",
        "LUSC                NaN\n",
        "Name: REACTOME_INORGANIC_CATION_ANION_SLC_TRANSPORTERS"
       ]
      }
     ],
     "prompt_number": 27
    },
    {
     "cell_type": "code",
     "collapsed": false,
     "input": [
      "df.rank(ascending=False).sum(1).order()"
     ],
     "language": "python",
     "metadata": {},
     "outputs": [
      {
       "output_type": "pyout",
       "prompt_number": 25,
       "text": [
        "BIOCARTA_EPONFKB_PATHWAY                                        1\n",
        "POTEA                                                           1\n",
        "SLITRK6                                                         1\n",
        "BIOCARTA_GCR_PATHWAY                                            2\n",
        "CNKSR2                                                          2\n",
        "TRPC5                                                           2\n",
        "BIOCARTA_FREE_PATHWAY                                           3\n",
        "MYT1L                                                           3\n",
        "REACTOME_RAS_ACTIVATION_UOPN_CA2_INFUX_THROUGH_NMDA_RECEPTOR    4\n",
        "EVC2                                                            7\n",
        "MDN1                                                            7\n",
        "BIOCARTA_AKAP13_PATHWAY                                         8\n",
        "BIOCARTA_AMI_PATHWAY                                            8\n",
        "BIOCARTA_CTLA4_PATHWAY                                          8\n",
        "EPHA7                                                           8\n",
        "...\n",
        "KEGG_ENDOCYTOSIS                                                600.0\n",
        "REACTOME_LATE_PHASE_OF_HIV_LIFE_CYCLE                           609.0\n",
        "BIOCARTA_BARRESTIN_SRC_PATHWAY                                  611.0\n",
        "KEGG_PPAR_SIGNALING_PATHWAY                                     628.5\n",
        "BIOCARTA_PITX2_PATHWAY                                          633.0\n",
        "REACTOME_REGULATION_OF_BETA_CELL_DEVELOPMENT                    640.5\n",
        "REACTOME_INORGANIC_CATION_ANION_SLC_TRANSPORTERS                646.0\n",
        "ST_G_ALPHA_I_PATHWAY                                            662.0\n",
        "REACTOME_RNA_POLYMERASE_III_TRANSCRIPTION_INITIATION            664.0\n",
        "KEGG_GLYCEROLIPID_METABOLISM                                    693.0\n",
        "REACTOME_TRANSLATION_INITIATION_COMPLEX_FORMATION               702.0\n",
        "REACTOME_GTP_HYDROLYSIS_AND_JOINING_OF_THE_60S_RIBOSOMAL_SUBUNIT    735.5\n",
        "KEGG_CITRATE_CYCLE_TCA_CYCLE                                    761.5\n",
        "REACTOME_SIGNALLING_TO_RAS                                      800.0\n",
        "REACTOME_RNA_POLYMERASE_III_TRANSCRIPTION                       843.0\n",
        "Length: 998"
       ]
      }
     ],
     "prompt_number": 25
    },
    {
     "cell_type": "code",
     "collapsed": false,
     "input": [
      "c = 'HNSC'\n",
      "cancer = run.load_cancer(c)\n",
      "res = results[c]\n",
      "\n",
      "thresholded = res.results.ix[res.p_values < .01]\n",
      "\n",
      "data = res.get_dataset()\n",
      "data.uncompress()   \n",
      "\n",
      "clinical = cancer.load_clinical()"
     ],
     "language": "python",
     "metadata": {},
     "outputs": [],
     "prompt_number": 5
    },
    {
     "cell_type": "code",
     "collapsed": false,
     "input": [
      "from Processing.Helpers import bhCorrection"
     ],
     "language": "python",
     "metadata": {},
     "outputs": [],
     "prompt_number": 6
    },
    {
     "cell_type": "code",
     "collapsed": false,
     "input": [
      "res.q_values = bhCorrection(res.p_values)"
     ],
     "language": "python",
     "metadata": {},
     "outputs": [],
     "prompt_number": 7
    },
    {
     "cell_type": "code",
     "collapsed": false,
     "input": [
      "mat = data.features.ix[res.p_values.index[res.p_values < .05]]"
     ],
     "language": "python",
     "metadata": {},
     "outputs": [],
     "prompt_number": 8
    },
    {
     "cell_type": "code",
     "collapsed": false,
     "input": [
      "from multiprocessing import Pool\n",
      "from pandas import DataFrame, Panel"
     ],
     "language": "python",
     "metadata": {},
     "outputs": [],
     "prompt_number": 12
    },
    {
     "cell_type": "code",
     "collapsed": false,
     "input": [
      "from Processing.Tests import run_feature_matrix\n",
      "\n",
      "N = 100\n",
      "\n",
      "patients = list(mat.columns)\n",
      "perm_test = DataFrame({i: random.permutation(patients) for i in range(N)}, index=patients)\n",
      "\n",
      "test = res.test\n",
      "test.first_pass = test.get_first_pass()\n",
      "test.full_test = test.get_full_test()"
     ],
     "language": "python",
     "metadata": {},
     "outputs": [],
     "prompt_number": 41
    },
    {
     "cell_type": "code",
     "collapsed": false,
     "input": [
      "def f(i):\n",
      "    vals = run_feature_matrix(mat.rename(columns=perm_test[i]), test)\n",
      "    return vals"
     ],
     "language": "python",
     "metadata": {},
     "outputs": [],
     "prompt_number": 42
    },
    {
     "cell_type": "code",
     "collapsed": false,
     "input": [
      "os.nice(4)\n",
      "p = Pool(processes=25)\n",
      "results = p.map(f, range(100))\n",
      "os.nice(-4)"
     ],
     "language": "python",
     "metadata": {},
     "outputs": [],
     "prompt_number": "*"
    },
    {
     "cell_type": "code",
     "collapsed": false,
     "input": [
      "r = Panel(dict(enumerate(results)))\n",
      "LR = r.minor_xs('LR')\n",
      "e_values = LR.join(res.p_values).rank(axis=1)['LR'].order() / r.shape[0]"
     ],
     "language": "python",
     "metadata": {},
     "outputs": [],
     "prompt_number": 24
    },
    {
     "cell_type": "code",
     "collapsed": false,
     "input": [
      "r.shape[0]"
     ],
     "language": "python",
     "metadata": {},
     "outputs": [
      {
       "output_type": "pyout",
       "prompt_number": 35,
       "text": [
        "20"
       ]
      }
     ],
     "prompt_number": 35
    },
    {
     "cell_type": "code",
     "collapsed": false,
     "input": [],
     "language": "python",
     "metadata": {},
     "outputs": [],
     "prompt_number": 37
    },
    {
     "cell_type": "code",
     "collapsed": false,
     "input": [
      "e_values"
     ],
     "language": "python",
     "metadata": {},
     "outputs": [
      {
       "output_type": "pyout",
       "prompt_number": 38,
       "text": [
        "ARID1B                            0.05\n",
        "BIOCARTA_BARRESTIN_SRC_PATHWAY    0.05\n",
        "BIOCARTA_CDMAC_PATHWAY            0.05\n",
        "BIOCARTA_EGFR_SMRTE_PATHWAY       0.05\n",
        "BIOCARTA_FMLP_PATHWAY             0.05\n",
        "BIOCARTA_IL1R_PATHWAY             0.05\n",
        "BIOCARTA_INTEGRIN_PATHWAY         0.05\n",
        "BIOCARTA_NDKDYNAMIN_PATHWAY       0.05\n",
        "BIOCARTA_NKT_PATHWAY              0.05\n",
        "BIOCARTA_PPARA_PATHWAY            0.05\n",
        "BIOCARTA_PYK2_PATHWAY             0.05\n",
        "BIOCARTA_SPPA_PATHWAY             0.05\n",
        "BIOCARTA_WNT_PATHWAY              0.05\n",
        "CDH10                             0.05\n",
        "DYSF                              0.05\n",
        "...\n",
        "KEGG_CHEMOKINE_SIGNALING_PATHWAY                                0.15\n",
        "KEGG_CITRATE_CYCLE_TCA_CYCLE                                    0.15\n",
        "KEGG_GLUTATHIONE_METABOLISM                                     0.15\n",
        "KEGG_HEDGEHOG_SIGNALING_PATHWAY                                 0.15\n",
        "KEGG_NEUROTROPHIN_SIGNALING_PATHWAY                             0.15\n",
        "KEGG_NUCLEOTIDE_EXCISION_REPAIR                                 0.15\n",
        "MUC5B                                                           0.15\n",
        "SCN3A                                                           0.15\n",
        "BIOCARTA_BIOPEPTIDES_PATHWAY                                    0.20\n",
        "KEGG_GLYCEROLIPID_METABOLISM                                    0.20\n",
        "KEGG_PYRUVATE_METABOLISM                                        0.20\n",
        "REACTOME_FORMATION_OF_TUBULIN_FOLDING_INTERMEDIATES_BY_CCT_TRIC    0.20\n",
        "REACTOME_NCAM1_INTERACTIONS                                     0.20\n",
        "BIOCARTA_EIF2_PATHWAY                                           0.25\n",
        "REACTOME_PREFOLDIN_MEDIATED_TRANSFER_OF_SUBSTRATE_TO_CCT_TRIC    0.25\n",
        "Name: LR, Length: 114"
       ]
      }
     ],
     "prompt_number": 38
    }
   ],
   "metadata": {}
  }
 ]
}