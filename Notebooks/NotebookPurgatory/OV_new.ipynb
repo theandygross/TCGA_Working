{
 "metadata": {
  "name": "OV_new"
 },
 "nbformat": 3,
 "nbformat_minor": 0,
 "worksheets": [
  {
   "cells": [
    {
     "cell_type": "code",
     "collapsed": false,
     "input": [
      "cd ../src"
     ],
     "language": "python",
     "metadata": {},
     "outputs": [
      {
       "output_type": "stream",
       "stream": "stdout",
       "text": [
        "/cellar/users/agross/TCGA_Code/TCGA/Pathway_Merge/src\n"
       ]
      }
     ],
     "prompt_number": 1
    },
    {
     "cell_type": "code",
     "collapsed": false,
     "input": [
      "import pandas as pd"
     ],
     "language": "python",
     "metadata": {},
     "outputs": [],
     "prompt_number": 2
    },
    {
     "cell_type": "code",
     "collapsed": false,
     "input": [
      "last_maf = pd.read_table('/cellar/users/agross/latestmaf.txt', index_col=0)\n",
      "last_maf.index = pd.MultiIndex.from_tuples([s.split('_') for s in last_maf.index])"
     ],
     "language": "python",
     "metadata": {},
     "outputs": [],
     "prompt_number": 3
    },
    {
     "cell_type": "code",
     "collapsed": false,
     "input": [
      "pd.set_option('precision',3)\n",
      "pd.set_option('display.line_width', 100)\n",
      "pd.set_option('display.width', 300)"
     ],
     "language": "python",
     "metadata": {},
     "outputs": [],
     "prompt_number": 4
    },
    {
     "cell_type": "code",
     "collapsed": false,
     "input": [
      "ov = last_maf.select(lambda s: s[1].startswith('HNSC'))"
     ],
     "language": "python",
     "metadata": {},
     "outputs": [],
     "prompt_number": 5
    },
    {
     "cell_type": "code",
     "collapsed": false,
     "input": [
      "maf = {}\n",
      "for f,v in ov.iterrows():\n",
      "    if f[3] == 'Cont.Level':\n",
      "        continue\n",
      "    try:\n",
      "        maf[f] = pd.read_table(v['MAF_FILE_URL'], skiprows=[0], index_col=False)\n",
      "    except:\n",
      "        maf[f] = pd.read_table(v['MAF_FILE_URL'], skiprows=[0,1], index_col=False)\n",
      "maf_d = maf"
     ],
     "language": "python",
     "metadata": {},
     "outputs": [],
     "prompt_number": 6
    },
    {
     "cell_type": "code",
     "collapsed": false,
     "input": [
      "maf = maf_d.values()[0]"
     ],
     "language": "python",
     "metadata": {},
     "outputs": [],
     "prompt_number": 21
    },
    {
     "cell_type": "code",
     "collapsed": false,
     "input": [
      "#maf = pd.concat(maf)"
     ],
     "language": "python",
     "metadata": {},
     "outputs": [],
     "prompt_number": 22
    },
    {
     "cell_type": "code",
     "collapsed": false,
     "input": [
      "hit_mat = maf.set_index(['Tumor_Sample_Barcode', 'Hugo_Symbol'])['Variant_Classification']\n",
      "hit_mat = (hit_mat != 'Silent').groupby(level=[0,1]).sum().unstack()\n",
      "hit_mat = hit_mat.ix[:,hit_mat.sum() > 0]\n",
      "#del hit_mat['Unknown']\n",
      "hit_mat.index =  pd.MultiIndex.from_tuples([(i[:12], i[13:15]) for i in hit_mat.index])\n",
      "hit_mat = hit_mat.xs('01', level=1)\n",
      "hit_mat = hit_mat.fillna(0).T"
     ],
     "language": "python",
     "metadata": {},
     "outputs": [],
     "prompt_number": 23
    },
    {
     "cell_type": "code",
     "collapsed": false,
     "input": [
      "hit_mat.shape"
     ],
     "language": "python",
     "metadata": {},
     "outputs": [
      {
       "output_type": "pyout",
       "prompt_number": 24,
       "text": [
        "(13986, 319)"
       ]
      }
     ],
     "prompt_number": 24
    },
    {
     "cell_type": "code",
     "collapsed": false,
     "input": [
      "import os as os\n",
      "import pickle as pickle\n",
      "import pandas as pd\n",
      "\n",
      "from Reports.NotebookTools import *\n",
      "from Processing.Tests import *\n",
      "from Reports.Figures import *\n",
      "\n",
      "pd.set_option('precision',3)"
     ],
     "language": "python",
     "metadata": {},
     "outputs": [],
     "prompt_number": 26
    },
    {
     "cell_type": "code",
     "collapsed": false,
     "input": [
      "result_path = '/scratch/TCGA/Firehose__2012_01_16/ucsd_analyses'\n",
      "run = sorted(os.listdir(result_path))[0]\n",
      "run = pickle.load(open('/'.join([result_path, run, 'RunObject.p']), 'rb'))"
     ],
     "language": "python",
     "metadata": {},
     "outputs": [],
     "prompt_number": 27
    },
    {
     "cell_type": "code",
     "collapsed": false,
     "input": [
      "cancer = run.load_cancer('HNSC')\n",
      "clinical = cancer.load_clinical()"
     ],
     "language": "python",
     "metadata": {},
     "outputs": [],
     "prompt_number": 28
    },
    {
     "cell_type": "code",
     "collapsed": false,
     "input": [
      "dd = cancer.load_data('MAF')\n",
      "dd.uncompress()"
     ],
     "language": "python",
     "metadata": {},
     "outputs": [],
     "prompt_number": 29
    },
    {
     "cell_type": "code",
     "collapsed": false,
     "input": [
      "surv = clinical.survival.event_free_survival_5y"
     ],
     "language": "python",
     "metadata": {},
     "outputs": [],
     "prompt_number": 30
    },
    {
     "cell_type": "code",
     "collapsed": false,
     "input": [
      "from Data.Containers import Dataset\n",
      "mut = Dataset(cancer, run, 'MAF')\n",
      "mut.df = hit_mat\n",
      "hit_matrix = mut.df.fillna(0).clip_upper(1.)\n",
      "meta_matrix = DataFrame({p: mut.df.ix[g].sum() for p,g in \n",
      "                         run.gene_sets.iteritems()}).T\n",
      "meta_matrix = meta_matrix.fillna(0).clip_upper(1.)\n",
      "\n",
      "def size_filter(s):\n",
      "    '''Make sure features covers a minimum number of patients'''\n",
      "    min_p = run.parameters['min_patients']\n",
      "    return s.sum(1).isin(range(min_p, meta_matrix.shape[1] - min_p))\n",
      "\n",
      "def is_one_gene(p):\n",
      "    '''Test to see if most mutations are due to single gene'''\n",
      "    counts = hit_matrix.ix[run.gene_sets[p]].sum(1).dropna().order()\n",
      "    with_top = hit_matrix.ix[run.gene_sets[p]].sum().clip_upper(1).sum()\n",
      "    without = hit_matrix.ix[run.gene_sets[p] - \n",
      "                            {counts.idxmax()}].sum().clip_upper(1).sum()\n",
      "    return ((with_top - without) / without) > .5\n",
      "\n",
      "meta_matrix = meta_matrix[size_filter(meta_matrix)] \n",
      "s = Series({p: is_one_gene(p) for p in meta_matrix.index})\n",
      "meta_matrix = meta_matrix.ix[s==False]\n",
      "hit_matrix = hit_matrix[size_filter(hit_matrix)] \n",
      "\n",
      "'''Add passing features to the Data Object''' \n",
      "mut.features = meta_matrix.append(hit_matrix)"
     ],
     "language": "python",
     "metadata": {},
     "outputs": [],
     "prompt_number": 31
    },
    {
     "cell_type": "code",
     "collapsed": false,
     "input": [
      "pd.crosstab(mut.features.ix['BIOCARTA_RARRXR_PATHWAY'], hit_mat.ix['TP53']>0)"
     ],
     "language": "python",
     "metadata": {},
     "outputs": [
      {
       "html": [
        "<div style=\"max-height:1000px;max-width:1500px;overflow:auto;\">\n",
        "<table border=\"1\" class=\"dataframe\">\n",
        "  <thead>\n",
        "    <tr style=\"text-align: right;\">\n",
        "      <th>TP53</th>\n",
        "      <th>False</th>\n",
        "      <th>True</th>\n",
        "    </tr>\n",
        "    <tr>\n",
        "      <th>BIOCARTA_RARRXR_PATHWAY</th>\n",
        "      <th></th>\n",
        "      <th></th>\n",
        "    </tr>\n",
        "  </thead>\n",
        "  <tbody>\n",
        "    <tr>\n",
        "      <th>0</th>\n",
        "      <td> 81</td>\n",
        "      <td> 184</td>\n",
        "    </tr>\n",
        "    <tr>\n",
        "      <th>1</th>\n",
        "      <td> 13</td>\n",
        "      <td>  41</td>\n",
        "    </tr>\n",
        "  </tbody>\n",
        "</table>\n",
        "</div>"
       ],
       "output_type": "pyout",
       "prompt_number": 33,
       "text": [
        "TP53                     False  True \n",
        "BIOCARTA_RARRXR_PATHWAY              \n",
        "0                           81    184\n",
        "1                           13     41"
       ]
      }
     ],
     "prompt_number": 33
    },
    {
     "cell_type": "code",
     "collapsed": false,
     "input": [
      "pat = pd.read_csv('/cellar/users/agross/Desktop/clinical_patient_hnsc.csv', index_col=0, na_values=['[Completed]', '[Not Available]', '[Not Applicable]'])\n",
      "followup =  pd.read_csv('/cellar/users/agross/Desktop/clinical_follow_up_v1.0_hnsc.csv', index_col=0, na_values=['[Completed]', '[Not Available]', '[Not Applicable]'])\n",
      "followup1 =  pd.read_csv('/cellar/users/agross/Desktop/clinical_follow_up_v4.8_hnsc.csv', index_col=0, na_values=['[Completed]', '[Not Available]', '[Not Applicable]'])\n",
      "followup = followup.append(followup1)\n",
      "followup = pat.append(followup)\n",
      "followup = followup.sort(columns=['days_to_death', 'days_to_last_followup'], ascending=False)\n",
      "followup = followup.groupby(lambda s: s[:12]).first()\n",
      "deceased = followup.vital_status\n",
      "\n",
      "age = -1*pat.days_to_birth.dropna() / 365.\n",
      "timeline = followup[['days_to_last_followup', 'days_to_death']].dropna(how='all')\n",
      "timeline['days'] = timeline.max(1)\n",
      "deceased = followup.vital_status == 'DECEASED'\n",
      "\n",
      "survival = pd.concat([timeline.days, deceased], keys=['days','event'], axis=1)\n",
      "survival = survival.dropna().stack().astype(float)\n",
      "survival = pd.DataFrame.from_dict({'survival':survival})\n",
      "\n",
      "clinical.survival = survival\n",
      "clinical.artificially_censor(5)\n",
      "\n",
      "surv = clinical.survival.survival_5y\n",
      "stage = clinical.clinical.tumor_stage.dropna()\n",
      "stage = stage.map({'stge i': 'Stage I', 'stge ii': 'Stage II', \n",
      "                                           'stge iii': 'Stage III', 'stge iv': 'Stage IV'})"
     ],
     "language": "python",
     "metadata": {},
     "outputs": [],
     "prompt_number": 62
    },
    {
     "cell_type": "code",
     "collapsed": false,
     "input": [
      "surv = clinical.survival.survival_5y\n",
      "clinical = cancer.load_clinical()\n",
      "surv1 = clinical.survival.survival_5y"
     ],
     "language": "python",
     "metadata": {},
     "outputs": [],
     "prompt_number": 63
    },
    {
     "cell_type": "code",
     "collapsed": false,
     "input": [
      "draw_survival_curves(hit_mat.ix['MUC5B']>0, surv, show=True, ann='p', show_legend=False)"
     ],
     "language": "python",
     "metadata": {},
     "outputs": [
      {
       "html": [
        "<img src='data:image/png;base64,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'>"
       ],
       "output_type": "pyout",
       "prompt_number": 57,
       "text": [
        "<Reports.Figures.Show at 0xcd69690>"
       ]
      }
     ],
     "prompt_number": 57
    },
    {
     "cell_type": "code",
     "collapsed": false,
     "input": [
      "draw_survival_curves(hit_mat.ix['MUC5B']>0, survival, show=True, ann='p', show_legend=False)"
     ],
     "language": "python",
     "metadata": {},
     "outputs": [
      {
       "html": [
        "<img src='data:image/png;base64,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'>"
       ],
       "output_type": "pyout",
       "prompt_number": 56,
       "text": [
        "<Reports.Figures.Show at 0xcd90d50>"
       ]
      }
     ],
     "prompt_number": 56
    },
    {
     "cell_type": "code",
     "collapsed": false,
     "input": [
      "new = mut.features.columns.diff(dd.features.columns)"
     ],
     "language": "python",
     "metadata": {},
     "outputs": [],
     "prompt_number": 190
    },
    {
     "cell_type": "code",
     "collapsed": false,
     "input": [
      "pd.crosstab(clinical.clinical.tumor_stage, mut.features.ix['REACTOME_G2_M_TRANSITION'])"
     ],
     "language": "python",
     "metadata": {},
     "outputs": [
      {
       "html": [
        "<div style=\"max-height:1000px;max-width:1500px;overflow:auto;\">\n",
        "<table border=\"1\" class=\"dataframe\">\n",
        "  <thead>\n",
        "    <tr style=\"text-align: right;\">\n",
        "      <th>REACTOME_G2_M_TRANSITION</th>\n",
        "      <th>0.0</th>\n",
        "      <th>1.0</th>\n",
        "    </tr>\n",
        "    <tr>\n",
        "      <th>tumor_stage</th>\n",
        "      <th></th>\n",
        "      <th></th>\n",
        "    </tr>\n",
        "  </thead>\n",
        "  <tbody>\n",
        "    <tr>\n",
        "      <td><strong>i</strong></td>\n",
        "      <td>   4</td>\n",
        "      <td>  2</td>\n",
        "    </tr>\n",
        "    <tr>\n",
        "      <td><strong>ii</strong></td>\n",
        "      <td>  18</td>\n",
        "      <td>  4</td>\n",
        "    </tr>\n",
        "    <tr>\n",
        "      <td><strong>iii</strong></td>\n",
        "      <td> 277</td>\n",
        "      <td> 86</td>\n",
        "    </tr>\n",
        "    <tr>\n",
        "      <td><strong>iv</strong></td>\n",
        "      <td>  52</td>\n",
        "      <td> 15</td>\n",
        "    </tr>\n",
        "  </tbody>\n",
        "</table>\n",
        "</div>"
       ],
       "output_type": "pyout",
       "prompt_number": 221,
       "text": [
        "REACTOME_G2_M_TRANSITION    0   1\n",
        "tumor_stage                      \n",
        "i                           4   2\n",
        "ii                         18   4\n",
        "iii                       277  86\n",
        "iv                         52  15"
       ]
      }
     ],
     "prompt_number": 221
    },
    {
     "cell_type": "code",
     "collapsed": false,
     "input": [
      "draw_survival_curves(clinical.clinical.tumor_stage.dropna(), surv, show=True, show_legend=False)"
     ],
     "language": "python",
     "metadata": {},
     "outputs": [
      {
       "html": [
        "<img src='data:image/png;base64,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'>"
       ],
       "output_type": "pyout",
       "prompt_number": 226,
       "text": [
        "<Reports.Figures.Show at 0xd6292d0>"
       ]
      }
     ],
     "prompt_number": 226
    },
    {
     "cell_type": "code",
     "collapsed": false,
     "input": [
      "draw_survival_curves(mut.features.ix['REACTOME_G2_M_TRANSITION'], surv, clinical.clinical.tumor_stage.isin(['i','ii','iii']), show=True, ann='p')"
     ],
     "language": "python",
     "metadata": {},
     "outputs": [
      {
       "html": [
        "<img src='data:image/png;base64,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'>"
       ],
       "output_type": "pyout",
       "prompt_number": 220,
       "text": [
        "<Reports.Figures.Show at 0xdd72790>"
       ]
      }
     ],
     "prompt_number": 220
    },
    {
     "cell_type": "code",
     "collapsed": false,
     "input": [
      "mut.features.ix['BIOCARTA_TGFB_PATHWAY'].value_counts()"
     ],
     "language": "python",
     "metadata": {},
     "outputs": [
      {
       "output_type": "pyout",
       "prompt_number": 155,
       "text": [
        "0    292\n",
        "1     24"
       ]
      }
     ],
     "prompt_number": 155
    },
    {
     "cell_type": "code",
     "collapsed": false,
     "input": [
      "hit_mat.sum().order()"
     ],
     "language": "python",
     "metadata": {},
     "outputs": [
      {
       "output_type": "pyout",
       "prompt_number": 104,
       "text": [
        "2-Mar       1\n",
        "AADACL4     1\n",
        "AARS        1\n",
        "AASDHPPT    1\n",
        "ABCA11P     1\n",
        "ABCA7       1\n",
        "ABCB10      1\n",
        "ABCB7       1\n",
        "ABCC2       1\n",
        "ABCC3       1\n",
        "ABCC4       1\n",
        "ABCC6P1     1\n",
        "ABCD3       1\n",
        "ABCF2       1\n",
        "ABHD10      1\n",
        "...\n",
        "DNAH5     17\n",
        "FLG       18\n",
        "HYDIN     18\n",
        "MUC17     19\n",
        "BRCA1     20\n",
        "FAT3      21\n",
        "RYR2      21\n",
        "MUC16     22\n",
        "DST       24\n",
        "HMCN1     24\n",
        "NF1       25\n",
        "CSMD3     26\n",
        "USH2A     27\n",
        "TTN      105\n",
        "TP53     389\n",
        "Length: 10946"
       ]
      }
     ],
     "prompt_number": 104
    },
    {
     "cell_type": "code",
     "collapsed": false,
     "input": [],
     "language": "python",
     "metadata": {},
     "outputs": []
    }
   ],
   "metadata": {}
  }
 ]
}