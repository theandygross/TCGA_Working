{
 "metadata": {
  "name": "perm_surv"
 },
 "nbformat": 3,
 "nbformat_minor": 0,
 "worksheets": [
  {
   "cells": [
    {
     "cell_type": "code",
     "collapsed": false,
     "input": [
      "cd ../src"
     ],
     "language": "python",
     "metadata": {},
     "outputs": [
      {
       "output_type": "stream",
       "stream": "stdout",
       "text": [
        "/cellar/users/agross/TCGA_Code/TCGA/Pathway_Merge/src\n"
       ]
      }
     ],
     "prompt_number": 1
    },
    {
     "cell_type": "code",
     "collapsed": false,
     "input": [
      "import os as os\n",
      "import pickle as pickle"
     ],
     "language": "python",
     "metadata": {},
     "outputs": [],
     "prompt_number": 2
    },
    {
     "cell_type": "code",
     "collapsed": false,
     "input": [
      "result_path = '/scratch/TCGA/Firehose__2012_12_21/ucsd_analyses'\n",
      "run = sorted(os.listdir(result_path))[0]\n",
      "run = pickle.load(open('/'.join([result_path, run, 'RunObject.p']), 'rb'))"
     ],
     "language": "python",
     "metadata": {},
     "outputs": [],
     "prompt_number": 3
    },
    {
     "cell_type": "code",
     "collapsed": false,
     "input": [
      "paths = {c: '/'.join([run.report_path, c, 'MAF', 'Tests', 'event_free_survival_5y', 'TestResult.p'])\n",
      "         for c in run.cancers}\n",
      "results = {c: pickle.load(open(p, 'rb')) for c,p in paths.iteritems() if os.path.isfile(p)}"
     ],
     "language": "python",
     "metadata": {},
     "outputs": [],
     "prompt_number": 4
    },
    {
     "cell_type": "code",
     "collapsed": false,
     "input": [
      "c = 'HNSC'\n",
      "cancer = run.load_cancer(c)\n",
      "res = results[c]\n",
      "\n",
      "thresholded = res.results.ix[res.p_values < .01]\n",
      "\n",
      "data = res.get_dataset()\n",
      "data.uncompress()   \n",
      "\n",
      "clinical = cancer.load_clinical()"
     ],
     "language": "python",
     "metadata": {},
     "outputs": [],
     "prompt_number": 5
    },
    {
     "cell_type": "code",
     "collapsed": false,
     "input": [
      "from Processing.Helpers import bhCorrection"
     ],
     "language": "python",
     "metadata": {},
     "outputs": [],
     "prompt_number": 6
    },
    {
     "cell_type": "code",
     "collapsed": false,
     "input": [
      "res.q_values = bhCorrection(res.p_values)"
     ],
     "language": "python",
     "metadata": {},
     "outputs": [],
     "prompt_number": 7
    },
    {
     "cell_type": "code",
     "collapsed": false,
     "input": [
      "mat = data.features.ix[res.p_values.index[res.p_values < .05]]"
     ],
     "language": "python",
     "metadata": {},
     "outputs": [],
     "prompt_number": 8
    },
    {
     "cell_type": "code",
     "collapsed": false,
     "input": [
      "from multiprocessing import Pool\n",
      "from pandas import DataFrame, Panel"
     ],
     "language": "python",
     "metadata": {},
     "outputs": [],
     "prompt_number": 12
    },
    {
     "cell_type": "code",
     "collapsed": false,
     "input": [
      "from Processing.Tests import run_feature_matrix\n",
      "\n",
      "N = 100\n",
      "\n",
      "patients = list(mat.columns)\n",
      "perm_test = DataFrame({i: random.permutation(patients) for i in range(N)}, index=patients)\n",
      "\n",
      "test = res.test\n",
      "test.first_pass = test.get_first_pass()\n",
      "test.full_test = test.get_full_test()"
     ],
     "language": "python",
     "metadata": {},
     "outputs": [],
     "prompt_number": 41
    },
    {
     "cell_type": "code",
     "collapsed": false,
     "input": [
      "def f(i):\n",
      "    vals = run_feature_matrix(mat.rename(columns=perm_test[i]), test)\n",
      "    return vals"
     ],
     "language": "python",
     "metadata": {},
     "outputs": [],
     "prompt_number": 42
    },
    {
     "cell_type": "code",
     "collapsed": false,
     "input": [
      "os.nice(4)\n",
      "p = Pool(processes=25)\n",
      "results = p.map(f, range(100))\n",
      "os.nice(-4)"
     ],
     "language": "python",
     "metadata": {},
     "outputs": [],
     "prompt_number": "*"
    },
    {
     "cell_type": "code",
     "collapsed": false,
     "input": [
      "r = Panel(dict(enumerate(results)))\n",
      "LR = r.minor_xs('LR')\n",
      "e_values = LR.join(res.p_values).rank(axis=1)['LR'].order() / r.shape[0]"
     ],
     "language": "python",
     "metadata": {},
     "outputs": [],
     "prompt_number": 24
    },
    {
     "cell_type": "code",
     "collapsed": false,
     "input": [
      "r.shape[0]"
     ],
     "language": "python",
     "metadata": {},
     "outputs": [
      {
       "output_type": "pyout",
       "prompt_number": 35,
       "text": [
        "20"
       ]
      }
     ],
     "prompt_number": 35
    },
    {
     "cell_type": "code",
     "collapsed": false,
     "input": [],
     "language": "python",
     "metadata": {},
     "outputs": [],
     "prompt_number": 37
    },
    {
     "cell_type": "code",
     "collapsed": false,
     "input": [
      "e_values"
     ],
     "language": "python",
     "metadata": {},
     "outputs": [
      {
       "output_type": "pyout",
       "prompt_number": 38,
       "text": [
        "ARID1B                            0.05\n",
        "BIOCARTA_BARRESTIN_SRC_PATHWAY    0.05\n",
        "BIOCARTA_CDMAC_PATHWAY            0.05\n",
        "BIOCARTA_EGFR_SMRTE_PATHWAY       0.05\n",
        "BIOCARTA_FMLP_PATHWAY             0.05\n",
        "BIOCARTA_IL1R_PATHWAY             0.05\n",
        "BIOCARTA_INTEGRIN_PATHWAY         0.05\n",
        "BIOCARTA_NDKDYNAMIN_PATHWAY       0.05\n",
        "BIOCARTA_NKT_PATHWAY              0.05\n",
        "BIOCARTA_PPARA_PATHWAY            0.05\n",
        "BIOCARTA_PYK2_PATHWAY             0.05\n",
        "BIOCARTA_SPPA_PATHWAY             0.05\n",
        "BIOCARTA_WNT_PATHWAY              0.05\n",
        "CDH10                             0.05\n",
        "DYSF                              0.05\n",
        "...\n",
        "KEGG_CHEMOKINE_SIGNALING_PATHWAY                                0.15\n",
        "KEGG_CITRATE_CYCLE_TCA_CYCLE                                    0.15\n",
        "KEGG_GLUTATHIONE_METABOLISM                                     0.15\n",
        "KEGG_HEDGEHOG_SIGNALING_PATHWAY                                 0.15\n",
        "KEGG_NEUROTROPHIN_SIGNALING_PATHWAY                             0.15\n",
        "KEGG_NUCLEOTIDE_EXCISION_REPAIR                                 0.15\n",
        "MUC5B                                                           0.15\n",
        "SCN3A                                                           0.15\n",
        "BIOCARTA_BIOPEPTIDES_PATHWAY                                    0.20\n",
        "KEGG_GLYCEROLIPID_METABOLISM                                    0.20\n",
        "KEGG_PYRUVATE_METABOLISM                                        0.20\n",
        "REACTOME_FORMATION_OF_TUBULIN_FOLDING_INTERMEDIATES_BY_CCT_TRIC    0.20\n",
        "REACTOME_NCAM1_INTERACTIONS                                     0.20\n",
        "BIOCARTA_EIF2_PATHWAY                                           0.25\n",
        "REACTOME_PREFOLDIN_MEDIATED_TRANSFER_OF_SUBSTRATE_TO_CCT_TRIC    0.25\n",
        "Name: LR, Length: 114"
       ]
      }
     ],
     "prompt_number": 38
    }
   ],
   "metadata": {}
  }
 ]
}