{
 "metadata": {
  "name": "mutation_context"
 },
 "nbformat": 3,
 "nbformat_minor": 0,
 "worksheets": [
  {
   "cells": [
    {
     "cell_type": "code",
     "collapsed": false,
     "input": [
      "from pandas import read_table"
     ],
     "language": "python",
     "metadata": {},
     "outputs": [],
     "prompt_number": 1
    },
    {
     "cell_type": "code",
     "collapsed": false,
     "input": [
      "tab = read_table('/cellar/data/TCGA/Firehose__2012_10_24/broad_analyses/OV/MutSigRun2/OV.final_analysis_set.maf')\n",
      "tab = tab.dropna(how='all', axis=[0,1])\n",
      "tab = tab.set_index(['Hugo_Symbol','pat_idx'])\n",
      "\n",
      "labels = read_table('/cellar/data/TCGA/Firehose__2012_10_24/broad_analyses/OV/MutSigRun2/OV.mutcategs.txt')"
     ],
     "language": "python",
     "metadata": {},
     "outputs": [],
     "prompt_number": 128
    },
    {
     "cell_type": "code",
     "collapsed": false,
     "input": [
      "labels"
     ],
     "language": "python",
     "metadata": {},
     "outputs": [
      {
       "html": [
        "<div style=\"max-height:1000px;max-width:1500px;overflow:auto;\">\n",
        "<table border=\"1\" class=\"dataframe\">\n",
        "  <thead>\n",
        "    <tr style=\"text-align: right;\">\n",
        "      <th></th>\n",
        "      <th>left</th>\n",
        "      <th>from</th>\n",
        "      <th>change</th>\n",
        "      <th>right</th>\n",
        "      <th>autoname</th>\n",
        "      <th>name</th>\n",
        "      <th>type</th>\n",
        "      <th>typeidx</th>\n",
        "    </tr>\n",
        "  </thead>\n",
        "  <tbody>\n",
        "    <tr>\n",
        "      <td><strong>0</strong></td>\n",
        "      <td> ACGT</td>\n",
        "      <td>  C</td>\n",
        "      <td>   t</td>\n",
        "      <td>    G</td>\n",
        "      <td>      ACGT[C->t]G</td>\n",
        "      <td>       *CpG->T</td>\n",
        "      <td>     point</td>\n",
        "      <td> 1</td>\n",
        "    </tr>\n",
        "    <tr>\n",
        "      <td><strong>1</strong></td>\n",
        "      <td> ACGT</td>\n",
        "      <td>  C</td>\n",
        "      <td>   t</td>\n",
        "      <td>  ACT</td>\n",
        "      <td>    ACGT[C->t]ACT</td>\n",
        "      <td> *Cp(A/C/T)->T</td>\n",
        "      <td>     point</td>\n",
        "      <td> 1</td>\n",
        "    </tr>\n",
        "    <tr>\n",
        "      <td><strong>2</strong></td>\n",
        "      <td> ACGT</td>\n",
        "      <td>  C</td>\n",
        "      <td>  fs</td>\n",
        "      <td> ACGT</td>\n",
        "      <td>  ACGT[C->fs]ACGT</td>\n",
        "      <td>      C->(G/A)</td>\n",
        "      <td>     point</td>\n",
        "      <td> 1</td>\n",
        "    </tr>\n",
        "    <tr>\n",
        "      <td><strong>3</strong></td>\n",
        "      <td> ACGT</td>\n",
        "      <td>  A</td>\n",
        "      <td> tfs</td>\n",
        "      <td> ACGT</td>\n",
        "      <td> ACGT[A->tfs]ACGT</td>\n",
        "      <td>        A->mut</td>\n",
        "      <td>     point</td>\n",
        "      <td> 1</td>\n",
        "    </tr>\n",
        "    <tr>\n",
        "      <td><strong>4</strong></td>\n",
        "      <td> ACGT</td>\n",
        "      <td> AC</td>\n",
        "      <td>  in</td>\n",
        "      <td> ACGT</td>\n",
        "      <td>       indel+null</td>\n",
        "      <td>    indel+null</td>\n",
        "      <td> non-point</td>\n",
        "      <td> 2</td>\n",
        "    </tr>\n",
        "    <tr>\n",
        "      <td><strong>5</strong></td>\n",
        "      <td> ACGT</td>\n",
        "      <td> AC</td>\n",
        "      <td>  in</td>\n",
        "      <td> ACGT</td>\n",
        "      <td>      double_null</td>\n",
        "      <td>   double_null</td>\n",
        "      <td> non-point</td>\n",
        "      <td> 2</td>\n",
        "    </tr>\n",
        "  </tbody>\n",
        "</table>\n",
        "</div>"
       ],
       "output_type": "pyout",
       "prompt_number": 129,
       "text": [
        "   left from change right          autoname           name       type  typeidx\n",
        "0  ACGT    C      t     G       ACGT[C->t]G        *CpG->T      point        1\n",
        "1  ACGT    C      t   ACT     ACGT[C->t]ACT  *Cp(A/C/T)->T      point        1\n",
        "2  ACGT    C     fs  ACGT   ACGT[C->fs]ACGT       C->(G/A)      point        1\n",
        "3  ACGT    A    tfs  ACGT  ACGT[A->tfs]ACGT         A->mut      point        1\n",
        "4  ACGT   AC     in  ACGT        indel+null     indel+null  non-point        2\n",
        "5  ACGT   AC     in  ACGT       double_null    double_null  non-point        2"
       ]
      }
     ],
     "prompt_number": 129
    },
    {
     "cell_type": "markdown",
     "metadata": {},
     "source": [
      "#Table 1"
     ]
    },
    {
     "cell_type": "code",
     "collapsed": false,
     "input": [
      "tab['type'].value_counts().sort_index()"
     ],
     "language": "python",
     "metadata": {},
     "outputs": [
      {
       "output_type": "pyout",
       "prompt_number": 15,
       "text": [
        "Frame_Shift_Del        441\n",
        "Frame_Shift_Ins        155\n",
        "In_Frame_Del           148\n",
        "In_Frame_Ins            37\n",
        "Indel                   13\n",
        "Missense                42\n",
        "Missense_Mutation    13122\n",
        "Nonsense_Mutation      800\n",
        "Nonstop_Mutation        16\n",
        "Silent                4231\n",
        "Splice_Site_Del         33\n",
        "Splice_Site_Ins          5\n",
        "Splice_Site_SNP        388"
       ]
      }
     ],
     "prompt_number": 15
    },
    {
     "cell_type": "markdown",
     "metadata": {},
     "source": [
      "#Table 2\n",
      "* They filter out the silent mutations here\n",
      "\n",
      "* n1 = number of nonsilent mutations of type: *CpG->T\n",
      "* n2 = number of nonsilent mutations of type: *Cp(A/C/T)->T\n",
      "* n3 = number of nonsilent mutations of type: C->(G/A)\n",
      "* n4 = number of nonsilent mutations of type: A->mut\n",
      "* n5 = number of nonsilent mutations of type: indel+null\n",
      "* n6 = number of nonsilent mutations of type: double_null"
     ]
    },
    {
     "cell_type": "code",
     "collapsed": false,
     "input": [
      "non_silent = tab[tab.is_silent == 0]\n",
      "non_silent['categ'].value_counts().sort_index()"
     ],
     "language": "python",
     "metadata": {},
     "outputs": [
      {
       "output_type": "pyout",
       "prompt_number": 16,
       "text": [
        "1    1860\n",
        "2    2187\n",
        "3    5215\n",
        "4    3901\n",
        "5    2030\n",
        "6       7"
       ]
      }
     ],
     "prompt_number": 16
    },
    {
     "cell_type": "code",
     "collapsed": false,
     "input": [
      "breakdown = lambda df: df['categ'].value_counts()"
     ],
     "language": "python",
     "metadata": {},
     "outputs": [],
     "prompt_number": 22
    },
    {
     "cell_type": "code",
     "collapsed": false,
     "input": [
      "df = DataFrame({pat: df.categ.value_counts() for pat, df in \n",
      "                non_silent.groupby(level=1)}).T\n",
      "df = df.fillna(0)\n",
      "df = df.rename(columns=lambda s: labels.name[s-1])\n",
      "pct = (df.T / df.sum(1)).T\n",
      "pct = pct.sort(columns='*CpG->T').fillna(0)"
     ],
     "language": "python",
     "metadata": {},
     "outputs": [],
     "prompt_number": 139
    },
    {
     "cell_type": "code",
     "collapsed": false,
     "input": [
      "fig, ax = subplots(figsize=(12,2))\n",
      "pct.plot(kind='bar', stacked=True, legend=False, ax=ax, xticks=[], yticks=[])\n",
      "for p in ax.patches:\n",
      "    p.set_width(1)\n",
      "    p.set_lw(0)\n",
      "ax.set_ybound(0,1)"
     ],
     "language": "python",
     "metadata": {},
     "outputs": [
      {
       "output_type": "display_data",
       "png": "[encoded data removed]"
      }
     ],
     "prompt_number": 140
    },
    {
     "cell_type": "code",
     "collapsed": false,
     "input": [
      "pct"
     ],
     "language": "python",
     "metadata": {},
     "outputs": [
      {
       "output_type": "pyout",
       "prompt_number": 142,
       "text": [
        "<class 'pandas.core.frame.DataFrame'>\n",
        "Int64Index: 316 entries, 178 to 200\n",
        "Data columns:\n",
        "*CpG->T          316  non-null values\n",
        "*Cp(A/C/T)->T    316  non-null values\n",
        "C->(G/A)         316  non-null values\n",
        "A->mut           316  non-null values\n",
        "indel+null       316  non-null values\n",
        "double_null      316  non-null values\n",
        "dtypes: float64(6)"
       ]
      }
     ],
     "prompt_number": 142
    },
    {
     "cell_type": "code",
     "collapsed": false,
     "input": [
      "from itertools import product\n",
      "from pandas import Series, DataFrame, MultiIndex"
     ],
     "language": "python",
     "metadata": {},
     "outputs": [],
     "prompt_number": 30
    },
    {
     "cell_type": "code",
     "collapsed": false,
     "input": [
      "trips = map(lambda s: ''.join(s), product(*([list('ACGT')] * 3)))\n",
      "trips = list(product(*([list('ACGT')] * 3)))"
     ],
     "language": "python",
     "metadata": {},
     "outputs": [],
     "prompt_number": 10
    },
    {
     "cell_type": "code",
     "collapsed": false,
     "input": [
      "at = non_silent[(non_silent['Reference_Allele'] == 'A') * (non_silent['tum_allele1'] == 'A') * (non_silent['tum_allele2'] == 'T')]"
     ],
     "language": "python",
     "metadata": {},
     "outputs": [],
     "prompt_number": 11
    },
    {
     "cell_type": "code",
     "collapsed": false,
     "input": [
      "at.context65.value_counts().sort_index()"
     ],
     "language": "python",
     "metadata": {},
     "outputs": [
      {
       "output_type": "pyout",
       "prompt_number": 12,
       "text": [
        "1     28\n",
        "2     35\n",
        "3     72\n",
        "4     45\n",
        "5     21\n",
        "6     32\n",
        "7     60\n",
        "8     66\n",
        "9     37\n",
        "10    38\n",
        "11    43\n",
        "12    73\n",
        "13    10\n",
        "14    19\n",
        "15    13\n",
        "16    25"
       ]
      }
     ],
     "prompt_number": 12
    },
    {
     "cell_type": "code",
     "collapsed": false,
     "input": [
      "at['newbase'].value_counts()"
     ],
     "language": "python",
     "metadata": {},
     "outputs": [
      {
       "output_type": "pyout",
       "prompt_number": 364,
       "text": [
        "-    157"
       ]
      }
     ],
     "prompt_number": 364
    },
    {
     "cell_type": "code",
     "collapsed": false,
     "input": [
      "context = non_silent['context65'].value_counts().sort_index()\n",
      "context.index = MultiIndex.from_tuples(trips)"
     ],
     "language": "python",
     "metadata": {},
     "outputs": [],
     "prompt_number": 249
    },
    {
     "cell_type": "code",
     "collapsed": false,
     "input": [
      "context.groupby(level=0).sum()"
     ],
     "language": "python",
     "metadata": {},
     "outputs": [
      {
       "output_type": "pyout",
       "prompt_number": 252,
       "text": [
        "A    8962\n",
        "C    2668\n",
        "G    8877\n",
        "T    2529"
       ]
      }
     ],
     "prompt_number": 252
    },
    {
     "cell_type": "code",
     "collapsed": false,
     "input": [
      "trips[39]"
     ],
     "language": "python",
     "metadata": {},
     "outputs": [
      {
       "output_type": "pyout",
       "prompt_number": 244,
       "text": [
        "('G', 'A', 'T')"
       ]
      }
     ],
     "prompt_number": 244
    },
    {
     "cell_type": "code",
     "collapsed": false,
     "input": [
      "c = non_silent['context65'].value_counts()"
     ],
     "language": "python",
     "metadata": {},
     "outputs": [],
     "prompt_number": 247
    },
    {
     "cell_type": "code",
     "collapsed": false,
     "input": [
      "non_silent.ix[4]"
     ],
     "language": "python",
     "metadata": {},
     "outputs": [
      {
       "output_type": "pyout",
       "prompt_number": 239,
       "text": [
        "Entrez_Gene_Id                                                                 0\n",
        "Center                                                          genome.wustl.edu\n",
        "NCBI_Build                                                                    37\n",
        "Chromosome                                                                     7\n",
        "Start_position                                                         105636709\n",
        "End_position                                                           105636709\n",
        "Strand                                                                         +\n",
        "Variant_Classification                                         Missense_Mutation\n",
        "Variant_Type                                                                 SNP\n",
        "Reference_Allele                                                               G\n",
        "Tumor_Seq_Allele1                                                              G\n",
        "Tumor_Seq_Allele2                                                              A\n",
        "dbSNP_RS                                                                   novel\n",
        "dbSNP_Val_Status                                                         unknown\n",
        "Tumor_Sample_Barcode                                TCGA-A1-A0SD-01A-11D-A10Y-09\n",
        "Matched_Norm_Sample_Barcode                         TCGA-A1-A0SD-10A-01D-A110-09\n",
        "Match_Norm_Seq_Allele1                                                         G\n",
        "Match_Norm_Seq_Allele2                                                         G\n",
        "Verification_Status                                                      Unknown\n",
        "Validation_Status                                                        Unknown\n",
        "Mutation_Status                                                          Somatic\n",
        "Sequencing_Phase                                                        Phase_IV\n",
        "Sequence_Source                                                          Capture\n",
        "Score                                                                          1\n",
        "BAM_file                                                                   dbGAP\n",
        "Sequencer                                                         Illumina GAIIx\n",
        "chromosome_name_WU                                                             7\n",
        "start_WU                                                               105636709\n",
        "stop_WU                                                                105636709\n",
        "reference_WU                                                                   G\n",
        "variant_WU                                                                     A\n",
        "type_WU                                                                      SNP\n",
        "gene_name_WU                                                               CDHR3\n",
        "transcript_name_WU                                                     NM_152750\n",
        "transcript_species_WU                                                      human\n",
        "transcript_source_WU                                                     genbank\n",
        "transcript_version_WU                                                     57_37b\n",
        "strand_WU                                                                     +1\n",
        "transcript_status_WU                                                   validated\n",
        "trv_type_WU                                                             missense\n",
        "c_position_WU                                                              c.622\n",
        "amino_acid_change_WU                                                     p.V208M\n",
        "ucsc_cons_WU                                                               0.898\n",
        "domain_WU                      superfamily_Cadherin-like,HMMPfam_Cadherin,HMM...\n",
        "all_domains_WU                 superfamily_Cadherin-like,HMMPfam_Cadherin,HMM...\n",
        "deletion_substructures_WU                                                      -\n",
        "annotation_errors_WU                                                   no_errors\n",
        "patient                                                          BRCA-A1-A0SD-TP\n",
        "dataset                                                                    WashU\n",
        "type                                                           Missense_Mutation\n",
        "classification                                                               SNP\n",
        "start                                                                  105636709\n",
        "end                                                                    105636709\n",
        "gene                                                                       CDHR3\n",
        "chr                                                                            7\n",
        "ref_allele                                                                     G\n",
        "tum_allele1                                                                    G\n",
        "tum_allele2                                                                    A\n",
        "newbase                                                                        A\n",
        "is_coding                                                                      1\n",
        "is_flank                                                                       0\n",
        "is_indel                                                                       0\n",
        "is_ins                                                                         0\n",
        "is_del                                                                         0\n",
        "is_missense                                                                    1\n",
        "is_nonsense                                                                    0\n",
        "is_splice                                                                      0\n",
        "is_silent                                                                      0\n",
        "context_orig                                                                 520\n",
        "context65                                                                     40\n",
        "categ                                                                          1\n",
        "categ_ignoring_null_categ                                                      1\n",
        "gene_idx                                                                    3164\n",
        "Name: (CDHR3, 1), Length: 73"
       ]
      }
     ],
     "prompt_number": 239
    },
    {
     "cell_type": "code",
     "collapsed": false,
     "input": [],
     "language": "python",
     "metadata": {},
     "outputs": [],
     "prompt_number": 248
    },
    {
     "cell_type": "code",
     "collapsed": false,
     "input": [
      "context"
     ],
     "language": "python",
     "metadata": {},
     "outputs": [
      {
       "output_type": "pyout",
       "prompt_number": 199,
       "text": [
        "T  T  T     124\n",
        "      C     140\n",
        "      G     211\n",
        "      A     177\n",
        "   C  T     126\n",
        "      C     233\n",
        "      G     247\n",
        "      A     298\n",
        "   G  T     154\n",
        "      C     159\n",
        "      G     201\n",
        "      A     193\n",
        "   A  T      77\n",
        "      C     136\n",
        "      G      77\n",
        "      A     115\n",
        "C  T  T     354\n",
        "      C     396\n",
        "      G     642\n",
        "      A     287\n",
        "   C  T     300\n",
        "      C     319\n",
        "      G     617\n",
        "      A     351\n",
        "   G  T     303\n",
        "      C     401\n",
        "      G     591\n",
        "      A     342\n",
        "   A  T    1290\n",
        "      C     818\n",
        "      G     676\n",
        "      A    1275\n",
        "G  T  T    1225\n",
        "      C     292\n",
        "      G     380\n",
        "      A     288\n",
        "   C  T     644\n",
        "      C     617\n",
        "      G     631\n",
        "      A     641\n",
        "   G  T     787\n",
        "      C     369\n",
        "      G     281\n",
        "      A     383\n",
        "   A  T    1329\n",
        "      C     319\n",
        "      G     355\n",
        "      A     336\n",
        "A  T  T     148\n",
        "      C     166\n",
        "      G     226\n",
        "      A     203\n",
        "   C  T      75\n",
        "      C     181\n",
        "      G     214\n",
        "      A     185\n",
        "   G  T     132\n",
        "      C     142\n",
        "      G     225\n",
        "      A     138\n",
        "   A  T      94\n",
        "      C     144\n",
        "      G     116\n",
        "      A     140\n",
        "Length: 64"
       ]
      }
     ],
     "prompt_number": 199
    },
    {
     "cell_type": "code",
     "collapsed": false,
     "input": [
      "non_silent['context_orig'].value_counts()"
     ],
     "language": "python",
     "metadata": {},
     "outputs": [
      {
       "output_type": "pyout",
       "prompt_number": 148,
       "text": [
        "585    1180\n",
        "377    1110\n",
        "416     923\n",
        "429     895\n",
        "390     747\n",
        "533     713\n",
        "403     555\n",
        "481     541\n",
        "247     539\n",
        "520     530\n",
        "494     493\n",
        "507     486\n",
        "299     484\n",
        "351     479\n",
        "338     360\n",
        "...\n",
        "796    1\n",
        "652    1\n",
        "236    1\n",
        "171    1\n",
        "730    1\n",
        "807    1\n",
        "118    1\n",
        "197    1\n",
        "53     1\n",
        "164    1\n",
        "690    1\n",
        "2      1\n",
        "769    1\n",
        "353    1\n",
        "145    1\n",
        "Length: 284"
       ]
      }
     ],
     "prompt_number": 148
    },
    {
     "cell_type": "code",
     "collapsed": false,
     "input": [
      "tab.set_index(['gene_idx','pat_idx'])['categ'].groupby(level='pat_idx').apply(lambda s: s.value_counts())"
     ],
     "language": "python",
     "metadata": {},
     "outputs": [
      {
       "output_type": "pyout",
       "prompt_number": 51,
       "text": [
        "pat_idx   \n",
        "1        1    15\n",
        "         4    10\n",
        "         5     6\n",
        "         3     6\n",
        "         2     4\n",
        "2        4     8\n",
        "         2     6\n",
        "         5     3\n",
        "         1     3\n",
        "         3     2\n",
        "3        3    45\n",
        "         2    30\n",
        "         5    13\n",
        "         4     8\n",
        "         1     4\n",
        "...\n",
        "505      3     3\n",
        "         4     2\n",
        "         2     2\n",
        "         5     1\n",
        "506      3    11\n",
        "         1     7\n",
        "         4     5\n",
        "         2     5\n",
        "         5     4\n",
        "507      1    11\n",
        "         3     6\n",
        "         4     5\n",
        "         5     3\n",
        "         2     2\n",
        "         6     1\n",
        "Length: 2575"
       ]
      }
     ],
     "prompt_number": 51
    },
    {
     "cell_type": "code",
     "collapsed": false,
     "input": [],
     "language": "python",
     "metadata": {},
     "outputs": [
      {
       "output_type": "pyout",
       "prompt_number": 22,
       "text": [
        "<class 'pandas.core.frame.DataFrame'>\n",
        "Int64Index: 30323 entries, 0 to 30322\n",
        "Data columns:\n",
        "gene_idx    30323  non-null values\n",
        "pat_idx     30323  non-null values\n",
        "dtypes: int64(2)"
       ]
      }
     ],
     "prompt_number": 22
    },
    {
     "cell_type": "code",
     "collapsed": false,
     "input": [],
     "language": "python",
     "metadata": {},
     "outputs": []
    }
   ],
   "metadata": {}
  }
 ]
}