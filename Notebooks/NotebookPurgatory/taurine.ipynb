{
 "metadata": {
  "name": "taurine"
 },
 "nbformat": 3,
 "nbformat_minor": 0,
 "worksheets": [
  {
   "cells": [
    {
     "cell_type": "code",
     "collapsed": false,
     "input": [
      "cd ../src"
     ],
     "language": "python",
     "metadata": {},
     "outputs": [
      {
       "output_type": "stream",
       "stream": "stdout",
       "text": [
        "/cellar/users/agross/TCGA_Code/TCGA/Pathway_Merge/src\n"
       ]
      }
     ],
     "prompt_number": 1
    },
    {
     "cell_type": "code",
     "collapsed": false,
     "input": [
      "import os as os\n",
      "import pickle as pickle"
     ],
     "language": "python",
     "metadata": {},
     "outputs": [],
     "prompt_number": 2
    },
    {
     "cell_type": "code",
     "collapsed": false,
     "input": [
      "result_path = '/scratch/TCGA/Firehose__2012_12_21/ucsd_analyses'\n",
      "run = sorted(os.listdir(result_path))[-1]\n",
      "run = pickle.load(open('/'.join([result_path, run, 'RunObject.p']), 'rb'))"
     ],
     "language": "python",
     "metadata": {},
     "outputs": [],
     "prompt_number": 3
    },
    {
     "cell_type": "code",
     "collapsed": false,
     "input": [
      "paths = {c: '/'.join([run.report_path, c, 'MAF', 'Tests', 'Event_Free_Survival_5y', 'TestResult.p'])\n",
      "         for c in run.cancers}\n",
      "results = {c: pickle.load(open(p, 'rb')) for c,p in paths.iteritems() if os.path.isfile(p)}"
     ],
     "language": "python",
     "metadata": {},
     "outputs": [],
     "prompt_number": 4
    },
    {
     "cell_type": "code",
     "collapsed": false,
     "input": [
      "c = 'KIRC'\n",
      "cancer = run.load_cancer(c)"
     ],
     "language": "python",
     "metadata": {},
     "outputs": [],
     "prompt_number": 5
    },
    {
     "cell_type": "code",
     "collapsed": false,
     "input": [
      "res = results[c]"
     ],
     "language": "python",
     "metadata": {},
     "outputs": [],
     "prompt_number": 183
    },
    {
     "cell_type": "code",
     "collapsed": false,
     "input": [
      "res.path = '/'.join([res._dataset_path, 'Tests', res.name])\n",
      "fig_path = '/'.join([res.path, 'Figures',''])\n",
      "thresholded = res.results.ix[res.p_values < .01]\n",
      "\n",
      "data = res.get_dataset()\n",
      "data.uncompress()   \n",
      "\n",
      "clinical = cancer.load_clinical()"
     ],
     "language": "python",
     "metadata": {},
     "outputs": [],
     "prompt_number": 184
    },
    {
     "cell_type": "code",
     "collapsed": false,
     "input": [
      "from Reports.Reports import *\n",
      "from Reports.Figures import *\n",
      "from Processing.Tests import get_cox_ph_ms"
     ],
     "language": "python",
     "metadata": {},
     "outputs": [],
     "prompt_number": 8
    },
    {
     "cell_type": "code",
     "collapsed": false,
     "input": [
      "class NozzleTable2(object):\n",
      "    def __init__(self, table, caption='', idx_name=''):\n",
      "        table = table.applymap(lambda s: \"%8.2e\"%s).astype(float)\n",
      "        index_series = Series(dict((i,i) for i in table.index), name=idx_name)\n",
      "        self.table = table.join(index_series)\n",
      "        self.table = roll_df(self.table,1)\n",
      "        self.row_pos = dict((g,i+1) for i,g in enumerate(self.table.index))\n",
      "        self.col_pos = dict((c,i+1) for i,c in enumerate(self.table.columns))\n",
      "        \n",
      "        r_table = self.table.copy().fillna(1.)\n",
      "        r_table = com.convert_to_r_dataframe(r_table) #@UndefinedVariable\n",
      "        self.nozzle_table = nz.newTable(r_table, caption)\n",
      "        \n",
      "    def add_to_table(self, result, row, col, captions='', title='',\n",
      "                     isSignificant=True):\n",
      "        '''\n",
      "        Add a figure from a file to the Nozzle table.\n",
      "        This is just a wrapper to put a figure(s) in a result section.\n",
      "        '''\n",
      "        self.nozzle_table = nz.addTo(self.nozzle_table, result, \n",
      "                                     row=self.row_pos[row], \n",
      "                                     column=self.col_pos[col]) "
     ],
     "language": "python",
     "metadata": {},
     "outputs": [],
     "prompt_number": 9
    },
    {
     "cell_type": "code",
     "collapsed": false,
     "input": [
      "meth = cancer.load_data('Methylation')"
     ],
     "language": "python",
     "metadata": {},
     "outputs": [],
     "prompt_number": 10
    },
    {
     "cell_type": "code",
     "collapsed": false,
     "input": [
      "meth.pc1.name = 'pc1'\n",
      "meth.pc2.name = 'pc2'"
     ],
     "language": "python",
     "metadata": {},
     "outputs": [],
     "prompt_number": 11
    },
    {
     "cell_type": "code",
     "collapsed": false,
     "input": [
      "from pandas import read_table"
     ],
     "language": "python",
     "metadata": {},
     "outputs": [],
     "prompt_number": 12
    },
    {
     "cell_type": "code",
     "collapsed": false,
     "input": [
      "f = run.data_path + 'stddata/KIRC/RPPA_AnnotateWithGene/KIRC.rppa.txt'\n",
      "rppa = read_table(f, index_col=0)\n",
      "rppa = rppa.rename(columns=lambda s: s[:12])"
     ],
     "language": "python",
     "metadata": {},
     "outputs": [],
     "prompt_number": 356
    },
    {
     "cell_type": "code",
     "collapsed": false,
     "input": [],
     "language": "python",
     "metadata": {},
     "outputs": []
    },
    {
     "cell_type": "code",
     "collapsed": false,
     "input": [
      "[g for g in list(rppa.index) if 'AKT' in g]"
     ],
     "language": "python",
     "metadata": {},
     "outputs": [
      {
       "output_type": "pyout",
       "prompt_number": 369,
       "text": [
        "[]"
       ]
      }
     ],
     "prompt_number": 369
    },
    {
     "cell_type": "code",
     "collapsed": false,
     "input": [
      "akt = rppa.ix['AKT1 AKT2 AKT3|Akt-R-V']\n",
      "akt_p = rppa.ix['AKT1 AKT2 AKT3|Akt_pS473-R-V']"
     ],
     "language": "python",
     "metadata": {},
     "outputs": [],
     "prompt_number": 363
    },
    {
     "cell_type": "code",
     "collapsed": false,
     "input": [
      "path = meth.features.ix['KEGG_TAURINE_AND_HYPOTAURINE_METABOLISM'].astype(float)\n",
      "path.name = 'path'"
     ],
     "language": "python",
     "metadata": {},
     "outputs": [],
     "prompt_number": 13
    },
    {
     "cell_type": "code",
     "collapsed": false,
     "input": [
      "meth.pc_genes.ix['KEGG_TAURINE_AND_HYPOTAURINE_METABOLISM'].order().plot(kind='bar');"
     ],
     "language": "python",
     "metadata": {},
     "outputs": [
      {
       "output_type": "display_data",
       "png": "[encoded data removed]"
      }
     ],
     "prompt_number": 14
    },
    {
     "cell_type": "code",
     "collapsed": false,
     "input": [
      "meth.features.ix['ST_JAK_STAT_PATHWAY'].hist()\n",
      "ylabel('Number of Patients')\n",
      "xlabel('Relative Methylation')"
     ],
     "language": "python",
     "metadata": {},
     "outputs": [
      {
       "output_type": "pyout",
       "prompt_number": 15,
       "text": [
        "<matplotlib.text.Text at 0x4b7fa10>"
       ]
      },
      {
       "output_type": "display_data",
       "png": "[encoded data removed]"
      }
     ],
     "prompt_number": 15
    },
    {
     "cell_type": "code",
     "collapsed": false,
     "input": [
      "df = meth.df\n",
      "norm = ((df.T - df.mean(1)) / df.std(1)).T\n",
      "U,S,vH = frame_svd(norm)\n",
      "pc1, pc2 = vH[0], vH[1]\n",
      "loading1, loading2 = U[0], U[1]\n",
      "\n",
      "S_n = S.copy()\n",
      "S_n[0] = 0\n",
      "rest = U.dot(DataFrame(diag(S_n)).dot(vH.T))"
     ],
     "language": "python",
     "metadata": {},
     "outputs": [],
     "prompt_number": 16
    },
    {
     "cell_type": "code",
     "collapsed": false,
     "input": [
      "conv = {'stge i': 1, 'stge iii': 3, 'stge iv': 4, 'stge ii': 2}"
     ],
     "language": "python",
     "metadata": {},
     "outputs": [],
     "prompt_number": 17
    },
    {
     "cell_type": "code",
     "collapsed": false,
     "input": [
      "stage = clinical.clinical.tumor_stage.map(conv)"
     ],
     "language": "python",
     "metadata": {},
     "outputs": [],
     "prompt_number": 18
    },
    {
     "cell_type": "code",
     "collapsed": false,
     "input": [
      "trans = {'t1a': 1, 't1': 1, 't2': 2, 't1b': 1, 't3a': 3, 't3b': 3, 't4': 4, 't2a': 2, 't3': 3, 't2b': 2, 't3c': 3}\n",
      "grade = clinical.clinical.tumor_grade.map(trans)"
     ],
     "language": "python",
     "metadata": {},
     "outputs": [],
     "prompt_number": 19
    },
    {
     "cell_type": "code",
     "collapsed": false,
     "input": [
      "res.test.covariates.join(stage.astype(str))"
     ],
     "language": "python",
     "metadata": {},
     "outputs": [
      {
       "output_type": "pyout",
       "prompt_number": 26,
       "text": [
        "<class 'pandas.core.frame.DataFrame'>\n",
        "Index: 502 entries, TCGA-A3-3306 to TCGA-EU-5907\n",
        "Data columns:\n",
        "rate_non       293  non-null values\n",
        "age            501  non-null values\n",
        "tumor_stage    502  non-null values\n",
        "dtypes: float64(2), object(1)"
       ]
      }
     ],
     "prompt_number": 26
    },
    {
     "cell_type": "code",
     "collapsed": false,
     "input": [
      "from Processing.Tests import *"
     ],
     "language": "python",
     "metadata": {},
     "outputs": [],
     "prompt_number": 29
    },
    {
     "cell_type": "code",
     "collapsed": false,
     "input": [
      "def cox_model_selection(fmla, df):\n",
      "    s = survival.coxph(fmla, df)\n",
      "    reduced = robjects.r.step(s, direction='both', trace=0);\n",
      "    fmla_reduced = reduced.rx2('formula')\n",
      "    s_reduced = survival.coxph(fmla_reduced, df)\n",
      "    return s_reduced\n",
      "\n",
      "def get_formula(factors, get_interactions=True):\n",
      "    if (len(factors) > 1) and get_interactions:\n",
      "        interactions = ' + '.join(('*'.join([a,b]) for a in factors \n",
      "                                  for b in factors if a<b))\n",
      "    elif (len(factors) > 1) and not get_interactions:\n",
      "        interactions = ' + '.join(factors)\n",
      "    elif len(factors) == 1: \n",
      "        interactions = factors[0]\n",
      "    else:\n",
      "        interactions = '1'\n",
      "    fmla = 'Surv(days, event) ~ {}'.format(interactions)\n",
      "    return fmla"
     ],
     "language": "python",
     "metadata": {},
     "outputs": [],
     "prompt_number": 115
    },
    {
     "cell_type": "code",
     "collapsed": false,
     "input": [
      "def get_cox_ph_ms(surv, feature=None, covariates=None, return_val='p', \n",
      "                  null_model=None, formula=None, get_model=False, interactions=True):\n",
      "    '''\n",
      "    Fit a cox proportial hazzards model to the data.\n",
      "    Returns a p-value on the hit_vec coefficient. \n",
      "    ---------------------------------------------------\n",
      "    clinical: DataFrame of clinical variables\n",
      "    hit_vec: vector of labels to test against\n",
      "    covariates: names of covariates in the cox model,\n",
      "                (must be columns in clinical DataFrame)\n",
      "    '''\n",
      "    if covariates is None:\n",
      "        covariates = DataFrame(index=feature.index)\n",
      "    c_real = covariates.ix[:,covariates.dtypes.isin([dtype(float), dtype(int)])]\n",
      "    c_real = (c_real - c_real.mean()) / c_real.std()\n",
      "    covariates[c_real.columns] = c_real\n",
      "\n",
      "    clinical = covariates.join(surv.unstack()).dropna()\n",
      "    clinical = clinical.groupby(level=0).first()\n",
      "    \n",
      "    df, factors = process_factors(clinical, feature, list(covariates.columns))\n",
      "    df = df[factors + ['days','event']]\n",
      "    df = df.dropna()\n",
      "    \n",
      "    df = convert_to_r_dataframe(df)\n",
      "    if formula is None:\n",
      "        fmla = get_formula(factors, interactions)\n",
      "        fmla = robjects.Formula(fmla)\n",
      "    else:\n",
      "        fmla = robjects.Formula(formula)\n",
      "    \n",
      "    if formula is not None:\n",
      "        s = survival.coxph(fmla, df)\n",
      "    else:\n",
      "        s = cox_model_selection(fmla, df)\n",
      "    results = convert_robj(base.summary(s).rx2('coefficients'))\n",
      "    '''    \n",
      "    try:\n",
      "        if formula is not None:\n",
      "            s = survival.coxph(fmla, df)\n",
      "        else:\n",
      "            s = cox_model_selection(fmla, df)\n",
      "        results = convert_robj(base.summary(s).rx2('coefficients'))\n",
      "    except robjects.rinterface.RRuntimeError:\n",
      "        return 1.23\n",
      "    '''\n",
      "    if return_val == 'p':\n",
      "        return results.ix['feature','Pr(>|z|)']\n",
      "    elif return_val == 'model':\n",
      "        return s\n",
      "    elif return_val in ['LR', 'LR_p']:\n",
      "        if (((not hasattr(get_cox_ph_ms, 'null_model')) and (null_model == None))\n",
      "            or (get_cox_ph_ms.params !=  surv.name, list(covariates.columns))):\n",
      "            '''Save some time by non-recomputing null model'''\n",
      "            patients = feature.dropna().index\n",
      "            null_model = get_cox_ph_ms(surv, covariates=covariates.ix[patients], \n",
      "                                       return_val='model')\n",
      "            get_cox_ph_ms.null_model = null_model\n",
      "            get_cox_ph_ms.params = surv.name, list(covariates.columns)\n",
      "        else:\n",
      "            null_model = get_cox_ph_ms.null_model\n",
      "        LR_p = LR_test(s, null_model)\n",
      "        \n",
      "        if type(results) == DataFrame and 'feature' in results.index:\n",
      "            coef_p = results.ix['feature','Pr(>|z|)']\n",
      "            hazzard = results.ix['feature','exp(coef)']\n",
      "        else:\n",
      "            coef_p, hazzard = nan, nan\n",
      "    if return_val == 'LR':\n",
      "        f = str(s.rx2('formula'))\n",
      "        results = {'LR': LR_p, 'feature_p': coef_p, 'hazzard': hazzard, 'fmla': f}\n",
      "        if get_model:\n",
      "            results['model'] = s\n",
      "        return results\n",
      "    if return_val == 'LR_p':\n",
      "        return coef_p if LR_p < .05 else nan"
     ],
     "language": "python",
     "metadata": {},
     "outputs": [],
     "prompt_number": 150
    },
    {
     "cell_type": "code",
     "collapsed": false,
     "input": [
      "covariates"
     ],
     "language": "python",
     "metadata": {},
     "outputs": [
      {
       "output_type": "pyout",
       "prompt_number": 139,
       "text": [
        "<class 'pandas.core.frame.DataFrame'>\n",
        "Index: 502 entries, TCGA-A3-3306 to TCGA-EU-5907\n",
        "Data columns:\n",
        "rate_non       293  non-null values\n",
        "age            501  non-null values\n",
        "tumor_stage    502  non-null values\n",
        "dtypes: float64(2), object(1)"
       ]
      }
     ],
     "prompt_number": 139
    },
    {
     "cell_type": "code",
     "collapsed": false,
     "input": [
      "#covariates = res.test.covariates.join(stage.astype(str))\n",
      "surv = clinical.survival.event_free_survival"
     ],
     "language": "python",
     "metadata": {},
     "outputs": [],
     "prompt_number": 140
    },
    {
     "cell_type": "code",
     "collapsed": false,
     "input": [],
     "language": "python",
     "metadata": {},
     "outputs": []
    },
    {
     "cell_type": "code",
     "collapsed": false,
     "input": [
      "path = meth.features.ix['KEGG_TAURINE_AND_HYPOTAURINE_METABOLISM'].astype(float)\n",
      "path.name = 'path'\n",
      "feature = path\n",
      "s1 = stage[stage == 3].index\n",
      "#feature = akt_p.astype(float)\n",
      "\n",
      "m = get_cox_ph_ms(clinical.survival.survival, feature.dropna(), res.test.covariates[['age']].join(stage.astype(str)), return_val='LR', get_model=True,\n",
      "                  interactions=False)\n",
      "print m['LR']\n",
      "print \n",
      "m = m['model']\n",
      "coef = com.convert_robj(base.summary(m).rx2('coefficients'))\n",
      "coef = NozzleTable2(coef, caption='Model Coefficients', idx_name='covariate')\n",
      "summary = str(m).split('\\n')[-2]\n",
      "print coef.table   \n",
      "print \n",
      "print summary"
     ],
     "language": "python",
     "metadata": {},
     "outputs": [
      {
       "output_type": "stream",
       "stream": "stdout",
       "text": [
        "0.00102424562152\n",
        "\n",
        "                 covariate    coef  exp(coef)  se(coef)     z      Pr(>|z|)\n",
        "feature            feature  5.5900    267.000     1.620  3.45  5.640000e-04\n",
        "age                    age  0.3660      1.440     0.128  2.85  4.360000e-03\n",
        "tumor_stage2  tumor_stage2 -0.0774      0.926     0.515 -0.15  8.810000e-01\n",
        "tumor_stage3  tumor_stage3  1.0600      2.880     0.323  3.28  1.050000e-03\n",
        "tumor_stage4  tumor_stage4  1.8900      6.610     0.309  6.12  9.650000e-10\n",
        "\n",
        "Likelihood ratio test=95.3  on 5 df, p=0  n= 283, number of events= 95 \n"
       ]
      }
     ],
     "prompt_number": 141
    },
    {
     "cell_type": "code",
     "collapsed": false,
     "input": [
      "from IPython.display import Image"
     ],
     "language": "python",
     "metadata": {},
     "outputs": [],
     "prompt_number": 127
    },
    {
     "cell_type": "code",
     "collapsed": false,
     "input": [
      "res.test.covariates = res.test.covariates[['age']].join(stage)"
     ],
     "language": "python",
     "metadata": {},
     "outputs": [],
     "prompt_number": 153
    },
    {
     "cell_type": "code",
     "collapsed": false,
     "input": [
      "res.test.surv = clinical.survival.survival"
     ],
     "language": "python",
     "metadata": {},
     "outputs": [],
     "prompt_number": 154
    },
    {
     "cell_type": "code",
     "collapsed": false,
     "input": [
      "f = feature.ix[s1].dropna().astype(float)\n",
      "f = (f - f.mean()) / f.std()\n",
      "f = f > 0"
     ],
     "language": "python",
     "metadata": {},
     "outputs": [],
     "prompt_number": 155
    },
    {
     "cell_type": "code",
     "collapsed": false,
     "input": [
      "f = feature\n",
      "f = (f - f.mean()) / f.std()\n",
      "f = f > 0\n",
      "#f = -1*(f < -1) + 1*(f > 1)\n",
      "draw_survival_curves_model(f, res.test, labels=['low','high'], ann='All')\n",
      "Image(filename='tmp.png')"
     ],
     "language": "python",
     "metadata": {},
     "outputs": [
      {
       "output_type": "pyout",
       "png": "[encoded data removed]",
       "prompt_number": 202,
       "text": [
        "<IPython.core.display.Image at 0x842ec50>"
       ]
      }
     ],
     "prompt_number": 202
    },
    {
     "cell_type": "code",
     "collapsed": false,
     "input": [
      "clinical.survival.survival_5y"
     ],
     "language": "python",
     "metadata": {},
     "outputs": []
    },
    {
     "cell_type": "code",
     "collapsed": false,
     "input": [
      "s1 = stage[stage == 4].index\n",
      "f = feature.ix[s1].dropna().astype(float)\n",
      "f = (f - f.mean()) / f.std()\n",
      "f = f > 0\n",
      "m = get_cox_ph_ms(clinical.survival.survival, f, res.test.covariates[[]], return_val='LR', get_model=True,\n",
      "                  interactions=False)\n",
      "print m['LR']\n",
      "\n",
      "draw_survival_curves_model(f, res.test, labels=['low','high'], ann='Stage 4')\n",
      "Image(filename='tmp.png')"
     ],
     "language": "python",
     "metadata": {},
     "outputs": [
      {
       "output_type": "stream",
       "stream": "stdout",
       "text": [
        "1.0\n"
       ]
      },
      {
       "output_type": "pyout",
       "png": "[encoded data removed]",
       "prompt_number": 344,
       "text": [
        "<IPython.core.display.Image at 0x6f9ad10>"
       ]
      }
     ],
     "prompt_number": 344
    },
    {
     "cell_type": "code",
     "collapsed": false,
     "input": [
      "s1 = stage[stage == 3].index\n",
      "f = feature.ix[s1].dropna().astype(float)\n",
      "f = (f - f.mean()) / f.std()\n",
      "#f = f > 0\n",
      "m = get_cox_ph_ms(clinical.survival.survival_5y, f, res.test.covariates[[]], return_val='LR', get_model=True,\n",
      "                  interactions=False)\n",
      "print m['LR']\n",
      "print \n",
      "m = m['model']\n",
      "coef = com.convert_robj(base.summary(m).rx2('coefficients'))\n",
      "coef = NozzleTable2(coef, caption='Model Coefficients', idx_name='covariate')\n",
      "summary = str(m).split('\\n')[-2]\n",
      "print coef.table   \n",
      "print \n",
      "print summary\n",
      "\n",
      "draw_survival_curves_model(f>0, res.test, labels=['low','high'], ann='Stage 3')\n",
      "Image(filename='tmp.png')"
     ],
     "language": "python",
     "metadata": {},
     "outputs": [
      {
       "output_type": "stream",
       "stream": "stdout",
       "text": [
        "0.0663129797939\n",
        "\n",
        "        covariate   coef  exp(coef)  se(coef)     z  Pr(>|z|)\n",
        "feature   feature  0.292       1.34     0.148  1.98    0.0474\n",
        "\n",
        "Likelihood ratio test=3.37  on 1 df, p=0.0663  n= 73, number of events= 27 \n"
       ]
      },
      {
       "output_type": "pyout",
       "png": "[encoded data removed]",
       "prompt_number": 328,
       "text": [
        "<IPython.core.display.Image at 0x842e0d0>"
       ]
      }
     ],
     "prompt_number": 328
    },
    {
     "cell_type": "code",
     "collapsed": false,
     "input": [
      "df = data.df.ix[run.gene_sets['KEGG_ALDOSTERONE_REGULATED_SODIUM_REABSORPTION']]"
     ],
     "language": "python",
     "metadata": {},
     "outputs": [],
     "prompt_number": 196
    },
    {
     "cell_type": "code",
     "collapsed": false,
     "input": [
      "df.sum().value_counts()"
     ],
     "language": "python",
     "metadata": {},
     "outputs": [
      {
       "output_type": "pyout",
       "prompt_number": 201,
       "text": [
        "0    241\n",
        "1     46\n",
        "2      6"
       ]
      }
     ],
     "prompt_number": 201
    },
    {
     "cell_type": "code",
     "collapsed": false,
     "input": [
      "(df.sum() > 0).sum() "
     ],
     "language": "python",
     "metadata": {},
     "outputs": [
      {
       "output_type": "pyout",
       "prompt_number": 199,
       "text": [
        "52"
       ]
      }
     ],
     "prompt_number": 199
    },
    {
     "cell_type": "code",
     "collapsed": false,
     "input": [
      "len(run.gene_sets['KEGG_ALDOSTERONE_REGULATED_SODIUM_REABSORPTION'])"
     ],
     "language": "python",
     "metadata": {},
     "outputs": [
      {
       "output_type": "pyout",
       "prompt_number": 182,
       "text": [
        "42"
       ]
      }
     ],
     "prompt_number": 182
    },
    {
     "cell_type": "code",
     "collapsed": false,
     "input": [
      "s1 = stage[stage == 2].index\n",
      "f = feature.ix[s1].dropna().astype(float)\n",
      "f = (f - f.mean()) / f.std()\n",
      "#f = f > 0\n",
      "m = get_cox_ph_ms(clinical.survival.survival, f, res.test.covariates[['age']], return_val='LR', get_model=True,\n",
      "                  interactions=False)\n",
      "print m['LR']\n",
      "\n",
      "draw_survival_curves_model(f>0, res.test, labels=['low','high'], ann='Stage 2')\n",
      "Image(filename='tmp.png')"
     ],
     "language": "python",
     "metadata": {},
     "outputs": [
      {
       "output_type": "stream",
       "stream": "stdout",
       "text": [
        "1.0\n"
       ]
      },
      {
       "output_type": "pyout",
       "png": "[encoded data removed]",
       "prompt_number": 332,
       "text": [
        "<IPython.core.display.Image at 0x759a550>"
       ]
      }
     ],
     "prompt_number": 332
    },
    {
     "cell_type": "code",
     "collapsed": false,
     "input": [
      "s1 = stage[stage == 1].index\n",
      "f = feature.ix[s1].dropna().astype(float)\n",
      "f = (f - f.mean()) / f.std()\n",
      "#f = f > 0\n",
      "m = get_cox_ph_ms(clinical.survival.survival_5y, f, res.test.covariates[[]], return_val='LR', get_model=True,\n",
      "                  interactions=True)"
     ],
     "language": "python",
     "metadata": {},
     "outputs": [],
     "prompt_number": 339
    },
    {
     "cell_type": "code",
     "collapsed": false,
     "input": [
      "s1 = stage[stage == 1].index\n",
      "f = feature.ix[s1].dropna().astype(float)\n",
      "f = (f - f.mean()) / f.std()\n",
      "#f = f > 0\n",
      "m = get_cox_ph_ms(clinical.survival.survival_5y, f, res.test.covariates[[]], return_val='LR', get_model=True,\n",
      "                  interactions=False)\n",
      "print m['LR']\n",
      "print \n",
      "m = m['model']\n",
      "coef = com.convert_robj(base.summary(m).rx2('coefficients'))\n",
      "coef = NozzleTable2(coef, caption='Model Coefficients', idx_name='covariate')\n",
      "summary = str(m).split('\\n')[-2]\n",
      "print coef.table   \n",
      "print \n",
      "print summary\n",
      "\n",
      "draw_survival_curves_model(f>0, res.test, labels=['low','high'], ann='Stage 2')\n",
      "Image(filename='tmp.png')"
     ],
     "language": "python",
     "metadata": {},
     "outputs": [
      {
       "ename": "AttributeError",
       "evalue": "'rpy2.rinterface.RNULLType' object has no attribute 'applymap'",
       "output_type": "pyerr",
       "traceback": [
        "\u001b[1;31m---------------------------------------------------------------------------\u001b[0m\n\u001b[1;31mAttributeError\u001b[0m                            Traceback (most recent call last)",
        "\u001b[1;32m<ipython-input-341-6dd248a12564>\u001b[0m in \u001b[0;36m<module>\u001b[1;34m()\u001b[0m\n\u001b[0;32m      9\u001b[0m \u001b[0mm\u001b[0m \u001b[1;33m=\u001b[0m \u001b[0mm\u001b[0m\u001b[1;33m[\u001b[0m\u001b[1;34m'model'\u001b[0m\u001b[1;33m]\u001b[0m\u001b[1;33m\u001b[0m\u001b[0m\n\u001b[0;32m     10\u001b[0m \u001b[0mcoef\u001b[0m \u001b[1;33m=\u001b[0m \u001b[0mcom\u001b[0m\u001b[1;33m.\u001b[0m\u001b[0mconvert_robj\u001b[0m\u001b[1;33m(\u001b[0m\u001b[0mbase\u001b[0m\u001b[1;33m.\u001b[0m\u001b[0msummary\u001b[0m\u001b[1;33m(\u001b[0m\u001b[0mm\u001b[0m\u001b[1;33m)\u001b[0m\u001b[1;33m.\u001b[0m\u001b[0mrx2\u001b[0m\u001b[1;33m(\u001b[0m\u001b[1;34m'coefficients'\u001b[0m\u001b[1;33m)\u001b[0m\u001b[1;33m)\u001b[0m\u001b[1;33m\u001b[0m\u001b[0m\n\u001b[1;32m---> 11\u001b[1;33m \u001b[0mcoef\u001b[0m \u001b[1;33m=\u001b[0m \u001b[0mNozzleTable2\u001b[0m\u001b[1;33m(\u001b[0m\u001b[0mcoef\u001b[0m\u001b[1;33m,\u001b[0m \u001b[0mcaption\u001b[0m\u001b[1;33m=\u001b[0m\u001b[1;34m'Model Coefficients'\u001b[0m\u001b[1;33m,\u001b[0m \u001b[0midx_name\u001b[0m\u001b[1;33m=\u001b[0m\u001b[1;34m'covariate'\u001b[0m\u001b[1;33m)\u001b[0m\u001b[1;33m\u001b[0m\u001b[0m\n\u001b[0m\u001b[0;32m     12\u001b[0m \u001b[0msummary\u001b[0m \u001b[1;33m=\u001b[0m \u001b[0mstr\u001b[0m\u001b[1;33m(\u001b[0m\u001b[0mm\u001b[0m\u001b[1;33m)\u001b[0m\u001b[1;33m.\u001b[0m\u001b[0msplit\u001b[0m\u001b[1;33m(\u001b[0m\u001b[1;34m'\\n'\u001b[0m\u001b[1;33m)\u001b[0m\u001b[1;33m[\u001b[0m\u001b[1;33m-\u001b[0m\u001b[1;36m2\u001b[0m\u001b[1;33m]\u001b[0m\u001b[1;33m\u001b[0m\u001b[0m\n\u001b[0;32m     13\u001b[0m \u001b[1;32mprint\u001b[0m \u001b[0mcoef\u001b[0m\u001b[1;33m.\u001b[0m\u001b[0mtable\u001b[0m\u001b[1;33m\u001b[0m\u001b[0m\n",
        "\u001b[1;32m<ipython-input-9-bc003800692a>\u001b[0m in \u001b[0;36m__init__\u001b[1;34m(self, table, caption, idx_name)\u001b[0m\n\u001b[0;32m      1\u001b[0m \u001b[1;32mclass\u001b[0m \u001b[0mNozzleTable2\u001b[0m\u001b[1;33m(\u001b[0m\u001b[0mobject\u001b[0m\u001b[1;33m)\u001b[0m\u001b[1;33m:\u001b[0m\u001b[1;33m\u001b[0m\u001b[0m\n\u001b[0;32m      2\u001b[0m     \u001b[1;32mdef\u001b[0m \u001b[0m__init__\u001b[0m\u001b[1;33m(\u001b[0m\u001b[0mself\u001b[0m\u001b[1;33m,\u001b[0m \u001b[0mtable\u001b[0m\u001b[1;33m,\u001b[0m \u001b[0mcaption\u001b[0m\u001b[1;33m=\u001b[0m\u001b[1;34m''\u001b[0m\u001b[1;33m,\u001b[0m \u001b[0midx_name\u001b[0m\u001b[1;33m=\u001b[0m\u001b[1;34m''\u001b[0m\u001b[1;33m)\u001b[0m\u001b[1;33m:\u001b[0m\u001b[1;33m\u001b[0m\u001b[0m\n\u001b[1;32m----> 3\u001b[1;33m         \u001b[0mtable\u001b[0m \u001b[1;33m=\u001b[0m \u001b[0mtable\u001b[0m\u001b[1;33m.\u001b[0m\u001b[0mapplymap\u001b[0m\u001b[1;33m(\u001b[0m\u001b[1;32mlambda\u001b[0m \u001b[0ms\u001b[0m\u001b[1;33m:\u001b[0m \u001b[1;34m\"%8.2e\"\u001b[0m\u001b[1;33m%\u001b[0m\u001b[0ms\u001b[0m\u001b[1;33m)\u001b[0m\u001b[1;33m.\u001b[0m\u001b[0mastype\u001b[0m\u001b[1;33m(\u001b[0m\u001b[0mfloat\u001b[0m\u001b[1;33m)\u001b[0m\u001b[1;33m\u001b[0m\u001b[0m\n\u001b[0m\u001b[0;32m      4\u001b[0m         \u001b[0mindex_series\u001b[0m \u001b[1;33m=\u001b[0m \u001b[0mSeries\u001b[0m\u001b[1;33m(\u001b[0m\u001b[0mdict\u001b[0m\u001b[1;33m(\u001b[0m\u001b[1;33m(\u001b[0m\u001b[0mi\u001b[0m\u001b[1;33m,\u001b[0m\u001b[0mi\u001b[0m\u001b[1;33m)\u001b[0m \u001b[1;32mfor\u001b[0m \u001b[0mi\u001b[0m \u001b[1;32min\u001b[0m \u001b[0mtable\u001b[0m\u001b[1;33m.\u001b[0m\u001b[0mindex\u001b[0m\u001b[1;33m)\u001b[0m\u001b[1;33m,\u001b[0m \u001b[0mname\u001b[0m\u001b[1;33m=\u001b[0m\u001b[0midx_name\u001b[0m\u001b[1;33m)\u001b[0m\u001b[1;33m\u001b[0m\u001b[0m\n\u001b[0;32m      5\u001b[0m         \u001b[0mself\u001b[0m\u001b[1;33m.\u001b[0m\u001b[0mtable\u001b[0m \u001b[1;33m=\u001b[0m \u001b[0mtable\u001b[0m\u001b[1;33m.\u001b[0m\u001b[0mjoin\u001b[0m\u001b[1;33m(\u001b[0m\u001b[0mindex_series\u001b[0m\u001b[1;33m)\u001b[0m\u001b[1;33m\u001b[0m\u001b[0m\n",
        "\u001b[1;31mAttributeError\u001b[0m: 'rpy2.rinterface.RNULLType' object has no attribute 'applymap'"
       ]
      },
      {
       "output_type": "stream",
       "stream": "stdout",
       "text": [
        "1.0\n",
        "\n"
       ]
      }
     ],
     "prompt_number": 341
    },
    {
     "cell_type": "code",
     "collapsed": false,
     "input": [
      "d = {}\n",
      "s = clinical.survival.survival.unstack()\n",
      "((s['event'] == 0) * (s['days'] > 365*5)).sum()"
     ],
     "language": "python",
     "metadata": {},
     "outputs": [
      {
       "output_type": "pyout",
       "prompt_number": 292,
       "text": [
        "92"
       ]
      }
     ],
     "prompt_number": 292
    },
    {
     "cell_type": "code",
     "collapsed": false,
     "input": [
      "d = {}\n",
      "s = clinical.survival.survival.unstack()\n",
      "s = s[s.apply(lambda s: (s['event'] == 1) or ((s['event'] == 0) * (s['days'] > 365*5)), 1)]"
     ],
     "language": "python",
     "metadata": {},
     "outputs": [],
     "prompt_number": 539
    },
    {
     "cell_type": "code",
     "collapsed": false,
     "input": [
      "stages = [(1,),(2,),(3,),(4,),(1,2),(3,4)]"
     ],
     "language": "python",
     "metadata": {},
     "outputs": [],
     "prompt_number": 682
    },
    {
     "cell_type": "code",
     "collapsed": false,
     "input": [
      "for i in stages:\n",
      "    s1 = stage[stage.isin(i)].index\n",
      "    f = feature.ix[s1].dropna().astype(float)\n",
      "    f = (f - f.mean()) / f.std()\n",
      "    #f = f > 0\n",
      "    \n",
      "    m = get_cox_ph_ms(clinical.survival.event_free_survival_5y, f, res.test.covariates[[]], return_val='LR', get_model=True,\n",
      "                  interactions=False)\n",
      "    p = m['LR']\n",
      "    \n",
      "    m = m['model']\n",
      "    coef = com.convert_robj(base.summary(m).rx2('coefficients'))\n",
      "    try:\n",
      "        haz = coef.ix['feature']['exp(coef)']\n",
      "    except:\n",
      "        haz = nan\n",
      "\n",
      "    \n",
      "    high = s.ix[s1].ix[f[f].index].event.sum()\n",
      "    low = s.ix[s1].ix[f[f==False].index].event.sum()\n",
      "    \n",
      "    high = s.ix[s1].ix[f[f].index].dropna().median()['days']\n",
      "    low = s.ix[s1].ix[f[f==False].index].dropna().median()['days']\n",
      "    d[i] = dict(high=high, low=low, p_value=p, n=len(f), hazzard=haz)\n",
      "    \n",
      "counts = DataFrame(d)\n",
      "\n",
      "counts = counts.astype(float)\n",
      "counts.ix[['high','low']] =  (counts.ix[['high','low']] / 30.).applymap(lambda s: round(s, 1))\n",
      "counts.ix['p_value'] =  (counts.ix['p_value']).map(lambda s: round(s, 3))\n",
      "counts.ix['hazzard'] =  (counts.ix['hazzard']).map(lambda s: round(s, 3))\n",
      "\n",
      "counts.astype(object)\n",
      "counts.columns.name = 'Tumor Stage'\n",
      "counts = counts.ix[['low','high','n', 'hazzard', 'p_value']]\n",
      "counts['ann'] = ['Median Survival (months)','Median Survival (months)','Cox Regression', 'Cox Regression', 'Cox Regression']\n",
      "counts = counts.set_index('ann', append=True)\n",
      "counts.index = counts.index.reorder_levels([1,0])\n",
      "counts.index.names[0] = ''\n",
      "counts.columns.name = 'Tumor Stage'\n",
      "counts = counts.T\n",
      "counts"
     ],
     "language": "python",
     "metadata": {},
     "outputs": [
      {
       "html": [
        "<div style=\"max-height:1000px;max-width:1500px;overflow:auto;\">\n",
        "<table border=\"1\" class=\"dataframe\">\n",
        "  <thead>\n",
        "    <tr>\n",
        "      <th></th>\n",
        "      <th colspan=\"2\" halign=\"left\">Median Survival (months)</th>\n",
        "      <th colspan=\"3\" halign=\"left\">Cox Regression</th>\n",
        "    </tr>\n",
        "    <tr>\n",
        "      <th></th>\n",
        "      <th>low</th>\n",
        "      <th>high</th>\n",
        "      <th>n</th>\n",
        "      <th>hazzard</th>\n",
        "      <th>p_value</th>\n",
        "    </tr>\n",
        "    <tr>\n",
        "      <th>Tumor Stage</th>\n",
        "      <th></th>\n",
        "      <th></th>\n",
        "      <th></th>\n",
        "      <th></th>\n",
        "      <th></th>\n",
        "    </tr>\n",
        "  </thead>\n",
        "  <tbody>\n",
        "    <tr>\n",
        "      <td><strong>(1)</strong></td>\n",
        "      <td>NaN</td>\n",
        "      <td>NaN</td>\n",
        "      <td> 130</td>\n",
        "      <td>   NaN</td>\n",
        "      <td> 1.000</td>\n",
        "    </tr>\n",
        "    <tr>\n",
        "      <td><strong>(1, 2)</strong></td>\n",
        "      <td>NaN</td>\n",
        "      <td>NaN</td>\n",
        "      <td> 154</td>\n",
        "      <td> 1.338</td>\n",
        "      <td> 0.111</td>\n",
        "    </tr>\n",
        "    <tr>\n",
        "      <td><strong>(2)</strong></td>\n",
        "      <td>NaN</td>\n",
        "      <td>NaN</td>\n",
        "      <td>  24</td>\n",
        "      <td> 2.657</td>\n",
        "      <td> 0.059</td>\n",
        "    </tr>\n",
        "    <tr>\n",
        "      <td><strong>(3)</strong></td>\n",
        "      <td>NaN</td>\n",
        "      <td>NaN</td>\n",
        "      <td>  73</td>\n",
        "      <td>   NaN</td>\n",
        "      <td> 1.000</td>\n",
        "    </tr>\n",
        "    <tr>\n",
        "      <td><strong>(3, 4)</strong></td>\n",
        "      <td>NaN</td>\n",
        "      <td>NaN</td>\n",
        "      <td> 129</td>\n",
        "      <td> 1.333</td>\n",
        "      <td> 0.009</td>\n",
        "    </tr>\n",
        "    <tr>\n",
        "      <td><strong>(4)</strong></td>\n",
        "      <td>NaN</td>\n",
        "      <td>NaN</td>\n",
        "      <td>  56</td>\n",
        "      <td> 1.314</td>\n",
        "      <td> 0.095</td>\n",
        "    </tr>\n",
        "  </tbody>\n",
        "</table>\n",
        "</div>"
       ],
       "output_type": "pyout",
       "prompt_number": 688,
       "text": [
        "             Median Survival (months)        Cox Regression                  \n",
        "                                  low  high               n  hazzard  p_value\n",
        "Tumor Stage                                                                  \n",
        "(1)                               NaN   NaN             130      NaN    1.000\n",
        "(1, 2)                            NaN   NaN             154    1.338    0.111\n",
        "(2)                               NaN   NaN              24    2.657    0.059\n",
        "(3)                               NaN   NaN              73      NaN    1.000\n",
        "(3, 4)                            NaN   NaN             129    1.333    0.009\n",
        "(4)                               NaN   NaN              56    1.314    0.095"
       ]
      }
     ],
     "prompt_number": 688
    },
    {
     "cell_type": "code",
     "collapsed": false,
     "input": [
      "s = clinical.survival.survival.unstack()\n"
     ],
     "language": "python",
     "metadata": {},
     "outputs": [
      {
       "output_type": "pyout",
       "prompt_number": 252,
       "text": [
        "days     79890\n",
        "event        5"
       ]
      }
     ],
     "prompt_number": 252
    },
    {
     "cell_type": "code",
     "collapsed": false,
     "input": [
      "s1 = stage[stage == 1].index\n",
      "f = feature.ix[s1].dropna().astype(float)\n",
      "f = (f - f.mean()) / f.std()\n",
      "#f = f > 0\n",
      "\n",
      "m = get_cox_ph_ms(clinical.survival.survival, f > 0, res.test.covariates[[]], return_val='LR', get_model=True,\n",
      "                  interactions=False)\n",
      "print m['LR']\n",
      "print \n",
      "m = m['model']\n",
      "coef = com.convert_robj(base.summary(m).rx2('coefficients'))\n",
      "coef = NozzleTable2(coef, caption='Model Coefficients', idx_name='covariate')\n",
      "summary = str(m).split('\\n')[-2]\n",
      "print coef.table   \n",
      "print \n",
      "print summary\n",
      "\n",
      "draw_survival_curves_model(f>0, res.test, labels=['low','high'], ann='Stage 1')\n",
      "Image(filename='tmp.png')"
     ],
     "language": "python",
     "metadata": {},
     "outputs": [
      {
       "output_type": "stream",
       "stream": "stdout",
       "text": [
        "0.0181208718003\n",
        "\n",
        "               covariate  coef  exp(coef)  se(coef)     z  Pr(>|z|)\n",
        "featureTrue  featureTrue  1.17       3.23     0.528  2.22    0.0263\n",
        "\n",
        "Likelihood ratio test=5.58  on 1 df, p=0.0181  n= 130, number of events= 18 \n"
       ]
      },
      {
       "output_type": "pyout",
       "png": "[encoded data removed]",
       "prompt_number": 317,
       "text": [
        "<IPython.core.display.Image at 0x759a110>"
       ]
      }
     ],
     "prompt_number": 317
    },
    {
     "cell_type": "code",
     "collapsed": false,
     "input": [
      "draw_survival_curves_model(stage, res.test, labels=[1,2,3,4])\n",
      "Image(filename='tmp.png')"
     ],
     "language": "python",
     "metadata": {},
     "outputs": [
      {
       "output_type": "pyout",
       "png": "[encoded data removed]",
       "prompt_number": 78,
       "text": [
        "<IPython.core.display.Image at 0x7782390>"
       ]
      }
     ],
     "prompt_number": 78
    },
    {
     "cell_type": "code",
     "collapsed": false,
     "input": [
      "draw_survival_curves_model(stage, res.test, labels=[1,2,3,4])\n",
      "Image(filename='tmp.png')"
     ],
     "language": "python",
     "metadata": {},
     "outputs": [
      {
       "output_type": "pyout",
       "png": "[encoded data removed]",
       "prompt_number": 155,
       "text": [
        "<IPython.core.display.Image at 0x5cd0090>"
       ]
      }
     ],
     "prompt_number": 155
    },
    {
     "cell_type": "code",
     "collapsed": false,
     "input": [
      "feature = thresholded.index[0]\n",
      "fmla = thresholded.ix[feature, 'fmla']\n",
      "feature = data.features.ix[feature]"
     ],
     "language": "python",
     "metadata": {},
     "outputs": [],
     "prompt_number": 299
    },
    {
     "cell_type": "code",
     "collapsed": false,
     "input": [
      "curves = nz.newFigure(fig_path + feature.name + '.png')\n",
      "m = get_cox_ph_ms(res.test.surv, feature, res.test.covariates, return_val='model', formula=fmla)\n",
      "coef = com.convert_robj(base.summary(m)  .rx2('coefficients'))\n",
      "coef = NozzleTable2(coef, caption='Model Coefficients', idx_name='covariate')\n",
      "summary = str(m).split('\\n')[-2]"
     ],
     "language": "python",
     "metadata": {},
     "outputs": [],
     "prompt_number": 300
    },
    {
     "cell_type": "code",
     "collapsed": false,
     "input": [
      "def add_cox_result(tab, p):\n",
      "    f = fig_path + p + '_' + val + '.png'\n",
      "    create_figure_bool(cancer, val, cancer.meta_matrix.ix[p], f)\n",
      "    \n",
      "    m = base.summary(models[p])\n",
      "    coef = com.convert_robj(m.rx2('coefficients'))\n",
      "    coef = NozzleTable2(coef, caption='Model Coefficients', idx_name='covariate')\n",
      "    f = fig_path + p + '.png'\n",
      "    create_figure_bool(cancer, 'pathway_bar', cancer.meta_matrix.ix[p], f)\n",
      "    counts = nz.newFigure(f)\n",
      "    result = nz.newResult('')\n",
      "    result = nz.addTo(result, nz.addTo(nz.newSubSection('Cox Model for ' + p), curves,\n",
      "                        coef.nozzle_table), counts)\n",
      "    tab.add_to_table(result, p, 'Pathway')"
     ],
     "language": "python",
     "metadata": {},
     "outputs": []
    },
    {
     "cell_type": "code",
     "collapsed": false,
     "input": [
      "   \n",
      " \n",
      "        \n",
      "    #fig_path_rel = '/'.join(['..'] + cancer.report_folder.split('/')[-2:]) + FIG_EXT    \n",
      "    fig = nz.newFigure(fig_path + 'good_guys_nl.png', \n",
      "                       fileHighRes=fig_path + 'good_guys.png')\n",
      "    tab = NozzleTable2(good_guys, idx_name='Pathway')\n",
      "    \n",
      "    for p in tab.table.index:\n",
      "        add_cox_result(tab, p)\n",
      "    \n",
      "    good_section = nz.newSection('Good Guys')\n",
      "    good_section = nz.addTo(good_section, fig, tab.nozzle_table)\n",
      "    #report = nz.addToResults(report, good_section)\n",
      "    \n",
      "    fig = nz.newFigure(fig_path + 'bad_guys_nl.png', \n",
      "                       fileHighRes=fig_path + 'bad_guys.png')\n",
      "    tab = NozzleTable2(bad_guys, idx_name='Pathway')\n",
      "    \n",
      "    for p in tab.table.index:\n",
      "        add_cox_result(tab, p)\n",
      "    \n",
      "    bad_section = nz.newSection('Bad Guys')\n",
      "    bad_section = nz.addTo(bad_section, fig, tab.nozzle_table)\n",
      "    #report = nz.addToResults(report, bad_section)\n",
      "    return good_section, bad_section\n",
      "    #nz.writeReport(report, filename=cancer.data_path + cancer.report_folder + 'survival')"
     ],
     "language": "python",
     "metadata": {},
     "outputs": []
    },
    {
     "cell_type": "code",
     "collapsed": false,
     "input": [
      "    def add_cox_result(tab, p):\n",
      "        f = fig_path + p + '_' + val + '.png'\n",
      "        create_figure_bool(cancer, val, cancer.meta_matrix.ix[p], f)\n",
      "        curves = nz.newFigure(f)\n",
      "        m = base.summary(models[p])\n",
      "        coef = com.convert_robj(m.rx2('coefficients'))\n",
      "        coef = NozzleTable2(coef, caption='Model Coefficients', idx_name='covariate')\n",
      "        f = fig_path + p + '.png'\n",
      "        create_figure_bool(cancer, 'pathway_bar', cancer.meta_matrix.ix[p], f)\n",
      "        counts = nz.newFigure(f)\n",
      "        result = nz.newResult('')\n",
      "        result = nz.addTo(result, nz.addTo(nz.newSubSection('Cox Model for ' + p), curves,\n",
      "                            coef.nozzle_table), counts)\n",
      "        tab.add_to_table(result, p, 'Pathway') \n",
      "        \n",
      "    #fig_path_rel = '/'.join(['..'] + cancer.report_folder.split('/')[-2:]) + FIG_EXT    \n",
      "    fig = nz.newFigure(fig_path + 'good_guys_nl.png', \n",
      "                       fileHighRes=fig_path + 'good_guys.png')\n",
      "    tab = NozzleTable2(good_guys, idx_name='Pathway')\n",
      "    \n",
      "    for p in tab.table.index:\n",
      "        add_cox_result(tab, p)"
     ],
     "language": "python",
     "metadata": {},
     "outputs": []
    }
   ],
   "metadata": {}
  }
 ]
}