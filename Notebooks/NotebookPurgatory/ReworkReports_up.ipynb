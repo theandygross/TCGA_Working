{
 "metadata": {
  "name": "ReworkReports_up"
 },
 "nbformat": 3,
 "nbformat_minor": 0,
 "worksheets": [
  {
   "cells": [
    {
     "cell_type": "code",
     "collapsed": false,
     "input": [
      "cd ../src"
     ],
     "language": "python",
     "metadata": {},
     "outputs": [
      {
       "output_type": "stream",
       "stream": "stdout",
       "text": [
        "/cellar/users/agross/TCGA_Code/TCGA/Pathway_Merge/src\n"
       ]
      }
     ],
     "prompt_number": 23
    },
    {
     "cell_type": "code",
     "collapsed": false,
     "input": [
      "import os as os\n",
      "import subprocess as subprocess "
     ],
     "language": "python",
     "metadata": {},
     "outputs": [],
     "prompt_number": 24
    },
    {
     "cell_type": "code",
     "collapsed": false,
     "input": [
      "data_path = '/cellar/data/TCGA/Firehose__2012_10_24/ucsd_analyses/'\n",
      "cancers = os.listdir(data_path)"
     ],
     "language": "python",
     "metadata": {},
     "outputs": [],
     "prompt_number": 25
    },
    {
     "cell_type": "code",
     "collapsed": false,
     "input": [
      "def retreive_paths_for_datatype(data_type, report_ext, folder='Clinical',\n",
      "                                archive='ClinicalObject.p'):\n",
      "    clinical = {}\n",
      "    for cancer in cancers:\n",
      "        clinical_obj = data_path + '/'.join([cancer, folder, data_type + report_ext,\n",
      "                                             archive])\n",
      "        if os.path.isfile(clinical_obj):\n",
      "            clinical[cancer] = clinical_obj\n",
      "            \n",
      "    get_next = lambda i: clinical.keys()[(i + 1) % len(clinical)]\n",
      "    get_prev = lambda i: clinical.keys()[(i - 1) % len(clinical)]\n",
      "    return clinical, get_next, get_prev"
     ],
     "language": "python",
     "metadata": {},
     "outputs": [],
     "prompt_number": 26
    },
    {
     "cell_type": "code",
     "collapsed": false,
     "input": [
      "def run_function(clinical_obj, next_cancer, prev_cancer): \n",
      "    r = subprocess.Popen(['nice', '-n', '5', './generate_clinical_report.py', \n",
      "                          clinical_obj, next_cancer, prev_cancer])\n",
      "    return r"
     ],
     "language": "python",
     "metadata": {},
     "outputs": [],
     "prompt_number": 27
    },
    {
     "cell_type": "code",
     "collapsed": false,
     "input": [
      "data_types = ['mutation','amplification','deletion','expression','methylation']\n",
      "report_ext = '_LR'"
     ],
     "language": "python",
     "metadata": {},
     "outputs": [],
     "prompt_number": 28
    },
    {
     "cell_type": "code",
     "collapsed": false,
     "input": [
      "processes = set()\n",
      "max_processes = 7\n",
      "\n",
      "for data_type in data_types:\n",
      "    clinical, get_next, get_prev = retreive_paths_for_datatype(data_type, report_ext, folder='Clinical',\n",
      "                                                               archive='ClinicalObject.p')\n",
      "    for i,clinical_obj in enumerate(clinical.values()):\n",
      "        processes.add(run_function(clinical_obj, get_next(i), get_prev(i)))\n",
      "        if len(processes) >= max_processes:\n",
      "            os.wait()\n",
      "            processes.difference_update(\n",
      "                set([p for p in processes if p.poll() is not None]))"
     ],
     "language": "python",
     "metadata": {},
     "outputs": [],
     "prompt_number": 29
    },
    {
     "cell_type": "code",
     "collapsed": false,
     "input": [],
     "language": "python",
     "metadata": {},
     "outputs": []
    }
   ],
   "metadata": {}
  }
 ]
}