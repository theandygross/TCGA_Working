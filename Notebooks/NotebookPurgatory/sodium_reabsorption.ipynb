{
 "metadata": {
  "name": "sodium_reabsorption"
 },
 "nbformat": 3,
 "nbformat_minor": 0,
 "worksheets": [
  {
   "cells": [
    {
     "cell_type": "code",
     "collapsed": false,
     "input": [
      "cd ../src"
     ],
     "language": "python",
     "metadata": {},
     "outputs": [
      {
       "output_type": "stream",
       "stream": "stdout",
       "text": [
        "/cellar/users/agross/TCGA_Code/TCGA/Pathway_Merge/src\n"
       ]
      }
     ],
     "prompt_number": 1
    },
    {
     "cell_type": "code",
     "collapsed": false,
     "input": [
      "import os as os\n",
      "import pickle as pickle"
     ],
     "language": "python",
     "metadata": {},
     "outputs": [],
     "prompt_number": 2
    },
    {
     "cell_type": "code",
     "collapsed": false,
     "input": [
      "result_path = '/scratch/TCGA/Firehose__2012_12_21/ucsd_analyses'\n",
      "run = sorted(os.listdir(result_path))[0]\n",
      "run = pickle.load(open('/'.join([result_path, run, 'RunObject.p']), 'rb'))"
     ],
     "language": "python",
     "metadata": {},
     "outputs": [],
     "prompt_number": 3
    },
    {
     "cell_type": "code",
     "collapsed": false,
     "input": [
      "paths = {c: '/'.join([run.report_path, c, 'MAF', 'Tests', 'event_free_survival_5y', 'TestResult.p'])\n",
      "         for c in run.cancers}\n",
      "results = {c: pickle.load(open(p, 'rb')) for c,p in paths.iteritems() if os.path.isfile(p)}"
     ],
     "language": "python",
     "metadata": {},
     "outputs": [],
     "prompt_number": 4
    },
    {
     "cell_type": "code",
     "collapsed": false,
     "input": [
      "c = 'KIRC'\n",
      "cancer = run.load_cancer(c)\n",
      "res = results[c]"
     ],
     "language": "python",
     "metadata": {},
     "outputs": [],
     "prompt_number": 5
    },
    {
     "cell_type": "code",
     "collapsed": false,
     "input": [
      "res.path = '/'.join([res._dataset_path, 'Tests', res.name])\n",
      "fig_path = '/'.join([res.path, 'Figures',''])\n",
      "thresholded = res.results.ix[res.p_values < .01]\n",
      "\n",
      "data = res.get_dataset()\n",
      "data.uncompress()   \n",
      "\n",
      "clinical = cancer.load_clinical()\n",
      "conv = {'stge i': 1, 'stge iii': 3, 'stge iv': 4, 'stge ii': 2}\n",
      "stage = clinical.clinical.tumor_stage.map(conv)"
     ],
     "language": "python",
     "metadata": {},
     "outputs": [],
     "prompt_number": 6
    },
    {
     "cell_type": "code",
     "collapsed": false,
     "input": [
      "from Reports.Reports import *\n",
      "from Reports.Figures import *\n",
      "from Processing.Tests import get_cox_ph_ms"
     ],
     "language": "python",
     "metadata": {},
     "outputs": [],
     "prompt_number": 7
    },
    {
     "cell_type": "code",
     "collapsed": false,
     "input": [
      "stages = [(1,),(2,),(3,),(4,)]"
     ],
     "language": "python",
     "metadata": {},
     "outputs": [],
     "prompt_number": 8
    },
    {
     "cell_type": "code",
     "collapsed": false,
     "input": [
      "feature = data.features.ix['KEGG_ALDOSTERONE_REGULATED_SODIUM_REABSORPTION']"
     ],
     "language": "python",
     "metadata": {},
     "outputs": [],
     "prompt_number": 9
    },
    {
     "cell_type": "code",
     "collapsed": false,
     "input": [
      "feature = data.features.ix['BAP1']"
     ],
     "language": "python",
     "metadata": {},
     "outputs": [],
     "prompt_number": 21
    },
    {
     "cell_type": "code",
     "collapsed": false,
     "input": [
      "d = {}\n",
      "s = clinical.survival.event_free_survival.unstack()\n",
      "s = s[s.apply(lambda s: (s['event'] == 1) or ((s['event'] == 0) * (s['days'] > 365*5)), 1)]\n",
      "\n",
      "for i in stages:\n",
      "    s1 = stage[stage.isin(i)].index\n",
      "    f = feature.ix[s1].dropna().astype(float)\n",
      "    \n",
      "    #formula = 'Surv(days, event) ~ feature'\n",
      "    m = get_cox_ph_ms(clinical.survival.survival, f, res.test.covariates, return_val='LR', get_model=True)\n",
      "    p = m['LR']\n",
      "    \n",
      "    m = m['model']\n",
      "    coef = com.convert_robj(base.summary(m).rx2('coefficients'))\n",
      "    try:\n",
      "        haz = coef.ix['feature']['exp(coef)']\n",
      "    except:\n",
      "        haz = nan\n",
      "\n",
      "    f = f > 0\n",
      "    high = s.ix[s1].ix[f[f].index].event.sum()\n",
      "    low = s.ix[s1].ix[f[f==False].index].event.sum()\n",
      "    \n",
      "    high = s.ix[s1].ix[f[f].index].dropna().median()['days']\n",
      "    low = s.ix[s1].ix[f[f==False].index].dropna().median()['days']\n",
      "    d[i] = dict(Mut=high, WT=low, p_value=p, n=len(f), hazzard=haz)\n",
      "    \n",
      "counts = DataFrame(d)\n",
      "\n",
      "counts = counts.astype(float)\n",
      "counts.ix[['WT','Mut']] =  (counts.ix[['WT','Mut']] / 30.).applymap(lambda s: round(s, 1))\n",
      "counts.ix['p_value'] =  (counts.ix['p_value']).map(lambda s: round(s, 3))\n",
      "counts.ix['hazzard'] =  (counts.ix['hazzard']).map(lambda s: round(s, 3))\n",
      "\n",
      "counts.astype(object)\n",
      "counts.columns.name = 'Tumor Stage'\n",
      "counts = counts.ix[['WT','Mut','n', 'p_value']]\n",
      "counts['ann'] = ['Median PFS (months)','Median PFS (months)','Cox Regression', 'Cox Regression']\n",
      "counts = counts.set_index('ann', append=True)\n",
      "counts.index = counts.index.reorder_levels([1,0])\n",
      "counts.index.names[0] = ''\n",
      "counts.columns.name = 'Tumor Stage'\n",
      "counts = counts.T\n",
      "counts"
     ],
     "language": "python",
     "metadata": {},
     "outputs": [
      {
       "html": [
        "<div style=\"max-height:1000px;max-width:1500px;overflow:auto;\">\n",
        "<table border=\"1\" class=\"dataframe\">\n",
        "  <thead>\n",
        "    <tr>\n",
        "      <th></th>\n",
        "      <th colspan=\"2\" halign=\"left\">Median PFS (months)</th>\n",
        "      <th colspan=\"2\" halign=\"left\">Cox Regression</th>\n",
        "    </tr>\n",
        "    <tr>\n",
        "      <th></th>\n",
        "      <th>WT</th>\n",
        "      <th>Mut</th>\n",
        "      <th>n</th>\n",
        "      <th>p_value</th>\n",
        "    </tr>\n",
        "    <tr>\n",
        "      <th>Tumor Stage</th>\n",
        "      <th></th>\n",
        "      <th></th>\n",
        "      <th></th>\n",
        "      <th></th>\n",
        "    </tr>\n",
        "  </thead>\n",
        "  <tbody>\n",
        "    <tr>\n",
        "      <td><strong>(1)</strong></td>\n",
        "      <td> 63.3</td>\n",
        "      <td> 47.0</td>\n",
        "      <td> 144</td>\n",
        "      <td> 1.000</td>\n",
        "    </tr>\n",
        "    <tr>\n",
        "      <td><strong>(2)</strong></td>\n",
        "      <td> 67.2</td>\n",
        "      <td> 17.7</td>\n",
        "      <td>  31</td>\n",
        "      <td> 0.054</td>\n",
        "    </tr>\n",
        "    <tr>\n",
        "      <td><strong>(3)</strong></td>\n",
        "      <td> 19.8</td>\n",
        "      <td> 62.8</td>\n",
        "      <td>  76</td>\n",
        "      <td> 0.026</td>\n",
        "    </tr>\n",
        "    <tr>\n",
        "      <td><strong>(4)</strong></td>\n",
        "      <td>  4.6</td>\n",
        "      <td> 15.3</td>\n",
        "      <td>  42</td>\n",
        "      <td> 1.000</td>\n",
        "    </tr>\n",
        "  </tbody>\n",
        "</table>\n",
        "</div>"
       ],
       "output_type": "pyout",
       "prompt_number": 31,
       "text": [
        "             Median PFS (months)        Cox Regression         \n",
        "                              WT   Mut               n  p_value\n",
        "Tumor Stage                                                    \n",
        "(1)                         63.3  47.0             144    1.000\n",
        "(2)                         67.2  17.7              31    0.054\n",
        "(3)                         19.8  62.8              76    0.026\n",
        "(4)                          4.6  15.3              42    1.000"
       ]
      }
     ],
     "prompt_number": 31
    },
    {
     "cell_type": "code",
     "collapsed": false,
     "input": [
      "from scipy.stats import fisher_exact"
     ],
     "language": "python",
     "metadata": {},
     "outputs": [],
     "prompt_number": 32
    },
    {
     "cell_type": "code",
     "collapsed": false,
     "input": [
      "c = {}\n",
      "for i in stages:\n",
      "    s1 = stage[stage.isin(i)].index\n",
      "    f = feature.ix[s1].dropna().astype(float)\n",
      "    c[i] =  f.value_counts()\n",
      "c = DataFrame(c)\n",
      "c.rename({0: 'WT', 1: 'Mut'})"
     ],
     "language": "python",
     "metadata": {},
     "outputs": [
      {
       "html": [
        "<div style=\"max-height:1000px;max-width:1500px;overflow:auto;\">\n",
        "<table border=\"1\" class=\"dataframe\">\n",
        "  <thead>\n",
        "    <tr style=\"text-align: right;\">\n",
        "      <th></th>\n",
        "      <th>(1)</th>\n",
        "      <th>(2)</th>\n",
        "      <th>(3)</th>\n",
        "      <th>(4)</th>\n",
        "    </tr>\n",
        "  </thead>\n",
        "  <tbody>\n",
        "    <tr>\n",
        "      <td><strong>WT</strong></td>\n",
        "      <td> 139</td>\n",
        "      <td> 26</td>\n",
        "      <td> 69</td>\n",
        "      <td> 32</td>\n",
        "    </tr>\n",
        "    <tr>\n",
        "      <td><strong>Mut</strong></td>\n",
        "      <td>   5</td>\n",
        "      <td>  5</td>\n",
        "      <td>  7</td>\n",
        "      <td> 10</td>\n",
        "    </tr>\n",
        "  </tbody>\n",
        "</table>\n",
        "</div>"
       ],
       "output_type": "pyout",
       "prompt_number": 33,
       "text": [
        "     (1)  (2)  (3)  (4)\n",
        "WT   139   26   69   32\n",
        "Mut    5    5    7   10"
       ]
      }
     ],
     "prompt_number": 33
    },
    {
     "cell_type": "code",
     "collapsed": false,
     "input": [
      "from IPython.display import Image"
     ],
     "language": "python",
     "metadata": {},
     "outputs": [],
     "prompt_number": 34
    },
    {
     "cell_type": "code",
     "collapsed": false,
     "input": [
      "res.test.surv = clinical.survival.survival"
     ],
     "language": "python",
     "metadata": {},
     "outputs": [],
     "prompt_number": 36
    },
    {
     "cell_type": "code",
     "collapsed": false,
     "input": [
      "s1 = stage[stage.isin((1,2,3,4))].index\n",
      "f = feature.ix[s1].dropna().astype(float)\n",
      "draw_survival_curves_model(f, res.test, labels=['low','high'], ann='Stage 3')\n",
      "Image(filename='tmp.png')"
     ],
     "language": "python",
     "metadata": {},
     "outputs": [
      {
       "output_type": "pyout",
       "png": "[encoded data removed]",
       "prompt_number": 41,
       "text": [
        "<IPython.core.display.Image at 0x5037350>"
       ]
      }
     ],
     "prompt_number": 41
    },
    {
     "cell_type": "code",
     "collapsed": false,
     "input": [],
     "language": "python",
     "metadata": {},
     "outputs": []
    }
   ],
   "metadata": {}
  }
 ]
}