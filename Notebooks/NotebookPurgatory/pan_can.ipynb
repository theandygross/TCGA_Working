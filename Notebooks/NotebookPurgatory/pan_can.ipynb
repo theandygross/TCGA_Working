{
 "metadata": {
  "name": "pan_can"
 },
 "nbformat": 3,
 "nbformat_minor": 0,
 "worksheets": [
  {
   "cells": [
    {
     "cell_type": "code",
     "collapsed": false,
     "input": [
      "cd ../src"
     ],
     "language": "python",
     "metadata": {},
     "outputs": [
      {
       "output_type": "stream",
       "stream": "stdout",
       "text": [
        "/cellar/users/agross/TCGA_Code/TCGA/Pathway_Merge/src\n"
       ]
      }
     ],
     "prompt_number": 1
    },
    {
     "cell_type": "code",
     "collapsed": false,
     "input": [
      "import os as os\n",
      "import pickle as pickle\n",
      "import pandas as pd\n",
      "\n",
      "from Processing.Tests import run_feature_matrix, SurvivalTest\n",
      "\n",
      "pd.set_option('precision',3)"
     ],
     "language": "python",
     "metadata": {},
     "outputs": [],
     "prompt_number": 2
    },
    {
     "cell_type": "markdown",
     "metadata": {},
     "source": [
      "##Load Firehose Run"
     ]
    },
    {
     "cell_type": "code",
     "collapsed": false,
     "input": [
      "result_path = '/scratch/TCGA/Firehose__2012_01_16/ucsd_analyses'\n",
      "run = sorted(os.listdir(result_path))[0]\n",
      "run = pickle.load(open('/'.join([result_path, run, 'RunObject.p']), 'rb'))"
     ],
     "language": "python",
     "metadata": {},
     "outputs": [],
     "prompt_number": 3
    },
    {
     "cell_type": "code",
     "collapsed": false,
     "input": [
      "run.cancers"
     ],
     "language": "python",
     "metadata": {},
     "outputs": [
      {
       "output_type": "pyout",
       "prompt_number": 4,
       "text": [
        "array(['BLCA', 'BRCA', 'CESC', 'COAD', 'COADREAD', 'DLBC', 'ESCA', 'GBM',\n",
        "       'HNSC', 'KICH', 'KIRC', 'KIRP', 'LAML', 'LGG', 'LIHC', 'LUAD',\n",
        "       'LUSC', 'OV', 'PAAD', 'PANCAN12', 'PANCAN18', 'PRAD', 'READ',\n",
        "       'SARC', 'SKCM', 'STAD', 'THCA', 'UCEC'], dtype=object)"
       ]
      }
     ],
     "prompt_number": 4
    },
    {
     "cell_type": "code",
     "collapsed": false,
     "input": [
      "cancers = {c: run.load_cancer(c) for c in run.cancers}\n",
      "#cancers = {c: cancer for c, cancer in cancers.iteritems() if os.path.isdir(run.data_path + 'mRNASeq')}"
     ],
     "language": "python",
     "metadata": {},
     "outputs": [],
     "prompt_number": 5
    },
    {
     "cell_type": "code",
     "collapsed": false,
     "input": [
      "mut = {c.name: c.load_data('MAF') for c in cancers.values() \n",
      "                                  if os.path.isdir(c.path + '/MAF')}"
     ],
     "language": "python",
     "metadata": {},
     "outputs": [],
     "prompt_number": 6
    },
    {
     "cell_type": "code",
     "collapsed": false,
     "input": [
      "def read_rnaSeq(cancer, data_path, patients=None, average_on_genes=False,\n",
      "                tissue_code='01'):\n",
      "    '''\n",
      "    tissue_code: ['01','11','All']  #if all returns MultiIndex\n",
      "    '''\n",
      "    stddata_path = data_path + 'stddata/' + cancer\n",
      "    if not os.path.isdir(stddata_path):\n",
      "        return\n",
      "    data_types = filter(lambda f: f.startswith('rnaseq'), os.listdir(stddata_path))\n",
      "    if 'rnaseqv2' in data_types:\n",
      "        path = [f[0] for f in list(os.walk(stddata_path + '/rnaseqv2')) if \n",
      "                'RSEM_genes_normalized/data' in f[0]][0]   \n",
      "    else:\n",
      "        return\n",
      "    rnaSeq = read_table(path + '/data.txt',index_col=0, skiprows=[1])\n",
      "    rnaSeq = np.log2(rnaSeq).replace(-np.inf, -3.) #close enough to 0\n",
      "    if average_on_genes:\n",
      "        rnaSeq = rnaSeq.groupby(by=lambda n: n.split('|')[0]).mean()\n",
      "    rnaSeq.columns = pd.MultiIndex.from_tuples([(i[:12], i[13:15]) for i \n",
      "                                                in rnaSeq.columns])\n",
      "    if patients is not None:\n",
      "        rnaSeq  = rnaSeq.ix[:, patients]\n",
      "    #rnaSeq = rnaSeq.dropna(thresh=100)\n",
      "    if tissue_code != 'All':\n",
      "        rnaSeq = rnaSeq.xs(tissue_code, axis=1, level=1)\n",
      "    return rnaSeq"
     ],
     "language": "python",
     "metadata": {},
     "outputs": [],
     "prompt_number": 7
    },
    {
     "cell_type": "code",
     "collapsed": false,
     "input": [
      " m = read_mrna(cancer, run.data_path, patients=None, num_genes='All', tissue_code='01')"
     ],
     "language": "python",
     "metadata": {},
     "outputs": [],
     "prompt_number": 36
    },
    {
     "cell_type": "code",
     "collapsed": false,
     "input": [
      "m"
     ],
     "language": "python",
     "metadata": {},
     "outputs": [],
     "prompt_number": 37
    },
    {
     "cell_type": "code",
     "collapsed": false,
     "input": [
      "mut"
     ],
     "language": "python",
     "metadata": {},
     "outputs": [
      {
       "output_type": "pyout",
       "prompt_number": 38,
       "text": [
        "{}"
       ]
      }
     ],
     "prompt_number": 38
    },
    {
     "cell_type": "code",
     "collapsed": false,
     "input": [
      "cancer = 'OV'"
     ],
     "language": "python",
     "metadata": {},
     "outputs": [],
     "prompt_number": 39
    },
    {
     "cell_type": "code",
     "collapsed": false,
     "input": [
      "m = read_mrna(cancer, run.data_path, patients=None, num_genes='All', tissue_code='01')"
     ],
     "language": "python",
     "metadata": {},
     "outputs": [],
     "prompt_number": 40
    },
    {
     "cell_type": "code",
     "collapsed": false,
     "input": [
      "mut['OV']"
     ],
     "language": "python",
     "metadata": {},
     "outputs": [
      {
       "html": [
        "<pre>\n",
        "&ltclass 'pandas.core.frame.DataFrame'&gt\n",
        "Index: 17814 entries, ELMO2 to CTSC\n",
        "Columns: 541 entries, TCGA-04-1331 to TCGA-61-2614\n",
        "dtypes: float64(541)\n",
        "</pre>"
       ],
       "output_type": "pyout",
       "prompt_number": 54,
       "text": [
        "<class 'pandas.core.frame.DataFrame'>\n",
        "Index: 17814 entries, ELMO2 to CTSC\n",
        "Columns: 541 entries, TCGA-04-1331 to TCGA-61-2614\n",
        "dtypes: float64(541)"
       ]
      }
     ],
     "prompt_number": 54
    },
    {
     "cell_type": "code",
     "collapsed": false,
     "input": [
      "mut = {}\n",
      "for cancer in cancers:\n",
      "    try:\n",
      "        m = read_mrna(cancer, run.data_path, patients=None, num_genes='All', tissue_code='01')\n",
      "        if type(m) == pd.DataFrame:\n",
      "            mut[cancer] = m\n",
      "    except:\n",
      "        print 'yelp'"
     ],
     "language": "python",
     "metadata": {},
     "outputs": [
      {
       "output_type": "stream",
       "stream": "stdout",
       "text": [
        "yelp\n",
        "yelp"
       ]
      },
      {
       "output_type": "stream",
       "stream": "stdout",
       "text": [
        "\n",
        "yelp\n"
       ]
      }
     ],
     "prompt_number": 43
    },
    {
     "cell_type": "code",
     "collapsed": false,
     "input": [
      "mut_genes = pd.concat([m.df for m in mut.values()], keys=mut.keys(), axis=1)\n",
      "total_counts = mut_genes.groupby(level=[0,1]).size()"
     ],
     "language": "python",
     "metadata": {},
     "outputs": [],
     "prompt_number": 9
    },
    {
     "cell_type": "code",
     "collapsed": false,
     "input": [
      "from Processing.Helpers import *\n",
      "import Data.Firehose as FH\n",
      "from Reports.Figures import *"
     ],
     "language": "python",
     "metadata": {},
     "outputs": [],
     "prompt_number": 68
    },
    {
     "cell_type": "code",
     "collapsed": false,
     "input": [
      "g = ['ATM','KRAS','PIK3CA','TP53','NOTCH1','WT1', 'AMPK', 'MDM2','MYC']"
     ],
     "language": "python",
     "metadata": {},
     "outputs": [],
     "prompt_number": 46
    },
    {
     "cell_type": "code",
     "collapsed": false,
     "input": [
      "cancer = run.load_cancer('HNSC')\n",
      "clinical = cancer.load_clinical()"
     ],
     "language": "python",
     "metadata": {},
     "outputs": [],
     "prompt_number": 67
    },
    {
     "cell_type": "code",
     "collapsed": false,
     "input": [
      "mm = FH.get_submaf(run.data_path, 'HNSC', g, 'All')"
     ],
     "language": "python",
     "metadata": {},
     "outputs": [],
     "prompt_number": 57
    },
    {
     "cell_type": "code",
     "collapsed": false,
     "input": [
      "mm"
     ],
     "language": "python",
     "metadata": {},
     "outputs": [
      {
       "html": [
        "<pre>\n",
        "&ltclass 'pandas.core.frame.DataFrame'&gt\n",
        "MultiIndex: 393 entries, (TP53, 70) to (TP53, 56184)\n",
        "Columns: 102 entries, Entrez_Gene_Id to Alt_Allele\n",
        "dtypes: float64(6), int64(24), object(72)\n",
        "</pre>"
       ],
       "output_type": "pyout",
       "prompt_number": 75,
       "text": [
        "<class 'pandas.core.frame.DataFrame'>\n",
        "MultiIndex: 393 entries, (TP53, 70) to (TP53, 56184)\n",
        "Columns: 102 entries, Entrez_Gene_Id to Alt_Allele\n",
        "dtypes: float64(6), int64(24), object(72)"
       ]
      }
     ],
     "prompt_number": 75
    },
    {
     "cell_type": "code",
     "collapsed": false,
     "input": [
      "mm.ix['TP53'].UniProt_Region.value_counts()"
     ],
     "language": "python",
     "metadata": {},
     "outputs": [
      {
       "output_type": "pyout",
       "prompt_number": 81,
       "text": [
        "Required for interaction with FBXO42.||Interaction with HIPK1 (By similarity).|Interaction with AXIN1 (By similarity).    110\n",
        "|Interaction with E4F1.|Interaction with HIPK1 (By similarity).|Interaction with AXIN1 (By similarity).     25\n",
        "|Interaction with HIPK1 (By similarity).|Interacts with the 53BP2 SH3 domain.|Interaction with AXIN1 (By similarity).     23\n",
        "Interaction with DNA.||Interaction with E4F1.|Interaction with HIPK1 (By similarity).|Interaction with AXIN1 (By similarity).     20\n",
        "|Interaction with HIPK1 (By similarity).|Interaction with AXIN1 (By similarity).      9\n",
        "Oligomerization.|Interaction with HIPK1 (By similarity).|Interaction with CARM1.|Interaction with HIPK2.      9\n",
        "Interaction with HIPK1 (By similarity).||Interaction with WWOX.      6\n",
        "Bipartite nuclear localization signal.|Interaction with HIPK1 (By similarity).|Interaction with CARM1.      5\n",
        "Interaction with HIPK1 (By similarity).                           3\n",
        "Transcription activation (acidic).|Interaction with HRMT1L2.      3\n",
        "Interaction with WWOX.                                            3\n",
        "Interaction with HRMT1L2.                                         3\n",
        "TADII.|Interaction with HRMT1L2.                                  2\n",
        "Interaction with WWOX.|Interaction with HRMT1L2.                  2\n",
        "Oligomerization.|Interaction with HIPK1 (By similarity).|Interaction with CARM1.|Nuclear export signal.|Interaction with HIPK2.      2\n",
        "Interaction with E4F1.|Interaction with HIPK1 (By similarity).      1\n",
        "Interaction with HIPK1 (By similarity).|Interaction with WWOX.      1\n",
        "dtype: int64"
       ]
      }
     ],
     "prompt_number": 81
    },
    {
     "cell_type": "code",
     "collapsed": false,
     "input": [
      "region = Series(mm.ix['TP53'].UniProt_Region, index=mm.\n",
      "region = region[region.isin(region.value_counts().index[:4])]"
     ],
     "language": "python",
     "metadata": {},
     "outputs": [],
     "prompt_number": 78
    },
    {
     "cell_type": "code",
     "collapsed": false,
     "input": [
      "region"
     ],
     "language": "python",
     "metadata": {},
     "outputs": [
      {
       "output_type": "pyout",
       "prompt_number": 79,
       "text": [
        "Tumor_Sample_Barcode\n",
        "TCGA-BA-4074            NaN\n",
        "TCGA-BA-4075            NaN\n",
        "TCGA-BA-4076            NaN\n",
        "TCGA-BA-4078            NaN\n",
        "TCGA-BA-5151            NaN\n",
        "TCGA-BA-5152            NaN\n",
        "TCGA-BA-5555            NaN\n",
        "TCGA-BA-5557            NaN\n",
        "TCGA-BA-5558            NaN\n",
        "TCGA-BA-5558            NaN\n",
        "TCGA-BA-6868            NaN\n",
        "TCGA-BA-6869            NaN\n",
        "TCGA-BA-6869            NaN\n",
        "TCGA-BA-6870            NaN\n",
        "TCGA-BA-6872            NaN\n",
        "...\n",
        "TCGA-DQ-5629            NaN\n",
        "TCGA-DQ-5630            NaN\n",
        "TCGA-DQ-5631            NaN\n",
        "TCGA-DQ-5631            NaN\n",
        "TCGA-DQ-7588            NaN\n",
        "TCGA-DQ-7592            NaN\n",
        "TCGA-DQ-7595            NaN\n",
        "TCGA-F7-7848            NaN\n",
        "TCGA-F7-7848            NaN\n",
        "TCGA-HD-7229            NaN\n",
        "TCGA-HD-7753            NaN\n",
        "TCGA-HD-7831            NaN\n",
        "TCGA-HD-7917            NaN\n",
        "TCGA-IQ-7630            NaN\n",
        "TCGA-IQ-7630            NaN\n",
        "Name: UniProt_Region, Length: 243, dtype: object"
       ]
      }
     ],
     "prompt_number": 79
    },
    {
     "cell_type": "code",
     "collapsed": false,
     "input": [
      "draw_survival_curves(region, clinical.survival.survival, show=True)"
     ],
     "language": "python",
     "metadata": {},
     "outputs": [
      {
       "ename": "RRuntimeError",
       "evalue": "Error in function (formula, data, weights, subset, na.action, init, control,  : \n  No (non-missing) observations\n",
       "output_type": "pyerr",
       "traceback": [
        "\u001b[1;31m---------------------------------------------------------------------------\u001b[0m\n\u001b[1;31mRRuntimeError\u001b[0m                             Traceback (most recent call last)",
        "\u001b[1;32m<ipython-input-73-3bb1f88be581>\u001b[0m in \u001b[0;36m<module>\u001b[1;34m()\u001b[0m\n\u001b[1;32m----> 1\u001b[1;33m \u001b[0mdraw_survival_curves\u001b[0m\u001b[1;33m(\u001b[0m\u001b[0mregion\u001b[0m\u001b[1;33m,\u001b[0m \u001b[0mclinical\u001b[0m\u001b[1;33m.\u001b[0m\u001b[0msurvival\u001b[0m\u001b[1;33m.\u001b[0m\u001b[0msurvival\u001b[0m\u001b[1;33m,\u001b[0m \u001b[0mshow\u001b[0m\u001b[1;33m=\u001b[0m\u001b[0mTrue\u001b[0m\u001b[1;33m)\u001b[0m\u001b[1;33m\u001b[0m\u001b[0m\n\u001b[0m",
        "\u001b[1;32m/cellar/users/agross/TCGA_Code/TCGA/Pathway_Merge/src/Reports/Figures.pyc\u001b[0m in \u001b[0;36mdraw_survival_curves\u001b[1;34m(feature, surv, assignment, filename, show, title, labels, colors, ann, show_legend, q, std)\u001b[0m\n\u001b[0;32m    197\u001b[0m         \u001b[0mf\u001b[0m \u001b[1;33m=\u001b[0m \u001b[0mfeature\u001b[0m\u001b[1;33m.\u001b[0m\u001b[0mix\u001b[0m\u001b[1;33m[\u001b[0m\u001b[0massignment\u001b[0m\u001b[1;33m[\u001b[0m\u001b[0massignment\u001b[0m\u001b[1;33m==\u001b[0m\u001b[0mvalue\u001b[0m\u001b[1;33m]\u001b[0m\u001b[1;33m.\u001b[0m\u001b[0mindex\u001b[0m\u001b[1;33m]\u001b[0m\u001b[1;33m\u001b[0m\u001b[0m\n\u001b[0;32m    198\u001b[0m         \u001b[1;32mif\u001b[0m \u001b[0mlen\u001b[0m\u001b[1;33m(\u001b[0m\u001b[0mf\u001b[0m\u001b[1;33m.\u001b[0m\u001b[0munique\u001b[0m\u001b[1;33m(\u001b[0m\u001b[1;33m)\u001b[0m\u001b[1;33m)\u001b[0m \u001b[1;33m>\u001b[0m \u001b[1;36m1\u001b[0m\u001b[1;33m:\u001b[0m\u001b[1;33m\u001b[0m\u001b[0m\n\u001b[1;32m--> 199\u001b[1;33m             \u001b[0mplot_me\u001b[0m\u001b[1;33m(\u001b[0m\u001b[0mf\u001b[0m\u001b[1;33m,\u001b[0m \u001b[0mname\u001b[0m\u001b[1;33m(\u001b[0m\u001b[0mvalue\u001b[0m\u001b[1;33m)\u001b[0m\u001b[1;33m)\u001b[0m\u001b[1;33m\u001b[0m\u001b[0m\n\u001b[0m\u001b[0;32m    200\u001b[0m \u001b[1;33m\u001b[0m\u001b[0m\n\u001b[0;32m    201\u001b[0m     \u001b[1;32mif\u001b[0m \u001b[0mshow_legend\u001b[0m \u001b[1;33m==\u001b[0m \u001b[0mTrue\u001b[0m\u001b[1;33m:\u001b[0m\u001b[1;33m\u001b[0m\u001b[0m\n",
        "\u001b[1;32m/cellar/users/agross/TCGA_Code/TCGA/Pathway_Merge/src/Reports/Figures.pyc\u001b[0m in \u001b[0;36mplot_me\u001b[1;34m(sub_f, label)\u001b[0m\n\u001b[0;32m    178\u001b[0m         \u001b[1;32mif\u001b[0m \u001b[1;33m(\u001b[0m\u001b[0mget_vec_type\u001b[0m\u001b[1;33m(\u001b[0m\u001b[0msub_f\u001b[0m\u001b[1;33m)\u001b[0m \u001b[1;33m==\u001b[0m \u001b[1;34m'real'\u001b[0m\u001b[1;33m)\u001b[0m \u001b[1;32mand\u001b[0m \u001b[1;33m(\u001b[0m\u001b[0mlen\u001b[0m\u001b[1;33m(\u001b[0m\u001b[0msub_f\u001b[0m\u001b[1;33m.\u001b[0m\u001b[0munique\u001b[0m\u001b[1;33m(\u001b[0m\u001b[1;33m)\u001b[0m\u001b[1;33m)\u001b[0m \u001b[1;33m>\u001b[0m \u001b[1;36m10\u001b[0m\u001b[1;33m)\u001b[0m\u001b[1;33m:\u001b[0m\u001b[1;33m\u001b[0m\u001b[0m\n\u001b[0;32m    179\u001b[0m             \u001b[0msub_f\u001b[0m \u001b[1;33m=\u001b[0m \u001b[0mto_quants\u001b[0m\u001b[1;33m(\u001b[0m\u001b[0msub_f\u001b[0m\u001b[1;33m,\u001b[0m \u001b[0mq\u001b[0m\u001b[1;33m=\u001b[0m\u001b[0mq\u001b[0m\u001b[1;33m,\u001b[0m \u001b[0mstd\u001b[0m\u001b[1;33m=\u001b[0m\u001b[0mstd\u001b[0m\u001b[1;33m)\u001b[0m\u001b[1;33m\u001b[0m\u001b[0m\n\u001b[1;32m--> 180\u001b[1;33m         \u001b[0mm\u001b[0m \u001b[1;33m=\u001b[0m \u001b[0mget_cox_ph_ms\u001b[0m\u001b[1;33m(\u001b[0m\u001b[0msurv\u001b[0m\u001b[1;33m,\u001b[0m \u001b[0msub_f\u001b[0m\u001b[1;33m,\u001b[0m \u001b[0mreturn_val\u001b[0m\u001b[1;33m=\u001b[0m\u001b[1;34m'model'\u001b[0m\u001b[1;33m,\u001b[0m \u001b[0mformula\u001b[0m\u001b[1;33m=\u001b[0m\u001b[0mfmla\u001b[0m\u001b[1;33m)\u001b[0m\u001b[1;33m\u001b[0m\u001b[0m\n\u001b[0m\u001b[0;32m    181\u001b[0m         \u001b[0mr_data\u001b[0m \u001b[1;33m=\u001b[0m \u001b[0mm\u001b[0m\u001b[1;33m.\u001b[0m\u001b[0mrx2\u001b[0m\u001b[1;33m(\u001b[0m\u001b[1;34m'call'\u001b[0m\u001b[1;33m)\u001b[0m\u001b[1;33m[\u001b[0m\u001b[1;36m2\u001b[0m\u001b[1;33m]\u001b[0m\u001b[1;33m\u001b[0m\u001b[0m\n\u001b[0;32m    182\u001b[0m         \u001b[0ms\u001b[0m \u001b[1;33m=\u001b[0m \u001b[0msurvival\u001b[0m\u001b[1;33m.\u001b[0m\u001b[0msurvdiff\u001b[0m\u001b[1;33m(\u001b[0m\u001b[0mfmla\u001b[0m\u001b[1;33m,\u001b[0m \u001b[0mr_data\u001b[0m\u001b[1;33m)\u001b[0m\u001b[1;33m\u001b[0m\u001b[0m\n",
        "\u001b[1;32m/cellar/users/agross/TCGA_Code/TCGA/Pathway_Merge/src/Processing/Tests.pyc\u001b[0m in \u001b[0;36mget_cox_ph_ms\u001b[1;34m(surv, feature, covariates, return_val, null_model, formula, get_model, interactions)\u001b[0m\n\u001b[0;32m    119\u001b[0m \u001b[1;33m\u001b[0m\u001b[0m\n\u001b[0;32m    120\u001b[0m     \u001b[1;32mif\u001b[0m \u001b[0mformula\u001b[0m \u001b[1;32mis\u001b[0m \u001b[1;32mnot\u001b[0m \u001b[0mNone\u001b[0m\u001b[1;33m:\u001b[0m\u001b[1;33m\u001b[0m\u001b[0m\n\u001b[1;32m--> 121\u001b[1;33m         \u001b[0ms\u001b[0m \u001b[1;33m=\u001b[0m \u001b[0msurvival\u001b[0m\u001b[1;33m.\u001b[0m\u001b[0mcoxph\u001b[0m\u001b[1;33m(\u001b[0m\u001b[0mfmla\u001b[0m\u001b[1;33m,\u001b[0m \u001b[0mdf\u001b[0m\u001b[1;33m)\u001b[0m\u001b[1;33m\u001b[0m\u001b[0m\n\u001b[0m\u001b[0;32m    122\u001b[0m     \u001b[1;32melse\u001b[0m\u001b[1;33m:\u001b[0m\u001b[1;33m\u001b[0m\u001b[0m\n\u001b[0;32m    123\u001b[0m         \u001b[0ms\u001b[0m \u001b[1;33m=\u001b[0m \u001b[0mcox_model_selection\u001b[0m\u001b[1;33m(\u001b[0m\u001b[0mfmla\u001b[0m\u001b[1;33m,\u001b[0m \u001b[0mdf\u001b[0m\u001b[1;33m)\u001b[0m\u001b[1;33m\u001b[0m\u001b[0m\n",
        "\u001b[1;32m/cellar/users/agross/semillon/anaconda2/lib/python2.7/site-packages/rpy2-2.3.6-py2.7-linux-x86_64.egg/rpy2/robjects/functions.pyc\u001b[0m in \u001b[0;36m__call__\u001b[1;34m(self, *args, **kwargs)\u001b[0m\n\u001b[0;32m     84\u001b[0m                 \u001b[0mv\u001b[0m \u001b[1;33m=\u001b[0m \u001b[0mkwargs\u001b[0m\u001b[1;33m.\u001b[0m\u001b[0mpop\u001b[0m\u001b[1;33m(\u001b[0m\u001b[0mk\u001b[0m\u001b[1;33m)\u001b[0m\u001b[1;33m\u001b[0m\u001b[0m\n\u001b[0;32m     85\u001b[0m                 \u001b[0mkwargs\u001b[0m\u001b[1;33m[\u001b[0m\u001b[0mr_k\u001b[0m\u001b[1;33m]\u001b[0m \u001b[1;33m=\u001b[0m \u001b[0mv\u001b[0m\u001b[1;33m\u001b[0m\u001b[0m\n\u001b[1;32m---> 86\u001b[1;33m         \u001b[1;32mreturn\u001b[0m \u001b[0msuper\u001b[0m\u001b[1;33m(\u001b[0m\u001b[0mSignatureTranslatedFunction\u001b[0m\u001b[1;33m,\u001b[0m \u001b[0mself\u001b[0m\u001b[1;33m)\u001b[0m\u001b[1;33m.\u001b[0m\u001b[0m__call__\u001b[0m\u001b[1;33m(\u001b[0m\u001b[1;33m*\u001b[0m\u001b[0margs\u001b[0m\u001b[1;33m,\u001b[0m \u001b[1;33m**\u001b[0m\u001b[0mkwargs\u001b[0m\u001b[1;33m)\u001b[0m\u001b[1;33m\u001b[0m\u001b[0m\n\u001b[0m",
        "\u001b[1;32m/cellar/users/agross/semillon/anaconda2/lib/python2.7/site-packages/rpy2-2.3.6-py2.7-linux-x86_64.egg/rpy2/robjects/functions.pyc\u001b[0m in \u001b[0;36m__call__\u001b[1;34m(self, *args, **kwargs)\u001b[0m\n\u001b[0;32m     33\u001b[0m         \u001b[1;32mfor\u001b[0m \u001b[0mk\u001b[0m\u001b[1;33m,\u001b[0m \u001b[0mv\u001b[0m \u001b[1;32min\u001b[0m \u001b[0mkwargs\u001b[0m\u001b[1;33m.\u001b[0m\u001b[0miteritems\u001b[0m\u001b[1;33m(\u001b[0m\u001b[1;33m)\u001b[0m\u001b[1;33m:\u001b[0m\u001b[1;33m\u001b[0m\u001b[0m\n\u001b[0;32m     34\u001b[0m             \u001b[0mnew_kwargs\u001b[0m\u001b[1;33m[\u001b[0m\u001b[0mk\u001b[0m\u001b[1;33m]\u001b[0m \u001b[1;33m=\u001b[0m \u001b[0mconversion\u001b[0m\u001b[1;33m.\u001b[0m\u001b[0mpy2ri\u001b[0m\u001b[1;33m(\u001b[0m\u001b[0mv\u001b[0m\u001b[1;33m)\u001b[0m\u001b[1;33m\u001b[0m\u001b[0m\n\u001b[1;32m---> 35\u001b[1;33m         \u001b[0mres\u001b[0m \u001b[1;33m=\u001b[0m \u001b[0msuper\u001b[0m\u001b[1;33m(\u001b[0m\u001b[0mFunction\u001b[0m\u001b[1;33m,\u001b[0m \u001b[0mself\u001b[0m\u001b[1;33m)\u001b[0m\u001b[1;33m.\u001b[0m\u001b[0m__call__\u001b[0m\u001b[1;33m(\u001b[0m\u001b[1;33m*\u001b[0m\u001b[0mnew_args\u001b[0m\u001b[1;33m,\u001b[0m \u001b[1;33m**\u001b[0m\u001b[0mnew_kwargs\u001b[0m\u001b[1;33m)\u001b[0m\u001b[1;33m\u001b[0m\u001b[0m\n\u001b[0m\u001b[0;32m     36\u001b[0m         \u001b[0mres\u001b[0m \u001b[1;33m=\u001b[0m \u001b[0mconversion\u001b[0m\u001b[1;33m.\u001b[0m\u001b[0mri2py\u001b[0m\u001b[1;33m(\u001b[0m\u001b[0mres\u001b[0m\u001b[1;33m)\u001b[0m\u001b[1;33m\u001b[0m\u001b[0m\n\u001b[0;32m     37\u001b[0m         \u001b[1;32mreturn\u001b[0m \u001b[0mres\u001b[0m\u001b[1;33m\u001b[0m\u001b[0m\n",
        "\u001b[1;31mRRuntimeError\u001b[0m: Error in function (formula, data, weights, subset, na.action, init, control,  : \n  No (non-missing) observations\n"
       ]
      }
     ],
     "prompt_number": 73
    },
    {
     "cell_type": "code",
     "collapsed": false,
     "input": [
      "mm.ix['TP53'].UniProt_Region.value_counts()"
     ],
     "language": "python",
     "metadata": {},
     "outputs": [
      {
       "output_type": "pyout",
       "prompt_number": 64,
       "text": [
        "Required for interaction with FBXO42.||Interaction with HIPK1 (By similarity).|Interaction with AXIN1 (By similarity).    110\n",
        "|Interaction with E4F1.|Interaction with HIPK1 (By similarity).|Interaction with AXIN1 (By similarity).     25\n",
        "|Interaction with HIPK1 (By similarity).|Interacts with the 53BP2 SH3 domain.|Interaction with AXIN1 (By similarity).     23\n",
        "Interaction with DNA.||Interaction with E4F1.|Interaction with HIPK1 (By similarity).|Interaction with AXIN1 (By similarity).     20\n",
        "|Interaction with HIPK1 (By similarity).|Interaction with AXIN1 (By similarity).      9\n",
        "Oligomerization.|Interaction with HIPK1 (By similarity).|Interaction with CARM1.|Interaction with HIPK2.      9\n",
        "Interaction with HIPK1 (By similarity).||Interaction with WWOX.      6\n",
        "Bipartite nuclear localization signal.|Interaction with HIPK1 (By similarity).|Interaction with CARM1.      5\n",
        "Interaction with HIPK1 (By similarity).                           3\n",
        "Transcription activation (acidic).|Interaction with HRMT1L2.      3\n",
        "Interaction with WWOX.                                            3\n",
        "Interaction with HRMT1L2.                                         3\n",
        "TADII.|Interaction with HRMT1L2.                                  2\n",
        "Interaction with WWOX.|Interaction with HRMT1L2.                  2\n",
        "Oligomerization.|Interaction with HIPK1 (By similarity).|Interaction with CARM1.|Nuclear export signal.|Interaction with HIPK2.      2\n",
        "Interaction with E4F1.|Interaction with HIPK1 (By similarity).      1\n",
        "Interaction with HIPK1 (By similarity).|Interaction with WWOX.      1\n",
        "dtype: int64"
       ]
      }
     ],
     "prompt_number": 64
    },
    {
     "cell_type": "code",
     "collapsed": false,
     "input": [
      "(mut_genes.ix[g] > 0)"
     ],
     "language": "python",
     "metadata": {},
     "outputs": [
      {
       "html": [
        "<pre>\n",
        "&ltclass 'pandas.core.frame.DataFrame'&gt\n",
        "MultiIndex: 2512 entries, (ATM, TCGA-05-4244) to (WT1, TCGA-EM-A1YD)\n",
        "Data columns (total 19 columns):\n",
        "CESC        2512  non-null values\n",
        "PAAD        2512  non-null values\n",
        "LUSC        2512  non-null values\n",
        "READ        2512  non-null values\n",
        "OV          2512  non-null values\n",
        "KIRP        2512  non-null values\n",
        "GBM         2512  non-null values\n",
        "STAD        2512  non-null values\n",
        "LGG         2512  non-null values\n",
        "COADREAD    2512  non-null values\n",
        "BLCA        2512  non-null values\n",
        "KIRC        2512  non-null values\n",
        "UCEC        2512  non-null values\n",
        "PRAD        2512  non-null values\n",
        "LUAD        2512  non-null values\n",
        "COAD        2512  non-null values\n",
        "THCA        2512  non-null values\n",
        "HNSC        2512  non-null values\n",
        "BRCA        2512  non-null values\n",
        "dtypes: bool(19)\n",
        "</pre>"
       ],
       "output_type": "pyout",
       "prompt_number": 53,
       "text": [
        "<class 'pandas.core.frame.DataFrame'>\n",
        "MultiIndex: 2512 entries, (ATM, TCGA-05-4244) to (WT1, TCGA-EM-A1YD)\n",
        "Data columns (total 19 columns):\n",
        "CESC        2512  non-null values\n",
        "PAAD        2512  non-null values\n",
        "LUSC        2512  non-null values\n",
        "READ        2512  non-null values\n",
        "OV          2512  non-null values\n",
        "KIRP        2512  non-null values\n",
        "GBM         2512  non-null values\n",
        "STAD        2512  non-null values\n",
        "LGG         2512  non-null values\n",
        "COADREAD    2512  non-null values\n",
        "BLCA        2512  non-null values\n",
        "KIRC        2512  non-null values\n",
        "UCEC        2512  non-null values\n",
        "PRAD        2512  non-null values\n",
        "LUAD        2512  non-null values\n",
        "COAD        2512  non-null values\n",
        "THCA        2512  non-null values\n",
        "HNSC        2512  non-null values\n",
        "BRCA        2512  non-null values\n",
        "dtypes: bool(19)"
       ]
      }
     ],
     "prompt_number": 53
    },
    {
     "cell_type": "code",
     "collapsed": false,
     "input": [
      "list(true_index((mut_genes.groupby(level=0).sum() > 20).sum(1) > 3))"
     ],
     "language": "python",
     "metadata": {},
     "outputs": [
      {
       "output_type": "pyout",
       "prompt_number": 44,
       "text": [
        "['ABCA12',\n",
        " 'ABCA13',\n",
        " 'ADAMTS12',\n",
        " 'AHNAK',\n",
        " 'AHNAK2',\n",
        " 'AKAP9',\n",
        " 'ANK2',\n",
        " 'APC',\n",
        " 'APOB',\n",
        " 'ASPM',\n",
        " 'ATM',\n",
        " 'BAI3',\n",
        " 'BIRC6',\n",
        " 'CACNA1E',\n",
        " 'CDH10',\n",
        " 'CNTNAP2',\n",
        " 'COL11A1',\n",
        " 'COL12A1',\n",
        " 'COL22A1',\n",
        " 'COL6A3',\n",
        " 'CSMD1',\n",
        " 'CSMD2',\n",
        " 'CSMD3',\n",
        " 'CUBN',\n",
        " 'DCHS2',\n",
        " 'DMD',\n",
        " 'DNAH10',\n",
        " 'DNAH11',\n",
        " 'DNAH3',\n",
        " 'DNAH5',\n",
        " 'DNAH7',\n",
        " 'DNAH8',\n",
        " 'DNAH9',\n",
        " 'DOCK2',\n",
        " 'DST',\n",
        " 'FAM135B',\n",
        " 'FAT1',\n",
        " 'FAT2',\n",
        " 'FAT3',\n",
        " 'FAT4',\n",
        " 'FBN1',\n",
        " 'FBN2',\n",
        " 'FLG',\n",
        " 'FMN2',\n",
        " 'GPR98',\n",
        " 'HERC2',\n",
        " 'HMCN1',\n",
        " 'HYDIN',\n",
        " 'KALRN',\n",
        " 'KIAA1109',\n",
        " 'KRAS',\n",
        " 'LAMA1',\n",
        " 'LAMA2',\n",
        " 'LRP1B',\n",
        " 'LRP2',\n",
        " 'LRRK2',\n",
        " 'MACF1',\n",
        " 'MDN1',\n",
        " 'MLL2',\n",
        " 'MLL3',\n",
        " 'MUC16',\n",
        " 'MUC17',\n",
        " 'MUC5B',\n",
        " 'NAV3',\n",
        " 'NEB',\n",
        " 'NF1',\n",
        " 'NRXN1',\n",
        " 'OBSCN',\n",
        " 'ODZ1',\n",
        " 'ODZ3',\n",
        " 'PAPPA2',\n",
        " 'PCDH11X',\n",
        " 'PCDH15',\n",
        " 'PCLO',\n",
        " 'PEG3',\n",
        " 'PIK3CA',\n",
        " 'PKHD1',\n",
        " 'PKHD1L1',\n",
        " 'PLEC',\n",
        " 'PLXNA4',\n",
        " 'RELN',\n",
        " 'RP1',\n",
        " 'RYR1',\n",
        " 'RYR2',\n",
        " 'RYR3',\n",
        " 'SACS',\n",
        " 'SCN1A',\n",
        " 'SDK1',\n",
        " 'SI',\n",
        " 'SPTA1',\n",
        " 'SYNE1',\n",
        " 'SYNE2',\n",
        " 'TG',\n",
        " 'TP53',\n",
        " 'TRRAP',\n",
        " 'TTN',\n",
        " 'UNC13C',\n",
        " 'USH2A',\n",
        " 'VCAN',\n",
        " 'VPS13B',\n",
        " 'WDFY3',\n",
        " 'XIRP2',\n",
        " 'ZFHX4',\n",
        " 'ZNF804B']"
       ]
      }
     ],
     "prompt_number": 44
    },
    {
     "cell_type": "code",
     "collapsed": false,
     "input": [
      "total_counts"
     ],
     "language": "python",
     "metadata": {},
     "outputs": [
      {
       "output_type": "pyout",
       "prompt_number": 16,
       "text": [
        "Hugo_Symbol              \n",
        "A1BG         TCGA-06-5411    1\n",
        "             TCGA-18-3406    1\n",
        "             TCGA-38-4631    1\n",
        "             TCGA-44-6778    1\n",
        "             TCGA-A3-3358    1\n",
        "             TCGA-AX-A05Z    1\n",
        "             TCGA-BI-A0VS    1\n",
        "             TCGA-CG-5721    1\n",
        "             TCGA-CN-5356    1\n",
        "             TCGA-CN-5360    1\n",
        "             TCGA-CR-7365    1\n",
        "             TCGA-CV-7091    1\n",
        "             TCGA-D1-A103    1\n",
        "             TCGA-D1-A17Q    1\n",
        "             TCGA-EJ-5499    1\n",
        "...\n",
        "ZZZ3         TCGA-BS-A0UJ    1\n",
        "             TCGA-BS-A0UV    1\n",
        "             TCGA-BT-A20O    1\n",
        "             TCGA-BT-A20T    1\n",
        "             TCGA-CG-4466    1\n",
        "             TCGA-CN-6016    1\n",
        "             TCGA-CN-6019    1\n",
        "             TCGA-CN-6989    1\n",
        "             TCGA-CV-7248    1\n",
        "             TCGA-D1-A16X    1\n",
        "             TCGA-DU-6392    1\n",
        "             TCGA-E2-A14R    1\n",
        "             TCGA-EJ-5519    1\n",
        "             TCGA-ET-A3DV    1\n",
        "             TCGA-FG-6690    1\n",
        "Length: 456764, dtype: int64"
       ]
      }
     ],
     "prompt_number": 16
    },
    {
     "cell_type": "code",
     "collapsed": false,
     "input": [
      "total_counts.groupby(level=0).size().order().tail(20)"
     ],
     "language": "python",
     "metadata": {},
     "outputs": [
      {
       "output_type": "pyout",
       "prompt_number": 15,
       "text": [
        "Hugo_Symbol\n",
        "HMCN1           250\n",
        "MLL3            258\n",
        "SPTA1           258\n",
        "MUC17           265\n",
        "APC             266\n",
        "BRAF            266\n",
        "KRAS            267\n",
        "PCLO            282\n",
        "ZFHX4           294\n",
        "PTEN            317\n",
        "FLG             335\n",
        "SYNE1           345\n",
        "USH2A           353\n",
        "LRP1B           371\n",
        "RYR2            391\n",
        "CSMD3           430\n",
        "PIK3CA          540\n",
        "MUC16           557\n",
        "TTN            1006\n",
        "TP53           1362\n",
        "dtype: int64"
       ]
      }
     ],
     "prompt_number": 15
    },
    {
     "cell_type": "code",
     "collapsed": false,
     "input": [
      "mut_genes = mut_genes.T"
     ],
     "language": "python",
     "metadata": {},
     "outputs": [],
     "prompt_number": 67
    },
    {
     "cell_type": "code",
     "collapsed": false,
     "input": [
      "df = mut_genes"
     ],
     "language": "python",
     "metadata": {},
     "outputs": [],
     "prompt_number": 68
    },
    {
     "cell_type": "code",
     "collapsed": false,
     "input": [
      "df = mut_genes.unstack(level=[1,2,3])"
     ],
     "language": "python",
     "metadata": {},
     "outputs": [],
     "prompt_number": 63
    },
    {
     "cell_type": "code",
     "collapsed": false,
     "input": [
      "df.index = df.index.map(lambda s: '__'.join(s))"
     ],
     "language": "python",
     "metadata": {},
     "outputs": [],
     "prompt_number": 69
    },
    {
     "cell_type": "code",
     "collapsed": false,
     "input": [
      "df.to_csv('/scratch/TCGA/For_Rohith/1_16_2013/all_methylation.tab', sep='\\t')"
     ],
     "language": "python",
     "metadata": {},
     "outputs": [],
     "prompt_number": 70
    },
    {
     "cell_type": "code",
     "collapsed": false,
     "input": [
      "cn = {c.name: c.load_data('CN_broad') for c in cancers.values() \n",
      "                                      if os.path.isdir(c.path + '/CN_broad')}"
     ],
     "language": "python",
     "metadata": {},
     "outputs": [],
     "prompt_number": 66
    },
    {
     "cell_type": "code",
     "collapsed": false,
     "input": [
      "cn_genes = pd.concat([m.df for m in cn.values()], keys=cn)\n",
      "cn_counts = cn_genes.groupby(level=[0,1,2]).size()"
     ],
     "language": "python",
     "metadata": {},
     "outputs": [],
     "prompt_number": 70
    },
    {
     "cell_type": "code",
     "collapsed": false,
     "input": [
      "cn_counts.ix[:,:,'3p14.2']"
     ],
     "language": "python",
     "metadata": {},
     "outputs": [
      {
       "output_type": "pyout",
       "prompt_number": 72,
       "text": [
        "COADREAD  Deletion    104\n",
        "KIRC      Deletion    408\n",
        "HNSC      Deletion    242\n",
        "COAD      Deletion     75\n",
        "UCEC      Deletion     69"
       ]
      }
     ],
     "prompt_number": 72
    },
    {
     "cell_type": "code",
     "collapsed": false,
     "input": [
      "cn_genes.ix['3p12."
     ],
     "language": "python",
     "metadata": {},
     "outputs": []
    }
   ],
   "metadata": {}
  }
 ]
}