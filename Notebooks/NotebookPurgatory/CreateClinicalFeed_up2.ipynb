{
 "metadata": {
  "name": "CreateClinicalFeed_up2"
 },
 "nbformat": 3,
 "nbformat_minor": 0,
 "worksheets": [
  {
   "cells": [
    {
     "cell_type": "code",
     "collapsed": false,
     "input": [
      "cd ../src"
     ],
     "language": "python",
     "metadata": {},
     "outputs": [
      {
       "output_type": "stream",
       "stream": "stdout",
       "text": [
        "/cellar/users/agross/TCGA_Code/TCGA/Pathway_Merge/src\n"
       ]
      }
     ],
     "prompt_number": 1
    },
    {
     "cell_type": "code",
     "collapsed": false,
     "input": [
      "import os\n",
      "import subprocess\n",
      "from itertools import product\n",
      "\n",
      "data_path = '/cellar/data/TCGA/Firehose__2012_10_24/'\n",
      "cancers = os.listdir(data_path + 'stddata')"
     ],
     "language": "python",
     "metadata": {},
     "outputs": [],
     "prompt_number": 2
    },
    {
     "cell_type": "code",
     "collapsed": false,
     "input": [
      "def run_function(cancer, data_type, data_path, report_folder): \n",
      "    r = subprocess.Popen(['nice', '-n', '5', './run_globals.py', \n",
      "                         cancer, data_type, data_path, report_folder])\n",
      "    return r"
     ],
     "language": "python",
     "metadata": {},
     "outputs": [],
     "prompt_number": 3
    },
    {
     "cell_type": "code",
     "collapsed": false,
     "input": [
      "data_types = ['mutation','amplification','deletion','expression','methylation']\n",
      "report_ext = 'std'"
     ],
     "language": "python",
     "metadata": {},
     "outputs": [],
     "prompt_number": 4
    },
    {
     "cell_type": "code",
     "collapsed": false,
     "input": [
      "processes = set()\n",
      "max_processes = 7\n",
      "\n",
      "for cancer, data_type in product(cancers, data_types):\n",
      "    report_folder = '/'.join(['ucsd_analyses', cancer, 'Clinical', \n",
      "                              data_type + report_ext,''])\n",
      "    if not os.path.isdir(data_path + report_folder):\n",
      "        os.makedirs(data_path + report_folder)\n",
      "    processes.add(run_function(cancer, data_type, data_path, report_folder))\n",
      "    if len(processes) >= max_processes:\n",
      "        os.wait()\n",
      "        processes.difference_update(\n",
      "            set([p for p in processes if p.poll() is not None]))\n"
     ],
     "language": "python",
     "metadata": {},
     "outputs": [],
     "prompt_number": 5
    },
    {
     "cell_type": "code",
     "collapsed": false,
     "input": [
      "report_folder = '/'.join(['ucsd_analyses', 'OV', 'Globals', \n",
      "                              'methylation' + report_ext,''])\n",
      "run_function('OV', 'methylation', data_path, report_folder)"
     ],
     "language": "python",
     "metadata": {},
     "outputs": [
      {
       "output_type": "pyout",
       "prompt_number": 8,
       "text": [
        "<subprocess.Popen at 0x3af9110>"
       ]
      }
     ],
     "prompt_number": 8
    },
    {
     "cell_type": "code",
     "collapsed": false,
     "input": [],
     "language": "python",
     "metadata": {},
     "outputs": []
    }
   ],
   "metadata": {}
  }
 ]
}