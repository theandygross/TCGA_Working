{
 "metadata": {
  "name": "Run_report_new_good"
 },
 "nbformat": 3,
 "nbformat_minor": 0,
 "worksheets": [
  {
   "cells": [
    {
     "cell_type": "code",
     "collapsed": false,
     "input": [
      "cd ../src"
     ],
     "language": "python",
     "metadata": {},
     "outputs": [
      {
       "output_type": "stream",
       "stream": "stdout",
       "text": [
        "/cellar/users/agross/TCGA_Code/TCGA/Pathway_Merge/src\n"
       ]
      }
     ],
     "prompt_number": 3
    },
    {
     "cell_type": "code",
     "collapsed": false,
     "input": [
      "import os as os\n",
      "import pickle as pickle"
     ],
     "language": "python",
     "metadata": {},
     "outputs": [],
     "prompt_number": 4
    },
    {
     "cell_type": "code",
     "collapsed": false,
     "input": [
      "from Reports.Reports import *\n",
      "\n",
      "class NozzleTable2(object):\n",
      "    def __init__(self, table, caption='', idx_name=''):\n",
      "        index_series = Series(dict((i,i) for i in table.index), name=idx_name)\n",
      "        self.table = table.join(index_series)\n",
      "        self.table = roll_df(self.table,1)\n",
      "        self.row_pos = dict((g,i+1) for i,g in enumerate(self.table.index))\n",
      "        self.col_pos = dict((c,i+1) for i,c in enumerate(self.table.columns))\n",
      "        \n",
      "        r_table = self.table.copy().fillna(1.)\n",
      "        r_table = com.convert_to_r_dataframe(r_table) #@UndefinedVariable\n",
      "        self.nozzle_table = nz.newTable(r_table, caption)\n",
      "        \n",
      "    def add_to_table(self, result, row, col, captions='', title='',\n",
      "                     isSignificant=True):\n",
      "        '''\n",
      "        Add a figure from a file to the Nozzle table.\n",
      "        This is just a wrapper to put a figure(s) in a result section.\n",
      "        '''\n",
      "        self.nozzle_table = nz.addTo(self.nozzle_table, result, \n",
      "                                     row=self.row_pos[row], \n",
      "                                     column=self.col_pos[col]) \n",
      "        \n",
      "def get_rel_path(path, cancer, old_cancer):\n",
      "    ext = path[path.find(old_cancer.name) + len(old_cancer.name)+1:]\n",
      "    return '/'.join(['..'] * (ext.count('/')+2) +  [cancer.name, ext,''])\n",
      "        \n",
      "def generic_header(report, path, cancer, prev_cancer, next_cancer, \n",
      "                   address='index.html'):\n",
      "    report = nz.setMaintainerName(report, 'Andrew Gross')\n",
      "    report = nz.setMaintainerEmail(report, \"agross@ucsd.edu\" );\n",
      "    report = nz.setMaintainerAffiliation(report, 'UCSD- Bioinf. and '\n",
      "                                                + 'Systems Biology' ); \n",
      "    #next_page = '/'.join(['..', next_cancer, address])  \n",
      "    #prev_page = '/'.join(['..', prev_cancer, address])  \n",
      "    next_page = get_rel_path(path, next_cancer, cancer) + address\n",
      "    prev_page = get_rel_path(path, prev_cancer, cancer) + address\n",
      "    report = nz.setPreviousReport(report, next_page, next_cancer.name)\n",
      "    report = nz.setNextReport(report, prev_page, prev_cancer.name)\n",
      "    return report"
     ],
     "language": "python",
     "metadata": {},
     "outputs": [],
     "prompt_number": 5
    },
    {
     "cell_type": "code",
     "collapsed": false,
     "input": [
      "result_path = '/scratch/TCGA/Firehose__2012_01_16/ucsd_analyses'\n",
      "run = sorted(os.listdir(result_path))[0]\n",
      "run = pickle.load(open('/'.join([result_path, run, 'RunObject.p']), 'rb'))\n",
      "run"
     ],
     "language": "python",
     "metadata": {},
     "outputs": [
      {
       "output_type": "pyout",
       "prompt_number": 6,
       "text": [
        "Run object for TCGA Analysis\n",
        "Firehose run date: 2012_01_16\n",
        "Code version: 0.1\n",
        "Comment: Using mSigDB gene sets, trying out new system\n"
       ]
      }
     ],
     "prompt_number": 6
    },
    {
     "cell_type": "code",
     "collapsed": false,
     "input": [
      "data_types = ['CN_broad', 'CN_amplification', 'CN_deletion']\n",
      "data_types = ['mRNASeq', 'mRNA', 'Methylation', 'RPPA']\n",
      "data_types = ['mRNASeq', 'mRNA', 'Methylation', 'RPPA', 'MAF', 'CN_broad', 'CN_deletion', 'CN_amplification']"
     ],
     "language": "python",
     "metadata": {},
     "outputs": [],
     "prompt_number": 7
    },
    {
     "cell_type": "code",
     "collapsed": false,
     "input": [
      "paths = DataFrame({dt: {c: '/'.join([run.report_path, c, dt, 'Tests', 'event_free_survival_5y', 'TestResult.p'])\n",
      "                   for c in run.cancers} for dt in data_types})\n",
      "paths[paths.applymap(os.path.isfile)==False] = nan\n",
      "paths = paths.dropna(how='all', axis=[0,1])"
     ],
     "language": "python",
     "metadata": {},
     "outputs": [],
     "prompt_number": 8
    },
    {
     "cell_type": "code",
     "collapsed": false,
     "input": [
      "cancers = array(paths.index)\n",
      "lookup = {c: cancers[array([i-1, i+1]) % len(cancers)] for i,c in enumerate(cancers)}\n",
      "cancers = {c: run.load_cancer(c) for c in cancers}"
     ],
     "language": "python",
     "metadata": {},
     "outputs": [],
     "prompt_number": 9
    },
    {
     "cell_type": "code",
     "collapsed": false,
     "input": [
      "def make_section(cancer, res, data_type):\n",
      "    data = res.get_dataset()\n",
      "    try:\n",
      "        data.uncompress()  \n",
      "    except:\n",
      "        do_nothing = True\n",
      "    stuff = nz.newSection(data_type)\n",
      "    \n",
      "    res.cancer = cancer.name\n",
      "    for col in res.results:\n",
      "        try: \n",
      "            res.results[col] = res.results[col].map(lambda s: \"%5.2e\"%s).astype(float)\n",
      "        except:\n",
      "            continue\n",
      "            \n",
      "    thresholded = res.results.ix[res.p_values < .01]    \n",
      "    if len(thresholded) == 0:\n",
      "        report = nz.addTo(stuff, nz.newParagraph('No Results'))\n",
      "        return report\n",
      "    \n",
      "    tab = NozzleTable2(thresholded, idx_name='Feature')\n",
      "    for p in thresholded.index:\n",
      "        fmla = thresholded.ix[p, ('Full', 'fmla')]\n",
      "        feature = data.features.ix[p]\n",
      "        curves = nz.newFigure(res.path + 'Figures/' + str(p) + '.png')\n",
      "        m = get_cox_ph_ms(res.test.surv, feature, res.test.covariates, \n",
      "                          return_val='model', formula=fmla)\n",
      "        coef = com.convert_robj(base.summary(m).rx2('coefficients'))\n",
      "        coef = NozzleTable2(coef, caption='Model Coefficients', idx_name='covariate')\n",
      "        summary = str(m).split('\\n')[-2]\n",
      "        summary = nz.newParagraph(summary)\n",
      "        \n",
      "        pp_name = p[1] if type(p) == tuple else p\n",
      "        pathway_fig = '/'.join([data.path, 'Figures', 'PathwayPlots', str(pp_name) + '.png'])\n",
      "        if os.path.isfile(pathway_fig):\n",
      "            pathway = nz.newFigure(pathway_fig)\n",
      "        else:\n",
      "            pathway = nz.newParagraph('')\n",
      "        result = nz.newResult('')\n",
      "        \n",
      "        result = nz.addTo(result, nz.addTo(nz.newSubSection('Cox Model for ' + str(p[1])), curves,\n",
      "                                coef.nozzle_table, summary), pathway)\n",
      "        tab.add_to_table(result, p, 'Feature') \n",
      "    \n",
      "    stuff = nz.addTo(stuff, tab.nozzle_table)\n",
      "    return stuff"
     ],
     "language": "python",
     "metadata": {},
     "outputs": [],
     "prompt_number": 24
    },
    {
     "cell_type": "code",
     "collapsed": false,
     "input": [
      "for c, cancer in cancers.iteritems():\n",
      "    report = nz.newReport('Report for ' + cancer.full_name)\n",
      "    prev_cancer, next_cancer = lookup[cancer.name]\n",
      "    path = '/'.join([cancer.path, 'Reports', report_name])\n",
      "    if not os.path.isdir(path):\n",
      "        os.makedirs(path)\n",
      "    report = generic_header(report, path, cancer, cancers[next_cancer], cancers[prev_cancer], \n",
      "                            address='index.html')    \n",
      "    for dt, res in paths.ix[c].iteritems():\n",
      "        try:\n",
      "            res = pickle.load(open(res, 'rb'))\n",
      "            stuff = make_section(cancer, res, dt)\n",
      "            report = nz.addToResults(report, stuff)\n",
      "        except:\n",
      "            print cancer.name \n",
      "    nz.writeReport(report, filename=path + '/index')"
     ],
     "language": "python",
     "metadata": {},
     "outputs": [
      {
       "output_type": "stream",
       "stream": "stdout",
       "text": [
        "UCEC\n",
        "SKCM"
       ]
      },
      {
       "output_type": "stream",
       "stream": "stdout",
       "text": [
        "\n",
        "SKCM\n",
        "SKCM\n",
        "SKCM\n",
        "SKCM\n",
        "STAD"
       ]
      },
      {
       "output_type": "stream",
       "stream": "stdout",
       "text": [
        "\n",
        "STAD"
       ]
      },
      {
       "output_type": "stream",
       "stream": "stdout",
       "text": [
        "\n",
        "STAD\n",
        "OV"
       ]
      },
      {
       "output_type": "stream",
       "stream": "stdout",
       "text": [
        "\n",
        "KIRP"
       ]
      },
      {
       "output_type": "stream",
       "stream": "stdout",
       "text": [
        "\n",
        "KIRP\n",
        "KIRP"
       ]
      },
      {
       "output_type": "stream",
       "stream": "stdout",
       "text": [
        "\n",
        "KIRP\n",
        "KIRP\n",
        "LGG"
       ]
      },
      {
       "output_type": "stream",
       "stream": "stdout",
       "text": [
        "\n",
        "LGG"
       ]
      },
      {
       "output_type": "stream",
       "stream": "stdout",
       "text": [
        "\n",
        "BLCA"
       ]
      },
      {
       "output_type": "stream",
       "stream": "stdout",
       "text": [
        "\n",
        "BLCA\n",
        "BLCA"
       ]
      },
      {
       "output_type": "stream",
       "stream": "stdout",
       "text": [
        "\n",
        "PRAD"
       ]
      },
      {
       "output_type": "stream",
       "stream": "stdout",
       "text": [
        "\n",
        "PRAD"
       ]
      },
      {
       "output_type": "stream",
       "stream": "stdout",
       "text": [
        "\n",
        "PRAD\n",
        "PRAD\n",
        "PRAD\n",
        "COAD"
       ]
      },
      {
       "output_type": "stream",
       "stream": "stdout",
       "text": [
        "\n",
        "COAD\n",
        "COAD\n",
        "COAD"
       ]
      },
      {
       "output_type": "stream",
       "stream": "stdout",
       "text": [
        "\n",
        "THCA"
       ]
      },
      {
       "output_type": "stream",
       "stream": "stdout",
       "text": [
        "\n",
        "THCA\n",
        "THCA\n",
        "LIHC"
       ]
      },
      {
       "output_type": "stream",
       "stream": "stdout",
       "text": [
        "\n",
        "LIHC\n",
        "LIHC\n",
        "LIHC\n",
        "LIHC\n"
       ]
      }
     ],
     "prompt_number": 47
    }
   ],
   "metadata": {}
  }
 ]
}