{
 "metadata": {
  "name": "Untitled17"
 },
 "nbformat": 3,
 "nbformat_minor": 0,
 "worksheets": [
  {
   "cells": [
    {
     "cell_type": "code",
     "collapsed": false,
     "input": [
      "cd ../src"
     ],
     "language": "python",
     "metadata": {},
     "outputs": [
      {
       "output_type": "stream",
       "stream": "stdout",
       "text": [
        "/cellar/users/agross/TCGA_Code/TCGA/Pathway_Merge/src\n"
       ]
      }
     ],
     "prompt_number": 1
    },
    {
     "cell_type": "code",
     "collapsed": false,
     "input": [
      "import os as os\n",
      "import pickle as pickle\n",
      "import pandas as pd\n",
      "\n",
      "from Reports.NotebookTools import *\n",
      "from Processing.Tests import *\n",
      "from Reports.Figures import *\n",
      "from Processing.Helpers import *\n",
      "\n",
      "from Processing.Initiliazation import initialize_real\n",
      "\n",
      "pd.set_option('precision',3)\n",
      "pd.set_option('display.line_width', 100)\n",
      "#pd.set_option('display.width', 300)"
     ],
     "language": "python",
     "metadata": {},
     "outputs": [],
     "prompt_number": 2
    },
    {
     "cell_type": "code",
     "collapsed": false,
     "input": [
      "result_path = '/scratch/TCGA/Firehose__2012_01_16/ucsd_analyses'\n",
      "run = sorted(os.listdir(result_path))[0]\n",
      "run = pickle.load(open('/'.join([result_path, run, 'RunObject.p']), 'rb'))"
     ],
     "language": "python",
     "metadata": {},
     "outputs": [],
     "prompt_number": 3
    },
    {
     "cell_type": "code",
     "collapsed": false,
     "input": [
      "cancer = run.load_cancer('THCA')\n",
      "clinical = cancer.load_clinical()\n",
      "global_vars = cancer.load_global_vars()\n",
      "\n",
      "mut = cancer.load_data('MAF')\n",
      "mut.uncompress()\n",
      "meth = cancer.load_data('Methylation')\n",
      "rna = cancer.load_data('mRNASeq')\n",
      "rppa  = cancer.load_data('RPPA')"
     ],
     "language": "python",
     "metadata": {},
     "outputs": [],
     "prompt_number": 5
    },
    {
     "cell_type": "code",
     "collapsed": false,
     "input": [
      "path = '/cellar/users/agross/Data/TCGA/HNSC_Followup/'\n",
      "pat = pd.read_table(path + 'clinical_patient_hnsc.txt', index_col=0, na_values=['[Completed]', '[Not Available]', '[Not Applicable]'])\n",
      "followup =  pd.read_table(path + 'clinical_follow_up_v1.0_hnsc.txt', index_col=0, na_values=['[Completed]', '[Not Available]', '[Not Applicable]'])\n",
      "followup1 =  pd.read_table(path + 'clinical_follow_up_v4.8_hnsc.txt', index_col=0, na_values=['[Completed]', '[Not Available]', '[Not Applicable]'])\n",
      "followup = followup.append(followup1)\n",
      "followup = pat.append(followup)\n",
      "followup = followup.sort(columns=['days_to_death', 'days_to_last_followup','days_to_last_known_alive'], ascending=False)\n",
      "followup = followup.groupby(lambda s: s[:12]).last()\n",
      "deceased = followup.vital_status\n",
      "\n",
      "age = -1*followup.days_to_birth.dropna() / 365.\n",
      "timeline = followup[['days_to_last_followup', 'days_to_death','days_to_last_known_alive']].dropna(how='all')\n",
      "timeline['days'] = timeline.max(1)\n",
      "deceased = followup.vital_status == 'DECEASED'\n",
      "\n",
      "new_event = followup.select(lambda s: 'days' in s, 1)\n",
      "timeline = new_event.combine_first(timeline)\n",
      "\n",
      "survival = pd.concat([timeline.days, deceased], keys=['days','event'], axis=1)\n",
      "survival = survival.dropna().stack().astype(float)\n",
      "age = followup.days_to_birth / -365.25\n",
      "stage = followup.clinical_stage.map(lambda s: s.replace('A','').replace('B','').replace('C',''), na_action='ignore')\n",
      "year_of_diagnosis = followup.dropna(axis=1, thresh=100).year_of_initial_pathologic_diagnosis\n",
      "spread = followup.presence_of_pathological_nodal_extracapsular_spread\n",
      "spread = spread.dropna() != 'No Extranodal Extension'\n",
      "invasion = followup.perineural_invasion_present.dropna() == 'YES'\n",
      "\n",
      "survival = pd.concat([survival], keys=['survival'], axis=1)\n",
      "clinical.survival = survival\n",
      "clinical.artificially_censor(5)\n",
      "\n",
      "surv = clinical.survival.survival_5y"
     ],
     "language": "python",
     "metadata": {},
     "outputs": []
    },
    {
     "cell_type": "code",
     "collapsed": false,
     "input": [
      "clinical.survival.event_free_survival_5y.unstack().event.sum()"
     ],
     "language": "python",
     "metadata": {},
     "outputs": [
      {
       "output_type": "pyout",
       "prompt_number": 12,
       "text": [
        "1.0"
       ]
      }
     ],
     "prompt_number": 12
    },
    {
     "cell_type": "code",
     "collapsed": false,
     "input": [
      "clinical.clinical"
     ],
     "language": "python",
     "metadata": {},
     "outputs": [
      {
       "html": [
        "<pre>\n",
        "&ltclass 'pandas.core.frame.DataFrame'&gt\n",
        "Index: 218 entries, TCGA-BJ-A0YZ to TCGA-J8-A3O2\n",
        "Data columns (total 13 columns):\n",
        "neo_length          204  non-null values\n",
        "neo_depth           167  non-null values\n",
        "neo_width           179  non-null values\n",
        "tumor_focality      216  non-null values\n",
        "hist_type           218  non-null values\n",
        "neo_status          198  non-null values\n",
        "neo_area            211  non-null values\n",
        "vitalstatus         218  non-null values\n",
        "gender              218  non-null values\n",
        "tissuesourcesite    218  non-null values\n",
        "age                 218  non-null values\n",
        "race                172  non-null values\n",
        "deceased            218  non-null values\n",
        "dtypes: float64(2), int64(1), object(10)\n",
        "</pre>"
       ],
       "output_type": "pyout",
       "prompt_number": 13,
       "text": [
        "<class 'pandas.core.frame.DataFrame'>\n",
        "Index: 218 entries, TCGA-BJ-A0YZ to TCGA-J8-A3O2\n",
        "Data columns (total 13 columns):\n",
        "neo_length          204  non-null values\n",
        "neo_depth           167  non-null values\n",
        "neo_width           179  non-null values\n",
        "tumor_focality      216  non-null values\n",
        "hist_type           218  non-null values\n",
        "neo_status          198  non-null values\n",
        "neo_area            211  non-null values\n",
        "vitalstatus         218  non-null values\n",
        "gender              218  non-null values\n",
        "tissuesourcesite    218  non-null values\n",
        "age                 218  non-null values\n",
        "race                172  non-null values\n",
        "deceased            218  non-null values\n",
        "dtypes: float64(2), int64(1), object(10)"
       ]
      }
     ],
     "prompt_number": 13
    },
    {
     "cell_type": "code",
     "collapsed": false,
     "input": [
      "c = pd.read_table('/cellar/users/agross/Downloads/THCA.clin.merged.picked.txt', index_col=0).T"
     ],
     "language": "python",
     "metadata": {},
     "outputs": [],
     "prompt_number": 27
    },
    {
     "cell_type": "code",
     "collapsed": false,
     "input": [
      "c['distant.metastasis'].value_counts()"
     ],
     "language": "python",
     "metadata": {},
     "outputs": [
      {
       "output_type": "pyout",
       "prompt_number": 35,
       "text": [
        "m0    484\n",
        "mx    368\n",
        "m1     16\n",
        "dtype: int64"
       ]
      }
     ],
     "prompt_number": 35
    },
    {
     "cell_type": "code",
     "collapsed": false,
     "input": [
      "c['lymph.node.metastasis'].value_counts()"
     ],
     "language": "python",
     "metadata": {},
     "outputs": [
      {
       "output_type": "pyout",
       "prompt_number": 38,
       "text": [
        "n0     396\n",
        "n1a    168\n",
        "n1b    129\n",
        "n1      99\n",
        "nx      78\n",
        "dtype: int64"
       ]
      }
     ],
     "prompt_number": 38
    },
    {
     "cell_type": "code",
     "collapsed": false,
     "input": [
      "c"
     ],
     "language": "python",
     "metadata": {},
     "outputs": [
      {
       "html": [
        "<pre>\n",
        "&ltclass 'pandas.core.frame.DataFrame'&gt\n",
        "Index: 870 entries, tcga-bj-a0yz to tcga-mk-a4n9.1\n",
        "Data columns (total 23 columns):\n",
        "Composite Element REF                     870  non-null values\n",
        "yearstobirth                              870  non-null values\n",
        "daystodeath                               20  non-null values\n",
        "daystolastfollowup                        850  non-null values\n",
        "vitalstatus                               870  non-null values\n",
        "dccuploaddate                             870  non-null values\n",
        "primarysiteofdesease                      870  non-null values\n",
        "gender                                    870  non-null values\n",
        "dateofinitialpathologicdiagnosis          870  non-null values\n",
        "radiationtherapy                          350  non-null values\n",
        "histologicaltype                          870  non-null values\n",
        "radiations.radiation.regimenindication    870  non-null values\n",
        "radiationexposure                         776  non-null values\n",
        "distant.metastasis                        868  non-null values\n",
        "extrathyroidal.extension                  829  non-null values\n",
        "lymph.node.metastasis                     870  non-null values\n",
        "completeness.of.resection                 811  non-null values\n",
        "number.of.lymph.nodes                     680  non-null values\n",
        "tumor.stagecode                           870  non-null values\n",
        "neoplasm.diseasestage                     864  non-null values\n",
        "multifocality                             852  non-null values\n",
        "tumor.size                                681  non-null values\n",
        "batchnumber                               870  non-null values\n",
        "dtypes: object(23)\n",
        "</pre>"
       ],
       "output_type": "pyout",
       "prompt_number": 40,
       "text": [
        "<class 'pandas.core.frame.DataFrame'>\n",
        "Index: 870 entries, tcga-bj-a0yz to tcga-mk-a4n9.1\n",
        "Data columns (total 23 columns):\n",
        "Composite Element REF                     870  non-null values\n",
        "yearstobirth                              870  non-null values\n",
        "daystodeath                               20  non-null values\n",
        "daystolastfollowup                        850  non-null values\n",
        "vitalstatus                               870  non-null values\n",
        "dccuploaddate                             870  non-null values\n",
        "primarysiteofdesease                      870  non-null values\n",
        "gender                                    870  non-null values\n",
        "dateofinitialpathologicdiagnosis          870  non-null values\n",
        "radiationtherapy                          350  non-null values\n",
        "histologicaltype                          870  non-null values\n",
        "radiations.radiation.regimenindication    870  non-null values\n",
        "radiationexposure                         776  non-null values\n",
        "distant.metastasis                        868  non-null values\n",
        "extrathyroidal.extension                  829  non-null values\n",
        "lymph.node.metastasis                     870  non-null values\n",
        "completeness.of.resection                 811  non-null values\n",
        "number.of.lymph.nodes                     680  non-null values\n",
        "tumor.stagecode                           870  non-null values\n",
        "neoplasm.diseasestage                     864  non-null values\n",
        "multifocality                             852  non-null values\n",
        "tumor.size                                681  non-null values\n",
        "batchnumber                               870  non-null values\n",
        "dtypes: object(23)"
       ]
      }
     ],
     "prompt_number": 40
    },
    {
     "cell_type": "code",
     "collapsed": false,
     "input": [
      "c['daystodeath'].dropna() "
     ],
     "language": "python",
     "metadata": {},
     "outputs": [
      {
       "output_type": "pyout",
       "prompt_number": 31,
       "text": [
        "tcga-el-a3cm       813\n",
        "tcga-el-a3cm.1     813\n",
        "tcga-el-a3co      2973\n",
        "tcga-el-a3co.1    2973\n",
        "tcga-el-a3cr       233\n",
        "tcga-el-a3cr.1     233\n",
        "tcga-el-a3cs      1385\n",
        "tcga-el-a3cs.1    1385\n",
        "tcga-el-a3h1      1500\n",
        "tcga-el-a3h1.1    1500\n",
        "tcga-el-a3h2      1018\n",
        "tcga-el-a3h2.1    1018\n",
        "tcga-el-a3my       532\n",
        "tcga-el-a3my.1     532\n",
        "tcga-el-a3mz      1596\n",
        "tcga-el-a3mz.1    1596\n",
        "tcga-el-a3t9       174\n",
        "tcga-el-a3t9.1     174\n",
        "tcga-fe-a239      1023\n",
        "tcga-fe-a239.1    1023\n",
        "Name: daystodeath, dtype: object"
       ]
      }
     ],
     "prompt_number": 31
    },
    {
     "cell_type": "code",
     "collapsed": false,
     "input": [
      "! ls /cellar/users/mhofree/projects/cancer_strat/results/2013_05_15_post_rev1/firehose_clinical/stddata__2013_04_21/THCA/20130421/\n"
     ],
     "language": "python",
     "metadata": {},
     "outputs": [
      {
       "output_type": "stream",
       "stream": "stdout",
       "text": [
        "gdac.broadinstitute.org_THCA.Clinical_Pick_Tier1.aux.2013042100.0.0.tar.gz\r\n",
        "gdac.broadinstitute.org_THCA.Clinical_Pick_Tier1.aux.2013042100.0.0.tar.gz.md5\r\n",
        "gdac.broadinstitute.org_THCA.Clinical_Pick_Tier1.Level_4.2013042100.0.0\r\n",
        "gdac.broadinstitute.org_THCA.Clinical_Pick_Tier1.Level_4.2013042100.0.0.tar.gz\r\n",
        "gdac.broadinstitute.org_THCA.Clinical_Pick_Tier1.Level_4.2013042100.0.0.tar.gz.md5\r\n",
        "gdac.broadinstitute.org_THCA.Clinical_Pick_Tier1.mage-tab.2013042100.0.0.tar.gz\r\n",
        "gdac.broadinstitute.org_THCA.Clinical_Pick_Tier1.mage-tab.2013042100.0.0.tar.gz.md5\r\n",
        "gdac.broadinstitute.org_THCA.Merge_Clinical.aux.2013042100.0.0.tar.gz\r\n",
        "gdac.broadinstitute.org_THCA.Merge_Clinical.aux.2013042100.0.0.tar.gz.md5\r\n",
        "gdac.broadinstitute.org_THCA.Merge_Clinical.Level_1.2013042100.0.0\r\n",
        "gdac.broadinstitute.org_THCA.Merge_Clinical.Level_1.2013042100.0.0.tar.gz\r\n",
        "gdac.broadinstitute.org_THCA.Merge_Clinical.Level_1.2013042100.0.0.tar.gz.md5\r\n",
        "gdac.broadinstitute.org_THCA.Merge_Clinical.mage-tab.2013042100.0.0.tar.gz\r\n",
        "gdac.broadinstitute.org_THCA.Merge_Clinical.mage-tab.2013042100.0.0.tar.gz.md5\r\n"
       ]
      }
     ],
     "prompt_number": 18
    },
    {
     "cell_type": "code",
     "collapsed": false,
     "input": [
      "\n",
      "."
     ],
     "language": "python",
     "metadata": {},
     "outputs": []
    }
   ],
   "metadata": {}
  }
 ]
}