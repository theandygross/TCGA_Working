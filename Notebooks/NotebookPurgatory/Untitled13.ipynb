{
 "metadata": {
  "name": "Untitled13"
 },
 "nbformat": 3,
 "nbformat_minor": 0,
 "worksheets": []
}