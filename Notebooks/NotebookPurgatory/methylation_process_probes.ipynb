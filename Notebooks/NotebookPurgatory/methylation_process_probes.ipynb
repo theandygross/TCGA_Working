{
 "metadata": {
  "name": "methylation_process_probes"
 },
 "nbformat": 3,
 "nbformat_minor": 0,
 "worksheets": [
  {
   "cells": [
    {
     "cell_type": "code",
     "collapsed": false,
     "input": [
      "cd ../src"
     ],
     "language": "python",
     "metadata": {},
     "outputs": [
      {
       "output_type": "stream",
       "stream": "stdout",
       "text": [
        "/cellar/users/agross/TCGA_Code/TCGA/Pathway_Merge/src\n"
       ]
      }
     ],
     "prompt_number": 1
    },
    {
     "cell_type": "code",
     "collapsed": false,
     "input": [
      "%%file script.py\n",
      "\n",
      "import os as os\n",
      "import sys as sys\n",
      "import pickle as pickle\n",
      "from pandas import Series, DataFrame\n",
      "import pandas as pd\n",
      "from Data.Methylation import *\n",
      "\n",
      "METH_FOLDER = ('methylation/humanmethylation450/jhu_usc_edu/Level_3/' + \n",
      "               'within_bioassay_data_set_function/data/')\n",
      "METH_FILE = 'data.txt'\n",
      "\n",
      "result_path = '/scratch/TCGA/Firehose__2012_01_16/ucsd_analyses'\n",
      "run = sorted(os.listdir(result_path))[0]\n",
      "run = pickle.load(open('/'.join([result_path, run, 'RunObject.p']), 'rb'))\n",
      "\n",
      "\n",
      "def pull_out_beta_values(folder, probes='All', outfile='beta_values.txt'):\n",
      "    \n",
      "    curdir = os.getcwd()\n",
      "    os.chdir(folder)\n",
      "    \n",
      "    if probes != 'All':\n",
      "        target_file = 'picked.txt'\n",
      "        query = '\\\\|'.join(['Hybridization REF'] + list(probes))\n",
      "        call(['grep', query, METH_FILE], \n",
      "             stdout=open(target_file,'wb'))\n",
      "    else:\n",
      "        target_file = METH_FILE\n",
      "    cols = check_output(['awk', '-F\\t', '{print NF; exit}', target_file])\n",
      "    cols = int(cols.strip())\n",
      "    cols = ','.join(map(str, range(2, int(cols)+1,4)))\n",
      "    \n",
      "    call(['cut', '-f' + cols, target_file], stdout=open('tmp','wb'))\n",
      "    call(['cut', '-f1,3', target_file], stdout=open('idx','wb'))\n",
      "    call(['paste', 'idx', 'tmp', '-d\\t'], stdout=open(outfile,'wb'))\n",
      "    call(['rm', 'tmp', 'idx'])\n",
      "    \n",
      "    os.chdir(curdir)\n",
      "    \n",
      "from Processing.Helpers import frame_svd\n",
      "def extract_pc(df, pc_threshold=.2, standardize=True):\n",
      "    try:\n",
      "        if standardize:\n",
      "            df = ((df.T - df.mean(1)) / df.std(1)).T\n",
      "        U,S,vH = frame_svd(df)\n",
      "    except LinAlgError:\n",
      "        return None\n",
      "    p = S**2/sum(S**2)\n",
      "    pat_vec = vH[0]\n",
      "    gene_vec = U[0]\n",
      "    pct_var = p[0]\n",
      "    if sum(gene_vec) < 0:\n",
      "        gene_vec = -1*gene_vec\n",
      "        pat_vec = -1*pat_vec\n",
      "    #pat_vec = (pat_vec - pat_vec.mean()) / pat_vec.std()\n",
      "    ret = {'pat_vec': pat_vec, 'gene_vec': gene_vec, 'pct_var': pct_var}\n",
      "    return  ret if pct_var > pc_threshold else None\n",
      "\n",
      "def peel_pc(vec):\n",
      "    r = extract_pc(vec-.5, standardize=False)\n",
      "    l,r,p = r['gene_vec'], r['pat_vec'], r['pct_var']\n",
      "    mean = vec.mean(1)\n",
      "    if l.corr(mean) < 0:\n",
      "        l = l*-1\n",
      "        r = r*-1\n",
      "    return l,r,p\n",
      "\n",
      "def process_meth(cancer, data_path, probeset = 'All'):\n",
      "    folder = data_path + '/'.join(['stddata', cancer, METH_FOLDER])\n",
      "    \n",
      "    outpath = data_path + '/'.join(['ucsd_processing', cancer, \n",
      "                                    'methylation450', ''])\n",
      "    if not os.path.isdir(outpath):\n",
      "        os.makedirs(outpath)\n",
      "    outfile = outpath + ('beta_values.txt' if probeset == 'All' else \n",
      "                         'beta_values_picked.txt')\n",
      "    \n",
      "    if os.path.isfile(outpath + 'meta_probes.csv'):\n",
      "        return\n",
      "    \n",
      "    if not os.path.isfile(outpath + outfile):\n",
      "        pull_out_beta_values(folder, probeset, outfile) \n",
      "    \n",
      "    table = read_table(outpath + 'beta_values.txt', skiprows=[1], index_col=[0])\n",
      "    table = table.rename(columns=lambda s: s if s!=table.columns[0] else 'symbol')\n",
      "    t = table.set_index('symbol', append=True)\n",
      "    t = t.swaplevel(0,1)\n",
      "    t = t.select(lambda s: s.split('-')[3].startswith('01'), axis=1) \n",
      "    \n",
      "    loadings = {}\n",
      "    meta_probes = {}\n",
      "    pct_var = {}\n",
      "    for gene in t.index.levels[0]:\n",
      "        try:\n",
      "            loadings[gene], meta_probes[gene], pct_var[gene] = peel_pc(t.ix[gene])\n",
      "        except:\n",
      "            meta_probes[gene] = t.ix[gene].mean()\n",
      "    loadings = pd.concat(loadings.values(), keys=loadings.keys())\n",
      "    meta_probes = DataFrame(meta_probes).T\n",
      "    pct_var = Series(pct_var)\n",
      "    \n",
      "    loadings.to_csv(outpath + 'loadings.csv')\n",
      "    meta_probes.to_csv(outpath + 'meta_probes.csv')\n",
      "    pct_var.to_csv(outpath + 'pct_var.csv')\n",
      "    \n",
      "process_meth(sys.argv[1], run.data_path)"
     ],
     "language": "python",
     "metadata": {},
     "outputs": [
      {
       "output_type": "stream",
       "stream": "stdout",
       "text": [
        "Overwriting script.py\n"
       ]
      }
     ],
     "prompt_number": 3
    },
    {
     "cell_type": "code",
     "collapsed": false,
     "input": [
      "import os as os\n",
      "import pickle as pickle\n",
      "import subprocess\n",
      "import psutil"
     ],
     "language": "python",
     "metadata": {},
     "outputs": [],
     "prompt_number": 4
    },
    {
     "cell_type": "code",
     "collapsed": false,
     "input": [
      "def parallel_run(process_list):\n",
      "    processes = set()\n",
      "    for process in process_list:\n",
      "        fun, args = process\n",
      "        processes.add(fun(*args))\n",
      "        if ((len(processes) >= int(psutil.NUM_CPUS*.25)) or \n",
      "            (psutil.virtual_memory().percent > 50)):\n",
      "            os.wait()\n",
      "            s = [p for p in processes if p.poll() is not None]\n",
      "            processes.difference_update(s)"
     ],
     "language": "python",
     "metadata": {},
     "outputs": [],
     "prompt_number": 5
    },
    {
     "cell_type": "code",
     "collapsed": false,
     "input": [
      "result_path = '/scratch/TCGA/Firehose__2012_01_16/ucsd_analyses'\n",
      "run = sorted(os.listdir(result_path))[0]\n",
      "run = pickle.load(open('/'.join([result_path, run, 'RunObject.p']), 'rb'))"
     ],
     "language": "python",
     "metadata": {},
     "outputs": [],
     "prompt_number": 6
    },
    {
     "cell_type": "code",
     "collapsed": false,
     "input": [
      "def run_cancer(cancer):\n",
      "    r = subprocess.Popen(['nice', '-n', '5', 'python', 'script.py', \n",
      "                          cancer])\n",
      "    return r\n",
      "process_list = [(run_cancer, [cancer]) for cancer in run.cancers]"
     ],
     "language": "python",
     "metadata": {},
     "outputs": [],
     "prompt_number": 7
    },
    {
     "cell_type": "code",
     "collapsed": false,
     "input": [
      "parallel_run(process_list)"
     ],
     "language": "python",
     "metadata": {},
     "outputs": [],
     "prompt_number": 8
    },
    {
     "cell_type": "code",
     "collapsed": false,
     "input": [],
     "language": "python",
     "metadata": {},
     "outputs": []
    }
   ],
   "metadata": {}
  }
 ]
}