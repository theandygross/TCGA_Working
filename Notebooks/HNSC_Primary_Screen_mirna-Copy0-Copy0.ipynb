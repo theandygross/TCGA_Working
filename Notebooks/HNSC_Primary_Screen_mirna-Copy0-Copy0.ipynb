{
 "metadata": {
  "name": "HNSC_Primary_Screen_mirna-Copy0-Copy0"
 },
 "nbformat": 3,
 "nbformat_minor": 0,
 "worksheets": [
  {
   "cells": [
    {
     "cell_type": "markdown",
     "metadata": {},
     "source": [
      "#HNSC Figures"
     ]
    },
    {
     "cell_type": "code",
     "collapsed": false,
     "input": [
      "cd ../src"
     ],
     "language": "python",
     "metadata": {},
     "outputs": [
      {
       "output_type": "stream",
       "stream": "stdout",
       "text": [
        "/cellar/users/agross/TCGA_Code/TCGA/Pathway_Merge/src\n"
       ]
      }
     ],
     "prompt_number": 2
    },
    {
     "cell_type": "code",
     "collapsed": false,
     "input": [
      "from Processing.Imports import *"
     ],
     "language": "python",
     "metadata": {},
     "outputs": [],
     "prompt_number": 3
    },
    {
     "cell_type": "markdown",
     "metadata": {},
     "source": [
      "##Load Firehose Run"
     ]
    },
    {
     "cell_type": "code",
     "collapsed": false,
     "input": [
      "run = get_run('/cellar/data/TCGA/Firehose__2013_04_21/', 'Run_all')\n",
      "\n",
      "cancer = run.load_cancer('HNSC')\n",
      "clinical = cancer.load_clinical()\n",
      "global_vars = cancer.load_global_vars()\n",
      "\n",
      "mut = cancer.load_data('Mutation')\n",
      "mut.uncompress()\n",
      "meth = cancer.load_data('Methylation')\n",
      "cn = cancer.load_data('CN_broad')\n",
      "cn.uncompress()\n",
      "rna = cancer.load_data('mRNASeq')\n",
      "rppa  = cancer.load_data('RPPA')\n",
      "mirna = cancer.load_data('miRNASeq')\n",
      "age = clinical.clinical.age.astype(float)\n",
      "\n",
      "hpv_all = pd.read_csv('/cellar/users/agross/hpv_summary_3_20_13_distribute.csv', index_col=0)\n",
      "hpv = hpv_all.Molecular_HPV.map({0:'HPV-', 1:'HPV+'})\n",
      "hpv.name = 'HPV'"
     ],
     "language": "python",
     "metadata": {},
     "outputs": [],
     "prompt_number": 4
    },
    {
     "cell_type": "code",
     "collapsed": false,
     "input": [
      "from Data.ProcessClinical import format_survival_from_data_portal\n",
      "path  = '/cellar/users/agross/Data/TCGA/HNSC_Followup/'\n",
      "survival, timeline = format_survival_from_data_portal(path, cancer.name)\n",
      "clinical.survival = survival\n",
      "clinical.artificially_censor(5)\n",
      "age = timeline.age"
     ],
     "language": "python",
     "metadata": {},
     "outputs": [],
     "prompt_number": 5
    },
    {
     "cell_type": "code",
     "collapsed": false,
     "input": [
      "filters = pd.concat([age>85, hpv=='HPV+'], axis=1)\n",
      "clinical_filter = filters.sum(1) == 0\n",
      "keepers = true_index(clinical_filter)"
     ],
     "language": "python",
     "metadata": {},
     "outputs": [],
     "prompt_number": 6
    },
    {
     "cell_type": "code",
     "collapsed": false,
     "input": [
      "filters = pd.concat([age>85], axis=1)\n",
      "clinical_filter = filters.sum(1) == 0\n",
      "keepers = true_index(clinical_filter)"
     ],
     "language": "python",
     "metadata": {},
     "outputs": [],
     "prompt_number": 7
    },
    {
     "cell_type": "code",
     "collapsed": false,
     "input": [
      "surv = clinical.survival.survival_5y"
     ],
     "language": "python",
     "metadata": {},
     "outputs": [],
     "prompt_number": 8
    },
    {
     "cell_type": "code",
     "collapsed": false,
     "input": [
      "from Initialization.InitializeReal import RealDataset\n",
      "rna = RealDataset(run, cancer, 'mRNASeq', keepers)"
     ],
     "language": "python",
     "metadata": {},
     "outputs": [],
     "prompt_number": 9
    },
    {
     "cell_type": "markdown",
     "metadata": {},
     "source": [
      "###Re-form features with filtered matrix"
     ]
    },
    {
     "cell_type": "code",
     "collapsed": false,
     "input": [
      "from Data.Containers import Dataset\n",
      "import Data.Firehose as FH"
     ],
     "language": "python",
     "metadata": {},
     "outputs": [],
     "prompt_number": 10
    },
    {
     "cell_type": "markdown",
     "metadata": {},
     "source": [
      "###Previously Defined Subtypes"
     ]
    },
    {
     "cell_type": "code",
     "collapsed": false,
     "input": [
      "p53_mut = 1.*(mut.df.ix['TP53', keepers].dropna() > 0)\n",
      "p53_mut.name = 'p53_mut'\n",
      "del_3p = cn.df.ix['Deletion'].ix['3p14.2', keepers].ix[0].dropna()\n",
      "del_3p.name = 'del_3p'\n",
      "\n",
      "combo = combine(p53_mut==1, del_3p==-1)\n",
      "two_hit = 1.*(combo == 'both')\n",
      "two_hit.name = 'two_hit'\n",
      "\n",
      "subtype = combine(two_hit, mut.features.ix['REACTOME_SHC_MEDIATED_SIGNALLING']).dropna() == 'REACTOME_SHC_MEDIATED_SIGNALLING'\n",
      "df = pd.concat([3.*(combine(subtype, two_hit==0)=='both'), 4.*(combine(mut.features.ix['MUC5B']==1, two_hit==1)=='both'), (two_hit + 1)], axis=1)\n",
      "subtypes = df.max(1)"
     ],
     "language": "python",
     "metadata": {},
     "outputs": [],
     "prompt_number": 11
    },
    {
     "cell_type": "markdown",
     "metadata": {},
     "source": [
      "###Run miRNA Data"
     ]
    },
    {
     "cell_type": "code",
     "collapsed": false,
     "input": [
      "df = mirna.df.ix[:,keepers]\n",
      "df = df.xs('01', level=1, axis=1)\n",
      "\n",
      "#binary = (df[(df < -1).sum(1) > (len(keepers)/2)])*1. > -1\n",
      "binary = df > -3\n",
      "binary = binary[binary.sum(1).isin(range(20, len(two_hit)/2))]\n",
      "df = df[((df.max(1) - df.min(1)) > 2)].ix[:,keepers]\n",
      "real = df[(df.std(1) > .5)]\n",
      "df = pd.concat([df, binary], axis=0).groupby(level=0, axis=0).last()\n",
      "df = df.dropna(1).dropna(1).dropna(0)\n",
      "mir = df"
     ],
     "language": "python",
     "metadata": {},
     "outputs": [],
     "prompt_number": 13
    },
    {
     "cell_type": "code",
     "collapsed": false,
     "input": [
      "r2 = lr_screen(binary, surv)\n",
      "r2.head()"
     ],
     "language": "python",
     "metadata": {},
     "outputs": [
      {
       "html": [
        "<div style=\"max-height:1000px;max-width:1500px;overflow:auto;\">\n",
        "<table border=\"1\" class=\"dataframe\">\n",
        "  <thead>\n",
        "    <tr style=\"text-align: right;\">\n",
        "      <th></th>\n",
        "      <th>chi2</th>\n",
        "      <th>p</th>\n",
        "      <th>q</th>\n",
        "    </tr>\n",
        "  </thead>\n",
        "  <tbody>\n",
        "    <tr>\n",
        "      <th>hsa-mir-552</th>\n",
        "      <td> 17.80</td>\n",
        "      <td> 2.45e-05</td>\n",
        "      <td> 0.01</td>\n",
        "    </tr>\n",
        "    <tr>\n",
        "      <th>hsa-mir-448</th>\n",
        "      <td> 15.95</td>\n",
        "      <td> 6.52e-05</td>\n",
        "      <td> 0.01</td>\n",
        "    </tr>\n",
        "    <tr>\n",
        "      <th>hsa-mir-3664</th>\n",
        "      <td> 12.65</td>\n",
        "      <td> 3.76e-04</td>\n",
        "      <td> 0.03</td>\n",
        "    </tr>\n",
        "    <tr>\n",
        "      <th>hsa-mir-1911</th>\n",
        "      <td> 10.57</td>\n",
        "      <td> 1.15e-03</td>\n",
        "      <td> 0.06</td>\n",
        "    </tr>\n",
        "    <tr>\n",
        "      <th>hsa-mir-3132</th>\n",
        "      <td>  6.52</td>\n",
        "      <td> 1.06e-02</td>\n",
        "      <td> 0.43</td>\n",
        "    </tr>\n",
        "  </tbody>\n",
        "</table>\n",
        "</div>"
       ],
       "output_type": "pyout",
       "prompt_number": 14,
       "text": [
        "               chi2         p     q\n",
        "hsa-mir-552   17.80  2.45e-05  0.01\n",
        "hsa-mir-448   15.95  6.52e-05  0.01\n",
        "hsa-mir-3664  12.65  3.76e-04  0.03\n",
        "hsa-mir-1911  10.57  1.15e-03  0.06\n",
        "hsa-mir-3132   6.52  1.06e-02  0.43"
       ]
      }
     ],
     "prompt_number": 14
    },
    {
     "cell_type": "code",
     "collapsed": false,
     "input": [
      "draw_survival_curves(binary.ix['hsa-mir-448'], surv, show=True, ann='p')"
     ],
     "language": "python",
     "metadata": {},
     "outputs": [
      {
       "html": [
        "<img src='data:image/png;base64,iVBORw0KGgoAAAANSUhEUgAAAZAAAAEsCAIAAABi1XKVAAAACXBIWXMAAAuIAAALiAHljilJAAAgAElEQVR4nO3dd1gU19cH8O/Sl86ygiAiTSUIKBZUQIwi1ogaRWLHrmkmsSeWmFdNYjRq9GfBLtbYiKJiRUUlFjQK2AClSu8LCCw77x+zroiIwC7sLp7P45Nn9s6dO2c2cJhy514OwzAghBBloCLvAAghpLYoYRFClAYlLEKI0qCERQhRGpSwCCFKgxIWIURpUMIihCgNSliEEKVBCYsQojQoYRFClAYlLEKI0qCERQhRGpSwCCFKgxIWIURpUMIihCgNSliEEKVBCYsQojQoYRFClAYlLEKI0qCERQhRGpSwCCFKgxIWIURpUMIihCgNSliEEKVBCYvUE4fD4XA4ycnJShRARkaGvr4+h8Pp379/zeUZGRmTJ09u0aIFj8f77LPPHj16JMvQSX2pyTsAQuqpXbt2ANTU6vAzvHTp0sLCwg+WC4VCHx+fW7dudejQgc/nnz59+s6dO5GRkSYmJtKHTaRBZ1hEWUVFRUVFRTVv3ryW9R89erRt27YuXbp8sDwqKurWrVs9e/aMiIi4cOHCwoULMzIyTp48KbPQSX1RwiJSefjwoZubm66ubteuXe/evcsW3r5929vbm8fj6evrd+/e/dSpU2z5jRs3evXqZWRkpKur6+Licvjw4XcbTEtL43A4ampqR48ebdu2rbGx8cSJE9PS0nx9fY2MjFq2bLlx40a2puSSMC8vj11++PBhnz59FixYUG2oc+fObdu27bRp0z5YXlJSAsDBwUFFRQWvT+Xy8/Ol+aKIbDCE1Av786Otrd25c2dDQ0MAdnZ2DMPk5uayH3v37t23b18NDQ0VFZUbN26kpaXp6+sD6Natm7e3t4qKCofDiY6OrtJsamoq27Kqqmq7du04HA4ATU1NCwsLGxsbdtWjR48kASQlJeXm5rLLjo6OAGbPnv1utBcuXAAQEhKya9cuAP369auhvLS01NbW1sjI6MKFC//991/Hjh3V1dWfPHnSsF8oqQVKWKSe2Byxc+dOhmEePHjAfszOzg4LCwNgYGDw6NEjkUj0v//9b/jw4YcPH75+/Xq/fv2++eYbhmFEIhF72hIYGFilWUnCOn36NMMwc+fOBWBkZFRcXCwSiVq3bg3g4MGDTHUJa+bMmWlpaUVFRVXaFAqFzs7OgwYNYhimcmJ6XznDMFevXq38d3358uUN+mWSWqJLQiIVLy8vAE5OTuzVU3FxsbOzc5s2bfLz8x0cHGxsbB48ePDdd9+NHDnS3d193bp1hoaGAwYMMDExiY6OBiAUCmfMmKH12h9//CFpuW/fvgAsLS0BuLm5cblcDofDfhQKhdUGs2TJElNTU21t7Spt7tmz59GjR2vWrKlS/33l9+7d++yzzwwNDX/55ZfAwEB7e/slS5YcOHBAVl8aqTd6SkikwuYp9hYSW6Kvrx8dHR0UFHTq1Klz584FBAQEBARs2LCha9eu7u7u6urq48aNGzVq1M6dO9mzGKFQWFpaym5bUVEhabny479aPgrU1dVlF6q0efnyZaFQaG9vL6l57tw5R0fHDh06VFver1+/wsLCxYsXL168GIChoeHgwYMDAgJGjx5d5y+IyBQlLCJjp06d+ueff1xdXffs2SMSiZYsWbJixYqTJ08mJyeXl5ePGjVqy5YtZWVlP//8M1t/+/bt27dvl2yelpYmfQxV2ly9enVeXh67nJSU9PDhQz6f7+npaWNjU205WxIdHS0UClVVVR8+fCh9SEQ25H1NSpQV+/OTlJTEflRVVWU/hoWFsY/5evfuPXLkSD6fD2D58uXr168HoKmpOWDAAPZWFIAdO3ZUaVZyD4v9uGHDBgBDhgxhP7JXoOydL0kAkntYhYWFHwy7yr2qassfPHjA5XIB8Pl8KysrtvFDhw5J8W0R2aB7WETGPDw8Tpw40a1bt//++y8oKEhfX//nn39esGDB1KlTJ0+ezOVyo6KihgwZMnPmTACnT5+Wd7zVcHZ2vnbt2sCBAzkcTnZ2dvfu3U+cOOHn5yfvuAg4zOu/VIQQouDoDIsQojQoYRFClAYlLEKI0qCERQhRGpSwCCFKgxIWIURpUMIihCgNSliEEKVBCYsQojQoYRFClAYlLEKI0qCERQhRGpSwCCFKgxIWIURpUMIihCgNSliEEKVBCYsQojQoYRFClAYlLEKI0qCERQhRGpSwCCFKQ0EnUk1OTo6Pj8/IyODxeLa2ti1btpR3RIQQ+VO4hJWUlDR9+vSLFy9aWloaGBgUFBQkJiZ6eHjs37+/efPmdW0tNzf3yJEjDREnIUQmRo4caWhoWMvKCpewpkyZYmdnl5GRITmGgoKC5cuX+/v7h4SE1LW1Y8eO3b9/v3fv3rIOkxAiA5cvX1ZRUZkyZUot6ytcwrp582ZgYGDljKuvr79s2TJzc/P6NdipUydfX18ZRUcIkaX8/Pw61Ve4m+5OTk47duwQiUSSEoZhdu3aZW9vX4/WsrL0srL0JB8f4VEqUquteRmX69E+IaQxKdwZVkBAgK+v7/r1652dnfX09AQCQVRUFJfLPXXqVD1ai4xsefJkR0tLpKRg6lSsyT9ql9fZR83sxg0MGwYVFRgbi2v+hJ/CES7LIyGEyJrCJSxHR8fo6Ojw8PC4uLisrCwej2dnZ+fm5qaiUp+TQZGIU1Ki8fQpjhxBmzY4nQLcxe1cnD6NoiI8foyAAJkfASGkoXAYhpF3DB8WFxcXGhpa+ztzrKjM9O7XvxF8elFDA0IhtLVRLHrFCFXVGPXycnC5KCuDvr64ciEKneEcgpBmaCb7AyCEVGf79u0AlPime7UiIyMXLVpU81Ht3bs3MDCQXb5zZ31ZmWHp99tFK44AKAMACNh1migHAJQA0EJupRbu4Z4NY6PxwLVFid0Jk60tWuDVK+jro17ndoQQ2VOOM6y6+uEH7NqFwvbXK0K8ofWqTtu27JLW1tD0yhUsW4azZzF+PJydYWkJM7MGCpaQj1fTPMOqqz//xJ9/Ii7Oo0/fwPhiKw0NThl7ljV1Gx454IZ75cocDjhapaIwcWFpKXJy3qzdvBl9+2LAAEpYhMhf00xYLFtbNHv1KvG+y7wfVXfuxNCh2Cc4jQw7W1Gnhw/h7o5r1wCAARhuiWSrjAxkpAPAli0oKICk+9f9+wgJwcKFjX8chBAxhUtYhw4det+qL774oq6t6eunA4yKCgwM0LcvzlzoVJZj2aoVoqLQujXu30dpKcQnXxIc8TVyUhIA5Ofj8WPs2IEuXfDsmThhpaYiJQWdO9c1HEKIVBQuYd24cWPLli3GxsZ2dnZVVtUjYZmbR7m5bR8+fEZmJgwN0TZ2UEEhWrSGri66d0dUFI4dw/PnGOCj9iqXX2GUBQA/reB8u6HKnb2sLISEgMNB1644dQpbt+Lvv/HoUf0PkxBSDwqXsDZs2KChoVFUVLRlyxbpW+NwRDY24c7OMzZtAoCePcXlGzeipAQWFmjRAi1awMle3d9o+QzMAKDV8ZFbL1y5Am9v/PsvJG8OMAwYBq6uKC8Xfxw5EmfOIDUVenrV7JoQInMKl7AAjBgx4s6dOw29Fy4X/fq9+agOdcmyigpUVODpCYEAt29DJEJFhXjVxo343//EdbhclJai0ktEhJCGpYhdjLp37/7tt9825h7/+uvNsmXbkuk/FGlqwsgIzZrByQlz5uC332BiIq7AnmpVVOC//yAUonVrfPfdm81zcpCR0ZixE/IRUcSE1fi6dHmz/Mw4fNGATrGCtJkzceIEJk9Gz54YORILF8LQ8E3aAsDe58rMxIYN4PEwZgwAnD2Lw4cB4MIFpKU15kEQ0vRRwhJrhVYqr7+Np3g6GqPZ5S+/xIABsLaGhgaMjbF2Laytofb2lbRIhNxcHDiAv/9+U/jPP0hJaaTgCflIUMIS84LXQRyU3MlKQEKVCt27Y/JkjB6N58/x00+wtUWzZuBw4OHxps433+C33/C//2HkSAgEdHuLEBlTxJvu8jISI/nge8Gr2rUuLnBxES+bm6NNGxQWIjcXp07hxAlMmgSwnU4zAODpUwC4eBFnzsDZGQMG4Kuv8NlnjXEUhDRhdIZVH9Om4cQJ8TKHg4kTMWtWNdVSUuDhgfbtcfUqXr5szAAJaZroDKueNDVx+jQyM8UD1Kxbh8GDkZODsDAIBLh1S9yttLAQDx+Cw0FsrHzjJaQpoIT1FmtYa0CjDGWJSIxFrB2q9ravTF//zXBaALy8AKCsDDk52LwZ/fvj2jXxbSyGwdq14PFgYQEtLQwbBlXVBj0OQpomSlhvsYa1DnTKUCaEcDEWH8TBurbA40FNDZqaMDGBiQmys8U944VCrFqF5s3B4cDVFZaWsg+ekCaP7mG9VzSi67HVgAHw8wOAKVNw/z4KCrB6tXiVtjZu3UKvXsjMhIkJdHTQsiXqPnUZIR8vSljvlY/8G7hR7829vdG8ObS08P334gvAlBT06oWSkg9tSQh5D0pYb8lGtgji3lOJSOyJnmux9jme5741lnLdqKiAxxMvR0Tg+HGsXInCQpSVITcX588DwPDh0kZOyMeAEtZbQhFqBCPJxwpUzMbspVi6H/ulafbkyTd9uPLycPw4Xr2CUIiiIqxbB3V1nD2Lvn1x7pw0OyGk6aOE9ZYRGPEUTydgQid0YksYMLMx+2t8XfOGGchYj/Xs8k/4qcpaBwfMm4evvoK2dtUNGQZCIUpL8egRLlyQwSEQ0oRRwqpKAxq7sfsu7kpKXuHD01gUoegWbrHL704ira+PL77Axo148QKdOmHCBGhrQ00NWlrgcABAJEJREYKCYGuLe/dkdiyENDHUreHD7uCO4PUkYe+ThrQ0pF3ERQD5yGcXALRDOzO8mb7CxATdumHiRJw5A5EImprw9MSVKygrQ14eiouhp4dff0WrVm+eLRJCJChhVaMc5QIIOOAwYAB8i9oOzhWKUHbBG97sQiu0uoZrlnjT7YrLFZ9blZeDw8HNm2/ekS4rQ3Y2TpyAqipyczFlCtq3h4ZG1cEhCPlo0SVhNSIRORIj9SCDkY8TkDAKoyqX/PEH2rdHYiJyc5GTg9hYjBv3VkricKChgdBQhITg669x6pT0URDSRCji3+6ysjJVVVVVVdXCwsJr165VVFR4enoaGho2WgAd0fECLuQhbyRG3sRNPviq+MCrNEIIc5BjAhMAKUhpgRbFKE5DGoCau0RoasLBAcbGKCxEcTEACIUQCFBSgkePkJ2NiAgMGyazQyNEqSlcwjp79qyvr6+BgcHx48d9fX2NjY1FIlFqaurZs2c7derUmJEYwvA8zg/H8A3YYA7zmiu/wIuf8NMBHADQHd3DEX4WZwdi4If3Yog5c3D2LEJD3yqvqMDRowCQkAAvL/ToQReGhChewpo/f/7KlSt1dHS6d+++a9euCRMmANi4ceOsWbOuX78u7+gaSnAwdu/GyZMIDUV5+Vsj/8XH49tv0bs3dHWxYAHN0EM+agqXsJ49ezZ69Ghtbe2pU6eOGiW++zN69OgFCxbIJZ6lWGoM4w9Wa47mP+JHdvkv/FV5VQEKjuCI5ONADNSBTpXNuVzMnImnT5GQgFatxFNSv3oFkQgiEeLioK4ODgfDhtHsreSjpnAJq2XLlleuXNHW1mYYJjQ0tF+/fgBCQ0Nbt24tl3ic4VybalxwHeHILndBl8qrUpAyEiMlHz3heRqndaH7biPr1iE4GFu24JNP0K8fTE3F4wKWlKB5c5w5A4EA+fkwMKj30RCi3BQuYS1ZssTPz09bW/vQoUPjx4/38PAQCoWXL18+duyYvEOrGyc4WcAiGclVyq/h2kqsXImV1W7l7Izx41FYiOfP8ckn0NFBUREAXLmCtDT88gvi4/Hjj3B1hYZGQx8BIQpH4RLWuHHjevXqpa2tzePxXF1dT58+XVFR8eeff9ra2so7tLqxgMUlXJqESZKO8klIykAGgFKUvm8rS0vxUFk5OeBy0bEjbt1CWRlKSvDrr+KJxZYuxeTJ0NBARga+/LIRDoUQRaFwCQuAhYUFu2Btbf31118DiIuL2759+5QpU2rYKiIiIiIiokphTExMixYtGijOD2qDNtfx5kHBLMyqcnurBjweYmIwbBjKynDrFgD89Rd4PKiqwswMYWFQV0dCAiUs8nFRxIT1rsjIyEWLFtWcsLS0tIyMjKoUaijzhVNsLNLT0aED7t9HWRkA5OQAQFYWXryAvv5bs7oS8jFQjoQ1dOjQoUOH1lynXbt27dq1q1IYHBzcYEHV30M8DEDA+9ZqQ3s0RqtAZcAADBiAsjK0bIn/+z+UlYkvCRkGhYUoLERKCrp0wY8/Us9S8rFQ0ISVnJwcHx+fkZHB4/FsbW1btmwp74hk6SIuSt6OrtZlXN6O7exM1Boa+OknnDoFPh9hYSgoeKvm3bsYMQKGhhgxAhoaKCzEli3Q0mrQ8AmRG4V7lzApKWngwIE2Njb+/v4rVqyYOnWqnZ2dl5dXWlqavEOTlg98tFCrXLILu87ibOUSDgfBwRgzBl5esLERD0rDUldHYiIsLHD9urjfKYA9e+DkhLAwWcZPiNwp3BnWlClT7OzsMjIyJC8PFhQULF++3N/fP0TJJ2zwgtdRHF2HdTXU+Rf/skPZCCGsXM6+pmNkBDMzvHqFvn3BMAgMRHExSkthYIBBg1BSgrIypKTA3h5paUhLw44dKC9H794NeVSENCKFS1g3b94MDAys/Kqzvr7+smXLzM0/8DafUhiEQYMwqIYKHdDhAR68W84+6hyz4tFwDO82/+olgzPpSRoczmh2bUUFTp4U1+zeHWvXIjISpaWIixPPeVFejuhodOggy2MhpPEpXMJycnLasWPH/PnzVVTEl6sMw+zatcve3l6+gSmCClS8wqvZc0UmBaUoY7p6w98fhYVv1cnLw8SJ4uXr1/Hll5g8Ga1a4cgRKOQTCELqQOESVkBAgK+v7/r1652dnfX09AQCQVRUFJfLPfWRjQu1F3vDEV6lMBOZucjdyl8Rw49RhaqjvVrB5+M6dUL37ti5E2VlqKio2k5iIlauBJ8PHg/FxdUMKk+IElG4hOXo6BgdHR0eHh4XF5eVlcXj8ezs7Nzc3CQnXE1VHOLu4V4e8tiPx3H8fTU3YiO7cAZnLuOyoP+gFSu8TU0Njh9Hdja6dkV0NLKzkZUlHvWBw0FJCeLjkZ1NCYsoN4VLWABUVFTc3d3d3d3lHUijKkDBczx3gUsiEtmhmWtjD/Z4922di86AAQAOBzt3Qk8Pv/+OFSvEV4uvXuHVKwDo3BkWFtDVxaRJmDChoQ6EkIajiAnr4+QCFxe4ANiP/T/gh6GopqNsDnLO4dwQDHmGZ7dxGwADJrjnXHWoDxkCGxuUloLLFVfW1ASfjxcv3myekYEuXfDZZ/jkE6SkQF+fRtciSoYSlsIZgzEbsXErtr67KhKRd3H3D/yxB3vYhCXh7AznSgPhTJgAZ2dcvQpjY7i4YMcOHDoEAJGR6NgRe/agVy94e6NXr4Y9FkJkixJW09S8Odg3ewBUVODGDXF5YiKWL4e5OeLjERGBrl3prhZRJk38TraSOo/z1ZY7wOEWbpnApPKIgB9UUQGRCHy++CPD4OVLhITg1Cnk5UkfLCGNhxKWInrfDGOqUDWBiQpUNPBmFIp7uBeBiAhElKO82q00NLBsGfbtg709VFUBgGGQm4tr1+DggC5d8OWXyM5GWBgOHUL37sitaZYfQuSJEpbS64ZundG5MzqPxdgKvNMR6zUXF+zahQED3rrRnp+Pu3exeTPGjkVKCuLjERmJO3dw/z4cHbF5c2PET0jtUcJSSvrQt4BFlcK/8fdyLH/fJiYm6NYNHh5YtQo2NnB0fGttSAhWrUJsLIRC8dg1aWl4+bIhYiek/ihhKSU96F3BlbZoawQjIxhJBoFIR3rNG86ahcmTYWKCwYMxd+5bA8Pfv48dO1BaikWL8McfKCpCWBj27XtrzjFC5IsSlrKyhe0TPMlBTg5yZmFWLbfS0oK6OuztYW6OkSORlYVx42Bq+ladJ08QHIxXr3D1KsaNg60tlixBdjYARETg5k08eoQnT8SVr1/H3bsAUF6OuDgASE1Ffj6KinDlirjOo0e4WNPwX4TUFnVr+Bjt2vVmee9e5OXBzw+3b6OoSDycVmXx8Vi1Cu3bY/hwjB8PLS1YWiItDeHhAODvDx0dPHiAzEzMm4djx7BtGzp3RrNmGDUKqakA8MsvCA9HQkJjHR5puugMi8DQEOfOYft2/PIL1NXh7IxOnaCuDisr8UiBpaUICBAP0CyNkhKUl0MoFA96Q0hd0RkWeYuaGpYuBZ+Pzz/H2LH45BOMHQuGwfnz8PREQgJUVJCUhLIyeHsDQGoqVFTg7Y3SUjx9Cm9vPH+OEyegoYGcHHGdyEjk52PDBmRmokcP6Ojg2DGsWSPfAyVKiRJWk7If+6/gyh7sqTL7dG306IFOnfDvv2/1exg9GqdP48ABALj+esYy9p3qyrelJMtV7lVV/vjtt1BTw9q1GDECPF5doyMEoEvCpkEb4vdrClDwGI+94R2JyLo2YmICKyvs3AkPD7i64vx5fP89APz6K7rUOfu9l7ExHj1CcDDGjUNGxpvyQ4ewcycAXLmCefNgaIivvoKuLgLeO7sQ+RjRGVZTsBALIxBxEuJhkvORfx/3neBUj6Yk5z4dO4oXLC1x/Tr27YNQiGXLoKoKY2MUFGD+fABYtAiamli8GHl5OHQIM2YgOBhWVtDVxf/+hz/+QGkpVq1CcjIACIVISBDffX/2DCEhsLFBy5ZwcUGLFigtBYDycrx6Jb7PVVEhHhiHEJYiJqyioiIVFRUul5uZmXn16lV1dXVPT893J0klEupQP4RDN3DjB/xQj3OrD9LQwKRJALB+/ZunhNOmAcCqVdDRwbRpePkSt25h2jSkpYmfEu7ahWnTUFKCQ4eQm4uioqrNZmUhKwu3b+PYMXTsCD4fCQmIj0dMDMrKEBGB8nLx8DjbtsHfH+rq2LQJgHi+6507MXo0zWn2cVG4hBUSEjJy5MgbN24UFxf379+/VatWHA4nOTk5ODi4a9eu8o5OcXHB7YM+RmjYtG5rC4aBhQUkk4RYWEBfHwDU1WFjAwDm5jAwgI4OLCwAgMuFqyuEQsydiy1bYGUFDQ3cu/dmOmvWvXsAcL7SS98PHwLA+vXYsQMiEW7dwu+/IzAQeJ2w/v4bw4cjPBw9e+LaNRQVITERM2cCQEYG0tPhVJ9TTKLQFC5hffvtt2vWrHFycurdu/cvv/zyzTffANiyZcusWbP+/fdfeUf3sZPMzSMh6R3arBn++AMApkwRl9y5I15Yu1a88PCh+Ckhl4v/+z9cuoQ7d5CWhkeP3rtHdpprDgfXr+O//8SXjc+fAxCP+7xwIcLCsHYtBAJER4sTVnQ0LlyghNUEKVzCyszMHDJkCICXL18OYMdzAnx9fefOnSvXuIgMGBmBy4WWFng8eHuLOz0wDH7/HefOQSiEgwOSk5GYiCdPYGuLZ8/Enb8YBk+fok8fcTu2tuKFDh2gooILF2raafv2SEtDejoAfP01Jk5Ep04NdYCkodUzYTVv3vx9q6ScorlPnz5//vnn8uXLBw0adOTIkYULFwLYv3+/c+XxNMmH3MO98Rgv7yiqYh87otIdfQAcDhYsgJkZiosxcyYuXMCpU3jxAtbWePYMGhooL6+pz6pIhM8+A4cDVVVUVIgfGgiFKC9HYiL27Kla/88/4ecHHx/ZHhlpJPVMWFckVwKytmXLluHDh7ds2dLBweHy5cuHDh0CkJube+bMmQbaY5O0HutNYPIjfpR3IPVnZgZNTfz+O1xc0KtXNTOYSTAMGEb8knblwbz278fZs+IryunTAeDGDaSmws4O3bqhpAStWolrpqaieXNxt36iyDiM9C9cvCYSiaZMmbKT7U4jncjIyMjIyPT0dB0dHSsrq969e6up1Se3TpgwAcCed//ONlH/4J+RGFkG8d3s2s++o+C8vHDqFLS10b07AFy9iqIi8buNU6dCKKxba61bg8dDaipiYsTjVfTujdOn38zfQRrN9u3bAUyR3Pj8EKnuYQUHB8+ZMyfv9Ti7paWl1tbW0jQo4eTk5FTplmlcXFxoaGjNR1VSUvLqnU47ZWVl6urqMglJKQzBkAM4MAIj5B1Iw9LQEP8bNgxbtmD9esyfj5ISxMaKnzMeOoRNm1BcXP3mMTEwNYWGRvVnbRERyMxEdDRmzxaXZGXhn38weXLDHAypC6kS1g8//DB58mQ+n3/lypX58+evWLFi9OjRsoqsssjIyEWLFtWcsIKDg48cOVKl8M6dO+3atWuIkBRWJzTBW8rffy8+FWJ7q7K+/RZcLjQ00LEjDAygqgp1dfEN9YICANDWRmkpdu1CXh44HIhEb8aiSE8HhwMjI7i6onlzREdj7FhMm4Z+/RAXh/h4nD37JmEVFODyZUpYioGRgoaGRm5ubmlpqaenJ8MwhYWFLi4u0jQoc+PHjx8/fry8o2hUL5gXYMD+Y0uKmKLlzHL5RtVwVq1ihEJm7Vrm558ZPz9x4ZMnzPHj4mVnZ8bEhGEYJj6esbRkOJzX3847/1RVmSFDGB8fZt48pmtXJi5O/O/KFcbHh4mLY/btY7Zte2vvp04xbdtWDensWWbNmjcfhw1jCgvfG/+33zKPHjEMw5SXMwMGiAuvXmX+7/8YDw+mf3/G1ZVJSannl6P4tm3btq3Kd1ojqc6wWrVqde3aNR8fn+Li4vT0dG1t7ReV5+2UQnJycnx8fEZGBo/Hs7W1bdmypUya/TiVozwMYfKOoqGw3V2+++6twrZt0bateFlXV9wb3sAADg7Iz0d5efVXixUV+Ocf4HV3M0nnCdbJk7CywowZbxWWlVUzVE55+VuFAkFNTzmLi99cmbJvleP1+0kCAVRUUFJCg76+IVXCWrp06fDhw589ezZ06FAPDw9tbQBqAtAAACAASURBVG1PT08pA0pKSpo+ffrFixctLS0NDAwKCgoSExM9PDz2799fQ18KUq2LuAigCEXZyGaXq8UBpyd6qilepzyZkMzJaGiIs2fh4IC+ffHvv3j5EosWiVf9+isSEj484Fd8PJYswZUraN9eXPLsGfLysGDBW9ViY5GZ+Sb7xMRg6dK3RqOu7M4drF2LZs0gEiE+XtwU+8bly5fIzsarV/j1V+jp4eJFuLqiWTPk5uKvv95qJCMDP/8sfm+pTjZsgJMTPv20zhvKi1Q/o1988UXfvn319fUXLFjg4OCQk5MzatQoKQOaMmWKnZ1dRkaG4eu3PwoKCpYvX+7v7x8SEiJl4x8bb3hXu/yuERhxAAfU0fQfUMyejfbtkZ2N0lLx65AADh3Cjz9iwQIwDMrKxHe7JMPslJaitFR8HlRWhpAQVPlJ/P33anZ07dqbZUlf/2o9ePCBpthMxOGgrAyffvrWKBcsoVDcM7aucnPf+2hCMUl7SThmzJgxY8Y4OzsPGzZMJgHdvHkzMDBQkq0A6OvrL1u2zNzcXCbtN3l88O1h/wRPPly1kqM42gVd5mFeA0WlONh7582aofL5upkZxo3D1KkA8Pff4pvuoaHitYsXIygI6enIzGz0cCthu/vr6qKoqGpeKyjAs2fVJ7uaXb+O9HT07w8VFZw+jdRU1LqDgXxIlbD27Nlz9OhRb29vU1PTcePGjRo1ysKi6txTdeXk5LRjx4758+erqIjH6mIYZteuXfb29lK2/JHQhe4lXPocn2dC/Oslgigd6WYwq7Z+JjILUQigCO8Mp9B0/fnnWx/376+p8sSJeP4cf/6JsWNRUoLKj51fvEB4OKo8G09IQE4OXFzEH8+cgbc33te75to1ODqCx4NIhOBgcRf8lBS8fInERKiqQiCArq74rKqsTDyUPvtmeBVVrkxr6cIFxMVh9mxs2oSCgiadsLy8vLy8vDZu3Hjjxo2jR49269atTZs2ly9flqbNgIAAX1/f9evXOzs76+npCQSCqKgoLpd76tQpaZr9qJjD/F+8eVE8H/l+8AtB9RfUkzF5J2TQ17fJ6NwZbdvik0/elPD5mDwZpqaYMAF5efj66zerjh/H06fYuvWtFk6dwsOH+Okn8ce+fbF+/VvjuFY2dSpmzYKjI4RCPHkiburSJYSG4vRpiER4/hwcDlRUGvDW+7lz0NFBQgK4XBQXQ1u7oXYkPRncZ83JyYmLi0tKSipge79Ix9HRMTo6Ojw8PC4uLisri8fj2dnZubm5SU64CGlQ7CA5ktvqAPT10bu3fIIxNIS1Nc6cQUkJOneGgQE0NVFaim7d3qpWUoL79+HmVuf2T54UD4Bx/Li4pEULXLr01sueikWaPhR//PGHh4eHhoaGt7f31q1b09PTpWmtIXyE/bDeVc6U32PuvW/tJGYS2w9pCbOkcvmvzK9PmCcNHx2pLQcHxs+P+eabN93NJFJSmM8/r0+bFhbV9EfjcBgjI+aPP6QP+cMatR/W5cuXJ06cGBQUZGxsLKsESmRODWoucPlwvbclIrEYSvUAidTd6NE4cgRVek8yDIYNQ1bWWzfF2rWDnh6GDsU//6B7d8TG1ueETnpSJSwaQaEpeYRHR/Dm3aY4xF3AhVjEvlvTFrYdobDXDE3W9etQVYWqajWrmjevZiCd2li2DEuWiId+nTULBw6Ie29UO4KBpSWGDMHvv2PdOhw+rFQJy8rKau3atd9LxjeqJD4+XqqIiJwcxdGjOFq55DzOV1tTE5rHcGwQBjVKXESshlkNVFSgq1ufNtl3AHR0AEBTExYWNU3QnZgo/z739UxYwcHBFhYWp0+fVq024RPl0Rd9d2O3CHX4SSxF6ef4vBjFqqD/+03H0KHo2hUlJYiKeqtcIBBPTAmAHeSpa1eYm2P58vc++mw49UxYjo6O7H8lHUdlGhVpPH7wK0LRJlR9rSMRiXzwJTMesspQxs7KU4ayJjPYFmENqu6Med067N4NDqfqe0svX8LICKamMDPDvHkYObJxYlS8jqOk8U3CpEmYVKXwS3w5FVOr3K1PRnJL0IvoH5HvvsN33+HqVQwcWPUlHgMDhIaiTZtGjUeqzk1eXl6bN29++fLlxo0bk5KSunXr1lte/VUIIQ2mZ0+8eAEXF8TGvhkGIycHnTrh5k1cuIAtW6rZ6n3l0pBBb0zZdhwlCmIBFrRF2w/XIx8HExNoasLGBrq6b6YHFwgwYAAKCvB61OG3FBVVXy4NqS4JV69e/c8//9y+fbtnz54jRozYunWriYmJrCIj8mUJS3mHQBTLuHEAMGkSPvkEEyYgKQkACgpw4gSys6uZwiM6GiIRGEaWs3tIlbDOnz/v7+9PHUcJ+RiwE26z/711C5LxU9hXx983+JOGBtj5RXv2hPTnM1JdEt6+fdvZ2ZmyFSEfm2bNUMuuAYmJeP4cz58jK0sG+5XqDOu333779ddft23bRjnrIzQKozio/lx/KIaORoNMR0IUhJoa7tzBnDlIS0NKCgoL8e74TykpUFPDiROy7K4lVcLauHFjQkICn8/n8XiS2bSknPmZKLLKGapKt/jKjuHYK7x6t6sEaUo0NMQjNQcF4cmTakbjYstl27lUqoQVFBQkqziIUmiBFsuwbCmW1lxNBNFWbKWERWROqoTVxLqJikSi/Px8eUehKLS0tLjVTYW8BEssYZmO6ocQf4iHB3Cg2lWkqRo0CP3716FcGlIlrCo/0Kqqqnw+X+aXhKtWrZoxY4a+vr5sm33Xhg0bjh49amZW/VDCH5unT58+qDw7QiX+8H/fVn/jb0pYHxt19eoHgH5fuTSkSljlryfSZRgmKSlp2bJlA9gHmFL477//qpSsXLmyffv2pqamHTp0kLLxmhUUFCxYsGBQta9UfXy6d+8u7xAIqUqqhKWm9mZzGxubTZs2ubi4fPHFF9K0OXDgwNTU1GbNmknGRM7Pzx87dqyqqirdzifkIyfLgdJv376d8e6UaXUUGRnp5+fn5OR069attLS0tLQ0Y2Pj+/fvU7YihEh1hlV56i2hUBgXF/eTZKqQ+jI2Nj506NDhw4c//fTTxYsXT5w4UcoGCSFNhlQJ69ChQ5U/GhkZtWrVSrp4xPz8/Dw9PadMmXL8+PFSdloPQshHr/6XhM+ePcvIyOjQoYOzs3NQUNBPP/105swZhpHZoG5mZmbBwcHDhg0bNGhQtc/XiSK7jdsccDjgaEErGMHyDoc0EfVMWOfOnevUqVNoaCiAQ4cO7d2719XV9bfffluzZo0Mg+NwOJMnTz506FBeXt727dtl2DJpIKYwrfK+TilKh2N45YldCam3el4SLl26dNOmTePGjQOwZs2azZs39+vXr127dkuWLJkzZ45MIwSAyMjIRYsWTalxFu29e/cGBgZWKYyOjnZxqfMMV6TeeqLndmyfiqmVB4kvQ1ksYruhWw0bElIb9UxY0dHRn332GYDc3NykpCRvb28AnTt3bqApc4YOHTp06NCa67BzplYpnDBhQkPEQ2owCZP6oI8QQgB+8LuLu/KOiDQd9UxYGhoaqampRkZGFy9e7NGjB9tnSiAQyGoAv+Tk5Pj4+IyMDB6PZ2tr27IljSOuTCSD/2lBS76RkCamnvew3N3dN2/eHB8fv3btWh8fHwAMw2zdurVr165SBpSUlDRw4EAbGxt/f/8VK1ZMnTrVzs7Oy8vrY+uHZWVlxXnb9evXJWsHDBjA4XCePXsmKeFwOE+ePKnSyLNnz4YOHcrn8/X09Lp3737+/Pn3Nb5u3bpGOChCpFTPhLV69eqQkBBra2uRSDRmzJiSkpIOHTocPnxY+pvuU6ZMsba2zsjIiI2NjYiIiImJyczM7NSpk7+/v5QtK50jR47kVtKtm/geUHp6emhoqLu7+4EDNb21xzDMoEGDWrRoceXKlYSEhJkzZ44YMSImJqbaxmfOnNngx0OI1Op5SdimTZtnz55lZWUZGxurqKgwDLNo0SJvb29DQ0MpA7p582ZgYGDldvT19ZctW2YuGZD1o6Grq1vt93nw4MG+ffuOHz9+4cKFS5cu5bxnxOysrKzY2NgLFy5YWVkBGD9+/OPHj1+8eNG6desaGidEkdW/4yiHw2nWrBm7rK6u7uvrK5OAnJycduzYMX/+fMm7hAzD7Nq1y/7dAQ0b3fLl2LsXFRVSNcLlYvFi+PnVv4V9+/YtWrSoX79+kyZNunv3bpcuXaqtZmxs7OrqOmbMmO+//75Pnz6Ghoa//vpr/fdKiAKQqqd7QwgICPD19V2/fr2zs7Oenp5AIIiKiuJyuadOnZJ3aNi0CampMmgnMLBWCWv48OGScVxHjhwZEBAA4PHjx0lJSYMGDVJXVx8+fPj+/fvfl7BUVFRu3Lixf//+AwcOfPnll5aWlrNnz/bz82P/ElRuHEBwcLCHh4f0h/Y+t3FbE5rsshvcWqBFw+2LNGEKl7AcHR2jo6PDw8Pj4uKysrJ4PJ6dnZ2bm5vkhEuOgoIQGiptI6qq+PzzWtXctGlTz5492WUdHR12Yd++fbm5uexj06KiIh0dndWrV1ceNkOivLxcKBROmDBhwoQJIpHo/PnzX3755dOnT3/++ecqjQNo3ry5VEf1IRuwYQM2sMt2sLuCK5SzSD0oXMICoKKi4u7u7u7uLu9AqnJ1hatr4+3O1NSUvf0kIRKJ9u3bd+DAAfZsqKKiwtHRMTQ0lO0HV0VQUNCKFSvu37/P4XBUVFT69+8/YcKE27dvv6/xhtATPa/jepXCWMTOwIxTkP8pM1E6ipiwyPtcv35dIBAMGTJEcjXn4+Ozf/9+NmEVFBTkvZ5pV11dvU+fPl999dWsWbOmT5+uo6Nz9+7dnTt3zp8/n60gEAjyKk3Lq66uLjmJk6HlWA4gBOIp67KRHY94AEUokvm+yMdA/tdZpPb27dtXOVsBGD58+PHjx0tKSgB07drV6LXJkycbGRndu3cvLS1t4MCBDg4OS5Ys+frrryXdF3x9fY0qmTx5cgPFvBzL7+Iu+28JljTQXshHgs6wFFS1Lzmx990r8/HxKSgoAFDtOBkWFhZ///13LRsnRPHRGRYhRGlQwiKEKA1KWIQQpUEJixCiNOimO5GDaESPxMi6bmUK09VYLekxTz5ClLAUUZ8+fS5dulSlcPPmzTNmzLC3t3/69ClboqGh4eDgsHr1ai8vLwCGhoYhISGSQR3S0tLMzMxyc3MNDQ2trKwSEhIqt7Z27drvvvuu4Q+lehnIOIIj9dgwEYlHcVQdsp5QmCgJuiRUREFBQeyoL56enr///ju7LJnxbPfu3WzJgwcPevToMWLECKFQ+ME2FWE8mZEY2Ru9pWnhJE4+xVNZxUOUDp1hKSJdXV12QV1dXVtbu8o4MDo6OmyJoaHhDz/8sGHDhry8PD6f/8E25T6ejA50ghC0FVsrUOchL5ZgSRnKGiIqokQoYdXBcizfi731+GWrjAvuYiz2gxTjy7wmEomOHz/u6ur6wWylOPSgNwf1maZkOZZTwiKUsOpgEzalQgbjywQiUJqENX78eHYCoeLiYi6X+99//9Vmq0YeT4aQhkAJqw6CEBQKaceXUYXq56jd+DLvsXr16oEDBwIoKSlZvHjx7Nmzjx8//sGtGnk8GUIaAiWsOnCFqysacXyZ9zAxMZGMDPPVV19JbsbzeLz09HRJtdTUVE1NTckYDI0znoziSEZyGtI6o7O8AyGyRAlLuZmYmCQlJVVUVKiqqg4fPnz+/Pm6uroODg7Pnz//4YcfKl8GNs54MorjER7dwA1KWE2MInZrSExMPHz4cEREhKSkqKjo6NGjcgxJYdna2nI4nDNnzgBYsWLFF198MW3aNGtr67Fjx3p6em7dulVSs9HGkyGk4SjcGdbZs2d9fX3btm375MmT+fPnL1myBEBmZqavr2+1I6g0bRcvXqxSUmXyQS0tLUknLA0NjZ9//pkdAbmKpjSejBOcal/5F/xSbbkLXC7hkhGMZBQUaSQKd4Y1d+7cbdu2RUREJCQk7Nu378SJE/KOiCgE2SaX+7jfH/1l2CBpHAqXsF68eDFo0CAAfD5/9+7dc+bMYYfTJB+5S7hkAQsZNngP92TYGmkcCndJ2K5du4MHD06fPh2Am5tb7969v/322x9//FHecRE5a43WD/EwF7m1rB+GsAhEfIeq70smIEHK14OIHClcwlq3bl3fvn3XrFkTGhraokWLP//8c+DAgb17008YgRGMan9hGItYIxjZwKZKuQgiWcdFGo/CJSw3N7f4+PibN2/q6ekB0NPTCw0NPX369J07d+QdGlEmFrDohE7yjoLImMIlLAB8Pt/Hx0fyUU1NzdHRMTMzs+atIiIiKveEYMXExLRoQRN2fowc4OAAB3lHQWRM4W66VysyMnLRokU119HS0jJ6h4aGRuNESAhpBIp4hvWuoUOHDh06tOY67dq1a9euXZXC4ODgBguKENLYFDRhJScnx8fHZ2Rk8Hg8W1vbli1bNs5+BQJBbm5tn0M1bRUVUo2iQ0hDULiElZSUNH369IsXL1paWhoYGBQUFCQmJnp4eOzfv7+hBxhwc3PbunXrsWPHGnQvyqLy0A6EKAiFS1hTpkyxs7PLyMiQDI9ZUFCwfPlyf3//kJCQBt21l5cXOzg6IUQxKVzCunnzZmBgYOXBfPX19ZctW2Zubi7HqEiTVPtuqHWlBz01xfvlagIU7jt1cnLasWPH/PnzVVTETzAZhtm1a5e9vb18AyNNjBBCHngN1Pin+DQYwTpoygP4yIXCJayAgABfX9/169c7Ozvr6ekJBIKoqCgul3vq1Cl5h0aaAgMYGMIwD3kfriqFK7gyBmOCENSge/kIKVzCcnR0jI6ODg8Pj4uLy8rK4vF4dnZ2bm5ukhMuQqTRDM1CEeoFrxzkNOiO4hHfoO1/nBQuYQFQUVFxd3d3d3eXdyCkaeqADolIbKA5eM7i7BiMaYiWCRQzYRHS0HSg00A3mOi+VYOi6yxCiNKghEUIURqUsAghSoMSFiFEaVDCIoQoDUpYhBClQQmLEKI0qB8WIQ2iDGXP8VzeUbzBBdcMZvKOQlqUsAhpEI/x2Ba28o7iDTWo7cM+P/jJOxCp0CUhIbJkDWsuuPKOohpCCMdgjLJPH0tnWITIkjOcT+HUGIxpoHcV66cABRWoqEBFJj4w+5SCo4RFiIx5wSsNafKO4i32sH+Kp/KOQgbokpAQojQoYRFClIaCXhLKa5ovQogiU7iEJcdpvgghCk7hLgmnTJlibW2dkZERGxsbERERExOTmZnZqVMnf3//Ro7kyZMnjZMiQ0JCPDw8GqLlnJyckSNH8ng8e3v7c+fOVVnr4+PDeU1XV7eWbUZHR3t4eOjr6/fr1y8pKUmapgipK4VLWDdv3ly6dOm703zdunVLjlEpqc8//9zKyurx48fff/+9r69vcXFx5bVxcXHHjx+PiYmJiYl58OBBbRoUiUQjRowYOHBgTEyMra3t9OnT690UIfWgcAmLneZLJBJJShRhmq/z5887Ozvr6up6enpGRUWxhUePHm3Tpk3z5s1Xr15tb2+fnJwcGxvr6Oi4detWIyMjoVB44MCBtm3bamlp2dvbBwcHA4iPj7e3t9+5c2fr1q35fP5ff/1VeS/p6elt27bdsmWLpOTo0aOjRo36+uuvjY2N27Vr9+5ZUg2ioqKePn26cuVKU1PT6dOn37hxg8PhSNYyDPP8+fOePXva2dnZ2dnZ2or7ZN+9e7d79+46OjpdunR5949EeHh4Tk7OggULTE1NV65cefHixeTk5Pc1RYjMKVzCCggI2Lt3r7m5ed++fYcPH96vXz8LC4s///xz586d8gopOTl5+PDhS5YsSUlJGTRokI+PT1lZ2bNnzyZPnrxp06bo6OgHDx7ExMSwlRMSEs6dO3fu3LmcnJwJEyb88ccfaWlpEydOnDNnjqTCo0ePoqKi/vrrrx9++EFy1pOXl9e/f//JkyfPmDGj8t6PHj1qYmLy9OnTuXPnfv755+np6bUM++HDhw4ODvPnz7e3t/fy8iopKeFy3/TATk1NFYlEM2fOtLGx6d+/f0REBID8/PwBAwbMmDEjNTV10qRJgwYNys/Pr9xmXFxc+/bt2RmMDA0NLS0t4+Pjq22KkIagcAmLnebr2LFjY8eOdXd3HzVq1OHDh589e/bJJ5/IK6STJ0/26tVrxIgRBgYGc+fOraiouH379sGDB319ffv06WNsbPzbb79JTgkFAkFAQICrq6uBgcGzZ898fHy0tbWbNWuWlyeeCK+0tPTnn3/W1NT84osv1NXVCwoKABQXFw8ePFhLS2vevHlV9m5ubr5o0SI+n+/v7+/m5lb7+RnT09MvX75sbGx86tSpIUOG9O/fPysrS7I2LS2tdevWvr6+586d69atm7e3d1ZWVnBwsJOT04QJE/T19WfOnGlpafnw4cPKbWZlZenp6Uk+GhgYZGRkVNtUHb9jQmpF4Z4SorppvuLi4kJDQ6dMmVLDViUlJa9evapSWFZWpq6uLmU8L1++tLGxkcRmZWWVkpKSlJRkZWXFFpqbm6uqqrLLPB6Pz+cDUFNTO3jwYFBQEJfLrdwtw8jIiL0traKiItnq/v3733zzze7du2/cuFFlfjNra2vJnIxt2rRJSUmRrDp8+PCsWbMqV/7ss8+2b9/OLuvo6Dg7O//4448AWrduvWPHjqtXrw4fPpxd27FjR8m17dKlS48cOXLlypWkpKTbt29LjksgEKSnp2/fvn3BggUAvvzySxsbG4FAINldQUEBj8ertqkRI0bU4SsmpHYUMWG9KzIyctGiRTUnrODg4CNHjlQpfPr0aa9evaTcu5mZ2fnz59llkUiUkJBgbm7eokWLhIQEtjA1NbWiooJdluTHkydP7tq1KywsrHnz5lFRURcvXmTLK99IknBxcVm/fr25ufk333xz584dSSID8OLFC5FIxOas2NjY9u3bS1b5+fn5+b335XtJ3mGpqqqqqb353x0REZGTk+Pt7c2GxOVyNTQ0zM3NXV1dL1++zNaJjIy0srLS09OTfPNhYWHR0dEMw3A4HLbHiY2NTbVN1fiNksZmDGN2gQ++fCORFtOkbdu2bdu2bfXb9vHjx6ampgzDJCYm6ujoHDt2LD8/f+XKlVZWVq9evYqMjNTX17906VJOTo6/vz+Hw0lKSoqJiWE3YXfdvn37wsJCgUAwatQoQ0PDioqKFy9eGBsbS3aho6OTmpp69uxZd3d3hmFKSkpsbGy2bt0qqcCm4P/7v//LysravXu3trb2y5cvJWsPHDhg/DZ/f3/J2rKyMgsLi/Xr12dnZ2/dupXP5+fk5DAMc+LEidjY2Fu3bnG53DNnzuTk5AQEBJiamubm5mZmZvL5/MOHD+fm5m7btk1PTy8vL6/yd1JRUWFjY7Np06aSkpJ58+b17t2bYZhqm6rfd04ayGXmsivj+hXzlYgRyTuWt9T1N1RBE1ZSUlJYWNixY8dCQ0MTExPr3Y5MEhbDMGfOnGnXrp2Ojo6Hh8fDhw/Zwn379rVq1crCwiIwMFBdXT03N7dywhIIBIMHDzY0NOzQocPJkyddXFz8/f1rTlgMwwQFBRkbG2dnZ7Mfjxw50rNnz0mTJhkYGHzyySdnz56t0yFERka6ubmxj/z+/fdfttDU1JT9Tvbu3evg4KCjo9OjR4+IiAh27bVr1zp27Mjlcjt06BAaGvpum9HR0V27djUwMPD29pZkz2qbIuSD6vobymEYRt4neW+RbU939oZOzdeS9RMTExMfH89eB2VlZZmZmZWVlVV7uSeNo0ePbt++PSQkRLbNEqIg6vobqnBPCRWnp3vNBAKBr69vQkKCUChctWrVoEGDZJ6tCCFVKNxN95s3bwYGBr7b093c3FyOUb3LxcVlxYoVPXr0KC8v79Sp0+bNm+UdESFNn8JdErq5uQ0ePHj+/PmSZ/kMw2zevDkwMDA8PLyurW3fvn3Hjh12dnayDpMQ8mEdO3bU0dGpocL169c9PT1rf0mocGdYAQEBvr6+69evd3Z21tPTEwgEUVFRXC639h0mq9DT02vWrJlsg2xQhw4d+uKLL+QdRR28fPkyNjbW09NT3oHUQUhISLdu3SqfyCu4srKy4ODgzz//XN6B1MHt27eNjIx69OhRQ53BgwfXqeORwp1hARCJROHh4XFxcVlZWTwez87Ozs3NTXLCVScNd9O94XTv3r0e55JydPPmzWPHjq1Zs0begdTBuHHjli5dqkSn3vn5+X5+fsr1+GXlypWOjo4+Pj4ybFPhzrBQXU93QgiBAj4lJISQ96GERQhRGpSwCCFKgxIWIURpqP7888/yjqEBqamptWjRwtTUVN6B1IGmpmblIRkUn4qKCo/Hs7a2lncgdaChodG2bdvKIxoqOA6Ho62t3a5dO3kHUgdqampWVlY8Hk+GbSpitwZCCKkWXRISQpQGJSxCiNKghEUIURqUsAghSoMSFiFEaVDCIoQoDUpYhBClQQmLEKI0KGERQpRGU05Y0dHRHh4e+vr6/fr1S0pKknc4tfXNN98cOnRI3lHUVnh4eNeuXXV1dZ2cnM6ePSvvcD5s1apVLVu21NLScnZ2PnPmjLzDqYPs7Gxzc/P//vtP3oF8mI+PD+c1dp5zWWmyCUskEo0YMWLgwIExMTG2trbTp0+Xd0Qf9u+//86ZM2fr1q3yDqS2srOzvb29J06cmJKSsnDhQl9f38TERHkHVZPw8PBVq1adOHEiLS1t7Nixo0aNkkzZrfi++uqr1NRUeUdRK3FxccePH4+JiYmJiXnw4IEMW1bEEUdlIjw8PCcnZ8GCBSoqKitXrjQxMUlOTrawsJB3XDW5ffu2QCCQ7cuiDerGjRvm5uYzZswAMHr06DVr1oSHh1taWso7rvcyMzM7fvx4p06dioqKLC0tjY2N6zf0duM7W7VXUwAAB9tJREFUfPhwZmamUsxOwDDM8+fPe/bs2SA/yQ0xm6si2LNnj7e3t+Sjra1tWFiYHOOpPXd394MHD8o7ilrJz89PTk5mlzMzM7W1te/evSvfkGrj+vXrAFRVVc+dOyfvWGrl5cuXVlZW8fHxpqam9+/fl3c4H5CSkqKhoTFy5Ehra+t+/frJ9kdCOf681ENWVpaenp7ko4GBQUZGhhzjaZL09fVbtGgB4ObNm25ubvPmzevUqZO8g/owd3f30tLSnTt3jhgxori4WN7hfADDMFOnTl28eHGrVq3kHUutpKWltW7d2tfX99y5c926dfP29s7KypJV4002YfF4PIFAIPlYUFCgRJdaSqSwsHDatGnjxo377bffli5dKu9wPiAmJub58+cANDQ0xo8fb2pqeufOHXkH9QE7d+4EMHHiRHkHUlsdO3aMiooaMWJE69atly5damZmduXKFVk13mQTlq2tbXR0NMMwAAoKChITE21sbOQdVFMjFAoHDRokEomioqKUYsq806dPL1u2jF1mGKaoqEhTU1O+IX3QhQsXrl692qxZMz6fn56e/umnn65atUreQdUkIiLiwoUL7DKHw+FyuRoaGjJrXYaXlwqloqLCxsZm06ZNJSUl8+bN6927t7wjqi0luocVFBRkZWX1/PnzF68JBAJ5B1WT+/fv6+rqXr58OTc399dff7W2ti4pKZF3UB+QlZWV9Bqfzw8JCcnPz5d3UDW5desWl8s9c+ZMTk5OQECAqalpbm6urBpvsgmLYZjo6OiuXbsaGBh4e3u/fPlS3uHUlhIlrEWLFlX5+3fkyBF5B/UBAQEBHTp00NXV7dmzZ2RkpLzDqRuluOnOMMzevXsdHBx0dHR69OgREREhw5ZpiGRCiNJosvewCCFNDyUsQojSoIRFCFEalLAIIUqDEhYhRGlQwiKEKA1KWIQQpUEJixCiNChhEUKUBiUsQojSoIRFCFEalLAIIUqDEhYhRGlQwiKEKA1KWIQQpUEJixCiNChhEUKUBiUsQojSoIRFCFEalLAIIUqDEhapvx9//NHGxqakpERSsnHjRnNz8/z8fJnvy9DQMC0t7YPVrKysOG9bt25d4+yaNAJKWKT+Fi9erKamtmLFCvZjZmbm4sWLN2zYYGBgIMeojhw5klvJzJkz5RgMkS1KWKT+uFzutm3bVq9e/eTJEwALFy50d3dnp4C+e/du9+7ddXR0unTpcuvWLbb+gQMH2rZtq6WlZW9vHxwcDCA2NtbR0XHr1q1GRkZlZWVz5sxp1qyZgYHB+PHjy8vLJTvy8vLKz893cXF58uTJ+fPnnZ2ddXV1PT09o6Ki3o1KV1fXsBJNTc2BAweuWbOGXXv58mULC4uKiop3I4yPj7e3t9+5c2fr1q35fP5ff/1VZdcN+22S2pDhHIfk4zRt2rRevXr9+++/urq68fHxDMPk5eXx+fzdu3fn5+dv2rTJ2Ng4Ly8vIyNDTU3tn3/+yc3N/e2339q2bcswTExMjK6u7rBhw27dunXy5Elzc/PHjx8/f/68VatW+/fvr7wXAwOD1NTUpKQkXV3dI0eO5OXl/fbbb9bW1qWlpZWrtWrV6uzZs1Ui3LFjR48ePdjlmTNnzp07t9oIX7x4oaWlNXv27FevXu3fv19VVbWoqEiy64b7AkntUcIi0srNzTUzM+Pz+atXr2ZL9u3b16tXL0kFFxeXa9euvXr16vnz5wzDlJaW7tixw9TUlGGYmJgYAJmZmQzDnDx5snnz5qGhoUKhMDc3t7CwsPJe2Kzxv//9b/DgwWxJRUWFpaVlWFhY5WqtWrXS1tY2qCQsLCwrK0tTUzMzM1MoFJqamj548KDaCF+8eMHhcNj9VlRUaGlpsXmKEpbiUJP3GR5ReoaGhkuXLl22bNmsWbPYkqSkpNu3b1tZWbEfBQJBenq6mprawYMHg4KCuFxuy5YtJZvzeDw+nw/gs88+W7NmzU8//fT48eMxY8b89NNPurq6Vfb18uVLGxsbdllFRcXKyiolJaVKnU2bNvXs2VPysXnz5lpaWp6ensHBwTY2NiYmJs7OzmfOnHk3wpYtWxoZGbE7VVFRUVVVlc0XRGSHEhaRAWNjY319fTU18Y+Tubm5q6vr5cuX2Y+RkZFWVlYnT57ctWtXWFhY8+bNo6KiLl68yK5VV1dnF+Li4rp06XLjxo3s7Oyvv/567ty5gYGBVXZkZmZ2/vx5dlkkEiUkJJibm1epY2pqKslEEiNGjPjnn39atmw5duzY90WYnZ3N4XCk/jJIA6Kb7kT2Bg4cGBkZ+ffff+fl5W3fvt3d3V0kEmVnZ+vo6Ojq6hYVFa1cubK0tFQkElXeKiQkZOjQoQkJCWVlZaWlpVwut0qzAoHAx8fn0qVLx48fLygo+P333zkcjqur67vV8iopKioCMHToUHbDUaNGvS/CGo5IIBDI4Hsh0pP3NSlpCo4cOcLeRJe4du1ax44duVxuhw4dQkNDGYYRCASDBw82NDTs0KHDyZMnXVxc/P39Y2Ji2JtZDMMUFxePGjVKX19fX19/yJAh6enplRucPHmynp7e48ePz5w5065dOx0dHQ8Pj4cPH1aJpFWrVlV+wv38/NhVvXr1qnzf6t0IX7x4YWxsLKmgo6PD3rqS7Fo2XxaRAodhGLkkSkIIqSu6JCSEKA1KWIQQpfH/nBExQ7CqNhoAAAAASUVORK5CYII='>"
       ],
       "output_type": "pyout",
       "prompt_number": 15,
       "text": [
        "<Reports.NotebookTools.Show at 0x667d250>"
       ]
      }
     ],
     "prompt_number": 15
    },
    {
     "cell_type": "code",
     "collapsed": false,
     "input": [
      "rr = cox_screen(real, surv)\n",
      "rr.head()"
     ],
     "language": "python",
     "metadata": {},
     "outputs": [
      {
       "html": [
        "<div style=\"max-height:1000px;max-width:1500px;overflow:auto;\">\n",
        "<table border=\"1\" class=\"dataframe\">\n",
        "  <thead>\n",
        "    <tr style=\"text-align: right;\">\n",
        "      <th></th>\n",
        "      <th>LR</th>\n",
        "      <th>p</th>\n",
        "      <th>q</th>\n",
        "    </tr>\n",
        "  </thead>\n",
        "  <tbody>\n",
        "    <tr>\n",
        "      <th>hsa-mir-654</th>\n",
        "      <td> 24.17</td>\n",
        "      <td> 8.82e-07</td>\n",
        "      <td> 2.32e-04</td>\n",
        "    </tr>\n",
        "    <tr>\n",
        "      <th>hsa-mir-493</th>\n",
        "      <td> 24.12</td>\n",
        "      <td> 9.05e-07</td>\n",
        "      <td> 2.32e-04</td>\n",
        "    </tr>\n",
        "    <tr>\n",
        "      <th>hsa-mir-337</th>\n",
        "      <td> 23.78</td>\n",
        "      <td> 1.08e-06</td>\n",
        "      <td> 2.32e-04</td>\n",
        "    </tr>\n",
        "    <tr>\n",
        "      <th>hsa-mir-382</th>\n",
        "      <td> 22.13</td>\n",
        "      <td> 2.55e-06</td>\n",
        "      <td> 3.97e-04</td>\n",
        "    </tr>\n",
        "    <tr>\n",
        "      <th>hsa-mir-377</th>\n",
        "      <td> 21.77</td>\n",
        "      <td> 3.08e-06</td>\n",
        "      <td> 3.97e-04</td>\n",
        "    </tr>\n",
        "  </tbody>\n",
        "</table>\n",
        "</div>"
       ],
       "output_type": "pyout",
       "prompt_number": 16,
       "text": [
        "                LR         p         q\n",
        "hsa-mir-654  24.17  8.82e-07  2.32e-04\n",
        "hsa-mir-493  24.12  9.05e-07  2.32e-04\n",
        "hsa-mir-337  23.78  1.08e-06  2.32e-04\n",
        "hsa-mir-382  22.13  2.55e-06  3.97e-04\n",
        "hsa-mir-377  21.77  3.08e-06  3.97e-04"
       ]
      }
     ],
     "prompt_number": 16
    },
    {
     "cell_type": "code",
     "collapsed": false,
     "input": [
      "draw_survival_curves(real.ix['hsa-mir-758'], surv, show=True)"
     ],
     "language": "python",
     "metadata": {},
     "outputs": [
      {
       "html": [
        "<img src='data:image/png;base64,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'>"
       ],
       "output_type": "pyout",
       "prompt_number": 17,
       "text": [
        "<Reports.NotebookTools.Show at 0x67f2650>"
       ]
      }
     ],
     "prompt_number": 17
    },
    {
     "cell_type": "markdown",
     "metadata": {},
     "source": [
      "#Left truncated survival"
     ]
    },
    {
     "cell_type": "code",
     "collapsed": false,
     "input": [
      "ss = clinical.survival.survival.copy().unstack()\n",
      "ss['days'] = ss.days - 356.*1.5\n",
      "ss = ss[ss.days > 0.].stack()"
     ],
     "language": "python",
     "metadata": {},
     "outputs": [],
     "prompt_number": 18
    },
    {
     "cell_type": "code",
     "collapsed": false,
     "input": [
      "rr = lr_screen(binary, ss)\n",
      "rr.head()"
     ],
     "language": "python",
     "metadata": {},
     "outputs": [
      {
       "html": [
        "<div style=\"max-height:1000px;max-width:1500px;overflow:auto;\">\n",
        "<table border=\"1\" class=\"dataframe\">\n",
        "  <thead>\n",
        "    <tr style=\"text-align: right;\">\n",
        "      <th></th>\n",
        "      <th>chi2</th>\n",
        "      <th>p</th>\n",
        "      <th>q</th>\n",
        "    </tr>\n",
        "  </thead>\n",
        "  <tbody>\n",
        "    <tr>\n",
        "      <th>hsa-mir-448</th>\n",
        "      <td> 22.79</td>\n",
        "      <td> 1.81e-06</td>\n",
        "      <td> 3.68e-04</td>\n",
        "    </tr>\n",
        "    <tr>\n",
        "      <th>hsa-mir-3919</th>\n",
        "      <td>  9.21</td>\n",
        "      <td> 2.41e-03</td>\n",
        "      <td> 1.94e-01</td>\n",
        "    </tr>\n",
        "    <tr>\n",
        "      <th>hsa-mir-3155</th>\n",
        "      <td>  8.90</td>\n",
        "      <td> 2.85e-03</td>\n",
        "      <td> 1.94e-01</td>\n",
        "    </tr>\n",
        "    <tr>\n",
        "      <th>hsa-mir-548y</th>\n",
        "      <td>  8.12</td>\n",
        "      <td> 4.38e-03</td>\n",
        "      <td> 2.24e-01</td>\n",
        "    </tr>\n",
        "    <tr>\n",
        "      <th>hsa-mir-1911</th>\n",
        "      <td>  6.89</td>\n",
        "      <td> 8.66e-03</td>\n",
        "      <td> 2.84e-01</td>\n",
        "    </tr>\n",
        "  </tbody>\n",
        "</table>\n",
        "</div>"
       ],
       "output_type": "pyout",
       "prompt_number": 19,
       "text": [
        "               chi2         p         q\n",
        "hsa-mir-448   22.79  1.81e-06  3.68e-04\n",
        "hsa-mir-3919   9.21  2.41e-03  1.94e-01\n",
        "hsa-mir-3155   8.90  2.85e-03  1.94e-01\n",
        "hsa-mir-548y   8.12  4.38e-03  2.24e-01\n",
        "hsa-mir-1911   6.89  8.66e-03  2.84e-01"
       ]
      }
     ],
     "prompt_number": 19
    },
    {
     "cell_type": "code",
     "collapsed": false,
     "input": [
      "clinical.artificially_censor(10)"
     ],
     "language": "python",
     "metadata": {},
     "outputs": [],
     "prompt_number": 20
    },
    {
     "cell_type": "code",
     "collapsed": false,
     "input": [
      "real.ix['hsa-mir-1911'].hist()"
     ],
     "language": "python",
     "metadata": {},
     "outputs": [
      {
       "output_type": "pyout",
       "prompt_number": 395,
       "text": [
        "<matplotlib.axes.AxesSubplot at 0xa8f5690>"
       ]
      },
      {
       "output_type": "display_data",
       "png": "[encoded data removed]"
      }
     ],
     "prompt_number": 395
    },
    {
     "cell_type": "code",
     "collapsed": false,
     "input": [
      "real.ix['hsa-mir-448'].hist()"
     ],
     "language": "python",
     "metadata": {},
     "outputs": []
    },
    {
     "cell_type": "code",
     "collapsed": false,
     "input": [
      "draw_survival_curves(binary.ix['hsa-mir-448'], ss, show=True, show_legend=False, ann='p')"
     ],
     "language": "python",
     "metadata": {},
     "outputs": [
      {
       "html": [
        "<img src='data:image/png;base64,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'>"
       ],
       "output_type": "pyout",
       "prompt_number": 425,
       "text": [
        "<Reports.NotebookTools.Show at 0x12cff310>"
       ]
      }
     ],
     "prompt_number": 425
    },
    {
     "cell_type": "code",
     "collapsed": false,
     "input": [
      "rna.loadings['ST_STAT3_PATHWAY'].order()"
     ],
     "language": "python",
     "metadata": {},
     "outputs": [
      {
       "output_type": "pyout",
       "prompt_number": 426,
       "text": [
        "JAK2    -0.43\n",
        "CISH    -0.20\n",
        "PTPRU   -0.07\n",
        "IL6     -0.06\n",
        "IL6R     0.07\n",
        "JAK3     0.15\n",
        "SRC      0.17\n",
        "REG1A    0.84\n",
        "Name: 0, dtype: float64"
       ]
      }
     ],
     "prompt_number": 426
    },
    {
     "cell_type": "code",
     "collapsed": false,
     "input": [
      "screen_feature(real.ix['hsa-mir-1911'] > -1, kruskal_pandas, rna.features).head()"
     ],
     "language": "python",
     "metadata": {},
     "outputs": [
      {
       "html": [
        "<div style=\"max-height:1000px;max-width:1500px;overflow:auto;\">\n",
        "<table border=\"1\" class=\"dataframe\">\n",
        "  <thead>\n",
        "    <tr style=\"text-align: right;\">\n",
        "      <th></th>\n",
        "      <th>H</th>\n",
        "      <th>p</th>\n",
        "      <th>q</th>\n",
        "    </tr>\n",
        "  </thead>\n",
        "  <tbody>\n",
        "    <tr>\n",
        "      <th>KEGG_OLFACTORY_TRANSDUCTION</th>\n",
        "      <td> 45.11</td>\n",
        "      <td> 1.86e-11</td>\n",
        "      <td> 1.55e-08</td>\n",
        "    </tr>\n",
        "    <tr>\n",
        "      <th>REACTOME_OLFACTORY_SIGNALING_PATHWAY</th>\n",
        "      <td> 42.54</td>\n",
        "      <td> 6.94e-11</td>\n",
        "      <td> 2.89e-08</td>\n",
        "    </tr>\n",
        "    <tr>\n",
        "      <th>ST_STAT3_PATHWAY</th>\n",
        "      <td> 32.26</td>\n",
        "      <td> 1.35e-08</td>\n",
        "      <td> 3.74e-06</td>\n",
        "    </tr>\n",
        "    <tr>\n",
        "      <th>ST_JAK_STAT_PATHWAY</th>\n",
        "      <td> 29.79</td>\n",
        "      <td> 4.82e-08</td>\n",
        "      <td> 1.00e-05</td>\n",
        "    </tr>\n",
        "    <tr>\n",
        "      <th>REACTOME_SEROTONIN_RECEPTORS</th>\n",
        "      <td> 26.53</td>\n",
        "      <td> 2.60e-07</td>\n",
        "      <td> 4.32e-05</td>\n",
        "    </tr>\n",
        "  </tbody>\n",
        "</table>\n",
        "</div>"
       ],
       "output_type": "pyout",
       "prompt_number": 406,
       "text": [
        "                                          H         p         q\n",
        "KEGG_OLFACTORY_TRANSDUCTION           45.11  1.86e-11  1.55e-08\n",
        "REACTOME_OLFACTORY_SIGNALING_PATHWAY  42.54  6.94e-11  2.89e-08\n",
        "ST_STAT3_PATHWAY                      32.26  1.35e-08  3.74e-06\n",
        "ST_JAK_STAT_PATHWAY                   29.79  4.82e-08  1.00e-05\n",
        "REACTOME_SEROTONIN_RECEPTORS          26.53  2.60e-07  4.32e-05"
       ]
      }
     ],
     "prompt_number": 406
    },
    {
     "cell_type": "code",
     "collapsed": false,
     "input": [
      "draw_survival_curves(binary.ix['hsa-mir-448'], ss, show=True, show_legend=False)"
     ],
     "language": "python",
     "metadata": {},
     "outputs": [
      {
       "html": [
        "<img src='data:image/png;base64,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'>"
       ],
       "output_type": "pyout",
       "prompt_number": 386,
       "text": [
        "<Reports.NotebookTools.Show at 0x132ec550>"
       ]
      }
     ],
     "prompt_number": 386
    },
    {
     "cell_type": "code",
     "collapsed": false,
     "input": [
      "rr = lr_screen(mut.features, ss)\n",
      "rr.head(10)"
     ],
     "language": "python",
     "metadata": {},
     "outputs": [
      {
       "html": [
        "<div style=\"max-height:1000px;max-width:1500px;overflow:auto;\">\n",
        "<table border=\"1\" class=\"dataframe\">\n",
        "  <thead>\n",
        "    <tr style=\"text-align: right;\">\n",
        "      <th></th>\n",
        "      <th>chi2</th>\n",
        "      <th>p</th>\n",
        "      <th>q</th>\n",
        "    </tr>\n",
        "  </thead>\n",
        "  <tbody>\n",
        "    <tr>\n",
        "      <th>CDH19</th>\n",
        "      <td> 15.88</td>\n",
        "      <td> 6.75e-05</td>\n",
        "      <td> 0.07</td>\n",
        "    </tr>\n",
        "    <tr>\n",
        "      <th>KEGG_FOLATE_BIOSYNTHESIS</th>\n",
        "      <td> 11.61</td>\n",
        "      <td> 6.56e-04</td>\n",
        "      <td> 0.26</td>\n",
        "    </tr>\n",
        "    <tr>\n",
        "      <th>BIOCARTA_GLYCOLYSIS_PATHWAY</th>\n",
        "      <td> 10.53</td>\n",
        "      <td> 1.18e-03</td>\n",
        "      <td> 0.26</td>\n",
        "    </tr>\n",
        "    <tr>\n",
        "      <th>FRY</th>\n",
        "      <td> 10.22</td>\n",
        "      <td> 1.39e-03</td>\n",
        "      <td> 0.26</td>\n",
        "    </tr>\n",
        "    <tr>\n",
        "      <th>REACTOME_SYNTHESIS_AND_INTERCONVERSION_OF_NUCLEOTIDE_DI_AND_TRIPHOSPHATES</th>\n",
        "      <td> 10.06</td>\n",
        "      <td> 1.51e-03</td>\n",
        "      <td> 0.26</td>\n",
        "    </tr>\n",
        "    <tr>\n",
        "      <th>PDE3A</th>\n",
        "      <td>  9.96</td>\n",
        "      <td> 1.60e-03</td>\n",
        "      <td> 0.26</td>\n",
        "    </tr>\n",
        "    <tr>\n",
        "      <th>BIOCARTA_FEEDER_PATHWAY</th>\n",
        "      <td>  9.28</td>\n",
        "      <td> 2.31e-03</td>\n",
        "      <td> 0.29</td>\n",
        "    </tr>\n",
        "    <tr>\n",
        "      <th>BIOCARTA_INTEGRIN_PATHWAY</th>\n",
        "      <td>  9.03</td>\n",
        "      <td> 2.65e-03</td>\n",
        "      <td> 0.29</td>\n",
        "    </tr>\n",
        "    <tr>\n",
        "      <th>BAI3</th>\n",
        "      <td>  9.01</td>\n",
        "      <td> 2.68e-03</td>\n",
        "      <td> 0.29</td>\n",
        "    </tr>\n",
        "    <tr>\n",
        "      <th>KEGG_N_GLYCAN_BIOSYNTHESIS</th>\n",
        "      <td>  7.53</td>\n",
        "      <td> 6.08e-03</td>\n",
        "      <td> 0.58</td>\n",
        "    </tr>\n",
        "  </tbody>\n",
        "</table>\n",
        "</div>"
       ],
       "output_type": "pyout",
       "prompt_number": 430,
       "text": [
        "                                                                            chi2         p     q\n",
        "CDH19                                                                      15.88  6.75e-05  0.07\n",
        "KEGG_FOLATE_BIOSYNTHESIS                                                   11.61  6.56e-04  0.26\n",
        "BIOCARTA_GLYCOLYSIS_PATHWAY                                                10.53  1.18e-03  0.26\n",
        "FRY                                                                        10.22  1.39e-03  0.26\n",
        "REACTOME_SYNTHESIS_AND_INTERCONVERSION_OF_NUCLEOTIDE_DI_AND_TRIPHOSPHATES  10.06  1.51e-03  0.26\n",
        "PDE3A                                                                       9.96  1.60e-03  0.26\n",
        "BIOCARTA_FEEDER_PATHWAY                                                     9.28  2.31e-03  0.29\n",
        "BIOCARTA_INTEGRIN_PATHWAY                                                   9.03  2.65e-03  0.29\n",
        "BAI3                                                                        9.01  2.68e-03  0.29\n",
        "KEGG_N_GLYCAN_BIOSYNTHESIS                                                  7.53  6.08e-03  0.58"
       ]
      }
     ],
     "prompt_number": 430
    },
    {
     "cell_type": "code",
     "collapsed": false,
     "input": [
      "rna2y = RealDataset(run, cancer, 'mRNASeq', ss.unstack().index)"
     ],
     "language": "python",
     "metadata": {},
     "outputs": [],
     "prompt_number": 344
    },
    {
     "cell_type": "code",
     "collapsed": false,
     "input": [
      "cox_screen(rna2y.features, ss).head()"
     ],
     "language": "python",
     "metadata": {},
     "outputs": [
      {
       "html": [
        "<div style=\"max-height:1000px;max-width:1500px;overflow:auto;\">\n",
        "<table border=\"1\" class=\"dataframe\">\n",
        "  <thead>\n",
        "    <tr style=\"text-align: right;\">\n",
        "      <th></th>\n",
        "      <th>LR</th>\n",
        "      <th>p</th>\n",
        "      <th>q</th>\n",
        "    </tr>\n",
        "  </thead>\n",
        "  <tbody>\n",
        "    <tr>\n",
        "      <th>REACTOME_PURINE_SALVAGE_REACTIONS</th>\n",
        "      <td> 12.59</td>\n",
        "      <td> 3.89e-04</td>\n",
        "      <td> 0.25</td>\n",
        "    </tr>\n",
        "    <tr>\n",
        "      <th>BIOCARTA_GCR_PATHWAY</th>\n",
        "      <td> 11.76</td>\n",
        "      <td> 6.06e-04</td>\n",
        "      <td> 0.25</td>\n",
        "    </tr>\n",
        "    <tr>\n",
        "      <th>BIOCARTA_AKT_PATHWAY</th>\n",
        "      <td> 10.58</td>\n",
        "      <td> 1.14e-03</td>\n",
        "      <td> 0.27</td>\n",
        "    </tr>\n",
        "    <tr>\n",
        "      <th>REACTOME_PURINE_METABOLISM</th>\n",
        "      <td> 10.37</td>\n",
        "      <td> 1.28e-03</td>\n",
        "      <td> 0.27</td>\n",
        "    </tr>\n",
        "    <tr>\n",
        "      <th>BIOCARTA_SALMONELLA_PATHWAY</th>\n",
        "      <td>  9.17</td>\n",
        "      <td> 2.45e-03</td>\n",
        "      <td> 0.37</td>\n",
        "    </tr>\n",
        "  </tbody>\n",
        "</table>\n",
        "</div>"
       ],
       "output_type": "pyout",
       "prompt_number": 349,
       "text": [
        "                                      LR         p     q\n",
        "REACTOME_PURINE_SALVAGE_REACTIONS  12.59  3.89e-04  0.25\n",
        "BIOCARTA_GCR_PATHWAY               11.76  6.06e-04  0.25\n",
        "BIOCARTA_AKT_PATHWAY               10.58  1.14e-03  0.27\n",
        "REACTOME_PURINE_METABOLISM         10.37  1.28e-03  0.27\n",
        "BIOCARTA_SALMONELLA_PATHWAY         9.17  2.45e-03  0.37"
       ]
      }
     ],
     "prompt_number": 349
    },
    {
     "cell_type": "code",
     "collapsed": false,
     "input": [
      "draw_survival_curves(to_quants(rna2y.features.ix['REACTOME_PURINE_SALVAGE_REACTIONS'], std=1), ss, show=True, show_legend=False)"
     ],
     "language": "python",
     "metadata": {},
     "outputs": [
      {
       "html": [
        "<img src='data:image/png;base64,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'>"
       ],
       "output_type": "pyout",
       "prompt_number": 455,
       "text": [
        "<Reports.NotebookTools.Show at 0x130a04d0>"
       ]
      }
     ],
     "prompt_number": 455
    },
    {
     "cell_type": "code",
     "collapsed": false,
     "input": [
      "screen_feature(binary.ix['hsa-mir-448'], kruskal_pandas, rna.features).head()"
     ],
     "language": "python",
     "metadata": {},
     "outputs": [
      {
       "html": [
        "<div style=\"max-height:1000px;max-width:1500px;overflow:auto;\">\n",
        "<table border=\"1\" class=\"dataframe\">\n",
        "  <thead>\n",
        "    <tr style=\"text-align: right;\">\n",
        "      <th></th>\n",
        "      <th>H</th>\n",
        "      <th>p</th>\n",
        "      <th>q</th>\n",
        "    </tr>\n",
        "  </thead>\n",
        "  <tbody>\n",
        "    <tr>\n",
        "      <th>ST_STAT3_PATHWAY</th>\n",
        "      <td> 23.17</td>\n",
        "      <td> 1.48e-06</td>\n",
        "      <td> 6.87e-04</td>\n",
        "    </tr>\n",
        "    <tr>\n",
        "      <th>ST_JAK_STAT_PATHWAY</th>\n",
        "      <td> 22.96</td>\n",
        "      <td> 1.65e-06</td>\n",
        "      <td> 6.87e-04</td>\n",
        "    </tr>\n",
        "    <tr>\n",
        "      <th>KEGG_OLFACTORY_TRANSDUCTION</th>\n",
        "      <td> 21.42</td>\n",
        "      <td> 3.69e-06</td>\n",
        "      <td> 1.02e-03</td>\n",
        "    </tr>\n",
        "    <tr>\n",
        "      <th>ST_INTERFERON_GAMMA_PATHWAY</th>\n",
        "      <td> 19.52</td>\n",
        "      <td> 9.98e-06</td>\n",
        "      <td> 2.08e-03</td>\n",
        "    </tr>\n",
        "    <tr>\n",
        "      <th>REACTOME_OLFACTORY_SIGNALING_PATHWAY</th>\n",
        "      <td> 18.60</td>\n",
        "      <td> 1.61e-05</td>\n",
        "      <td> 2.69e-03</td>\n",
        "    </tr>\n",
        "  </tbody>\n",
        "</table>\n",
        "</div>"
       ],
       "output_type": "pyout",
       "prompt_number": 456,
       "text": [
        "                                          H         p         q\n",
        "ST_STAT3_PATHWAY                      23.17  1.48e-06  6.87e-04\n",
        "ST_JAK_STAT_PATHWAY                   22.96  1.65e-06  6.87e-04\n",
        "KEGG_OLFACTORY_TRANSDUCTION           21.42  3.69e-06  1.02e-03\n",
        "ST_INTERFERON_GAMMA_PATHWAY           19.52  9.98e-06  2.08e-03\n",
        "REACTOME_OLFACTORY_SIGNALING_PATHWAY  18.60  1.61e-05  2.69e-03"
       ]
      }
     ],
     "prompt_number": 456
    },
    {
     "cell_type": "code",
     "collapsed": false,
     "input": [
      "rr = cox_screen(real, ss)\n",
      "rr.head()"
     ],
     "language": "python",
     "metadata": {},
     "outputs": [
      {
       "html": [
        "<div style=\"max-height:1000px;max-width:1500px;overflow:auto;\">\n",
        "<table border=\"1\" class=\"dataframe\">\n",
        "  <thead>\n",
        "    <tr style=\"text-align: right;\">\n",
        "      <th></th>\n",
        "      <th>LR</th>\n",
        "      <th>p</th>\n",
        "      <th>q</th>\n",
        "    </tr>\n",
        "  </thead>\n",
        "  <tbody>\n",
        "    <tr>\n",
        "      <th>hsa-mir-448</th>\n",
        "      <td> 14.25</td>\n",
        "      <td> 1.60e-04</td>\n",
        "      <td> 0.08</td>\n",
        "    </tr>\n",
        "    <tr>\n",
        "      <th>hsa-mir-1911</th>\n",
        "      <td> 13.47</td>\n",
        "      <td> 2.43e-04</td>\n",
        "      <td> 0.08</td>\n",
        "    </tr>\n",
        "    <tr>\n",
        "      <th>hsa-mir-339</th>\n",
        "      <td>  8.23</td>\n",
        "      <td> 4.13e-03</td>\n",
        "      <td> 0.67</td>\n",
        "    </tr>\n",
        "    <tr>\n",
        "      <th>hsa-mir-3664</th>\n",
        "      <td>  8.21</td>\n",
        "      <td> 4.17e-03</td>\n",
        "      <td> 0.67</td>\n",
        "    </tr>\n",
        "    <tr>\n",
        "      <th>hsa-mir-1224</th>\n",
        "      <td>  7.19</td>\n",
        "      <td> 7.35e-03</td>\n",
        "      <td> 0.67</td>\n",
        "    </tr>\n",
        "  </tbody>\n",
        "</table>\n",
        "</div>"
       ],
       "output_type": "pyout",
       "prompt_number": 308,
       "text": [
        "                 LR         p     q\n",
        "hsa-mir-448   14.25  1.60e-04  0.08\n",
        "hsa-mir-1911  13.47  2.43e-04  0.08\n",
        "hsa-mir-339    8.23  4.13e-03  0.67\n",
        "hsa-mir-3664   8.21  4.17e-03  0.67\n",
        "hsa-mir-1224   7.19  7.35e-03  0.67"
       ]
      }
     ],
     "prompt_number": 308
    },
    {
     "cell_type": "code",
     "collapsed": false,
     "input": [
      "screen_feature(binary.ix['hsa-mir-448'], kruskal_pandas, rppa.df.xs('01',axis=1, level=1)).head()"
     ],
     "language": "python",
     "metadata": {},
     "outputs": [
      {
       "html": [
        "<div style=\"max-height:1000px;max-width:1500px;overflow:auto;\">\n",
        "<table border=\"1\" class=\"dataframe\">\n",
        "  <thead>\n",
        "    <tr style=\"text-align: right;\">\n",
        "      <th></th>\n",
        "      <th>H</th>\n",
        "      <th>p</th>\n",
        "      <th>q</th>\n",
        "    </tr>\n",
        "  </thead>\n",
        "  <tbody>\n",
        "    <tr>\n",
        "      <th>(INPP4B, INPP4B-G-C)</th>\n",
        "      <td> 9.75</td>\n",
        "      <td> 0.00</td>\n",
        "      <td> 0.21</td>\n",
        "    </tr>\n",
        "    <tr>\n",
        "      <th>(CAV1, Caveolin-1-R-V)</th>\n",
        "      <td> 8.93</td>\n",
        "      <td> 0.00</td>\n",
        "      <td> 0.21</td>\n",
        "    </tr>\n",
        "    <tr>\n",
        "      <th>(PIK3CA , PI3K-p110-alpha-R-C)</th>\n",
        "      <td> 8.48</td>\n",
        "      <td> 0.00</td>\n",
        "      <td> 0.21</td>\n",
        "    </tr>\n",
        "    <tr>\n",
        "      <th>(TGM2, Transglutaminase-M-V)</th>\n",
        "      <td> 6.56</td>\n",
        "      <td> 0.01</td>\n",
        "      <td> 0.41</td>\n",
        "    </tr>\n",
        "    <tr>\n",
        "      <th>(ANXA1, Annexin_I-R-V)</th>\n",
        "      <td> 6.33</td>\n",
        "      <td> 0.01</td>\n",
        "      <td> 0.41</td>\n",
        "    </tr>\n",
        "  </tbody>\n",
        "</table>\n",
        "</div>"
       ],
       "output_type": "pyout",
       "prompt_number": 311,
       "text": [
        "                                   H     p     q\n",
        "(INPP4B, INPP4B-G-C)            9.75  0.00  0.21\n",
        "(CAV1, Caveolin-1-R-V)          8.93  0.00  0.21\n",
        "(PIK3CA , PI3K-p110-alpha-R-C)  8.48  0.00  0.21\n",
        "(TGM2, Transglutaminase-M-V)    6.56  0.01  0.41\n",
        "(ANXA1, Annexin_I-R-V)          6.33  0.01  0.41"
       ]
      }
     ],
     "prompt_number": 311
    },
    {
     "cell_type": "code",
     "collapsed": false,
     "input": [
      "screen_feature(binary.ix['hsa-mir-448'], fisher_exact_test, cn.features > 0).head()"
     ],
     "language": "python",
     "metadata": {},
     "outputs": [
      {
       "html": [
        "<div style=\"max-height:1000px;max-width:1500px;overflow:auto;\">\n",
        "<table border=\"1\" class=\"dataframe\">\n",
        "  <thead>\n",
        "    <tr style=\"text-align: right;\">\n",
        "      <th></th>\n",
        "      <th>odds_ratio</th>\n",
        "      <th>p</th>\n",
        "      <th>q</th>\n",
        "    </tr>\n",
        "  </thead>\n",
        "  <tbody>\n",
        "    <tr>\n",
        "      <th>(Amplification, 1q21.2, Lesion)</th>\n",
        "      <td> 3.50</td>\n",
        "      <td> 0.00</td>\n",
        "      <td> 0.13</td>\n",
        "    </tr>\n",
        "    <tr>\n",
        "      <th>(Amplification, 15q26.3, Lesion)</th>\n",
        "      <td> 2.83</td>\n",
        "      <td> 0.01</td>\n",
        "      <td> 0.32</td>\n",
        "    </tr>\n",
        "    <tr>\n",
        "      <th>(Amplification, 12p13.33, Lesion)</th>\n",
        "      <td> 2.04</td>\n",
        "      <td> 0.06</td>\n",
        "      <td> 1.00</td>\n",
        "    </tr>\n",
        "    <tr>\n",
        "      <th>(Amplification, 8p11.23, Lesion)</th>\n",
        "      <td> 1.86</td>\n",
        "      <td> 0.11</td>\n",
        "      <td> 1.00</td>\n",
        "    </tr>\n",
        "    <tr>\n",
        "      <th>(Amplification, 8q11.21, Lesion)</th>\n",
        "      <td> 0.58</td>\n",
        "      <td> 0.19</td>\n",
        "      <td> 1.00</td>\n",
        "    </tr>\n",
        "  </tbody>\n",
        "</table>\n",
        "</div>"
       ],
       "output_type": "pyout",
       "prompt_number": 313,
       "text": [
        "                                   odds_ratio     p     q\n",
        "(Amplification, 1q21.2, Lesion)          3.50  0.00  0.13\n",
        "(Amplification, 15q26.3, Lesion)         2.83  0.01  0.32\n",
        "(Amplification, 12p13.33, Lesion)        2.04  0.06  1.00\n",
        "(Amplification, 8p11.23, Lesion)         1.86  0.11  1.00\n",
        "(Amplification, 8q11.21, Lesion)         0.58  0.19  1.00"
       ]
      }
     ],
     "prompt_number": 313
    },
    {
     "cell_type": "code",
     "collapsed": false,
     "input": [
      "screen_feature(binary.ix['hsa-mir-448'], fisher_exact_test, cn.features < 0).head()"
     ],
     "language": "python",
     "metadata": {},
     "outputs": [
      {
       "html": [
        "<div style=\"max-height:1000px;max-width:1500px;overflow:auto;\">\n",
        "<table border=\"1\" class=\"dataframe\">\n",
        "  <thead>\n",
        "    <tr style=\"text-align: right;\">\n",
        "      <th></th>\n",
        "      <th>odds_ratio</th>\n",
        "      <th>p</th>\n",
        "      <th>q</th>\n",
        "    </tr>\n",
        "  </thead>\n",
        "  <tbody>\n",
        "    <tr>\n",
        "      <th>(Deletion, Xq21.33, Lesion)</th>\n",
        "      <td> 5.06</td>\n",
        "      <td> 6.88e-05</td>\n",
        "      <td> 0.00</td>\n",
        "    </tr>\n",
        "    <tr>\n",
        "      <th>(Deletion, 4q22.1, Lesion)</th>\n",
        "      <td> 3.54</td>\n",
        "      <td> 8.89e-04</td>\n",
        "      <td> 0.03</td>\n",
        "    </tr>\n",
        "    <tr>\n",
        "      <th>(Deletion, 1p36.13, Lesion)</th>\n",
        "      <td> 3.63</td>\n",
        "      <td> 1.18e-03</td>\n",
        "      <td> 0.03</td>\n",
        "    </tr>\n",
        "    <tr>\n",
        "      <th>(Deletion, 11p15.4, Lesion)</th>\n",
        "      <td> 2.99</td>\n",
        "      <td> 3.39e-03</td>\n",
        "      <td> 0.06</td>\n",
        "    </tr>\n",
        "    <tr>\n",
        "      <th>(Deletion, 19q13.43, Lesion)</th>\n",
        "      <td> 3.05</td>\n",
        "      <td> 6.07e-03</td>\n",
        "      <td> 0.08</td>\n",
        "    </tr>\n",
        "  </tbody>\n",
        "</table>\n",
        "</div>"
       ],
       "output_type": "pyout",
       "prompt_number": 312,
       "text": [
        "                              odds_ratio         p     q\n",
        "(Deletion, Xq21.33, Lesion)         5.06  6.88e-05  0.00\n",
        "(Deletion, 4q22.1, Lesion)          3.54  8.89e-04  0.03\n",
        "(Deletion, 1p36.13, Lesion)         3.63  1.18e-03  0.03\n",
        "(Deletion, 11p15.4, Lesion)         2.99  3.39e-03  0.06\n",
        "(Deletion, 19q13.43, Lesion)        3.05  6.07e-03  0.08"
       ]
      }
     ],
     "prompt_number": 312
    },
    {
     "cell_type": "code",
     "collapsed": false,
     "input": [
      "screen_feature(binary.ix['hsa-mir-448'], kruskal_pandas, rna.features).head()"
     ],
     "language": "python",
     "metadata": {},
     "outputs": [
      {
       "html": [
        "<div style=\"max-height:1000px;max-width:1500px;overflow:auto;\">\n",
        "<table border=\"1\" class=\"dataframe\">\n",
        "  <thead>\n",
        "    <tr style=\"text-align: right;\">\n",
        "      <th></th>\n",
        "      <th>H</th>\n",
        "      <th>p</th>\n",
        "      <th>q</th>\n",
        "    </tr>\n",
        "  </thead>\n",
        "  <tbody>\n",
        "    <tr>\n",
        "      <th>ST_STAT3_PATHWAY</th>\n",
        "      <td> 23.17</td>\n",
        "      <td> 1.48e-06</td>\n",
        "      <td> 6.87e-04</td>\n",
        "    </tr>\n",
        "    <tr>\n",
        "      <th>ST_JAK_STAT_PATHWAY</th>\n",
        "      <td> 22.96</td>\n",
        "      <td> 1.65e-06</td>\n",
        "      <td> 6.87e-04</td>\n",
        "    </tr>\n",
        "    <tr>\n",
        "      <th>KEGG_OLFACTORY_TRANSDUCTION</th>\n",
        "      <td> 21.42</td>\n",
        "      <td> 3.69e-06</td>\n",
        "      <td> 1.02e-03</td>\n",
        "    </tr>\n",
        "    <tr>\n",
        "      <th>ST_INTERFERON_GAMMA_PATHWAY</th>\n",
        "      <td> 19.52</td>\n",
        "      <td> 9.98e-06</td>\n",
        "      <td> 2.08e-03</td>\n",
        "    </tr>\n",
        "    <tr>\n",
        "      <th>REACTOME_OLFACTORY_SIGNALING_PATHWAY</th>\n",
        "      <td> 18.60</td>\n",
        "      <td> 1.61e-05</td>\n",
        "      <td> 2.69e-03</td>\n",
        "    </tr>\n",
        "  </tbody>\n",
        "</table>\n",
        "</div>"
       ],
       "output_type": "pyout",
       "prompt_number": 314,
       "text": [
        "                                          H         p         q\n",
        "ST_STAT3_PATHWAY                      23.17  1.48e-06  6.87e-04\n",
        "ST_JAK_STAT_PATHWAY                   22.96  1.65e-06  6.87e-04\n",
        "KEGG_OLFACTORY_TRANSDUCTION           21.42  3.69e-06  1.02e-03\n",
        "ST_INTERFERON_GAMMA_PATHWAY           19.52  9.98e-06  2.08e-03\n",
        "REACTOME_OLFACTORY_SIGNALING_PATHWAY  18.60  1.61e-05  2.69e-03"
       ]
      }
     ],
     "prompt_number": 314
    },
    {
     "cell_type": "code",
     "collapsed": false,
     "input": [
      "rr = screen_feature(real.ix['hsa-mir-1911']>2, kruskal_pandas, rna.df.xs('01',axis=1, level=1))"
     ],
     "language": "python",
     "metadata": {},
     "outputs": [],
     "prompt_number": 239
    },
    {
     "cell_type": "code",
     "collapsed": false,
     "input": [
      "rr.head()"
     ],
     "language": "python",
     "metadata": {},
     "outputs": [
      {
       "html": [
        "<div style=\"max-height:1000px;max-width:1500px;overflow:auto;\">\n",
        "<table border=\"1\" class=\"dataframe\">\n",
        "  <thead>\n",
        "    <tr style=\"text-align: right;\">\n",
        "      <th></th>\n",
        "      <th>H</th>\n",
        "      <th>p</th>\n",
        "      <th>q</th>\n",
        "    </tr>\n",
        "  </thead>\n",
        "  <tbody>\n",
        "    <tr>\n",
        "      <th>MCHR2</th>\n",
        "      <td> 67.50</td>\n",
        "      <td> 2.11e-16</td>\n",
        "      <td> 4.33e-12</td>\n",
        "    </tr>\n",
        "    <tr>\n",
        "      <th>GABRG2</th>\n",
        "      <td> 56.56</td>\n",
        "      <td> 5.44e-14</td>\n",
        "      <td> 5.58e-10</td>\n",
        "    </tr>\n",
        "    <tr>\n",
        "      <th>CT45A2</th>\n",
        "      <td> 51.37</td>\n",
        "      <td> 7.65e-13</td>\n",
        "      <td> 5.23e-09</td>\n",
        "    </tr>\n",
        "    <tr>\n",
        "      <th>POU3F4</th>\n",
        "      <td> 48.90</td>\n",
        "      <td> 2.70e-12</td>\n",
        "      <td> 1.13e-08</td>\n",
        "    </tr>\n",
        "    <tr>\n",
        "      <th>DPPA2</th>\n",
        "      <td> 48.86</td>\n",
        "      <td> 2.76e-12</td>\n",
        "      <td> 1.13e-08</td>\n",
        "    </tr>\n",
        "  </tbody>\n",
        "</table>\n",
        "</div>"
       ],
       "output_type": "pyout",
       "prompt_number": 242,
       "text": [
        "            H         p         q\n",
        "MCHR2   67.50  2.11e-16  4.33e-12\n",
        "GABRG2  56.56  5.44e-14  5.58e-10\n",
        "CT45A2  51.37  7.65e-13  5.23e-09\n",
        "POU3F4  48.90  2.70e-12  1.13e-08\n",
        "DPPA2   48.86  2.76e-12  1.13e-08"
       ]
      }
     ],
     "prompt_number": 242
    },
    {
     "cell_type": "code",
     "collapsed": false,
     "input": [
      "violin_plot_pandas(real.ix['hsa-mir-1911']>2, rna.df.ix['GABRG2'].ix[:,'01'])"
     ],
     "language": "python",
     "metadata": {},
     "outputs": [
      {
       "output_type": "display_data",
       "png": "[encoded data removed]"
      }
     ],
     "prompt_number": 244
    }
   ],
   "metadata": {}
  }
 ]
}