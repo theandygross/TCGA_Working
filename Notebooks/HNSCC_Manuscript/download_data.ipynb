{
 "metadata": {
  "name": ""
 },
 "nbformat": 3,
 "nbformat_minor": 0,
 "worksheets": [
  {
   "cells": [
    {
     "cell_type": "markdown",
     "metadata": {},
     "source": [
      "<h1 class=\"alert alert-info\">Initialization <small>  <i class=\"icon-download\"></i>  Download and process all of the data fom Firehose</small></h1> \n",
      "\n",
      "<h4>See https://confluence.broadinstitute.org/display/GDAC/Download for firehose_get documentation (requires wget)</h4> "
     ]
    },
    {
     "cell_type": "heading",
     "level": 1,
     "metadata": {},
     "source": [
      "Parameters"
     ]
    },
    {
     "cell_type": "markdown",
     "metadata": {},
     "source": [
      "<span class='altert alert-success' style='font-size:120%'>Change __OUT_PATH__ to directory on your machine where you want to store the data</span>"
     ]
    },
    {
     "cell_type": "code",
     "collapsed": false,
     "input": [
      "OUT_PATH = '../Data'"
     ],
     "language": "python",
     "metadata": {},
     "outputs": [],
     "prompt_number": 1
    },
    {
     "cell_type": "code",
     "collapsed": false,
     "input": [
      "RUN_DATE = '2013_05_23'\n",
      "CANCER = 'HNSC'\n",
      "VERSION = 'all'\n",
      "DESCRIPTION = '''Testing in local file structure.'''\n",
      "\n",
      "PARAMETERS = {'min_patients' : 12,\n",
      "              'pathway_file' : '../Extra_Data/c2.cp.v3.0.symbols_edit.csv'\n",
      "              }"
     ],
     "language": "python",
     "metadata": {},
     "outputs": [],
     "prompt_number": 2
    },
    {
     "cell_type": "heading",
     "level": 1,
     "metadata": {},
     "source": [
      "Initialization"
     ]
    },
    {
     "cell_type": "code",
     "collapsed": false,
     "input": [
      "cd ../src/"
     ],
     "language": "python",
     "metadata": {},
     "outputs": [
      {
       "output_type": "stream",
       "stream": "stdout",
       "text": [
        "/cellar/users/agross/TCGA_Code/TCGA/src\n"
       ]
      }
     ],
     "prompt_number": 3
    },
    {
     "cell_type": "code",
     "collapsed": false,
     "input": [
      "import pickle as pickle\n",
      "import pandas as pd\n",
      "import os as os \n",
      "\n",
      "from Data.Containers import Run\n",
      "\n",
      "from Data.Containers import get_run\n",
      "from Data.Containers import Cancer\n",
      "from Initialization.InitializeCN import initialize_cn\n",
      "from Initialization.InitializeReal import initialize_real\n",
      "from Initialization.InitializeMut import initialize_mut\n",
      "from Initialization.PreprocessMethylation import process_meth"
     ],
     "language": "python",
     "metadata": {},
     "outputs": [],
     "prompt_number": 4
    },
    {
     "cell_type": "code",
     "collapsed": false,
     "input": [
      "!curl http://gdac.broadinstitute.org/runs/code/firehose_get_latest.zip -o fh_get.zip\n",
      "! unzip fh_get.zip"
     ],
     "language": "python",
     "metadata": {},
     "outputs": [
      {
       "output_type": "stream",
       "stream": "stdout",
       "text": [
        "  % Total    % Received % Xferd  Average Speed   Time    Time     Time  Current\r\n",
        "                                 Dload  Upload   Total   Spent    Left  Speed\r\n",
        "\r",
        "  0     0    0     0    0     0      0      0 --:--:-- --:--:-- --:--:--     0"
       ]
      },
      {
       "output_type": "stream",
       "stream": "stdout",
       "text": [
        "\r",
        " 62  6422   62  4007    0     0   8666      0 --:--:-- --:--:-- --:--:--  8654"
       ]
      },
      {
       "output_type": "stream",
       "stream": "stdout",
       "text": [
        "\r",
        "100  6422  100  6422    0     0  11812      0 --:--:-- --:--:-- --:--:-- 11805\r\n"
       ]
      },
      {
       "output_type": "stream",
       "stream": "stdout",
       "text": [
        "Archive:  fh_get.zip\r\n",
        "replace firehose_get? [y]es, [n]o, [A]ll, [N]one, [r]ename: "
       ]
      },
      {
       "output_type": "stream",
       "stream": "stdout",
       "text": [
        "^C\r\n"
       ]
      }
     ],
     "prompt_number": 5
    },
    {
     "cell_type": "heading",
     "level": 1,
     "metadata": {},
     "source": [
      "Download data"
     ]
    },
    {
     "cell_type": "code",
     "collapsed": false,
     "input": [
      "d = 'http://gdac.broadinstitute.org/runs/analyses__{}/ingested_data.tsv'.format(RUN_DATE)\n",
      "tab = pd.read_table(d, sep='\\n', header=None)\n",
      "skip = tab[0].dropna().apply(lambda s: s.startswith('#'))\n",
      "skip = list(skip[skip==True].index)\n",
      "tab = pd.read_table(d, skiprows=skip, index_col=0).dropna()"
     ],
     "language": "python",
     "metadata": {},
     "outputs": [],
     "prompt_number": 6
    },
    {
     "cell_type": "code",
     "collapsed": false,
     "input": [
      "cancers = tab[tab.Clinical>0].index[:-1]"
     ],
     "language": "python",
     "metadata": {},
     "outputs": [],
     "prompt_number": 7
    },
    {
     "cell_type": "markdown",
     "metadata": {},
     "source": [
      "<span class='alert alert-warning'>Takes about 5 min to download data.</span>"
     ]
    },
    {
     "cell_type": "code",
     "collapsed": false,
     "input": [
      "cancer_string = ' '.join(cancers)"
     ],
     "language": "python",
     "metadata": {},
     "outputs": [],
     "prompt_number": 8
    },
    {
     "cell_type": "code",
     "collapsed": false,
     "input": [
      "!firehose_get -b analyses $RUN_DATE $cancer_string > tmp"
     ],
     "language": "python",
     "metadata": {},
     "outputs": [],
     "prompt_number": 9
    },
    {
     "cell_type": "code",
     "collapsed": false,
     "input": [
      "!firehose_get -b -o miR_gene_expression stddata $RUN_DATE $cancer_string > tmp"
     ],
     "language": "python",
     "metadata": {},
     "outputs": [],
     "prompt_number": 10
    },
    {
     "cell_type": "code",
     "collapsed": false,
     "input": [
      "!firehose_get -b -o RSEM_genes_normalized stddata $RUN_DATE $cancer_string > tmp"
     ],
     "language": "python",
     "metadata": {},
     "outputs": [],
     "prompt_number": 11
    },
    {
     "cell_type": "code",
     "collapsed": false,
     "input": [
      "!firehose_get -b -o rppa stddata $RUN_DATE $cancer_string > tmp"
     ],
     "language": "python",
     "metadata": {},
     "outputs": [],
     "prompt_number": 12
    },
    {
     "cell_type": "code",
     "collapsed": false,
     "input": [
      "!firehose_get -b -o clinical stddata $RUN_DATE $cancer_string > tmp"
     ],
     "language": "python",
     "metadata": {},
     "outputs": [],
     "prompt_number": 13
    },
    {
     "cell_type": "markdown",
     "metadata": {},
     "source": [
      "<span class='alert alert-warning'>Takes about 25 min to download methylation data.</span>"
     ]
    },
    {
     "cell_type": "code",
     "collapsed": false,
     "input": [
      "#!firehose_get -b -o humanmethylation450 stddata $RUN_DATE HNSC"
     ],
     "language": "python",
     "metadata": {},
     "outputs": [],
     "prompt_number": 20
    },
    {
     "cell_type": "heading",
     "level": 1,
     "metadata": {},
     "source": [
      "Clean Up Downloads"
     ]
    },
    {
     "cell_type": "code",
     "collapsed": false,
     "input": [
      "!rm fh_get.zip\n",
      "!rm firehose_get"
     ],
     "language": "python",
     "metadata": {},
     "outputs": [],
     "prompt_number": 21
    },
    {
     "cell_type": "code",
     "collapsed": false,
     "input": [
      "if not os.path.isdir(OUT_PATH):\n",
      "    os.makedirs(OUT_PATH)"
     ],
     "language": "python",
     "metadata": {},
     "outputs": [],
     "prompt_number": 22
    },
    {
     "cell_type": "code",
     "collapsed": false,
     "input": [
      "analyses_folder = 'analyses__' + RUN_DATE\n",
      "!mv $analyses_folder {OUT_PATH + '/' + analyses_folder}"
     ],
     "language": "python",
     "metadata": {},
     "outputs": [],
     "prompt_number": 23
    },
    {
     "cell_type": "code",
     "collapsed": false,
     "input": [
      "stddata_folder = 'stddata__' + RUN_DATE\n",
      "!mv $stddata_folder {OUT_PATH + '/' + stddata_folder}"
     ],
     "language": "python",
     "metadata": {},
     "outputs": [],
     "prompt_number": 24
    },
    {
     "cell_type": "heading",
     "level": 1,
     "metadata": {},
     "source": [
      "Exctract data and set up file hierarchy for downstream analysis"
     ]
    },
    {
     "cell_type": "code",
     "collapsed": false,
     "input": [
      "from Initialization.ProcessFirehose import process_all_cancers\n",
      "\n",
      "process_all_cancers(OUT_PATH, RUN_DATE)"
     ],
     "language": "python",
     "metadata": {},
     "outputs": [],
     "prompt_number": 26
    },
    {
     "cell_type": "markdown",
     "metadata": {},
     "source": [
      "Get rid of all of the downloaded zip files that we processed"
     ]
    },
    {
     "cell_type": "code",
     "collapsed": false,
     "input": [
      "!rm -rf {OUT_PATH + '/' + stddata_folder}\n",
      "!rm -rf {OUT_PATH + '/' + analyses_folder}"
     ],
     "language": "python",
     "metadata": {},
     "outputs": [],
     "prompt_number": 27
    },
    {
     "cell_type": "heading",
     "level": 1,
     "metadata": {},
     "source": [
      "Create Run Object for Firehose Download"
     ]
    },
    {
     "cell_type": "code",
     "collapsed": false,
     "input": [
      "data_path = '{}/Firehose__{}/'.format(OUT_PATH, RUN_DATE)\n",
      "result_path = data_path + 'ucsd_analyses/'"
     ],
     "language": "python",
     "metadata": {},
     "outputs": [],
     "prompt_number": 28
    },
    {
     "cell_type": "code",
     "collapsed": false,
     "input": [
      "cancer_codes = pd.read_table('../Extra_Data/diseaseStudy.txt',\n",
      "                             index_col=0, squeeze=True)\n",
      "run_dir = 'http://gdac.broadinstitute.org/runs'\n",
      "f = '{}/analyses__{}/ingested_data.tsv'.format(run_dir, RUN_DATE)\n",
      "sample_matrix = pd.read_table(f, skiprows=4, index_col=0).dropna()"
     ],
     "language": "python",
     "metadata": {},
     "outputs": [],
     "prompt_number": 29
    },
    {
     "cell_type": "code",
     "collapsed": false,
     "input": [
      "run = Run(RUN_DATE, VERSION, data_path, result_path, PARAMETERS, \n",
      "          cancer_codes, sample_matrix, DESCRIPTION)\n",
      "run.save()\n",
      "run"
     ],
     "language": "python",
     "metadata": {},
     "outputs": [
      {
       "metadata": {},
       "output_type": "pyout",
       "prompt_number": 30,
       "text": [
        "Run object for TCGA Analysis\n",
        "Firehose run date: 2013_05_23\n",
        "Code version: all\n",
        "Comment: Testing in local file structure.\n"
       ]
      }
     ],
     "prompt_number": 30
    },
    {
     "cell_type": "heading",
     "level": 1,
     "metadata": {},
     "source": [
      "Initialize Data Objects into the File Hierarchy"
     ]
    },
    {
     "cell_type": "code",
     "collapsed": false,
     "input": [
      "def init(c, run):\n",
      "    try:\n",
      "        cancer_obj = Cancer(c, run)   \n",
      "        cancer_obj.initialize_data(run, save=True)\n",
      "    except:\n",
      "        print cancer + '\\t' + 'all'\n",
      "    try:\n",
      "        initialize_real(cancer, run.report_path, 'mRNASeq', \n",
      "                        create_meta_features=True)\n",
      "    except:\n",
      "        print cancer + '\\t' + 'mRNASeq'\n",
      "    try:\n",
      "        initialize_real(cancer, run.report_path, 'RPPA', \n",
      "                        create_meta_features=True, create_real_features=False)\n",
      "    except:\n",
      "        print cancer + '\\t' + 'RPPA'\n",
      "    try:\n",
      "        initialize_real(cancer, run.report_path, 'miRNASeq', \n",
      "                        create_meta_features=False)\n",
      "    except:\n",
      "        print cancer + '\\t' + 'miRNASeq'\n",
      "    try:\n",
      "        initialize_cn(cancer, run.report_path, 'CN_broad')\n",
      "    except:\n",
      "        print cancer + '\\t' + 'CN' \n",
      "    try:\n",
      "        initialize_mut(cancer, run.report_path, create_meta_features=True);\n",
      "    except:\n",
      "        print cancer + '\\t' + 'mut' "
     ],
     "language": "python",
     "metadata": {},
     "outputs": [],
     "prompt_number": 31
    },
    {
     "cell_type": "code",
     "collapsed": false,
     "input": [
      "for cancer in run.cancers:\n",
      "    init(cancer, run)"
     ],
     "language": "python",
     "metadata": {},
     "outputs": [
      {
       "output_type": "stream",
       "stream": "stdout",
       "text": [
        "ACC\tall\n",
        "ACC\tmRNASeq\n",
        "ACC\tRPPA\n",
        "ACC\tmiRNASeq\n",
        "ACC\tCN\n",
        "ACC\tmut\n",
        "BLCA\tall"
       ]
      },
      {
       "output_type": "stream",
       "stream": "stdout",
       "text": [
        "\n",
        "BLCA\tmRNASeq"
       ]
      },
      {
       "output_type": "stream",
       "stream": "stdout",
       "text": [
        "\n",
        "BLCA\tRPPA\n",
        "BLCA\tmut"
       ]
      },
      {
       "output_type": "stream",
       "stream": "stdout",
       "text": [
        "\n",
        "BRCA\tall"
       ]
      },
      {
       "output_type": "stream",
       "stream": "stdout",
       "text": [
        "\n",
        "BRCA\tmRNASeq"
       ]
      },
      {
       "output_type": "stream",
       "stream": "stdout",
       "text": [
        "\n",
        "BRCA\tRPPA"
       ]
      },
      {
       "output_type": "stream",
       "stream": "stdout",
       "text": [
        "\n",
        "BRCA\tmut"
       ]
      },
      {
       "output_type": "stream",
       "stream": "stdout",
       "text": [
        "\n",
        "CESC\tall"
       ]
      },
      {
       "output_type": "stream",
       "stream": "stdout",
       "text": [
        "\n",
        "CESC\tmRNASeq"
       ]
      },
      {
       "output_type": "stream",
       "stream": "stdout",
       "text": [
        "\n",
        "CESC\tRPPA\n",
        "CESC\tmut"
       ]
      },
      {
       "output_type": "stream",
       "stream": "stdout",
       "text": [
        "\n",
        "COAD\tall"
       ]
      },
      {
       "output_type": "stream",
       "stream": "stdout",
       "text": [
        "\n",
        "COAD\tmRNASeq"
       ]
      },
      {
       "output_type": "stream",
       "stream": "stdout",
       "text": [
        "\n",
        "COAD\tRPPA"
       ]
      },
      {
       "output_type": "stream",
       "stream": "stdout",
       "text": [
        "\n",
        "COAD\tmut"
       ]
      },
      {
       "output_type": "stream",
       "stream": "stdout",
       "text": [
        "\n",
        "COADREAD\tall"
       ]
      },
      {
       "output_type": "stream",
       "stream": "stdout",
       "text": [
        "\n",
        "COADREAD\tmRNASeq"
       ]
      },
      {
       "output_type": "stream",
       "stream": "stdout",
       "text": [
        "\n",
        "COADREAD\tRPPA"
       ]
      },
      {
       "output_type": "stream",
       "stream": "stdout",
       "text": [
        "\n",
        "COADREAD\tmut"
       ]
      },
      {
       "output_type": "stream",
       "stream": "stdout",
       "text": [
        "\n",
        "DLBC\tall\n",
        "DLBC\tmRNASeq\n",
        "DLBC\tRPPA\n",
        "DLBC\tmiRNASeq\n",
        "DLBC\tCN\n",
        "DLBC\tmut\n",
        "ESCA\tall\n",
        "ESCA\tmRNASeq\n",
        "ESCA\tRPPA\n",
        "ESCA\tmiRNASeq"
       ]
      },
      {
       "output_type": "stream",
       "stream": "stdout",
       "text": [
        "\n",
        "ESCA\tCN\n",
        "ESCA\tmut\n",
        "GBM\tall"
       ]
      },
      {
       "output_type": "stream",
       "stream": "stdout",
       "text": [
        "\n",
        "GBM\tmRNASeq"
       ]
      },
      {
       "output_type": "stream",
       "stream": "stdout",
       "text": [
        "\n",
        "GBM\tRPPA"
       ]
      },
      {
       "output_type": "stream",
       "stream": "stdout",
       "text": [
        "\n",
        "GBM\tmiRNASeq\n",
        "GBM\tmut"
       ]
      },
      {
       "output_type": "stream",
       "stream": "stdout",
       "text": [
        "\n",
        "HNSC\tall"
       ]
      },
      {
       "output_type": "stream",
       "stream": "stdout",
       "text": [
        "\n",
        "HNSC\tmRNASeq"
       ]
      },
      {
       "output_type": "stream",
       "stream": "stdout",
       "text": [
        "\n",
        "HNSC\tRPPA"
       ]
      },
      {
       "output_type": "stream",
       "stream": "stdout",
       "text": [
        "\n",
        "HNSC\tmut"
       ]
      },
      {
       "output_type": "stream",
       "stream": "stdout",
       "text": [
        "\n",
        "KICH\tall"
       ]
      },
      {
       "output_type": "stream",
       "stream": "stdout",
       "text": [
        "\n",
        "KICH\tmRNASeq"
       ]
      },
      {
       "output_type": "stream",
       "stream": "stdout",
       "text": [
        "\n",
        "KICH\tRPPA\n",
        "KICH\tCN"
       ]
      },
      {
       "output_type": "stream",
       "stream": "stdout",
       "text": [
        "\n",
        "KICH\tmut\n",
        "KIRC\tall"
       ]
      },
      {
       "output_type": "stream",
       "stream": "stdout",
       "text": [
        "\n",
        "KIRC\tmRNASeq"
       ]
      },
      {
       "output_type": "stream",
       "stream": "stdout",
       "text": [
        "\n",
        "KIRC\tRPPA"
       ]
      },
      {
       "output_type": "stream",
       "stream": "stdout",
       "text": [
        "\n",
        "KIRC\tmut"
       ]
      },
      {
       "output_type": "stream",
       "stream": "stdout",
       "text": [
        "\n",
        "KIRP\tall"
       ]
      },
      {
       "output_type": "stream",
       "stream": "stdout",
       "text": [
        "\n",
        "KIRP\tmRNASeq"
       ]
      },
      {
       "output_type": "stream",
       "stream": "stdout",
       "text": [
        "\n",
        "KIRP\tRPPA\n",
        "KIRP\tmut"
       ]
      },
      {
       "output_type": "stream",
       "stream": "stdout",
       "text": [
        "\n",
        "LAML\tall"
       ]
      },
      {
       "output_type": "stream",
       "stream": "stdout",
       "text": [
        "\n",
        "LAML\tmRNASeq"
       ]
      },
      {
       "output_type": "stream",
       "stream": "stdout",
       "text": [
        "\n",
        "LAML\tRPPA\n",
        "LAML\tmiRNASeq"
       ]
      },
      {
       "output_type": "stream",
       "stream": "stdout",
       "text": [
        "\n",
        "LAML\tmut"
       ]
      },
      {
       "output_type": "stream",
       "stream": "stdout",
       "text": [
        "\n",
        "LGG\tall"
       ]
      },
      {
       "output_type": "stream",
       "stream": "stdout",
       "text": [
        "\n",
        "LGG\tmRNASeq"
       ]
      },
      {
       "output_type": "stream",
       "stream": "stdout",
       "text": [
        "\n",
        "LGG\tRPPA\n",
        "LGG\tmiRNASeq"
       ]
      },
      {
       "output_type": "stream",
       "stream": "stdout",
       "text": [
        "\n",
        "LGG\tmut"
       ]
      },
      {
       "output_type": "stream",
       "stream": "stdout",
       "text": [
        "\n",
        "LIHC\tall"
       ]
      },
      {
       "output_type": "stream",
       "stream": "stdout",
       "text": [
        "\n",
        "LIHC\tmRNASeq"
       ]
      },
      {
       "output_type": "stream",
       "stream": "stdout",
       "text": [
        "\n",
        "LIHC\tRPPA\n",
        "LIHC\tmut"
       ]
      },
      {
       "output_type": "stream",
       "stream": "stdout",
       "text": [
        "\n",
        "LUAD\tall"
       ]
      },
      {
       "output_type": "stream",
       "stream": "stdout",
       "text": [
        "\n",
        "LUAD\tmRNASeq"
       ]
      },
      {
       "output_type": "stream",
       "stream": "stdout",
       "text": [
        "\n",
        "LUAD\tRPPA"
       ]
      },
      {
       "output_type": "stream",
       "stream": "stdout",
       "text": [
        "\n",
        "LUAD\tmut"
       ]
      },
      {
       "output_type": "stream",
       "stream": "stdout",
       "text": [
        "\n",
        "LUSC\tall"
       ]
      },
      {
       "output_type": "stream",
       "stream": "stdout",
       "text": [
        "\n",
        "LUSC\tmRNASeq"
       ]
      },
      {
       "output_type": "stream",
       "stream": "stdout",
       "text": [
        "\n",
        "LUSC\tRPPA"
       ]
      },
      {
       "output_type": "stream",
       "stream": "stdout",
       "text": [
        "\n",
        "LUSC\tmut"
       ]
      },
      {
       "output_type": "stream",
       "stream": "stdout",
       "text": [
        "\n",
        "OV\tall"
       ]
      },
      {
       "output_type": "stream",
       "stream": "stdout",
       "text": [
        "\n",
        "OV\tmRNASeq"
       ]
      },
      {
       "output_type": "stream",
       "stream": "stdout",
       "text": [
        "\n",
        "OV\tRPPA"
       ]
      },
      {
       "output_type": "stream",
       "stream": "stdout",
       "text": [
        "\n",
        "OV\tmut"
       ]
      },
      {
       "output_type": "stream",
       "stream": "stdout",
       "text": [
        "\n",
        "PAAD\tall"
       ]
      },
      {
       "output_type": "stream",
       "stream": "stdout",
       "text": [
        "\n",
        "PAAD\tmRNASeq"
       ]
      },
      {
       "output_type": "stream",
       "stream": "stdout",
       "text": [
        "\n",
        "PAAD\tRPPA\n",
        "PAAD\tmut"
       ]
      },
      {
       "output_type": "stream",
       "stream": "stdout",
       "text": [
        "\n",
        "PANCAN12\tall"
       ]
      },
      {
       "output_type": "stream",
       "stream": "stdout",
       "text": [
        "\n",
        "PANCAN12\tmRNASeq"
       ]
      },
      {
       "output_type": "stream",
       "stream": "stdout",
       "text": [
        "\n",
        "PANCAN12\tRPPA\n",
        "PANCAN12\tmiRNASeq\n",
        "PANCAN12\tCN"
       ]
      },
      {
       "output_type": "stream",
       "stream": "stdout",
       "text": [
        "\n",
        "PANCAN12\tmut\n",
        "PRAD\tall"
       ]
      },
      {
       "output_type": "stream",
       "stream": "stdout",
       "text": [
        "\n",
        "PRAD\tmRNASeq"
       ]
      },
      {
       "output_type": "stream",
       "stream": "stdout",
       "text": [
        "\n",
        "PRAD\tRPPA\n",
        "PRAD\tmut"
       ]
      },
      {
       "output_type": "stream",
       "stream": "stdout",
       "text": [
        "\n",
        "READ\tall"
       ]
      },
      {
       "output_type": "stream",
       "stream": "stdout",
       "text": [
        "\n",
        "READ\tmRNASeq"
       ]
      },
      {
       "output_type": "stream",
       "stream": "stdout",
       "text": [
        "\n",
        "READ\tRPPA"
       ]
      },
      {
       "output_type": "stream",
       "stream": "stdout",
       "text": [
        "\n",
        "READ\tmut"
       ]
      },
      {
       "output_type": "stream",
       "stream": "stdout",
       "text": [
        "\n",
        "SARC\tall"
       ]
      },
      {
       "output_type": "stream",
       "stream": "stdout",
       "text": [
        "\n",
        "SARC\tmRNASeq\n",
        "SARC\tRPPA\n",
        "SARC\tmiRNASeq\n",
        "SARC\tCN\n",
        "SARC\tmut\n",
        "SKCM\tall"
       ]
      },
      {
       "output_type": "stream",
       "stream": "stdout",
       "text": [
        "\n",
        "SKCM\tmRNASeq"
       ]
      },
      {
       "output_type": "stream",
       "stream": "stdout",
       "text": [
        "\n",
        "SKCM\tRPPA\n",
        "SKCM\tmut"
       ]
      },
      {
       "output_type": "stream",
       "stream": "stdout",
       "text": [
        "\n",
        "STAD\tall"
       ]
      },
      {
       "output_type": "stream",
       "stream": "stdout",
       "text": [
        "\n",
        "STAD\tmRNASeq\n",
        "STAD\tRPPA\n",
        "STAD\tmut"
       ]
      },
      {
       "output_type": "stream",
       "stream": "stdout",
       "text": [
        "\n",
        "THCA\tall"
       ]
      },
      {
       "output_type": "stream",
       "stream": "stdout",
       "text": [
        "\n",
        "THCA\tmRNASeq"
       ]
      },
      {
       "output_type": "stream",
       "stream": "stdout",
       "text": [
        "\n",
        "THCA\tRPPA"
       ]
      },
      {
       "output_type": "stream",
       "stream": "stdout",
       "text": [
        "\n",
        "THCA\tmut"
       ]
      },
      {
       "output_type": "stream",
       "stream": "stdout",
       "text": [
        "\n",
        "UCEC\tall"
       ]
      },
      {
       "output_type": "stream",
       "stream": "stdout",
       "text": [
        "\n",
        "UCEC\tmRNASeq"
       ]
      },
      {
       "output_type": "stream",
       "stream": "stdout",
       "text": [
        "\n",
        "UCEC\tRPPA"
       ]
      },
      {
       "output_type": "stream",
       "stream": "stdout",
       "text": [
        "\n",
        "UCEC\tmut"
       ]
      },
      {
       "output_type": "stream",
       "stream": "stdout",
       "text": [
        "\n",
        "UCS\tall\n",
        "UCS\tmRNASeq\n",
        "UCS\tRPPA\n",
        "UCS\tmiRNASeq\n",
        "UCS\tCN\n",
        "UCS\tmut\n"
       ]
      }
     ],
     "prompt_number": 32
    }
   ],
   "metadata": {}
  }
 ]
}