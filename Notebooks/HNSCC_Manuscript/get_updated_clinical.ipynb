{
 "metadata": {
  "name": ""
 },
 "nbformat": 3,
 "nbformat_minor": 0,
 "worksheets": [
  {
   "cells": [
    {
     "cell_type": "markdown",
     "metadata": {},
     "source": [
      "<h1 class=\"alert alert-info\">Download Data <small>  <i class=\"icon-download\"></i>  Get updated clinical data from the TCGA Data Portal</small></h1>"
     ]
    },
    {
     "cell_type": "markdown",
     "metadata": {},
     "source": [
      "\n",
      "<div class='alert' style='width:600px; font-size:16px'>\n",
      "<h1>GLOBAL VARIABLE WARNING</h1>\n",
      "Here I download updated clinical data from the TCGA Data Portal. \n",
      "This is a secure site which uses HTTPS.  I had to give it a path \n",
      "to my ca-cert for the download to work.  \n",
      "\n",
      "Download a copy of a generic cacert.pem [here](http://curl.haxx.se/ca/cacert.pem).\n",
      "</div>"
     ]
    },
    {
     "cell_type": "code",
     "collapsed": false,
     "input": [
      "PATH_TO_CACERT = '/cellar/users/agross/cacert.pem'"
     ],
     "language": "python",
     "metadata": {},
     "outputs": [],
     "prompt_number": 1
    },
    {
     "cell_type": "code",
     "collapsed": false,
     "input": [
      "cd ../src"
     ],
     "language": "python",
     "metadata": {},
     "outputs": [
      {
       "output_type": "stream",
       "stream": "stdout",
       "text": [
        "/cellar/users/agross/TCGA_Code/TCGA/src\n"
       ]
      }
     ],
     "prompt_number": 2
    },
    {
     "cell_type": "code",
     "collapsed": false,
     "input": [
      "from Processing.Imports import *\n",
      "from IPython.display import clear_output"
     ],
     "language": "python",
     "metadata": {},
     "outputs": [],
     "prompt_number": 3
    },
    {
     "cell_type": "code",
     "collapsed": false,
     "input": [
      "params = pd.read_table('../global_params.txt', header=None, squeeze=True, \n",
      "                       index_col=0)\n",
      "run_path  = '{}/Firehose__{}/'.format(params.ix['OUT_PATH'], params.ix['RUN_DATE'])\n",
      "run = get_run(run_path, 'Run_' + params.ix['VERSION'])"
     ],
     "language": "python",
     "metadata": {},
     "outputs": [],
     "prompt_number": 5
    },
    {
     "cell_type": "code",
     "collapsed": false,
     "input": [
      "path = 'https://tcga-data.nci.nih.gov/tcgafiles/ftp_auth/distro_ftpusers/anonymous/tumor/'\n",
      "out = params['OUT_PATH'] + '/Followup'\n",
      "\n",
      "if not os.path.isdir(out):\n",
      "    os.makedirs(out)"
     ],
     "language": "python",
     "metadata": {},
     "outputs": [],
     "prompt_number": 6
    },
    {
     "cell_type": "code",
     "collapsed": false,
     "input": [
      "for cancer in run.cancers:\n",
      "    print cancer\n",
      "    try:\n",
      "        f = '{}/{}/bcr/biotab/clin/clinical_{}.tar.gz'.format(path, cancer.lower(), cancer.lower())\n",
      "        g = '{}/{}.tar.gz'.format(out, cancer)\n",
      "        !curl --cacert $PATH_TO_CACERT $f > $g\n",
      "    except:\n",
      "        print 'FAIL: Make sure path to cacert.pem is set!'\n",
      "    clear_output()"
     ],
     "language": "python",
     "metadata": {},
     "outputs": [],
     "prompt_number": 7
    },
    {
     "cell_type": "code",
     "collapsed": false,
     "input": [
      "for f in os.listdir(out):\n",
      "    print f\n",
      "    f = '{}/{}'.format(out, f)\n",
      "    o = f[:-7]\n",
      "    if not os.path.isdir(o):\n",
      "        !mkdir $o\n",
      "    !tar -xvf $f --directory=$o\n",
      "    !rm $f\n",
      "    clear_output()"
     ],
     "language": "python",
     "metadata": {},
     "outputs": [],
     "prompt_number": 8
    }
   ],
   "metadata": {}
  }
 ]
}