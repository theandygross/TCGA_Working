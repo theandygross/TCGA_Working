{
 "metadata": {
  "name": "InitializeRun"
 },
 "nbformat": 3,
 "nbformat_minor": 0,
 "worksheets": [
  {
   "cells": [
    {
     "cell_type": "code",
     "collapsed": false,
     "input": [
      "cd ../src"
     ],
     "language": "python",
     "metadata": {},
     "outputs": [
      {
       "output_type": "stream",
       "stream": "stdout",
       "text": [
        "/cellar/users/agross/TCGA_Code/TCGA/Pathway_Merge/src\n"
       ]
      }
     ],
     "prompt_number": 1
    },
    {
     "cell_type": "code",
     "collapsed": false,
     "input": [
      "import os as os\n",
      "import pickle as pickle\n",
      "\n",
      "from Data.Containers import Run, Cancer, Clinical, Dataset\n",
      "from Data.GlobalVars import *\n",
      "from Data.Pathways import read_in_pathways\n",
      "from Processing.GlobalFeatures import get_global_vars\n",
      "from Processing.Tests import SurvivalTest, AnovaTest, run_feature_matrix\n",
      "from Processing.Helpers import make_path_dump\n",
      "\n",
      "from pandas import Series, DataFrame"
     ],
     "language": "python",
     "metadata": {},
     "outputs": [],
     "prompt_number": 2
    },
    {
     "cell_type": "code",
     "collapsed": false,
     "input": [
      "date = '2013_04_21'\n",
      "version = '1'\n",
      "data_path = '/cellar/data/TCGA/Firehose__2013_04_21/'\n",
      "result_path = '/cellar/data/TCGA/Firehose__2013_04_21/ucsd_analyses/'\n",
      "parameters = {'min_patients' : 12,\n",
      "              'pathway_file' : '/cellar/users/agross/Data/GeneSets/c2.cp.v3.0.symbols_edit.csv'\n",
      "              }\n",
      "description = '''Using mSigDB gene sets, trying out new system'''\n",
      "\n",
      "r = Run(date, version, data_path, result_path, parameters, description)\n",
      "r.sample_matrix = r.sample_matrix.ix[:-1]\n",
      "r"
     ],
     "language": "python",
     "metadata": {},
     "outputs": [
      {
       "output_type": "pyout",
       "prompt_number": 3,
       "text": [
        "Run object for TCGA Analysis\n",
        "Firehose run date: 2013_04_21\n",
        "Code version: 1\n",
        "Comment: Using mSigDB gene sets, trying out new system\n"
       ]
      }
     ],
     "prompt_number": 3
    },
    {
     "cell_type": "code",
     "collapsed": false,
     "input": [
      "r.clinical_parameters = {'meta_cols' : meta_cols, 'meta_keep' : meta_keep,\n",
      "                         'event_cols' : event_cols, 'feature_dict' : feature_dict,\n",
      "                         'followup_dict' : followup_dict}\n",
      "\n",
      "gene_sets, gene_lookup = read_in_pathways(pathway_file)\n",
      "r.gene_sets = gene_sets\n",
      "r.gene_lookup = gene_lookup\n",
      "r.genes = array(gene_lookup.keys())"
     ],
     "language": "python",
     "metadata": {},
     "outputs": [],
     "prompt_number": 4
    },
    {
     "cell_type": "code",
     "collapsed": false,
     "input": [
      "'''\n",
      "from pandas import read_csv\n",
      "from collections import defaultdict\n",
      "\n",
      "gene_sets = read_csv('/cellar/users/agross/Data/GeneSets/complexes_sets.csv', \n",
      "                     index_col=0, squeeze=True, header=None)\n",
      "gene_sets = gene_sets.map(eval)\n",
      "gene_sets = gene_sets.map(set)\n",
      "\n",
      "gene_sets = read_csv('/cellar/users/agross/Data/GeneSets/complexes_sets.csv', \n",
      "                     index_col=0, squeeze=True, header=None)\n",
      "gene_sets = gene_sets.rename(lambda s: s.replace('/','_'))\n",
      "gene_sets = gene_sets.map(eval)\n",
      "gene_sets = gene_sets.map(set)\n",
      "gene_lookup = defaultdict(set)\n",
      "for pathway,genes in gene_sets.iteritems():\n",
      "    for gene in genes:\n",
      "        gene_lookup[gene].add(pathway)\n",
      "''';"
     ],
     "language": "python",
     "metadata": {},
     "outputs": [],
     "prompt_number": 6
    },
    {
     "cell_type": "code",
     "collapsed": false,
     "input": [
      "r.report_path = r.result_path + 'Run_' + r.version.replace('.','_')\n",
      "make_path_dump(r, r.report_path + '/RunObject.p')"
     ],
     "language": "python",
     "metadata": {},
     "outputs": [],
     "prompt_number": 7
    },
    {
     "cell_type": "code",
     "collapsed": false,
     "input": [
      "stddata = r.data_path + 'stddata/'\n",
      "for cancer in os.listdir(stddata):\n",
      "    c = stddata + cancer + '/'\n",
      "    for folder in os.listdir(c):        \n",
      "        if folder.startswith('Merge_'):\n",
      "            try:\n",
      "                os.rename(c + folder, c + folder[6:])\n",
      "            except:\n",
      "                do_nothing = True"
     ],
     "language": "python",
     "metadata": {},
     "outputs": [],
     "prompt_number": 8
    },
    {
     "cell_type": "code",
     "collapsed": false,
     "input": [
      "files = []\n",
      "stddata = r.data_path + 'stddata/'\n",
      "for cancer in os.listdir(stddata):\n",
      "    c = stddata + cancer + '/'\n",
      "    for folder in os.listdir(c):        \n",
      "        fp = c + folder + '/'\n",
      "        for f in os.listdir(fp):\n",
      "            if f.find(folder) > -1:\n",
      "                try:\n",
      "                    os.rename(fp + f, fp + f.partition(folder)[-1][1:])\n",
      "                except:\n",
      "                    do_nothing = True"
     ],
     "language": "python",
     "metadata": {},
     "outputs": [
      {
       "output_type": "stream",
       "stream": "stdout",
       "text": [
        "y\n",
        "y\n",
        "y\n"
       ]
      },
      {
       "output_type": "stream",
       "stream": "stdout",
       "text": [
        "y\n",
        "y\n",
        "y"
       ]
      },
      {
       "output_type": "stream",
       "stream": "stdout",
       "text": [
        "\n",
        "y"
       ]
      },
      {
       "output_type": "stream",
       "stream": "stdout",
       "text": [
        "\n",
        "y\n",
        "y\n",
        "y"
       ]
      },
      {
       "output_type": "stream",
       "stream": "stdout",
       "text": [
        "\n",
        "y"
       ]
      },
      {
       "output_type": "stream",
       "stream": "stdout",
       "text": [
        "\n",
        "y"
       ]
      },
      {
       "output_type": "stream",
       "stream": "stdout",
       "text": [
        "\n",
        "y\n",
        "y\n",
        "y\n",
        "y"
       ]
      },
      {
       "output_type": "stream",
       "stream": "stdout",
       "text": [
        "\n",
        "y"
       ]
      },
      {
       "output_type": "stream",
       "stream": "stdout",
       "text": [
        "\n",
        "y\n",
        "y"
       ]
      },
      {
       "output_type": "stream",
       "stream": "stdout",
       "text": [
        "\n",
        "y"
       ]
      },
      {
       "output_type": "stream",
       "stream": "stdout",
       "text": [
        "\n",
        "y\n",
        "y\n",
        "y"
       ]
      },
      {
       "output_type": "stream",
       "stream": "stdout",
       "text": [
        "\n",
        "y\n",
        "y\n",
        "y\n",
        "y"
       ]
      },
      {
       "output_type": "stream",
       "stream": "stdout",
       "text": [
        "\n",
        "y\n",
        "y\n",
        "y"
       ]
      },
      {
       "output_type": "stream",
       "stream": "stdout",
       "text": [
        "\n",
        "y\n",
        "y"
       ]
      },
      {
       "output_type": "stream",
       "stream": "stdout",
       "text": [
        "\n",
        "y\n",
        "y\n",
        "y"
       ]
      },
      {
       "output_type": "stream",
       "stream": "stdout",
       "text": [
        "\n",
        "y\n",
        "y"
       ]
      },
      {
       "output_type": "stream",
       "stream": "stdout",
       "text": [
        "\n",
        "y"
       ]
      },
      {
       "output_type": "stream",
       "stream": "stdout",
       "text": [
        "\n",
        "y\n",
        "y\n",
        "y"
       ]
      },
      {
       "output_type": "stream",
       "stream": "stdout",
       "text": [
        "\n",
        "y"
       ]
      },
      {
       "output_type": "stream",
       "stream": "stdout",
       "text": [
        "\n",
        "y\n",
        "y"
       ]
      },
      {
       "output_type": "stream",
       "stream": "stdout",
       "text": [
        "\n",
        "y\n",
        "y"
       ]
      },
      {
       "output_type": "stream",
       "stream": "stdout",
       "text": [
        "\n"
       ]
      }
     ],
     "prompt_number": 9
    },
    {
     "cell_type": "code",
     "collapsed": false,
     "input": [
      "files = []\n",
      "stddata = r.data_path + 'stddata/'\n",
      "for cancer in os.listdir(stddata):\n",
      "    c = stddata + cancer + '/'\n",
      "    for folder in os.listdir(c):  \n",
      "        if folder in ['aux-files','mage-tabs']:\n",
      "            continue\n",
      "        fp = c + folder + '/'\n",
      "        if '__' in folder:\n",
      "            try:\n",
      "                os.renames(fp, c + '/'.join(folder.split('__')))\n",
      "            except:\n",
      "                do_nothing = True"
     ],
     "language": "python",
     "metadata": {},
     "outputs": [],
     "prompt_number": 10
    },
    {
     "cell_type": "code",
     "collapsed": false,
     "input": [],
     "language": "python",
     "metadata": {},
     "outputs": []
    }
   ],
   "metadata": {}
  }
 ]
}