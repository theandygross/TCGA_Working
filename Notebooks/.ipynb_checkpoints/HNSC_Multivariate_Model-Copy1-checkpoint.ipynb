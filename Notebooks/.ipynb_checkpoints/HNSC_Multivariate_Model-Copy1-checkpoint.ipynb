{
 "metadata": {
  "name": ""
 },
 "nbformat": 3,
 "nbformat_minor": 0,
 "worksheets": [
  {
   "cells": [
    {
     "cell_type": "markdown",
     "metadata": {},
     "source": [
      "#HNSC Multivariate Screen  \n",
      "\n",
      "This is a screen for survival associated features.  "
     ]
    },
    {
     "cell_type": "code",
     "collapsed": false,
     "input": [
      "cd ../src"
     ],
     "language": "python",
     "metadata": {},
     "outputs": [
      {
       "output_type": "stream",
       "stream": "stdout",
       "text": [
        "/cellar/users/agross/TCGA_Code/TCGA/Pathway_Merge/src\n"
       ]
      }
     ],
     "prompt_number": 1
    },
    {
     "cell_type": "code",
     "collapsed": false,
     "input": [
      "from Processing.Imports import *"
     ],
     "language": "python",
     "metadata": {},
     "outputs": [],
     "prompt_number": 2
    },
    {
     "cell_type": "markdown",
     "metadata": {},
     "source": [
      "##Read in Data"
     ]
    },
    {
     "cell_type": "code",
     "collapsed": false,
     "input": [
      "run = get_run('/cellar/data/TCGA/Firehose__2013_04_21/', 'Run_all')\n",
      "\n",
      "cancer = run.load_cancer('HNSC')\n",
      "clinical = cancer.load_clinical()\n",
      "global_vars = cancer.load_global_vars()\n",
      "\n",
      "mut = cancer.load_data('Mutation')\n",
      "mut.uncompress()\n",
      "meth = cancer.load_data('Methylation')\n",
      "cn = cancer.load_data('CN_broad')\n",
      "cn.uncompress()\n",
      "rna = cancer.load_data('mRNASeq')\n",
      "rppa  = cancer.load_data('RPPA')\n",
      "mirna = cancer.load_data('miRNASeq')\n",
      "age = clinical.clinical.age.astype(float)\n",
      "\n",
      "hpv_all = pd.read_csv('/cellar/users/agross/hpv_summary_3_20_13_distribute.csv', index_col=0)\n",
      "hpv = hpv_all.Molecular_HPV.map({0:'HPV-', 1:'HPV+'})\n",
      "hpv.name = 'HPV'"
     ],
     "language": "python",
     "metadata": {},
     "outputs": [
      {
       "ename": "KeyboardInterrupt",
       "evalue": "",
       "output_type": "pyerr",
       "traceback": [
        "\u001b[1;31m---------------------------------------------------------------------------\u001b[0m\n\u001b[1;31mKeyboardInterrupt\u001b[0m                         Traceback (most recent call last)",
        "\u001b[1;32m<ipython-input-3-fe5822c0311a>\u001b[0m in \u001b[0;36m<module>\u001b[1;34m()\u001b[0m\n\u001b[0;32m     12\u001b[0m \u001b[0mrna\u001b[0m \u001b[1;33m=\u001b[0m \u001b[0mcancer\u001b[0m\u001b[1;33m.\u001b[0m\u001b[0mload_data\u001b[0m\u001b[1;33m(\u001b[0m\u001b[1;34m'mRNASeq'\u001b[0m\u001b[1;33m)\u001b[0m\u001b[1;33m\u001b[0m\u001b[0m\n\u001b[0;32m     13\u001b[0m \u001b[0mrppa\u001b[0m  \u001b[1;33m=\u001b[0m \u001b[0mcancer\u001b[0m\u001b[1;33m.\u001b[0m\u001b[0mload_data\u001b[0m\u001b[1;33m(\u001b[0m\u001b[1;34m'RPPA'\u001b[0m\u001b[1;33m)\u001b[0m\u001b[1;33m\u001b[0m\u001b[0m\n\u001b[1;32m---> 14\u001b[1;33m \u001b[0mmirna\u001b[0m \u001b[1;33m=\u001b[0m \u001b[0mcancer\u001b[0m\u001b[1;33m.\u001b[0m\u001b[0mload_data\u001b[0m\u001b[1;33m(\u001b[0m\u001b[1;34m'miRNASeq'\u001b[0m\u001b[1;33m)\u001b[0m\u001b[1;33m\u001b[0m\u001b[0m\n\u001b[0m\u001b[0;32m     15\u001b[0m \u001b[0mage\u001b[0m \u001b[1;33m=\u001b[0m \u001b[0mclinical\u001b[0m\u001b[1;33m.\u001b[0m\u001b[0mclinical\u001b[0m\u001b[1;33m.\u001b[0m\u001b[0mage\u001b[0m\u001b[1;33m.\u001b[0m\u001b[0mastype\u001b[0m\u001b[1;33m(\u001b[0m\u001b[0mfloat\u001b[0m\u001b[1;33m)\u001b[0m\u001b[1;33m\u001b[0m\u001b[0m\n\u001b[0;32m     16\u001b[0m \u001b[1;33m\u001b[0m\u001b[0m\n",
        "\u001b[1;32m/cellar/users/agross/TCGA_Code/TCGA/Pathway_Merge/src/Data/Containers.pyc\u001b[0m in \u001b[0;36mload_data\u001b[1;34m(self, data_type)\u001b[0m\n\u001b[0;32m    103\u001b[0m         \u001b[1;32massert\u001b[0m \u001b[0mhasattr\u001b[0m\u001b[1;33m(\u001b[0m\u001b[0mself\u001b[0m\u001b[1;33m,\u001b[0m \u001b[1;34m'path'\u001b[0m\u001b[1;33m)\u001b[0m\u001b[1;33m\u001b[0m\u001b[0m\n\u001b[0;32m    104\u001b[0m         \u001b[0mpath\u001b[0m \u001b[1;33m=\u001b[0m \u001b[1;34m'/'\u001b[0m\u001b[1;33m.\u001b[0m\u001b[0mjoin\u001b[0m\u001b[1;33m(\u001b[0m\u001b[1;33m[\u001b[0m\u001b[0mself\u001b[0m\u001b[1;33m.\u001b[0m\u001b[0mpath\u001b[0m\u001b[1;33m,\u001b[0m \u001b[0mdata_type\u001b[0m\u001b[1;33m,\u001b[0m \u001b[1;34m'DataObject.p'\u001b[0m\u001b[1;33m]\u001b[0m\u001b[1;33m)\u001b[0m\u001b[1;33m\u001b[0m\u001b[0m\n\u001b[1;32m--> 105\u001b[1;33m         \u001b[0mobj\u001b[0m \u001b[1;33m=\u001b[0m \u001b[0mpickle\u001b[0m\u001b[1;33m.\u001b[0m\u001b[0mload\u001b[0m\u001b[1;33m(\u001b[0m\u001b[0mopen\u001b[0m\u001b[1;33m(\u001b[0m\u001b[0mpath\u001b[0m\u001b[1;33m,\u001b[0m \u001b[1;34m'rb'\u001b[0m\u001b[1;33m)\u001b[0m\u001b[1;33m)\u001b[0m\u001b[1;33m\u001b[0m\u001b[0m\n\u001b[0m\u001b[0;32m    106\u001b[0m         \u001b[1;32mreturn\u001b[0m \u001b[0mobj\u001b[0m\u001b[1;33m\u001b[0m\u001b[0m\n\u001b[0;32m    107\u001b[0m \u001b[1;33m\u001b[0m\u001b[0m\n",
        "\u001b[1;32m/cellar/users/agross/semillon/anaconda2/lib/python2.7/pickle.pyc\u001b[0m in \u001b[0;36mload\u001b[1;34m(file)\u001b[0m\n\u001b[0;32m   1376\u001b[0m \u001b[1;33m\u001b[0m\u001b[0m\n\u001b[0;32m   1377\u001b[0m \u001b[1;32mdef\u001b[0m \u001b[0mload\u001b[0m\u001b[1;33m(\u001b[0m\u001b[0mfile\u001b[0m\u001b[1;33m)\u001b[0m\u001b[1;33m:\u001b[0m\u001b[1;33m\u001b[0m\u001b[0m\n\u001b[1;32m-> 1378\u001b[1;33m     \u001b[1;32mreturn\u001b[0m \u001b[0mUnpickler\u001b[0m\u001b[1;33m(\u001b[0m\u001b[0mfile\u001b[0m\u001b[1;33m)\u001b[0m\u001b[1;33m.\u001b[0m\u001b[0mload\u001b[0m\u001b[1;33m(\u001b[0m\u001b[1;33m)\u001b[0m\u001b[1;33m\u001b[0m\u001b[0m\n\u001b[0m\u001b[0;32m   1379\u001b[0m \u001b[1;33m\u001b[0m\u001b[0m\n\u001b[0;32m   1380\u001b[0m \u001b[1;32mdef\u001b[0m \u001b[0mloads\u001b[0m\u001b[1;33m(\u001b[0m\u001b[0mstr\u001b[0m\u001b[1;33m)\u001b[0m\u001b[1;33m:\u001b[0m\u001b[1;33m\u001b[0m\u001b[0m\n",
        "\u001b[1;32m/cellar/users/agross/semillon/anaconda2/lib/python2.7/pickle.pyc\u001b[0m in \u001b[0;36mload\u001b[1;34m(self)\u001b[0m\n\u001b[0;32m    856\u001b[0m             \u001b[1;32mwhile\u001b[0m \u001b[1;36m1\u001b[0m\u001b[1;33m:\u001b[0m\u001b[1;33m\u001b[0m\u001b[0m\n\u001b[0;32m    857\u001b[0m                 \u001b[0mkey\u001b[0m \u001b[1;33m=\u001b[0m \u001b[0mread\u001b[0m\u001b[1;33m(\u001b[0m\u001b[1;36m1\u001b[0m\u001b[1;33m)\u001b[0m\u001b[1;33m\u001b[0m\u001b[0m\n\u001b[1;32m--> 858\u001b[1;33m                 \u001b[0mdispatch\u001b[0m\u001b[1;33m[\u001b[0m\u001b[0mkey\u001b[0m\u001b[1;33m]\u001b[0m\u001b[1;33m(\u001b[0m\u001b[0mself\u001b[0m\u001b[1;33m)\u001b[0m\u001b[1;33m\u001b[0m\u001b[0m\n\u001b[0m\u001b[0;32m    859\u001b[0m         \u001b[1;32mexcept\u001b[0m \u001b[0m_Stop\u001b[0m\u001b[1;33m,\u001b[0m \u001b[0mstopinst\u001b[0m\u001b[1;33m:\u001b[0m\u001b[1;33m\u001b[0m\u001b[0m\n\u001b[0;32m    860\u001b[0m             \u001b[1;32mreturn\u001b[0m \u001b[0mstopinst\u001b[0m\u001b[1;33m.\u001b[0m\u001b[0mvalue\u001b[0m\u001b[1;33m\u001b[0m\u001b[0m\n",
        "\u001b[1;32m/cellar/users/agross/semillon/anaconda2/lib/python2.7/pickle.pyc\u001b[0m in \u001b[0;36mload_string\u001b[1;34m(self)\u001b[0m\n\u001b[0;32m    960\u001b[0m \u001b[1;33m\u001b[0m\u001b[0m\n\u001b[0;32m    961\u001b[0m     \u001b[1;32mdef\u001b[0m \u001b[0mload_string\u001b[0m\u001b[1;33m(\u001b[0m\u001b[0mself\u001b[0m\u001b[1;33m)\u001b[0m\u001b[1;33m:\u001b[0m\u001b[1;33m\u001b[0m\u001b[0m\n\u001b[1;32m--> 962\u001b[1;33m         \u001b[0mrep\u001b[0m \u001b[1;33m=\u001b[0m \u001b[0mself\u001b[0m\u001b[1;33m.\u001b[0m\u001b[0mreadline\u001b[0m\u001b[1;33m(\u001b[0m\u001b[1;33m)\u001b[0m\u001b[1;33m[\u001b[0m\u001b[1;33m:\u001b[0m\u001b[1;33m-\u001b[0m\u001b[1;36m1\u001b[0m\u001b[1;33m]\u001b[0m\u001b[1;33m\u001b[0m\u001b[0m\n\u001b[0m\u001b[0;32m    963\u001b[0m         \u001b[1;32mfor\u001b[0m \u001b[0mq\u001b[0m \u001b[1;32min\u001b[0m \u001b[1;34m\"\\\"'\"\u001b[0m\u001b[1;33m:\u001b[0m \u001b[1;31m# double or single quote\u001b[0m\u001b[1;33m\u001b[0m\u001b[0m\n\u001b[0;32m    964\u001b[0m             \u001b[1;32mif\u001b[0m \u001b[0mrep\u001b[0m\u001b[1;33m.\u001b[0m\u001b[0mstartswith\u001b[0m\u001b[1;33m(\u001b[0m\u001b[0mq\u001b[0m\u001b[1;33m)\u001b[0m\u001b[1;33m:\u001b[0m\u001b[1;33m\u001b[0m\u001b[0m\n",
        "\u001b[1;31mKeyboardInterrupt\u001b[0m: "
       ]
      }
     ],
     "prompt_number": 3
    },
    {
     "cell_type": "code",
     "collapsed": false,
     "input": [
      "from Data.ProcessClinical import format_survival_from_data_portal\n",
      "path  = '/cellar/users/agross/Data/TCGA/HNSC_Followup/'\n",
      "survival, timeline = format_survival_from_data_portal(path, cancer.name)\n",
      "clinical.survival = survival\n",
      "clinical.artificially_censor(5)\n",
      "age = timeline.age"
     ],
     "language": "python",
     "metadata": {},
     "outputs": []
    },
    {
     "cell_type": "code",
     "collapsed": false,
     "input": [
      "filters = pd.concat([age>=100, hpv=='HPV+'], axis=1)\n",
      "clinical_filter = filters.sum(1) == 0\n",
      "keepers_o = true_index(clinical_filter)"
     ],
     "language": "python",
     "metadata": {},
     "outputs": []
    },
    {
     "cell_type": "code",
     "collapsed": false,
     "input": [
      "filters = pd.concat([age>=85, hpv=='HPV+'], axis=1)\n",
      "clinical_filter = filters.sum(1) == 0\n",
      "keepers = true_index(clinical_filter)"
     ],
     "language": "python",
     "metadata": {},
     "outputs": []
    },
    {
     "cell_type": "code",
     "collapsed": false,
     "input": [
      "surv = clinical.survival.survival_5y\n",
      "old = pd.Series(1.*(age>=75), name='old')"
     ],
     "language": "python",
     "metadata": {},
     "outputs": []
    },
    {
     "cell_type": "markdown",
     "metadata": {},
     "source": [
      "####Form expression and methylation features without HPV  \n",
      "* HPV has a big influence on expression, here I am creating a second set of features without HPV\n",
      "* I use this sparingly but it helps to tease out wheter an association is due to a underlying relationship with HPV"
     ]
    },
    {
     "cell_type": "code",
     "collapsed": true,
     "input": [
      "from Initialization.InitializeReal import RealDataset\n",
      "rna = RealDataset(run, cancer, 'mRNASeq', keepers_o)\n",
      "meth = RealDataset(run, cancer, 'Methylation', keepers_o)\n",
      "mirna = RealDataset(run, cancer, 'miRNASeq', keepers_o, create_meta_features=False)"
     ],
     "language": "python",
     "metadata": {},
     "outputs": []
    },
    {
     "cell_type": "markdown",
     "metadata": {},
     "source": [
      "##Clinical Screen"
     ]
    },
    {
     "cell_type": "code",
     "collapsed": false,
     "input": [
      "stage = clinical.clinical.tumorstage.ix[keepers_o].fillna('nx')\n",
      "stage = stage.dropna().map(lambda s: s.replace('a','').replace('b',''))\n",
      "\n",
      "lymph_stage = clinical.clinical.lymphnodepathologicspread.ix[keepers_o]\n",
      "lymph_stage = lymph_stage.replace('nx', nan).dropna().map(lambda s: s[:2])\n",
      "\n",
      "age = age\n",
      "old_age = (age >= 75).map({True: 'Age > 75', False: 'Age < 75'})\n",
      "pack_years = py = clinical.clinical.numberpackyearssmoked.dropna().astype(float)\n",
      "\n",
      "group = [['oral tongue','oral cavity','floor of mouth','buccal mucosa','alveolar ridge','hard palate','lip'],\n",
      "         ['oropharynx','tonsil','base of tongue'],\n",
      "         #['hypopharynx'],\n",
      "         ['larynx']]\n",
      "groups = ['oral cavity','oropharynx','larynx']\n",
      "tumor_subdivision = pd.Series({idx: groups[i] for i,g in enumerate(group) for idx,j in \n",
      "                               clinical.clinical.neoplasmanatomicsubdivision.iteritems() if j in g})\n",
      "\n",
      "invasion = clinical.clinical.perineuralinvasionpresent.replace('nan', nan)\n",
      "invasion = invasion.fillna('Missing')\n",
      "\n",
      "spread = clinical.clinical.presenceofpathologicalnodalextracapsularspread\n",
      "spread = spread.map({'no extranodal extension': 'no', 'microscopic extension':'yes', \n",
      "                     'gross extension':'yes'}).dropna()\n",
      "\n",
      "lymph = lymph_stage.ix[keepers_o] != 'n0'\n",
      "lymph_status = combine(lymph, spread.ix[keepers_o]=='yes')\n",
      "lymph_status = lymph_status.map({'neither': 'n0', lymph.name: 'lymph_node', 'both': 'extra_capsular_spread'})\n",
      "lymph_status = (lymph_status == 'extra_capsular_spread').astype(float)"
     ],
     "language": "python",
     "metadata": {},
     "outputs": [],
     "prompt_number": 52
    },
    {
     "cell_type": "markdown",
     "metadata": {},
     "source": [
      "* Infer spread for patients without pathology"
     ]
    },
    {
     "cell_type": "code",
     "collapsed": false,
     "input": [
      "diff = screen_feature(spread, fisher_exact_test, rna.features.ix['binary'])\n",
      "dd = diff[diff.p < .01]\n",
      "\n",
      "vec = (2.*(dd.odds_ratio > 1) - 1)\n",
      "loading = vec.dot(1.*(rna.df.xs('01',1,1).ix[vec.index] > -1))\n",
      "\n",
      "ratio = loading.groupby(spread).apply(pd.value_counts).unstack().fillna(0)\n",
      "prob = ratio.T.cumsum() / ratio.sum(1)\n",
      "cutoff = min(true_index((prob.yes > .5)))\n",
      "\n",
      "f = spread.copy() == 'yes'\n",
      "f = f.ix[loading.index]\n",
      "f[f.isnull()] = loading[f.isnull()] >= cutoff\n",
      "spread_inferred = f.ix[keepers_o].fillna(False).astype(float)"
     ],
     "language": "python",
     "metadata": {},
     "outputs": [],
     "prompt_number": 60
    },
    {
     "cell_type": "code",
     "collapsed": false,
     "input": [
      "year = clinical.clinical.yearofinitialpathologicdiagnosis\n",
      "year = year.replace('[Discrepancy]', nan).astype(float)"
     ],
     "language": "python",
     "metadata": {},
     "outputs": [],
     "prompt_number": 62
    },
    {
     "cell_type": "code",
     "collapsed": false,
     "input": [
      "clinical_df = pd.concat([stage, lymph_stage, age, old_age, pack_years,\n",
      "                         tumor_subdivision, invasion, lymph_status, spread_inferred],\n",
      "                        keys = ['stage', 'lymph_stage', 'age', 'old_age', 'pack_years',\n",
      "                         'tumor_subdivision', 'invasion', 'lymph_status', 'spread_inferred'],\n",
      "                        axis=1)"
     ],
     "language": "python",
     "metadata": {},
     "outputs": [],
     "prompt_number": 63
    },
    {
     "cell_type": "code",
     "collapsed": false,
     "input": [
      "lr = clinical_df.ix[keepers_o].apply(cox, args=(surv,)).T"
     ],
     "language": "python",
     "metadata": {},
     "outputs": [],
     "prompt_number": 76
    },
    {
     "cell_type": "code",
     "collapsed": false,
     "input": [
      "cov_df = pd.concat([age, old], axis=1)\n",
      "test = lambda s: get_cox_ph_ms(surv, s.dropna(), cov_df, return_val='LR', interactions=False);"
     ],
     "language": "python",
     "metadata": {},
     "outputs": [],
     "prompt_number": 86
    },
    {
     "cell_type": "code",
     "collapsed": false,
     "input": [
      "clinical_df.ix[keepers_o].apply(test).T.sort('LR')"
     ],
     "language": "python",
     "metadata": {},
     "outputs": [
      {
       "html": [
        "<div style=\"max-height:1000px;max-width:1500px;overflow:auto;\">\n",
        "<table border=\"1\" class=\"dataframe\">\n",
        "  <thead>\n",
        "    <tr style=\"text-align: right;\">\n",
        "      <th></th>\n",
        "      <th>LR</th>\n",
        "      <th>feature_p</th>\n",
        "      <th>fmla</th>\n",
        "      <th>hazzard</th>\n",
        "    </tr>\n",
        "  </thead>\n",
        "  <tbody>\n",
        "    <tr>\n",
        "      <th>spread_inferred</th>\n",
        "      <td> 7.31e-07</td>\n",
        "      <td> 1.68e-07</td>\n",
        "      <td> Surv(days, event) ~ feature + old\\n</td>\n",
        "      <td> 2.93</td>\n",
        "    </tr>\n",
        "    <tr>\n",
        "      <th>lymph_status</th>\n",
        "      <td> 0.000688</td>\n",
        "      <td>   0.0003</td>\n",
        "      <td> Surv(days, event) ~ feature + old\\n</td>\n",
        "      <td> 2.15</td>\n",
        "    </tr>\n",
        "    <tr>\n",
        "      <th>lymph_stage</th>\n",
        "      <td>  0.00606</td>\n",
        "      <td>      NaN</td>\n",
        "      <td> Surv(days, event) ~ feature + old\\n</td>\n",
        "      <td>  NaN</td>\n",
        "    </tr>\n",
        "    <tr>\n",
        "      <th>invasion</th>\n",
        "      <td>   0.0109</td>\n",
        "      <td>      NaN</td>\n",
        "      <td> Surv(days, event) ~ feature + old\\n</td>\n",
        "      <td>  NaN</td>\n",
        "    </tr>\n",
        "    <tr>\n",
        "      <th>tumor_subdivision</th>\n",
        "      <td>        1</td>\n",
        "      <td>      NaN</td>\n",
        "      <td>           Surv(days, event) ~ old\\n</td>\n",
        "      <td>  NaN</td>\n",
        "    </tr>\n",
        "    <tr>\n",
        "      <th>pack_years</th>\n",
        "      <td>        1</td>\n",
        "      <td>      NaN</td>\n",
        "      <td>     Surv(days, event) ~ age + old\\n</td>\n",
        "      <td>  NaN</td>\n",
        "    </tr>\n",
        "    <tr>\n",
        "      <th>stage</th>\n",
        "      <td>        1</td>\n",
        "      <td>      NaN</td>\n",
        "      <td>           Surv(days, event) ~ old\\n</td>\n",
        "      <td>  NaN</td>\n",
        "    </tr>\n",
        "    <tr>\n",
        "      <th>age</th>\n",
        "      <td>        1</td>\n",
        "      <td>      NaN</td>\n",
        "      <td>           Surv(days, event) ~ old\\n</td>\n",
        "      <td>  NaN</td>\n",
        "    </tr>\n",
        "    <tr>\n",
        "      <th>old_age</th>\n",
        "      <td>        1</td>\n",
        "      <td>      NaN</td>\n",
        "      <td>       Surv(days, event) ~ feature\\n</td>\n",
        "      <td>  NaN</td>\n",
        "    </tr>\n",
        "  </tbody>\n",
        "</table>\n",
        "</div>"
       ],
       "metadata": {},
       "output_type": "pyout",
       "prompt_number": 92,
       "text": [
        "                         LR feature_p                                 fmla hazzard\n",
        "spread_inferred    7.31e-07  1.68e-07  Surv(days, event) ~ feature + old\\n    2.93\n",
        "lymph_status       0.000688    0.0003  Surv(days, event) ~ feature + old\\n    2.15\n",
        "lymph_stage         0.00606       NaN  Surv(days, event) ~ feature + old\\n     NaN\n",
        "invasion             0.0109       NaN  Surv(days, event) ~ feature + old\\n     NaN\n",
        "tumor_subdivision         1       NaN            Surv(days, event) ~ old\\n     NaN\n",
        "pack_years                1       NaN      Surv(days, event) ~ age + old\\n     NaN\n",
        "stage                     1       NaN            Surv(days, event) ~ old\\n     NaN\n",
        "age                       1       NaN            Surv(days, event) ~ old\\n     NaN\n",
        "old_age                   1       NaN        Surv(days, event) ~ feature\\n     NaN"
       ]
      }
     ],
     "prompt_number": 92
    },
    {
     "cell_type": "markdown",
     "metadata": {},
     "source": [
      "#Run Mutation Data   \n",
      "\n",
      "###Filter based on mutation rate\n",
      "* We want to filter noisy features that are just artifacts of mutation rate.\n",
      "* The caveat is that we do not want to get rid of passengers that may still have information even though they are mutated at the baseline rate.\n",
      "* The current solution is to only get rid of features with more that half of the patients mutated that are also highly correlated with mutation rate.  We're assuming that the patients without mutations to these pathways are the ones with very low mutation rates such that the actuall genes in the pathway are irrelavant. "
     ]
    },
    {
     "cell_type": "code",
     "collapsed": false,
     "input": [
      "tt = lambda a,b: kruskal_pandas(b,a)\n",
      "def fc(hit_vec, response_vec):\n",
      "    f = response_vec.groupby(hit_vec).median()\n",
      "    return f[0] > f[1]"
     ],
     "language": "python",
     "metadata": {},
     "outputs": [],
     "prompt_number": 10
    },
    {
     "cell_type": "code",
     "collapsed": false,
     "input": [
      "rate = global_vars.mutation.rate_non\n",
      "cc = screen_feature(rate, tt, mut.features)"
     ],
     "language": "python",
     "metadata": {},
     "outputs": [],
     "prompt_number": 11
    },
    {
     "cell_type": "code",
     "collapsed": false,
     "input": [
      "fc_apply = lambda s: fc(s, rate)\n",
      "direction = mut.features.apply(fc_apply, axis=1)\n",
      "direction.name = 'direction'\n",
      "\n",
      "cc = cc.join(direction)\n",
      "cc = cc[cc.direction==False]"
     ],
     "language": "python",
     "metadata": {},
     "outputs": [],
     "prompt_number": 12
    },
    {
     "cell_type": "code",
     "collapsed": false,
     "input": [
      "cc.head()"
     ],
     "language": "python",
     "metadata": {},
     "outputs": [
      {
       "html": [
        "<div style=\"max-height:1000px;max-width:1500px;overflow:auto;\">\n",
        "<table border=\"1\" class=\"dataframe\">\n",
        "  <thead>\n",
        "    <tr style=\"text-align: right;\">\n",
        "      <th></th>\n",
        "      <th>H</th>\n",
        "      <th>p</th>\n",
        "      <th>q</th>\n",
        "      <th>direction</th>\n",
        "    </tr>\n",
        "  </thead>\n",
        "  <tbody>\n",
        "    <tr>\n",
        "      <th>REACTOME_METABOLISM_OF_CARBOHYDRATES</th>\n",
        "      <td> 87.26</td>\n",
        "      <td> 9.53e-21</td>\n",
        "      <td> 9.43e-18</td>\n",
        "      <td> False</td>\n",
        "    </tr>\n",
        "    <tr>\n",
        "      <th>REACTOME_NCAM1_INTERACTIONS</th>\n",
        "      <td> 73.17</td>\n",
        "      <td> 1.19e-17</td>\n",
        "      <td> 4.72e-15</td>\n",
        "      <td> False</td>\n",
        "    </tr>\n",
        "    <tr>\n",
        "      <th>REACTOME_ADHERENS_JUNCTIONS_INTERACTIONS</th>\n",
        "      <td> 72.81</td>\n",
        "      <td> 1.43e-17</td>\n",
        "      <td> 4.72e-15</td>\n",
        "      <td> False</td>\n",
        "    </tr>\n",
        "    <tr>\n",
        "      <th>KEGG_PHOSPHATIDYLINOSITOL_SIGNALING_SYSTEM</th>\n",
        "      <td> 70.12</td>\n",
        "      <td> 5.58e-17</td>\n",
        "      <td> 1.38e-14</td>\n",
        "      <td> False</td>\n",
        "    </tr>\n",
        "    <tr>\n",
        "      <th>KEGG_CARDIAC_MUSCLE_CONTRACTION</th>\n",
        "      <td> 69.07</td>\n",
        "      <td> 9.48e-17</td>\n",
        "      <td> 1.64e-14</td>\n",
        "      <td> False</td>\n",
        "    </tr>\n",
        "  </tbody>\n",
        "</table>\n",
        "</div>"
       ],
       "metadata": {},
       "output_type": "pyout",
       "prompt_number": 13,
       "text": [
        "                                                H         p         q direction\n",
        "REACTOME_METABOLISM_OF_CARBOHYDRATES        87.26  9.53e-21  9.43e-18     False\n",
        "REACTOME_NCAM1_INTERACTIONS                 73.17  1.19e-17  4.72e-15     False\n",
        "REACTOME_ADHERENS_JUNCTIONS_INTERACTIONS    72.81  1.43e-17  4.72e-15     False\n",
        "KEGG_PHOSPHATIDYLINOSITOL_SIGNALING_SYSTEM  70.12  5.58e-17  1.38e-14     False\n",
        "KEGG_CARDIAC_MUSCLE_CONTRACTION             69.07  9.48e-17  1.64e-14     False"
       ]
      }
     ],
     "prompt_number": 13
    },
    {
     "cell_type": "markdown",
     "metadata": {},
     "source": [
      "###Screen for survival associated features  \n",
      "* First pass is a log-rank tet on all features\n",
      "* Next we run the full model with covariates  \n",
      "* We use a combination of the two tests to filter down the candidate associations and pull out the top biomarkers\n",
      "* Here the log-rank test is really underpowered.  \n",
      "* The mutation-rate covariate helps a lot to explain away many of the patients who have very high mutation rates and good prognosis.\n",
      "* The age covariate often explains patients who are in a good-prognosis group but have bad outcomes.\n",
      "* The results of the full model are kind of hard to interperet and non-necessarily relavant as we get a lot of features that help to explain mutation rate effect, ect. and thus improve the model but we don't exactly know what to do with these things for now.   "
     ]
    },
    {
     "cell_type": "markdown",
     "metadata": {},
     "source": [
      "####First pass is a log-rank test on all features"
     ]
    },
    {
     "cell_type": "code",
     "collapsed": false,
     "input": [
      "surv = clinical.survival.survival_5y"
     ],
     "language": "python",
     "metadata": {},
     "outputs": [],
     "prompt_number": 15
    },
    {
     "cell_type": "code",
     "collapsed": false,
     "input": [
      "df = mut.features.ix[((cc.p>.00001) + (mut.features.sum(1) < (mut.features.shape[1] / 2.))) > 0]\n",
      "df = df.ix[:,keepers].dropna(axis=1)\n",
      "\n",
      "lr = df.apply(log_rank, args=(surv,), axis=1)\n",
      "lr['q'] = bhCorrection(lr.p)"
     ],
     "language": "python",
     "metadata": {},
     "outputs": [],
     "prompt_number": 16
    },
    {
     "cell_type": "code",
     "collapsed": false,
     "input": [
      "lr.sort('p').head()"
     ],
     "language": "python",
     "metadata": {},
     "outputs": [
      {
       "html": [
        "<div style=\"max-height:1000px;max-width:1500px;overflow:auto;\">\n",
        "<table border=\"1\" class=\"dataframe\">\n",
        "  <thead>\n",
        "    <tr style=\"text-align: right;\">\n",
        "      <th></th>\n",
        "      <th>chi2</th>\n",
        "      <th>p</th>\n",
        "      <th>q</th>\n",
        "    </tr>\n",
        "  </thead>\n",
        "  <tbody>\n",
        "    <tr>\n",
        "      <th>MUC5B</th>\n",
        "      <td> 14.19</td>\n",
        "      <td> 1.65e-04</td>\n",
        "      <td> 0.09</td>\n",
        "    </tr>\n",
        "    <tr>\n",
        "      <th>TP53</th>\n",
        "      <td> 13.92</td>\n",
        "      <td> 1.90e-04</td>\n",
        "      <td> 0.09</td>\n",
        "    </tr>\n",
        "    <tr>\n",
        "      <th>REACTOME_MRNA_SPLICING_MINOR_PATHWAY</th>\n",
        "      <td>  9.87</td>\n",
        "      <td> 1.68e-03</td>\n",
        "      <td> 0.42</td>\n",
        "    </tr>\n",
        "    <tr>\n",
        "      <th>PDE10A</th>\n",
        "      <td>  9.64</td>\n",
        "      <td> 1.91e-03</td>\n",
        "      <td> 0.42</td>\n",
        "    </tr>\n",
        "    <tr>\n",
        "      <th>KEGG_SPLICEOSOME</th>\n",
        "      <td>  9.25</td>\n",
        "      <td> 2.36e-03</td>\n",
        "      <td> 0.42</td>\n",
        "    </tr>\n",
        "  </tbody>\n",
        "</table>\n",
        "</div>"
       ],
       "metadata": {},
       "output_type": "pyout",
       "prompt_number": 17,
       "text": [
        "                                       chi2         p     q\n",
        "MUC5B                                 14.19  1.65e-04  0.09\n",
        "TP53                                  13.92  1.90e-04  0.09\n",
        "REACTOME_MRNA_SPLICING_MINOR_PATHWAY   9.87  1.68e-03  0.42\n",
        "PDE10A                                 9.64  1.91e-03  0.42\n",
        "KEGG_SPLICEOSOME                       9.25  2.36e-03  0.42"
       ]
      }
     ],
     "prompt_number": 17
    },
    {
     "cell_type": "markdown",
     "metadata": {},
     "source": [
      "####Next we run the full screen"
     ]
    },
    {
     "cell_type": "code",
     "collapsed": false,
     "input": [
      "rate = global_vars[('mutation', 'rate_non')]\n",
      "rate = np.log2(rate)\n",
      "rate.name = 'rate'\n",
      "cov_df = pd.concat([age, rate, old], axis=1)\n",
      "test = lambda s: get_cox_ph_ms(surv, s, cov_df, return_val='LR', interactions=False);"
     ],
     "language": "python",
     "metadata": {},
     "outputs": [],
     "prompt_number": 116
    },
    {
     "cell_type": "code",
     "collapsed": false,
     "input": [
      "df = mut.features.ix[((cc.p>.00001) + (mut.features.sum(1) < (mut.features.shape[1] / 2.))) > 0]\n",
      "df = df.ix[:,keepers_o].dropna(axis=1)"
     ],
     "language": "python",
     "metadata": {},
     "outputs": [],
     "prompt_number": 19
    },
    {
     "cell_type": "code",
     "collapsed": false,
     "input": [
      "mut_res_t = df.apply(test, 1)\n",
      "mut_res_t['LR_q'] = bhCorrection(mut_res_t.LR)"
     ],
     "language": "python",
     "metadata": {},
     "outputs": [],
     "prompt_number": 20
    },
    {
     "cell_type": "code",
     "collapsed": false,
     "input": [
      "mut_res_t.sort('LR').head()"
     ],
     "language": "python",
     "metadata": {},
     "outputs": [
      {
       "html": [
        "<div style=\"max-height:1000px;max-width:1500px;overflow:auto;\">\n",
        "<table border=\"1\" class=\"dataframe\">\n",
        "  <thead>\n",
        "    <tr style=\"text-align: right;\">\n",
        "      <th></th>\n",
        "      <th>LR</th>\n",
        "      <th>feature_p</th>\n",
        "      <th>fmla</th>\n",
        "      <th>hazzard</th>\n",
        "      <th>LR_q</th>\n",
        "    </tr>\n",
        "  </thead>\n",
        "  <tbody>\n",
        "    <tr>\n",
        "      <th>TP53</th>\n",
        "      <td> 9.13e-05</td>\n",
        "      <td> 6.13e-04</td>\n",
        "      <td>        Surv(days, event) ~ feature + old\\n</td>\n",
        "      <td> 2.85e+00</td>\n",
        "      <td> 0.08</td>\n",
        "    </tr>\n",
        "    <tr>\n",
        "      <th>KEGG_CELL_CYCLE</th>\n",
        "      <td> 2.30e-04</td>\n",
        "      <td> 5.32e-03</td>\n",
        "      <td>        Surv(days, event) ~ feature + old\\n</td>\n",
        "      <td> 5.12e+00</td>\n",
        "      <td> 0.10</td>\n",
        "    </tr>\n",
        "    <tr>\n",
        "      <th>MUC5B</th>\n",
        "      <td> 3.45e-04</td>\n",
        "      <td> 4.48e-05</td>\n",
        "      <td>        Surv(days, event) ~ feature + old\\n</td>\n",
        "      <td> 3.17e+00</td>\n",
        "      <td> 0.10</td>\n",
        "    </tr>\n",
        "    <tr>\n",
        "      <th>COL24A1</th>\n",
        "      <td> 5.77e-04</td>\n",
        "      <td> 9.94e-01</td>\n",
        "      <td> Surv(days, event) ~ feature + rate + old\\n</td>\n",
        "      <td> 2.95e-08</td>\n",
        "      <td> 0.11</td>\n",
        "    </tr>\n",
        "    <tr>\n",
        "      <th>BIOCARTA_PGC1A_PATHWAY</th>\n",
        "      <td> 6.28e-04</td>\n",
        "      <td> 7.78e-03</td>\n",
        "      <td> Surv(days, event) ~ feature + rate + old\\n</td>\n",
        "      <td> 1.45e-01</td>\n",
        "      <td> 0.11</td>\n",
        "    </tr>\n",
        "  </tbody>\n",
        "</table>\n",
        "</div>"
       ],
       "metadata": {},
       "output_type": "pyout",
       "prompt_number": 21,
       "text": [
        "                              LR  feature_p                                        fmla   hazzard  LR_q\n",
        "TP53                    9.13e-05   6.13e-04         Surv(days, event) ~ feature + old\\n  2.85e+00  0.08\n",
        "KEGG_CELL_CYCLE         2.30e-04   5.32e-03         Surv(days, event) ~ feature + old\\n  5.12e+00  0.10\n",
        "MUC5B                   3.45e-04   4.48e-05         Surv(days, event) ~ feature + old\\n  3.17e+00  0.10\n",
        "COL24A1                 5.77e-04   9.94e-01  Surv(days, event) ~ feature + rate + old\\n  2.95e-08  0.11\n",
        "BIOCARTA_PGC1A_PATHWAY  6.28e-04   7.78e-03  Surv(days, event) ~ feature + rate + old\\n  1.45e-01  0.11"
       ]
      }
     ],
     "prompt_number": 21
    },
    {
     "cell_type": "markdown",
     "metadata": {},
     "source": [
      "#### Here are the unfiltered results  \n",
      "* Note that the cell cycle pathway does nearly as well as TP53 itself, it is very likely that some of the genes in this pathway serve the same function, but including the pathway greatly increases the complexity of downstream analysis and leads to some tough deconvolution of the interaction of HPV with TP53.  \n",
      "* We have a bunch of redundancy here with closely defined gene-sets, so now we will filter some of these out.\n",
      "* Note that I'm choosing to rank the results by the univariate test, while using the full model as a filter, this reduces the biomarkers we followup on to have relatively straight-forward interpretations as their effect is more direct and less mediated by interaction with mutation rate or age."
     ]
    },
    {
     "cell_type": "code",
     "collapsed": false,
     "input": [
      "mut_res = pd.concat([mut_res_t[mut_res_t.LR_q < .3], lr[lr.p < .05]], \n",
      "                    keys=['Full','Univariate'], axis=1).sort([('Full', 'LR')])\n",
      "mut_res = mut_res.dropna()\n",
      "mut_res.head()"
     ],
     "language": "python",
     "metadata": {},
     "outputs": [
      {
       "html": [
        "<div style=\"max-height:1000px;max-width:1500px;overflow:auto;\">\n",
        "<table border=\"1\" class=\"dataframe\">\n",
        "  <thead>\n",
        "    <tr>\n",
        "      <th></th>\n",
        "      <th colspan=\"5\" halign=\"left\">Full</th>\n",
        "      <th colspan=\"3\" halign=\"left\">Univariate</th>\n",
        "    </tr>\n",
        "    <tr>\n",
        "      <th></th>\n",
        "      <th>LR</th>\n",
        "      <th>feature_p</th>\n",
        "      <th>fmla</th>\n",
        "      <th>hazzard</th>\n",
        "      <th>LR_q</th>\n",
        "      <th>chi2</th>\n",
        "      <th>p</th>\n",
        "      <th>q</th>\n",
        "    </tr>\n",
        "  </thead>\n",
        "  <tbody>\n",
        "    <tr>\n",
        "      <th>TP53</th>\n",
        "      <td> 9.13e-05</td>\n",
        "      <td> 6.13e-04</td>\n",
        "      <td>        Surv(days, event) ~ feature + old\\n</td>\n",
        "      <td> 2.85e+00</td>\n",
        "      <td> 0.08</td>\n",
        "      <td> 13.92</td>\n",
        "      <td> 1.90e-04</td>\n",
        "      <td> 0.09</td>\n",
        "    </tr>\n",
        "    <tr>\n",
        "      <th>KEGG_CELL_CYCLE</th>\n",
        "      <td> 2.30e-04</td>\n",
        "      <td> 5.32e-03</td>\n",
        "      <td>        Surv(days, event) ~ feature + old\\n</td>\n",
        "      <td> 5.12e+00</td>\n",
        "      <td> 0.10</td>\n",
        "      <td>  8.94</td>\n",
        "      <td> 2.79e-03</td>\n",
        "      <td> 0.42</td>\n",
        "    </tr>\n",
        "    <tr>\n",
        "      <th>MUC5B</th>\n",
        "      <td> 3.45e-04</td>\n",
        "      <td> 4.48e-05</td>\n",
        "      <td>        Surv(days, event) ~ feature + old\\n</td>\n",
        "      <td> 3.17e+00</td>\n",
        "      <td> 0.10</td>\n",
        "      <td> 14.19</td>\n",
        "      <td> 1.65e-04</td>\n",
        "      <td> 0.09</td>\n",
        "    </tr>\n",
        "    <tr>\n",
        "      <th>COL24A1</th>\n",
        "      <td> 5.77e-04</td>\n",
        "      <td> 9.94e-01</td>\n",
        "      <td> Surv(days, event) ~ feature + rate + old\\n</td>\n",
        "      <td> 2.95e-08</td>\n",
        "      <td> 0.11</td>\n",
        "      <td>  6.08</td>\n",
        "      <td> 1.37e-02</td>\n",
        "      <td> 0.58</td>\n",
        "    </tr>\n",
        "    <tr>\n",
        "      <th>BIOCARTA_PGC1A_PATHWAY</th>\n",
        "      <td> 6.28e-04</td>\n",
        "      <td> 7.78e-03</td>\n",
        "      <td> Surv(days, event) ~ feature + rate + old\\n</td>\n",
        "      <td> 1.45e-01</td>\n",
        "      <td> 0.11</td>\n",
        "      <td>  8.10</td>\n",
        "      <td> 4.42e-03</td>\n",
        "      <td> 0.48</td>\n",
        "    </tr>\n",
        "  </tbody>\n",
        "</table>\n",
        "</div>"
       ],
       "metadata": {},
       "output_type": "pyout",
       "prompt_number": 22,
       "text": [
        "                            Full                                                   Full      Full        Univariate                \n",
        "                              LR  feature_p                                        fmla   hazzard  LR_q        chi2         p     q\n",
        "TP53                    9.13e-05   6.13e-04         Surv(days, event) ~ feature + old\\n  2.85e+00  0.08       13.92  1.90e-04  0.09\n",
        "KEGG_CELL_CYCLE         2.30e-04   5.32e-03         Surv(days, event) ~ feature + old\\n  5.12e+00  0.10        8.94  2.79e-03  0.42\n",
        "MUC5B                   3.45e-04   4.48e-05         Surv(days, event) ~ feature + old\\n  3.17e+00  0.10       14.19  1.65e-04  0.09\n",
        "COL24A1                 5.77e-04   9.94e-01  Surv(days, event) ~ feature + rate + old\\n  2.95e-08  0.11        6.08  1.37e-02  0.58\n",
        "BIOCARTA_PGC1A_PATHWAY  6.28e-04   7.78e-03  Surv(days, event) ~ feature + rate + old\\n  1.45e-01  0.11        8.10  4.42e-03  0.48"
       ]
      }
     ],
     "prompt_number": 22
    },
    {
     "cell_type": "markdown",
     "metadata": {},
     "source": [
      "##CNA Screen "
     ]
    },
    {
     "cell_type": "markdown",
     "metadata": {},
     "source": [
      "###Univariate model"
     ]
    },
    {
     "cell_type": "code",
     "collapsed": false,
     "input": [
      "df = (cn.features.ix['Deletion', keepers].dropna(1) < 0).astype(int)\n",
      "df = df[df.sum(1) > 10]\n",
      "\n",
      "lr = df.apply(log_rank, args=(surv,), axis=1)\n",
      "lr = lr.sort('p')\n",
      "lr_del = lr"
     ],
     "language": "python",
     "metadata": {},
     "outputs": [],
     "prompt_number": 24
    },
    {
     "cell_type": "code",
     "collapsed": false,
     "input": [
      "df = (cn.features.ix['Amplification', keepers].dropna(1) > 0).astype(str)\n",
      "df = df[df.sum(1) > 10]\n",
      "\n",
      "lr = df.apply(log_rank, args=(surv,), axis=1)\n",
      "lr = lr.sort('p')\n",
      "lr_amp = lr"
     ],
     "language": "python",
     "metadata": {},
     "outputs": [],
     "prompt_number": 26
    },
    {
     "cell_type": "code",
     "collapsed": false,
     "input": [
      "lr = pd.concat([lr_del, lr_amp], keys=['Deletion','Amplification'])\n",
      "lr['q'] = bhCorrection(lr.p)"
     ],
     "language": "python",
     "metadata": {},
     "outputs": [],
     "prompt_number": 27
    },
    {
     "cell_type": "code",
     "collapsed": false,
     "input": [
      "lr.sort('p').head()"
     ],
     "language": "python",
     "metadata": {},
     "outputs": [
      {
       "html": [
        "<div style=\"max-height:1000px;max-width:1500px;overflow:auto;\">\n",
        "<table border=\"1\" class=\"dataframe\">\n",
        "  <thead>\n",
        "    <tr style=\"text-align: right;\">\n",
        "      <th></th>\n",
        "      <th></th>\n",
        "      <th></th>\n",
        "      <th>chi2</th>\n",
        "      <th>p</th>\n",
        "      <th>q</th>\n",
        "    </tr>\n",
        "  </thead>\n",
        "  <tbody>\n",
        "    <tr>\n",
        "      <th rowspan=\"4\" valign=\"top\">Deletion</th>\n",
        "      <th>3p14.2</th>\n",
        "      <th>Lesion</th>\n",
        "      <td> 13.17</td>\n",
        "      <td> 2.85e-04</td>\n",
        "      <td> 0.01</td>\n",
        "    </tr>\n",
        "    <tr>\n",
        "      <th>3p25.3</th>\n",
        "      <th>Lesion</th>\n",
        "      <td> 13.03</td>\n",
        "      <td> 3.07e-04</td>\n",
        "      <td> 0.01</td>\n",
        "    </tr>\n",
        "    <tr>\n",
        "      <th>3p12.2</th>\n",
        "      <th>Lesion</th>\n",
        "      <td> 10.90</td>\n",
        "      <td> 9.64e-04</td>\n",
        "      <td> 0.02</td>\n",
        "    </tr>\n",
        "    <tr>\n",
        "      <th>11p15.4</th>\n",
        "      <th>Lesion</th>\n",
        "      <td>  9.58</td>\n",
        "      <td> 1.97e-03</td>\n",
        "      <td> 0.03</td>\n",
        "    </tr>\n",
        "    <tr>\n",
        "      <th>Amplification</th>\n",
        "      <th>3q26.33</th>\n",
        "      <th>Lesion</th>\n",
        "      <td>  8.92</td>\n",
        "      <td> 2.82e-03</td>\n",
        "      <td> 0.04</td>\n",
        "    </tr>\n",
        "  </tbody>\n",
        "</table>\n",
        "</div>"
       ],
       "metadata": {},
       "output_type": "pyout",
       "prompt_number": 28,
       "text": [
        "                               chi2         p     q\n",
        "Deletion      3p14.2  Lesion  13.17  2.85e-04  0.01\n",
        "              3p25.3  Lesion  13.03  3.07e-04  0.01\n",
        "              3p12.2  Lesion  10.90  9.64e-04  0.02\n",
        "              11p15.4 Lesion   9.58  1.97e-03  0.03\n",
        "Amplification 3q26.33 Lesion   8.92  2.82e-03  0.04"
       ]
      }
     ],
     "prompt_number": 28
    },
    {
     "cell_type": "markdown",
     "metadata": {},
     "source": [
      "###Multi-variate model"
     ]
    },
    {
     "cell_type": "code",
     "collapsed": false,
     "input": [
      "rate = cn.df.ix['Deletion'].sum()\n",
      "rate.name = 'rate'\n",
      "cov_df = pd.concat([age, rate, old], axis=1).dropna()\n",
      "test = lambda s: get_cox_ph_ms(surv, s, cov_df, return_val='LR', interactions=False);\n",
      "\n",
      "df = (cn.features.ix['Deletion', keepers_o].dropna(1) < 0).astype(int)\n",
      "df = df[df.sum(1) > 10]\n",
      "cn_res_t = df.apply(test, 1)\n",
      "cn_res_t['LR_q'] = bhCorrection(cn_res_t.LR)"
     ],
     "language": "python",
     "metadata": {},
     "outputs": [],
     "prompt_number": 41
    },
    {
     "cell_type": "code",
     "collapsed": false,
     "input": [
      "rate = cn.df.ix['Amplification'].sum()\n",
      "rate.name = 'rate'\n",
      "cov_df = pd.concat([age, rate, old], axis=1).dropna()\n",
      "test = lambda s: get_cox_ph_ms(surv, s, cov_df, return_val='LR', interactions=False);\n",
      "\n",
      "df = (cn.features.ix['Amplification', keepers_o].dropna(1) > 0).astype(int)\n",
      "df = df[df.sum(1) > 10]\n",
      "cn_res_a = df.apply(test, 1)\n",
      "cn_res_a['LR_q'] = bhCorrection(cn_res_a.LR)"
     ],
     "language": "python",
     "metadata": {},
     "outputs": [],
     "prompt_number": 45
    },
    {
     "cell_type": "code",
     "collapsed": false,
     "input": [
      "cn_full = pd.concat([cn_del_full, cn_amp_full], keys=['Deletion','Amplification'])\n",
      "cn_full['LR_q'] = bhCorrection(cn_full.LR)"
     ],
     "language": "python",
     "metadata": {},
     "outputs": []
    },
    {
     "cell_type": "code",
     "collapsed": false,
     "input": [
      "cn_res = pd.concat([cn_full[cn_full.LR_q < .9], lr[lr.p < .05]], \n",
      "                    keys=['Full','Univariate'], axis=1).sort([('Full', 'LR')])\n",
      "cn_res = cn_res.dropna()\n",
      "cn_res.head()"
     ],
     "language": "python",
     "metadata": {},
     "outputs": [
      {
       "html": [
        "<div style=\"max-height:1000px;max-width:1500px;overflow:auto;\">\n",
        "<table border=\"1\" class=\"dataframe\">\n",
        "  <thead>\n",
        "    <tr>\n",
        "      <th></th>\n",
        "      <th></th>\n",
        "      <th></th>\n",
        "      <th colspan=\"5\" halign=\"left\">Full</th>\n",
        "      <th colspan=\"3\" halign=\"left\">Univariate</th>\n",
        "    </tr>\n",
        "    <tr>\n",
        "      <th></th>\n",
        "      <th></th>\n",
        "      <th></th>\n",
        "      <th>LR</th>\n",
        "      <th>feature_p</th>\n",
        "      <th>fmla</th>\n",
        "      <th>hazzard</th>\n",
        "      <th>LR_q</th>\n",
        "      <th>chi2</th>\n",
        "      <th>p</th>\n",
        "      <th>q</th>\n",
        "    </tr>\n",
        "  </thead>\n",
        "  <tbody>\n",
        "    <tr>\n",
        "      <th rowspan=\"5\" valign=\"top\">Deletion</th>\n",
        "      <th>3p14.2</th>\n",
        "      <th>Lesion</th>\n",
        "      <td> 0.00</td>\n",
        "      <td> 0.0</td>\n",
        "      <td>        Surv(days, event) ~ feature + old\\n</td>\n",
        "      <td> 2.61</td>\n",
        "      <td> 0.21</td>\n",
        "      <td> 13.17</td>\n",
        "      <td> 2.85e-04</td>\n",
        "      <td> 0.01</td>\n",
        "    </tr>\n",
        "    <tr>\n",
        "      <th>3p25.3</th>\n",
        "      <th>Lesion</th>\n",
        "      <td> 0.01</td>\n",
        "      <td> 0.0</td>\n",
        "      <td>        Surv(days, event) ~ feature + old\\n</td>\n",
        "      <td> 2.44</td>\n",
        "      <td> 0.21</td>\n",
        "      <td> 13.03</td>\n",
        "      <td> 3.07e-04</td>\n",
        "      <td> 0.01</td>\n",
        "    </tr>\n",
        "    <tr>\n",
        "      <th>3p12.2</th>\n",
        "      <th>Lesion</th>\n",
        "      <td> 0.02</td>\n",
        "      <td> 0.0</td>\n",
        "      <td>        Surv(days, event) ~ feature + old\\n</td>\n",
        "      <td> 2.14</td>\n",
        "      <td> 0.40</td>\n",
        "      <td> 10.90</td>\n",
        "      <td> 9.64e-04</td>\n",
        "      <td> 0.02</td>\n",
        "    </tr>\n",
        "    <tr>\n",
        "      <th>11q14.1</th>\n",
        "      <th>Lesion</th>\n",
        "      <td> 0.09</td>\n",
        "      <td> 0.0</td>\n",
        "      <td>        Surv(days, event) ~ feature + old\\n</td>\n",
        "      <td> 1.77</td>\n",
        "      <td> 0.76</td>\n",
        "      <td>  7.85</td>\n",
        "      <td> 5.07e-03</td>\n",
        "      <td> 0.06</td>\n",
        "    </tr>\n",
        "    <tr>\n",
        "      <th>7q36.1</th>\n",
        "      <th>Lesion</th>\n",
        "      <td> 0.11</td>\n",
        "      <td> 0.1</td>\n",
        "      <td> Surv(days, event) ~ feature + rate + old\\n</td>\n",
        "      <td> 1.45</td>\n",
        "      <td> 0.76</td>\n",
        "      <td>  5.40</td>\n",
        "      <td> 2.02e-02</td>\n",
        "      <td> 0.13</td>\n",
        "    </tr>\n",
        "  </tbody>\n",
        "</table>\n",
        "</div>"
       ],
       "metadata": {},
       "output_type": "pyout",
       "prompt_number": 50,
       "text": [
        "                         Full                                                   Full     Full        Univariate                \n",
        "                           LR  feature_p                                        fmla  hazzard  LR_q        chi2         p     q\n",
        "Deletion 3p14.2  Lesion  0.00        0.0         Surv(days, event) ~ feature + old\\n     2.61  0.21       13.17  2.85e-04  0.01\n",
        "         3p25.3  Lesion  0.01        0.0         Surv(days, event) ~ feature + old\\n     2.44  0.21       13.03  3.07e-04  0.01\n",
        "         3p12.2  Lesion  0.02        0.0         Surv(days, event) ~ feature + old\\n     2.14  0.40       10.90  9.64e-04  0.02\n",
        "         11q14.1 Lesion  0.09        0.0         Surv(days, event) ~ feature + old\\n     1.77  0.76        7.85  5.07e-03  0.06\n",
        "         7q36.1  Lesion  0.11        0.1  Surv(days, event) ~ feature + rate + old\\n     1.45  0.76        5.40  2.02e-02  0.13"
       ]
      }
     ],
     "prompt_number": 50
    },
    {
     "cell_type": "markdown",
     "metadata": {},
     "source": [
      "##RNA Screen"
     ]
    },
    {
     "cell_type": "code",
     "collapsed": false,
     "input": [
      "cox = cox_screen(rna.pathways, surv)"
     ],
     "language": "python",
     "metadata": {},
     "outputs": [],
     "prompt_number": 93
    },
    {
     "cell_type": "code",
     "collapsed": false,
     "input": [
      "cox.head()"
     ],
     "language": "python",
     "metadata": {},
     "outputs": [
      {
       "html": [
        "<div style=\"max-height:1000px;max-width:1500px;overflow:auto;\">\n",
        "<table border=\"1\" class=\"dataframe\">\n",
        "  <thead>\n",
        "    <tr style=\"text-align: right;\">\n",
        "      <th></th>\n",
        "      <th>LR</th>\n",
        "      <th>p</th>\n",
        "      <th>q</th>\n",
        "    </tr>\n",
        "  </thead>\n",
        "  <tbody>\n",
        "    <tr>\n",
        "      <th>BIOCARTA_BARRESTIN_SRC_PATHWAY</th>\n",
        "      <td> 18.92</td>\n",
        "      <td> 1.36e-05</td>\n",
        "      <td> 0.00</td>\n",
        "    </tr>\n",
        "    <tr>\n",
        "      <th>BIOCARTA_BARR_MAPK_PATHWAY</th>\n",
        "      <td> 18.66</td>\n",
        "      <td> 1.57e-05</td>\n",
        "      <td> 0.00</td>\n",
        "    </tr>\n",
        "    <tr>\n",
        "      <th>REACTOME_PURINE_METABOLISM</th>\n",
        "      <td> 16.85</td>\n",
        "      <td> 4.04e-05</td>\n",
        "      <td> 0.01</td>\n",
        "    </tr>\n",
        "    <tr>\n",
        "      <th>BIOCARTA_GCR_PATHWAY</th>\n",
        "      <td> 16.49</td>\n",
        "      <td> 4.89e-05</td>\n",
        "      <td> 0.01</td>\n",
        "    </tr>\n",
        "    <tr>\n",
        "      <th>REACTOME_VIRAL_MESSENGER_RNA_SYNTHESIS</th>\n",
        "      <td> 15.71</td>\n",
        "      <td> 7.40e-05</td>\n",
        "      <td> 0.01</td>\n",
        "    </tr>\n",
        "  </tbody>\n",
        "</table>\n",
        "</div>"
       ],
       "metadata": {},
       "output_type": "pyout",
       "prompt_number": 94,
       "text": [
        "                                           LR         p     q\n",
        "BIOCARTA_BARRESTIN_SRC_PATHWAY          18.92  1.36e-05  0.00\n",
        "BIOCARTA_BARR_MAPK_PATHWAY              18.66  1.57e-05  0.00\n",
        "REACTOME_PURINE_METABOLISM              16.85  4.04e-05  0.01\n",
        "BIOCARTA_GCR_PATHWAY                    16.49  4.89e-05  0.01\n",
        "REACTOME_VIRAL_MESSENGER_RNA_SYNTHESIS  15.71  7.40e-05  0.01"
       ]
      }
     ],
     "prompt_number": 94
    },
    {
     "cell_type": "code",
     "collapsed": false,
     "input": [
      "pc1 = rna.global_vars.pc1\n",
      "background = rna.global_vars.background\n",
      "cov_df = pd.concat([age, pc1, background, old], axis=1).dropna()\n",
      "test = lambda s: get_cox_ph_ms(surv, s, cov_df, return_val='LR', interactions=False);\n",
      "\n",
      "df = rna.pathways.ix[:, keepers_o]\n",
      "rna_res = df.apply(test, 1)\n",
      "rna_res['LR_q'] = bhCorrection(rna_res.LR)"
     ],
     "language": "python",
     "metadata": {},
     "outputs": [],
     "prompt_number": 95
    },
    {
     "cell_type": "code",
     "collapsed": false,
     "input": [
      "rna_res.sort('LR').head()"
     ],
     "language": "python",
     "metadata": {},
     "outputs": [
      {
       "html": [
        "<div style=\"max-height:1000px;max-width:1500px;overflow:auto;\">\n",
        "<table border=\"1\" class=\"dataframe\">\n",
        "  <thead>\n",
        "    <tr style=\"text-align: right;\">\n",
        "      <th></th>\n",
        "      <th>LR</th>\n",
        "      <th>feature_p</th>\n",
        "      <th>fmla</th>\n",
        "      <th>hazzard</th>\n",
        "      <th>LR_q</th>\n",
        "    </tr>\n",
        "  </thead>\n",
        "  <tbody>\n",
        "    <tr>\n",
        "      <th>ST_B_CELL_ANTIGEN_RECEPTOR</th>\n",
        "      <td> 8.44e-06</td>\n",
        "      <td> 1.65e-05</td>\n",
        "      <td> Surv(days, event) ~ feature + pc1 + background...</td>\n",
        "      <td> 1.59</td>\n",
        "      <td> 0</td>\n",
        "    </tr>\n",
        "    <tr>\n",
        "      <th>BIOCARTA_BARRESTIN_SRC_PATHWAY</th>\n",
        "      <td> 2.68e-05</td>\n",
        "      <td> 1.14e-05</td>\n",
        "      <td>               Surv(days, event) ~ feature + old\\n</td>\n",
        "      <td> 1.59</td>\n",
        "      <td> 0</td>\n",
        "    </tr>\n",
        "    <tr>\n",
        "      <th>REACTOME_PHOSPHORYLATION_OF_THE_APC</th>\n",
        "      <td> 2.84e-05</td>\n",
        "      <td> 6.37e-05</td>\n",
        "      <td> Surv(days, event) ~ feature + pc1 + background...</td>\n",
        "      <td> 1.55</td>\n",
        "      <td> 0</td>\n",
        "    </tr>\n",
        "    <tr>\n",
        "      <th>BIOCARTA_BARR_MAPK_PATHWAY</th>\n",
        "      <td> 3.20e-05</td>\n",
        "      <td> 1.29e-05</td>\n",
        "      <td>               Surv(days, event) ~ feature + old\\n</td>\n",
        "      <td> 0.64</td>\n",
        "      <td> 0</td>\n",
        "    </tr>\n",
        "    <tr>\n",
        "      <th>BIOCARTA_ERK_PATHWAY</th>\n",
        "      <td> 3.61e-05</td>\n",
        "      <td> 5.24e-05</td>\n",
        "      <td> Surv(days, event) ~ feature + pc1 + background...</td>\n",
        "      <td> 1.54</td>\n",
        "      <td> 0</td>\n",
        "    </tr>\n",
        "  </tbody>\n",
        "</table>\n",
        "</div>"
       ],
       "metadata": {},
       "output_type": "pyout",
       "prompt_number": 99,
       "text": [
        "                                           LR  feature_p                                               fmla  hazzard  LR_q\n",
        "ST_B_CELL_ANTIGEN_RECEPTOR           8.44e-06   1.65e-05  Surv(days, event) ~ feature + pc1 + background...     1.59     0\n",
        "BIOCARTA_BARRESTIN_SRC_PATHWAY       2.68e-05   1.14e-05                Surv(days, event) ~ feature + old\\n     1.59     0\n",
        "REACTOME_PHOSPHORYLATION_OF_THE_APC  2.84e-05   6.37e-05  Surv(days, event) ~ feature + pc1 + background...     1.55     0\n",
        "BIOCARTA_BARR_MAPK_PATHWAY           3.20e-05   1.29e-05                Surv(days, event) ~ feature + old\\n     0.64     0\n",
        "BIOCARTA_ERK_PATHWAY                 3.61e-05   5.24e-05  Surv(days, event) ~ feature + pc1 + background...     1.54     0"
       ]
      }
     ],
     "prompt_number": 99
    },
    {
     "cell_type": "markdown",
     "metadata": {},
     "source": [
      "##miRNA Screen"
     ]
    },
    {
     "cell_type": "code",
     "collapsed": false,
     "input": [
      "cox = cox_screen(mirna.features, surv)"
     ],
     "language": "python",
     "metadata": {},
     "outputs": [],
     "prompt_number": 100
    },
    {
     "cell_type": "code",
     "collapsed": false,
     "input": [
      "cox.head()"
     ],
     "language": "python",
     "metadata": {},
     "outputs": [
      {
       "html": [
        "<div style=\"max-height:1000px;max-width:1500px;overflow:auto;\">\n",
        "<table border=\"1\" class=\"dataframe\">\n",
        "  <thead>\n",
        "    <tr style=\"text-align: right;\">\n",
        "      <th></th>\n",
        "      <th></th>\n",
        "      <th>LR</th>\n",
        "      <th>p</th>\n",
        "      <th>q</th>\n",
        "    </tr>\n",
        "  </thead>\n",
        "  <tbody>\n",
        "    <tr>\n",
        "      <th>binary</th>\n",
        "      <th>hsa-mir-3170</th>\n",
        "      <td> 18.06</td>\n",
        "      <td> 2.14e-05</td>\n",
        "      <td> 0.01</td>\n",
        "    </tr>\n",
        "    <tr>\n",
        "      <th rowspan=\"2\" valign=\"top\">real</th>\n",
        "      <th>hsa-mir-758</th>\n",
        "      <td> 16.54</td>\n",
        "      <td> 4.76e-05</td>\n",
        "      <td> 0.01</td>\n",
        "    </tr>\n",
        "    <tr>\n",
        "      <th>hsa-mir-487b</th>\n",
        "      <td> 15.45</td>\n",
        "      <td> 8.47e-05</td>\n",
        "      <td> 0.01</td>\n",
        "    </tr>\n",
        "    <tr>\n",
        "      <th>binary</th>\n",
        "      <th>hsa-mir-548k</th>\n",
        "      <td> 13.66</td>\n",
        "      <td> 2.19e-04</td>\n",
        "      <td> 0.02</td>\n",
        "    </tr>\n",
        "    <tr>\n",
        "      <th>real</th>\n",
        "      <th>hsa-mir-379</th>\n",
        "      <td> 13.19</td>\n",
        "      <td> 2.82e-04</td>\n",
        "      <td> 0.02</td>\n",
        "    </tr>\n",
        "  </tbody>\n",
        "</table>\n",
        "</div>"
       ],
       "metadata": {},
       "output_type": "pyout",
       "prompt_number": 102,
       "text": [
        "                        LR         p     q\n",
        "binary hsa-mir-3170  18.06  2.14e-05  0.01\n",
        "real   hsa-mir-758   16.54  4.76e-05  0.01\n",
        "       hsa-mir-487b  15.45  8.47e-05  0.01\n",
        "binary hsa-mir-548k  13.66  2.19e-04  0.02\n",
        "real   hsa-mir-379   13.19  2.82e-04  0.02"
       ]
      }
     ],
     "prompt_number": 102
    },
    {
     "cell_type": "code",
     "collapsed": false,
     "input": [
      "pc1 = mirna.global_vars.pc1\n",
      "background = mirna.global_vars.background\n",
      "cov_df = pd.concat([age, pc1, background, old], axis=1).dropna()\n",
      "test = lambda s: get_cox_ph_ms(surv, s, cov_df, ret\n",
      "rn_val='LR', interactions=False);\n",
      "\n",
      "df = mirna.features.ix[:, keepers_o]\n",
      "mirna_res = df.apply(test, 1)\n",
      "mirna_res['LR_q'] = bhCorrection(mirna_res.LR)"
     ],
     "language": "python",
     "metadata": {},
     "outputs": [],
     "prompt_number": 104
    },
    {
     "cell_type": "code",
     "collapsed": false,
     "input": [
      "mirna_res.sort('LR').head()"
     ],
     "language": "python",
     "metadata": {},
     "outputs": [
      {
       "html": [
        "<div style=\"max-height:1000px;max-width:1500px;overflow:auto;\">\n",
        "<table border=\"1\" class=\"dataframe\">\n",
        "  <thead>\n",
        "    <tr style=\"text-align: right;\">\n",
        "      <th></th>\n",
        "      <th></th>\n",
        "      <th>LR</th>\n",
        "      <th>feature_p</th>\n",
        "      <th>fmla</th>\n",
        "      <th>hazzard</th>\n",
        "      <th>LR_q</th>\n",
        "    </tr>\n",
        "  </thead>\n",
        "  <tbody>\n",
        "    <tr>\n",
        "      <th>binary</th>\n",
        "      <th>hsa-mir-3170</th>\n",
        "      <td> 1.87e-04</td>\n",
        "      <td> 2.37e-04</td>\n",
        "      <td> Surv(days, event) ~ feature + pc1 + background...</td>\n",
        "      <td> 2.19</td>\n",
        "      <td> 0.05</td>\n",
        "    </tr>\n",
        "    <tr>\n",
        "      <th rowspan=\"4\" valign=\"top\">real</th>\n",
        "      <th>hsa-mir-758</th>\n",
        "      <td> 5.23e-04</td>\n",
        "      <td> 2.90e-04</td>\n",
        "      <td>  Surv(days, event) ~ feature + background + old\\n</td>\n",
        "      <td> 1.49</td>\n",
        "      <td> 0.08</td>\n",
        "    </tr>\n",
        "    <tr>\n",
        "      <th>hsa-mir-379</th>\n",
        "      <td> 1.05e-03</td>\n",
        "      <td> 1.83e-04</td>\n",
        "      <td>         Surv(days, event) ~ feature + pc1 + old\\n</td>\n",
        "      <td> 1.52</td>\n",
        "      <td> 0.10</td>\n",
        "    </tr>\n",
        "    <tr>\n",
        "      <th>hsa-mir-125b-2</th>\n",
        "      <td> 1.33e-03</td>\n",
        "      <td> 1.70e-03</td>\n",
        "      <td> Surv(days, event) ~ feature + pc1 + background...</td>\n",
        "      <td> 0.70</td>\n",
        "      <td> 0.10</td>\n",
        "    </tr>\n",
        "    <tr>\n",
        "      <th>hsa-mir-487b</th>\n",
        "      <td> 1.98e-03</td>\n",
        "      <td> 1.19e-04</td>\n",
        "      <td>               Surv(days, event) ~ feature + old\\n</td>\n",
        "      <td> 1.58</td>\n",
        "      <td> 0.12</td>\n",
        "    </tr>\n",
        "  </tbody>\n",
        "</table>\n",
        "</div>"
       ],
       "metadata": {},
       "output_type": "pyout",
       "prompt_number": 105,
       "text": [
        "                             LR  feature_p                                               fmla  hazzard  LR_q\n",
        "binary hsa-mir-3170    1.87e-04   2.37e-04  Surv(days, event) ~ feature + pc1 + background...     2.19  0.05\n",
        "real   hsa-mir-758     5.23e-04   2.90e-04   Surv(days, event) ~ feature + background + old\\n     1.49  0.08\n",
        "       hsa-mir-379     1.05e-03   1.83e-04          Surv(days, event) ~ feature + pc1 + old\\n     1.52  0.10\n",
        "       hsa-mir-125b-2  1.33e-03   1.70e-03  Surv(days, event) ~ feature + pc1 + background...     0.70  0.10\n",
        "       hsa-mir-487b    1.98e-03   1.19e-04                Surv(days, event) ~ feature + old\\n     1.58  0.12"
       ]
      }
     ],
     "prompt_number": 105
    },
    {
     "cell_type": "code",
     "collapsed": false,
     "input": [
      "rna.save()"
     ],
     "language": "python",
     "metadata": {},
     "outputs": [],
     "prompt_number": 106
    },
    {
     "cell_type": "code",
     "collapsed": false,
     "input": [
      "combo = combine(cn.df.ix['Deletion'].ix['3p14.2'].ix[0]<0, mut.features.ix['TP53']).ix[keepers]\n",
      "two_hit = combo == 'both'"
     ],
     "language": "python",
     "metadata": {},
     "outputs": [],
     "prompt_number": 118
    },
    {
     "cell_type": "code",
     "collapsed": false,
     "input": [
      "fisher_exact_test(two_hit, spread_inferred)"
     ],
     "language": "python",
     "metadata": {},
     "outputs": [
      {
       "metadata": {},
       "output_type": "pyout",
       "prompt_number": 121,
       "text": [
        "odds_ratio    7.37e+00\n",
        "p             2.30e-08\n",
        "dtype: float64"
       ]
      }
     ],
     "prompt_number": 121
    },
    {
     "cell_type": "code",
     "collapsed": false,
     "input": [
      "draw_survival_curves(combo, surv, spread_inferred, show=True, ann='p')"
     ],
     "language": "python",
     "metadata": {},
     "outputs": [
      {
       "html": [
        "<img src='data:image/png;base64,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'>"
       ],
       "metadata": {},
       "output_type": "pyout",
       "prompt_number": 125,
       "text": [
        "<Reports.NotebookTools.Show at 0x7a83d10>"
       ]
      }
     ],
     "prompt_number": 125
    },
    {
     "cell_type": "code",
     "collapsed": false,
     "input": [],
     "language": "python",
     "metadata": {},
     "outputs": []
    }
   ],
   "metadata": {}
  }
 ]
}