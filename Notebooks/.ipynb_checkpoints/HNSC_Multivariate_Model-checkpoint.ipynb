{
 "metadata": {
  "name": ""
 },
 "nbformat": 3,
 "nbformat_minor": 0,
 "worksheets": [
  {
   "cells": [
    {
     "cell_type": "markdown",
     "metadata": {},
     "source": [
      "#HNSC Multivariate Screen  \n",
      "\n",
      "This is a screen for survival associated features.  "
     ]
    },
    {
     "cell_type": "code",
     "collapsed": false,
     "input": [
      "cd ../src"
     ],
     "language": "python",
     "metadata": {},
     "outputs": [
      {
       "output_type": "stream",
       "stream": "stdout",
       "text": [
        "/cellar/users/agross/TCGA_Code/TCGA/Pathway_Merge/src\n"
       ]
      }
     ],
     "prompt_number": 62
    },
    {
     "cell_type": "code",
     "collapsed": false,
     "input": [
      "from Processing.Imports import *"
     ],
     "language": "python",
     "metadata": {},
     "outputs": [],
     "prompt_number": 63
    },
    {
     "cell_type": "markdown",
     "metadata": {},
     "source": [
      "##Read in Data"
     ]
    },
    {
     "cell_type": "code",
     "collapsed": false,
     "input": [
      "run = get_run('/cellar/data/TCGA/Firehose__2013_04_21/', 'Run_all')\n",
      "\n",
      "cancer = run.load_cancer('HNSC')\n",
      "clinical = cancer.load_clinical()\n",
      "global_vars = cancer.load_global_vars()\n",
      "\n",
      "mut = cancer.load_data('Mutation')\n",
      "mut.uncompress()\n",
      "meth = cancer.load_data('Methylation')\n",
      "cn = cancer.load_data('CN_broad')\n",
      "cn.uncompress()\n",
      "rna = cancer.load_data('mRNASeq')\n",
      "rppa  = cancer.load_data('RPPA')\n",
      "mirna = cancer.load_data('miRNASeq')\n",
      "age = clinical.clinical.age.astype(float)\n",
      "\n",
      "hpv_all = pd.read_csv('/cellar/users/agross/hpv_summary_3_20_13_distribute.csv', index_col=0)\n",
      "hpv = hpv_all.Molecular_HPV.map({0:'HPV-', 1:'HPV+'})\n",
      "hpv.name = 'HPV'"
     ],
     "language": "python",
     "metadata": {},
     "outputs": [],
     "prompt_number": 64
    },
    {
     "cell_type": "code",
     "collapsed": false,
     "input": [
      "from Data.ProcessClinical import format_survival_from_data_portal\n",
      "path  = '/cellar/users/agross/Data/TCGA/HNSC_Followup/'\n",
      "survival, timeline = format_survival_from_data_portal(path, cancer.name)\n",
      "clinical.survival = survival\n",
      "clinical.artificially_censor(5)\n",
      "age = timeline.age"
     ],
     "language": "python",
     "metadata": {},
     "outputs": [],
     "prompt_number": 65
    },
    {
     "cell_type": "code",
     "collapsed": false,
     "input": [
      "filters = pd.concat([age>=100, hpv=='HPV+'], axis=1)\n",
      "clinical_filter = filters.sum(1) == 0\n",
      "keepers_o = true_index(clinical_filter)"
     ],
     "language": "python",
     "metadata": {},
     "outputs": [],
     "prompt_number": 66
    },
    {
     "cell_type": "code",
     "collapsed": false,
     "input": [
      "filters = pd.concat([age>=85, hpv=='HPV+'], axis=1)\n",
      "clinical_filter = filters.sum(1) == 0\n",
      "keepers = true_index(clinical_filter)"
     ],
     "language": "python",
     "metadata": {},
     "outputs": [],
     "prompt_number": 67
    },
    {
     "cell_type": "code",
     "collapsed": false,
     "input": [
      "surv = clinical.survival.survival_5y\n",
      "old = pd.Series(1.*(age>=75), name='old')"
     ],
     "language": "python",
     "metadata": {},
     "outputs": [],
     "prompt_number": 68
    },
    {
     "cell_type": "markdown",
     "metadata": {},
     "source": [
      "####Form expression and methylation features without HPV  \n",
      "* HPV has a big influence on expression, here I am creating a second set of features without HPV\n",
      "* I use this sparingly but it helps to tease out wheter an association is due to a underlying relationship with HPV"
     ]
    },
    {
     "cell_type": "code",
     "collapsed": true,
     "input": [
      "from Initialization.InitializeReal import RealDataset\n",
      "rna = RealDataset(run, cancer, 'mRNASeq', keepers_o)\n",
      "meth = RealDataset(run, cancer, 'Methylation', keepers_o)\n",
      "mirna = RealDataset(run, cancer, 'miRNASeq', keepers_o, create_meta_features=False)"
     ],
     "language": "python",
     "metadata": {},
     "outputs": [],
     "prompt_number": 69
    },
    {
     "cell_type": "markdown",
     "metadata": {},
     "source": [
      "##Clinical Screen"
     ]
    },
    {
     "cell_type": "code",
     "collapsed": false,
     "input": [
      "stage = clinical.clinical.tumorstage.ix[keepers_o].fillna('nx')\n",
      "stage = stage.dropna().map(lambda s: s.replace('a','').replace('b',''))\n",
      "\n",
      "lymph_stage = clinical.clinical.lymphnodepathologicspread.ix[keepers_o]\n",
      "lymph_stage = lymph_stage.replace('nx', nan).dropna().map(lambda s: s[:2])\n",
      "\n",
      "age = age\n",
      "old_age = (age >= 75).map({True: 'Age > 75', False: 'Age < 75'})\n",
      "pack_years = py = clinical.clinical.numberpackyearssmoked.dropna().astype(float)\n",
      "\n",
      "group = [['oral tongue','oral cavity','floor of mouth','buccal mucosa','alveolar ridge','hard palate','lip'],\n",
      "         ['oropharynx','tonsil','base of tongue'],\n",
      "         #['hypopharynx'],\n",
      "         ['larynx']]\n",
      "groups = ['oral cavity','oropharynx','larynx']\n",
      "tumor_subdivision = pd.Series({idx: groups[i] for i,g in enumerate(group) for idx,j in \n",
      "                               clinical.clinical.neoplasmanatomicsubdivision.iteritems() if j in g})\n",
      "\n",
      "invasion = clinical.clinical.perineuralinvasionpresent.replace('nan', nan)\n",
      "invasion = invasion.fillna('Missing')\n",
      "\n",
      "spread = clinical.clinical.presenceofpathologicalnodalextracapsularspread\n",
      "spread = spread.map({'no extranodal extension': 'no', 'microscopic extension':'yes', \n",
      "                     'gross extension':'yes'}).dropna()\n",
      "\n",
      "lymph = lymph_stage.ix[keepers_o] != 'n0'\n",
      "lymph_status = combine(lymph, spread.ix[keepers_o]=='yes')\n",
      "lymph_status = lymph_status.map({'neither': 'n0', lymph.name: 'lymph_node', 'both': 'extra_capsular_spread'})\n",
      "lymph_status = (lymph_status == 'extra_capsular_spread').astype(float)"
     ],
     "language": "python",
     "metadata": {},
     "outputs": [],
     "prompt_number": 70
    },
    {
     "cell_type": "code",
     "collapsed": false,
     "input": [
      "combo = combine(cn.df.ix['Deletion'].ix['3p14.2'].ix[0]<0, mut.features.ix['TP53'])\n",
      "two_hit = combo == 'both'"
     ],
     "language": "python",
     "metadata": {},
     "outputs": [],
     "prompt_number": 71
    },
    {
     "cell_type": "markdown",
     "metadata": {},
     "source": [
      "* Infer spread for patients without pathology"
     ]
    },
    {
     "cell_type": "code",
     "collapsed": false,
     "input": [
      "gg = rna.features.ix['real', keepers_o].apply(lambda s: to_quants(s, std=1) > 0)\n",
      "diff = screen_feature(spread, fisher_exact_test, gg)\n",
      "dd = diff[diff.p < .01]\n",
      "\n",
      "vec = (2.*(dd.odds_ratio > 1) - 1)\n",
      "loading = vec.dot(1.*(gg.ix[vec.index]))\n",
      "\n",
      "ratio = loading.groupby(spread).apply(pd.value_counts).unstack().fillna(0)\n",
      "prob = ratio.T.cumsum() / ratio.sum(1)\n",
      "cutoff = ((prob.yes - (1-prob.no)) > 0).idxmax()\n",
      "\n",
      "f = spread.copy() == 'yes'\n",
      "f = f.ix[loading.index]\n",
      "f[f.isnull()] = loading[f.isnull()] > cutoff\n",
      "spread_inferred = f.ix[keepers_o].fillna(False).astype(float)"
     ],
     "language": "python",
     "metadata": {},
     "outputs": [],
     "prompt_number": 216
    },
    {
     "cell_type": "code",
     "collapsed": false,
     "input": [
      "year = clinical.clinical.yearofinitialpathologicdiagnosis\n",
      "year = year.replace('[Discrepancy]', nan).astype(float)"
     ],
     "language": "python",
     "metadata": {},
     "outputs": [],
     "prompt_number": 220
    },
    {
     "cell_type": "code",
     "collapsed": false,
     "input": [
      "clinical_df = pd.concat([stage, lymph_stage, age, old_age, pack_years,\n",
      "                         tumor_subdivision, invasion, lymph_status, spread_inferred],\n",
      "                        keys = ['stage', 'lymph_stage', 'age', 'old_age', 'pack_years',\n",
      "                         'tumor_subdivision', 'invasion', 'lymph_status', 'spread_inferred'],\n",
      "                        axis=1)"
     ],
     "language": "python",
     "metadata": {},
     "outputs": [],
     "prompt_number": 221
    },
    {
     "cell_type": "code",
     "collapsed": false,
     "input": [
      "lr = clinical_df.ix[keepers_o].apply(cox, args=(surv,)).T"
     ],
     "language": "python",
     "metadata": {},
     "outputs": [],
     "prompt_number": 222
    },
    {
     "cell_type": "code",
     "collapsed": false,
     "input": [
      "cov_df = pd.concat([age, old], axis=1)\n",
      "test = lambda s: get_cox_ph_ms(surv, s.dropna(), cov_df, return_val='LR', interactions=False);"
     ],
     "language": "python",
     "metadata": {},
     "outputs": [],
     "prompt_number": 223
    },
    {
     "cell_type": "code",
     "collapsed": false,
     "input": [
      "clinical_df.ix[keepers_o].apply(test).T.sort('LR')"
     ],
     "language": "python",
     "metadata": {},
     "outputs": [
      {
       "html": [
        "<div style=\"max-height:1000px;max-width:1500px;overflow:auto;\">\n",
        "<table border=\"1\" class=\"dataframe\">\n",
        "  <thead>\n",
        "    <tr style=\"text-align: right;\">\n",
        "      <th></th>\n",
        "      <th>LR</th>\n",
        "      <th>feature_p</th>\n",
        "      <th>fmla</th>\n",
        "      <th>hazzard</th>\n",
        "    </tr>\n",
        "  </thead>\n",
        "  <tbody>\n",
        "    <tr>\n",
        "      <th>spread_inferred</th>\n",
        "      <td> 1.41e-05</td>\n",
        "      <td> 6.95e-06</td>\n",
        "      <td> Surv(days, event) ~ feature + old\\n</td>\n",
        "      <td> 2.33</td>\n",
        "    </tr>\n",
        "    <tr>\n",
        "      <th>lymph_status</th>\n",
        "      <td> 0.000688</td>\n",
        "      <td>   0.0003</td>\n",
        "      <td> Surv(days, event) ~ feature + old\\n</td>\n",
        "      <td> 2.15</td>\n",
        "    </tr>\n",
        "    <tr>\n",
        "      <th>lymph_stage</th>\n",
        "      <td>  0.00606</td>\n",
        "      <td>      NaN</td>\n",
        "      <td> Surv(days, event) ~ feature + old\\n</td>\n",
        "      <td>  NaN</td>\n",
        "    </tr>\n",
        "    <tr>\n",
        "      <th>invasion</th>\n",
        "      <td>   0.0109</td>\n",
        "      <td>      NaN</td>\n",
        "      <td> Surv(days, event) ~ feature + old\\n</td>\n",
        "      <td>  NaN</td>\n",
        "    </tr>\n",
        "    <tr>\n",
        "      <th>stage</th>\n",
        "      <td>        1</td>\n",
        "      <td>      NaN</td>\n",
        "      <td>           Surv(days, event) ~ old\\n</td>\n",
        "      <td>  NaN</td>\n",
        "    </tr>\n",
        "    <tr>\n",
        "      <th>age</th>\n",
        "      <td>        1</td>\n",
        "      <td>      NaN</td>\n",
        "      <td>           Surv(days, event) ~ old\\n</td>\n",
        "      <td>  NaN</td>\n",
        "    </tr>\n",
        "    <tr>\n",
        "      <th>old_age</th>\n",
        "      <td>        1</td>\n",
        "      <td>      NaN</td>\n",
        "      <td>       Surv(days, event) ~ feature\\n</td>\n",
        "      <td>  NaN</td>\n",
        "    </tr>\n",
        "    <tr>\n",
        "      <th>pack_years</th>\n",
        "      <td>        1</td>\n",
        "      <td>      NaN</td>\n",
        "      <td>     Surv(days, event) ~ age + old\\n</td>\n",
        "      <td>  NaN</td>\n",
        "    </tr>\n",
        "    <tr>\n",
        "      <th>tumor_subdivision</th>\n",
        "      <td>        1</td>\n",
        "      <td>      NaN</td>\n",
        "      <td>           Surv(days, event) ~ old\\n</td>\n",
        "      <td>  NaN</td>\n",
        "    </tr>\n",
        "  </tbody>\n",
        "</table>\n",
        "</div>"
       ],
       "metadata": {},
       "output_type": "pyout",
       "prompt_number": 224,
       "text": [
        "                         LR feature_p                                 fmla hazzard\n",
        "spread_inferred    1.41e-05  6.95e-06  Surv(days, event) ~ feature + old\\n    2.33\n",
        "lymph_status       0.000688    0.0003  Surv(days, event) ~ feature + old\\n    2.15\n",
        "lymph_stage         0.00606       NaN  Surv(days, event) ~ feature + old\\n     NaN\n",
        "invasion             0.0109       NaN  Surv(days, event) ~ feature + old\\n     NaN\n",
        "stage                     1       NaN            Surv(days, event) ~ old\\n     NaN\n",
        "age                       1       NaN            Surv(days, event) ~ old\\n     NaN\n",
        "old_age                   1       NaN        Surv(days, event) ~ feature\\n     NaN\n",
        "pack_years                1       NaN      Surv(days, event) ~ age + old\\n     NaN\n",
        "tumor_subdivision         1       NaN            Surv(days, event) ~ old\\n     NaN"
       ]
      }
     ],
     "prompt_number": 224
    },
    {
     "cell_type": "code",
     "collapsed": false,
     "input": [
      "combo = combine(cn.df.ix['Deletion'].ix['3p14.2'].ix[0]<0, mut.features.ix['TP53'])\n",
      "two_hit = 1.*(combo == 'both')\n",
      "muc5b = mut.features.ix['MUC5B']\n",
      "cc = combine(two_hit, muc5b)"
     ],
     "language": "python",
     "metadata": {},
     "outputs": [],
     "prompt_number": 225
    },
    {
     "cell_type": "markdown",
     "metadata": {},
     "source": [
      "#Run Mutation Data   \n",
      "\n",
      "###Filter based on mutation rate\n",
      "* We want to filter noisy features that are just artifacts of mutation rate.\n",
      "* The caveat is that we do not want to get rid of passengers that may still have information even though they are mutated at the baseline rate.\n",
      "* The current solution is to only get rid of features with more that half of the patients mutated that are also highly correlated with mutation rate.  We're assuming that the patients without mutations to these pathways are the ones with very low mutation rates such that the actuall genes in the pathway are irrelavant. "
     ]
    },
    {
     "cell_type": "code",
     "collapsed": false,
     "input": [
      "tt = lambda a,b: kruskal_pandas(b,a)\n",
      "def fc(hit_vec, response_vec):\n",
      "    f = response_vec.groupby(hit_vec).median()\n",
      "    return f[0] > f[1]"
     ],
     "language": "python",
     "metadata": {},
     "outputs": [],
     "prompt_number": 106
    },
    {
     "cell_type": "code",
     "collapsed": false,
     "input": [
      "rate = global_vars.mutation.rate_non\n",
      "cc = screen_feature(rate, tt, mut.features)"
     ],
     "language": "python",
     "metadata": {},
     "outputs": [],
     "prompt_number": 79
    },
    {
     "cell_type": "code",
     "collapsed": false,
     "input": [
      "fc_apply = lambda s: fc(s, rate)\n",
      "direction = mut.features.apply(fc_apply, axis=1)\n",
      "direction.name = 'direction'\n",
      "\n",
      "cc = cc.join(direction)\n",
      "cc = cc[cc.direction==False]"
     ],
     "language": "python",
     "metadata": {},
     "outputs": [],
     "prompt_number": 80
    },
    {
     "cell_type": "code",
     "collapsed": false,
     "input": [
      "cc.head()"
     ],
     "language": "python",
     "metadata": {},
     "outputs": [
      {
       "html": [
        "<div style=\"max-height:1000px;max-width:1500px;overflow:auto;\">\n",
        "<table border=\"1\" class=\"dataframe\">\n",
        "  <thead>\n",
        "    <tr style=\"text-align: right;\">\n",
        "      <th></th>\n",
        "      <th>H</th>\n",
        "      <th>p</th>\n",
        "      <th>q</th>\n",
        "      <th>direction</th>\n",
        "    </tr>\n",
        "  </thead>\n",
        "  <tbody>\n",
        "    <tr>\n",
        "      <th>REACTOME_METABOLISM_OF_CARBOHYDRATES</th>\n",
        "      <td> 87.26</td>\n",
        "      <td> 9.53e-21</td>\n",
        "      <td> 9.43e-18</td>\n",
        "      <td> False</td>\n",
        "    </tr>\n",
        "    <tr>\n",
        "      <th>REACTOME_NCAM1_INTERACTIONS</th>\n",
        "      <td> 73.17</td>\n",
        "      <td> 1.19e-17</td>\n",
        "      <td> 4.72e-15</td>\n",
        "      <td> False</td>\n",
        "    </tr>\n",
        "    <tr>\n",
        "      <th>REACTOME_ADHERENS_JUNCTIONS_INTERACTIONS</th>\n",
        "      <td> 72.81</td>\n",
        "      <td> 1.43e-17</td>\n",
        "      <td> 4.72e-15</td>\n",
        "      <td> False</td>\n",
        "    </tr>\n",
        "    <tr>\n",
        "      <th>KEGG_PHOSPHATIDYLINOSITOL_SIGNALING_SYSTEM</th>\n",
        "      <td> 70.12</td>\n",
        "      <td> 5.58e-17</td>\n",
        "      <td> 1.38e-14</td>\n",
        "      <td> False</td>\n",
        "    </tr>\n",
        "    <tr>\n",
        "      <th>KEGG_CARDIAC_MUSCLE_CONTRACTION</th>\n",
        "      <td> 69.07</td>\n",
        "      <td> 9.48e-17</td>\n",
        "      <td> 1.64e-14</td>\n",
        "      <td> False</td>\n",
        "    </tr>\n",
        "  </tbody>\n",
        "</table>\n",
        "</div>"
       ],
       "metadata": {},
       "output_type": "pyout",
       "prompt_number": 81,
       "text": [
        "                                                H         p         q direction\n",
        "REACTOME_METABOLISM_OF_CARBOHYDRATES        87.26  9.53e-21  9.43e-18     False\n",
        "REACTOME_NCAM1_INTERACTIONS                 73.17  1.19e-17  4.72e-15     False\n",
        "REACTOME_ADHERENS_JUNCTIONS_INTERACTIONS    72.81  1.43e-17  4.72e-15     False\n",
        "KEGG_PHOSPHATIDYLINOSITOL_SIGNALING_SYSTEM  70.12  5.58e-17  1.38e-14     False\n",
        "KEGG_CARDIAC_MUSCLE_CONTRACTION             69.07  9.48e-17  1.64e-14     False"
       ]
      }
     ],
     "prompt_number": 81
    },
    {
     "cell_type": "markdown",
     "metadata": {},
     "source": [
      "###Screen for survival associated features  \n",
      "* First pass is a log-rank tet on all features\n",
      "* Next we run the full model with covariates  \n",
      "* We use a combination of the two tests to filter down the candidate associations and pull out the top biomarkers\n",
      "* Here the log-rank test is really underpowered.  \n",
      "* The mutation-rate covariate helps a lot to explain away many of the patients who have very high mutation rates and good prognosis.\n",
      "* The age covariate often explains patients who are in a good-prognosis group but have bad outcomes.\n",
      "* The results of the full model are kind of hard to interperet and non-necessarily relavant as we get a lot of features that help to explain mutation rate effect, ect. and thus improve the model but we don't exactly know what to do with these things for now.   "
     ]
    },
    {
     "cell_type": "markdown",
     "metadata": {},
     "source": [
      "####First pass is a log-rank test on all features"
     ]
    },
    {
     "cell_type": "code",
     "collapsed": false,
     "input": [
      "surv = clinical.survival.survival_5y"
     ],
     "language": "python",
     "metadata": {},
     "outputs": [],
     "prompt_number": 82
    },
    {
     "cell_type": "code",
     "collapsed": false,
     "input": [
      "df = mut.features.ix[((cc.p>.00001) + (mut.features.sum(1) < (mut.features.shape[1] / 2.))) > 0]\n",
      "df = df.ix[:,keepers].dropna(axis=1)\n",
      "\n",
      "lr = df.apply(log_rank, args=(surv,), axis=1)\n",
      "lr['q'] = bhCorrection(lr.p)"
     ],
     "language": "python",
     "metadata": {},
     "outputs": [],
     "prompt_number": 83
    },
    {
     "cell_type": "code",
     "collapsed": false,
     "input": [
      "lr.sort('p').head()"
     ],
     "language": "python",
     "metadata": {},
     "outputs": [
      {
       "html": [
        "<div style=\"max-height:1000px;max-width:1500px;overflow:auto;\">\n",
        "<table border=\"1\" class=\"dataframe\">\n",
        "  <thead>\n",
        "    <tr style=\"text-align: right;\">\n",
        "      <th></th>\n",
        "      <th>chi2</th>\n",
        "      <th>p</th>\n",
        "      <th>q</th>\n",
        "    </tr>\n",
        "  </thead>\n",
        "  <tbody>\n",
        "    <tr>\n",
        "      <th>MUC5B</th>\n",
        "      <td> 14.19</td>\n",
        "      <td> 1.65e-04</td>\n",
        "      <td> 0.09</td>\n",
        "    </tr>\n",
        "    <tr>\n",
        "      <th>TP53</th>\n",
        "      <td> 13.92</td>\n",
        "      <td> 1.90e-04</td>\n",
        "      <td> 0.09</td>\n",
        "    </tr>\n",
        "    <tr>\n",
        "      <th>REACTOME_MRNA_SPLICING_MINOR_PATHWAY</th>\n",
        "      <td>  9.87</td>\n",
        "      <td> 1.68e-03</td>\n",
        "      <td> 0.42</td>\n",
        "    </tr>\n",
        "    <tr>\n",
        "      <th>PDE10A</th>\n",
        "      <td>  9.64</td>\n",
        "      <td> 1.91e-03</td>\n",
        "      <td> 0.42</td>\n",
        "    </tr>\n",
        "    <tr>\n",
        "      <th>KEGG_SPLICEOSOME</th>\n",
        "      <td>  9.25</td>\n",
        "      <td> 2.36e-03</td>\n",
        "      <td> 0.42</td>\n",
        "    </tr>\n",
        "  </tbody>\n",
        "</table>\n",
        "</div>"
       ],
       "metadata": {},
       "output_type": "pyout",
       "prompt_number": 84,
       "text": [
        "                                       chi2         p     q\n",
        "MUC5B                                 14.19  1.65e-04  0.09\n",
        "TP53                                  13.92  1.90e-04  0.09\n",
        "REACTOME_MRNA_SPLICING_MINOR_PATHWAY   9.87  1.68e-03  0.42\n",
        "PDE10A                                 9.64  1.91e-03  0.42\n",
        "KEGG_SPLICEOSOME                       9.25  2.36e-03  0.42"
       ]
      }
     ],
     "prompt_number": 84
    },
    {
     "cell_type": "markdown",
     "metadata": {},
     "source": [
      "####Next we run the full screen"
     ]
    },
    {
     "cell_type": "code",
     "collapsed": false,
     "input": [
      "rate = global_vars[('mutation', 'rate_non')]\n",
      "rate = np.log2(rate)\n",
      "rate.name = 'rate'\n",
      "cov_df = pd.concat([age, rate, old], axis=1)\n",
      "test = lambda s: get_cox_ph_ms(surv, s, cov_df, return_val='LR', interactions=False);"
     ],
     "language": "python",
     "metadata": {},
     "outputs": [],
     "prompt_number": 85
    },
    {
     "cell_type": "code",
     "collapsed": false,
     "input": [
      "df = mut.features.ix[((cc.p>.00001) + (mut.features.sum(1) < (mut.features.shape[1] / 2.))) > 0]\n",
      "df = df.ix[:,keepers_o].dropna(axis=1)"
     ],
     "language": "python",
     "metadata": {},
     "outputs": [],
     "prompt_number": 86
    },
    {
     "cell_type": "code",
     "collapsed": false,
     "input": [
      "mut_res_t = df.apply(test, 1)\n",
      "mut_res_t['LR_q'] = bhCorrection(mut_res_t.LR)"
     ],
     "language": "python",
     "metadata": {},
     "outputs": [],
     "prompt_number": 87
    },
    {
     "cell_type": "code",
     "collapsed": false,
     "input": [
      "mut_res_t.sort('LR').head()"
     ],
     "language": "python",
     "metadata": {},
     "outputs": [
      {
       "html": [
        "<div style=\"max-height:1000px;max-width:1500px;overflow:auto;\">\n",
        "<table border=\"1\" class=\"dataframe\">\n",
        "  <thead>\n",
        "    <tr style=\"text-align: right;\">\n",
        "      <th></th>\n",
        "      <th>LR</th>\n",
        "      <th>feature_p</th>\n",
        "      <th>fmla</th>\n",
        "      <th>hazzard</th>\n",
        "      <th>LR_q</th>\n",
        "    </tr>\n",
        "  </thead>\n",
        "  <tbody>\n",
        "    <tr>\n",
        "      <th>TP53</th>\n",
        "      <td> 9.13e-05</td>\n",
        "      <td> 6.13e-04</td>\n",
        "      <td>        Surv(days, event) ~ feature + old\\n</td>\n",
        "      <td> 2.85e+00</td>\n",
        "      <td> 0.08</td>\n",
        "    </tr>\n",
        "    <tr>\n",
        "      <th>KEGG_CELL_CYCLE</th>\n",
        "      <td> 2.30e-04</td>\n",
        "      <td> 5.32e-03</td>\n",
        "      <td>        Surv(days, event) ~ feature + old\\n</td>\n",
        "      <td> 5.12e+00</td>\n",
        "      <td> 0.10</td>\n",
        "    </tr>\n",
        "    <tr>\n",
        "      <th>MUC5B</th>\n",
        "      <td> 3.45e-04</td>\n",
        "      <td> 4.48e-05</td>\n",
        "      <td>        Surv(days, event) ~ feature + old\\n</td>\n",
        "      <td> 3.17e+00</td>\n",
        "      <td> 0.10</td>\n",
        "    </tr>\n",
        "    <tr>\n",
        "      <th>COL24A1</th>\n",
        "      <td> 5.77e-04</td>\n",
        "      <td> 9.94e-01</td>\n",
        "      <td> Surv(days, event) ~ feature + rate + old\\n</td>\n",
        "      <td> 2.95e-08</td>\n",
        "      <td> 0.11</td>\n",
        "    </tr>\n",
        "    <tr>\n",
        "      <th>BIOCARTA_PGC1A_PATHWAY</th>\n",
        "      <td> 6.28e-04</td>\n",
        "      <td> 7.78e-03</td>\n",
        "      <td> Surv(days, event) ~ feature + rate + old\\n</td>\n",
        "      <td> 1.45e-01</td>\n",
        "      <td> 0.11</td>\n",
        "    </tr>\n",
        "  </tbody>\n",
        "</table>\n",
        "</div>"
       ],
       "metadata": {},
       "output_type": "pyout",
       "prompt_number": 88,
       "text": [
        "                              LR  feature_p                                        fmla   hazzard  LR_q\n",
        "TP53                    9.13e-05   6.13e-04         Surv(days, event) ~ feature + old\\n  2.85e+00  0.08\n",
        "KEGG_CELL_CYCLE         2.30e-04   5.32e-03         Surv(days, event) ~ feature + old\\n  5.12e+00  0.10\n",
        "MUC5B                   3.45e-04   4.48e-05         Surv(days, event) ~ feature + old\\n  3.17e+00  0.10\n",
        "COL24A1                 5.77e-04   9.94e-01  Surv(days, event) ~ feature + rate + old\\n  2.95e-08  0.11\n",
        "BIOCARTA_PGC1A_PATHWAY  6.28e-04   7.78e-03  Surv(days, event) ~ feature + rate + old\\n  1.45e-01  0.11"
       ]
      }
     ],
     "prompt_number": 88
    },
    {
     "cell_type": "markdown",
     "metadata": {},
     "source": [
      "#### Here are the unfiltered results  \n",
      "* Note that the cell cycle pathway does nearly as well as TP53 itself, it is very likely that some of the genes in this pathway serve the same function, but including the pathway greatly increases the complexity of downstream analysis and leads to some tough deconvolution of the interaction of HPV with TP53.  \n",
      "* We have a bunch of redundancy here with closely defined gene-sets, so now we will filter some of these out.\n",
      "* Note that I'm choosing to rank the results by the univariate test, while using the full model as a filter, this reduces the biomarkers we followup on to have relatively straight-forward interpretations as their effect is more direct and less mediated by interaction with mutation rate or age."
     ]
    },
    {
     "cell_type": "code",
     "collapsed": false,
     "input": [
      "mut_res = pd.concat([mut_res_t[mut_res_t.LR_q < .3], lr[lr.p < .05]], \n",
      "                    keys=['Full','Univariate'], axis=1).sort([('Full', 'LR')])\n",
      "mut_res = mut_res.dropna()\n",
      "mut_res.head()"
     ],
     "language": "python",
     "metadata": {},
     "outputs": [
      {
       "html": [
        "<div style=\"max-height:1000px;max-width:1500px;overflow:auto;\">\n",
        "<table border=\"1\" class=\"dataframe\">\n",
        "  <thead>\n",
        "    <tr>\n",
        "      <th></th>\n",
        "      <th colspan=\"5\" halign=\"left\">Full</th>\n",
        "      <th colspan=\"3\" halign=\"left\">Univariate</th>\n",
        "    </tr>\n",
        "    <tr>\n",
        "      <th></th>\n",
        "      <th>LR</th>\n",
        "      <th>feature_p</th>\n",
        "      <th>fmla</th>\n",
        "      <th>hazzard</th>\n",
        "      <th>LR_q</th>\n",
        "      <th>chi2</th>\n",
        "      <th>p</th>\n",
        "      <th>q</th>\n",
        "    </tr>\n",
        "  </thead>\n",
        "  <tbody>\n",
        "    <tr>\n",
        "      <th>TP53</th>\n",
        "      <td> 9.13e-05</td>\n",
        "      <td> 6.13e-04</td>\n",
        "      <td>        Surv(days, event) ~ feature + old\\n</td>\n",
        "      <td> 2.85e+00</td>\n",
        "      <td> 0.08</td>\n",
        "      <td> 13.92</td>\n",
        "      <td> 1.90e-04</td>\n",
        "      <td> 0.09</td>\n",
        "    </tr>\n",
        "    <tr>\n",
        "      <th>KEGG_CELL_CYCLE</th>\n",
        "      <td> 2.30e-04</td>\n",
        "      <td> 5.32e-03</td>\n",
        "      <td>        Surv(days, event) ~ feature + old\\n</td>\n",
        "      <td> 5.12e+00</td>\n",
        "      <td> 0.10</td>\n",
        "      <td>  8.94</td>\n",
        "      <td> 2.79e-03</td>\n",
        "      <td> 0.42</td>\n",
        "    </tr>\n",
        "    <tr>\n",
        "      <th>MUC5B</th>\n",
        "      <td> 3.45e-04</td>\n",
        "      <td> 4.48e-05</td>\n",
        "      <td>        Surv(days, event) ~ feature + old\\n</td>\n",
        "      <td> 3.17e+00</td>\n",
        "      <td> 0.10</td>\n",
        "      <td> 14.19</td>\n",
        "      <td> 1.65e-04</td>\n",
        "      <td> 0.09</td>\n",
        "    </tr>\n",
        "    <tr>\n",
        "      <th>COL24A1</th>\n",
        "      <td> 5.77e-04</td>\n",
        "      <td> 9.94e-01</td>\n",
        "      <td> Surv(days, event) ~ feature + rate + old\\n</td>\n",
        "      <td> 2.95e-08</td>\n",
        "      <td> 0.11</td>\n",
        "      <td>  6.08</td>\n",
        "      <td> 1.37e-02</td>\n",
        "      <td> 0.58</td>\n",
        "    </tr>\n",
        "    <tr>\n",
        "      <th>BIOCARTA_PGC1A_PATHWAY</th>\n",
        "      <td> 6.28e-04</td>\n",
        "      <td> 7.78e-03</td>\n",
        "      <td> Surv(days, event) ~ feature + rate + old\\n</td>\n",
        "      <td> 1.45e-01</td>\n",
        "      <td> 0.11</td>\n",
        "      <td>  8.10</td>\n",
        "      <td> 4.42e-03</td>\n",
        "      <td> 0.48</td>\n",
        "    </tr>\n",
        "  </tbody>\n",
        "</table>\n",
        "</div>"
       ],
       "metadata": {},
       "output_type": "pyout",
       "prompt_number": 89,
       "text": [
        "                            Full                                                   Full      Full        Univariate                \n",
        "                              LR  feature_p                                        fmla   hazzard  LR_q        chi2         p     q\n",
        "TP53                    9.13e-05   6.13e-04         Surv(days, event) ~ feature + old\\n  2.85e+00  0.08       13.92  1.90e-04  0.09\n",
        "KEGG_CELL_CYCLE         2.30e-04   5.32e-03         Surv(days, event) ~ feature + old\\n  5.12e+00  0.10        8.94  2.79e-03  0.42\n",
        "MUC5B                   3.45e-04   4.48e-05         Surv(days, event) ~ feature + old\\n  3.17e+00  0.10       14.19  1.65e-04  0.09\n",
        "COL24A1                 5.77e-04   9.94e-01  Surv(days, event) ~ feature + rate + old\\n  2.95e-08  0.11        6.08  1.37e-02  0.58\n",
        "BIOCARTA_PGC1A_PATHWAY  6.28e-04   7.78e-03  Surv(days, event) ~ feature + rate + old\\n  1.45e-01  0.11        8.10  4.42e-03  0.48"
       ]
      }
     ],
     "prompt_number": 89
    },
    {
     "cell_type": "markdown",
     "metadata": {},
     "source": [
      "##CNA Screen "
     ]
    },
    {
     "cell_type": "markdown",
     "metadata": {},
     "source": [
      "###Univariate model"
     ]
    },
    {
     "cell_type": "code",
     "collapsed": false,
     "input": [
      "df = (cn.features.ix['Deletion', keepers].dropna(1) < 0).astype(int)\n",
      "df = df[df.sum(1) > 10]\n",
      "\n",
      "lr = df.apply(log_rank, args=(surv,), axis=1)\n",
      "lr = lr.sort('p')\n",
      "lr_del = lr"
     ],
     "language": "python",
     "metadata": {},
     "outputs": [],
     "prompt_number": 90
    },
    {
     "cell_type": "code",
     "collapsed": false,
     "input": [
      "df = (cn.features.ix['Amplification', keepers].dropna(1) > 0).astype(str)\n",
      "df = df[df.sum(1) > 10]\n",
      "\n",
      "lr = df.apply(log_rank, args=(surv,), axis=1)\n",
      "lr = lr.sort('p')\n",
      "lr_amp = lr"
     ],
     "language": "python",
     "metadata": {},
     "outputs": [],
     "prompt_number": 91
    },
    {
     "cell_type": "code",
     "collapsed": false,
     "input": [
      "lr = pd.concat([lr_del, lr_amp], keys=['Deletion','Amplification'])\n",
      "lr['q'] = bhCorrection(lr.p)"
     ],
     "language": "python",
     "metadata": {},
     "outputs": [],
     "prompt_number": 92
    },
    {
     "cell_type": "code",
     "collapsed": false,
     "input": [
      "lr.sort('p').head()"
     ],
     "language": "python",
     "metadata": {},
     "outputs": [
      {
       "html": [
        "<div style=\"max-height:1000px;max-width:1500px;overflow:auto;\">\n",
        "<table border=\"1\" class=\"dataframe\">\n",
        "  <thead>\n",
        "    <tr style=\"text-align: right;\">\n",
        "      <th></th>\n",
        "      <th>LR</th>\n",
        "      <th>p</th>\n",
        "    </tr>\n",
        "  </thead>\n",
        "  <tbody>\n",
        "    <tr>\n",
        "      <th>spread_inferred</th>\n",
        "      <td> 28.90</td>\n",
        "      <td> 7.61e-08</td>\n",
        "    </tr>\n",
        "    <tr>\n",
        "      <th>lymph_stage</th>\n",
        "      <td> 14.82</td>\n",
        "      <td> 1.18e-04</td>\n",
        "    </tr>\n",
        "    <tr>\n",
        "      <th>old_age</th>\n",
        "      <td> 12.03</td>\n",
        "      <td> 5.23e-04</td>\n",
        "    </tr>\n",
        "    <tr>\n",
        "      <th>lymph_status</th>\n",
        "      <td> 11.41</td>\n",
        "      <td> 7.29e-04</td>\n",
        "    </tr>\n",
        "    <tr>\n",
        "      <th>invasion</th>\n",
        "      <td>  8.74</td>\n",
        "      <td> 3.12e-03</td>\n",
        "    </tr>\n",
        "  </tbody>\n",
        "</table>\n",
        "</div>"
       ],
       "metadata": {},
       "output_type": "pyout",
       "prompt_number": 105,
       "text": [
        "                    LR         p\n",
        "spread_inferred  28.90  7.61e-08\n",
        "lymph_stage      14.82  1.18e-04\n",
        "old_age          12.03  5.23e-04\n",
        "lymph_status     11.41  7.29e-04\n",
        "invasion          8.74  3.12e-03"
       ]
      }
     ],
     "prompt_number": 105
    },
    {
     "cell_type": "markdown",
     "metadata": {},
     "source": [
      "###Multi-variate model"
     ]
    },
    {
     "cell_type": "code",
     "collapsed": false,
     "input": [
      "rate = cn.df.ix['Deletion'].sum()\n",
      "rate.name = 'rate'\n",
      "cov_df = pd.concat([age, rate, old], axis=1).dropna()\n",
      "test = lambda s: get_cox_ph_ms(surv, s, cov_df, return_val='LR', interactions=False);\n",
      "\n",
      "df = (cn.features.ix['Deletion', keepers_o].dropna(1) < 0).astype(int)\n",
      "df = df[df.sum(1) > 10]\n",
      "cn_res_t = df.apply(test, 1)\n",
      "cn_res_t['LR_q'] = bhCorrection(cn_res_t.LR)"
     ],
     "language": "python",
     "metadata": {},
     "outputs": [],
     "prompt_number": 94
    },
    {
     "cell_type": "code",
     "collapsed": false,
     "input": [
      "rate = cn.df.ix['Amplification'].sum()\n",
      "rate.name = 'rate'\n",
      "cov_df = pd.concat([age, rate, old], axis=1).dropna()\n",
      "test = lambda s: get_cox_ph_ms(surv, s, cov_df, return_val='LR', interactions=False);\n",
      "\n",
      "df = (cn.features.ix['Amplification', keepers_o].dropna(1) > 0).astype(int)\n",
      "df = df[df.sum(1) > 10]\n",
      "cn_res_a = df.apply(test, 1)\n",
      "cn_res_a['LR_q'] = bhCorrection(cn_res_a.LR)"
     ],
     "language": "python",
     "metadata": {},
     "outputs": [],
     "prompt_number": 95
    },
    {
     "cell_type": "code",
     "collapsed": false,
     "input": [
      "cn_full = pd.concat([cn_del_full, cn_amp_full], keys=['Deletion','Amplification'])\n",
      "cn_full['LR_q'] = bhCorrection(cn_full.LR)"
     ],
     "language": "python",
     "metadata": {},
     "outputs": [
      {
       "ename": "NameError",
       "evalue": "name 'cn_del_full' is not defined",
       "output_type": "pyerr",
       "traceback": [
        "\u001b[1;31m---------------------------------------------------------------------------\u001b[0m\n\u001b[1;31mNameError\u001b[0m                                 Traceback (most recent call last)",
        "\u001b[1;32m<ipython-input-96-41971eabd4f7>\u001b[0m in \u001b[0;36m<module>\u001b[1;34m()\u001b[0m\n\u001b[1;32m----> 1\u001b[1;33m \u001b[0mcn_full\u001b[0m \u001b[1;33m=\u001b[0m \u001b[0mpd\u001b[0m\u001b[1;33m.\u001b[0m\u001b[0mconcat\u001b[0m\u001b[1;33m(\u001b[0m\u001b[1;33m[\u001b[0m\u001b[0mcn_del_full\u001b[0m\u001b[1;33m,\u001b[0m \u001b[0mcn_amp_full\u001b[0m\u001b[1;33m]\u001b[0m\u001b[1;33m,\u001b[0m \u001b[0mkeys\u001b[0m\u001b[1;33m=\u001b[0m\u001b[1;33m[\u001b[0m\u001b[1;34m'Deletion'\u001b[0m\u001b[1;33m,\u001b[0m\u001b[1;34m'Amplification'\u001b[0m\u001b[1;33m]\u001b[0m\u001b[1;33m)\u001b[0m\u001b[1;33m\u001b[0m\u001b[0m\n\u001b[0m\u001b[0;32m      2\u001b[0m \u001b[0mcn_full\u001b[0m\u001b[1;33m[\u001b[0m\u001b[1;34m'LR_q'\u001b[0m\u001b[1;33m]\u001b[0m \u001b[1;33m=\u001b[0m \u001b[0mbhCorrection\u001b[0m\u001b[1;33m(\u001b[0m\u001b[0mcn_full\u001b[0m\u001b[1;33m.\u001b[0m\u001b[0mLR\u001b[0m\u001b[1;33m)\u001b[0m\u001b[1;33m\u001b[0m\u001b[0m\n",
        "\u001b[1;31mNameError\u001b[0m: name 'cn_del_full' is not defined"
       ]
      }
     ],
     "prompt_number": 96
    },
    {
     "cell_type": "code",
     "collapsed": false,
     "input": [
      "cn_res = pd.concat([cn_full[cn_full.LR_q < .9], lr[lr.p < .05]], \n",
      "                    keys=['Full','Univariate'], axis=1).sort([('Full', 'LR')])\n",
      "cn_res = cn_res.dropna()\n",
      "cn_res.head()"
     ],
     "language": "python",
     "metadata": {},
     "outputs": []
    },
    {
     "cell_type": "markdown",
     "metadata": {},
     "source": [
      "##RPPA Screen"
     ]
    },
    {
     "cell_type": "code",
     "collapsed": false,
     "input": [
      "cox = cox_screen(rppa.df.xs('01', 1, 1).ix[:,keepers], surv)"
     ],
     "language": "python",
     "metadata": {},
     "outputs": []
    },
    {
     "cell_type": "code",
     "collapsed": false,
     "input": [
      "cox.head()"
     ],
     "language": "python",
     "metadata": {},
     "outputs": []
    },
    {
     "cell_type": "markdown",
     "metadata": {},
     "source": [
      "##RNA Screen"
     ]
    },
    {
     "cell_type": "code",
     "collapsed": false,
     "input": [
      "cox = cox_screen(rna.pathways, surv)"
     ],
     "language": "python",
     "metadata": {},
     "outputs": []
    },
    {
     "cell_type": "code",
     "collapsed": false,
     "input": [
      "cox.head()"
     ],
     "language": "python",
     "metadata": {},
     "outputs": []
    },
    {
     "cell_type": "code",
     "collapsed": false,
     "input": [
      "pc1 = rna.global_vars.pc1\n",
      "background = rna.global_vars.background\n",
      "cov_df = pd.concat([age, pc1, background, old], axis=1).dropna()\n",
      "test = lambda s: get_cox_ph_ms(surv, s, cov_df, return_val='LR', interactions=False);\n",
      "\n",
      "df = rna.pathways.ix[:, keepers_o]\n",
      "rna_res = df.apply(test, 1)\n",
      "rna_res['LR_q'] = bhCorrection(rna_res.LR)"
     ],
     "language": "python",
     "metadata": {},
     "outputs": []
    },
    {
     "cell_type": "code",
     "collapsed": false,
     "input": [
      "rna_res.sort('LR').head()"
     ],
     "language": "python",
     "metadata": {},
     "outputs": []
    },
    {
     "cell_type": "markdown",
     "metadata": {},
     "source": [
      "##miRNA Screen"
     ]
    },
    {
     "cell_type": "code",
     "collapsed": false,
     "input": [
      "cox = cox_screen(mirna.features, surv)"
     ],
     "language": "python",
     "metadata": {},
     "outputs": []
    },
    {
     "cell_type": "code",
     "collapsed": false,
     "input": [
      "cox.head()"
     ],
     "language": "python",
     "metadata": {},
     "outputs": []
    },
    {
     "cell_type": "code",
     "collapsed": false,
     "input": [
      "pc1 = mirna.global_vars.pc1\n",
      "background = mirna.global_vars.background\n",
      "cov_df = pd.concat([age, pc1, background, old], axis=1).dropna()\n",
      "test = lambda s: get_cox_ph_ms(surv, s, cov_df, ret\n",
      "rn_val='LR', interactions=False);\n",
      "\n",
      "df = mirna.features.ix[:, keepers_o]\n",
      "mirna_res = df.apply(test, 1)\n",
      "mirna_res['LR_q'] = bhCorrection(mirna_res.LR)"
     ],
     "language": "python",
     "metadata": {},
     "outputs": []
    },
    {
     "cell_type": "code",
     "collapsed": false,
     "input": [
      "mirna_res.sort('LR').head()"
     ],
     "language": "python",
     "metadata": {},
     "outputs": []
    },
    {
     "cell_type": "code",
     "collapsed": false,
     "input": [
      "draw_survival_curves(two_hit.ix[keepers], surv, show=True, ann='p')"
     ],
     "language": "python",
     "metadata": {},
     "outputs": []
    }
   ],
   "metadata": {}
  }
 ]
}