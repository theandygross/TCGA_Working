{
 "metadata": {
  "name": ""
 },
 "nbformat": 3,
 "nbformat_minor": 0,
 "worksheets": [
  {
   "cells": [
    {
     "cell_type": "markdown",
     "metadata": {},
     "source": [
      "#HNSC Multivariate Screen  \n",
      "\n",
      "This is a screen for survival associated features.  "
     ]
    },
    {
     "cell_type": "code",
     "collapsed": false,
     "input": [
      "cd ../src"
     ],
     "language": "python",
     "metadata": {},
     "outputs": [
      {
       "output_type": "stream",
       "stream": "stdout",
       "text": [
        "/cellar/users/agross/TCGA_Code/TCGA/Pathway_Merge/src\n"
       ]
      }
     ],
     "prompt_number": 1
    },
    {
     "cell_type": "code",
     "collapsed": false,
     "input": [
      "from Processing.Imports import *"
     ],
     "language": "python",
     "metadata": {},
     "outputs": [],
     "prompt_number": 2
    },
    {
     "cell_type": "markdown",
     "metadata": {},
     "source": [
      "##Read in Data"
     ]
    },
    {
     "cell_type": "code",
     "collapsed": false,
     "input": [
      "run = get_run('/cellar/data/TCGA/Firehose__2013_04_21/', 'Run_all')\n",
      "\n",
      "cancer = run.load_cancer('HNSC')\n",
      "clinical = cancer.load_clinical()\n",
      "global_vars = cancer.load_global_vars()\n",
      "\n",
      "mut = cancer.load_data('Mutation')\n",
      "mut.uncompress()\n",
      "meth = cancer.load_data('Methylation')\n",
      "cn = cancer.load_data('CN_broad')\n",
      "cn.uncompress()\n",
      "rna = cancer.load_data('mRNASeq')\n",
      "rppa  = cancer.load_data('RPPA')\n",
      "mirna = cancer.load_data('miRNASeq')\n",
      "age = clinical.clinical.age.astype(float)\n",
      "\n",
      "hpv_all = pd.read_csv('/cellar/users/agross/hpv_summary_3_20_13_distribute.csv', index_col=0)\n",
      "hpv = hpv_all.Molecular_HPV.map({0:'HPV-', 1:'HPV+'})\n",
      "hpv.name = 'HPV'"
     ],
     "language": "python",
     "metadata": {},
     "outputs": [],
     "prompt_number": 3
    },
    {
     "cell_type": "code",
     "collapsed": false,
     "input": [
      "from Data.ProcessClinical import format_survival_from_data_portal\n",
      "path  = '/cellar/users/agross/Data/TCGA/HNSC_Followup/'\n",
      "survival, timeline = format_survival_from_data_portal(path, cancer.name)\n",
      "clinical.survival = survival\n",
      "clinical.artificially_censor(5)\n",
      "age = timeline.age"
     ],
     "language": "python",
     "metadata": {},
     "outputs": [],
     "prompt_number": 4
    },
    {
     "cell_type": "code",
     "collapsed": false,
     "input": [
      "combo = combine(cn.df.ix['Deletion'].ix['3p14.2'].ix[0]<0, mut.features.ix['TP53'])\n",
      "two_hit = 1.*(combo == 'both')"
     ],
     "language": "python",
     "metadata": {},
     "outputs": [],
     "prompt_number": 8
    },
    {
     "cell_type": "code",
     "collapsed": false,
     "input": [
      "filters = pd.concat([age>=100, hpv=='HPV+'], axis=1)\n",
      "clinical_filter = filters.sum(1) == 0\n",
      "keepers_o = true_index(clinical_filter)"
     ],
     "language": "python",
     "metadata": {},
     "outputs": [],
     "prompt_number": 36
    },
    {
     "cell_type": "markdown",
     "metadata": {},
     "source": [
      "##Clinical Features"
     ]
    },
    {
     "cell_type": "code",
     "collapsed": false,
     "input": [
      "stage = clinical.clinical.tumorstage.ix[keepers_o].fillna('nx')\n",
      "stage = stage.dropna().map(lambda s: s.replace('a','').replace('b',''))\n",
      "\n",
      "lymph_stage = clinical.clinical.lymphnodepathologicspread.ix[keepers_o]\n",
      "lymph_stage = lymph_stage.replace('nx', nan).dropna().map(lambda s: s[:2])\n",
      "\n",
      "age = age\n",
      "old_age = (age >= 75).map({True: 'Age > 75', False: 'Age < 75'})\n",
      "pack_years = py = clinical.clinical.numberpackyearssmoked.dropna().astype(float)\n",
      "\n",
      "group = [['oral tongue','oral cavity','floor of mouth','buccal mucosa','alveolar ridge','hard palate','lip'],\n",
      "         ['oropharynx','tonsil','base of tongue'],\n",
      "         #['hypopharynx'],\n",
      "         ['larynx']]\n",
      "groups = ['oral cavity','oropharynx','larynx']\n",
      "tumor_subdivision = pd.Series({idx: groups[i] for i,g in enumerate(group) for idx,j in \n",
      "                               clinical.clinical.neoplasmanatomicsubdivision.iteritems() if j in g})\n",
      "\n",
      "invasion = clinical.clinical.perineuralinvasionpresent.replace('nan', nan)\n",
      "invasion = invasion.fillna('Missing')\n",
      "\n",
      "spread = clinical.clinical.presenceofpathologicalnodalextracapsularspread\n",
      "spread = spread.map({'no extranodal extension': 'no', 'microscopic extension':'yes', \n",
      "                     'gross extension':'yes'}).dropna()\n",
      "\n",
      "year = clinical.clinical.yearofinitialpathologicdiagnosis\n",
      "year = year.replace('[Discrepancy]', nan).astype(float)\n",
      "\n",
      "lymph = lymph_stage.ix[keepers_o] != 'n0'\n",
      "lymph_status = combine(lymph, spread.ix[keepers_o]=='yes')\n",
      "lymph_status = lymph_status.map({'neither': 'n0', lymph.name: 'lymph_node', 'both': 'extra_capsular_spread'})\n",
      "lymph_status = (lymph_status == 'extra_capsular_spread').astype(float)"
     ],
     "language": "python",
     "metadata": {},
     "outputs": [],
     "prompt_number": 38
    },
    {
     "cell_type": "code",
     "collapsed": false,
     "input": [
      "diff = screen_feature(spread, fisher_exact_test, rna.features.ix['binary', keepers_o])\n",
      "dd = diff[diff.p < .01]\n",
      "\n",
      "vec = (2.*(dd.odds_ratio > 1) - 1)\n",
      "loading = vec.dot(1.*(rna.df.xs('01',1,1).ix[vec.index, keepers_o] > -1))\n",
      "\n",
      "ratio = loading.groupby(spread).apply(pd.value_counts).unstack().fillna(0)\n",
      "prob = ratio.T.cumsum() / ratio.sum(1)\n",
      "cutoff = min(true_index((prob.yes > .5)))\n",
      "\n",
      "f = spread.copy() == 'yes'\n",
      "f = f.ix[loading.index]\n",
      "f[f.isnull()] = loading[f.isnull()] >= cutoff\n",
      "spread_inferred = f.ix[keepers_o].fillna(False).astype(float)"
     ],
     "language": "python",
     "metadata": {},
     "outputs": [],
     "prompt_number": 39
    },
    {
     "cell_type": "code",
     "collapsed": false,
     "input": [
      "clinical_df = pd.concat([stage, lymph_stage, age, old_age, pack_years,\n",
      "                         tumor_subdivision, invasion, lymph_status, spread_inferred],\n",
      "                        keys = ['stage', 'lymph_stage', 'age', 'old_age', 'pack_years',\n",
      "                         'tumor_subdivision', 'invasion', 'lymph_status', 'spread_inferred'],\n",
      "                        axis=1)"
     ],
     "language": "python",
     "metadata": {},
     "outputs": [],
     "prompt_number": 40
    },
    {
     "cell_type": "code",
     "collapsed": false,
     "input": [
      "filters = pd.concat([age>=100, hpv=='HPV+', two_hit==0], axis=1)\n",
      "clinical_filter = filters.sum(1) == 0\n",
      "keepers_o = true_index(clinical_filter)"
     ],
     "language": "python",
     "metadata": {},
     "outputs": [],
     "prompt_number": 46
    },
    {
     "cell_type": "code",
     "collapsed": false,
     "input": [
      "filters = pd.concat([age>=85, hpv=='HPV+', two_hit==0], axis=1)\n",
      "clinical_filter = filters.sum(1) == 0\n",
      "keepers = true_index(clinical_filter)"
     ],
     "language": "python",
     "metadata": {},
     "outputs": [],
     "prompt_number": 56
    },
    {
     "cell_type": "code",
     "collapsed": false,
     "input": [
      "surv = clinical.survival.survival_5y\n",
      "old = pd.Series(1.*(age>=75), name='old')"
     ],
     "language": "python",
     "metadata": {},
     "outputs": [],
     "prompt_number": 47
    },
    {
     "cell_type": "markdown",
     "metadata": {},
     "source": [
      "####Form expression and methylation features without HPV  \n",
      "* HPV has a big influence on expression, here I am creating a second set of features without HPV\n",
      "* I use this sparingly but it helps to tease out wheter an association is due to a underlying relationship with HPV"
     ]
    },
    {
     "cell_type": "code",
     "collapsed": false,
     "input": [
      "from Stats.Survival import cox"
     ],
     "language": "python",
     "metadata": {},
     "outputs": [],
     "prompt_number": 187
    },
    {
     "cell_type": "code",
     "collapsed": true,
     "input": [
      "from Initialization.InitializeReal import RealDataset\n",
      "rna = RealDataset(run, cancer, 'mRNASeq', keepers_o)\n",
      "meth = RealDataset(run, cancer, 'Methylation', keepers_o)\n",
      "mirna = RealDataset(run, cancer, 'miRNASeq', keepers_o, create_meta_features=False)"
     ],
     "language": "python",
     "metadata": {},
     "outputs": [],
     "prompt_number": 148
    },
    {
     "cell_type": "code",
     "collapsed": false,
     "input": [
      "lr = clinical_df.ix[keepers].apply(cox, args=(surv,)).T"
     ],
     "language": "python",
     "metadata": {},
     "outputs": [],
     "prompt_number": 57
    },
    {
     "cell_type": "code",
     "collapsed": false,
     "input": [
      "lr.sort('p').head()"
     ],
     "language": "python",
     "metadata": {},
     "outputs": [
      {
       "html": [
        "<div style=\"max-height:1000px;max-width:1500px;overflow:auto;\">\n",
        "<table border=\"1\" class=\"dataframe\">\n",
        "  <thead>\n",
        "    <tr style=\"text-align: right;\">\n",
        "      <th></th>\n",
        "      <th>LR</th>\n",
        "      <th>p</th>\n",
        "    </tr>\n",
        "  </thead>\n",
        "  <tbody>\n",
        "    <tr>\n",
        "      <th>lymph_stage</th>\n",
        "      <td> 7.27</td>\n",
        "      <td> 0.01</td>\n",
        "    </tr>\n",
        "    <tr>\n",
        "      <th>spread_inferred</th>\n",
        "      <td> 7.06</td>\n",
        "      <td> 0.01</td>\n",
        "    </tr>\n",
        "    <tr>\n",
        "      <th>invasion</th>\n",
        "      <td> 6.67</td>\n",
        "      <td> 0.01</td>\n",
        "    </tr>\n",
        "    <tr>\n",
        "      <th>stage</th>\n",
        "      <td> 4.01</td>\n",
        "      <td> 0.05</td>\n",
        "    </tr>\n",
        "    <tr>\n",
        "      <th>lymph_status</th>\n",
        "      <td> 3.75</td>\n",
        "      <td> 0.05</td>\n",
        "    </tr>\n",
        "  </tbody>\n",
        "</table>\n",
        "</div>"
       ],
       "metadata": {},
       "output_type": "pyout",
       "prompt_number": 58,
       "text": [
        "                   LR     p\n",
        "lymph_stage      7.27  0.01\n",
        "spread_inferred  7.06  0.01\n",
        "invasion         6.67  0.01\n",
        "stage            4.01  0.05\n",
        "lymph_status     3.75  0.05"
       ]
      }
     ],
     "prompt_number": 58
    },
    {
     "cell_type": "code",
     "collapsed": false,
     "input": [
      "cov_df = pd.concat([age, old], axis=1)\n",
      "test = lambda s: get_cox_ph_ms(surv, s.dropna(), cov_df, return_val='LR', interactions=False);"
     ],
     "language": "python",
     "metadata": {},
     "outputs": [],
     "prompt_number": 59
    },
    {
     "cell_type": "code",
     "collapsed": false,
     "input": [
      "clinical_df.ix[keepers_o].apply(test).T.sort('LR')"
     ],
     "language": "python",
     "metadata": {},
     "outputs": [
      {
       "html": [
        "<div style=\"max-height:1000px;max-width:1500px;overflow:auto;\">\n",
        "<table border=\"1\" class=\"dataframe\">\n",
        "  <thead>\n",
        "    <tr style=\"text-align: right;\">\n",
        "      <th></th>\n",
        "      <th>LR</th>\n",
        "      <th>feature_p</th>\n",
        "      <th>fmla</th>\n",
        "      <th>hazzard</th>\n",
        "    </tr>\n",
        "  </thead>\n",
        "  <tbody>\n",
        "    <tr>\n",
        "      <th>spread_inferred</th>\n",
        "      <td> 0.00952</td>\n",
        "      <td> 0.00764</td>\n",
        "      <td> Surv(days, event) ~ feature + old\\n</td>\n",
        "      <td> 1.76</td>\n",
        "    </tr>\n",
        "    <tr>\n",
        "      <th>lymph_status</th>\n",
        "      <td>  0.0636</td>\n",
        "      <td>  0.0554</td>\n",
        "      <td> Surv(days, event) ~ feature + old\\n</td>\n",
        "      <td> 1.54</td>\n",
        "    </tr>\n",
        "    <tr>\n",
        "      <th>invasion</th>\n",
        "      <td>  0.0833</td>\n",
        "      <td>     NaN</td>\n",
        "      <td> Surv(days, event) ~ feature + old\\n</td>\n",
        "      <td>  NaN</td>\n",
        "    </tr>\n",
        "    <tr>\n",
        "      <th>stage</th>\n",
        "      <td>       1</td>\n",
        "      <td>     NaN</td>\n",
        "      <td>           Surv(days, event) ~ old\\n</td>\n",
        "      <td>  NaN</td>\n",
        "    </tr>\n",
        "    <tr>\n",
        "      <th>lymph_stage</th>\n",
        "      <td>       1</td>\n",
        "      <td>     NaN</td>\n",
        "      <td>             Surv(days, event) ~ 1\\n</td>\n",
        "      <td>  NaN</td>\n",
        "    </tr>\n",
        "    <tr>\n",
        "      <th>age</th>\n",
        "      <td>       1</td>\n",
        "      <td>     NaN</td>\n",
        "      <td>           Surv(days, event) ~ old\\n</td>\n",
        "      <td>  NaN</td>\n",
        "    </tr>\n",
        "    <tr>\n",
        "      <th>old_age</th>\n",
        "      <td>       1</td>\n",
        "      <td>     NaN</td>\n",
        "      <td>       Surv(days, event) ~ feature\\n</td>\n",
        "      <td>  NaN</td>\n",
        "    </tr>\n",
        "    <tr>\n",
        "      <th>pack_years</th>\n",
        "      <td>       1</td>\n",
        "      <td>     NaN</td>\n",
        "      <td>             Surv(days, event) ~ 1\\n</td>\n",
        "      <td>  NaN</td>\n",
        "    </tr>\n",
        "    <tr>\n",
        "      <th>tumor_subdivision</th>\n",
        "      <td>       1</td>\n",
        "      <td>     NaN</td>\n",
        "      <td>           Surv(days, event) ~ old\\n</td>\n",
        "      <td>  NaN</td>\n",
        "    </tr>\n",
        "  </tbody>\n",
        "</table>\n",
        "</div>"
       ],
       "metadata": {},
       "output_type": "pyout",
       "prompt_number": 60,
       "text": [
        "                        LR feature_p                                 fmla hazzard\n",
        "spread_inferred    0.00952   0.00764  Surv(days, event) ~ feature + old\\n    1.76\n",
        "lymph_status        0.0636    0.0554  Surv(days, event) ~ feature + old\\n    1.54\n",
        "invasion            0.0833       NaN  Surv(days, event) ~ feature + old\\n     NaN\n",
        "stage                    1       NaN            Surv(days, event) ~ old\\n     NaN\n",
        "lymph_stage              1       NaN              Surv(days, event) ~ 1\\n     NaN\n",
        "age                      1       NaN            Surv(days, event) ~ old\\n     NaN\n",
        "old_age                  1       NaN        Surv(days, event) ~ feature\\n     NaN\n",
        "pack_years               1       NaN              Surv(days, event) ~ 1\\n     NaN\n",
        "tumor_subdivision        1       NaN            Surv(days, event) ~ old\\n     NaN"
       ]
      }
     ],
     "prompt_number": 60
    },
    {
     "cell_type": "code",
     "collapsed": false,
     "input": [
      "gv = pd.concat([global_vars['mutation'], global_vars['cna'], rna.global_vars, meth.global_vars, mirna.global_vars], \n",
      "                keys=['mutation', 'cna', 'rna', 'methylation', 'mirna'], axis=1)\n",
      "gv = gv.ix[keepers_o]"
     ],
     "language": "python",
     "metadata": {},
     "outputs": [],
     "prompt_number": 183
    },
    {
     "cell_type": "code",
     "collapsed": false,
     "input": [
      "cox_screen(gv.T, surv).head()"
     ],
     "language": "python",
     "metadata": {},
     "outputs": [
      {
       "html": [
        "<div style=\"max-height:1000px;max-width:1500px;overflow:auto;\">\n",
        "<table border=\"1\" class=\"dataframe\">\n",
        "  <thead>\n",
        "    <tr style=\"text-align: right;\">\n",
        "      <th></th>\n",
        "      <th></th>\n",
        "      <th>LR</th>\n",
        "      <th>p</th>\n",
        "      <th>q</th>\n",
        "    </tr>\n",
        "  </thead>\n",
        "  <tbody>\n",
        "    <tr>\n",
        "      <th>mirna</th>\n",
        "      <th>filtered_pc1</th>\n",
        "      <td> 7.43</td>\n",
        "      <td> 0.01</td>\n",
        "      <td> 0.24</td>\n",
        "    </tr>\n",
        "    <tr>\n",
        "      <th rowspan=\"2\" valign=\"top\">rna</th>\n",
        "      <th>pathway_pc1</th>\n",
        "      <td> 5.35</td>\n",
        "      <td> 0.02</td>\n",
        "      <td> 0.38</td>\n",
        "    </tr>\n",
        "    <tr>\n",
        "      <th>filtered_pc2</th>\n",
        "      <td> 4.48</td>\n",
        "      <td> 0.03</td>\n",
        "      <td> 0.42</td>\n",
        "    </tr>\n",
        "    <tr>\n",
        "      <th rowspan=\"2\" valign=\"top\">mirna</th>\n",
        "      <th>background</th>\n",
        "      <td> 2.91</td>\n",
        "      <td> 0.09</td>\n",
        "      <td> 0.79</td>\n",
        "    </tr>\n",
        "    <tr>\n",
        "      <th>pc1</th>\n",
        "      <td> 2.04</td>\n",
        "      <td> 0.15</td>\n",
        "      <td> 0.79</td>\n",
        "    </tr>\n",
        "  </tbody>\n",
        "</table>\n",
        "</div>"
       ],
       "metadata": {},
       "output_type": "pyout",
       "prompt_number": 185,
       "text": [
        "                      LR     p     q\n",
        "mirna filtered_pc1  7.43  0.01  0.24\n",
        "rna   pathway_pc1   5.35  0.02  0.38\n",
        "      filtered_pc2  4.48  0.03  0.42\n",
        "mirna background    2.91  0.09  0.79\n",
        "      pc1           2.04  0.15  0.79"
       ]
      }
     ],
     "prompt_number": 185
    },
    {
     "cell_type": "markdown",
     "metadata": {},
     "source": [
      "#Run Mutation Data   \n",
      "\n",
      "###Filter based on mutation rate\n",
      "* We want to filter noisy features that are just artifacts of mutation rate.\n",
      "* The caveat is that we do not want to get rid of passengers that may still have information even though they are mutated at the baseline rate.\n",
      "* The current solution is to only get rid of features with more that half of the patients mutated that are also highly correlated with mutation rate.  We're assuming that the patients without mutations to these pathways are the ones with very low mutation rates such that the actuall genes in the pathway are irrelavant. "
     ]
    },
    {
     "cell_type": "code",
     "collapsed": false,
     "input": [
      "tt = lambda a,b: kruskal_pandas(b,a)\n",
      "def fc(hit_vec, response_vec):\n",
      "    f = response_vec.groupby(hit_vec).median()\n",
      "    return f[0] > f[1]"
     ],
     "language": "python",
     "metadata": {},
     "outputs": [],
     "prompt_number": 152
    },
    {
     "cell_type": "code",
     "collapsed": false,
     "input": [
      "rate = global_vars.mutation.rate_non\n",
      "cc = screen_feature(rate, tt, mut.features)"
     ],
     "language": "python",
     "metadata": {},
     "outputs": [],
     "prompt_number": 153
    },
    {
     "cell_type": "code",
     "collapsed": false,
     "input": [
      "fc_apply = lambda s: fc(s, rate)\n",
      "direction = mut.features.apply(fc_apply, axis=1)\n",
      "direction.name = 'direction'\n",
      "\n",
      "cc = cc.join(direction)\n",
      "cc = cc[cc.direction==False]"
     ],
     "language": "python",
     "metadata": {},
     "outputs": [],
     "prompt_number": 154
    },
    {
     "cell_type": "code",
     "collapsed": false,
     "input": [
      "cc.head()"
     ],
     "language": "python",
     "metadata": {},
     "outputs": [
      {
       "html": [
        "<div style=\"max-height:1000px;max-width:1500px;overflow:auto;\">\n",
        "<table border=\"1\" class=\"dataframe\">\n",
        "  <thead>\n",
        "    <tr style=\"text-align: right;\">\n",
        "      <th></th>\n",
        "      <th>H</th>\n",
        "      <th>p</th>\n",
        "      <th>q</th>\n",
        "      <th>direction</th>\n",
        "    </tr>\n",
        "  </thead>\n",
        "  <tbody>\n",
        "    <tr>\n",
        "      <th>REACTOME_METABOLISM_OF_CARBOHYDRATES</th>\n",
        "      <td> 87.26</td>\n",
        "      <td> 9.53e-21</td>\n",
        "      <td> 9.43e-18</td>\n",
        "      <td> False</td>\n",
        "    </tr>\n",
        "    <tr>\n",
        "      <th>REACTOME_NCAM1_INTERACTIONS</th>\n",
        "      <td> 73.17</td>\n",
        "      <td> 1.19e-17</td>\n",
        "      <td> 4.72e-15</td>\n",
        "      <td> False</td>\n",
        "    </tr>\n",
        "    <tr>\n",
        "      <th>REACTOME_ADHERENS_JUNCTIONS_INTERACTIONS</th>\n",
        "      <td> 72.81</td>\n",
        "      <td> 1.43e-17</td>\n",
        "      <td> 4.72e-15</td>\n",
        "      <td> False</td>\n",
        "    </tr>\n",
        "    <tr>\n",
        "      <th>KEGG_PHOSPHATIDYLINOSITOL_SIGNALING_SYSTEM</th>\n",
        "      <td> 70.12</td>\n",
        "      <td> 5.58e-17</td>\n",
        "      <td> 1.38e-14</td>\n",
        "      <td> False</td>\n",
        "    </tr>\n",
        "    <tr>\n",
        "      <th>KEGG_CARDIAC_MUSCLE_CONTRACTION</th>\n",
        "      <td> 69.07</td>\n",
        "      <td> 9.48e-17</td>\n",
        "      <td> 1.64e-14</td>\n",
        "      <td> False</td>\n",
        "    </tr>\n",
        "  </tbody>\n",
        "</table>\n",
        "</div>"
       ],
       "metadata": {},
       "output_type": "pyout",
       "prompt_number": 155,
       "text": [
        "                                                H         p         q direction\n",
        "REACTOME_METABOLISM_OF_CARBOHYDRATES        87.26  9.53e-21  9.43e-18     False\n",
        "REACTOME_NCAM1_INTERACTIONS                 73.17  1.19e-17  4.72e-15     False\n",
        "REACTOME_ADHERENS_JUNCTIONS_INTERACTIONS    72.81  1.43e-17  4.72e-15     False\n",
        "KEGG_PHOSPHATIDYLINOSITOL_SIGNALING_SYSTEM  70.12  5.58e-17  1.38e-14     False\n",
        "KEGG_CARDIAC_MUSCLE_CONTRACTION             69.07  9.48e-17  1.64e-14     False"
       ]
      }
     ],
     "prompt_number": 155
    },
    {
     "cell_type": "markdown",
     "metadata": {},
     "source": [
      "###Screen for survival associated features  \n",
      "* First pass is a log-rank tet on all features\n",
      "* Next we run the full model with covariates  \n",
      "* We use a combination of the two tests to filter down the candidate associations and pull out the top biomarkers\n",
      "* Here the log-rank test is really underpowered.  \n",
      "* The mutation-rate covariate helps a lot to explain away many of the patients who have very high mutation rates and good prognosis.\n",
      "* The age covariate often explains patients who are in a good-prognosis group but have bad outcomes.\n",
      "* The results of the full model are kind of hard to interperet and non-necessarily relavant as we get a lot of features that help to explain mutation rate effect, ect. and thus improve the model but we don't exactly know what to do with these things for now.   "
     ]
    },
    {
     "cell_type": "markdown",
     "metadata": {},
     "source": [
      "####First pass is a log-rank test on all features"
     ]
    },
    {
     "cell_type": "code",
     "collapsed": false,
     "input": [
      "surv = clinical.survival.survival_5y"
     ],
     "language": "python",
     "metadata": {},
     "outputs": [],
     "prompt_number": 156
    },
    {
     "cell_type": "code",
     "collapsed": false,
     "input": [
      "df = mut.features.ix[((cc.p>.00001) + (mut.features.sum(1) < (mut.features.shape[1] / 2.))) > 0]\n",
      "df = df.ix[:,keepers].dropna(axis=1)\n",
      "\n",
      "lr = df.apply(log_rank, args=(surv,), axis=1)\n",
      "lr['q'] = bhCorrection(lr.p)"
     ],
     "language": "python",
     "metadata": {},
     "outputs": [],
     "prompt_number": 157
    },
    {
     "cell_type": "code",
     "collapsed": false,
     "input": [
      "lr.sort('p').head()"
     ],
     "language": "python",
     "metadata": {},
     "outputs": [
      {
       "html": [
        "<div style=\"max-height:1000px;max-width:1500px;overflow:auto;\">\n",
        "<table border=\"1\" class=\"dataframe\">\n",
        "  <thead>\n",
        "    <tr style=\"text-align: right;\">\n",
        "      <th></th>\n",
        "      <th>chi2</th>\n",
        "      <th>p</th>\n",
        "      <th>q</th>\n",
        "    </tr>\n",
        "  </thead>\n",
        "  <tbody>\n",
        "    <tr>\n",
        "      <th>MUC5B</th>\n",
        "      <td> 22.95</td>\n",
        "      <td> 1.66e-06</td>\n",
        "      <td> 0.00</td>\n",
        "    </tr>\n",
        "    <tr>\n",
        "      <th>EPHA2</th>\n",
        "      <td>  8.00</td>\n",
        "      <td> 4.68e-03</td>\n",
        "      <td> 0.99</td>\n",
        "    </tr>\n",
        "    <tr>\n",
        "      <th>CACNA2D1</th>\n",
        "      <td>  7.72</td>\n",
        "      <td> 5.47e-03</td>\n",
        "      <td> 0.99</td>\n",
        "    </tr>\n",
        "    <tr>\n",
        "      <th>REACTOME_CYTOSOLIC_TRNA_AMINOACYLATION</th>\n",
        "      <td>  7.50</td>\n",
        "      <td> 6.18e-03</td>\n",
        "      <td> 0.99</td>\n",
        "    </tr>\n",
        "    <tr>\n",
        "      <th>REACTOME_TRAFFICKING_OF_AMPA_RECEPTORS</th>\n",
        "      <td>  6.74</td>\n",
        "      <td> 9.44e-03</td>\n",
        "      <td> 0.99</td>\n",
        "    </tr>\n",
        "  </tbody>\n",
        "</table>\n",
        "</div>"
       ],
       "metadata": {},
       "output_type": "pyout",
       "prompt_number": 158,
       "text": [
        "                                         chi2         p     q\n",
        "MUC5B                                   22.95  1.66e-06  0.00\n",
        "EPHA2                                    8.00  4.68e-03  0.99\n",
        "CACNA2D1                                 7.72  5.47e-03  0.99\n",
        "REACTOME_CYTOSOLIC_TRNA_AMINOACYLATION   7.50  6.18e-03  0.99\n",
        "REACTOME_TRAFFICKING_OF_AMPA_RECEPTORS   6.74  9.44e-03  0.99"
       ]
      }
     ],
     "prompt_number": 158
    },
    {
     "cell_type": "markdown",
     "metadata": {},
     "source": [
      "####Next we run the full screen"
     ]
    },
    {
     "cell_type": "code",
     "collapsed": false,
     "input": [
      "rate.hist()"
     ],
     "language": "python",
     "metadata": {},
     "outputs": [
      {
       "metadata": {},
       "output_type": "pyout",
       "prompt_number": 159,
       "text": [
        "<matplotlib.axes.AxesSubplot at 0x14dfb610>"
       ]
      },
      {
       "metadata": {},
       "output_type": "display_data",
       "png": "[encoded data removed]",
       "text": [
        "<matplotlib.figure.Figure at 0x14df9850>"
       ]
      }
     ],
     "prompt_number": 159
    },
    {
     "cell_type": "code",
     "collapsed": false,
     "input": [
      "rate = global_vars[('mutation', 'rate_non')]\n",
      "rate = np.log2(rate)\n",
      "rate.name = 'rate'\n",
      "cov_df = pd.concat([age, rate, old], axis=1)\n",
      "test = lambda s: get_cox_ph_ms(surv, s, cov_df, return_val='LR', interactions=False);"
     ],
     "language": "python",
     "metadata": {},
     "outputs": [],
     "prompt_number": 160
    },
    {
     "cell_type": "code",
     "collapsed": false,
     "input": [
      "df = mut.features.ix[:,keepers_o].dropna(axis=1)\n",
      "df = df.ix[((cc.p>.00001) + (df.sum(1) < (df.shape[1] / 2.))) > 0]"
     ],
     "language": "python",
     "metadata": {},
     "outputs": [],
     "prompt_number": 161
    },
    {
     "cell_type": "code",
     "collapsed": false,
     "input": [
      "mut_res_t = df.apply(test, 1)\n",
      "mut_res_t['LR_q'] = bhCorrection(mut_res_t.LR)"
     ],
     "language": "python",
     "metadata": {},
     "outputs": [],
     "prompt_number": 162
    },
    {
     "cell_type": "code",
     "collapsed": false,
     "input": [
      "mut_res_t.sort('LR').head()"
     ],
     "language": "python",
     "metadata": {},
     "outputs": [
      {
       "html": [
        "<div style=\"max-height:1000px;max-width:1500px;overflow:auto;\">\n",
        "<table border=\"1\" class=\"dataframe\">\n",
        "  <thead>\n",
        "    <tr style=\"text-align: right;\">\n",
        "      <th></th>\n",
        "      <th>LR</th>\n",
        "      <th>feature_p</th>\n",
        "      <th>fmla</th>\n",
        "      <th>hazzard</th>\n",
        "      <th>LR_q</th>\n",
        "    </tr>\n",
        "  </thead>\n",
        "  <tbody>\n",
        "    <tr>\n",
        "      <th>MUC5B</th>\n",
        "      <td> 9.60e-05</td>\n",
        "      <td> 7.04e-06</td>\n",
        "      <td> Surv(days, event) ~ feature + old\\n</td>\n",
        "      <td> 4.13</td>\n",
        "      <td> 0.09</td>\n",
        "    </tr>\n",
        "    <tr>\n",
        "      <th>LPHN3</th>\n",
        "      <td> 2.63e-03</td>\n",
        "      <td> 3.81e-02</td>\n",
        "      <td> Surv(days, event) ~ feature + old\\n</td>\n",
        "      <td> 0.12</td>\n",
        "      <td> 0.79</td>\n",
        "    </tr>\n",
        "    <tr>\n",
        "      <th>CELSR2</th>\n",
        "      <td> 2.67e-03</td>\n",
        "      <td> 2.34e-02</td>\n",
        "      <td> Surv(days, event) ~ feature + old\\n</td>\n",
        "      <td> 0.20</td>\n",
        "      <td> 0.79</td>\n",
        "    </tr>\n",
        "    <tr>\n",
        "      <th>BIOCARTA_PGC1A_PATHWAY</th>\n",
        "      <td> 6.45e-03</td>\n",
        "      <td> 3.53e-02</td>\n",
        "      <td> Surv(days, event) ~ feature + old\\n</td>\n",
        "      <td> 0.22</td>\n",
        "      <td> 1.00</td>\n",
        "    </tr>\n",
        "    <tr>\n",
        "      <th>SCN1A</th>\n",
        "      <td> 7.10e-03</td>\n",
        "      <td> 2.40e-02</td>\n",
        "      <td> Surv(days, event) ~ feature + old\\n</td>\n",
        "      <td> 0.31</td>\n",
        "      <td> 1.00</td>\n",
        "    </tr>\n",
        "  </tbody>\n",
        "</table>\n",
        "</div>"
       ],
       "metadata": {},
       "output_type": "pyout",
       "prompt_number": 163,
       "text": [
        "                              LR  feature_p                                 fmla  hazzard  LR_q\n",
        "MUC5B                   9.60e-05   7.04e-06  Surv(days, event) ~ feature + old\\n     4.13  0.09\n",
        "LPHN3                   2.63e-03   3.81e-02  Surv(days, event) ~ feature + old\\n     0.12  0.79\n",
        "CELSR2                  2.67e-03   2.34e-02  Surv(days, event) ~ feature + old\\n     0.20  0.79\n",
        "BIOCARTA_PGC1A_PATHWAY  6.45e-03   3.53e-02  Surv(days, event) ~ feature + old\\n     0.22  1.00\n",
        "SCN1A                   7.10e-03   2.40e-02  Surv(days, event) ~ feature + old\\n     0.31  1.00"
       ]
      }
     ],
     "prompt_number": 163
    },
    {
     "cell_type": "markdown",
     "metadata": {},
     "source": [
      "#### Here are the unfiltered results  \n",
      "* Note that the cell cycle pathway does nearly as well as TP53 itself, it is very likely that some of the genes in this pathway serve the same function, but including the pathway greatly increases the complexity of downstream analysis and leads to some tough deconvolution of the interaction of HPV with TP53.  \n",
      "* We have a bunch of redundancy here with closely defined gene-sets, so now we will filter some of these out.\n",
      "* Note that I'm choosing to rank the results by the univariate test, while using the full model as a filter, this reduces the biomarkers we followup on to have relatively straight-forward interpretations as their effect is more direct and less mediated by interaction with mutation rate or age."
     ]
    },
    {
     "cell_type": "code",
     "collapsed": false,
     "input": [
      "mut_res = pd.concat([mut_res_t[mut_res_t.LR_q < .3], lr[lr.p < .05]], \n",
      "                    keys=['Full','Univariate'], axis=1).sort([('Full', 'LR')])\n",
      "mut_res = mut_res.dropna()\n",
      "mut_res.head()"
     ],
     "language": "python",
     "metadata": {},
     "outputs": [
      {
       "html": [
        "<div style=\"max-height:1000px;max-width:1500px;overflow:auto;\">\n",
        "<table border=\"1\" class=\"dataframe\">\n",
        "  <thead>\n",
        "    <tr>\n",
        "      <th></th>\n",
        "      <th colspan=\"5\" halign=\"left\">Full</th>\n",
        "      <th colspan=\"3\" halign=\"left\">Univariate</th>\n",
        "    </tr>\n",
        "    <tr>\n",
        "      <th></th>\n",
        "      <th>LR</th>\n",
        "      <th>feature_p</th>\n",
        "      <th>fmla</th>\n",
        "      <th>hazzard</th>\n",
        "      <th>LR_q</th>\n",
        "      <th>chi2</th>\n",
        "      <th>p</th>\n",
        "      <th>q</th>\n",
        "    </tr>\n",
        "  </thead>\n",
        "  <tbody>\n",
        "    <tr>\n",
        "      <th>MUC5B</th>\n",
        "      <td> 9.60e-05</td>\n",
        "      <td> 7.04e-06</td>\n",
        "      <td> Surv(days, event) ~ feature + old\\n</td>\n",
        "      <td> 4.13</td>\n",
        "      <td> 0.09</td>\n",
        "      <td> 22.95</td>\n",
        "      <td> 1.66e-06</td>\n",
        "      <td> 0</td>\n",
        "    </tr>\n",
        "  </tbody>\n",
        "</table>\n",
        "</div>"
       ],
       "metadata": {},
       "output_type": "pyout",
       "prompt_number": 164,
       "text": [
        "           Full                                            Full     Full        Univariate             \n",
        "             LR  feature_p                                 fmla  hazzard  LR_q        chi2         p  q\n",
        "MUC5B  9.60e-05   7.04e-06  Surv(days, event) ~ feature + old\\n     4.13  0.09       22.95  1.66e-06  0"
       ]
      }
     ],
     "prompt_number": 164
    },
    {
     "cell_type": "markdown",
     "metadata": {},
     "source": [
      "##CNA Screen "
     ]
    },
    {
     "cell_type": "markdown",
     "metadata": {},
     "source": [
      "###Univariate model"
     ]
    },
    {
     "cell_type": "code",
     "collapsed": false,
     "input": [
      "df = (cn.features.ix['Deletion', keepers].dropna(1) < 0).astype(int)\n",
      "df = df[df.sum(1) > 10]"
     ],
     "language": "python",
     "metadata": {},
     "outputs": [],
     "prompt_number": 165
    },
    {
     "cell_type": "code",
     "collapsed": false,
     "input": [
      "df = (cn.features.ix['Deletion', keepers].dropna(1) < 0).astype(int)\n",
      "df = df[df.sum(1) > 10]\n",
      "\n",
      "lr = df.apply(log_rank, args=(surv,), axis=1)\n",
      "lr = lr.sort('p')\n",
      "lr_del = lr"
     ],
     "language": "python",
     "metadata": {},
     "outputs": [],
     "prompt_number": 166
    },
    {
     "cell_type": "code",
     "collapsed": false,
     "input": [
      "df = (cn.features.ix['Amplification', keepers].dropna(1) > 0).astype(str)\n",
      "df = df[df.sum(1) > 10]\n",
      "\n",
      "lr = df.apply(log_rank, args=(surv,), axis=1)\n",
      "lr = lr.sort('p')\n",
      "lr_amp = lr"
     ],
     "language": "python",
     "metadata": {},
     "outputs": [],
     "prompt_number": 167
    },
    {
     "cell_type": "code",
     "collapsed": false,
     "input": [
      "lr = pd.concat([lr_del, lr_amp], keys=['Deletion','Amplification'])\n",
      "lr['q'] = bhCorrection(lr.p)"
     ],
     "language": "python",
     "metadata": {},
     "outputs": [],
     "prompt_number": 168
    },
    {
     "cell_type": "code",
     "collapsed": false,
     "input": [
      "lr.head()"
     ],
     "language": "python",
     "metadata": {},
     "outputs": [
      {
       "html": [
        "<div style=\"max-height:1000px;max-width:1500px;overflow:auto;\">\n",
        "<table border=\"1\" class=\"dataframe\">\n",
        "  <thead>\n",
        "    <tr style=\"text-align: right;\">\n",
        "      <th></th>\n",
        "      <th></th>\n",
        "      <th></th>\n",
        "      <th>chi2</th>\n",
        "      <th>p</th>\n",
        "      <th>q</th>\n",
        "    </tr>\n",
        "  </thead>\n",
        "  <tbody>\n",
        "    <tr>\n",
        "      <th rowspan=\"5\" valign=\"top\">Deletion</th>\n",
        "      <th>13q14.2</th>\n",
        "      <th>Lesion</th>\n",
        "      <td> 7.47</td>\n",
        "      <td> 0.01</td>\n",
        "      <td> 0.43</td>\n",
        "    </tr>\n",
        "    <tr>\n",
        "      <th>5q35.3</th>\n",
        "      <th>Lesion</th>\n",
        "      <td> 3.47</td>\n",
        "      <td> 0.06</td>\n",
        "      <td> 0.73</td>\n",
        "    </tr>\n",
        "    <tr>\n",
        "      <th>11p15.4</th>\n",
        "      <th>Lesion</th>\n",
        "      <td> 3.21</td>\n",
        "      <td> 0.07</td>\n",
        "      <td> 0.73</td>\n",
        "    </tr>\n",
        "    <tr>\n",
        "      <th>11q14.1</th>\n",
        "      <th>Lesion</th>\n",
        "      <td> 3.06</td>\n",
        "      <td> 0.08</td>\n",
        "      <td> 0.73</td>\n",
        "    </tr>\n",
        "    <tr>\n",
        "      <th>5q11.2</th>\n",
        "      <th>Lesion</th>\n",
        "      <td> 3.01</td>\n",
        "      <td> 0.08</td>\n",
        "      <td> 0.73</td>\n",
        "    </tr>\n",
        "  </tbody>\n",
        "</table>\n",
        "</div>"
       ],
       "metadata": {},
       "output_type": "pyout",
       "prompt_number": 182,
       "text": [
        "                         chi2     p     q\n",
        "Deletion 13q14.2 Lesion  7.47  0.01  0.43\n",
        "         5q35.3  Lesion  3.47  0.06  0.73\n",
        "         11p15.4 Lesion  3.21  0.07  0.73\n",
        "         11q14.1 Lesion  3.06  0.08  0.73\n",
        "         5q11.2  Lesion  3.01  0.08  0.73"
       ]
      }
     ],
     "prompt_number": 182
    },
    {
     "cell_type": "markdown",
     "metadata": {},
     "source": [
      "###Multi-variate model"
     ]
    },
    {
     "cell_type": "code",
     "collapsed": false,
     "input": [
      "rate = cn.df.ix['Deletion'].sum()\n",
      "rate.name = 'rate'\n",
      "cov_df = pd.concat([age, rate, old], axis=1).dropna()\n",
      "test = lambda s: get_cox_ph_ms(surv, s, cov_df, return_val='LR', interactions=False);\n",
      "\n",
      "df = (cn.features.ix['Deletion', keepers_o].dropna(1) < 0).astype(int)\n",
      "df = df[df.sum(1) > 10]\n",
      "cn_res_t = df.apply(test, 1)\n",
      "cn_res_t['LR_q'] = bhCorrection(cn_res_t.LR)"
     ],
     "language": "python",
     "metadata": {},
     "outputs": [],
     "prompt_number": 170
    },
    {
     "cell_type": "code",
     "collapsed": false,
     "input": [
      "rate = cn.df.ix['Amplification'].sum()\n",
      "rate.name = 'rate'\n",
      "cov_df = pd.concat([age, rate, old], axis=1).dropna()\n",
      "test = lambda s: get_cox_ph_ms(surv, s, cov_df, return_val='LR', interactions=False);\n",
      "\n",
      "df = (cn.features.ix['Amplification', keepers_o].dropna(1) > 0).astype(int)\n",
      "df = df[df.sum(1) > 10]\n",
      "cn_res_a = df.apply(test, 1)\n",
      "cn_res_a['LR_q'] = bhCorrection(cn_res_a.LR)"
     ],
     "language": "python",
     "metadata": {},
     "outputs": [],
     "prompt_number": 171
    },
    {
     "cell_type": "code",
     "collapsed": false,
     "input": [
      "cn_full = pd.concat([cn_res_t, cn_res_a], keys=['Deletion','Amplification'])\n",
      "cn_full['LR_q'] = bhCorrection(cn_full.LR)"
     ],
     "language": "python",
     "metadata": {},
     "outputs": [],
     "prompt_number": 172
    },
    {
     "cell_type": "code",
     "collapsed": false,
     "input": [
      "cn_res = pd.concat([cn_full[cn_full.LR_q < .9], lr[lr.p < .05]], \n",
      "                    keys=['Full','Univariate'], axis=1).sort([('Full', 'LR')])\n",
      "cn_res = cn_res.dropna()\n",
      "cn_res.head()"
     ],
     "language": "python",
     "metadata": {},
     "outputs": [
      {
       "html": [
        "<div style=\"max-height:1000px;max-width:1500px;overflow:auto;\">\n",
        "<table border=\"1\" class=\"dataframe\">\n",
        "  <thead>\n",
        "    <tr>\n",
        "      <th></th>\n",
        "      <th></th>\n",
        "      <th></th>\n",
        "      <th colspan=\"5\" halign=\"left\">Full</th>\n",
        "      <th colspan=\"3\" halign=\"left\">Univariate</th>\n",
        "    </tr>\n",
        "    <tr>\n",
        "      <th></th>\n",
        "      <th></th>\n",
        "      <th></th>\n",
        "      <th>LR</th>\n",
        "      <th>feature_p</th>\n",
        "      <th>fmla</th>\n",
        "      <th>hazzard</th>\n",
        "      <th>LR_q</th>\n",
        "      <th>chi2</th>\n",
        "      <th>p</th>\n",
        "      <th>q</th>\n",
        "    </tr>\n",
        "  </thead>\n",
        "  <tbody>\n",
        "    <tr>\n",
        "      <th>Deletion</th>\n",
        "      <th>13q14.2</th>\n",
        "      <th>Lesion</th>\n",
        "      <td> 0</td>\n",
        "      <td> 0.01</td>\n",
        "      <td> Surv(days, event) ~ feature + old\\n</td>\n",
        "      <td> 0.55</td>\n",
        "      <td> 0.31</td>\n",
        "      <td> 7.47</td>\n",
        "      <td> 0.01</td>\n",
        "      <td> 0.43</td>\n",
        "    </tr>\n",
        "  </tbody>\n",
        "</table>\n",
        "</div>"
       ],
       "metadata": {},
       "output_type": "pyout",
       "prompt_number": 173,
       "text": [
        "                         Full                                            Full     Full        Univariate            \n",
        "                           LR  feature_p                                 fmla  hazzard  LR_q        chi2     p     q\n",
        "Deletion 13q14.2 Lesion     0       0.01  Surv(days, event) ~ feature + old\\n     0.55  0.31        7.47  0.01  0.43"
       ]
      }
     ],
     "prompt_number": 173
    },
    {
     "cell_type": "markdown",
     "metadata": {},
     "source": [
      "##RNA Screen"
     ]
    },
    {
     "cell_type": "code",
     "collapsed": false,
     "input": [
      "cox = cox_screen(rna.pathways, surv)"
     ],
     "language": "python",
     "metadata": {},
     "outputs": [],
     "prompt_number": 174
    },
    {
     "cell_type": "code",
     "collapsed": false,
     "input": [
      "cox.head()"
     ],
     "language": "python",
     "metadata": {},
     "outputs": [
      {
       "html": [
        "<div style=\"max-height:1000px;max-width:1500px;overflow:auto;\">\n",
        "<table border=\"1\" class=\"dataframe\">\n",
        "  <thead>\n",
        "    <tr style=\"text-align: right;\">\n",
        "      <th></th>\n",
        "      <th>LR</th>\n",
        "      <th>p</th>\n",
        "      <th>q</th>\n",
        "    </tr>\n",
        "  </thead>\n",
        "  <tbody>\n",
        "    <tr>\n",
        "      <th>REACTOME_PHOSPHORYLATION_OF_THE_APC</th>\n",
        "      <td> 12.84</td>\n",
        "      <td> 3.39e-04</td>\n",
        "      <td> 0.07</td>\n",
        "    </tr>\n",
        "    <tr>\n",
        "      <th>REACTOME_INACTIVATION_OF_APC_VIA_DIRECT_INHIBITION_OF_THE_APCOMPLEX</th>\n",
        "      <td> 12.79</td>\n",
        "      <td> 3.48e-04</td>\n",
        "      <td> 0.07</td>\n",
        "    </tr>\n",
        "    <tr>\n",
        "      <th>REACTOME_APCDC20_MEDIATED_DEGRADATION_OF_CYCLIN_B</th>\n",
        "      <td> 12.16</td>\n",
        "      <td> 4.89e-04</td>\n",
        "      <td> 0.07</td>\n",
        "    </tr>\n",
        "    <tr>\n",
        "      <th>REACTOME_CONVERSION_FROM_APC_CDC20_TO_APC_CDH1_IN_LATE_ANAPHASE</th>\n",
        "      <td> 10.31</td>\n",
        "      <td> 1.33e-03</td>\n",
        "      <td> 0.14</td>\n",
        "    </tr>\n",
        "    <tr>\n",
        "      <th>BIOCARTA_BARRESTIN_SRC_PATHWAY</th>\n",
        "      <td>  9.03</td>\n",
        "      <td> 2.65e-03</td>\n",
        "      <td> 0.17</td>\n",
        "    </tr>\n",
        "  </tbody>\n",
        "</table>\n",
        "</div>"
       ],
       "metadata": {},
       "output_type": "pyout",
       "prompt_number": 175,
       "text": [
        "                                                                        LR         p     q\n",
        "REACTOME_PHOSPHORYLATION_OF_THE_APC                                  12.84  3.39e-04  0.07\n",
        "REACTOME_INACTIVATION_OF_APC_VIA_DIRECT_INHIBITION_OF_THE_APCOMPLEX  12.79  3.48e-04  0.07\n",
        "REACTOME_APCDC20_MEDIATED_DEGRADATION_OF_CYCLIN_B                    12.16  4.89e-04  0.07\n",
        "REACTOME_CONVERSION_FROM_APC_CDC20_TO_APC_CDH1_IN_LATE_ANAPHASE      10.31  1.33e-03  0.14\n",
        "BIOCARTA_BARRESTIN_SRC_PATHWAY                                        9.03  2.65e-03  0.17"
       ]
      }
     ],
     "prompt_number": 175
    },
    {
     "cell_type": "code",
     "collapsed": false,
     "input": [
      "pc1 = rna.global_vars.pc1\n",
      "background = rna.global_vars.background\n",
      "cov_df = pd.concat([age, pc1, background, old], axis=1).dropna()\n",
      "test = lambda s: get_cox_ph_ms(surv, s, cov_df, return_val='LR', interactions=False);\n",
      "\n",
      "df = rna.pathways.ix[:, keepers_o]\n",
      "rna_res = df.apply(test, 1)\n",
      "rna_res['LR_q'] = bhCorrection(rna_res.LR)"
     ],
     "language": "python",
     "metadata": {},
     "outputs": [],
     "prompt_number": 176
    },
    {
     "cell_type": "code",
     "collapsed": false,
     "input": [
      "rna_res.sort('LR').head()"
     ],
     "language": "python",
     "metadata": {},
     "outputs": [
      {
       "html": [
        "<div style=\"max-height:1000px;max-width:1500px;overflow:auto;\">\n",
        "<table border=\"1\" class=\"dataframe\">\n",
        "  <thead>\n",
        "    <tr style=\"text-align: right;\">\n",
        "      <th></th>\n",
        "      <th>LR</th>\n",
        "      <th>feature_p</th>\n",
        "      <th>fmla</th>\n",
        "      <th>hazzard</th>\n",
        "      <th>LR_q</th>\n",
        "    </tr>\n",
        "  </thead>\n",
        "  <tbody>\n",
        "    <tr>\n",
        "      <th>REACTOME_PHOSPHORYLATION_OF_THE_APC</th>\n",
        "      <td> 8.47e-04</td>\n",
        "      <td> 0</td>\n",
        "      <td> Surv(days, event) ~ feature + old\\n</td>\n",
        "      <td> 1.45</td>\n",
        "      <td> 0.17</td>\n",
        "    </tr>\n",
        "    <tr>\n",
        "      <th>REACTOME_INACTIVATION_OF_APC_VIA_DIRECT_INHIBITION_OF_THE_APCOMPLEX</th>\n",
        "      <td> 1.06e-03</td>\n",
        "      <td> 0</td>\n",
        "      <td> Surv(days, event) ~ feature + old\\n</td>\n",
        "      <td> 1.44</td>\n",
        "      <td> 0.17</td>\n",
        "    </tr>\n",
        "    <tr>\n",
        "      <th>REACTOME_APCDC20_MEDIATED_DEGRADATION_OF_CYCLIN_B</th>\n",
        "      <td> 1.18e-03</td>\n",
        "      <td> 0</td>\n",
        "      <td> Surv(days, event) ~ feature + old\\n</td>\n",
        "      <td> 1.43</td>\n",
        "      <td> 0.17</td>\n",
        "    </tr>\n",
        "    <tr>\n",
        "      <th>REACTOME_G2_M_TRANSITION</th>\n",
        "      <td> 2.66e-03</td>\n",
        "      <td> 0</td>\n",
        "      <td> Surv(days, event) ~ feature + old\\n</td>\n",
        "      <td> 1.39</td>\n",
        "      <td> 0.22</td>\n",
        "    </tr>\n",
        "    <tr>\n",
        "      <th>REACTOME_CENTROSOME_MATURATION</th>\n",
        "      <td> 2.87e-03</td>\n",
        "      <td> 0</td>\n",
        "      <td> Surv(days, event) ~ feature + old\\n</td>\n",
        "      <td> 1.39</td>\n",
        "      <td> 0.22</td>\n",
        "    </tr>\n",
        "  </tbody>\n",
        "</table>\n",
        "</div>"
       ],
       "metadata": {},
       "output_type": "pyout",
       "prompt_number": 177,
       "text": [
        "                                                                           LR  feature_p                                 fmla  hazzard  LR_q\n",
        "REACTOME_PHOSPHORYLATION_OF_THE_APC                                  8.47e-04          0  Surv(days, event) ~ feature + old\\n     1.45  0.17\n",
        "REACTOME_INACTIVATION_OF_APC_VIA_DIRECT_INHIBITION_OF_THE_APCOMPLEX  1.06e-03          0  Surv(days, event) ~ feature + old\\n     1.44  0.17\n",
        "REACTOME_APCDC20_MEDIATED_DEGRADATION_OF_CYCLIN_B                    1.18e-03          0  Surv(days, event) ~ feature + old\\n     1.43  0.17\n",
        "REACTOME_G2_M_TRANSITION                                             2.66e-03          0  Surv(days, event) ~ feature + old\\n     1.39  0.22\n",
        "REACTOME_CENTROSOME_MATURATION                                       2.87e-03          0  Surv(days, event) ~ feature + old\\n     1.39  0.22"
       ]
      }
     ],
     "prompt_number": 177
    },
    {
     "cell_type": "markdown",
     "metadata": {},
     "source": [
      "##miRNA Screen"
     ]
    },
    {
     "cell_type": "code",
     "collapsed": false,
     "input": [
      "cox = cox_screen(mirna.features, surv)"
     ],
     "language": "python",
     "metadata": {},
     "outputs": [],
     "prompt_number": 178
    },
    {
     "cell_type": "code",
     "collapsed": false,
     "input": [
      "cox.head()"
     ],
     "language": "python",
     "metadata": {},
     "outputs": [
      {
       "html": [
        "<div style=\"max-height:1000px;max-width:1500px;overflow:auto;\">\n",
        "<table border=\"1\" class=\"dataframe\">\n",
        "  <thead>\n",
        "    <tr style=\"text-align: right;\">\n",
        "      <th></th>\n",
        "      <th></th>\n",
        "      <th>LR</th>\n",
        "      <th>p</th>\n",
        "      <th>q</th>\n",
        "    </tr>\n",
        "  </thead>\n",
        "  <tbody>\n",
        "    <tr>\n",
        "      <th>real</th>\n",
        "      <th>hsa-mir-135a-2</th>\n",
        "      <td> 17.55</td>\n",
        "      <td> 2.79e-05</td>\n",
        "      <td> 0.01</td>\n",
        "    </tr>\n",
        "    <tr>\n",
        "      <th>binary</th>\n",
        "      <th>hsa-mir-548k</th>\n",
        "      <td> 13.15</td>\n",
        "      <td> 2.87e-04</td>\n",
        "      <td> 0.04</td>\n",
        "    </tr>\n",
        "    <tr>\n",
        "      <th>real</th>\n",
        "      <th>hsa-mir-377</th>\n",
        "      <td>  9.85</td>\n",
        "      <td> 1.70e-03</td>\n",
        "      <td> 0.11</td>\n",
        "    </tr>\n",
        "    <tr>\n",
        "      <th>binary</th>\n",
        "      <th>hsa-mir-137</th>\n",
        "      <td>  9.05</td>\n",
        "      <td> 2.63e-03</td>\n",
        "      <td> 0.11</td>\n",
        "    </tr>\n",
        "    <tr>\n",
        "      <th>real</th>\n",
        "      <th>hsa-mir-337</th>\n",
        "      <td>  8.76</td>\n",
        "      <td> 3.09e-03</td>\n",
        "      <td> 0.11</td>\n",
        "    </tr>\n",
        "  </tbody>\n",
        "</table>\n",
        "</div>"
       ],
       "metadata": {},
       "output_type": "pyout",
       "prompt_number": 179,
       "text": [
        "                          LR         p     q\n",
        "real   hsa-mir-135a-2  17.55  2.79e-05  0.01\n",
        "binary hsa-mir-548k    13.15  2.87e-04  0.04\n",
        "real   hsa-mir-377      9.85  1.70e-03  0.11\n",
        "binary hsa-mir-137      9.05  2.63e-03  0.11\n",
        "real   hsa-mir-337      8.76  3.09e-03  0.11"
       ]
      }
     ],
     "prompt_number": 179
    },
    {
     "cell_type": "code",
     "collapsed": false,
     "input": [
      "pc1 = mirna.global_vars.pc1\n",
      "background = mirna.global_vars.background\n",
      "cov_df = pd.concat([age, pc1, background, old], axis=1).dropna()\n",
      "test = lambda s: get_cox_ph_ms(surv, s, cov_df, return_val='LR', interactions=False);\n",
      "\n",
      "df = mirna.features.ix[:, keepers_o]\n",
      "mirna_res = df.apply(test, 1)\n",
      "mirna_res['LR_q'] = bhCorrection(mirna_res.LR)"
     ],
     "language": "python",
     "metadata": {},
     "outputs": [],
     "prompt_number": 180
    },
    {
     "cell_type": "code",
     "collapsed": false,
     "input": [
      "mirna_res.sort('LR').head()"
     ],
     "language": "python",
     "metadata": {},
     "outputs": [
      {
       "html": [
        "<div style=\"max-height:1000px;max-width:1500px;overflow:auto;\">\n",
        "<table border=\"1\" class=\"dataframe\">\n",
        "  <thead>\n",
        "    <tr style=\"text-align: right;\">\n",
        "      <th></th>\n",
        "      <th></th>\n",
        "      <th>LR</th>\n",
        "      <th>feature_p</th>\n",
        "      <th>fmla</th>\n",
        "      <th>hazzard</th>\n",
        "      <th>LR_q</th>\n",
        "    </tr>\n",
        "  </thead>\n",
        "  <tbody>\n",
        "    <tr>\n",
        "      <th>real</th>\n",
        "      <th>hsa-mir-299</th>\n",
        "      <td> 6.75e-04</td>\n",
        "      <td> 1.06e-03</td>\n",
        "      <td> Surv(days, event) ~ feature + background + old\\n</td>\n",
        "      <td> 1.50</td>\n",
        "      <td> 0.16</td>\n",
        "    </tr>\n",
        "    <tr>\n",
        "      <th>binary</th>\n",
        "      <th>hsa-mir-137</th>\n",
        "      <td> 1.16e-03</td>\n",
        "      <td> 1.09e-03</td>\n",
        "      <td> Surv(days, event) ~ feature + background + old\\n</td>\n",
        "      <td> 1.97</td>\n",
        "      <td> 0.16</td>\n",
        "    </tr>\n",
        "    <tr>\n",
        "      <th>real</th>\n",
        "      <th>hsa-mir-127</th>\n",
        "      <td> 2.20e-03</td>\n",
        "      <td> 2.36e-03</td>\n",
        "      <td>        Surv(days, event) ~ feature + pc1 + old\\n</td>\n",
        "      <td> 1.44</td>\n",
        "      <td> 0.16</td>\n",
        "    </tr>\n",
        "    <tr>\n",
        "      <th>binary</th>\n",
        "      <th>hsa-mir-548k</th>\n",
        "      <td> 2.25e-03</td>\n",
        "      <td> 4.20e-04</td>\n",
        "      <td>              Surv(days, event) ~ feature + old\\n</td>\n",
        "      <td> 2.07</td>\n",
        "      <td> 0.16</td>\n",
        "    </tr>\n",
        "    <tr>\n",
        "      <th>real</th>\n",
        "      <th>hsa-mir-379</th>\n",
        "      <td> 4.00e-03</td>\n",
        "      <td> 1.15e-03</td>\n",
        "      <td>              Surv(days, event) ~ feature + pc1\\n</td>\n",
        "      <td> 1.50</td>\n",
        "      <td> 0.16</td>\n",
        "    </tr>\n",
        "  </tbody>\n",
        "</table>\n",
        "</div>"
       ],
       "metadata": {},
       "output_type": "pyout",
       "prompt_number": 181,
       "text": [
        "                           LR  feature_p                                              fmla  hazzard  LR_q\n",
        "real   hsa-mir-299   6.75e-04   1.06e-03  Surv(days, event) ~ feature + background + old\\n     1.50  0.16\n",
        "binary hsa-mir-137   1.16e-03   1.09e-03  Surv(days, event) ~ feature + background + old\\n     1.97  0.16\n",
        "real   hsa-mir-127   2.20e-03   2.36e-03         Surv(days, event) ~ feature + pc1 + old\\n     1.44  0.16\n",
        "binary hsa-mir-548k  2.25e-03   4.20e-04               Surv(days, event) ~ feature + old\\n     2.07  0.16\n",
        "real   hsa-mir-379   4.00e-03   1.15e-03               Surv(days, event) ~ feature + pc1\\n     1.50  0.16"
       ]
      }
     ],
     "prompt_number": 181
    }
   ],
   "metadata": {}
  }
 ]
}