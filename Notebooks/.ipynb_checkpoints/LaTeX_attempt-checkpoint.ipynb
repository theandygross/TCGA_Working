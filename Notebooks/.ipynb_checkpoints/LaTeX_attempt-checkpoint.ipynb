{
 "metadata": {
  "name": ""
 },
 "nbformat": 3,
 "nbformat_minor": 0,
 "worksheets": [
  {
   "cells": [
    {
     "cell_type": "code",
     "collapsed": false,
     "input": [
      "from Figures.Helpers import latex_float\n",
      "format_field = lambda s: latex_float(s) if np.isreal(s) else str(s)\n",
      "format_field = lambda s: '{0:.3e}'.format(s) if np.isreal(s) else str(s)\n",
      "def format_field(s):\n",
      "    if np.isreal(s):\n",
      "        if s < .01:\n",
      "            return '{0:.2e}'.format(s)\n",
      "        elif s < 10:\n",
      "            return '{0:.2}'.format(s)\n",
      "        elif not np.isnan(s):\n",
      "            return str(int(s))\n",
      "        else:\n",
      "            return str(s)\n",
      "    else:\n",
      "        return str(s)\n",
      "    \n",
      "def fix_latex_issues(s):\n",
      "    return s.replace('#', '').replace('_', ' ')"
     ],
     "language": "python",
     "metadata": {},
     "outputs": []
    },
    {
     "cell_type": "code",
     "collapsed": false,
     "input": [
      "latex_rep = ''\n",
      "s = df.groupby(axis=1, level=0).size()\n",
      "s = s.ix[pd.unique(df.columns.get_level_values(0))] #fix order\n",
      "table_format = 'r' + 'c'.join(['r'*c for c in s])\n",
      "latex_rep += '\\\\begin{tabular}{@{}' + table_format + '@{}}\\n'\n",
      "latex_rep += '\\\\toprule\\n'\n",
      "cols = ['& \\\\multicolumn{' + str(v) +'}{c}{' + i + '}' for i,v in s.iteritems()]\n",
      "latex_rep += '& \\phantom{abc}'.join(cols) + '\\\\\\\\\\n'\n",
      "\n",
      "mid_rule = ''\n",
      "i = 1\n",
      "for num in s:\n",
      "    mid_rule += '\\\\cmidrule{' + str(i+1) + '-' + str(i+num) + '} '\n",
      "    i = i + num + 1\n",
      "latex_rep += mid_rule + '\\n'\n",
      "latex_rep += '& ' + ' && '.join([' & '.join(df[k].columns) for k \n",
      "                                 in s.index]) + '\\\\\\\\\\n'\n",
      "latex_rep += '\\midrule\\n'\n",
      "\n",
      "tab = ''\n",
      "for i, df_s in df.groupby(level=0):\n",
      "    tab += str(i) + '\\\\\\\\\\n'\n",
      "    for j, df_r in df_s.iterrows():\n",
      "        tab += str(j[1]) + ' & ' \n",
      "        tab += ' && '.join([' & '.join(map(format_field, df_r.ix[k])) \n",
      "                            for k in s.index])\n",
      "        tab += '\\\\\\\\\\n'\n",
      "        \n",
      "latex_rep += tab\n",
      "latex_rep += '\\\\bottomrule\\n'\n",
      "latex_rep += '\\\\end{tabular}\\n'"
     ],
     "language": "python",
     "metadata": {},
     "outputs": []
    },
    {
     "cell_type": "code",
     "collapsed": false,
     "input": [
      "latex_rep = ''\n",
      "s = df.groupby(axis=1, level=0).size()\n",
      "s = s.ix[pd.unique(df.columns.get_level_values(0))] #fix order\n",
      "table_format = 'r' + 'c'.join(['r'*c for c in s])\n",
      "latex_rep += '\\\\begin{tabular}{@{}' + table_format + '@{}}\\n'\n",
      "latex_rep += '\\\\toprule\\n'\n",
      "cols = ['& \\\\multicolumn{' + str(v) +'}{c}{' + i + '}' for i,v in s.iteritems()]\n",
      "latex_rep += '& \\phantom{abc}'.join(cols) + '\\\\\\\\\\n'\n",
      "\n",
      "mid_rule = ''\n",
      "i = 1\n",
      "for num in s:\n",
      "    mid_rule += '\\\\cmidrule{' + str(i+1) + '-' + str(i+num) + '} '\n",
      "    i = i + num + 1\n",
      "latex_rep += mid_rule + '\\n'\n",
      "latex_rep += '& ' + ' && '.join([' & '.join(df[k].columns) for k \n",
      "                                 in s.index]) + '\\\\\\\\\\n'\n",
      "latex_rep += '\\midrule\\n'\n",
      "\n",
      "tab=''\n",
      "for j, df_r in df.iterrows():\n",
      "    tab += str(j) + ' & ' \n",
      "    tab += ' && '.join([' & '.join(map(format_field, df_r.ix[k])) \n",
      "                        for k in s.index])\n",
      "    tab += '\\\\\\\\\\n'\n",
      "    \n",
      "latex_rep += tab\n",
      "latex_rep += '\\\\bottomrule\\n'\n",
      "latex_rep += '\\\\end{tabular}\\n'"
     ],
     "language": "python",
     "metadata": {},
     "outputs": []
    }
   ],
   "metadata": {}
  }
 ]
}