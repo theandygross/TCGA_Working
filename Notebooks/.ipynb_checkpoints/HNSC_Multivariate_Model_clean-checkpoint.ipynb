{
 "metadata": {
  "name": ""
 },
 "nbformat": 3,
 "nbformat_minor": 0,
 "worksheets": [
  {
   "cells": [
    {
     "cell_type": "markdown",
     "metadata": {},
     "source": [
      "#HNSC Multivariate Screen  \n",
      "\n",
      "This is a screen for survival associated features.  "
     ]
    },
    {
     "cell_type": "code",
     "collapsed": false,
     "input": [
      "cd ../src"
     ],
     "language": "python",
     "metadata": {},
     "outputs": [
      {
       "output_type": "stream",
       "stream": "stdout",
       "text": [
        "/cellar/users/agross/TCGA_Code/TCGA/Pathway_Merge/src\n"
       ]
      }
     ],
     "prompt_number": 1
    },
    {
     "cell_type": "code",
     "collapsed": false,
     "input": [
      "%autosave 0 "
     ],
     "language": "python",
     "metadata": {},
     "outputs": []
    },
    {
     "cell_type": "code",
     "collapsed": false,
     "input": [
      "from Processing.Imports import *"
     ],
     "language": "python",
     "metadata": {},
     "outputs": [],
     "prompt_number": 2
    },
    {
     "cell_type": "markdown",
     "metadata": {},
     "source": [
      "##Read in Data"
     ]
    },
    {
     "cell_type": "code",
     "collapsed": false,
     "input": [
      "run = get_run('/cellar/data/TCGA/Firehose__2013_04_21/', 'Run_all')\n",
      "\n",
      "cancer = run.load_cancer('HNSC')\n",
      "clinical = cancer.load_clinical()\n",
      "global_vars = cancer.load_global_vars()\n",
      "\n",
      "mut = cancer.load_data('Mutation')\n",
      "mut.uncompress()\n",
      "meth = cancer.load_data('Methylation')\n",
      "cn = cancer.load_data('CN_broad')\n",
      "cn.uncompress()\n",
      "rna = cancer.load_data('mRNASeq')\n",
      "rppa  = cancer.load_data('RPPA')\n",
      "mirna = cancer.load_data('miRNASeq')\n",
      "age = clinical.clinical.age.astype(float)\n",
      "\n",
      "hpv_all = pd.read_csv('/cellar/users/agross/hpv_summary_3_20_13_distribute.csv', index_col=0)\n",
      "hpv = hpv_all.Molecular_HPV.map({0:'HPV-', 1:'HPV+'})\n",
      "hpv.name = 'HPV'"
     ],
     "language": "python",
     "metadata": {},
     "outputs": [],
     "prompt_number": 3
    },
    {
     "cell_type": "code",
     "collapsed": false,
     "input": [
      "from Data.ProcessClinical import format_survival_from_data_portal\n",
      "path  = '/cellar/users/agross/Data/TCGA/HNSC_Followup/'\n",
      "survival, timeline = format_survival_from_data_portal(path, cancer.name)\n",
      "clinical.survival = survival\n",
      "clinical.artificially_censor(5)\n",
      "age = timeline.age"
     ],
     "language": "python",
     "metadata": {},
     "outputs": [],
     "prompt_number": 4
    },
    {
     "cell_type": "markdown",
     "metadata": {},
     "source": [
      "##Clinical Features"
     ]
    },
    {
     "cell_type": "code",
     "collapsed": false,
     "input": [
      "filters = pd.concat([age>=100, hpv=='HPV+'], axis=1)\n",
      "clinical_filter = filters.sum(1) == 0\n",
      "keepers_o = true_index(clinical_filter)"
     ],
     "language": "python",
     "metadata": {},
     "outputs": [],
     "prompt_number": 5
    },
    {
     "cell_type": "code",
     "collapsed": false,
     "input": [
      "stage = clinical.clinical.tumorstage.ix[keepers_o].fillna('nx')\n",
      "stage = stage.dropna().map(lambda s: s.replace('a','').replace('b',''))\n",
      "\n",
      "lymph_stage = clinical.clinical.lymphnodepathologicspread.ix[keepers_o]\n",
      "lymph_stage = lymph_stage.replace('nx', nan).dropna().map(lambda s: s[:2])\n",
      "\n",
      "age = age\n",
      "old_age = (age >= 75).map({True: 'Age > 75', False: 'Age < 75'})\n",
      "pack_years = py = clinical.clinical.numberpackyearssmoked.dropna().astype(float)\n",
      "\n",
      "group = [['oral tongue','oral cavity','floor of mouth','buccal mucosa','alveolar ridge','hard palate','lip'],\n",
      "         ['oropharynx','tonsil','base of tongue'],\n",
      "         #['hypopharynx'],\n",
      "         ['larynx']]\n",
      "groups = ['oral cavity','oropharynx','larynx']\n",
      "tumor_subdivision = pd.Series({idx: groups[i] for i,g in enumerate(group) for idx,j in \n",
      "                               clinical.clinical.neoplasmanatomicsubdivision.iteritems() if j in g})\n",
      "\n",
      "invasion = clinical.clinical.perineuralinvasionpresent.replace('nan', nan)\n",
      "invasion = invasion.fillna('Missing')\n",
      "\n",
      "spread = clinical.clinical.presenceofpathologicalnodalextracapsularspread\n",
      "spread = spread.map({'no extranodal extension': 'no', 'microscopic extension':'yes', \n",
      "                     'gross extension':'yes'}).dropna()\n",
      "\n",
      "year = clinical.clinical.yearofinitialpathologicdiagnosis\n",
      "year = year.replace('[Discrepancy]', nan).astype(float)\n",
      "\n",
      "lymph = lymph_stage.ix[keepers_o] != 'n0'\n",
      "lymph_status = combine(lymph, spread.ix[keepers_o]=='yes')\n",
      "lymph_status = lymph_status.map({'neither': 'n0', lymph.name: 'lymph_node', 'both': 'extra_capsular_spread'})\n",
      "lymph_status = (lymph_status == 'extra_capsular_spread').astype(float)"
     ],
     "language": "python",
     "metadata": {},
     "outputs": [],
     "prompt_number": 6
    },
    {
     "cell_type": "code",
     "collapsed": false,
     "input": [
      "gg = rna.features.ix['real', keepers_o].apply(lambda s: to_quants(s, std=1) > 0)\n",
      "diff = screen_feature(spread, fisher_exact_test, gg)\n",
      "dd = diff[diff.p < .01]\n",
      "\n",
      "vec = (2.*(dd.odds_ratio > 1) - 1)\n",
      "loading = vec.dot(1.*(gg.ix[vec.index]))\n",
      "\n",
      "ratio = loading.groupby(spread).apply(pd.value_counts).unstack().fillna(0)\n",
      "prob = ratio.T.cumsum() / ratio.sum(1)\n",
      "cutoff = ((prob.yes - (1-prob.no)) > 0).idxmax()\n",
      "\n",
      "f = spread.copy() == 'yes'\n",
      "f = f.ix[loading.index]\n",
      "f[f.isnull()] = loading[f.isnull()] > cutoff\n",
      "spread_inferred = f.ix[keepers_o].fillna(False).astype(float)"
     ],
     "language": "python",
     "metadata": {},
     "outputs": [],
     "prompt_number": 7
    },
    {
     "cell_type": "code",
     "collapsed": false,
     "input": [
      "filters = pd.concat([age>=100, hpv=='HPV+'], axis=1)\n",
      "clinical_filter = filters.sum(1) == 0\n",
      "keepers_o = true_index(clinical_filter)"
     ],
     "language": "python",
     "metadata": {},
     "outputs": [],
     "prompt_number": 25
    },
    {
     "cell_type": "code",
     "collapsed": false,
     "input": [
      "filters = pd.concat([age>=85, hpv=='HPV+'], axis=1)\n",
      "clinical_filter = filters.sum(1) == 0\n",
      "keepers = true_index(clinical_filter)"
     ],
     "language": "python",
     "metadata": {},
     "outputs": [],
     "prompt_number": 9
    },
    {
     "cell_type": "code",
     "collapsed": false,
     "input": [
      "surv = clinical.survival.survival_5y\n",
      "old = pd.Series(1.*(age>=75), name='old')"
     ],
     "language": "python",
     "metadata": {},
     "outputs": [],
     "prompt_number": 10
    },
    {
     "cell_type": "markdown",
     "metadata": {},
     "source": [
      "####Form expression and methylation features without HPV  \n",
      "* HPV has a big influence on expression, here I am creating a second set of features without HPV\n",
      "* I use this sparingly but it helps to tease out wheter an association is due to a underlying relationship with HPV"
     ]
    },
    {
     "cell_type": "code",
     "collapsed": false,
     "input": [
      "from Stats.Survival import cox\n",
      "\n",
      "rev_kruskal = lambda a,b: kruskal_pandas(b,a)\n",
      "def fc(hit_vec, response_vec):\n",
      "    f = response_vec.groupby(hit_vec).median()\n",
      "    return f[0] > f[1]\n",
      "\n",
      "def mut_filter(df, rate):\n",
      "    df = df[df.sum(1) >= 10]\n",
      "    cc = screen_feature(rate, rev_kruskal, df)\n",
      "    \n",
      "    fc_apply = lambda s: fc(s, rate)\n",
      "    direction = df.apply(fc_apply, axis=1)\n",
      "    direction.name = 'direction'\n",
      "    \n",
      "    cc = cc.join(direction)\n",
      "    cc = cc[cc.direction==False]\n",
      "    \n",
      "    df = df.ix[((cc.p>.00001) + (df.sum(1).isin(range(10, df.shape[1] / 3)))) > 0]\n",
      "    df = df.dropna(axis=1)\n",
      "    return df\n",
      "\n",
      "def cox_screen(df, surv, axis=1):\n",
      "    rr = df.apply(lambda s: cox(s.dropna(), surv), axis=axis)\n",
      "    if axis==0:\n",
      "        rr = rr.T\n",
      "    rr['q'] = bhCorrection(rr.p)\n",
      "    rr = rr.sort('p')\n",
      "    return rr"
     ],
     "language": "python",
     "metadata": {},
     "outputs": [],
     "prompt_number": 11
    },
    {
     "cell_type": "code",
     "collapsed": true,
     "input": [
      "from Initialization.InitializeReal import RealDataset\n",
      "rna = RealDataset(run, cancer, 'mRNASeq', keepers_o)\n",
      "meth = RealDataset(run, cancer, 'Methylation', keepers_o)\n",
      "mirna = RealDataset(run, cancer, 'miRNASeq', keepers_o, create_meta_features=False)"
     ],
     "language": "python",
     "metadata": {},
     "outputs": [],
     "prompt_number": 12
    },
    {
     "cell_type": "code",
     "collapsed": false,
     "input": [
      "mut_df = mut_filter(mut.features.ix[:,keepers_o], mut.df.sum()).T\n",
      "\n",
      "del_df = (cn.features.ix['Deletion', keepers_o].dropna(1) < 0).astype(int)\n",
      "del_df = del_df[del_df.sum(1) > 10]\n",
      "del_df.index = del_df.index.droplevel(1)\n",
      "del_df = del_df.T\n",
      "amp_df = (cn.features.ix['Amplification', keepers_o].dropna(1) > 0).astype(int)\n",
      "amp_df = amp_df[amp_df.sum(1) > 10]\n",
      "amp_df.index = amp_df.index.droplevel(1)\n",
      "amp_df = amp_df.T\n",
      "\n",
      "global_df = pd.concat([global_vars['mutation'], global_vars['cna'], rna.global_vars, \n",
      "                       meth.global_vars, mirna.global_vars], \n",
      "                keys=['mutation', 'cna', 'rna', 'methylation', 'mirna'], axis=1)\n",
      "global_df.columns = map(lambda s: '_'.join(s), global_df.columns)\n",
      "\n",
      "mirna_df = mirna.features.copy()\n",
      "mirna_df.index = map(lambda s: '_'.join(s), mirna_df.index)\n",
      "mirna_df = mirna_df.T\n",
      "\n",
      "clinical_df = pd.concat([stage, lymph_stage, age, old_age, pack_years,\n",
      "                         tumor_subdivision, invasion, lymph_status, spread_inferred],\n",
      "                        keys = ['stage', 'lymph_stage', 'age', 'old_age', 'pack_years',\n",
      "                         'tumor_subdivision', 'invasion', 'lymph_status', 'spread_inferred'],\n",
      "                        axis=1)"
     ],
     "language": "python",
     "metadata": {},
     "outputs": [],
     "prompt_number": 13
    },
    {
     "cell_type": "code",
     "collapsed": false,
     "input": [
      "data_sets = {'clinical': clinical_df,\n",
      "             'global': global_df,\n",
      "             'mutation': mut_df,\n",
      "             'deletion': del_df,\n",
      "             'amplification': amp_df,\n",
      "             'rna': rna.pathways.T,\n",
      "             'mirna': mirna_df,\n",
      "             'methylation': meth.pathways.T}"
     ],
     "language": "python",
     "metadata": {},
     "outputs": [],
     "prompt_number": 14
    },
    {
     "cell_type": "code",
     "collapsed": false,
     "input": [
      "univariate = pd.concat({d: cox_screen(df.ix[keepers], surv, 0) for d,df in data_sets.iteritems()})"
     ],
     "language": "python",
     "metadata": {},
     "outputs": [],
     "prompt_number": 15
    },
    {
     "cell_type": "code",
     "collapsed": false,
     "input": [
      "univariate.sort('q').head()"
     ],
     "language": "python",
     "metadata": {},
     "outputs": [
      {
       "html": [
        "<div style=\"max-height:1000px;max-width:1500px;overflow:auto;\">\n",
        "<table border=\"1\" class=\"dataframe\">\n",
        "  <thead>\n",
        "    <tr style=\"text-align: right;\">\n",
        "      <th></th>\n",
        "      <th></th>\n",
        "      <th>LR</th>\n",
        "      <th>p</th>\n",
        "      <th>q</th>\n",
        "    </tr>\n",
        "  </thead>\n",
        "  <tbody>\n",
        "    <tr>\n",
        "      <th rowspan=\"2\" valign=\"top\">clinical</th>\n",
        "      <th>spread_inferred</th>\n",
        "      <td> 22.04</td>\n",
        "      <td> 2.67e-06</td>\n",
        "      <td> 2.40e-05</td>\n",
        "    </tr>\n",
        "    <tr>\n",
        "      <th>lymph_stage</th>\n",
        "      <td> 15.74</td>\n",
        "      <td> 7.28e-05</td>\n",
        "      <td> 3.27e-04</td>\n",
        "    </tr>\n",
        "    <tr>\n",
        "      <th rowspan=\"2\" valign=\"top\">rna</th>\n",
        "      <th>BIOCARTA_BARR_MAPK_PATHWAY</th>\n",
        "      <td> 20.59</td>\n",
        "      <td> 5.69e-06</td>\n",
        "      <td> 1.24e-03</td>\n",
        "    </tr>\n",
        "    <tr>\n",
        "      <th>BIOCARTA_BARRESTIN_SRC_PATHWAY</th>\n",
        "      <td> 20.76</td>\n",
        "      <td> 5.20e-06</td>\n",
        "      <td> 1.24e-03</td>\n",
        "    </tr>\n",
        "    <tr>\n",
        "      <th>clinical</th>\n",
        "      <th>lymph_status</th>\n",
        "      <td> 12.15</td>\n",
        "      <td> 4.92e-04</td>\n",
        "      <td> 1.48e-03</td>\n",
        "    </tr>\n",
        "  </tbody>\n",
        "</table>\n",
        "</div>"
       ],
       "metadata": {},
       "output_type": "pyout",
       "prompt_number": 20,
       "text": [
        "                                            LR         p         q\n",
        "clinical spread_inferred                 22.04  2.67e-06  2.40e-05\n",
        "         lymph_stage                     15.74  7.28e-05  3.27e-04\n",
        "rna      BIOCARTA_BARR_MAPK_PATHWAY      20.59  5.69e-06  1.24e-03\n",
        "         BIOCARTA_BARRESTIN_SRC_PATHWAY  20.76  5.20e-06  1.24e-03\n",
        "clinical lymph_status                    12.15  4.92e-04  1.48e-03"
       ]
      }
     ],
     "prompt_number": 20
    },
    {
     "cell_type": "code",
     "collapsed": false,
     "input": [
      "hits = univariate[univariate.q < .3].index"
     ],
     "language": "python",
     "metadata": {},
     "outputs": [],
     "prompt_number": 21
    },
    {
     "cell_type": "code",
     "collapsed": false,
     "input": [
      "cov_df = pd.concat([age, old], axis=1)\n",
      "def test(s):\n",
      "    s = s.dropna()\n",
      "    try:\n",
      "        s = s.astype(float)\n",
      "    except:\n",
      "        pass\n",
      "    return get_cox_ph_ms(surv, s, cov_df, return_val='LR', interactions=False);"
     ],
     "language": "python",
     "metadata": {},
     "outputs": [],
     "prompt_number": 22
    },
    {
     "cell_type": "code",
     "collapsed": false,
     "input": [
      "df = pd.concat(data_sets, 1).T.ix[hits, keepers_o]\n",
      "feature_age = df.apply(test, 1)"
     ],
     "language": "python",
     "metadata": {},
     "outputs": [],
     "prompt_number": 23
    },
    {
     "cell_type": "code",
     "collapsed": false,
     "input": [
      "feature_age.sort('LR').head(10)"
     ],
     "language": "python",
     "metadata": {},
     "outputs": [
      {
       "html": [
        "<div style=\"max-height:1000px;max-width:1500px;overflow:auto;\">\n",
        "<table border=\"1\" class=\"dataframe\">\n",
        "  <thead>\n",
        "    <tr style=\"text-align: right;\">\n",
        "      <th></th>\n",
        "      <th></th>\n",
        "      <th>LR</th>\n",
        "      <th>feature_p</th>\n",
        "      <th>fmla</th>\n",
        "      <th>hazzard</th>\n",
        "    </tr>\n",
        "  </thead>\n",
        "  <tbody>\n",
        "    <tr>\n",
        "      <th rowspan=\"2\" valign=\"top\">rna</th>\n",
        "      <th>BIOCARTA_BARRESTIN_SRC_PATHWAY</th>\n",
        "      <td> 6.29e-06</td>\n",
        "      <td> 1.14e-05</td>\n",
        "      <td> Surv(days, event) ~ feature + old\\n</td>\n",
        "      <td>    1.59</td>\n",
        "    </tr>\n",
        "    <tr>\n",
        "      <th>BIOCARTA_BARR_MAPK_PATHWAY</th>\n",
        "      <td> 7.48e-06</td>\n",
        "      <td> 1.29e-05</td>\n",
        "      <td> Surv(days, event) ~ feature + old\\n</td>\n",
        "      <td>    0.64</td>\n",
        "    </tr>\n",
        "    <tr>\n",
        "      <th>clinical</th>\n",
        "      <th>spread_inferred</th>\n",
        "      <td> 1.41e-05</td>\n",
        "      <td> 6.95e-06</td>\n",
        "      <td> Surv(days, event) ~ feature + old\\n</td>\n",
        "      <td>    2.33</td>\n",
        "    </tr>\n",
        "    <tr>\n",
        "      <th>mirna</th>\n",
        "      <th>binary_hsa-mir-3170</th>\n",
        "      <td> 2.12e-05</td>\n",
        "      <td> 3.48e-05</td>\n",
        "      <td> Surv(days, event) ~ feature + old\\n</td>\n",
        "      <td>    2.27</td>\n",
        "    </tr>\n",
        "    <tr>\n",
        "      <th>rna</th>\n",
        "      <th>BIOCARTA_GCR_PATHWAY</th>\n",
        "      <td> 2.66e-05</td>\n",
        "      <td> 4.21e-05</td>\n",
        "      <td> Surv(days, event) ~ feature + old\\n</td>\n",
        "      <td>    1.52</td>\n",
        "    </tr>\n",
        "    <tr>\n",
        "      <th>global</th>\n",
        "      <th>rna_pathway_pc1</th>\n",
        "      <td> 3.26e-05</td>\n",
        "      <td> 8.65e-05</td>\n",
        "      <td> Surv(days, event) ~ feature + old\\n</td>\n",
        "      <td> 1562.05</td>\n",
        "    </tr>\n",
        "    <tr>\n",
        "      <th>rna</th>\n",
        "      <th>ST_B_CELL_ANTIGEN_RECEPTOR</th>\n",
        "      <td> 3.78e-05</td>\n",
        "      <td> 6.59e-05</td>\n",
        "      <td> Surv(days, event) ~ feature + old\\n</td>\n",
        "      <td>    1.53</td>\n",
        "    </tr>\n",
        "    <tr>\n",
        "      <th rowspan=\"2\" valign=\"top\">mirna</th>\n",
        "      <th>real_hsa-mir-758</th>\n",
        "      <td> 4.15e-05</td>\n",
        "      <td> 8.71e-05</td>\n",
        "      <td> Surv(days, event) ~ feature + old\\n</td>\n",
        "      <td>    1.53</td>\n",
        "    </tr>\n",
        "    <tr>\n",
        "      <th>real_hsa-mir-487b</th>\n",
        "      <td> 4.91e-05</td>\n",
        "      <td> 1.19e-04</td>\n",
        "      <td> Surv(days, event) ~ feature + old\\n</td>\n",
        "      <td>    1.58</td>\n",
        "    </tr>\n",
        "    <tr>\n",
        "      <th>rna</th>\n",
        "      <th>BIOCARTA_IL3_PATHWAY</th>\n",
        "      <td> 5.39e-05</td>\n",
        "      <td> 8.12e-05</td>\n",
        "      <td> Surv(days, event) ~ feature + old\\n</td>\n",
        "      <td>    0.64</td>\n",
        "    </tr>\n",
        "  </tbody>\n",
        "</table>\n",
        "</div>"
       ],
       "metadata": {},
       "output_type": "pyout",
       "prompt_number": 24,
       "text": [
        "                                               LR  feature_p                                 fmla  hazzard\n",
        "rna      BIOCARTA_BARRESTIN_SRC_PATHWAY  6.29e-06   1.14e-05  Surv(days, event) ~ feature + old\\n     1.59\n",
        "         BIOCARTA_BARR_MAPK_PATHWAY      7.48e-06   1.29e-05  Surv(days, event) ~ feature + old\\n     0.64\n",
        "clinical spread_inferred                 1.41e-05   6.95e-06  Surv(days, event) ~ feature + old\\n     2.33\n",
        "mirna    binary_hsa-mir-3170             2.12e-05   3.48e-05  Surv(days, event) ~ feature + old\\n     2.27\n",
        "rna      BIOCARTA_GCR_PATHWAY            2.66e-05   4.21e-05  Surv(days, event) ~ feature + old\\n     1.52\n",
        "global   rna_pathway_pc1                 3.26e-05   8.65e-05  Surv(days, event) ~ feature + old\\n  1562.05\n",
        "rna      ST_B_CELL_ANTIGEN_RECEPTOR      3.78e-05   6.59e-05  Surv(days, event) ~ feature + old\\n     1.53\n",
        "mirna    real_hsa-mir-758                4.15e-05   8.71e-05  Surv(days, event) ~ feature + old\\n     1.53\n",
        "         real_hsa-mir-487b               4.91e-05   1.19e-04  Surv(days, event) ~ feature + old\\n     1.58\n",
        "rna      BIOCARTA_IL3_PATHWAY            5.39e-05   8.12e-05  Surv(days, event) ~ feature + old\\n     0.64"
       ]
      }
     ],
     "prompt_number": 24
    },
    {
     "cell_type": "code",
     "collapsed": false,
     "input": [
      "feature_age.ix['mutation'].sort('LR').head(20)"
     ],
     "language": "python",
     "metadata": {},
     "outputs": [
      {
       "html": [
        "<div style=\"max-height:1000px;max-width:1500px;overflow:auto;\">\n",
        "<table border=\"1\" class=\"dataframe\">\n",
        "  <thead>\n",
        "    <tr style=\"text-align: right;\">\n",
        "      <th></th>\n",
        "      <th>LR</th>\n",
        "      <th>feature_p</th>\n",
        "      <th>fmla</th>\n",
        "      <th>hazzard</th>\n",
        "    </tr>\n",
        "  </thead>\n",
        "  <tbody>\n",
        "    <tr>\n",
        "      <th>TP53</th>\n",
        "      <td> 9.13e-05</td>\n",
        "      <td> 6.13e-04</td>\n",
        "      <td> Surv(days, event) ~ feature + old\\n</td>\n",
        "      <td> 2.85</td>\n",
        "    </tr>\n",
        "    <tr>\n",
        "      <th>MUC5B</th>\n",
        "      <td> 3.45e-04</td>\n",
        "      <td> 4.48e-05</td>\n",
        "      <td> Surv(days, event) ~ feature + old\\n</td>\n",
        "      <td> 3.17</td>\n",
        "    </tr>\n",
        "  </tbody>\n",
        "</table>\n",
        "</div>"
       ],
       "metadata": {},
       "output_type": "pyout",
       "prompt_number": 27,
       "text": [
        "             LR  feature_p                                 fmla  hazzard\n",
        "TP53   9.13e-05   6.13e-04  Surv(days, event) ~ feature + old\\n     2.85\n",
        "MUC5B  3.45e-04   4.48e-05  Surv(days, event) ~ feature + old\\n     3.17"
       ]
      }
     ],
     "prompt_number": 27
    },
    {
     "cell_type": "code",
     "collapsed": false,
     "input": [
      "feature_age.ix['deletion'].sort('LR').head(20)"
     ],
     "language": "python",
     "metadata": {},
     "outputs": [
      {
       "html": [
        "<div style=\"max-height:1000px;max-width:1500px;overflow:auto;\">\n",
        "<table border=\"1\" class=\"dataframe\">\n",
        "  <thead>\n",
        "    <tr style=\"text-align: right;\">\n",
        "      <th></th>\n",
        "      <th>LR</th>\n",
        "      <th>feature_p</th>\n",
        "      <th>fmla</th>\n",
        "      <th>hazzard</th>\n",
        "    </tr>\n",
        "  </thead>\n",
        "  <tbody>\n",
        "    <tr>\n",
        "      <th>3p14.2</th>\n",
        "      <td> 2.96e-04</td>\n",
        "      <td> 0.00</td>\n",
        "      <td> Surv(days, event) ~ feature + old\\n</td>\n",
        "      <td> 2.61</td>\n",
        "    </tr>\n",
        "    <tr>\n",
        "      <th>3p25.3</th>\n",
        "      <td> 3.95e-04</td>\n",
        "      <td> 0.00</td>\n",
        "      <td> Surv(days, event) ~ feature + old\\n</td>\n",
        "      <td> 2.44</td>\n",
        "    </tr>\n",
        "    <tr>\n",
        "      <th>3p12.2</th>\n",
        "      <td> 1.46e-03</td>\n",
        "      <td> 0.00</td>\n",
        "      <td> Surv(days, event) ~ feature + old\\n</td>\n",
        "      <td> 2.14</td>\n",
        "    </tr>\n",
        "    <tr>\n",
        "      <th>11q14.1</th>\n",
        "      <td> 4.88e-03</td>\n",
        "      <td> 0.00</td>\n",
        "      <td> Surv(days, event) ~ feature + old\\n</td>\n",
        "      <td> 1.77</td>\n",
        "    </tr>\n",
        "    <tr>\n",
        "      <th>11p15.4</th>\n",
        "      <td> 7.35e-03</td>\n",
        "      <td> 0.01</td>\n",
        "      <td> Surv(days, event) ~ feature + old\\n</td>\n",
        "      <td> 1.71</td>\n",
        "    </tr>\n",
        "    <tr>\n",
        "      <th>7q36.1</th>\n",
        "      <td> 2.22e-02</td>\n",
        "      <td> 0.02</td>\n",
        "      <td> Surv(days, event) ~ feature + old\\n</td>\n",
        "      <td> 1.64</td>\n",
        "    </tr>\n",
        "    <tr>\n",
        "      <th>19p13.3</th>\n",
        "      <td> 2.47e-02</td>\n",
        "      <td> 0.02</td>\n",
        "      <td> Surv(days, event) ~ feature + old\\n</td>\n",
        "      <td> 1.56</td>\n",
        "    </tr>\n",
        "    <tr>\n",
        "      <th>2q36.2</th>\n",
        "      <td> 2.68e-02</td>\n",
        "      <td> 0.02</td>\n",
        "      <td> Surv(days, event) ~ feature + old\\n</td>\n",
        "      <td> 1.57</td>\n",
        "    </tr>\n",
        "    <tr>\n",
        "      <th>Xp11.3</th>\n",
        "      <td> 3.22e-02</td>\n",
        "      <td> 0.03</td>\n",
        "      <td> Surv(days, event) ~ feature + old\\n</td>\n",
        "      <td> 1.52</td>\n",
        "    </tr>\n",
        "    <tr>\n",
        "      <th>11q23.1</th>\n",
        "      <td> 7.76e-02</td>\n",
        "      <td> 0.08</td>\n",
        "      <td> Surv(days, event) ~ feature + old\\n</td>\n",
        "      <td> 1.40</td>\n",
        "    </tr>\n",
        "    <tr>\n",
        "      <th>6p25.3</th>\n",
        "      <td> 8.60e-02</td>\n",
        "      <td> 0.08</td>\n",
        "      <td> Surv(days, event) ~ feature + old\\n</td>\n",
        "      <td> 1.47</td>\n",
        "    </tr>\n",
        "    <tr>\n",
        "      <th>1p36.13</th>\n",
        "      <td> 1.30e-01</td>\n",
        "      <td> 0.12</td>\n",
        "      <td> Surv(days, event) ~ feature + old\\n</td>\n",
        "      <td> 1.40</td>\n",
        "    </tr>\n",
        "  </tbody>\n",
        "</table>\n",
        "</div>"
       ],
       "metadata": {},
       "output_type": "pyout",
       "prompt_number": 39,
       "text": [
        "               LR  feature_p                                 fmla  hazzard\n",
        "3p14.2   2.96e-04       0.00  Surv(days, event) ~ feature + old\\n     2.61\n",
        "3p25.3   3.95e-04       0.00  Surv(days, event) ~ feature + old\\n     2.44\n",
        "3p12.2   1.46e-03       0.00  Surv(days, event) ~ feature + old\\n     2.14\n",
        "11q14.1  4.88e-03       0.00  Surv(days, event) ~ feature + old\\n     1.77\n",
        "11p15.4  7.35e-03       0.01  Surv(days, event) ~ feature + old\\n     1.71\n",
        "7q36.1   2.22e-02       0.02  Surv(days, event) ~ feature + old\\n     1.64\n",
        "19p13.3  2.47e-02       0.02  Surv(days, event) ~ feature + old\\n     1.56\n",
        "2q36.2   2.68e-02       0.02  Surv(days, event) ~ feature + old\\n     1.57\n",
        "Xp11.3   3.22e-02       0.03  Surv(days, event) ~ feature + old\\n     1.52\n",
        "11q23.1  7.76e-02       0.08  Surv(days, event) ~ feature + old\\n     1.40\n",
        "6p25.3   8.60e-02       0.08  Surv(days, event) ~ feature + old\\n     1.47\n",
        "1p36.13  1.30e-01       0.12  Surv(days, event) ~ feature + old\\n     1.40"
       ]
      }
     ],
     "prompt_number": 39
    },
    {
     "cell_type": "code",
     "collapsed": false,
     "input": [
      "combo = combine(mut.features.ix['TP53']==1, del_df['3p14.2']==1)\n",
      "two_hit = combo == 'both'"
     ],
     "language": "python",
     "metadata": {},
     "outputs": [],
     "prompt_number": 51
    },
    {
     "cell_type": "code",
     "collapsed": false,
     "input": [
      "draw_survival_curves(combo, surv, show=True)"
     ],
     "language": "python",
     "metadata": {},
     "outputs": [
      {
       "html": [
        "<img src='data:image/png;base64,iVBORw0KGgoAAAANSUhEUgAAAZAAAAEsCAIAAABi1XKVAAAACXBIWXMAAAuIAAALiAHljilJAAAgAElEQVR4nO3dd1gU19cH8O/u0jsLiKAUBVtEgqIogqgYjAVLItiiRhNbfjHmjdFoLDEmatSoSWyxYY2xoEgQFBvYsRFUIKJUAem9SN95/xhckbrLLuwuns/jk2f27p07ZwkeZ2bvnMthGAaEEKIIuLIOgBBCREUJixCiMChhEUIUBiUsQojCoIRFCFEYlLAIIQqDEhYhRGFQwiKEKAxKWIQQhUEJixCiMChhEUIUBiUsQojCoIRFCFEYlLAIIQqDEhYhRGFQwiKEKAxKWIQQhUEJixCiMChhEUIUBiUsQojCoIRFCFEYlLAIIQqDEhYhRGFQwiKEKAxKWIQQhUEJixCiMChhEUIUBiUsQojCoIRFCFEYlLAIIQqDEhYhRGFQwiKEKAxKWIQQhUEJixCiMChhEUIUBiUsQojCoIRFCFEYlLAIIQqDEhYhRGFQwiKEKAxKWIQQhUEJixCiMChhEUIUBiUsQojCoIRFCFEYlLAIIQqDEhYhRGFQwiKEKAxKWIQQhUEJixCiMChhEUIUBiUsQojCoIRFCFEYlLAIIQqDEhYhRGFQwiKEKAxKWIQQhaEk6wDql5ycnJCQkJGRwefzrayszMzMZB0RIUT25C5hJSUlzZs378qVK+bm5rq6ugUFBYmJic7OzseOHWvfvr24o+Xm5np7e7dEnIQQqZg4caKenp6IneUuYc2ePdva2jojI0P4GQoKCtauXTtz5szAwEBxRztz5kxYWJirq6u0wySESEFQUBCXy509e7aI/eUuYd25c+fo0aM1M66Ojs6aNWtMTU2bN6C9vb2np6eUoiOESFN+fr5Y/eXupnuvXr28vLwEAoGwhWGYgwcPdu/evRmjZWlnZWlnNdktSIQWQojMyd0Z1t69ez09Pf/44w9bW1ttbe2ioqKIiAh1dfVz5841Y7SIjhFPzJ98ik9NYNJItxVASFMthBCZk7uEZWNjExkZGRISEhsbm5WVxefzra2tBw4cyOU252SwilsV3y4+GclswtqP/f/i38EYfBzHfeEr7dgJIS2LwzCMrGNoWmxsbHBwsOh35li3n0d9//JxeO/hYDjVTZwaH1bYCBRpa2kVFglfVnKUS/Q0dQAe4AWMlSR0QkjD9u/fD0CBb7rXKzw8fOXKlY1/qiNHjhw9epTdDlsfxvCY9zMW3ByxRsRD5OnX/mI1FwDwETAVOCpuxISQFqAYZ1ji+hJfHsKh7o/7/9ftfKmamoSjbQKWSCUsQsjb2uYZlrh2YudO7MT76Os39FWXwsY7G1WYppmftEyYNSdltXr8f+0P/gLgk4PHDPUMb5sZtEq8hBCRtM2EJcQtKI41D1+nuW4VVpWitN4+2UgyQHmS3ZMedoJOQaoaoaEANIpf6VdmoEbCKgM4gMrrl2wW1G7Z8Akhb5G7hHXixImG3po8ebK4o+mk6/AqeYMxuAQlACZh0n3cd4Pb3/h7L/ZOx3QBBBnIyMAG4Gkf9DmOOR8DAEZcPntj5ACgBwAkJ0NV1cvISAuYAQAQAMMBVeBacz4iIaSZ5C5h3b59e/fu3QYGBtbW1rXeakbCah/V3uK+hYlbPZOwpmLqb/jtIR4CADYAKEf5LuxiE9b6H36e2P0U+gIAtm2DtzdCQ8HnixsAIUSK5C5hbd++XUVFpbi4ePfu3ZKPxivnOfzl0NGtI/tyGqb1Ru9+6KcBDQDXcX0yJkcishKVL/GyClXZfKaKB17VW4P8NW3ag379YtPTlfh8fwAAAzwHeMA8YAugJXmghBARyF3CAuDh4fHgwYOWGHkMxozBGADDMAyABjT84AfgOI7PxuwKVDyyq3C5AW9PqJdAwK3+/vSJre0TW1t2+/7bA+4FjgMuwGfAxy0RMSGkBrl7lhCAo6PjwoULW/OIUzDFFrZ/4+92aHd3INc8WYmfA6PMlWqlKU3uWwj0At4T95ArVrz5LyFENPJ4hiUT27CtH/oNw7BBGOTJ8fwVvxpkxjuGfBhrNfp/uwDg2hDHGyN4KzGKCy4D/Am8BNhrR3dA7Cezg4Le/JcQIhpKWNX6oZ9wuxM69UKvq/1KEi8ONnf2WroxCwBX8L8X3as+z+a1Q7s92KfT7cd0TeMqDgcAnj1DUVFDI9evuBihodX/NTKCubk0PwwhbRQlrLfoQvcszprA5E/8GW2lnj3yD/OOd4AsACapBesWFbc7OwrAHC73kvfw2JEjoa4OAJ9/jtu3xT5Y377V/9XUxIkTGD4cKipN7UPIO00e72HJEBfcLuiiBa3TOO245TSAJGOVTA1NANP++uujs2eruwkEZyZM4OfkSOeoxcUYPx4//SSd0Qhpu+gMq34d0GHJVFw7hpefXXQrjT6HcVqq2dB4VbOP4HW2L+Ro5UJf9MH19MApKoS2NgoLUVkJAFVVaN3vGQhRRJSwGuTigsuX4eurBfTeicRKpdI931lVKZWVaGTX6vntjjWdoyzC+x0YELS8odEqKuDjU7199iy0li/Etm346itERVW3Cq8Hi4pQXl5zkqoa4Cy1j0WIAmub1RqEPv30UwCHDx+WymiOcDyFU7/gFx/4pCMdSAY6SGXkJi0Dfnm9HR6OS5fg4oL79/Hll5g1CwcP4ulT+PkhMRG//goNjaYH3LEDAwZU30arKywMN2/SOR9pceJWa6B7WGIIQYgZzJZiqR3sDGEI3Gy1Q28AhCWii4uRnIzCQqSkAKg+RXv1CklJiI5GVVVDY7wlJQWFDZexKCzEy5eSRUxIC6BLQrFZwMIRjp/hs38R8Qf8KmFXiUr2LRWo6EAnH/nGMC5EoTa0VV7XdxAIkJBQPYKBAdjpEBww2lnxbGOVshoDTmUllDhVXA5TAaUyNT2oq+drooIHAH5BSI0BgLg4hIeDw0FUFPbuRUYG9u7FixeIjER6Og4ehCgVwB49QlkZoqPrfzc6GuHh2Lv3TcuQIejaVbwfFCFSR5eEEumLvpMxORCBV3EVAAec4Rh+D/c+wScCCD7H5/awZ3vm56PuYpHqKCmCFheC2m8AAKrAu4gPJ945VeyoCQBTgeMt9Dma1q4drlxBr14yC4C0SXRJ2KoMYTgHc3aj+jltBsxFXMxD3k7sPImTf+LPAASwb2lpYdSo2ruXQH0yTlRAud7BeagqgXopJK2YKhUZGViwQNZBkHceXRJKJBCBADSh6QznW7hV860c5BzF0UpUvsIrAB/xPjpzRul//0NS0lsj5MJzSX4Hg9LqO0bPn2Ow+n23igsWxZEAVDsaaeny2KUmbWxgOA6vTFFYiaIgGOkiNxdWVnjwAP36oaAAqakoLsb774PHazrymBgYGEC/gckYubnIykKXLgCQloaICACi3h0jpOVQwpICJSgdwIGP8FFf9I1D3L/4txjFAMpRfhu3HeF4C7cMYOCq5nrgQL0DDBRude+OsX2ULFIfsrUB3d3x3nvVKyQuXw6b//7bbmHxX4Wmx4rnoxyYc8+7rVsHR0dcvozQUBw8iOfPceYMtJsshOrru/z+eDc3DB1a//s3biAgABs3AsCxY5g2TayfByEthS4JpaMLukQg4hAO3cCNXui1G7t54AGIQYwBDKxgVY5yEYcqU9eDpmb9712/jtxcAJapIbqRd5ofLpuKCFE0dIbVIuZh3i7seoInAL7G133Qpxu6ibKjvz8MDYdi4yUEBNR6aw7A++yzMmVlARcRx6dwAUYFfwKC2+ADsAfTBwwDCy4A2ALnGi05v3hx9XOQ9XJwgI2NKPES0qooYUlfCEIA9Ebv//BfJSpTkJKClId4yAffEIYAbGGr3MCN9tp1oXfv1pwwAR98AKAYgKoq25yvWuMxaeFZMgd4vTjsdWD0zZs3XFwaCpJvwGnoLQBqeH2rX0PDZKEv4NZIZ0JaDV0StpQd2NGDXcMCAJCGtKVY6g1vb3jnoKmnpo2NhZt/TZv23n//NSOAm4MGNWOv2l69GrxlrB0esa9ycxETI9J+BQV49kwKxyekJnk8wyovL+fxeDwer7Cw8MaNG1VVVS4uLnp1ZzHJNy1ohSHsW3zrB794xAPoiZ4bsEGknb/+GjEx2LkTgHF6+s1Bg+I7dQIQY219ctKkTCOjNatX6+bn17triqnpWD8/qX0MgFdR2hlxj2AH4MkTXLiADSJ8iGfPcPQotm2TYiCEyF/CunDhgqenp66uro+Pj6enp4GBgUAgSE1NvXDhgr29vayjEw8PvN/x+ziMc4UrgBM48Rt+a4d2Te/J4WDbNixaxL7iA3wPD5w+reLtbdizZ3nHju+PHm1QWQkPj7q7GijV+H8aG1v/+B4eOH266TDGjkVkZNPdCGktcpewli5dun79ek1NTUdHx4MHD7JT1Xfs2PH111/funWryd3l0GAM1oRmMYoFEDzHc5ESFgAuF507v3mpqorOnXVVVOwrKztraKjo6YHDeatDvRrqoKra9L54c8uM9fgx5s5FQQGuXGl61+Ji5OTgTo1vMjt0wJEj0NVtel9CGiJ3Cev58+dTp07V0NCYM2fOlClT2MapU6cuW7ZMtoE1GxdcZzhfxEUAh3AoE5kOcOiADpMx+QQaXDW2tunTAZjb2MxjT6B69hRpemijo4mrqAjPn0MLRTFpVfmoTjwcMFooKqzvC0ltFIZmaANQQ6kA3NBQFTc3XLsmUjGJauXlYBioqqKwEFpa4HBQWCjCNLNGSTKCMJ426dUrqKhASe5yQk1yd9PdzMzs2rVr165dYxgmODiYbQwODu7CTrtWTCMwgt3wgtf3+D4FKQACEHALt9jbW0373/8AwM2t+hHk/v0bLA0j+mgiGzbszfZGLD2EmcKXGnh1Fh/Vu9clDGc3FmDHWPgBePAAaWniHPj0aezZAwDjx6OkBACGDxdn//pIMsKpU9i3T9IA5NayZQgLk3UQTZC7bPrDDz9MmjRJQ0PjxIkTM2bMcHZ2rqysDAoKOnPmjKxDaz4HOChDuQIVAJ7h2W7sNoABA+YKrgzAgE7oJOsAm/DFF3hvJSor8eQJrP9Eb2Nc/rH6LV4p3v8BlzfV3uXZM/B/wOWTAGDhjRX7gLb8lD1pJfJYrSE5OVlDQ4PP58fHxwcEBFRVVbm7u1tZWTVjqJau1iA6P/hNw7RCvFWD6mN8PAuz3OEuxQMl4E3+2yPyXgOBeiaK2tvj338BYOBAdOgAIDMT3Mf/GmiUYuDrx4kqK3H7NgYPrrVrTg5UbwdpjnEFgGfP7oZrJjEdAYwa1eA0/nokJqKsDF264Pp1ODuDx0NQEFxdRd6/PpKM8OIFKirqTJZrK8LCYGFRs9TtW2xssGpVdV0k6RG3WoM8Jqy6YmNjg4ODG/9UoaGhoaGhtRoPHTrUoUMHb2/vloyuaXGIm4iJ+ciPQe1ZTBxw1KBmCctbuJWDHGtI+pchAc05YeMDQcD7tVr79kWdHyl5d82fjz//lO6QbbO8THh4+MqVKxvvo6ampl+HinwsnNUZnR/iYTSi92IvB2/9G8WAKUFJAQoGYuA2SGHakjFqrLAoshzgs7qt27dLeoebtCW7d0NQf+22ViN397DqNX78+PHjxzfep2fPnj179qzV6O/v32JBNccczHmMx7MwqxM6GcFI8Lp030u8XIzFHHCqUMU+Nd1s6sBlYD67mKIIslA9jb2s7nuOjjh/vvaSi76+KCx88z1jeTmOHEG9/0Lu2lV9d//GjWMX9MOZXgC++67Ba456PHqE4mI4OWHfPsycCWXlN2M2myQjhIWhpOTN5XAb4+eHPn3QsWPt9rw8keYKtwo5TVjJyckJCQkZGRl8Pt/KysrMzEzWEUkZH3wNaIzACF/4shWWt2O7HvSmYZotbCUcXFec0qQBaPQWmrMznN9esicxESkpWLq0+mVxMa5ff/OyJl/f6nYe758Llt7wADB3HvgizACr9vffyMrCwoW4dAmLFkFD482YzSbJCH/9hby8NlvJ8OVLTJ+OfnVO0BMTKWE1KCkpad68eVeuXDE3N9fV1S0oKEhMTHR2dj527Fj79u1lHZ0UjMO4DugA4BN80h7ti1B0F3fzkFeGsnSkj8GY/ugP4At8MRQNVKuSLX19lJa+ecnlwsSk/p6mptUbenrFEP1Oew1aWqioAAATk+rbvcIxm02SEbS1oQj3fJvJwED+p5jJ3U33Dz/80Nraet26dcKHBwsKCtauXfvkyZPAwEBxR5OfbwnrdQu3uOBWoeoTfJKEJADa0A5CEB98YxhrNu8vuZiEZ1g9gYgWOwqPV333Iza2iTn2//6LJ08wc2aLhLF9O0aMgCJP6ZOFxERYWFRvV1WBK80b3wp/0/3OnTurV6+u+aizjo7OmjVr7t27J8OoWogznK1gdQd3POHJthSi0B3uH+PjndhZghIZxhYFNLwM2BsxQC4AoAx4Io3jZmcjLg4PgGKg8SIVYXi9WpHInj1DQUHzYxNRFkScDfwWBnj4ejsHaOAp0Hed3F0S9urVy8vLa+nSpdzXiZxhmIMHD3bv3l22gbUQDWiwK+s8xmN26Z10pCtByR72qpDl+fk2YA7Qu6luXsCHwBAgG1gDNDm79/z5mrVz6vHkCZ4+xYlszH+IgK6Y/7DBnusG4Zu70Kho6pA1xMQgKgot/RB9CPAEWCHmXlXAN6+XugwDgoG10g9N4cldwtq7d6+np+cff/xha2urra1dVFQUERGhrq5+7ty5pndWQNrQ/gAfADCE4TAMY0tlFaKwHOVccE/hVD/0k/+p8KL76ivR+i3Gt98C3yCokWuFQMycCdRfZadBwcGoqoKzM5SUYG4u3r5E5uQuYdnY2ERGRoaEhMTGxmZlZfH5fGtr64EDB3KleuUshzqgQw/0uI/7FagoQMFojJ6HeXGIi0PcMrTGg9/RQM2HCbIAPzR9jpcDHAbUgSog6+0RalJNrn4WUFQdgEBAF4198WACPEIDizo2qByYyal+kpovkO4NmWqvgHKg/vVGGsYAqa9/gCVASWutQqkNnIRoBbzlgNwlLABcLtfJycnJyUnWgbSqWMRWocoOdg/wAAADZjd2a0GrClUtmrCEN/bLgbi33xLxbk9eje24hjo18EViY9j5QI1PXLUUf1iAeX17rkVvZzVVVbZ+NX+AeQ32krIhwF3Aosl+cqCNn7YokAEYEIKQ+7i/HuvVXldUL0JRGtIqxb65LIYhwOaWG50ogjQgStYxiEgez7DecdMxfQM2aEIzG9kAIhHZHd3Z21incEofDax9KoFvAYc6M923AaPQ9JONXkBf4H0gG9gBrJY4mNBQREQg9FMsAnyARQ33/B5YCTGmfmRnY/Lk6u0LF1qw7tNdIA6YKuZeVcBi4DcAQBjwCJgl/dBqmwUkt/xRpIgSltzpiI4CCCxhyQEnC1kAEpGoC10uuIlIbImEBaDuehU+QH8RviW8CtgDQ4AU4BTwgcSROHRBkQkmAI7A3UYH3AwMAUSvYJpSBryuleoqQMs9ZVoCcMT/UVQCeq/34gD50vhhNqk1ZvpJFSUseRSFqA7okIlMtp5yBSpu4EbrzCMV6gOIsuxHL8AIAKAOOErjuDo60NGBK6ADNF6icBAaWCtN1kwBceZaVOPU+ILBuN5qP4QSlnxin91RghIHHAYMgHjE27Tu77CIU4+FFz76wGLpHX0dAGB+o33EnejUauyBZsz04gE/vd62oYTVALrpLr/0oW+G6qe+J2JiGtLiEf9b9V0OQt5FlLDk2jqs04IWgKd4uhIr85F/Bmc2Y3MximUdGiEyQAlLrk3DtF/wC7vtBa9lWBaDmIu4WIrSxnckpE2ihCXvPOFp9XoC+UVcTEf6Mzx7iqdxiHuFV7KNjZBWRglL3hnDeBzGGePNE8NJSBqHcYuxOBBi19shQi9fyjoCERQXI6/VJrw3V0NBtkTwlLAUgCc89aCnDGVhPfgc5JzFWU94usCFofWzmsXDQ9YRiCAwUAEWQrx8Gbt3i9EuCUpYCmAABkQhqhzl93BPHerCdgEEGcighEXeHTQPS5GoQc0YxjzwYl/Xd3uGZzGI6Yqusg1M4UydiuhoTJwo6ziakpyM4mI8eNBS46f8DpgCwLp18Hpcfx/DV9j1envSJDB1ViZ8+RKFhdUrWNYkiEvQ5+QVfmknxaWXKGEpEmtYd0VXAQTe8J6N2f/iXwBHcfRn/Czr0BRAzTVA2XXEZb1epaieSKWWa71e/+LcvAlcrL9LzaJhp083WM4nPLx2y3g8MkTUiBF2gwYBwPTpqLOsldjoklCRqEP9W3y7AAt6oMfX+JptPIRDZSiLRORFXGRrlpJ6mZhgfuNz50kLsLPDBx/ggw/Qrp0URpPHM6zi4mIul6uurp6ZmXn9+nVlZWUXFxd9/RZ56FfhDMdwdsMd7h3Q4SVeJiN5J3YawegxHlehahiGyTZCefbnnxgwAGlpgGTrE7aaiAjk5MDFpaXG32KETADAZ5+hawO1EnXygNerfFWJuWhmoaqh1pfjOO/1kCDGt8hdwgoMDJw4ceLt27dfvXo1YsQICwsLDoeTnJzs7+/fv39/WUcnR/jgT8GUzdgM4Ft8Oxqju6Ntlr2Xrk8/rd6QfIXDVnDmDOLisGRJS41/ENUJa+JEfNhQp0x1/K721tpuItMuy8LIEejaFQCWL8dQSVeuk7tLwoULF27ZsqVXr17ff//9Tz/99OjRo7CwsJ9//vnrr7+WdWhyZzqmC780DEDAFmz5Hb93R/cUpGzERiMY+UO+Fr6WK5KvcNgKNDWhJ0rRjBZlZIR//oG6etM96xDwlHHwIC5fxuXLkmcryOEZVmZm5rhx4wCkpKSMHDmSbfT09FzScv/KKCxb2FrDOgIRNWc2PMOzjuhoCMMylAUi0AAGjtKp+9LWnGlyhR85MGKErCNgDR+OhAQUFYm31+XL3ORkuLpKMZBmJqxGFmFOY+8QNNcHH3ywdevWtWvXjh492tvb+/vvvwdw7NgxW1tJF3Bvk57gSSlKx2DMFWFtOoABYwGLCERcwqWBGEgJi0hBu3Zi3zY3NkZurnSjaGbCunbtmlTDeGP37t0TJkwwMzN77733goKCTpw4ASA3N/f8+fMtdERFpwY1f/jvwI7/8N9JnGQLOTzEQwDRiP4Un67CKnOY/4gfB2OwrIMl75IuXaR+QdvMhFXvsqYCgWD27NkHDoi7vtFbDAwMrl27Fh4eHh4e7u7urqmpaWlp6erqqtRyJbgVnypU26HdS7y0hnU4wgU15spUorIKVVGIWo7lN3CDJ+a3PIQ0n+TTruqQKAv4+/svXrw47/UDjmVlZZ06SWfJz169evXq1Uv4MjY2Njg4ePbsxqpglpSUlNb5IqO8vFxZWT7r6EqZDWy0oT0UQwH8gB/SkZ6OdDZzqUO9AhXJSM5Ahklz1tsiRF5IlLAWLVr0+eefGxoaXrt2benSpevWrZs6Vdy1QkQSHh6+cuXKxhOWv7+/d52Zyw8ePOjZAmleDvVG796vl4wYgzEbsfFn/MxeHiYjuRKVOtDRgY5MYyREUhyGaf6js6qqqunp6RoaGm5ubtevXy8qKnJxcfm37jNFsvPpp58COHz4sKwDaW1/4I/lWF6rYJYqVI1g1B7tF2DBp/i0oX3Ju6M78AwAEIiG52G1pP379wNo/FykJonOsCwsLG7cuDF27NhXr16xmSs+Pl6SAYWSk5MTEhIyMjL4fL6VlZWZmZlUhn13fI2vJ2HSUAyNqrFEZhnKNmKjcJVDQhSORAlr9erVEyZMeP78+fjx452dnTU0NFwkfoggKSlp3rx5V65cMTc319XVLSgoSExMdHZ2PnbsWCNzKUhd7dH+Cq48xuMKVMzCrFzkAohAxFSxl/gkBAB8gfHi9E8A8gA7qcYgUcKaPHny8OHDdXR0li1b9t577+Xk5EyZMkXCgGbPnm1tbZ2RkaH3+gvRgoKCtWvXzpw5MzCQCmyKpwM6dECHfOTrQpdNWC/wQtZBEUW1UcyE9QiIkquEZWFh8cknn3zyySe2trYfffSRVAK6c+fO0aNH9WpM39DR0VmzZo2pQjxJIZeUoNQd3ROQAOAarm3AhmVYJuugCGkOiZ4lPHz4cEFBgZubm62t7a+//pqcnCx5QL169fLy8hII3swkYhjm4MGD9c78IqLQhOZ+7Ge3U5DyPb5fiZWyDYnImxEAp6k/d0XoU/PPR8AW4KlU45ToW0JWVVXV7du3T58+7ePj07Vr16CgIElGi4iI8PT0zM3NtbW11dbWLioqioiIUFdXP3fuXI8eYhepeGe/JayFAbMIi37H7+xLZSjnIU8DGrKNisicI3C3hQ9hDHQEAGwGhtR5t1W/JWTl5OTExsYmJSUVFBRIPpqNjU1kZGRISEhsbGxWVhafz7e2th44cCCXK3eFJRQIB5zf8JstbDdgw3M8r0CFIxyDEGQAA1mHRmTJG3AFoltsfCXgIDBSqgM23+bNm//555/79+8PHjzYw8Njz5497aRRVZDL5To5OTk5OUk+FKlpFmY9wZPneA7gCZ64wz0EIbIOishSRyD0dUmsJnkAp8UZ/DKQLNVsBQkTVlBQ0KxZs3x9fQ0M6B9qxbARG1/gxVmcBXAP9/ZgzzzMk3VQRJa0ARHXiFAFOoszsjEg5VoNEiYsqqCgcFSg4g3v/8P/7cAOBsxCLNSFbn/0p6mkpEnTxezfBZB68cFmJixLS8vffvvtm2++qftWQkKCRBGRFsYDbymWBiAgHvHlKJ+CKQAWYZEjHOMRfxu392BPzYWmCWGJWwG/JR7ibWbC8vf379ixY0BAAI9H5UoUT0d0DECAIxzzkc+2bMXWT/Fpzxq/Y2uwRh/6C7FQRjESUo9mJiwbGxv2v8KJo1KNirS4HuhxCZcmYEIuctmiDn/jbzvYZSErC1nGMA5FaN3zrAd4YAWrXORawUoWUZN3ndxNHCWtxgEOSUjaiq1sYqpAxQM8iEe8E5xGYEQEIsIQForQUISWoYzdZe5sa3sAACAASURBVCEW/ot/D+GQLOMm7zCJEtawYcP+/PPPlJSUHTt2JCUlDRgwwFWqBedJK1CH+gRMUMabMof5yL+Ii/GID0VoX/Tti74jMKJWpRqhuZibjeyaLdux/RqutWjM5J0lhdmY0p04SlrZdEzfiZ13cGc8xndDt3r7XMO1DuhgBaswhM3AjFM4VYIS9q10pFehqmbnXOQ2lN0IkZA8Thwlra8v+k7DtDjE7cO+cpTzwEtDGg88DWikIx1AHvLykAcgFampSOWDzwffBCZ5yDuKo9o1pvI8xMP2oEJApEVIlLAuXbo0c+ZMmjjalryH99hpDWMx1hjGO7FzAibUXZC1FKUpSElBCoDFWFzr3Su4Uo7y7ujOBdcZzndwJxzhX+GrVvoMpO2SKGHdv39/3bp1lK3ahgmYAGAJ3lqwVgUqp3H6Jm6yLxdioSpUH+FR40OVoOT/8H/sfTEd6CzCIva2fSQiDWFIk7xIs0mUsDZs2PDLL7/s27ePclbbsxALNaEJQBWqH+ADtlEXuiuw4nt8L7zoe4zHPdBDBSrsyzKUsdmtClXsva1SlK7G6oEYOAqj/OA3CIPc4CaDz0PaBIkS1o4dO168eGFoaMjn84WraUm48jORE8IkVZMrXC1gsQIrJmMy2zIO4/ZhXzu8uXc5EiMD8VZt2DKUBSPYGc4ucNGEpjrUH+DBN6jnMQlCGidRwvL19ZVWHEQhrMM6AL3Qq5E+jnB0h/sADDiMw+EIF05xKEPZFVy5juvOcLaTcuFc8q6QKGF17NhRWnHIA4FAkJ+fL+so5IKampq6urooPfdgT62iWl/hK1WoakDDHvYAtmHbKqwqQAEABkw5yoMQdA/3LuJiAAIsYNES8ZO2SqKEVet3msfjGRoaSv2ScNOmTfPnz9fRafFFQLdv33769GkTE1obGc+ePXv8+LEoPevOYNCHfs2XC7HQGtY7sOMCLggbi1EcicjP8Nkv+MUKVgYwuI7rZSgbjuEAMpBxHMf7o/9v+O0kTkr8aUjbIVHCqqioYDcYhklKSlqzZs3IkZKW63r0qPY3UOvXr3///feNjY3t7Fr2OqKgoGDZsmWjR49u0aMoBEdHR+kOOAADbGF7DudiESt80CcIQSMx0ghGPdDjQ3zIoLpadzGK7+GeKUzv4Z50wyCKTqKEpaT0ZvfOnTvv2rWrd+/ekydPlmTMUaNGpaamGhkZCWsi5+fnT5s2jcfj0e18BeUGN1e4qkFNBSod0fEADoQjnJ0Nn4OcHOQ8w7NwhI/CqCu4AiANaWlIC0d4KUqzkGUIQ1l/AiIvpFDTXej+/fsZGRkSDhIeHv7ll19mZmYeOHDAwsICgKGhYVhYWBu7X/ZOUYYyOyerL/p2QRcb2BzCocu4zK48xopF7HZs347twpZgBLO7HMMxU5gaw5hdNSMKUd1BSyi9oyR6lrB7DdbW1q6urgsWLJAwIAMDgxMnTsydO3fIkCEHDhyQfFEfIj/GYmwP9ACgDe2ruHoKp+xhr91ohd4XeOECl57oaQe73/AbA2YWZrVWvETuSHSGdeLEiZov9fX12XMiyU2aNMnFxWX27Nk+Pj5lZWVSGZPIiT7o0w3dDGDQGZ094ZmLXE94PsETBowOdABUojIHOTzw2PqCAghKUBKN6EVYFIvYWqP5wc8d7oUovIZrkYhcjuUAUpDyL/5tj/Z90bf1PyBpOc1PWM+fP8/IyBg+fLhAIPjpp58ePHjg7u4+f/58DocjlchMTEz8/f0PHDigpaUl4lfsRCGoQU0NasKX+tC/giuHcfgVXn2BLwDEI34FVgzBkAVYUIGKmvvuxE51qNdMQ3GIe4qn+cj3gtd93GcT1jM8O4ZjXdGVElYb08xLwosXL9rb2wcHBwM4ceLEkSNHHBwcNmzYsGXLFikGx+FwPv/88xMnTuTl5bELLpJ3hz70jWH8Bb6Yi7ljMIaH6mLcJShhywqyf3KROwqj2KKp9SpCkTe8hS8f4AGACEQ0VAMnHemJSKzZUoKSCEQ0ND47IGklTLP079//yJEj7HafPn0CAwMZhvH29u7Ro0fzBmzc2bNnjY2NG+9z+PDhD+owMTEZNWqUiEf56aef/P39JQ62LRgwYEArHzGeiY9hYtjtIqboLnM3iUk6zBxmWzKYjK3MVhVGBQxE/2PFWL1iXoUz4e2Ydm8+GjOAYZhpzLRoJrreSE4yJ7cwW2q2xDKxU5mpDUXODkiaZ9++ffv27RO9fzMvCSMjI93d3QHk5uYmJSW5ubkB6Nu3bwstmTN+/Pjx48c33mfGjBkzZsyo1cguVU/knyUshdua0OyP/gBmoPp/qBGMvsE3LnCJQ9wKrJiKqT7wAfAUTytR2dCYsYjVg5461ItRHIjAERjRsp+BtLxmJiwVFZXU1FR9ff0rV64MGjSInTNVVFQkrQJ+ycnJCQkJGRkZfD7fysrKzMxMKsMShWYPe3vYb8XWH/Hjj/gRQBzi3sN7wpmodTFgtKFdhKIv8SXb8hIvrWCVgYzruF6zMLRQMYorUbkTO4UtFahoZN0NdsBaje5w/x2/c8AB4AWvaZimClXxPi3wK341h3klKt3hrgtdcXdvm5p3IjdmzJgFCxbEx8c7OjoeOnSIYRiBQLBgwYKJEyc2b0ChxMTEkSNHKisrW1lZ9enTx9raWkVFxdXVNTU1tRmjsaddInaWq0vCjRs3duzYUVVVtVevXgEBAU32X7BgwfHjx2s1ZmVlmZiYhIWF1Wq/c+eOg4ODpqamjY3N+fPn647W+peEovuK+armS0fG8Rnz7ApzxZVxNWQMY5nYWCZ2NbNarIvHlvjzNfM1G6Eb41bAFDTjk9oxdtOYaR6MRxKTJIUfnFxqpUvCzZs3jx49eseOHf379//kk09KSkoGDBiQmpr677//SphAZ8+ebW1tnZGRoadXvWpsQUHB2rVrZ86cGRgY2Pi+bUZISMimTZsCAwOtra337t07ZcqUnJychpaAvHv37unTp/fs2ePk5FTrrS+//DI1NbVWY3Z2tpub2+bNm6dMmRIQEODp6fnff/+Zm5u3yCdpAduwreZLJSixy1ZrQpMHXmd0BjAYg3ugx1M8lU2IAIBLuBSHOAAlKElAAltcTCzlKC9CURnKEpFYjvIO6NCM07Q2ppkJq2vXrs+fP8/KyjIwMOByuQzDrFy50s3NTZhlmu3OnTtHjx6tOY6Ojs6aNWtMTU0lHFmBmJiY+Pj42NvbFxcXm5ubsz/k06dPnzlzxsDA4Pjx4+3bt9+6deuHH34I4P79+0VFRXw+v9YgJ0+ezMzMNDIyqtV++/ZtU1PT+fPnA5g6deqWLVtCQkIUKGHVMhVTueDywXeHu/BJbHOYf4tvC1DQC70SkLAES4RfFC7Ewm3YtgEbZmCGKer5pbqO65nI9ICHsCUVqYdw6Ht8X28A7IDCl3dwZzVWA3iKp8JLRVs0c+HO//AfAPa58Q/xoS98laCUg5yaBcjeKc2fh8XhcIR/GZSVlT09PaUSUK9evby8vJYuXSp8lpBhmIMHD3bvLvunMdauxZEjqKpqumcj1NWxahUmTWqsj6WlpaWl5e3bt52dnXk83vnz59nZbadPn161atWzZ8/8/f0//vjjuLg4Y2PjhQsXAoiIeOt799TU1GXLll27dq1///61Bh8yZAg7HwVAVlZWVFSUtbW1RB9JpuZjPgBDGM7F3LmYyzZawUqYLCIQoQKVmkVTP8AHh3F4IAZao54PnoOcZCTXrF8Yh7hABNZb0VA4oPClHvTWYm2t6WNScREXO6PzLdxajuUncKLpHdoiaT5LKBV79+719PT8448/bG1ttbW1i4qKIiIi1NXVz507J+vQsGsX6lxgNcfRo00kLJaTk1NZWdmJEyc8PDzYB79NTU1XrlzJ5XJnzpx57Nixc+fOzZ49u+6ODMPMmTNn1apV9T54oKOjw9bquXPnzsyZM7/77jt7e3tJP5Ic04VuH/QRvnSFKwAHOGhBq97+ZjBjH1oUEn5rWS92QKG+6OsHv4/xsXAlNCmygY1wPtq7Se4Slo2NTWRkZEhISGxsbFZWFp/Pt7a2HjhwoPCES4Z8ffH61KT5eDx8/HETfaKjo3k8XufOnVVUVGbMmPHzzz8/ePAAQKdOnYQ/h65du758+bLe3Q8cOABg1qwGn7krLCz89ttvr169+uuvv37cZDQKzgxmNUtxsUVTG1nCxxG1S+sYw3ghFjbUnx2wplrrzg7H8DM40/gjk/Xqjd42sClFaT/0W4qlAEIROg3TohHdjLr42tD+E38q+gogcpewAHC5XCcnp7q3kGXOwQEODq1xoICAgLCwsMOHDwNgGKa4uFhVVRVAfHy8QCBgc1ZMTMz7779f7+6XL1++fv06e8GenZ09ZMiQ5cuXf/fdd+y7lZWVo0eP7tq1K3vq2hqfh0hG6fXf0xzk3MItAOxikeKKQtR1XDfCm9uaV3G1Izo2tIBuXQyYP/Hn//C/mo2RiMxE5hAMqdW5oXZJyP60hdQ1ZMgQHx+f4ODgvLy8jRs3qqmpscULExMT169fn52dffjw4Vu3bo0ZM6be3Xfu3Pn06dNHjx49evTI0NDw5MmT7C12X1/f2NjYgICApKSkFStWpKenJyQkJCQkFBc3+FwLkdzX+Lrms5OiW4Iln+GzuZj7GT5r6A6aWJ7i6b9463v827hd93nyxv2Fv2q1RCP6Lu7W7dlQuyTk8QyL2NnZbd26ddGiRTExMfb29n5+fmpqagAGDx4cHx9vZWVlamp65syZhqo511x1jcfjGRsbszet5s+fv3bt2hcvXiQkJHTu3FnYx9vb28PDo56BiDSMRjNr2E7FVOG2H/yO4ZgAgmxk+8BnDuaINdQP+IE9KUtDGjvZgpWL3FotjWPAlKK0Vv90pOcgp+4g6UgvR7lYcTaJEpacmjNnzpw5tX8p1dTUvLy8vLy86va/detWvePULNMq3P7555+lFCZpJepQn43ZAF7gxWM8Fn4fKqKt2MomrJmYKXkw9U76/xW/1m1Ug5ob3OreFmw2uiQkRJGoQIWdKCsW0e9SSVcpSj/CR33Rty/6Chd8kwSdYRGiSExg8gt+EXevv/H3CIxgb9i3Ji1oXcCF3ugtrQHpDEtheHh4vDsPJxHp0oTmTdxkwNT6swZrAhBQt72hPwIIHOFYq/Eszv6CX+p2PouzK7BCitkKlLAIIQqELgkJeXe5w73mtKwmccBhp7DWZAe7muXMmmyXBJ1hyaPTp0+PGCFqtTk9Pb20tLSEhIT27WsvwkxI4/qgjxnEKzY3DuNqtVjC0g71LHLcULskKGERQhQGJSw5VVlZ+cUXX/D5/O7du/v5+bGNly5dsrW11dLScnFxYcszDBs2LD8/v3fv3lFRUQB27txpaWlpaGi4Y8cOWUZPSMuge1hiWIu1R3CkChLVl1GH+iqsmoQmyjVcvXp1yJAhz58/P3fu3KRJk54/f87hcCZMmHDw4EE3N7fdu3ePHTs2Kirq6tWrenp6YWFhpaWl7KM2z58/v3jx4scffzxnzhz2CURC2gxKWGLYhV2pkEJ9maM42mTCsrCwWL58OZfLnTVr1t9//x0QECAQCIYOHco+Q7NkyZJdu3bdv3/f2dlZuAuXy12zZo2Kioq7uzuHwyksLKSERdoYSlhi8IVvMCStL8MD72M0XdHF0tKyZiWZ9PT0iooK4QOAXC7X0tKyVnkZQ0NDDQ0NABwORx6q8RAidZSwxOAABwe0Sn0ZICEhQVhJJjo62t7evqSk5NKlS+y7AoHgxYsXtcpGS2vNbULkFv07LKeSkpI2bNiQnZ198ODBe/fujRs3buzYsVevXvXx8SkoKNi4cSOHw3F4XZ2rqKhIttES0jrkMWElJiaePHkyNDRU2FJcXHz69GkZhtT6pk6d+uzZM2tr661bt/r6+hoYGJiZmXl7e//www+mpqbnz5/38/Njb1F5eHj06dOH/ZaQkLZN7i4JL1y44Onp2a1bt6ioqKVLl/7www8AMjMzPT09GYaRdXStxMPDo94CVSNHjhw5cmStxv379+/fvx9vV5IpLS1t0QgJkQm5O8NasmTJvn37QkNDX7x48ddff509e1bWERFC5IXcJaz4+PjRo0cDMDQ0PHTo0OLFi0tKpL/6CCFEEcldwurZs+fx48fZ7YEDB7q6ui5cuPDduRgkhDRC7hLW77///u233wrXsNq6dWtUVJSrq2uTOxJC2jy5u+k+cODAhISEO3fuaGtrA9DW1g4ODg4ICGAX5iOEvMvkLmEBMDQ0HDt2rPClkpKSjY1NZmZm43uFhobWnAnBio6O7tChg/RDlBsRERHu7u4JCQkA9PT0oqKiSktLBwwYUPMbQ0LaDLm7JKxXeHj4ypUrG++jpqamX4eKikrrRCgrHTt2/O2332QdBSGtRDES1vjx45s8ZejZs6dnHRYWFuzjdYolISGhe/fuBw4c6NKli6Gh4bZt29j2hw8fOjo6ampq9uvX7969ewDS0tK++eYbiFBnpu6+MTExNjY2e/bs0dfXr6yslM1HJUQc8nhJCCA5OTkhISEjI4PP51tZWZmZiVcUsaWsXYsjR1AlUXkZqKtj1SpMaqJaw4sXL/7777+IiIgzZ87MmDFj9uzZFRUVI0eO3Lx580cffXTs2LHRo0fHxr5Zs7fxOjOlpaX17vvixYuLFy9evHiRx+NJ9KEIaR2MnElMTBw5cqSysrKVlVWfPn2sra1VVFRcXV1TU1ObMdqMGTNmzJghYueffvrJ39+/sR4mJgwghT+jRzceSXx8PFsfhmGYqqoqNTW11NTUv/76a+jQocI+vXv3vnHjxtOnTy0sLNgWXV3d1NTU+Ph4LpdbXFzMMIxAIFBWVs7MzKx33+joaACZmZl1AxgwYICIPzRCJLFv3759+/aJ3l/uzrBmz55tbW2dkZGhp6fHthQUFKxdu3bmzJmyX+TK1xfBkpaXAY+Hj5suL6Ovr6+lpQWAy+Wypz9JSUn379+3tLRkOxQVFaWnpxsZ1bOCQN06M/Xua2JiwufzDQ0NJf1EhLQWuUtYd+7cOXr0qDBbAdDR0VmzZk2tUiqy4eAAh1YqL1O3VoypqamDg0NQUBD7Mjw8vG5JLLH2TU9PV1ZWlnbghLQgubvp3qtXLy8vL4FAIGxhGObgwYPdu3eXYVTyYNSoUeHh4adOncrLy9u/f7+Tk1PNnxKroTozouxLiPyTuzOsvXv3enp6/vHHH7a2ttra2kVFRREREerq6ufOnZN1aDJmaGjo4+Pzf//3fzNnzuzWrZufnx9700rYga0zc+rUKRH3bXJqGyHyRu4Slo2NTWRkZEhISGxsbFZWFp/Pt7a2Hjhw4DtV89fS0jIrK0v4UnjeNGjQoFqTY7t3787OGkVTdWbq7mttbU3zS4likbuEBYDL5To5OTk5Ock6EEKIfHmHTlsIIYqOEhYhRGFQwiKEKAxKWIQQhUEJSx598MEHnDp2794NwNraWthibGw8b9489nvAsWPHCtvZKfIANm3aZGZmpqamZmtre/78eVl+JEKkgRKWPPL19c3Nzc3NzXVxcdm4cSO7PWvWLPbd48eP5+bmZmdn+/j4BAYG/v777wBiY2N9fHyio6Ojo6MfP34MICQkZNOmTWfPnk1LS5s2bdqUKVOqJHxsmxBZk8dpDUR4iqSsrKyhoVHzQSX2XbbFycnJw8PjwYMHDMPExcUNHjyYz+cLu5mYmPj4+Njb2xcXF5ubmxsYGLxTc9lIm0QJSwxrgSOAhGcp6sAqoIniMqJJSUm5ePHimDFjUlNTBQLBF1988eDBg65du65bt87e3t7S0tLS0vL27dvOzs48Hu/8+fO0lj1RdJSwxLALSG26V9OOSpawJk2apKysLBAICgsLhwwZsmzZstjY2C5dunh6eq5du/bYsWNubm7Pnz9nyzA4OTmVlZWdOHHCw8MjLS1NEcsZEiJECUsMvoDExWXAA5ouLtOobdu2DRs2DICOjg57DdinT5+IiAj23dWrV3t7e1+7du3999/n8XidO3dWUVGZMWPGzz///ODBg8GDB0v6AQiRHUpYYnAAWqm4TKOMjY2Fla1YoaGhOTk5bm5uADgcjrq6uoqKSkBAQFhY2OHDhwEwDFNcXKyqqiqTgAmRFroL2xZUVVWNGzfuwoULubm5+/btS05OdnFxGTJkiI+PT3BwcF5e3saNG9XU1Ozs7GQdKSESoTOstsDBwWHPnj2LFy9+8eJFnz59zp8/r6enZ2dnt3Xr1kWLFsXExNjb2/v5+ampqck6UkIkQglLrl25cqVWS0xMTL09p0+fPn369FqNc+bMmTNnTotERogs0CUhIURhyOkZlpwu80UIkSm5S1hJSUnz5s27cuWKubm5rq5uQUFBYmKis7PzsWPH2rdvL+voCCGyJHeXhLNnz+7UqVNGRkZMTExoaGh0dHRmZqa9vf3MmTNlHRohRMbk7gxLrpf5IoTIlNydYdEyX4SQhsjdGRYt80UIaYjcJSxa5osQ0hC5S1iob5mv2NjY4ODg2bNnN7JXSUmJcA0+ofLycrFWYy8qKsrNzRUr2jaJSv0R+SSPCauu8PDwlStXNp6w/P39vb29azU+e/Zs6NChIh5l4MCBe/bsOXPmTDOjbEOoqAORTxyGYWQdQwtiV0JuPNMRQmRF3L+hcnqGRTPdCSF1yV3CopnuhJCGyN1XbzTTnRDSELk7w6KZ7oSQhshdwmJnui9dulQ48UrCme5eXl7Xr1+XXoCEEFH16dNHU1OzkQ63bt1ycXERfUC5S1hSn+mura1tZGQk3SBb1IkTJyZPnizrKMSQkpISExMj1q+dzAUGBg4YMKDWgo/yrLy83N/f/+OPJVzApFXdv39fX19/0KBBjfQZM2aM6BOPIJ/TGgQCgbRmuivitAZHR8eQkBBZRyGGO3funDlzZsuWLbIORAzTp09fvXq1tbW1rAMRVX5+/qRJkwIDA2UdiBjWr19vY2MzduxYKY4pd2dYqG+mOyGEQA6/JSSEkIZQwiKEKAxKWIQQhUEJixCiMHg//vijrGNoQUpKSh06dDA2NpZ1IGJQVVV9//33ZR2FGLhcLp/P79Spk6wDEYOKikq3bt3U1dVlHYioOByOhoZGz549ZR2IGJSUlCwtLfl8vhTHlMdpDYQQUi+6JCSEKAxKWIQQhUEJixCiMChhEUIUBiUsQojCoIRFCFEYlLAIIQqDEhYhRGFQwiKEKIy2nLAiIyOdnZ11dHQ+/PDDpKQkWYcjqq+++urEiROyjkJUISEh/fv319LS6tWr14ULF2QdTtM2bdpkZmampqZma2t7/vx5WYcjhuzsbFNT00ePHsk6kKaNHTuW85qWlpYUR26zCUsgEHh4eIwaNSo6OtrKymrevHmyjqhpd+/eXbx48Z49e2QdiKiys7Pd3NxmzZr18uXL77//3tPTMzExUdZBNSYkJGTTpk1nz55NS0ubNm3alClTqqqqZB2UqL788svU1FRZRyGS2NhYHx+f6Ojo6Ojox48fS3Fkeaw4KhUhISE5OTnLli3jcrnr169v165dcnJyx44dZR1XY+7fv19UVCTdh0Vb1O3bt01NTefPnw9g6tSpW7ZsCQkJMTc3l3VcDTIxMfHx8bG3ty8uLjY3NzcwMGhe6e3Wd/LkyczMTIVYnYBhmLi4uMGDB7fIbzLTRh0+fNjNzU340srK6ubNmzKMR3ROTk7Hjx+XdRQiyc/PT05OZrczMzM1NDQePnwo25BEcevWLQA8Hu/ixYuyjkUkKSkplpaWCQkJxsbGYWFhsg6nCS9fvlRRUZk4cWKnTp0+/PBD6f5KKMY/L82QlZWlra0tfKmrq5uRkSHDeNokHR2dDh06ALhz587AgQO/++47e3t7WQfVNCcnp7KysgMHDnh4eLx69UrW4TSBYZg5c+asWrXKwsJC1rGIJC0trUuXLp6enhcvXhwwYICbm1tWVpa0Bm+zCYvP5xcVFQlfFhQUKNCllgIpLCycO3fu9OnTN2zYsHr1almH04To6Oi4uDgAKioqM2bMMDY2fvDggayDasKBAwcAzJo1S9aBiKpPnz4REREeHh5dunRZvXq1iYnJtWvXpDV4m01YVlZWkZGRDMMAKCgoSExM7Ny5s6yDamsqKytHjx4tEAgiIiIUYsm8gICANWvWsNsMwxQXF6uqqso2pCZdvnz5+vXrRkZGhoaG6enpQ4YM2bRpk6yDakxoaOjly5fZbQ6Ho66urqKiIrXRpXh5KVeqqqo6d+68a9eukpKS7777ztXVVdYRiUqB7mH5+vpaWlrGxcXFv1ZUVCTroBoTFhampaUVFBSUm5v7yy+/dOrUqaSkRNZBNSErKyvpNUNDw8DAwPz8fFkH1Zh79+6pq6ufP38+Jydn7969xsbGubm50hq8zSYshmEiIyP79++vq6vr5uaWkpIi63BEpUAJa+XKlbX+/fP29pZ1UE3Yu3evnZ2dlpbW4MGDw8PDZR2OeBTipjvDMEeOHHnvvfc0NTUHDRoUGhoqxZGpRDIhRGG02XtYhJC2hxIWIURhUMIihCgMSliEEIVBCYsQojAoYRFCFAYlLEKIwqCERQhRGJSwCCEKgxIWIURhUMIihCgMSliEEIVBCYsQojAoYRFCFAYlLEKIwqCERQhRGJSwCCEKgxIWIURhUMIihCgMSliEEIVBCYs03/Llyzt37lxSUiJs2bFjh6mpaX5+vtSPpaenl5aW1mQ3S0tLztt+//331jk0aQWUsEjzrVq1SklJad26dezLzMzMVatWbd++XVdXV4ZReXt759bwxRdfyDAYIl2UsEjzqaur79u3b/PmzVFRUQC+//57Jycndgnohw8fOjo6ampq9uvX7969e2z/v//+u1u3bmpqat27d/f39wcQExNjY2OzZ88efX398vLyxYsXGxkZ6erqzpgxf8gf/gAABBdJREFUo6KiQnigYcOG5efn9+7dOyoq6tKlS7a2tlpaWi4uLhEREXWj0tLS0qtBVVV11KhRW7ZsYd8NCgrq2LFjVVVV3QgTEhK6d+9+4MCBLl26GBoabtu2rdahW/anSUQhxTUOybtp7ty5Q4cOvXv3rpaWVkJCAsMweXl5hoaGhw4dys/P37Vrl4GBQV5eXkZGhpKS0j///JObm7thw4Zu3boxDBMdHa2lpfXRRx/du3fPz8/P1NT06dOncXFxFhYWx44dq3kUXV3d1NTUpKQkLS0tb2/vvLy8DRs2dOrUqaysrGY3CwuLCxcu1IrQy8tr0KBB7PYXX3yxZMmSeiOMj49XU1P79ttvS0tLjx07xuPxiouLhYduuR8gER0lLCKp3NxcExMTQ0PDzZs3sy1//fXX0KFDhR169+5948aN0tLSuLg4hmHKysq8vLyMjY0ZhomOjgaQmZnJMIyfn1/79u2Dg4MrKytzc3MLCwtrHoXNGjt37hwzZgzbUlVVZW5ufvPmzZrdLCwsNDQ0dGu4efNmVlaWqqpqZmZmZWWlsbHx48eP640wPj6ew+Gwx62qqlJTU2PzFCUs+aEk6zM8ovD09PRWr169Zs2ar7/+mm1JSkq6f/++paUl+7KoqCg9PV1JSen48eO+vr7q6upmZmbC3fl8vqGhIQB3d/ctW7asWLHi6dOnn3zyyYoVK7S0tGodKyUlpXPnzuw2l8u1tLR8+fJlrT67du0aPHiw8GX79u3V1NRcXFz8/f07d+7crl07W1vb8+fP143QzMxMX1+fPSiXy+XxeNL5ARHpoYRFpMDAwEBHR0dJqfrXydTU1MHBISgoiH0ZHh5uaWnp5+d38ODBmzdvtm/fPiIi4sqVK+y7ysrK7EZsbGy/fv1u376dnZ29YMGCJUuWHD16tNaBTExMLl26xG4LBIIXL16YmprW6mNsbCzMREIeHh7//POPmZnZtGnTGoowOzubw+FI/MMgLYhuuhPpGzVqVHh4+KlTp/Ly8vbv3+/k5CQQCLKzszU1NbW0tIqLi9evX19WViYQCGruFRgYOH78+BcvXpSXl5eVlamrq9catqioaOzYsVevXvXx8SkoKNi4cSOHw3FwcKjbLa+G4uJiAOPHj2d3nDJlSkMRNvKJioqKpPBzIZKT9TUpaQu8vb3Zm+hCN27c6NOnj7q6up2dXXBwMMMwRUVFY8aM0dPTs7Oz8/Pz692798yZM6Ojo9mbWQzDvHr1asqUKTo6Ojo6OuPGjUtPT6854Oeff66trf306dPz58/37NlTU1PT2dn5yZMntSKxsLCo9Rs+adIk9q2hQ4fWvG9VN8L4+HgDAwNhB01NTfbWlfDQ0vlhEQlwGIaRSaIkhBBx0SUhIURhUMIihCiM/wfBbdpagQ9M9gAAAABJRU5ErkJggg=='>"
       ],
       "metadata": {},
       "output_type": "pyout",
       "prompt_number": 69,
       "text": [
        "<Reports.NotebookTools.Show at 0x9052750>"
       ]
      }
     ],
     "prompt_number": 69
    },
    {
     "cell_type": "code",
     "collapsed": false,
     "input": [
      "fisher_exact_test(two_hit, spread_inferred)"
     ],
     "language": "python",
     "metadata": {},
     "outputs": [
      {
       "metadata": {},
       "output_type": "pyout",
       "prompt_number": 67,
       "text": [
        "odds_ratio    3.93e+00\n",
        "p             4.47e-05\n",
        "dtype: float64"
       ]
      }
     ],
     "prompt_number": 67
    },
    {
     "cell_type": "code",
     "collapsed": false,
     "input": [
      "fisher_exact_test(two_hit, mirna_df['binary_hsa-mir-3170'])"
     ],
     "language": "python",
     "metadata": {},
     "outputs": [
      {
       "metadata": {},
       "output_type": "pyout",
       "prompt_number": 65,
       "text": [
        "odds_ratio    2.15\n",
        "p             0.01\n",
        "dtype: float64"
       ]
      }
     ],
     "prompt_number": 65
    }
   ],
   "metadata": {}
  }
 ]
}