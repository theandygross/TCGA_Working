{
 "metadata": {
  "name": ""
 },
 "nbformat": 3,
 "nbformat_minor": 0,
 "worksheets": [
  {
   "cells": [
    {
     "cell_type": "markdown",
     "metadata": {},
     "source": [
      "#HNSC Multivariate Screen  \n",
      "\n",
      "This is a screen for survival associated features.  "
     ]
    },
    {
     "cell_type": "code",
     "collapsed": false,
     "input": [
      "%autosave 5"
     ],
     "language": "python",
     "metadata": {},
     "outputs": [
      {
       "javascript": [
        "IPython.notebook.set_autosave_interval(5000)"
       ],
       "metadata": {},
       "output_type": "display_data"
      },
      {
       "output_type": "stream",
       "stream": "stdout",
       "text": [
        "Autosaving every 5 seconds\n"
       ]
      }
     ],
     "prompt_number": 6
    },
    {
     "cell_type": "code",
     "collapsed": false,
     "input": [
      "dsf"
     ],
     "language": "python",
     "metadata": {},
     "outputs": [
      {
       "ename": "NameError",
       "evalue": "name 'dsf' is not defined",
       "output_type": "pyerr",
       "traceback": [
        "\u001b[1;31m---------------------------------------------------------------------------\u001b[0m\n\u001b[1;31mNameError\u001b[0m                                 Traceback (most recent call last)",
        "\u001b[1;32m<ipython-input-7-3f5725727624>\u001b[0m in \u001b[0;36m<module>\u001b[1;34m()\u001b[0m\n\u001b[1;32m----> 1\u001b[1;33m \u001b[0mdsf\u001b[0m\u001b[1;33m\u001b[0m\u001b[0m\n\u001b[0m",
        "\u001b[1;31mNameError\u001b[0m: name 'dsf' is not defined"
       ]
      }
     ],
     "prompt_number": 7
    },
    {
     "cell_type": "code",
     "collapsed": false,
     "input": [
      "from Processing.Imports import *"
     ],
     "language": "python",
     "metadata": {},
     "outputs": [],
     "prompt_number": 7
    },
    {
     "cell_type": "markdown",
     "metadata": {},
     "source": [
      "##Read in Data"
     ]
    },
    {
     "cell_type": "code",
     "collapsed": false,
     "input": [
      "run = get_run('/cellar/data/TCGA/Firehose__2013_04_21/', 'Run_all')\n",
      "\n",
      "cancer = run.load_cancer('HNSC')\n",
      "clinical = cancer.load_clinical()\n",
      "global_vars = cancer.load_global_vars()\n",
      "\n",
      "mut = cancer.load_data('Mutation')\n",
      "mut.uncompress()\n",
      "meth = cancer.load_data('Methylation')\n",
      "cn = cancer.load_data('CN_broad')\n",
      "cn.uncompress()\n",
      "rna = cancer.load_data('mRNASeq')\n",
      "rppa  = cancer.load_data('RPPA')\n",
      "mirna = cancer.load_data('miRNASeq')\n",
      "age = clinical.clinical.age.astype(float)\n",
      "\n",
      "hpv_all = pd.read_csv('/cellar/users/agross/hpv_summary_3_20_13_distribute.csv', index_col=0)\n",
      "hpv = hpv_all.Molecular_HPV.map({0:'HPV-', 1:'HPV+'})\n",
      "hpv.name = 'HPV'"
     ],
     "language": "python",
     "metadata": {},
     "outputs": [],
     "prompt_number": 8
    },
    {
     "cell_type": "code",
     "collapsed": false,
     "input": [
      "from Data.ProcessClinical import format_survival_from_data_portal\n",
      "path  = '/cellar/users/agross/Data/TCGA/HNSC_Followup/'\n",
      "survival, timeline = format_survival_from_data_portal(path, cancer.name)\n",
      "clinical.survival = survival\n",
      "clinical.artificially_censor(5)\n",
      "age = timeline.age"
     ],
     "language": "python",
     "metadata": {},
     "outputs": [],
     "prompt_number": 9
    },
    {
     "cell_type": "markdown",
     "metadata": {},
     "source": [
      "##Clinical Features"
     ]
    },
    {
     "cell_type": "code",
     "collapsed": false,
     "input": [
      "filters = pd.concat([age>=100, hpv=='HPV+'], axis=1)\n",
      "clinical_filter = filters.sum(1) == 0\n",
      "keepers_o = true_index(clinical_filter)"
     ],
     "language": "python",
     "metadata": {},
     "outputs": [],
     "prompt_number": 10
    },
    {
     "cell_type": "code",
     "collapsed": false,
     "input": [
      "stage = clinical.clinical.tumorstage.ix[keepers_o].fillna('nx')\n",
      "stage = stage.dropna().map(lambda s: s.replace('a','').replace('b',''))\n",
      "\n",
      "lymph_stage = clinical.clinical.lymphnodepathologicspread.ix[keepers_o]\n",
      "lymph_stage = lymph_stage.replace('nx', nan).dropna().map(lambda s: s[:2])\n",
      "\n",
      "age = age\n",
      "old_age = (age >= 75).map({True: 'Age > 75', False: 'Age < 75'})\n",
      "pack_years = py = clinical.clinical.numberpackyearssmoked.dropna().astype(float)\n",
      "\n",
      "group = [['oral tongue','oral cavity','floor of mouth','buccal mucosa','alveolar ridge','hard palate','lip'],\n",
      "         ['oropharynx','tonsil','base of tongue'],\n",
      "         #['hypopharynx'],\n",
      "         ['larynx']]\n",
      "groups = ['oral cavity','oropharynx','larynx']\n",
      "tumor_subdivision = pd.Series({idx: groups[i] for i,g in enumerate(group) for idx,j in \n",
      "                               clinical.clinical.neoplasmanatomicsubdivision.iteritems() if j in g})\n",
      "\n",
      "invasion = clinical.clinical.perineuralinvasionpresent.replace('nan', nan)\n",
      "invasion = invasion.fillna('Missing')\n",
      "\n",
      "spread = clinical.clinical.presenceofpathologicalnodalextracapsularspread\n",
      "spread = spread.map({'no extranodal extension': 'no', 'microscopic extension':'yes', \n",
      "                     'gross extension':'yes'}).dropna()\n",
      "\n",
      "year = clinical.clinical.yearofinitialpathologicdiagnosis\n",
      "year = year.replace('[Discrepancy]', nan).astype(float)\n",
      "\n",
      "lymph = lymph_stage.ix[keepers_o] != 'n0'\n",
      "lymph_status = combine(lymph, spread.ix[keepers_o]=='yes')\n",
      "lymph_status = lymph_status.map({'neither': 'n0', lymph.name: 'lymph_node', 'both': 'extra_capsular_spread'})\n",
      "lymph_status = (lymph_status == 'extra_capsular_spread').astype(float)"
     ],
     "language": "python",
     "metadata": {},
     "outputs": [],
     "prompt_number": 11
    },
    {
     "cell_type": "code",
     "collapsed": false,
     "input": [
      "gg = rna2.features.ix['real', keepers_o].dropna(1)\n",
      "gg = gg.apply(lambda s: to_quants(s, std=1) > 0)\n",
      "diff = screen_feature(spread, fisher_exact_test, gg)\n",
      "dd = diff[diff.p < .01]\n",
      "\n",
      "vec = (2.*(dd.odds_ratio > 1) - 1)\n",
      "loading = vec.dot(1.*(gg.ix[vec.index]))\n",
      "\n",
      "ratio = loading.groupby(spread).apply(pd.value_counts).unstack().fillna(0)\n",
      "prob = ratio.T.cumsum() / ratio.sum(1)\n",
      "cutoff = ((prob.yes - (1-prob.no)) > 0).idxmax()\n",
      "\n",
      "f = spread.copy() == 'yes'\n",
      "f = f.ix[loading.index]\n",
      "f[f.isnull()] = loading[f.isnull()] > cutoff\n",
      "spread_inferred = f.ix[keepers_o].fillna(False).astype(float)"
     ],
     "language": "python",
     "metadata": {},
     "outputs": [],
     "prompt_number": 52
    },
    {
     "cell_type": "code",
     "collapsed": false,
     "input": [
      "combo = combine(cn.df.ix['Deletion'].ix['3p14.2'].ix[0]<0, mut.features.ix['TP53'])\n",
      "two_hit = 1.*(combo == 'both')\n",
      "muc5b = mut.features.ix['MUC5B']"
     ],
     "language": "python",
     "metadata": {},
     "outputs": [],
     "prompt_number": 13
    },
    {
     "cell_type": "code",
     "collapsed": false,
     "input": [
      "filters = pd.concat([age>=100, hpv=='HPV+', two_hit==0, muc5b==1], axis=1)\n",
      "clinical_filter = filters.sum(1) == 0\n",
      "keepers_o = true_index(clinical_filter)"
     ],
     "language": "python",
     "metadata": {},
     "outputs": [],
     "prompt_number": 55
    },
    {
     "cell_type": "code",
     "collapsed": false,
     "input": [
      "filters = pd.concat([age>=85, hpv=='HPV+', two_hit==0, muc5b==1], axis=1)\n",
      "clinical_filter = filters.sum(1) == 0\n",
      "keepers = true_index(clinical_filter)"
     ],
     "language": "python",
     "metadata": {},
     "outputs": [],
     "prompt_number": 56
    },
    {
     "cell_type": "code",
     "collapsed": false,
     "input": [
      "surv = clinical.survival.survival_5y\n",
      "old = pd.Series(1.*(age>=75), name='old')"
     ],
     "language": "python",
     "metadata": {},
     "outputs": [],
     "prompt_number": 16
    },
    {
     "cell_type": "markdown",
     "metadata": {},
     "source": [
      "####Form expression and methylation features without HPV  \n",
      "* HPV has a big influence on expression, here I am creating a second set of features without HPV\n",
      "* I use this sparingly but it helps to tease out wheter an association is due to a underlying relationship with HPV"
     ]
    },
    {
     "cell_type": "code",
     "collapsed": false,
     "input": [
      "from Stats.Survival import cox\n",
      "\n",
      "rev_kruskal = lambda a,b: kruskal_pandas(b,a)\n",
      "def fc(hit_vec, response_vec):\n",
      "    f = response_vec.groupby(hit_vec).median()\n",
      "    return f[0] > f[1]\n",
      "\n",
      "def mut_filter(df, rate):\n",
      "    df = df[df.sum(1) >= 10]\n",
      "    cc = screen_feature(rate, rev_kruskal, df)\n",
      "    \n",
      "    fc_apply = lambda s: fc(s, rate)\n",
      "    direction = df.apply(fc_apply, axis=1)\n",
      "    direction.name = 'direction'\n",
      "    \n",
      "    cc = cc.join(direction)\n",
      "    cc = cc[cc.direction==False]\n",
      "    \n",
      "    df = df.ix[((cc.p>.00001) + (df.sum(1).isin(range(10, df.shape[1] / 3)))) > 0]\n",
      "    df = df.dropna(axis=1)\n",
      "    return df\n",
      "\n",
      "def cox_screen(df, surv, axis=1):\n",
      "    rr = df.apply(lambda s: cox(s.dropna(), surv), axis=axis)\n",
      "    if axis==0:\n",
      "        rr = rr.T\n",
      "    rr['q'] = bhCorrection(rr.p)\n",
      "    rr = rr.sort('p')\n",
      "    return rr"
     ],
     "language": "python",
     "metadata": {},
     "outputs": [],
     "prompt_number": 17
    },
    {
     "cell_type": "code",
     "collapsed": true,
     "input": [
      "from Initialization.InitializeReal import RealDataset\n",
      "rna = RealDataset(run, cancer, 'mRNASeq', keepers_o)\n",
      "meth = RealDataset(run, cancer, 'Methylation', keepers_o)\n",
      "mirna = RealDataset(run, cancer, 'miRNASeq', keepers_o, create_meta_features=False)"
     ],
     "language": "python",
     "metadata": {},
     "outputs": [],
     "prompt_number": 18
    },
    {
     "cell_type": "code",
     "collapsed": false,
     "input": [
      "mut_df = mut_filter(mut.features.ix[:,keepers_o], mut.df.sum()).T\n",
      "\n",
      "del_df = (cn.features.ix['Deletion', keepers_o].dropna(1) < 0).astype(int)\n",
      "del_df = del_df[del_df.sum(1) > 10]\n",
      "del_df.index = del_df.index.droplevel(1)\n",
      "del_df = del_df.T\n",
      "amp_df = (cn.features.ix['Amplification', keepers_o].dropna(1) > 0).astype(int)\n",
      "amp_df = amp_df[amp_df.sum(1) > 10]\n",
      "amp_df.index = amp_df.index.droplevel(1)\n",
      "amp_df = amp_df.T\n",
      "\n",
      "global_df = pd.concat([global_vars['mutation'], global_vars['cna'], rna.global_vars, \n",
      "                       meth.global_vars, mirna.global_vars], \n",
      "                keys=['mutation', 'cna', 'rna', 'methylation', 'mirna'], axis=1)\n",
      "global_df.columns = map(lambda s: '_'.join(s), global_df.columns)\n",
      "\n",
      "mirna_df = mirna.features.copy()\n",
      "mirna_df.index = map(lambda s: '_'.join(s), mirna_df.index)\n",
      "mirna_df = mirna_df.T\n",
      "\n",
      "clinical_df = pd.concat([stage, lymph_stage, age, old_age, pack_years,\n",
      "                         tumor_subdivision, invasion, lymph_status, spread_inferred],\n",
      "                        keys = ['stage', 'lymph_stage', 'age', 'old_age', 'pack_years',\n",
      "                         'tumor_subdivision', 'invasion', 'lymph_status', 'spread_inferred'],\n",
      "                        axis=1)"
     ],
     "language": "python",
     "metadata": {},
     "outputs": [],
     "prompt_number": 57
    },
    {
     "cell_type": "code",
     "collapsed": false,
     "input": [
      "data_sets = {'clinical': clinical_df,\n",
      "             'global': global_df,\n",
      "             'mutation': mut_df,\n",
      "             'deletion': del_df,\n",
      "             'amplification': amp_df,\n",
      "             'rna': rna.pathways.T,\n",
      "             'mirna': mirna_df,\n",
      "             'methylation': meth.pathways.T}"
     ],
     "language": "python",
     "metadata": {},
     "outputs": [],
     "prompt_number": 58
    },
    {
     "cell_type": "code",
     "collapsed": false,
     "input": [
      "univariate = pd.concat({d: cox_screen(df.ix[keepers], surv, 0) for d,df in data_sets.iteritems()})"
     ],
     "language": "python",
     "metadata": {},
     "outputs": [],
     "prompt_number": 59
    },
    {
     "cell_type": "code",
     "collapsed": false,
     "input": [
      "univariate.sort('q').head()"
     ],
     "language": "python",
     "metadata": {},
     "outputs": [
      {
       "html": [
        "<div style=\"max-height:1000px;max-width:1500px;overflow:auto;\">\n",
        "<table border=\"1\" class=\"dataframe\">\n",
        "  <thead>\n",
        "    <tr style=\"text-align: right;\">\n",
        "      <th></th>\n",
        "      <th></th>\n",
        "      <th>LR</th>\n",
        "      <th>p</th>\n",
        "      <th>q</th>\n",
        "    </tr>\n",
        "  </thead>\n",
        "  <tbody>\n",
        "    <tr>\n",
        "      <th>mirna</th>\n",
        "      <th>real_hsa-mir-135a-2</th>\n",
        "      <td> 19.93</td>\n",
        "      <td> 8.03e-06</td>\n",
        "      <td> 0.00</td>\n",
        "    </tr>\n",
        "    <tr>\n",
        "      <th rowspan=\"2\" valign=\"top\">clinical</th>\n",
        "      <th>spread_inferred</th>\n",
        "      <td> 10.02</td>\n",
        "      <td> 1.55e-03</td>\n",
        "      <td> 0.01</td>\n",
        "    </tr>\n",
        "    <tr>\n",
        "      <th>lymph_stage</th>\n",
        "      <td>  7.51</td>\n",
        "      <td> 6.13e-03</td>\n",
        "      <td> 0.03</td>\n",
        "    </tr>\n",
        "    <tr>\n",
        "      <th rowspan=\"2\" valign=\"top\">mirna</th>\n",
        "      <th>binary_hsa-mir-548k</th>\n",
        "      <td> 13.53</td>\n",
        "      <td> 2.35e-04</td>\n",
        "      <td> 0.03</td>\n",
        "    </tr>\n",
        "    <tr>\n",
        "      <th>real_hsa-mir-487b</th>\n",
        "      <td> 10.46</td>\n",
        "      <td> 1.22e-03</td>\n",
        "      <td> 0.06</td>\n",
        "    </tr>\n",
        "  </tbody>\n",
        "</table>\n",
        "</div>"
       ],
       "metadata": {},
       "output_type": "pyout",
       "prompt_number": 60,
       "text": [
        "                                 LR         p     q\n",
        "mirna    real_hsa-mir-135a-2  19.93  8.03e-06  0.00\n",
        "clinical spread_inferred      10.02  1.55e-03  0.01\n",
        "         lymph_stage           7.51  6.13e-03  0.03\n",
        "mirna    binary_hsa-mir-548k  13.53  2.35e-04  0.03\n",
        "         real_hsa-mir-487b    10.46  1.22e-03  0.06"
       ]
      }
     ],
     "prompt_number": 60
    },
    {
     "cell_type": "code",
     "collapsed": false,
     "input": [
      "hits = univariate[univariate.q < .3].index"
     ],
     "language": "python",
     "metadata": {},
     "outputs": [],
     "prompt_number": 61
    },
    {
     "cell_type": "code",
     "collapsed": false,
     "input": [
      "cov_df = pd.concat([age, old], axis=1)\n",
      "def test(s):\n",
      "    s = s.dropna()\n",
      "    try:\n",
      "        s = s.astype(float)\n",
      "    except:\n",
      "\n",
      "    return get_cox_ph_ms(surv, s, cov_df, return_val='LR', interactions=False);"
     ],
     "language": "python",
     "metadata": {},
     "outputs": [],
     "prompt_number": 62
    },
    {
     "cell_type": "code",
     "collapsed": false,
     "input": [
      "df = pd.concat(data_sets, 1).T.ix[hits, keepers_o]\n",
      "feature_age = df.apply(test, 1)"
     ],
     "language": "python",
     "metadata": {},
     "outputs": [],
     "prompt_number": 63
    },
    {
     "cell_type": "code",
     "collapsed": false,
     "input": [
      "vec = feature_age.LR.ix[univariate.index].sort_index()\n",
      "feature_age['q_bonf'] = vec.groupby(level=0).apply(lambda s: s*len(s)).order()\n",
      "feature_age['q_bh'] = vec.groupby(level=0).apply(bhCorrection).order()"
     ],
     "language": "python",
     "metadata": {},
     "outputs": [],
     "prompt_number": 121
    },
    {
     "cell_type": "code",
     "collapsed": false,
     "input": [
      "feature_age.sort('q_bonf').head()"
     ],
     "language": "python",
     "metadata": {},
     "outputs": [
      {
       "html": [
        "<div style=\"max-height:1000px;max-width:1500px;overflow:auto;\">\n",
        "<table border=\"1\" class=\"dataframe\">\n",
        "  <thead>\n",
        "    <tr style=\"text-align: right;\">\n",
        "      <th></th>\n",
        "      <th></th>\n",
        "      <th>LR</th>\n",
        "      <th>feature_p</th>\n",
        "      <th>fmla</th>\n",
        "      <th>hazzard</th>\n",
        "      <th>q</th>\n",
        "      <th>q_bonf</th>\n",
        "      <th>q_bh</th>\n",
        "    </tr>\n",
        "  </thead>\n",
        "  <tbody>\n",
        "    <tr>\n",
        "      <th>clinical</th>\n",
        "      <th>spread_inferred</th>\n",
        "      <td> 4.44e-03</td>\n",
        "      <td> 3.66e-03</td>\n",
        "      <td> Surv(days, event) ~ feature\\n</td>\n",
        "      <td>   1.89</td>\n",
        "      <td> 0.04</td>\n",
        "      <td> 0.04</td>\n",
        "      <td> 0.04</td>\n",
        "    </tr>\n",
        "    <tr>\n",
        "      <th>mirna</th>\n",
        "      <th>binary_hsa-mir-548k</th>\n",
        "      <td> 2.78e-04</td>\n",
        "      <td> 2.53e-04</td>\n",
        "      <td> Surv(days, event) ~ feature\\n</td>\n",
        "      <td>   2.26</td>\n",
        "      <td> 0.08</td>\n",
        "      <td> 0.08</td>\n",
        "      <td> 0.06</td>\n",
        "    </tr>\n",
        "    <tr>\n",
        "      <th>global</th>\n",
        "      <th>mirna_filtered_pc1</th>\n",
        "      <td> 3.26e-03</td>\n",
        "      <td> 4.09e-03</td>\n",
        "      <td> Surv(days, event) ~ feature\\n</td>\n",
        "      <td> 152.10</td>\n",
        "      <td> 0.12</td>\n",
        "      <td> 0.12</td>\n",
        "      <td> 0.12</td>\n",
        "    </tr>\n",
        "    <tr>\n",
        "      <th rowspan=\"2\" valign=\"top\">mirna</th>\n",
        "      <th>real_hsa-mir-377</th>\n",
        "      <td> 5.88e-04</td>\n",
        "      <td> 9.22e-04</td>\n",
        "      <td> Surv(days, event) ~ feature\\n</td>\n",
        "      <td>   1.52</td>\n",
        "      <td> 0.16</td>\n",
        "      <td> 0.16</td>\n",
        "      <td> 0.06</td>\n",
        "    </tr>\n",
        "    <tr>\n",
        "      <th>real_hsa-mir-337</th>\n",
        "      <td> 6.18e-04</td>\n",
        "      <td> 1.04e-03</td>\n",
        "      <td> Surv(days, event) ~ feature\\n</td>\n",
        "      <td>   1.55</td>\n",
        "      <td> 0.17</td>\n",
        "      <td> 0.17</td>\n",
        "      <td> 0.06</td>\n",
        "    </tr>\n",
        "  </tbody>\n",
        "</table>\n",
        "</div>"
       ],
       "metadata": {},
       "output_type": "pyout",
       "prompt_number": 122,
       "text": [
        "                                    LR  feature_p                           fmla  hazzard     q  q_bonf  q_bh\n",
        "clinical spread_inferred      4.44e-03   3.66e-03  Surv(days, event) ~ feature\\n     1.89  0.04    0.04  0.04\n",
        "mirna    binary_hsa-mir-548k  2.78e-04   2.53e-04  Surv(days, event) ~ feature\\n     2.26  0.08    0.08  0.06\n",
        "global   mirna_filtered_pc1   3.26e-03   4.09e-03  Surv(days, event) ~ feature\\n   152.10  0.12    0.12  0.12\n",
        "mirna    real_hsa-mir-377     5.88e-04   9.22e-04  Surv(days, event) ~ feature\\n     1.52  0.16    0.16  0.06\n",
        "         real_hsa-mir-337     6.18e-04   1.04e-03  Surv(days, event) ~ feature\\n     1.55  0.17    0.17  0.06"
       ]
      }
     ],
     "prompt_number": 122
    },
    {
     "cell_type": "code",
     "collapsed": false,
     "input": [
      "s = pd.concat(data_sets, 1).groupby(level=0,axis=1).size()"
     ],
     "language": "python",
     "metadata": {},
     "outputs": [],
     "prompt_number": 92
    },
    {
     "cell_type": "code",
     "collapsed": false,
     "input": [
      "g = feature_age.LR.groupby(level=0)"
     ],
     "language": "python",
     "metadata": {},
     "outputs": [],
     "prompt_number": 93
    },
    {
     "cell_type": "code",
     "collapsed": false,
     "input": [
      "draw_survival_curves(to_quants(global_df['mirna_filtered_pc1'], std=.5), surv, loading > cutoff, show=True)"
     ],
     "language": "python",
     "metadata": {},
     "outputs": [
      {
       "html": [
        "<img src='data:image/png;base64,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'>"
       ],
       "metadata": {},
       "output_type": "pyout",
       "prompt_number": 140,
       "text": [
        "<Reports.NotebookTools.Show at 0xd403ed0>"
       ]
      }
     ],
     "prompt_number": 140
    },
    {
     "cell_type": "code",
     "collapsed": false,
     "input": [
      "violin_plot_pandas(loading > cutoff, global_df['mirna_filtered_pc1'])"
     ],
     "language": "python",
     "metadata": {},
     "outputs": [
      {
       "metadata": {},
       "output_type": "display_data",
       "png": "[encoded data removed]",
       "text": [
        "<matplotlib.figure.Figure at 0x7cbd910>"
       ]
      }
     ],
     "prompt_number": 141
    }
   ],
   "metadata": {}
  }
 ]
}