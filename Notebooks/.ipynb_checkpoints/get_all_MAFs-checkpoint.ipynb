{
 "metadata": {
  "name": ""
 },
 "nbformat": 3,
 "nbformat_minor": 0,
 "worksheets": [
  {
   "cells": [
    {
     "cell_type": "code",
     "collapsed": false,
     "input": [
      "import pandas as pd"
     ],
     "language": "python",
     "metadata": {},
     "outputs": [],
     "prompt_number": 1
    },
    {
     "cell_type": "code",
     "collapsed": false,
     "input": [
      "tab = pd.read_html('https://wiki.nci.nih.gov/display/TCGA/TCGA+MAF+Files?showChildren=false#TCGAMAFFiles-CurrentMAFFiles',\n",
      "                   header=0)"
     ],
     "language": "python",
     "metadata": {},
     "outputs": [],
     "prompt_number": 28
    },
    {
     "cell_type": "code",
     "collapsed": false,
     "input": [
      "t = pd.read_table(f, nrows=10, sep='not_real_term', header=None, squeeze=True)\n",
      "skip = t.apply(lambda s: s.startswith('#'))\n",
      "skip = list(sl[sl==True].index)\n",
      "maf = pd.read_table(f, skiprows=skip, header=0, index_col=0)"
     ],
     "language": "python",
     "metadata": {},
     "outputs": [],
     "prompt_number": 90
    },
    {
     "cell_type": "code",
     "collapsed": false,
     "input": [
      "tab = pd.read_html('https://confluence.broadinstitute.org/display/GDAC/MAF+Dashboard')"
     ],
     "language": "python",
     "metadata": {},
     "outputs": [],
     "prompt_number": 103
    },
    {
     "cell_type": "code",
     "collapsed": false,
     "input": [
      "from bs4 import BeautifulSoup"
     ],
     "language": "python",
     "metadata": {},
     "outputs": [],
     "prompt_number": 1
    },
    {
     "cell_type": "code",
     "collapsed": false,
     "input": [
      "f = open('/cellar/users/agross/Downloads/tmp.html', 'rb').read()\n",
      "soup = BeautifulSoup(f)"
     ],
     "language": "python",
     "metadata": {},
     "outputs": [],
     "prompt_number": 111
    },
    {
     "cell_type": "code",
     "collapsed": false,
     "input": [
      "r = [l.get('href') for l in soup.find_all('a')\n",
      "   if l.get('href') != None\n",
      "   and '.maf' in l.get('href')]"
     ],
     "language": "python",
     "metadata": {},
     "outputs": [],
     "prompt_number": 126
    },
    {
     "cell_type": "code",
     "collapsed": false,
     "input": [
      "f = r[0]"
     ],
     "language": "python",
     "metadata": {},
     "outputs": [],
     "prompt_number": 132
    },
    {
     "cell_type": "code",
     "collapsed": false,
     "input": [
      "maf = {}\n",
      "for f in r:\n",
      "    t = pd.read_table(f, nrows=10, sep='not_real_term', header=None, squeeze=True)\n",
      "    skip = t.apply(lambda s: s.startswith('#'))\n",
      "    skip = list(skip[skip==True].index)\n",
      "    maf[f] = pd.read_table(f, skiprows=skip, header=0, index_col=0)"
     ],
     "language": "python",
     "metadata": {},
     "outputs": [],
     "prompt_number": 150
    },
    {
     "cell_type": "code",
     "collapsed": false,
     "input": [
      "m2 = pd.concat(maf)"
     ],
     "language": "python",
     "metadata": {},
     "outputs": [],
     "prompt_number": 153
    },
    {
     "cell_type": "code",
     "collapsed": false,
     "input": [
      "m3 = m2.dropna(axis=1, how='all')"
     ],
     "language": "python",
     "metadata": {},
     "outputs": [],
     "prompt_number": 160
    },
    {
     "cell_type": "code",
     "collapsed": false,
     "input": [
      "m3.shape"
     ],
     "language": "python",
     "metadata": {},
     "outputs": [
      {
       "metadata": {},
       "output_type": "pyout",
       "prompt_number": 165,
       "text": [
        "(2154262, 185)"
       ]
      }
     ],
     "prompt_number": 165
    },
    {
     "cell_type": "code",
     "collapsed": false,
     "input": [
      "m4 = m3.ix[m3.Variant_Classification != 'Silent']\n",
      "m4.index = m4.index.get_level_values(1)\n",
      "del m4['gene']\n",
      "m4 = m4.reset_index()"
     ],
     "language": "python",
     "metadata": {},
     "outputs": [],
     "prompt_number": 173
    },
    {
     "cell_type": "code",
     "collapsed": false,
     "input": [
      "len(m4.Tumor_Sample_Barcode.unique())"
     ],
     "language": "python",
     "metadata": {},
     "outputs": [
      {
       "metadata": {},
       "output_type": "pyout",
       "prompt_number": 252,
       "text": [
        "5929"
       ]
      }
     ],
     "prompt_number": 252
    },
    {
     "cell_type": "code",
     "collapsed": false,
     "input": [
      "len(m4)"
     ],
     "language": "python",
     "metadata": {},
     "outputs": [
      {
       "metadata": {},
       "output_type": "pyout",
       "prompt_number": 211,
       "text": [
        "1610904"
       ]
      }
     ],
     "prompt_number": 211
    },
    {
     "cell_type": "code",
     "collapsed": false,
     "input": [
      "m5 = m4.dropna(axis=1, thresh=len(m4)*.7)"
     ],
     "language": "python",
     "metadata": {},
     "outputs": [],
     "prompt_number": 212
    },
    {
     "cell_type": "code",
     "collapsed": false,
     "input": [
      "len(m5)"
     ],
     "language": "python",
     "metadata": {},
     "outputs": [
      {
       "metadata": {},
       "output_type": "pyout",
       "prompt_number": 253,
       "text": [
        "1610904"
       ]
      }
     ],
     "prompt_number": 253
    },
    {
     "cell_type": "code",
     "collapsed": false,
     "input": [
      "cc = m4.groupby(['gene','Tumor_Sample_Barcode']).size()"
     ],
     "language": "python",
     "metadata": {},
     "outputs": [],
     "prompt_number": 257
    },
    {
     "cell_type": "code",
     "collapsed": false,
     "input": [
      "cc = cc.reset_index()\n",
      "del cc[0]"
     ],
     "language": "python",
     "metadata": {},
     "outputs": [],
     "prompt_number": 260
    },
    {
     "cell_type": "code",
     "collapsed": false,
     "input": [
      "cc.head()"
     ],
     "language": "python",
     "metadata": {},
     "outputs": [
      {
       "html": [
        "<div style=\"max-height:1000px;max-width:1500px;overflow:auto;\">\n",
        "<table border=\"1\" class=\"dataframe\">\n",
        "  <thead>\n",
        "    <tr style=\"text-align: right;\">\n",
        "      <th></th>\n",
        "      <th>gene</th>\n",
        "      <th>Tumor_Sample_Barcode</th>\n",
        "    </tr>\n",
        "  </thead>\n",
        "  <tbody>\n",
        "    <tr>\n",
        "      <th>0</th>\n",
        "      <td>  1SEPT4</td>\n",
        "      <td> TCGA-CW-6090-01A-11D-1669-08</td>\n",
        "    </tr>\n",
        "    <tr>\n",
        "      <th>1</th>\n",
        "      <td>   2-Mar</td>\n",
        "      <td> TCGA-36-1569-01A-01W-0615-10</td>\n",
        "    </tr>\n",
        "    <tr>\n",
        "      <th>2</th>\n",
        "      <td> 5S_rRNA</td>\n",
        "      <td> TCGA-17-Z013-01A-01W-0746-08</td>\n",
        "    </tr>\n",
        "    <tr>\n",
        "      <th>3</th>\n",
        "      <td>    A1BG</td>\n",
        "      <td> TCGA-06-5411-01A-01D-1696-08</td>\n",
        "    </tr>\n",
        "    <tr>\n",
        "      <th>4</th>\n",
        "      <td>    A1BG</td>\n",
        "      <td> TCGA-18-3406-01A-01D-0983-08</td>\n",
        "    </tr>\n",
        "  </tbody>\n",
        "</table>\n",
        "</div>"
       ],
       "metadata": {},
       "output_type": "pyout",
       "prompt_number": 265,
       "text": [
        "      gene          Tumor_Sample_Barcode\n",
        "0   1SEPT4  TCGA-CW-6090-01A-11D-1669-08\n",
        "1    2-Mar  TCGA-36-1569-01A-01W-0615-10\n",
        "2  5S_rRNA  TCGA-17-Z013-01A-01W-0746-08\n",
        "3     A1BG  TCGA-06-5411-01A-01D-1696-08\n",
        "4     A1BG  TCGA-18-3406-01A-01D-0983-08"
       ]
      }
     ],
     "prompt_number": 265
    },
    {
     "cell_type": "code",
     "collapsed": false,
     "input": [
      "cc.to_csv('/cellar/users/agross/Data/TCGA/New_MAFs/meta.csv')"
     ],
     "language": "python",
     "metadata": {},
     "outputs": [],
     "prompt_number": 266
    }
   ],
   "metadata": {}
  }
 ]
}