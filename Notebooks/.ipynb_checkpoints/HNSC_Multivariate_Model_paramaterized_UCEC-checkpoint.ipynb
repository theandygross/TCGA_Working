{
 "metadata": {
  "name": ""
 },
 "nbformat": 3,
 "nbformat_minor": 0,
 "worksheets": [
  {
   "cells": [
    {
     "cell_type": "markdown",
     "metadata": {},
     "source": [
      "#HNSC Multivariate Screen  \n",
      "\n",
      "This is a screen for survival associated features.  "
     ]
    },
    {
     "cell_type": "code",
     "collapsed": false,
     "input": [
      "cd ../src"
     ],
     "language": "python",
     "metadata": {},
     "outputs": [
      {
       "output_type": "stream",
       "stream": "stdout",
       "text": [
        "/cellar/users/agross/TCGA_Code/TCGA/Pathway_Merge/src\n"
       ]
      }
     ],
     "prompt_number": 1
    },
    {
     "cell_type": "code",
     "collapsed": false,
     "input": [
      "from Processing.Imports import *\n",
      "\n",
      "from Figures.Survival import survival_and_stats"
     ],
     "language": "python",
     "metadata": {},
     "outputs": [],
     "prompt_number": 2
    },
    {
     "cell_type": "markdown",
     "metadata": {},
     "source": [
      "##Read in Data"
     ]
    },
    {
     "cell_type": "code",
     "collapsed": false,
     "input": [
      "run = get_run('/cellar/data/TCGA/Firehose__2013_05_23/', 'Run_all_2')\n",
      "\n",
      "cancer = run.load_cancer('UCEC')\n",
      "clinical = cancer.load_clinical()\n",
      "global_vars = cancer.load_global_vars()\n",
      "\n",
      "mut = cancer.load_data('Mutation')\n",
      "mut.uncompress()\n",
      "meth = cancer.load_data('Methylation')\n",
      "cn = cancer.load_data('CN_broad')\n",
      "cn.uncompress()\n",
      "rna = cancer.load_data('mRNASeq')\n",
      "rppa  = cancer.load_data('RPPA')\n",
      "mirna = cancer.load_data('miRNASeq')\n",
      "age = clinical.clinical.age.astype(float)"
     ],
     "language": "python",
     "metadata": {},
     "outputs": [],
     "prompt_number": 3
    },
    {
     "cell_type": "code",
     "collapsed": false,
     "input": [
      "import Data.ProcessClinical as PC\n",
      "reload(PC)"
     ],
     "language": "python",
     "metadata": {},
     "outputs": [
      {
       "metadata": {},
       "output_type": "pyout",
       "prompt_number": 4,
       "text": [
        "<module 'Data.ProcessClinical' from 'Data/ProcessClinical.pyc'>"
       ]
      }
     ],
     "prompt_number": 4
    },
    {
     "cell_type": "code",
     "collapsed": false,
     "input": [
      "from Data.ProcessClinical import *\n",
      "path  = '/cellar/users/agross/Data/TCGA/UCEC_Followup/'\n",
      "survival, timeline = format_survival_from_data_portal(path, cancer.name)\n",
      "clinical.survival = survival\n",
      "clinical.artificially_censor(5)\n",
      "clinical.artificially_censor(8)\n",
      "age = timeline.age\n",
      "old = age > 75\n",
      "old.name = 'old'"
     ],
     "language": "python",
     "metadata": {},
     "outputs": [],
     "prompt_number": 11
    },
    {
     "cell_type": "code",
     "collapsed": false,
     "input": [
      "surv = clinical.survival.survival_8y"
     ],
     "language": "python",
     "metadata": {},
     "outputs": [],
     "prompt_number": 6
    },
    {
     "cell_type": "code",
     "collapsed": false,
     "input": [
      "draw_survival_curves(clinical.clinical.neoplasmhistologicgrade.dropna(), surv, show=True)"
     ],
     "language": "python",
     "metadata": {},
     "outputs": [
      {
       "html": [
        "<img src='data:image/png;base64,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'>"
       ],
       "metadata": {},
       "output_type": "pyout",
       "prompt_number": 7,
       "text": [
        "<Reports.NotebookTools.Show at 0x796f590>"
       ]
      }
     ],
     "prompt_number": 7
    },
    {
     "cell_type": "code",
     "collapsed": false,
     "input": [
      "from Processing.Screen import *"
     ],
     "language": "python",
     "metadata": {},
     "outputs": [],
     "prompt_number": 13
    },
    {
     "cell_type": "code",
     "collapsed": false,
     "input": [
      "def get_patient_set(filters):\n",
      "    f1 = [age >= 100] + list(filters)\n",
      "    filter_df = pd.concat(f1, axis=1)\n",
      "    clinical_filter = filter_df.dropna().sum(1) == 0\n",
      "    keepers_o = true_index(clinical_filter)\n",
      "    #keepers_o = keepers_o.intersection(mut.features.columns).intersection(cn.features.columns)\n",
      "    \n",
      "    f2 = [age >= 85] + list(filters)\n",
      "    filter_df = pd.concat(f2, axis=1)\n",
      "    clinical_filter = filter_df.sum(1) == 0\n",
      "    keepers = true_index(clinical_filter)\n",
      "    #keepers = keepers.intersection(mut.features.columns).intersection(cn.features.columns)\n",
      "    return keepers, keepers_o\n",
      "\n",
      "def get_data(keepers_o, binary_cutoff=12):\n",
      "    rate = mut.df.sum()\n",
      "    mut_df = mut_filter(mut.features.ix[:,keepers_o], rate, binary_cutoff).T\n",
      "    amp_df, del_df = cn_filter(cn.features, binary_cutoff)\n",
      "    rna_df = process_real(rna.features.ix['binary'])\n",
      "    mirna_df = process_real(mirna.features.ix['binary'])\n",
      "    \n",
      "    global_df = pd.concat([global_vars['mutation'], global_vars['cna'], rna.global_vars, \n",
      "                           meth.global_vars, mirna.global_vars], \n",
      "                           keys=['mutation', 'cna', 'rna', 'methylation', 'mirna'], axis=1)\n",
      "    global_df.columns = map(lambda s: '_'.join(s), global_df.columns)\n",
      "    #clinical_df = clinical_processed.select(lambda s: 'age' not in s, 1)\n",
      "    df = pd.concat({#'clinical': clinical_df,\n",
      "                    'global': global_df,\n",
      "                    'mutation': mut_df,\n",
      "                    'deletion': del_df,\n",
      "                    'amplification': amp_df,\n",
      "                    'rna': rna_df,\n",
      "                    'mirna': mirna_df,\n",
      "                    'methylation': meth.pathways.T}, axis=1).T\n",
      "    df = df.ix[:, keepers_o]\n",
      "    return df"
     ],
     "language": "python",
     "metadata": {},
     "outputs": [],
     "prompt_number": 14
    },
    {
     "cell_type": "code",
     "collapsed": false,
     "input": [
      "def test(s, surv, cov_df):\n",
      "    s = s.dropna()\n",
      "    try:\n",
      "        return get_cox_ph_ms(surv, s, cov_df, return_val='LR', interactions='just_feature')\n",
      "    except:\n",
      "        return pd.Series(index=['LR','feature_p', 'fmla', 'hazzard'])\n",
      "\n",
      "\n",
      "def run_screen(filters, cov):\n",
      "    cov_df = pd.concat(cov, axis=1)\n",
      "    keepers, keepers_o = get_patient_set(filters)\n",
      "    cutoff = max(np.floor(len(keepers_o) / 10.), 8)\n",
      "    cutoff = min(cutoff, 15)\n",
      "    df = get_data(keepers_o)\n",
      "    binary = filter_binary(df, cutoff)    \n",
      "\n",
      "    univariate = cox_screen(binary, surv)\n",
      "    vec = univariate.LR.p.sort_index()\n",
      "    univariate['q_bonf'] = vec.groupby(level=0).apply(lambda s: s*len(s)).order()\n",
      "    univariate['q_bh'] = vec.groupby(level=0).apply(bhCorrection).order()\n",
      "    hits = univariate[univariate['q_bh'] < .5].index\n",
      "    \n",
      "    feature_age = df.ix[hits].apply(test, args=(surv, cov_df,), axis=1)\n",
      "    vec = feature_age.LR.ix[univariate.index].sort_index()\n",
      "    feature_age['q_bonf'] = vec.groupby(level=0).apply(lambda s: s*len(s)).order()\n",
      "    feature_age['q_bh'] = vec.groupby(level=0).apply(bhCorrection).order()\n",
      "    feature_age['q_all'] = feature_age['q_bh'] * 6\n",
      "    hits = feature_age[feature_age.q_all < .3].index\n",
      "    try:\n",
      "        pairs, interactions = get_interactions(df.ix[hits], cov_df, \n",
      "                                               surv, test)\n",
      "        res = pd.concat([feature_age, interactions]).sort('LR')\n",
      "    except:\n",
      "        res = feature_age.sort('LR')\n",
      "    return res, feature_age, univariate, keepers_o, df"
     ],
     "language": "python",
     "metadata": {},
     "outputs": [],
     "prompt_number": 15
    },
    {
     "cell_type": "code",
     "collapsed": false,
     "input": [
      "res, feature_age, univariate, keepers_o, df = run_screen([], [age, old])"
     ],
     "language": "python",
     "metadata": {},
     "outputs": [],
     "prompt_number": 16
    },
    {
     "cell_type": "code",
     "collapsed": false,
     "input": [
      "res.head()"
     ],
     "language": "python",
     "metadata": {},
     "outputs": [
      {
       "html": [
        "<div style=\"max-height:1000px;max-width:1500px;overflow:auto;\">\n",
        "<table border=\"1\" class=\"dataframe\">\n",
        "  <thead>\n",
        "    <tr style=\"text-align: right;\">\n",
        "      <th></th>\n",
        "      <th></th>\n",
        "      <th>LR</th>\n",
        "      <th>feature_p</th>\n",
        "      <th>fmla</th>\n",
        "      <th>hazzard</th>\n",
        "      <th>q_all</th>\n",
        "      <th>q_bh</th>\n",
        "      <th>q_bonf</th>\n",
        "    </tr>\n",
        "  </thead>\n",
        "  <tbody>\n",
        "    <tr>\n",
        "      <th>deletion</th>\n",
        "      <th>2q22.1</th>\n",
        "      <td> 4.28e-06</td>\n",
        "      <td> 6.49e-08</td>\n",
        "      <td>               Surv(days, event) ~ feature + old\\n</td>\n",
        "      <td> 5.71</td>\n",
        "      <td> 0.00</td>\n",
        "      <td> 2.10e-04</td>\n",
        "      <td> 2.10e-04</td>\n",
        "    </tr>\n",
        "    <tr>\n",
        "      <th rowspan=\"4\" valign=\"top\">rna</th>\n",
        "      <th>TAS2R38</th>\n",
        "      <td> 1.13e-05</td>\n",
        "      <td> 4.64e-04</td>\n",
        "      <td> Surv(days, event) ~ feature + age + feature:age\\n</td>\n",
        "      <td> 3.67</td>\n",
        "      <td> 0.14</td>\n",
        "      <td> 2.38e-02</td>\n",
        "      <td> 2.38e-02</td>\n",
        "    </tr>\n",
        "    <tr>\n",
        "      <th>EN1</th>\n",
        "      <td> 2.57e-05</td>\n",
        "      <td> 1.15e-04</td>\n",
        "      <td>               Surv(days, event) ~ feature + old\\n</td>\n",
        "      <td> 4.08</td>\n",
        "      <td> 0.16</td>\n",
        "      <td> 2.72e-02</td>\n",
        "      <td> 5.43e-02</td>\n",
        "    </tr>\n",
        "    <tr>\n",
        "      <th>VENTXP1</th>\n",
        "      <td> 5.44e-05</td>\n",
        "      <td> 4.45e-06</td>\n",
        "      <td>               Surv(days, event) ~ feature + old\\n</td>\n",
        "      <td> 4.93</td>\n",
        "      <td> 0.23</td>\n",
        "      <td> 3.83e-02</td>\n",
        "      <td> 1.15e-01</td>\n",
        "    </tr>\n",
        "    <tr>\n",
        "      <th>OR2L2</th>\n",
        "      <td> 1.42e-04</td>\n",
        "      <td> 2.83e-05</td>\n",
        "      <td>               Surv(days, event) ~ feature + old\\n</td>\n",
        "      <td> 4.02</td>\n",
        "      <td> 0.38</td>\n",
        "      <td> 6.39e-02</td>\n",
        "      <td> 2.99e-01</td>\n",
        "    </tr>\n",
        "  </tbody>\n",
        "</table>\n",
        "</div>"
       ],
       "metadata": {},
       "output_type": "pyout",
       "prompt_number": 17,
       "text": [
        "                        LR  feature_p                                               fmla  hazzard  q_all      q_bh    q_bonf\n",
        "deletion 2q22.1   4.28e-06   6.49e-08                Surv(days, event) ~ feature + old\\n     5.71   0.00  2.10e-04  2.10e-04\n",
        "rna      TAS2R38  1.13e-05   4.64e-04  Surv(days, event) ~ feature + age + feature:age\\n     3.67   0.14  2.38e-02  2.38e-02\n",
        "         EN1      2.57e-05   1.15e-04                Surv(days, event) ~ feature + old\\n     4.08   0.16  2.72e-02  5.43e-02\n",
        "         VENTXP1  5.44e-05   4.45e-06                Surv(days, event) ~ feature + old\\n     4.93   0.23  3.83e-02  1.15e-01\n",
        "         OR2L2    1.42e-04   2.83e-05                Surv(days, event) ~ feature + old\\n     4.02   0.38  6.39e-02  2.99e-01"
       ]
      }
     ],
     "prompt_number": 17
    },
    {
     "cell_type": "code",
     "collapsed": false,
     "input": [
      "del_2q = cn.features.ix['Deletion'].ix['2q22.1'].ix[0]"
     ],
     "language": "python",
     "metadata": {},
     "outputs": [],
     "prompt_number": 22
    },
    {
     "cell_type": "code",
     "collapsed": false,
     "input": [
      "get_surv_fit_lr(surv, del_2q)"
     ],
     "language": "python",
     "metadata": {},
     "outputs": [
      {
       "html": [
        "<div style=\"max-height:1000px;max-width:1500px;overflow:auto;\">\n",
        "<table border=\"1\" class=\"dataframe\">\n",
        "  <thead>\n",
        "    <tr>\n",
        "      <th></th>\n",
        "      <th colspan=\"2\" halign=\"left\">Stats</th>\n",
        "      <th colspan=\"3\" halign=\"left\">Median Survival</th>\n",
        "      <th colspan=\"3\" halign=\"left\">5y Survival</th>\n",
        "      <th colspan=\"2\" halign=\"left\">Log-Rank</th>\n",
        "    </tr>\n",
        "    <tr>\n",
        "      <th></th>\n",
        "      <th># Patients</th>\n",
        "      <th># Events</th>\n",
        "      <th>Median</th>\n",
        "      <th>Lower</th>\n",
        "      <th>Upper</th>\n",
        "      <th>Surv</th>\n",
        "      <th>Lower</th>\n",
        "      <th>Upper</th>\n",
        "      <th>chi2</th>\n",
        "      <th>p</th>\n",
        "    </tr>\n",
        "  </thead>\n",
        "  <tbody>\n",
        "    <tr>\n",
        "      <th></th>\n",
        "      <td>    </td>\n",
        "      <td>   </td>\n",
        "      <td>     </td>\n",
        "      <td>     </td>\n",
        "      <td>    </td>\n",
        "      <td>      </td>\n",
        "      <td>      </td>\n",
        "      <td>      </td>\n",
        "      <td> 38.3</td>\n",
        "      <td> 6.21e-10</td>\n",
        "    </tr>\n",
        "    <tr>\n",
        "      <th>0</th>\n",
        "      <td> 420</td>\n",
        "      <td> 39</td>\n",
        "      <td>  NaN</td>\n",
        "      <td>  NaN</td>\n",
        "      <td> NaN</td>\n",
        "      <td> 0.819</td>\n",
        "      <td> 0.761</td>\n",
        "      <td> 0.881</td>\n",
        "      <td>     </td>\n",
        "      <td>         </td>\n",
        "    </tr>\n",
        "    <tr>\n",
        "      <th>-1</th>\n",
        "      <td>  41</td>\n",
        "      <td> 13</td>\n",
        "      <td> 1.83</td>\n",
        "      <td> 1.62</td>\n",
        "      <td> NaN</td>\n",
        "      <td> 0.364</td>\n",
        "      <td> 0.195</td>\n",
        "      <td> 0.679</td>\n",
        "      <td>     </td>\n",
        "      <td>         </td>\n",
        "    </tr>\n",
        "  </tbody>\n",
        "</table>\n",
        "</div>"
       ],
       "metadata": {},
       "output_type": "pyout",
       "prompt_number": 23,
       "text": [
        "        Stats          Median Survival             5y Survival               Log-Rank          \n",
        "   # Patients # Events          Median Lower Upper        Surv  Lower  Upper     chi2         p\n",
        "                                                                                 38.3  6.21e-10\n",
        "0         420       39             NaN   NaN   NaN       0.819  0.761  0.881                   \n",
        "-1         41       13            1.83  1.62   NaN       0.364  0.195  0.679                   "
       ]
      }
     ],
     "prompt_number": 23
    },
    {
     "cell_type": "code",
     "collapsed": false,
     "input": [
      "survival_and_stats(del_2q, surv)"
     ],
     "language": "python",
     "metadata": {},
     "outputs": [
      {
       "metadata": {},
       "output_type": "display_data",
       "png": "[encoded data removed]",
       "text": [
        "<matplotlib.figure.Figure at 0x7ad9450>"
       ]
      }
     ],
     "prompt_number": 24
    },
    {
     "cell_type": "code",
     "collapsed": false,
     "input": [
      "screen_feature(del_2q, kruskal_pandas, rna.pathways).head()"
     ],
     "language": "python",
     "metadata": {},
     "outputs": [
      {
       "html": [
        "<div style=\"max-height:1000px;max-width:1500px;overflow:auto;\">\n",
        "<table border=\"1\" class=\"dataframe\">\n",
        "  <thead>\n",
        "    <tr style=\"text-align: right;\">\n",
        "      <th></th>\n",
        "      <th>H</th>\n",
        "      <th>p</th>\n",
        "      <th>q</th>\n",
        "    </tr>\n",
        "  </thead>\n",
        "  <tbody>\n",
        "    <tr>\n",
        "      <th>SA_G1_AND_S_PHASES</th>\n",
        "      <td> 38.04</td>\n",
        "      <td> 6.92e-10</td>\n",
        "      <td> 5.05e-08</td>\n",
        "    </tr>\n",
        "    <tr>\n",
        "      <th>BIOCARTA_P53_PATHWAY</th>\n",
        "      <td> 35.50</td>\n",
        "      <td> 2.55e-09</td>\n",
        "      <td> 9.32e-08</td>\n",
        "    </tr>\n",
        "    <tr>\n",
        "      <th>REACTOME_NA_CL_DEPENDENT_NEUROTRANSMITTER_TRANSPORTERS</th>\n",
        "      <td> 30.99</td>\n",
        "      <td> 2.60e-08</td>\n",
        "      <td> 6.32e-07</td>\n",
        "    </tr>\n",
        "    <tr>\n",
        "      <th>SA_G2_AND_M_PHASES</th>\n",
        "      <td> 29.18</td>\n",
        "      <td> 6.59e-08</td>\n",
        "      <td> 1.20e-06</td>\n",
        "    </tr>\n",
        "    <tr>\n",
        "      <th>REACTOME_UNWINDING_OF_DNA</th>\n",
        "      <td> 22.19</td>\n",
        "      <td> 2.48e-06</td>\n",
        "      <td> 3.61e-05</td>\n",
        "    </tr>\n",
        "  </tbody>\n",
        "</table>\n",
        "</div>"
       ],
       "metadata": {},
       "output_type": "pyout",
       "prompt_number": 20,
       "text": [
        "                                                            H         p         q\n",
        "SA_G1_AND_S_PHASES                                      38.04  6.92e-10  5.05e-08\n",
        "BIOCARTA_P53_PATHWAY                                    35.50  2.55e-09  9.32e-08\n",
        "REACTOME_NA_CL_DEPENDENT_NEUROTRANSMITTER_TRANSPORTERS  30.99  2.60e-08  6.32e-07\n",
        "SA_G2_AND_M_PHASES                                      29.18  6.59e-08  1.20e-06\n",
        "REACTOME_UNWINDING_OF_DNA                               22.19  2.48e-06  3.61e-05"
       ]
      }
     ],
     "prompt_number": 20
    },
    {
     "cell_type": "code",
     "collapsed": false,
     "input": [
      "screen_feature(del_2q, kruskal_pandas, rppa.df.xs('01',1,1)).head()"
     ],
     "language": "python",
     "metadata": {},
     "outputs": [
      {
       "html": [
        "<div style=\"max-height:1000px;max-width:1500px;overflow:auto;\">\n",
        "<table border=\"1\" class=\"dataframe\">\n",
        "  <thead>\n",
        "    <tr style=\"text-align: right;\">\n",
        "      <th></th>\n",
        "      <th>H</th>\n",
        "      <th>p</th>\n",
        "      <th>q</th>\n",
        "    </tr>\n",
        "  </thead>\n",
        "  <tbody>\n",
        "    <tr>\n",
        "      <th>(PDK1, PDK1_pS241-R-V)</th>\n",
        "      <td> 17.62</td>\n",
        "      <td> 2.69e-05</td>\n",
        "      <td> 0.00</td>\n",
        "    </tr>\n",
        "    <tr>\n",
        "      <th>(CDC2, CDK1-R-V)</th>\n",
        "      <td> 14.97</td>\n",
        "      <td> 1.09e-04</td>\n",
        "      <td> 0.01</td>\n",
        "    </tr>\n",
        "    <tr>\n",
        "      <th>(CHEK2, Chk2_pT68-R-C)</th>\n",
        "      <td> 14.14</td>\n",
        "      <td> 1.70e-04</td>\n",
        "      <td> 0.01</td>\n",
        "    </tr>\n",
        "    <tr>\n",
        "      <th>(CDH1, E-Cadherin-R-V)</th>\n",
        "      <td> 11.12</td>\n",
        "      <td> 8.54e-04</td>\n",
        "      <td> 0.03</td>\n",
        "    </tr>\n",
        "    <tr>\n",
        "      <th>(TP53, p53-R-V)</th>\n",
        "      <td> 11.04</td>\n",
        "      <td> 8.92e-04</td>\n",
        "      <td> 0.03</td>\n",
        "    </tr>\n",
        "  </tbody>\n",
        "</table>\n",
        "</div>"
       ],
       "metadata": {},
       "output_type": "pyout",
       "prompt_number": 27,
       "text": [
        "                            H         p     q\n",
        "(PDK1, PDK1_pS241-R-V)  17.62  2.69e-05  0.00\n",
        "(CDC2, CDK1-R-V)        14.97  1.09e-04  0.01\n",
        "(CHEK2, Chk2_pT68-R-C)  14.14  1.70e-04  0.01\n",
        "(CDH1, E-Cadherin-R-V)  11.12  8.54e-04  0.03\n",
        "(TP53, p53-R-V)         11.04  8.92e-04  0.03"
       ]
      }
     ],
     "prompt_number": 27
    },
    {
     "cell_type": "code",
     "collapsed": false,
     "input": [
      "violin_plot_pandas(del_2q, rppa.df.ix['TP53'].ix[0].ix[:, '01'])"
     ],
     "language": "python",
     "metadata": {},
     "outputs": [
      {
       "metadata": {},
       "output_type": "display_data",
       "png": "[encoded data removed]",
       "text": [
        "<matplotlib.figure.Figure at 0xd24bd10>"
       ]
      }
     ],
     "prompt_number": 30
    },
    {
     "cell_type": "code",
     "collapsed": false,
     "input": [
      "res, feature_age, univariate, keepers_o, df = run_screen([del_2q==-1], [age, old])"
     ],
     "language": "python",
     "metadata": {},
     "outputs": [],
     "prompt_number": 39
    },
    {
     "cell_type": "code",
     "collapsed": false,
     "input": [
      "res.sort('q_all').head()"
     ],
     "language": "python",
     "metadata": {},
     "outputs": [
      {
       "html": [
        "<div style=\"max-height:1000px;max-width:1500px;overflow:auto;\">\n",
        "<table border=\"1\" class=\"dataframe\">\n",
        "  <thead>\n",
        "    <tr style=\"text-align: right;\">\n",
        "      <th></th>\n",
        "      <th></th>\n",
        "      <th>LR</th>\n",
        "      <th>feature_p</th>\n",
        "      <th>fmla</th>\n",
        "      <th>hazzard</th>\n",
        "      <th>q_bonf</th>\n",
        "      <th>q_bh</th>\n",
        "      <th>q_all</th>\n",
        "    </tr>\n",
        "  </thead>\n",
        "  <tbody>\n",
        "    <tr>\n",
        "      <th>rna</th>\n",
        "      <th>PNLIP</th>\n",
        "      <td> 4.09e-05</td>\n",
        "      <td> 9.97e-01</td>\n",
        "      <td> Surv(days, event) ~ feature + old\\n</td>\n",
        "      <td> 3.64e-09</td>\n",
        "      <td> 0.09</td>\n",
        "      <td> 0.09</td>\n",
        "      <td> 0.52</td>\n",
        "    </tr>\n",
        "    <tr>\n",
        "      <th rowspan=\"3\" valign=\"top\">amplification</th>\n",
        "      <th>8q24.21</th>\n",
        "      <td> 7.32e-03</td>\n",
        "      <td> 6.67e-03</td>\n",
        "      <td> Surv(days, event) ~ feature + old\\n</td>\n",
        "      <td> 2.39e+00</td>\n",
        "      <td> 0.34</td>\n",
        "      <td> 0.11</td>\n",
        "      <td> 0.67</td>\n",
        "    </tr>\n",
        "    <tr>\n",
        "      <th>2p23.2</th>\n",
        "      <td> 6.89e-03</td>\n",
        "      <td> 4.51e-03</td>\n",
        "      <td> Surv(days, event) ~ feature + old\\n</td>\n",
        "      <td> 2.56e+00</td>\n",
        "      <td> 0.32</td>\n",
        "      <td> 0.11</td>\n",
        "      <td> 0.67</td>\n",
        "    </tr>\n",
        "    <tr>\n",
        "      <th>7q22.1</th>\n",
        "      <td> 4.83e-03</td>\n",
        "      <td> 2.01e-03</td>\n",
        "      <td> Surv(days, event) ~ feature + old\\n</td>\n",
        "      <td> 3.01e+00</td>\n",
        "      <td> 0.22</td>\n",
        "      <td> 0.11</td>\n",
        "      <td> 0.67</td>\n",
        "    </tr>\n",
        "    <tr>\n",
        "      <th>mirna</th>\n",
        "      <th>hsa-mir-3650</th>\n",
        "      <td> 6.94e-04</td>\n",
        "      <td> 2.87e-05</td>\n",
        "      <td> Surv(days, event) ~ feature + age\\n</td>\n",
        "      <td> 5.94e+00</td>\n",
        "      <td> 0.15</td>\n",
        "      <td> 0.15</td>\n",
        "      <td> 0.89</td>\n",
        "    </tr>\n",
        "  </tbody>\n",
        "</table>\n",
        "</div>"
       ],
       "metadata": {},
       "output_type": "pyout",
       "prompt_number": 40,
       "text": [
        "                                  LR  feature_p                                 fmla   hazzard  q_bonf  q_bh  q_all\n",
        "rna           PNLIP         4.09e-05   9.97e-01  Surv(days, event) ~ feature + old\\n  3.64e-09    0.09  0.09   0.52\n",
        "amplification 8q24.21       7.32e-03   6.67e-03  Surv(days, event) ~ feature + old\\n  2.39e+00    0.34  0.11   0.67\n",
        "              2p23.2        6.89e-03   4.51e-03  Surv(days, event) ~ feature + old\\n  2.56e+00    0.32  0.11   0.67\n",
        "              7q22.1        4.83e-03   2.01e-03  Surv(days, event) ~ feature + old\\n  3.01e+00    0.22  0.11   0.67\n",
        "mirna         hsa-mir-3650  6.94e-04   2.87e-05  Surv(days, event) ~ feature + age\\n  5.94e+00    0.15  0.15   0.89"
       ]
      }
     ],
     "prompt_number": 40
    },
    {
     "cell_type": "code",
     "collapsed": false,
     "input": [
      "survival_and_stats(df.ix['amplification'].ix['8q24.21'], surv)"
     ],
     "language": "python",
     "metadata": {},
     "outputs": [
      {
       "metadata": {},
       "output_type": "display_data",
       "png": "[encoded data removed]",
       "text": [
        "<matplotlib.figure.Figure at 0x75d3e50>"
       ]
      }
     ],
     "prompt_number": 41
    },
    {
     "cell_type": "code",
     "collapsed": false,
     "input": [
      "res, feature_age, univariate, keepers_o, df = run_screen([del_2q==0], [age, old])"
     ],
     "language": "python",
     "metadata": {},
     "outputs": [],
     "prompt_number": 35
    },
    {
     "cell_type": "code",
     "collapsed": false,
     "input": [
      "res.head()"
     ],
     "language": "python",
     "metadata": {},
     "outputs": [
      {
       "html": [
        "<div style=\"max-height:1000px;max-width:1500px;overflow:auto;\">\n",
        "<table border=\"1\" class=\"dataframe\">\n",
        "  <thead>\n",
        "    <tr style=\"text-align: right;\">\n",
        "      <th></th>\n",
        "      <th></th>\n",
        "      <th>LR</th>\n",
        "      <th>feature_p</th>\n",
        "      <th>fmla</th>\n",
        "      <th>hazzard</th>\n",
        "      <th>q_bonf</th>\n",
        "      <th>q_bh</th>\n",
        "      <th>q_all</th>\n",
        "    </tr>\n",
        "  </thead>\n",
        "  <tbody>\n",
        "    <tr>\n",
        "      <th>rna</th>\n",
        "      <th>ZFY</th>\n",
        "      <td> 0.1</td>\n",
        "      <td> 0.01</td>\n",
        "      <td> Surv(days, event) ~ feature\\n</td>\n",
        "      <td> 19.03</td>\n",
        "      <td> 58.46</td>\n",
        "      <td> 1</td>\n",
        "      <td> 6</td>\n",
        "    </tr>\n",
        "  </tbody>\n",
        "</table>\n",
        "</div>"
       ],
       "metadata": {},
       "output_type": "pyout",
       "prompt_number": 36,
       "text": [
        "          LR  feature_p                           fmla  hazzard  q_bonf  q_bh  q_all\n",
        "rna ZFY  0.1       0.01  Surv(days, event) ~ feature\\n    19.03   58.46     1      6"
       ]
      }
     ],
     "prompt_number": 36
    }
   ],
   "metadata": {}
  }
 ]
}