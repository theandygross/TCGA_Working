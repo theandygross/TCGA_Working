{
 "metadata": {
  "name": ""
 },
 "nbformat": 3,
 "nbformat_minor": 0,
 "worksheets": [
  {
   "cells": [
    {
     "cell_type": "markdown",
     "metadata": {},
     "source": [
      "#HNSC Multivariate Screen  \n",
      "\n",
      "This is a screen for survival associated features.  "
     ]
    },
    {
     "cell_type": "code",
     "collapsed": false,
     "input": [
      "cd ../src"
     ],
     "language": "python",
     "metadata": {},
     "outputs": [
      {
       "output_type": "stream",
       "stream": "stdout",
       "text": [
        "/cellar/users/agross/TCGA_Code/TCGA/Pathway_Merge/src\n"
       ]
      }
     ],
     "prompt_number": 1
    },
    {
     "cell_type": "code",
     "collapsed": false,
     "input": [
      "from Processing.Imports import *\n",
      "\n",
      "from Figures.Survival import survival_and_stats"
     ],
     "language": "python",
     "metadata": {},
     "outputs": [],
     "prompt_number": 2
    },
    {
     "cell_type": "markdown",
     "metadata": {},
     "source": [
      "##Read in Data"
     ]
    },
    {
     "cell_type": "code",
     "collapsed": false,
     "input": [
      "run = get_run('/cellar/data/TCGA/Firehose__2013_05_23/', 'Run_all_2')\n",
      "\n",
      "cancer = run.load_cancer('LUSC')\n",
      "clinical = cancer.load_clinical()\n",
      "global_vars = cancer.load_global_vars()\n",
      "\n",
      "mut = cancer.load_data('Mutation')\n",
      "mut.uncompress()\n",
      "meth = cancer.load_data('Methylation')\n",
      "cn = cancer.load_data('CN_broad')\n",
      "cn.uncompress()\n",
      "rna = cancer.load_data('mRNASeq')\n",
      "rppa  = cancer.load_data('RPPA')\n",
      "mirna = cancer.load_data('miRNASeq')\n",
      "age = clinical.clinical.age.astype(float)"
     ],
     "language": "python",
     "metadata": {},
     "outputs": [],
     "prompt_number": 5
    },
    {
     "cell_type": "code",
     "collapsed": false,
     "input": [
      "import Data.ProcessClinical as PC\n",
      "reload(PC)"
     ],
     "language": "python",
     "metadata": {},
     "outputs": [
      {
       "metadata": {},
       "output_type": "pyout",
       "prompt_number": 6,
       "text": [
        "<module 'Data.ProcessClinical' from 'Data/ProcessClinical.pyc'>"
       ]
      }
     ],
     "prompt_number": 6
    },
    {
     "cell_type": "code",
     "collapsed": false,
     "input": [
      "from Data.ProcessClinical import *\n",
      "path  = '/cellar/users/agross/Data/TCGA/LUSC_Followup/'\n",
      "survival, timeline = format_survival_from_data_portal(path, cancer.name)\n",
      "clinical.survival = survival\n",
      "clinical.artificially_censor(5)\n",
      "clinical.artificially_censor(8)\n",
      "age = timeline.age\n",
      "old = age > 75\n",
      "old.name = 'old'"
     ],
     "language": "python",
     "metadata": {},
     "outputs": [],
     "prompt_number": 9
    },
    {
     "cell_type": "code",
     "collapsed": false,
     "input": [
      "surv = clinical.survival.survival_5y"
     ],
     "language": "python",
     "metadata": {},
     "outputs": [],
     "prompt_number": 26
    },
    {
     "cell_type": "code",
     "collapsed": false,
     "input": [
      "stage = clinical.stage.pathologicstage.dropna()\n",
      "stage = stage.map(lambda s: s.replace('a','').replace('b',''))\n",
      "draw_survival_curves(stage, surv, show=True)"
     ],
     "language": "python",
     "metadata": {},
     "outputs": [
      {
       "html": [
        "<img src='data:image/png;base64,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'>"
       ],
       "metadata": {},
       "output_type": "pyout",
       "prompt_number": 44,
       "text": [
        "<Reports.NotebookTools.Show at 0x713e650>"
       ]
      }
     ],
     "prompt_number": 44
    },
    {
     "cell_type": "code",
     "collapsed": false,
     "input": [
      "from Processing.Screen import *"
     ],
     "language": "python",
     "metadata": {},
     "outputs": [],
     "prompt_number": 28
    },
    {
     "cell_type": "code",
     "collapsed": false,
     "input": [
      "def get_patient_set(filters):\n",
      "    f1 = [age >= 100] + list(filters)\n",
      "    filter_df = pd.concat(f1, axis=1)\n",
      "    clinical_filter = filter_df.dropna().sum(1) == 0\n",
      "    keepers_o = true_index(clinical_filter)\n",
      "    #keepers_o = keepers_o.intersection(mut.features.columns).intersection(cn.features.columns)\n",
      "    \n",
      "    f2 = [age >= 85] + list(filters)\n",
      "    filter_df = pd.concat(f2, axis=1)\n",
      "    clinical_filter = filter_df.sum(1) == 0\n",
      "    keepers = true_index(clinical_filter)\n",
      "    #keepers = keepers.intersection(mut.features.columns).intersection(cn.features.columns)\n",
      "    return keepers, keepers_o\n",
      "\n",
      "def get_data(keepers_o, binary_cutoff=12):\n",
      "    rate = mut.df.sum()\n",
      "    mut_df = mut_filter(mut.features.ix[:,keepers_o], rate, binary_cutoff).T\n",
      "    amp_df, del_df = cn_filter(cn.features, binary_cutoff)\n",
      "    rna_df = process_real(rna.features.ix['binary'])\n",
      "    mirna_df = process_real(mirna.features.ix['binary'])\n",
      "    \n",
      "    global_df = pd.concat([global_vars['mutation'], global_vars['cna'], rna.global_vars, \n",
      "                           meth.global_vars, mirna.global_vars], \n",
      "                           keys=['mutation', 'cna', 'rna', 'methylation', 'mirna'], axis=1)\n",
      "    global_df.columns = map(lambda s: '_'.join(s), global_df.columns)\n",
      "    \n",
      "    gg = global_df.ix['global'].T.describe().T\n",
      "    global_df = global_df.ix[true_index(gg.unique > 1)]\n",
      "    #clinical_df = clinical_processed.select(lambda s: 'age' not in s, 1)\n",
      "    df = pd.concat({#'clinical': clinical_df,\n",
      "                    'global': global_df,\n",
      "                    'mutation': mut_df,\n",
      "                    'deletion': del_df,\n",
      "                    'amplification': amp_df,\n",
      "                    'rna': rna_df,\n",
      "                    'mirna': mirna_df,\n",
      "                    'methylation': meth.pathways.T}, axis=1).T\n",
      "    df = df.ix[:, keepers_o]\n",
      "    return df"
     ],
     "language": "python",
     "metadata": {},
     "outputs": [],
     "prompt_number": 79
    },
    {
     "cell_type": "code",
     "collapsed": false,
     "input": [
      "def test(s, surv, cov_df):\n",
      "    s = s.dropna()\n",
      "    try:\n",
      "        return get_cox_ph_ms(surv, s, cov_df, return_val='LR', interactions='just_feature')\n",
      "    except:\n",
      "        return pd.Series(index=['LR','feature_p', 'fmla', 'hazzard'])\n",
      "\n",
      "\n",
      "def run_screen(filters, cov):\n",
      "    cov_df = pd.concat(cov, axis=1)\n",
      "    keepers, keepers_o = get_patient_set(filters)\n",
      "    cutoff = max(np.floor(len(keepers_o) / 10.), 8)\n",
      "    cutoff = min(cutoff, 15)\n",
      "    df = get_data(keepers_o)\n",
      "    binary = filter_binary(df, cutoff)    \n",
      "\n",
      "    univariate = cox_screen(binary, surv)\n",
      "    return  univariate, keepers_o, df \n",
      "    vec = univariate.LR.p.sort_index()\n",
      "    univariate['q_bonf'] = vec.groupby(level=0).apply(lambda s: s*len(s)).order()\n",
      "    univariate['q_bh'] = vec.groupby(level=0).apply(bhCorrection).order()\n",
      "    hits = univariate[univariate['q_bh'] < .5].index\n",
      "    \n",
      "    feature_age = df.ix[hits].apply(test, args=(surv, cov_df,), axis=1)\n",
      "    vec = feature_age.LR.ix[univariate.index].sort_index()\n",
      "    feature_age['q_bonf'] = vec.groupby(level=0).apply(lambda s: s*len(s)).order()\n",
      "    feature_age['q_bh'] = vec.groupby(level=0).apply(bhCorrection).order()\n",
      "    feature_age['q_all'] = feature_age['q_bh'] * 6\n",
      "    hits = feature_age[feature_age.q_all < .3].index\n",
      "    try:\n",
      "        pairs, interactions = get_interactions(df.ix[hits], cov_df, \n",
      "                                               surv, test)\n",
      "        res = pd.concat([feature_age, interactions]).sort('LR')\n",
      "    except:\n",
      "        res = feature_age.sort('LR')\n",
      "    return res, feature_age, univariate, keepers_o, df"
     ],
     "language": "python",
     "metadata": {},
     "outputs": [],
     "prompt_number": 80
    },
    {
     "cell_type": "code",
     "collapsed": false,
     "input": [
      "univariate, keepers_o, df = run_screen([], [age, old])"
     ],
     "language": "python",
     "metadata": {},
     "outputs": [],
     "prompt_number": 33
    },
    {
     "cell_type": "code",
     "collapsed": false,
     "input": [
      "univariate.sort([('LR','p')]).head()"
     ],
     "language": "python",
     "metadata": {},
     "outputs": [
      {
       "html": [
        "<div style=\"max-height:1000px;max-width:1500px;overflow:auto;\">\n",
        "<table border=\"1\" class=\"dataframe\">\n",
        "  <thead>\n",
        "    <tr>\n",
        "      <th></th>\n",
        "      <th></th>\n",
        "      <th colspan=\"4\" halign=\"left\">hazard</th>\n",
        "      <th colspan=\"4\" halign=\"left\">LR</th>\n",
        "      <th colspan=\"2\" halign=\"left\">concordance</th>\n",
        "    </tr>\n",
        "    <tr>\n",
        "      <th></th>\n",
        "      <th></th>\n",
        "      <th>exp(-coef)</th>\n",
        "      <th>exp(coef)</th>\n",
        "      <th>lower .95</th>\n",
        "      <th>upper .95</th>\n",
        "      <th>df</th>\n",
        "      <th>p</th>\n",
        "      <th>stat</th>\n",
        "      <th>q</th>\n",
        "      <th>se</th>\n",
        "      <th>stat</th>\n",
        "    </tr>\n",
        "  </thead>\n",
        "  <tbody>\n",
        "    <tr>\n",
        "      <th rowspan=\"5\" valign=\"top\">rna</th>\n",
        "      <th>KCNH6</th>\n",
        "      <td> 0.50</td>\n",
        "      <td> 2.01</td>\n",
        "      <td> 1.34</td>\n",
        "      <td> 3.01</td>\n",
        "      <td> 1</td>\n",
        "      <td> 6.96e-04</td>\n",
        "      <td> 11.50</td>\n",
        "      <td> 1</td>\n",
        "      <td> 0.03</td>\n",
        "      <td> 0.58</td>\n",
        "    </tr>\n",
        "    <tr>\n",
        "      <th>FAM123C</th>\n",
        "      <td> 3.15</td>\n",
        "      <td> 0.32</td>\n",
        "      <td> 0.14</td>\n",
        "      <td> 0.73</td>\n",
        "      <td> 1</td>\n",
        "      <td> 1.23e-03</td>\n",
        "      <td> 10.44</td>\n",
        "      <td> 1</td>\n",
        "      <td> 0.02</td>\n",
        "      <td> 0.56</td>\n",
        "    </tr>\n",
        "    <tr>\n",
        "      <th>DISC2</th>\n",
        "      <td> 0.51</td>\n",
        "      <td> 1.98</td>\n",
        "      <td> 1.31</td>\n",
        "      <td> 2.98</td>\n",
        "      <td> 1</td>\n",
        "      <td> 1.75e-03</td>\n",
        "      <td>  9.80</td>\n",
        "      <td> 1</td>\n",
        "      <td> 0.02</td>\n",
        "      <td> 0.58</td>\n",
        "    </tr>\n",
        "    <tr>\n",
        "      <th>TRIM53</th>\n",
        "      <td> 2.50</td>\n",
        "      <td> 0.40</td>\n",
        "      <td> 0.21</td>\n",
        "      <td> 0.77</td>\n",
        "      <td> 1</td>\n",
        "      <td> 2.06e-03</td>\n",
        "      <td>  9.50</td>\n",
        "      <td> 1</td>\n",
        "      <td> 0.02</td>\n",
        "      <td> 0.57</td>\n",
        "    </tr>\n",
        "    <tr>\n",
        "      <th>GPR78</th>\n",
        "      <td> 0.51</td>\n",
        "      <td> 1.98</td>\n",
        "      <td> 1.29</td>\n",
        "      <td> 3.03</td>\n",
        "      <td> 1</td>\n",
        "      <td> 2.77e-03</td>\n",
        "      <td>  8.95</td>\n",
        "      <td> 1</td>\n",
        "      <td> 0.02</td>\n",
        "      <td> 0.57</td>\n",
        "    </tr>\n",
        "  </tbody>\n",
        "</table>\n",
        "</div>"
       ],
       "metadata": {},
       "output_type": "pyout",
       "prompt_number": 40,
       "text": [
        "                 hazard                                   LR                      concordance      \n",
        "             exp(-coef)  exp(coef)  lower .95  upper .95  df         p   stat  q           se  stat\n",
        "rna KCNH6          0.50       2.01       1.34       3.01   1  6.96e-04  11.50  1         0.03  0.58\n",
        "    FAM123C        3.15       0.32       0.14       0.73   1  1.23e-03  10.44  1         0.02  0.56\n",
        "    DISC2          0.51       1.98       1.31       2.98   1  1.75e-03   9.80  1         0.02  0.58\n",
        "    TRIM53         2.50       0.40       0.21       0.77   1  2.06e-03   9.50  1         0.02  0.57\n",
        "    GPR78          0.51       1.98       1.29       3.03   1  2.77e-03   8.95  1         0.02  0.57"
       ]
      }
     ],
     "prompt_number": 40
    },
    {
     "cell_type": "code",
     "collapsed": false,
     "input": [],
     "language": "python",
     "metadata": {},
     "outputs": []
    }
   ],
   "metadata": {}
  }
 ]
}