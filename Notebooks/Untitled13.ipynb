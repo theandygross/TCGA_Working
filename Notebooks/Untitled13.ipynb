{
 "metadata": {
  "name": "Untitled13"
 },
 "nbformat": 3,
 "nbformat_minor": 0,
 "worksheets": [
  {
   "cells": [
    {
     "cell_type": "code",
     "collapsed": false,
     "input": [
      "import pandas as pd\n",
      "import string"
     ],
     "language": "python",
     "metadata": {},
     "outputs": [],
     "prompt_number": 5
    },
    {
     "cell_type": "code",
     "collapsed": false,
     "input": [
      "nrow, ncol = (10, 5)"
     ],
     "language": "python",
     "metadata": {},
     "outputs": [],
     "prompt_number": 6
    },
    {
     "cell_type": "code",
     "collapsed": false,
     "input": [
      "df = pd.DataFrame(np.random.randn(nrow, ncol), columns=list(string.uppercase[:ncol]))"
     ],
     "language": "python",
     "metadata": {},
     "outputs": [],
     "prompt_number": 7
    },
    {
     "cell_type": "code",
     "collapsed": false,
     "input": [
      "df"
     ],
     "language": "python",
     "metadata": {},
     "outputs": [
      {
       "html": [
        "<div style=\"max-height:1000px;max-width:1500px;overflow:auto;\">\n",
        "<table border=\"1\" class=\"dataframe\">\n",
        "  <thead>\n",
        "    <tr style=\"text-align: right;\">\n",
        "      <th></th>\n",
        "      <th>A</th>\n",
        "      <th>B</th>\n",
        "      <th>C</th>\n",
        "      <th>D</th>\n",
        "      <th>E</th>\n",
        "    </tr>\n",
        "  </thead>\n",
        "  <tbody>\n",
        "    <tr>\n",
        "      <th>0</th>\n",
        "      <td>-0.819235</td>\n",
        "      <td>-0.189667</td>\n",
        "      <td> 2.432357</td>\n",
        "      <td> 0.584669</td>\n",
        "      <td> 1.905504</td>\n",
        "    </tr>\n",
        "    <tr>\n",
        "      <th>1</th>\n",
        "      <td> 0.027928</td>\n",
        "      <td> 0.482041</td>\n",
        "      <td>-0.302329</td>\n",
        "      <td> 0.135550</td>\n",
        "      <td>-0.274062</td>\n",
        "    </tr>\n",
        "    <tr>\n",
        "      <th>2</th>\n",
        "      <td> 0.366263</td>\n",
        "      <td>-1.501858</td>\n",
        "      <td> 0.212081</td>\n",
        "      <td> 0.382918</td>\n",
        "      <td> 0.486108</td>\n",
        "    </tr>\n",
        "    <tr>\n",
        "      <th>3</th>\n",
        "      <td>-0.937784</td>\n",
        "      <td> 1.007136</td>\n",
        "      <td> 1.432748</td>\n",
        "      <td> 0.612121</td>\n",
        "      <td> 0.729706</td>\n",
        "    </tr>\n",
        "    <tr>\n",
        "      <th>4</th>\n",
        "      <td> 1.182925</td>\n",
        "      <td>-0.062250</td>\n",
        "      <td> 0.359514</td>\n",
        "      <td>-2.111580</td>\n",
        "      <td> 0.619095</td>\n",
        "    </tr>\n",
        "    <tr>\n",
        "      <th>5</th>\n",
        "      <td>-2.171365</td>\n",
        "      <td>-0.212470</td>\n",
        "      <td> 1.489499</td>\n",
        "      <td>-0.636317</td>\n",
        "      <td>-0.600022</td>\n",
        "    </tr>\n",
        "    <tr>\n",
        "      <th>6</th>\n",
        "      <td>-0.552277</td>\n",
        "      <td> 0.174887</td>\n",
        "      <td>-0.526714</td>\n",
        "      <td>-0.331659</td>\n",
        "      <td> 0.840616</td>\n",
        "    </tr>\n",
        "    <tr>\n",
        "      <th>7</th>\n",
        "      <td>-0.153472</td>\n",
        "      <td>-1.837141</td>\n",
        "      <td> 0.724403</td>\n",
        "      <td>-0.551756</td>\n",
        "      <td>-0.335175</td>\n",
        "    </tr>\n",
        "    <tr>\n",
        "      <th>8</th>\n",
        "      <td>-1.366897</td>\n",
        "      <td> 0.222861</td>\n",
        "      <td> 0.830999</td>\n",
        "      <td>-0.785527</td>\n",
        "      <td> 0.080128</td>\n",
        "    </tr>\n",
        "    <tr>\n",
        "      <th>9</th>\n",
        "      <td>-1.804612</td>\n",
        "      <td>-1.316406</td>\n",
        "      <td>-0.253276</td>\n",
        "      <td>-0.371988</td>\n",
        "      <td> 0.213375</td>\n",
        "    </tr>\n",
        "  </tbody>\n",
        "</table>\n",
        "</div>"
       ],
       "output_type": "pyout",
       "prompt_number": 8,
       "text": [
        "          A         B         C         D         E\n",
        "0 -0.819235 -0.189667  2.432357  0.584669  1.905504\n",
        "1  0.027928  0.482041 -0.302329  0.135550 -0.274062\n",
        "2  0.366263 -1.501858  0.212081  0.382918  0.486108\n",
        "3 -0.937784  1.007136  1.432748  0.612121  0.729706\n",
        "4  1.182925 -0.062250  0.359514 -2.111580  0.619095\n",
        "5 -2.171365 -0.212470  1.489499 -0.636317 -0.600022\n",
        "6 -0.552277  0.174887 -0.526714 -0.331659  0.840616\n",
        "7 -0.153472 -1.837141  0.724403 -0.551756 -0.335175\n",
        "8 -1.366897  0.222861  0.830999 -0.785527  0.080128\n",
        "9 -1.804612 -1.316406 -0.253276 -0.371988  0.213375"
       ]
      }
     ],
     "prompt_number": 8
    },
    {
     "cell_type": "code",
     "collapsed": false,
     "input": [
      "pieces = []\n",
      "for i in range(4):\n",
      "    pieces.append(pd.DataFrame(np.random.randn(nrow,ncol), columns=list(string.uppercase[:ncol])))"
     ],
     "language": "python",
     "metadata": {},
     "outputs": [],
     "prompt_number": 12
    },
    {
     "cell_type": "code",
     "collapsed": false,
     "input": [
      "df_concat = pd.concat(pieces, keys=['W','X','Y','Z'], axis=1)"
     ],
     "language": "python",
     "metadata": {},
     "outputs": []
    }
   ],
   "metadata": {}
  }
 ]
}