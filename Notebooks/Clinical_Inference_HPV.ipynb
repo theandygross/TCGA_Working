{
 "metadata": {
  "name": ""
 },
 "nbformat": 3,
 "nbformat_minor": 0,
 "worksheets": [
  {
   "cells": [
    {
     "cell_type": "markdown",
     "metadata": {},
     "source": [
      "#Predicting HPV Status\n",
      "* Setup\n",
      "  * Read in Pre-processed Data\n",
      "  * Update patient followup based on most recent data obtained from TCGA Data-Portal  \n",
      "* Clinical/Molecular HPV Status \n",
      "  * Fill in missing sequencing HPV calls with clincial tests\n",
      "  * Predict remaining missing values with support vector classication \n",
      "* Re-calculation of meta-features in HPV- background "
     ]
    },
    {
     "cell_type": "code",
     "collapsed": false,
     "input": [
      "cd ../src"
     ],
     "language": "python",
     "metadata": {},
     "outputs": [
      {
       "output_type": "stream",
       "stream": "stdout",
       "text": [
        "/cellar/users/agross/TCGA_Code/TCGA/Pathway_Merge/src\n"
       ]
      }
     ],
     "prompt_number": 1
    },
    {
     "cell_type": "code",
     "collapsed": false,
     "input": [
      "import warnings\n",
      "warnings.filterwarnings('ignore')"
     ],
     "language": "python",
     "metadata": {},
     "outputs": [],
     "prompt_number": 2
    },
    {
     "cell_type": "code",
     "collapsed": false,
     "input": [
      "from Processing.Imports import *\n",
      "from Figures.Survival import survival_stat_plot\n",
      "from Stats.Survival import log_rank\n",
      "from Figures.Survival import survival_and_stats"
     ],
     "language": "python",
     "metadata": {},
     "outputs": [],
     "prompt_number": 3
    },
    {
     "cell_type": "markdown",
     "metadata": {},
     "source": [
      "##Read in Pre-processed Data"
     ]
    },
    {
     "cell_type": "code",
     "collapsed": false,
     "input": [
      "run = get_run('/cellar/data/TCGA/Firehose__2013_05_23/', 'Run_all')\n",
      "cancer = run.load_cancer('HNSC')\n",
      "clinical = cancer.load_clinical()\n",
      "global_vars = cancer.load_global_vars()\n",
      "\n",
      "mut = cancer.load_data('Mutation')\n",
      "mut.uncompress()\n",
      "meth = cancer.load_data('Methylation')\n",
      "cn = cancer.load_data('CN_broad')\n",
      "cn.uncompress()\n",
      "rna = cancer.load_data('mRNASeq')\n",
      "rppa  = cancer.load_data('RPPA')\n",
      "mirna = cancer.load_data('miRNASeq')"
     ],
     "language": "python",
     "metadata": {},
     "outputs": [],
     "prompt_number": 4
    },
    {
     "cell_type": "markdown",
     "metadata": {},
     "source": [
      "###Update patient followup based on most recent data obtained from TCGA Data-Portal \n",
      "* Downloaded from [here](https://tcga-data.nci.nih.gov/tcgafiles/ftp_auth/distro_ftpusers/anonymous/tumor/hnsc/bcr/biotab/clin/) \n",
      "* Contains updated followup on patient outcomes"
     ]
    },
    {
     "cell_type": "code",
     "collapsed": false,
     "input": [
      "from Data.ProcessClinical import format_survival_from_data_portal\n",
      "path  = '/cellar/users/agross/Data/TCGA/HNSC_Followup/'\n",
      "survival, timeline = format_survival_from_data_portal(path, cancer.name)\n",
      "clinical.timeline = timeline\n",
      "clinical.survival = survival\n",
      "clinical.artificially_censor(5)\n",
      "age = timeline.age"
     ],
     "language": "python",
     "metadata": {},
     "outputs": [],
     "prompt_number": 25
    },
    {
     "cell_type": "code",
     "collapsed": false,
     "input": [
      "surv = clinical.survival.survival_5y"
     ],
     "language": "python",
     "metadata": {},
     "outputs": [],
     "prompt_number": 6
    },
    {
     "cell_type": "markdown",
     "metadata": {},
     "source": [
      "##Clinical/Molecular HPV Status "
     ]
    },
    {
     "cell_type": "markdown",
     "metadata": {},
     "source": [
      "####This file contains the HPV calls from analysis of the sequencing reads \n",
      "* This was obtained from Neil Hayes in March \n",
      "* This should probably be made public with the TCGA marker paper, if not I need to obtain permission to publish it"
     ]
    },
    {
     "cell_type": "code",
     "collapsed": false,
     "input": [
      "hpv_all = pd.read_csv('/cellar/users/agross/hpv_summary_3_20_13_distribute.csv', index_col=0)\n",
      "hpv = hpv_all.Molecular_HPV.map({0:'HPV-', 1:'HPV+'})\n",
      "hpv.name = 'HPV'"
     ],
     "language": "python",
     "metadata": {},
     "outputs": [],
     "prompt_number": 7
    },
    {
     "cell_type": "markdown",
     "metadata": {},
     "source": [
      "####Here I process the clinical HPV marker tests \n",
      "* If either the p15 or the ish testing is positive I call the patient HPV+ \n",
      "* I first use the molecular testing and then fill in the patient with their clinical biomarkers if they do not have sequencing data available"
     ]
    },
    {
     "cell_type": "code",
     "collapsed": false,
     "input": [
      "clin = pd.read_table(path + 'clinical_patient_hnsc.txt', index_col=0, \n",
      "                     na_values=['[Not Available]','[Not Evaluated]'])\n",
      "status = clin[['hpv_status_by_ish_testing','hpv_status_by_p16_testing']]\n",
      "hpv_clin = (status.dropna(how='all') == 'Positive').sum(1) > 0\n",
      "hpv = hpv.ix[true_index(hpv_clin).union(hpv.index)].fillna('HPV+')\n",
      "\n",
      "neg = (status.dropna(how='all') != 'Positive').sum(1) == 2\n",
      "neg = true_index(combine(neg, hpv.ix[neg.index].isnull()) == 'both')\n",
      "for i in neg:\n",
      "    hpv = hpv.set_value(i, 'HPV-')"
     ],
     "language": "python",
     "metadata": {},
     "outputs": [],
     "prompt_number": 8
    },
    {
     "cell_type": "code",
     "collapsed": false,
     "input": [
      "hpv.value_counts()"
     ],
     "language": "python",
     "metadata": {},
     "outputs": [
      {
       "metadata": {},
       "output_type": "pyout",
       "prompt_number": 9,
       "text": [
        "HPV-    257\n",
        "HPV+     45\n",
        "dtype: int64"
       ]
      }
     ],
     "prompt_number": 9
    },
    {
     "cell_type": "markdown",
     "metadata": {},
     "source": [
      "##Support Vector Inference \n",
      "* Using [SVC](http://scikit-learn.org/stable/modules/generated/sklearn.svm.SVC.html) function from [Scikit Learn Package](http://scikit-learn.org/stable/) \n",
      "* Features are the binarized differential expression vectors  \n",
      "  * Have high change in expression from tumor to normal \n",
      "  * Thresholded at 1 standard deviation over the mean to reduce overfitting\n",
      "* Parameters are fit using cross validation, optimizing for AUC score \n",
      "  * I try linear, RBF, and polynomial kernels under a variety of parameters \n",
      "  * The best model in cross validation is fit on the entire dataset \n",
      "* Missing values are filled in based on the model prediction"
     ]
    },
    {
     "cell_type": "code",
     "collapsed": false,
     "input": [
      "from Stats.Classification import SVC_fill"
     ],
     "language": "python",
     "metadata": {},
     "outputs": [],
     "prompt_number": 10
    },
    {
     "cell_type": "markdown",
     "metadata": {},
     "source": [
      "##HPV \n",
      "* There are 14 patients with expression data but no HPV calls \n",
      "* Here we fit our model to predict the status of those 14 patietns"
     ]
    },
    {
     "cell_type": "code",
     "collapsed": false,
     "input": [
      "ret = SVC_fill(hpv=='HPV+', rna.features.ix['real'])\n",
      "ret['auc']"
     ],
     "language": "python",
     "metadata": {},
     "outputs": [
      {
       "metadata": {},
       "output_type": "pyout",
       "prompt_number": 11,
       "text": [
        "0.97231833910034604"
       ]
      }
     ],
     "prompt_number": 11
    },
    {
     "cell_type": "code",
     "collapsed": false,
     "input": [
      "fun = ret['decision_function']\n",
      "violin_plot_pandas(hpv, fun, ann=None)"
     ],
     "language": "python",
     "metadata": {},
     "outputs": [
      {
       "metadata": {},
       "output_type": "display_data",
       "png": "[encoded data removed]",
       "text": [
        "<matplotlib.figure.Figure at 0x7db1590>"
       ]
      }
     ],
     "prompt_number": 12
    },
    {
     "cell_type": "markdown",
     "metadata": {},
     "source": [
      "* It looks like we have two patient mis-classified as HPV-\n",
      "* CR-6467\n",
      "  * 40 reads mapping to HPV33, and high expression of p16\n",
      "  * WGS is pending, will probably find more reads \n",
      "* BB-4224 \n",
      "  * Only 1 read mapping to HPV from RNA-seq \n",
      "  * Possibly other type of virus?"
     ]
    },
    {
     "cell_type": "code",
     "collapsed": false,
     "input": [
      "m = true_index(combine(hpv.dropna()=='HPV-', ret['decision_function'] > 0) == 'both')\n",
      "hpv_all.ix[m].dropna(how='all', axis=1).T"
     ],
     "language": "python",
     "metadata": {},
     "outputs": [
      {
       "html": [
        "<div style=\"max-height:1000px;max-width:1500px;overflow:auto;\">\n",
        "<table border=\"1\" class=\"dataframe\">\n",
        "  <thead>\n",
        "    <tr style=\"text-align: right;\">\n",
        "      <th></th>\n",
        "      <th>TCGA-BB-4224</th>\n",
        "      <th>TCGA-CR-6467</th>\n",
        "    </tr>\n",
        "  </thead>\n",
        "  <tbody>\n",
        "    <tr>\n",
        "      <th>Tumor_Site</th>\n",
        "      <td> Oral Tongue</td>\n",
        "      <td>            Tonsil</td>\n",
        "    </tr>\n",
        "    <tr>\n",
        "      <th>Clinical_HPVSite_Indicator</th>\n",
        "      <td>           0</td>\n",
        "      <td>                 1</td>\n",
        "    </tr>\n",
        "    <tr>\n",
        "      <th>Clinical_HPV_Interpretation</th>\n",
        "      <td>    negative</td>\n",
        "      <td>           Missing</td>\n",
        "    </tr>\n",
        "    <tr>\n",
        "      <th>Molecular_HPV</th>\n",
        "      <td>           0</td>\n",
        "      <td>                 0</td>\n",
        "    </tr>\n",
        "    <tr>\n",
        "      <th>Clinical_Staining</th>\n",
        "      <td>     Missing</td>\n",
        "      <td>           Missing</td>\n",
        "    </tr>\n",
        "    <tr>\n",
        "      <th>Harvard_HPV.LowPass.Done</th>\n",
        "      <td>           0</td>\n",
        "      <td>               NaN</td>\n",
        "    </tr>\n",
        "    <tr>\n",
        "      <th>WGS_Baylor</th>\n",
        "      <td>         NaN</td>\n",
        "      <td>        1, pending</td>\n",
        "    </tr>\n",
        "    <tr>\n",
        "      <th>Broad.Exome</th>\n",
        "      <td>           0</td>\n",
        "      <td>                 1</td>\n",
        "    </tr>\n",
        "    <tr>\n",
        "      <th>Broad.Exome.HPV16</th>\n",
        "      <td>           0</td>\n",
        "      <td>                 0</td>\n",
        "    </tr>\n",
        "    <tr>\n",
        "      <th>Broad.Exome.HPV33</th>\n",
        "      <td>           0</td>\n",
        "      <td>                40</td>\n",
        "    </tr>\n",
        "    <tr>\n",
        "      <th>Broad.Exome.HPV35</th>\n",
        "      <td>           0</td>\n",
        "      <td>                 0</td>\n",
        "    </tr>\n",
        "    <tr>\n",
        "      <th>RNA_type_16</th>\n",
        "      <td>           1</td>\n",
        "      <td>                 0</td>\n",
        "    </tr>\n",
        "    <tr>\n",
        "      <th>RNA_type_18</th>\n",
        "      <td>           0</td>\n",
        "      <td>                 0</td>\n",
        "    </tr>\n",
        "    <tr>\n",
        "      <th>RNA_type_2</th>\n",
        "      <td>           0</td>\n",
        "      <td>                 0</td>\n",
        "    </tr>\n",
        "    <tr>\n",
        "      <th>RNA_type_33</th>\n",
        "      <td>           0</td>\n",
        "      <td>                 0</td>\n",
        "    </tr>\n",
        "    <tr>\n",
        "      <th>RNA_type_35</th>\n",
        "      <td>           0</td>\n",
        "      <td>                 0</td>\n",
        "    </tr>\n",
        "    <tr>\n",
        "      <th>maxSequencingSource</th>\n",
        "      <td> RNA_type_16</td>\n",
        "      <td> Broad.Exome.HPV33</td>\n",
        "    </tr>\n",
        "    <tr>\n",
        "      <th>maxSequencingCount</th>\n",
        "      <td>           1</td>\n",
        "      <td>                40</td>\n",
        "    </tr>\n",
        "  </tbody>\n",
        "</table>\n",
        "</div>"
       ],
       "metadata": {},
       "output_type": "pyout",
       "prompt_number": 13,
       "text": [
        "                            TCGA-BB-4224       TCGA-CR-6467\n",
        "Tumor_Site                   Oral Tongue             Tonsil\n",
        "Clinical_HPVSite_Indicator             0                  1\n",
        "Clinical_HPV_Interpretation     negative            Missing\n",
        "Molecular_HPV                          0                  0\n",
        "Clinical_Staining                Missing            Missing\n",
        "Harvard_HPV.LowPass.Done               0                NaN\n",
        "WGS_Baylor                           NaN         1, pending\n",
        "Broad.Exome                            0                  1\n",
        "Broad.Exome.HPV16                      0                  0\n",
        "Broad.Exome.HPV33                      0                 40\n",
        "Broad.Exome.HPV35                      0                  0\n",
        "RNA_type_16                            1                  0\n",
        "RNA_type_18                            0                  0\n",
        "RNA_type_2                             0                  0\n",
        "RNA_type_33                            0                  0\n",
        "RNA_type_35                            0                  0\n",
        "maxSequencingSource          RNA_type_16  Broad.Exome.HPV33\n",
        "maxSequencingCount                     1                 40"
       ]
      }
     ],
     "prompt_number": 13
    },
    {
     "cell_type": "markdown",
     "metadata": {},
     "source": [
      "* We have 6 patients that seem to be mis-classified as HPV+ \n",
      "* 5/6 have had sequencing and have viral reads \n",
      "* Could these be viral infected patients with an aggresive disease? "
     ]
    },
    {
     "cell_type": "code",
     "collapsed": false,
     "input": [
      "m = true_index(combine(hpv.dropna()=='HPV+', ret['decision_function'] < 0) == 'both')\n",
      "hpv_all.ix[m].dropna(how='all', axis=1).T"
     ],
     "language": "python",
     "metadata": {},
     "outputs": [
      {
       "html": [
        "<div style=\"max-height:1000px;max-width:1500px;overflow:auto;\">\n",
        "<table border=\"1\" class=\"dataframe\">\n",
        "  <thead>\n",
        "    <tr style=\"text-align: right;\">\n",
        "      <th></th>\n",
        "      <th>TCGA-BA-4077</th>\n",
        "      <th>TCGA-BB-7872</th>\n",
        "      <th>TCGA-CR-7369</th>\n",
        "      <th>TCGA-CV-5971</th>\n",
        "      <th>TCGA-CV-6961</th>\n",
        "      <th>TCGA-CV-7100</th>\n",
        "    </tr>\n",
        "  </thead>\n",
        "  <tbody>\n",
        "    <tr>\n",
        "      <th>Tumor_Site</th>\n",
        "      <td> Base of Tongue</td>\n",
        "      <td> NaN</td>\n",
        "      <td> Oral Cavity</td>\n",
        "      <td> Oral Tongue</td>\n",
        "      <td> Oral Tongue</td>\n",
        "      <td> Oral Cavity</td>\n",
        "    </tr>\n",
        "    <tr>\n",
        "      <th>Clinical_HPVSite_Indicator</th>\n",
        "      <td>              1</td>\n",
        "      <td> NaN</td>\n",
        "      <td>           0</td>\n",
        "      <td>           0</td>\n",
        "      <td>           0</td>\n",
        "      <td>           0</td>\n",
        "    </tr>\n",
        "    <tr>\n",
        "      <th>Clinical_HPV_Interpretation</th>\n",
        "      <td>       positive</td>\n",
        "      <td> NaN</td>\n",
        "      <td>    negative</td>\n",
        "      <td>    negative</td>\n",
        "      <td>    negative</td>\n",
        "      <td>    negative</td>\n",
        "    </tr>\n",
        "    <tr>\n",
        "      <th>Molecular_HPV</th>\n",
        "      <td>              1</td>\n",
        "      <td> NaN</td>\n",
        "      <td>           1</td>\n",
        "      <td>           1</td>\n",
        "      <td>           1</td>\n",
        "      <td>           1</td>\n",
        "    </tr>\n",
        "    <tr>\n",
        "      <th>Clinical_Staining</th>\n",
        "      <td>              1</td>\n",
        "      <td> NaN</td>\n",
        "      <td>     Missing</td>\n",
        "      <td>           1</td>\n",
        "      <td>           1</td>\n",
        "      <td>           1</td>\n",
        "    </tr>\n",
        "    <tr>\n",
        "      <th>p16_OUTSIDE_BCR_Update</th>\n",
        "      <td>              1</td>\n",
        "      <td> NaN</td>\n",
        "      <td>         NaN</td>\n",
        "      <td>           1</td>\n",
        "      <td>           1</td>\n",
        "      <td>           1</td>\n",
        "    </tr>\n",
        "    <tr>\n",
        "      <th>Harvard_HPV.LowPass.Done</th>\n",
        "      <td>              1</td>\n",
        "      <td> NaN</td>\n",
        "      <td>         NaN</td>\n",
        "      <td>           1</td>\n",
        "      <td>         NaN</td>\n",
        "      <td>         NaN</td>\n",
        "    </tr>\n",
        "    <tr>\n",
        "      <th>LowPassHarvard.Strain</th>\n",
        "      <td>          hpv16</td>\n",
        "      <td> NaN</td>\n",
        "      <td>         NaN</td>\n",
        "      <td>       hpv16</td>\n",
        "      <td>         NaN</td>\n",
        "      <td>         NaN</td>\n",
        "    </tr>\n",
        "    <tr>\n",
        "      <th>LowPassHarvard.Call</th>\n",
        "      <td>       definite</td>\n",
        "      <td> NaN</td>\n",
        "      <td>         NaN</td>\n",
        "      <td>    definite</td>\n",
        "      <td>         NaN</td>\n",
        "      <td>         NaN</td>\n",
        "    </tr>\n",
        "    <tr>\n",
        "      <th>WGS_Broad</th>\n",
        "      <td>              1</td>\n",
        "      <td> NaN</td>\n",
        "      <td>         NaN</td>\n",
        "      <td>         NaN</td>\n",
        "      <td>           1</td>\n",
        "      <td>           1</td>\n",
        "    </tr>\n",
        "    <tr>\n",
        "      <th>WGS_HPV16</th>\n",
        "      <td>       1.69e+04</td>\n",
        "      <td> NaN</td>\n",
        "      <td>         NaN</td>\n",
        "      <td>         NaN</td>\n",
        "      <td>    8.81e+03</td>\n",
        "      <td>           0</td>\n",
        "    </tr>\n",
        "    <tr>\n",
        "      <th>WGS_HPV33</th>\n",
        "      <td>              0</td>\n",
        "      <td> NaN</td>\n",
        "      <td>         NaN</td>\n",
        "      <td>         NaN</td>\n",
        "      <td>           0</td>\n",
        "      <td>    2.25e+04</td>\n",
        "    </tr>\n",
        "    <tr>\n",
        "      <th>Broad.Exome</th>\n",
        "      <td>              1</td>\n",
        "      <td> NaN</td>\n",
        "      <td>           0</td>\n",
        "      <td>           1</td>\n",
        "      <td>           1</td>\n",
        "      <td>           1</td>\n",
        "    </tr>\n",
        "    <tr>\n",
        "      <th>Broad.Exome.HPV16</th>\n",
        "      <td>             26</td>\n",
        "      <td> NaN</td>\n",
        "      <td>           0</td>\n",
        "      <td>           3</td>\n",
        "      <td>          13</td>\n",
        "      <td>           0</td>\n",
        "    </tr>\n",
        "    <tr>\n",
        "      <th>Broad.Exome.HPV33</th>\n",
        "      <td>              0</td>\n",
        "      <td> NaN</td>\n",
        "      <td>           0</td>\n",
        "      <td>           0</td>\n",
        "      <td>           0</td>\n",
        "      <td>          64</td>\n",
        "    </tr>\n",
        "    <tr>\n",
        "      <th>Broad.Exome.HPV35</th>\n",
        "      <td>              0</td>\n",
        "      <td> NaN</td>\n",
        "      <td>           0</td>\n",
        "      <td>           0</td>\n",
        "      <td>           0</td>\n",
        "      <td>           0</td>\n",
        "    </tr>\n",
        "    <tr>\n",
        "      <th>RNA_type_16</th>\n",
        "      <td>       1.13e+04</td>\n",
        "      <td> NaN</td>\n",
        "      <td>     6.9e+03</td>\n",
        "      <td>    1.99e+03</td>\n",
        "      <td>    1.45e+04</td>\n",
        "      <td>           0</td>\n",
        "    </tr>\n",
        "    <tr>\n",
        "      <th>RNA_type_18</th>\n",
        "      <td>              0</td>\n",
        "      <td> NaN</td>\n",
        "      <td>           0</td>\n",
        "      <td>           0</td>\n",
        "      <td>           0</td>\n",
        "      <td>           0</td>\n",
        "    </tr>\n",
        "    <tr>\n",
        "      <th>RNA_type_2</th>\n",
        "      <td>              0</td>\n",
        "      <td> NaN</td>\n",
        "      <td>           0</td>\n",
        "      <td>           0</td>\n",
        "      <td>           0</td>\n",
        "      <td>           0</td>\n",
        "    </tr>\n",
        "    <tr>\n",
        "      <th>RNA_type_33</th>\n",
        "      <td>              0</td>\n",
        "      <td> NaN</td>\n",
        "      <td>           0</td>\n",
        "      <td>           0</td>\n",
        "      <td>           0</td>\n",
        "      <td>    1.48e+04</td>\n",
        "    </tr>\n",
        "    <tr>\n",
        "      <th>RNA_type_35</th>\n",
        "      <td>              0</td>\n",
        "      <td> NaN</td>\n",
        "      <td>           0</td>\n",
        "      <td>           0</td>\n",
        "      <td>           0</td>\n",
        "      <td>           0</td>\n",
        "    </tr>\n",
        "    <tr>\n",
        "      <th>maxSequencingSource</th>\n",
        "      <td>      WGS_HPV16</td>\n",
        "      <td> NaN</td>\n",
        "      <td> RNA_type_16</td>\n",
        "      <td> RNA_type_16</td>\n",
        "      <td> RNA_type_16</td>\n",
        "      <td>   WGS_HPV33</td>\n",
        "    </tr>\n",
        "    <tr>\n",
        "      <th>maxSequencingCount</th>\n",
        "      <td>       1.69e+04</td>\n",
        "      <td> NaN</td>\n",
        "      <td>     6.9e+03</td>\n",
        "      <td>    1.99e+03</td>\n",
        "      <td>    1.45e+04</td>\n",
        "      <td>    2.25e+04</td>\n",
        "    </tr>\n",
        "  </tbody>\n",
        "</table>\n",
        "</div>"
       ],
       "metadata": {},
       "output_type": "pyout",
       "prompt_number": 14,
       "text": [
        "                               TCGA-BA-4077 TCGA-BB-7872 TCGA-CR-7369 TCGA-CV-5971 TCGA-CV-6961 TCGA-CV-7100\n",
        "Tumor_Site                   Base of Tongue          NaN  Oral Cavity  Oral Tongue  Oral Tongue  Oral Cavity\n",
        "Clinical_HPVSite_Indicator                1          NaN            0            0            0            0\n",
        "Clinical_HPV_Interpretation        positive          NaN     negative     negative     negative     negative\n",
        "Molecular_HPV                             1          NaN            1            1            1            1\n",
        "Clinical_Staining                         1          NaN      Missing            1            1            1\n",
        "p16_OUTSIDE_BCR_Update                    1          NaN          NaN            1            1            1\n",
        "Harvard_HPV.LowPass.Done                  1          NaN          NaN            1          NaN          NaN\n",
        "LowPassHarvard.Strain                 hpv16          NaN          NaN        hpv16          NaN          NaN\n",
        "LowPassHarvard.Call                definite          NaN          NaN     definite          NaN          NaN\n",
        "WGS_Broad                                 1          NaN          NaN          NaN            1            1\n",
        "WGS_HPV16                          1.69e+04          NaN          NaN          NaN     8.81e+03            0\n",
        "WGS_HPV33                                 0          NaN          NaN          NaN            0     2.25e+04\n",
        "Broad.Exome                               1          NaN            0            1            1            1\n",
        "Broad.Exome.HPV16                        26          NaN            0            3           13            0\n",
        "Broad.Exome.HPV33                         0          NaN            0            0            0           64\n",
        "Broad.Exome.HPV35                         0          NaN            0            0            0            0\n",
        "RNA_type_16                        1.13e+04          NaN      6.9e+03     1.99e+03     1.45e+04            0\n",
        "RNA_type_18                               0          NaN            0            0            0            0\n",
        "RNA_type_2                                0          NaN            0            0            0            0\n",
        "RNA_type_33                               0          NaN            0            0            0     1.48e+04\n",
        "RNA_type_35                               0          NaN            0            0            0            0\n",
        "maxSequencingSource               WGS_HPV16          NaN  RNA_type_16  RNA_type_16  RNA_type_16    WGS_HPV33\n",
        "maxSequencingCount                 1.69e+04          NaN      6.9e+03     1.99e+03     1.45e+04     2.25e+04"
       ]
      }
     ],
     "prompt_number": 14
    },
    {
     "cell_type": "markdown",
     "metadata": {},
     "source": [
      "* These mis-classifications seem to behave more like the expression classifier than the Clinical/Sequencing classifier.  \n",
      "* We really can't say whether this is due to diffences among HPV infected cancers, or if its just due to mis-classification"
     ]
    },
    {
     "cell_type": "code",
     "collapsed": false,
     "input": [
      "survival_and_stats(combine(hpv.dropna()=='HPV+', ret['decision_function'] > 0), surv)"
     ],
     "language": "python",
     "metadata": {},
     "outputs": [
      {
       "metadata": {},
       "output_type": "display_data",
       "png": "[encoded data removed]",
       "text": [
        "<matplotlib.figure.Figure at 0xb620750>"
       ]
      }
     ],
     "prompt_number": 17
    },
    {
     "cell_type": "markdown",
     "metadata": {},
     "source": [
      "* For now, we'll use the Clinical/Sequencing calls and only infer HPV calls with no data"
     ]
    },
    {
     "cell_type": "code",
     "collapsed": false,
     "input": [
      "hpv_inferred = ret['filled_feature']\n",
      "hpv_inferred = (hpv_inferred == 1).combine_first(hpv=='HPV+')"
     ],
     "language": "python",
     "metadata": {},
     "outputs": [],
     "prompt_number": 18
    },
    {
     "cell_type": "code",
     "collapsed": false,
     "input": [
      "get_surv_fit_lr(surv, hpv_inferred)"
     ],
     "language": "python",
     "metadata": {},
     "outputs": [
      {
       "html": [
        "<div style=\"max-height:1000px;max-width:1500px;overflow:auto;\">\n",
        "<table border=\"1\" class=\"dataframe\">\n",
        "  <thead>\n",
        "    <tr>\n",
        "      <th></th>\n",
        "      <th colspan=\"2\" halign=\"left\">Stats</th>\n",
        "      <th colspan=\"3\" halign=\"left\">Median Survival</th>\n",
        "      <th colspan=\"3\" halign=\"left\">5y Survival</th>\n",
        "      <th colspan=\"2\" halign=\"left\">Log-Rank</th>\n",
        "    </tr>\n",
        "    <tr>\n",
        "      <th></th>\n",
        "      <th># Patients</th>\n",
        "      <th># Events</th>\n",
        "      <th>Median</th>\n",
        "      <th>Lower</th>\n",
        "      <th>Upper</th>\n",
        "      <th>Surv</th>\n",
        "      <th>Lower</th>\n",
        "      <th>Upper</th>\n",
        "      <th>chi2</th>\n",
        "      <th>p</th>\n",
        "    </tr>\n",
        "  </thead>\n",
        "  <tbody>\n",
        "    <tr>\n",
        "      <th></th>\n",
        "      <td>    </td>\n",
        "      <td>    </td>\n",
        "      <td>     </td>\n",
        "      <td>     </td>\n",
        "      <td>     </td>\n",
        "      <td>      </td>\n",
        "      <td>      </td>\n",
        "      <td>      </td>\n",
        "      <td> 11.1</td>\n",
        "      <td> 0.000853</td>\n",
        "    </tr>\n",
        "    <tr>\n",
        "      <th>0</th>\n",
        "      <td> 268</td>\n",
        "      <td> 111</td>\n",
        "      <td> 2.58</td>\n",
        "      <td>  1.9</td>\n",
        "      <td> 4.58</td>\n",
        "      <td> 0.399</td>\n",
        "      <td> 0.321</td>\n",
        "      <td> 0.494</td>\n",
        "      <td>     </td>\n",
        "      <td>         </td>\n",
        "    </tr>\n",
        "    <tr>\n",
        "      <th>1</th>\n",
        "      <td>  48</td>\n",
        "      <td>   8</td>\n",
        "      <td>  NaN</td>\n",
        "      <td> 4.79</td>\n",
        "      <td>  NaN</td>\n",
        "      <td> 0.501</td>\n",
        "      <td>  0.27</td>\n",
        "      <td>  0.93</td>\n",
        "      <td>     </td>\n",
        "      <td>         </td>\n",
        "    </tr>\n",
        "  </tbody>\n",
        "</table>\n",
        "</div>"
       ],
       "metadata": {},
       "output_type": "pyout",
       "prompt_number": 19,
       "text": [
        "       Stats          Median Survival             5y Survival               Log-Rank          \n",
        "  # Patients # Events          Median Lower Upper        Surv  Lower  Upper     chi2         p\n",
        "                                                                                11.1  0.000853\n",
        "0        268      111            2.58   1.9  4.58       0.399  0.321  0.494                   \n",
        "1         48        8             NaN  4.79   NaN       0.501   0.27   0.93                   "
       ]
      }
     ],
     "prompt_number": 19
    },
    {
     "cell_type": "code",
     "collapsed": false,
     "input": [
      "survival_and_stats(hpv_inferred, surv)"
     ],
     "language": "python",
     "metadata": {},
     "outputs": [
      {
       "metadata": {},
       "output_type": "display_data",
       "png": "[encoded data removed]",
       "text": [
        "<matplotlib.figure.Figure at 0x7d4dad0>"
       ]
      }
     ],
     "prompt_number": 20
    },
    {
     "cell_type": "markdown",
     "metadata": {},
     "source": [
      "##Create and save new phenotype data objects \n",
      "* These contain meta-features that are sensative to the background patient set (I.E. side effects)\n",
      "* The mutation and copy number data-sets don't need to be regenerated \n",
      "* These are saved in a seperate directory"
     ]
    },
    {
     "cell_type": "markdown",
     "metadata": {},
     "source": [
      "<h4 style='color:red'>Note updated survival is saved as well as adding inferred HPV status</h4>"
     ]
    },
    {
     "cell_type": "code",
     "collapsed": false,
     "input": [
      "clinical.processed = pd.DataFrame({'hpv_inferred': hpv_inferred,\n",
      "                                   'hpv': hpv})\n",
      "clinical.save()  #I keep the same object as there are no side effects"
     ],
     "language": "python",
     "metadata": {},
     "outputs": [],
     "prompt_number": 28
    },
    {
     "cell_type": "code",
     "collapsed": false,
     "input": [
      "keepers_o = true_index(hpv_inferred)"
     ],
     "language": "python",
     "metadata": {},
     "outputs": [],
     "prompt_number": 22
    },
    {
     "cell_type": "code",
     "collapsed": false,
     "input": [
      "from Initialization.InitializeReal import RealDataset\n",
      "from Processing.Helpers import make_path_dump\n",
      "rna = RealDataset(run, cancer, 'mRNASeq', keepers_o)\n",
      "meth = RealDataset(run, cancer, 'Methylation', keepers_o)\n",
      "mirna = RealDataset(run, cancer, 'miRNASeq', keepers_o, create_meta_features=False)\n",
      "\n",
      "make_path_dump(rna, rna.path + '/store/no_hpv.p')\n",
      "make_path_dump(meth, meth.path + '/store/no_hpv.p')\n",
      "make_path_dump(mirna, mirna.path + '/store/no_hpv.p')"
     ],
     "language": "python",
     "metadata": {},
     "outputs": [],
     "prompt_number": 23
    }
   ],
   "metadata": {}
  }
 ]
}