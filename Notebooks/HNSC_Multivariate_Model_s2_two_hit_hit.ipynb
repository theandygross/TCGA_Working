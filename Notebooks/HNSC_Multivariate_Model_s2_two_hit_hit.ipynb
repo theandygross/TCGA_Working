{
 "metadata": {
  "name": "HNSC_Multivariate_Model_s2_two_hit_hit"
 },
 "nbformat": 3,
 "nbformat_minor": 0,
 "worksheets": [
  {
   "cells": [
    {
     "cell_type": "markdown",
     "metadata": {},
     "source": [
      "#HNSC Multivariate Screen  \n",
      "\n",
      "This is a screen for survival associated features.  "
     ]
    },
    {
     "cell_type": "code",
     "collapsed": false,
     "input": [
      "cd ../src"
     ],
     "language": "python",
     "metadata": {},
     "outputs": [
      {
       "output_type": "stream",
       "stream": "stdout",
       "text": [
        "/cellar/users/agross/TCGA_Code/TCGA/Pathway_Merge/src\n"
       ]
      }
     ],
     "prompt_number": 1
    },
    {
     "cell_type": "code",
     "collapsed": false,
     "input": [
      "from Processing.Imports import *"
     ],
     "language": "python",
     "metadata": {},
     "outputs": [],
     "prompt_number": 2
    },
    {
     "cell_type": "markdown",
     "metadata": {},
     "source": [
      "##Read in Data"
     ]
    },
    {
     "cell_type": "code",
     "collapsed": false,
     "input": [
      "run = get_run('/cellar/data/TCGA/Firehose__2013_04_21/', 'Run_all')\n",
      "\n",
      "cancer = run.load_cancer('HNSC')\n",
      "clinical = cancer.load_clinical()\n",
      "global_vars = cancer.load_global_vars()\n",
      "\n",
      "mut = cancer.load_data('Mutation')\n",
      "mut.uncompress()\n",
      "meth = cancer.load_data('Methylation')\n",
      "cn = cancer.load_data('CN_broad')\n",
      "cn.uncompress()\n",
      "rna = cancer.load_data('mRNASeq')\n",
      "rppa  = cancer.load_data('RPPA')\n",
      "mirna = cancer.load_data('miRNASeq')\n",
      "age = clinical.clinical.age.astype(float)\n",
      "\n",
      "hpv_all = pd.read_csv('/cellar/users/agross/hpv_summary_3_20_13_distribute.csv', index_col=0)\n",
      "hpv = hpv_all.Molecular_HPV.map({0:'HPV-', 1:'HPV+'})\n",
      "hpv.name = 'HPV'"
     ],
     "language": "python",
     "metadata": {},
     "outputs": [],
     "prompt_number": 3
    },
    {
     "cell_type": "code",
     "collapsed": false,
     "input": [
      "from Data.ProcessClinical import format_survival_from_data_portal\n",
      "path  = '/cellar/users/agross/Data/TCGA/HNSC_Followup/'\n",
      "survival, timeline = format_survival_from_data_portal(path, cancer.name)\n",
      "clinical.survival = survival\n",
      "clinical.artificially_censor(5)\n",
      "age = timeline.age"
     ],
     "language": "python",
     "metadata": {},
     "outputs": [],
     "prompt_number": 4
    },
    {
     "cell_type": "markdown",
     "metadata": {},
     "source": [
      "##Clinical Features"
     ]
    },
    {
     "cell_type": "code",
     "collapsed": false,
     "input": [
      "clinical_processed = pd.read_csv(cancer.path + '/Clinical/clinical_processed.csv', index_col=0)\n",
      "hpv_inferred = clinical_processed.hpv_inferred"
     ],
     "language": "python",
     "metadata": {},
     "outputs": [],
     "prompt_number": 5
    },
    {
     "cell_type": "code",
     "collapsed": false,
     "input": [
      "combo = combine(cn.df.ix['Deletion'].ix['3p14.2'].ix[0]<0, mut.features.ix['TP53'])\n",
      "two_hit = 1.*(combo == 'both')"
     ],
     "language": "python",
     "metadata": {},
     "outputs": [],
     "prompt_number": 8
    },
    {
     "cell_type": "code",
     "collapsed": false,
     "input": [
      "filters = pd.concat([age>=100, hpv_inferred==1, two_hit==0], axis=1)\n",
      "clinical_filter = filters.sum(1) == 0\n",
      "keepers = true_index(clinical_filter)\n",
      "\n",
      "filters = pd.concat([age>=85, hpv_inferred==1, two_hit==0], axis=1)\n",
      "clinical_filter = filters.sum(1) == 0\n",
      "keepers = true_index(clinical_filter)"
     ],
     "language": "python",
     "metadata": {},
     "outputs": [],
     "prompt_number": 9
    },
    {
     "cell_type": "code",
     "collapsed": false,
     "input": [
      "surv = clinical.survival.survival_5y\n",
      "old = pd.Series(1.*(age>=75), name='old')"
     ],
     "language": "python",
     "metadata": {},
     "outputs": [],
     "prompt_number": 10
    },
    {
     "cell_type": "markdown",
     "metadata": {},
     "source": [
      "####Form expression and methylation features without HPV  \n",
      "* HPV has a big influence on expression, here I am creating a second set of features without HPV\n",
      "* I use this sparingly but it helps to tease out wheter an association is due to a underlying relationship with HPV"
     ]
    },
    {
     "cell_type": "code",
     "collapsed": false,
     "input": [
      "from Stats.Survival import cox\n",
      "\n",
      "rev_kruskal = lambda a,b: kruskal_pandas(b,a)\n",
      "def fc(hit_vec, response_vec):\n",
      "    f = response_vec.groupby(hit_vec).median()\n",
      "    return f[0] > f[1]\n",
      "\n",
      "def mut_filter(df, rate):\n",
      "    df = df[df.sum(1) >= 10]\n",
      "    cc = screen_feature(rate, rev_kruskal, df)\n",
      "    \n",
      "    fc_apply = lambda s: fc(s, rate)\n",
      "    direction = df.apply(fc_apply, axis=1)\n",
      "    direction.name = 'direction'\n",
      "    \n",
      "    cc = cc.join(direction)\n",
      "    cc = cc[cc.direction==False]\n",
      "    \n",
      "    df = df.ix[((cc.p>.00001) + (df.sum(1).isin(range(10, df.shape[1] / 3)))) > 0]\n",
      "    df = df.dropna(axis=1)\n",
      "    return df\n",
      "\n",
      "def cox_screen(df, surv, axis=1):\n",
      "    rr = df.apply(lambda s: cox(s.dropna(), surv), axis=axis)\n",
      "    if axis==0:\n",
      "        rr = rr.T\n",
      "    rr['q'] = bhCorrection(rr.p)\n",
      "    rr = rr.sort('p')\n",
      "    return rr"
     ],
     "language": "python",
     "metadata": {},
     "outputs": [],
     "prompt_number": 11
    },
    {
     "cell_type": "code",
     "collapsed": true,
     "input": [
      "try:\n",
      "    rna = pickle.load(open(cancer.path + '/mRNASeq/store/no_hpv.p', 'rb'))\n",
      "    meth = pickle.load(open(cancer.path + '/Methylation/store/no_hpv.p', 'rb'))\n",
      "    mirna = pickle.load(open(cancer.path + '/miRNASeq/store/no_hpv.p', 'rb'))\n",
      "except:\n",
      "    from Initialization.InitializeReal import RealDataset\n",
      "    from Processing.Helpers import make_path_dump\n",
      "    rna = RealDataset(run, cancer, 'mRNASeq', keepers_o)\n",
      "    meth = RealDataset(run, cancer, 'Methylation', keepers_o)\n",
      "    mirna = RealDataset(run, cancer, 'miRNASeq', keepers_o, create_meta_features=False)\n",
      "    \n",
      "    make_path_dump(rna, rna.path + '/store/no_hpv.p')\n",
      "    make_path_dump(meth, meth.path + '/store/no_hpv.p')\n",
      "    make_path_dump(mirna, mirna.path + '/store/no_hpv.p')"
     ],
     "language": "python",
     "metadata": {},
     "outputs": [],
     "prompt_number": 12
    },
    {
     "cell_type": "code",
     "collapsed": false,
     "input": [
      "mut_df = mut_filter(mut.features.ix[:,keepers_o], mut.df.sum()).T\n",
      "\n",
      "del_df = (cn.features.ix['Deletion', keepers_o].dropna(1) < 0).astype(int)\n",
      "del_df = del_df[del_df.sum(1) > 10]\n",
      "del_df.index = del_df.index.droplevel(1)\n",
      "del_df = del_df.T\n",
      "amp_df = (cn.features.ix['Amplification', keepers_o].dropna(1) > 0).astype(int)\n",
      "amp_df = amp_df[amp_df.sum(1) > 10]\n",
      "amp_df.index = amp_df.index.droplevel(1)\n",
      "amp_df = amp_df.T\n",
      "\n",
      "global_df = pd.concat([global_vars['mutation'], global_vars['cna'], rna.global_vars, \n",
      "                       meth.global_vars, mirna.global_vars], \n",
      "                keys=['mutation', 'cna', 'rna', 'methylation', 'mirna'], axis=1)\n",
      "global_df.columns = map(lambda s: '_'.join(s), global_df.columns)\n",
      "\n",
      "mirna_df = mirna.features.copy()\n",
      "mirna_df.index = map(lambda s: '_'.join(s), mirna_df.index)\n",
      "mirna_df = mirna_df.T\n",
      "\n",
      "clinical_df = clinical_processed.select(lambda s: 'hpv' not in s, 1)"
     ],
     "language": "python",
     "metadata": {},
     "outputs": [],
     "prompt_number": 13
    },
    {
     "cell_type": "code",
     "collapsed": false,
     "input": [
      "data_sets = {'clinical': clinical_df,\n",
      "             'global': global_df,\n",
      "             'mutation': mut_df,\n",
      "             'deletion': del_df,\n",
      "             'amplification': amp_df,\n",
      "             'rna': rna.pathways.T,\n",
      "             'mirna': mirna_df,\n",
      "             'methylation': meth.pathways.T}"
     ],
     "language": "python",
     "metadata": {},
     "outputs": [],
     "prompt_number": 14
    },
    {
     "cell_type": "code",
     "collapsed": false,
     "input": [
      "univariate = pd.concat({d: cox_screen(df.ix[keepers], surv, 0) for d,df in data_sets.iteritems()})"
     ],
     "language": "python",
     "metadata": {},
     "outputs": [],
     "prompt_number": 15
    },
    {
     "cell_type": "code",
     "collapsed": false,
     "input": [
      "univariate.sort('q').head()"
     ],
     "language": "python",
     "metadata": {},
     "outputs": [
      {
       "html": [
        "<div style=\"max-height:1000px;max-width:1500px;overflow:auto;\">\n",
        "<table border=\"1\" class=\"dataframe\">\n",
        "  <thead>\n",
        "    <tr style=\"text-align: right;\">\n",
        "      <th></th>\n",
        "      <th></th>\n",
        "      <th>LR</th>\n",
        "      <th>p</th>\n",
        "      <th>q</th>\n",
        "    </tr>\n",
        "  </thead>\n",
        "  <tbody>\n",
        "    <tr>\n",
        "      <th>clinical</th>\n",
        "      <th>year</th>\n",
        "      <td> 16.58</td>\n",
        "      <td> 4.67e-05</td>\n",
        "      <td> 7.48e-04</td>\n",
        "    </tr>\n",
        "    <tr>\n",
        "      <th>mutation</th>\n",
        "      <th>MUC5B</th>\n",
        "      <td> 23.01</td>\n",
        "      <td> 1.61e-06</td>\n",
        "      <td> 1.35e-03</td>\n",
        "    </tr>\n",
        "    <tr>\n",
        "      <th>mirna</th>\n",
        "      <th>real_hsa-mir-135a-2</th>\n",
        "      <td> 17.84</td>\n",
        "      <td> 2.41e-05</td>\n",
        "      <td> 6.78e-03</td>\n",
        "    </tr>\n",
        "    <tr>\n",
        "      <th rowspan=\"2\" valign=\"top\">clinical</th>\n",
        "      <th>spread_inferred</th>\n",
        "      <td>  7.98</td>\n",
        "      <td> 4.72e-03</td>\n",
        "      <td> 1.51e-02</td>\n",
        "    </tr>\n",
        "    <tr>\n",
        "      <th>smoker_inferred</th>\n",
        "      <td>  8.17</td>\n",
        "      <td> 4.26e-03</td>\n",
        "      <td> 1.51e-02</td>\n",
        "    </tr>\n",
        "  </tbody>\n",
        "</table>\n",
        "</div>"
       ],
       "output_type": "pyout",
       "prompt_number": 16,
       "text": [
        "                                 LR         p         q\n",
        "clinical year                 16.58  4.67e-05  7.48e-04\n",
        "mutation MUC5B                23.01  1.61e-06  1.35e-03\n",
        "mirna    real_hsa-mir-135a-2  17.84  2.41e-05  6.78e-03\n",
        "clinical spread_inferred       7.98  4.72e-03  1.51e-02\n",
        "         smoker_inferred       8.17  4.26e-03  1.51e-02"
       ]
      }
     ],
     "prompt_number": 16
    },
    {
     "cell_type": "code",
     "collapsed": false,
     "input": [
      "hits = univariate[univariate.q < .3].index"
     ],
     "language": "python",
     "metadata": {},
     "outputs": [],
     "prompt_number": 17
    },
    {
     "cell_type": "code",
     "collapsed": false,
     "input": [
      "cov_df = pd.concat([age, old], axis=1)\n",
      "def test(s):\n",
      "    s = s.dropna()\n",
      "    try:\n",
      "        s = s.astype(float)\n",
      "    except:\n",
      "        pass\n",
      "    return get_cox_ph_ms(surv, s, cov_df, return_val='LR', interactions=False);"
     ],
     "language": "python",
     "metadata": {},
     "outputs": [],
     "prompt_number": 18
    },
    {
     "cell_type": "code",
     "collapsed": false,
     "input": [
      "df = pd.concat(data_sets, 1).T.ix[hits, keepers_o]\n",
      "feature_age = df.apply(test, 1)"
     ],
     "language": "python",
     "metadata": {},
     "outputs": [],
     "prompt_number": 19
    },
    {
     "cell_type": "code",
     "collapsed": false,
     "input": [
      "feature_age.ix['mutation']"
     ],
     "language": "python",
     "metadata": {},
     "outputs": [
      {
       "html": [
        "<div style=\"max-height:1000px;max-width:1500px;overflow:auto;\">\n",
        "<table border=\"1\" class=\"dataframe\">\n",
        "  <thead>\n",
        "    <tr style=\"text-align: right;\">\n",
        "      <th></th>\n",
        "      <th>LR</th>\n",
        "      <th>feature_p</th>\n",
        "      <th>fmla</th>\n",
        "      <th>hazzard</th>\n",
        "    </tr>\n",
        "  </thead>\n",
        "  <tbody>\n",
        "    <tr>\n",
        "      <th>MUC5B</th>\n",
        "      <td> 4.45e-04</td>\n",
        "      <td> 6.53e-05</td>\n",
        "      <td> Surv(days, event) ~ feature + old\\n</td>\n",
        "      <td> 3.1</td>\n",
        "    </tr>\n",
        "  </tbody>\n",
        "</table>\n",
        "</div>"
       ],
       "output_type": "pyout",
       "prompt_number": 22,
       "text": [
        "             LR  feature_p                                 fmla  hazzard\n",
        "MUC5B  4.45e-04   6.53e-05  Surv(days, event) ~ feature + old\\n      3.1"
       ]
      }
     ],
     "prompt_number": 22
    },
    {
     "cell_type": "code",
     "collapsed": false,
     "input": [
      "feature_age.sort('LR').head()"
     ],
     "language": "python",
     "metadata": {},
     "outputs": [
      {
       "html": [
        "<div style=\"max-height:1000px;max-width:1500px;overflow:auto;\">\n",
        "<table border=\"1\" class=\"dataframe\">\n",
        "  <thead>\n",
        "    <tr style=\"text-align: right;\">\n",
        "      <th></th>\n",
        "      <th></th>\n",
        "      <th>LR</th>\n",
        "      <th>feature_p</th>\n",
        "      <th>fmla</th>\n",
        "      <th>hazzard</th>\n",
        "    </tr>\n",
        "  </thead>\n",
        "  <tbody>\n",
        "    <tr>\n",
        "      <th>mirna</th>\n",
        "      <th>binary_hsa-mir-3170</th>\n",
        "      <td> 7.87e-06</td>\n",
        "      <td> 1.37e-05</td>\n",
        "      <td> Surv(days, event) ~ feature + old\\n</td>\n",
        "      <td> 2.37</td>\n",
        "    </tr>\n",
        "    <tr>\n",
        "      <th rowspan=\"2\" valign=\"top\">rna</th>\n",
        "      <th>BIOCARTA_BARRESTIN_SRC_PATHWAY</th>\n",
        "      <td> 1.45e-05</td>\n",
        "      <td> 2.94e-05</td>\n",
        "      <td> Surv(days, event) ~ feature + old\\n</td>\n",
        "      <td> 1.56</td>\n",
        "    </tr>\n",
        "    <tr>\n",
        "      <th>BIOCARTA_BARR_MAPK_PATHWAY</th>\n",
        "      <td> 1.99e-05</td>\n",
        "      <td> 3.40e-05</td>\n",
        "      <td> Surv(days, event) ~ feature + old\\n</td>\n",
        "      <td> 0.65</td>\n",
        "    </tr>\n",
        "    <tr>\n",
        "      <th>clinical</th>\n",
        "      <th>year</th>\n",
        "      <td> 2.16e-05</td>\n",
        "      <td> 1.40e-05</td>\n",
        "      <td> Surv(days, event) ~ feature + old\\n</td>\n",
        "      <td> 0.93</td>\n",
        "    </tr>\n",
        "    <tr>\n",
        "      <th>rna</th>\n",
        "      <th>REACTOME_INACTIVATION_OF_APC_VIA_DIRECT_INHIBITION_OF_THE_APCOMPLEX</th>\n",
        "      <td> 5.29e-05</td>\n",
        "      <td> 6.83e-05</td>\n",
        "      <td> Surv(days, event) ~ feature + old\\n</td>\n",
        "      <td> 1.52</td>\n",
        "    </tr>\n",
        "  </tbody>\n",
        "</table>\n",
        "</div>"
       ],
       "output_type": "pyout",
       "prompt_number": 24,
       "text": [
        "                                                                                    LR  feature_p                                 fmla  hazzard\n",
        "mirna    binary_hsa-mir-3170                                                  7.87e-06   1.37e-05  Surv(days, event) ~ feature + old\\n     2.37\n",
        "rna      BIOCARTA_BARRESTIN_SRC_PATHWAY                                       1.45e-05   2.94e-05  Surv(days, event) ~ feature + old\\n     1.56\n",
        "         BIOCARTA_BARR_MAPK_PATHWAY                                           1.99e-05   3.40e-05  Surv(days, event) ~ feature + old\\n     0.65\n",
        "clinical year                                                                 2.16e-05   1.40e-05  Surv(days, event) ~ feature + old\\n     0.93\n",
        "rna      REACTOME_INACTIVATION_OF_APC_VIA_DIRECT_INHIBITION_OF_THE_APCOMPLEX  5.29e-05   6.83e-05  Surv(days, event) ~ feature + old\\n     1.52"
       ]
      }
     ],
     "prompt_number": 24
    }
   ],
   "metadata": {}
  }
 ]
}