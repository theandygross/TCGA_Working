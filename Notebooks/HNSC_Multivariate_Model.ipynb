{
 "metadata": {
  "name": ""
 },
 "nbformat": 3,
 "nbformat_minor": 0,
 "worksheets": [
  {
   "cells": [
    {
     "cell_type": "markdown",
     "metadata": {},
     "source": [
      "#HNSC Multivariate Screen  \n",
      "\n",
      "This is a screen for survival associated features.  "
     ]
    },
    {
     "cell_type": "code",
     "collapsed": false,
     "input": [
      "cd ../src"
     ],
     "language": "python",
     "metadata": {},
     "outputs": [
      {
       "output_type": "stream",
       "stream": "stdout",
       "text": [
        "/cellar/users/agross/TCGA_Code/TCGA/Pathway_Merge/src\n"
       ]
      }
     ],
     "prompt_number": 62
    },
    {
     "cell_type": "code",
     "collapsed": false,
     "input": [
      "from Processing.Imports import *"
     ],
     "language": "python",
     "metadata": {},
     "outputs": [],
     "prompt_number": 63
    },
    {
     "cell_type": "markdown",
     "metadata": {},
     "source": [
      "##Read in Data"
     ]
    },
    {
     "cell_type": "code",
     "collapsed": false,
     "input": [
      "run = get_run('/cellar/data/TCGA/Firehose__2013_04_21/', 'Run_all')\n",
      "\n",
      "cancer = run.load_cancer('HNSC')\n",
      "clinical = cancer.load_clinical()\n",
      "global_vars = cancer.load_global_vars()\n",
      "\n",
      "mut = cancer.load_data('Mutation')\n",
      "mut.uncompress()\n",
      "meth = cancer.load_data('Methylation')\n",
      "cn = cancer.load_data('CN_broad')\n",
      "cn.uncompress()\n",
      "rna = cancer.load_data('mRNASeq')\n",
      "rppa  = cancer.load_data('RPPA')\n",
      "mirna = cancer.load_data('miRNASeq')\n",
      "age = clinical.clinical.age.astype(float)\n",
      "\n",
      "hpv_all = pd.read_csv('/cellar/users/agross/hpv_summary_3_20_13_distribute.csv', index_col=0)\n",
      "hpv = hpv_all.Molecular_HPV.map({0:'HPV-', 1:'HPV+'})\n",
      "hpv.name = 'HPV'"
     ],
     "language": "python",
     "metadata": {},
     "outputs": [],
     "prompt_number": 64
    },
    {
     "cell_type": "code",
     "collapsed": false,
     "input": [
      "from Data.ProcessClinical import format_survival_from_data_portal\n",
      "path  = '/cellar/users/agross/Data/TCGA/HNSC_Followup/'\n",
      "survival, timeline = format_survival_from_data_portal(path, cancer.name)\n",
      "clinical.survival = survival\n",
      "clinical.artificially_censor(5)\n",
      "age = timeline.age"
     ],
     "language": "python",
     "metadata": {},
     "outputs": [],
     "prompt_number": 65
    },
    {
     "cell_type": "code",
     "collapsed": false,
     "input": [
      "filters = pd.concat([age>=100, hpv=='HPV+'], axis=1)\n",
      "clinical_filter = filters.sum(1) == 0\n",
      "keepers_o = true_index(clinical_filter)"
     ],
     "language": "python",
     "metadata": {},
     "outputs": [],
     "prompt_number": 66
    },
    {
     "cell_type": "code",
     "collapsed": false,
     "input": [
      "filters = pd.concat([age>=85, hpv=='HPV+'], axis=1)\n",
      "clinical_filter = filters.sum(1) == 0\n",
      "keepers = true_index(clinical_filter)"
     ],
     "language": "python",
     "metadata": {},
     "outputs": [],
     "prompt_number": 67
    },
    {
     "cell_type": "code",
     "collapsed": false,
     "input": [
      "surv = clinical.survival.survival_5y\n",
      "old = pd.Series(1.*(age>=75), name='old')"
     ],
     "language": "python",
     "metadata": {},
     "outputs": [],
     "prompt_number": 68
    },
    {
     "cell_type": "markdown",
     "metadata": {},
     "source": [
      "####Form expression and methylation features without HPV  \n",
      "* HPV has a big influence on expression, here I am creating a second set of features without HPV\n",
      "* I use this sparingly but it helps to tease out wheter an association is due to a underlying relationship with HPV"
     ]
    },
    {
     "cell_type": "code",
     "collapsed": true,
     "input": [
      "from Initialization.InitializeReal import RealDataset\n",
      "rna = RealDataset(run, cancer, 'mRNASeq', keepers_o)\n",
      "meth = RealDataset(run, cancer, 'Methylation', keepers_o)\n",
      "mirna = RealDataset(run, cancer, 'miRNASeq', keepers_o, create_meta_features=False)"
     ],
     "language": "python",
     "metadata": {},
     "outputs": [],
     "prompt_number": 69
    },
    {
     "cell_type": "markdown",
     "metadata": {},
     "source": [
      "##Clinical Screen"
     ]
    },
    {
     "cell_type": "code",
     "collapsed": false,
     "input": [
      "stage = clinical.clinical.tumorstage.ix[keepers_o].fillna('nx')\n",
      "stage = stage.dropna().map(lambda s: s.replace('a','').replace('b',''))\n",
      "\n",
      "lymph_stage = clinical.clinical.lymphnodepathologicspread.ix[keepers_o]\n",
      "lymph_stage = lymph_stage.replace('nx', nan).dropna().map(lambda s: s[:2])\n",
      "\n",
      "age = age\n",
      "old_age = (age >= 75).map({True: 'Age > 75', False: 'Age < 75'})\n",
      "pack_years = py = clinical.clinical.numberpackyearssmoked.dropna().astype(float)\n",
      "\n",
      "group = [['oral tongue','oral cavity','floor of mouth','buccal mucosa','alveolar ridge','hard palate','lip'],\n",
      "         ['oropharynx','tonsil','base of tongue'],\n",
      "         #['hypopharynx'],\n",
      "         ['larynx']]\n",
      "groups = ['oral cavity','oropharynx','larynx']\n",
      "tumor_subdivision = pd.Series({idx: groups[i] for i,g in enumerate(group) for idx,j in \n",
      "                               clinical.clinical.neoplasmanatomicsubdivision.iteritems() if j in g})\n",
      "\n",
      "invasion = clinical.clinical.perineuralinvasionpresent.replace('nan', nan)\n",
      "invasion = invasion.fillna('Missing')\n",
      "\n",
      "spread = clinical.clinical.presenceofpathologicalnodalextracapsularspread\n",
      "spread = spread.map({'no extranodal extension': 'no', 'microscopic extension':'yes', \n",
      "                     'gross extension':'yes'}).dropna()\n",
      "\n",
      "lymph = lymph_stage.ix[keepers_o] != 'n0'\n",
      "lymph_status = combine(lymph, spread.ix[keepers_o]=='yes')\n",
      "lymph_status = lymph_status.map({'neither': 'n0', lymph.name: 'lymph_node', 'both': 'extra_capsular_spread'})\n",
      "lymph_status = (lymph_status == 'extra_capsular_spread').astype(float)"
     ],
     "language": "python",
     "metadata": {},
     "outputs": [],
     "prompt_number": 70
    },
    {
     "cell_type": "code",
     "collapsed": false,
     "input": [
      "combo = combine(cn.df.ix['Deletion'].ix['3p14.2'].ix[0]<0, mut.features.ix['TP53'])\n",
      "two_hit = combo == 'both'"
     ],
     "language": "python",
     "metadata": {},
     "outputs": [],
     "prompt_number": 71
    },
    {
     "cell_type": "markdown",
     "metadata": {},
     "source": [
      "* Infer spread for patients without pathology"
     ]
    },
    {
     "cell_type": "code",
     "collapsed": false,
     "input": [
      "gg = rna.features.ix['real', keepers_o].apply(lambda s: to_quants(s, std=1) > 0)\n",
      "diff = screen_feature(spread, fisher_exact_test, gg)\n",
      "dd = diff[diff.p < .01]\n",
      "\n",
      "vec = (2.*(dd.odds_ratio > 1) - 1)\n",
      "loading = vec.dot(1.*(gg.ix[vec.index]))\n",
      "\n",
      "ratio = loading.groupby(spread).apply(pd.value_counts).unstack().fillna(0)\n",
      "prob = ratio.T.cumsum() / ratio.sum(1)\n",
      "cutoff = ((prob.yes - (1-prob.no)) > 0).idxmax()\n",
      "\n",
      "f = spread.copy() == 'yes'\n",
      "f = f.ix[loading.index]\n",
      "f[f.isnull()] = loading[f.isnull()] > cutoff\n",
      "spread_inferred = f.ix[keepers_o].fillna(False).astype(float)"
     ],
     "language": "python",
     "metadata": {},
     "outputs": [],
     "prompt_number": 216
    },
    {
     "cell_type": "code",
     "collapsed": false,
     "input": [
      "year = clinical.clinical.yearofinitialpathologicdiagnosis\n",
      "year = year.replace('[Discrepancy]', nan).astype(float)"
     ],
     "language": "python",
     "metadata": {},
     "outputs": [],
     "prompt_number": 220
    },
    {
     "cell_type": "code",
     "collapsed": false,
     "input": [
      "clinical_df = pd.concat([stage, lymph_stage, age, old_age, pack_years,\n",
      "                         tumor_subdivision, invasion, lymph_status, spread_inferred],\n",
      "                        keys = ['stage', 'lymph_stage', 'age', 'old_age', 'pack_years',\n",
      "                         'tumor_subdivision', 'invasion', 'lymph_status', 'spread_inferred'],\n",
      "                        axis=1)"
     ],
     "language": "python",
     "metadata": {},
     "outputs": [],
     "prompt_number": 221
    },
    {
     "cell_type": "code",
     "collapsed": false,
     "input": [
      "lr = clinical_df.ix[keepers_o].apply(cox, args=(surv,)).T"
     ],
     "language": "python",
     "metadata": {},
     "outputs": [],
     "prompt_number": 222
    },
    {
     "cell_type": "code",
     "collapsed": false,
     "input": [
      "cov_df = pd.concat([age, old], axis=1)\n",
      "test = lambda s: get_cox_ph_ms(surv, s.dropna(), cov_df, return_val='LR', interactions=False);"
     ],
     "language": "python",
     "metadata": {},
     "outputs": [],
     "prompt_number": 223
    },
    {
     "cell_type": "code",
     "collapsed": false,
     "input": [
      "clinical_df.ix[keepers_o].apply(test).T.sort('LR')"
     ],
     "language": "python",
     "metadata": {},
     "outputs": [
      {
       "html": [
        "<div style=\"max-height:1000px;max-width:1500px;overflow:auto;\">\n",
        "<table border=\"1\" class=\"dataframe\">\n",
        "  <thead>\n",
        "    <tr style=\"text-align: right;\">\n",
        "      <th></th>\n",
        "      <th>LR</th>\n",
        "      <th>feature_p</th>\n",
        "      <th>fmla</th>\n",
        "      <th>hazzard</th>\n",
        "    </tr>\n",
        "  </thead>\n",
        "  <tbody>\n",
        "    <tr>\n",
        "      <th>spread_inferred</th>\n",
        "      <td> 1.41e-05</td>\n",
        "      <td> 6.95e-06</td>\n",
        "      <td> Surv(days, event) ~ feature + old\\n</td>\n",
        "      <td> 2.33</td>\n",
        "    </tr>\n",
        "    <tr>\n",
        "      <th>lymph_status</th>\n",
        "      <td> 0.000688</td>\n",
        "      <td>   0.0003</td>\n",
        "      <td> Surv(days, event) ~ feature + old\\n</td>\n",
        "      <td> 2.15</td>\n",
        "    </tr>\n",
        "    <tr>\n",
        "      <th>lymph_stage</th>\n",
        "      <td>  0.00606</td>\n",
        "      <td>      NaN</td>\n",
        "      <td> Surv(days, event) ~ feature + old\\n</td>\n",
        "      <td>  NaN</td>\n",
        "    </tr>\n",
        "    <tr>\n",
        "      <th>invasion</th>\n",
        "      <td>   0.0109</td>\n",
        "      <td>      NaN</td>\n",
        "      <td> Surv(days, event) ~ feature + old\\n</td>\n",
        "      <td>  NaN</td>\n",
        "    </tr>\n",
        "    <tr>\n",
        "      <th>stage</th>\n",
        "      <td>        1</td>\n",
        "      <td>      NaN</td>\n",
        "      <td>           Surv(days, event) ~ old\\n</td>\n",
        "      <td>  NaN</td>\n",
        "    </tr>\n",
        "    <tr>\n",
        "      <th>age</th>\n",
        "      <td>        1</td>\n",
        "      <td>      NaN</td>\n",
        "      <td>           Surv(days, event) ~ old\\n</td>\n",
        "      <td>  NaN</td>\n",
        "    </tr>\n",
        "    <tr>\n",
        "      <th>old_age</th>\n",
        "      <td>        1</td>\n",
        "      <td>      NaN</td>\n",
        "      <td>       Surv(days, event) ~ feature\\n</td>\n",
        "      <td>  NaN</td>\n",
        "    </tr>\n",
        "    <tr>\n",
        "      <th>pack_years</th>\n",
        "      <td>        1</td>\n",
        "      <td>      NaN</td>\n",
        "      <td>     Surv(days, event) ~ age + old\\n</td>\n",
        "      <td>  NaN</td>\n",
        "    </tr>\n",
        "    <tr>\n",
        "      <th>tumor_subdivision</th>\n",
        "      <td>        1</td>\n",
        "      <td>      NaN</td>\n",
        "      <td>           Surv(days, event) ~ old\\n</td>\n",
        "      <td>  NaN</td>\n",
        "    </tr>\n",
        "  </tbody>\n",
        "</table>\n",
        "</div>"
       ],
       "metadata": {},
       "output_type": "pyout",
       "prompt_number": 224,
       "text": [
        "                         LR feature_p                                 fmla hazzard\n",
        "spread_inferred    1.41e-05  6.95e-06  Surv(days, event) ~ feature + old\\n    2.33\n",
        "lymph_status       0.000688    0.0003  Surv(days, event) ~ feature + old\\n    2.15\n",
        "lymph_stage         0.00606       NaN  Surv(days, event) ~ feature + old\\n     NaN\n",
        "invasion             0.0109       NaN  Surv(days, event) ~ feature + old\\n     NaN\n",
        "stage                     1       NaN            Surv(days, event) ~ old\\n     NaN\n",
        "age                       1       NaN            Surv(days, event) ~ old\\n     NaN\n",
        "old_age                   1       NaN        Surv(days, event) ~ feature\\n     NaN\n",
        "pack_years                1       NaN      Surv(days, event) ~ age + old\\n     NaN\n",
        "tumor_subdivision         1       NaN            Surv(days, event) ~ old\\n     NaN"
       ]
      }
     ],
     "prompt_number": 224
    },
    {
     "cell_type": "code",
     "collapsed": false,
     "input": [
      "combo = combine(cn.df.ix['Deletion'].ix['3p14.2'].ix[0]<0, mut.features.ix['TP53'])\n",
      "two_hit = 1.*(combo == 'both')\n",
      "muc5b = mut.features.ix['MUC5B']\n",
      "cc = combine(two_hit, muc5b)"
     ],
     "language": "python",
     "metadata": {},
     "outputs": [],
     "prompt_number": 229
    },
    {
     "cell_type": "code",
     "collapsed": false,
     "input": [
      "draw_survival_curves(spread_inferred, surv, cc, show=True, ann='p')"
     ],
     "language": "python",
     "metadata": {},
     "outputs": [
      {
       "html": [
        "<img src='data:image/png;base64,iVBORw0KGgoAAAANSUhEUgAAA+gAAAEsCAIAAADfJw44AAAACXBIWXMAAAuIAAALiAHljilJAAAgAElEQVR4nOzdeVxU5dsG8GtYVFBkERUxNRE1zV1U3ApF0FATRfGtxD2XtMTll1qaS7lVJqYSmYoLYaa44S4g7iYahhtlgLlgijIKIusw7x8zAbKDc+bMmbm+nz7ve+aZc57nlt8148145hyZUqkEERERERHpNiOxCyAiIiIiorKxcSciIiIikgA27kREREREEsDGnYiIiIhIAti4ExERERFJABt3IiIiIiIJYONORERERCQBbNyJiIiIiCSAjTsRERERkQSwcSciIiIikgA27kREREREEsDGnYiIiIhIAti4ExERERFJABt3IiIiIiIJYONORERERCQBbNw1Y9euXTKZbMWKFaqHVlZWs2bNEm65X375RSaTmZmZ5eTkAHj//fdlMpmnp2dkZKRMJjtz5oxqN5lM9tVXXwFISEjo37+/lZVVixYtvv/+e6VSmZubW61aNZlMJpPJ3njjDQBXrlyR/cfS0tLX11epVAr3RyA9o+WXwNq1a6tVq1b6Po8ePVq4cGFiYqLq9fL8+XPh6iFDo+XAA/D09DQxMdmwYUN5wpwXfkFLIj2j/VSXKe/dm+/nedi4a9KKFSuePn2qteUyMjKuX78O4PLly6XslpmZ2bt3799//3327Nndu3efNm3aTz/9lJiYWK1atW3btm3btu3rr7/O23nGjBlbt2597733Vq9efezYMcH/DKRftPwSKN2jR48WLVrE3oWEo7XAP3z4cN++fX5+fr179962bVvVqlVL35/hp0rTqbdxZ2dnVeAZ6Txs3DXs22+/zdtWKpXz5s2rW7duvXr1FixYoFQqN2/eLJPJ/ve//1laWvbp0yc9PT09PX3kyJFWVlbdunW7cOFCwakyMjKeFpCdnV1oraZNm0ZFRaWkpPz999+Ojo4llbRv377bt2/v2LFj7ty5GzZsmDBhwr179+Li4ho1avTBBx+MGDHi3Xffzdu5Q4cO/fr1c3d3B1CzZk3N/FDIkGjtJZCbm6s6cMKECdnZ2UXX8vT0BODs7Kzaf9GiRVZWVv3798/KyhL+x0CGQjuB7969O4CPP/54//79Pj4+mZmZqplXrVo1evRouVzet29fc3NzR0fHQ4cOASgUfqIK0U6qyzPPhQsXVIEv5f286FEFXx3C/7S0jY27Js2ZM8fPz+/hw4eqhyEhIUuWLJkzZ86MGTMWL14cGhqqGn/8+PEnn3wSHh5+6NChtWvXnjhxYteuXU2aNBk8eHDBTC9fvty6gKNHjxZarlOnTlFRUdHR0Y6OjpaWliVVdfPmTVNT0x49eqge/vjjj4sXL46Pj//3339r165dv379/fv35+08YsSIOnXqeHl5eXt7d+3aVSM/FjIc2nwJZGdny2SyBQsW/PTTT0FBQUXXCgkJAZB35lhiYuL48eMPHToUERGhjZ8FGQCtBT48PBzAgQMH6tatW7CA4ODgXr16bdiw4fTp03v27HFycpowYYKqEhQIP1H5abmTKec8pbyfl3SU6tUhzA9JTCZiF6BXBg4cuHv37iVLlqgeRkREvP76676+vgBWr14dERHRrl071ba5ufmSJUuSkpIiIyOTkpJGjBiRmZn59OnThISEZs2aqQ4fPXq0i4tL3uStW7cutFznzp23bNnSvHnzTp06xcbGllSVUqlUnblecNDKyurdd98dNmzYt99+O2bMmEePHqnGv/zyS2dn56tXr86YMWP8+PFubm6v+DMhg6Lll8CyZcvs7e03btx44sSJGjVqFFpr/PjxAExM1O9yq1atMjMzW7ly5ePHjwX9IZDh0FrgjY2NVf+30Dv5r7/+2rhx49DQ0PT09Dlz5gwePFj1Walq/7zwE5Wflt/GS58nb7dCkS74fl7SUapXhwA/IZHxVa1JMpls6dKl/fr1Kzgik8lUrXNubq5q0Nzc3MTExMjICEB2dnavXr0CAwNVT9WqVSvvWDs7Oysrq7yH1atXL7Rcp06dZs2adfbs2bfeekvVuJubmwN48OABANWpYObm5vXr18/Kyrp48WKXLl2USqWrq6ujo+PkyZOnTp3atm3bx48fHz9+PDk5WTVnu3bt+vTp06dPn+XLl4eFhbFxpwrR8ktAxcjISNXNFLtWHtWiGvhDEv1HlMAX1KBBAwADBw68evXqzz//vHHjxtWrV/M8YHoVWk516fP8/vvvxRZZ8P286FHnzp3Df68O/cNTZTSsd+/eb7/9tupfanr16pWQkODn5/ftt9/eu3fP1dW16P49evSIioq6evXqkiVL+vTpU/BCLmX+A1OdOnXs7e1DQ0OdnJxUIy1atLCxsZk/f/7SpUtHjBgBoGfPnp6eng0bNhw+fPjKlSv/7//+78SJE927d9+8ebOrq+sPP/zg5+fXuHFjW1tb1QwnTpwICgqaPXv2o0ePWrZsKcSPiPSbNl8C8+bN8/Pzu3r1qqura9G1TE1NAVy5ckXIPy4ZOm0GviSTJk0aOnSoi4vLsGHD5HJ5Wloaw0+vQqxUlzJPKZEu5Sj9pCRN2LlzJ4CbN28qlcqLFy8CmDlzpkKhmDt3bu3atevWrbtgwYLc3FzVb4SqL9IZGxv/8MMPqamp3t7eNWrUePPNN0+dOlVwzoSEhBMFPH78OO+p7du3A7h169bQoUONjIzS0tI6duw4aNAgpVJ57tw5Z2dnc3PzZs2abd26VbX/33//7ebmZmFh0ahRo6+//jo3N/fRo0eqLzO1b98+KipKqVRGR0fnpaJmzZqjR49W1UlUHlp+CaxZs8bExMTT07NmzZqqL6cWXUuhUPTq1cva2lr1eklNTU1PTwewbds2Lf9wSP9oOfB3794FcPjw4bwwF5w5Pj6+Z8+e1apVq127tp+fn1KpzAu/Vn8oJHFaTnV55skLfCnv50WPKjiz/pEp9f5XEyIiIiIi6eOpMkREREREEsDGnYiIiIhIAti4ExERERFJABt3IiIiIiIJYONORERERCQBbNyJiIiIiCSAjTsRERERkQSwcSciIiIikgA27kREREREEsDGnYiIiIhIAti4ExERERFJABt3IiIiIiIJYONORERERCQBbNyJiIiIiCTAROwCijFu3Lg7d+6IXQVJT3Z29syZMwcOHCh2IRXAtFPlMO1kOJh2Mhxlpl0XG/cbN26cP39e7CpIeg4dOnTp0iVpvbkz7VQ5TDsZDqadDEeZaeepMkREREREEiD4J+4KhSIpKSk5OdnKysrOzs7IiL8qkN5i2slwMO1kOJh20h3CNu7BwcH+/v5WVlb29vaJiYkpKSlTp0719vYWdFEiUTDtZDiYdjIcTDvpFGEb94CAgMjISBMT9SoKhcLDw4NxJ73EtJPhYNrJcDDtpFOEbdxtbW0DAgLat2+v+j01JibG2tpa0BX1zMf4eC7m2sNe7EKobEw7GY7Kpf3yhAYb9z0eN8i2a1dYWGDbNtStq4ViiV6JBt/b//4bGzZg+XL1wxkz4OuLhg3x9ddwcUHnznB1Re/e+PxzjRVP+kfYxj0oKCgkJCQkJEQul1taWjo5OQUGBpZ+yIrfj1/6CtVvOpVnfpkMDRvC3FwTteqk27hdBVW+xbcyyMSuhcpQ6bQ3fORUp452aqwMU5j+iB/boI3YhZAOqVzas/tHTk5y+2bc2tvR3Y2N4e6OqlWxciV69tRO1USVocFORqlE9ntYcxMAbPeNe75l8vHjqFoV9+9j40ZYWODGDVy/jj17SpzZwgJbtqBhw1f9Q5F0yZRKpTbX8/X19fPzKzR44MCBrVu3AsiVyUI2HIZFqjZL0n1ucPOE50f4SOxCdJ3qIkpffPGF2IWo6U3aa6HWKZxqiZZiF0L5JJT2zMyaR7yfZQ3fC5McAMgxwTf/w2dLVftUrYqICHTrpuV6SUoklHaU/71dKcNH/giYVNHVGzfG2bOoV6+ix5E0lJl2bV/H3cPDo+hgz549W7ZU9wRHbt9Oa31Ru0XpNAtYLMfyRmgkdiFUYXqT9id4cg7n2LhTKUpJu0IhG3j70dS//s5seQUATHLQ8zTGboJDPOZ9lZmJkSPRrBlWr0bTptoum6gSNPPeLlOi/8FKNO4JCVi2DJ07Y+BAWFpW9GiSPG037u7u7kUHLS0tLf9L3530SDtv96nTPylzqr17kZAAAOPGoW9fjVapM/zg9z2+74AOYhdClVFm2pdtiPzki6MwzW7XDp99pt3iyudLfHkVV8WugiSg9LQ3bdp4SPq5Wo9fg20yAFn7K6a2q2XWTzOP9MOZHnFxiIvDhQtYtw7vvaftyokqqtKdTHIyLl1CnZFHTjTeBMDGBovWoG5d/Pwz2rdHy5aYORNt2mDUqOLXnTYNDx4AwI4dOHECN25gyhTUr6+5PxhJgc7dOdXGzKzq4Svf/TqszD3//AoJhwCggwvK3luarGHdHM3FroKEYppjhr2eAOxSdTTD67GejTtphI2Zmex3M6UtACirP896IwaA7KSL8kx3uB1HVhW5HF99BXd31KolcqlEr6ikTkYuR0wNXG388AQAoFkzjGyFmjXRsCEaNkS9ekhLQ/Pm6Nq1+GnzvrT66BEePcK1a1i/HsHBKO73CNJbwjbunp6e165da9KkiUyW/93KI0eOCLqoPumDPmKXQOXFtJPhqFzazT6XG0dapCL/3F+lkaJu239N7Izv3wGAGzfQqBHmzuVVNUiHaPC93doab7+d/1mIrS1qAgC6dFGPjB5d2uHjxmHOnJdGnjzB6tVo1w6mpjAxgYVFJYoiiRG2cd+zZ0+bNm0OHjyYdwFUIn3FtJPhqFzajS4bhSM8BCHbsM0EJndwB0A3yzeHLTeeMAHPnwNAWhpevBCoaqLK0J339tmzUa0azp5FRASyspCaCgCvv4527WBjAwsLnD8vboGkDcLetlcmkx09etTY2FjQVYh0AdNOhqPSae+ETsux/HN87gpX1Ugc4ga992L/flSrpt7n668xbhxu3dJgvUSVp1Pv7dOm4ddf8cEHaNtWPeLvjwcPcP06LlyATAYjI6xZI2qJJDBhG3cA9vb2Bf91iUiPMe1kOF4l7R/ho3EYVw3VAMQgZiEWdugALy+oWqOcHISGIiQE2r1YMVGJdO29ffVqDB5c/FNKJaZNw/bt2i2ItEjwxp2IiKiQ7ug+ERNV22lIs7REUBBGjFA/m5SEuXPh4oLcXNEqJNJl06fjoxJu7qJU4uBBXLiAqCgcOIBr1/DoESIiEBGh3RJJGDwZl4iIRFAVVVUbG7HxBm7sx/42bSzMzJCert7h1ClEReV/b4+I8shk+P57zJwJAF27wsoK1avD0RE7dwLAyZNITUVGBuLi0KUL2rWD6mav33+P9u154SZpY+NOREQiqI7qqo1MZEYicgAGnJxxcsgQDBiAW7eQlQUAR46gWrX803mJKI+xMRwcAGDHDlhawtQUK1aon7p3D/fuqbfj4hAcrN52c4ODA8LD8frr2q6WNIWnyhARkQg+x+fv4/28h6dx+jiOP3n9socHXntNPbh4MRYuxOPH4lRIJAkuLmjfHgoF/vyz7J3j43mbM2lj405ERCIwhnEgAvdjv+qhEsplWPYlvjT6es7g6MUwSweQm4u9ezFyJDIyRK2VSOe1bYuLF7FiBczMUL06ataEhQWqVIGVFerVQ9WqMDVV72lmJmqh9Gp4qgwREYmjCqo4wjHv4QmcALAP+1ATVU8ez3Q9hFQLAIcPY+ZMrFsnWp1EUjF1Ks6dg5kZ6tfHixeIiUG/fnjrLXz1FRITcf16MYd064YuXbBqldZrpUph405ERKJpgAZd0OU3/FZoPLPTmXof7Xnq/366WTIe1fH3R506WLBAlBqJJMPcHHv3FjN+7BgCAzF2LABcuIAmTfKfuncP169j/34YGWH1anh4aKlUqhyeKkNERKKpgRpncfYbfGMP+17oNQiD6qKu6qn2y3fMCrwOf/VF7xYuVF8Zg4gqobr62+BIT0d8fP5/WVlISUF8PP7+G4MH86qRuo6NO5FeiY5GTo7YRRBVhDGMZ2HWx/h4LubOx3x72KvGD+HQl17t4BWCz5aqRs6eFa9KIonz9sann5axT1YWzp3TSjVUWTxVhkh8z57h8mXNTDV1KlasyP9kpUKsrF7691MibZqDOaoNGYrconLJ5xi9GX2PbtrU2NkZ48druzYi/bBsGfr1g0Lx0uDEiWjRAhkZCA/PH9yyBa6u+dd3It3Bxp1IfOfPw8lJY7O9/XYlDzQ1xS+/YMgQjVVCVAmncbo/+kcisuBgk8NT4xIaK4GTJ9m4E1WSkRF69So86OcHe3v4+akfxsUhLAyffopJkzB9OqystFwjlYGnyhCJpnVrAJliV5EvOxvDhyMuTuw6yLCZw/wYjh3CoamY6gIX1WBy+3DMXoFu506cgLs7nj0TtUQiPTJwIDp2zH+4eTPc3PDoERYvRteuuHNHvMqoOPzEnUg03bvDzOz9+vVDcnM1NueDB6hbF0YV/5X89m3k5iInB6mpGiuGqHJMYdoLvTqj8xiMUY3Ie+5Hz/3IqvJk5K/3rw7K1KFfeIn0QceOCAoqPBgbiy5d8OCBGAVRCdi4E4nJ2PjYrVuanNDLC5s3w8KiwgdaW+PpU01WQvQqqqFaNVQbgzGHcTgH/33hukpWxoK5N1oO6tABs2Zh8mRUrSpqlUQV5wAH1cY1XBO3koJ8fZGWhk2b1A9VH+UAmjyNkzSCp8oQ6ZWQkMp07US6aTAGb8f2YRjWTdFTPSRTArgf6H7mDC+gRJJkDWvVRqYunSoJ4PPPERen/q92bbGroRKwcSciIt01FEN/xa/zjT9TPZQ5xiGuCXqcuVb1claWuKUR6a1589Qbz5+LWgcVwcadiIh0XXWoL3GqNMmGQzzM0v/c3LV1Yr8d2CFuYUT6LTISX34pdhFUABt3IiLSdT3RcyVWvjRkml37d/e2aCtSRUT6rEeP/AtBfvEFYmJErYYKYONOREQSMAMzTuP0cRx/7dmbqpGrxlf8Hm8TtyoivdSuHY4fz//yN6/jpDvYuBMRkTT0QI8+6NPIUv1JoOL9bRuw8UTME3GrItJLTk6oWVO9/b//Yd06ANi3D59/jitXcPQoADx9ih9/BIDly0Wq0vDwcpBERCQlLdDiLM6qthW2D11NmnZIf/OcWXgVVBG3MCJ99dtvePwYd+/izBncvo2bN5GcjBMnkJqK8HAkJGDbNjg6YuhQsQs1AGzciYhISvzhf0+edrTqfqV5GgDl1VaT/zpVZZzYZRHpHaVSvZGRgevXcf26+uGePQBw8qT64YoVAODtjcmTsXgxatXScpmGhafKEBGRlJjC9LB18MoXP+SNzJiBq1dFrIhIP40eXYGdlUps2IAnPHNNYPzEnYiIpMfW9r+tqpkpKfD1xbffon17MUsi0jPffIPXX0dMDLZuRYMG6NULly/j3j20bYunT9GuHdLScO4cnJywcycAmJqiWTOxi9Z3bNyJiEh6eqCHCUxykIPOF9Hsr4iIZj16YNs2DBkidmVEemTKFACIj4e7O/73P+zYgbNnMWIEHjzAoEFITkZgIPr1UzfupAVs3ImobN/hOyHudNMf/X3hq/FpyRA0RmNTZZUcWQ4AmOQAePEC48ezcSfSvOPH1RvDh2P48PxxGxvMnJl/7ntJTpyAXA5HR6Sno1Ur/PYbevfG3btITy/tE/qICPTu/cql6x027kRUImMYqzZu4uZN3NT4/GEIy0DGHMzR+MxkCGQy9YaZGdIBAJmZePy4wFk0RKRFCgXCwooZnzEDz5+jSxc8eoTRo7FsGb7/HidPIimptAvRfPIJrlxBFV4s6mVs3ImoRGuwxgUuiUgUbolgBLNxp1dk/0ZKQjRyc/HiBZo2hYsLdu/Ob+uJSDsyMuDmVuKzCQkAEBEBIH831WXgSzJ4MAIDYWMDE7ar/xH8J6FUKgHIZLKHDx+mpKQ0bdpU6BWJxKJ/aW+KpmEIO43TGp85BjHrsE7j05LW6ELa+6DPfuwH8GHQSfu+ziNHAkB2NhYtYtdOmqQLaddldnZ47TXcu6f5mQ8dQu/emD//pfNzDJywjfsPP/ywYcMGmUzm6el58uRJMzOzN998c9myZYIuSiQKfU17C7RogRbFPhUWBhMTuLhUZtpQhLJxly4dSbsZzPK2/+q+GWd/QvezaWlwdcXJkzh3DoMH85LS9Kp0JO26rFYtnDyJYcPw9GnxOyQmIjcX5ubIyYG1NR49Qv36SEtDTg4sLYs/5MkTPHsGAO7u7NpfImzjvmnTpkuXLmVkZDRr1iw+Pt7ExKRTp06MO+klvUn7V1+Vt9e5eRNGRmjevDKr/NMGmAIA9+9j4mL1YJUqWLQINjaVmZC0SdfS/jW+NnYwNm6UoohrgpNvP56wftYsk9u3AWD8eLGKIj2ha2nXTQ4OuHy5xGf790dyMvr2RWIiPvsMEybg2DHs3YvERHz0UfGH+Ppi9WqBipU2YRt3S0vLjRs3JicnZ2dnHz161MbGpmrVqoKuSCQWvUl7SEjF9s+7eV7FDFQ37snJWL8+f/j8eYSFwcqqUnOStuhI2qujumojGckAYAw4xMMhHpbPDnuFAJg4EVeuYORIdO6s/epITwiX9ixkaWQe3Xfw4EsPjx0DAE9PUWqRPGHvnBoSEpKTk2NnZ3fr1q3Tp09v3rx5y5Ytgq5IJBapp33uXLErAABcvlzh3xxI+3Qk7d/j+17oVcwTnaJU/z83F0FBSE3ValWkZ4RLuxzyQRiUiUyNzEYGQvBP3CdNmqTaXrFiBQBfX18/P79Cu+3atevHAt8rzsxkiEl6pJ72Tz9FvXplX463oCtXYGyM1q0rs9zfLaDqz2vXxtjZAPDLL/jnn8pMRdqnI2mvjur7sf9P/AlgN3YHIegO7gCoUQOug7BvHwDIZPy4nV6JxtO+BmtUG7nI3Y/9rdH6L/yl4aJJf2n7+joeHh5FB4cOHTq0wJU8LSwstFgRkVAkl3Yfn4rtf+oUTEzQrVtl1gqFunG3s8Py5QBw6RIbdwkTK+01UKMjOgKojdo2sJmFWQAU1o8n/nQpLMwpLQ1Pn2LUKOzerfGVyXC9YtqDEdwHfcZjvBJKAClIEaJIvXH+PK5fx5tvlrjD++8jMBBFT18aMwarV6NmzRIP/OEHNGuGhg2xcSOcnfH8OUaM0EzNghK8cVcoFElJScnJyVZWVnZ2du7u7kKvSCQWQ0v7W2+JXQGJR9fS3hAN3eBmBKNc5KYj/f3abtPW/bZ0dDNAfW0KokrTeNrHYuxe7A1FqEbK028xMRg2DObmJe7w11/o2hVGRU79vnVL/c/CJfn3X1SrhqpV8egRduxAbi6K/DtKeU2ZgjFjKnlsRQnbuAcHB/v7+1tZWdnb2ycmJqakpEydOtXb21vQRYlEwbST4dDNtLdBm0AEjsGYXOQ+xdPdV28BzQCcPIkuXeDlhU8/FbdAkiSB0j4SI9m4l2TdOhw5ot5+8QI3y7ptd3R08eNXrpR3xcePAeDOnfLuX8j48TA2hupWEkITtnEPCAiIjIw0+e+GVwqFwsPDQ/Q3dyIhMO1kOHQ27SMxcgVW3MANAAsXYkUEoqOhUGD4cPx3ljJRxQiU9gZo8Mql6S1vb7i44J13cPeu2KWUT24uDh7Ui8bd1tY2ICCgffv2qt9TY2JirK2tBV2RSCxMOxkOXU67DOqbpl77J1WpVA9eu4ZLl3hyF1WGLqddX9Wujdq1MXMmYmORkIDevdG4cYk7L1qEzz6DqWnh8aVLMW0aqlcv8cA9e9CgAerWxcGDaNkS6eno27fCpe7fj6CgCh/1KoRt3IOCgkJCQkJCQuRyuaWlpZOTU2BgoKArEomFaSfDobNpX4ZlqgvLAFja0sc66Ae0joRSdvky3n1X3NJIqnQ27Xqvb1/064ekJLzxBmxtS9ytWjV4eBRzLnuNGnB1RZUqJR7o6AgbG9SsiY4dYW+PrKzSvgJbkoSECh/yioRt3M3NzX18fHwqeq0KIgli2slw6Gza52LuOIxrgAZZyMqV5Yy/vmqFUgagQQPe7YUqSWfTrvfeeANA2TfnHjiw+PF33injwPbt1Rtvv12hukQm7A2YiIiItKkO6lSB+kO2vDMaeKVRItIP2r6OuxDWrMGePa80g60tfvyxtIt9EhGRVJhCfbqrnZ16RHXJCCIiqZNw4y5TfwEJsbGIjX3V2e7dw5EjpX2JgYiIJMEGNnLIAeyz+xH4EYBcjosXeQtVIpI8CZ8qs3Il7O01NtuZM2VfKJSIiHTfYixWbdyt/bvqPNfMTBw4IGZJREQaIeFP3Js3R3g4Tp161XlmzsTz55ooiIiIdEDeOe5A/uc7eZeGJCKSLgk37gDeeEP9peNX8fnnbNyJiPRQNKJvrLPBNwCwdvdYq+++mTlDVtZBRES6S8KnyhARERVlDfXVZBRQvKgqh7Uc1vKn41YuN1uQni5uaUSkn5KTcfGiNhaS9ifuREREhbjCdRVWTcf0QuOPX79Urx46dEBYGIz4sRURaU5sLFaseOkb8DIZJkyAlZWGF2LjTkRE+sYXvr3ROxvZAGZd2BXpvBwAepxRDgmJ2OQlcnFEpHfu3cO9e9i9+6XB3btx7JiGrzbOzxyIiEgPtUGbjujYER29nRuqh6qnpa74qFmKUwISACQk4MkTMSskIqnr1w8WFiU++9tvWLtWwyvyE3ciItJnSUhSbxnlKms/uoVHbyrfjE6JH9zf7q23sG4djI1FrY+IJKtNG5w+jaVLER8PpRIODurxixfVN2zOydHwimzciYhIn83BnHjEb8GWvJF0WfobHvG4aXfzJh48wK+/ompVEQskIglr2xY7duDIESgU6N9fPThqFLZuFWQ5nipDRET6rAqqbMTGNX8fkt2vj+c1Cj27fz9q1oSXF1JTRamOiPRBv375Xbug2LgTkW6Ry8WugPSOMYw/cuw7O3590cYdQE4OwsKQmDdDyT0AACAASURBVKj9uoiIKoaNOxHpBGv1pbcxfz6iokQthfSREYyW9fSoV1f9t96+I5l2duqncnORkoI2bdClC86dE61CIqIysXEnIp2wfj0aNwaAjAzcuCF2NaSn2svaqTZuW1wNDn7pchBZWfjjD9y6JU5hRETlwcadiHSCtTUaNix7N6JXYVLgkgy9euHPPzF5cv7NmHJycPasOIUREZUHG3ciIjJQ9erB3z//9igKBX76CVZWWLhQzKqIiErCy0ESkZju4I43vFXbNxZCdcXtdZ1w8L8dpmFad3QXpTYyEFeuoF8/xMaqHzZqhMmTRS2IiKgEbNyJSAQyyFQbz/BsJ3aqR13U/z8KyPt66mEcPoRDPdFTq/WRnmqDNvuxH8BxHP8En6gGGzXCmTOYNQubNwNATAzs7fHjjxg/XrxCiYiKw1NliEgE7+Cd9/BeefZ8jufbsE3oeshANIT6ixSZyCw4XqsWBg7Mf5ibiwkTsHevNksjIiobP3EnIhEYwzgQgZ3RuWD/tH494uMBYNgwdOyIozh6AidEK5EMzJAh+OYb/O9/6odKJcLD0aABGjWCra2olRGRPlq0CCNHqi+nVn5s3IlIHFVR1Re+BUcOByP+JAD0b4FRHZGKVDbupE2zZmHYMHz8MUJDAWDtWqxdiyZNcPIk6tcXuzgikqCtW3H6dPFP3byJ7Gx8+SVksgpMyMadiIgMRR3UUW3cwI0c5JgU+UuwUSN06qRu3FXi4tC7N3bvxoMHeP4cnp5aK5aIJCk1FdHR6u24OMTFlbjnkiW4exe9e2PUqPJOzsadiIgMRRd0UW3cx/1iG3cA8+ZBLsfmzcjJQWoqANy5g1WrcOcOUlKQk4OBA1G1qjarJiIpqVYNy5fjww+RmFjGnqamGDYMrVpVYHI27kRERPlkMnz3Hb77Djt3wtsbADIysHGj+tlhw/Dmmzh//qW7rhIR5TE1hYcHzp1D796YPbvE3bZswaxZGDCgYpOzcSciIkP0D/5pjual7JCUhGrVkJFRePz6dSxciIkT0awZAFy9irp1UacOAJw5g86dUaUKAEREoHdvQSonIt3XqBEWLoSPT4k7vPYaunSp8LRs3ImIyFAYw1gGmRJKAO5wP4MzDdCgpJ0/+ggeHujXD48fo3p1pKfj2TNkZQFAVBRevICXFwBs2oQOHdCuHQB8/jnmzFF/GP/JJzh1ilekITJcpXTtADw8KjOn4I27QqGQyWRGRkbx8fFKpbJJkyZCr0gkFqadDIdE014btTdgw4f4MBe5d3DnPM6X0rgDeP11LFuGU6fQsSOuX8fu3fjrLwA4fRqnTyMgQL3b9u35hwwZkr/t7IzQUDg6wtRU838W0hqJpp30krCN+7p16w4cOLBr1y5/f/+jR49Wr179zTffXLp0qaCLEomCaSfDIem0j8XYH/DDJVwCcAmXvOFd+v6DB2PwYPX2a69h6tQKrBUXhz59sGkT+vatZLUkOkmnnfSPsI371q1bL1y4IJPJQkNDw8PDTUxMOnfuzLiTXmLayXBIPe1G/901fD/2z8KsvGtElmnKFKSl4ccf8fw5FApYWgJAcjLMzGBmBgD//os6dWBkhOfP8egRAJiYsGuXNqmnnfSMsI17u3bt5s+f37Vr1yZNmmzdutXCwqI+b2JBeoppJ8Mh9bRnQP2F0z/xZzu0W4RFYzCm2EtDFvXpp/j0U+zZg3//xeTJALB4MXr3Ro8eADB8OAICYG2NrVvVF2Z+8AAHDlT4whGkO6SedtIzRoLOvm7dOicnp4iICADR0dEpKSnBwcGCrkgkFqadDIfU094f/WVQ36vwAR78jJ/TkV6hGQYPVnftAL74Qt21A9ixA9bWABAbqx7JzsagQXBxwZMnr144iUDqaSc9I+wn7iYmJp6enp4FbjTn6+vr5+dXaLegoKCCg5mZmYJWRSQEpp0Mh9TTvhRLHeCwCIvu4R6AzuhsAQ1flX32bCQmYssWAMjNhYMDbGw0uwJpidTTTnpG25eD9Cju4jcjRowYMWJE3kML3taC9ALTToZDcmkfj/EncTIIQQAykPEcz2ughgbnt7TEpk1ITMTx4+oRmUyD05OYJJd20ifCnioDQKFQ/Pvvvzdu3EhMTMzNzXV3dxd6RSKxMO064uZNXLokdhH6Tg/SbglL1cYarKmFWgdxULPzGxnB0VG9vXkz1q7V7PSkPXqQdtIbwn7iHhwc7O/vb2VlZW9vn5iYmJKSMnXqVG/vMq69RSRFTLsGRUYiMxPRnYD2ABAbi/WnKnB4VBRSUuDqCgC2ti9dV5s0Qj/Sbge7vO0sZP0f/i8a0Y5wLOWQinJ1xfr1UCigVGLaNHh4wMFBg9OTNuhH2klvCNu4BwQEREZGmpioV1EoFB4eHow76SWmXYM2b8bmzcBX6sb99GmcnljhSX79Vb2xeDHmz9dgdaQnaf8cnz/Ew7VQfxL+HM/v4q5mG3cvL2zdCh8f5OYiNxfpFfsGLOkEodOejezLuFxwpD3aGwl/QgRJlLCNu62tbUBAQPv27VW/p8bExFirvm9PpHeY9lc3YABOntT8tF98gUGD0KaN5mc2WPqRdhlkq7F6MRa3R/t/8I9Aq7z/PiZMQFoaAPzf/2H9enTtKtBSJAih056MZCc4FRwZgRGbsdkYxhpchfRG2Y17ZGRk0UEXF5fyzB4UFBQSEhISEiKXyy0tLZ2cnAIDAytYIZH2MO3imjULJiY4+N+ZxnGNkQAAqF8fLfpUYJ5//0VWFho2xKlTyMoCAF7goSimHYARjKxhLfSnm8b/NWDXruGddxARgQ4dBF2QCtPBtDdAg9qonYSkYlZEUCu0mo3Zr74K6Z+yG/crV64UHSxn3M3NzX18fHx8fCpaFpEomHbR+frC11e9PQ9YAgDw8MD6Yq7iUKKjRyGX4//+D3XqIKmYvxYJYNqLk4tcIabduROenurzZJ49w5496sb9p58wZAhq1RJiTXqJDqbdHvbHcfxdvJuK1LzBF3iRiUwAcsg1uxzpjbIbd9+8v0X/ExYWJkwxRCJj2vUD7zBfHkx7HjvYJSABwEM8FGJ+d3ecPg1fX5w5AwB//AHVT3rOHNjbo39/Idakl+hm2tuibaFztD7CRz/gB7HqIUko7znuX3zxxYkTJzIyMoyNjW1tbfv0qci/WxNJCtNOhoNpB5B3F1XhdOyIevXU26GhCA1Vb48ejd270aEDqlcXugRi2kkflPfEvt9+++3UqVM9evQ4ffp0db7BkF5j2slwMO0FJSDhCZ4INPn9+8UMPn4MV1d88IFAa9JLmHbSA+Vt3LOzs69cuZKSkhIbG5um+no8kZ5i2slwMO0FzcO8DuhwG7eFmPzsWSxeDEtL1K8PBwfUraseb9sWe/cKsSAVxrSTHihv4x4YGJiTk/Ppp58GBARMnz5d0JqIxMW0k+Fg2gG0QIu87Tu48wGE+gB8/nxMmoT9+xEXl38jVbkcu3YhI0OgNSkf0056oLznuPv4+Lz99tvDhg1bu3atTCb46YBEImLayXAw7QB+wA9pSDuIg6rrewj0FVWV5csLj8TFYdgw9OyJgwdhYSHcysS0kz4o7yfukZGR/fv337Fjx/Dhw+fzJoSk15h2MhxMOwBTmG7H9j3Yo81FO3TIP1sGwOnTWLNGm+sbIqad9EB5G/eMjAy5XJ6ampqamvr8+XNBayISF9NOhoNpF4uDA8LC4OwMW1v1CG8TJjSmnfRAeU+VGThwoJub28SJE1u2bMl/YCL9xrST4WDa85j89xfiC7xQQKGFG863aoXz5zFuHDZtAoCzZ7FiBQC4uKBLF6EXN0RMO+mBshv3s2fPdu/efdGiRQDkcvnZs2cB9OjRQ/DSiLSOaSfDwbQX0hZtVRsP8CAVqVaw0nIB4eEIDweAqlWxcycGDtTy+vqMaSe9UXbjfvHixe7du58/f77gr6eM+6u7dAn37sHTU+w6pMnfH4MGoX59DU/LtJPhYNp1xAcfYPt2pKfnj2RmYt48Nu6axLST3ii7cVddMik0NFT1XezWrVvr6z8wLV2K2rW1t9zt23j6FIcPa29FfXLqFGQyTJ6s4WkNJ+3SchqnJ2JihQ6xhOViLAaqCVSSHmDaS5EJ7Z1v3rs39u7Fhg0AkJiIs2cBQC5H+/aIjsaOHQgLw/r16NkTZ84gPBwyGcLDsWRJ/gwxMbh5E8OHA0BoKGrXhrNz/rOff/7SzqUMFnTqFAICEBysfrh1K7p0QfPmr/hnFQ3TTnqjvOe4R0ZGXrx4cceOHV999VXz5s2//PJLQcsSxR6tXlFA7eJFERbVD1Om4NEjdO8Ojd+12hDSLi2xiI1FbEWPuoZryip7gKpClKQ3mPZiDcbgozhqAS1dndHdHe7uABAainffBYDHj/HgASZOxKVLiI+HkREuXsTEiYiNBYDYWDx+nH/4vXv4919ERABATAxq1ICDQ/6ze/e+tHMpgwX99RcuX8bE/35fvnABr78OO7vSDhk2TPPvxprFtJMeKG/jrsffxZ4zB7NmiV0EVYqFBaoJ8ImqHqddWnzgsxmb76O4O8WXw2EctuxyBrtdNVuVnmHa81RH9U7oFIUoAOdxfhmWLcVSsYpRnTmzfr36oWoj72GhbZXffy9xtqI7lzRYyj4xMWXsvHkzQkIwYEDZ04qFaSc9wKvKYOZM2Nnh6lVtr3vrFp48eekfNKn8Dh3C5MmaP1VGRY/TLi3N0TwSkRuwoaIH/ogfn+KpECXpH6Y9jylMj+N4b/T+Hb8DSEOa9mt4+204OuLvv7W/sgZkZeG773S6cWfaSQ+Ut3Fv06bNnDlzBC1FRB8IdX/r0vzxBx48QL9+IiytB1q0UP/LshD0O+3S4gjH5Shyq8my7MIuNu7lxLQXZAlLF7ioGndR1KyJ33/HN98gLAxRUZg5E6dP488/MX48Vq3C9On44w/IZPjjD/j45B91+zbu3kXPngBw8SIsLV86GX3btpd2LmWwoGvXcOYMJk1SPzxxAk2b4rXXit/56lUcOlTBP6oYmHbSA+Vt3NPS0hYsWNC1a1cTExMAfXT8RDYpaNsWbduKXYRkjRol4ORMOxkOpr0kl3E5AxnVtP79ZgsLLF6MDh2wciWWL8f+/YiMxLJl+OMPLF+OM2cgk+H0aRTsP2/exK1b6pPjjx9HrVro0CH/WSsrFG1Wix0s6MIFBAZi+X+/Ne/ahfbt0aRJ8TsHBkqjcWfaSQ+Ut3Fv2bIlgNhY9ffDGHfSY0w7GQ6mvZDqqK7aOIuznvA8giOilOHpqb5Y8Lvvqjty1SXIVBcw7N79pZ1btECLFuptN7fCUxXboJf5ubOz80tncg4dWr66dRvTTnqgvI27r6+voHUQ6Q6mnQwH017IPMy7juu7sRtAJCLFLoc0iWknPVDexn3o0KEAcnJyLl261KpVqyNHxPkQgkgLmHYyHEx7IVVQZQmWqBp30jMGlfZVWHUCJ/Zjv9iFUL4VWNELvTqjs+rhbMyegAlNUMIpaCUob+O+a9cu1UZWVtawYcMqtAaRtDDtZDiY9qJk4PVG9JOE0v4jftyJna8ygxzydKRXtCkkQSUj+Xt8n/fNmcd4/AzP1mGdMYzLP0l5G/cLFy6oV01OTk5OrlChRNLCtJPhYNpLkYOceMQ7wKHsXell/v746KMSn92+Hf36wdq6mKd27cJbb6FOHUGq0v20V0EV1cZTPNXIpbHiEf/qk5AGFfqf9Uf8eAu3BmDAdEwv5wwVuHOq+gATk02bNpW7QiLpYdrJcDDtRTVAg27odg7nFFDMxdwd2CF2RZJx5w5WrAAAf3+kppa42/bt+OOP4hv3kBAYG2PwYEHK05G0JyUl3blzp9inPOEZjvBruKb5VVvxLtK6yBzmX+ErRziW/5DyNu6qS59mZGQAqCbEzSqJdAbTToaDaS/KHOZDMOQczgFQQCF2OVISF5d/vZrSL1zzxx8lPuXtjc2b4eT00tXoNUJH0j527FhbW9sqVaoU+2w3dOuGbppd8fbt2w79HLyme2l2WqqoDdjQBV1ao7Xq4bf4dg7mdEXXCk1SduMeGRk5d+7cI0eOnDt3bu7cuQqFYvbs2SNGjKhMyUS6jWk3NO7uOHZM7CJEwrSTprz9NurXx/37mpktJwfHjiEnR5ONu06lPSsra/Xq1TVr1tTainv37o2Nje0DXv5SZHVQpx7q1UZt1UNLWDZHhVNeduM+Y8aMY8eOWVpazp8//8CBA3Z2dh07duSbO+klpl1fDR6MqsX9M/H9+yXeU0YsxsYICEDv3oIvxLSXx1EcPYVTb+EtsQvRaQ4OOHkS8+ZB8d+/T0RElJbhCxfQujWqVy/mqagofPABvvwSMo1+Q5hpJ13QBm0KPuyETpWYpOzG3czMzNbWNi4uzsbG5rXXXgOgzV8TibSJadczZmZ4BgClfRYYr3vf3RowAGFh6Kbhfy0vjGkvhR3sVBvP8dwDHlGIaoEWpR9i4Jo0wfbt+Q8/+QTff1/izkuWYPx41K1bzFPffgtvbw137WDaSY8YlblH/fr158+fP3ny5A8//FAul69atcrRsQIn0Rf022+/Ve5AIu1g2vXMl1/C1lbsIiouPR1aiA/TXooP8ME3+Ea1nYa0f/CPuPVITildO4DPPy++awcwaxYaNtR8PUw76Y2yP3Hftm3b3r17XVxcevfuffnyZQsLi3Xr1pVz9rVr1xZ8uG7duilTpkydOrUylRIJj2nXM40b48IFJCSUuEPpnwtq38KFOHtWS2sx7aWbhVk/4ae/8JfYhZAGMO2kN8pu3KtWrTp8+HDVtpOTk5OTU/lnr169+tKlSwcMGODq6grAzMzs9ddfr1SdRNrAtOufJk1KO4t97VptnE1efv7+2luLaS+T0X//KP09vreARXd0F7ceqjSmnfRG2afKvIoxY8ZcvXq1QYMGwcHBdnZ2derUGTBggKArEomFaZcineraJcTQ0n4Yh93hfgInxC6ERCChtL948cLLy6tnz57BwcFi10JCKe913CutWrVqM2bMePbs2XfffVerVi2hlyMSEdNOhsMQ0v4pPh2P8bnIBfACL1ZjdS/0ErsoEoF20v7sGXJzy7WnTAYrq2LGQ0JCevXqNXHixF69eg0fPtzY2FizFZIuEPYT9zyWlpaLFi36+eeffX19tbMikViYdjIc+p32MRgTghBXuBb7rBzyh3io5ZJIRIKm3c0NVlawsSnXf9bWcHGBUll4kujo6Pbt25uamlpZWSUlJWm8SNIFgn/iXoiHh0fRwaCgID8/v7yHmZmZWqyISChMOxkOfU27Jzz/wT/hCAeQhrR45F899CAOpiFtDkq9QSjpI42nPScH165VrIbr15GdjUJ3X5XL5fb29gDs7e2Tk5Pt7OwqNilJgeCNu0KhSEpKSk5OtrKysrOzc3d3L7rPiBEjCt4HwcLCQuiqiITAtJPhMMC0hyGsCV76prM97MdhXN59EElfCZ12ExP88QdiYipQUqtWhbt2AJaWlomJiY0bN05MTLQq9mQakj5hG/fg4GB/f38rKyt7e/vExMSUlJSpU6d6e3sLuiiRKJh2MhwGlfbmaG4MYwUURZ9KRKIjHDuiYxjCjLR16ilpmXbSXqcO+vR51UmcnJxiYmKcnZ1TUlL4cbu+ErZxDwgIiIyMNDFRr6JQKDw8PPT1zZ0MHNNOhsOg0t4P/TZj8zRMUyL/nOJsZD/HcwCN0TgCEeJVR4KTUNq9vLxGjx69d+/eKVOmGBnxN0n9JGzjbmtrGxAQ0L59e9XvqTExMdbW1oKuSCQWpp0Mh6GlfQRGjMCIgiP7sM8TnmLVQ9okobSbmZnt2LFD7CpIWMI27kFBQSEhISEhIXK53NLS0snJKTAwUNAVicTCtJPhYNrzPMKjFViR99AYxhMx0QLSPpufCmLaSacI27ibm5v7+Pj4+PgIugqRLmDayXAw7Xke4EGhC8vswZ7DOFwTNcUqiTSLaSedwlOgiIiIKqYburVEy2KfOodzgeAnsiQOpVLp6cmTuPSZtq/jTkREJHW1UTsc4bMwKwtZeYPncO4+7gNQ3WyVqPyykX0N18qZHBlkrdCqCgpfDzIxMbFv377p6ekCFEi6go07ERFRhdnBLghBBUeGYMge7BGrHpKuXOS2RdubuFn+QxzhGItYYxgXHKxXr150dHT//v01XSDpEJ4qQ0REpEnf4bs+6PMAD8QuhKRBCWXBi41W+hCZTGZiYiKTyTRXGukcfuJORESkAXkff97DvXu41wd9TuFULdQStyrSfcYwjkHMXdwt/yGv4TUTtnAGif+rE5He2oANx3G89H3MYPYpPjWDmXZKIj32Hb77A3/cwi3Vwxu4cRVXXeAialEkDaYwdYCD2FWQBLBxJyK99Qt+Kc9uF3BhL/ZWRVWh6yH91gANIhBxHuenYEoSkvLG7+N+fdQvtHOhwQxkvMALG9jkICcZyXVQR0tFE5Gk8Bx3ItI3kzCpQvsfwZFQhApUDBmU1/DaMAyrjuqqh6lIlUPuCU855IX+KzQYjvBFWCSH/BqufYSPCj71Ai/E/UORtBw5ckTsEkhA/MSdiPTNLMyygc1v+K3MPfdgj+qT0Yp+M4yoPN7Fu6oNG9gUfbbo4Pf4XrURgpC8QUtYHsERZzgLUyMRSQkbdyLSQ2MxdizGlrlbNKILntJApBGN0Og2bmtqtmd45gGPv/CXLWw1NScRSRRPlSEiItKkfdjXCZ00OKEc8qd4qsEJiUii2LgTERFpkiUsz+BMMpJV/znBKW+7pMEDOPAJPklGcjSiveCVN85L/hFRQXxHICIi0rAqqJJ3R/q92GsN60I7FBp0hWtXdLWGtQUs/OFfdH/SGzKZbMGCBVWrau8yVrdu3erSpYvWliNBsXEnIiISUNFrQRYdrIZq1VANgAlMeC1I/ebv7x8fH6/NFfv06ePk5KTNFUk4bNyJiIh03Tf45tU/huftxnSBg4ODgwPvtUSVxMadiIhI163Heo3Mcx7n92EfbzdGJFH8cioREZGOmozJmp3wKI7ux37NzklEWsNP3ImIiHTUaqxuiIa3cOvVp9qLvY/wCLzdGJGUsXEnIiLSUTLIZmGWRqa6giuqxp2IpIunyhARERERSQAbdyIiIipGV3QVuwQieglPlSEiIjIgYzF2EiaVZ89UpNZCrTVY8z7eF7oqIioPNu5ERET6zwpWqo00pKUhrZxHJSN5BEbcxu3P8JlgpRFRefFUGSIiIv33M35uhVaVOFAJZTayNV4PEVUCP3EnIiLSf7awPYmTCUgo/yFucJNDLlxJRFRRbNyJiIgMgg1sbGBT/v27odtBHBSuHiKqKJ4qQ0RERMWwha3YJRDRS9i4ExERkTgiEXkXd/MeHsKhJ3giYj1EOk7wU2Xu3r1rZGRUv3591cO///7b0dFR6EWJRMG0k+Fg2g3KZVxej/VCzLwbu1ujdVM0VT3chm2f4bN38I4Qa1Ua0066Q9jGfd68eZcuXbKwsKhSpcrmzZtNTU2HDh165coVQRclEgXTThq0cydiY9XbZmZYtAiWlqIW9DKm3dCEIjQUoQJNfhRHCz4chEGBCHSCU3M0F2jFCmHaSacIe6pMeHj44cOHd+7c2apVq4ULFwq6FpG4mHbSoPPnsX69+r/Vq+HuDrkuXduDaTcQXvCqgipaXjQb2Udx9AIuaHndkjDtpFOE/cS9Vq1av/zyi7u7+6effjp+/Pg1a9ZkZmYKuiKRWJh2enULFuDMGSQlFR6/eBFhYRg2TIyaisO0G4iBGLgbu7dgi3BLxCCmHurVRm3VwyhEDcOw5VhupDPfwWPaSacI27hv2bJl586dN2/e7NGjx4YNG7Zs2dKtWzdBVyQSC9NOr65tWxw/jiNH8kfWrsW9e+IVVAKm3XD0R//+6C/c/D/hJ2c4t0Zr1cNv8a03vHWnawfTTjpG8E/cJ02apNo2NjYeO3ZsTExM0d0yMjLS09MFrYRIaEw7aUTbtmjbNv9hSIguNu5MO2nKh/iw4MNZmCVWJSVh2kmnaPsGTB4eHkUHw8LCtm7dmvcwKytLixURCYVpJ8PBtJPhYNpJRII37gqFIikpKTk52crKys7Ozt3dveg+AwYMGDBgQN5DCwsLoasiEgLTToaDaSfDwbST7hC2cQ8ODvb397eysrK3t09MTExJSZk6daq3t7egixKJgmknw8G0k+Fg2kmnCNu4BwQEREZGmpioV1EoFB4eHow76SWmnQwH006Gg2knnSJs425raxsQENC+fXvV76kxMTHW1taCrkgkFqadDAfTToaDaSedImzjHhQUFBISEhISIpfLLS0tnZycAgMDBV2RSCxMu6Ttw754xFfuWCc4ucJVs/XoOKadDAfTTjpF2Mbd3Nzcx8fHx8dH0FWIdAHTLmk/4+dKH1sFVXZh10AM1GA9Oo5pJ8PBtJNO0aF7HBARadl7eO/VJ8lC1liMffV5iIiISqft67gTEemO6ZhuDvNwhFfu8Kd4ehzHASig0GhdRERExWDjTkQGbSImTsTEyh0bjWhV405ERKQFPFWGiIiIiEgC2LgTEREREUkAG3ciIiIiIglg405EREREJAFs3ImIiIiIJICNOxERERGRBLBxJyIiIiKSADbuREREREQSwMadiIiIiEgC2LgTEREREUkAG3ciIiIiIglg405EREREJAFs3ImIiIiIJICNOxERERGRBLBxJyIiIiKSADbuREREREQSwMadiIiIiEgC2LgTEREREUkAG3ciIiIiIglg405EREREJAFs3ImIiIiIJICNOxERERGRBLBxJyIiIiKSADbuREREREQSwMadiIiIiEgCTIReQKFQJCUlJScnW1lZ2dnZGRnxVwXSW0w7GQ6mnQwH0066Q9jGPTg42N/f38rKyt7ePjExMSUlZerUqd7e3oIuSiQKpp0MB9NOhoNpJ50i7G+NAQEBzKL+SAAAEPxJREFUkZGRBw4cWL9+/YEDB06cOLFx40ZNTe7n5xcZGamRqebNmxcbG1u5YxcuXOjk5OTk5FSvXr3jx4+rBmNjY+3t7Z2cnFxdXUs59sWLF15eXj179gwODlaNKJVKT0/PylVC4hI07RWlI6+O+/fv9+7du0uXLj/88EPe4JMnTwYOHNitW7d58+aVcixfHbrMEN7bi30bf/bsWZ8+fTp16hQQEFDKsYXSW87Mk24y2LSjfO+6hdJe7Ns+aZCwjbutrW1AQMDZs2cTEhLOnj27fv16a2trQVfUvoULF166dCkqKqpnz54uLi6qwdu3by9YsODSpUvh4eGlHBsSEtKrV6+IiAh/f3+FQpGYmNimTZtr165po27SNENIe0Vt2LBh9uzZ58+fX79+fd7gzp0733///bNnz0ZFRd29e7ekY/nq0GWGkPZi38a3b98+fPjwixcv/vTTT0qlsqRjC6W3nJkn3WSwaS/nu26htBf7tk8aJOypMkFBQSEhISEhIXK53NLS0snJKTAwULNL3L9/f8yYMdnZ2QMHDpwxY8bt27fHjh1rbm6elpZ2+PDhgICAGzdu1KhRw9fXd/To0aamps7OzosWLVq7du2ff/75zz//ODo6fvfdd6qp/Pz8lErl9OnTAcyaNSs9Pf3GjRsdOnRYuXJlmWWEhoZ6eHiYmpqqHt6+fXvfvn27d+8eOXLkBx988OTJk/feey8tLc3b23vatGl5R0VHR3t5eZmamlpZWSUlJdWrVy86Orp///6a/RGRdmgh7RUl+qtjyJAhTZo0ycnJsbGxyRts1apVixYtZDJZzZo1jYyM+OqQIkN4by/0Nq4aNDc3f/jwYUZGhkwmA1DO9BbKvGZ/UCQ0g017oXfdcqa92Ld90iBhG3dzc3MfHx8fH5+8EV9fXz8/v0K7PXz48N69e3kPS/kYo6hVq1ZNnz69X79+b7311tixY1esWLF06dKOHTvWr19ftUO9evUWLVoUFRW1cuXKdu3avfXWW4sWLQJga2u7Zs0aNzc3hUIBYM+ePbdu3Sr4719vvvnmunXr3n333Vu3bjVt2hTAli1bTpw4oXp21KhRvXr1yis4KCgo7x/0ATg4OCxcuLBdu3Zdu3Z955131q5dO3HixCFDhrzzzjsffPCBra2taje5XG5vbw/A3t4+OTnZzs7OxMRE9fcBSY4W0l5Ror86Wrdu/c8//7i4uIwePTrv2B49eigUimXLllWpUqV+/fqLFi3iq0NyDOG9vdDbuKoLGTx4sKOj4+rVqydNmiSTycr53l4o8+X/IZAuMNi0y2Sygu+65Ux7sW/7pEGCX1WmEA8Pj6KDMTExu3btyntYs2bN8k+YkJDQqVMnmUzWpk2be/fuxcXFdejQwdTUtE2bNqodunbtCsDS0nLFihU1a9bMyMhQjXfp0kU1rnp1RUVFyeXygjN37twZgLOzc1xcnCruo0aNGjVqVNEarl271qhRIxOT/B+mu7t73ioJCQm3bt26efNmaGioUql88uTJL7/8EhkZ6evra2lpmZiY2Lhx48TERCsrq/L/qUkSNJ72ihL91fHs2bOGDRveunXLzc1t2rRpqpBnZWV5eXm1adNm8+bNACT96qiLujLIlFDawU6oJeqqN+yEWkEz9O+9vdDbuKqV+eqrrzZu3Ni3b18PD48PP/ywnOktlHmSOgNJeyHlTHuxb/ukQdq+HGReOApyc3Nzc3PLexgTE1P++Rs3bhwVFdWvX7+YmJj69es3bNgwOjq6Y8eOV69eVe2g6qdXr17t6+v7xhtv9OzZs+B4niVLlmzbti0kJGTo0KGqkaioKCcnp99++83Ly0s1smnTpoiICNX2mDFj8r7DcezYsbxP31XmzJkzaNAgZ2fnmzdvNm7c+PXXX+/Tp4+Li8uGDRscHBymTp06depUALdv346JiXF2dk5JSbHT8b+WqRyETntFif7qmDlz5scff9ymTRsjI6OsrCzVs9u2bXNzc/vkk09UDyX96rCH/RqsOYVTkzFZoCWWLUPNmmjaFN26CbRCJen9e3uht3HVs3K53MbGxsTExMzMLCUlpZzpDQwMLJh5khzDTHsh5Uz7hAkTir7tkwZJ/nKQvr6+Y8aM+frrrz09Pa2trefMmTNu3Lg6deq89tpreWecAxgyZMjcuXOrV69eq1atsLCwovPIZLLZs2e/8847gwYNUh148uTJHTt2dOjQoXnz5qp9xo4dO3bs2KLHRkRETJgwQbV97NixQ4cOTZ8+fdSoUbm5ue+9956Njc3HH388evTor7/+2s3NrWBVXl5eo0eP3rt375QpU3jio9Tp4CXDRH91zJw5c8yYMTk5OZ6ennXq1FG9OlJTU8+dO7dp0yYAu3btkvqrYwqmTMEU4eZv1er/27vXkCi6Pw7gs+kqEblr9iIVNVdFC00tbStbNS+7ZVlmUG9KVKJIkLyAWHTRtMJIu3jrAdHK0uiFhRoalFhIkUKCYYYGiqQUamqW5mWd58Xy9y/b2LOrM2dnnO/nlZf1/H6c+c7h7Do7Sz18yN3wiySGtf3UqVPzl3FdetPS0mJiYqampsLDw93c3AxM75s3b+Zn3tXVlcWJAq6JNu16lwMZmHa9ZZ+tKYL/o7mkUqmmp6fnvp2ZmVGr1f/5V9u2bVt0xcePH/f09MzOzqpUqkUPQtN0ampqV1fXUkYA8p49e5aZmWmq6uTTbiycHcuJ2NKO9IoZ0r44SLsQ/WfauX3FXXcTJV9fX93z1La2Nq5vouTm5hYTEyOXyxlfGgfgDvm0GwtnB7AFazuIB9IOvCL420Hq8fHxefXq1dLHuX79+tIHAVHh4e0g9eDsALZgbQfxQNqBV0jfDhJguULaQTyQdhAPpB14hb9v+QIAAAAAgDmk7+NuiOHhYRsbGzK1tFqtVqu1sLAgU25yclIqlRK7RcbExMTKlSvJ1JqZmaFpev47zTk1OTm5detWMzMzvZ8nJSWRaYAtJNPOitnZ2enpaUtLS1M3YoTp6WndJ4mYuhEjTE5O+vv7/71npP0vsLazBWv74iDtbEHa9ZF5k6xRSN5n4+XLl2fPniVWLjY2tqOjg1g5kjP54MGD27dvEyun0WhGRkaIleMOyWPEivb29vj4eFN3YZwbN25UVlaaugvjREREDA0NmboLlmFtZwvWdv5D2tmCtOvBpTIAAAAAAAKAjTsAAAAAgABg4w4AAAAAIABmGRkZpu5Bn0KhcHZ2JlNr1apVCoWC2Kfy2tvbKxQKYm/sIzmTcrlcoVCsWbOGTDknJydnZ+c/39IhOCSPESssLS0VCoWdnZ2pGzGCjY2NQqGQyWSmbsQIyybh82FtZwvWdv5D2tmCtOuR0DTNUUMAAAAAAMAWXCoDAAAAACAA2LgDAAAAAAgANu4AAAAAAAKAjTsAAAAAgADwa+M+Pj5+6NAhlUpVUVFBpiJN01FRUQQKDQ0NRUZG7tix49y5cwTK9fX1hYSEKJXK4uJiAuV0ysrKCgoKuK7y6dMnOzs7Pz+/0NBQrmtxgTHk5JNvOMbe+H8U/jy1+TzJOn/2zP95NhDWdrZgbec/pJ0tSDszdj++dYnu37+fn58/NTUVEBAwMzPDdbm+vj5PT08XFxeuC9E0XVxcXFFRMTs7q1are3t7uS6XkZFRX1+v1Wp9fHy4rqUzMTHh6uqan5/PdaG6uro7d+5wXYU7jCEnnHyjMPbG86PAeGrzeZLpBXrm+TwbDms7W7C28x/SzhaknRG/XnFvbW319fWVSqVyuXxgYIDrcra2tq2trS4uLlwXoijK09NTrVZLJBIrK6sVKzif9ujoaJVKNTMzQ+x2pEVFRXv37iVQqKen5+nTpxqN5uHDhwTKsY4x5ISTbxTG3nh+FBhPbT5PMrVAzzyfZ8NhbWcL1nb+Q9rZgrQz4tfGfXh4WPfBLnZ2dt+/f+e6nEQiMTc3l0gkXBeiKGrnzp1yufzq1asWFhb29vZcl/Py8hoYGHB3dw8MDOS6FkVRo6OjLS0tYWFhBGopFIqMjIzq6urc3FwCIWEdY8gJJ98ojL3x/Cgwntp8nmRqgZ55Ps+Gw9rOFqzt/Ie0swVpZ8SvjbtMJuvv76coqr+/Xy6Xm7odNk1NTUVFRf38+fPu3bsEyo2Ojjo6OnZ1dTU2No6MjHBdLi8vLyUlhesqOmq1WqlUWlpaKpXK7u5uMkVZxBhyPiefsTchHgU+T/JChDjPjIQ4+QbC2s4WpJ3/kHa2LCXt/Nq4+/n5tbW1abXaHz9+rFu3ztTtsKm8vDw8PPzy5ctSqZRAudTU1La2NjMzsxUrVkxNTXFd7vPnz+fPn79w4UJhYeG7d+84rZWenv727Vuapjs6Ooh9DDKLGEPO5+Qz9ibEo8DnSV6IEOeZkRAn30BY29mCtPMf0s6WJaWdtSvt2TA+Pn748GG1Wv3o0SNiRTUaDYEq8fHxHh4e3t7e3t7eXV1dXJf7+PGjUqncsmVLVlYW17Xm1NTUEHhLR09PT1BQkEqlKioq4roWF/RC/vz589OnT5sk+QZibFgQR2Hu1Ob/JM/R61kQ82wIrO1swdrOf0g7W5B2RhKaprl5OgEAAAAAAKzh16UyAAAAAADACBt3AAAAAAABwMYdAAAAAEAAsHEHAAAAABAAbNwBAAAAAAQAG3cAAAAAAAHAxh0AAAAAQACwcQcAAAAAEABs3AEAAAAABAAbdwAAAAAAAcDGHQAAAABAALBxBwAAAAAQAGzcuRUXF1dVVaX7es+ePe/fv1/0UJ2dnQv9eWNjo5OTU3BwcHBwcHR0NFvDAhgFaQfxQNpBPJB2XjE3dQPL3KVLlw4ePHjgwIHm5ma5XL558+ZFD9XZ2fn169eFRjh27Fh2djbrwwIYDmkH8UDaQTyQdl7BK+7ccnBwCA0NraysvHLlSlZWFkVRQ0NDarU6ICDg1q1bFEX19vaGhIRoNJqLFy9SFHXz5s0TJ06kpKQ0NTXt27dPo9G8fv1aN1RpaWlJSUl7e7tard61a1deXt5f6oaGhk5MTMzOzgYGBg4ODs6vWFBQkJiYuH///pSUlLlhR0ZGuJ4KWPaQdhAPpB3EA2nnFWzcOZeenp6dne3g4ODq6kpRVEFBwcmTJ5uamurq6gYHB799+5abm1tfX9/Q0KB7vK2tbV5eXm1tbXJycmlp6a9fv3Q/j4+PP378eFlZWXJyckNDw5MnT+ZntLy8XPcPpoSEBIqiwsPDGxsbm5ubg4KCCgsL51ekKGrt2rXV1dUfPnzQarW6YeVyOel5geUIaQfxQNpBPJB2/sClMpyztrYOCgqKi4vTfdvV1dXR0VFTU0PT9NDQkEwmy8nJsbKy+v37t+4B27dvpygqISEhMzNzeHg4LS1t/mjd3d3+/v4SiWTTpk1fvnyZi6neP5giIyP/+eef1atXHzly5Nq1a/MrUhSlVCopipLJZDRNcz8BICJIO4gH0g7igbTzBzbuJEilUqlUqvt6/fr1YWFhwcHBJSUlCoUiKSkpKSnJw8NDpVLpHmBubk5RVFVVVU5ODkVRsbGxtbW1ul/RNO3s7NzS0rJ79+62tjZ7e/uFKm7cuLGzs9PKysrLy0uv4lyJOWILPXAKaQfxQNpBPJB2nsClMqQlJibm5ORERESMjY1JpdLo6OgzZ84cPXrUxsbmxYsXcw9zc3PTPbuNjY3V/cTR0bGkpCQ2NjYvLy8kJCQqKsra2nru8ffu3dv5P2NjYxKJZMOGDe7u7hKJRK+iXj+6YUVyZRgQhrSDeCDtIB5IuwlJxPMcBQAAAABAuPCKOwAAAACAAPwLQfBprXq0quYAAAAASUVORK5CYII='>"
       ],
       "metadata": {},
       "output_type": "pyout",
       "prompt_number": 232,
       "text": [
        "<Reports.NotebookTools.Show at 0x74dcb10>"
       ]
      }
     ],
     "prompt_number": 232
    },
    {
     "cell_type": "markdown",
     "metadata": {},
     "source": [
      "#Run Mutation Data   \n",
      "\n",
      "###Filter based on mutation rate\n",
      "* We want to filter noisy features that are just artifacts of mutation rate.\n",
      "* The caveat is that we do not want to get rid of passengers that may still have information even though they are mutated at the baseline rate.\n",
      "* The current solution is to only get rid of features with more that half of the patients mutated that are also highly correlated with mutation rate.  We're assuming that the patients without mutations to these pathways are the ones with very low mutation rates such that the actuall genes in the pathway are irrelavant. "
     ]
    },
    {
     "cell_type": "code",
     "collapsed": false,
     "input": [
      "tt = lambda a,b: kruskal_pandas(b,a)\n",
      "def fc(hit_vec, response_vec):\n",
      "    f = response_vec.groupby(hit_vec).median()\n",
      "    return f[0] > f[1]"
     ],
     "language": "python",
     "metadata": {},
     "outputs": [],
     "prompt_number": 227
    },
    {
     "cell_type": "code",
     "collapsed": false,
     "input": [
      "rate = global_vars.mutation.rate_non\n",
      "cc = screen_feature(rate, tt, mut.features)"
     ],
     "language": "python",
     "metadata": {},
     "outputs": [],
     "prompt_number": 228
    },
    {
     "cell_type": "code",
     "collapsed": false,
     "input": [
      "fc_apply = lambda s: fc(s, rate)\n",
      "direction = mut.features.apply(fc_apply, axis=1)\n",
      "direction.name = 'direction'\n",
      "\n",
      "cc = cc.join(direction)\n",
      "cc = cc[cc.direction==False]"
     ],
     "language": "python",
     "metadata": {},
     "outputs": [],
     "prompt_number": 80
    },
    {
     "cell_type": "code",
     "collapsed": false,
     "input": [
      "cc.head()"
     ],
     "language": "python",
     "metadata": {},
     "outputs": [
      {
       "html": [
        "<div style=\"max-height:1000px;max-width:1500px;overflow:auto;\">\n",
        "<table border=\"1\" class=\"dataframe\">\n",
        "  <thead>\n",
        "    <tr style=\"text-align: right;\">\n",
        "      <th></th>\n",
        "      <th>H</th>\n",
        "      <th>p</th>\n",
        "      <th>q</th>\n",
        "      <th>direction</th>\n",
        "    </tr>\n",
        "  </thead>\n",
        "  <tbody>\n",
        "    <tr>\n",
        "      <th>REACTOME_METABOLISM_OF_CARBOHYDRATES</th>\n",
        "      <td> 87.26</td>\n",
        "      <td> 9.53e-21</td>\n",
        "      <td> 9.43e-18</td>\n",
        "      <td> False</td>\n",
        "    </tr>\n",
        "    <tr>\n",
        "      <th>REACTOME_NCAM1_INTERACTIONS</th>\n",
        "      <td> 73.17</td>\n",
        "      <td> 1.19e-17</td>\n",
        "      <td> 4.72e-15</td>\n",
        "      <td> False</td>\n",
        "    </tr>\n",
        "    <tr>\n",
        "      <th>REACTOME_ADHERENS_JUNCTIONS_INTERACTIONS</th>\n",
        "      <td> 72.81</td>\n",
        "      <td> 1.43e-17</td>\n",
        "      <td> 4.72e-15</td>\n",
        "      <td> False</td>\n",
        "    </tr>\n",
        "    <tr>\n",
        "      <th>KEGG_PHOSPHATIDYLINOSITOL_SIGNALING_SYSTEM</th>\n",
        "      <td> 70.12</td>\n",
        "      <td> 5.58e-17</td>\n",
        "      <td> 1.38e-14</td>\n",
        "      <td> False</td>\n",
        "    </tr>\n",
        "    <tr>\n",
        "      <th>KEGG_CARDIAC_MUSCLE_CONTRACTION</th>\n",
        "      <td> 69.07</td>\n",
        "      <td> 9.48e-17</td>\n",
        "      <td> 1.64e-14</td>\n",
        "      <td> False</td>\n",
        "    </tr>\n",
        "  </tbody>\n",
        "</table>\n",
        "</div>"
       ],
       "metadata": {},
       "output_type": "pyout",
       "prompt_number": 81,
       "text": [
        "                                                H         p         q direction\n",
        "REACTOME_METABOLISM_OF_CARBOHYDRATES        87.26  9.53e-21  9.43e-18     False\n",
        "REACTOME_NCAM1_INTERACTIONS                 73.17  1.19e-17  4.72e-15     False\n",
        "REACTOME_ADHERENS_JUNCTIONS_INTERACTIONS    72.81  1.43e-17  4.72e-15     False\n",
        "KEGG_PHOSPHATIDYLINOSITOL_SIGNALING_SYSTEM  70.12  5.58e-17  1.38e-14     False\n",
        "KEGG_CARDIAC_MUSCLE_CONTRACTION             69.07  9.48e-17  1.64e-14     False"
       ]
      }
     ],
     "prompt_number": 81
    },
    {
     "cell_type": "markdown",
     "metadata": {},
     "source": [
      "###Screen for survival associated features  \n",
      "* First pass is a log-rank tet on all features\n",
      "* Next we run the full model with covariates  \n",
      "* We use a combination of the two tests to filter down the candidate associations and pull out the top biomarkers\n",
      "* Here the log-rank test is really underpowered.  \n",
      "* The mutation-rate covariate helps a lot to explain away many of the patients who have very high mutation rates and good prognosis.\n",
      "* The age covariate often explains patients who are in a good-prognosis group but have bad outcomes.\n",
      "* The results of the full model are kind of hard to interperet and non-necessarily relavant as we get a lot of features that help to explain mutation rate effect, ect. and thus improve the model but we don't exactly know what to do with these things for now.   "
     ]
    },
    {
     "cell_type": "markdown",
     "metadata": {},
     "source": [
      "####First pass is a log-rank test on all features"
     ]
    },
    {
     "cell_type": "code",
     "collapsed": false,
     "input": [
      "surv = clinical.survival.survival_5y"
     ],
     "language": "python",
     "metadata": {},
     "outputs": [],
     "prompt_number": 82
    },
    {
     "cell_type": "code",
     "collapsed": false,
     "input": [
      "df = mut.features.ix[((cc.p>.00001) + (mut.features.sum(1) < (mut.features.shape[1] / 2.))) > 0]\n",
      "df = df.ix[:,keepers].dropna(axis=1)\n",
      "\n",
      "lr = df.apply(log_rank, args=(surv,), axis=1)\n",
      "lr['q'] = bhCorrection(lr.p)"
     ],
     "language": "python",
     "metadata": {},
     "outputs": [],
     "prompt_number": 83
    },
    {
     "cell_type": "code",
     "collapsed": false,
     "input": [
      "lr.sort('p').head()"
     ],
     "language": "python",
     "metadata": {},
     "outputs": [
      {
       "html": [
        "<div style=\"max-height:1000px;max-width:1500px;overflow:auto;\">\n",
        "<table border=\"1\" class=\"dataframe\">\n",
        "  <thead>\n",
        "    <tr style=\"text-align: right;\">\n",
        "      <th></th>\n",
        "      <th>chi2</th>\n",
        "      <th>p</th>\n",
        "      <th>q</th>\n",
        "    </tr>\n",
        "  </thead>\n",
        "  <tbody>\n",
        "    <tr>\n",
        "      <th>MUC5B</th>\n",
        "      <td> 14.19</td>\n",
        "      <td> 1.65e-04</td>\n",
        "      <td> 0.09</td>\n",
        "    </tr>\n",
        "    <tr>\n",
        "      <th>TP53</th>\n",
        "      <td> 13.92</td>\n",
        "      <td> 1.90e-04</td>\n",
        "      <td> 0.09</td>\n",
        "    </tr>\n",
        "    <tr>\n",
        "      <th>REACTOME_MRNA_SPLICING_MINOR_PATHWAY</th>\n",
        "      <td>  9.87</td>\n",
        "      <td> 1.68e-03</td>\n",
        "      <td> 0.42</td>\n",
        "    </tr>\n",
        "    <tr>\n",
        "      <th>PDE10A</th>\n",
        "      <td>  9.64</td>\n",
        "      <td> 1.91e-03</td>\n",
        "      <td> 0.42</td>\n",
        "    </tr>\n",
        "    <tr>\n",
        "      <th>KEGG_SPLICEOSOME</th>\n",
        "      <td>  9.25</td>\n",
        "      <td> 2.36e-03</td>\n",
        "      <td> 0.42</td>\n",
        "    </tr>\n",
        "  </tbody>\n",
        "</table>\n",
        "</div>"
       ],
       "metadata": {},
       "output_type": "pyout",
       "prompt_number": 84,
       "text": [
        "                                       chi2         p     q\n",
        "MUC5B                                 14.19  1.65e-04  0.09\n",
        "TP53                                  13.92  1.90e-04  0.09\n",
        "REACTOME_MRNA_SPLICING_MINOR_PATHWAY   9.87  1.68e-03  0.42\n",
        "PDE10A                                 9.64  1.91e-03  0.42\n",
        "KEGG_SPLICEOSOME                       9.25  2.36e-03  0.42"
       ]
      }
     ],
     "prompt_number": 84
    },
    {
     "cell_type": "markdown",
     "metadata": {},
     "source": [
      "####Next we run the full screen"
     ]
    },
    {
     "cell_type": "code",
     "collapsed": false,
     "input": [
      "rate = global_vars[('mutation', 'rate_non')]\n",
      "rate = np.log2(rate)\n",
      "rate.name = 'rate'\n",
      "cov_df = pd.concat([age, rate, old], axis=1)\n",
      "test = lambda s: get_cox_ph_ms(surv, s, cov_df, return_val='LR', interactions=False);"
     ],
     "language": "python",
     "metadata": {},
     "outputs": [],
     "prompt_number": 85
    },
    {
     "cell_type": "code",
     "collapsed": false,
     "input": [
      "df = mut.features.ix[((cc.p>.00001) + (mut.features.sum(1) < (mut.features.shape[1] / 2.))) > 0]\n",
      "df = df.ix[:,keepers_o].dropna(axis=1)"
     ],
     "language": "python",
     "metadata": {},
     "outputs": [],
     "prompt_number": 86
    },
    {
     "cell_type": "code",
     "collapsed": false,
     "input": [
      "mut_res_t = df.apply(test, 1)\n",
      "mut_res_t['LR_q'] = bhCorrection(mut_res_t.LR)"
     ],
     "language": "python",
     "metadata": {},
     "outputs": [],
     "prompt_number": 87
    },
    {
     "cell_type": "code",
     "collapsed": false,
     "input": [
      "mut_res_t.sort('LR').head()"
     ],
     "language": "python",
     "metadata": {},
     "outputs": [
      {
       "html": [
        "<div style=\"max-height:1000px;max-width:1500px;overflow:auto;\">\n",
        "<table border=\"1\" class=\"dataframe\">\n",
        "  <thead>\n",
        "    <tr style=\"text-align: right;\">\n",
        "      <th></th>\n",
        "      <th>LR</th>\n",
        "      <th>feature_p</th>\n",
        "      <th>fmla</th>\n",
        "      <th>hazzard</th>\n",
        "      <th>LR_q</th>\n",
        "    </tr>\n",
        "  </thead>\n",
        "  <tbody>\n",
        "    <tr>\n",
        "      <th>TP53</th>\n",
        "      <td> 9.13e-05</td>\n",
        "      <td> 6.13e-04</td>\n",
        "      <td>        Surv(days, event) ~ feature + old\\n</td>\n",
        "      <td> 2.85e+00</td>\n",
        "      <td> 0.08</td>\n",
        "    </tr>\n",
        "    <tr>\n",
        "      <th>KEGG_CELL_CYCLE</th>\n",
        "      <td> 2.30e-04</td>\n",
        "      <td> 5.32e-03</td>\n",
        "      <td>        Surv(days, event) ~ feature + old\\n</td>\n",
        "      <td> 5.12e+00</td>\n",
        "      <td> 0.10</td>\n",
        "    </tr>\n",
        "    <tr>\n",
        "      <th>MUC5B</th>\n",
        "      <td> 3.45e-04</td>\n",
        "      <td> 4.48e-05</td>\n",
        "      <td>        Surv(days, event) ~ feature + old\\n</td>\n",
        "      <td> 3.17e+00</td>\n",
        "      <td> 0.10</td>\n",
        "    </tr>\n",
        "    <tr>\n",
        "      <th>COL24A1</th>\n",
        "      <td> 5.77e-04</td>\n",
        "      <td> 9.94e-01</td>\n",
        "      <td> Surv(days, event) ~ feature + rate + old\\n</td>\n",
        "      <td> 2.95e-08</td>\n",
        "      <td> 0.11</td>\n",
        "    </tr>\n",
        "    <tr>\n",
        "      <th>BIOCARTA_PGC1A_PATHWAY</th>\n",
        "      <td> 6.28e-04</td>\n",
        "      <td> 7.78e-03</td>\n",
        "      <td> Surv(days, event) ~ feature + rate + old\\n</td>\n",
        "      <td> 1.45e-01</td>\n",
        "      <td> 0.11</td>\n",
        "    </tr>\n",
        "  </tbody>\n",
        "</table>\n",
        "</div>"
       ],
       "metadata": {},
       "output_type": "pyout",
       "prompt_number": 88,
       "text": [
        "                              LR  feature_p                                        fmla   hazzard  LR_q\n",
        "TP53                    9.13e-05   6.13e-04         Surv(days, event) ~ feature + old\\n  2.85e+00  0.08\n",
        "KEGG_CELL_CYCLE         2.30e-04   5.32e-03         Surv(days, event) ~ feature + old\\n  5.12e+00  0.10\n",
        "MUC5B                   3.45e-04   4.48e-05         Surv(days, event) ~ feature + old\\n  3.17e+00  0.10\n",
        "COL24A1                 5.77e-04   9.94e-01  Surv(days, event) ~ feature + rate + old\\n  2.95e-08  0.11\n",
        "BIOCARTA_PGC1A_PATHWAY  6.28e-04   7.78e-03  Surv(days, event) ~ feature + rate + old\\n  1.45e-01  0.11"
       ]
      }
     ],
     "prompt_number": 88
    },
    {
     "cell_type": "markdown",
     "metadata": {},
     "source": [
      "#### Here are the unfiltered results  \n",
      "* Note that the cell cycle pathway does nearly as well as TP53 itself, it is very likely that some of the genes in this pathway serve the same function, but including the pathway greatly increases the complexity of downstream analysis and leads to some tough deconvolution of the interaction of HPV with TP53.  \n",
      "* We have a bunch of redundancy here with closely defined gene-sets, so now we will filter some of these out.\n",
      "* Note that I'm choosing to rank the results by the univariate test, while using the full model as a filter, this reduces the biomarkers we followup on to have relatively straight-forward interpretations as their effect is more direct and less mediated by interaction with mutation rate or age."
     ]
    },
    {
     "cell_type": "code",
     "collapsed": false,
     "input": [
      "mut_res = pd.concat([mut_res_t[mut_res_t.LR_q < .3], lr[lr.p < .05]], \n",
      "                    keys=['Full','Univariate'], axis=1).sort([('Full', 'LR')])\n",
      "mut_res = mut_res.dropna()\n",
      "mut_res.head()"
     ],
     "language": "python",
     "metadata": {},
     "outputs": [
      {
       "html": [
        "<div style=\"max-height:1000px;max-width:1500px;overflow:auto;\">\n",
        "<table border=\"1\" class=\"dataframe\">\n",
        "  <thead>\n",
        "    <tr>\n",
        "      <th></th>\n",
        "      <th colspan=\"5\" halign=\"left\">Full</th>\n",
        "      <th colspan=\"3\" halign=\"left\">Univariate</th>\n",
        "    </tr>\n",
        "    <tr>\n",
        "      <th></th>\n",
        "      <th>LR</th>\n",
        "      <th>feature_p</th>\n",
        "      <th>fmla</th>\n",
        "      <th>hazzard</th>\n",
        "      <th>LR_q</th>\n",
        "      <th>chi2</th>\n",
        "      <th>p</th>\n",
        "      <th>q</th>\n",
        "    </tr>\n",
        "  </thead>\n",
        "  <tbody>\n",
        "    <tr>\n",
        "      <th>TP53</th>\n",
        "      <td> 9.13e-05</td>\n",
        "      <td> 6.13e-04</td>\n",
        "      <td>        Surv(days, event) ~ feature + old\\n</td>\n",
        "      <td> 2.85e+00</td>\n",
        "      <td> 0.08</td>\n",
        "      <td> 13.92</td>\n",
        "      <td> 1.90e-04</td>\n",
        "      <td> 0.09</td>\n",
        "    </tr>\n",
        "    <tr>\n",
        "      <th>KEGG_CELL_CYCLE</th>\n",
        "      <td> 2.30e-04</td>\n",
        "      <td> 5.32e-03</td>\n",
        "      <td>        Surv(days, event) ~ feature + old\\n</td>\n",
        "      <td> 5.12e+00</td>\n",
        "      <td> 0.10</td>\n",
        "      <td>  8.94</td>\n",
        "      <td> 2.79e-03</td>\n",
        "      <td> 0.42</td>\n",
        "    </tr>\n",
        "    <tr>\n",
        "      <th>MUC5B</th>\n",
        "      <td> 3.45e-04</td>\n",
        "      <td> 4.48e-05</td>\n",
        "      <td>        Surv(days, event) ~ feature + old\\n</td>\n",
        "      <td> 3.17e+00</td>\n",
        "      <td> 0.10</td>\n",
        "      <td> 14.19</td>\n",
        "      <td> 1.65e-04</td>\n",
        "      <td> 0.09</td>\n",
        "    </tr>\n",
        "    <tr>\n",
        "      <th>COL24A1</th>\n",
        "      <td> 5.77e-04</td>\n",
        "      <td> 9.94e-01</td>\n",
        "      <td> Surv(days, event) ~ feature + rate + old\\n</td>\n",
        "      <td> 2.95e-08</td>\n",
        "      <td> 0.11</td>\n",
        "      <td>  6.08</td>\n",
        "      <td> 1.37e-02</td>\n",
        "      <td> 0.58</td>\n",
        "    </tr>\n",
        "    <tr>\n",
        "      <th>BIOCARTA_PGC1A_PATHWAY</th>\n",
        "      <td> 6.28e-04</td>\n",
        "      <td> 7.78e-03</td>\n",
        "      <td> Surv(days, event) ~ feature + rate + old\\n</td>\n",
        "      <td> 1.45e-01</td>\n",
        "      <td> 0.11</td>\n",
        "      <td>  8.10</td>\n",
        "      <td> 4.42e-03</td>\n",
        "      <td> 0.48</td>\n",
        "    </tr>\n",
        "  </tbody>\n",
        "</table>\n",
        "</div>"
       ],
       "metadata": {},
       "output_type": "pyout",
       "prompt_number": 89,
       "text": [
        "                            Full                                                   Full      Full        Univariate                \n",
        "                              LR  feature_p                                        fmla   hazzard  LR_q        chi2         p     q\n",
        "TP53                    9.13e-05   6.13e-04         Surv(days, event) ~ feature + old\\n  2.85e+00  0.08       13.92  1.90e-04  0.09\n",
        "KEGG_CELL_CYCLE         2.30e-04   5.32e-03         Surv(days, event) ~ feature + old\\n  5.12e+00  0.10        8.94  2.79e-03  0.42\n",
        "MUC5B                   3.45e-04   4.48e-05         Surv(days, event) ~ feature + old\\n  3.17e+00  0.10       14.19  1.65e-04  0.09\n",
        "COL24A1                 5.77e-04   9.94e-01  Surv(days, event) ~ feature + rate + old\\n  2.95e-08  0.11        6.08  1.37e-02  0.58\n",
        "BIOCARTA_PGC1A_PATHWAY  6.28e-04   7.78e-03  Surv(days, event) ~ feature + rate + old\\n  1.45e-01  0.11        8.10  4.42e-03  0.48"
       ]
      }
     ],
     "prompt_number": 89
    },
    {
     "cell_type": "markdown",
     "metadata": {},
     "source": [
      "##CNA Screen "
     ]
    },
    {
     "cell_type": "markdown",
     "metadata": {},
     "source": [
      "###Univariate model"
     ]
    },
    {
     "cell_type": "code",
     "collapsed": false,
     "input": [
      "df = (cn.features.ix['Deletion', keepers].dropna(1) < 0).astype(int)\n",
      "df = df[df.sum(1) > 10]\n",
      "\n",
      "lr = df.apply(log_rank, args=(surv,), axis=1)\n",
      "lr = lr.sort('p')\n",
      "lr_del = lr"
     ],
     "language": "python",
     "metadata": {},
     "outputs": [],
     "prompt_number": 90
    },
    {
     "cell_type": "code",
     "collapsed": false,
     "input": [
      "df = (cn.features.ix['Amplification', keepers].dropna(1) > 0).astype(str)\n",
      "df = df[df.sum(1) > 10]\n",
      "\n",
      "lr = df.apply(log_rank, args=(surv,), axis=1)\n",
      "lr = lr.sort('p')\n",
      "lr_amp = lr"
     ],
     "language": "python",
     "metadata": {},
     "outputs": [],
     "prompt_number": 91
    },
    {
     "cell_type": "code",
     "collapsed": false,
     "input": [
      "lr = pd.concat([lr_del, lr_amp], keys=['Deletion','Amplification'])\n",
      "lr['q'] = bhCorrection(lr.p)"
     ],
     "language": "python",
     "metadata": {},
     "outputs": [],
     "prompt_number": 92
    },
    {
     "cell_type": "code",
     "collapsed": false,
     "input": [
      "lr.sort('p').head()"
     ],
     "language": "python",
     "metadata": {},
     "outputs": [
      {
       "html": [
        "<div style=\"max-height:1000px;max-width:1500px;overflow:auto;\">\n",
        "<table border=\"1\" class=\"dataframe\">\n",
        "  <thead>\n",
        "    <tr style=\"text-align: right;\">\n",
        "      <th></th>\n",
        "      <th>LR</th>\n",
        "      <th>p</th>\n",
        "    </tr>\n",
        "  </thead>\n",
        "  <tbody>\n",
        "    <tr>\n",
        "      <th>spread_inferred</th>\n",
        "      <td> 28.90</td>\n",
        "      <td> 7.61e-08</td>\n",
        "    </tr>\n",
        "    <tr>\n",
        "      <th>lymph_stage</th>\n",
        "      <td> 14.82</td>\n",
        "      <td> 1.18e-04</td>\n",
        "    </tr>\n",
        "    <tr>\n",
        "      <th>old_age</th>\n",
        "      <td> 12.03</td>\n",
        "      <td> 5.23e-04</td>\n",
        "    </tr>\n",
        "    <tr>\n",
        "      <th>lymph_status</th>\n",
        "      <td> 11.41</td>\n",
        "      <td> 7.29e-04</td>\n",
        "    </tr>\n",
        "    <tr>\n",
        "      <th>invasion</th>\n",
        "      <td>  8.74</td>\n",
        "      <td> 3.12e-03</td>\n",
        "    </tr>\n",
        "  </tbody>\n",
        "</table>\n",
        "</div>"
       ],
       "metadata": {},
       "output_type": "pyout",
       "prompt_number": 105,
       "text": [
        "                    LR         p\n",
        "spread_inferred  28.90  7.61e-08\n",
        "lymph_stage      14.82  1.18e-04\n",
        "old_age          12.03  5.23e-04\n",
        "lymph_status     11.41  7.29e-04\n",
        "invasion          8.74  3.12e-03"
       ]
      }
     ],
     "prompt_number": 105
    },
    {
     "cell_type": "markdown",
     "metadata": {},
     "source": [
      "###Multi-variate model"
     ]
    },
    {
     "cell_type": "code",
     "collapsed": false,
     "input": [
      "rate = cn.df.ix['Deletion'].sum()\n",
      "rate.name = 'rate'\n",
      "cov_df = pd.concat([age, rate, old], axis=1).dropna()\n",
      "test = lambda s: get_cox_ph_ms(surv, s, cov_df, return_val='LR', interactions=False);\n",
      "\n",
      "df = (cn.features.ix['Deletion', keepers_o].dropna(1) < 0).astype(int)\n",
      "df = df[df.sum(1) > 10]\n",
      "cn_res_t = df.apply(test, 1)\n",
      "cn_res_t['LR_q'] = bhCorrection(cn_res_t.LR)"
     ],
     "language": "python",
     "metadata": {},
     "outputs": [],
     "prompt_number": 94
    },
    {
     "cell_type": "code",
     "collapsed": false,
     "input": [
      "rate = cn.df.ix['Amplification'].sum()\n",
      "rate.name = 'rate'\n",
      "cov_df = pd.concat([age, rate, old], axis=1).dropna()\n",
      "test = lambda s: get_cox_ph_ms(surv, s, cov_df, return_val='LR', interactions=False);\n",
      "\n",
      "df = (cn.features.ix['Amplification', keepers_o].dropna(1) > 0).astype(int)\n",
      "df = df[df.sum(1) > 10]\n",
      "cn_res_a = df.apply(test, 1)\n",
      "cn_res_a['LR_q'] = bhCorrection(cn_res_a.LR)"
     ],
     "language": "python",
     "metadata": {},
     "outputs": [],
     "prompt_number": 95
    },
    {
     "cell_type": "code",
     "collapsed": false,
     "input": [
      "cn_full = pd.concat([cn_del_full, cn_amp_full], keys=['Deletion','Amplification'])\n",
      "cn_full['LR_q'] = bhCorrection(cn_full.LR)"
     ],
     "language": "python",
     "metadata": {},
     "outputs": [
      {
       "ename": "NameError",
       "evalue": "name 'cn_del_full' is not defined",
       "output_type": "pyerr",
       "traceback": [
        "\u001b[1;31m---------------------------------------------------------------------------\u001b[0m\n\u001b[1;31mNameError\u001b[0m                                 Traceback (most recent call last)",
        "\u001b[1;32m<ipython-input-96-41971eabd4f7>\u001b[0m in \u001b[0;36m<module>\u001b[1;34m()\u001b[0m\n\u001b[1;32m----> 1\u001b[1;33m \u001b[0mcn_full\u001b[0m \u001b[1;33m=\u001b[0m \u001b[0mpd\u001b[0m\u001b[1;33m.\u001b[0m\u001b[0mconcat\u001b[0m\u001b[1;33m(\u001b[0m\u001b[1;33m[\u001b[0m\u001b[0mcn_del_full\u001b[0m\u001b[1;33m,\u001b[0m \u001b[0mcn_amp_full\u001b[0m\u001b[1;33m]\u001b[0m\u001b[1;33m,\u001b[0m \u001b[0mkeys\u001b[0m\u001b[1;33m=\u001b[0m\u001b[1;33m[\u001b[0m\u001b[1;34m'Deletion'\u001b[0m\u001b[1;33m,\u001b[0m\u001b[1;34m'Amplification'\u001b[0m\u001b[1;33m]\u001b[0m\u001b[1;33m)\u001b[0m\u001b[1;33m\u001b[0m\u001b[0m\n\u001b[0m\u001b[0;32m      2\u001b[0m \u001b[0mcn_full\u001b[0m\u001b[1;33m[\u001b[0m\u001b[1;34m'LR_q'\u001b[0m\u001b[1;33m]\u001b[0m \u001b[1;33m=\u001b[0m \u001b[0mbhCorrection\u001b[0m\u001b[1;33m(\u001b[0m\u001b[0mcn_full\u001b[0m\u001b[1;33m.\u001b[0m\u001b[0mLR\u001b[0m\u001b[1;33m)\u001b[0m\u001b[1;33m\u001b[0m\u001b[0m\n",
        "\u001b[1;31mNameError\u001b[0m: name 'cn_del_full' is not defined"
       ]
      }
     ],
     "prompt_number": 96
    },
    {
     "cell_type": "code",
     "collapsed": false,
     "input": [
      "cn_res = pd.concat([cn_full[cn_full.LR_q < .9], lr[lr.p < .05]], \n",
      "                    keys=['Full','Univariate'], axis=1).sort([('Full', 'LR')])\n",
      "cn_res = cn_res.dropna()\n",
      "cn_res.head()"
     ],
     "language": "python",
     "metadata": {},
     "outputs": []
    },
    {
     "cell_type": "markdown",
     "metadata": {},
     "source": [
      "##RPPA Screen"
     ]
    },
    {
     "cell_type": "code",
     "collapsed": false,
     "input": [
      "cox = cox_screen(rppa.df.xs('01', 1, 1).ix[:,keepers], surv)"
     ],
     "language": "python",
     "metadata": {},
     "outputs": []
    },
    {
     "cell_type": "code",
     "collapsed": false,
     "input": [
      "cox.head()"
     ],
     "language": "python",
     "metadata": {},
     "outputs": []
    },
    {
     "cell_type": "markdown",
     "metadata": {},
     "source": [
      "##RNA Screen"
     ]
    },
    {
     "cell_type": "code",
     "collapsed": false,
     "input": [
      "cox = cox_screen(rna.pathways, surv)"
     ],
     "language": "python",
     "metadata": {},
     "outputs": []
    },
    {
     "cell_type": "code",
     "collapsed": false,
     "input": [
      "cox.head()"
     ],
     "language": "python",
     "metadata": {},
     "outputs": []
    },
    {
     "cell_type": "code",
     "collapsed": false,
     "input": [
      "pc1 = rna.global_vars.pc1\n",
      "background = rna.global_vars.background\n",
      "cov_df = pd.concat([age, pc1, background, old], axis=1).dropna()\n",
      "test = lambda s: get_cox_ph_ms(surv, s, cov_df, return_val='LR', interactions=False);\n",
      "\n",
      "df = rna.pathways.ix[:, keepers_o]\n",
      "rna_res = df.apply(test, 1)\n",
      "rna_res['LR_q'] = bhCorrection(rna_res.LR)"
     ],
     "language": "python",
     "metadata": {},
     "outputs": []
    },
    {
     "cell_type": "code",
     "collapsed": false,
     "input": [
      "rna_res.sort('LR').head()"
     ],
     "language": "python",
     "metadata": {},
     "outputs": []
    },
    {
     "cell_type": "markdown",
     "metadata": {},
     "source": [
      "##miRNA Screen"
     ]
    },
    {
     "cell_type": "code",
     "collapsed": false,
     "input": [
      "cox = cox_screen(mirna.features, surv)"
     ],
     "language": "python",
     "metadata": {},
     "outputs": []
    },
    {
     "cell_type": "code",
     "collapsed": false,
     "input": [
      "cox.head()"
     ],
     "language": "python",
     "metadata": {},
     "outputs": []
    },
    {
     "cell_type": "code",
     "collapsed": false,
     "input": [
      "pc1 = mirna.global_vars.pc1\n",
      "background = mirna.global_vars.background\n",
      "cov_df = pd.concat([age, pc1, background, old], axis=1).dropna()\n",
      "test = lambda s: get_cox_ph_ms(surv, s, cov_df, ret\n",
      "rn_val='LR', interactions=False);\n",
      "\n",
      "df = mirna.features.ix[:, keepers_o]\n",
      "mirna_res = df.apply(test, 1)\n",
      "mirna_res['LR_q'] = bhCorrection(mirna_res.LR)"
     ],
     "language": "python",
     "metadata": {},
     "outputs": []
    },
    {
     "cell_type": "code",
     "collapsed": false,
     "input": [
      "mirna_res.sort('LR').head()"
     ],
     "language": "python",
     "metadata": {},
     "outputs": []
    },
    {
     "cell_type": "code",
     "collapsed": false,
     "input": [
      "draw_survival_curves(two_hit.ix[keepers], surv, show=True, ann='p')"
     ],
     "language": "python",
     "metadata": {},
     "outputs": []
    }
   ],
   "metadata": {}
  }
 ]
}