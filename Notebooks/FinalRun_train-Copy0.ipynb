{
 "metadata": {
  "name": "FinalRun_train-Copy0"
 },
 "nbformat": 3,
 "nbformat_minor": 0,
 "worksheets": [
  {
   "cells": [
    {
     "cell_type": "code",
     "collapsed": false,
     "input": [
      "cd ../src"
     ],
     "language": "python",
     "metadata": {},
     "outputs": [
      {
       "output_type": "stream",
       "stream": "stdout",
       "text": [
        "/cellar/users/agross/TCGA_Code/TCGA/Pathway_Merge/src\n"
       ]
      }
     ],
     "prompt_number": 1
    },
    {
     "cell_type": "code",
     "collapsed": false,
     "input": [
      "%xmode verbose"
     ],
     "language": "python",
     "metadata": {},
     "outputs": [
      {
       "output_type": "stream",
       "stream": "stdout",
       "text": [
        "Exception reporting mode: Verbose\n"
       ]
      }
     ],
     "prompt_number": 2
    },
    {
     "cell_type": "code",
     "collapsed": false,
     "input": [
      "from Processing.Imports import *\n",
      "from Figures.Survival import survival_stat_plot"
     ],
     "language": "python",
     "metadata": {},
     "outputs": [],
     "prompt_number": 3
    },
    {
     "cell_type": "code",
     "collapsed": false,
     "input": [
      "run = get_run('/cellar/data/TCGA/Firehose__2013_04_21', 'Run_test')\n",
      "\n",
      "cancer = run.load_cancer('HNSC')\n",
      "clinical = cancer.load_clinical()\n",
      "global_vars = cancer.load_global_vars()\n",
      "\n",
      "mut = cancer.load_data('Mutation')\n",
      "mut.uncompress()\n",
      "meth = cancer.load_data('Methylation')\n",
      "cn = cancer.load_data('CN_broad')\n",
      "cn.uncompress()\n",
      "rna = cancer.load_data('mRNASeq')\n",
      "rppa  = cancer.load_data('RPPA')\n",
      "mirna = cancer.load_data('miRNASeq')\n",
      "age = clinical.clinical.age.astype(float)"
     ],
     "language": "python",
     "metadata": {},
     "outputs": [],
     "prompt_number": 171
    },
    {
     "cell_type": "code",
     "collapsed": false,
     "input": [
      "rna.features"
     ],
     "language": "python",
     "metadata": {},
     "outputs": [
      {
       "html": [
        "<pre>\n",
        "&lt;class 'pandas.core.frame.DataFrame'&gt;\n",
        "Index: 832 entries, BIOCARTA_41BB_PATHWAY to WNT_SIGNALING\n",
        "Columns: 303 entries, TCGA-BA-4074 to TCGA-IQ-7632\n",
        "dtypes: float64(303)\n",
        "</pre>"
       ],
       "output_type": "pyout",
       "prompt_number": 172,
       "text": [
        "<class 'pandas.core.frame.DataFrame'>\n",
        "Index: 832 entries, BIOCARTA_41BB_PATHWAY to WNT_SIGNALING\n",
        "Columns: 303 entries, TCGA-BA-4074 to TCGA-IQ-7632\n",
        "dtypes: float64(303)"
       ]
      }
     ],
     "prompt_number": 172
    },
    {
     "cell_type": "markdown",
     "metadata": {},
     "source": [
      "**Head and neck squamous cell carcinoma (HNSCC) is frequently characterized by aggressive clinical behavior, including a propensity for metastasis and recurrence. Current understanding of HNSCC pathogenesis remains limited, and there are few biomarkers which reliably predict either patient outcome or response to therapy. Here we report the first comprehensive analysis of the clinical and molecular features of HNSCC that explain patient survival. Building upon the data and infrastructure established by The Cancer Genome Atlas (TCGA), we construct an integrated analysis platform which uses multiple \u2018omics data to progressively factor patients into subgroups with striking survival differences. Using this platform we show that the major detrimental impact of TP53 mutation occurs only in combination with loss of chromosome 3p, such that patients with both events have markedly decreased median survival from >5 to 1.7 years. We then uncover a signature based on microRNAs and the NO2 pathway, characteristic of the epithelial-to-mesynchemal transition (EMT), for which low activity is protective (5-year survival rate of 65%) and high activity is extremely detrimental (22%) independent of other clinical or molecular features including TP53. Together, the identified \u2018omics features enable a new multi-tiered molecular classification of HNSCC.**"
     ]
    },
    {
     "cell_type": "markdown",
     "metadata": {},
     "source": [
      "It is increasingly appreciated that the clinical diversity of HNSCC is likely a reflection of the molecular heterogeneity of this disease (Grandis, Leemans). Advances in genomic profiling have led to the identification of a myriad of candidate genes and molecular features, and have uncovered distinct expression profiles differentiating patients with HNSCC into subtypes (Chung, TCGA).  Yet despite the plethora of cohort studies, the relative contributions of each of these to HNSCC carcinogenesis remains poorly elucidated, and of limited clinical prognostic value.  As a result, many patients receive bimodality or even trimodality therapy, without a reliable means to predict response to treatment strategies, or which patients may respond well to less intensive regimens. "
     ]
    },
    {
     "cell_type": "markdown",
     "metadata": {},
     "source": [
      "In order to explain differences in patient survival, we obtained data from the Broad Firehose data-portal and tested for the influence of clinical variables on patient survival (**figure 2a**). As expected, patient human-papiloma virus (HPV) status has a large effect on survival (p = .005).  While clinical staging has a relatively small effect in this cohort, nodal stage was much more predictive (p=.06, p < 001)."
     ]
    },
    {
     "cell_type": "code",
     "collapsed": false,
     "input": [
      "surv_all = clinical.survival.survival\n",
      "surv = clinical.survival.survival_5y"
     ],
     "language": "python",
     "metadata": {},
     "outputs": [],
     "prompt_number": 7
    },
    {
     "cell_type": "code",
     "collapsed": false,
     "input": [
      "hpv_all = pd.read_csv('/cellar/users/agross/hpv_summary_3_20_13_distribute.csv', index_col=0)\n",
      "hpv = hpv_all.Molecular_HPV.map({0:'HPV-', 1:'HPV+'})\n",
      "hpv.name = 'HPV'"
     ],
     "language": "python",
     "metadata": {},
     "outputs": [],
     "prompt_number": 8
    },
    {
     "cell_type": "code",
     "collapsed": false,
     "input": [
      "tss = pd.Series(map(lambda s: s.split('-')[1], clinical.clinical.index), clinical.clinical.index)\n",
      "patients = run.patients\n",
      "clinical.clinical = clinical.clinical.ix[patients]\n",
      "clinical.survival = clinical.survival.ix[patients]"
     ],
     "language": "python",
     "metadata": {},
     "outputs": [],
     "prompt_number": 9
    },
    {
     "cell_type": "markdown",
     "metadata": {},
     "source": [
      "####HPV"
     ]
    },
    {
     "cell_type": "code",
     "collapsed": false,
     "input": [
      "t = get_surv_fit(surv_all, hpv.ix[patients])\n",
      "draw_survival_curve(hpv, surv)\n",
      "survival_stat_plot(t)\n",
      "print log_rank(hpv, surv)\n",
      "t"
     ],
     "language": "python",
     "metadata": {},
     "outputs": [
      {
       "output_type": "stream",
       "stream": "stdout",
       "text": [
        "chi2    7.75\n",
        "p       0.01\n",
        "dtype: float64\n"
       ]
      },
      {
       "html": [
        "<div style=\"max-height:1000px;max-width:1500px;overflow:auto;\">\n",
        "<table border=\"1\" class=\"dataframe\">\n",
        "  <thead>\n",
        "    <tr>\n",
        "      <th></th>\n",
        "      <th colspan=\"2\" halign=\"left\">Stats</th>\n",
        "      <th colspan=\"3\" halign=\"left\">Median Survival</th>\n",
        "      <th colspan=\"3\" halign=\"left\">5y Survival</th>\n",
        "    </tr>\n",
        "    <tr>\n",
        "      <th></th>\n",
        "      <th># Patients</th>\n",
        "      <th># Events</th>\n",
        "      <th>Median</th>\n",
        "      <th>Lower</th>\n",
        "      <th>Upper</th>\n",
        "      <th>Lower</th>\n",
        "      <th>Surv</th>\n",
        "      <th>Upper</th>\n",
        "    </tr>\n",
        "  </thead>\n",
        "  <tbody>\n",
        "    <tr>\n",
        "      <th>HPV-</th>\n",
        "      <td> 80</td>\n",
        "      <td> 37</td>\n",
        "      <td> 3.53</td>\n",
        "      <td> 1.57</td>\n",
        "      <td> 8.38</td>\n",
        "      <td> 0.33</td>\n",
        "      <td> 0.46</td>\n",
        "      <td> 0.63</td>\n",
        "    </tr>\n",
        "    <tr>\n",
        "      <th>HPV+</th>\n",
        "      <td> 14</td>\n",
        "      <td>  4</td>\n",
        "      <td> 4.84</td>\n",
        "      <td> 3.11</td>\n",
        "      <td>  NaN</td>\n",
        "      <td> 0.18</td>\n",
        "      <td> 0.45</td>\n",
        "      <td> 1.00</td>\n",
        "    </tr>\n",
        "  </tbody>\n",
        "</table>\n",
        "</div>"
       ],
       "output_type": "pyout",
       "prompt_number": 10,
       "text": [
        "           Stats            Median Survival                5y Survival             \n",
        "      # Patients  # Events           Median  Lower  Upper        Lower  Surv  Upper\n",
        "HPV-          80        37             3.53   1.57   8.38         0.33  0.46   0.63\n",
        "HPV+          14         4             4.84   3.11    NaN         0.18  0.45   1.00"
       ]
      },
      {
       "output_type": "display_data",
       "png": "[encoded data removed]"
      },
      {
       "output_type": "display_data",
       "png": "[encoded data removed]"
      }
     ],
     "prompt_number": 10
    },
    {
     "cell_type": "markdown",
     "metadata": {},
     "source": [
      "####Tumor Stage"
     ]
    },
    {
     "cell_type": "code",
     "collapsed": false,
     "input": [
      "stage = clinical.clinical.tumorstage\n",
      "stage = stage.replace('nx', nan).dropna().map(lambda s: s.replace('a','').replace('b',''))\n",
      "t = get_surv_fit(surv_all, stage)\n",
      "draw_survival_curve(stage,  surv)\n",
      "survival_stat_plot(t.sort_index(ascending=False))\n",
      "print log_rank(stage, surv).ix['p']\n",
      "t"
     ],
     "language": "python",
     "metadata": {},
     "outputs": [
      {
       "output_type": "stream",
       "stream": "stdout",
       "text": [
        "0.00522699559718\n"
       ]
      },
      {
       "html": [
        "<div style=\"max-height:1000px;max-width:1500px;overflow:auto;\">\n",
        "<table border=\"1\" class=\"dataframe\">\n",
        "  <thead>\n",
        "    <tr>\n",
        "      <th></th>\n",
        "      <th colspan=\"2\" halign=\"left\">Stats</th>\n",
        "      <th colspan=\"3\" halign=\"left\">Median Survival</th>\n",
        "      <th colspan=\"3\" halign=\"left\">5y Survival</th>\n",
        "    </tr>\n",
        "    <tr>\n",
        "      <th></th>\n",
        "      <th># Patients</th>\n",
        "      <th># Events</th>\n",
        "      <th>Median</th>\n",
        "      <th>Lower</th>\n",
        "      <th>Upper</th>\n",
        "      <th>Lower</th>\n",
        "      <th>Surv</th>\n",
        "      <th>Upper</th>\n",
        "    </tr>\n",
        "  </thead>\n",
        "  <tbody>\n",
        "    <tr>\n",
        "      <th>stge i</th>\n",
        "      <td>  8</td>\n",
        "      <td>  1</td>\n",
        "      <td>  NaN</td>\n",
        "      <td>  NaN</td>\n",
        "      <td>  NaN</td>\n",
        "      <td>  NaN</td>\n",
        "      <td>  NaN</td>\n",
        "      <td>  NaN</td>\n",
        "    </tr>\n",
        "    <tr>\n",
        "      <th>stge ii</th>\n",
        "      <td> 17</td>\n",
        "      <td>  5</td>\n",
        "      <td> 8.38</td>\n",
        "      <td> 4.84</td>\n",
        "      <td>  NaN</td>\n",
        "      <td> 0.33</td>\n",
        "      <td> 0.62</td>\n",
        "      <td> 1.00</td>\n",
        "    </tr>\n",
        "    <tr>\n",
        "      <th>stge iii</th>\n",
        "      <td> 14</td>\n",
        "      <td>  6</td>\n",
        "      <td> 7.51</td>\n",
        "      <td> 2.36</td>\n",
        "      <td>  NaN</td>\n",
        "      <td> 0.31</td>\n",
        "      <td> 0.56</td>\n",
        "      <td> 1.00</td>\n",
        "    </tr>\n",
        "    <tr>\n",
        "      <th>stge iv</th>\n",
        "      <td> 55</td>\n",
        "      <td> 28</td>\n",
        "      <td> 2.16</td>\n",
        "      <td> 1.36</td>\n",
        "      <td> 5.93</td>\n",
        "      <td> 0.17</td>\n",
        "      <td> 0.31</td>\n",
        "      <td> 0.55</td>\n",
        "    </tr>\n",
        "  </tbody>\n",
        "</table>\n",
        "</div>"
       ],
       "output_type": "pyout",
       "prompt_number": 11,
       "text": [
        "               Stats            Median Survival                5y Survival             \n",
        "          # Patients  # Events           Median  Lower  Upper        Lower  Surv  Upper\n",
        "stge i             8         1              NaN    NaN    NaN          NaN   NaN    NaN\n",
        "stge ii           17         5             8.38   4.84    NaN         0.33  0.62   1.00\n",
        "stge iii          14         6             7.51   2.36    NaN         0.31  0.56   1.00\n",
        "stge iv           55        28             2.16   1.36   5.93         0.17  0.31   0.55"
       ]
      },
      {
       "output_type": "display_data",
       "png": "[encoded data removed]"
      },
      {
       "output_type": "display_data",
       "png": "[encoded data removed]"
      }
     ],
     "prompt_number": 11
    },
    {
     "cell_type": "markdown",
     "metadata": {},
     "source": [
      "####Lymphnode Stage"
     ]
    },
    {
     "cell_type": "code",
     "collapsed": false,
     "input": [
      "lymph_stage = clinical.clinical.lymphnodepathologicspread\n",
      "lymph_stage = lymph_stage.replace('nx', nan).dropna().map(lambda s: s[:2])\n",
      "t = get_surv_fit(surv_all, lymph_stage)\n",
      "draw_survival_curve(lymph_stage, surv)\n",
      "survival_stat_plot(t.sort_index(ascending=False))\n",
      "print log_rank(lymph_stage, surv)\n",
      "t"
     ],
     "language": "python",
     "metadata": {},
     "outputs": [
      {
       "output_type": "stream",
       "stream": "stdout",
       "text": [
        "chi2    3.80\n",
        "p       0.05\n",
        "dtype: float64\n"
       ]
      },
      {
       "html": [
        "<div style=\"max-height:1000px;max-width:1500px;overflow:auto;\">\n",
        "<table border=\"1\" class=\"dataframe\">\n",
        "  <thead>\n",
        "    <tr>\n",
        "      <th></th>\n",
        "      <th colspan=\"2\" halign=\"left\">Stats</th>\n",
        "      <th colspan=\"3\" halign=\"left\">Median Survival</th>\n",
        "      <th colspan=\"3\" halign=\"left\">5y Survival</th>\n",
        "    </tr>\n",
        "    <tr>\n",
        "      <th></th>\n",
        "      <th># Patients</th>\n",
        "      <th># Events</th>\n",
        "      <th>Median</th>\n",
        "      <th>Lower</th>\n",
        "      <th>Upper</th>\n",
        "      <th>Lower</th>\n",
        "      <th>Surv</th>\n",
        "      <th>Upper</th>\n",
        "    </tr>\n",
        "  </thead>\n",
        "  <tbody>\n",
        "    <tr>\n",
        "      <th>n0</th>\n",
        "      <td> 38</td>\n",
        "      <td>  9</td>\n",
        "      <td> 4.84</td>\n",
        "      <td> 3.11</td>\n",
        "      <td>NaN</td>\n",
        "      <td>  NaN</td>\n",
        "      <td>  NaN</td>\n",
        "      <td> NaN</td>\n",
        "    </tr>\n",
        "    <tr>\n",
        "      <th>n1</th>\n",
        "      <td> 13</td>\n",
        "      <td>  6</td>\n",
        "      <td> 7.51</td>\n",
        "      <td> 1.49</td>\n",
        "      <td>NaN</td>\n",
        "      <td> 0.39</td>\n",
        "      <td> 0.63</td>\n",
        "      <td> 1.0</td>\n",
        "    </tr>\n",
        "    <tr>\n",
        "      <th>n2</th>\n",
        "      <td> 33</td>\n",
        "      <td> 17</td>\n",
        "      <td> 2.16</td>\n",
        "      <td> 1.35</td>\n",
        "      <td>NaN</td>\n",
        "      <td> 0.23</td>\n",
        "      <td> 0.40</td>\n",
        "      <td> 0.7</td>\n",
        "    </tr>\n",
        "    <tr>\n",
        "      <th>n3</th>\n",
        "      <td>  2</td>\n",
        "      <td>  2</td>\n",
        "      <td> 2.06</td>\n",
        "      <td> 0.59</td>\n",
        "      <td>NaN</td>\n",
        "      <td>  NaN</td>\n",
        "      <td>  NaN</td>\n",
        "      <td> NaN</td>\n",
        "    </tr>\n",
        "  </tbody>\n",
        "</table>\n",
        "</div>"
       ],
       "output_type": "pyout",
       "prompt_number": 12,
       "text": [
        "         Stats            Median Survival                5y Survival             \n",
        "    # Patients  # Events           Median  Lower  Upper        Lower  Surv  Upper\n",
        "n0          38         9             4.84   3.11    NaN          NaN   NaN    NaN\n",
        "n1          13         6             7.51   1.49    NaN         0.39  0.63    1.0\n",
        "n2          33        17             2.16   1.35    NaN         0.23  0.40    0.7\n",
        "n3           2         2             2.06   0.59    NaN          NaN   NaN    NaN"
       ]
      },
      {
       "output_type": "display_data",
       "png": "[encoded data removed]"
      },
      {
       "output_type": "display_data",
       "png": "[encoded data removed]"
      }
     ],
     "prompt_number": 12
    },
    {
     "cell_type": "markdown",
     "metadata": {},
     "source": [
      "####Age \n",
      "* The idea here is to figure out any age dependent effects on survival.\n",
      "* The strategy is to slide along the age spectrum and for a given age ask if the survival of patients within 5 year older/younger do better or worse.\n",
      "* The cutoff is relatively arbitrary but you can see that around 85 there seems to be an inflection.\n",
      "* Points not plotted had no improvement over the null model and thus no hazard ratio was calculated."
     ]
    },
    {
     "cell_type": "code",
     "collapsed": false,
     "input": [
      "age.hist()"
     ],
     "language": "python",
     "metadata": {},
     "outputs": [
      {
       "output_type": "pyout",
       "prompt_number": 13,
       "text": [
        "<matplotlib.axes.AxesSubplot at 0x6961c50>"
       ]
      },
      {
       "output_type": "display_data",
       "png": "[encoded data removed]"
      }
     ],
     "prompt_number": 13
    },
    {
     "cell_type": "code",
     "collapsed": false,
     "input": [
      "fig, axs = subplots(1,2, figsize=(10,4))\n",
      "aa = pd.DataFrame({x: log_rank(((age>(x-5)) * (age < (x+5)))*1., surv) for x in range(40,90)}).T\n",
      "aa.chi2.dropna().plot(ax=axs[0], marker='o', ls='--')\n",
      "axs[0].set_ylabel('Hazard Ratio')\n",
      "axs[0].set_xlabel('Age Bin')\n",
      "draw_survival_curve((age>=85).map({True: 'age >= 85', False: 'age < 85'}), surv, ax=axs[1])\n",
      "fig.savefig('/cellar/users/agross/Desktop/Figures/sup_age.pdf', transparent=True)"
     ],
     "language": "python",
     "metadata": {},
     "outputs": [
      {
       "output_type": "display_data",
       "png": "[encoded data removed]"
      }
     ],
     "prompt_number": 14
    },
    {
     "cell_type": "code",
     "collapsed": false,
     "input": [
      "old_age = (age >= 85).map({True: 'Age >= 85', False: 'Age < 85'})\n",
      "t = get_surv_fit(surv_all, old_age)\n",
      "survival_stat_plot(t.sort_index(ascending=False))\n",
      "t"
     ],
     "language": "python",
     "metadata": {},
     "outputs": [
      {
       "html": [
        "<div style=\"max-height:1000px;max-width:1500px;overflow:auto;\">\n",
        "<table border=\"1\" class=\"dataframe\">\n",
        "  <thead>\n",
        "    <tr>\n",
        "      <th></th>\n",
        "      <th colspan=\"2\" halign=\"left\">Stats</th>\n",
        "      <th colspan=\"3\" halign=\"left\">Median Survival</th>\n",
        "      <th colspan=\"3\" halign=\"left\">5y Survival</th>\n",
        "    </tr>\n",
        "    <tr>\n",
        "      <th></th>\n",
        "      <th># Patients</th>\n",
        "      <th># Events</th>\n",
        "      <th>Median</th>\n",
        "      <th>Lower</th>\n",
        "      <th>Upper</th>\n",
        "      <th>Lower</th>\n",
        "      <th>Surv</th>\n",
        "      <th>Upper</th>\n",
        "    </tr>\n",
        "  </thead>\n",
        "  <tbody>\n",
        "    <tr>\n",
        "      <th>Age &lt; 85</th>\n",
        "      <td> 318</td>\n",
        "      <td> 123</td>\n",
        "      <td> 4.00</td>\n",
        "      <td> 2.84</td>\n",
        "      <td> 5.4</td>\n",
        "      <td> 0.33</td>\n",
        "      <td> 0.41</td>\n",
        "      <td> 0.51</td>\n",
        "    </tr>\n",
        "    <tr>\n",
        "      <th>Age &gt;</th>\n",
        "      <td>   8</td>\n",
        "      <td>   7</td>\n",
        "      <td> 0.67</td>\n",
        "      <td> 0.39</td>\n",
        "      <td> NaN</td>\n",
        "      <td>  NaN</td>\n",
        "      <td>  NaN</td>\n",
        "      <td>  NaN</td>\n",
        "    </tr>\n",
        "  </tbody>\n",
        "</table>\n",
        "</div>"
       ],
       "output_type": "pyout",
       "prompt_number": 15,
       "text": [
        "               Stats            Median Survival                5y Survival             \n",
        "          # Patients  # Events           Median  Lower  Upper        Lower  Surv  Upper\n",
        "Age < 85         318       123             4.00   2.84    5.4         0.33  0.41   0.51\n",
        "Age >              8         7             0.67   0.39    NaN          NaN   NaN    NaN"
       ]
      },
      {
       "output_type": "display_data",
       "png": "[encoded data removed]"
      }
     ],
     "prompt_number": 15
    },
    {
     "cell_type": "markdown",
     "metadata": {},
     "source": [
      "####Pack Years"
     ]
    },
    {
     "cell_type": "code",
     "collapsed": false,
     "input": [
      "py = clinical.clinical.numberpackyearssmoked.dropna().astype(float)\n",
      "py.hist()"
     ],
     "language": "python",
     "metadata": {},
     "outputs": [
      {
       "output_type": "pyout",
       "prompt_number": 16,
       "text": [
        "<matplotlib.axes.AxesSubplot at 0x6aa8850>"
       ]
      },
      {
       "output_type": "display_data",
       "png": "[encoded data removed]"
      }
     ],
     "prompt_number": 16
    },
    {
     "cell_type": "code",
     "collapsed": false,
     "input": [
      "tt = lambda a,b: kruskal_pandas(b,a)\n",
      "s = screen_feature((1.*(py>=70) + 1.*(py>85))>0, tt, mut.features)\n",
      "s.head()"
     ],
     "language": "python",
     "metadata": {},
     "outputs": [
      {
       "html": [
        "<div style=\"max-height:1000px;max-width:1500px;overflow:auto;\">\n",
        "<table border=\"1\" class=\"dataframe\">\n",
        "  <thead>\n",
        "    <tr style=\"text-align: right;\">\n",
        "      <th></th>\n",
        "      <th>H</th>\n",
        "      <th>p</th>\n",
        "      <th>q</th>\n",
        "    </tr>\n",
        "  </thead>\n",
        "  <tbody>\n",
        "    <tr>\n",
        "      <th>BIOCARTA_DC_PATHWAY</th>\n",
        "      <td> 18.88</td>\n",
        "      <td> 1.39e-05</td>\n",
        "      <td> 0.01</td>\n",
        "    </tr>\n",
        "    <tr>\n",
        "      <th>REACTOME_ACTIVATED_TLR4_SIGNALLING</th>\n",
        "      <td>  9.93</td>\n",
        "      <td> 1.62e-03</td>\n",
        "      <td> 0.40</td>\n",
        "    </tr>\n",
        "    <tr>\n",
        "      <th>REACTOME_TOLL_LIKE_RECEPTOR_4_CASCADE</th>\n",
        "      <td>  8.18</td>\n",
        "      <td> 4.24e-03</td>\n",
        "      <td> 0.67</td>\n",
        "    </tr>\n",
        "    <tr>\n",
        "      <th>REACTOME_PLC_GAMMA1_SIGNALLING</th>\n",
        "      <td>  7.15</td>\n",
        "      <td> 7.49e-03</td>\n",
        "      <td> 0.67</td>\n",
        "    </tr>\n",
        "    <tr>\n",
        "      <th>REACTOME_AUTODEGRADATION_OF_CDH1_BY_CDH1_APC</th>\n",
        "      <td>  6.98</td>\n",
        "      <td> 8.22e-03</td>\n",
        "      <td> 0.67</td>\n",
        "    </tr>\n",
        "  </tbody>\n",
        "</table>\n",
        "</div>"
       ],
       "output_type": "pyout",
       "prompt_number": 17,
       "text": [
        "                                                  H         p     q\n",
        "BIOCARTA_DC_PATHWAY                           18.88  1.39e-05  0.01\n",
        "REACTOME_ACTIVATED_TLR4_SIGNALLING             9.93  1.62e-03  0.40\n",
        "REACTOME_TOLL_LIKE_RECEPTOR_4_CASCADE          8.18  4.24e-03  0.67\n",
        "REACTOME_PLC_GAMMA1_SIGNALLING                 7.15  7.49e-03  0.67\n",
        "REACTOME_AUTODEGRADATION_OF_CDH1_BY_CDH1_APC   6.98  8.22e-03  0.67"
       ]
      }
     ],
     "prompt_number": 17
    },
    {
     "cell_type": "markdown",
     "metadata": {},
     "source": [
      "####Tumor Subdivision \n",
      "* Groups defined by Dr. Coffee"
     ]
    },
    {
     "cell_type": "code",
     "collapsed": false,
     "input": [
      "tss = clinical.clinical.tissuesourcesite.dropna()\n",
      "tss = tss[tss.isin(['cv','cn','cq','ba','bb','dq','hd','d6'])]\n",
      "draw_survival_curves(tss, surv, show=True)"
     ],
     "language": "python",
     "metadata": {},
     "outputs": [
      {
       "html": [
        "<img src='data:image/png;base64,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'>"
       ],
       "output_type": "pyout",
       "prompt_number": 18,
       "text": [
        "<Reports.NotebookTools.Show at 0x69a60d0>"
       ]
      }
     ],
     "prompt_number": 18
    },
    {
     "cell_type": "code",
     "collapsed": false,
     "input": [
      "group = [['oral tongue','oral cavity','floor of mouth','buccal mucosa','alveolar ridge','hard palate','lip'],\n",
      "         ['oropharynx','tonsil','base of tongue'],\n",
      "         #['hypopharynx'],\n",
      "         ['larynx']]\n",
      "groups = ['oral cavity','oropharynx','larynx']\n",
      "tumor_subdivision = pd.Series({idx: groups[i] for i,g in enumerate(group) for idx,j in \n",
      "                               clinical.clinical.neoplasmanatomicsubdivision.iteritems() if j in g})\n",
      "t = get_surv_fit(surv_all, tumor_subdivision)\n",
      "draw_survival_curve(tumor_subdivision, surv)\n",
      "survival_stat_plot(t.sort_index(ascending=False))\n",
      "t"
     ],
     "language": "python",
     "metadata": {},
     "outputs": [
      {
       "html": [
        "<div style=\"max-height:1000px;max-width:1500px;overflow:auto;\">\n",
        "<table border=\"1\" class=\"dataframe\">\n",
        "  <thead>\n",
        "    <tr>\n",
        "      <th></th>\n",
        "      <th colspan=\"2\" halign=\"left\">Stats</th>\n",
        "      <th colspan=\"3\" halign=\"left\">Median Survival</th>\n",
        "      <th colspan=\"3\" halign=\"left\">5y Survival</th>\n",
        "    </tr>\n",
        "    <tr>\n",
        "      <th></th>\n",
        "      <th># Patients</th>\n",
        "      <th># Events</th>\n",
        "      <th>Median</th>\n",
        "      <th>Lower</th>\n",
        "      <th>Upper</th>\n",
        "      <th>Lower</th>\n",
        "      <th>Surv</th>\n",
        "      <th>Upper</th>\n",
        "    </tr>\n",
        "  </thead>\n",
        "  <tbody>\n",
        "    <tr>\n",
        "      <th>larynx</th>\n",
        "      <td> 24</td>\n",
        "      <td>  9</td>\n",
        "      <td> 5.40</td>\n",
        "      <td> 1.58</td>\n",
        "      <td>NaN</td>\n",
        "      <td> 0.35</td>\n",
        "      <td> 0.56</td>\n",
        "      <td> 0.92</td>\n",
        "    </tr>\n",
        "    <tr>\n",
        "      <th>oral cavity</th>\n",
        "      <td> 71</td>\n",
        "      <td> 30</td>\n",
        "      <td> 4.36</td>\n",
        "      <td> 2.36</td>\n",
        "      <td>NaN</td>\n",
        "      <td> 0.32</td>\n",
        "      <td> 0.46</td>\n",
        "      <td> 0.66</td>\n",
        "    </tr>\n",
        "    <tr>\n",
        "      <th>oropharynx</th>\n",
        "      <td> 12</td>\n",
        "      <td>  3</td>\n",
        "      <td> 4.84</td>\n",
        "      <td> 3.11</td>\n",
        "      <td>NaN</td>\n",
        "      <td> 0.08</td>\n",
        "      <td> 0.36</td>\n",
        "      <td> 1.00</td>\n",
        "    </tr>\n",
        "  </tbody>\n",
        "</table>\n",
        "</div>"
       ],
       "output_type": "pyout",
       "prompt_number": 19,
       "text": [
        "                  Stats            Median Survival                5y Survival             \n",
        "             # Patients  # Events           Median  Lower  Upper        Lower  Surv  Upper\n",
        "larynx               24         9             5.40   1.58    NaN         0.35  0.56   0.92\n",
        "oral cavity          71        30             4.36   2.36    NaN         0.32  0.46   0.66\n",
        "oropharynx           12         3             4.84   3.11    NaN         0.08  0.36   1.00"
       ]
      },
      {
       "output_type": "display_data",
       "png": "[encoded data removed]"
      },
      {
       "output_type": "display_data",
       "png": "[encoded data removed]"
      }
     ],
     "prompt_number": 19
    },
    {
     "cell_type": "markdown",
     "metadata": {},
     "source": [
      "####Disease Spread and Perineural Invasion"
     ]
    },
    {
     "cell_type": "code",
     "collapsed": false,
     "input": [
      "invasion = clinical.clinical.perineuralinvasionpresent\n",
      "invasion.name = 'invasion'\n",
      "t = get_surv_fit(surv_all, invasion)\n",
      "draw_survival_curve(invasion, surv)\n",
      "survival_stat_plot(t.sort_index(ascending=False))\n",
      "t"
     ],
     "language": "python",
     "metadata": {},
     "outputs": [
      {
       "html": [
        "<div style=\"max-height:1000px;max-width:1500px;overflow:auto;\">\n",
        "<table border=\"1\" class=\"dataframe\">\n",
        "  <thead>\n",
        "    <tr>\n",
        "      <th></th>\n",
        "      <th colspan=\"2\" halign=\"left\">Stats</th>\n",
        "      <th colspan=\"3\" halign=\"left\">Median Survival</th>\n",
        "      <th colspan=\"3\" halign=\"left\">5y Survival</th>\n",
        "    </tr>\n",
        "    <tr>\n",
        "      <th></th>\n",
        "      <th># Patients</th>\n",
        "      <th># Events</th>\n",
        "      <th>Median</th>\n",
        "      <th>Lower</th>\n",
        "      <th>Upper</th>\n",
        "      <th>Lower</th>\n",
        "      <th>Surv</th>\n",
        "      <th>Upper</th>\n",
        "    </tr>\n",
        "  </thead>\n",
        "  <tbody>\n",
        "    <tr>\n",
        "      <th>no</th>\n",
        "      <td> 32</td>\n",
        "      <td>  6</td>\n",
        "      <td>  NaN</td>\n",
        "      <td>  NaN</td>\n",
        "      <td>NaN</td>\n",
        "      <td> 0.52</td>\n",
        "      <td> 0.70</td>\n",
        "      <td> 0.94</td>\n",
        "    </tr>\n",
        "    <tr>\n",
        "      <th>yes</th>\n",
        "      <td> 42</td>\n",
        "      <td> 20</td>\n",
        "      <td> 2.54</td>\n",
        "      <td> 1.35</td>\n",
        "      <td>NaN</td>\n",
        "      <td> 0.25</td>\n",
        "      <td> 0.41</td>\n",
        "      <td> 0.67</td>\n",
        "    </tr>\n",
        "  </tbody>\n",
        "</table>\n",
        "</div>"
       ],
       "output_type": "pyout",
       "prompt_number": 20,
       "text": [
        "          Stats            Median Survival                5y Survival             \n",
        "     # Patients  # Events           Median  Lower  Upper        Lower  Surv  Upper\n",
        "no           32         6              NaN    NaN    NaN         0.52  0.70   0.94\n",
        "yes          42        20             2.54   1.35    NaN         0.25  0.41   0.67"
       ]
      },
      {
       "output_type": "display_data",
       "png": "[encoded data removed]"
      },
      {
       "output_type": "display_data",
       "png": "[encoded data removed]"
      }
     ],
     "prompt_number": 20
    },
    {
     "cell_type": "markdown",
     "metadata": {},
     "source": [
      "* Now disease spread\n",
      "* Only 1 HPV+ patient has disease spread"
     ]
    },
    {
     "cell_type": "code",
     "collapsed": false,
     "input": [
      "spread = clinical.clinical.presenceofpathologicalnodalextracapsularspread\n",
      "spread = spread.dropna()\n",
      "t = get_surv_fit(surv_all, spread)\n",
      "draw_survival_curve(spread, surv)\n",
      "survival_stat_plot(t.sort_index(ascending=False))\n",
      "t"
     ],
     "language": "python",
     "metadata": {},
     "outputs": [
      {
       "html": [
        "<div style=\"max-height:1000px;max-width:1500px;overflow:auto;\">\n",
        "<table border=\"1\" class=\"dataframe\">\n",
        "  <thead>\n",
        "    <tr>\n",
        "      <th></th>\n",
        "      <th colspan=\"2\" halign=\"left\">Stats</th>\n",
        "      <th colspan=\"3\" halign=\"left\">Median Survival</th>\n",
        "      <th colspan=\"3\" halign=\"left\">5y Survival</th>\n",
        "    </tr>\n",
        "    <tr>\n",
        "      <th></th>\n",
        "      <th># Patients</th>\n",
        "      <th># Events</th>\n",
        "      <th>Median</th>\n",
        "      <th>Lower</th>\n",
        "      <th>Upper</th>\n",
        "      <th>Lower</th>\n",
        "      <th>Surv</th>\n",
        "      <th>Upper</th>\n",
        "    </tr>\n",
        "  </thead>\n",
        "  <tbody>\n",
        "    <tr>\n",
        "      <th>gross extension</th>\n",
        "      <td>  7</td>\n",
        "      <td>  5</td>\n",
        "      <td> 9.08</td>\n",
        "      <td> 1.26</td>\n",
        "      <td>NaN</td>\n",
        "      <td> 0.24</td>\n",
        "      <td> 0.51</td>\n",
        "      <td> 1.00</td>\n",
        "    </tr>\n",
        "    <tr>\n",
        "      <th>microscopic extension</th>\n",
        "      <td> 11</td>\n",
        "      <td>  6</td>\n",
        "      <td> 0.96</td>\n",
        "      <td> 0.59</td>\n",
        "      <td>NaN</td>\n",
        "      <td>  NaN</td>\n",
        "      <td>  NaN</td>\n",
        "      <td>  NaN</td>\n",
        "    </tr>\n",
        "    <tr>\n",
        "      <th>no extranodal extension</th>\n",
        "      <td> 49</td>\n",
        "      <td> 14</td>\n",
        "      <td> 5.40</td>\n",
        "      <td> 4.36</td>\n",
        "      <td>NaN</td>\n",
        "      <td> 0.39</td>\n",
        "      <td> 0.58</td>\n",
        "      <td> 0.86</td>\n",
        "    </tr>\n",
        "  </tbody>\n",
        "</table>\n",
        "</div>"
       ],
       "output_type": "pyout",
       "prompt_number": 21,
       "text": [
        "                              Stats            Median Survival                5y Survival             \n",
        "                         # Patients  # Events           Median  Lower  Upper        Lower  Surv  Upper\n",
        "gross extension                   7         5             9.08   1.26    NaN         0.24  0.51   1.00\n",
        "microscopic extension            11         6             0.96   0.59    NaN          NaN   NaN    NaN\n",
        "no extranodal extension          49        14             5.40   4.36    NaN         0.39  0.58   0.86"
       ]
      },
      {
       "output_type": "display_data",
       "png": "[encoded data removed]"
      },
      {
       "output_type": "display_data",
       "png": "[encoded data removed]"
      }
     ],
     "prompt_number": 21
    },
    {
     "cell_type": "code",
     "collapsed": false,
     "input": [
      "screen_feature(spread.dropna() != 'no extranodal extension', fisher_exact_test, mut.features).head()"
     ],
     "language": "python",
     "metadata": {},
     "outputs": [
      {
       "html": [
        "<div style=\"max-height:1000px;max-width:1500px;overflow:auto;\">\n",
        "<table border=\"1\" class=\"dataframe\">\n",
        "  <thead>\n",
        "    <tr style=\"text-align: right;\">\n",
        "      <th></th>\n",
        "      <th>odds_ratio</th>\n",
        "      <th>p</th>\n",
        "      <th>q</th>\n",
        "    </tr>\n",
        "  </thead>\n",
        "  <tbody>\n",
        "    <tr>\n",
        "      <th>ST_GAQ_PATHWAY</th>\n",
        "      <td> 5.35</td>\n",
        "      <td> 0.01</td>\n",
        "      <td> 1</td>\n",
        "    </tr>\n",
        "    <tr>\n",
        "      <th>BIOCARTA_ACE2_PATHWAY</th>\n",
        "      <td> 5.38</td>\n",
        "      <td> 0.02</td>\n",
        "      <td> 1</td>\n",
        "    </tr>\n",
        "    <tr>\n",
        "      <th>BIOCARTA_WNT_PATHWAY</th>\n",
        "      <td> 5.38</td>\n",
        "      <td> 0.02</td>\n",
        "      <td> 1</td>\n",
        "    </tr>\n",
        "    <tr>\n",
        "      <th>REACTOME_ACTIVATION_OF_THE_PRE_REPLICATIVE_COMPLEX</th>\n",
        "      <td> 5.38</td>\n",
        "      <td> 0.02</td>\n",
        "      <td> 1</td>\n",
        "    </tr>\n",
        "    <tr>\n",
        "      <th>REACTOME_METABOLISM_OF_PROTEINS</th>\n",
        "      <td> 0.23</td>\n",
        "      <td> 0.03</td>\n",
        "      <td> 1</td>\n",
        "    </tr>\n",
        "  </tbody>\n",
        "</table>\n",
        "</div>"
       ],
       "output_type": "pyout",
       "prompt_number": 22,
       "text": [
        "                                                    odds_ratio     p  q\n",
        "ST_GAQ_PATHWAY                                            5.35  0.01  1\n",
        "BIOCARTA_ACE2_PATHWAY                                     5.38  0.02  1\n",
        "BIOCARTA_WNT_PATHWAY                                      5.38  0.02  1\n",
        "REACTOME_ACTIVATION_OF_THE_PRE_REPLICATIVE_COMPLEX        5.38  0.02  1\n",
        "REACTOME_METABOLISM_OF_PROTEINS                           0.23  0.03  1"
       ]
      }
     ],
     "prompt_number": 22
    },
    {
     "cell_type": "code",
     "collapsed": false,
     "input": [
      "screen_feature(spread.isin(['microscopic extension', 'gross extension']), kruskal_pandas, rna.features).head()"
     ],
     "language": "python",
     "metadata": {},
     "outputs": [
      {
       "html": [
        "<div style=\"max-height:1000px;max-width:1500px;overflow:auto;\">\n",
        "<table border=\"1\" class=\"dataframe\">\n",
        "  <thead>\n",
        "    <tr style=\"text-align: right;\">\n",
        "      <th></th>\n",
        "      <th>H</th>\n",
        "      <th>p</th>\n",
        "      <th>q</th>\n",
        "    </tr>\n",
        "  </thead>\n",
        "  <tbody>\n",
        "    <tr>\n",
        "      <th>REACTOME_INTEGRIN_ALPHAIIBBETA3_SIGNALING</th>\n",
        "      <td> 10.80</td>\n",
        "      <td> 0.00</td>\n",
        "      <td> 0.43</td>\n",
        "    </tr>\n",
        "    <tr>\n",
        "      <th>REACTOME_PLATELET_AGGREGATION_PLUG_FORMATION</th>\n",
        "      <td> 10.01</td>\n",
        "      <td> 0.00</td>\n",
        "      <td> 0.43</td>\n",
        "    </tr>\n",
        "    <tr>\n",
        "      <th>REACTOME_GRB2_SOS_PROVIDES_LINKAGE_TO_MAPK_SIGNALING_FOR_INTERGRINS_</th>\n",
        "      <td> 10.01</td>\n",
        "      <td> 0.00</td>\n",
        "      <td> 0.43</td>\n",
        "    </tr>\n",
        "    <tr>\n",
        "      <th>KEGG_SELENOAMINO_ACID_METABOLISM</th>\n",
        "      <td>  7.92</td>\n",
        "      <td> 0.00</td>\n",
        "      <td> 0.56</td>\n",
        "    </tr>\n",
        "    <tr>\n",
        "      <th>BIOCARTA_HIVNEF_PATHWAY</th>\n",
        "      <td>  6.77</td>\n",
        "      <td> 0.01</td>\n",
        "      <td> 0.56</td>\n",
        "    </tr>\n",
        "  </tbody>\n",
        "</table>\n",
        "</div>"
       ],
       "output_type": "pyout",
       "prompt_number": 23,
       "text": [
        "                                                                          H     p     q\n",
        "REACTOME_INTEGRIN_ALPHAIIBBETA3_SIGNALING                             10.80  0.00  0.43\n",
        "REACTOME_PLATELET_AGGREGATION_PLUG_FORMATION                          10.01  0.00  0.43\n",
        "REACTOME_GRB2_SOS_PROVIDES_LINKAGE_TO_MAPK_SIGNALING_FOR_INTERGRINS_  10.01  0.00  0.43\n",
        "KEGG_SELENOAMINO_ACID_METABOLISM                                       7.92  0.00  0.56\n",
        "BIOCARTA_HIVNEF_PATHWAY                                                6.77  0.01  0.56"
       ]
      }
     ],
     "prompt_number": 23
    },
    {
     "cell_type": "markdown",
     "metadata": {},
     "source": [
      "####Year of pathological diagnosis\n",
      "* Not much we can do about this but it is a relatively large effect \n",
      "* Likely some sort of collection bias for older samples that were banked"
     ]
    },
    {
     "cell_type": "code",
     "collapsed": false,
     "input": [
      "y = clinical.clinical.yearofinitialpathologicdiagnosis\n",
      "y = y.replace('[Discrepancy]', nan).astype(float)"
     ],
     "language": "python",
     "metadata": {},
     "outputs": [],
     "prompt_number": 24
    },
    {
     "cell_type": "code",
     "collapsed": false,
     "input": [
      "year = (y >= 1999).map({False: 'Before 1999', True: 'After 1999'})\n",
      "t = get_surv_fit(surv_all, year)\n",
      "survival_stat_plot(t.sort_index(ascending=False))\n",
      "t"
     ],
     "language": "python",
     "metadata": {},
     "outputs": [
      {
       "html": [
        "<div style=\"max-height:1000px;max-width:1500px;overflow:auto;\">\n",
        "<table border=\"1\" class=\"dataframe\">\n",
        "  <thead>\n",
        "    <tr>\n",
        "      <th></th>\n",
        "      <th colspan=\"2\" halign=\"left\">Stats</th>\n",
        "      <th colspan=\"3\" halign=\"left\">Median Survival</th>\n",
        "      <th colspan=\"3\" halign=\"left\">5y Survival</th>\n",
        "    </tr>\n",
        "    <tr>\n",
        "      <th></th>\n",
        "      <th># Patients</th>\n",
        "      <th># Events</th>\n",
        "      <th>Median</th>\n",
        "      <th>Lower</th>\n",
        "      <th>Upper</th>\n",
        "      <th>Lower</th>\n",
        "      <th>Surv</th>\n",
        "      <th>Upper</th>\n",
        "    </tr>\n",
        "  </thead>\n",
        "  <tbody>\n",
        "    <tr>\n",
        "      <th>After 1999</th>\n",
        "      <td> 94</td>\n",
        "      <td> 28</td>\n",
        "      <td> 4.84</td>\n",
        "      <td> 4.36</td>\n",
        "      <td>   NaN</td>\n",
        "      <td> 0.34</td>\n",
        "      <td> 0.50</td>\n",
        "      <td> 0.73</td>\n",
        "    </tr>\n",
        "    <tr>\n",
        "      <th>Before 1999</th>\n",
        "      <td> 14</td>\n",
        "      <td> 14</td>\n",
        "      <td> 1.99</td>\n",
        "      <td> 1.36</td>\n",
        "      <td> 13.04</td>\n",
        "      <td> 0.12</td>\n",
        "      <td> 0.29</td>\n",
        "      <td> 0.65</td>\n",
        "    </tr>\n",
        "  </tbody>\n",
        "</table>\n",
        "</div>"
       ],
       "output_type": "pyout",
       "prompt_number": 25,
       "text": [
        "                  Stats            Median Survival                5y Survival             \n",
        "             # Patients  # Events           Median  Lower  Upper        Lower  Surv  Upper\n",
        "After 1999           94        28             4.84   4.36    NaN         0.34  0.50   0.73\n",
        "Before 1999          14        14             1.99   1.36  13.04         0.12  0.29   0.65"
       ]
      },
      {
       "output_type": "display_data",
       "png": "[encoded data removed]"
      }
     ],
     "prompt_number": 25
    },
    {
     "cell_type": "markdown",
     "metadata": {},
     "source": [
      "###Final Clinical Table"
     ]
    },
    {
     "cell_type": "code",
     "collapsed": false,
     "input": [
      "t = pd.concat([get_surv_fit(surv, f) for f in [hpv, stage, lymph_stage, invasion, spread, tumor_subdivision, old_age, year]], \n",
      "               keys=['HPV', 'Stage', 'Lymph Stage', 'Perineural Invasion', 'Pathological Spread', 'Subdivision', 'Age', 'Year of Surgery'])\n",
      "t"
     ],
     "language": "python",
     "metadata": {},
     "outputs": [
      {
       "html": [
        "<div style=\"max-height:1000px;max-width:1500px;overflow:auto;\">\n",
        "<table border=\"1\" class=\"dataframe\">\n",
        "  <thead>\n",
        "    <tr>\n",
        "      <th></th>\n",
        "      <th></th>\n",
        "      <th colspan=\"2\" halign=\"left\">Stats</th>\n",
        "      <th colspan=\"3\" halign=\"left\">Median Survival</th>\n",
        "      <th colspan=\"3\" halign=\"left\">5y Survival</th>\n",
        "    </tr>\n",
        "    <tr>\n",
        "      <th></th>\n",
        "      <th></th>\n",
        "      <th># Patients</th>\n",
        "      <th># Events</th>\n",
        "      <th>Median</th>\n",
        "      <th>Lower</th>\n",
        "      <th>Upper</th>\n",
        "      <th>Lower</th>\n",
        "      <th>Surv</th>\n",
        "      <th>Upper</th>\n",
        "    </tr>\n",
        "  </thead>\n",
        "  <tbody>\n",
        "    <tr>\n",
        "      <th rowspan=\"2\" valign=\"top\">HPV</th>\n",
        "      <th>HPV-</th>\n",
        "      <td> 244</td>\n",
        "      <td> 102</td>\n",
        "      <td> 2.25</td>\n",
        "      <td> 1.64</td>\n",
        "      <td> 4.36</td>\n",
        "      <td> 0.31</td>\n",
        "      <td> 0.39</td>\n",
        "      <td> 0.48</td>\n",
        "    </tr>\n",
        "    <tr>\n",
        "      <th>HPV+</th>\n",
        "      <td>  35</td>\n",
        "      <td>   8</td>\n",
        "      <td> 4.84</td>\n",
        "      <td> 4.82</td>\n",
        "      <td>  NaN</td>\n",
        "      <td> 0.26</td>\n",
        "      <td> 0.48</td>\n",
        "      <td> 0.91</td>\n",
        "    </tr>\n",
        "    <tr>\n",
        "      <th rowspan=\"4\" valign=\"top\">Stage</th>\n",
        "      <th>stge i</th>\n",
        "      <td>   8</td>\n",
        "      <td>   1</td>\n",
        "      <td>  NaN</td>\n",
        "      <td>  NaN</td>\n",
        "      <td>  NaN</td>\n",
        "      <td>  NaN</td>\n",
        "      <td>  NaN</td>\n",
        "      <td>  NaN</td>\n",
        "    </tr>\n",
        "    <tr>\n",
        "      <th>stge ii</th>\n",
        "      <td>  17</td>\n",
        "      <td>   3</td>\n",
        "      <td>  NaN</td>\n",
        "      <td> 4.84</td>\n",
        "      <td>  NaN</td>\n",
        "      <td> 0.33</td>\n",
        "      <td> 0.62</td>\n",
        "      <td> 1.00</td>\n",
        "    </tr>\n",
        "    <tr>\n",
        "      <th>stge iii</th>\n",
        "      <td>  14</td>\n",
        "      <td>   4</td>\n",
        "      <td>  NaN</td>\n",
        "      <td> 2.36</td>\n",
        "      <td>  NaN</td>\n",
        "      <td> 0.31</td>\n",
        "      <td> 0.56</td>\n",
        "      <td> 1.00</td>\n",
        "    </tr>\n",
        "    <tr>\n",
        "      <th>stge iv</th>\n",
        "      <td>  55</td>\n",
        "      <td>  25</td>\n",
        "      <td> 2.16</td>\n",
        "      <td> 1.36</td>\n",
        "      <td>  NaN</td>\n",
        "      <td> 0.17</td>\n",
        "      <td> 0.31</td>\n",
        "      <td> 0.55</td>\n",
        "    </tr>\n",
        "    <tr>\n",
        "      <th rowspan=\"4\" valign=\"top\">Lymph Stage</th>\n",
        "      <th>n0</th>\n",
        "      <td>  38</td>\n",
        "      <td>   9</td>\n",
        "      <td> 4.84</td>\n",
        "      <td> 3.11</td>\n",
        "      <td>  NaN</td>\n",
        "      <td>  NaN</td>\n",
        "      <td>  NaN</td>\n",
        "      <td>  NaN</td>\n",
        "    </tr>\n",
        "    <tr>\n",
        "      <th>n1</th>\n",
        "      <td>  13</td>\n",
        "      <td>   4</td>\n",
        "      <td>  NaN</td>\n",
        "      <td> 1.49</td>\n",
        "      <td>  NaN</td>\n",
        "      <td> 0.39</td>\n",
        "      <td> 0.63</td>\n",
        "      <td> 1.00</td>\n",
        "    </tr>\n",
        "    <tr>\n",
        "      <th>n2</th>\n",
        "      <td>  33</td>\n",
        "      <td>  14</td>\n",
        "      <td> 2.16</td>\n",
        "      <td> 1.35</td>\n",
        "      <td>  NaN</td>\n",
        "      <td> 0.23</td>\n",
        "      <td> 0.40</td>\n",
        "      <td> 0.70</td>\n",
        "    </tr>\n",
        "    <tr>\n",
        "      <th>n3</th>\n",
        "      <td>   2</td>\n",
        "      <td>   2</td>\n",
        "      <td> 2.06</td>\n",
        "      <td> 0.59</td>\n",
        "      <td>  NaN</td>\n",
        "      <td>  NaN</td>\n",
        "      <td>  NaN</td>\n",
        "      <td>  NaN</td>\n",
        "    </tr>\n",
        "    <tr>\n",
        "      <th rowspan=\"2\" valign=\"top\">Perineural Invasion</th>\n",
        "      <th>no</th>\n",
        "      <td>  32</td>\n",
        "      <td>   6</td>\n",
        "      <td>  NaN</td>\n",
        "      <td>  NaN</td>\n",
        "      <td>  NaN</td>\n",
        "      <td> 0.52</td>\n",
        "      <td> 0.70</td>\n",
        "      <td> 0.94</td>\n",
        "    </tr>\n",
        "    <tr>\n",
        "      <th>yes</th>\n",
        "      <td>  42</td>\n",
        "      <td>  18</td>\n",
        "      <td> 2.54</td>\n",
        "      <td> 1.35</td>\n",
        "      <td>  NaN</td>\n",
        "      <td> 0.25</td>\n",
        "      <td> 0.41</td>\n",
        "      <td> 0.67</td>\n",
        "    </tr>\n",
        "    <tr>\n",
        "      <th rowspan=\"3\" valign=\"top\">Pathological Spread</th>\n",
        "      <th>gross extension</th>\n",
        "      <td>   7</td>\n",
        "      <td>   3</td>\n",
        "      <td>  NaN</td>\n",
        "      <td> 1.26</td>\n",
        "      <td>  NaN</td>\n",
        "      <td> 0.24</td>\n",
        "      <td> 0.51</td>\n",
        "      <td> 1.00</td>\n",
        "    </tr>\n",
        "    <tr>\n",
        "      <th>microscopic extension</th>\n",
        "      <td>  11</td>\n",
        "      <td>   6</td>\n",
        "      <td> 0.96</td>\n",
        "      <td> 0.59</td>\n",
        "      <td>  NaN</td>\n",
        "      <td>  NaN</td>\n",
        "      <td>  NaN</td>\n",
        "      <td>  NaN</td>\n",
        "    </tr>\n",
        "    <tr>\n",
        "      <th>no extranodal extension</th>\n",
        "      <td>  49</td>\n",
        "      <td>  11</td>\n",
        "      <td>  NaN</td>\n",
        "      <td> 4.36</td>\n",
        "      <td>  NaN</td>\n",
        "      <td> 0.39</td>\n",
        "      <td> 0.58</td>\n",
        "      <td> 0.86</td>\n",
        "    </tr>\n",
        "    <tr>\n",
        "      <th rowspan=\"3\" valign=\"top\">Subdivision</th>\n",
        "      <th>larynx</th>\n",
        "      <td>  24</td>\n",
        "      <td>   6</td>\n",
        "      <td>  NaN</td>\n",
        "      <td> 1.58</td>\n",
        "      <td>  NaN</td>\n",
        "      <td> 0.35</td>\n",
        "      <td> 0.56</td>\n",
        "      <td> 0.92</td>\n",
        "    </tr>\n",
        "    <tr>\n",
        "      <th>oral cavity</th>\n",
        "      <td>  71</td>\n",
        "      <td>  26</td>\n",
        "      <td> 4.36</td>\n",
        "      <td> 2.36</td>\n",
        "      <td>  NaN</td>\n",
        "      <td> 0.32</td>\n",
        "      <td> 0.46</td>\n",
        "      <td> 0.66</td>\n",
        "    </tr>\n",
        "    <tr>\n",
        "      <th>oropharynx</th>\n",
        "      <td>  12</td>\n",
        "      <td>   3</td>\n",
        "      <td> 4.84</td>\n",
        "      <td> 3.11</td>\n",
        "      <td>  NaN</td>\n",
        "      <td> 0.08</td>\n",
        "      <td> 0.36</td>\n",
        "      <td> 1.00</td>\n",
        "    </tr>\n",
        "    <tr>\n",
        "      <th rowspan=\"2\" valign=\"top\">Age</th>\n",
        "      <th>Age &lt; 85</th>\n",
        "      <td> 318</td>\n",
        "      <td> 111</td>\n",
        "      <td> 4.00</td>\n",
        "      <td> 2.84</td>\n",
        "      <td>  NaN</td>\n",
        "      <td> 0.33</td>\n",
        "      <td> 0.41</td>\n",
        "      <td> 0.51</td>\n",
        "    </tr>\n",
        "    <tr>\n",
        "      <th>Age &gt;</th>\n",
        "      <td>   8</td>\n",
        "      <td>   7</td>\n",
        "      <td> 0.67</td>\n",
        "      <td> 0.39</td>\n",
        "      <td>  NaN</td>\n",
        "      <td>  NaN</td>\n",
        "      <td>  NaN</td>\n",
        "      <td>  NaN</td>\n",
        "    </tr>\n",
        "    <tr>\n",
        "      <th rowspan=\"2\" valign=\"top\">Year of Surgery</th>\n",
        "      <th>After 1999</th>\n",
        "      <td>  94</td>\n",
        "      <td>  25</td>\n",
        "      <td> 4.84</td>\n",
        "      <td> 4.36</td>\n",
        "      <td>  NaN</td>\n",
        "      <td> 0.34</td>\n",
        "      <td> 0.50</td>\n",
        "      <td> 0.73</td>\n",
        "    </tr>\n",
        "    <tr>\n",
        "      <th>Before 1999</th>\n",
        "      <td>  14</td>\n",
        "      <td>  10</td>\n",
        "      <td> 1.99</td>\n",
        "      <td> 1.36</td>\n",
        "      <td>  NaN</td>\n",
        "      <td> 0.12</td>\n",
        "      <td> 0.29</td>\n",
        "      <td> 0.65</td>\n",
        "    </tr>\n",
        "  </tbody>\n",
        "</table>\n",
        "</div>"
       ],
       "output_type": "pyout",
       "prompt_number": 26,
       "text": [
        "                                                  Stats            Median Survival                5y Survival             \n",
        "                                             # Patients  # Events           Median  Lower  Upper        Lower  Surv  Upper\n",
        "HPV                 HPV-                            244       102             2.25   1.64   4.36         0.31  0.39   0.48\n",
        "                    HPV+                             35         8             4.84   4.82    NaN         0.26  0.48   0.91\n",
        "Stage               stge i                            8         1              NaN    NaN    NaN          NaN   NaN    NaN\n",
        "                    stge ii                          17         3              NaN   4.84    NaN         0.33  0.62   1.00\n",
        "                    stge iii                         14         4              NaN   2.36    NaN         0.31  0.56   1.00\n",
        "                    stge iv                          55        25             2.16   1.36    NaN         0.17  0.31   0.55\n",
        "Lymph Stage         n0                               38         9             4.84   3.11    NaN          NaN   NaN    NaN\n",
        "                    n1                               13         4              NaN   1.49    NaN         0.39  0.63   1.00\n",
        "                    n2                               33        14             2.16   1.35    NaN         0.23  0.40   0.70\n",
        "                    n3                                2         2             2.06   0.59    NaN          NaN   NaN    NaN\n",
        "Perineural Invasion no                               32         6              NaN    NaN    NaN         0.52  0.70   0.94\n",
        "                    yes                              42        18             2.54   1.35    NaN         0.25  0.41   0.67\n",
        "Pathological Spread gross extension                   7         3              NaN   1.26    NaN         0.24  0.51   1.00\n",
        "                    microscopic extension            11         6             0.96   0.59    NaN          NaN   NaN    NaN\n",
        "                    no extranodal extension          49        11              NaN   4.36    NaN         0.39  0.58   0.86\n",
        "Subdivision         larynx                           24         6              NaN   1.58    NaN         0.35  0.56   0.92\n",
        "                    oral cavity                      71        26             4.36   2.36    NaN         0.32  0.46   0.66\n",
        "                    oropharynx                       12         3             4.84   3.11    NaN         0.08  0.36   1.00\n",
        "Age                 Age < 85                        318       111             4.00   2.84    NaN         0.33  0.41   0.51\n",
        "                    Age >                             8         7             0.67   0.39    NaN          NaN   NaN    NaN\n",
        "Year of Surgery     After 1999                       94        25             4.84   4.36    NaN         0.34  0.50   0.73\n",
        "                    Before 1999                      14        10             1.99   1.36    NaN         0.12  0.29   0.65"
       ]
      }
     ],
     "prompt_number": 26
    },
    {
     "cell_type": "code",
     "collapsed": false,
     "input": [
      "clinical_df = pd.concat([hpv, stage, lymph_stage, invasion, spread, tumor_subdivision, old_age, year], \n",
      "                        keys=['HPV', 'Stage', 'Lymph_Stage', 'Perineural_Invasion', \n",
      "                              'Pathological_Spread', 'Subdivision', 'Age', 'Year_of_Surgery'],\n",
      "                        axis=1)"
     ],
     "language": "python",
     "metadata": {},
     "outputs": [],
     "prompt_number": 27
    },
    {
     "cell_type": "code",
     "collapsed": false,
     "input": [
      "clinical_vars = clinical_df\n",
      "clinical_vars = clinical_vars.fillna('NA')\n",
      "get_cox_ph_ms(surv, covariates=clinical_vars, return_val='model_desc', interactions=False);"
     ],
     "language": "python",
     "metadata": {},
     "outputs": [
      {
       "output_type": "stream",
       "stream": "stdout",
       "text": [
        "\n",
        "                                             coef exp(coef) se(coef)      z\n",
        "HPVHPV+                                    -0.951     0.386    0.371 -2.561\n",
        "HPVNA                                      -0.714     0.490    0.371 -1.924\n",
        "Stagestge i                                -0.601     0.548    1.025 -0.586\n",
        "Stagestge ii                               -1.014     0.363    0.606 -1.672\n",
        "Stagestge iii                               0.188     1.207    0.582  0.324\n",
        "Stagestge iv                                0.726     2.068    0.287  2.530\n",
        "Pathological_Spreadmicroscopic extension    1.700     5.474    0.724  2.348\n",
        "Pathological_SpreadNA                       1.086     2.962    0.642  1.692\n",
        "Pathological_Spreadno extranodal extension  0.133     1.142    0.660  0.202\n",
        "AgeAge >= 85                                2.323    10.210    0.419  5.542\n",
        "                                                 p\n",
        "HPVHPV+                                    1.0e-02\n",
        "HPVNA                                      5.4e-02\n",
        "Stagestge i                                5.6e-01\n",
        "Stagestge ii                               9.4e-02\n",
        "Stagestge iii                              7.5e-01\n",
        "Stagestge iv                               1.1e-02\n",
        "Pathological_Spreadmicroscopic extension   1.9e-02\n",
        "Pathological_SpreadNA                      9.1e-02\n",
        "Pathological_Spreadno extranodal extension 8.4e-01\n",
        "AgeAge >= 85                               3.0e-08\n",
        "\n",
        "Likelihood ratio test=51.2  on 10 df, p=1.58e-07  n= 326, number of events= 118 \n",
        "\n"
       ]
      }
     ],
     "prompt_number": 28
    },
    {
     "cell_type": "code",
     "collapsed": false,
     "input": [
      "keepers = true_index(old_age == 'Age < 85')\n",
      "clinical_vars = pd.concat([hpv, stage, lymph_stage, invasion, spread, tumor_subdivision, year], \n",
      "                                          keys=['HPV', 'Stage', 'Lymph_Stage', 'Perineural_Invasion', \n",
      "                                                'Pathological_Spread', 'Subdivision', 'Year_of_Surgery'],\n",
      "                                          axis=1)\n",
      "clinical_vars = clinical_vars.fillna('NA').ix[keepers]\n",
      "get_cox_ph_ms(surv, covariates=clinical_vars, return_val='model_desc', interactions=False);"
     ],
     "language": "python",
     "metadata": {},
     "outputs": [
      {
       "output_type": "stream",
       "stream": "stdout",
       "text": [
        "\n",
        "                                              coef exp(coef) se(coef)        z\n",
        "HPVHPV+                                     -0.864  4.22e-01    0.372 -2.32036\n",
        "HPVNA                                       -1.349  2.59e-01    1.026 -1.31544\n",
        "Stagestge i                                -14.520  4.94e-07 2251.406 -0.00645\n",
        "Stagestge ii                                -0.494  6.10e-01    1.035 -0.47745\n",
        "Stagestge iii                                0.595  1.81e+00    0.971  0.61325\n",
        "Stagestge iv                                 1.310  3.71e+00    0.760  1.72355\n",
        "Pathological_Spreadmicroscopic extension     2.137  8.48e+00    0.849  2.51820\n",
        "Pathological_SpreadNA                        0.998  2.71e+00    0.804  1.24218\n",
        "Pathological_Spreadno extranodal extension   0.538  1.71e+00    0.781  0.68910\n",
        "Year_of_SurgeryBefore 1999                   0.776  2.17e+00    0.491  1.57994\n",
        "Year_of_SurgeryNA                            1.080  2.94e+00    0.779  1.38599\n",
        "                                               p\n",
        "HPVHPV+                                    0.020\n",
        "HPVNA                                      0.190\n",
        "Stagestge i                                0.990\n",
        "Stagestge ii                               0.630\n",
        "Stagestge iii                              0.540\n",
        "Stagestge iv                               0.085\n",
        "Pathological_Spreadmicroscopic extension   0.012\n",
        "Pathological_SpreadNA                      0.210\n",
        "Pathological_Spreadno extranodal extension 0.490\n",
        "Year_of_SurgeryBefore 1999                 0.110\n",
        "Year_of_SurgeryNA                          0.170\n",
        "\n",
        "Likelihood ratio test=39.6  on 11 df, p=4.14e-05  n= 285, number of events= 104 \n",
        "\n"
       ]
      }
     ],
     "prompt_number": 29
    },
    {
     "cell_type": "code",
     "collapsed": false,
     "input": [
      "keepers = true_index(year == 'After 1999')\n",
      "clinical_vars = pd.concat([hpv, stage, lymph_stage, invasion, spread, tumor_subdivision], \n",
      "                                          keys=['HPV', 'Stage', 'Lymph_Stage', 'Perineural_Invasion', \n",
      "                                                'Pathological_Spread', 'Subdivision'],\n",
      "                                          axis=1)\n",
      "clinical_vars = clinical_vars.fillna('NA').ix[keepers].dropna()\n",
      "get_cox_ph_ms(surv, covariates=clinical_vars, return_val='model_desc', interactions=False);"
     ],
     "language": "python",
     "metadata": {},
     "outputs": [
      {
       "output_type": "stream",
       "stream": "stdout",
       "text": [
        "\n",
        "                                              coef exp(coef) se(coef)        z\n",
        "HPVHPV+                                      0.101  1.11e+00    0.754  0.13378\n",
        "HPVNA                                      -18.379  1.04e-08 2810.636 -0.00654\n",
        "Stagestge i                                  3.642  3.82e+01    1.428  2.54967\n",
        "Stagestge ii                                 2.375  1.07e+01    1.104  2.15067\n",
        "Stagestge iii                                4.998  1.48e+02    1.796  2.78228\n",
        "Stagestge iv                                 4.394  8.10e+01    1.625  2.70508\n",
        "Lymph_Stagen1                                0.216  1.24e+00    0.839  0.25789\n",
        "Lymph_Stagen2                                0.197  1.22e+00    0.829  0.23784\n",
        "Lymph_Stagen3                                3.614  3.71e+01    1.383  2.61346\n",
        "Lymph_StageNA                                3.214  2.49e+01    1.244  2.58319\n",
        "Pathological_Spreadmicroscopic extension     1.284  3.61e+00    0.804  1.59606\n",
        "Pathological_SpreadNA                        0.303  1.35e+00    0.855  0.35515\n",
        "Pathological_Spreadno extranodal extension  -0.780  4.59e-01    0.799 -0.97518\n",
        "                                                p\n",
        "HPVHPV+                                    0.8900\n",
        "HPVNA                                      0.9900\n",
        "Stagestge i                                0.0110\n",
        "Stagestge ii                               0.0320\n",
        "Stagestge iii                              0.0054\n",
        "Stagestge iv                               0.0068\n",
        "Lymph_Stagen1                              0.8000\n",
        "Lymph_Stagen2                              0.8100\n",
        "Lymph_Stagen3                              0.0090\n",
        "Lymph_StageNA                              0.0098\n",
        "Pathological_Spreadmicroscopic extension   0.1100\n",
        "Pathological_SpreadNA                      0.7200\n",
        "Pathological_Spreadno extranodal extension 0.3300\n",
        "\n",
        "Likelihood ratio test=27.8  on 13 df, p=0.00977  n= 94, number of events= 25 \n",
        "\n"
       ]
      }
     ],
     "prompt_number": 30
    },
    {
     "cell_type": "code",
     "collapsed": false,
     "input": [
      "rna_corr = pd.concat({v: screen_feature(f, kruskal_pandas, rna.features).head(3) \n",
      "                      for v,f in clinical_df.iteritems()})"
     ],
     "language": "python",
     "metadata": {},
     "outputs": [],
     "prompt_number": 31
    },
    {
     "cell_type": "code",
     "collapsed": false,
     "input": [
      "rna_corr"
     ],
     "language": "python",
     "metadata": {},
     "outputs": [
      {
       "html": [
        "<div style=\"max-height:1000px;max-width:1500px;overflow:auto;\">\n",
        "<table border=\"1\" class=\"dataframe\">\n",
        "  <thead>\n",
        "    <tr style=\"text-align: right;\">\n",
        "      <th></th>\n",
        "      <th></th>\n",
        "      <th>H</th>\n",
        "      <th>p</th>\n",
        "      <th>q</th>\n",
        "    </tr>\n",
        "  </thead>\n",
        "  <tbody>\n",
        "    <tr>\n",
        "      <th rowspan=\"3\" valign=\"top\">Age</th>\n",
        "      <th>REACTOME_STEROID_HORMONES</th>\n",
        "      <td>  9.42</td>\n",
        "      <td> 2.14e-03</td>\n",
        "      <td> 6.81e-01</td>\n",
        "    </tr>\n",
        "    <tr>\n",
        "      <th>BIOCARTA_PGC1A_PATHWAY</th>\n",
        "      <td>  8.63</td>\n",
        "      <td> 3.30e-03</td>\n",
        "      <td> 6.81e-01</td>\n",
        "    </tr>\n",
        "    <tr>\n",
        "      <th>BIOCARTA_CHEMICAL_PATHWAY</th>\n",
        "      <td>  8.37</td>\n",
        "      <td> 3.82e-03</td>\n",
        "      <td> 6.81e-01</td>\n",
        "    </tr>\n",
        "    <tr>\n",
        "      <th rowspan=\"3\" valign=\"top\">HPV</th>\n",
        "      <th>REACTOME_UNWINDING_OF_DNA</th>\n",
        "      <td> 73.50</td>\n",
        "      <td> 1.01e-17</td>\n",
        "      <td> 8.38e-15</td>\n",
        "    </tr>\n",
        "    <tr>\n",
        "      <th>REACTOME_DNA_STRAND_ELONGATION</th>\n",
        "      <td> 71.36</td>\n",
        "      <td> 2.97e-17</td>\n",
        "      <td> 1.16e-14</td>\n",
        "    </tr>\n",
        "    <tr>\n",
        "      <th>REACTOME_ACTIVATION_OF_THE_PRE_REPLICATIVE_COMPLEX</th>\n",
        "      <td> 70.68</td>\n",
        "      <td> 4.19e-17</td>\n",
        "      <td> 1.16e-14</td>\n",
        "    </tr>\n",
        "    <tr>\n",
        "      <th rowspan=\"3\" valign=\"top\">Lymph_Stage</th>\n",
        "      <th>BIOCARTA_IL2RB_PATHWAY</th>\n",
        "      <td> 11.95</td>\n",
        "      <td> 7.55e-03</td>\n",
        "      <td> 7.24e-01</td>\n",
        "    </tr>\n",
        "    <tr>\n",
        "      <th>SA_MMP_CYTOKINE_CONNECTION</th>\n",
        "      <td> 11.51</td>\n",
        "      <td> 9.25e-03</td>\n",
        "      <td> 7.24e-01</td>\n",
        "    </tr>\n",
        "    <tr>\n",
        "      <th>REACTOME_G_ALPHA_12_13_SIGNALLING_EVENTS</th>\n",
        "      <td> 10.90</td>\n",
        "      <td> 1.23e-02</td>\n",
        "      <td> 7.24e-01</td>\n",
        "    </tr>\n",
        "    <tr>\n",
        "      <th rowspan=\"3\" valign=\"top\">Pathological_Spread</th>\n",
        "      <th>BIOCARTA_PTEN_PATHWAY</th>\n",
        "      <td> 13.82</td>\n",
        "      <td> 9.96e-04</td>\n",
        "      <td> 5.60e-01</td>\n",
        "    </tr>\n",
        "    <tr>\n",
        "      <th>REACTOME_INTEGRIN_ALPHAIIBBETA3_SIGNALING</th>\n",
        "      <td> 12.27</td>\n",
        "      <td> 2.16e-03</td>\n",
        "      <td> 5.60e-01</td>\n",
        "    </tr>\n",
        "    <tr>\n",
        "      <th>REACTOME_PLATELET_AGGREGATION_PLUG_FORMATION</th>\n",
        "      <td> 11.61</td>\n",
        "      <td> 3.01e-03</td>\n",
        "      <td> 5.60e-01</td>\n",
        "    </tr>\n",
        "    <tr>\n",
        "      <th rowspan=\"3\" valign=\"top\">Perineural_Invasion</th>\n",
        "      <th>REACTOME_GAP_JUNCTION_TRAFFICKING</th>\n",
        "      <td> 12.77</td>\n",
        "      <td> 3.52e-04</td>\n",
        "      <td> 9.22e-02</td>\n",
        "    </tr>\n",
        "    <tr>\n",
        "      <th>REACTOME_GAP_JUNCTION_DEGRADATION</th>\n",
        "      <td> 12.60</td>\n",
        "      <td> 3.86e-04</td>\n",
        "      <td> 9.22e-02</td>\n",
        "    </tr>\n",
        "    <tr>\n",
        "      <th>BIOCARTA_TGFB_PATHWAY</th>\n",
        "      <td> 12.17</td>\n",
        "      <td> 4.85e-04</td>\n",
        "      <td> 9.22e-02</td>\n",
        "    </tr>\n",
        "    <tr>\n",
        "      <th rowspan=\"3\" valign=\"top\">Stage</th>\n",
        "      <th>BIOCARTA_GLEEVEC_PATHWAY</th>\n",
        "      <td> 13.32</td>\n",
        "      <td> 3.99e-03</td>\n",
        "      <td> 7.79e-01</td>\n",
        "    </tr>\n",
        "    <tr>\n",
        "      <th>ST_INTERLEUKIN_4_PATHWAY</th>\n",
        "      <td> 13.25</td>\n",
        "      <td> 4.12e-03</td>\n",
        "      <td> 7.79e-01</td>\n",
        "    </tr>\n",
        "    <tr>\n",
        "      <th>BIOCARTA_CDMAC_PATHWAY</th>\n",
        "      <td> 12.89</td>\n",
        "      <td> 4.89e-03</td>\n",
        "      <td> 7.79e-01</td>\n",
        "    </tr>\n",
        "    <tr>\n",
        "      <th rowspan=\"3\" valign=\"top\">Subdivision</th>\n",
        "      <th>BIOCARTA_IL1R_PATHWAY</th>\n",
        "      <td> 28.98</td>\n",
        "      <td> 5.10e-07</td>\n",
        "      <td> 2.88e-04</td>\n",
        "    </tr>\n",
        "    <tr>\n",
        "      <th>REACTOME_NCAM1_INTERACTIONS</th>\n",
        "      <td> 27.94</td>\n",
        "      <td> 8.59e-07</td>\n",
        "      <td> 2.88e-04</td>\n",
        "    </tr>\n",
        "    <tr>\n",
        "      <th>BIOCARTA_FREE_PATHWAY</th>\n",
        "      <td> 26.90</td>\n",
        "      <td> 1.44e-06</td>\n",
        "      <td> 2.88e-04</td>\n",
        "    </tr>\n",
        "    <tr>\n",
        "      <th rowspan=\"3\" valign=\"top\">Year_of_Surgery</th>\n",
        "      <th>REACTOME_RECYCLING_OF_BILE_ACIDS_AND_SALTS</th>\n",
        "      <td>  6.12</td>\n",
        "      <td> 1.33e-02</td>\n",
        "      <td> 9.86e-01</td>\n",
        "    </tr>\n",
        "    <tr>\n",
        "      <th>REACTOME_DEADENYLATION_OF_MRNA</th>\n",
        "      <td>  4.89</td>\n",
        "      <td> 2.71e-02</td>\n",
        "      <td> 9.86e-01</td>\n",
        "    </tr>\n",
        "    <tr>\n",
        "      <th>REACTOME_FACILITATIVE_NA_INDEPENDENT_GLUCOSE_TRANSPORTERS</th>\n",
        "      <td>  4.67</td>\n",
        "      <td> 3.08e-02</td>\n",
        "      <td> 9.86e-01</td>\n",
        "    </tr>\n",
        "  </tbody>\n",
        "</table>\n",
        "</div>"
       ],
       "output_type": "pyout",
       "prompt_number": 32,
       "text": [
        "                                                                                   H         p         q\n",
        "Age                 REACTOME_STEROID_HORMONES                                   9.42  2.14e-03  6.81e-01\n",
        "                    BIOCARTA_PGC1A_PATHWAY                                      8.63  3.30e-03  6.81e-01\n",
        "                    BIOCARTA_CHEMICAL_PATHWAY                                   8.37  3.82e-03  6.81e-01\n",
        "HPV                 REACTOME_UNWINDING_OF_DNA                                  73.50  1.01e-17  8.38e-15\n",
        "                    REACTOME_DNA_STRAND_ELONGATION                             71.36  2.97e-17  1.16e-14\n",
        "                    REACTOME_ACTIVATION_OF_THE_PRE_REPLICATIVE_COMPLEX         70.68  4.19e-17  1.16e-14\n",
        "Lymph_Stage         BIOCARTA_IL2RB_PATHWAY                                     11.95  7.55e-03  7.24e-01\n",
        "                    SA_MMP_CYTOKINE_CONNECTION                                 11.51  9.25e-03  7.24e-01\n",
        "                    REACTOME_G_ALPHA_12_13_SIGNALLING_EVENTS                   10.90  1.23e-02  7.24e-01\n",
        "Pathological_Spread BIOCARTA_PTEN_PATHWAY                                      13.82  9.96e-04  5.60e-01\n",
        "                    REACTOME_INTEGRIN_ALPHAIIBBETA3_SIGNALING                  12.27  2.16e-03  5.60e-01\n",
        "                    REACTOME_PLATELET_AGGREGATION_PLUG_FORMATION               11.61  3.01e-03  5.60e-01\n",
        "Perineural_Invasion REACTOME_GAP_JUNCTION_TRAFFICKING                          12.77  3.52e-04  9.22e-02\n",
        "                    REACTOME_GAP_JUNCTION_DEGRADATION                          12.60  3.86e-04  9.22e-02\n",
        "                    BIOCARTA_TGFB_PATHWAY                                      12.17  4.85e-04  9.22e-02\n",
        "Stage               BIOCARTA_GLEEVEC_PATHWAY                                   13.32  3.99e-03  7.79e-01\n",
        "                    ST_INTERLEUKIN_4_PATHWAY                                   13.25  4.12e-03  7.79e-01\n",
        "                    BIOCARTA_CDMAC_PATHWAY                                     12.89  4.89e-03  7.79e-01\n",
        "Subdivision         BIOCARTA_IL1R_PATHWAY                                      28.98  5.10e-07  2.88e-04\n",
        "                    REACTOME_NCAM1_INTERACTIONS                                27.94  8.59e-07  2.88e-04\n",
        "                    BIOCARTA_FREE_PATHWAY                                      26.90  1.44e-06  2.88e-04\n",
        "Year_of_Surgery     REACTOME_RECYCLING_OF_BILE_ACIDS_AND_SALTS                  6.12  1.33e-02  9.86e-01\n",
        "                    REACTOME_DEADENYLATION_OF_MRNA                              4.89  2.71e-02  9.86e-01\n",
        "                    REACTOME_FACILITATIVE_NA_INDEPENDENT_GLUCOSE_TRANSPORTERS   4.67  3.08e-02  9.86e-01"
       ]
      }
     ],
     "prompt_number": 32
    },
    {
     "cell_type": "code",
     "collapsed": false,
     "input": [
      "mir_corr = pd.concat({v: screen_feature(f, kruskal_pandas, mirna.features.ix['real']).head(3) \n",
      "                      for v,f in clinical_df.iteritems()})"
     ],
     "language": "python",
     "metadata": {},
     "outputs": [],
     "prompt_number": 33
    },
    {
     "cell_type": "code",
     "collapsed": false,
     "input": [
      "mir_corr"
     ],
     "language": "python",
     "metadata": {},
     "outputs": [
      {
       "html": [
        "<div style=\"max-height:1000px;max-width:1500px;overflow:auto;\">\n",
        "<table border=\"1\" class=\"dataframe\">\n",
        "  <thead>\n",
        "    <tr style=\"text-align: right;\">\n",
        "      <th></th>\n",
        "      <th></th>\n",
        "      <th>H</th>\n",
        "      <th>p</th>\n",
        "      <th>q</th>\n",
        "    </tr>\n",
        "  </thead>\n",
        "  <tbody>\n",
        "    <tr>\n",
        "      <th rowspan=\"3\" valign=\"top\">Age</th>\n",
        "      <th>hsa-mir-494</th>\n",
        "      <td>  9.14</td>\n",
        "      <td> 2.50e-03</td>\n",
        "      <td> 7.60e-01</td>\n",
        "    </tr>\n",
        "    <tr>\n",
        "      <th>hsa-mir-3655</th>\n",
        "      <td>  7.73</td>\n",
        "      <td> 5.43e-03</td>\n",
        "      <td> 7.60e-01</td>\n",
        "    </tr>\n",
        "    <tr>\n",
        "      <th>hsa-mir-23a</th>\n",
        "      <td>  7.30</td>\n",
        "      <td> 6.91e-03</td>\n",
        "      <td> 7.60e-01</td>\n",
        "    </tr>\n",
        "    <tr>\n",
        "      <th rowspan=\"3\" valign=\"top\">HPV</th>\n",
        "      <th>hsa-mir-20b</th>\n",
        "      <td> 64.97</td>\n",
        "      <td> 7.62e-16</td>\n",
        "      <td> 3.66e-13</td>\n",
        "    </tr>\n",
        "    <tr>\n",
        "      <th>hsa-mir-363</th>\n",
        "      <td> 61.02</td>\n",
        "      <td> 5.65e-15</td>\n",
        "      <td> 1.36e-12</td>\n",
        "    </tr>\n",
        "    <tr>\n",
        "      <th>hsa-mir-9-2</th>\n",
        "      <td> 53.83</td>\n",
        "      <td> 2.19e-13</td>\n",
        "      <td> 2.72e-11</td>\n",
        "    </tr>\n",
        "    <tr>\n",
        "      <th rowspan=\"3\" valign=\"top\">Lymph_Stage</th>\n",
        "      <th>hsa-mir-218-1</th>\n",
        "      <td> 12.24</td>\n",
        "      <td> 6.60e-03</td>\n",
        "      <td> 9.51e-01</td>\n",
        "    </tr>\n",
        "    <tr>\n",
        "      <th>hsa-mir-656</th>\n",
        "      <td> 11.04</td>\n",
        "      <td> 1.15e-02</td>\n",
        "      <td> 9.51e-01</td>\n",
        "    </tr>\n",
        "    <tr>\n",
        "      <th>hsa-mir-214</th>\n",
        "      <td> 10.22</td>\n",
        "      <td> 1.68e-02</td>\n",
        "      <td> 9.51e-01</td>\n",
        "    </tr>\n",
        "    <tr>\n",
        "      <th rowspan=\"3\" valign=\"top\">Pathological_Spread</th>\n",
        "      <th>hsa-mir-330</th>\n",
        "      <td> 12.16</td>\n",
        "      <td> 2.28e-03</td>\n",
        "      <td> 5.41e-01</td>\n",
        "    </tr>\n",
        "    <tr>\n",
        "      <th>hsa-mir-3157</th>\n",
        "      <td> 11.16</td>\n",
        "      <td> 3.78e-03</td>\n",
        "      <td> 5.41e-01</td>\n",
        "    </tr>\n",
        "    <tr>\n",
        "      <th>hsa-mir-1976</th>\n",
        "      <td> 10.94</td>\n",
        "      <td> 4.21e-03</td>\n",
        "      <td> 5.41e-01</td>\n",
        "    </tr>\n",
        "    <tr>\n",
        "      <th rowspan=\"3\" valign=\"top\">Perineural_Invasion</th>\n",
        "      <th>hsa-mir-206</th>\n",
        "      <td> 10.40</td>\n",
        "      <td> 1.26e-03</td>\n",
        "      <td> 1.87e-01</td>\n",
        "    </tr>\n",
        "    <tr>\n",
        "      <th>hsa-mir-155</th>\n",
        "      <td>  9.92</td>\n",
        "      <td> 1.64e-03</td>\n",
        "      <td> 1.87e-01</td>\n",
        "    </tr>\n",
        "    <tr>\n",
        "      <th>hsa-mir-487b</th>\n",
        "      <td>  9.26</td>\n",
        "      <td> 2.35e-03</td>\n",
        "      <td> 1.87e-01</td>\n",
        "    </tr>\n",
        "    <tr>\n",
        "      <th rowspan=\"3\" valign=\"top\">Stage</th>\n",
        "      <th>hsa-mir-153-1</th>\n",
        "      <td> 13.10</td>\n",
        "      <td> 4.42e-03</td>\n",
        "      <td> 7.92e-01</td>\n",
        "    </tr>\n",
        "    <tr>\n",
        "      <th>hsa-mir-570</th>\n",
        "      <td> 11.88</td>\n",
        "      <td> 7.82e-03</td>\n",
        "      <td> 7.92e-01</td>\n",
        "    </tr>\n",
        "    <tr>\n",
        "      <th>hsa-mir-153-2</th>\n",
        "      <td> 11.47</td>\n",
        "      <td> 9.43e-03</td>\n",
        "      <td> 7.92e-01</td>\n",
        "    </tr>\n",
        "    <tr>\n",
        "      <th rowspan=\"3\" valign=\"top\">Subdivision</th>\n",
        "      <th>hsa-mir-10a</th>\n",
        "      <td> 48.41</td>\n",
        "      <td> 3.07e-11</td>\n",
        "      <td> 1.47e-08</td>\n",
        "    </tr>\n",
        "    <tr>\n",
        "      <th>hsa-mir-20b</th>\n",
        "      <td> 28.21</td>\n",
        "      <td> 7.50e-07</td>\n",
        "      <td> 1.80e-04</td>\n",
        "    </tr>\n",
        "    <tr>\n",
        "      <th>hsa-mir-9-3</th>\n",
        "      <td> 23.48</td>\n",
        "      <td> 7.98e-06</td>\n",
        "      <td> 1.13e-03</td>\n",
        "    </tr>\n",
        "    <tr>\n",
        "      <th rowspan=\"3\" valign=\"top\">Year_of_Surgery</th>\n",
        "      <th>hsa-mir-550a-2</th>\n",
        "      <td>  7.48</td>\n",
        "      <td> 6.23e-03</td>\n",
        "      <td> 8.40e-01</td>\n",
        "    </tr>\n",
        "    <tr>\n",
        "      <th>hsa-mir-3922</th>\n",
        "      <td>  5.98</td>\n",
        "      <td> 1.45e-02</td>\n",
        "      <td> 8.40e-01</td>\n",
        "    </tr>\n",
        "    <tr>\n",
        "      <th>hsa-mir-550a-1</th>\n",
        "      <td>  5.68</td>\n",
        "      <td> 1.71e-02</td>\n",
        "      <td> 8.40e-01</td>\n",
        "    </tr>\n",
        "  </tbody>\n",
        "</table>\n",
        "</div>"
       ],
       "output_type": "pyout",
       "prompt_number": 34,
       "text": [
        "                                        H         p         q\n",
        "Age                 hsa-mir-494      9.14  2.50e-03  7.60e-01\n",
        "                    hsa-mir-3655     7.73  5.43e-03  7.60e-01\n",
        "                    hsa-mir-23a      7.30  6.91e-03  7.60e-01\n",
        "HPV                 hsa-mir-20b     64.97  7.62e-16  3.66e-13\n",
        "                    hsa-mir-363     61.02  5.65e-15  1.36e-12\n",
        "                    hsa-mir-9-2     53.83  2.19e-13  2.72e-11\n",
        "Lymph_Stage         hsa-mir-218-1   12.24  6.60e-03  9.51e-01\n",
        "                    hsa-mir-656     11.04  1.15e-02  9.51e-01\n",
        "                    hsa-mir-214     10.22  1.68e-02  9.51e-01\n",
        "Pathological_Spread hsa-mir-330     12.16  2.28e-03  5.41e-01\n",
        "                    hsa-mir-3157    11.16  3.78e-03  5.41e-01\n",
        "                    hsa-mir-1976    10.94  4.21e-03  5.41e-01\n",
        "Perineural_Invasion hsa-mir-206     10.40  1.26e-03  1.87e-01\n",
        "                    hsa-mir-155      9.92  1.64e-03  1.87e-01\n",
        "                    hsa-mir-487b     9.26  2.35e-03  1.87e-01\n",
        "Stage               hsa-mir-153-1   13.10  4.42e-03  7.92e-01\n",
        "                    hsa-mir-570     11.88  7.82e-03  7.92e-01\n",
        "                    hsa-mir-153-2   11.47  9.43e-03  7.92e-01\n",
        "Subdivision         hsa-mir-10a     48.41  3.07e-11  1.47e-08\n",
        "                    hsa-mir-20b     28.21  7.50e-07  1.80e-04\n",
        "                    hsa-mir-9-3     23.48  7.98e-06  1.13e-03\n",
        "Year_of_Surgery     hsa-mir-550a-2   7.48  6.23e-03  8.40e-01\n",
        "                    hsa-mir-3922     5.98  1.45e-02  8.40e-01\n",
        "                    hsa-mir-550a-1   5.68  1.71e-02  8.40e-01"
       ]
      }
     ],
     "prompt_number": 34
    },
    {
     "cell_type": "markdown",
     "metadata": {},
     "source": [
      "Due to the low proportion of patient survival explained by clinical factors (supplemental table), we then constructed an analysis pipeline to extract and test a number features from the molecular data, including mutation events, copy-number alterations, as well as molecular phenotype measurements **(figure 1a)**. "
     ]
    },
    {
     "cell_type": "markdown",
     "metadata": {},
     "source": [
      "####Primary Screen"
     ]
    },
    {
     "cell_type": "code",
     "collapsed": false,
     "input": [
      "from scipy.stats import chi2\n",
      "def stratified_cox(surv, feature, strata):\n",
      "    fmla = 'Surv(days, event) ~ feature + strata({})'.format(strata.name)\n",
      "    chi2 = get_cox_ph_ms(surv, feature, covariates=pd.concat([strata], axis=1),  \n",
      "                         return_val='model', formula=fmla)[3][0]\n",
      "    return chi2\n",
      "def cox(surv, feature):\n",
      "    fmla = 'Surv(days, event) ~ feature'\n",
      "    chi2 = get_cox_ph_ms(surv, feature, return_val='model', formula=fmla)[3][0]\n",
      "    return chi2\n",
      "\n",
      "def log_rank(feature):\n",
      "    fmla = 'Surv(days, event) ~ feature'\n",
      "    if len(feature.unique()) == 1:\n",
      "        return 0\n",
      "    m = get_cox_ph_ms(surv, feature, return_val='model', formula=fmla)\n",
      "    r_data = m.rx2('call')[2]\n",
      "    s = survival.survdiff(robjects.Formula(fmla), r_data)\n",
      "    chisq = s.rx2('chisq')[0]\n",
      "    return chisq\n",
      "\n",
      "def cox_screen(df):\n",
      "    stat = df.apply(lambda s: cox(surv, s), 1)\n",
      "    rr = pd.concat([pd.Series(chi2.sf(stat, 1), index=stat.index), stat], axis=1, keys=['p','chi2'])\n",
      "    rr['q'] = bhCorrection(rr.p)\n",
      "    rr = rr.sort('p')\n",
      "    return rr\n",
      "\n",
      "def lr_screen(df):\n",
      "    stat = df.astype(float).apply(log_rank, 1)\n",
      "    rr = pd.concat([pd.Series(chi2.sf(stat, 1), index=stat.index), stat], axis=1, keys=['p','chi2'])\n",
      "    rr['q'] = bhCorrection(rr.p)\n",
      "    rr = rr.sort('p')\n",
      "    return rr"
     ],
     "language": "python",
     "metadata": {},
     "outputs": [],
     "prompt_number": 35
    },
    {
     "cell_type": "code",
     "collapsed": false,
     "input": [
      "keepers = true_index(old_age.ix[patients].dropna() == 'Age < 85')"
     ],
     "language": "python",
     "metadata": {},
     "outputs": [],
     "prompt_number": 36
    },
    {
     "cell_type": "code",
     "collapsed": false,
     "input": [
      "rna_uni = cox_screen(rna.features.ix[:, keepers].dropna(1))\n",
      "mirna_uni = cox_screen(mirna.features.ix['real'].ix[:, keepers].dropna(1))\n",
      "meth_uni = cox_screen(meth.features.ix[:, keepers].dropna(1))\n",
      "mut_uni = lr_screen(mut.features.ix[:, keepers].dropna(1))\n",
      "amp_screen = lr_screen(cn.features.ix['Amplification', keepers].dropna(1) > 0)\n",
      "del_screen = lr_screen(cn.features.ix['Deletion', keepers].dropna(1) < 0)"
     ],
     "language": "python",
     "metadata": {},
     "outputs": [],
     "prompt_number": 37
    },
    {
     "cell_type": "code",
     "collapsed": false,
     "input": [
      "ds = del_screen.copy()\n",
      "ds.index = map(str, ds.index)\n",
      "amps = amp_screen.copy()\n",
      "amps.index = map(str, amps.index)"
     ],
     "language": "python",
     "metadata": {},
     "outputs": [],
     "prompt_number": 38
    },
    {
     "cell_type": "code",
     "collapsed": false,
     "input": [
      "pd.concat(map(lambda s: s.head(3), [rna_uni, mirna_uni, meth_uni, mut_uni, amps, ds]), \n",
      "          keys=['mRNA','miRNA','Methylaiton','Mutation','Amplifications','Deletions'])"
     ],
     "language": "python",
     "metadata": {},
     "outputs": [
      {
       "html": [
        "<div style=\"max-height:1000px;max-width:1500px;overflow:auto;\">\n",
        "<table border=\"1\" class=\"dataframe\">\n",
        "  <thead>\n",
        "    <tr style=\"text-align: right;\">\n",
        "      <th></th>\n",
        "      <th></th>\n",
        "      <th>p</th>\n",
        "      <th>chi2</th>\n",
        "      <th>q</th>\n",
        "    </tr>\n",
        "  </thead>\n",
        "  <tbody>\n",
        "    <tr>\n",
        "      <th rowspan=\"3\" valign=\"top\">mRNA</th>\n",
        "      <th>REACTOME_REGULATION_OF_APC_ACTIVATORS_BETWEEN_G1_S_AND_EARLY_ANAPHASE</th>\n",
        "      <td> 7.28e-05</td>\n",
        "      <td> 15.74</td>\n",
        "      <td> 0.01</td>\n",
        "    </tr>\n",
        "    <tr>\n",
        "      <th>REACTOME_CDC20_PHOSPHO_APC_MEDIATED_DEGRADATION_OF_CYCLIN_A</th>\n",
        "      <td> 7.99e-05</td>\n",
        "      <td> 15.56</td>\n",
        "      <td> 0.01</td>\n",
        "    </tr>\n",
        "    <tr>\n",
        "      <th>REACTOME_AUTODEGRADATION_OF_CDH1_BY_CDH1_APC</th>\n",
        "      <td> 1.00e-04</td>\n",
        "      <td> 15.13</td>\n",
        "      <td> 0.01</td>\n",
        "    </tr>\n",
        "    <tr>\n",
        "      <th rowspan=\"3\" valign=\"top\">miRNA</th>\n",
        "      <th>hsa-mir-376a-1</th>\n",
        "      <td> 3.35e-04</td>\n",
        "      <td> 12.86</td>\n",
        "      <td> 0.14</td>\n",
        "    </tr>\n",
        "    <tr>\n",
        "      <th>hsa-mir-758</th>\n",
        "      <td> 8.89e-04</td>\n",
        "      <td> 11.05</td>\n",
        "      <td> 0.14</td>\n",
        "    </tr>\n",
        "    <tr>\n",
        "      <th>hsa-mir-1185-1</th>\n",
        "      <td> 9.01e-04</td>\n",
        "      <td> 11.02</td>\n",
        "      <td> 0.14</td>\n",
        "    </tr>\n",
        "    <tr>\n",
        "      <th rowspan=\"3\" valign=\"top\">Methylaiton</th>\n",
        "      <th>BIOCARTA_ETC_PATHWAY</th>\n",
        "      <td> 7.19e-03</td>\n",
        "      <td>  7.23</td>\n",
        "      <td> 0.97</td>\n",
        "    </tr>\n",
        "    <tr>\n",
        "      <th>REACTOME_MITOCHONDRIAL_FATTY_ACID_BETA_OXIDATION</th>\n",
        "      <td> 7.63e-03</td>\n",
        "      <td>  7.12</td>\n",
        "      <td> 0.97</td>\n",
        "    </tr>\n",
        "    <tr>\n",
        "      <th>REACTOME_ETHANOL_OXIDATION</th>\n",
        "      <td> 1.68e-02</td>\n",
        "      <td>  5.72</td>\n",
        "      <td> 0.97</td>\n",
        "    </tr>\n",
        "    <tr>\n",
        "      <th rowspan=\"3\" valign=\"top\">Mutation</th>\n",
        "      <th>REACTOME_REV_MEDIATED_NUCLEAR_EXPORT_OF_HIV1_RNA</th>\n",
        "      <td> 3.48e-03</td>\n",
        "      <td>  8.54</td>\n",
        "      <td> 0.38</td>\n",
        "    </tr>\n",
        "    <tr>\n",
        "      <th>REACTOME_REGULATION_OF_GLUCOKINASE_BY_GLUCOKINASE_REGULATORY_PROTEIN</th>\n",
        "      <td> 3.48e-03</td>\n",
        "      <td>  8.54</td>\n",
        "      <td> 0.38</td>\n",
        "    </tr>\n",
        "    <tr>\n",
        "      <th>REACTOME_NEP_NS2_INTERACTS_WITH_THE_CELLULAR_EXPORT_MACHINERY</th>\n",
        "      <td> 3.48e-03</td>\n",
        "      <td>  8.54</td>\n",
        "      <td> 0.38</td>\n",
        "    </tr>\n",
        "    <tr>\n",
        "      <th rowspan=\"3\" valign=\"top\">Amplifications</th>\n",
        "      <th>('11q13.3', 'Lesion')</th>\n",
        "      <td> 6.48e-02</td>\n",
        "      <td>  3.41</td>\n",
        "      <td> 0.90</td>\n",
        "    </tr>\n",
        "    <tr>\n",
        "      <th>('18p11.31', 'Lesion')</th>\n",
        "      <td> 7.56e-02</td>\n",
        "      <td>  3.16</td>\n",
        "      <td> 0.90</td>\n",
        "    </tr>\n",
        "    <tr>\n",
        "      <th>('5p15.33', 'Lesion')</th>\n",
        "      <td> 1.36e-01</td>\n",
        "      <td>  2.23</td>\n",
        "      <td> 0.90</td>\n",
        "    </tr>\n",
        "    <tr>\n",
        "      <th rowspan=\"3\" valign=\"top\">Deletions</th>\n",
        "      <th>('3p14.2', 'Lesion')</th>\n",
        "      <td> 8.95e-03</td>\n",
        "      <td>  6.83</td>\n",
        "      <td> 0.20</td>\n",
        "    </tr>\n",
        "    <tr>\n",
        "      <th>('Xp11.3', 'Lesion')</th>\n",
        "      <td> 9.84e-03</td>\n",
        "      <td>  6.66</td>\n",
        "      <td> 0.20</td>\n",
        "    </tr>\n",
        "    <tr>\n",
        "      <th>('1q44', 'Lesion')</th>\n",
        "      <td> 1.52e-02</td>\n",
        "      <td>  5.89</td>\n",
        "      <td> 0.20</td>\n",
        "    </tr>\n",
        "  </tbody>\n",
        "</table>\n",
        "</div>"
       ],
       "output_type": "pyout",
       "prompt_number": 39,
       "text": [
        "                                                                                             p   chi2     q\n",
        "mRNA           REACTOME_REGULATION_OF_APC_ACTIVATORS_BETWEEN_G1_S_AND_EARLY_ANAPHASE  7.28e-05  15.74  0.01\n",
        "               REACTOME_CDC20_PHOSPHO_APC_MEDIATED_DEGRADATION_OF_CYCLIN_A            7.99e-05  15.56  0.01\n",
        "               REACTOME_AUTODEGRADATION_OF_CDH1_BY_CDH1_APC                           1.00e-04  15.13  0.01\n",
        "miRNA          hsa-mir-376a-1                                                         3.35e-04  12.86  0.14\n",
        "               hsa-mir-758                                                            8.89e-04  11.05  0.14\n",
        "               hsa-mir-1185-1                                                         9.01e-04  11.02  0.14\n",
        "Methylaiton    BIOCARTA_ETC_PATHWAY                                                   7.19e-03   7.23  0.97\n",
        "               REACTOME_MITOCHONDRIAL_FATTY_ACID_BETA_OXIDATION                       7.63e-03   7.12  0.97\n",
        "               REACTOME_ETHANOL_OXIDATION                                             1.68e-02   5.72  0.97\n",
        "Mutation       REACTOME_REV_MEDIATED_NUCLEAR_EXPORT_OF_HIV1_RNA                       3.48e-03   8.54  0.38\n",
        "               REACTOME_REGULATION_OF_GLUCOKINASE_BY_GLUCOKINASE_REGULATORY_PROTEIN   3.48e-03   8.54  0.38\n",
        "               REACTOME_NEP_NS2_INTERACTS_WITH_THE_CELLULAR_EXPORT_MACHINERY          3.48e-03   8.54  0.38\n",
        "Amplifications ('11q13.3', 'Lesion')                                                  6.48e-02   3.41  0.90\n",
        "               ('18p11.31', 'Lesion')                                                 7.56e-02   3.16  0.90\n",
        "               ('5p15.33', 'Lesion')                                                  1.36e-01   2.23  0.90\n",
        "Deletions      ('3p14.2', 'Lesion')                                                   8.95e-03   6.83  0.20\n",
        "               ('Xp11.3', 'Lesion')                                                   9.84e-03   6.66  0.20\n",
        "               ('1q44', 'Lesion')                                                     1.52e-02   5.89  0.20"
       ]
      }
     ],
     "prompt_number": 39
    },
    {
     "cell_type": "code",
     "collapsed": false,
     "input": [
      "erk = {'EGFR': 0.17822732567523522,\n",
      " 'ELK1': 0.14791106168583087,\n",
      " 'GNAS': -0.040091040519643725,\n",
      " 'GNB1': 0.47346552720755791,\n",
      " 'GNGT1': 0.24163151258549784,\n",
      " 'GRB2': 0.25585356264424985,\n",
      " 'IGF1R': 0.21842273658120342,\n",
      " 'ITGB1': 0.22007811260305399,\n",
      " 'MAP2K2': -0.15814452403785079,\n",
      " 'MAPK3': -0.23381823430396412,\n",
      " 'MKNK1': 0.15946816951305673,\n",
      " 'MKNK2': -0.26975763197545505,\n",
      " 'MYC': -0.070709625939723755,\n",
      " 'NGF': 0.14071578941638949,\n",
      " 'PPP2CA': -0.080545521077467375,\n",
      " 'PTPRR': 0.14677051384275272,\n",
      " 'RAF1': -0.37120692559806834,\n",
      " 'RPS6KA1': 0.12180029024169867,\n",
      " 'RPS6KA5': -0.16004618252107797,\n",
      " 'SHC1': 0.28669496187006299,\n",
      " 'SRC': 0.097170894587625414}\n",
      "erk = pd.Series(erk)"
     ],
     "language": "python",
     "metadata": {},
     "outputs": [],
     "prompt_number": 75
    },
    {
     "cell_type": "code",
     "collapsed": false,
     "input": [
      "projected = rna.df.xs('01',level=1, axis=1).ix[erk.index].ix[:, patients].T.dot(erk)"
     ],
     "language": "python",
     "metadata": {},
     "outputs": [],
     "prompt_number": 106
    },
    {
     "cell_type": "code",
     "collapsed": false,
     "input": [
      "def exp_change(s):\n",
      "    '''\n",
      "    Calculates an anova for the change in expression across a variable\n",
      "    on the second level of a MultiIndex. (eg. tumor/normal).\n",
      "    '''\n",
      "    return Tests.anova(pd.Series(s.index.get_level_values(1), s.index), s)"
     ],
     "language": "python",
     "metadata": {},
     "outputs": [],
     "prompt_number": 120
    },
    {
     "cell_type": "code",
     "collapsed": false,
     "input": [
      "df = rna.df.ix[erk.index].ix[:, patients]\n",
      "tt = df.xs('11', axis=1, level=1)\n",
      "rr = df.apply(exp_change, 1).sort('p')\n",
      "m, s = tt.mean(1), tt.std(1)\n",
      "df_n = df.xs('01', axis=1, level=1)\n",
      "df_n = ((df_n.T - m) / s).T\n",
      "df_n = df_n.ix[true_index(rr.p < .05)]"
     ],
     "language": "python",
     "metadata": {},
     "outputs": [],
     "prompt_number": 159
    },
    {
     "cell_type": "code",
     "collapsed": false,
     "input": [
      "projected = df_n.ix[erk.index].fillna(0).T.dot(erk)"
     ],
     "language": "python",
     "metadata": {},
     "outputs": [],
     "prompt_number": 160
    },
    {
     "cell_type": "code",
     "collapsed": false,
     "input": [
      "draw_survival_curves(projected, surv, show=True, std=.75)"
     ],
     "language": "python",
     "metadata": {},
     "outputs": [
      {
       "html": [
        "<img src='data:image/png;base64,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'>"
       ],
       "output_type": "pyout",
       "prompt_number": 161,
       "text": [
        "<Reports.NotebookTools.Show at 0xa26f250>"
       ]
      }
     ],
     "prompt_number": 161
    },
    {
     "cell_type": "code",
     "collapsed": false,
     "input": [
      "chi2.sf(cox(surv, rna.features.ix['BIOCARTA_ERK_PATHWAY', patients]), 1)"
     ],
     "language": "python",
     "metadata": {},
     "outputs": [
      {
       "output_type": "pyout",
       "prompt_number": 173,
       "text": [
        "0.033878158322147751"
       ]
      }
     ],
     "prompt_number": 173
    },
    {
     "cell_type": "code",
     "collapsed": false,
     "input": [
      "chi2.sf(cox(surv, projected), 1)"
     ],
     "language": "python",
     "metadata": {},
     "outputs": [
      {
       "output_type": "pyout",
       "prompt_number": 162,
       "text": [
        "0.035733955716274232"
       ]
      }
     ],
     "prompt_number": 162
    },
    {
     "cell_type": "code",
     "collapsed": false,
     "input": [
      "from Initialization.InitializeReal import extract_pc_filtered"
     ],
     "language": "python",
     "metadata": {},
     "outputs": [],
     "prompt_number": 164
    },
    {
     "cell_type": "code",
     "collapsed": false,
     "input": [
      "extract_pc_filtered("
     ],
     "language": "python",
     "metadata": {},
     "outputs": []
    },
    {
     "cell_type": "markdown",
     "metadata": {},
     "source": [
      "####TP53 Mutation"
     ]
    },
    {
     "cell_type": "code",
     "collapsed": false,
     "input": [
      "from Figures.MemoPlot import pathway_plot"
     ],
     "language": "python",
     "metadata": {},
     "outputs": [],
     "prompt_number": 66
    },
    {
     "cell_type": "code",
     "collapsed": false,
     "input": [
      "pathway_plot(mut.df.ix[run.gene_sets['REACTOME_DUAL_INCISION_REACTION_IN_TC_NER']])"
     ],
     "language": "python",
     "metadata": {},
     "outputs": [
      {
       "output_type": "display_data",
       "png": "[encoded data removed]"
      }
     ],
     "prompt_number": 68
    },
    {
     "cell_type": "code",
     "collapsed": false,
     "input": [
      "from Stats.Survival import log_rank"
     ],
     "language": "python",
     "metadata": {},
     "outputs": [],
     "prompt_number": 44
    },
    {
     "cell_type": "code",
     "collapsed": false,
     "input": [
      "p53_mut = (mut.df.ix['TP53', keepers].dropna() > 0).map({True:'Mutated', False: 'WT'})\n",
      "t = get_surv_fit(surv_all, p53_mut)\n",
      "draw_survival_curve(p53_mut, surv)\n",
      "survival_stat_plot(t.sort_index(ascending=False))\n",
      "print log_rank(p53_mut, surv)\n",
      "t"
     ],
     "language": "python",
     "metadata": {},
     "outputs": [
      {
       "output_type": "stream",
       "stream": "stdout",
       "text": [
        "chi2    5.08\n",
        "p       0.02\n",
        "dtype: float64\n"
       ]
      },
      {
       "html": [
        "<div style=\"max-height:1000px;max-width:1500px;overflow:auto;\">\n",
        "<table border=\"1\" class=\"dataframe\">\n",
        "  <thead>\n",
        "    <tr>\n",
        "      <th></th>\n",
        "      <th colspan=\"2\" halign=\"left\">Stats</th>\n",
        "      <th colspan=\"3\" halign=\"left\">Median Survival</th>\n",
        "      <th colspan=\"3\" halign=\"left\">5y Survival</th>\n",
        "    </tr>\n",
        "    <tr>\n",
        "      <th></th>\n",
        "      <th># Patients</th>\n",
        "      <th># Events</th>\n",
        "      <th>Median</th>\n",
        "      <th>Lower</th>\n",
        "      <th>Upper</th>\n",
        "      <th>Lower</th>\n",
        "      <th>Surv</th>\n",
        "      <th>Upper</th>\n",
        "    </tr>\n",
        "  </thead>\n",
        "  <tbody>\n",
        "    <tr>\n",
        "      <th>Mutated</th>\n",
        "      <td> 69</td>\n",
        "      <td> 29</td>\n",
        "      <td> 3.53</td>\n",
        "      <td> 1.50</td>\n",
        "      <td> 9.08</td>\n",
        "      <td> 0.28</td>\n",
        "      <td> 0.41</td>\n",
        "      <td> 0.62</td>\n",
        "    </tr>\n",
        "    <tr>\n",
        "      <th>WT</th>\n",
        "      <td> 31</td>\n",
        "      <td>  9</td>\n",
        "      <td> 8.38</td>\n",
        "      <td> 4.84</td>\n",
        "      <td>  NaN</td>\n",
        "      <td> 0.42</td>\n",
        "      <td> 0.64</td>\n",
        "      <td> 0.99</td>\n",
        "    </tr>\n",
        "  </tbody>\n",
        "</table>\n",
        "</div>"
       ],
       "output_type": "pyout",
       "prompt_number": 45,
       "text": [
        "              Stats            Median Survival                5y Survival             \n",
        "         # Patients  # Events           Median  Lower  Upper        Lower  Surv  Upper\n",
        "Mutated          69        29             3.53   1.50   9.08         0.28  0.41   0.62\n",
        "WT               31         9             8.38   4.84    NaN         0.42  0.64   0.99"
       ]
      },
      {
       "output_type": "display_data",
       "png": "[encoded data removed]"
      },
      {
       "output_type": "display_data",
       "png": "[encoded data removed]"
      }
     ],
     "prompt_number": 45
    },
    {
     "cell_type": "code",
     "collapsed": false,
     "input": [
      "screen_feature(mut.features.ix['TP53'], kruskal_pandas, rna.df.xs('01', level=1, axis=1)).head()"
     ],
     "language": "python",
     "metadata": {},
     "outputs": [
      {
       "html": [
        "<div style=\"max-height:1000px;max-width:1500px;overflow:auto;\">\n",
        "<table border=\"1\" class=\"dataframe\">\n",
        "  <thead>\n",
        "    <tr style=\"text-align: right;\">\n",
        "      <th></th>\n",
        "      <th>H</th>\n",
        "      <th>p</th>\n",
        "      <th>q</th>\n",
        "    </tr>\n",
        "  </thead>\n",
        "  <tbody>\n",
        "    <tr>\n",
        "      <th>ZPBP2</th>\n",
        "      <td> 27.15</td>\n",
        "      <td> 1.88e-07</td>\n",
        "      <td>NaN</td>\n",
        "    </tr>\n",
        "    <tr>\n",
        "      <th>DHFR</th>\n",
        "      <td> 26.67</td>\n",
        "      <td> 2.41e-07</td>\n",
        "      <td>NaN</td>\n",
        "    </tr>\n",
        "    <tr>\n",
        "      <th>FAM111B</th>\n",
        "      <td> 25.37</td>\n",
        "      <td> 4.74e-07</td>\n",
        "      <td>NaN</td>\n",
        "    </tr>\n",
        "    <tr>\n",
        "      <th>CCNE2</th>\n",
        "      <td> 24.03</td>\n",
        "      <td> 9.51e-07</td>\n",
        "      <td>NaN</td>\n",
        "    </tr>\n",
        "    <tr>\n",
        "      <th>SMC1B</th>\n",
        "      <td> 23.70</td>\n",
        "      <td> 1.13e-06</td>\n",
        "      <td>NaN</td>\n",
        "    </tr>\n",
        "  </tbody>\n",
        "</table>\n",
        "</div>"
       ],
       "output_type": "pyout",
       "prompt_number": 46,
       "text": [
        "             H         p   q\n",
        "ZPBP2    27.15  1.88e-07 NaN\n",
        "DHFR     26.67  2.41e-07 NaN\n",
        "FAM111B  25.37  4.74e-07 NaN\n",
        "CCNE2    24.03  9.51e-07 NaN\n",
        "SMC1B    23.70  1.13e-06 NaN"
       ]
      }
     ],
     "prompt_number": 46
    },
    {
     "cell_type": "code",
     "collapsed": false,
     "input": [
      "violin_plot_pandas(mut.features.ix['TP53'], rna.df.ix['POLH'].ix[:,'01'])"
     ],
     "language": "python",
     "metadata": {},
     "outputs": [
      {
       "output_type": "display_data",
       "png": "[encoded data removed]"
      }
     ],
     "prompt_number": 47
    },
    {
     "cell_type": "markdown",
     "metadata": {},
     "source": [
      "####3p Deletion"
     ]
    },
    {
     "cell_type": "code",
     "collapsed": false,
     "input": [
      "del_3p = cn.df.ix['Deletion', keepers].ix['3p14.2'].ix[0].dropna()\n",
      "del_3p.name = 'del_3p'\n",
      "t = get_surv_fit(surv_all, del_3p)\n",
      "draw_survival_curve(del_3p, surv)\n",
      "survival_stat_plot(t.sort_index(ascending=False))\n",
      "print log_rank(del_3p, surv)\n",
      "t"
     ],
     "language": "python",
     "metadata": {},
     "outputs": [
      {
       "output_type": "stream",
       "stream": "stdout",
       "text": [
        "chi2    6.83\n",
        "p       0.01\n",
        "dtype: float64\n"
       ]
      },
      {
       "html": [
        "<div style=\"max-height:1000px;max-width:1500px;overflow:auto;\">\n",
        "<table border=\"1\" class=\"dataframe\">\n",
        "  <thead>\n",
        "    <tr>\n",
        "      <th></th>\n",
        "      <th colspan=\"2\" halign=\"left\">Stats</th>\n",
        "      <th colspan=\"3\" halign=\"left\">Median Survival</th>\n",
        "      <th colspan=\"3\" halign=\"left\">5y Survival</th>\n",
        "    </tr>\n",
        "    <tr>\n",
        "      <th></th>\n",
        "      <th># Patients</th>\n",
        "      <th># Events</th>\n",
        "      <th>Median</th>\n",
        "      <th>Lower</th>\n",
        "      <th>Upper</th>\n",
        "      <th>Lower</th>\n",
        "      <th>Surv</th>\n",
        "      <th>Upper</th>\n",
        "    </tr>\n",
        "  </thead>\n",
        "  <tbody>\n",
        "    <tr>\n",
        "      <th>-1</th>\n",
        "      <td> 81</td>\n",
        "      <td> 35</td>\n",
        "      <td>  3.53</td>\n",
        "      <td> 1.82</td>\n",
        "      <td> 8.38</td>\n",
        "      <td> 0.29</td>\n",
        "      <td> 0.43</td>\n",
        "      <td> 0.62</td>\n",
        "    </tr>\n",
        "    <tr>\n",
        "      <th>0</th>\n",
        "      <td> 23</td>\n",
        "      <td>  3</td>\n",
        "      <td> 13.04</td>\n",
        "      <td> 4.84</td>\n",
        "      <td>  NaN</td>\n",
        "      <td> 0.39</td>\n",
        "      <td> 0.70</td>\n",
        "      <td> 1.00</td>\n",
        "    </tr>\n",
        "  </tbody>\n",
        "</table>\n",
        "</div>"
       ],
       "output_type": "pyout",
       "prompt_number": 51,
       "text": [
        "         Stats            Median Survival                5y Survival             \n",
        "    # Patients  # Events           Median  Lower  Upper        Lower  Surv  Upper\n",
        "-1          81        35             3.53   1.82   8.38         0.29  0.43   0.62\n",
        "0           23         3            13.04   4.84    NaN         0.39  0.70   1.00"
       ]
      },
      {
       "output_type": "display_data",
       "png": "[encoded data removed]"
      },
      {
       "output_type": "display_data",
       "png": "[encoded data removed]"
      }
     ],
     "prompt_number": 51
    },
    {
     "cell_type": "code",
     "collapsed": false,
     "input": [
      "patients"
     ],
     "language": "python",
     "metadata": {},
     "outputs": [
      {
       "output_type": "pyout",
       "prompt_number": 176,
       "text": [
        "Index([u'TCGA-BA-4074', u'TCGA-BA-4077', u'TCGA-BA-5151', u'TCGA-BA-5555', u'TCGA-BA-5558', u'TCGA-BA-6869', u'TCGA-BA-6872', u'TCGA-BB-4217', u'TCGA-BB-4225', u'TCGA-BB-7861', u'TCGA-BB-7864', u'TCGA-BB-7871', u'TCGA-BB-8601', u'TCGA-CN-4725', u'TCGA-CN-4728', u'TCGA-CN-4731', u'TCGA-CN-4735', u'TCGA-CN-4738', u'TCGA-CN-4741', u'TCGA-CN-5356', u'TCGA-CN-5360', u'TCGA-CN-5364', u'TCGA-CN-5367', u'TCGA-CN-5373', u'TCGA-CN-6011', u'TCGA-CN-6016', u'TCGA-CN-6019', u'TCGA-CN-6022', u'TCGA-CN-6988', u'TCGA-CN-6994', u'TCGA-CN-6997', u'TCGA-CQ-5324', u'TCGA-CQ-5327', u'TCGA-CQ-5331', u'TCGA-CQ-5334', u'TCGA-CQ-6220', u'TCGA-CQ-6223', u'TCGA-CQ-6227', u'TCGA-CQ-7063', u'TCGA-CQ-7067', u'TCGA-CR-5243', u'TCGA-CR-5249', u'TCGA-CR-6470', u'TCGA-CR-6473', u'TCGA-CR-6478', u'TCGA-CR-6482', u'TCGA-CR-6488', u'TCGA-CR-6493', u'TCGA-CR-7367', u'TCGA-CR-7370', u'TCGA-CR-7373', u'TCGA-CR-7377', u'TCGA-CR-7382', u'TCGA-CR-7386', u'TCGA-CR-7390', u'TCGA-CR-7393', u'TCGA-CR-7397', u'TCGA-CR-7401', u'TCGA-CV-5430', u'TCGA-CV-5434', u'TCGA-CV-5439', u'TCGA-CV-5442', u'TCGA-CV-5966', u'TCGA-CV-5973', u'TCGA-CV-5978', u'TCGA-CV-6433', u'TCGA-CV-6933', u'TCGA-CV-6936', u'TCGA-CV-6939', u'TCGA-CV-6942', u'TCGA-CV-6948', u'TCGA-CV-6952', u'TCGA-CV-6955', u'TCGA-CV-6960', u'TCGA-CV-7089', u'TCGA-CV-7095', u'TCGA-CV-7100', u'TCGA-CV-7103', u'TCGA-CV-7178', u'TCGA-CV-7235', u'TCGA-CV-7242', u'TCGA-CV-7247', u'TCGA-CV-7252', u'TCGA-CV-7255', u'TCGA-CV-7406', u'TCGA-CV-7410', u'TCGA-CV-7414', u'TCGA-CV-7418', u'TCGA-CV-7423', u'TCGA-CV-7427', u'TCGA-CV-7430', u'TCGA-CV-7434', u'TCGA-CV-7438', u'TCGA-CV-7568', u'TCGA-CX-7086', u'TCGA-D6-6516', u'TCGA-D6-6824', u'TCGA-D6-6827', u'TCGA-DQ-5624', u'TCGA-DQ-5630', u'TCGA-DQ-7589', u'TCGA-DQ-7592', u'TCGA-DQ-7595', u'TCGA-F7-8489', u'TCGA-H7-8502', u'TCGA-HD-7754', u'TCGA-HD-7917', u'TCGA-HD-8634', u'TCGA-IQ-7630'], dtype=object)"
       ]
      }
     ],
     "prompt_number": 176
    },
    {
     "cell_type": "code",
     "collapsed": false,
     "input": [
      "draw_survival_curves(combine(p53_mut.ix[patients[50:]]=='Mutated', del_3p==-1) == 'both', surv, show=True, ann='p')"
     ],
     "language": "python",
     "metadata": {},
     "outputs": [
      {
       "html": [
        "<img src='data:image/png;base64,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'>"
       ],
       "output_type": "pyout",
       "prompt_number": 179,
       "text": [
        "<Reports.NotebookTools.Show at 0x6b86cd0>"
       ]
      }
     ],
     "prompt_number": 179
    },
    {
     "cell_type": "code",
     "collapsed": false,
     "input": [
      "draw_survival_curves(mut.df.ix['MUC5B']>0, surv, combine(p53_mut=='Mutated', del_3p==-1) == 'both', show=True, ann='p')"
     ],
     "language": "python",
     "metadata": {},
     "outputs": [
      {
       "html": [
        "<img src='data:image/png;base64,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'>"
       ],
       "output_type": "pyout",
       "prompt_number": 175,
       "text": [
        "<Reports.NotebookTools.Show at 0x6914050>"
       ]
      }
     ],
     "prompt_number": 175
    },
    {
     "cell_type": "code",
     "collapsed": false,
     "input": [],
     "language": "python",
     "metadata": {},
     "outputs": []
    }
   ],
   "metadata": {}
  }
 ]
}