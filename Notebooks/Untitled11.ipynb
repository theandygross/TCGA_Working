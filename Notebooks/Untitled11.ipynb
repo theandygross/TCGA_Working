{
 "metadata": {
  "name": "Untitled11"
 },
 "nbformat": 3,
 "nbformat_minor": 0,
 "worksheets": [
  {
   "cells": [
    {
     "cell_type": "code",
     "collapsed": false,
     "input": [
      "import statsmodels.formula.api as sm\n",
      "import numpy as np\n",
      "import pandas"
     ],
     "language": "python",
     "metadata": {},
     "outputs": [],
     "prompt_number": 1
    },
    {
     "cell_type": "code",
     "collapsed": false,
     "input": [
      "url = \"http://vincentarelbundock.github.com/Rdatasets/csv/HistData/Guerry.csv\"\n",
      "df = pandas.read_csv(url)\n",
      "df = df[['Lottery', 'Literacy', 'Wealth', 'Region']].dropna()\n",
      "df.head()"
     ],
     "language": "python",
     "metadata": {},
     "outputs": [
      {
       "html": [
        "<div style=\"max-height:1000px;max-width:1500px;overflow:auto;\">\n",
        "<table border=\"1\" class=\"dataframe\">\n",
        "  <thead>\n",
        "    <tr style=\"text-align: right;\">\n",
        "      <th></th>\n",
        "      <th>Lottery</th>\n",
        "      <th>Literacy</th>\n",
        "      <th>Wealth</th>\n",
        "      <th>Region</th>\n",
        "    </tr>\n",
        "  </thead>\n",
        "  <tbody>\n",
        "    <tr>\n",
        "      <th>0</th>\n",
        "      <td> 41</td>\n",
        "      <td> 37</td>\n",
        "      <td> 73</td>\n",
        "      <td> E</td>\n",
        "    </tr>\n",
        "    <tr>\n",
        "      <th>1</th>\n",
        "      <td> 38</td>\n",
        "      <td> 51</td>\n",
        "      <td> 22</td>\n",
        "      <td> N</td>\n",
        "    </tr>\n",
        "    <tr>\n",
        "      <th>2</th>\n",
        "      <td> 66</td>\n",
        "      <td> 13</td>\n",
        "      <td> 61</td>\n",
        "      <td> C</td>\n",
        "    </tr>\n",
        "    <tr>\n",
        "      <th>3</th>\n",
        "      <td> 80</td>\n",
        "      <td> 46</td>\n",
        "      <td> 76</td>\n",
        "      <td> E</td>\n",
        "    </tr>\n",
        "    <tr>\n",
        "      <th>4</th>\n",
        "      <td> 79</td>\n",
        "      <td> 69</td>\n",
        "      <td> 83</td>\n",
        "      <td> E</td>\n",
        "    </tr>\n",
        "  </tbody>\n",
        "</table>\n",
        "</div>"
       ],
       "output_type": "pyout",
       "prompt_number": 2,
       "text": [
        "   Lottery  Literacy  Wealth Region\n",
        "0       41        37      73      E\n",
        "1       38        51      22      N\n",
        "2       66        13      61      C\n",
        "3       80        46      76      E\n",
        "4       79        69      83      E"
       ]
      }
     ],
     "prompt_number": 2
    },
    {
     "cell_type": "code",
     "collapsed": false,
     "input": [
      "mod = sm.ols(formula='Lottery ~ Literacy + Wealth + Region', data=df)\n",
      "res = mod.fit()\n",
      "print res.summary()"
     ],
     "language": "python",
     "metadata": {},
     "outputs": [
      {
       "output_type": "stream",
       "stream": "stdout",
       "text": [
        "                            OLS Regression Results                            \n",
        "==============================================================================\n",
        "Dep. Variable:                Lottery   R-squared:                       0.338\n",
        "Model:                            OLS   Adj. R-squared:                  0.287\n",
        "Method:                 Least Squares   F-statistic:                     6.636\n",
        "Date:                Sun, 28 Jul 2013   Prob (F-statistic):           1.07e-05\n",
        "Time:                        13:05:23   Log-Likelihood:                -375.30\n",
        "No. Observations:                  85   AIC:                             764.6\n",
        "Df Residuals:                      78   BIC:                             781.7\n",
        "Df Model:                           6                                         \n",
        "===============================================================================\n",
        "                  coef    std err          t      P>|t|      [95.0% Conf. Int.]\n",
        "-------------------------------------------------------------------------------\n",
        "Intercept      38.6517      9.456      4.087      0.000        19.826    57.478\n",
        "Region[T.E]   -15.4278      9.727     -1.586      0.117       -34.793     3.938\n",
        "Region[T.N]   -10.0170      9.260     -1.082      0.283       -28.453     8.419\n",
        "Region[T.S]    -4.5483      7.279     -0.625      0.534       -19.039     9.943\n",
        "Region[T.W]   -10.0913      7.196     -1.402      0.165       -24.418     4.235\n",
        "Literacy       -0.1858      0.210     -0.886      0.378        -0.603     0.232\n",
        "Wealth          0.4515      0.103      4.390      0.000         0.247     0.656\n",
        "==============================================================================\n",
        "Omnibus:                        3.049   Durbin-Watson:                   1.785\n",
        "Prob(Omnibus):                  0.218   Jarque-Bera (JB):                2.694\n",
        "Skew:                          -0.340   Prob(JB):                        0.260\n",
        "Kurtosis:                       2.454   Cond. No.                         371.\n",
        "==============================================================================\n"
       ]
      }
     ],
     "prompt_number": 4
    },
    {
     "cell_type": "code",
     "collapsed": false,
     "input": [],
     "language": "python",
     "metadata": {},
     "outputs": []
    }
   ],
   "metadata": {}
  }
 ]
}