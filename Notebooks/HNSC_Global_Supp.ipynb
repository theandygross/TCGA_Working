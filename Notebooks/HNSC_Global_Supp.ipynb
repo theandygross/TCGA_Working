{
 "metadata": {
  "name": ""
 },
 "nbformat": 3,
 "nbformat_minor": 0,
 "worksheets": [
  {
   "cells": [
    {
     "cell_type": "markdown",
     "metadata": {
      "slideshow": {
       "slide_type": "slide"
      }
     },
     "source": [
      "#HNSCC Global Variable Exploration\n",
      "<h2 style='color:Green'><em>ONLY HPV- Patients</em></h2> \n",
      "\n",
      "* <a href='#setup'>Setup</a>\n",
      "  * Read in Pre-processed Data\n",
      "  * Update patient followup based on most recent data obtained from TCGA Data-Portal \n",
      "* <a href='#clin_table'>Supplemtal Table 1: Clinical characteristics of HPV- cohort</a>\n",
      "* <a href='#followup'>Supplemental Figure 2: Patient Survial and Followup Characteristics</a>\n",
      "* <a href='#inferred_vars'>Supplemental Figure 3: Inferred Clinical Variables</a>\n",
      "* <a href='#clinical_model'>Supplemental Table 4: Clinical Model</a> \n",
      "  * All variables\n",
      "  * All variables without year of diagnosis\n",
      "  * No inferred variables\n",
      "  * No inferred variables or year of diagnosis"
     ]
    },
    {
     "cell_type": "code",
     "collapsed": false,
     "input": [
      "cd ../src"
     ],
     "language": "python",
     "metadata": {
      "slideshow": {
       "slide_type": "skip"
      }
     },
     "outputs": [
      {
       "output_type": "stream",
       "stream": "stdout",
       "text": [
        "/cellar/users/agross/TCGA_Code/TCGA/Pathway_Merge/src\n"
       ]
      }
     ],
     "prompt_number": 1
    },
    {
     "cell_type": "code",
     "collapsed": false,
     "input": [
      "from Processing.Imports import *\n",
      "from Figures.Survival import survival_stat_plot\n",
      "from Stats.Survival import log_rank\n",
      "from Figures.Survival import survival_and_stats\n",
      "from Stats.Classification import SVC_fill"
     ],
     "language": "python",
     "metadata": {
      "slideshow": {
       "slide_type": "skip"
      }
     },
     "outputs": [],
     "prompt_number": 2
    },
    {
     "cell_type": "code",
     "collapsed": false,
     "input": [
      "from Figures.Helpers import *"
     ],
     "language": "python",
     "metadata": {},
     "outputs": [],
     "prompt_number": 3
    },
    {
     "cell_type": "markdown",
     "metadata": {},
     "source": [
      "<h4 id='read'>Read in Pre-processed Data</h3>"
     ]
    },
    {
     "cell_type": "code",
     "collapsed": false,
     "input": [
      "run = get_run('/cellar/data/TCGA/Firehose__2013_05_23/', 'Run_all')\n",
      "cancer = run.load_cancer('HNSC')\n",
      "clinical = cancer.load_clinical()\n",
      "global_vars = cancer.load_global_vars()\n",
      "\n",
      "mut = cancer.load_data('Mutation')\n",
      "mut.uncompress()\n",
      "cn = cancer.load_data('CN_broad')\n",
      "cn.uncompress()\n",
      "rppa  = cancer.load_data('RPPA')"
     ],
     "language": "python",
     "metadata": {
      "slideshow": {
       "slide_type": "skip"
      }
     },
     "outputs": [],
     "prompt_number": 4
    },
    {
     "cell_type": "code",
     "collapsed": false,
     "input": [
      "rna = pickle.load(open(cancer.path + '/mRNASeq/store/no_hpv.p', 'rb'))\n",
      "meth = pickle.load(open(cancer.path + '/Methylation/store/no_hpv.p', 'rb'))\n",
      "mirna = pickle.load(open(cancer.path + '/miRNASeq/store/no_hpv.p', 'rb'))"
     ],
     "language": "python",
     "metadata": {},
     "outputs": [],
     "prompt_number": 5
    },
    {
     "cell_type": "markdown",
     "metadata": {},
     "source": [
      "<h4 id='update'>Update patient followup based on most recent data obtained from TCGA Data-Portal </h3> \n",
      "\n",
      "* Downloaded from [here](https://tcga-data.nci.nih.gov/tcgafiles/ftp_auth/distro_ftpusers/anonymous/tumor/hnsc/bcr/biotab/clin/) \n",
      "* Contains updated followup on patient outcomes"
     ]
    },
    {
     "cell_type": "code",
     "collapsed": false,
     "input": [
      "from Data.ProcessClinical import format_survival_from_data_portal\n",
      "path  = '/cellar/users/agross/Data/TCGA/HNSC_Followup/'\n",
      "survival, timeline = format_survival_from_data_portal(path, cancer.name)\n",
      "clinical.survival = survival\n",
      "clinical.artificially_censor(5)\n",
      "age = timeline.age"
     ],
     "language": "python",
     "metadata": {
      "slideshow": {
       "slide_type": "skip"
      }
     },
     "outputs": [],
     "prompt_number": 6
    },
    {
     "cell_type": "code",
     "collapsed": false,
     "input": [
      "surv = clinical.survival.survival_5y\n",
      "surv_all = clinical.survival.survival"
     ],
     "language": "python",
     "metadata": {},
     "outputs": [],
     "prompt_number": 7
    },
    {
     "cell_type": "markdown",
     "metadata": {},
     "source": [
      "<h4>Read in preprocessed clnical variables</h3>"
     ]
    },
    {
     "cell_type": "code",
     "collapsed": false,
     "input": [
      "clinical_processed = pd.read_csv(cancer.path + '/Clinical/clinical_processed.csv', index_col=0)\n",
      "keepers_o = true_index(clinical_processed.hpv_inferred==0)\n",
      "clinical_processed = clinical_processed.ix[keepers_o]"
     ],
     "language": "python",
     "metadata": {},
     "outputs": [],
     "prompt_number": 8
    },
    {
     "cell_type": "markdown",
     "metadata": {},
     "source": [
      "<h3 id='screen'>Screen association of global variables with survial</h3>"
     ]
    },
    {
     "cell_type": "code",
     "collapsed": false,
     "input": [
      "cn_globals = IM.get_cna_rates(run.data_path, cancer.name, keepers_o)\n",
      "global_df = pd.concat([global_vars['mutation'], cn_globals, rna.global_vars, \n",
      "                       meth.global_vars, mirna.global_vars], \n",
      "                       keys=['mutation', 'cna', 'rna', 'methylation', 'mirna'], axis=1)\n",
      "global_df.columns = map(lambda s: '_'.join(s), global_df.columns)\n",
      "global_df = global_df.ix[keepers_o]"
     ],
     "language": "python",
     "metadata": {},
     "outputs": [],
     "prompt_number": 92
    },
    {
     "cell_type": "code",
     "collapsed": false,
     "input": [
      "gv_screen = cox_screen(global_df, surv, axis=0).sort([('LR','p')])\n",
      "gv_screen[gv_screen.LR.q < .3]"
     ],
     "language": "python",
     "metadata": {},
     "outputs": [
      {
       "html": [
        "<div style=\"max-height:1000px;max-width:1500px;overflow:auto;\">\n",
        "<table border=\"1\" class=\"dataframe\">\n",
        "  <thead>\n",
        "    <tr>\n",
        "      <th></th>\n",
        "      <th colspan=\"4\" halign=\"left\">hazard</th>\n",
        "      <th colspan=\"4\" halign=\"left\">LR</th>\n",
        "      <th colspan=\"2\" halign=\"left\">concordance</th>\n",
        "    </tr>\n",
        "    <tr>\n",
        "      <th></th>\n",
        "      <th>exp(-coef)</th>\n",
        "      <th>exp(coef)</th>\n",
        "      <th>lower .95</th>\n",
        "      <th>upper .95</th>\n",
        "      <th>df</th>\n",
        "      <th>p</th>\n",
        "      <th>stat</th>\n",
        "      <th>q</th>\n",
        "      <th>se</th>\n",
        "      <th>stat</th>\n",
        "    </tr>\n",
        "  </thead>\n",
        "  <tbody>\n",
        "    <tr>\n",
        "      <th>mirna_filtered_pc1</th>\n",
        "      <td> 236.61</td>\n",
        "      <td>   0.00</td>\n",
        "      <td> 1.52e-04</td>\n",
        "      <td>    0.12</td>\n",
        "      <td> 1</td>\n",
        "      <td> 9.77e-04</td>\n",
        "      <td> 10.87</td>\n",
        "      <td> 0.02</td>\n",
        "      <td> 0.03</td>\n",
        "      <td> 0.59</td>\n",
        "    </tr>\n",
        "    <tr>\n",
        "      <th>rna_pathway_pc1</th>\n",
        "      <td>   0.00</td>\n",
        "      <td> 223.46</td>\n",
        "      <td> 7.82e+00</td>\n",
        "      <td> 6382.33</td>\n",
        "      <td> 1</td>\n",
        "      <td> 1.06e-03</td>\n",
        "      <td> 10.72</td>\n",
        "      <td> 0.02</td>\n",
        "      <td> 0.03</td>\n",
        "      <td> 0.59</td>\n",
        "    </tr>\n",
        "    <tr>\n",
        "      <th>mirna_pc2</th>\n",
        "      <td> 134.15</td>\n",
        "      <td>   0.01</td>\n",
        "      <td> 3.03e-04</td>\n",
        "      <td>    0.18</td>\n",
        "      <td> 1</td>\n",
        "      <td> 2.58e-03</td>\n",
        "      <td>  9.08</td>\n",
        "      <td> 0.03</td>\n",
        "      <td> 0.03</td>\n",
        "      <td> 0.58</td>\n",
        "    </tr>\n",
        "    <tr>\n",
        "      <th>rna_filtered_pc2</th>\n",
        "      <td>   0.01</td>\n",
        "      <td>  79.62</td>\n",
        "      <td> 3.93e+00</td>\n",
        "      <td> 1613.87</td>\n",
        "      <td> 1</td>\n",
        "      <td> 4.40e-03</td>\n",
        "      <td>  8.11</td>\n",
        "      <td> 0.04</td>\n",
        "      <td> 0.03</td>\n",
        "      <td> 0.59</td>\n",
        "    </tr>\n",
        "    <tr>\n",
        "      <th>cna_gene_del</th>\n",
        "      <td>   1.00</td>\n",
        "      <td>   1.00</td>\n",
        "      <td> 1.00e+00</td>\n",
        "      <td>    1.00</td>\n",
        "      <td> 1</td>\n",
        "      <td> 1.92e-02</td>\n",
        "      <td>  5.48</td>\n",
        "      <td> 0.14</td>\n",
        "      <td> 0.03</td>\n",
        "      <td> 0.55</td>\n",
        "    </tr>\n",
        "    <tr>\n",
        "      <th>rna_filtered_pc1</th>\n",
        "      <td>  26.43</td>\n",
        "      <td>   0.04</td>\n",
        "      <td> 2.03e-03</td>\n",
        "      <td>    0.70</td>\n",
        "      <td> 1</td>\n",
        "      <td> 2.97e-02</td>\n",
        "      <td>  4.73</td>\n",
        "      <td> 0.17</td>\n",
        "      <td> 0.03</td>\n",
        "      <td> 0.54</td>\n",
        "    </tr>\n",
        "    <tr>\n",
        "      <th>cna_lesion_del</th>\n",
        "      <td>   0.98</td>\n",
        "      <td>   1.02</td>\n",
        "      <td> 1.00e+00</td>\n",
        "      <td>    1.05</td>\n",
        "      <td> 1</td>\n",
        "      <td> 3.26e-02</td>\n",
        "      <td>  4.57</td>\n",
        "      <td> 0.17</td>\n",
        "      <td> 0.03</td>\n",
        "      <td> 0.54</td>\n",
        "    </tr>\n",
        "    <tr>\n",
        "      <th>rna_pc2</th>\n",
        "      <td>  19.65</td>\n",
        "      <td>   0.05</td>\n",
        "      <td> 2.70e-03</td>\n",
        "      <td>    0.96</td>\n",
        "      <td> 1</td>\n",
        "      <td> 4.90e-02</td>\n",
        "      <td>  3.87</td>\n",
        "      <td> 0.22</td>\n",
        "      <td> 0.03</td>\n",
        "      <td> 0.54</td>\n",
        "    </tr>\n",
        "  </tbody>\n",
        "</table>\n",
        "</div>"
       ],
       "metadata": {},
       "output_type": "pyout",
       "prompt_number": 93,
       "text": [
        "                        hazard                                   LR                         concordance      \n",
        "                    exp(-coef)  exp(coef)  lower .95  upper .95  df         p   stat     q           se  stat\n",
        "mirna_filtered_pc1      236.61       0.00   1.52e-04       0.12   1  9.77e-04  10.87  0.02         0.03  0.59\n",
        "rna_pathway_pc1           0.00     223.46   7.82e+00    6382.33   1  1.06e-03  10.72  0.02         0.03  0.59\n",
        "mirna_pc2               134.15       0.01   3.03e-04       0.18   1  2.58e-03   9.08  0.03         0.03  0.58\n",
        "rna_filtered_pc2          0.01      79.62   3.93e+00    1613.87   1  4.40e-03   8.11  0.04         0.03  0.59\n",
        "cna_gene_del              1.00       1.00   1.00e+00       1.00   1  1.92e-02   5.48  0.14         0.03  0.55\n",
        "rna_filtered_pc1         26.43       0.04   2.03e-03       0.70   1  2.97e-02   4.73  0.17         0.03  0.54\n",
        "cna_lesion_del            0.98       1.02   1.00e+00       1.05   1  3.26e-02   4.57  0.17         0.03  0.54\n",
        "rna_pc2                  19.65       0.05   2.70e-03       0.96   1  4.90e-02   3.87  0.22         0.03  0.54"
       ]
      }
     ],
     "prompt_number": 93
    },
    {
     "cell_type": "markdown",
     "metadata": {},
     "source": [
      "<h2 id='cin'>Chromosomal Instability</h2>"
     ]
    },
    {
     "cell_type": "code",
     "collapsed": false,
     "input": [
      "cin = global_df.cna_chrom_instability"
     ],
     "language": "python",
     "metadata": {},
     "outputs": [],
     "prompt_number": 94
    },
    {
     "cell_type": "markdown",
     "metadata": {},
     "source": [
      "<h3 id='cin_figure'>Supplemental Figure: Chromosomal Instability</h3>"
     ]
    },
    {
     "cell_type": "code",
     "collapsed": false,
     "input": [
      "fig, axs = subplots(1,3, figsize=(7,3), sharey=True)\n",
      "args = {'color': colors[0], 'alpha': .9}\n",
      "cin.hist(ax=axs[0], **args)\n",
      "axs[0].set_xlabel('Chromosomal Instability')\n",
      "global_df.cna_lesion_del.hist(ax=axs[1], **args)\n",
      "axs[1].set_xlabel('# of Deleted Regions')\n",
      "global_df.cna_lesion_amp.hist(ax=axs[2], **args)\n",
      "axs[2].set_xlabel('# of Amplified Regions')\n",
      "for ax in axs:\n",
      "    prettify_ax(ax)\n",
      "axs[0].set_ylabel('# of Patients');\n",
      "fig.tight_layout()\n",
      "fig.savefig('/cellar/users/agross/Desktop/Figures/CIN.png', dpi=300)"
     ],
     "language": "python",
     "metadata": {},
     "outputs": [
      {
       "metadata": {},
       "output_type": "display_data",
       "png": "[encoded data removed]",
       "text": [
        "<matplotlib.figure.Figure at 0x13b8f890>"
       ]
      }
     ],
     "prompt_number": 95
    },
    {
     "cell_type": "markdown",
     "metadata": {},
     "source": [
      "####Screening for copy-number correlates of chromosomal instability \n",
      "* These are all fragile sites usually around large genes [paper 1](http://www.sciencedirect.com/science/article/pii/S0304383505008232), [paper 2](http://www.sciencedirect.com/science/article/pii/S0168952512000303 )"
     ]
    },
    {
     "cell_type": "code",
     "collapsed": false,
     "input": [
      "tt = lambda a,b: kruskal_pandas(b,a)\n",
      "screen_feature(cin, tt, cn.features.ix['Deletion'] < 0).head()"
     ],
     "language": "python",
     "metadata": {},
     "outputs": [
      {
       "html": [
        "<div style=\"max-height:1000px;max-width:1500px;overflow:auto;\">\n",
        "<table border=\"1\" class=\"dataframe\">\n",
        "  <thead>\n",
        "    <tr style=\"text-align: right;\">\n",
        "      <th></th>\n",
        "      <th>H</th>\n",
        "      <th>p</th>\n",
        "      <th>q</th>\n",
        "    </tr>\n",
        "  </thead>\n",
        "  <tbody>\n",
        "    <tr>\n",
        "      <th>(3p12.2, Lesion)</th>\n",
        "      <td> 57.12</td>\n",
        "      <td> 4.10e-14</td>\n",
        "      <td> 1.89e-12</td>\n",
        "    </tr>\n",
        "    <tr>\n",
        "      <th>(3p14.2, Lesion)</th>\n",
        "      <td> 54.28</td>\n",
        "      <td> 1.74e-13</td>\n",
        "      <td> 4.01e-12</td>\n",
        "    </tr>\n",
        "    <tr>\n",
        "      <th>(5q11.2, Lesion)</th>\n",
        "      <td> 51.83</td>\n",
        "      <td> 6.06e-13</td>\n",
        "      <td> 9.29e-12</td>\n",
        "    </tr>\n",
        "    <tr>\n",
        "      <th>(5q15, Lesion)</th>\n",
        "      <td> 48.16</td>\n",
        "      <td> 3.93e-12</td>\n",
        "      <td> 4.32e-11</td>\n",
        "    </tr>\n",
        "    <tr>\n",
        "      <th>(5q35.3, Lesion)</th>\n",
        "      <td> 47.81</td>\n",
        "      <td> 4.69e-12</td>\n",
        "      <td> 4.32e-11</td>\n",
        "    </tr>\n",
        "  </tbody>\n",
        "</table>\n",
        "</div>"
       ],
       "metadata": {},
       "output_type": "pyout",
       "prompt_number": 46,
       "text": [
        "                      H         p         q\n",
        "(3p12.2, Lesion)  57.12  4.10e-14  1.89e-12\n",
        "(3p14.2, Lesion)  54.28  1.74e-13  4.01e-12\n",
        "(5q11.2, Lesion)  51.83  6.06e-13  9.29e-12\n",
        "(5q15, Lesion)    48.16  3.93e-12  4.32e-11\n",
        "(5q35.3, Lesion)  47.81  4.69e-12  4.32e-11"
       ]
      }
     ],
     "prompt_number": 46
    },
    {
     "cell_type": "code",
     "collapsed": false,
     "input": [
      "tt = lambda a,b: kruskal_pandas(b,a)\n",
      "df = cn.features.ix['Amplification']\n",
      "df.index = df.index.get_level_values(0)\n",
      "screen_feature(cin, tt, df > 0).head()"
     ],
     "language": "python",
     "metadata": {},
     "outputs": [
      {
       "html": [
        "<div style=\"max-height:1000px;max-width:1500px;overflow:auto;\">\n",
        "<table border=\"1\" class=\"dataframe\">\n",
        "  <thead>\n",
        "    <tr style=\"text-align: right;\">\n",
        "      <th></th>\n",
        "      <th>H</th>\n",
        "      <th>p</th>\n",
        "      <th>q</th>\n",
        "    </tr>\n",
        "  </thead>\n",
        "  <tbody>\n",
        "    <tr>\n",
        "      <th>7q21.3</th>\n",
        "      <td> 52.05</td>\n",
        "      <td> 5.41e-13</td>\n",
        "      <td> 1.30e-11</td>\n",
        "    </tr>\n",
        "    <tr>\n",
        "      <th>12p13.33</th>\n",
        "      <td> 47.66</td>\n",
        "      <td> 5.06e-12</td>\n",
        "      <td> 6.07e-11</td>\n",
        "    </tr>\n",
        "    <tr>\n",
        "      <th>18p11.31</th>\n",
        "      <td> 44.78</td>\n",
        "      <td> 2.21e-11</td>\n",
        "      <td> 1.77e-10</td>\n",
        "    </tr>\n",
        "    <tr>\n",
        "      <th>2q11.2</th>\n",
        "      <td> 44.08</td>\n",
        "      <td> 3.15e-11</td>\n",
        "      <td> 1.89e-10</td>\n",
        "    </tr>\n",
        "    <tr>\n",
        "      <th>3q26.33</th>\n",
        "      <td> 42.87</td>\n",
        "      <td> 5.86e-11</td>\n",
        "      <td> 2.81e-10</td>\n",
        "    </tr>\n",
        "  </tbody>\n",
        "</table>\n",
        "</div>"
       ],
       "metadata": {},
       "output_type": "pyout",
       "prompt_number": 47,
       "text": [
        "              H         p         q\n",
        "7q21.3    52.05  5.41e-13  1.30e-11\n",
        "12p13.33  47.66  5.06e-12  6.07e-11\n",
        "18p11.31  44.78  2.21e-11  1.77e-10\n",
        "2q11.2    44.08  3.15e-11  1.89e-10\n",
        "3q26.33   42.87  5.86e-11  2.81e-10"
       ]
      }
     ],
     "prompt_number": 47
    },
    {
     "cell_type": "code",
     "collapsed": false,
     "input": [
      "fig, axs = subplots(1,2, figsize=(12,4))\n",
      "violin_plot_pandas(cn.features.ix[('Deletion','5q11.2','Lesion')], cin, ax=axs[0])\n",
      "violin_plot_pandas(cn.features.ix[('Deletion','3p14.2','Lesion')], cin, ax=axs[1])"
     ],
     "language": "python",
     "metadata": {},
     "outputs": [
      {
       "metadata": {},
       "output_type": "display_data",
       "png": "[encoded data removed]",
       "text": [
        "<matplotlib.figure.Figure at 0x74c66d0>"
       ]
      }
     ],
     "prompt_number": 48
    },
    {
     "cell_type": "markdown",
     "metadata": {},
     "source": [
      "####Mutation correlates of CIN \n",
      "\n",
      "* We know that TP53 hits the cell cycle and messes with replication\n",
      "* PDRM9 regulations recombination in mitotic cell division \n",
      "* HRAS and CASP8 are highly overlapping, HRAS has fewer patients but bigger effect \n",
      "* SOS1 forms a complex with RAS\n",
      "* TTN is probably reflecting mutation rate"
     ]
    },
    {
     "cell_type": "code",
     "collapsed": false,
     "input": [
      "df = mut.df.ix[(mut.df.sum(1).order() > 5)] > 0\n",
      "s = screen_feature(cin, rev_kruskal, df.clip_upper(1.))\n",
      "s.head(10)"
     ],
     "language": "python",
     "metadata": {},
     "outputs": [
      {
       "html": [
        "<div style=\"max-height:1000px;max-width:1500px;overflow:auto;\">\n",
        "<table border=\"1\" class=\"dataframe\">\n",
        "  <thead>\n",
        "    <tr style=\"text-align: right;\">\n",
        "      <th></th>\n",
        "      <th>H</th>\n",
        "      <th>p</th>\n",
        "      <th>q</th>\n",
        "    </tr>\n",
        "  </thead>\n",
        "  <tbody>\n",
        "    <tr>\n",
        "      <th>CASP8</th>\n",
        "      <td> 24.90</td>\n",
        "      <td> 6.03e-07</td>\n",
        "      <td> 0.00</td>\n",
        "    </tr>\n",
        "    <tr>\n",
        "      <th>TTN</th>\n",
        "      <td> 16.05</td>\n",
        "      <td> 6.17e-05</td>\n",
        "      <td> 0.04</td>\n",
        "    </tr>\n",
        "    <tr>\n",
        "      <th>HRAS</th>\n",
        "      <td> 15.96</td>\n",
        "      <td> 6.47e-05</td>\n",
        "      <td> 0.04</td>\n",
        "    </tr>\n",
        "    <tr>\n",
        "      <th>TP53</th>\n",
        "      <td> 13.31</td>\n",
        "      <td> 2.64e-04</td>\n",
        "      <td> 0.11</td>\n",
        "    </tr>\n",
        "    <tr>\n",
        "      <th>DCC</th>\n",
        "      <td> 10.28</td>\n",
        "      <td> 1.34e-03</td>\n",
        "      <td> 0.33</td>\n",
        "    </tr>\n",
        "    <tr>\n",
        "      <th>SCN3A</th>\n",
        "      <td>  9.97</td>\n",
        "      <td> 1.59e-03</td>\n",
        "      <td> 0.33</td>\n",
        "    </tr>\n",
        "    <tr>\n",
        "      <th>FAM83G</th>\n",
        "      <td>  9.95</td>\n",
        "      <td> 1.61e-03</td>\n",
        "      <td> 0.33</td>\n",
        "    </tr>\n",
        "    <tr>\n",
        "      <th>SOS1</th>\n",
        "      <td>  9.68</td>\n",
        "      <td> 1.86e-03</td>\n",
        "      <td> 0.33</td>\n",
        "    </tr>\n",
        "    <tr>\n",
        "      <th>HERC2</th>\n",
        "      <td>  9.65</td>\n",
        "      <td> 1.90e-03</td>\n",
        "      <td> 0.33</td>\n",
        "    </tr>\n",
        "    <tr>\n",
        "      <th>PRDM9</th>\n",
        "      <td>  9.56</td>\n",
        "      <td> 1.99e-03</td>\n",
        "      <td> 0.33</td>\n",
        "    </tr>\n",
        "  </tbody>\n",
        "</table>\n",
        "</div>"
       ],
       "metadata": {},
       "output_type": "pyout",
       "prompt_number": 45,
       "text": [
        "            H         p     q\n",
        "CASP8   24.90  6.03e-07  0.00\n",
        "TTN     16.05  6.17e-05  0.04\n",
        "HRAS    15.96  6.47e-05  0.04\n",
        "TP53    13.31  2.64e-04  0.11\n",
        "DCC     10.28  1.34e-03  0.33\n",
        "SCN3A    9.97  1.59e-03  0.33\n",
        "FAM83G   9.95  1.61e-03  0.33\n",
        "SOS1     9.68  1.86e-03  0.33\n",
        "HERC2    9.65  1.90e-03  0.33\n",
        "PRDM9    9.56  1.99e-03  0.33"
       ]
      }
     ],
     "prompt_number": 45
    },
    {
     "cell_type": "code",
     "collapsed": false,
     "input": [],
     "language": "python",
     "metadata": {},
     "outputs": []
    }
   ],
   "metadata": {}
  }
 ]
}