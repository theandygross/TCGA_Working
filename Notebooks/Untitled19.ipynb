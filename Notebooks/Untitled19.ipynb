{
 "metadata": {
  "name": ""
 },
 "nbformat": 3,
 "nbformat_minor": 0,
 "worksheets": [
  {
   "cells": [
    {
     "cell_type": "code",
     "collapsed": false,
     "input": [
      "import pandas as pd"
     ],
     "language": "python",
     "metadata": {},
     "outputs": [],
     "prompt_number": 2
    },
    {
     "cell_type": "code",
     "collapsed": false,
     "input": [],
     "language": "python",
     "metadata": {},
     "outputs": [],
     "prompt_number": 3
    },
    {
     "cell_type": "code",
     "collapsed": false,
     "input": [
      "data = np.random.randn(10,3)\n",
      "df = pd.DataFrame(data)\n",
      "(df[0] / df.T).T"
     ],
     "language": "python",
     "metadata": {},
     "outputs": [
      {
       "html": [
        "<div style=\"max-height:1000px;max-width:1500px;overflow:auto;\">\n",
        "<table border=\"1\" class=\"dataframe\">\n",
        "  <thead>\n",
        "    <tr style=\"text-align: right;\">\n",
        "      <th></th>\n",
        "      <th>0</th>\n",
        "      <th>1</th>\n",
        "      <th>2</th>\n",
        "    </tr>\n",
        "  </thead>\n",
        "  <tbody>\n",
        "    <tr>\n",
        "      <th>0</th>\n",
        "      <td> 1</td>\n",
        "      <td> -0.568096</td>\n",
        "      <td>-0.248052</td>\n",
        "    </tr>\n",
        "    <tr>\n",
        "      <th>1</th>\n",
        "      <td> 1</td>\n",
        "      <td> -0.792876</td>\n",
        "      <td>-3.539075</td>\n",
        "    </tr>\n",
        "    <tr>\n",
        "      <th>2</th>\n",
        "      <td> 1</td>\n",
        "      <td>-25.452247</td>\n",
        "      <td> 1.434969</td>\n",
        "    </tr>\n",
        "    <tr>\n",
        "      <th>3</th>\n",
        "      <td> 1</td>\n",
        "      <td> -0.685193</td>\n",
        "      <td>-0.540092</td>\n",
        "    </tr>\n",
        "    <tr>\n",
        "      <th>4</th>\n",
        "      <td> 1</td>\n",
        "      <td>  0.451879</td>\n",
        "      <td>-0.217639</td>\n",
        "    </tr>\n",
        "    <tr>\n",
        "      <th>5</th>\n",
        "      <td> 1</td>\n",
        "      <td> -2.691260</td>\n",
        "      <td>-3.208036</td>\n",
        "    </tr>\n",
        "    <tr>\n",
        "      <th>6</th>\n",
        "      <td> 1</td>\n",
        "      <td>  0.351231</td>\n",
        "      <td>-1.467990</td>\n",
        "    </tr>\n",
        "    <tr>\n",
        "      <th>7</th>\n",
        "      <td> 1</td>\n",
        "      <td>  0.249589</td>\n",
        "      <td>-0.714330</td>\n",
        "    </tr>\n",
        "    <tr>\n",
        "      <th>8</th>\n",
        "      <td> 1</td>\n",
        "      <td>  0.033477</td>\n",
        "      <td>-0.004391</td>\n",
        "    </tr>\n",
        "    <tr>\n",
        "      <th>9</th>\n",
        "      <td> 1</td>\n",
        "      <td> -0.958395</td>\n",
        "      <td>-1.530424</td>\n",
        "    </tr>\n",
        "  </tbody>\n",
        "</table>\n",
        "</div>"
       ],
       "metadata": {},
       "output_type": "pyout",
       "prompt_number": 30,
       "text": [
        "   0          1         2\n",
        "0  1  -0.568096 -0.248052\n",
        "1  1  -0.792876 -3.539075\n",
        "2  1 -25.452247  1.434969\n",
        "3  1  -0.685193 -0.540092\n",
        "4  1   0.451879 -0.217639\n",
        "5  1  -2.691260 -3.208036\n",
        "6  1   0.351231 -1.467990\n",
        "7  1   0.249589 -0.714330\n",
        "8  1   0.033477 -0.004391\n",
        "9  1  -0.958395 -1.530424"
       ]
      }
     ],
     "prompt_number": 30
    },
    {
     "cell_type": "code",
     "collapsed": false,
     "input": [
      "print (df[0] / df.T).T"
     ],
     "language": "python",
     "metadata": {},
     "outputs": [
      {
       "output_type": "stream",
       "stream": "stdout",
       "text": [
        "   0          1         2\n",
        "0  1  -0.568096 -0.248052\n",
        "1  1  -0.792876 -3.539075\n",
        "2  1 -25.452247  1.434969\n",
        "3  1  -0.685193 -0.540092\n",
        "4  1   0.451879 -0.217639\n",
        "5  1  -2.691260 -3.208036\n",
        "6  1   0.351231 -1.467990\n",
        "7  1   0.249589 -0.714330\n",
        "8  1   0.033477 -0.004391\n",
        "9  1  -0.958395 -1.530424\n"
       ]
      }
     ],
     "prompt_number": 37
    },
    {
     "cell_type": "code",
     "collapsed": false,
     "input": [
      "           ints  orts  outts\n",
      "index\n",
      "2013-04-01     1   NaN      1\n",
      "2013-05-01     2    11      2\n",
      "2013-06-01     3   NaN      3\n",
      "2013-07-01     4     9      4\n",
      "2013-08-01     2    97      5"
     ],
     "language": "python",
     "metadata": {},
     "outputs": [
      {
       "ename": "SyntaxError",
       "evalue": "invalid syntax (<ipython-input-41-447e30fbc4b4>, line 1)",
       "output_type": "pyerr",
       "traceback": [
        "\u001b[1;36m  File \u001b[1;32m\"<ipython-input-41-447e30fbc4b4>\"\u001b[1;36m, line \u001b[1;32m1\u001b[0m\n\u001b[1;33m    ints  orts  outts\u001b[0m\n\u001b[1;37m             ^\u001b[0m\n\u001b[1;31mSyntaxError\u001b[0m\u001b[1;31m:\u001b[0m invalid syntax\n"
       ]
      }
     ],
     "prompt_number": 41
    },
    {
     "cell_type": "code",
     "collapsed": false,
     "input": [
      "df = pd.DataFrame({\n",
      "            '2013-04-01':     [1,   NaN,      1],\n",
      "            '2013-05-01':     [2,    11,      2],\n",
      "            '2013-06-01':     [3,   NaN,      3],\n",
      "            '2013-07-01':     [4,     9,      4],\n",
      "            '2013-08-01':     [2,    97,      5]}).T\n",
      "df.columns = ['ints', 'orts', 'outts']"
     ],
     "language": "python",
     "metadata": {},
     "outputs": [],
     "prompt_number": 65
    },
    {
     "cell_type": "code",
     "collapsed": false,
     "input": [
      "print df"
     ],
     "language": "python",
     "metadata": {},
     "outputs": [
      {
       "output_type": "stream",
       "stream": "stdout",
       "text": [
        "            ints  orts  outts\n",
        "2013-04-01     1   NaN      1\n",
        "2013-05-01     2    11     11\n",
        "2013-06-01     3   NaN      3\n",
        "2013-07-01     4     9      9\n",
        "2013-08-01     2    97     97\n"
       ]
      }
     ],
     "prompt_number": 62
    },
    {
     "cell_type": "code",
     "collapsed": false,
     "input": [],
     "language": "python",
     "metadata": {},
     "outputs": []
    },
    {
     "cell_type": "code",
     "collapsed": false,
     "input": [
      "df['outts'] =  df.orts.combine_first(df.ints)\n",
      "print df"
     ],
     "language": "python",
     "metadata": {},
     "outputs": [
      {
       "output_type": "stream",
       "stream": "stdout",
       "text": [
        "            ints  orts  outts\n",
        "2013-04-01     1   NaN      1\n",
        "2013-05-01     2    11     11\n",
        "2013-06-01     3   NaN      3\n",
        "2013-07-01     4     9      9\n",
        "2013-08-01     2    97     97\n"
       ]
      }
     ],
     "prompt_number": 68
    },
    {
     "cell_type": "code",
     "collapsed": false,
     "input": [
      "df500 = pd.DataFrame(np.random.randn(500, 2), columns=['orts', 'outts'])\n",
      "%timeit df500.orts.combine_first(df500.outts)"
     ],
     "language": "python",
     "metadata": {},
     "outputs": [
      {
       "output_type": "stream",
       "stream": "stdout",
       "text": [
        "1000 loops, best of 3: 210 \u00b5s per loop\n"
       ]
      }
     ],
     "prompt_number": 69
    },
    {
     "cell_type": "code",
     "collapsed": false,
     "input": [],
     "language": "python",
     "metadata": {},
     "outputs": [
      {
       "output_type": "stream",
       "stream": "stdout",
       "text": [
        "1000 loops, best of 3: 207 \u00b5s per loop\n"
       ]
      }
     ],
     "prompt_number": 60
    },
    {
     "cell_type": "code",
     "collapsed": false,
     "input": [
      "import itertools"
     ],
     "language": "python",
     "metadata": {},
     "outputs": [],
     "prompt_number": 102
    },
    {
     "cell_type": "code",
     "collapsed": false,
     "input": [
      "s = pd.Series(data=randint(0, 3, 45),\n",
      "              index=pd.MultiIndex.from_tuples(list(itertools.product('pqr',[0,1,2],'abcde')),\n",
      "              names=['Index1', 'Index2', 'Index3']), name='P')\n",
      "\n",
      "s = s.map({0:'A', 1:'B', 2:'C'})"
     ],
     "language": "python",
     "metadata": {},
     "outputs": [],
     "prompt_number": 103
    },
    {
     "cell_type": "code",
     "collapsed": false,
     "input": [
      "s.groupby(level=[0,1]).value_counts()"
     ],
     "language": "python",
     "metadata": {},
     "outputs": [
      {
       "metadata": {},
       "output_type": "pyout",
       "prompt_number": 117,
       "text": [
        "Index1  Index2   \n",
        "p       0       C    4\n",
        "                B    1\n",
        "        1       A    3\n",
        "                B    2\n",
        "        2       B    2\n",
        "                C    2\n",
        "                A    1\n",
        "q       0       B    3\n",
        "                C    1\n",
        "                A    1\n",
        "        1       B    2\n",
        "                A    2\n",
        "                C    1\n",
        "        2       C    2\n",
        "                A    2\n",
        "                B    1\n",
        "r       0       C    3\n",
        "                B    1\n",
        "                A    1\n",
        "        1       A    4\n",
        "                B    1\n",
        "        2       B    2\n",
        "                C    2\n",
        "                A    1\n",
        "dtype: int64"
       ]
      }
     ],
     "prompt_number": 117
    },
    {
     "cell_type": "code",
     "collapsed": false,
     "input": [],
     "language": "python",
     "metadata": {},
     "outputs": []
    }
   ],
   "metadata": {}
  }
 ]
}