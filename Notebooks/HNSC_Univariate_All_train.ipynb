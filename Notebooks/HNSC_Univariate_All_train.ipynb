{
 "metadata": {
  "name": "HNSC_Univariate_All_train"
 },
 "nbformat": 3,
 "nbformat_minor": 0,
 "worksheets": [
  {
   "cells": [
    {
     "cell_type": "code",
     "collapsed": false,
     "input": [
      "cd ../src"
     ],
     "language": "python",
     "metadata": {},
     "outputs": [
      {
       "output_type": "stream",
       "stream": "stdout",
       "text": [
        "/cellar/users/agross/TCGA_Code/TCGA/Pathway_Merge/src\n"
       ]
      }
     ],
     "prompt_number": 1
    },
    {
     "cell_type": "code",
     "collapsed": false,
     "input": [
      "from Processing.Imports import *"
     ],
     "language": "python",
     "metadata": {},
     "outputs": [],
     "prompt_number": 2
    },
    {
     "cell_type": "code",
     "collapsed": false,
     "input": [
      "run = get_run('/cellar/data/TCGA/Firehose__2013_04_21', 'Run_train')\n",
      "\n",
      "cancer = run.load_cancer('HNSC')\n",
      "clinical = cancer.load_clinical()\n",
      "global_vars = cancer.load_global_vars()\n",
      "\n",
      "mut = cancer.load_data('Mutation')\n",
      "mut.uncompress()\n",
      "meth = cancer.load_data('Methylation')\n",
      "cn = cancer.load_data('CN_broad')\n",
      "cn.uncompress()\n",
      "rna = cancer.load_data('mRNASeq')\n",
      "rppa  = cancer.load_data('RPPA')\n",
      "mirna = cancer.load_data('miRNASeq')\n",
      "age = clinical.clinical.age.astype(float)"
     ],
     "language": "python",
     "metadata": {},
     "outputs": [],
     "prompt_number": 65
    },
    {
     "cell_type": "code",
     "collapsed": false,
     "input": [
      "filters = pd.concat([age>85], axis=1)\n",
      "clinical_filter = filters.sum(1) == 0\n",
      "keepers = true_index(clinical_filter)"
     ],
     "language": "python",
     "metadata": {},
     "outputs": [],
     "prompt_number": 9
    },
    {
     "cell_type": "code",
     "collapsed": false,
     "input": [
      "hpv_all = pd.read_csv('/cellar/users/agross/hpv_summary_3_20_13_distribute.csv', index_col=0)\n",
      "hpv = hpv_all.Molecular_HPV.map({0:'HPV-', 1:'HPV+'})\n",
      "hpv.name = 'HPV'"
     ],
     "language": "python",
     "metadata": {},
     "outputs": [],
     "prompt_number": 10
    },
    {
     "cell_type": "code",
     "collapsed": false,
     "input": [
      "surv = clinical.survival.survival_5y\n",
      "stage = clinical.clinical.tumorstage"
     ],
     "language": "python",
     "metadata": {},
     "outputs": [],
     "prompt_number": 11
    },
    {
     "cell_type": "code",
     "collapsed": false,
     "input": [
      "rr = cox_screen(meth.features.ix[:,keepers].dropna(1), surv)"
     ],
     "language": "python",
     "metadata": {},
     "outputs": [
      {
       "output_type": "stream",
       "stream": "stdout",
       "text": [
        "CPU times: user 1.04 s, sys: 0.01 s, total: 1.04 s\n",
        "Wall time: 1.04 s\n"
       ]
      }
     ],
     "prompt_number": 159
    },
    {
     "cell_type": "code",
     "collapsed": false,
     "input": [
      "rr.sort('p').head()"
     ],
     "language": "python",
     "metadata": {},
     "outputs": [
      {
       "html": [
        "<div style=\"max-height:1000px;max-width:1500px;overflow:auto;\">\n",
        "<table border=\"1\" class=\"dataframe\">\n",
        "  <thead>\n",
        "    <tr style=\"text-align: right;\">\n",
        "      <th></th>\n",
        "      <th>p</th>\n",
        "      <th>chi2</th>\n",
        "      <th>q</th>\n",
        "    </tr>\n",
        "  </thead>\n",
        "  <tbody>\n",
        "    <tr>\n",
        "      <th>BIOCARTA_GABA_PATHWAY</th>\n",
        "      <td> 0.01</td>\n",
        "      <td> 7.45</td>\n",
        "      <td> 0.96</td>\n",
        "    </tr>\n",
        "    <tr>\n",
        "      <th>SA_REG_CASCADE_OF_CYCLIN_EXPR</th>\n",
        "      <td> 0.01</td>\n",
        "      <td> 6.52</td>\n",
        "      <td> 0.96</td>\n",
        "    </tr>\n",
        "    <tr>\n",
        "      <th>REACTOME_SEROTONIN_RECEPTORS</th>\n",
        "      <td> 0.01</td>\n",
        "      <td> 6.05</td>\n",
        "      <td> 0.96</td>\n",
        "    </tr>\n",
        "    <tr>\n",
        "      <th>REACTOME_CALCITONIN_LIKE_LIGAND_RECEPTORS</th>\n",
        "      <td> 0.02</td>\n",
        "      <td> 5.54</td>\n",
        "      <td> 0.96</td>\n",
        "    </tr>\n",
        "    <tr>\n",
        "      <th>ST_JAK_STAT_PATHWAY</th>\n",
        "      <td> 0.02</td>\n",
        "      <td> 5.06</td>\n",
        "      <td> 0.96</td>\n",
        "    </tr>\n",
        "  </tbody>\n",
        "</table>\n",
        "</div>"
       ],
       "output_type": "pyout",
       "prompt_number": 24,
       "text": [
        "                                              p  chi2     q\n",
        "BIOCARTA_GABA_PATHWAY                      0.01  7.45  0.96\n",
        "SA_REG_CASCADE_OF_CYCLIN_EXPR              0.01  6.52  0.96\n",
        "REACTOME_SEROTONIN_RECEPTORS               0.01  6.05  0.96\n",
        "REACTOME_CALCITONIN_LIKE_LIGAND_RECEPTORS  0.02  5.54  0.96\n",
        "ST_JAK_STAT_PATHWAY                        0.02  5.06  0.96"
       ]
      }
     ],
     "prompt_number": 24
    },
    {
     "cell_type": "code",
     "collapsed": false,
     "input": [
      "import Data.Firehose as FH\n",
      "from Figures.Pandas import *"
     ],
     "language": "python",
     "metadata": {},
     "outputs": [],
     "prompt_number": 17
    },
    {
     "cell_type": "code",
     "collapsed": false,
     "input": [
      "exp_change = lambda s: anova(pd.Series(s.index.get_level_values(1), s.index), s)\n",
      "var_change = lambda s: bartlett_pandas(pd.Series(s.index.get_level_values(1), s.index), s)"
     ],
     "language": "python",
     "metadata": {},
     "outputs": [],
     "prompt_number": 18
    },
    {
     "cell_type": "code",
     "collapsed": true,
     "input": [
      "meta_probes = FH.read_methylation(cancer.name, run.data_path, tissue_code='All')\n",
      "\n",
      "df = meta_probes.ix[:,keepers].dropna(1)\n",
      "ch = df.apply(exp_change, 1)\n",
      "singles = df.ix[true_index(bhCorrection(ch.p) < .00001)]\n",
      "ss = singles.apply(var_change, 1)\n",
      "singles = singles.ix[true_index(bhCorrection(ss.p) < .00001)]\n",
      "singles = singles.T.xs('01', level=1).T"
     ],
     "language": "python",
     "metadata": {},
     "outputs": [
      {
       "ename": "AttributeError",
       "evalue": "'module' object has no attribute 'read_methylation'",
       "output_type": "pyerr",
       "traceback": [
        "\u001b[1;31m---------------------------------------------------------------------------\u001b[0m\n\u001b[1;31mAttributeError\u001b[0m                            Traceback (most recent call last)",
        "\u001b[1;32m<ipython-input-19-196b752ed684>\u001b[0m in \u001b[0;36m<module>\u001b[1;34m()\u001b[0m\n\u001b[1;32m----> 1\u001b[1;33m \u001b[0mmeta_probes\u001b[0m \u001b[1;33m=\u001b[0m \u001b[0mFH\u001b[0m\u001b[1;33m.\u001b[0m\u001b[0mread_methylation\u001b[0m\u001b[1;33m(\u001b[0m\u001b[0mcancer\u001b[0m\u001b[1;33m.\u001b[0m\u001b[0mname\u001b[0m\u001b[1;33m,\u001b[0m \u001b[0mrun\u001b[0m\u001b[1;33m.\u001b[0m\u001b[0mdata_path\u001b[0m\u001b[1;33m,\u001b[0m \u001b[0mtissue_code\u001b[0m\u001b[1;33m=\u001b[0m\u001b[1;34m'All'\u001b[0m\u001b[1;33m)\u001b[0m\u001b[1;33m\u001b[0m\u001b[0m\n\u001b[0m\u001b[0;32m      2\u001b[0m \u001b[1;33m\u001b[0m\u001b[0m\n\u001b[0;32m      3\u001b[0m \u001b[0mdf\u001b[0m \u001b[1;33m=\u001b[0m \u001b[0mmeta_probes\u001b[0m\u001b[1;33m.\u001b[0m\u001b[0mix\u001b[0m\u001b[1;33m[\u001b[0m\u001b[1;33m:\u001b[0m\u001b[1;33m,\u001b[0m\u001b[0mkeepers\u001b[0m\u001b[1;33m]\u001b[0m\u001b[1;33m.\u001b[0m\u001b[0mdropna\u001b[0m\u001b[1;33m(\u001b[0m\u001b[1;36m1\u001b[0m\u001b[1;33m)\u001b[0m\u001b[1;33m\u001b[0m\u001b[0m\n\u001b[0;32m      4\u001b[0m \u001b[0mch\u001b[0m \u001b[1;33m=\u001b[0m \u001b[0mdf\u001b[0m\u001b[1;33m.\u001b[0m\u001b[0mapply\u001b[0m\u001b[1;33m(\u001b[0m\u001b[0mexp_change\u001b[0m\u001b[1;33m,\u001b[0m \u001b[1;36m1\u001b[0m\u001b[1;33m)\u001b[0m\u001b[1;33m\u001b[0m\u001b[0m\n\u001b[0;32m      5\u001b[0m \u001b[0msingles\u001b[0m \u001b[1;33m=\u001b[0m \u001b[0mdf\u001b[0m\u001b[1;33m.\u001b[0m\u001b[0mix\u001b[0m\u001b[1;33m[\u001b[0m\u001b[0mtrue_index\u001b[0m\u001b[1;33m(\u001b[0m\u001b[0mbhCorrection\u001b[0m\u001b[1;33m(\u001b[0m\u001b[0mch\u001b[0m\u001b[1;33m.\u001b[0m\u001b[0mp\u001b[0m\u001b[1;33m)\u001b[0m \u001b[1;33m<\u001b[0m \u001b[1;36m.00001\u001b[0m\u001b[1;33m)\u001b[0m\u001b[1;33m]\u001b[0m\u001b[1;33m\u001b[0m\u001b[0m\n",
        "\u001b[1;31mAttributeError\u001b[0m: 'module' object has no attribute 'read_methylation'"
       ]
      }
     ],
     "prompt_number": 19
    },
    {
     "cell_type": "code",
     "collapsed": false,
     "input": [
      "rr = cox_screen(singles)\n",
      "rr.head()"
     ],
     "language": "python",
     "metadata": {},
     "outputs": [
      {
       "html": [
        "<div style=\"max-height:1000px;max-width:1500px;overflow:auto;\">\n",
        "<table border=\"1\" class=\"dataframe\">\n",
        "  <thead>\n",
        "    <tr style=\"text-align: right;\">\n",
        "      <th></th>\n",
        "      <th>p</th>\n",
        "      <th>chi2</th>\n",
        "      <th>q</th>\n",
        "    </tr>\n",
        "  </thead>\n",
        "  <tbody>\n",
        "    <tr>\n",
        "      <th>MIS12</th>\n",
        "      <td> 0.18</td>\n",
        "      <td> 1.77</td>\n",
        "      <td> 0.35</td>\n",
        "    </tr>\n",
        "    <tr>\n",
        "      <th>CNTD1;BECN1</th>\n",
        "      <td> 0.23</td>\n",
        "      <td> 1.41</td>\n",
        "      <td> 0.35</td>\n",
        "    </tr>\n",
        "    <tr>\n",
        "      <th>SELS</th>\n",
        "      <td> 0.37</td>\n",
        "      <td> 0.80</td>\n",
        "      <td> 0.37</td>\n",
        "    </tr>\n",
        "  </tbody>\n",
        "</table>\n",
        "</div>"
       ],
       "output_type": "pyout",
       "prompt_number": 29,
       "text": [
        "                p  chi2     q\n",
        "MIS12        0.18  1.77  0.35\n",
        "CNTD1;BECN1  0.23  1.41  0.35\n",
        "SELS         0.37  0.80  0.37"
       ]
      }
     ],
     "prompt_number": 29
    },
    {
     "cell_type": "code",
     "collapsed": false,
     "input": [
      "fig, axs = subplots(1,2,figsize=(8,3))\n",
      "violin_plot_series(df.ix['MIS12'], ax=axs[0])\n",
      "draw_survival_curve(to_quants(singles.ix['MIS12'], std=1, labels=True), surv, ax=axs[1])"
     ],
     "language": "python",
     "metadata": {},
     "outputs": [
      {
       "output_type": "display_data",
       "png": "[encoded data removed]"
      }
     ],
     "prompt_number": 30
    },
    {
     "cell_type": "code",
     "collapsed": false,
     "input": [
      "df = rna.df\n",
      "df = df.ix[:,keepers].dropna(1)\n",
      "has_data = ((df.T.xs('01', level=1).T < -1).sum(1)) < (df.T.groupby(level=1).size()['01'] - 10)\n",
      "df = df.ix[has_data]\n",
      "df = df[df.T.xs('01', level=1).std() > .5]\n",
      "\n",
      "ch = df.apply(exp_change, 1)\n",
      "singles = df.ix[true_index(bhCorrection(ch.p) < .0001)]\n",
      "\n",
      "ss = singles.apply(var_change, 1)\n",
      "singles = singles.ix[true_index(bhCorrection(ss.p) < .1)]\n",
      "singles = singles.T.xs('01', level=1).T"
     ],
     "language": "python",
     "metadata": {},
     "outputs": [],
     "prompt_number": 25
    },
    {
     "cell_type": "code",
     "collapsed": false,
     "input": [
      "rr = cox_screen(singles)\n",
      "rr.head()"
     ],
     "language": "python",
     "metadata": {},
     "outputs": [
      {
       "html": [
        "<div style=\"max-height:1000px;max-width:1500px;overflow:auto;\">\n",
        "<table border=\"1\" class=\"dataframe\">\n",
        "  <thead>\n",
        "    <tr style=\"text-align: right;\">\n",
        "      <th></th>\n",
        "      <th>p</th>\n",
        "      <th>chi2</th>\n",
        "      <th>q</th>\n",
        "    </tr>\n",
        "  </thead>\n",
        "  <tbody>\n",
        "    <tr>\n",
        "      <th>HTN1</th>\n",
        "      <td> 6.67e-05</td>\n",
        "      <td> 15.90</td>\n",
        "      <td> 0.18</td>\n",
        "    </tr>\n",
        "    <tr>\n",
        "      <th>DBC1</th>\n",
        "      <td> 2.26e-04</td>\n",
        "      <td> 13.60</td>\n",
        "      <td> 0.18</td>\n",
        "    </tr>\n",
        "    <tr>\n",
        "      <th>HOXD1</th>\n",
        "      <td> 3.52e-04</td>\n",
        "      <td> 12.77</td>\n",
        "      <td> 0.18</td>\n",
        "    </tr>\n",
        "    <tr>\n",
        "      <th>ST3GAL4</th>\n",
        "      <td> 3.68e-04</td>\n",
        "      <td> 12.69</td>\n",
        "      <td> 0.18</td>\n",
        "    </tr>\n",
        "    <tr>\n",
        "      <th>HTN3</th>\n",
        "      <td> 4.08e-04</td>\n",
        "      <td> 12.49</td>\n",
        "      <td> 0.18</td>\n",
        "    </tr>\n",
        "  </tbody>\n",
        "</table>\n",
        "</div>"
       ],
       "output_type": "pyout",
       "prompt_number": 26,
       "text": [
        "                p   chi2     q\n",
        "HTN1     6.67e-05  15.90  0.18\n",
        "DBC1     2.26e-04  13.60  0.18\n",
        "HOXD1    3.52e-04  12.77  0.18\n",
        "ST3GAL4  3.68e-04  12.69  0.18\n",
        "HTN3     4.08e-04  12.49  0.18"
       ]
      }
     ],
     "prompt_number": 26
    },
    {
     "cell_type": "code",
     "collapsed": false,
     "input": [
      "import Data.Firehose as FH"
     ],
     "language": "python",
     "metadata": {},
     "outputs": [],
     "prompt_number": 31
    },
    {
     "cell_type": "code",
     "collapsed": false,
     "input": [
      "fig, axs = subplots(1,2,figsize=(8,3))\n",
      "violin_plot_series(df.ix['DBC1'], ax=axs[0])\n",
      "draw_survival_curve(to_quants(df.ix['DBC1'].ix[:,'01'], std=1, labels=True), surv, ax=axs[1])"
     ],
     "language": "python",
     "metadata": {},
     "outputs": [
      {
       "output_type": "display_data",
       "png": "[encoded data removed]"
      }
     ],
     "prompt_number": 37
    },
    {
     "cell_type": "code",
     "collapsed": false,
     "input": [
      "rr = cox_screen(rna.features)\n",
      "rr.head()"
     ],
     "language": "python",
     "metadata": {},
     "outputs": [],
     "prompt_number": 45
    },
    {
     "cell_type": "code",
     "collapsed": false,
     "input": [],
     "language": "python",
     "metadata": {},
     "outputs": [
      {
       "html": [
        "<div style=\"max-height:1000px;max-width:1500px;overflow:auto;\">\n",
        "<table border=\"1\" class=\"dataframe\">\n",
        "  <thead>\n",
        "    <tr style=\"text-align: right;\">\n",
        "      <th></th>\n",
        "      <th>p</th>\n",
        "      <th>chi2</th>\n",
        "      <th>q</th>\n",
        "    </tr>\n",
        "  </thead>\n",
        "  <tbody>\n",
        "    <tr>\n",
        "      <th>BIOCARTA_BARR_MAPK_PATHWAY</th>\n",
        "      <td> 2.00e-05</td>\n",
        "      <td> 18.19</td>\n",
        "      <td> 0.01</td>\n",
        "    </tr>\n",
        "    <tr>\n",
        "      <th>BIOCARTA_BARRESTIN_SRC_PATHWAY</th>\n",
        "      <td> 2.73e-05</td>\n",
        "      <td> 17.59</td>\n",
        "      <td> 0.01</td>\n",
        "    </tr>\n",
        "    <tr>\n",
        "      <th>BIOCARTA_ERK_PATHWAY</th>\n",
        "      <td> 7.72e-05</td>\n",
        "      <td> 15.63</td>\n",
        "      <td> 0.02</td>\n",
        "    </tr>\n",
        "    <tr>\n",
        "      <th>REACTOME_PHOSPHORYLATION_OF_THE_APC</th>\n",
        "      <td> 1.52e-04</td>\n",
        "      <td> 14.34</td>\n",
        "      <td> 0.03</td>\n",
        "    </tr>\n",
        "    <tr>\n",
        "      <th>BIOCARTA_GCR_PATHWAY</th>\n",
        "      <td> 2.07e-04</td>\n",
        "      <td> 13.77</td>\n",
        "      <td> 0.03</td>\n",
        "    </tr>\n",
        "  </tbody>\n",
        "</table>\n",
        "</div>"
       ],
       "output_type": "pyout",
       "prompt_number": 46,
       "text": [
        "                                            p   chi2     q\n",
        "BIOCARTA_BARR_MAPK_PATHWAY           2.00e-05  18.19  0.01\n",
        "BIOCARTA_BARRESTIN_SRC_PATHWAY       2.73e-05  17.59  0.01\n",
        "BIOCARTA_ERK_PATHWAY                 7.72e-05  15.63  0.02\n",
        "REACTOME_PHOSPHORYLATION_OF_THE_APC  1.52e-04  14.34  0.03\n",
        "BIOCARTA_GCR_PATHWAY                 2.07e-04  13.77  0.03"
       ]
      }
     ],
     "prompt_number": 46
    },
    {
     "cell_type": "code",
     "collapsed": false,
     "input": [
      "from scipy.stats import chi2"
     ],
     "language": "python",
     "metadata": {},
     "outputs": [],
     "prompt_number": 58
    },
    {
     "cell_type": "code",
     "collapsed": false,
     "input": [
      "rr = cox_screen(mirna.features.ix['real'])\n",
      "rr.head()"
     ],
     "language": "python",
     "metadata": {},
     "outputs": [
      {
       "html": [
        "<div style=\"max-height:1000px;max-width:1500px;overflow:auto;\">\n",
        "<table border=\"1\" class=\"dataframe\">\n",
        "  <thead>\n",
        "    <tr style=\"text-align: right;\">\n",
        "      <th></th>\n",
        "      <th>p</th>\n",
        "      <th>chi2</th>\n",
        "      <th>q</th>\n",
        "    </tr>\n",
        "  </thead>\n",
        "  <tbody>\n",
        "    <tr>\n",
        "      <th>hsa-mir-654</th>\n",
        "      <td> 5.10e-06</td>\n",
        "      <td> 20.80</td>\n",
        "      <td> 0</td>\n",
        "    </tr>\n",
        "    <tr>\n",
        "      <th>hsa-mir-1185-1</th>\n",
        "      <td> 7.70e-06</td>\n",
        "      <td> 20.01</td>\n",
        "      <td> 0</td>\n",
        "    </tr>\n",
        "    <tr>\n",
        "      <th>hsa-mir-329-2</th>\n",
        "      <td> 2.87e-05</td>\n",
        "      <td> 17.50</td>\n",
        "      <td> 0</td>\n",
        "    </tr>\n",
        "    <tr>\n",
        "      <th>hsa-mir-493</th>\n",
        "      <td> 3.40e-05</td>\n",
        "      <td> 17.18</td>\n",
        "      <td> 0</td>\n",
        "    </tr>\n",
        "    <tr>\n",
        "      <th>hsa-mir-409</th>\n",
        "      <td> 3.90e-05</td>\n",
        "      <td> 16.92</td>\n",
        "      <td> 0</td>\n",
        "    </tr>\n",
        "  </tbody>\n",
        "</table>\n",
        "</div>"
       ],
       "output_type": "pyout",
       "prompt_number": 67,
       "text": [
        "                       p   chi2  q\n",
        "hsa-mir-654     5.10e-06  20.80  0\n",
        "hsa-mir-1185-1  7.70e-06  20.01  0\n",
        "hsa-mir-329-2   2.87e-05  17.50  0\n",
        "hsa-mir-493     3.40e-05  17.18  0\n",
        "hsa-mir-409     3.90e-05  16.92  0"
       ]
      }
     ],
     "prompt_number": 67
    },
    {
     "cell_type": "code",
     "collapsed": false,
     "input": [
      "rr = cox_screen(rppa.df.xs('01', level=1, axis=1).ix[:, keepers].dropna(1))\n",
      "rr.head()"
     ],
     "language": "python",
     "metadata": {},
     "outputs": [
      {
       "html": [
        "<div style=\"max-height:1000px;max-width:1500px;overflow:auto;\">\n",
        "<table border=\"1\" class=\"dataframe\">\n",
        "  <thead>\n",
        "    <tr style=\"text-align: right;\">\n",
        "      <th></th>\n",
        "      <th></th>\n",
        "      <th>p</th>\n",
        "      <th>chi2</th>\n",
        "      <th>q</th>\n",
        "    </tr>\n",
        "    <tr>\n",
        "      <th>protien</th>\n",
        "      <th>antibody</th>\n",
        "      <th></th>\n",
        "      <th></th>\n",
        "      <th></th>\n",
        "    </tr>\n",
        "  </thead>\n",
        "  <tbody>\n",
        "    <tr>\n",
        "      <th>SMAD3</th>\n",
        "      <th>Smad3-R-V</th>\n",
        "      <td> 6.49e-05</td>\n",
        "      <td> 15.95</td>\n",
        "      <td> 0.01</td>\n",
        "    </tr>\n",
        "    <tr>\n",
        "      <th>ERBB3</th>\n",
        "      <th>HER3_pY1298-R-C</th>\n",
        "      <td> 5.08e-04</td>\n",
        "      <td> 12.09</td>\n",
        "      <td> 0.04</td>\n",
        "    </tr>\n",
        "    <tr>\n",
        "      <th>C12ORF5</th>\n",
        "      <th>TIGAR-R-V</th>\n",
        "      <td> 7.54e-04</td>\n",
        "      <td> 11.35</td>\n",
        "      <td> 0.04</td>\n",
        "    </tr>\n",
        "    <tr>\n",
        "      <th>ESR1</th>\n",
        "      <th>ER-alpha_pS118-R-V</th>\n",
        "      <td> 9.94e-04</td>\n",
        "      <td> 10.84</td>\n",
        "      <td> 0.04</td>\n",
        "    </tr>\n",
        "    <tr>\n",
        "      <th>BCL2L1</th>\n",
        "      <th>Bcl-X-R-C</th>\n",
        "      <td> 2.37e-03</td>\n",
        "      <td>  9.24</td>\n",
        "      <td> 0.08</td>\n",
        "    </tr>\n",
        "  </tbody>\n",
        "</table>\n",
        "</div>"
       ],
       "output_type": "pyout",
       "prompt_number": 102,
       "text": [
        "                                   p   chi2     q\n",
        "protien antibody                                 \n",
        "SMAD3   Smad3-R-V           6.49e-05  15.95  0.01\n",
        "ERBB3   HER3_pY1298-R-C     5.08e-04  12.09  0.04\n",
        "C12ORF5 TIGAR-R-V           7.54e-04  11.35  0.04\n",
        "ESR1    ER-alpha_pS118-R-V  9.94e-04  10.84  0.04\n",
        "BCL2L1  Bcl-X-R-C           2.37e-03   9.24  0.08"
       ]
      }
     ],
     "prompt_number": 102
    },
    {
     "cell_type": "code",
     "collapsed": false,
     "input": [
      "rr = cox_screen(rppa.features.ix[:, keepers].dropna(1))\n",
      "rr.head()"
     ],
     "language": "python",
     "metadata": {},
     "outputs": [
      {
       "html": [
        "<div style=\"max-height:1000px;max-width:1500px;overflow:auto;\">\n",
        "<table border=\"1\" class=\"dataframe\">\n",
        "  <thead>\n",
        "    <tr style=\"text-align: right;\">\n",
        "      <th></th>\n",
        "      <th>p</th>\n",
        "      <th>chi2</th>\n",
        "      <th>q</th>\n",
        "    </tr>\n",
        "  </thead>\n",
        "  <tbody>\n",
        "    <tr>\n",
        "      <th>REACTOME_MYOGENESSIS</th>\n",
        "      <td> 9.12e-04</td>\n",
        "      <td> 11.00</td>\n",
        "      <td> 0.16</td>\n",
        "    </tr>\n",
        "    <tr>\n",
        "      <th>BIOCARTA_NTHI_PATHWAY</th>\n",
        "      <td> 1.89e-03</td>\n",
        "      <td>  9.66</td>\n",
        "      <td> 0.16</td>\n",
        "    </tr>\n",
        "    <tr>\n",
        "      <th>REACTOME_APOPTOSIS_INDUCED_DNA_FRAGMENTATION</th>\n",
        "      <td> 2.93e-03</td>\n",
        "      <td>  8.85</td>\n",
        "      <td> 0.16</td>\n",
        "    </tr>\n",
        "    <tr>\n",
        "      <th>BIOCARTA_P35ALZHEIMERS_PATHWAY</th>\n",
        "      <td> 3.49e-03</td>\n",
        "      <td>  8.53</td>\n",
        "      <td> 0.16</td>\n",
        "    </tr>\n",
        "    <tr>\n",
        "      <th>KEGG_JAK_STAT_SIGNALING_PATHWAY</th>\n",
        "      <td> 3.53e-03</td>\n",
        "      <td>  8.51</td>\n",
        "      <td> 0.16</td>\n",
        "    </tr>\n",
        "  </tbody>\n",
        "</table>\n",
        "</div>"
       ],
       "output_type": "pyout",
       "prompt_number": 103,
       "text": [
        "                                                     p   chi2     q\n",
        "REACTOME_MYOGENESSIS                          9.12e-04  11.00  0.16\n",
        "BIOCARTA_NTHI_PATHWAY                         1.89e-03   9.66  0.16\n",
        "REACTOME_APOPTOSIS_INDUCED_DNA_FRAGMENTATION  2.93e-03   8.85  0.16\n",
        "BIOCARTA_P35ALZHEIMERS_PATHWAY                3.49e-03   8.53  0.16\n",
        "KEGG_JAK_STAT_SIGNALING_PATHWAY               3.53e-03   8.51  0.16"
       ]
      }
     ],
     "prompt_number": 103
    },
    {
     "cell_type": "code",
     "collapsed": false,
     "input": [
      "rr = lr_screen(mut.features.ix[:, keepers].dropna(1))\n",
      "rr.head()"
     ],
     "language": "python",
     "metadata": {},
     "outputs": [
      {
       "html": [
        "<div style=\"max-height:1000px;max-width:1500px;overflow:auto;\">\n",
        "<table border=\"1\" class=\"dataframe\">\n",
        "  <thead>\n",
        "    <tr style=\"text-align: right;\">\n",
        "      <th></th>\n",
        "      <th>p</th>\n",
        "      <th>chi2</th>\n",
        "      <th>q</th>\n",
        "    </tr>\n",
        "  </thead>\n",
        "  <tbody>\n",
        "    <tr>\n",
        "      <th>REACTOME_ZINC_TRANSPORTATION</th>\n",
        "      <td> 1.65e-05</td>\n",
        "      <td> 18.55</td>\n",
        "      <td> 0.01</td>\n",
        "    </tr>\n",
        "    <tr>\n",
        "      <th>REACTOME_METAL_ION_SLC_TRANSPORTERS</th>\n",
        "      <td> 1.94e-04</td>\n",
        "      <td> 13.89</td>\n",
        "      <td> 0.07</td>\n",
        "    </tr>\n",
        "    <tr>\n",
        "      <th>REACTOME_MRNA_SPLICING_MINOR_PATHWAY</th>\n",
        "      <td> 8.50e-04</td>\n",
        "      <td> 11.13</td>\n",
        "      <td> 0.20</td>\n",
        "    </tr>\n",
        "    <tr>\n",
        "      <th>REACTOME_METABOLISM_OF_LIPIDS_AND_LIPOPROTEINS</th>\n",
        "      <td> 2.09e-03</td>\n",
        "      <td>  9.47</td>\n",
        "      <td> 0.36</td>\n",
        "    </tr>\n",
        "    <tr>\n",
        "      <th>TP53</th>\n",
        "      <td> 3.25e-03</td>\n",
        "      <td>  8.66</td>\n",
        "      <td> 0.37</td>\n",
        "    </tr>\n",
        "  </tbody>\n",
        "</table>\n",
        "</div>"
       ],
       "output_type": "pyout",
       "prompt_number": 104,
       "text": [
        "                                                       p   chi2     q\n",
        "REACTOME_ZINC_TRANSPORTATION                    1.65e-05  18.55  0.01\n",
        "REACTOME_METAL_ION_SLC_TRANSPORTERS             1.94e-04  13.89  0.07\n",
        "REACTOME_MRNA_SPLICING_MINOR_PATHWAY            8.50e-04  11.13  0.20\n",
        "REACTOME_METABOLISM_OF_LIPIDS_AND_LIPOPROTEINS  2.09e-03   9.47  0.36\n",
        "TP53                                            3.25e-03   8.66  0.37"
       ]
      }
     ],
     "prompt_number": 104
    },
    {
     "cell_type": "code",
     "collapsed": false,
     "input": [
      "rr = lr_screen(cn.features.ix['Deletion'].ix[:, keepers].dropna(1) < 0)\n",
      "rr.head()"
     ],
     "language": "python",
     "metadata": {},
     "outputs": [
      {
       "html": [
        "<div style=\"max-height:1000px;max-width:1500px;overflow:auto;\">\n",
        "<table border=\"1\" class=\"dataframe\">\n",
        "  <thead>\n",
        "    <tr style=\"text-align: right;\">\n",
        "      <th></th>\n",
        "      <th></th>\n",
        "      <th>p</th>\n",
        "      <th>chi2</th>\n",
        "      <th>q</th>\n",
        "    </tr>\n",
        "  </thead>\n",
        "  <tbody>\n",
        "    <tr>\n",
        "      <th>3p25.3</th>\n",
        "      <th>Lesion</th>\n",
        "      <td> 2.30e-05</td>\n",
        "      <td> 17.92</td>\n",
        "      <td> 6.83e-04</td>\n",
        "    </tr>\n",
        "    <tr>\n",
        "      <th>3p14.2</th>\n",
        "      <th>Lesion</th>\n",
        "      <td> 3.11e-05</td>\n",
        "      <td> 17.35</td>\n",
        "      <td> 6.83e-04</td>\n",
        "    </tr>\n",
        "    <tr>\n",
        "      <th>3p12.2</th>\n",
        "      <th>Lesion</th>\n",
        "      <td> 7.42e-05</td>\n",
        "      <td> 15.70</td>\n",
        "      <td> 1.09e-03</td>\n",
        "    </tr>\n",
        "    <tr>\n",
        "      <th>Xp11.3</th>\n",
        "      <th>Lesion</th>\n",
        "      <td> 9.83e-03</td>\n",
        "      <td>  6.66</td>\n",
        "      <td> 8.75e-02</td>\n",
        "    </tr>\n",
        "    <tr>\n",
        "      <th>19p13.3</th>\n",
        "      <th>Lesion</th>\n",
        "      <td> 1.03e-02</td>\n",
        "      <td>  6.59</td>\n",
        "      <td> 8.75e-02</td>\n",
        "    </tr>\n",
        "  </tbody>\n",
        "</table>\n",
        "</div>"
       ],
       "output_type": "pyout",
       "prompt_number": 105,
       "text": [
        "                       p   chi2         q\n",
        "3p25.3  Lesion  2.30e-05  17.92  6.83e-04\n",
        "3p14.2  Lesion  3.11e-05  17.35  6.83e-04\n",
        "3p12.2  Lesion  7.42e-05  15.70  1.09e-03\n",
        "Xp11.3  Lesion  9.83e-03   6.66  8.75e-02\n",
        "19p13.3 Lesion  1.03e-02   6.59  8.75e-02"
       ]
      }
     ],
     "prompt_number": 105
    },
    {
     "cell_type": "code",
     "collapsed": false,
     "input": [
      "rr = lr_screen(cn.features.ix['Deletion'].ix[:, keepers].dropna(1) < -1)\n",
      "rr.head()"
     ],
     "language": "python",
     "metadata": {},
     "outputs": [
      {
       "html": [
        "<div style=\"max-height:1000px;max-width:1500px;overflow:auto;\">\n",
        "<table border=\"1\" class=\"dataframe\">\n",
        "  <thead>\n",
        "    <tr style=\"text-align: right;\">\n",
        "      <th></th>\n",
        "      <th></th>\n",
        "      <th>p</th>\n",
        "      <th>chi2</th>\n",
        "      <th>q</th>\n",
        "    </tr>\n",
        "  </thead>\n",
        "  <tbody>\n",
        "    <tr>\n",
        "      <th>10p11.21</th>\n",
        "      <th>Lesion</th>\n",
        "      <td> 1</td>\n",
        "      <td> 0</td>\n",
        "      <td> 1</td>\n",
        "    </tr>\n",
        "    <tr>\n",
        "      <th>2q36.2</th>\n",
        "      <th>Lesion</th>\n",
        "      <td> 1</td>\n",
        "      <td> 0</td>\n",
        "      <td> 1</td>\n",
        "    </tr>\n",
        "    <tr>\n",
        "      <th>3p12.2</th>\n",
        "      <th>Lesion</th>\n",
        "      <td> 1</td>\n",
        "      <td> 0</td>\n",
        "      <td> 1</td>\n",
        "    </tr>\n",
        "    <tr>\n",
        "      <th>3p14.2</th>\n",
        "      <th>Lesion</th>\n",
        "      <td> 1</td>\n",
        "      <td> 0</td>\n",
        "      <td> 1</td>\n",
        "    </tr>\n",
        "    <tr>\n",
        "      <th>3p25.3</th>\n",
        "      <th>Lesion</th>\n",
        "      <td> 1</td>\n",
        "      <td> 0</td>\n",
        "      <td> 1</td>\n",
        "    </tr>\n",
        "  </tbody>\n",
        "</table>\n",
        "</div>"
       ],
       "output_type": "pyout",
       "prompt_number": 106,
       "text": [
        "                 p  chi2  q\n",
        "10p11.21 Lesion  1     0  1\n",
        "2q36.2   Lesion  1     0  1\n",
        "3p12.2   Lesion  1     0  1\n",
        "3p14.2   Lesion  1     0  1\n",
        "3p25.3   Lesion  1     0  1"
       ]
      }
     ],
     "prompt_number": 106
    },
    {
     "cell_type": "code",
     "collapsed": false,
     "input": [
      "rr = lr_screen(cn.features.ix['Amplification'].ix[:, keepers].dropna(1) > 0)\n",
      "rr.head()"
     ],
     "language": "python",
     "metadata": {},
     "outputs": [
      {
       "html": [
        "<div style=\"max-height:1000px;max-width:1500px;overflow:auto;\">\n",
        "<table border=\"1\" class=\"dataframe\">\n",
        "  <thead>\n",
        "    <tr style=\"text-align: right;\">\n",
        "      <th></th>\n",
        "      <th></th>\n",
        "      <th>p</th>\n",
        "      <th>chi2</th>\n",
        "      <th>q</th>\n",
        "    </tr>\n",
        "  </thead>\n",
        "  <tbody>\n",
        "    <tr>\n",
        "      <th>7p11.2</th>\n",
        "      <th>Lesion</th>\n",
        "      <td> 0.00</td>\n",
        "      <td> 8.29</td>\n",
        "      <td> 0.05</td>\n",
        "    </tr>\n",
        "    <tr>\n",
        "      <th>15q26.3</th>\n",
        "      <th>Lesion</th>\n",
        "      <td> 0.00</td>\n",
        "      <td> 8.28</td>\n",
        "      <td> 0.05</td>\n",
        "    </tr>\n",
        "    <tr>\n",
        "      <th>11q13.3</th>\n",
        "      <th>Lesion</th>\n",
        "      <td> 0.01</td>\n",
        "      <td> 7.29</td>\n",
        "      <td> 0.06</td>\n",
        "    </tr>\n",
        "    <tr>\n",
        "      <th>18p11.31</th>\n",
        "      <th>Lesion</th>\n",
        "      <td> 0.01</td>\n",
        "      <td> 6.16</td>\n",
        "      <td> 0.08</td>\n",
        "    </tr>\n",
        "    <tr>\n",
        "      <th>3q26.33</th>\n",
        "      <th>Lesion</th>\n",
        "      <td> 0.02</td>\n",
        "      <td> 5.91</td>\n",
        "      <td> 0.08</td>\n",
        "    </tr>\n",
        "  </tbody>\n",
        "</table>\n",
        "</div>"
       ],
       "output_type": "pyout",
       "prompt_number": 107,
       "text": [
        "                    p  chi2     q\n",
        "7p11.2   Lesion  0.00  8.29  0.05\n",
        "15q26.3  Lesion  0.00  8.28  0.05\n",
        "11q13.3  Lesion  0.01  7.29  0.06\n",
        "18p11.31 Lesion  0.01  6.16  0.08\n",
        "3q26.33  Lesion  0.02  5.91  0.08"
       ]
      }
     ],
     "prompt_number": 107
    },
    {
     "cell_type": "code",
     "collapsed": false,
     "input": [
      "rr = lr_screen(cn.features.ix['Amplification'].ix[:, keepers].dropna(1) > 1)\n",
      "rr.head()"
     ],
     "language": "python",
     "metadata": {},
     "outputs": [
      {
       "html": [
        "<div style=\"max-height:1000px;max-width:1500px;overflow:auto;\">\n",
        "<table border=\"1\" class=\"dataframe\">\n",
        "  <thead>\n",
        "    <tr style=\"text-align: right;\">\n",
        "      <th></th>\n",
        "      <th></th>\n",
        "      <th>p</th>\n",
        "      <th>chi2</th>\n",
        "      <th>q</th>\n",
        "    </tr>\n",
        "  </thead>\n",
        "  <tbody>\n",
        "    <tr>\n",
        "      <th>15q26.3</th>\n",
        "      <th>Lesion</th>\n",
        "      <td> 0.02</td>\n",
        "      <td> 5.58</td>\n",
        "      <td> 0.26</td>\n",
        "    </tr>\n",
        "    <tr>\n",
        "      <th>11q13.3</th>\n",
        "      <th>Lesion</th>\n",
        "      <td> 0.02</td>\n",
        "      <td> 5.37</td>\n",
        "      <td> 0.26</td>\n",
        "    </tr>\n",
        "    <tr>\n",
        "      <th>13q22.1</th>\n",
        "      <th>Lesion</th>\n",
        "      <td> 0.07</td>\n",
        "      <td> 3.36</td>\n",
        "      <td> 0.55</td>\n",
        "    </tr>\n",
        "    <tr>\n",
        "      <th>7q22.1</th>\n",
        "      <th>Lesion</th>\n",
        "      <td> 0.10</td>\n",
        "      <td> 2.66</td>\n",
        "      <td> 0.55</td>\n",
        "    </tr>\n",
        "    <tr>\n",
        "      <th>7p11.2</th>\n",
        "      <th>Lesion</th>\n",
        "      <td> 0.12</td>\n",
        "      <td> 2.38</td>\n",
        "      <td> 0.55</td>\n",
        "    </tr>\n",
        "  </tbody>\n",
        "</table>\n",
        "</div>"
       ],
       "output_type": "pyout",
       "prompt_number": 108,
       "text": [
        "                   p  chi2     q\n",
        "15q26.3 Lesion  0.02  5.58  0.26\n",
        "11q13.3 Lesion  0.02  5.37  0.26\n",
        "13q22.1 Lesion  0.07  3.36  0.55\n",
        "7q22.1  Lesion  0.10  2.66  0.55\n",
        "7p11.2  Lesion  0.12  2.38  0.55"
       ]
      }
     ],
     "prompt_number": 108
    }
   ],
   "metadata": {}
  }
 ]
}