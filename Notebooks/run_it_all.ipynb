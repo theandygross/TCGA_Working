{
 "metadata": {
  "name": "run_it_all"
 },
 "nbformat": 3,
 "nbformat_minor": 0,
 "worksheets": [
  {
   "cells": [
    {
     "cell_type": "code",
     "collapsed": false,
     "input": [
      "cd ../src/"
     ],
     "language": "python",
     "metadata": {},
     "outputs": [
      {
       "output_type": "stream",
       "stream": "stdout",
       "text": [
        "/cellar/users/agross/TCGA_Code/TCGA/Pathway_Merge/src\n"
       ]
      }
     ],
     "prompt_number": 240
    },
    {
     "cell_type": "code",
     "collapsed": false,
     "input": [
      "import os as os\n",
      "import pickle as pickle\n",
      "import subprocess\n",
      "import pandas as pd\n",
      "from Processing.Scheduler import initialize, survival, parallel_run"
     ],
     "language": "python",
     "metadata": {},
     "outputs": [],
     "prompt_number": 241
    },
    {
     "cell_type": "code",
     "collapsed": false,
     "input": [
      "result_path = '/cellar/data/TCGA/Firehose__2013_04_21/ucsd_analyses/'\n",
      "run = sorted(os.listdir(result_path))[0]\n",
      "run = pickle.load(open('/'.join([result_path, run, 'RunObject.p']), 'rb'))"
     ],
     "language": "python",
     "metadata": {},
     "outputs": [],
     "prompt_number": 242
    },
    {
     "cell_type": "code",
     "collapsed": false,
     "input": [
      "cancers = [c for c in run.sample_matrix.index if 'PANCAN' not in c]"
     ],
     "language": "python",
     "metadata": {},
     "outputs": [],
     "prompt_number": 243
    },
    {
     "cell_type": "code",
     "collapsed": false,
     "input": [
      "from preprocess_methylation import process_meth"
     ],
     "language": "python",
     "metadata": {},
     "outputs": [],
     "prompt_number": 244
    },
    {
     "cell_type": "code",
     "collapsed": false,
     "input": [
      "process_meth('PRAD', run.data_path)"
     ],
     "language": "python",
     "metadata": {},
     "outputs": [],
     "prompt_number": "*"
    },
    {
     "cell_type": "code",
     "collapsed": false,
     "input": [
      "initialize(run, [], cancers=['PRAD'], init_cancer=True, dry_run=False)"
     ],
     "language": "python",
     "metadata": {},
     "outputs": []
    },
    {
     "cell_type": "code",
     "collapsed": false,
     "input": [
      "initialize(run, ['MAF','CN_broad','CN_deletion', 'CN_amplification', 'CN_amplification_low', 'RPPA',\n",
      "                     'Methylation', 'miRNASeq','mRNASeq'], cancers=['PRAD'], \n",
      "           init_cancer=True, dry_run=False)"
     ],
     "language": "python",
     "metadata": {},
     "outputs": [
      {
       "output_type": "stream",
       "stream": "stdout",
       "text": [
        "initialize_cancer\t/cellar/data/TCGA/Firehose__2013_04_21/ucsd_analyses/Run_1\tTHCA\n",
        "initialize_data\t/cellar/data/TCGA/Firehose__2013_04_21/ucsd_analyses/Run_1\tTHCA\tMAF\n",
        "initialize_data\t/cellar/data/TCGA/Firehose__2013_04_21/ucsd_analyses/Run_1\tTHCA\tCN_broad"
       ]
      },
      {
       "output_type": "stream",
       "stream": "stdout",
       "text": [
        "\n",
        "initialize_data\t/cellar/data/TCGA/Firehose__2013_04_21/ucsd_analyses/Run_1\tTHCA\tCN_deletion\n"
       ]
      }
     ],
     "prompt_number": 239
    },
    {
     "cell_type": "code",
     "collapsed": false,
     "input": [
      "import Data.Firehose as FH"
     ],
     "language": "python",
     "metadata": {},
     "outputs": [],
     "prompt_number": 6
    },
    {
     "cell_type": "code",
     "collapsed": false,
     "input": [
      "t_mut = survival(run, 'MAF', ['age', 'mutation__rate_non'], 'event_free_survival_5y', cancers=cancers, dry_run=True)\n",
      "t_cn_b = survival(run, 'CN_broad', ['age', 'cna__chrom_instability'], 'event_free_survival_5y', cancers=cancers, dry_run=True)\n",
      "t_cn_d = survival(run, 'CN_deletion', ['age', 'cna__lesion_del_homo'], 'event_free_survival_5y', cancers=cancers, dry_run=True)\n",
      "t_cn_a = survival(run, 'CN_amplification', ['age', 'cna__lesion_amp_high'], 'event_free_survival_5y', cancers=cancers, dry_run=True)\n",
      "t_cn_a_low = survival(run, 'CN_amplification_low', ['age', 'lesion_amp'], 'event_free_survival_5y', cancers=cancers, dry_run=True)\n",
      "t_rppa = survival(run, 'RPPA', ['age'], 'event_free_survival_5y', cancers=cancers, dry_run=True)\n",
      "t_meth = survival(run, 'Methylation', ['age', 'methylation__pc1'], 'event_free_survival_5y', cancers=cancers, dry_run=True)\n",
      "t_rna = survival(run, 'mRNASeq', ['age', 'mRNASeq__pc1'], 'event_free_survival_5y', cancers=cancers, dry_run=True)\n",
      "tests = [t for test in [t_mut, t_cn_b, t_cn_d, t_cn_a, t_cn_a_low, t_rppa, t_meth, t_rna] for t in test]\n",
      "parallel_run(tests)"
     ],
     "language": "python",
     "metadata": {},
     "outputs": [
      {
       "output_type": "stream",
       "stream": "stdout",
       "text": [
        "run_survival\t/scratch/TCGA/Firehose__2012_01_16/ucsd_analyses/Run_0_1\tBLCA\tMAF\t['age', 'mutation__rate_non']\tevent_free_survival_5y\n",
        "run_survival\t/scratch/TCGA/Firehose__2012_01_16/ucsd_analyses/Run_0_1\tBRCA\tMAF\t['age', 'mutation__rate_non']\tevent_free_survival_5y\n",
        "run_survival\t/scratch/TCGA/Firehose__2012_01_16/ucsd_analyses/Run_0_1\tCESC\tMAF\t['age', 'mutation__rate_non']\tevent_free_survival_5y"
       ]
      },
      {
       "output_type": "stream",
       "stream": "stdout",
       "text": [
        "\n",
        "run_survival\t/scratch/TCGA/Firehose__2012_01_16/ucsd_analyses/Run_0_1\tCOADREAD\tMAF\t['age', 'mutation__rate_non']\tevent_free_survival_5y\n",
        "run_survival\t/scratch/TCGA/Firehose__2012_01_16/ucsd_analyses/Run_0_1\tDLBC\tMAF\t['age', 'mutation__rate_non']\tevent_free_survival_5y"
       ]
      },
      {
       "output_type": "stream",
       "stream": "stdout",
       "text": [
        "\n",
        "run_survival\t/scratch/TCGA/Firehose__2012_01_16/ucsd_analyses/Run_0_1\tESCA\tMAF\t['age', 'mutation__rate_non']\tevent_free_survival_5y\n",
        "run_survival\t/scratch/TCGA/Firehose__2012_01_16/ucsd_analyses/Run_0_1\tHNSC\tMAF\t['age', 'mutation__rate_non']\tevent_free_survival_5y"
       ]
      },
      {
       "output_type": "stream",
       "stream": "stdout",
       "text": [
        "\n",
        "run_survival\t/scratch/TCGA/Firehose__2012_01_16/ucsd_analyses/Run_0_1\tKICH\tMAF\t['age', 'mutation__rate_non']\tevent_free_survival_5y\n",
        "run_survival\t/scratch/TCGA/Firehose__2012_01_16/ucsd_analyses/Run_0_1\tKIRC\tMAF\t['age', 'mutation__rate_non']\tevent_free_survival_5y"
       ]
      },
      {
       "output_type": "stream",
       "stream": "stdout",
       "text": [
        "\n",
        "run_survival\t/scratch/TCGA/Firehose__2012_01_16/ucsd_analyses/Run_0_1\tKIRP\tMAF\t['age', 'mutation__rate_non']\tevent_free_survival_5y\n",
        "run_survival\t/scratch/TCGA/Firehose__2012_01_16/ucsd_analyses/Run_0_1\tLAML\tMAF\t['age', 'mutation__rate_non']\tevent_free_survival_5y"
       ]
      },
      {
       "output_type": "stream",
       "stream": "stdout",
       "text": [
        "\n",
        "run_survival\t/scratch/TCGA/Firehose__2012_01_16/ucsd_analyses/Run_0_1\tLIHC\tMAF\t['age', 'mutation__rate_non']\tevent_free_survival_5y\n",
        "run_survival\t/scratch/TCGA/Firehose__2012_01_16/ucsd_analyses/Run_0_1\tOV\tMAF\t['age', 'mutation__rate_non']\tevent_free_survival_5y"
       ]
      },
      {
       "output_type": "stream",
       "stream": "stdout",
       "text": [
        "\n",
        "run_survival\t/scratch/TCGA/Firehose__2012_01_16/ucsd_analyses/Run_0_1\tPAAD\tMAF\t['age', 'mutation__rate_non']\tevent_free_survival_5y\n",
        "run_survival\t/scratch/TCGA/Firehose__2012_01_16/ucsd_analyses/Run_0_1\tPRAD\tMAF\t['age', 'mutation__rate_non']\tevent_free_survival_5y"
       ]
      },
      {
       "output_type": "stream",
       "stream": "stdout",
       "text": [
        "\n",
        "run_survival\t/scratch/TCGA/Firehose__2012_01_16/ucsd_analyses/Run_0_1\tSARC\tMAF\t['age', 'mutation__rate_non']\tevent_free_survival_5y\n",
        "run_survival\t/scratch/TCGA/Firehose__2012_01_16/ucsd_analyses/Run_0_1\tSKCM\tMAF\t['age', 'mutation__rate_non']\tevent_free_survival_5y"
       ]
      },
      {
       "output_type": "stream",
       "stream": "stdout",
       "text": [
        "\n",
        "run_survival\t/scratch/TCGA/Firehose__2012_01_16/ucsd_analyses/Run_0_1\tSTAD\tMAF\t['age', 'mutation__rate_non']\tevent_free_survival_5y\n",
        "run_survival\t/scratch/TCGA/Firehose__2012_01_16/ucsd_analyses/Run_0_1\tTHCA\tMAF\t['age', 'mutation__rate_non']\tevent_free_survival_5y"
       ]
      },
      {
       "output_type": "stream",
       "stream": "stdout",
       "text": [
        "\n",
        "run_survival\t/scratch/TCGA/Firehose__2012_01_16/ucsd_analyses/Run_0_1\tUCEC\tMAF\t['age', 'mutation__rate_non']\tevent_free_survival_5y\n",
        "run_survival\t/scratch/TCGA/Firehose__2012_01_16/ucsd_analyses/Run_0_1\tBLCA\tCN_broad\t['age', 'cna__chrom_instability']\tevent_free_survival_5y"
       ]
      },
      {
       "output_type": "stream",
       "stream": "stdout",
       "text": [
        "\n",
        "run_survival\t/scratch/TCGA/Firehose__2012_01_16/ucsd_analyses/Run_0_1\tBRCA\tCN_broad\t['age', 'cna__chrom_instability']\tevent_free_survival_5y"
       ]
      },
      {
       "output_type": "stream",
       "stream": "stdout",
       "text": [
        "\n",
        "run_survival\t/scratch/TCGA/Firehose__2012_01_16/ucsd_analyses/Run_0_1\tCESC\tCN_broad\t['age', 'cna__chrom_instability']\tevent_free_survival_5y\n",
        "run_survival\t/scratch/TCGA/Firehose__2012_01_16/ucsd_analyses/Run_0_1\tCOADREAD\tCN_broad\t['age', 'cna__chrom_instability']\tevent_free_survival_5y"
       ]
      },
      {
       "output_type": "stream",
       "stream": "stdout",
       "text": [
        "\n",
        "run_survival\t/scratch/TCGA/Firehose__2012_01_16/ucsd_analyses/Run_0_1\tDLBC\tCN_broad\t['age', 'cna__chrom_instability']\tevent_free_survival_5y\n",
        "run_survival\t/scratch/TCGA/Firehose__2012_01_16/ucsd_analyses/Run_0_1\tESCA\tCN_broad\t['age', 'cna__chrom_instability']\tevent_free_survival_5y"
       ]
      },
      {
       "output_type": "stream",
       "stream": "stdout",
       "text": [
        "\n",
        "run_survival\t/scratch/TCGA/Firehose__2012_01_16/ucsd_analyses/Run_0_1\tHNSC\tCN_broad\t['age', 'cna__chrom_instability']\tevent_free_survival_5y"
       ]
      },
      {
       "output_type": "stream",
       "stream": "stdout",
       "text": [
        "\n",
        "run_survival\t/scratch/TCGA/Firehose__2012_01_16/ucsd_analyses/Run_0_1\tKICH\tCN_broad\t['age', 'cna__chrom_instability']\tevent_free_survival_5y"
       ]
      },
      {
       "output_type": "stream",
       "stream": "stdout",
       "text": [
        "\n",
        "run_survival\t/scratch/TCGA/Firehose__2012_01_16/ucsd_analyses/Run_0_1\tKIRC\tCN_broad\t['age', 'cna__chrom_instability']\tevent_free_survival_5y"
       ]
      },
      {
       "output_type": "stream",
       "stream": "stdout",
       "text": [
        "\n",
        "run_survival\t/scratch/TCGA/Firehose__2012_01_16/ucsd_analyses/Run_0_1\tKIRP\tCN_broad\t['age', 'cna__chrom_instability']\tevent_free_survival_5y"
       ]
      },
      {
       "output_type": "stream",
       "stream": "stdout",
       "text": [
        "\n",
        "run_survival\t/scratch/TCGA/Firehose__2012_01_16/ucsd_analyses/Run_0_1\tLAML\tCN_broad\t['age', 'cna__chrom_instability']\tevent_free_survival_5y"
       ]
      },
      {
       "output_type": "stream",
       "stream": "stdout",
       "text": [
        "\n",
        "run_survival\t/scratch/TCGA/Firehose__2012_01_16/ucsd_analyses/Run_0_1\tLIHC\tCN_broad\t['age', 'cna__chrom_instability']\tevent_free_survival_5y"
       ]
      },
      {
       "output_type": "stream",
       "stream": "stdout",
       "text": [
        "\n",
        "run_survival\t/scratch/TCGA/Firehose__2012_01_16/ucsd_analyses/Run_0_1\tOV\tCN_broad\t['age', 'cna__chrom_instability']\tevent_free_survival_5y"
       ]
      },
      {
       "output_type": "stream",
       "stream": "stdout",
       "text": [
        "\n",
        "run_survival\t/scratch/TCGA/Firehose__2012_01_16/ucsd_analyses/Run_0_1\tPAAD\tCN_broad\t['age', 'cna__chrom_instability']\tevent_free_survival_5y"
       ]
      },
      {
       "output_type": "stream",
       "stream": "stdout",
       "text": [
        "\n",
        "run_survival\t/scratch/TCGA/Firehose__2012_01_16/ucsd_analyses/Run_0_1\tPRAD\tCN_broad\t['age', 'cna__chrom_instability']\tevent_free_survival_5y"
       ]
      },
      {
       "output_type": "stream",
       "stream": "stdout",
       "text": [
        "\n",
        "run_survival\t/scratch/TCGA/Firehose__2012_01_16/ucsd_analyses/Run_0_1\tSARC\tCN_broad\t['age', 'cna__chrom_instability']\tevent_free_survival_5y"
       ]
      },
      {
       "output_type": "stream",
       "stream": "stdout",
       "text": [
        "\n",
        "run_survival\t/scratch/TCGA/Firehose__2012_01_16/ucsd_analyses/Run_0_1\tSKCM\tCN_broad\t['age', 'cna__chrom_instability']\tevent_free_survival_5y"
       ]
      },
      {
       "output_type": "stream",
       "stream": "stdout",
       "text": [
        "\n",
        "run_survival\t/scratch/TCGA/Firehose__2012_01_16/ucsd_analyses/Run_0_1\tSTAD\tCN_broad\t['age', 'cna__chrom_instability']\tevent_free_survival_5y"
       ]
      },
      {
       "output_type": "stream",
       "stream": "stdout",
       "text": [
        "\n",
        "run_survival\t/scratch/TCGA/Firehose__2012_01_16/ucsd_analyses/Run_0_1\tTHCA\tCN_broad\t['age', 'cna__chrom_instability']\tevent_free_survival_5y"
       ]
      },
      {
       "output_type": "stream",
       "stream": "stdout",
       "text": [
        "\n",
        "run_survival\t/scratch/TCGA/Firehose__2012_01_16/ucsd_analyses/Run_0_1\tUCEC\tCN_broad\t['age', 'cna__chrom_instability']\tevent_free_survival_5y"
       ]
      },
      {
       "output_type": "stream",
       "stream": "stdout",
       "text": [
        "\n",
        "run_survival\t/scratch/TCGA/Firehose__2012_01_16/ucsd_analyses/Run_0_1\tBLCA\tCN_deletion\t['age', 'cna__lesion_del_homo']\tevent_free_survival_5y"
       ]
      },
      {
       "output_type": "stream",
       "stream": "stdout",
       "text": [
        "\n",
        "run_survival\t/scratch/TCGA/Firehose__2012_01_16/ucsd_analyses/Run_0_1\tBRCA\tCN_deletion\t['age', 'cna__lesion_del_homo']\tevent_free_survival_5y"
       ]
      },
      {
       "output_type": "stream",
       "stream": "stdout",
       "text": [
        "\n",
        "run_survival\t/scratch/TCGA/Firehose__2012_01_16/ucsd_analyses/Run_0_1\tCESC\tCN_deletion\t['age', 'cna__lesion_del_homo']\tevent_free_survival_5y"
       ]
      },
      {
       "output_type": "stream",
       "stream": "stdout",
       "text": [
        "\n",
        "run_survival\t/scratch/TCGA/Firehose__2012_01_16/ucsd_analyses/Run_0_1\tCOADREAD\tCN_deletion\t['age', 'cna__lesion_del_homo']\tevent_free_survival_5y"
       ]
      },
      {
       "output_type": "stream",
       "stream": "stdout",
       "text": [
        "\n",
        "run_survival\t/scratch/TCGA/Firehose__2012_01_16/ucsd_analyses/Run_0_1\tDLBC\tCN_deletion\t['age', 'cna__lesion_del_homo']\tevent_free_survival_5y"
       ]
      },
      {
       "output_type": "stream",
       "stream": "stdout",
       "text": [
        "\n",
        "run_survival\t/scratch/TCGA/Firehose__2012_01_16/ucsd_analyses/Run_0_1\tESCA\tCN_deletion\t['age', 'cna__lesion_del_homo']\tevent_free_survival_5y"
       ]
      },
      {
       "output_type": "stream",
       "stream": "stdout",
       "text": [
        "\n",
        "run_survival\t/scratch/TCGA/Firehose__2012_01_16/ucsd_analyses/Run_0_1\tHNSC\tCN_deletion\t['age', 'cna__lesion_del_homo']\tevent_free_survival_5y"
       ]
      },
      {
       "output_type": "stream",
       "stream": "stdout",
       "text": [
        "\n",
        "run_survival\t/scratch/TCGA/Firehose__2012_01_16/ucsd_analyses/Run_0_1\tKICH\tCN_deletion\t['age', 'cna__lesion_del_homo']\tevent_free_survival_5y"
       ]
      },
      {
       "output_type": "stream",
       "stream": "stdout",
       "text": [
        "\n",
        "run_survival\t/scratch/TCGA/Firehose__2012_01_16/ucsd_analyses/Run_0_1\tKIRC\tCN_deletion\t['age', 'cna__lesion_del_homo']\tevent_free_survival_5y"
       ]
      },
      {
       "output_type": "stream",
       "stream": "stdout",
       "text": [
        "\n",
        "run_survival\t/scratch/TCGA/Firehose__2012_01_16/ucsd_analyses/Run_0_1\tKIRP\tCN_deletion\t['age', 'cna__lesion_del_homo']\tevent_free_survival_5y"
       ]
      },
      {
       "output_type": "stream",
       "stream": "stdout",
       "text": [
        "\n",
        "run_survival\t/scratch/TCGA/Firehose__2012_01_16/ucsd_analyses/Run_0_1\tLAML\tCN_deletion\t['age', 'cna__lesion_del_homo']\tevent_free_survival_5y"
       ]
      },
      {
       "output_type": "stream",
       "stream": "stdout",
       "text": [
        "\n",
        "run_survival\t/scratch/TCGA/Firehose__2012_01_16/ucsd_analyses/Run_0_1\tLIHC\tCN_deletion\t['age', 'cna__lesion_del_homo']\tevent_free_survival_5y"
       ]
      },
      {
       "output_type": "stream",
       "stream": "stdout",
       "text": [
        "\n",
        "run_survival\t/scratch/TCGA/Firehose__2012_01_16/ucsd_analyses/Run_0_1\tOV\tCN_deletion\t['age', 'cna__lesion_del_homo']\tevent_free_survival_5y"
       ]
      },
      {
       "output_type": "stream",
       "stream": "stdout",
       "text": [
        "\n",
        "run_survival\t/scratch/TCGA/Firehose__2012_01_16/ucsd_analyses/Run_0_1\tPAAD\tCN_deletion\t['age', 'cna__lesion_del_homo']\tevent_free_survival_5y"
       ]
      },
      {
       "output_type": "stream",
       "stream": "stdout",
       "text": [
        "\n",
        "run_survival\t/scratch/TCGA/Firehose__2012_01_16/ucsd_analyses/Run_0_1\tPRAD\tCN_deletion\t['age', 'cna__lesion_del_homo']\tevent_free_survival_5y"
       ]
      },
      {
       "output_type": "stream",
       "stream": "stdout",
       "text": [
        "\n",
        "run_survival\t/scratch/TCGA/Firehose__2012_01_16/ucsd_analyses/Run_0_1\tSARC\tCN_deletion\t['age', 'cna__lesion_del_homo']\tevent_free_survival_5y"
       ]
      },
      {
       "output_type": "stream",
       "stream": "stdout",
       "text": [
        "\n",
        "run_survival\t/scratch/TCGA/Firehose__2012_01_16/ucsd_analyses/Run_0_1\tSKCM\tCN_deletion\t['age', 'cna__lesion_del_homo']\tevent_free_survival_5y"
       ]
      },
      {
       "output_type": "stream",
       "stream": "stdout",
       "text": [
        "\n",
        "run_survival\t/scratch/TCGA/Firehose__2012_01_16/ucsd_analyses/Run_0_1\tSTAD\tCN_deletion\t['age', 'cna__lesion_del_homo']\tevent_free_survival_5y"
       ]
      },
      {
       "output_type": "stream",
       "stream": "stdout",
       "text": [
        "\n",
        "run_survival\t/scratch/TCGA/Firehose__2012_01_16/ucsd_analyses/Run_0_1\tTHCA\tCN_deletion\t['age', 'cna__lesion_del_homo']\tevent_free_survival_5y"
       ]
      },
      {
       "output_type": "stream",
       "stream": "stdout",
       "text": [
        "\n",
        "run_survival\t/scratch/TCGA/Firehose__2012_01_16/ucsd_analyses/Run_0_1\tUCEC\tCN_deletion\t['age', 'cna__lesion_del_homo']\tevent_free_survival_5y"
       ]
      },
      {
       "output_type": "stream",
       "stream": "stdout",
       "text": [
        "\n",
        "run_survival\t/scratch/TCGA/Firehose__2012_01_16/ucsd_analyses/Run_0_1\tBLCA\tCN_amplification\t['age', 'cna__lesion_amp_high']\tevent_free_survival_5y"
       ]
      },
      {
       "output_type": "stream",
       "stream": "stdout",
       "text": [
        "\n",
        "run_survival\t/scratch/TCGA/Firehose__2012_01_16/ucsd_analyses/Run_0_1\tBRCA\tCN_amplification\t['age', 'cna__lesion_amp_high']\tevent_free_survival_5y"
       ]
      },
      {
       "output_type": "stream",
       "stream": "stdout",
       "text": [
        "\n",
        "run_survival\t/scratch/TCGA/Firehose__2012_01_16/ucsd_analyses/Run_0_1\tCESC\tCN_amplification\t['age', 'cna__lesion_amp_high']\tevent_free_survival_5y"
       ]
      },
      {
       "output_type": "stream",
       "stream": "stdout",
       "text": [
        "\n",
        "run_survival\t/scratch/TCGA/Firehose__2012_01_16/ucsd_analyses/Run_0_1\tCOADREAD\tCN_amplification\t['age', 'cna__lesion_amp_high']\tevent_free_survival_5y"
       ]
      },
      {
       "output_type": "stream",
       "stream": "stdout",
       "text": [
        "\n",
        "run_survival\t/scratch/TCGA/Firehose__2012_01_16/ucsd_analyses/Run_0_1\tDLBC\tCN_amplification\t['age', 'cna__lesion_amp_high']\tevent_free_survival_5y"
       ]
      },
      {
       "output_type": "stream",
       "stream": "stdout",
       "text": [
        "\n",
        "run_survival\t/scratch/TCGA/Firehose__2012_01_16/ucsd_analyses/Run_0_1\tESCA\tCN_amplification\t['age', 'cna__lesion_amp_high']\tevent_free_survival_5y"
       ]
      },
      {
       "output_type": "stream",
       "stream": "stdout",
       "text": [
        "\n",
        "run_survival\t/scratch/TCGA/Firehose__2012_01_16/ucsd_analyses/Run_0_1\tHNSC\tCN_amplification\t['age', 'cna__lesion_amp_high']\tevent_free_survival_5y"
       ]
      },
      {
       "output_type": "stream",
       "stream": "stdout",
       "text": [
        "\n",
        "run_survival\t/scratch/TCGA/Firehose__2012_01_16/ucsd_analyses/Run_0_1\tKICH\tCN_amplification\t['age', 'cna__lesion_amp_high']\tevent_free_survival_5y"
       ]
      },
      {
       "output_type": "stream",
       "stream": "stdout",
       "text": [
        "\n",
        "run_survival\t/scratch/TCGA/Firehose__2012_01_16/ucsd_analyses/Run_0_1\tKIRC\tCN_amplification\t['age', 'cna__lesion_amp_high']\tevent_free_survival_5y"
       ]
      },
      {
       "output_type": "stream",
       "stream": "stdout",
       "text": [
        "\n",
        "run_survival\t/scratch/TCGA/Firehose__2012_01_16/ucsd_analyses/Run_0_1\tKIRP\tCN_amplification\t['age', 'cna__lesion_amp_high']\tevent_free_survival_5y"
       ]
      },
      {
       "output_type": "stream",
       "stream": "stdout",
       "text": [
        "\n",
        "run_survival\t/scratch/TCGA/Firehose__2012_01_16/ucsd_analyses/Run_0_1\tLAML\tCN_amplification\t['age', 'cna__lesion_amp_high']\tevent_free_survival_5y"
       ]
      },
      {
       "output_type": "stream",
       "stream": "stdout",
       "text": [
        "\n",
        "run_survival\t/scratch/TCGA/Firehose__2012_01_16/ucsd_analyses/Run_0_1\tLIHC\tCN_amplification\t['age', 'cna__lesion_amp_high']\tevent_free_survival_5y"
       ]
      },
      {
       "output_type": "stream",
       "stream": "stdout",
       "text": [
        "\n",
        "run_survival\t/scratch/TCGA/Firehose__2012_01_16/ucsd_analyses/Run_0_1\tOV\tCN_amplification\t['age', 'cna__lesion_amp_high']\tevent_free_survival_5y"
       ]
      },
      {
       "output_type": "stream",
       "stream": "stdout",
       "text": [
        "\n",
        "run_survival\t/scratch/TCGA/Firehose__2012_01_16/ucsd_analyses/Run_0_1\tPAAD\tCN_amplification\t['age', 'cna__lesion_amp_high']\tevent_free_survival_5y"
       ]
      },
      {
       "output_type": "stream",
       "stream": "stdout",
       "text": [
        "\n",
        "run_survival\t/scratch/TCGA/Firehose__2012_01_16/ucsd_analyses/Run_0_1\tPRAD\tCN_amplification\t['age', 'cna__lesion_amp_high']\tevent_free_survival_5y"
       ]
      },
      {
       "output_type": "stream",
       "stream": "stdout",
       "text": [
        "\n",
        "run_survival\t/scratch/TCGA/Firehose__2012_01_16/ucsd_analyses/Run_0_1\tSARC\tCN_amplification\t['age', 'cna__lesion_amp_high']\tevent_free_survival_5y"
       ]
      },
      {
       "output_type": "stream",
       "stream": "stdout",
       "text": [
        "\n",
        "run_survival\t/scratch/TCGA/Firehose__2012_01_16/ucsd_analyses/Run_0_1\tSKCM\tCN_amplification\t['age', 'cna__lesion_amp_high']\tevent_free_survival_5y"
       ]
      },
      {
       "output_type": "stream",
       "stream": "stdout",
       "text": [
        "\n",
        "run_survival\t/scratch/TCGA/Firehose__2012_01_16/ucsd_analyses/Run_0_1\tSTAD\tCN_amplification\t['age', 'cna__lesion_amp_high']\tevent_free_survival_5y"
       ]
      },
      {
       "output_type": "stream",
       "stream": "stdout",
       "text": [
        "\n",
        "run_survival\t/scratch/TCGA/Firehose__2012_01_16/ucsd_analyses/Run_0_1\tTHCA\tCN_amplification\t['age', 'cna__lesion_amp_high']\tevent_free_survival_5y"
       ]
      },
      {
       "output_type": "stream",
       "stream": "stdout",
       "text": [
        "\n",
        "run_survival\t/scratch/TCGA/Firehose__2012_01_16/ucsd_analyses/Run_0_1\tUCEC\tCN_amplification\t['age', 'cna__lesion_amp_high']\tevent_free_survival_5y"
       ]
      },
      {
       "output_type": "stream",
       "stream": "stdout",
       "text": [
        "\n",
        "run_survival\t/scratch/TCGA/Firehose__2012_01_16/ucsd_analyses/Run_0_1\tBLCA\tCN_amplification_low\t['age', 'lesion_amp']\tevent_free_survival_5y"
       ]
      },
      {
       "output_type": "stream",
       "stream": "stdout",
       "text": [
        "\n",
        "run_survival\t/scratch/TCGA/Firehose__2012_01_16/ucsd_analyses/Run_0_1\tBRCA\tCN_amplification_low\t['age', 'lesion_amp']\tevent_free_survival_5y"
       ]
      },
      {
       "output_type": "stream",
       "stream": "stdout",
       "text": [
        "\n",
        "run_survival\t/scratch/TCGA/Firehose__2012_01_16/ucsd_analyses/Run_0_1\tCESC\tCN_amplification_low\t['age', 'lesion_amp']\tevent_free_survival_5y"
       ]
      },
      {
       "output_type": "stream",
       "stream": "stdout",
       "text": [
        "\n",
        "run_survival\t/scratch/TCGA/Firehose__2012_01_16/ucsd_analyses/Run_0_1\tCOADREAD\tCN_amplification_low\t['age', 'lesion_amp']\tevent_free_survival_5y"
       ]
      },
      {
       "output_type": "stream",
       "stream": "stdout",
       "text": [
        "\n",
        "run_survival\t/scratch/TCGA/Firehose__2012_01_16/ucsd_analyses/Run_0_1\tDLBC\tCN_amplification_low\t['age', 'lesion_amp']\tevent_free_survival_5y"
       ]
      },
      {
       "output_type": "stream",
       "stream": "stdout",
       "text": [
        "\n",
        "run_survival\t/scratch/TCGA/Firehose__2012_01_16/ucsd_analyses/Run_0_1\tESCA\tCN_amplification_low\t['age', 'lesion_amp']\tevent_free_survival_5y"
       ]
      },
      {
       "output_type": "stream",
       "stream": "stdout",
       "text": [
        "\n",
        "run_survival\t/scratch/TCGA/Firehose__2012_01_16/ucsd_analyses/Run_0_1\tHNSC\tCN_amplification_low\t['age', 'lesion_amp']\tevent_free_survival_5y"
       ]
      },
      {
       "output_type": "stream",
       "stream": "stdout",
       "text": [
        "\n",
        "run_survival\t/scratch/TCGA/Firehose__2012_01_16/ucsd_analyses/Run_0_1\tKICH\tCN_amplification_low\t['age', 'lesion_amp']\tevent_free_survival_5y"
       ]
      },
      {
       "output_type": "stream",
       "stream": "stdout",
       "text": [
        "\n",
        "run_survival\t/scratch/TCGA/Firehose__2012_01_16/ucsd_analyses/Run_0_1\tKIRC\tCN_amplification_low\t['age', 'lesion_amp']\tevent_free_survival_5y"
       ]
      },
      {
       "output_type": "stream",
       "stream": "stdout",
       "text": [
        "\n",
        "run_survival\t/scratch/TCGA/Firehose__2012_01_16/ucsd_analyses/Run_0_1\tKIRP\tCN_amplification_low\t['age', 'lesion_amp']\tevent_free_survival_5y"
       ]
      },
      {
       "output_type": "stream",
       "stream": "stdout",
       "text": [
        "\n",
        "run_survival\t/scratch/TCGA/Firehose__2012_01_16/ucsd_analyses/Run_0_1\tLAML\tCN_amplification_low\t['age', 'lesion_amp']\tevent_free_survival_5y"
       ]
      },
      {
       "output_type": "stream",
       "stream": "stdout",
       "text": [
        "\n",
        "run_survival\t/scratch/TCGA/Firehose__2012_01_16/ucsd_analyses/Run_0_1\tLIHC\tCN_amplification_low\t['age', 'lesion_amp']\tevent_free_survival_5y"
       ]
      },
      {
       "output_type": "stream",
       "stream": "stdout",
       "text": [
        "\n",
        "run_survival\t/scratch/TCGA/Firehose__2012_01_16/ucsd_analyses/Run_0_1\tOV\tCN_amplification_low\t['age', 'lesion_amp']\tevent_free_survival_5y"
       ]
      },
      {
       "output_type": "stream",
       "stream": "stdout",
       "text": [
        "\n",
        "run_survival\t/scratch/TCGA/Firehose__2012_01_16/ucsd_analyses/Run_0_1\tPAAD\tCN_amplification_low\t['age', 'lesion_amp']\tevent_free_survival_5y"
       ]
      },
      {
       "output_type": "stream",
       "stream": "stdout",
       "text": [
        "\n",
        "run_survival\t/scratch/TCGA/Firehose__2012_01_16/ucsd_analyses/Run_0_1\tPRAD\tCN_amplification_low\t['age', 'lesion_amp']\tevent_free_survival_5y"
       ]
      },
      {
       "output_type": "stream",
       "stream": "stdout",
       "text": [
        "\n",
        "run_survival\t/scratch/TCGA/Firehose__2012_01_16/ucsd_analyses/Run_0_1\tSARC\tCN_amplification_low\t['age', 'lesion_amp']\tevent_free_survival_5y"
       ]
      },
      {
       "output_type": "stream",
       "stream": "stdout",
       "text": [
        "\n",
        "run_survival\t/scratch/TCGA/Firehose__2012_01_16/ucsd_analyses/Run_0_1\tSKCM\tCN_amplification_low\t['age', 'lesion_amp']\tevent_free_survival_5y"
       ]
      },
      {
       "output_type": "stream",
       "stream": "stdout",
       "text": [
        "\n",
        "run_survival\t/scratch/TCGA/Firehose__2012_01_16/ucsd_analyses/Run_0_1\tSTAD\tCN_amplification_low\t['age', 'lesion_amp']\tevent_free_survival_5y"
       ]
      },
      {
       "output_type": "stream",
       "stream": "stdout",
       "text": [
        "\n",
        "run_survival\t/scratch/TCGA/Firehose__2012_01_16/ucsd_analyses/Run_0_1\tTHCA\tCN_amplification_low\t['age', 'lesion_amp']\tevent_free_survival_5y"
       ]
      },
      {
       "output_type": "stream",
       "stream": "stdout",
       "text": [
        "\n",
        "run_survival\t/scratch/TCGA/Firehose__2012_01_16/ucsd_analyses/Run_0_1\tUCEC\tCN_amplification_low\t['age', 'lesion_amp']\tevent_free_survival_5y"
       ]
      },
      {
       "output_type": "stream",
       "stream": "stdout",
       "text": [
        "\n",
        "run_survival\t/scratch/TCGA/Firehose__2012_01_16/ucsd_analyses/Run_0_1\tBLCA\tRPPA\t['age']\tevent_free_survival_5y"
       ]
      },
      {
       "output_type": "stream",
       "stream": "stdout",
       "text": [
        "\n",
        "run_survival\t/scratch/TCGA/Firehose__2012_01_16/ucsd_analyses/Run_0_1\tBRCA\tRPPA\t['age']\tevent_free_survival_5y"
       ]
      },
      {
       "output_type": "stream",
       "stream": "stdout",
       "text": [
        "\n",
        "run_survival\t/scratch/TCGA/Firehose__2012_01_16/ucsd_analyses/Run_0_1\tCESC\tRPPA\t['age']\tevent_free_survival_5y"
       ]
      },
      {
       "output_type": "stream",
       "stream": "stdout",
       "text": [
        "\n",
        "run_survival\t/scratch/TCGA/Firehose__2012_01_16/ucsd_analyses/Run_0_1\tCOADREAD\tRPPA\t['age']\tevent_free_survival_5y"
       ]
      },
      {
       "output_type": "stream",
       "stream": "stdout",
       "text": [
        "\n",
        "run_survival\t/scratch/TCGA/Firehose__2012_01_16/ucsd_analyses/Run_0_1\tDLBC\tRPPA\t['age']\tevent_free_survival_5y"
       ]
      },
      {
       "output_type": "stream",
       "stream": "stdout",
       "text": [
        "\n",
        "run_survival\t/scratch/TCGA/Firehose__2012_01_16/ucsd_analyses/Run_0_1\tESCA\tRPPA\t['age']\tevent_free_survival_5y"
       ]
      },
      {
       "output_type": "stream",
       "stream": "stdout",
       "text": [
        "\n",
        "run_survival\t/scratch/TCGA/Firehose__2012_01_16/ucsd_analyses/Run_0_1\tHNSC\tRPPA\t['age']\tevent_free_survival_5y"
       ]
      },
      {
       "output_type": "stream",
       "stream": "stdout",
       "text": [
        "\n",
        "run_survival\t/scratch/TCGA/Firehose__2012_01_16/ucsd_analyses/Run_0_1\tKICH\tRPPA\t['age']\tevent_free_survival_5y"
       ]
      },
      {
       "output_type": "stream",
       "stream": "stdout",
       "text": [
        "\n",
        "run_survival\t/scratch/TCGA/Firehose__2012_01_16/ucsd_analyses/Run_0_1\tKIRC\tRPPA\t['age']\tevent_free_survival_5y"
       ]
      },
      {
       "output_type": "stream",
       "stream": "stdout",
       "text": [
        "\n",
        "run_survival\t/scratch/TCGA/Firehose__2012_01_16/ucsd_analyses/Run_0_1\tKIRP\tRPPA\t['age']\tevent_free_survival_5y"
       ]
      },
      {
       "output_type": "stream",
       "stream": "stdout",
       "text": [
        "\n",
        "run_survival\t/scratch/TCGA/Firehose__2012_01_16/ucsd_analyses/Run_0_1\tLAML\tRPPA\t['age']\tevent_free_survival_5y"
       ]
      },
      {
       "output_type": "stream",
       "stream": "stdout",
       "text": [
        "\n",
        "run_survival\t/scratch/TCGA/Firehose__2012_01_16/ucsd_analyses/Run_0_1\tLIHC\tRPPA\t['age']\tevent_free_survival_5y"
       ]
      },
      {
       "output_type": "stream",
       "stream": "stdout",
       "text": [
        "\n",
        "run_survival\t/scratch/TCGA/Firehose__2012_01_16/ucsd_analyses/Run_0_1\tOV\tRPPA\t['age']\tevent_free_survival_5y"
       ]
      },
      {
       "output_type": "stream",
       "stream": "stdout",
       "text": [
        "\n",
        "run_survival\t/scratch/TCGA/Firehose__2012_01_16/ucsd_analyses/Run_0_1\tPAAD\tRPPA\t['age']\tevent_free_survival_5y"
       ]
      },
      {
       "output_type": "stream",
       "stream": "stdout",
       "text": [
        "\n",
        "run_survival\t/scratch/TCGA/Firehose__2012_01_16/ucsd_analyses/Run_0_1\tPRAD\tRPPA\t['age']\tevent_free_survival_5y"
       ]
      },
      {
       "output_type": "stream",
       "stream": "stdout",
       "text": [
        "\n",
        "run_survival\t/scratch/TCGA/Firehose__2012_01_16/ucsd_analyses/Run_0_1\tSARC\tRPPA\t['age']\tevent_free_survival_5y"
       ]
      },
      {
       "output_type": "stream",
       "stream": "stdout",
       "text": [
        "\n",
        "run_survival\t/scratch/TCGA/Firehose__2012_01_16/ucsd_analyses/Run_0_1\tSKCM\tRPPA\t['age']\tevent_free_survival_5y"
       ]
      },
      {
       "output_type": "stream",
       "stream": "stdout",
       "text": [
        "\n",
        "run_survival\t/scratch/TCGA/Firehose__2012_01_16/ucsd_analyses/Run_0_1\tSTAD\tRPPA\t['age']\tevent_free_survival_5y"
       ]
      },
      {
       "output_type": "stream",
       "stream": "stdout",
       "text": [
        "\n",
        "run_survival\t/scratch/TCGA/Firehose__2012_01_16/ucsd_analyses/Run_0_1\tTHCA\tRPPA\t['age']\tevent_free_survival_5y"
       ]
      },
      {
       "output_type": "stream",
       "stream": "stdout",
       "text": [
        "\n",
        "run_survival\t/scratch/TCGA/Firehose__2012_01_16/ucsd_analyses/Run_0_1\tUCEC\tRPPA\t['age']\tevent_free_survival_5y"
       ]
      },
      {
       "output_type": "stream",
       "stream": "stdout",
       "text": [
        "\n",
        "run_survival\t/scratch/TCGA/Firehose__2012_01_16/ucsd_analyses/Run_0_1\tBLCA\tMethylation\t['age', 'methylation__pc1']\tevent_free_survival_5y"
       ]
      },
      {
       "output_type": "stream",
       "stream": "stdout",
       "text": [
        "\n",
        "run_survival\t/scratch/TCGA/Firehose__2012_01_16/ucsd_analyses/Run_0_1\tBRCA\tMethylation\t['age', 'methylation__pc1']\tevent_free_survival_5y"
       ]
      },
      {
       "output_type": "stream",
       "stream": "stdout",
       "text": [
        "\n",
        "run_survival\t/scratch/TCGA/Firehose__2012_01_16/ucsd_analyses/Run_0_1\tCESC\tMethylation\t['age', 'methylation__pc1']\tevent_free_survival_5y"
       ]
      },
      {
       "output_type": "stream",
       "stream": "stdout",
       "text": [
        "\n",
        "run_survival\t/scratch/TCGA/Firehose__2012_01_16/ucsd_analyses/Run_0_1\tCOADREAD\tMethylation\t['age', 'methylation__pc1']\tevent_free_survival_5y"
       ]
      },
      {
       "output_type": "stream",
       "stream": "stdout",
       "text": [
        "\n",
        "run_survival\t/scratch/TCGA/Firehose__2012_01_16/ucsd_analyses/Run_0_1\tDLBC\tMethylation\t['age', 'methylation__pc1']\tevent_free_survival_5y"
       ]
      },
      {
       "output_type": "stream",
       "stream": "stdout",
       "text": [
        "\n",
        "run_survival\t/scratch/TCGA/Firehose__2012_01_16/ucsd_analyses/Run_0_1\tESCA\tMethylation\t['age', 'methylation__pc1']\tevent_free_survival_5y"
       ]
      },
      {
       "output_type": "stream",
       "stream": "stdout",
       "text": [
        "\n",
        "run_survival\t/scratch/TCGA/Firehose__2012_01_16/ucsd_analyses/Run_0_1\tHNSC\tMethylation\t['age', 'methylation__pc1']\tevent_free_survival_5y"
       ]
      },
      {
       "output_type": "stream",
       "stream": "stdout",
       "text": [
        "\n",
        "run_survival\t/scratch/TCGA/Firehose__2012_01_16/ucsd_analyses/Run_0_1\tKICH\tMethylation\t['age', 'methylation__pc1']\tevent_free_survival_5y"
       ]
      },
      {
       "output_type": "stream",
       "stream": "stdout",
       "text": [
        "\n",
        "run_survival\t/scratch/TCGA/Firehose__2012_01_16/ucsd_analyses/Run_0_1\tKIRC\tMethylation\t['age', 'methylation__pc1']\tevent_free_survival_5y"
       ]
      },
      {
       "output_type": "stream",
       "stream": "stdout",
       "text": [
        "\n",
        "run_survival\t/scratch/TCGA/Firehose__2012_01_16/ucsd_analyses/Run_0_1\tKIRP\tMethylation\t['age', 'methylation__pc1']\tevent_free_survival_5y"
       ]
      },
      {
       "output_type": "stream",
       "stream": "stdout",
       "text": [
        "\n",
        "run_survival\t/scratch/TCGA/Firehose__2012_01_16/ucsd_analyses/Run_0_1\tLAML\tMethylation\t['age', 'methylation__pc1']\tevent_free_survival_5y"
       ]
      },
      {
       "output_type": "stream",
       "stream": "stdout",
       "text": [
        "\n",
        "run_survival\t/scratch/TCGA/Firehose__2012_01_16/ucsd_analyses/Run_0_1\tLIHC\tMethylation\t['age', 'methylation__pc1']\tevent_free_survival_5y"
       ]
      },
      {
       "output_type": "stream",
       "stream": "stdout",
       "text": [
        "\n",
        "run_survival\t/scratch/TCGA/Firehose__2012_01_16/ucsd_analyses/Run_0_1\tOV\tMethylation\t['age', 'methylation__pc1']\tevent_free_survival_5y"
       ]
      },
      {
       "output_type": "stream",
       "stream": "stdout",
       "text": [
        "\n",
        "run_survival\t/scratch/TCGA/Firehose__2012_01_16/ucsd_analyses/Run_0_1\tPAAD\tMethylation\t['age', 'methylation__pc1']\tevent_free_survival_5y"
       ]
      },
      {
       "output_type": "stream",
       "stream": "stdout",
       "text": [
        "\n",
        "run_survival\t/scratch/TCGA/Firehose__2012_01_16/ucsd_analyses/Run_0_1\tPRAD\tMethylation\t['age', 'methylation__pc1']\tevent_free_survival_5y"
       ]
      },
      {
       "output_type": "stream",
       "stream": "stdout",
       "text": [
        "\n",
        "run_survival\t/scratch/TCGA/Firehose__2012_01_16/ucsd_analyses/Run_0_1\tSARC\tMethylation\t['age', 'methylation__pc1']\tevent_free_survival_5y"
       ]
      },
      {
       "output_type": "stream",
       "stream": "stdout",
       "text": [
        "\n",
        "run_survival\t/scratch/TCGA/Firehose__2012_01_16/ucsd_analyses/Run_0_1\tSKCM\tMethylation\t['age', 'methylation__pc1']\tevent_free_survival_5y"
       ]
      },
      {
       "output_type": "stream",
       "stream": "stdout",
       "text": [
        "\n",
        "run_survival\t/scratch/TCGA/Firehose__2012_01_16/ucsd_analyses/Run_0_1\tSTAD\tMethylation\t['age', 'methylation__pc1']\tevent_free_survival_5y"
       ]
      },
      {
       "output_type": "stream",
       "stream": "stdout",
       "text": [
        "\n",
        "run_survival\t/scratch/TCGA/Firehose__2012_01_16/ucsd_analyses/Run_0_1\tTHCA\tMethylation\t['age', 'methylation__pc1']\tevent_free_survival_5y"
       ]
      },
      {
       "output_type": "stream",
       "stream": "stdout",
       "text": [
        "\n",
        "run_survival\t/scratch/TCGA/Firehose__2012_01_16/ucsd_analyses/Run_0_1\tUCEC\tMethylation\t['age', 'methylation__pc1']\tevent_free_survival_5y"
       ]
      },
      {
       "output_type": "stream",
       "stream": "stdout",
       "text": [
        "\n",
        "run_survival\t/scratch/TCGA/Firehose__2012_01_16/ucsd_analyses/Run_0_1\tBLCA\tmRNASeq\t['age', 'mRNASeq__pc1']\tevent_free_survival_5y"
       ]
      },
      {
       "output_type": "stream",
       "stream": "stdout",
       "text": [
        "\n",
        "run_survival\t/scratch/TCGA/Firehose__2012_01_16/ucsd_analyses/Run_0_1\tBRCA\tmRNASeq\t['age', 'mRNASeq__pc1']\tevent_free_survival_5y"
       ]
      },
      {
       "output_type": "stream",
       "stream": "stdout",
       "text": [
        "\n",
        "run_survival\t/scratch/TCGA/Firehose__2012_01_16/ucsd_analyses/Run_0_1\tCESC\tmRNASeq\t['age', 'mRNASeq__pc1']\tevent_free_survival_5y"
       ]
      },
      {
       "output_type": "stream",
       "stream": "stdout",
       "text": [
        "\n",
        "run_survival\t/scratch/TCGA/Firehose__2012_01_16/ucsd_analyses/Run_0_1\tCOADREAD\tmRNASeq\t['age', 'mRNASeq__pc1']\tevent_free_survival_5y"
       ]
      },
      {
       "output_type": "stream",
       "stream": "stdout",
       "text": [
        "\n",
        "run_survival\t/scratch/TCGA/Firehose__2012_01_16/ucsd_analyses/Run_0_1\tDLBC\tmRNASeq\t['age', 'mRNASeq__pc1']\tevent_free_survival_5y"
       ]
      },
      {
       "output_type": "stream",
       "stream": "stdout",
       "text": [
        "\n",
        "run_survival\t/scratch/TCGA/Firehose__2012_01_16/ucsd_analyses/Run_0_1\tESCA\tmRNASeq\t['age', 'mRNASeq__pc1']\tevent_free_survival_5y"
       ]
      },
      {
       "output_type": "stream",
       "stream": "stdout",
       "text": [
        "\n",
        "run_survival\t/scratch/TCGA/Firehose__2012_01_16/ucsd_analyses/Run_0_1\tHNSC\tmRNASeq\t['age', 'mRNASeq__pc1']\tevent_free_survival_5y"
       ]
      },
      {
       "output_type": "stream",
       "stream": "stdout",
       "text": [
        "\n",
        "run_survival\t/scratch/TCGA/Firehose__2012_01_16/ucsd_analyses/Run_0_1\tKICH\tmRNASeq\t['age', 'mRNASeq__pc1']\tevent_free_survival_5y"
       ]
      },
      {
       "output_type": "stream",
       "stream": "stdout",
       "text": [
        "\n",
        "run_survival\t/scratch/TCGA/Firehose__2012_01_16/ucsd_analyses/Run_0_1\tKIRC\tmRNASeq\t['age', 'mRNASeq__pc1']\tevent_free_survival_5y"
       ]
      },
      {
       "output_type": "stream",
       "stream": "stdout",
       "text": [
        "\n",
        "run_survival\t/scratch/TCGA/Firehose__2012_01_16/ucsd_analyses/Run_0_1\tKIRP\tmRNASeq\t['age', 'mRNASeq__pc1']\tevent_free_survival_5y"
       ]
      },
      {
       "output_type": "stream",
       "stream": "stdout",
       "text": [
        "\n",
        "run_survival\t/scratch/TCGA/Firehose__2012_01_16/ucsd_analyses/Run_0_1\tLAML\tmRNASeq\t['age', 'mRNASeq__pc1']\tevent_free_survival_5y"
       ]
      },
      {
       "output_type": "stream",
       "stream": "stdout",
       "text": [
        "\n",
        "run_survival\t/scratch/TCGA/Firehose__2012_01_16/ucsd_analyses/Run_0_1\tLIHC\tmRNASeq\t['age', 'mRNASeq__pc1']\tevent_free_survival_5y"
       ]
      },
      {
       "output_type": "stream",
       "stream": "stdout",
       "text": [
        "\n",
        "run_survival\t/scratch/TCGA/Firehose__2012_01_16/ucsd_analyses/Run_0_1\tOV\tmRNASeq\t['age', 'mRNASeq__pc1']\tevent_free_survival_5y"
       ]
      },
      {
       "output_type": "stream",
       "stream": "stdout",
       "text": [
        "\n",
        "run_survival\t/scratch/TCGA/Firehose__2012_01_16/ucsd_analyses/Run_0_1\tPAAD\tmRNASeq\t['age', 'mRNASeq__pc1']\tevent_free_survival_5y"
       ]
      },
      {
       "output_type": "stream",
       "stream": "stdout",
       "text": [
        "\n",
        "run_survival\t/scratch/TCGA/Firehose__2012_01_16/ucsd_analyses/Run_0_1\tPRAD\tmRNASeq\t['age', 'mRNASeq__pc1']\tevent_free_survival_5y"
       ]
      },
      {
       "output_type": "stream",
       "stream": "stdout",
       "text": [
        "\n",
        "run_survival\t/scratch/TCGA/Firehose__2012_01_16/ucsd_analyses/Run_0_1\tSARC\tmRNASeq\t['age', 'mRNASeq__pc1']\tevent_free_survival_5y"
       ]
      },
      {
       "output_type": "stream",
       "stream": "stdout",
       "text": [
        "\n",
        "run_survival\t/scratch/TCGA/Firehose__2012_01_16/ucsd_analyses/Run_0_1\tSKCM\tmRNASeq\t['age', 'mRNASeq__pc1']\tevent_free_survival_5y"
       ]
      },
      {
       "output_type": "stream",
       "stream": "stdout",
       "text": [
        "\n",
        "run_survival\t/scratch/TCGA/Firehose__2012_01_16/ucsd_analyses/Run_0_1\tSTAD\tmRNASeq\t['age', 'mRNASeq__pc1']\tevent_free_survival_5y"
       ]
      },
      {
       "output_type": "stream",
       "stream": "stdout",
       "text": [
        "\n",
        "run_survival\t/scratch/TCGA/Firehose__2012_01_16/ucsd_analyses/Run_0_1\tTHCA\tmRNASeq\t['age', 'mRNASeq__pc1']\tevent_free_survival_5y"
       ]
      },
      {
       "output_type": "stream",
       "stream": "stdout",
       "text": [
        "\n",
        "run_survival\t/scratch/TCGA/Firehose__2012_01_16/ucsd_analyses/Run_0_1\tUCEC\tmRNASeq\t['age', 'mRNASeq__pc1']\tevent_free_survival_5y"
       ]
      },
      {
       "output_type": "stream",
       "stream": "stdout",
       "text": [
        "\n"
       ]
      }
     ],
     "prompt_number": 25
    },
    {
     "cell_type": "code",
     "collapsed": false,
     "input": [],
     "language": "python",
     "metadata": {},
     "outputs": []
    }
   ],
   "metadata": {}
  }
 ]
}