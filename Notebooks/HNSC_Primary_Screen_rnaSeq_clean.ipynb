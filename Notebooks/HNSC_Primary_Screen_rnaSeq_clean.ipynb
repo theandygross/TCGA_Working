{
 "metadata": {
  "name": "HNSC_Primary_Screen_rnaSeq_clean"
 },
 "nbformat": 3,
 "nbformat_minor": 0,
 "worksheets": [
  {
   "cells": [
    {
     "cell_type": "markdown",
     "metadata": {},
     "source": [
      "#RNA Sequencing Screen"
     ]
    },
    {
     "cell_type": "code",
     "collapsed": false,
     "input": [
      "cd ../src"
     ],
     "language": "python",
     "metadata": {},
     "outputs": [
      {
       "output_type": "stream",
       "stream": "stdout",
       "text": [
        "/cellar/users/agross/TCGA_Code/TCGA/Pathway_Merge/src\n"
       ]
      }
     ],
     "prompt_number": 1
    },
    {
     "cell_type": "code",
     "collapsed": false,
     "input": [
      "from Processing.Imports import *"
     ],
     "language": "python",
     "metadata": {},
     "outputs": [],
     "prompt_number": 2
    },
    {
     "cell_type": "markdown",
     "metadata": {},
     "source": [
      "##Load Firehose Run"
     ]
    },
    {
     "cell_type": "code",
     "collapsed": false,
     "input": [
      "run = get_run('/cellar/data/TCGA/Firehose__2013_04_21/', 'Run_all')\n",
      "\n",
      "cancer = run.load_cancer('HNSC')\n",
      "clinical = cancer.load_clinical()\n",
      "global_vars = cancer.load_global_vars()\n",
      "\n",
      "mut = cancer.load_data('Mutation')\n",
      "mut.uncompress()\n",
      "meth = cancer.load_data('Methylation')\n",
      "cn = cancer.load_data('CN_broad')\n",
      "cn.uncompress()\n",
      "rna = cancer.load_data('mRNASeq')\n",
      "rppa  = cancer.load_data('RPPA')\n",
      "mirna = cancer.load_data('miRNASeq')\n",
      "age = clinical.clinical.age.astype(float)\n",
      "\n",
      "hpv_all = pd.read_csv('/cellar/users/agross/hpv_summary_3_20_13_distribute.csv', index_col=0)\n",
      "hpv = hpv_all.Molecular_HPV.map({0:'HPV-', 1:'HPV+'})\n",
      "hpv.name = 'HPV'"
     ],
     "language": "python",
     "metadata": {},
     "outputs": [],
     "prompt_number": 3
    },
    {
     "cell_type": "code",
     "collapsed": false,
     "input": [
      "from Data.ProcessClinical import format_survival_from_data_portal\n",
      "path  = '/cellar/users/agross/Data/TCGA/HNSC_Followup/'\n",
      "survival, timeline = format_survival_from_data_portal(path, cancer.name)\n",
      "clinical.survival = survival\n",
      "clinical.artificially_censor(5)\n",
      "age = timeline.age"
     ],
     "language": "python",
     "metadata": {},
     "outputs": [],
     "prompt_number": 4
    },
    {
     "cell_type": "code",
     "collapsed": false,
     "input": [
      "filters = pd.concat([age>85, hpv=='HPV+'], axis=1)\n",
      "clinical_filter = filters.sum(1) == 0\n",
      "keepers = true_index(clinical_filter)"
     ],
     "language": "python",
     "metadata": {},
     "outputs": [],
     "prompt_number": 5
    },
    {
     "cell_type": "code",
     "collapsed": false,
     "input": [
      "surv = clinical.survival.survival_5y"
     ],
     "language": "python",
     "metadata": {},
     "outputs": [],
     "prompt_number": 6
    },
    {
     "cell_type": "code",
     "collapsed": false,
     "input": [
      "from Initialization.InitializeReal import RealDataset\n",
      "rna = RealDataset(run, cancer, 'mRNASeq', keepers)"
     ],
     "language": "python",
     "metadata": {},
     "outputs": [],
     "prompt_number": 7
    },
    {
     "cell_type": "markdown",
     "metadata": {},
     "source": [
      "###Run Expression Data"
     ]
    },
    {
     "cell_type": "code",
     "collapsed": false,
     "input": [
      "rr = cox_screen(rna.features, surv)"
     ],
     "language": "python",
     "metadata": {},
     "outputs": [],
     "prompt_number": 9
    },
    {
     "cell_type": "code",
     "collapsed": false,
     "input": [
      "rr.head()"
     ],
     "language": "python",
     "metadata": {},
     "outputs": [
      {
       "html": [
        "<div style=\"max-height:1000px;max-width:1500px;overflow:auto;\">\n",
        "<table border=\"1\" class=\"dataframe\">\n",
        "  <thead>\n",
        "    <tr style=\"text-align: right;\">\n",
        "      <th></th>\n",
        "      <th>LR</th>\n",
        "      <th>p</th>\n",
        "      <th>q</th>\n",
        "    </tr>\n",
        "  </thead>\n",
        "  <tbody>\n",
        "    <tr>\n",
        "      <th>BIOCARTA_BARRESTIN_SRC_PATHWAY</th>\n",
        "      <td> 19.65</td>\n",
        "      <td> 9.29e-06</td>\n",
        "      <td> 0.00</td>\n",
        "    </tr>\n",
        "    <tr>\n",
        "      <th>BIOCARTA_BARR_MAPK_PATHWAY</th>\n",
        "      <td> 19.60</td>\n",
        "      <td> 9.56e-06</td>\n",
        "      <td> 0.00</td>\n",
        "    </tr>\n",
        "    <tr>\n",
        "      <th>BIOCARTA_GPCR_PATHWAY</th>\n",
        "      <td> 18.21</td>\n",
        "      <td> 1.98e-05</td>\n",
        "      <td> 0.01</td>\n",
        "    </tr>\n",
        "    <tr>\n",
        "      <th>REACTOME_VIRAL_MESSENGER_RNA_SYNTHESIS</th>\n",
        "      <td> 17.04</td>\n",
        "      <td> 3.67e-05</td>\n",
        "      <td> 0.01</td>\n",
        "    </tr>\n",
        "    <tr>\n",
        "      <th>BIOCARTA_CERAMIDE_PATHWAY</th>\n",
        "      <td> 16.86</td>\n",
        "      <td> 4.03e-05</td>\n",
        "      <td> 0.01</td>\n",
        "    </tr>\n",
        "  </tbody>\n",
        "</table>\n",
        "</div>"
       ],
       "output_type": "pyout",
       "prompt_number": 10,
       "text": [
        "                                           LR         p     q\n",
        "BIOCARTA_BARRESTIN_SRC_PATHWAY          19.65  9.29e-06  0.00\n",
        "BIOCARTA_BARR_MAPK_PATHWAY              19.60  9.56e-06  0.00\n",
        "BIOCARTA_GPCR_PATHWAY                   18.21  1.98e-05  0.01\n",
        "REACTOME_VIRAL_MESSENGER_RNA_SYNTHESIS  17.04  3.67e-05  0.01\n",
        "BIOCARTA_CERAMIDE_PATHWAY               16.86  4.03e-05  0.01"
       ]
      }
     ],
     "prompt_number": 10
    },
    {
     "cell_type": "markdown",
     "metadata": {},
     "source": [
      "##Identify infomative single gene features"
     ]
    },
    {
     "cell_type": "code",
     "collapsed": false,
     "input": [
      "exp_change = lambda s: anova(pd.Series(s.index.get_level_values(1), s.index), s)\n",
      "var_change = lambda s: bartlett_pandas(pd.Series(s.index.get_level_values(1), s.index), s)"
     ],
     "language": "python",
     "metadata": {},
     "outputs": [],
     "prompt_number": 11
    },
    {
     "cell_type": "code",
     "collapsed": false,
     "input": [
      "df = rna.df\n",
      "has_data = ((df.T.xs('01', level=1).T < -1).sum(1)) < (df.T.groupby(level=1).size()['01'] - 10)\n",
      "df = df.ix[has_data]\n",
      "df = df[df.T.xs('01', level=1).std() > .25]\n",
      "\n",
      "ch = df.apply(exp_change, 1)\n",
      "singles = df.ix[true_index(bhCorrection(ch.p) < .01)]\n",
      "\n",
      "#ss = singles.apply(var_change, 1)\n",
      "#singles = singles.ix[true_index(bhCorrection(ss.p) < .1)]\n",
      "singles = singles.T.xs('01', level=1).T"
     ],
     "language": "python",
     "metadata": {},
     "outputs": [],
     "prompt_number": 482
    },
    {
     "cell_type": "markdown",
     "metadata": {},
     "source": [
      "##Construct background from uninformative features"
     ]
    },
    {
     "cell_type": "code",
     "collapsed": false,
     "input": [
      "df = rna.df.xs('01', level=1, axis=1)\n",
      "df = df.ix[df.index.diff(singles.index)]\n",
      "df = df.dropna(axis=1)\n",
      "df = ((df.T - df.mean(1)) / df.std(1)).T\n",
      "U, S, pc = frame_svd(df)\n",
      "\n",
      "background = pc[0]\n",
      "pc.ix[:,:5].apply(cox, args=(surv,)).T"
     ],
     "language": "python",
     "metadata": {},
     "outputs": [
      {
       "html": [
        "<div style=\"max-height:1000px;max-width:1500px;overflow:auto;\">\n",
        "<table border=\"1\" class=\"dataframe\">\n",
        "  <thead>\n",
        "    <tr style=\"text-align: right;\">\n",
        "      <th></th>\n",
        "      <th>LR</th>\n",
        "      <th>p</th>\n",
        "    </tr>\n",
        "  </thead>\n",
        "  <tbody>\n",
        "    <tr>\n",
        "      <th>0</th>\n",
        "      <td> 0.20</td>\n",
        "      <td> 0.66</td>\n",
        "    </tr>\n",
        "    <tr>\n",
        "      <th>1</th>\n",
        "      <td> 4.04</td>\n",
        "      <td> 0.04</td>\n",
        "    </tr>\n",
        "    <tr>\n",
        "      <th>2</th>\n",
        "      <td> 1.00</td>\n",
        "      <td> 0.32</td>\n",
        "    </tr>\n",
        "    <tr>\n",
        "      <th>3</th>\n",
        "      <td> 3.75</td>\n",
        "      <td> 0.05</td>\n",
        "    </tr>\n",
        "    <tr>\n",
        "      <th>4</th>\n",
        "      <td> 3.49</td>\n",
        "      <td> 0.06</td>\n",
        "    </tr>\n",
        "    <tr>\n",
        "      <th>5</th>\n",
        "      <td> 0.26</td>\n",
        "      <td> 0.61</td>\n",
        "    </tr>\n",
        "  </tbody>\n",
        "</table>\n",
        "</div>"
       ],
       "output_type": "pyout",
       "prompt_number": 483,
       "text": [
        "     LR     p\n",
        "0  0.20  0.66\n",
        "1  4.04  0.04\n",
        "2  1.00  0.32\n",
        "3  3.75  0.05\n",
        "4  3.49  0.06\n",
        "5  0.26  0.61"
       ]
      }
     ],
     "prompt_number": 483
    },
    {
     "cell_type": "code",
     "collapsed": false,
     "input": [
      "ss = screen_feature(background, pearson_pandas, singles)\n",
      "s2 = ss.ix[ss.p > 10e-5]\n",
      "singles = singles.ix[s2.index]"
     ],
     "language": "python",
     "metadata": {},
     "outputs": [],
     "prompt_number": 484
    },
    {
     "cell_type": "code",
     "collapsed": false,
     "input": [
      "df = rna.df.xs('01', level=1, axis=1)\n",
      "df = df.ix[df.index.diff(singles.index)]\n",
      "df = df.dropna(axis=1)\n",
      "df = ((df.T - df.mean(1)) / df.std(1)).T\n",
      "U, S, pc = frame_svd(df)\n",
      "\n",
      "background = pc[0]\n",
      "pc.ix[:,:5].apply(cox, args=(surv,)).T"
     ],
     "language": "python",
     "metadata": {},
     "outputs": [
      {
       "html": [
        "<div style=\"max-height:1000px;max-width:1500px;overflow:auto;\">\n",
        "<table border=\"1\" class=\"dataframe\">\n",
        "  <thead>\n",
        "    <tr style=\"text-align: right;\">\n",
        "      <th></th>\n",
        "      <th>LR</th>\n",
        "      <th>p</th>\n",
        "    </tr>\n",
        "  </thead>\n",
        "  <tbody>\n",
        "    <tr>\n",
        "      <th>0</th>\n",
        "      <td> 0.20</td>\n",
        "      <td> 0.66</td>\n",
        "    </tr>\n",
        "    <tr>\n",
        "      <th>1</th>\n",
        "      <td> 3.50</td>\n",
        "      <td> 0.06</td>\n",
        "    </tr>\n",
        "    <tr>\n",
        "      <th>2</th>\n",
        "      <td> 3.10</td>\n",
        "      <td> 0.08</td>\n",
        "    </tr>\n",
        "    <tr>\n",
        "      <th>3</th>\n",
        "      <td> 3.42</td>\n",
        "      <td> 0.06</td>\n",
        "    </tr>\n",
        "    <tr>\n",
        "      <th>4</th>\n",
        "      <td> 4.15</td>\n",
        "      <td> 0.04</td>\n",
        "    </tr>\n",
        "    <tr>\n",
        "      <th>5</th>\n",
        "      <td> 0.12</td>\n",
        "      <td> 0.72</td>\n",
        "    </tr>\n",
        "  </tbody>\n",
        "</table>\n",
        "</div>"
       ],
       "output_type": "pyout",
       "prompt_number": 506,
       "text": [
        "     LR     p\n",
        "0  0.20  0.66\n",
        "1  3.50  0.06\n",
        "2  3.10  0.08\n",
        "3  3.42  0.06\n",
        "4  4.15  0.04\n",
        "5  0.12  0.72"
       ]
      }
     ],
     "prompt_number": 506
    },
    {
     "cell_type": "code",
     "collapsed": false,
     "input": [
      "bg = df.index.diff(singles.index)"
     ],
     "language": "python",
     "metadata": {},
     "outputs": [],
     "prompt_number": 509
    },
    {
     "cell_type": "code",
     "collapsed": false,
     "input": [
      "U.ix[:,:2].to_csv('bg')"
     ],
     "language": "python",
     "metadata": {},
     "outputs": [],
     "prompt_number": 517
    },
    {
     "cell_type": "markdown",
     "metadata": {},
     "source": [
      "##Explore effects of informative genes"
     ]
    },
    {
     "cell_type": "code",
     "collapsed": false,
     "input": [
      "ss = screen_feature(background, pearson_pandas, singles)\n",
      "s2 = ss.ix[ss.p > 10e-5]\n",
      "singles = singles.ix[s2.index]"
     ],
     "language": "python",
     "metadata": {},
     "outputs": [],
     "prompt_number": 486
    },
    {
     "cell_type": "code",
     "collapsed": false,
     "input": [
      "df = singles\n",
      "df = df.dropna(axis=1)\n",
      "df = ((df.T - df.mean(1)) / df.std(1)).T\n",
      "U, S, pc = frame_svd(df)\n",
      "\n",
      "pc.ix[:,:5].apply(cox, args=(surv,)).T"
     ],
     "language": "python",
     "metadata": {},
     "outputs": [
      {
       "html": [
        "<div style=\"max-height:1000px;max-width:1500px;overflow:auto;\">\n",
        "<table border=\"1\" class=\"dataframe\">\n",
        "  <thead>\n",
        "    <tr style=\"text-align: right;\">\n",
        "      <th></th>\n",
        "      <th>LR</th>\n",
        "      <th>p</th>\n",
        "    </tr>\n",
        "  </thead>\n",
        "  <tbody>\n",
        "    <tr>\n",
        "      <th>0</th>\n",
        "      <td> 6.59</td>\n",
        "      <td> 0.01</td>\n",
        "    </tr>\n",
        "    <tr>\n",
        "      <th>1</th>\n",
        "      <td> 6.76</td>\n",
        "      <td> 0.01</td>\n",
        "    </tr>\n",
        "    <tr>\n",
        "      <th>2</th>\n",
        "      <td> 0.03</td>\n",
        "      <td> 0.87</td>\n",
        "    </tr>\n",
        "    <tr>\n",
        "      <th>3</th>\n",
        "      <td> 0.58</td>\n",
        "      <td> 0.44</td>\n",
        "    </tr>\n",
        "    <tr>\n",
        "      <th>4</th>\n",
        "      <td> 1.87</td>\n",
        "      <td> 0.17</td>\n",
        "    </tr>\n",
        "    <tr>\n",
        "      <th>5</th>\n",
        "      <td> 2.91</td>\n",
        "      <td> 0.09</td>\n",
        "    </tr>\n",
        "  </tbody>\n",
        "</table>\n",
        "</div>"
       ],
       "output_type": "pyout",
       "prompt_number": 487,
       "text": [
        "     LR     p\n",
        "0  6.59  0.01\n",
        "1  6.76  0.01\n",
        "2  0.03  0.87\n",
        "3  0.58  0.44\n",
        "4  1.87  0.17\n",
        "5  2.91  0.09"
       ]
      }
     ],
     "prompt_number": 487
    },
    {
     "cell_type": "code",
     "collapsed": false,
     "input": [
      "screen_feature(pc[0], spearman_pandas, rna.features).head(3)"
     ],
     "language": "python",
     "metadata": {},
     "outputs": [
      {
       "html": [
        "<div style=\"max-height:1000px;max-width:1500px;overflow:auto;\">\n",
        "<table border=\"1\" class=\"dataframe\">\n",
        "  <thead>\n",
        "    <tr style=\"text-align: right;\">\n",
        "      <th></th>\n",
        "      <th>rho</th>\n",
        "      <th>p</th>\n",
        "      <th>q</th>\n",
        "    </tr>\n",
        "  </thead>\n",
        "  <tbody>\n",
        "    <tr>\n",
        "      <th>REACTOME_TRANSCRIPTION_COUPLED_NER</th>\n",
        "      <td> 0.84</td>\n",
        "      <td> 2.07e-72</td>\n",
        "      <td> 1.72e-69</td>\n",
        "    </tr>\n",
        "    <tr>\n",
        "      <th>KEGG_MISMATCH_REPAIR</th>\n",
        "      <td> 0.83</td>\n",
        "      <td> 4.72e-69</td>\n",
        "      <td> 1.96e-66</td>\n",
        "    </tr>\n",
        "    <tr>\n",
        "      <th>REACTOME_NUCLEOTIDE_EXCISION_REPAIR</th>\n",
        "      <td> 0.82</td>\n",
        "      <td> 5.41e-64</td>\n",
        "      <td> 1.50e-61</td>\n",
        "    </tr>\n",
        "  </tbody>\n",
        "</table>\n",
        "</div>"
       ],
       "output_type": "pyout",
       "prompt_number": 488,
       "text": [
        "                                      rho         p         q\n",
        "REACTOME_TRANSCRIPTION_COUPLED_NER   0.84  2.07e-72  1.72e-69\n",
        "KEGG_MISMATCH_REPAIR                 0.83  4.72e-69  1.96e-66\n",
        "REACTOME_NUCLEOTIDE_EXCISION_REPAIR  0.82  5.41e-64  1.50e-61"
       ]
      }
     ],
     "prompt_number": 488
    },
    {
     "cell_type": "code",
     "collapsed": false,
     "input": [
      "screen_feature(pc[0], tt, mut.features).head(3)"
     ],
     "language": "python",
     "metadata": {},
     "outputs": [
      {
       "html": [
        "<div style=\"max-height:1000px;max-width:1500px;overflow:auto;\">\n",
        "<table border=\"1\" class=\"dataframe\">\n",
        "  <thead>\n",
        "    <tr style=\"text-align: right;\">\n",
        "      <th></th>\n",
        "      <th>H</th>\n",
        "      <th>p</th>\n",
        "      <th>q</th>\n",
        "    </tr>\n",
        "  </thead>\n",
        "  <tbody>\n",
        "    <tr>\n",
        "      <th>KEGG_LYSINE_DEGRADATION</th>\n",
        "      <td> 21.43</td>\n",
        "      <td> 3.66e-06</td>\n",
        "      <td> 0.00</td>\n",
        "    </tr>\n",
        "    <tr>\n",
        "      <th>NSD1</th>\n",
        "      <td> 19.74</td>\n",
        "      <td> 8.88e-06</td>\n",
        "      <td> 0.00</td>\n",
        "    </tr>\n",
        "    <tr>\n",
        "      <th>KEGG_HEMATOPOIETIC_CELL_LINEAGE</th>\n",
        "      <td> 18.18</td>\n",
        "      <td> 2.01e-05</td>\n",
        "      <td> 0.01</td>\n",
        "    </tr>\n",
        "  </tbody>\n",
        "</table>\n",
        "</div>"
       ],
       "output_type": "pyout",
       "prompt_number": 489,
       "text": [
        "                                     H         p     q\n",
        "KEGG_LYSINE_DEGRADATION          21.43  3.66e-06  0.00\n",
        "NSD1                             19.74  8.88e-06  0.00\n",
        "KEGG_HEMATOPOIETIC_CELL_LINEAGE  18.18  2.01e-05  0.01"
       ]
      }
     ],
     "prompt_number": 489
    },
    {
     "cell_type": "code",
     "collapsed": false,
     "input": [
      "screen_feature(pc[1], spearman_pandas, rna.features).head(3)"
     ],
     "language": "python",
     "metadata": {},
     "outputs": [
      {
       "html": [
        "<div style=\"max-height:1000px;max-width:1500px;overflow:auto;\">\n",
        "<table border=\"1\" class=\"dataframe\">\n",
        "  <thead>\n",
        "    <tr style=\"text-align: right;\">\n",
        "      <th></th>\n",
        "      <th>rho</th>\n",
        "      <th>p</th>\n",
        "      <th>q</th>\n",
        "    </tr>\n",
        "  </thead>\n",
        "  <tbody>\n",
        "    <tr>\n",
        "      <th>KEGG_LEUKOCYTE_TRANSENDOTHELIAL_MIGRATION</th>\n",
        "      <td>-0.84</td>\n",
        "      <td> 1.95e-72</td>\n",
        "      <td> 1.62e-69</td>\n",
        "    </tr>\n",
        "    <tr>\n",
        "      <th>REACTOME_SIGNALING_IN_IMMUNE_SYSTEM</th>\n",
        "      <td>-0.81</td>\n",
        "      <td> 1.28e-62</td>\n",
        "      <td> 5.33e-60</td>\n",
        "    </tr>\n",
        "    <tr>\n",
        "      <th>REACTOME_AXON_GUIDANCE</th>\n",
        "      <td>-0.81</td>\n",
        "      <td> 3.58e-61</td>\n",
        "      <td> 9.94e-59</td>\n",
        "    </tr>\n",
        "  </tbody>\n",
        "</table>\n",
        "</div>"
       ],
       "output_type": "pyout",
       "prompt_number": 490,
       "text": [
        "                                            rho         p         q\n",
        "KEGG_LEUKOCYTE_TRANSENDOTHELIAL_MIGRATION -0.84  1.95e-72  1.62e-69\n",
        "REACTOME_SIGNALING_IN_IMMUNE_SYSTEM       -0.81  1.28e-62  5.33e-60\n",
        "REACTOME_AXON_GUIDANCE                    -0.81  3.58e-61  9.94e-59"
       ]
      }
     ],
     "prompt_number": 490
    },
    {
     "cell_type": "code",
     "collapsed": false,
     "input": [
      "screen_feature(pc[1], spearman_pandas, mut.features).head(3)"
     ],
     "language": "python",
     "metadata": {},
     "outputs": [
      {
       "html": [
        "<div style=\"max-height:1000px;max-width:1500px;overflow:auto;\">\n",
        "<table border=\"1\" class=\"dataframe\">\n",
        "  <thead>\n",
        "    <tr style=\"text-align: right;\">\n",
        "      <th></th>\n",
        "      <th>rho</th>\n",
        "      <th>p</th>\n",
        "      <th>q</th>\n",
        "    </tr>\n",
        "  </thead>\n",
        "  <tbody>\n",
        "    <tr>\n",
        "      <th>BIOCARTA_EDG1_PATHWAY</th>\n",
        "      <td> 0.30</td>\n",
        "      <td> 1.00e-06</td>\n",
        "      <td> 4.98e-04</td>\n",
        "    </tr>\n",
        "    <tr>\n",
        "      <th>REACTOME_CELL_SURFACE_INTERACTIONS_AT_THE_VASCULAR_WALL</th>\n",
        "      <td> 0.30</td>\n",
        "      <td> 1.11e-06</td>\n",
        "      <td> 4.98e-04</td>\n",
        "    </tr>\n",
        "    <tr>\n",
        "      <th>KEGG_NATURAL_KILLER_CELL_MEDIATED_CYTOTOXICITY</th>\n",
        "      <td> 0.29</td>\n",
        "      <td> 1.51e-06</td>\n",
        "      <td> 4.98e-04</td>\n",
        "    </tr>\n",
        "  </tbody>\n",
        "</table>\n",
        "</div>"
       ],
       "output_type": "pyout",
       "prompt_number": 491,
       "text": [
        "                                                          rho         p         q\n",
        "BIOCARTA_EDG1_PATHWAY                                    0.30  1.00e-06  4.98e-04\n",
        "REACTOME_CELL_SURFACE_INTERACTIONS_AT_THE_VASCULAR_WALL  0.30  1.11e-06  4.98e-04\n",
        "KEGG_NATURAL_KILLER_CELL_MEDIATED_CYTOTOXICITY           0.29  1.51e-06  4.98e-04"
       ]
      }
     ],
     "prompt_number": 491
    },
    {
     "cell_type": "code",
     "collapsed": false,
     "input": [
      "cox_screen(singles.ix[s2.index], surv).head()"
     ],
     "language": "python",
     "metadata": {},
     "outputs": [
      {
       "html": [
        "<div style=\"max-height:1000px;max-width:1500px;overflow:auto;\">\n",
        "<table border=\"1\" class=\"dataframe\">\n",
        "  <thead>\n",
        "    <tr style=\"text-align: right;\">\n",
        "      <th></th>\n",
        "      <th>LR</th>\n",
        "      <th>p</th>\n",
        "      <th>q</th>\n",
        "    </tr>\n",
        "  </thead>\n",
        "  <tbody>\n",
        "    <tr>\n",
        "      <th>C10orf35</th>\n",
        "      <td> 19.89</td>\n",
        "      <td> 8.22e-06</td>\n",
        "      <td> 0.04</td>\n",
        "    </tr>\n",
        "    <tr>\n",
        "      <th>P4HA1</th>\n",
        "      <td> 16.94</td>\n",
        "      <td> 3.87e-05</td>\n",
        "      <td> 0.05</td>\n",
        "    </tr>\n",
        "    <tr>\n",
        "      <th>PRELID2</th>\n",
        "      <td> 16.63</td>\n",
        "      <td> 4.55e-05</td>\n",
        "      <td> 0.05</td>\n",
        "    </tr>\n",
        "    <tr>\n",
        "      <th>C15orf23</th>\n",
        "      <td> 16.28</td>\n",
        "      <td> 5.45e-05</td>\n",
        "      <td> 0.05</td>\n",
        "    </tr>\n",
        "    <tr>\n",
        "      <th>C4orf34</th>\n",
        "      <td> 15.94</td>\n",
        "      <td> 6.55e-05</td>\n",
        "      <td> 0.05</td>\n",
        "    </tr>\n",
        "  </tbody>\n",
        "</table>\n",
        "</div>"
       ],
       "output_type": "pyout",
       "prompt_number": 492,
       "text": [
        "             LR         p     q\n",
        "C10orf35  19.89  8.22e-06  0.04\n",
        "P4HA1     16.94  3.87e-05  0.05\n",
        "PRELID2   16.63  4.55e-05  0.05\n",
        "C15orf23  16.28  5.45e-05  0.05\n",
        "C4orf34   15.94  6.55e-05  0.05"
       ]
      }
     ],
     "prompt_number": 492
    },
    {
     "cell_type": "code",
     "collapsed": false,
     "input": [
      "draw_survival_curves(singles.ix['P4HA1'], surv, show=True)"
     ],
     "language": "python",
     "metadata": {},
     "outputs": [
      {
       "html": [
        "<img src='data:image/png;base64,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'>"
       ],
       "output_type": "pyout",
       "prompt_number": 494,
       "text": [
        "<Reports.NotebookTools.Show at 0xb5f1190>"
       ]
      }
     ],
     "prompt_number": 494
    },
    {
     "cell_type": "markdown",
     "metadata": {},
     "source": [
      "##Look for signals in pathways \n",
      "* first filter meta-genes that look like the background"
     ]
    },
    {
     "cell_type": "code",
     "collapsed": false,
     "input": [
      "r = screen_feature(background, pearson_pandas, rna.features)\n",
      "features = rna.features.ix[r.p > .01]\n",
      "df = features.dropna(axis=1)\n",
      "df = ((df.T - df.mean(1)) / df.std(1)).T\n",
      "U, S, pc = frame_svd(df)\n",
      "\n",
      "pc.ix[:,:5].apply(cox, args=(surv,)).T"
     ],
     "language": "python",
     "metadata": {},
     "outputs": [
      {
       "html": [
        "<div style=\"max-height:1000px;max-width:1500px;overflow:auto;\">\n",
        "<table border=\"1\" class=\"dataframe\">\n",
        "  <thead>\n",
        "    <tr style=\"text-align: right;\">\n",
        "      <th></th>\n",
        "      <th>LR</th>\n",
        "      <th>p</th>\n",
        "    </tr>\n",
        "  </thead>\n",
        "  <tbody>\n",
        "    <tr>\n",
        "      <th>0</th>\n",
        "      <td> 14.96</td>\n",
        "      <td> 1.10e-04</td>\n",
        "    </tr>\n",
        "    <tr>\n",
        "      <th>1</th>\n",
        "      <td>  0.19</td>\n",
        "      <td> 6.64e-01</td>\n",
        "    </tr>\n",
        "    <tr>\n",
        "      <th>2</th>\n",
        "      <td>  2.23</td>\n",
        "      <td> 1.35e-01</td>\n",
        "    </tr>\n",
        "    <tr>\n",
        "      <th>3</th>\n",
        "      <td>  2.05</td>\n",
        "      <td> 1.53e-01</td>\n",
        "    </tr>\n",
        "    <tr>\n",
        "      <th>4</th>\n",
        "      <td>  0.05</td>\n",
        "      <td> 8.16e-01</td>\n",
        "    </tr>\n",
        "    <tr>\n",
        "      <th>5</th>\n",
        "      <td>  1.09</td>\n",
        "      <td> 2.97e-01</td>\n",
        "    </tr>\n",
        "  </tbody>\n",
        "</table>\n",
        "</div>"
       ],
       "output_type": "pyout",
       "prompt_number": 495,
       "text": [
        "      LR         p\n",
        "0  14.96  1.10e-04\n",
        "1   0.19  6.64e-01\n",
        "2   2.23  1.35e-01\n",
        "3   2.05  1.53e-01\n",
        "4   0.05  8.16e-01\n",
        "5   1.09  2.97e-01"
       ]
      }
     ],
     "prompt_number": 495
    },
    {
     "cell_type": "code",
     "collapsed": false,
     "input": [
      "screen_feature(pc[0], pearson_pandas, singles).head()"
     ],
     "language": "python",
     "metadata": {},
     "outputs": [
      {
       "html": [
        "<div style=\"max-height:1000px;max-width:1500px;overflow:auto;\">\n",
        "<table border=\"1\" class=\"dataframe\">\n",
        "  <thead>\n",
        "    <tr style=\"text-align: right;\">\n",
        "      <th></th>\n",
        "      <th>rho</th>\n",
        "      <th>p</th>\n",
        "      <th>q</th>\n",
        "    </tr>\n",
        "  </thead>\n",
        "  <tbody>\n",
        "    <tr>\n",
        "      <th>CDCA5</th>\n",
        "      <td> 0.66</td>\n",
        "      <td> 1.20e-34</td>\n",
        "      <td> 5.43e-31</td>\n",
        "    </tr>\n",
        "    <tr>\n",
        "      <th>ORC6L</th>\n",
        "      <td> 0.66</td>\n",
        "      <td> 6.85e-34</td>\n",
        "      <td> 1.55e-30</td>\n",
        "    </tr>\n",
        "    <tr>\n",
        "      <th>TPX2</th>\n",
        "      <td> 0.65</td>\n",
        "      <td> 7.91e-33</td>\n",
        "      <td> 1.19e-29</td>\n",
        "    </tr>\n",
        "    <tr>\n",
        "      <th>AURKAPS1</th>\n",
        "      <td> 0.65</td>\n",
        "      <td> 2.38e-32</td>\n",
        "      <td> 2.70e-29</td>\n",
        "    </tr>\n",
        "    <tr>\n",
        "      <th>KIF14</th>\n",
        "      <td> 0.64</td>\n",
        "      <td> 2.39e-31</td>\n",
        "      <td> 2.17e-28</td>\n",
        "    </tr>\n",
        "  </tbody>\n",
        "</table>\n",
        "</div>"
       ],
       "output_type": "pyout",
       "prompt_number": 496,
       "text": [
        "           rho         p         q\n",
        "CDCA5     0.66  1.20e-34  5.43e-31\n",
        "ORC6L     0.66  6.85e-34  1.55e-30\n",
        "TPX2      0.65  7.91e-33  1.19e-29\n",
        "AURKAPS1  0.65  2.38e-32  2.70e-29\n",
        "KIF14     0.64  2.39e-31  2.17e-28"
       ]
      }
     ],
     "prompt_number": 496
    },
    {
     "cell_type": "code",
     "collapsed": false,
     "input": [
      "screen_feature(pc[0], tt, mut.features).head()"
     ],
     "language": "python",
     "metadata": {},
     "outputs": [
      {
       "html": [
        "<div style=\"max-height:1000px;max-width:1500px;overflow:auto;\">\n",
        "<table border=\"1\" class=\"dataframe\">\n",
        "  <thead>\n",
        "    <tr style=\"text-align: right;\">\n",
        "      <th></th>\n",
        "      <th>H</th>\n",
        "      <th>p</th>\n",
        "      <th>q</th>\n",
        "    </tr>\n",
        "  </thead>\n",
        "  <tbody>\n",
        "    <tr>\n",
        "      <th>REACTOME_SHC_RELATED_EVENTS</th>\n",
        "      <td> 19.31</td>\n",
        "      <td> 1.11e-05</td>\n",
        "      <td> 0.01</td>\n",
        "    </tr>\n",
        "    <tr>\n",
        "      <th>REACTOME_SOS_MEDIATED_SIGNALLING</th>\n",
        "      <td> 19.02</td>\n",
        "      <td> 1.29e-05</td>\n",
        "      <td> 0.01</td>\n",
        "    </tr>\n",
        "    <tr>\n",
        "      <th>REACTOME_SHC_MEDIATED_SIGNALLING</th>\n",
        "      <td> 17.62</td>\n",
        "      <td> 2.70e-05</td>\n",
        "      <td> 0.01</td>\n",
        "    </tr>\n",
        "    <tr>\n",
        "      <th>BIOCARTA_EPO_PATHWAY</th>\n",
        "      <td> 14.53</td>\n",
        "      <td> 1.38e-04</td>\n",
        "      <td> 0.03</td>\n",
        "    </tr>\n",
        "    <tr>\n",
        "      <th>REACTOME_SIGNALING_BY_EGFR</th>\n",
        "      <td> 14.45</td>\n",
        "      <td> 1.44e-04</td>\n",
        "      <td> 0.03</td>\n",
        "    </tr>\n",
        "  </tbody>\n",
        "</table>\n",
        "</div>"
       ],
       "output_type": "pyout",
       "prompt_number": 497,
       "text": [
        "                                      H         p     q\n",
        "REACTOME_SHC_RELATED_EVENTS       19.31  1.11e-05  0.01\n",
        "REACTOME_SOS_MEDIATED_SIGNALLING  19.02  1.29e-05  0.01\n",
        "REACTOME_SHC_MEDIATED_SIGNALLING  17.62  2.70e-05  0.01\n",
        "BIOCARTA_EPO_PATHWAY              14.53  1.38e-04  0.03\n",
        "REACTOME_SIGNALING_BY_EGFR        14.45  1.44e-04  0.03"
       ]
      }
     ],
     "prompt_number": 497
    },
    {
     "cell_type": "code",
     "collapsed": false,
     "input": [
      "screen_feature(pc[0], tt, cn.features > 0).head(3)"
     ],
     "language": "python",
     "metadata": {},
     "outputs": [
      {
       "html": [
        "<div style=\"max-height:1000px;max-width:1500px;overflow:auto;\">\n",
        "<table border=\"1\" class=\"dataframe\">\n",
        "  <thead>\n",
        "    <tr style=\"text-align: right;\">\n",
        "      <th></th>\n",
        "      <th>H</th>\n",
        "      <th>p</th>\n",
        "      <th>q</th>\n",
        "    </tr>\n",
        "  </thead>\n",
        "  <tbody>\n",
        "    <tr>\n",
        "      <th>(Amplification, 11q13.3, Lesion)</th>\n",
        "      <td> 33.86</td>\n",
        "      <td> 5.94e-09</td>\n",
        "      <td> 4.10e-07</td>\n",
        "    </tr>\n",
        "    <tr>\n",
        "      <th>(Amplification, 3q26.33, Lesion)</th>\n",
        "      <td> 25.33</td>\n",
        "      <td> 4.84e-07</td>\n",
        "      <td> 1.67e-05</td>\n",
        "    </tr>\n",
        "    <tr>\n",
        "      <th>(Amplification, 2q31.2, Lesion)</th>\n",
        "      <td> 14.01</td>\n",
        "      <td> 1.82e-04</td>\n",
        "      <td> 3.01e-03</td>\n",
        "    </tr>\n",
        "  </tbody>\n",
        "</table>\n",
        "</div>"
       ],
       "output_type": "pyout",
       "prompt_number": 498,
       "text": [
        "                                      H         p         q\n",
        "(Amplification, 11q13.3, Lesion)  33.86  5.94e-09  4.10e-07\n",
        "(Amplification, 3q26.33, Lesion)  25.33  4.84e-07  1.67e-05\n",
        "(Amplification, 2q31.2, Lesion)   14.01  1.82e-04  3.01e-03"
       ]
      }
     ],
     "prompt_number": 498
    },
    {
     "cell_type": "code",
     "collapsed": false,
     "input": [
      "screen_feature(pc[0], tt, cn.features < 0).head(3)"
     ],
     "language": "python",
     "metadata": {},
     "outputs": [
      {
       "html": [
        "<div style=\"max-height:1000px;max-width:1500px;overflow:auto;\">\n",
        "<table border=\"1\" class=\"dataframe\">\n",
        "  <thead>\n",
        "    <tr style=\"text-align: right;\">\n",
        "      <th></th>\n",
        "      <th>H</th>\n",
        "      <th>p</th>\n",
        "      <th>q</th>\n",
        "    </tr>\n",
        "  </thead>\n",
        "  <tbody>\n",
        "    <tr>\n",
        "      <th>(Deletion, 3p14.2, Lesion)</th>\n",
        "      <td> 44.34</td>\n",
        "      <td> 2.76e-11</td>\n",
        "      <td> 1.91e-09</td>\n",
        "    </tr>\n",
        "    <tr>\n",
        "      <th>(Deletion, 3p25.3, Lesion)</th>\n",
        "      <td> 40.67</td>\n",
        "      <td> 1.80e-10</td>\n",
        "      <td> 6.22e-09</td>\n",
        "    </tr>\n",
        "    <tr>\n",
        "      <th>(Deletion, 3p12.2, Lesion)</th>\n",
        "      <td> 36.19</td>\n",
        "      <td> 1.79e-09</td>\n",
        "      <td> 4.11e-08</td>\n",
        "    </tr>\n",
        "  </tbody>\n",
        "</table>\n",
        "</div>"
       ],
       "output_type": "pyout",
       "prompt_number": 499,
       "text": [
        "                                H         p         q\n",
        "(Deletion, 3p14.2, Lesion)  44.34  2.76e-11  1.91e-09\n",
        "(Deletion, 3p25.3, Lesion)  40.67  1.80e-10  6.22e-09\n",
        "(Deletion, 3p12.2, Lesion)  36.19  1.79e-09  4.11e-08"
       ]
      }
     ],
     "prompt_number": 499
    },
    {
     "cell_type": "code",
     "collapsed": false,
     "input": [
      "U[0].abs().hist()"
     ],
     "language": "python",
     "metadata": {},
     "outputs": [
      {
       "output_type": "pyout",
       "prompt_number": 503,
       "text": [
        "<matplotlib.axes.AxesSubplot at 0x200d1b50>"
       ]
      },
      {
       "output_type": "display_data",
       "png": "[encoded data removed]"
      }
     ],
     "prompt_number": 503
    },
    {
     "cell_type": "code",
     "collapsed": false,
     "input": [
      "U[0].abs().order().tail()"
     ],
     "language": "python",
     "metadata": {},
     "outputs": [
      {
       "output_type": "pyout",
       "prompt_number": 500,
       "text": [
        "REACTOME_TRANSPORT_OF_MATURE_MRNA_DERIVED_FROM_AN_INTRON_CONTAINING_TRANSCRIPT    0.08\n",
        "REACTOME_LATE_PHASE_OF_HIV_LIFE_CYCLE                           0.08\n",
        "REACTOME_G2_M_TRANSITION                                        0.08\n",
        "KEGG_T_CELL_RECEPTOR_SIGNALING_PATHWAY                          0.08\n",
        "BIOCARTA_RACCYCD_PATHWAY                                        0.08\n",
        "Name: 0, dtype: float64"
       ]
      }
     ],
     "prompt_number": 500
    },
    {
     "cell_type": "code",
     "collapsed": false,
     "input": [
      "pc[0].hist()"
     ],
     "language": "python",
     "metadata": {},
     "outputs": [
      {
       "output_type": "pyout",
       "prompt_number": 415,
       "text": [
        "<matplotlib.axes.AxesSubplot at 0x11416950>"
       ]
      },
      {
       "output_type": "display_data",
       "png": "[encoded data removed]"
      }
     ],
     "prompt_number": 415
    },
    {
     "cell_type": "code",
     "collapsed": false,
     "input": [
      "draw_survival_curves(pc[0], clinical.survival.survival_5y, show=True, show_legend=False, std=.5)"
     ],
     "language": "python",
     "metadata": {},
     "outputs": [
      {
       "html": [
        "<img src='data:image/png;base64,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'>"
       ],
       "output_type": "pyout",
       "prompt_number": 416,
       "text": [
        "<Reports.NotebookTools.Show at 0x14a4da10>"
       ]
      }
     ],
     "prompt_number": 416
    },
    {
     "cell_type": "markdown",
     "metadata": {},
     "source": [
      "##Look for effects in pathways"
     ]
    },
    {
     "cell_type": "code",
     "collapsed": false,
     "input": [
      "pc1 = pd.Series(pc[0], name='pc1')\n",
      "background.name = 'background'\n",
      "cov_df = pd.concat([age, background, pc1], axis=1)\n",
      "test = lambda s: get_cox_ph_ms(surv, s, cov_df, interactions=True)"
     ],
     "language": "python",
     "metadata": {},
     "outputs": [],
     "prompt_number": 417
    },
    {
     "cell_type": "code",
     "collapsed": false,
     "input": [
      "r2 = features.apply(test, 1).sort('LR')"
     ],
     "language": "python",
     "metadata": {},
     "outputs": [],
     "prompt_number": 418
    },
    {
     "cell_type": "code",
     "collapsed": false,
     "input": [
      "rna.loadings['BIOCARTA_BARR_MAPK_PATHWAY'].to_dict()"
     ],
     "language": "python",
     "metadata": {},
     "outputs": [
      {
       "output_type": "pyout",
       "prompt_number": 521,
       "text": [
        "{'ARRB1': 0.33001123176212449,\n",
        " 'DNM1': -0.21174600988544495,\n",
        " 'GNAS': 0.075103361396666318,\n",
        " 'GNB1': -0.46643135170723998,\n",
        " 'GNGT1': -0.38104500381584983,\n",
        " 'MAP2K1': -0.12709077192810503,\n",
        " 'MAP2K2': 0.21096202523483465,\n",
        " 'MAPK3': 0.34791393954292976,\n",
        " 'RAF1': 0.54420680701195878}"
       ]
      }
     ],
     "prompt_number": 521
    },
    {
     "cell_type": "code",
     "collapsed": false,
     "input": [
      "pc1.to_csv('pc1')"
     ],
     "language": "python",
     "metadata": {},
     "outputs": [],
     "prompt_number": 526
    },
    {
     "cell_type": "code",
     "collapsed": false,
     "input": [
      "r2.head()"
     ],
     "language": "python",
     "metadata": {},
     "outputs": [
      {
       "html": [
        "<div style=\"max-height:1000px;max-width:1500px;overflow:auto;\">\n",
        "<table border=\"1\" class=\"dataframe\">\n",
        "  <thead>\n",
        "    <tr style=\"text-align: right;\">\n",
        "      <th></th>\n",
        "      <th>LR</th>\n",
        "      <th>feature_p</th>\n",
        "      <th>fmla</th>\n",
        "      <th>hazzard</th>\n",
        "    </tr>\n",
        "  </thead>\n",
        "  <tbody>\n",
        "    <tr>\n",
        "      <th>SA_G2_AND_M_PHASES</th>\n",
        "      <td> 0.00</td>\n",
        "      <td> 0.17</td>\n",
        "      <td> Surv(days, event) ~ feature + age + pc1 + feat...</td>\n",
        "      <td> 9.55e-04</td>\n",
        "    </tr>\n",
        "    <tr>\n",
        "      <th>BIOCARTA_BARR_MAPK_PATHWAY</th>\n",
        "      <td> 0.01</td>\n",
        "      <td> 0.01</td>\n",
        "      <td> Surv(days, event) ~ feature + age + pc1 + age:...</td>\n",
        "      <td> 2.42e-08</td>\n",
        "    </tr>\n",
        "    <tr>\n",
        "      <th>BIOCARTA_BARRESTIN_SRC_PATHWAY</th>\n",
        "      <td> 0.01</td>\n",
        "      <td> 0.01</td>\n",
        "      <td> Surv(days, event) ~ feature + age + pc1 + age:...</td>\n",
        "      <td> 1.03e-08</td>\n",
        "    </tr>\n",
        "    <tr>\n",
        "      <th>BIOCARTA_IL5_PATHWAY</th>\n",
        "      <td> 0.01</td>\n",
        "      <td> 0.71</td>\n",
        "      <td> Surv(days, event) ~ feature + age + background...</td>\n",
        "      <td> 3.03e-01</td>\n",
        "    </tr>\n",
        "    <tr>\n",
        "      <th>BIOCARTA_ERK_PATHWAY</th>\n",
        "      <td> 0.01</td>\n",
        "      <td> 0.02</td>\n",
        "      <td> Surv(days, event) ~ feature + age + pc1 + feat...</td>\n",
        "      <td> 5.37e+06</td>\n",
        "    </tr>\n",
        "  </tbody>\n",
        "</table>\n",
        "</div>"
       ],
       "output_type": "pyout",
       "prompt_number": 419,
       "text": [
        "                                  LR  feature_p                                               fmla   hazzard\n",
        "SA_G2_AND_M_PHASES              0.00       0.17  Surv(days, event) ~ feature + age + pc1 + feat...  9.55e-04\n",
        "BIOCARTA_BARR_MAPK_PATHWAY      0.01       0.01  Surv(days, event) ~ feature + age + pc1 + age:...  2.42e-08\n",
        "BIOCARTA_BARRESTIN_SRC_PATHWAY  0.01       0.01  Surv(days, event) ~ feature + age + pc1 + age:...  1.03e-08\n",
        "BIOCARTA_IL5_PATHWAY            0.01       0.71  Surv(days, event) ~ feature + age + background...  3.03e-01\n",
        "BIOCARTA_ERK_PATHWAY            0.01       0.02  Surv(days, event) ~ feature + age + pc1 + feat...  5.37e+06"
       ]
      }
     ],
     "prompt_number": 419
    },
    {
     "cell_type": "code",
     "collapsed": false,
     "input": [
      "background.to_csv('bg')"
     ],
     "language": "python",
     "metadata": {},
     "outputs": [],
     "prompt_number": 530
    },
    {
     "cell_type": "code",
     "collapsed": false,
     "input": [
      "rna.loadings.ix['BIOCARTA_BARR_MAPK_PATHWAY'].to_csv"
     ],
     "language": "python",
     "metadata": {},
     "outputs": [
      {
       "output_type": "pyout",
       "prompt_number": 504,
       "text": [
        "RAF1      0.54\n",
        "MAPK3     0.35\n",
        "GNGT1    -0.38\n",
        "GNB1     -0.47\n",
        "ARRB1     0.33\n",
        "DNM1     -0.21\n",
        "GNAS      0.08\n",
        "MAP2K1   -0.13\n",
        "MAP2K2    0.21\n",
        "Name: 0, dtype: float64"
       ]
      }
     ],
     "prompt_number": 504
    },
    {
     "cell_type": "code",
     "collapsed": false,
     "input": [
      "draw_survival_curves(rna.features.ix['BIOCARTA_BARR_MAPK_PATHWAY'], surv, pc[0] < 0, show=True)"
     ],
     "language": "python",
     "metadata": {},
     "outputs": [
      {
       "html": [
        "<img src='data:image/png;base64,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'>"
       ],
       "output_type": "pyout",
       "prompt_number": 420,
       "text": [
        "<Reports.NotebookTools.Show at 0xc09e9d0>"
       ]
      }
     ],
     "prompt_number": 420
    },
    {
     "cell_type": "code",
     "collapsed": false,
     "input": [
      "mapk = rna.features.ix['BIOCARTA_BARR_MAPK_PATHWAY']"
     ],
     "language": "python",
     "metadata": {},
     "outputs": [],
     "prompt_number": 522
    },
    {
     "cell_type": "code",
     "collapsed": false,
     "input": [
      "fig, axs = subplots(1,2, figsize=(10,3))\n",
      "rna.loadings[mapk.name].order().plot(kind='bar', ax=axs[0])\n",
      "draw_survival_curve(to_quants(no2, std=1, labels=True), clinical.survival.survival_5y, ax=axs[1])\n",
      "axs[1].legend(loc='lower left');"
     ],
     "language": "python",
     "metadata": {},
     "outputs": [
      {
       "output_type": "display_data",
       "png": "[encoded data removed]"
      }
     ],
     "prompt_number": 523
    },
    {
     "cell_type": "code",
     "collapsed": false,
     "input": [
      "draw_survival_curves(pc1, surv, show=True)"
     ],
     "language": "python",
     "metadata": {},
     "outputs": [
      {
       "html": [
        "<img src='data:image/png;base64,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'>"
       ],
       "output_type": "pyout",
       "prompt_number": 527,
       "text": [
        "<Reports.NotebookTools.Show at 0x228c7450>"
       ]
      }
     ],
     "prompt_number": 527
    },
    {
     "cell_type": "code",
     "collapsed": false,
     "input": [
      "screen_feature(pc[0], tt, mut.features).head()"
     ],
     "language": "python",
     "metadata": {},
     "outputs": []
    },
    {
     "cell_type": "code",
     "collapsed": false,
     "input": [
      "ss = screen_feature(subtypes==2, kruskal_pandas, features)"
     ],
     "language": "python",
     "metadata": {},
     "outputs": [],
     "prompt_number": 551
    },
    {
     "cell_type": "code",
     "collapsed": false,
     "input": [
      "rr = cox_screen(features.ix[ss.p < .1, true_index(subtypes==2)], surv)"
     ],
     "language": "python",
     "metadata": {},
     "outputs": [],
     "prompt_number": 554
    },
    {
     "cell_type": "code",
     "collapsed": false,
     "input": [
      "rr.head()"
     ],
     "language": "python",
     "metadata": {},
     "outputs": [
      {
       "html": [
        "<div style=\"max-height:1000px;max-width:1500px;overflow:auto;\">\n",
        "<table border=\"1\" class=\"dataframe\">\n",
        "  <thead>\n",
        "    <tr style=\"text-align: right;\">\n",
        "      <th></th>\n",
        "      <th>LR</th>\n",
        "      <th>p</th>\n",
        "      <th>q</th>\n",
        "    </tr>\n",
        "  </thead>\n",
        "  <tbody>\n",
        "    <tr>\n",
        "      <th>REACTOME_G2_M_TRANSITION</th>\n",
        "      <td> 7.79</td>\n",
        "      <td> 0.01</td>\n",
        "      <td> 0.44</td>\n",
        "    </tr>\n",
        "    <tr>\n",
        "      <th>REACTOME_CENTROSOME_MATURATION</th>\n",
        "      <td> 7.66</td>\n",
        "      <td> 0.01</td>\n",
        "      <td> 0.44</td>\n",
        "    </tr>\n",
        "    <tr>\n",
        "      <th>REACTOME_CONVERSION_FROM_APC_CDC20_TO_APC_CDH1_IN_LATE_ANAPHASE</th>\n",
        "      <td> 7.57</td>\n",
        "      <td> 0.01</td>\n",
        "      <td> 0.44</td>\n",
        "    </tr>\n",
        "    <tr>\n",
        "      <th>REACTOME_LOSS_OF_NLP_FROM_MITOTIC_CENTROSOMES</th>\n",
        "      <td> 6.37</td>\n",
        "      <td> 0.01</td>\n",
        "      <td> 0.52</td>\n",
        "    </tr>\n",
        "    <tr>\n",
        "      <th>REACTOME_CELL_CYCLE_MITOTIC</th>\n",
        "      <td> 5.97</td>\n",
        "      <td> 0.01</td>\n",
        "      <td> 0.52</td>\n",
        "    </tr>\n",
        "  </tbody>\n",
        "</table>\n",
        "</div>"
       ],
       "output_type": "pyout",
       "prompt_number": 555,
       "text": [
        "                                                                   LR     p     q\n",
        "REACTOME_G2_M_TRANSITION                                         7.79  0.01  0.44\n",
        "REACTOME_CENTROSOME_MATURATION                                   7.66  0.01  0.44\n",
        "REACTOME_CONVERSION_FROM_APC_CDC20_TO_APC_CDH1_IN_LATE_ANAPHASE  7.57  0.01  0.44\n",
        "REACTOME_LOSS_OF_NLP_FROM_MITOTIC_CENTROSOMES                    6.37  0.01  0.52\n",
        "REACTOME_CELL_CYCLE_MITOTIC                                      5.97  0.01  0.52"
       ]
      }
     ],
     "prompt_number": 555
    },
    {
     "cell_type": "code",
     "collapsed": false,
     "input": [
      "features.ix['REACTOME_PHOSPHORYLATION_OF_THE_APC']"
     ],
     "language": "python",
     "metadata": {},
     "outputs": [
      {
       "output_type": "pyout",
       "prompt_number": 546,
       "text": [
        "TCGA-BA-4074    0.10\n",
        "TCGA-BA-4075    0.05\n",
        "TCGA-BA-4076    0.06\n",
        "TCGA-BA-4078    0.06\n",
        "TCGA-BA-5149    0.10\n",
        "TCGA-BA-5151    0.07\n",
        "TCGA-BA-5152    0.05\n",
        "TCGA-BA-5555    0.07\n",
        "TCGA-BA-5556    0.06\n",
        "TCGA-BA-5557    0.02\n",
        "TCGA-BA-5558    0.07\n",
        "TCGA-BA-6868    0.04\n",
        "TCGA-BA-6869   -0.00\n",
        "TCGA-BA-6870    0.03\n",
        "TCGA-BA-6871    0.04\n",
        "...\n",
        "TCGA-DQ-7590    0.04\n",
        "TCGA-DQ-7592    0.04\n",
        "TCGA-DQ-7593    0.03\n",
        "TCGA-DQ-7594    0.04\n",
        "TCGA-DQ-7595    0.05\n",
        "TCGA-DQ-7596    0.04\n",
        "TCGA-F7-7848    0.08\n",
        "TCGA-H7-7774    0.00\n",
        "TCGA-HD-7229    0.09\n",
        "TCGA-HD-7753    0.09\n",
        "TCGA-HD-7831    0.03\n",
        "TCGA-HD-7917    0.08\n",
        "TCGA-IQ-7630    0.05\n",
        "TCGA-IQ-7631   -0.03\n",
        "TCGA-IQ-7632    0.04\n",
        "Name: REACTOME_PHOSPHORYLATION_OF_THE_APC, Length: 262, dtype: float64"
       ]
      }
     ],
     "prompt_number": 546
    },
    {
     "cell_type": "code",
     "collapsed": false,
     "input": [],
     "language": "python",
     "metadata": {},
     "outputs": []
    }
   ],
   "metadata": {}
  }
 ]
}