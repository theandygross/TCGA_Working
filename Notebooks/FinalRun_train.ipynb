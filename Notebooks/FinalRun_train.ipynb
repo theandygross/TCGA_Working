{
 "metadata": {
  "name": "FinalRun_train"
 },
 "nbformat": 3,
 "nbformat_minor": 0,
 "worksheets": [
  {
   "cells": [
    {
     "cell_type": "code",
     "collapsed": false,
     "input": [
      "cd ../src"
     ],
     "language": "python",
     "metadata": {},
     "outputs": [
      {
       "output_type": "stream",
       "stream": "stdout",
       "text": [
        "/cellar/users/agross/TCGA_Code/TCGA/Pathway_Merge/src\n"
       ]
      }
     ],
     "prompt_number": 1
    },
    {
     "cell_type": "code",
     "collapsed": false,
     "input": [
      "%xmode verbose"
     ],
     "language": "python",
     "metadata": {},
     "outputs": [
      {
       "output_type": "stream",
       "stream": "stdout",
       "text": [
        "Exception reporting mode: Verbose\n"
       ]
      }
     ],
     "prompt_number": 2
    },
    {
     "cell_type": "code",
     "collapsed": false,
     "input": [
      "from Processing.Imports import *\n",
      "from Figures.Survival import survival_stat_plot"
     ],
     "language": "python",
     "metadata": {},
     "outputs": [],
     "prompt_number": 3
    },
    {
     "cell_type": "code",
     "collapsed": false,
     "input": [
      "run = get_run('/cellar/data/TCGA/Firehose__2013_04_21', 'Run_train')\n",
      "\n",
      "cancer = run.load_cancer('HNSC')\n",
      "clinical = cancer.load_clinical()\n",
      "global_vars = cancer.load_global_vars()\n",
      "\n",
      "mut = cancer.load_data('Mutation')\n",
      "mut.uncompress()\n",
      "meth = cancer.load_data('Methylation')\n",
      "cn = cancer.load_data('CN_broad')\n",
      "cn.uncompress()\n",
      "rna = cancer.load_data('mRNASeq')\n",
      "rppa  = cancer.load_data('RPPA')\n",
      "mirna = cancer.load_data('miRNASeq')\n",
      "age = clinical.clinical.age.astype(float)"
     ],
     "language": "python",
     "metadata": {},
     "outputs": [],
     "prompt_number": 220
    },
    {
     "cell_type": "markdown",
     "metadata": {},
     "source": [
      "**Head and neck squamous cell carcinoma (HNSCC) is frequently characterized by aggressive clinical behavior, including a propensity for metastasis and recurrence. Current understanding of HNSCC pathogenesis remains limited, and there are few biomarkers which reliably predict either patient outcome or response to therapy. Here we report the first comprehensive analysis of the clinical and molecular features of HNSCC that explain patient survival. Building upon the data and infrastructure established by The Cancer Genome Atlas (TCGA), we construct an integrated analysis platform which uses multiple \u2018omics data to progressively factor patients into subgroups with striking survival differences. Using this platform we show that the major detrimental impact of TP53 mutation occurs only in combination with loss of chromosome 3p, such that patients with both events have markedly decreased median survival from >5 to 1.7 years. We then uncover a signature based on microRNAs and the NO2 pathway, characteristic of the epithelial-to-mesynchemal transition (EMT), for which low activity is protective (5-year survival rate of 65%) and high activity is extremely detrimental (22%) independent of other clinical or molecular features including TP53. Together, the identified \u2018omics features enable a new multi-tiered molecular classification of HNSCC.**"
     ]
    },
    {
     "cell_type": "markdown",
     "metadata": {},
     "source": [
      "It is increasingly appreciated that the clinical diversity of HNSCC is likely a reflection of the molecular heterogeneity of this disease (Grandis, Leemans). Advances in genomic profiling have led to the identification of a myriad of candidate genes and molecular features, and have uncovered distinct expression profiles differentiating patients with HNSCC into subtypes (Chung, TCGA).  Yet despite the plethora of cohort studies, the relative contributions of each of these to HNSCC carcinogenesis remains poorly elucidated, and of limited clinical prognostic value.  As a result, many patients receive bimodality or even trimodality therapy, without a reliable means to predict response to treatment strategies, or which patients may respond well to less intensive regimens. "
     ]
    },
    {
     "cell_type": "markdown",
     "metadata": {},
     "source": [
      "In order to explain differences in patient survival, we obtained data from the Broad Firehose data-portal and tested for the influence of clinical variables on patient survival (**figure 2a**). As expected, patient human-papiloma virus (HPV) status has a large effect on survival (p = .005).  While clinical staging has a relatively small effect in this cohort, nodal stage was much more predictive (p=.06, p < 001)."
     ]
    },
    {
     "cell_type": "code",
     "collapsed": false,
     "input": [
      "surv_all = clinical.survival.survival\n",
      "surv = clinical.survival.survival_5y"
     ],
     "language": "python",
     "metadata": {},
     "outputs": [],
     "prompt_number": 221
    },
    {
     "cell_type": "code",
     "collapsed": false,
     "input": [
      "hpv_all = pd.read_csv('/cellar/users/agross/hpv_summary_3_20_13_distribute.csv', index_col=0)\n",
      "hpv = hpv_all.Molecular_HPV.map({0:'HPV-', 1:'HPV+'})\n",
      "hpv.name = 'HPV'"
     ],
     "language": "python",
     "metadata": {},
     "outputs": [],
     "prompt_number": 222
    },
    {
     "cell_type": "code",
     "collapsed": false,
     "input": [
      "tss = pd.Series(map(lambda s: s.split('-')[1], clinical.clinical.index), clinical.clinical.index)\n",
      "patients = run.patients\n",
      "clinical.clinical = clinical.clinical.ix[patients]\n",
      "clinical.survival = clinical.survival.ix[patients]"
     ],
     "language": "python",
     "metadata": {},
     "outputs": [],
     "prompt_number": 223
    },
    {
     "cell_type": "markdown",
     "metadata": {},
     "source": [
      "####HPV"
     ]
    },
    {
     "cell_type": "code",
     "collapsed": false,
     "input": [
      "t = get_surv_fit(surv_all, hpv.ix[patients])\n",
      "draw_survival_curve(hpv, surv)\n",
      "survival_stat_plot(t)\n",
      "print log_rank(hpv, surv)\n",
      "t"
     ],
     "language": "python",
     "metadata": {},
     "outputs": [
      {
       "output_type": "stream",
       "stream": "stdout",
       "text": [
        "chi2    7.75\n",
        "p       0.01\n",
        "dtype: float64\n"
       ]
      },
      {
       "html": [
        "<div style=\"max-height:1000px;max-width:1500px;overflow:auto;\">\n",
        "<table border=\"1\" class=\"dataframe\">\n",
        "  <thead>\n",
        "    <tr>\n",
        "      <th></th>\n",
        "      <th colspan=\"2\" halign=\"left\">Stats</th>\n",
        "      <th colspan=\"3\" halign=\"left\">Median Survival</th>\n",
        "      <th colspan=\"3\" halign=\"left\">5y Survival</th>\n",
        "    </tr>\n",
        "    <tr>\n",
        "      <th></th>\n",
        "      <th># Patients</th>\n",
        "      <th># Events</th>\n",
        "      <th>Median</th>\n",
        "      <th>Lower</th>\n",
        "      <th>Upper</th>\n",
        "      <th>Lower</th>\n",
        "      <th>Surv</th>\n",
        "      <th>Upper</th>\n",
        "    </tr>\n",
        "  </thead>\n",
        "  <tbody>\n",
        "    <tr>\n",
        "      <th>HPV-</th>\n",
        "      <td> 164</td>\n",
        "      <td> 77</td>\n",
        "      <td> 1.9</td>\n",
        "      <td> 1.54</td>\n",
        "      <td>  4</td>\n",
        "      <td> 0.26</td>\n",
        "      <td> 0.36</td>\n",
        "      <td> 0.48</td>\n",
        "    </tr>\n",
        "    <tr>\n",
        "      <th>HPV+</th>\n",
        "      <td>  21</td>\n",
        "      <td>  4</td>\n",
        "      <td> NaN</td>\n",
        "      <td> 4.82</td>\n",
        "      <td>NaN</td>\n",
        "      <td> 0.21</td>\n",
        "      <td> 0.51</td>\n",
        "      <td> 1.00</td>\n",
        "    </tr>\n",
        "  </tbody>\n",
        "</table>\n",
        "</div>"
       ],
       "output_type": "pyout",
       "prompt_number": 227,
       "text": [
        "           Stats            Median Survival                5y Survival             \n",
        "      # Patients  # Events           Median  Lower  Upper        Lower  Surv  Upper\n",
        "HPV-         164        77              1.9   1.54      4         0.26  0.36   0.48\n",
        "HPV+          21         4              NaN   4.82    NaN         0.21  0.51   1.00"
       ]
      },
      {
       "output_type": "display_data",
       "png": "[encoded data removed]"
      },
      {
       "output_type": "display_data",
       "png": "[encoded data removed]"
      }
     ],
     "prompt_number": 227
    },
    {
     "cell_type": "markdown",
     "metadata": {},
     "source": [
      "####Tumor Stage"
     ]
    },
    {
     "cell_type": "code",
     "collapsed": false,
     "input": [
      "stage = clinical.clinical.tumorstage\n",
      "stage = stage.replace('nx', nan).dropna().map(lambda s: s.replace('a','').replace('b',''))\n",
      "t = get_surv_fit(surv_all, stage)\n",
      "draw_survival_curve(stage,  surv)\n",
      "survival_stat_plot(t.sort_index(ascending=False))\n",
      "print log_rank(stage, surv).ix['p']\n",
      "t"
     ],
     "language": "python",
     "metadata": {},
     "outputs": [
      {
       "output_type": "stream",
       "stream": "stdout",
       "text": [
        "0.127538362245\n"
       ]
      },
      {
       "html": [
        "<div style=\"max-height:1000px;max-width:1500px;overflow:auto;\">\n",
        "<table border=\"1\" class=\"dataframe\">\n",
        "  <thead>\n",
        "    <tr>\n",
        "      <th></th>\n",
        "      <th colspan=\"2\" halign=\"left\">Stats</th>\n",
        "      <th colspan=\"3\" halign=\"left\">Median Survival</th>\n",
        "      <th colspan=\"3\" halign=\"left\">5y Survival</th>\n",
        "    </tr>\n",
        "    <tr>\n",
        "      <th></th>\n",
        "      <th># Patients</th>\n",
        "      <th># Events</th>\n",
        "      <th>Median</th>\n",
        "      <th>Lower</th>\n",
        "      <th>Upper</th>\n",
        "      <th>Lower</th>\n",
        "      <th>Surv</th>\n",
        "      <th>Upper</th>\n",
        "    </tr>\n",
        "  </thead>\n",
        "  <tbody>\n",
        "    <tr>\n",
        "      <th>stge i</th>\n",
        "      <td>  12</td>\n",
        "      <td>  2</td>\n",
        "      <td>  NaN</td>\n",
        "      <td> 1.79</td>\n",
        "      <td>  NaN</td>\n",
        "      <td> 0.38</td>\n",
        "      <td> 0.67</td>\n",
        "      <td> 1.00</td>\n",
        "    </tr>\n",
        "    <tr>\n",
        "      <th>stge ii</th>\n",
        "      <td>  35</td>\n",
        "      <td> 18</td>\n",
        "      <td> 1.81</td>\n",
        "      <td> 1.10</td>\n",
        "      <td>  NaN</td>\n",
        "      <td> 0.13</td>\n",
        "      <td> 0.28</td>\n",
        "      <td> 0.62</td>\n",
        "    </tr>\n",
        "    <tr>\n",
        "      <th>stge iii</th>\n",
        "      <td>  31</td>\n",
        "      <td> 14</td>\n",
        "      <td> 4.49</td>\n",
        "      <td> 1.10</td>\n",
        "      <td>  NaN</td>\n",
        "      <td> 0.14</td>\n",
        "      <td> 0.31</td>\n",
        "      <td> 0.71</td>\n",
        "    </tr>\n",
        "    <tr>\n",
        "      <th>stge iv</th>\n",
        "      <td> 106</td>\n",
        "      <td> 45</td>\n",
        "      <td> 2.84</td>\n",
        "      <td> 1.64</td>\n",
        "      <td> 6.35</td>\n",
        "      <td> 0.26</td>\n",
        "      <td> 0.37</td>\n",
        "      <td> 0.54</td>\n",
        "    </tr>\n",
        "  </tbody>\n",
        "</table>\n",
        "</div>"
       ],
       "output_type": "pyout",
       "prompt_number": 228,
       "text": [
        "               Stats            Median Survival                5y Survival             \n",
        "          # Patients  # Events           Median  Lower  Upper        Lower  Surv  Upper\n",
        "stge i            12         2              NaN   1.79    NaN         0.38  0.67   1.00\n",
        "stge ii           35        18             1.81   1.10    NaN         0.13  0.28   0.62\n",
        "stge iii          31        14             4.49   1.10    NaN         0.14  0.31   0.71\n",
        "stge iv          106        45             2.84   1.64   6.35         0.26  0.37   0.54"
       ]
      },
      {
       "output_type": "display_data",
       "png": "[encoded data removed]"
      },
      {
       "output_type": "display_data",
       "png": "[encoded data removed]"
      }
     ],
     "prompt_number": 228
    },
    {
     "cell_type": "markdown",
     "metadata": {},
     "source": [
      "####Lymphnode Stage"
     ]
    },
    {
     "cell_type": "code",
     "collapsed": false,
     "input": [
      "lymph_stage = clinical.clinical.lymphnodepathologicspread\n",
      "lymph_stage = lymph_stage.replace('nx', nan).dropna().map(lambda s: s[:2])\n",
      "t = get_surv_fit(surv_all, lymph_stage)\n",
      "draw_survival_curve(lymph_stage, surv)\n",
      "survival_stat_plot(t.sort_index(ascending=False))\n",
      "print log_rank(lymph_stage, surv)\n",
      "t"
     ],
     "language": "python",
     "metadata": {},
     "outputs": [
      {
       "output_type": "stream",
       "stream": "stdout",
       "text": [
        "chi2    9.39\n",
        "p       0.00\n",
        "dtype: float64\n"
       ]
      },
      {
       "html": [
        "<div style=\"max-height:1000px;max-width:1500px;overflow:auto;\">\n",
        "<table border=\"1\" class=\"dataframe\">\n",
        "  <thead>\n",
        "    <tr>\n",
        "      <th></th>\n",
        "      <th colspan=\"2\" halign=\"left\">Stats</th>\n",
        "      <th colspan=\"3\" halign=\"left\">Median Survival</th>\n",
        "      <th colspan=\"3\" halign=\"left\">5y Survival</th>\n",
        "    </tr>\n",
        "    <tr>\n",
        "      <th></th>\n",
        "      <th># Patients</th>\n",
        "      <th># Events</th>\n",
        "      <th>Median</th>\n",
        "      <th>Lower</th>\n",
        "      <th>Upper</th>\n",
        "      <th>Lower</th>\n",
        "      <th>Surv</th>\n",
        "      <th>Upper</th>\n",
        "    </tr>\n",
        "  </thead>\n",
        "  <tbody>\n",
        "    <tr>\n",
        "      <th>n0</th>\n",
        "      <td> 70</td>\n",
        "      <td> 24</td>\n",
        "      <td> 7.04</td>\n",
        "      <td> 2.30</td>\n",
        "      <td>NaN</td>\n",
        "      <td> 0.37</td>\n",
        "      <td> 0.52</td>\n",
        "      <td> 0.74</td>\n",
        "    </tr>\n",
        "    <tr>\n",
        "      <th>n1</th>\n",
        "      <td> 23</td>\n",
        "      <td>  7</td>\n",
        "      <td>  NaN</td>\n",
        "      <td> 2.84</td>\n",
        "      <td>NaN</td>\n",
        "      <td> 0.29</td>\n",
        "      <td> 0.50</td>\n",
        "      <td> 0.89</td>\n",
        "    </tr>\n",
        "    <tr>\n",
        "      <th>n2</th>\n",
        "      <td> 69</td>\n",
        "      <td> 29</td>\n",
        "      <td> 1.90</td>\n",
        "      <td> 1.42</td>\n",
        "      <td>NaN</td>\n",
        "      <td> 0.17</td>\n",
        "      <td> 0.31</td>\n",
        "      <td> 0.54</td>\n",
        "    </tr>\n",
        "    <tr>\n",
        "      <th>n3</th>\n",
        "      <td>  3</td>\n",
        "      <td>  3</td>\n",
        "      <td> 0.96</td>\n",
        "      <td> 0.69</td>\n",
        "      <td>NaN</td>\n",
        "      <td>  NaN</td>\n",
        "      <td>  NaN</td>\n",
        "      <td>  NaN</td>\n",
        "    </tr>\n",
        "  </tbody>\n",
        "</table>\n",
        "</div>"
       ],
       "output_type": "pyout",
       "prompt_number": 229,
       "text": [
        "         Stats            Median Survival                5y Survival             \n",
        "    # Patients  # Events           Median  Lower  Upper        Lower  Surv  Upper\n",
        "n0          70        24             7.04   2.30    NaN         0.37  0.52   0.74\n",
        "n1          23         7              NaN   2.84    NaN         0.29  0.50   0.89\n",
        "n2          69        29             1.90   1.42    NaN         0.17  0.31   0.54\n",
        "n3           3         3             0.96   0.69    NaN          NaN   NaN    NaN"
       ]
      },
      {
       "output_type": "display_data",
       "png": "[encoded data removed]"
      },
      {
       "output_type": "display_data",
       "png": "[encoded data removed]"
      }
     ],
     "prompt_number": 229
    },
    {
     "cell_type": "markdown",
     "metadata": {},
     "source": [
      "####Age \n",
      "* The idea here is to figure out any age dependent effects on survival.\n",
      "* The strategy is to slide along the age spectrum and for a given age ask if the survival of patients within 5 year older/younger do better or worse.\n",
      "* The cutoff is relatively arbitrary but you can see that around 85 there seems to be an inflection.\n",
      "* Points not plotted had no improvement over the null model and thus no hazard ratio was calculated."
     ]
    },
    {
     "cell_type": "code",
     "collapsed": false,
     "input": [
      "age.hist()"
     ],
     "language": "python",
     "metadata": {},
     "outputs": [
      {
       "output_type": "pyout",
       "prompt_number": 230,
       "text": [
        "<matplotlib.axes.AxesSubplot at 0xd5c9a10>"
       ]
      },
      {
       "output_type": "display_data",
       "png": "[encoded data removed]"
      }
     ],
     "prompt_number": 230
    },
    {
     "cell_type": "code",
     "collapsed": false,
     "input": [
      "fig, axs = subplots(1,2, figsize=(10,4))\n",
      "aa = pd.DataFrame({x: log_rank(((age>(x-5)) * (age < (x+5)))*1., surv) for x in range(40,90)}).T\n",
      "aa.chi2.dropna().plot(ax=axs[0], marker='o', ls='--')\n",
      "axs[0].set_ylabel('Hazard Ratio')\n",
      "axs[0].set_xlabel('Age Bin')\n",
      "draw_survival_curve((age>=85).map({True: 'age >= 85', False: 'age < 85'}), surv, ax=axs[1])\n",
      "fig.savefig('/cellar/users/agross/Desktop/Figures/sup_age.pdf', transparent=True)"
     ],
     "language": "python",
     "metadata": {},
     "outputs": [
      {
       "output_type": "display_data",
       "png": "[encoded data removed]"
      }
     ],
     "prompt_number": 231
    },
    {
     "cell_type": "code",
     "collapsed": false,
     "input": [
      "old_age = (age >= 85).map({True: 'Age >= 85', False: 'Age < 85'})\n",
      "t = get_surv_fit(surv_all, old_age)\n",
      "survival_stat_plot(t.sort_index(ascending=False))\n",
      "t"
     ],
     "language": "python",
     "metadata": {},
     "outputs": [
      {
       "html": [
        "<div style=\"max-height:1000px;max-width:1500px;overflow:auto;\">\n",
        "<table border=\"1\" class=\"dataframe\">\n",
        "  <thead>\n",
        "    <tr>\n",
        "      <th></th>\n",
        "      <th colspan=\"2\" halign=\"left\">Stats</th>\n",
        "      <th colspan=\"3\" halign=\"left\">Median Survival</th>\n",
        "      <th colspan=\"3\" halign=\"left\">5y Survival</th>\n",
        "    </tr>\n",
        "    <tr>\n",
        "      <th></th>\n",
        "      <th># Patients</th>\n",
        "      <th># Events</th>\n",
        "      <th>Median</th>\n",
        "      <th>Lower</th>\n",
        "      <th>Upper</th>\n",
        "      <th>Lower</th>\n",
        "      <th>Surv</th>\n",
        "      <th>Upper</th>\n",
        "    </tr>\n",
        "  </thead>\n",
        "  <tbody>\n",
        "    <tr>\n",
        "      <th>Age &lt; 85</th>\n",
        "      <td> 318</td>\n",
        "      <td> 123</td>\n",
        "      <td> 4.00</td>\n",
        "      <td> 2.84</td>\n",
        "      <td> 5.4</td>\n",
        "      <td> 0.33</td>\n",
        "      <td> 0.41</td>\n",
        "      <td> 0.51</td>\n",
        "    </tr>\n",
        "    <tr>\n",
        "      <th>Age &gt;</th>\n",
        "      <td>   8</td>\n",
        "      <td>   7</td>\n",
        "      <td> 0.67</td>\n",
        "      <td> 0.39</td>\n",
        "      <td> NaN</td>\n",
        "      <td>  NaN</td>\n",
        "      <td>  NaN</td>\n",
        "      <td>  NaN</td>\n",
        "    </tr>\n",
        "  </tbody>\n",
        "</table>\n",
        "</div>"
       ],
       "output_type": "pyout",
       "prompt_number": 232,
       "text": [
        "               Stats            Median Survival                5y Survival             \n",
        "          # Patients  # Events           Median  Lower  Upper        Lower  Surv  Upper\n",
        "Age < 85         318       123             4.00   2.84    5.4         0.33  0.41   0.51\n",
        "Age >              8         7             0.67   0.39    NaN          NaN   NaN    NaN"
       ]
      },
      {
       "output_type": "display_data",
       "png": "[encoded data removed]"
      }
     ],
     "prompt_number": 232
    },
    {
     "cell_type": "markdown",
     "metadata": {},
     "source": [
      "####Pack Years"
     ]
    },
    {
     "cell_type": "code",
     "collapsed": false,
     "input": [
      "py = clinical.clinical.numberpackyearssmoked.dropna().astype(float)\n",
      "py.hist()"
     ],
     "language": "python",
     "metadata": {},
     "outputs": [
      {
       "output_type": "pyout",
       "prompt_number": 233,
       "text": [
        "<matplotlib.axes.AxesSubplot at 0x68d9590>"
       ]
      },
      {
       "output_type": "display_data",
       "png": "[encoded data removed]"
      }
     ],
     "prompt_number": 233
    },
    {
     "cell_type": "code",
     "collapsed": false,
     "input": [
      "tt = lambda a,b: kruskal_pandas(b,a)\n",
      "s = screen_feature((1.*(py>=70) + 1.*(py>85))>0, tt, mut.features)\n",
      "s.head()"
     ],
     "language": "python",
     "metadata": {},
     "outputs": [
      {
       "html": [
        "<div style=\"max-height:1000px;max-width:1500px;overflow:auto;\">\n",
        "<table border=\"1\" class=\"dataframe\">\n",
        "  <thead>\n",
        "    <tr style=\"text-align: right;\">\n",
        "      <th></th>\n",
        "      <th>H</th>\n",
        "      <th>p</th>\n",
        "      <th>q</th>\n",
        "    </tr>\n",
        "  </thead>\n",
        "  <tbody>\n",
        "    <tr>\n",
        "      <th>BIOCARTA_MONOCYTE_PATHWAY</th>\n",
        "      <td> 15.85</td>\n",
        "      <td> 6.87e-05</td>\n",
        "      <td> 0.04</td>\n",
        "    </tr>\n",
        "    <tr>\n",
        "      <th>BIOCARTA_LAIR_PATHWAY</th>\n",
        "      <td> 14.63</td>\n",
        "      <td> 1.31e-04</td>\n",
        "      <td> 0.04</td>\n",
        "    </tr>\n",
        "    <tr>\n",
        "      <th>BIOCARTA_AMI_PATHWAY</th>\n",
        "      <td> 14.25</td>\n",
        "      <td> 1.60e-04</td>\n",
        "      <td> 0.04</td>\n",
        "    </tr>\n",
        "    <tr>\n",
        "      <th>SLIT2</th>\n",
        "      <td> 12.62</td>\n",
        "      <td> 3.81e-04</td>\n",
        "      <td> 0.06</td>\n",
        "    </tr>\n",
        "    <tr>\n",
        "      <th>REACTOME_PYRUVATE_METABOLISM</th>\n",
        "      <td> 12.62</td>\n",
        "      <td> 3.81e-04</td>\n",
        "      <td> 0.06</td>\n",
        "    </tr>\n",
        "  </tbody>\n",
        "</table>\n",
        "</div>"
       ],
       "output_type": "pyout",
       "prompt_number": 234,
       "text": [
        "                                  H         p     q\n",
        "BIOCARTA_MONOCYTE_PATHWAY     15.85  6.87e-05  0.04\n",
        "BIOCARTA_LAIR_PATHWAY         14.63  1.31e-04  0.04\n",
        "BIOCARTA_AMI_PATHWAY          14.25  1.60e-04  0.04\n",
        "SLIT2                         12.62  3.81e-04  0.06\n",
        "REACTOME_PYRUVATE_METABOLISM  12.62  3.81e-04  0.06"
       ]
      }
     ],
     "prompt_number": 234
    },
    {
     "cell_type": "markdown",
     "metadata": {},
     "source": [
      "####Tumor Subdivision \n",
      "* Groups defined by Dr. Coffee"
     ]
    },
    {
     "cell_type": "code",
     "collapsed": false,
     "input": [
      "tss = clinical.clinical.tissuesourcesite.dropna()\n",
      "tss = tss[tss.isin(['cv','cn','cq','ba','bb','dq','hd','d6'])]\n",
      "draw_survival_curves(tss, surv, show=True)"
     ],
     "language": "python",
     "metadata": {},
     "outputs": [
      {
       "html": [
        "<img src='data:image/png;base64,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'>"
       ],
       "output_type": "pyout",
       "prompt_number": 237,
       "text": [
        "<Reports.NotebookTools.Show at 0x66e33d0>"
       ]
      }
     ],
     "prompt_number": 237
    },
    {
     "cell_type": "code",
     "collapsed": false,
     "input": [
      "group = [['oral tongue','oral cavity','floor of mouth','buccal mucosa','alveolar ridge','hard palate','lip'],\n",
      "         ['oropharynx','tonsil','base of tongue'],\n",
      "         #['hypopharynx'],\n",
      "         ['larynx']]\n",
      "groups = ['oral cavity','oropharynx','larynx']\n",
      "tumor_subdivision = pd.Series({idx: groups[i] for i,g in enumerate(group) for idx,j in \n",
      "                               clinical.clinical.neoplasmanatomicsubdivision.iteritems() if j in g})\n",
      "t = get_surv_fit(surv_all, tumor_subdivision)\n",
      "draw_survival_curve(tumor_subdivision, surv)\n",
      "survival_stat_plot(t.sort_index(ascending=False))\n",
      "t"
     ],
     "language": "python",
     "metadata": {},
     "outputs": [
      {
       "html": [
        "<div style=\"max-height:1000px;max-width:1500px;overflow:auto;\">\n",
        "<table border=\"1\" class=\"dataframe\">\n",
        "  <thead>\n",
        "    <tr>\n",
        "      <th></th>\n",
        "      <th colspan=\"2\" halign=\"left\">Stats</th>\n",
        "      <th colspan=\"3\" halign=\"left\">Median Survival</th>\n",
        "      <th colspan=\"3\" halign=\"left\">5y Survival</th>\n",
        "    </tr>\n",
        "    <tr>\n",
        "      <th></th>\n",
        "      <th># Patients</th>\n",
        "      <th># Events</th>\n",
        "      <th>Median</th>\n",
        "      <th>Lower</th>\n",
        "      <th>Upper</th>\n",
        "      <th>Lower</th>\n",
        "      <th>Surv</th>\n",
        "      <th>Upper</th>\n",
        "    </tr>\n",
        "  </thead>\n",
        "  <tbody>\n",
        "    <tr>\n",
        "      <th>larynx</th>\n",
        "      <td>  57</td>\n",
        "      <td> 23</td>\n",
        "      <td> 1.90</td>\n",
        "      <td> 1.54</td>\n",
        "      <td>  NaN</td>\n",
        "      <td> 0.27</td>\n",
        "      <td> 0.41</td>\n",
        "      <td> 0.62</td>\n",
        "    </tr>\n",
        "    <tr>\n",
        "      <th>oral cavity</th>\n",
        "      <td> 128</td>\n",
        "      <td> 59</td>\n",
        "      <td> 2.96</td>\n",
        "      <td> 1.66</td>\n",
        "      <td> 4.58</td>\n",
        "      <td> 0.16</td>\n",
        "      <td> 0.27</td>\n",
        "      <td> 0.46</td>\n",
        "    </tr>\n",
        "    <tr>\n",
        "      <th>oropharynx</th>\n",
        "      <td>  30</td>\n",
        "      <td>  5</td>\n",
        "      <td>  NaN</td>\n",
        "      <td> 4.82</td>\n",
        "      <td>  NaN</td>\n",
        "      <td> 0.22</td>\n",
        "      <td> 0.52</td>\n",
        "      <td> 1.00</td>\n",
        "    </tr>\n",
        "  </tbody>\n",
        "</table>\n",
        "</div>"
       ],
       "output_type": "pyout",
       "prompt_number": 238,
       "text": [
        "                  Stats            Median Survival                5y Survival             \n",
        "             # Patients  # Events           Median  Lower  Upper        Lower  Surv  Upper\n",
        "larynx               57        23             1.90   1.54    NaN         0.27  0.41   0.62\n",
        "oral cavity         128        59             2.96   1.66   4.58         0.16  0.27   0.46\n",
        "oropharynx           30         5              NaN   4.82    NaN         0.22  0.52   1.00"
       ]
      },
      {
       "output_type": "display_data",
       "png": "[encoded data removed]"
      },
      {
       "output_type": "display_data",
       "png": "[encoded data removed]"
      }
     ],
     "prompt_number": 238
    },
    {
     "cell_type": "markdown",
     "metadata": {},
     "source": [
      "####Disease Spread and Perineural Invasion"
     ]
    },
    {
     "cell_type": "code",
     "collapsed": false,
     "input": [
      "invasion = clinical.clinical.perineuralinvasionpresent\n",
      "invasion.name = 'invasion'\n",
      "t = get_surv_fit(surv_all, invasion)\n",
      "draw_survival_curve(invasion, surv)\n",
      "survival_stat_plot(t.sort_index(ascending=False))\n",
      "t"
     ],
     "language": "python",
     "metadata": {},
     "outputs": [
      {
       "html": [
        "<div style=\"max-height:1000px;max-width:1500px;overflow:auto;\">\n",
        "<table border=\"1\" class=\"dataframe\">\n",
        "  <thead>\n",
        "    <tr>\n",
        "      <th></th>\n",
        "      <th colspan=\"2\" halign=\"left\">Stats</th>\n",
        "      <th colspan=\"3\" halign=\"left\">Median Survival</th>\n",
        "      <th colspan=\"3\" halign=\"left\">5y Survival</th>\n",
        "    </tr>\n",
        "    <tr>\n",
        "      <th></th>\n",
        "      <th># Patients</th>\n",
        "      <th># Events</th>\n",
        "      <th>Median</th>\n",
        "      <th>Lower</th>\n",
        "      <th>Upper</th>\n",
        "      <th>Lower</th>\n",
        "      <th>Surv</th>\n",
        "      <th>Upper</th>\n",
        "    </tr>\n",
        "  </thead>\n",
        "  <tbody>\n",
        "    <tr>\n",
        "      <th>no</th>\n",
        "      <td> 78</td>\n",
        "      <td> 26</td>\n",
        "      <td> 4.0</td>\n",
        "      <td> 2.30</td>\n",
        "      <td>NaN</td>\n",
        "      <td> 0.24</td>\n",
        "      <td> 0.40</td>\n",
        "      <td> 0.69</td>\n",
        "    </tr>\n",
        "    <tr>\n",
        "      <th>yes</th>\n",
        "      <td> 72</td>\n",
        "      <td> 35</td>\n",
        "      <td> 2.5</td>\n",
        "      <td> 1.31</td>\n",
        "      <td>NaN</td>\n",
        "      <td> 0.22</td>\n",
        "      <td> 0.34</td>\n",
        "      <td> 0.54</td>\n",
        "    </tr>\n",
        "  </tbody>\n",
        "</table>\n",
        "</div>"
       ],
       "output_type": "pyout",
       "prompt_number": 239,
       "text": [
        "          Stats            Median Survival                5y Survival             \n",
        "     # Patients  # Events           Median  Lower  Upper        Lower  Surv  Upper\n",
        "no           78        26              4.0   2.30    NaN         0.24  0.40   0.69\n",
        "yes          72        35              2.5   1.31    NaN         0.22  0.34   0.54"
       ]
      },
      {
       "output_type": "display_data",
       "png": "[encoded data removed]"
      },
      {
       "output_type": "display_data",
       "png": "[encoded data removed]"
      }
     ],
     "prompt_number": 239
    },
    {
     "cell_type": "markdown",
     "metadata": {},
     "source": [
      "* Now disease spread\n",
      "* Only 1 HPV+ patient has disease spread"
     ]
    },
    {
     "cell_type": "code",
     "collapsed": false,
     "input": [
      "spread = clinical.clinical.presenceofpathologicalnodalextracapsularspread\n",
      "spread = spread.dropna()\n",
      "t = get_surv_fit(surv_all, spread)\n",
      "draw_survival_curve(spread, surv)\n",
      "survival_stat_plot(t.sort_index(ascending=False))\n",
      "t"
     ],
     "language": "python",
     "metadata": {},
     "outputs": [
      {
       "html": [
        "<div style=\"max-height:1000px;max-width:1500px;overflow:auto;\">\n",
        "<table border=\"1\" class=\"dataframe\">\n",
        "  <thead>\n",
        "    <tr>\n",
        "      <th></th>\n",
        "      <th colspan=\"2\" halign=\"left\">Stats</th>\n",
        "      <th colspan=\"3\" halign=\"left\">Median Survival</th>\n",
        "      <th colspan=\"3\" halign=\"left\">5y Survival</th>\n",
        "    </tr>\n",
        "    <tr>\n",
        "      <th></th>\n",
        "      <th># Patients</th>\n",
        "      <th># Events</th>\n",
        "      <th>Median</th>\n",
        "      <th>Lower</th>\n",
        "      <th>Upper</th>\n",
        "      <th>Lower</th>\n",
        "      <th>Surv</th>\n",
        "      <th>Upper</th>\n",
        "    </tr>\n",
        "  </thead>\n",
        "  <tbody>\n",
        "    <tr>\n",
        "      <th>gross extension</th>\n",
        "      <td> 12</td>\n",
        "      <td>  7</td>\n",
        "      <td> 1.25</td>\n",
        "      <td> 1.14</td>\n",
        "      <td>NaN</td>\n",
        "      <td>  NaN</td>\n",
        "      <td>  NaN</td>\n",
        "      <td>  NaN</td>\n",
        "    </tr>\n",
        "    <tr>\n",
        "      <th>microscopic extension</th>\n",
        "      <td> 27</td>\n",
        "      <td> 15</td>\n",
        "      <td> 1.50</td>\n",
        "      <td> 0.99</td>\n",
        "      <td>NaN</td>\n",
        "      <td> 0.10</td>\n",
        "      <td> 0.23</td>\n",
        "      <td> 0.55</td>\n",
        "    </tr>\n",
        "    <tr>\n",
        "      <th>no extranodal extension</th>\n",
        "      <td> 97</td>\n",
        "      <td> 37</td>\n",
        "      <td> 2.99</td>\n",
        "      <td> 1.81</td>\n",
        "      <td>NaN</td>\n",
        "      <td> 0.29</td>\n",
        "      <td> 0.42</td>\n",
        "      <td> 0.60</td>\n",
        "    </tr>\n",
        "  </tbody>\n",
        "</table>\n",
        "</div>"
       ],
       "output_type": "pyout",
       "prompt_number": 240,
       "text": [
        "                              Stats            Median Survival                5y Survival             \n",
        "                         # Patients  # Events           Median  Lower  Upper        Lower  Surv  Upper\n",
        "gross extension                  12         7             1.25   1.14    NaN          NaN   NaN    NaN\n",
        "microscopic extension            27        15             1.50   0.99    NaN         0.10  0.23   0.55\n",
        "no extranodal extension          97        37             2.99   1.81    NaN         0.29  0.42   0.60"
       ]
      },
      {
       "output_type": "display_data",
       "png": "[encoded data removed]"
      },
      {
       "output_type": "display_data",
       "png": "[encoded data removed]"
      }
     ],
     "prompt_number": 240
    },
    {
     "cell_type": "code",
     "collapsed": false,
     "input": [
      "screen_feature(spread.dropna() != 'no extranodal extension', fisher_exact_test, mut.features).head()"
     ],
     "language": "python",
     "metadata": {},
     "outputs": [
      {
       "html": [
        "<div style=\"max-height:1000px;max-width:1500px;overflow:auto;\">\n",
        "<table border=\"1\" class=\"dataframe\">\n",
        "  <thead>\n",
        "    <tr style=\"text-align: right;\">\n",
        "      <th></th>\n",
        "      <th>odds_ratio</th>\n",
        "      <th>p</th>\n",
        "      <th>q</th>\n",
        "    </tr>\n",
        "  </thead>\n",
        "  <tbody>\n",
        "    <tr>\n",
        "      <th>TP53</th>\n",
        "      <td> 15.43</td>\n",
        "      <td> 3.28e-04</td>\n",
        "      <td> 0.24</td>\n",
        "    </tr>\n",
        "    <tr>\n",
        "      <th>REACTOME_GAP_JUNCTION_ASSEMBLY</th>\n",
        "      <td> 13.91</td>\n",
        "      <td> 8.04e-03</td>\n",
        "      <td> 1.00</td>\n",
        "    </tr>\n",
        "    <tr>\n",
        "      <th>REACTOME_INHIBITION_OF_INSULIN_SECRETION_BY_ADRENALINE_NORADRENALINE</th>\n",
        "      <td>  0.00</td>\n",
        "      <td> 1.00e-02</td>\n",
        "      <td> 1.00</td>\n",
        "    </tr>\n",
        "    <tr>\n",
        "      <th>REACTOME_CHEMOKINE_RECEPTORS_BIND_CHEMOKINES</th>\n",
        "      <td>  0.00</td>\n",
        "      <td> 1.00e-02</td>\n",
        "      <td> 1.00</td>\n",
        "    </tr>\n",
        "    <tr>\n",
        "      <th>KEGG_PYRUVATE_METABOLISM</th>\n",
        "      <td>  3.15</td>\n",
        "      <td> 1.14e-02</td>\n",
        "      <td> 1.00</td>\n",
        "    </tr>\n",
        "  </tbody>\n",
        "</table>\n",
        "</div>"
       ],
       "output_type": "pyout",
       "prompt_number": 241,
       "text": [
        "                                                                      odds_ratio         p     q\n",
        "TP53                                                                       15.43  3.28e-04  0.24\n",
        "REACTOME_GAP_JUNCTION_ASSEMBLY                                             13.91  8.04e-03  1.00\n",
        "REACTOME_INHIBITION_OF_INSULIN_SECRETION_BY_ADRENALINE_NORADRENALINE        0.00  1.00e-02  1.00\n",
        "REACTOME_CHEMOKINE_RECEPTORS_BIND_CHEMOKINES                                0.00  1.00e-02  1.00\n",
        "KEGG_PYRUVATE_METABOLISM                                                    3.15  1.14e-02  1.00"
       ]
      }
     ],
     "prompt_number": 241
    },
    {
     "cell_type": "code",
     "collapsed": false,
     "input": [
      "screen_feature(spread.isin(['microscopic extension', 'gross extension']), kruskal_pandas, rna.features).head()"
     ],
     "language": "python",
     "metadata": {},
     "outputs": [
      {
       "html": [
        "<div style=\"max-height:1000px;max-width:1500px;overflow:auto;\">\n",
        "<table border=\"1\" class=\"dataframe\">\n",
        "  <thead>\n",
        "    <tr style=\"text-align: right;\">\n",
        "      <th></th>\n",
        "      <th>H</th>\n",
        "      <th>p</th>\n",
        "      <th>q</th>\n",
        "    </tr>\n",
        "  </thead>\n",
        "  <tbody>\n",
        "    <tr>\n",
        "      <th>REACTOME_APOPTOTIC_CLEAVAGE_OF_CELL_ADHESION_PROTEINS</th>\n",
        "      <td> 16.62</td>\n",
        "      <td> 4.58e-05</td>\n",
        "      <td> 0.04</td>\n",
        "    </tr>\n",
        "    <tr>\n",
        "      <th>REACTOME_AMINE_COMPOUND_SLC_TRANSPORTERS</th>\n",
        "      <td> 13.86</td>\n",
        "      <td> 1.97e-04</td>\n",
        "      <td> 0.06</td>\n",
        "    </tr>\n",
        "    <tr>\n",
        "      <th>KEGG_TASTE_TRANSDUCTION</th>\n",
        "      <td> 13.35</td>\n",
        "      <td> 2.58e-04</td>\n",
        "      <td> 0.06</td>\n",
        "    </tr>\n",
        "    <tr>\n",
        "      <th>REACTOME_PHOSPHOLIPASE_CMEDIATED_CASCADE</th>\n",
        "      <td> 13.15</td>\n",
        "      <td> 2.87e-04</td>\n",
        "      <td> 0.06</td>\n",
        "    </tr>\n",
        "    <tr>\n",
        "      <th>KEGG_BIOSYNTHESIS_OF_UNSATURATED_FATTY_ACIDS</th>\n",
        "      <td> 12.13</td>\n",
        "      <td> 4.97e-04</td>\n",
        "      <td> 0.08</td>\n",
        "    </tr>\n",
        "  </tbody>\n",
        "</table>\n",
        "</div>"
       ],
       "output_type": "pyout",
       "prompt_number": 242,
       "text": [
        "                                                           H         p     q\n",
        "REACTOME_APOPTOTIC_CLEAVAGE_OF_CELL_ADHESION_PROTEINS  16.62  4.58e-05  0.04\n",
        "REACTOME_AMINE_COMPOUND_SLC_TRANSPORTERS               13.86  1.97e-04  0.06\n",
        "KEGG_TASTE_TRANSDUCTION                                13.35  2.58e-04  0.06\n",
        "REACTOME_PHOSPHOLIPASE_CMEDIATED_CASCADE               13.15  2.87e-04  0.06\n",
        "KEGG_BIOSYNTHESIS_OF_UNSATURATED_FATTY_ACIDS           12.13  4.97e-04  0.08"
       ]
      }
     ],
     "prompt_number": 242
    },
    {
     "cell_type": "markdown",
     "metadata": {},
     "source": [
      "####Year of pathological diagnosis\n",
      "* Not much we can do about this but it is a relatively large effect \n",
      "* Likely some sort of collection bias for older samples that were banked"
     ]
    },
    {
     "cell_type": "code",
     "collapsed": false,
     "input": [
      "y = clinical.clinical.yearofinitialpathologicdiagnosis\n",
      "y = y.replace('[Discrepancy]', nan).astype(float)"
     ],
     "language": "python",
     "metadata": {},
     "outputs": [],
     "prompt_number": 243
    },
    {
     "cell_type": "code",
     "collapsed": false,
     "input": [
      "year = (y >= 1999).map({False: 'Before 1999', True: 'After 1999'})\n",
      "t = get_surv_fit(surv_all, year)\n",
      "survival_stat_plot(t.sort_index(ascending=False))\n",
      "t"
     ],
     "language": "python",
     "metadata": {},
     "outputs": [
      {
       "html": [
        "<div style=\"max-height:1000px;max-width:1500px;overflow:auto;\">\n",
        "<table border=\"1\" class=\"dataframe\">\n",
        "  <thead>\n",
        "    <tr>\n",
        "      <th></th>\n",
        "      <th colspan=\"2\" halign=\"left\">Stats</th>\n",
        "      <th colspan=\"3\" halign=\"left\">Median Survival</th>\n",
        "      <th colspan=\"3\" halign=\"left\">5y Survival</th>\n",
        "    </tr>\n",
        "    <tr>\n",
        "      <th></th>\n",
        "      <th># Patients</th>\n",
        "      <th># Events</th>\n",
        "      <th>Median</th>\n",
        "      <th>Lower</th>\n",
        "      <th>Upper</th>\n",
        "      <th>Lower</th>\n",
        "      <th>Surv</th>\n",
        "      <th>Upper</th>\n",
        "    </tr>\n",
        "  </thead>\n",
        "  <tbody>\n",
        "    <tr>\n",
        "      <th>After 1999</th>\n",
        "      <td> 192</td>\n",
        "      <td> 62</td>\n",
        "      <td> 4.71</td>\n",
        "      <td> 2.25</td>\n",
        "      <td>  NaN</td>\n",
        "      <td> 0.36</td>\n",
        "      <td> 0.47</td>\n",
        "      <td> 0.60</td>\n",
        "    </tr>\n",
        "    <tr>\n",
        "      <th>Before 1999</th>\n",
        "      <td>  26</td>\n",
        "      <td> 26</td>\n",
        "      <td> 1.51</td>\n",
        "      <td> 1.00</td>\n",
        "      <td> 2.99</td>\n",
        "      <td> 0.04</td>\n",
        "      <td> 0.12</td>\n",
        "      <td> 0.33</td>\n",
        "    </tr>\n",
        "  </tbody>\n",
        "</table>\n",
        "</div>"
       ],
       "output_type": "pyout",
       "prompt_number": 244,
       "text": [
        "                  Stats            Median Survival                5y Survival             \n",
        "             # Patients  # Events           Median  Lower  Upper        Lower  Surv  Upper\n",
        "After 1999          192        62             4.71   2.25    NaN         0.36  0.47   0.60\n",
        "Before 1999          26        26             1.51   1.00   2.99         0.04  0.12   0.33"
       ]
      },
      {
       "output_type": "display_data",
       "png": "[encoded data removed]"
      }
     ],
     "prompt_number": 244
    },
    {
     "cell_type": "code",
     "collapsed": false,
     "input": [
      "import Stats.Survival as S\n",
      "reload(S)"
     ],
     "language": "python",
     "metadata": {},
     "outputs": [
      {
       "output_type": "pyout",
       "prompt_number": 407,
       "text": [
        "<module 'Stats.Survival' from 'Stats/Survival.py'>"
       ]
      }
     ],
     "prompt_number": 407
    },
    {
     "cell_type": "code",
     "collapsed": false,
     "input": [
      "s = (p53_mut=='Mutated')"
     ],
     "language": "python",
     "metadata": {},
     "outputs": [],
     "prompt_number": 408
    },
    {
     "cell_type": "code",
     "collapsed": false,
     "input": [
      "S.log_rank(p53_mut=='Mutated', surv)"
     ],
     "language": "python",
     "metadata": {},
     "outputs": [
      {
       "output_type": "pyout",
       "prompt_number": 409,
       "text": [
        "chi2    1.71e+01\n",
        "p       3.49e-05\n",
        "dtype: float64"
       ]
      }
     ],
     "prompt_number": 409
    },
    {
     "cell_type": "markdown",
     "metadata": {},
     "source": [
      "###Final Clinical Table"
     ]
    },
    {
     "cell_type": "code",
     "collapsed": false,
     "input": [
      "t = pd.concat([get_surv_fit(surv, f) for f in [hpv, stage, lymph_stage, invasion, spread, tumor_subdivision, old_age, year]], \n",
      "               keys=['HPV', 'Stage', 'Lymph Stage', 'Perineural Invasion', 'Pathological Spread', 'Subdivision', 'Age', 'Year of Surgery'])\n",
      "t"
     ],
     "language": "python",
     "metadata": {},
     "outputs": [
      {
       "html": [
        "<div style=\"max-height:1000px;max-width:1500px;overflow:auto;\">\n",
        "<table border=\"1\" class=\"dataframe\">\n",
        "  <thead>\n",
        "    <tr>\n",
        "      <th></th>\n",
        "      <th></th>\n",
        "      <th colspan=\"2\" halign=\"left\">Stats</th>\n",
        "      <th colspan=\"3\" halign=\"left\">Median Survival</th>\n",
        "      <th colspan=\"3\" halign=\"left\">5y Survival</th>\n",
        "    </tr>\n",
        "    <tr>\n",
        "      <th></th>\n",
        "      <th></th>\n",
        "      <th># Patients</th>\n",
        "      <th># Events</th>\n",
        "      <th>Median</th>\n",
        "      <th>Lower</th>\n",
        "      <th>Upper</th>\n",
        "      <th>Lower</th>\n",
        "      <th>Surv</th>\n",
        "      <th>Upper</th>\n",
        "    </tr>\n",
        "  </thead>\n",
        "  <tbody>\n",
        "    <tr>\n",
        "      <th rowspan=\"2\" valign=\"top\">HPV</th>\n",
        "      <th>HPV-</th>\n",
        "      <td> 244</td>\n",
        "      <td> 102</td>\n",
        "      <td> 2.25</td>\n",
        "      <td> 1.64</td>\n",
        "      <td> 4.36</td>\n",
        "      <td> 0.31</td>\n",
        "      <td> 0.39</td>\n",
        "      <td> 0.48</td>\n",
        "    </tr>\n",
        "    <tr>\n",
        "      <th>HPV+</th>\n",
        "      <td>  35</td>\n",
        "      <td>   8</td>\n",
        "      <td> 4.84</td>\n",
        "      <td> 4.82</td>\n",
        "      <td>  NaN</td>\n",
        "      <td> 0.26</td>\n",
        "      <td> 0.48</td>\n",
        "      <td> 0.91</td>\n",
        "    </tr>\n",
        "    <tr>\n",
        "      <th rowspan=\"4\" valign=\"top\">Stage</th>\n",
        "      <th>stge i</th>\n",
        "      <td>  12</td>\n",
        "      <td>   2</td>\n",
        "      <td>  NaN</td>\n",
        "      <td> 1.79</td>\n",
        "      <td>  NaN</td>\n",
        "      <td> 0.38</td>\n",
        "      <td> 0.67</td>\n",
        "      <td> 1.00</td>\n",
        "    </tr>\n",
        "    <tr>\n",
        "      <th>stge ii</th>\n",
        "      <td>  35</td>\n",
        "      <td>  17</td>\n",
        "      <td> 1.81</td>\n",
        "      <td> 1.10</td>\n",
        "      <td>  NaN</td>\n",
        "      <td> 0.13</td>\n",
        "      <td> 0.28</td>\n",
        "      <td> 0.62</td>\n",
        "    </tr>\n",
        "    <tr>\n",
        "      <th>stge iii</th>\n",
        "      <td>  31</td>\n",
        "      <td>  14</td>\n",
        "      <td> 4.49</td>\n",
        "      <td> 1.10</td>\n",
        "      <td>  NaN</td>\n",
        "      <td> 0.14</td>\n",
        "      <td> 0.31</td>\n",
        "      <td> 0.71</td>\n",
        "    </tr>\n",
        "    <tr>\n",
        "      <th>stge iv</th>\n",
        "      <td> 106</td>\n",
        "      <td>  41</td>\n",
        "      <td> 2.84</td>\n",
        "      <td> 1.64</td>\n",
        "      <td>  NaN</td>\n",
        "      <td> 0.26</td>\n",
        "      <td> 0.37</td>\n",
        "      <td> 0.54</td>\n",
        "    </tr>\n",
        "    <tr>\n",
        "      <th rowspan=\"4\" valign=\"top\">Lymph Stage</th>\n",
        "      <th>n0</th>\n",
        "      <td>  70</td>\n",
        "      <td>  21</td>\n",
        "      <td>  NaN</td>\n",
        "      <td> 2.30</td>\n",
        "      <td>  NaN</td>\n",
        "      <td> 0.37</td>\n",
        "      <td> 0.52</td>\n",
        "      <td> 0.74</td>\n",
        "    </tr>\n",
        "    <tr>\n",
        "      <th>n1</th>\n",
        "      <td>  23</td>\n",
        "      <td>   7</td>\n",
        "      <td>  NaN</td>\n",
        "      <td> 2.84</td>\n",
        "      <td>  NaN</td>\n",
        "      <td> 0.29</td>\n",
        "      <td> 0.50</td>\n",
        "      <td> 0.89</td>\n",
        "    </tr>\n",
        "    <tr>\n",
        "      <th>n2</th>\n",
        "      <td>  69</td>\n",
        "      <td>  28</td>\n",
        "      <td> 1.90</td>\n",
        "      <td> 1.42</td>\n",
        "      <td>  NaN</td>\n",
        "      <td> 0.17</td>\n",
        "      <td> 0.31</td>\n",
        "      <td> 0.54</td>\n",
        "    </tr>\n",
        "    <tr>\n",
        "      <th>n3</th>\n",
        "      <td>   3</td>\n",
        "      <td>   3</td>\n",
        "      <td> 0.96</td>\n",
        "      <td> 0.69</td>\n",
        "      <td>  NaN</td>\n",
        "      <td>  NaN</td>\n",
        "      <td>  NaN</td>\n",
        "      <td>  NaN</td>\n",
        "    </tr>\n",
        "    <tr>\n",
        "      <th rowspan=\"2\" valign=\"top\">Perineural Invasion</th>\n",
        "      <th>no</th>\n",
        "      <td>  78</td>\n",
        "      <td>  24</td>\n",
        "      <td> 4.00</td>\n",
        "      <td> 2.30</td>\n",
        "      <td>  NaN</td>\n",
        "      <td> 0.24</td>\n",
        "      <td> 0.40</td>\n",
        "      <td> 0.69</td>\n",
        "    </tr>\n",
        "    <tr>\n",
        "      <th>yes</th>\n",
        "      <td>  72</td>\n",
        "      <td>  33</td>\n",
        "      <td> 2.50</td>\n",
        "      <td> 1.31</td>\n",
        "      <td>  NaN</td>\n",
        "      <td> 0.22</td>\n",
        "      <td> 0.34</td>\n",
        "      <td> 0.54</td>\n",
        "    </tr>\n",
        "    <tr>\n",
        "      <th rowspan=\"3\" valign=\"top\">Pathological Spread</th>\n",
        "      <th>gross extension</th>\n",
        "      <td>  12</td>\n",
        "      <td>   7</td>\n",
        "      <td> 1.25</td>\n",
        "      <td> 1.14</td>\n",
        "      <td>  NaN</td>\n",
        "      <td>  NaN</td>\n",
        "      <td>  NaN</td>\n",
        "      <td>  NaN</td>\n",
        "    </tr>\n",
        "    <tr>\n",
        "      <th>microscopic extension</th>\n",
        "      <td>  27</td>\n",
        "      <td>  15</td>\n",
        "      <td> 1.50</td>\n",
        "      <td> 0.99</td>\n",
        "      <td>  NaN</td>\n",
        "      <td> 0.10</td>\n",
        "      <td> 0.23</td>\n",
        "      <td> 0.55</td>\n",
        "    </tr>\n",
        "    <tr>\n",
        "      <th>no extranodal extension</th>\n",
        "      <td>  97</td>\n",
        "      <td>  35</td>\n",
        "      <td> 2.99</td>\n",
        "      <td> 1.81</td>\n",
        "      <td>  NaN</td>\n",
        "      <td> 0.29</td>\n",
        "      <td> 0.42</td>\n",
        "      <td> 0.60</td>\n",
        "    </tr>\n",
        "    <tr>\n",
        "      <th rowspan=\"3\" valign=\"top\">Subdivision</th>\n",
        "      <th>larynx</th>\n",
        "      <td>  57</td>\n",
        "      <td>  21</td>\n",
        "      <td> 1.90</td>\n",
        "      <td> 1.54</td>\n",
        "      <td>  NaN</td>\n",
        "      <td> 0.27</td>\n",
        "      <td> 0.41</td>\n",
        "      <td> 0.62</td>\n",
        "    </tr>\n",
        "    <tr>\n",
        "      <th>oral cavity</th>\n",
        "      <td> 128</td>\n",
        "      <td>  56</td>\n",
        "      <td> 2.96</td>\n",
        "      <td> 1.66</td>\n",
        "      <td> 4.58</td>\n",
        "      <td> 0.16</td>\n",
        "      <td> 0.27</td>\n",
        "      <td> 0.46</td>\n",
        "    </tr>\n",
        "    <tr>\n",
        "      <th>oropharynx</th>\n",
        "      <td>  30</td>\n",
        "      <td>   5</td>\n",
        "      <td>  NaN</td>\n",
        "      <td> 4.82</td>\n",
        "      <td>  NaN</td>\n",
        "      <td> 0.22</td>\n",
        "      <td> 0.52</td>\n",
        "      <td> 1.00</td>\n",
        "    </tr>\n",
        "    <tr>\n",
        "      <th rowspan=\"2\" valign=\"top\">Age</th>\n",
        "      <th>Age &lt; 85</th>\n",
        "      <td> 318</td>\n",
        "      <td> 111</td>\n",
        "      <td> 4.00</td>\n",
        "      <td> 2.84</td>\n",
        "      <td>  NaN</td>\n",
        "      <td> 0.33</td>\n",
        "      <td> 0.41</td>\n",
        "      <td> 0.51</td>\n",
        "    </tr>\n",
        "    <tr>\n",
        "      <th>Age &gt;</th>\n",
        "      <td>   8</td>\n",
        "      <td>   7</td>\n",
        "      <td> 0.67</td>\n",
        "      <td> 0.39</td>\n",
        "      <td>  NaN</td>\n",
        "      <td>  NaN</td>\n",
        "      <td>  NaN</td>\n",
        "      <td>  NaN</td>\n",
        "    </tr>\n",
        "    <tr>\n",
        "      <th rowspan=\"2\" valign=\"top\">Year of Surgery</th>\n",
        "      <th>After 1999</th>\n",
        "      <td> 192</td>\n",
        "      <td>  60</td>\n",
        "      <td> 4.71</td>\n",
        "      <td> 2.25</td>\n",
        "      <td>  NaN</td>\n",
        "      <td> 0.36</td>\n",
        "      <td> 0.47</td>\n",
        "      <td> 0.60</td>\n",
        "    </tr>\n",
        "    <tr>\n",
        "      <th>Before 1999</th>\n",
        "      <td>  26</td>\n",
        "      <td>  23</td>\n",
        "      <td> 1.51</td>\n",
        "      <td> 1.00</td>\n",
        "      <td> 2.99</td>\n",
        "      <td> 0.04</td>\n",
        "      <td> 0.12</td>\n",
        "      <td> 0.33</td>\n",
        "    </tr>\n",
        "  </tbody>\n",
        "</table>\n",
        "</div>"
       ],
       "output_type": "pyout",
       "prompt_number": 245,
       "text": [
        "                                                  Stats            Median Survival                5y Survival             \n",
        "                                             # Patients  # Events           Median  Lower  Upper        Lower  Surv  Upper\n",
        "HPV                 HPV-                            244       102             2.25   1.64   4.36         0.31  0.39   0.48\n",
        "                    HPV+                             35         8             4.84   4.82    NaN         0.26  0.48   0.91\n",
        "Stage               stge i                           12         2              NaN   1.79    NaN         0.38  0.67   1.00\n",
        "                    stge ii                          35        17             1.81   1.10    NaN         0.13  0.28   0.62\n",
        "                    stge iii                         31        14             4.49   1.10    NaN         0.14  0.31   0.71\n",
        "                    stge iv                         106        41             2.84   1.64    NaN         0.26  0.37   0.54\n",
        "Lymph Stage         n0                               70        21              NaN   2.30    NaN         0.37  0.52   0.74\n",
        "                    n1                               23         7              NaN   2.84    NaN         0.29  0.50   0.89\n",
        "                    n2                               69        28             1.90   1.42    NaN         0.17  0.31   0.54\n",
        "                    n3                                3         3             0.96   0.69    NaN          NaN   NaN    NaN\n",
        "Perineural Invasion no                               78        24             4.00   2.30    NaN         0.24  0.40   0.69\n",
        "                    yes                              72        33             2.50   1.31    NaN         0.22  0.34   0.54\n",
        "Pathological Spread gross extension                  12         7             1.25   1.14    NaN          NaN   NaN    NaN\n",
        "                    microscopic extension            27        15             1.50   0.99    NaN         0.10  0.23   0.55\n",
        "                    no extranodal extension          97        35             2.99   1.81    NaN         0.29  0.42   0.60\n",
        "Subdivision         larynx                           57        21             1.90   1.54    NaN         0.27  0.41   0.62\n",
        "                    oral cavity                     128        56             2.96   1.66   4.58         0.16  0.27   0.46\n",
        "                    oropharynx                       30         5              NaN   4.82    NaN         0.22  0.52   1.00\n",
        "Age                 Age < 85                        318       111             4.00   2.84    NaN         0.33  0.41   0.51\n",
        "                    Age >                             8         7             0.67   0.39    NaN          NaN   NaN    NaN\n",
        "Year of Surgery     After 1999                      192        60             4.71   2.25    NaN         0.36  0.47   0.60\n",
        "                    Before 1999                      26        23             1.51   1.00   2.99         0.04  0.12   0.33"
       ]
      }
     ],
     "prompt_number": 245
    },
    {
     "cell_type": "code",
     "collapsed": false,
     "input": [
      "clinical_df = pd.concat([hpv, stage, lymph_stage, invasion, spread, tumor_subdivision, old_age, year], \n",
      "                        keys=['HPV', 'Stage', 'Lymph_Stage', 'Perineural_Invasion', \n",
      "                              'Pathological_Spread', 'Subdivision', 'Age', 'Year_of_Surgery'],\n",
      "                        axis=1)"
     ],
     "language": "python",
     "metadata": {},
     "outputs": [],
     "prompt_number": 246
    },
    {
     "cell_type": "code",
     "collapsed": false,
     "input": [
      "clinical_vars = clinical_df\n",
      "clinical_vars = clinical_vars.fillna('NA')\n",
      "get_cox_ph_ms(surv, covariates=clinical_vars, return_val='model_desc', interactions=False);"
     ],
     "language": "python",
     "metadata": {},
     "outputs": [
      {
       "output_type": "stream",
       "stream": "stdout",
       "text": [
        "\n",
        "                             coef exp(coef) se(coef)      z       p\n",
        "HPVHPV+                    -0.878     0.416    0.377 -2.330 2.0e-02\n",
        "HPVNA                      -0.963     0.382    0.385 -2.500 1.2e-02\n",
        "Lymph_Stagen1               0.167     1.181    0.439  0.380 7.0e-01\n",
        "Lymph_Stagen2               0.579     1.783    0.292  1.979 4.8e-02\n",
        "Lymph_Stagen3               1.998     7.371    0.653  3.061 2.2e-03\n",
        "Lymph_StageNA               0.452     1.572    0.306  1.477 1.4e-01\n",
        "AgeAge >= 85                1.984     7.270    0.409  4.849 1.2e-06\n",
        "Year_of_SurgeryBefore 1999  0.658     1.931    0.255  2.585 9.7e-03\n",
        "Year_of_SurgeryNA          -0.243     0.785    0.285 -0.851 3.9e-01\n",
        "\n",
        "Likelihood ratio test=45.7  on 9 df, p=6.91e-07  n= 326, number of events= 118 \n",
        "\n"
       ]
      }
     ],
     "prompt_number": 247
    },
    {
     "cell_type": "code",
     "collapsed": false,
     "input": [
      "keepers = true_index(old_age == 'Age < 85')\n",
      "clinical_vars = pd.concat([hpv, stage, lymph_stage, invasion, spread, tumor_subdivision, year], \n",
      "                                          keys=['HPV', 'Stage', 'Lymph_Stage', 'Perineural_Invasion', \n",
      "                                                'Pathological_Spread', 'Subdivision', 'Year_of_Surgery'],\n",
      "                                          axis=1)\n",
      "clinical_vars = clinical_vars.fillna('NA').ix[keepers]\n",
      "get_cox_ph_ms(surv, covariates=clinical_vars, return_val='model_desc', interactions=False);"
     ],
     "language": "python",
     "metadata": {},
     "outputs": [
      {
       "output_type": "stream",
       "stream": "stdout",
       "text": [
        "\n",
        "                                             coef exp(coef) se(coef)      z\n",
        "HPVHPV+                                    -0.727     0.484    0.380 -1.914\n",
        "HPVNA                                      -0.487     0.615    0.404 -1.205\n",
        "Pathological_Spreadmicroscopic extension   -0.100     0.905    0.467 -0.214\n",
        "Pathological_SpreadNA                      -0.786     0.456    0.445 -1.764\n",
        "Pathological_Spreadno extranodal extension -0.686     0.504    0.433 -1.586\n",
        "Year_of_SurgeryBefore 1999                  0.647     1.910    0.259  2.493\n",
        "Year_of_SurgeryNA                           0.119     1.126    0.287  0.414\n",
        "                                               p\n",
        "HPVHPV+                                    0.056\n",
        "HPVNA                                      0.230\n",
        "Pathological_Spreadmicroscopic extension   0.830\n",
        "Pathological_SpreadNA                      0.078\n",
        "Pathological_Spreadno extranodal extension 0.110\n",
        "Year_of_SurgeryBefore 1999                 0.013\n",
        "Year_of_SurgeryNA                          0.680\n",
        "\n",
        "Likelihood ratio test=24.1  on 7 df, p=0.00111  n= 304, number of events= 110 \n",
        "\n"
       ]
      }
     ],
     "prompt_number": 248
    },
    {
     "cell_type": "code",
     "collapsed": false,
     "input": [
      "keepers = true_index(year == 'After 1999')\n",
      "clinical_vars = pd.concat([hpv, stage, lymph_stage, invasion, spread, tumor_subdivision], \n",
      "                                          keys=['HPV', 'Stage', 'Lymph_Stage', 'Perineural_Invasion', \n",
      "                                                'Pathological_Spread', 'Subdivision'],\n",
      "                                          axis=1)\n",
      "clinical_vars = clinical_vars.fillna('NA').ix[keepers].dropna()\n",
      "get_cox_ph_ms(surv, covariates=clinical_vars, return_val='model_desc', interactions=False);"
     ],
     "language": "python",
     "metadata": {},
     "outputs": [
      {
       "output_type": "stream",
       "stream": "stdout",
       "text": [
        "\n",
        "                         coef exp(coef) se(coef)      z       p\n",
        "Lymph_Stagen1          -0.117     0.890    0.511 -0.229 8.2e-01\n",
        "Lymph_Stagen2           0.362     1.437    0.334  1.084 2.8e-01\n",
        "Lymph_Stagen3           3.301    27.145    0.825  4.002 6.3e-05\n",
        "Lymph_StageNA           0.801     2.229    0.365  2.195 2.8e-02\n",
        "SubdivisionNA          -0.352     0.703    1.047 -0.336 7.4e-01\n",
        "Subdivisionoral cavity  0.283     1.327    0.311  0.910 3.6e-01\n",
        "Subdivisionoropharynx  -1.461     0.232    0.584 -2.504 1.2e-02\n",
        "\n",
        "Likelihood ratio test=18.4  on 7 df, p=0.0102  n= 192, number of events= 60 \n",
        "\n"
       ]
      }
     ],
     "prompt_number": 249
    },
    {
     "cell_type": "code",
     "collapsed": false,
     "input": [
      "rna_corr = pd.concat({v: screen_feature(f, kruskal_pandas, rna.features).head(3) \n",
      "                      for v,f in clinical_df.iteritems()})"
     ],
     "language": "python",
     "metadata": {},
     "outputs": [],
     "prompt_number": 250
    },
    {
     "cell_type": "code",
     "collapsed": false,
     "input": [
      "rna_corr"
     ],
     "language": "python",
     "metadata": {},
     "outputs": [
      {
       "html": [
        "<div style=\"max-height:1000px;max-width:1500px;overflow:auto;\">\n",
        "<table border=\"1\" class=\"dataframe\">\n",
        "  <thead>\n",
        "    <tr style=\"text-align: right;\">\n",
        "      <th></th>\n",
        "      <th></th>\n",
        "      <th>H</th>\n",
        "      <th>p</th>\n",
        "      <th>q</th>\n",
        "    </tr>\n",
        "  </thead>\n",
        "  <tbody>\n",
        "    <tr>\n",
        "      <th rowspan=\"3\" valign=\"top\">Age</th>\n",
        "      <th>BIOCARTA_PGC1A_PATHWAY</th>\n",
        "      <td>  8.57</td>\n",
        "      <td> 3.42e-03</td>\n",
        "      <td> 9.28e-01</td>\n",
        "    </tr>\n",
        "    <tr>\n",
        "      <th>BIOCARTA_CYTOKINE_PATHWAY</th>\n",
        "      <td>  8.43</td>\n",
        "      <td> 3.68e-03</td>\n",
        "      <td> 9.28e-01</td>\n",
        "    </tr>\n",
        "    <tr>\n",
        "      <th>BIOCARTA_DC_PATHWAY</th>\n",
        "      <td>  8.03</td>\n",
        "      <td> 4.60e-03</td>\n",
        "      <td> 9.28e-01</td>\n",
        "    </tr>\n",
        "    <tr>\n",
        "      <th rowspan=\"3\" valign=\"top\">HPV</th>\n",
        "      <th>BIOCARTA_ARF_PATHWAY</th>\n",
        "      <td> 42.21</td>\n",
        "      <td> 8.22e-11</td>\n",
        "      <td> 1.59e-08</td>\n",
        "    </tr>\n",
        "    <tr>\n",
        "      <th>REACTOME_UNWINDING_OF_DNA</th>\n",
        "      <td> 42.15</td>\n",
        "      <td> 8.46e-11</td>\n",
        "      <td> 1.59e-08</td>\n",
        "    </tr>\n",
        "    <tr>\n",
        "      <th>REACTOME_E2F_TRANSCRIPTIONAL_TARGETS_AT_G1_S</th>\n",
        "      <td> 41.98</td>\n",
        "      <td> 9.22e-11</td>\n",
        "      <td> 1.59e-08</td>\n",
        "    </tr>\n",
        "    <tr>\n",
        "      <th rowspan=\"3\" valign=\"top\">Lymph_Stage</th>\n",
        "      <th>ST_GA13_PATHWAY</th>\n",
        "      <td> 22.02</td>\n",
        "      <td> 6.46e-05</td>\n",
        "      <td> 4.11e-02</td>\n",
        "    </tr>\n",
        "    <tr>\n",
        "      <th>BIOCARTA_MYOSIN_PATHWAY</th>\n",
        "      <td> 21.13</td>\n",
        "      <td> 9.87e-05</td>\n",
        "      <td> 4.11e-02</td>\n",
        "    </tr>\n",
        "    <tr>\n",
        "      <th>KEGG_ARGININE_AND_PROLINE_METABOLISM</th>\n",
        "      <td> 19.72</td>\n",
        "      <td> 1.94e-04</td>\n",
        "      <td> 4.43e-02</td>\n",
        "    </tr>\n",
        "    <tr>\n",
        "      <th rowspan=\"3\" valign=\"top\">Pathological_Spread</th>\n",
        "      <th>REACTOME_APOPTOTIC_CLEAVAGE_OF_CELL_ADHESION_PROTEINS</th>\n",
        "      <td> 16.75</td>\n",
        "      <td> 2.30e-04</td>\n",
        "      <td> 1.68e-01</td>\n",
        "    </tr>\n",
        "    <tr>\n",
        "      <th>REACTOME_PHOSPHOLIPASE_CMEDIATED_CASCADE</th>\n",
        "      <td> 15.02</td>\n",
        "      <td> 5.48e-04</td>\n",
        "      <td> 1.68e-01</td>\n",
        "    </tr>\n",
        "    <tr>\n",
        "      <th>REACTOME_AMINE_COMPOUND_SLC_TRANSPORTERS</th>\n",
        "      <td> 14.37</td>\n",
        "      <td> 7.57e-04</td>\n",
        "      <td> 1.68e-01</td>\n",
        "    </tr>\n",
        "    <tr>\n",
        "      <th rowspan=\"3\" valign=\"top\">Perineural_Invasion</th>\n",
        "      <th>BIOCARTA_ETC_PATHWAY</th>\n",
        "      <td> 10.08</td>\n",
        "      <td> 1.50e-03</td>\n",
        "      <td> 2.75e-01</td>\n",
        "    </tr>\n",
        "    <tr>\n",
        "      <th>REACTOME_AMINO_ACID_SYNTHESIS_AND_INTERCONVERSION</th>\n",
        "      <td>  9.98</td>\n",
        "      <td> 1.59e-03</td>\n",
        "      <td> 2.75e-01</td>\n",
        "    </tr>\n",
        "    <tr>\n",
        "      <th>REACTOME_SIGNALLING_TO_RAS</th>\n",
        "      <td>  9.34</td>\n",
        "      <td> 2.24e-03</td>\n",
        "      <td> 2.75e-01</td>\n",
        "    </tr>\n",
        "    <tr>\n",
        "      <th rowspan=\"3\" valign=\"top\">Stage</th>\n",
        "      <th>REACTOME_IRS_RELATED_EVENTS</th>\n",
        "      <td> 18.81</td>\n",
        "      <td> 3.00e-04</td>\n",
        "      <td> 2.50e-01</td>\n",
        "    </tr>\n",
        "    <tr>\n",
        "      <th>REACTOME_PI3K_CASCADE</th>\n",
        "      <td> 16.04</td>\n",
        "      <td> 1.11e-03</td>\n",
        "      <td> 3.21e-01</td>\n",
        "    </tr>\n",
        "    <tr>\n",
        "      <th>REACTOME_DOWNSTREAM_SIGNALING_OF_ACTIVATED_FGFR</th>\n",
        "      <td> 15.96</td>\n",
        "      <td> 1.16e-03</td>\n",
        "      <td> 3.21e-01</td>\n",
        "    </tr>\n",
        "    <tr>\n",
        "      <th rowspan=\"3\" valign=\"top\">Subdivision</th>\n",
        "      <th>ST_GAQ_PATHWAY</th>\n",
        "      <td> 55.12</td>\n",
        "      <td> 1.08e-12</td>\n",
        "      <td> 8.95e-10</td>\n",
        "    </tr>\n",
        "    <tr>\n",
        "      <th>KEGG_MISMATCH_REPAIR</th>\n",
        "      <td> 47.63</td>\n",
        "      <td> 4.55e-11</td>\n",
        "      <td> 1.89e-08</td>\n",
        "    </tr>\n",
        "    <tr>\n",
        "      <th>BIOCARTA_MCM_PATHWAY</th>\n",
        "      <td> 44.85</td>\n",
        "      <td> 1.83e-10</td>\n",
        "      <td> 4.69e-08</td>\n",
        "    </tr>\n",
        "    <tr>\n",
        "      <th rowspan=\"3\" valign=\"top\">Year_of_Surgery</th>\n",
        "      <th>REACTOME_CALCITONIN_LIKE_LIGAND_RECEPTORS</th>\n",
        "      <td> 15.23</td>\n",
        "      <td> 9.53e-05</td>\n",
        "      <td> 7.93e-02</td>\n",
        "    </tr>\n",
        "    <tr>\n",
        "      <th>BIOCARTA_CARM1_PATHWAY</th>\n",
        "      <td> 12.42</td>\n",
        "      <td> 4.25e-04</td>\n",
        "      <td> 1.21e-01</td>\n",
        "    </tr>\n",
        "    <tr>\n",
        "      <th>BIOCARTA_CK1_PATHWAY</th>\n",
        "      <td> 11.90</td>\n",
        "      <td> 5.60e-04</td>\n",
        "      <td> 1.21e-01</td>\n",
        "    </tr>\n",
        "  </tbody>\n",
        "</table>\n",
        "</div>"
       ],
       "output_type": "pyout",
       "prompt_number": 251,
       "text": [
        "                                                                               H         p         q\n",
        "Age                 BIOCARTA_PGC1A_PATHWAY                                  8.57  3.42e-03  9.28e-01\n",
        "                    BIOCARTA_CYTOKINE_PATHWAY                               8.43  3.68e-03  9.28e-01\n",
        "                    BIOCARTA_DC_PATHWAY                                     8.03  4.60e-03  9.28e-01\n",
        "HPV                 BIOCARTA_ARF_PATHWAY                                   42.21  8.22e-11  1.59e-08\n",
        "                    REACTOME_UNWINDING_OF_DNA                              42.15  8.46e-11  1.59e-08\n",
        "                    REACTOME_E2F_TRANSCRIPTIONAL_TARGETS_AT_G1_S           41.98  9.22e-11  1.59e-08\n",
        "Lymph_Stage         ST_GA13_PATHWAY                                        22.02  6.46e-05  4.11e-02\n",
        "                    BIOCARTA_MYOSIN_PATHWAY                                21.13  9.87e-05  4.11e-02\n",
        "                    KEGG_ARGININE_AND_PROLINE_METABOLISM                   19.72  1.94e-04  4.43e-02\n",
        "Pathological_Spread REACTOME_APOPTOTIC_CLEAVAGE_OF_CELL_ADHESION_PROTEINS  16.75  2.30e-04  1.68e-01\n",
        "                    REACTOME_PHOSPHOLIPASE_CMEDIATED_CASCADE               15.02  5.48e-04  1.68e-01\n",
        "                    REACTOME_AMINE_COMPOUND_SLC_TRANSPORTERS               14.37  7.57e-04  1.68e-01\n",
        "Perineural_Invasion BIOCARTA_ETC_PATHWAY                                   10.08  1.50e-03  2.75e-01\n",
        "                    REACTOME_AMINO_ACID_SYNTHESIS_AND_INTERCONVERSION       9.98  1.59e-03  2.75e-01\n",
        "                    REACTOME_SIGNALLING_TO_RAS                              9.34  2.24e-03  2.75e-01\n",
        "Stage               REACTOME_IRS_RELATED_EVENTS                            18.81  3.00e-04  2.50e-01\n",
        "                    REACTOME_PI3K_CASCADE                                  16.04  1.11e-03  3.21e-01\n",
        "                    REACTOME_DOWNSTREAM_SIGNALING_OF_ACTIVATED_FGFR        15.96  1.16e-03  3.21e-01\n",
        "Subdivision         ST_GAQ_PATHWAY                                         55.12  1.08e-12  8.95e-10\n",
        "                    KEGG_MISMATCH_REPAIR                                   47.63  4.55e-11  1.89e-08\n",
        "                    BIOCARTA_MCM_PATHWAY                                   44.85  1.83e-10  4.69e-08\n",
        "Year_of_Surgery     REACTOME_CALCITONIN_LIKE_LIGAND_RECEPTORS              15.23  9.53e-05  7.93e-02\n",
        "                    BIOCARTA_CARM1_PATHWAY                                 12.42  4.25e-04  1.21e-01\n",
        "                    BIOCARTA_CK1_PATHWAY                                   11.90  5.60e-04  1.21e-01"
       ]
      }
     ],
     "prompt_number": 251
    },
    {
     "cell_type": "code",
     "collapsed": false,
     "input": [
      "mir_corr = pd.concat({v: screen_feature(f, kruskal_pandas, mirna.features.ix['real']).head(3) \n",
      "                      for v,f in clinical_df.iteritems()})"
     ],
     "language": "python",
     "metadata": {},
     "outputs": [],
     "prompt_number": 252
    },
    {
     "cell_type": "code",
     "collapsed": false,
     "input": [
      "mir_corr"
     ],
     "language": "python",
     "metadata": {},
     "outputs": [
      {
       "html": [
        "<div style=\"max-height:1000px;max-width:1500px;overflow:auto;\">\n",
        "<table border=\"1\" class=\"dataframe\">\n",
        "  <thead>\n",
        "    <tr style=\"text-align: right;\">\n",
        "      <th></th>\n",
        "      <th></th>\n",
        "      <th>H</th>\n",
        "      <th>p</th>\n",
        "      <th>q</th>\n",
        "    </tr>\n",
        "  </thead>\n",
        "  <tbody>\n",
        "    <tr>\n",
        "      <th rowspan=\"3\" valign=\"top\">Age</th>\n",
        "      <th>hsa-mir-133b</th>\n",
        "      <td>  6.83</td>\n",
        "      <td> 8.94e-03</td>\n",
        "      <td> 7.33e-01</td>\n",
        "    </tr>\n",
        "    <tr>\n",
        "      <th>hsa-let-7f-1</th>\n",
        "      <td>  6.59</td>\n",
        "      <td> 1.03e-02</td>\n",
        "      <td> 7.33e-01</td>\n",
        "    </tr>\n",
        "    <tr>\n",
        "      <th>hsa-let-7e</th>\n",
        "      <td>  6.40</td>\n",
        "      <td> 1.14e-02</td>\n",
        "      <td> 7.33e-01</td>\n",
        "    </tr>\n",
        "    <tr>\n",
        "      <th rowspan=\"3\" valign=\"top\">HPV</th>\n",
        "      <th>hsa-mir-20b</th>\n",
        "      <td> 35.01</td>\n",
        "      <td> 3.29e-09</td>\n",
        "      <td> 1.58e-06</td>\n",
        "    </tr>\n",
        "    <tr>\n",
        "      <th>hsa-mir-363</th>\n",
        "      <td> 32.54</td>\n",
        "      <td> 1.17e-08</td>\n",
        "      <td> 2.80e-06</td>\n",
        "    </tr>\n",
        "    <tr>\n",
        "      <th>hsa-mir-9-2</th>\n",
        "      <td> 28.16</td>\n",
        "      <td> 1.12e-07</td>\n",
        "      <td> 1.44e-05</td>\n",
        "    </tr>\n",
        "    <tr>\n",
        "      <th rowspan=\"3\" valign=\"top\">Lymph_Stage</th>\n",
        "      <th>hsa-mir-195</th>\n",
        "      <td> 17.28</td>\n",
        "      <td> 6.20e-04</td>\n",
        "      <td> 2.38e-01</td>\n",
        "    </tr>\n",
        "    <tr>\n",
        "      <th>hsa-mir-222</th>\n",
        "      <td> 16.28</td>\n",
        "      <td> 9.92e-04</td>\n",
        "      <td> 2.38e-01</td>\n",
        "    </tr>\n",
        "    <tr>\n",
        "      <th>hsa-mir-411</th>\n",
        "      <td> 13.50</td>\n",
        "      <td> 3.68e-03</td>\n",
        "      <td> 4.25e-01</td>\n",
        "    </tr>\n",
        "    <tr>\n",
        "      <th rowspan=\"3\" valign=\"top\">Pathological_Spread</th>\n",
        "      <th>hsa-mir-200a</th>\n",
        "      <td> 14.91</td>\n",
        "      <td> 5.79e-04</td>\n",
        "      <td> 1.83e-01</td>\n",
        "    </tr>\n",
        "    <tr>\n",
        "      <th>hsa-mir-195</th>\n",
        "      <td> 14.35</td>\n",
        "      <td> 7.64e-04</td>\n",
        "      <td> 1.83e-01</td>\n",
        "    </tr>\n",
        "    <tr>\n",
        "      <th>hsa-mir-93</th>\n",
        "      <td> 12.91</td>\n",
        "      <td> 1.57e-03</td>\n",
        "      <td> 2.51e-01</td>\n",
        "    </tr>\n",
        "    <tr>\n",
        "      <th rowspan=\"3\" valign=\"top\">Perineural_Invasion</th>\n",
        "      <th>hsa-mir-93</th>\n",
        "      <td> 16.42</td>\n",
        "      <td> 5.09e-05</td>\n",
        "      <td> 2.44e-02</td>\n",
        "    </tr>\n",
        "    <tr>\n",
        "      <th>hsa-mir-379</th>\n",
        "      <td> 10.34</td>\n",
        "      <td> 1.30e-03</td>\n",
        "      <td> 2.20e-01</td>\n",
        "    </tr>\n",
        "    <tr>\n",
        "      <th>hsa-mir-758</th>\n",
        "      <td>  9.93</td>\n",
        "      <td> 1.63e-03</td>\n",
        "      <td> 2.20e-01</td>\n",
        "    </tr>\n",
        "    <tr>\n",
        "      <th rowspan=\"3\" valign=\"top\">Stage</th>\n",
        "      <th>hsa-mir-520f</th>\n",
        "      <td> 15.34</td>\n",
        "      <td> 1.55e-03</td>\n",
        "      <td> 7.43e-01</td>\n",
        "    </tr>\n",
        "    <tr>\n",
        "      <th>hsa-mir-577</th>\n",
        "      <td> 13.69</td>\n",
        "      <td> 3.36e-03</td>\n",
        "      <td> 8.07e-01</td>\n",
        "    </tr>\n",
        "    <tr>\n",
        "      <th>hsa-mir-629</th>\n",
        "      <td> 12.34</td>\n",
        "      <td> 6.32e-03</td>\n",
        "      <td> 9.25e-01</td>\n",
        "    </tr>\n",
        "    <tr>\n",
        "      <th rowspan=\"3\" valign=\"top\">Subdivision</th>\n",
        "      <th>hsa-mir-10a</th>\n",
        "      <td> 85.00</td>\n",
        "      <td> 3.49e-19</td>\n",
        "      <td> 1.68e-16</td>\n",
        "    </tr>\n",
        "    <tr>\n",
        "      <th>hsa-mir-9-2</th>\n",
        "      <td> 51.36</td>\n",
        "      <td> 7.05e-12</td>\n",
        "      <td> 1.19e-09</td>\n",
        "    </tr>\n",
        "    <tr>\n",
        "      <th>hsa-mir-9-1</th>\n",
        "      <td> 51.24</td>\n",
        "      <td> 7.46e-12</td>\n",
        "      <td> 1.19e-09</td>\n",
        "    </tr>\n",
        "    <tr>\n",
        "      <th rowspan=\"3\" valign=\"top\">Year_of_Surgery</th>\n",
        "      <th>hsa-mir-628</th>\n",
        "      <td> 15.19</td>\n",
        "      <td> 9.71e-05</td>\n",
        "      <td> 2.86e-02</td>\n",
        "    </tr>\n",
        "    <tr>\n",
        "      <th>hsa-mir-148b</th>\n",
        "      <td> 14.52</td>\n",
        "      <td> 1.38e-04</td>\n",
        "      <td> 2.86e-02</td>\n",
        "    </tr>\n",
        "    <tr>\n",
        "      <th>hsa-mir-374a</th>\n",
        "      <td> 14.04</td>\n",
        "      <td> 1.79e-04</td>\n",
        "      <td> 2.86e-02</td>\n",
        "    </tr>\n",
        "  </tbody>\n",
        "</table>\n",
        "</div>"
       ],
       "output_type": "pyout",
       "prompt_number": 253,
       "text": [
        "                                      H         p         q\n",
        "Age                 hsa-mir-133b   6.83  8.94e-03  7.33e-01\n",
        "                    hsa-let-7f-1   6.59  1.03e-02  7.33e-01\n",
        "                    hsa-let-7e     6.40  1.14e-02  7.33e-01\n",
        "HPV                 hsa-mir-20b   35.01  3.29e-09  1.58e-06\n",
        "                    hsa-mir-363   32.54  1.17e-08  2.80e-06\n",
        "                    hsa-mir-9-2   28.16  1.12e-07  1.44e-05\n",
        "Lymph_Stage         hsa-mir-195   17.28  6.20e-04  2.38e-01\n",
        "                    hsa-mir-222   16.28  9.92e-04  2.38e-01\n",
        "                    hsa-mir-411   13.50  3.68e-03  4.25e-01\n",
        "Pathological_Spread hsa-mir-200a  14.91  5.79e-04  1.83e-01\n",
        "                    hsa-mir-195   14.35  7.64e-04  1.83e-01\n",
        "                    hsa-mir-93    12.91  1.57e-03  2.51e-01\n",
        "Perineural_Invasion hsa-mir-93    16.42  5.09e-05  2.44e-02\n",
        "                    hsa-mir-379   10.34  1.30e-03  2.20e-01\n",
        "                    hsa-mir-758    9.93  1.63e-03  2.20e-01\n",
        "Stage               hsa-mir-520f  15.34  1.55e-03  7.43e-01\n",
        "                    hsa-mir-577   13.69  3.36e-03  8.07e-01\n",
        "                    hsa-mir-629   12.34  6.32e-03  9.25e-01\n",
        "Subdivision         hsa-mir-10a   85.00  3.49e-19  1.68e-16\n",
        "                    hsa-mir-9-2   51.36  7.05e-12  1.19e-09\n",
        "                    hsa-mir-9-1   51.24  7.46e-12  1.19e-09\n",
        "Year_of_Surgery     hsa-mir-628   15.19  9.71e-05  2.86e-02\n",
        "                    hsa-mir-148b  14.52  1.38e-04  2.86e-02\n",
        "                    hsa-mir-374a  14.04  1.79e-04  2.86e-02"
       ]
      }
     ],
     "prompt_number": 253
    },
    {
     "cell_type": "markdown",
     "metadata": {},
     "source": [
      "Due to the low proportion of patient survival explained by clinical factors (supplemental table), we then constructed an analysis pipeline to extract and test a number features from the molecular data, including mutation events, copy-number alterations, as well as molecular phenotype measurements **(figure 1a)**. "
     ]
    },
    {
     "cell_type": "markdown",
     "metadata": {},
     "source": [
      "####Primary Screen"
     ]
    },
    {
     "cell_type": "code",
     "collapsed": false,
     "input": [
      "from scipy.stats import chi2\n",
      "def stratified_cox(surv, feature, strata):\n",
      "    fmla = 'Surv(days, event) ~ feature + strata({})'.format(strata.name)\n",
      "    chi2 = get_cox_ph_ms(surv, feature, covariates=pd.concat([strata], axis=1),  \n",
      "                         return_val='model', formula=fmla)[3][0]\n",
      "    return chi2\n",
      "def cox(surv, feature):\n",
      "    fmla = 'Surv(days, event) ~ feature'\n",
      "    chi2 = get_cox_ph_ms(surv, feature, return_val='model', formula=fmla)[3][0]\n",
      "    return chi2\n",
      "\n",
      "def log_rank(feature):\n",
      "    fmla = 'Surv(days, event) ~ feature'\n",
      "    if len(feature.unique()) == 1:\n",
      "        return 0\n",
      "    m = get_cox_ph_ms(surv, feature, return_val='model', formula=fmla)\n",
      "    r_data = m.rx2('call')[2]\n",
      "    s = survival.survdiff(robjects.Formula(fmla), r_data)\n",
      "    chisq = s.rx2('chisq')[0]\n",
      "    return chisq\n",
      "\n",
      "def cox_screen(df):\n",
      "    stat = df.apply(lambda s: cox(surv, s), 1)\n",
      "    rr = pd.concat([pd.Series(chi2.sf(stat, 1), index=stat.index), stat], axis=1, keys=['p','chi2'])\n",
      "    rr['q'] = bhCorrection(rr.p)\n",
      "    rr = rr.sort('p')\n",
      "    return rr\n",
      "\n",
      "def lr_screen(df):\n",
      "    stat = df.astype(float).apply(log_rank, 1)\n",
      "    rr = pd.concat([pd.Series(chi2.sf(stat, 1), index=stat.index), stat], axis=1, keys=['p','chi2'])\n",
      "    rr['q'] = bhCorrection(rr.p)\n",
      "    rr = rr.sort('p')\n",
      "    return rr"
     ],
     "language": "python",
     "metadata": {},
     "outputs": [],
     "prompt_number": 254
    },
    {
     "cell_type": "code",
     "collapsed": false,
     "input": [
      "keepers = true_index(old_age.ix[patients].dropna() == 'Age < 85')"
     ],
     "language": "python",
     "metadata": {},
     "outputs": [],
     "prompt_number": 255
    },
    {
     "cell_type": "code",
     "collapsed": false,
     "input": [
      "rna_uni = cox_screen(rna.features.ix[:, keepers].dropna(1))\n",
      "mirna_uni = cox_screen(mirna.features.ix['real'].ix[:, keepers].dropna(1))\n",
      "meth_uni = cox_screen(meth.features.ix[:, keepers].dropna(1))\n",
      "mut_uni = lr_screen(mut.features.ix[:, keepers].dropna(1))\n",
      "amp_screen = lr_screen(cn.features.ix['Amplification', keepers].dropna(1) > 0)\n",
      "del_screen = lr_screen(cn.features.ix['Deletion', keepers].dropna(1) < 0)"
     ],
     "language": "python",
     "metadata": {},
     "outputs": [],
     "prompt_number": 256
    },
    {
     "cell_type": "code",
     "collapsed": false,
     "input": [
      "ds = del_screen.copy()\n",
      "ds.index = map(str, ds.index)\n",
      "amps = amp_screen.copy()\n",
      "amps.index = map(str, amps.index)"
     ],
     "language": "python",
     "metadata": {},
     "outputs": [],
     "prompt_number": 257
    },
    {
     "cell_type": "code",
     "collapsed": false,
     "input": [
      "pd.concat(map(lambda s: s.head(3), [rna_uni, mirna_uni, meth_uni, mut_uni, amps, ds]), \n",
      "          keys=['mRNA','miRNA','Methylaiton','Mutation','Amplifications','Deletions'])"
     ],
     "language": "python",
     "metadata": {},
     "outputs": [
      {
       "html": [
        "<div style=\"max-height:1000px;max-width:1500px;overflow:auto;\">\n",
        "<table border=\"1\" class=\"dataframe\">\n",
        "  <thead>\n",
        "    <tr style=\"text-align: right;\">\n",
        "      <th></th>\n",
        "      <th></th>\n",
        "      <th>p</th>\n",
        "      <th>chi2</th>\n",
        "      <th>q</th>\n",
        "    </tr>\n",
        "  </thead>\n",
        "  <tbody>\n",
        "    <tr>\n",
        "      <th rowspan=\"3\" valign=\"top\">mRNA</th>\n",
        "      <th>BIOCARTA_ERK_PATHWAY</th>\n",
        "      <td> 3.69e-06</td>\n",
        "      <td> 21.42</td>\n",
        "      <td> 0.00</td>\n",
        "    </tr>\n",
        "    <tr>\n",
        "      <th>BIOCARTA_CCR3_PATHWAY</th>\n",
        "      <td> 7.93e-06</td>\n",
        "      <td> 19.96</td>\n",
        "      <td> 0.00</td>\n",
        "    </tr>\n",
        "    <tr>\n",
        "      <th>BIOCARTA_BARRESTIN_SRC_PATHWAY</th>\n",
        "      <td> 9.81e-06</td>\n",
        "      <td> 19.55</td>\n",
        "      <td> 0.00</td>\n",
        "    </tr>\n",
        "    <tr>\n",
        "      <th rowspan=\"3\" valign=\"top\">miRNA</th>\n",
        "      <th>hsa-mir-337</th>\n",
        "      <td> 2.62e-06</td>\n",
        "      <td> 22.08</td>\n",
        "      <td> 0.00</td>\n",
        "    </tr>\n",
        "    <tr>\n",
        "      <th>hsa-mir-409</th>\n",
        "      <td> 5.64e-05</td>\n",
        "      <td> 16.22</td>\n",
        "      <td> 0.01</td>\n",
        "    </tr>\n",
        "    <tr>\n",
        "      <th>hsa-mir-154</th>\n",
        "      <td> 6.88e-05</td>\n",
        "      <td> 15.84</td>\n",
        "      <td> 0.01</td>\n",
        "    </tr>\n",
        "    <tr>\n",
        "      <th rowspan=\"3\" valign=\"top\">Methylaiton</th>\n",
        "      <th>REACTOME_TRIACYLGLYCERIDE_BIOSYNTHESIS</th>\n",
        "      <td> 9.30e-03</td>\n",
        "      <td>  6.76</td>\n",
        "      <td> 0.96</td>\n",
        "    </tr>\n",
        "    <tr>\n",
        "      <th>SIG_PIP3_SIGNALING_IN_B_LYMPHOCYTES</th>\n",
        "      <td> 1.04e-02</td>\n",
        "      <td>  6.57</td>\n",
        "      <td> 0.96</td>\n",
        "    </tr>\n",
        "    <tr>\n",
        "      <th>SA_FAS_SIGNALING</th>\n",
        "      <td> 1.15e-02</td>\n",
        "      <td>  6.39</td>\n",
        "      <td> 0.96</td>\n",
        "    </tr>\n",
        "    <tr>\n",
        "      <th rowspan=\"3\" valign=\"top\">Mutation</th>\n",
        "      <th>TP53</th>\n",
        "      <td> 3.49e-05</td>\n",
        "      <td> 17.13</td>\n",
        "      <td> 0.03</td>\n",
        "    </tr>\n",
        "    <tr>\n",
        "      <th>KEGG_CELL_CYCLE</th>\n",
        "      <td> 8.67e-04</td>\n",
        "      <td> 11.09</td>\n",
        "      <td> 0.32</td>\n",
        "    </tr>\n",
        "    <tr>\n",
        "      <th>REACTOME_SYNTHESIS_AND_INTERCONVERSION_OF_NUCLEOTIDE_DI_AND_TRIPHOSPHATES</th>\n",
        "      <td> 3.16e-03</td>\n",
        "      <td>  8.71</td>\n",
        "      <td> 0.54</td>\n",
        "    </tr>\n",
        "    <tr>\n",
        "      <th rowspan=\"3\" valign=\"top\">Amplifications</th>\n",
        "      <th>('15q26.3', 'Lesion')</th>\n",
        "      <td> 4.45e-04</td>\n",
        "      <td> 12.33</td>\n",
        "      <td> 0.01</td>\n",
        "    </tr>\n",
        "    <tr>\n",
        "      <th>('7p11.2', 'Lesion')</th>\n",
        "      <td> 6.54e-03</td>\n",
        "      <td>  7.40</td>\n",
        "      <td> 0.06</td>\n",
        "    </tr>\n",
        "    <tr>\n",
        "      <th>('7q22.1', 'Lesion')</th>\n",
        "      <td> 7.18e-03</td>\n",
        "      <td>  7.23</td>\n",
        "      <td> 0.06</td>\n",
        "    </tr>\n",
        "    <tr>\n",
        "      <th rowspan=\"3\" valign=\"top\">Deletions</th>\n",
        "      <th>('3p25.3', 'Lesion')</th>\n",
        "      <td> 2.52e-04</td>\n",
        "      <td> 13.39</td>\n",
        "      <td> 0.01</td>\n",
        "    </tr>\n",
        "    <tr>\n",
        "      <th>('3p14.2', 'Lesion')</th>\n",
        "      <td> 1.28e-03</td>\n",
        "      <td> 10.38</td>\n",
        "      <td> 0.03</td>\n",
        "    </tr>\n",
        "    <tr>\n",
        "      <th>('3p12.2', 'Lesion')</th>\n",
        "      <td> 1.77e-03</td>\n",
        "      <td>  9.77</td>\n",
        "      <td> 0.03</td>\n",
        "    </tr>\n",
        "  </tbody>\n",
        "</table>\n",
        "</div>"
       ],
       "output_type": "pyout",
       "prompt_number": 258,
       "text": [
        "                                                                                                 p   chi2     q\n",
        "mRNA           BIOCARTA_ERK_PATHWAY                                                       3.69e-06  21.42  0.00\n",
        "               BIOCARTA_CCR3_PATHWAY                                                      7.93e-06  19.96  0.00\n",
        "               BIOCARTA_BARRESTIN_SRC_PATHWAY                                             9.81e-06  19.55  0.00\n",
        "miRNA          hsa-mir-337                                                                2.62e-06  22.08  0.00\n",
        "               hsa-mir-409                                                                5.64e-05  16.22  0.01\n",
        "               hsa-mir-154                                                                6.88e-05  15.84  0.01\n",
        "Methylaiton    REACTOME_TRIACYLGLYCERIDE_BIOSYNTHESIS                                     9.30e-03   6.76  0.96\n",
        "               SIG_PIP3_SIGNALING_IN_B_LYMPHOCYTES                                        1.04e-02   6.57  0.96\n",
        "               SA_FAS_SIGNALING                                                           1.15e-02   6.39  0.96\n",
        "Mutation       TP53                                                                       3.49e-05  17.13  0.03\n",
        "               KEGG_CELL_CYCLE                                                            8.67e-04  11.09  0.32\n",
        "               REACTOME_SYNTHESIS_AND_INTERCONVERSION_OF_NUCLEOTIDE_DI_AND_TRIPHOSPHATES  3.16e-03   8.71  0.54\n",
        "Amplifications ('15q26.3', 'Lesion')                                                      4.45e-04  12.33  0.01\n",
        "               ('7p11.2', 'Lesion')                                                       6.54e-03   7.40  0.06\n",
        "               ('7q22.1', 'Lesion')                                                       7.18e-03   7.23  0.06\n",
        "Deletions      ('3p25.3', 'Lesion')                                                       2.52e-04  13.39  0.01\n",
        "               ('3p14.2', 'Lesion')                                                       1.28e-03  10.38  0.03\n",
        "               ('3p12.2', 'Lesion')                                                       1.77e-03   9.77  0.03"
       ]
      }
     ],
     "prompt_number": 258
    },
    {
     "cell_type": "code",
     "collapsed": false,
     "input": [
      "screen_feature(rna.features.ix['BIOCARTA_ERK_PATHWAY'], tt, mut.features).head()"
     ],
     "language": "python",
     "metadata": {},
     "outputs": [
      {
       "html": [
        "<div style=\"max-height:1000px;max-width:1500px;overflow:auto;\">\n",
        "<table border=\"1\" class=\"dataframe\">\n",
        "  <thead>\n",
        "    <tr style=\"text-align: right;\">\n",
        "      <th></th>\n",
        "      <th>H</th>\n",
        "      <th>p</th>\n",
        "      <th>q</th>\n",
        "    </tr>\n",
        "  </thead>\n",
        "  <tbody>\n",
        "    <tr>\n",
        "      <th>TP53</th>\n",
        "      <td> 31.85</td>\n",
        "      <td> 1.66e-08</td>\n",
        "      <td> 1.21e-05</td>\n",
        "    </tr>\n",
        "    <tr>\n",
        "      <th>KEGG_CELL_CYCLE</th>\n",
        "      <td> 16.69</td>\n",
        "      <td> 4.41e-05</td>\n",
        "      <td> 1.60e-02</td>\n",
        "    </tr>\n",
        "    <tr>\n",
        "      <th>BIOCARTA_IL3_PATHWAY</th>\n",
        "      <td> 12.70</td>\n",
        "      <td> 3.65e-04</td>\n",
        "      <td> 6.94e-02</td>\n",
        "    </tr>\n",
        "    <tr>\n",
        "      <th>BIOCARTA_EPO_PATHWAY</th>\n",
        "      <td> 12.23</td>\n",
        "      <td> 4.70e-04</td>\n",
        "      <td> 6.94e-02</td>\n",
        "    </tr>\n",
        "    <tr>\n",
        "      <th>BIOCARTA_EDG1_PATHWAY</th>\n",
        "      <td> 11.94</td>\n",
        "      <td> 5.50e-04</td>\n",
        "      <td> 6.94e-02</td>\n",
        "    </tr>\n",
        "  </tbody>\n",
        "</table>\n",
        "</div>"
       ],
       "output_type": "pyout",
       "prompt_number": 259,
       "text": [
        "                           H         p         q\n",
        "TP53                   31.85  1.66e-08  1.21e-05\n",
        "KEGG_CELL_CYCLE        16.69  4.41e-05  1.60e-02\n",
        "BIOCARTA_IL3_PATHWAY   12.70  3.65e-04  6.94e-02\n",
        "BIOCARTA_EPO_PATHWAY   12.23  4.70e-04  6.94e-02\n",
        "BIOCARTA_EDG1_PATHWAY  11.94  5.50e-04  6.94e-02"
       ]
      }
     ],
     "prompt_number": 259
    },
    {
     "cell_type": "markdown",
     "metadata": {},
     "source": [
      "####TP53 Mutation"
     ]
    },
    {
     "cell_type": "code",
     "collapsed": false,
     "input": [
      "from Stats.Survival import log_rank"
     ],
     "language": "python",
     "metadata": {},
     "outputs": [],
     "prompt_number": 260
    },
    {
     "cell_type": "code",
     "collapsed": false,
     "input": [
      "p53_mut = (mut.df.ix['TP53', keepers].dropna() > 0).map({True:'Mutated', False: 'WT'})\n",
      "t = get_surv_fit(surv_all, p53_mut)\n",
      "draw_survival_curve(p53_mut, surv)\n",
      "survival_stat_plot(t.sort_index(ascending=False))\n",
      "print log_rank(p53_mut, surv)\n",
      "t"
     ],
     "language": "python",
     "metadata": {},
     "outputs": [
      {
       "output_type": "stream",
       "stream": "stdout",
       "text": [
        "chi2    1.71e+01\n",
        "p       3.49e-05\n",
        "dtype: float64\n"
       ]
      },
      {
       "html": [
        "<div style=\"max-height:1000px;max-width:1500px;overflow:auto;\">\n",
        "<table border=\"1\" class=\"dataframe\">\n",
        "  <thead>\n",
        "    <tr>\n",
        "      <th></th>\n",
        "      <th colspan=\"2\" halign=\"left\">Stats</th>\n",
        "      <th colspan=\"3\" halign=\"left\">Median Survival</th>\n",
        "      <th colspan=\"3\" halign=\"left\">5y Survival</th>\n",
        "    </tr>\n",
        "    <tr>\n",
        "      <th></th>\n",
        "      <th># Patients</th>\n",
        "      <th># Events</th>\n",
        "      <th>Median</th>\n",
        "      <th>Lower</th>\n",
        "      <th>Upper</th>\n",
        "      <th>Lower</th>\n",
        "      <th>Surv</th>\n",
        "      <th>Upper</th>\n",
        "    </tr>\n",
        "  </thead>\n",
        "  <tbody>\n",
        "    <tr>\n",
        "      <th>Mutated</th>\n",
        "      <td> 139</td>\n",
        "      <td> 68</td>\n",
        "      <td> 1.66</td>\n",
        "      <td> 1.43</td>\n",
        "      <td> 2.84</td>\n",
        "      <td> 0.21</td>\n",
        "      <td> 0.31</td>\n",
        "      <td> 0.46</td>\n",
        "    </tr>\n",
        "    <tr>\n",
        "      <th>WT</th>\n",
        "      <td>  59</td>\n",
        "      <td> 13</td>\n",
        "      <td> 7.44</td>\n",
        "      <td> 4.71</td>\n",
        "      <td>  NaN</td>\n",
        "      <td> 0.40</td>\n",
        "      <td> 0.59</td>\n",
        "      <td> 0.86</td>\n",
        "    </tr>\n",
        "  </tbody>\n",
        "</table>\n",
        "</div>"
       ],
       "output_type": "pyout",
       "prompt_number": 261,
       "text": [
        "              Stats            Median Survival                5y Survival             \n",
        "         # Patients  # Events           Median  Lower  Upper        Lower  Surv  Upper\n",
        "Mutated         139        68             1.66   1.43   2.84         0.21  0.31   0.46\n",
        "WT               59        13             7.44   4.71    NaN         0.40  0.59   0.86"
       ]
      },
      {
       "output_type": "display_data",
       "png": "[encoded data removed]"
      },
      {
       "output_type": "display_data",
       "png": "[encoded data removed]"
      }
     ],
     "prompt_number": 261
    },
    {
     "cell_type": "code",
     "collapsed": false,
     "input": [
      "screen_feature(mut.features.ix['TP53'], kruskal_pandas, rna.df.xs('01', level=1, axis=1)).head()"
     ],
     "language": "python",
     "metadata": {},
     "outputs": [
      {
       "html": [
        "<div style=\"max-height:1000px;max-width:1500px;overflow:auto;\">\n",
        "<table border=\"1\" class=\"dataframe\">\n",
        "  <thead>\n",
        "    <tr style=\"text-align: right;\">\n",
        "      <th></th>\n",
        "      <th>H</th>\n",
        "      <th>p</th>\n",
        "      <th>q</th>\n",
        "    </tr>\n",
        "  </thead>\n",
        "  <tbody>\n",
        "    <tr>\n",
        "      <th>POLH</th>\n",
        "      <td> 37.70</td>\n",
        "      <td> 8.27e-10</td>\n",
        "      <td>NaN</td>\n",
        "    </tr>\n",
        "    <tr>\n",
        "      <th>CCDC125</th>\n",
        "      <td> 35.98</td>\n",
        "      <td> 2.00e-09</td>\n",
        "      <td>NaN</td>\n",
        "    </tr>\n",
        "    <tr>\n",
        "      <th>MDM2</th>\n",
        "      <td> 35.94</td>\n",
        "      <td> 2.03e-09</td>\n",
        "      <td>NaN</td>\n",
        "    </tr>\n",
        "    <tr>\n",
        "      <th>WDR48</th>\n",
        "      <td> 33.60</td>\n",
        "      <td> 6.78e-09</td>\n",
        "      <td>NaN</td>\n",
        "    </tr>\n",
        "    <tr>\n",
        "      <th>CREG2</th>\n",
        "      <td> 33.47</td>\n",
        "      <td> 7.23e-09</td>\n",
        "      <td>NaN</td>\n",
        "    </tr>\n",
        "  </tbody>\n",
        "</table>\n",
        "</div>"
       ],
       "output_type": "pyout",
       "prompt_number": 262,
       "text": [
        "             H         p   q\n",
        "POLH     37.70  8.27e-10 NaN\n",
        "CCDC125  35.98  2.00e-09 NaN\n",
        "MDM2     35.94  2.03e-09 NaN\n",
        "WDR48    33.60  6.78e-09 NaN\n",
        "CREG2    33.47  7.23e-09 NaN"
       ]
      }
     ],
     "prompt_number": 262
    },
    {
     "cell_type": "code",
     "collapsed": false,
     "input": [
      "violin_plot_pandas(mut.features.ix['TP53'], rna.df.ix['POLH'].ix[:,'01'])"
     ],
     "language": "python",
     "metadata": {},
     "outputs": [
      {
       "output_type": "display_data",
       "png": "[encoded data removed]"
      }
     ],
     "prompt_number": 263
    },
    {
     "cell_type": "markdown",
     "metadata": {},
     "source": [
      "####3p Deletion"
     ]
    },
    {
     "cell_type": "code",
     "collapsed": false,
     "input": [
      "del_3p = cn.df.ix['Deletion', keepers].ix['3p14.2'].ix[0].dropna()\n",
      "del_3p.name = 'del_3p'\n",
      "t = get_surv_fit(surv_all, del_3p)\n",
      "draw_survival_curve(del_3p, surv)\n",
      "survival_stat_plot(t.sort_index(ascending=False))\n",
      "print log_rank(del_3p, surv)\n",
      "t"
     ],
     "language": "python",
     "metadata": {},
     "outputs": [
      {
       "output_type": "stream",
       "stream": "stdout",
       "text": [
        "chi2    10.38\n",
        "p        0.00\n",
        "dtype: float64\n"
       ]
      },
      {
       "html": [
        "<div style=\"max-height:1000px;max-width:1500px;overflow:auto;\">\n",
        "<table border=\"1\" class=\"dataframe\">\n",
        "  <thead>\n",
        "    <tr>\n",
        "      <th></th>\n",
        "      <th colspan=\"2\" halign=\"left\">Stats</th>\n",
        "      <th colspan=\"3\" halign=\"left\">Median Survival</th>\n",
        "      <th colspan=\"3\" halign=\"left\">5y Survival</th>\n",
        "    </tr>\n",
        "    <tr>\n",
        "      <th></th>\n",
        "      <th># Patients</th>\n",
        "      <th># Events</th>\n",
        "      <th>Median</th>\n",
        "      <th>Lower</th>\n",
        "      <th>Upper</th>\n",
        "      <th>Lower</th>\n",
        "      <th>Surv</th>\n",
        "      <th>Upper</th>\n",
        "    </tr>\n",
        "  </thead>\n",
        "  <tbody>\n",
        "    <tr>\n",
        "      <th>-1</th>\n",
        "      <td> 156</td>\n",
        "      <td> 71</td>\n",
        "      <td> 2.20</td>\n",
        "      <td> 1.54</td>\n",
        "      <td> 4.58</td>\n",
        "      <td> 0.23</td>\n",
        "      <td> 0.33</td>\n",
        "      <td> 0.47</td>\n",
        "    </tr>\n",
        "    <tr>\n",
        "      <th>0</th>\n",
        "      <td>  52</td>\n",
        "      <td> 11</td>\n",
        "      <td> 7.44</td>\n",
        "      <td> 4.49</td>\n",
        "      <td>  NaN</td>\n",
        "      <td> 0.34</td>\n",
        "      <td> 0.56</td>\n",
        "      <td> 0.89</td>\n",
        "    </tr>\n",
        "  </tbody>\n",
        "</table>\n",
        "</div>"
       ],
       "output_type": "pyout",
       "prompt_number": 274,
       "text": [
        "         Stats            Median Survival                5y Survival             \n",
        "    # Patients  # Events           Median  Lower  Upper        Lower  Surv  Upper\n",
        "-1         156        71             2.20   1.54   4.58         0.23  0.33   0.47\n",
        "0           52        11             7.44   4.49    NaN         0.34  0.56   0.89"
       ]
      },
      {
       "output_type": "display_data",
       "png": "[encoded data removed]"
      },
      {
       "output_type": "display_data",
       "png": "[encoded data removed]"
      }
     ],
     "prompt_number": 274
    },
    {
     "cell_type": "code",
     "collapsed": false,
     "input": [
      "del_3p = cn.df.ix['Amplification', keepers].ix['15q26.3'].ix[0].dropna()\n",
      "del_3p.name = 'del_3p'\n",
      "t = get_surv_fit(surv_all, del_3p)\n",
      "draw_survival_curve(del_3p, surv)\n",
      "survival_stat_plot(t.sort_index(ascending=False))\n",
      "print log_rank(del_3p, surv)\n",
      "t"
     ],
     "language": "python",
     "metadata": {},
     "outputs": [
      {
       "output_type": "stream",
       "stream": "stdout",
       "text": [
        "chi2    2.11e+01\n",
        "p       4.31e-06\n",
        "dtype: float64\n"
       ]
      },
      {
       "html": [
        "<div style=\"max-height:1000px;max-width:1500px;overflow:auto;\">\n",
        "<table border=\"1\" class=\"dataframe\">\n",
        "  <thead>\n",
        "    <tr>\n",
        "      <th></th>\n",
        "      <th colspan=\"2\" halign=\"left\">Stats</th>\n",
        "      <th colspan=\"3\" halign=\"left\">Median Survival</th>\n",
        "      <th colspan=\"3\" halign=\"left\">5y Survival</th>\n",
        "    </tr>\n",
        "    <tr>\n",
        "      <th></th>\n",
        "      <th># Patients</th>\n",
        "      <th># Events</th>\n",
        "      <th>Median</th>\n",
        "      <th>Lower</th>\n",
        "      <th>Upper</th>\n",
        "      <th>Lower</th>\n",
        "      <th>Surv</th>\n",
        "      <th>Upper</th>\n",
        "    </tr>\n",
        "  </thead>\n",
        "  <tbody>\n",
        "    <tr>\n",
        "      <th>0</th>\n",
        "      <td> 154</td>\n",
        "      <td> 55</td>\n",
        "      <td> 4.58</td>\n",
        "      <td> 2.96</td>\n",
        "      <td> 7.44</td>\n",
        "      <td> 0.33</td>\n",
        "      <td> 0.44</td>\n",
        "      <td> 0.59</td>\n",
        "    </tr>\n",
        "    <tr>\n",
        "      <th>1</th>\n",
        "      <td>  49</td>\n",
        "      <td> 24</td>\n",
        "      <td> 1.54</td>\n",
        "      <td> 1.23</td>\n",
        "      <td>  NaN</td>\n",
        "      <td> 0.08</td>\n",
        "      <td> 0.21</td>\n",
        "      <td> 0.54</td>\n",
        "    </tr>\n",
        "    <tr>\n",
        "      <th>2</th>\n",
        "      <td>   5</td>\n",
        "      <td>  3</td>\n",
        "      <td> 0.59</td>\n",
        "      <td> 0.35</td>\n",
        "      <td>  NaN</td>\n",
        "      <td>  NaN</td>\n",
        "      <td>  NaN</td>\n",
        "      <td>  NaN</td>\n",
        "    </tr>\n",
        "  </tbody>\n",
        "</table>\n",
        "</div>"
       ],
       "output_type": "pyout",
       "prompt_number": 293,
       "text": [
        "        Stats            Median Survival                5y Survival             \n",
        "   # Patients  # Events           Median  Lower  Upper        Lower  Surv  Upper\n",
        "0         154        55             4.58   2.96   7.44         0.33  0.44   0.59\n",
        "1          49        24             1.54   1.23    NaN         0.08  0.21   0.54\n",
        "2           5         3             0.59   0.35    NaN          NaN   NaN    NaN"
       ]
      },
      {
       "output_type": "display_data",
       "png": "[encoded data removed]"
      },
      {
       "output_type": "display_data",
       "png": "[encoded data removed]"
      }
     ],
     "prompt_number": 293
    },
    {
     "cell_type": "code",
     "collapsed": false,
     "input": [
      "clinical.drugs.drugname.value_counts()"
     ],
     "language": "python",
     "metadata": {},
     "outputs": [
      {
       "output_type": "pyout",
       "prompt_number": 303,
       "text": [
        "cisplatin         48\n",
        "carboplatin       47\n",
        "paclitaxel        33\n",
        "erbitux           13\n",
        "taxol              7\n",
        "unknown            7\n",
        "carboplatinum      5\n",
        "vectibix           4\n",
        "cetuximab          4\n",
        "docetaxel          3\n",
        "at-101             2\n",
        "oxaliplatin        2\n",
        "xeloda             2\n",
        "methotrexate       2\n",
        "alimta             2\n",
        "pacitaxel          2\n",
        "everolimus         1\n",
        "metotreksat        1\n",
        "5-fluorouracil     1\n",
        "gemcitabine        1\n",
        "pf-04605412        1\n",
        "zometa             1\n",
        "irinotecan         1\n",
        "panitumumab        1\n",
        "cetuxinab          1\n",
        "fluorouracil       1\n",
        "bevacizumab        1\n",
        "pemetrexed         1\n",
        "docetaxol          1\n",
        "5fu                1\n",
        "iressa             1\n",
        "taxotere           1\n",
        "dtype: int64"
       ]
      }
     ],
     "prompt_number": 303
    },
    {
     "cell_type": "code",
     "collapsed": false,
     "input": [
      "cisplatin = (clinical.drugs.drugname == 'cisplatin').groupby(level=0).sum() > 0"
     ],
     "language": "python",
     "metadata": {},
     "outputs": [],
     "prompt_number": 306
    },
    {
     "cell_type": "code",
     "collapsed": false,
     "input": [
      "s = screen_feature(p53_mut.ix[true_index(hpv!='HPV+')], anova, rna.df.xs('01', level=1, axis=1))"
     ],
     "language": "python",
     "metadata": {},
     "outputs": [],
     "prompt_number": 378
    },
    {
     "cell_type": "code",
     "collapsed": false,
     "input": [
      "r = pd.read_csv('/cellar/users/agross/Documents/grandis.csv', index_col=0)"
     ],
     "language": "python",
     "metadata": {},
     "outputs": [],
     "prompt_number": 379
    },
    {
     "cell_type": "code",
     "collapsed": false,
     "input": [],
     "language": "python",
     "metadata": {},
     "outputs": [
      {
       "output_type": "pyout",
       "prompt_number": 386,
       "text": [
        "Firehose_ID\n",
        "HN_00076-Normal     True\n",
        "HN_00076-Tumor      True\n",
        "HN_00122-Normal     True\n",
        "HN_00122-Tumor      True\n",
        "HN_00133-Normal    False\n",
        "HN_00133-Tumor     False\n",
        "HN_00176-Normal    False\n",
        "HN_00176-Tumor     False\n",
        "HN_00190-Normal     True\n",
        "HN_00190-Tumor      True\n",
        "HN_00313-Normal     True\n",
        "HN_00313-Tumor      True\n",
        "HN_00338-Normal     True\n",
        "HN_00338-Tumor      True\n",
        "HN_00361-Normal     True\n",
        "...\n",
        "HN_63039-Tumor     True\n",
        "HN_63048-Normal    True\n",
        "HN_63048-Tumor     True\n",
        "HN_63058-Normal    True\n",
        "HN_63058-Tumor     True\n",
        "HN_63080-Normal    True\n",
        "HN_63080-Tumor     True\n",
        "HN_63081-Normal    True\n",
        "HN_63081-Tumor     True\n",
        "HN_63095-Normal    True\n",
        "HN_63095-Tumor     True\n",
        "HN_63114-Normal    True\n",
        "HN_63114-Tumor     True\n",
        "HN_63115-Normal    True\n",
        "HN_63115-Tumor     True\n",
        "Name: Final_74_exome_analysis, Length: 184, dtype: bool"
       ]
      }
     ],
     "prompt_number": 386
    },
    {
     "cell_type": "code",
     "collapsed": false,
     "input": [
      "r.Tumor_HPV_PathSeq.ix[r.Final_74_exome_analysis == 1].dropna().value_counts()"
     ],
     "language": "python",
     "metadata": {},
     "outputs": [
      {
       "output_type": "pyout",
       "prompt_number": 388,
       "text": [
        "Negative    60\n",
        "Positive    14\n",
        "dtype: int64"
       ]
      }
     ],
     "prompt_number": 388
    },
    {
     "cell_type": "code",
     "collapsed": false,
     "input": [
      "s.head()"
     ],
     "language": "python",
     "metadata": {},
     "outputs": [
      {
       "html": [
        "<div style=\"max-height:1000px;max-width:1500px;overflow:auto;\">\n",
        "<table border=\"1\" class=\"dataframe\">\n",
        "  <thead>\n",
        "    <tr style=\"text-align: right;\">\n",
        "      <th></th>\n",
        "      <th>F</th>\n",
        "      <th>p</th>\n",
        "      <th>q</th>\n",
        "    </tr>\n",
        "  </thead>\n",
        "  <tbody>\n",
        "    <tr>\n",
        "      <th>QARS</th>\n",
        "      <td> 21.69</td>\n",
        "      <td> 6.77e-06</td>\n",
        "      <td>NaN</td>\n",
        "    </tr>\n",
        "    <tr>\n",
        "      <th>TCEAL5</th>\n",
        "      <td> 21.03</td>\n",
        "      <td> 9.19e-06</td>\n",
        "      <td>NaN</td>\n",
        "    </tr>\n",
        "    <tr>\n",
        "      <th>TMEM39A</th>\n",
        "      <td> 20.23</td>\n",
        "      <td> 1.33e-05</td>\n",
        "      <td>NaN</td>\n",
        "    </tr>\n",
        "    <tr>\n",
        "      <th>COPG</th>\n",
        "      <td> 19.46</td>\n",
        "      <td> 1.90e-05</td>\n",
        "      <td>NaN</td>\n",
        "    </tr>\n",
        "    <tr>\n",
        "      <th>IL17RC</th>\n",
        "      <td> 19.33</td>\n",
        "      <td> 2.01e-05</td>\n",
        "      <td>NaN</td>\n",
        "    </tr>\n",
        "  </tbody>\n",
        "</table>\n",
        "</div>"
       ],
       "output_type": "pyout",
       "prompt_number": 360,
       "text": [
        "             F         p   q\n",
        "QARS     21.69  6.77e-06 NaN\n",
        "TCEAL5   21.03  9.19e-06 NaN\n",
        "TMEM39A  20.23  1.33e-05 NaN\n",
        "COPG     19.46  1.90e-05 NaN\n",
        "IL17RC   19.33  2.01e-05 NaN"
       ]
      }
     ],
     "prompt_number": 360
    },
    {
     "cell_type": "code",
     "collapsed": false,
     "input": [
      "df = rna.df.xs('01', level=1, axis=1).ix[s.index[:20]]\n",
      "df = ((df.T - df.mean(1)) / df.std(1)).T"
     ],
     "language": "python",
     "metadata": {},
     "outputs": [],
     "prompt_number": 373
    },
    {
     "cell_type": "code",
     "collapsed": false,
     "input": [
      "p = frame_svd(df)[0][0].order()"
     ],
     "language": "python",
     "metadata": {},
     "outputs": [],
     "prompt_number": 374
    },
    {
     "cell_type": "code",
     "collapsed": false,
     "input": [
      "rna.loadings.ix['.to_dict()"
     ],
     "language": "python",
     "metadata": {},
     "outputs": [
      {
       "output_type": "pyout",
       "prompt_number": 375,
       "text": [
        "{'ADAL': 0.074167084609348857,\n",
        " 'BAG1': -0.21673246294210008,\n",
        " 'CHCHD4': -0.28572548072134624,\n",
        " 'COPG': 0.21681205895183847,\n",
        " 'DKFZp434J0226': 0.15418452097553872,\n",
        " 'GALNS': 0.20913919402402614,\n",
        " 'IL17RC': -0.15873858576391267,\n",
        " 'LRRFIP2': -0.20040918121635876,\n",
        " 'MTMR14': -0.25887104032220742,\n",
        " 'PRPS1': 0.13478494166162955,\n",
        " 'QARS': -0.30868169636240883,\n",
        " 'RPL14': -0.32833946621243926,\n",
        " 'RPL15': -0.31834794143819289,\n",
        " 'RPL29': -0.29724545519237167,\n",
        " 'RPS6': -0.27296457876470015,\n",
        " 'TBCCD1': 0.11994662664713727,\n",
        " 'TCEAL5': 0.15405871091512974,\n",
        " 'TMED7-TICAM2': 0.18558555843066318,\n",
        " 'TMEM105': 0.15360314865948124,\n",
        " 'TMEM39A': 0.19330386808830066}"
       ]
      }
     ],
     "prompt_number": 375
    },
    {
     "cell_type": "code",
     "collapsed": false,
     "input": [
      "violin_plot_pandas(p53_mut, frame_svd(df)[2][0])"
     ],
     "language": "python",
     "metadata": {},
     "outputs": [
      {
       "output_type": "display_data",
       "png": "[encoded data removed]"
      }
     ],
     "prompt_number": 376
    },
    {
     "cell_type": "code",
     "collapsed": false,
     "input": [
      "draw_survival_curves(cisplatin, surv, del_3p>0, show=True)"
     ],
     "language": "python",
     "metadata": {},
     "outputs": [
      {
       "html": [
        "<img src='data:image/png;base64,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'>"
       ],
       "output_type": "pyout",
       "prompt_number": 307,
       "text": [
        "<Reports.NotebookTools.Show at 0x68d9a50>"
       ]
      }
     ],
     "prompt_number": 307
    },
    {
     "cell_type": "code",
     "collapsed": false,
     "input": [
      "draw_survival_curves(combine(p53_mut=='Mutated', del_3p==-1), surv, show=True, ann='p')"
     ],
     "language": "python",
     "metadata": {},
     "outputs": [
      {
       "html": [
        "<img src='data:image/png;base64,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'>"
       ],
       "output_type": "pyout",
       "prompt_number": 277,
       "text": [
        "<Reports.NotebookTools.Show at 0xbacd110>"
       ]
      }
     ],
     "prompt_number": 277
    },
    {
     "cell_type": "code",
     "collapsed": false,
     "input": [
      "draw_survival_curves(mut.df.ix['MUC5B']>0, surv, combine(p53_mut=='Mutated', del_3p==-1) == 'both', show=True, ann='p')"
     ],
     "language": "python",
     "metadata": {},
     "outputs": [
      {
       "html": [
        "<img src='data:image/png;base64,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'>"
       ],
       "output_type": "pyout",
       "prompt_number": 314,
       "text": [
        "<Reports.NotebookTools.Show at 0xaed9b10>"
       ]
      }
     ],
     "prompt_number": 314
    },
    {
     "cell_type": "code",
     "collapsed": false,
     "input": [],
     "language": "python",
     "metadata": {},
     "outputs": []
    }
   ],
   "metadata": {}
  }
 ]
}