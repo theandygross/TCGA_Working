{
 "metadata": {
  "name": ""
 },
 "nbformat": 3,
 "nbformat_minor": 0,
 "worksheets": [
  {
   "cells": [
    {
     "cell_type": "markdown",
     "metadata": {},
     "source": [
      "#Messing with the SEER Database"
     ]
    },
    {
     "cell_type": "code",
     "collapsed": false,
     "input": [
      "cd ../src/"
     ],
     "language": "python",
     "metadata": {},
     "outputs": [
      {
       "output_type": "stream",
       "stream": "stdout",
       "text": [
        "/cellar/users/agross/TCGA_Code/TCGA/Pathway_Merge/src\n"
       ]
      }
     ],
     "prompt_number": 2
    },
    {
     "cell_type": "code",
     "collapsed": false,
     "input": [
      "from Processing.Imports import *"
     ],
     "language": "python",
     "metadata": {},
     "outputs": [],
     "prompt_number": 3
    },
    {
     "cell_type": "code",
     "collapsed": false,
     "input": [
      "seer_dir = '/cellar/data/SEER_1973_2010_TEXTDATA/incidence/'"
     ],
     "language": "python",
     "metadata": {},
     "outputs": [],
     "prompt_number": 11
    },
    {
     "cell_type": "markdown",
     "metadata": {},
     "source": [
      "####First parse out the record definitions"
     ]
    },
    {
     "cell_type": "code",
     "collapsed": false,
     "input": [
      "f = open(seer_dir + 'read.seer.research.nov2012.sas', 'rb').readlines()"
     ],
     "language": "python",
     "metadata": {},
     "outputs": [],
     "prompt_number": 14
    },
    {
     "cell_type": "code",
     "collapsed": false,
     "input": [
      "def parse(l):\n",
      "    rec = {}\n",
      "    s = l.split()\n",
      "    rec['start'] = s[1]\n",
      "    rec['col_id'] = s[2]\n",
      "    rec['length'] = int(s[3][5:-1])\n",
      "    rec['name'] = ' '.join(s[5:])[:-2]\n",
      "    return rec"
     ],
     "language": "python",
     "metadata": {},
     "outputs": [],
     "prompt_number": 33
    },
    {
     "cell_type": "code",
     "collapsed": false,
     "input": [
      "records = pd.DataFrame([parse(l) for l in f if '@' in l])"
     ],
     "language": "python",
     "metadata": {},
     "outputs": [],
     "prompt_number": 37
    },
    {
     "cell_type": "code",
     "collapsed": false,
     "input": [
      "f = pd.read_fwf(seer_dir + 'yr2000_2010.ca_ky_lo_nj_ga/OTHER.TXT', widths=list(records.length))\n",
      "f.columns = map(str.strip, records.name)"
     ],
     "language": "python",
     "metadata": {},
     "outputs": [],
     "prompt_number": 93
    },
    {
     "cell_type": "code",
     "collapsed": false,
     "input": [
      "f = f.ix[:, f.count() > 0]"
     ],
     "language": "python",
     "metadata": {},
     "outputs": [],
     "prompt_number": 94
    },
    {
     "cell_type": "code",
     "collapsed": false,
     "input": [
      "f['Primary site'].value_counts()"
     ],
     "language": "python",
     "metadata": {},
     "outputs": [
      {
       "metadata": {},
       "output_type": "pyout",
       "prompt_number": 96,
       "text": [
        "C445    49794\n",
        "C739    47016\n",
        "C809    45665\n",
        "C446    40021\n",
        "C421    28358\n",
        "C447    26091\n",
        "C443    25058\n",
        "C700    17504\n",
        "C444    13466\n",
        "C751     9342\n",
        "C711     7615\n",
        "C019     7336\n",
        "C099     6132\n",
        "C712     5791\n",
        "C442     5620\n",
        "...\n",
        "C171    1\n",
        "C542    1\n",
        "C382    1\n",
        "C381    1\n",
        "C630    1\n",
        "C321    1\n",
        "C519    1\n",
        "C570    1\n",
        "C180    1\n",
        "C188    1\n",
        "C199    1\n",
        "C155    1\n",
        "C210    1\n",
        "C252    1\n",
        "C339    1\n",
        "Length: 225, dtype: int64"
       ]
      }
     ],
     "prompt_number": 96
    },
    {
     "cell_type": "code",
     "collapsed": false,
     "input": [
      "records.name.tail(40)"
     ],
     "language": "python",
     "metadata": {},
     "outputs": [
      {
       "metadata": {},
       "output_type": "pyout",
       "prompt_number": 50,
       "text": [
        "103         SEER Summary Stage 2000 2000 (2001-2003) \n",
        "104                              Number of primaries \n",
        "105                First malignant primary indicator \n",
        "106                              State-county recode \n",
        "107               Cause of death to SEER site recode \n",
        "108                               COD to site rec KM \n",
        "109          Vital status recode (study cutoff used) \n",
        "110                                         IHS link \n",
        "111                       Summary stage 2000 (1998+) \n",
        "112                         AYA site recode/WHO 2008 \n",
        "113                 Lymphoma subtype recode/WHO 2008 \n",
        "114         SEER Cause-Specific Death Classification \n",
        "115         SEER Other Cause of Death Classification \n",
        "116                           CS Tumor Size/Ext Eval \n",
        "117                              CS Lymph Nodes Eval \n",
        "118                                     CS Mets Eval \n",
        "119                   Primary by international rules \n",
        "120            ER Status Recode Breast Cancer (1990+)\n",
        "121            PR Status Recode Breast Cancer (1990+)\n",
        "122    CS Schema - AJCC 6th ed(previously called v1) \n",
        "123                        CS Site-Specific Factor 8 \n",
        "124                        CS Site-Specific Factor 10\n",
        "125                        CS Site-Specific Factor 11\n",
        "126                        CS Site-Specific Factor 13\n",
        "127                        CS Site-Specific Factor 15\n",
        "128                        CS Site-Specific Factor 16\n",
        "129                   Lymph-vascular Invasion (2004+)\n",
        "130                                  Survival months \n",
        "131                             Survival months flag \n",
        "132                 Survival months - presumed alive \n",
        "133            Survival months flag - presumed alive \n",
        "134                         Insurance Recode (2007+) \n",
        "135                            Derived AJCC T 7th ed \n",
        "136                            Derived AJCC N 7th ed \n",
        "137                            Derived AJCC M 7th ed \n",
        "138                       Derived AJCC 7 Stage Group \n",
        "139            Adjusted AJCC 6th T with mets (1988+) \n",
        "140            Adjusted AJCC 6th N with mets (1988+) \n",
        "141                              Adjusted AJCC 6th M \n",
        "142                 Adjusted AJCC 6th Stage (1988+) *\n",
        "Name: name, dtype: object"
       ]
      }
     ],
     "prompt_number": 50
    },
    {
     "cell_type": "code",
     "collapsed": false,
     "input": [],
     "language": "python",
     "metadata": {},
     "outputs": []
    }
   ],
   "metadata": {}
  }
 ]
}