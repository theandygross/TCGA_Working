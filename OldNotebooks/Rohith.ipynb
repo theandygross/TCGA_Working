{
 "metadata": {
  "name": "Rohith"
 },
 "nbformat": 3,
 "nbformat_minor": 0,
 "worksheets": [
  {
   "cells": [
    {
     "cell_type": "code",
     "collapsed": false,
     "input": [
      "cd ../src"
     ],
     "language": "python",
     "metadata": {},
     "outputs": [
      {
       "output_type": "stream",
       "stream": "stdout",
       "text": [
        "/cellar/users/agross/TCGA_Code/TCGA/Pathway_Merge/src\n"
       ]
      }
     ],
     "prompt_number": 1
    },
    {
     "cell_type": "code",
     "collapsed": false,
     "input": [
      "import pickle as pickle\n",
      "from collections import defaultdict\n",
      "def tree(): return defaultdict(tree)\n",
      "import os as os\n",
      "from Data.Firehose import get_mutation_matrix\n",
      "from Reports.Figures import violin_plot_pandas\n",
      "from Processing.Tests import anova"
     ],
     "language": "python",
     "metadata": {},
     "outputs": [],
     "prompt_number": 157
    },
    {
     "cell_type": "code",
     "collapsed": false,
     "input": [
      "def get_gene_lookup(gene_sets):\n",
      "    gene_lookup = defaultdict(set)\n",
      "    for pathway, gene_set in gene_sets.iteritems():\n",
      "        for gene in gene_set:\n",
      "            gene_lookup[gene].add(pathway)\n",
      "    return gene_lookup"
     ],
     "language": "python",
     "metadata": {},
     "outputs": [],
     "prompt_number": 5
    },
    {
     "cell_type": "code",
     "collapsed": false,
     "input": [
      "data_path = '/cellar/data/TCGA/Firehose__2012_10_24/'"
     ],
     "language": "python",
     "metadata": {},
     "outputs": [],
     "prompt_number": 6
    },
    {
     "cell_type": "code",
     "collapsed": false,
     "input": [
      "from pandas import read_table"
     ],
     "language": "python",
     "metadata": {},
     "outputs": [],
     "prompt_number": 14
    },
    {
     "cell_type": "code",
     "collapsed": false,
     "input": [
      "r_genes = read_table('/cellar/users/agross/Desktop/myHumanList.txt', header=None)[0]\n",
      "r_genes = r_genes[r_genes.apply(lambda st: ' ' not in st)]\n",
      "r_genes = list(set(r_genes))\n",
      "len(r_genes)"
     ],
     "language": "python",
     "metadata": {},
     "outputs": [
      {
       "output_type": "pyout",
       "prompt_number": 150,
       "text": [
        "154"
       ]
      }
     ],
     "prompt_number": 150
    },
    {
     "cell_type": "code",
     "collapsed": false,
     "input": [
      "stats = {} \n",
      "for cancer in os.listdir(data_path + 'stddata'):\n",
      "    try:\n",
      "        stats[cancer] = run_cancer(cancer)\n",
      "        print cancer + ' Sucess?'\n",
      "    except:\n",
      "        print cancer + ' fail!'"
     ],
     "language": "python",
     "metadata": {},
     "outputs": [
      {
       "output_type": "stream",
       "stream": "stdout",
       "text": [
        "BLCA Sucess?\n",
        "GBM Sucess?"
       ]
      },
      {
       "output_type": "stream",
       "stream": "stdout",
       "text": [
        "\n",
        "BRCA Sucess?"
       ]
      },
      {
       "output_type": "stream",
       "stream": "stdout",
       "text": [
        "\n",
        "COAD Sucess?"
       ]
      },
      {
       "output_type": "stream",
       "stream": "stdout",
       "text": [
        "\n",
        "PRAD Sucess?"
       ]
      },
      {
       "output_type": "stream",
       "stream": "stdout",
       "text": [
        "\n",
        "UCEC Sucess?"
       ]
      },
      {
       "output_type": "stream",
       "stream": "stdout",
       "text": [
        "\n",
        "LUAD Sucess?"
       ]
      },
      {
       "output_type": "stream",
       "stream": "stdout",
       "text": [
        "\n",
        "LAML fail!"
       ]
      },
      {
       "output_type": "stream",
       "stream": "stdout",
       "text": [
        "\n",
        "KICH fail!\n",
        "SARC fail!\n",
        "READ Sucess?"
       ]
      },
      {
       "output_type": "stream",
       "stream": "stdout",
       "text": [
        "\n",
        "LIHC fail!\n",
        "HNSC fail!\n",
        "SKCM fail!\n",
        "CESC fail!"
       ]
      },
      {
       "output_type": "stream",
       "stream": "stdout",
       "text": [
        "\n",
        "LGG fail!\n",
        "KIRP fail!\n",
        "STAD fail!"
       ]
      },
      {
       "output_type": "stream",
       "stream": "stdout",
       "text": [
        "\n",
        "KIRC Sucess?"
       ]
      },
      {
       "output_type": "stream",
       "stream": "stdout",
       "text": [
        "\n",
        "PAAD fail!\n",
        "COADREAD Sucess?"
       ]
      },
      {
       "output_type": "stream",
       "stream": "stdout",
       "text": [
        "\n",
        "LUSC Sucess?"
       ]
      },
      {
       "output_type": "stream",
       "stream": "stdout",
       "text": [
        "\n",
        "THCA Sucess?"
       ]
      },
      {
       "output_type": "stream",
       "stream": "stdout",
       "text": [
        "\n",
        "OV Sucess?"
       ]
      },
      {
       "output_type": "stream",
       "stream": "stdout",
       "text": [
        "\n",
        "DLBC fail!\n"
       ]
      }
     ],
     "prompt_number": 249
    },
    {
     "cell_type": "code",
     "collapsed": false,
     "input": [
      "counts = DataFrame(DataFrame(stats).ix['counts'].to_dict())\n",
      "counts['max'] = counts.max(1)\n",
      "counts['max_cancer'] = counts.idxmax(1)\n",
      "counts.to_csv('/scratch/TCGA/Firehose__2012_10_24/ForRohith/rnaSeq/counts.csv')"
     ],
     "language": "python",
     "metadata": {},
     "outputs": [],
     "prompt_number": 250
    },
    {
     "cell_type": "code",
     "collapsed": false,
     "input": [
      "DataFrame(stats).ix[['has_mut','in_mut']].T.plot(kind='bar')\n",
      "savefig('/scratch/TCGA/Firehose__2012_10_24/ForRohith/rnaSeq/counts.png')"
     ],
     "language": "python",
     "metadata": {},
     "outputs": [
      {
       "output_type": "display_data",
       "png": "[encoded data removed]"
      }
     ],
     "prompt_number": 253
    },
    {
     "cell_type": "code",
     "collapsed": false,
     "input": [
      "def run_cancer(cancer):   \n",
      "    vec = {}\n",
      "    hit_mat, _ = get_mutation_matrix(cancer, data_path)\n",
      "    exp_mat = read_rnaSeq(cancer, data_path)\n",
      "    exp_mat = exp_mat.groupby(by=lambda n: n.split('|')[0]).mean()\n",
      "    hit_mat = hit_mat.ix[:,exp_mat.columns]\n",
      "    counts = hit_mat.ix[r_genes].sum(1).dropna()\n",
      "    genes = counts[counts > 0].index\n",
      "    hit_mat = hit_mat.ix[genes].dropna(axis=1) > 0\n",
      "    exp_mat = exp_mat.ix[:, hit_mat.columns]\n",
      "    exp_mat.to_csv('/scratch/TCGA/Firehose__2012_10_24/ForRohith/rnaSeq/' +  cancer + '_' + 'exp_mat.csv')\n",
      "    hit_mat.to_csv('/scratch/TCGA/Firehose__2012_10_24/ForRohith/rnaSeq/' +  cancer + '_' + 'hit_mat.csv')\n",
      "    \n",
      "    vec['in_mut'] = len(counts)\n",
      "    vec['has_mut'] = len(genes) \n",
      "    vec['counts'] = counts\n",
      "    return vec"
     ],
     "language": "python",
     "metadata": {},
     "outputs": [],
     "prompt_number": 247
    },
    {
     "cell_type": "code",
     "collapsed": false,
     "input": [
      "data = exp_mat.T.join(hit_mat.T, rsuffix='_mut')\n",
      "data = data.ix[hit_mat.columns].T"
     ],
     "language": "python",
     "metadata": {},
     "outputs": [],
     "prompt_number": 136
    },
    {
     "cell_type": "code",
     "collapsed": false,
     "input": [
      "data"
     ],
     "language": "python",
     "metadata": {},
     "outputs": [
      {
       "output_type": "pyout",
       "prompt_number": 146,
       "text": [
        "<class 'pandas.core.frame.DataFrame'>\n",
        "Index: 17893 entries, ELMO2 to MTIF2_mut\n",
        "Columns: 316 entries, TCGA-04-1331 to TCGA-61-2113\n",
        "dtypes: object(316)"
       ]
      }
     ],
     "prompt_number": 146
    },
    {
     "cell_type": "code",
     "collapsed": false,
     "input": [
      "hit_mat.sum(1).order().tail()"
     ],
     "language": "python",
     "metadata": {},
     "outputs": [
      {
       "output_type": "pyout",
       "prompt_number": 145,
       "text": [
        "SETD2      6\n",
        "BRCA2     11\n",
        "BRCA1     12\n",
        "NF1       14\n",
        "TP53     276"
       ]
      }
     ],
     "prompt_number": 145
    },
    {
     "cell_type": "code",
     "collapsed": false,
     "input": [
      "exp_reduced = exp_mat.ix[genes, hit_mat.columns].dropna(how='all')\n",
      "genes = list(set.intersection(set(genes), set(exp_reduced.index)))\n",
      "len(genes)"
     ],
     "language": "python",
     "metadata": {},
     "outputs": [
      {
       "output_type": "pyout",
       "prompt_number": 122,
       "text": [
        "77"
       ]
      }
     ],
     "prompt_number": 122
    },
    {
     "cell_type": "code",
     "collapsed": false,
     "input": [
      "s = Series({g: anova(hit_mat.ix[g], exp_reduced.ix[g]) for g in genes})\n",
      "s.order().head(10)"
     ],
     "language": "python",
     "metadata": {},
     "outputs": [
      {
       "output_type": "pyout",
       "prompt_number": 106,
       "text": [
        "BRCA1      0.003051\n",
        "IQGAP2     0.032913\n",
        "BRCA2      0.039617\n",
        "RBBP7      0.040274\n",
        "SMARCA4    0.042373\n",
        "PTEN       0.064447\n",
        "DAAM1      0.097255\n",
        "AIFM3      0.104065\n",
        "SHPRH      0.115939\n",
        "ACSL3      0.116368"
       ]
      }
     ],
     "prompt_number": 106
    },
    {
     "cell_type": "code",
     "collapsed": false,
     "input": [
      "violin_plot_pandas(hit_mat.ix['DAAM1'] , exp_reduced.ix['DAAM1']);"
     ],
     "language": "python",
     "metadata": {},
     "outputs": [
      {
       "output_type": "display_data",
       "png": "[encoded data removed]"
      }
     ],
     "prompt_number": 114
    },
    {
     "cell_type": "code",
     "collapsed": false,
     "input": [
      "violin_plot_pandas(hit_mat.ix['IQGAP2'] , exp_reduced.ix['IQGAP2']);"
     ],
     "language": "python",
     "metadata": {},
     "outputs": [
      {
       "output_type": "display_data",
       "png": "[encoded data removed]"
      }
     ],
     "prompt_number": 109
    },
    {
     "cell_type": "code",
     "collapsed": false,
     "input": [],
     "language": "python",
     "metadata": {},
     "outputs": []
    }
   ],
   "metadata": {}
  }
 ]
}