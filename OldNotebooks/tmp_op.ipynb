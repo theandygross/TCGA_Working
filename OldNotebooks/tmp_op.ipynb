{
 "metadata": {
  "name": "tmp_op"
 },
 "nbformat": 3,
 "nbformat_minor": 0,
 "worksheets": [
  {
   "cells": [
    {
     "cell_type": "code",
     "collapsed": false,
     "input": [
      "cd ../src"
     ],
     "language": "python",
     "metadata": {},
     "outputs": [
      {
       "output_type": "stream",
       "stream": "stdout",
       "text": [
        "/cellar/users/agross/TCGA_Code/TCGA/Pathway_Merge/src\n"
       ]
      }
     ],
     "prompt_number": 470
    },
    {
     "cell_type": "code",
     "collapsed": false,
     "input": [
      "REAL_VARIABLES = ['AMAR','rate','age','karnofsky_performance', 'pack_years',\n",
      "                  'pct_tumor_invasion', 'height', 'weight', 'neo_area']\n",
      "BINARY_VARIABLES = ['gender', 'therapy', 'radiation', 'triple_neg', 'triple_pos',\n",
      "                    'ER_pos','PR_pos','her2_pos', 'lymphnode_n0n1', 'tumor_t1t2',\n",
      "                    'post_menopause', 'histo_g1g2', 'neo_status', 'chemo', \n",
      "                    'hormones''complete_response', 'metastatic_recurrence',\n",
      "                    'new_tumor','smoker', 'drinker', 'aml_cyto_risk_favorable',\n",
      "                    'morphology_m1m2', 'normal_cyto', 'abnormallymphocyte', \n",
      "                    'bonemarrowbandcell', 'bonemarrowbasophil', 'bonemarrowblastcell',\n",
      "                    'bonemarrowcellularity', 'bonemarrowlabeosinophil', \n",
      "                    'bonemarrowlymphocyte', 'bonemarrowmyelocyte', 'bonemarrowneutrophil', \n",
      "                    'bonemarrowprolymphocyte', 'bonemarrowpromonocytecount', \n",
      "                    'bonemarrowpromyelocyte', 'monocyte', 'venous_invasion',\n",
      "                    'lymphatic_invasion', 'calcium_level', 'white_cell_count',\n",
      "                    'tumor_focality']\n",
      "SURVIVAL_TESTS = {'survival' : {'event_var' : 'deceased', 'time_var' : 'days', \n",
      "                                'covariates' : ['age']},\n",
      "                  'event_free_survival' : {'event_var' : 'event', \n",
      "                                           'time_var' : 'event_free_survival', \n",
      "                                           'covariates' : ['age','rate']},\n",
      "                  'survival_5y' : {'event_var' : 'deceased_5y', 'time_var' : 'days_5y', \n",
      "                                   'covariates' : ['age']},\n",
      "                  'event_free_survival_5y' : {'event_var' : 'event_5y', \n",
      "                                           'time_var' : 'event_free_survival_5y', \n",
      "                                           'covariates' : ['age','rate']}\n",
      "                  }"
     ],
     "language": "python",
     "metadata": {},
     "outputs": [],
     "prompt_number": 471
    },
    {
     "cell_type": "code",
     "collapsed": false,
     "input": [
      "import os as os\n",
      "import pickle as pickle\n",
      "from pandas import Panel, DataFrame, Series\n",
      "from pandas import read_csv\n",
      "from Processing.Clinical import get_tests, run_tests"
     ],
     "language": "python",
     "metadata": {},
     "outputs": [],
     "prompt_number": 472
    },
    {
     "cell_type": "code",
     "collapsed": false,
     "input": [
      "data_path = '/cellar/data/TCGA/Firehose__2012_10_24/'\n",
      "cancers = os.listdir(data_path + 'ucsd_analyses')\n",
      "report_ext = ''"
     ],
     "language": "python",
     "metadata": {},
     "outputs": [],
     "prompt_number": 477
    },
    {
     "cell_type": "code",
     "collapsed": false,
     "input": [
      "def retreive_paths_for_datatype(data_type, report_ext, folder='Clinical', archive='ClinicalObject.p'):\n",
      "    clinical = {}\n",
      "    for cancer in cancers:\n",
      "        clinical_obj = data_path + '/'.join(['ucsd_analyses', cancer, folder, data_type + report_ext,\n",
      "                                             archive])\n",
      "        if os.path.isfile(clinical_obj):\n",
      "            clinical[cancer] = clinical_obj\n",
      "    return clinical"
     ],
     "language": "python",
     "metadata": {},
     "outputs": [],
     "prompt_number": 478
    },
    {
     "cell_type": "code",
     "collapsed": false,
     "input": [
      "rate_objects = retreive_paths_for_datatype('mutation', report_ext, folder='Globals', archive='RateObject.p')"
     ],
     "language": "python",
     "metadata": {},
     "outputs": [],
     "prompt_number": 479
    },
    {
     "cell_type": "code",
     "collapsed": false,
     "input": [
      "cancer = 'LAML'"
     ],
     "language": "python",
     "metadata": {},
     "outputs": [],
     "prompt_number": 344
    },
    {
     "cell_type": "code",
     "collapsed": false,
     "input": [
      "clinical = read_csv(data_path + '/'.join(['ucsd_processing', cancer, \n",
      "                                                  'Clinical','compiled.csv']), index_col=0)\n",
      "        \n",
      "clinical['deceased_5y'] = (clinical.days < (365.25*5)) * clinical.deceased\n",
      "clinical['days_5y'] = clinical.days.clip_upper(int(365.25*5))\n",
      "\n",
      "if hasattr(clinical, 'event'):\n",
      "    clinical['event'] = clinical[['event','deceased']].sum(1).clip_upper(1.)\n",
      "    evs = clinical.event_free_survival\n",
      "    clinical['event_5y'] = (evs < (365.25*5)) * clinical.event\n",
      "    clinical['event_free_survival_5y'] = evs.clip_upper(int(365.25*5))\n",
      "    \n",
      "    \n",
      "tests  = get_tests(clinical, SURVIVAL_TESTS, REAL_VARIABLES, \n",
      "                   BINARY_VARIABLES, var_type='real')\n",
      "r = pickle.load(open(rate_objects[cancer], 'rb'))\n",
      "rate_vars = r.clinical.dropna(how='all', axis=1)\n",
      "rate_vars['age'] = clinical['age']\n",
      "p, q = run_tests(tests, rate_vars.T)"
     ],
     "language": "python",
     "metadata": {},
     "outputs": [
      {
       "output_type": "stream",
       "stream": "stdout",
       "text": [
        "Error in function (formula, data, weights, subset, na.action, init, control,  : \n",
        "  No (non-missing) observations\n"
       ]
      },
      {
       "output_type": "stream",
       "stream": "stdout",
       "text": [
        "Error in function (formula, data, weights, subset, na.action, init, control,  : \n",
        "  No (non-missing) observations\n"
       ]
      }
     ],
     "prompt_number": 345
    },
    {
     "cell_type": "code",
     "collapsed": false,
     "input": [
      "clinical = clinical.join(rate_vars,lsuffix='drop').select(lambda s: 'drop' not in s, 1)"
     ],
     "language": "python",
     "metadata": {},
     "outputs": [],
     "prompt_number": 346
    },
    {
     "cell_type": "code",
     "collapsed": false,
     "input": [
      "cancer = pickle.load(open(rate_objects['LAML'], 'rb'))"
     ],
     "language": "python",
     "metadata": {},
     "outputs": [],
     "prompt_number": 348
    },
    {
     "cell_type": "code",
     "collapsed": false,
     "input": [
      "params = SURVIVAL_TESTS['survival_5y']\n",
      "clinical['rate']  = cancer.single_matrix.sum()\n",
      "cov = ['age', 'rate']"
     ],
     "language": "python",
     "metadata": {},
     "outputs": [],
     "prompt_number": 464
    },
    {
     "cell_type": "code",
     "collapsed": false,
     "input": [],
     "language": "python",
     "metadata": {},
     "outputs": [],
     "prompt_number": 465
    },
    {
     "cell_type": "code",
     "collapsed": false,
     "input": [
      "clinical[cov] = clinical[cov].astype(float)\n",
      "params['covariates'] = cov"
     ],
     "language": "python",
     "metadata": {},
     "outputs": [],
     "prompt_number": 466
    },
    {
     "cell_type": "code",
     "collapsed": false,
     "input": [
      "s1 = Series({p: get_cox_ph_ms(clinical, vec, return_val='LR_p', null_model=null_model, **params) \n",
      "             for p, vec in cancer.meta_matrix.iterrows()})"
     ],
     "language": "python",
     "metadata": {},
     "outputs": [],
     "prompt_number": 467
    },
    {
     "cell_type": "code",
     "collapsed": false,
     "input": [
      "p.T.sort().T.sort(columns='event_free_survival_5y').dropna(axis=[0,1], how='all')"
     ],
     "language": "python",
     "metadata": {},
     "outputs": [
      {
       "html": [
        "<div style=\"max-height:1000px;max-width:1500px;overflow:auto;\">\n",
        "<table border=\"1\" class=\"dataframe\">\n",
        "  <thead>\n",
        "    <tr style=\"text-align: right;\">\n",
        "      <th></th>\n",
        "      <th>age</th>\n",
        "      <th>event_free_survival</th>\n",
        "      <th>event_free_survival_5y</th>\n",
        "      <th>karnofsky_performance</th>\n",
        "      <th>metastatic_recurrence</th>\n",
        "      <th>neo_status</th>\n",
        "      <th>survival</th>\n",
        "      <th>survival_5y</th>\n",
        "    </tr>\n",
        "  </thead>\n",
        "  <tbody>\n",
        "    <tr>\n",
        "      <td><strong>age</strong></td>\n",
        "      <td> 0.000000e+00</td>\n",
        "      <td> 0.001018</td>\n",
        "      <td> 0.000483</td>\n",
        "      <td> 0.122912</td>\n",
        "      <td> 0.169590</td>\n",
        "      <td> 0.177389</td>\n",
        "      <td> 0.000431</td>\n",
        "      <td> 0.000014</td>\n",
        "    </tr>\n",
        "    <tr>\n",
        "      <td><strong>*CpG->T</strong></td>\n",
        "      <td> 4.961645e-04</td>\n",
        "      <td> 0.004594</td>\n",
        "      <td> 0.003992</td>\n",
        "      <td> 0.832149</td>\n",
        "      <td> 0.903382</td>\n",
        "      <td> 0.238135</td>\n",
        "      <td> 0.011822</td>\n",
        "      <td> 0.006021</td>\n",
        "    </tr>\n",
        "    <tr>\n",
        "      <td><strong>rate</strong></td>\n",
        "      <td> 8.151242e-02</td>\n",
        "      <td> 0.013326</td>\n",
        "      <td> 0.018721</td>\n",
        "      <td> 0.467366</td>\n",
        "      <td> 0.337352</td>\n",
        "      <td> 0.027805</td>\n",
        "      <td> 0.000405</td>\n",
        "      <td> 0.000717</td>\n",
        "    </tr>\n",
        "    <tr>\n",
        "      <td><strong>C->(G_A)</strong></td>\n",
        "      <td> 4.890924e-02</td>\n",
        "      <td> 0.025358</td>\n",
        "      <td> 0.022735</td>\n",
        "      <td> 0.281393</td>\n",
        "      <td> 0.808982</td>\n",
        "      <td> 0.092082</td>\n",
        "      <td> 0.003535</td>\n",
        "      <td> 0.010964</td>\n",
        "    </tr>\n",
        "    <tr>\n",
        "      <td><strong>rate_non</strong></td>\n",
        "      <td> 1.247169e-01</td>\n",
        "      <td> 0.029083</td>\n",
        "      <td> 0.041022</td>\n",
        "      <td> 0.640298</td>\n",
        "      <td> 0.577579</td>\n",
        "      <td> 0.137200</td>\n",
        "      <td> 0.003155</td>\n",
        "      <td> 0.001562</td>\n",
        "    </tr>\n",
        "    <tr>\n",
        "      <td><strong>*Cp(A_C_T)->T</strong></td>\n",
        "      <td> 2.519571e-01</td>\n",
        "      <td> 0.053527</td>\n",
        "      <td> 0.075739</td>\n",
        "      <td> 0.002517</td>\n",
        "      <td> 0.135911</td>\n",
        "      <td> 0.208932</td>\n",
        "      <td> 0.091804</td>\n",
        "      <td> 0.249197</td>\n",
        "    </tr>\n",
        "    <tr>\n",
        "      <td><strong>chrom_instability</strong></td>\n",
        "      <td> 1.315454e-07</td>\n",
        "      <td> 0.182575</td>\n",
        "      <td> 0.108709</td>\n",
        "      <td> 0.034847</td>\n",
        "      <td> 0.859891</td>\n",
        "      <td> 0.703075</td>\n",
        "      <td> 0.750237</td>\n",
        "      <td> 0.454836</td>\n",
        "    </tr>\n",
        "    <tr>\n",
        "      <td><strong>rate_sil</strong></td>\n",
        "      <td> 4.298741e-02</td>\n",
        "      <td> 0.108722</td>\n",
        "      <td> 0.126971</td>\n",
        "      <td> 0.696869</td>\n",
        "      <td> 0.336146</td>\n",
        "      <td> 0.352965</td>\n",
        "      <td> 0.009314</td>\n",
        "      <td> 0.007728</td>\n",
        "    </tr>\n",
        "    <tr>\n",
        "      <td><strong>lesion_amp_high</strong></td>\n",
        "      <td> 9.264297e-05</td>\n",
        "      <td> 0.175094</td>\n",
        "      <td> 0.130630</td>\n",
        "      <td> 0.089586</td>\n",
        "      <td> 0.858956</td>\n",
        "      <td> 0.239713</td>\n",
        "      <td> 0.314484</td>\n",
        "      <td> 0.122811</td>\n",
        "    </tr>\n",
        "    <tr>\n",
        "      <td><strong>exp_pc2</strong></td>\n",
        "      <td> 3.391399e-01</td>\n",
        "      <td> 0.170478</td>\n",
        "      <td> 0.181187</td>\n",
        "      <td> 0.268305</td>\n",
        "      <td> 0.892925</td>\n",
        "      <td> 0.538686</td>\n",
        "      <td> 0.949566</td>\n",
        "      <td> 0.598057</td>\n",
        "    </tr>\n",
        "    <tr>\n",
        "      <td><strong>A->mut</strong></td>\n",
        "      <td> 7.352268e-01</td>\n",
        "      <td> 0.330008</td>\n",
        "      <td> 0.332015</td>\n",
        "      <td> 0.403861</td>\n",
        "      <td> 0.132081</td>\n",
        "      <td> 0.848024</td>\n",
        "      <td> 0.135943</td>\n",
        "      <td> 0.235090</td>\n",
        "    </tr>\n",
        "    <tr>\n",
        "      <td><strong>lesion_del</strong></td>\n",
        "      <td> 1.419941e-01</td>\n",
        "      <td> 0.240471</td>\n",
        "      <td> 0.363951</td>\n",
        "      <td> 0.536702</td>\n",
        "      <td> 0.322282</td>\n",
        "      <td> 0.056369</td>\n",
        "      <td> 0.062595</td>\n",
        "      <td> 0.326601</td>\n",
        "    </tr>\n",
        "    <tr>\n",
        "      <td><strong>gene_amp_high</strong></td>\n",
        "      <td> 1.792686e-01</td>\n",
        "      <td> 0.413857</td>\n",
        "      <td> 0.387324</td>\n",
        "      <td> 0.287086</td>\n",
        "      <td> 0.906646</td>\n",
        "      <td> 0.209315</td>\n",
        "      <td> 0.289906</td>\n",
        "      <td> 0.378896</td>\n",
        "    </tr>\n",
        "    <tr>\n",
        "      <td><strong>rate_dbsnp</strong></td>\n",
        "      <td> 1.092236e-02</td>\n",
        "      <td> 0.453064</td>\n",
        "      <td> 0.399870</td>\n",
        "      <td> 0.425868</td>\n",
        "      <td> 0.719131</td>\n",
        "      <td> 0.343872</td>\n",
        "      <td> 0.712857</td>\n",
        "      <td> 0.994137</td>\n",
        "    </tr>\n",
        "    <tr>\n",
        "      <td><strong>gene_amp</strong></td>\n",
        "      <td> 1.913706e-09</td>\n",
        "      <td> 0.604909</td>\n",
        "      <td> 0.454023</td>\n",
        "      <td> 0.031515</td>\n",
        "      <td> 0.566796</td>\n",
        "      <td> 0.883860</td>\n",
        "      <td> 0.986325</td>\n",
        "      <td> 0.419450</td>\n",
        "    </tr>\n",
        "    <tr>\n",
        "      <td><strong>gene_del_homo</strong></td>\n",
        "      <td> 6.150283e-01</td>\n",
        "      <td> 0.596568</td>\n",
        "      <td> 0.703031</td>\n",
        "      <td> 0.340757</td>\n",
        "      <td> 0.592227</td>\n",
        "      <td> 0.264523</td>\n",
        "      <td> 0.984202</td>\n",
        "      <td> 0.478956</td>\n",
        "    </tr>\n",
        "    <tr>\n",
        "      <td><strong>gene_del</strong></td>\n",
        "      <td> 1.022180e-02</td>\n",
        "      <td> 0.875205</td>\n",
        "      <td> 0.713151</td>\n",
        "      <td> 0.410878</td>\n",
        "      <td> 0.052464</td>\n",
        "      <td> 0.412787</td>\n",
        "      <td> 0.478938</td>\n",
        "      <td> 0.941745</td>\n",
        "    </tr>\n",
        "    <tr>\n",
        "      <td><strong>lesion_amp</strong></td>\n",
        "      <td> 2.918276e-10</td>\n",
        "      <td> 0.901788</td>\n",
        "      <td> 0.773603</td>\n",
        "      <td> 0.241293</td>\n",
        "      <td> 0.899997</td>\n",
        "      <td> 0.940419</td>\n",
        "      <td> 0.697710</td>\n",
        "      <td> 0.702096</td>\n",
        "    </tr>\n",
        "    <tr>\n",
        "      <td><strong>indel+null</strong></td>\n",
        "      <td> 7.428574e-01</td>\n",
        "      <td> 0.845241</td>\n",
        "      <td> 0.938797</td>\n",
        "      <td> 0.779974</td>\n",
        "      <td> 0.583608</td>\n",
        "      <td> 0.108344</td>\n",
        "      <td> 0.608885</td>\n",
        "      <td> 0.907624</td>\n",
        "    </tr>\n",
        "    <tr>\n",
        "      <td><strong>double_null</strong></td>\n",
        "      <td> 4.157509e-01</td>\n",
        "      <td> 0.640220</td>\n",
        "      <td> 0.969755</td>\n",
        "      <td> 0.681292</td>\n",
        "      <td> 0.072357</td>\n",
        "      <td> 0.917565</td>\n",
        "      <td> 0.598055</td>\n",
        "      <td> 0.911729</td>\n",
        "    </tr>\n",
        "    <tr>\n",
        "      <td><strong>exp_pc1</strong></td>\n",
        "      <td> 5.543429e-01</td>\n",
        "      <td> 0.994896</td>\n",
        "      <td> 0.996514</td>\n",
        "      <td> 0.370783</td>\n",
        "      <td> 0.328180</td>\n",
        "      <td> 0.147724</td>\n",
        "      <td> 0.833900</td>\n",
        "      <td> 0.965081</td>\n",
        "    </tr>\n",
        "    <tr>\n",
        "      <td><strong>lesion_del_homo</strong></td>\n",
        "      <td> 1.000000e+00</td>\n",
        "      <td> 1.230000</td>\n",
        "      <td> 1.230000</td>\n",
        "      <td> 1.000000</td>\n",
        "      <td>      NaN</td>\n",
        "      <td>      NaN</td>\n",
        "      <td> 1.230000</td>\n",
        "      <td> 1.230000</td>\n",
        "    </tr>\n",
        "  </tbody>\n",
        "</table>\n",
        "</div>"
       ],
       "output_type": "pyout",
       "prompt_number": 11,
       "text": [
        "                            age  event_free_survival  event_free_survival_5y  \\\n",
        "age                0.000000e+00             0.001018                0.000483   \n",
        "*CpG->T            4.961645e-04             0.004594                0.003992   \n",
        "rate               8.151242e-02             0.013326                0.018721   \n",
        "C->(G_A)           4.890924e-02             0.025358                0.022735   \n",
        "rate_non           1.247169e-01             0.029083                0.041022   \n",
        "*Cp(A_C_T)->T      2.519571e-01             0.053527                0.075739   \n",
        "chrom_instability  1.315454e-07             0.182575                0.108709   \n",
        "rate_sil           4.298741e-02             0.108722                0.126971   \n",
        "lesion_amp_high    9.264297e-05             0.175094                0.130630   \n",
        "exp_pc2            3.391399e-01             0.170478                0.181187   \n",
        "A->mut             7.352268e-01             0.330008                0.332015   \n",
        "lesion_del         1.419941e-01             0.240471                0.363951   \n",
        "gene_amp_high      1.792686e-01             0.413857                0.387324   \n",
        "rate_dbsnp         1.092236e-02             0.453064                0.399870   \n",
        "gene_amp           1.913706e-09             0.604909                0.454023   \n",
        "gene_del_homo      6.150283e-01             0.596568                0.703031   \n",
        "gene_del           1.022180e-02             0.875205                0.713151   \n",
        "lesion_amp         2.918276e-10             0.901788                0.773603   \n",
        "indel+null         7.428574e-01             0.845241                0.938797   \n",
        "double_null        4.157509e-01             0.640220                0.969755   \n",
        "exp_pc1            5.543429e-01             0.994896                0.996514   \n",
        "lesion_del_homo    1.000000e+00             1.230000                1.230000   \n",
        "\n",
        "                   karnofsky_performance  metastatic_recurrence  neo_status  \\\n",
        "age                             0.122912               0.169590    0.177389   \n",
        "*CpG->T                         0.832149               0.903382    0.238135   \n",
        "rate                            0.467366               0.337352    0.027805   \n",
        "C->(G_A)                        0.281393               0.808982    0.092082   \n",
        "rate_non                        0.640298               0.577579    0.137200   \n",
        "*Cp(A_C_T)->T                   0.002517               0.135911    0.208932   \n",
        "chrom_instability               0.034847               0.859891    0.703075   \n",
        "rate_sil                        0.696869               0.336146    0.352965   \n",
        "lesion_amp_high                 0.089586               0.858956    0.239713   \n",
        "exp_pc2                         0.268305               0.892925    0.538686   \n",
        "A->mut                          0.403861               0.132081    0.848024   \n",
        "lesion_del                      0.536702               0.322282    0.056369   \n",
        "gene_amp_high                   0.287086               0.906646    0.209315   \n",
        "rate_dbsnp                      0.425868               0.719131    0.343872   \n",
        "gene_amp                        0.031515               0.566796    0.883860   \n",
        "gene_del_homo                   0.340757               0.592227    0.264523   \n",
        "gene_del                        0.410878               0.052464    0.412787   \n",
        "lesion_amp                      0.241293               0.899997    0.940419   \n",
        "indel+null                      0.779974               0.583608    0.108344   \n",
        "double_null                     0.681292               0.072357    0.917565   \n",
        "exp_pc1                         0.370783               0.328180    0.147724   \n",
        "lesion_del_homo                 1.000000                    NaN         NaN   \n",
        "\n",
        "                   survival  survival_5y  \n",
        "age                0.000431     0.000014  \n",
        "*CpG->T            0.011822     0.006021  \n",
        "rate               0.000405     0.000717  \n",
        "C->(G_A)           0.003535     0.010964  \n",
        "rate_non           0.003155     0.001562  \n",
        "*Cp(A_C_T)->T      0.091804     0.249197  \n",
        "chrom_instability  0.750237     0.454836  \n",
        "rate_sil           0.009314     0.007728  \n",
        "lesion_amp_high    0.314484     0.122811  \n",
        "exp_pc2            0.949566     0.598057  \n",
        "A->mut             0.135943     0.235090  \n",
        "lesion_del         0.062595     0.326601  \n",
        "gene_amp_high      0.289906     0.378896  \n",
        "rate_dbsnp         0.712857     0.994137  \n",
        "gene_amp           0.986325     0.419450  \n",
        "gene_del_homo      0.984202     0.478956  \n",
        "gene_del           0.478938     0.941745  \n",
        "lesion_amp         0.697710     0.702096  \n",
        "indel+null         0.608885     0.907624  \n",
        "double_null        0.598055     0.911729  \n",
        "exp_pc1            0.833900     0.965081  \n",
        "lesion_del_homo    1.230000     1.230000  "
       ]
      }
     ],
     "prompt_number": 11
    },
    {
     "cell_type": "code",
     "collapsed": false,
     "input": [
      "import numpy as np"
     ],
     "language": "python",
     "metadata": {},
     "outputs": [],
     "prompt_number": 480
    },
    {
     "cell_type": "code",
     "collapsed": false,
     "input": [
      "p_global = {}\n",
      "q_global = {}\n",
      "for cancer, path in rate_objects.iteritems():\n",
      "    try:\n",
      "        clinical = read_csv(data_path + '/'.join(['ucsd_processing', cancer, \n",
      "                                                  'Clinical','compiled.csv']), index_col=0)\n",
      "        \n",
      "        clinical['deceased_5y'] = (clinical.days < (365.25*5)) * clinical.deceased\n",
      "        clinical['days_5y'] = clinical.days.clip_upper(int(365.25*5))\n",
      "\n",
      "        if hasattr(clinical, 'event'):\n",
      "            clinical['event'] = clinical[['event','deceased']].sum(1).clip_upper(1.)\n",
      "            evs = clinical.event_free_survival\n",
      "            clinical['event_5y'] = (evs < (365.25*5)) * clinical.event\n",
      "            clinical['event_free_survival_5y'] = evs.clip_upper(int(365.25*5))\n",
      "            \n",
      "            \n",
      "        tests  = get_tests(clinical, SURVIVAL_TESTS, REAL_VARIABLES, \n",
      "                           BINARY_VARIABLES, var_type='real')\n",
      "        r = pickle.load(open(path, 'rb'))\n",
      "        rate_vars = r.clinical.dropna(how='all', axis=1)\n",
      "        rate_vars['age'] = clinical['age']\n",
      "        p_global[cancer], q_global[cancer] = run_tests(tests, rate_vars.T)\n",
      "    except:\n",
      "        continue\n",
      "p_global = Panel(p_global)\n",
      "q_global = Panel(q_global)"
     ],
     "language": "python",
     "metadata": {},
     "outputs": [
      {
       "output_type": "stream",
       "stream": "stdout",
       "text": [
        "Error in function (formula, data, weights, subset, na.action, init, control,  : \n",
        "  No (non-missing) observations\n"
       ]
      },
      {
       "output_type": "stream",
       "stream": "stdout",
       "text": [
        "Error in function (formula, data, weights, subset, na.action, init, control,  : \n",
        "  No (non-missing) observations\n"
       ]
      },
      {
       "output_type": "stream",
       "stream": "stdout",
       "text": [
        "Error in function (formula, data, weights, subset, na.action, init, control,  : \n",
        "  No (non-missing) observations\n"
       ]
      },
      {
       "output_type": "stream",
       "stream": "stdout",
       "text": [
        "Error in function (formula, data, weights, subset, na.action, init, control,  : \n",
        "  No (non-missing) observations\n"
       ]
      },
      {
       "output_type": "stream",
       "stream": "stdout",
       "text": [
        "Error in function (formula, data, weights, subset, na.action, init, control,  : \n",
        "  No (non-missing) observations\n"
       ]
      },
      {
       "output_type": "stream",
       "stream": "stdout",
       "text": [
        "Error in function (formula, data, weights, subset, na.action, init, control,  : \n",
        "  No (non-missing) observations\n"
       ]
      },
      {
       "output_type": "stream",
       "stream": "stdout",
       "text": [
        "Error in function (formula, data, weights, subset, na.action, init, control,  : \n",
        "  No (non-missing) observations\n"
       ]
      },
      {
       "output_type": "stream",
       "stream": "stdout",
       "text": [
        "Error in fitter(X, Y, strats, offset, init, control, weights = weights,  : \n",
        "  NA/NaN/Inf in foreign function call (arg 6)\n"
       ]
      },
      {
       "output_type": "stream",
       "stream": "stdout",
       "text": [
        "Error in fitter(X, Y, strats, offset, init, control, weights = weights,  : \n",
        "  NA/NaN/Inf in foreign function call (arg 6)\n"
       ]
      },
      {
       "output_type": "stream",
       "stream": "stdout",
       "text": [
        "Error in fitter(X, Y, strats, offset, init, control, weights = weights,  : \n",
        "  NA/NaN/Inf in foreign function call (arg 6)\n"
       ]
      },
      {
       "output_type": "stream",
       "stream": "stdout",
       "text": [
        "Error in fitter(X, Y, strats, offset, init, control, weights = weights,  : \n",
        "  NA/NaN/Inf in foreign function call (arg 6)\n"
       ]
      },
      {
       "output_type": "stream",
       "stream": "stdout",
       "text": [
        "Error in fitter(X, Y, strats, offset, init, control, weights = weights,  : \n",
        "  NA/NaN/Inf in foreign function call (arg 6)\n"
       ]
      },
      {
       "output_type": "stream",
       "stream": "stdout",
       "text": [
        "Error in fitter(X, Y, strats, offset, init, control, weights = weights,  : \n",
        "  NA/NaN/Inf in foreign function call (arg 6)\n"
       ]
      },
      {
       "output_type": "stream",
       "stream": "stdout",
       "text": [
        "Error in fitter(X, Y, strats, offset, init, control, weights = weights,  : \n",
        "  NA/NaN/Inf in foreign function call (arg 6)\n"
       ]
      },
      {
       "output_type": "stream",
       "stream": "stdout",
       "text": [
        "Error in fitter(X, Y, strats, offset, init, control, weights = weights,  : \n",
        "  NA/NaN/Inf in foreign function call (arg 6)\n"
       ]
      },
      {
       "output_type": "stream",
       "stream": "stdout",
       "text": [
        "Error in fitter(X, Y, strats, offset, init, control, weights = weights,  : \n",
        "  NA/NaN/Inf in foreign function call (arg 6)\n"
       ]
      },
      {
       "output_type": "stream",
       "stream": "stdout",
       "text": [
        "Error in fitter(X, Y, strats, offset, init, control, weights = weights,  : \n",
        "  NA/NaN/Inf in foreign function call (arg 6)\n"
       ]
      },
      {
       "output_type": "stream",
       "stream": "stdout",
       "text": [
        "Error in function (formula, data, weights, subset, na.action, init, control,  : \n",
        "  No (non-missing) observations\n"
       ]
      },
      {
       "output_type": "stream",
       "stream": "stdout",
       "text": [
        "Error in function (formula, data, weights, subset, na.action, init, control,  : \n",
        "  No (non-missing) observations\n"
       ]
      },
      {
       "output_type": "stream",
       "stream": "stdout",
       "text": [
        "Error in function (formula, data, weights, subset, na.action, init, control,  : \n",
        "  No (non-missing) observations\n"
       ]
      },
      {
       "output_type": "stream",
       "stream": "stdout",
       "text": [
        "Error in fitter(X, Y, strats, offset, init, control, weights = weights,  : \n",
        "  NA/NaN/Inf in foreign function call (arg 6)\n"
       ]
      },
      {
       "output_type": "stream",
       "stream": "stdout",
       "text": [
        "Error in fitter(X, Y, strats, offset, init, control, weights = weights,  : \n",
        "  NA/NaN/Inf in foreign function call (arg 6)\n"
       ]
      },
      {
       "output_type": "stream",
       "stream": "stdout",
       "text": [
        "Error in fitter(X, Y, strats, offset, init, control, weights = weights,  : \n",
        "  NA/NaN/Inf in foreign function call (arg 6)\n"
       ]
      },
      {
       "output_type": "stream",
       "stream": "stdout",
       "text": [
        "Error in fitter(X, Y, strats, offset, init, control, weights = weights,  : \n",
        "  NA/NaN/Inf in foreign function call (arg 6)\n"
       ]
      },
      {
       "output_type": "stream",
       "stream": "stdout",
       "text": [
        "Error in fitter(X, Y, strats, offset, init, control, weights = weights,  : \n",
        "  NA/NaN/Inf in foreign function call (arg 6)\n"
       ]
      },
      {
       "output_type": "stream",
       "stream": "stdout",
       "text": [
        "Error in fitter(X, Y, strats, offset, init, control, weights = weights,  : \n",
        "  NA/NaN/Inf in foreign function call (arg 6)\n"
       ]
      },
      {
       "output_type": "stream",
       "stream": "stdout",
       "text": [
        "Error in fitter(X, Y, strats, offset, init, control, weights = weights,  : \n",
        "  NA/NaN/Inf in foreign function call (arg 6)\n"
       ]
      },
      {
       "output_type": "stream",
       "stream": "stdout",
       "text": [
        "Error in fitter(X, Y, strats, offset, init, control, weights = weights,  : \n",
        "  NA/NaN/Inf in foreign function call (arg 6)\n"
       ]
      },
      {
       "output_type": "stream",
       "stream": "stdout",
       "text": [
        "Error in fitter(X, Y, strats, offset, init, control, weights = weights,  : \n",
        "  NA/NaN/Inf in foreign function call (arg 6)\n"
       ]
      },
      {
       "output_type": "stream",
       "stream": "stdout",
       "text": [
        "Error in fitter(X, Y, strats, offset, init, control, weights = weights,  : \n",
        "  NA/NaN/Inf in foreign function call (arg 6)\n"
       ]
      },
      {
       "output_type": "stream",
       "stream": "stdout",
       "text": [
        "Error in function (formula, data, weights, subset, na.action, init, control,  : \n",
        "  No (non-missing) observations\n"
       ]
      },
      {
       "output_type": "stream",
       "stream": "stdout",
       "text": [
        "Error in function (formula, data, weights, subset, na.action, init, control,  : \n",
        "  No (non-missing) observations\n"
       ]
      },
      {
       "output_type": "stream",
       "stream": "stdout",
       "text": [
        "Error in function (formula, data, weights, subset, na.action, init, control,  : \n",
        "  No (non-missing) observations\n"
       ]
      },
      {
       "output_type": "stream",
       "stream": "stdout",
       "text": [
        "Error in function (formula, data, weights, subset, na.action, init, control,  : \n",
        "  No (non-missing) observations\n"
       ]
      },
      {
       "output_type": "stream",
       "stream": "stdout",
       "text": [
        "Error in function (formula, data, weights, subset, na.action, init, control,  : \n",
        "  No (non-missing) observations\n"
       ]
      },
      {
       "output_type": "stream",
       "stream": "stdout",
       "text": [
        "Error in function (formula, data, weights, subset, na.action, init, control,  : \n",
        "  No (non-missing) observations\n"
       ]
      },
      {
       "output_type": "stream",
       "stream": "stdout",
       "text": [
        "Error in function (formula, data, weights, subset, na.action, init, control,  : \n",
        "  No (non-missing) observations\n"
       ]
      },
      {
       "output_type": "stream",
       "stream": "stdout",
       "text": [
        "Error in function (formula, data, weights, subset, na.action, init, control,  : \n",
        "  No (non-missing) observations\n"
       ]
      },
      {
       "output_type": "stream",
       "stream": "stdout",
       "text": [
        "Error in function (formula, data, weights, subset, na.action, init, control,  : \n",
        "  No (non-missing) observations\n"
       ]
      },
      {
       "output_type": "stream",
       "stream": "stdout",
       "text": [
        "Error in function (formula, data, weights, subset, na.action, init, control,  : \n",
        "  No (non-missing) observations\n"
       ]
      },
      {
       "output_type": "stream",
       "stream": "stdout",
       "text": [
        "Error in function (formula, data, weights, subset, na.action, init, control,  : \n",
        "  No (non-missing) observations\n"
       ]
      },
      {
       "output_type": "stream",
       "stream": "stdout",
       "text": [
        "Error in function (formula, data, weights, subset, na.action, init, control,  : \n",
        "  No (non-missing) observations\n"
       ]
      },
      {
       "output_type": "stream",
       "stream": "stdout",
       "text": [
        "Error in function (formula, data, weights, subset, na.action, init, control,  : \n",
        "  No (non-missing) observations\n"
       ]
      },
      {
       "output_type": "stream",
       "stream": "stdout",
       "text": [
        "Error in function (formula, data, weights, subset, na.action, init, control,  : \n",
        "  No (non-missing) observations\n"
       ]
      },
      {
       "output_type": "stream",
       "stream": "stdout",
       "text": [
        "Error in function (formula, data, weights, subset, na.action, init, control,  : \n",
        "  No (non-missing) observations\n"
       ]
      },
      {
       "output_type": "stream",
       "stream": "stdout",
       "text": [
        "Error in function (formula, data, weights, subset, na.action, init, control,  : \n",
        "  No (non-missing) observations\n"
       ]
      },
      {
       "output_type": "stream",
       "stream": "stdout",
       "text": [
        "Error in function (formula, data, weights, subset, na.action, init, control,  : \n",
        "  No (non-missing) observations\n"
       ]
      },
      {
       "output_type": "stream",
       "stream": "stdout",
       "text": [
        "Error in function (formula, data, weights, subset, na.action, init, control,  : \n",
        "  No (non-missing) observations\n"
       ]
      },
      {
       "output_type": "stream",
       "stream": "stdout",
       "text": [
        "Error in function (formula, data, weights, subset, na.action, init, control,  : \n",
        "  No (non-missing) observations\n"
       ]
      },
      {
       "output_type": "stream",
       "stream": "stdout",
       "text": [
        "Error in function (formula, data, weights, subset, na.action, init, control,  : \n",
        "  No (non-missing) observations\n"
       ]
      },
      {
       "output_type": "stream",
       "stream": "stdout",
       "text": [
        "Error in function (formula, data, weights, subset, na.action, init, control,  : \n",
        "  No (non-missing) observations\n"
       ]
      },
      {
       "output_type": "stream",
       "stream": "stdout",
       "text": [
        "Error in function (formula, data, weights, subset, na.action, init, control,  : \n",
        "  No (non-missing) observations\n"
       ]
      },
      {
       "output_type": "stream",
       "stream": "stdout",
       "text": [
        "Error in function (formula, data, weights, subset, na.action, init, control,  : \n",
        "  No (non-missing) observations\n"
       ]
      },
      {
       "output_type": "stream",
       "stream": "stdout",
       "text": [
        "Error in fitter(X, Y, strats, offset, init, control, weights = weights,  : \n",
        "  NA/NaN/Inf in foreign function call (arg 6)\n"
       ]
      },
      {
       "output_type": "stream",
       "stream": "stdout",
       "text": [
        "Error in fitter(X, Y, strats, offset, init, control, weights = weights,  : \n",
        "  NA/NaN/Inf in foreign function call (arg 6)\n"
       ]
      },
      {
       "output_type": "stream",
       "stream": "stdout",
       "text": [
        "Error in fitter(X, Y, strats, offset, init, control, weights = weights,  : \n",
        "  NA/NaN/Inf in foreign function call (arg 6)\n"
       ]
      },
      {
       "output_type": "stream",
       "stream": "stdout",
       "text": [
        "Error in fitter(X, Y, strats, offset, init, control, weights = weights,  : \n",
        "  NA/NaN/Inf in foreign function call (arg 6)\n"
       ]
      },
      {
       "output_type": "stream",
       "stream": "stdout",
       "text": [
        "Error in fitter(X, Y, strats, offset, init, control, weights = weights,  : \n",
        "  NA/NaN/Inf in foreign function call (arg 6)\n"
       ]
      },
      {
       "output_type": "stream",
       "stream": "stdout",
       "text": [
        "Error in fitter(X, Y, strats, offset, init, control, weights = weights,  : \n",
        "  NA/NaN/Inf in foreign function call (arg 6)\n"
       ]
      },
      {
       "output_type": "stream",
       "stream": "stdout",
       "text": [
        "Error in fitter(X, Y, strats, offset, init, control, weights = weights,  : \n",
        "  NA/NaN/Inf in foreign function call (arg 6)\n"
       ]
      },
      {
       "output_type": "stream",
       "stream": "stdout",
       "text": [
        "Error in fitter(X, Y, strats, offset, init, control, weights = weights,  : \n",
        "  NA/NaN/Inf in foreign function call (arg 6)\n"
       ]
      },
      {
       "output_type": "stream",
       "stream": "stdout",
       "text": [
        "Error in fitter(X, Y, strats, offset, init, control, weights = weights,  : \n",
        "  NA/NaN/Inf in foreign function call (arg 6)\n"
       ]
      },
      {
       "output_type": "stream",
       "stream": "stdout",
       "text": [
        "Error in fitter(X, Y, strats, offset, init, control, weights = weights,  : \n",
        "  NA/NaN/Inf in foreign function call (arg 6)\n"
       ]
      },
      {
       "output_type": "stream",
       "stream": "stdout",
       "text": [
        "Error in function (formula, data, weights, subset, na.action, init, control,  : \n",
        "  No (non-missing) observations\n"
       ]
      },
      {
       "output_type": "stream",
       "stream": "stdout",
       "text": [
        "Error in fitter(X, Y, strats, offset, init, control, weights = weights,  : \n",
        "  NA/NaN/Inf in foreign function call (arg 6)\n"
       ]
      },
      {
       "output_type": "stream",
       "stream": "stdout",
       "text": [
        "Error in fitter(X, Y, strats, offset, init, control, weights = weights,  : \n",
        "  NA/NaN/Inf in foreign function call (arg 6)\n"
       ]
      },
      {
       "output_type": "stream",
       "stream": "stdout",
       "text": [
        "Error in fitter(X, Y, strats, offset, init, control, weights = weights,  : \n",
        "  NA/NaN/Inf in foreign function call (arg 6)\n"
       ]
      },
      {
       "output_type": "stream",
       "stream": "stdout",
       "text": [
        "Error in fitter(X, Y, strats, offset, init, control, weights = weights,  : \n",
        "  NA/NaN/Inf in foreign function call (arg 6)\n"
       ]
      },
      {
       "output_type": "stream",
       "stream": "stdout",
       "text": [
        "Error in fitter(X, Y, strats, offset, init, control, weights = weights,  : \n",
        "  NA/NaN/Inf in foreign function call (arg 6)\n"
       ]
      },
      {
       "output_type": "stream",
       "stream": "stdout",
       "text": [
        "Error in fitter(X, Y, strats, offset, init, control, weights = weights,  : \n",
        "  NA/NaN/Inf in foreign function call (arg 6)\n"
       ]
      },
      {
       "output_type": "stream",
       "stream": "stdout",
       "text": [
        "Error in fitter(X, Y, strats, offset, init, control, weights = weights,  : \n",
        "  NA/NaN/Inf in foreign function call (arg 6)\n"
       ]
      },
      {
       "output_type": "stream",
       "stream": "stdout",
       "text": [
        "Error in fitter(X, Y, strats, offset, init, control, weights = weights,  : \n",
        "  NA/NaN/Inf in foreign function call (arg 6)\n"
       ]
      },
      {
       "output_type": "stream",
       "stream": "stdout",
       "text": [
        "Error in fitter(X, Y, strats, offset, init, control, weights = weights,  : \n",
        "  NA/NaN/Inf in foreign function call (arg 6)\n"
       ]
      },
      {
       "output_type": "stream",
       "stream": "stdout",
       "text": [
        "Error in fitter(X, Y, strats, offset, init, control, weights = weights,  : \n",
        "  NA/NaN/Inf in foreign function call (arg 6)\n"
       ]
      },
      {
       "output_type": "stream",
       "stream": "stdout",
       "text": [
        "Error in function (formula, data, weights, subset, na.action, init, control,  : \n",
        "  No (non-missing) observations\n"
       ]
      },
      {
       "output_type": "stream",
       "stream": "stdout",
       "text": [
        "Error in function (formula, data, weights, subset, na.action, init, control,  : \n",
        "  No (non-missing) observations\n"
       ]
      },
      {
       "output_type": "stream",
       "stream": "stdout",
       "text": [
        "Error in function (formula, data, weights, subset, na.action, init, control,  : \n",
        "  No (non-missing) observations\n"
       ]
      },
      {
       "output_type": "stream",
       "stream": "stdout",
       "text": [
        "Error in function (formula, data, weights, subset, na.action, init, control,  : \n",
        "  No (non-missing) observations\n"
       ]
      },
      {
       "output_type": "stream",
       "stream": "stdout",
       "text": [
        "Error in function (formula, data, weights, subset, na.action, init, control,  : \n",
        "  No (non-missing) observations\n"
       ]
      },
      {
       "output_type": "stream",
       "stream": "stdout",
       "text": [
        "Error in function (formula, data, weights, subset, na.action, init, control,  : \n",
        "  No (non-missing) observations\n"
       ]
      },
      {
       "output_type": "stream",
       "stream": "stdout",
       "text": [
        "Error in function (formula, data, weights, subset, na.action, init, control,  : \n",
        "  No (non-missing) observations\n"
       ]
      },
      {
       "output_type": "stream",
       "stream": "stdout",
       "text": [
        "Error in function (formula, data, weights, subset, na.action, init, control,  : \n",
        "  No (non-missing) observations\n"
       ]
      },
      {
       "output_type": "stream",
       "stream": "stdout",
       "text": [
        "Error in function (formula, data, weights, subset, na.action, init, control,  : \n",
        "  No (non-missing) observations\n"
       ]
      },
      {
       "output_type": "stream",
       "stream": "stdout",
       "text": [
        "Error in function (formula, data, weights, subset, na.action, init, control,  : \n",
        "  No (non-missing) observations\n"
       ]
      },
      {
       "output_type": "stream",
       "stream": "stdout",
       "text": [
        "Error in function (formula, data, weights, subset, na.action, init, control,  : \n",
        "  No (non-missing) observations\n"
       ]
      },
      {
       "output_type": "stream",
       "stream": "stdout",
       "text": [
        "Error in function (formula, data, weights, subset, na.action, init, control,  : \n",
        "  No (non-missing) observations\n"
       ]
      }
     ],
     "prompt_number": 481
    },
    {
     "cell_type": "code",
     "collapsed": false,
     "input": [
      "surv = p_global.ix[:,['methylation_pc1','methylation_pc2'],['survival_5y', 'event_free_survival_5y']]"
     ],
     "language": "python",
     "metadata": {},
     "outputs": [],
     "prompt_number": 61
    },
    {
     "cell_type": "code",
     "collapsed": false,
     "input": [
      "from Processing.Clinical import *"
     ],
     "language": "python",
     "metadata": {},
     "outputs": [
      {
       "ename": "ImportError",
       "evalue": "No module named Processing.Clinical",
       "output_type": "pyerr",
       "traceback": [
        "\u001b[1;31m---------------------------------------------------------------------------\u001b[0m\n\u001b[1;31mImportError\u001b[0m                               Traceback (most recent call last)",
        "\u001b[1;32m<ipython-input-2-7dc25bc5f36a>\u001b[0m in \u001b[0;36m<module>\u001b[1;34m()\u001b[0m\n\u001b[1;32m----> 1\u001b[1;33m \u001b[1;32mfrom\u001b[0m \u001b[0mProcessing\u001b[0m\u001b[1;33m.\u001b[0m\u001b[0mClinical\u001b[0m \u001b[1;32mimport\u001b[0m \u001b[1;33m*\u001b[0m\u001b[1;33m\u001b[0m\u001b[0m\n\u001b[0m",
        "\u001b[1;31mImportError\u001b[0m: No module named Processing.Clinical"
       ]
      }
     ],
     "prompt_number": 2
    },
    {
     "cell_type": "code",
     "collapsed": false,
     "input": [
      "scores = {}\n",
      "for cancer, path in rate_objects.iteritems():\n",
      "    try:\n",
      "        clinical = read_csv(data_path + '/'.join(['ucsd_processing', cancer, \n",
      "                                                  'Clinical','compiled.csv']), index_col=0)\n",
      "        \n",
      "        clinical['deceased_5y'] = (clinical.days < (365.25*5)) * clinical.deceased\n",
      "        clinical['days_5y'] = clinical.days.clip_upper(int(365.25*5))\n",
      "\n",
      "        if hasattr(clinical, 'event'):\n",
      "            clinical['event'] = clinical[['event','deceased']].sum(1).clip_upper(1.)\n",
      "            evs = clinical.event_free_survival\n",
      "            clinical['event_5y'] = (evs < (365.25*5)) * clinical.event\n",
      "            clinical['event_free_survival_5y'] = evs.clip_upper(int(365.25*5))\n",
      "            \n",
      "        r = pickle.load(open(path, 'rb'))\n",
      "        rate_vars = r.clinical.dropna(how='all', axis=1)\n",
      "        rate_vars['age'] = clinical['age']  \n",
      "        \n",
      "        def get_scores(var):\n",
      "            score = {}\n",
      "            for test, params in SURVIVAL_TESTS.copy().iteritems():\n",
      "                params['covariates'] = []\n",
      "                log_lik = get_cox_ph(clinical, var, return_val='logtest', **params)\n",
      "                score[test] = log_lik['test'] if type(log_lik) != float else log_lik\n",
      "            return Series(score)\n",
      "        \n",
      "        scores[cancer] = DataFrame({r: get_scores(vec) for r,vec in rate_vars.iteritems()})\n",
      "        \n",
      "        \n",
      "    except:\n",
      "        continue\n",
      "scores = Panel(scores)"
     ],
     "language": "python",
     "metadata": {},
     "outputs": [],
     "prompt_number": 567
    },
    {
     "cell_type": "code",
     "collapsed": false,
     "input": [
      "hazzard = {}\n",
      "for cancer, path in rate_objects.iteritems():\n",
      "    try:\n",
      "        clinical = read_csv(data_path + '/'.join(['ucsd_processing', cancer, \n",
      "                                                  'Clinical','compiled.csv']), index_col=0)\n",
      "        \n",
      "        clinical['deceased_5y'] = (clinical.days < (365.25*5)) * clinical.deceased\n",
      "        clinical['days_5y'] = clinical.days.clip_upper(int(365.25*5))\n",
      "\n",
      "        if hasattr(clinical, 'event'):\n",
      "            clinical['event'] = clinical[['event','deceased']].sum(1).clip_upper(1.)\n",
      "            evs = clinical.event_free_survival\n",
      "            clinical['event_5y'] = (evs < (365.25*5)) * clinical.event\n",
      "            clinical['event_free_survival_5y'] = evs.clip_upper(int(365.25*5))\n",
      "            \n",
      "        r = pickle.load(open(path, 'rb'))\n",
      "        rate_vars = r.clinical.dropna(how='all', axis=1)\n",
      "        rate_vars['age'] = clinical['age']  \n",
      "        \n",
      "        def get_scores(var):\n",
      "            score = {}\n",
      "            for test, params in SURVIVAL_TESTS.copy().iteritems():\n",
      "                params['covariates'] = []\n",
      "                res = get_cox_ph(clinical, var, return_val='coef', **params)\n",
      "                score[test] = res.ix['pathway', 'exp(coef)'] if type(res) != float else res\n",
      "            return Series(score)\n",
      "        \n",
      "        hazzard[cancer] = DataFrame({r: get_scores(vec) for r,vec in rate_vars.iteritems()})\n",
      "        \n",
      "        \n",
      "    except:\n",
      "        continue\n",
      "hazzard = Panel(hazzard)"
     ],
     "language": "python",
     "metadata": {},
     "outputs": [],
     "prompt_number": 568
    },
    {
     "cell_type": "code",
     "collapsed": false,
     "input": [
      "def get_cox_ph(clinical, hit_vec, covariates=[], time_var='days',\n",
      "               event_var='censored', return_val='p'):\n",
      "    '''\n",
      "    Fit a cox proportial hazzards model to the data.\n",
      "    Returns a p-value on the hit_vec coefficient. \n",
      "    ---------------------------------------------------\n",
      "    clinical: DataFrame of clinical variables\n",
      "    hit_vec: vector of labels to test against\n",
      "    covariates: names of covariates in the cox model,\n",
      "                (must be columns in clinical DataFrame)\n",
      "    '''\n",
      "    if not all([cov in clinical for cov in covariates]):\n",
      "        missing = [cov for cov in covariates if cov not in clinical]\n",
      "        covariates = [cov for cov in covariates if cov in clinical]\n",
      "        #print ', '.join(missing) + ' not in clinical data... running anyway.'\n",
      "    hit_vec.name = 'pathway'\n",
      "    factors = ['pathway'] + covariates\n",
      "    df = clinical.join(hit_vec)\n",
      "    df = df[factors + [time_var, event_var]]\n",
      "    #df = df.ix[patients]\n",
      "    df[factors] = (df[factors] - df[factors].mean()) / df[factors].std()\n",
      "    df = com.convert_to_r_dataframe(df) #@UndefinedVariable\n",
      "    #fmla = 'Surv(' + time_var + ', ' + event_var + ') ~ '+ '+'.join(factors)\n",
      "    interactions = '+'.join(['pathway*' + c for c in covariates])\n",
      "    if len(covariates) == 0:\n",
      "        interactions = 'pathway'\n",
      "    fmla = 'Surv(' + time_var + ', ' + event_var + ') ~ ' + interactions\n",
      "    fmla = robjects.Formula(fmla)\n",
      "    try:\n",
      "        s = survival.coxph(fmla, df)\n",
      "        results = com.convert_robj(dict(base.summary(s).iteritems())['coefficients'])\n",
      "    except robjects.rinterface.RRuntimeError:\n",
      "        return 1.23\n",
      "    if return_val == 'p':\n",
      "        return results.ix['pathway','Pr(>|z|)']\n",
      "    elif return_val == 'coef':\n",
      "        return results\n",
      "    elif return_val == 'model':\n",
      "        return s\n",
      "    elif return_val == 'logtest':\n",
      "        m = dict(base.summary(s).iteritems())['logtest']\n",
      "        return Series(dict(m.iteritems()))"
     ],
     "language": "python",
     "metadata": {},
     "outputs": [],
     "prompt_number": 548
    },
    {
     "cell_type": "code",
     "collapsed": false,
     "input": [
      "from scipy.stats import chi2"
     ],
     "language": "python",
     "metadata": {},
     "outputs": [],
     "prompt_number": 264
    },
    {
     "cell_type": "code",
     "collapsed": false,
     "input": [
      "cancer, path = 'OV', rate_objects['OV']"
     ],
     "language": "python",
     "metadata": {},
     "outputs": [],
     "prompt_number": 857
    },
    {
     "cell_type": "code",
     "collapsed": false,
     "input": [
      "clinical = read_csv(data_path + '/'.join(['ucsd_processing', cancer, \n",
      "                                          'Clinical','compiled.csv']), index_col=0)\n",
      "\n",
      "clinical['deceased_5y'] = (clinical.days < (365.25*5)) * clinical.deceased\n",
      "clinical['days_5y'] = clinical.days.clip_upper(int(365.25*5))\n",
      "\n",
      "if hasattr(clinical, 'event'):\n",
      "    clinical['event'] = clinical[['event','deceased']].sum(1).clip_upper(1.)\n",
      "    evs = clinical.event_free_survival\n",
      "    clinical['event_5y'] = (evs < (365.25*5)) * clinical.event\n",
      "    clinical['event_free_survival_5y'] = evs.clip_upper(int(365.25*5))\n",
      "    \n",
      "r = pickle.load(open(path, 'rb'))\n",
      "rate_vars = r.clinical.dropna(how='all', axis=1)\n",
      "rate_vars['age'] = clinical['age']  \n",
      "\n",
      "def get_scores(var):\n",
      "    score = {}\n",
      "    for test, params in SURVIVAL_TESTS.copy().iteritems():\n",
      "        params['covariates'] = []\n",
      "        res = get_cox_ph(clinical, var, return_val='coef', **params)\n",
      "        score[test] = res.ix['pathway', 'exp(coef)'] if type(res) != float else res\n",
      "    return Series(score)"
     ],
     "language": "python",
     "metadata": {},
     "outputs": [],
     "prompt_number": 858
    },
    {
     "cell_type": "code",
     "collapsed": false,
     "input": [
      "var = rate_vars.age"
     ],
     "language": "python",
     "metadata": {},
     "outputs": [],
     "prompt_number": 562
    },
    {
     "cell_type": "code",
     "collapsed": false,
     "input": [
      "get_cox_ph(clinical, vec, return_val='coef', **params)"
     ],
     "language": "python",
     "metadata": {},
     "outputs": [
      {
       "output_type": "pyout",
       "prompt_number": 563,
       "text": [
        "1.23"
       ]
      }
     ],
     "prompt_number": 563
    },
    {
     "cell_type": "code",
     "collapsed": false,
     "input": [
      "df =  DataFrame(dict([(r, get_scores(vec)) for r,vec in rate_vars.iteritems()]))"
     ],
     "language": "python",
     "metadata": {},
     "outputs": [],
     "prompt_number": 564
    },
    {
     "cell_type": "code",
     "collapsed": false,
     "input": [
      "df.rate"
     ],
     "language": "python",
     "metadata": {},
     "outputs": [
      {
       "output_type": "pyout",
       "prompt_number": 566,
       "text": [
        "event_free_survival       0.764280\n",
        "event_free_survival_5y    0.763888\n",
        "survival                  0.777802\n",
        "survival_5y               0.759950\n",
        "Name: rate"
       ]
      }
     ],
     "prompt_number": 566
    },
    {
     "cell_type": "code",
     "collapsed": false,
     "input": [
      "get_last = lambda s: s[s.last_valid_index()] if s.last_valid_index() else nan\n",
      "get_surv_vec = lambda v: hazzard.ix[:, ['survival_5y', 'event_free_survival_5y'], v].apply(get_last) - 1\n",
      "DataFrame({v: get_surv_vec(v) for v in ['age', 'rate']}).sort(columns='age').plot(kind='bar')"
     ],
     "language": "python",
     "metadata": {},
     "outputs": [
      {
       "output_type": "pyout",
       "prompt_number": 571,
       "text": [
        "<matplotlib.axes.AxesSubplot at 0x84a0290>"
       ]
      },
      {
       "output_type": "display_data",
       "png": "[encoded data removed]"
      }
     ],
     "prompt_number": 571
    },
    {
     "cell_type": "code",
     "collapsed": false,
     "input": [
      "get_last = lambda s: s[s.last_valid_index()] if s.last_valid_index() else nan\n",
      "get_surv_vec = lambda v: scores.ix[:, ['survival_5y', 'event_free_survival_5y'], v].apply(get_last)\n",
      "get_hazzard_vec = lambda v: hazzard.ix[:, ['survival_5y', 'event_free_survival_5y'], v].apply(get_last)"
     ],
     "language": "python",
     "metadata": {},
     "outputs": [],
     "prompt_number": 583
    },
    {
     "cell_type": "code",
     "collapsed": false,
     "input": [
      "colors = get_hazzard_vec('age')"
     ],
     "language": "python",
     "metadata": {},
     "outputs": [],
     "prompt_number": 610
    },
    {
     "cell_type": "markdown",
     "metadata": {},
     "source": [
      "    import scipy.cluster.hierarchy as sch\n",
      "    import scipy.spatial.distance as dist\n",
      "    def fancy_raster(df, cluster=False, cmap=cm.Spectral, norm=None):\n",
      "        if cluster:\n",
      "            d = dist.pdist(df)\n",
      "            D = dist.squareform(d)\n",
      "            Y = sch.linkage(D)\n",
      "            Z = sch.dendrogram(Y, no_plot=True)\n",
      "            order = Z['leaves']\n",
      "            df = df.ix[order, order]\n",
      "            \n",
      "        fig, ax = plt.subplots(1,1, figsize=(12,8))\n",
      "        img = ax.imshow(df, interpolation='Nearest', cmap=cmap, norm=norm)\n",
      "        ax.set_yticks(range(len(df.index)))\n",
      "        ax.set_yticklabels(df.index)\n",
      "        ax.set_xticks(arange(len(df.columns)))\n",
      "        ax.set_xticklabels(df.columns, rotation=360-90, ha='center');\n",
      "        ax.hlines(arange(len(df.index)-1)+.5, -.5, len(df.columns)-.5, \n",
      "                  color='white', lw=6)\n",
      "        ax.vlines(arange(len(df.columns)-1)+.5, -.5, len(df.index)-.5, \n",
      "                  color='white', lw=6)\n",
      "        \n",
      "        if cluster:\n",
      "            icoord = array(Z['icoord']) - array(Z['icoord']).min()\n",
      "            icoord = icoord * ((len(Z['leaves']) - 1) / icoord.max())\n",
      "        \n",
      "            dcoord = -1*array(Z['dcoord']) - .7 \n",
      "            for i,z,c in zip(icoord, dcoord, Z['color_list']):\n",
      "                ax.plot(i,z,color=c, lw=2, alpha=.8)\n",
      "                \n",
      "            ax.tick_params(axis='x', top='off')\n",
      "            ax.set_frame_on(False)\n",
      "        return img"
     ]
    },
    {
     "cell_type": "code",
     "collapsed": false,
     "input": [
      "import scipy.cluster.hierarchy as sch\n",
      "import scipy.spatial.distance as dist\n",
      "def fancy_raster(df, cluster=False, cmap=cm.Spectral, norm=None):\n",
      "    if cluster:\n",
      "        d = dist.pdist(df)\n",
      "        D = dist.squareform(d)\n",
      "        Y = sch.linkage(D)\n",
      "        Z = sch.dendrogram(Y, no_plot=True)\n",
      "        order = Z['leaves']\n",
      "        df = df.ix[order, order]\n",
      "        \n",
      "    fig, ax = plt.subplots(1,1, figsize=(12,8))\n",
      "    img = ax.imshow(df, interpolation='Nearest', cmap=cmap, norm=norm)\n",
      "    ax.set_yticks(range(len(df.index)))\n",
      "    ax.set_yticklabels(df.index)\n",
      "    ax.set_xticks(arange(len(df.columns)))\n",
      "    ax.set_xticklabels(df.columns, rotation=360-90, ha='center');\n",
      "    ax.hlines(arange(len(df.index)-1)+.5, -.5, len(df.columns)-.5, \n",
      "              color='white', lw=6)\n",
      "    ax.vlines(arange(len(df.columns)-1)+.5, -.5, len(df.index)-.5, \n",
      "              color='white', lw=6)\n",
      "    \n",
      "    if cluster:\n",
      "        icoord = array(Z['icoord']) - array(Z['icoord']).min()\n",
      "        icoord = icoord * ((len(Z['leaves']) - 1) / icoord.max())\n",
      "    \n",
      "        dcoord = -1*array(Z['dcoord']) - .7 \n",
      "        for i,z,c in zip(icoord, dcoord, Z['color_list']):\n",
      "            ax.plot(i,z,color=c, lw=2, alpha=.8)\n",
      "            \n",
      "        ax.tick_params(axis='x', top='off')\n",
      "        ax.set_frame_on(False)\n",
      "    return img"
     ],
     "language": "python",
     "metadata": {},
     "outputs": [],
     "prompt_number": 818
    },
    {
     "cell_type": "code",
     "collapsed": false,
     "input": [
      "cmap = cm.Spectral_r\n",
      "step = .5\n",
      "norm = colors.normalize(1 - step, 1 + step)"
     ],
     "language": "python",
     "metadata": {},
     "outputs": [],
     "prompt_number": 834
    },
    {
     "cell_type": "code",
     "collapsed": false,
     "input": [
      "df = DataFrame({v: get_surv_vec(v) for v in scores.minor_axis})\n",
      "df = df.replace(1.23, nan).dropna(axis=1, thresh=6) > chi2.isf(.1, 1)\n",
      "\n",
      "haz = DataFrame({v: get_hazzard_vec(v) for v in scores.minor_axis})\n",
      "haz = haz.reindex_like(df)\n",
      "haz = haz.mul(df).replace(0, nan)\n",
      "haz = haz.dropna(how='all', axis=1)\n",
      "img = fancy_raster(haz.T, cluster=False, cmap=cmap, norm=norm)\n",
      "cb = gcf().colorbar(img, shrink=.5, panchor=(1,.8))\n",
      "cb.set_label('Hazzard Ratio', rotation=270)\n",
      "gcf().savefig('Global Hazzards.png', transparent=True)"
     ],
     "language": "python",
     "metadata": {},
     "outputs": [
      {
       "output_type": "display_data",
       "png": "[encoded data removed]"
      }
     ],
     "prompt_number": 832
    },
    {
     "cell_type": "code",
     "collapsed": false,
     "input": [
      "var = 'age'\n",
      "\n",
      "sig = get_surv_vec(var).order()\n",
      "haz = get_hazzard_vec(var).ix[sig.index]\n",
      "ax1 = sig.plot(kind='bar')\n",
      "ax1.set_ylabel('$\\chi^2$')\n",
      "\n",
      "for i,p in enumerate(ax1.patches):\n",
      "    p.set_facecolor(cmap(norm(haz.ix[i])))\n",
      "    \n",
      "ax1.hlines(chi2.isf(.01, 1), 0, 25, linestyles='--', lw=2, label='$p=.01$')\n",
      "ax1.hlines(chi2.isf(.1, 1), 0, 25, linestyles='dotted', lw=2, label='$p=.1$')\n",
      "ax1.set_title(var)\n",
      "ax1.legend(loc=2, frameon=False)\n",
      "\n",
      "gcf().tight_layout()\n",
      "gcf().savefig('rate.png', transparent=True)"
     ],
     "language": "python",
     "metadata": {},
     "outputs": [
      {
       "ename": "NameError",
       "evalue": "name 'get_surv_vec' is not defined",
       "output_type": "pyerr",
       "traceback": [
        "\u001b[1;31m---------------------------------------------------------------------------\u001b[0m\n\u001b[1;31mNameError\u001b[0m                                 Traceback (most recent call last)",
        "\u001b[1;32m<ipython-input-1-a099753af219>\u001b[0m in \u001b[0;36m<module>\u001b[1;34m()\u001b[0m\n\u001b[0;32m      1\u001b[0m \u001b[0mvar\u001b[0m \u001b[1;33m=\u001b[0m \u001b[1;34m'age'\u001b[0m\u001b[1;33m\u001b[0m\u001b[0m\n\u001b[0;32m      2\u001b[0m \u001b[1;33m\u001b[0m\u001b[0m\n\u001b[1;32m----> 3\u001b[1;33m \u001b[0msig\u001b[0m \u001b[1;33m=\u001b[0m \u001b[0mget_surv_vec\u001b[0m\u001b[1;33m(\u001b[0m\u001b[0mvar\u001b[0m\u001b[1;33m)\u001b[0m\u001b[1;33m.\u001b[0m\u001b[0morder\u001b[0m\u001b[1;33m(\u001b[0m\u001b[1;33m)\u001b[0m\u001b[1;33m\u001b[0m\u001b[0m\n\u001b[0m\u001b[0;32m      4\u001b[0m \u001b[0mhaz\u001b[0m \u001b[1;33m=\u001b[0m \u001b[0mget_hazzard_vec\u001b[0m\u001b[1;33m(\u001b[0m\u001b[0mvar\u001b[0m\u001b[1;33m)\u001b[0m\u001b[1;33m.\u001b[0m\u001b[0mix\u001b[0m\u001b[1;33m[\u001b[0m\u001b[0msig\u001b[0m\u001b[1;33m.\u001b[0m\u001b[0mindex\u001b[0m\u001b[1;33m]\u001b[0m\u001b[1;33m\u001b[0m\u001b[0m\n\u001b[0;32m      5\u001b[0m \u001b[0max1\u001b[0m \u001b[1;33m=\u001b[0m \u001b[0msig\u001b[0m\u001b[1;33m.\u001b[0m\u001b[0mplot\u001b[0m\u001b[1;33m(\u001b[0m\u001b[0mkind\u001b[0m\u001b[1;33m=\u001b[0m\u001b[1;34m'bar'\u001b[0m\u001b[1;33m)\u001b[0m\u001b[1;33m\u001b[0m\u001b[0m\n",
        "\u001b[1;31mNameError\u001b[0m: name 'get_surv_vec' is not defined"
       ]
      }
     ],
     "prompt_number": 1
    },
    {
     "cell_type": "code",
     "collapsed": false,
     "input": [
      "from Reports.Figures import *"
     ],
     "language": "python",
     "metadata": {},
     "outputs": [],
     "prompt_number": 856
    },
    {
     "cell_type": "code",
     "collapsed": false,
     "input": [
      "var = 'rate'\n",
      "\n",
      "fig = pyplot.figure(figsize=(5,3))\n",
      "ax1 = fig.add_axes([0, 0,  0.8, 0.9])\n",
      "ax2 = fig.add_axes([0.85, 0,  0.07, 0.9])\n",
      "\n",
      "sig = get_surv_vec(var).order()\n",
      "haz = get_hazzard_vec(var).ix[sig.index]\n",
      "ax1 = sig.plot(kind='bar', ax=ax1)\n",
      "ax1.set_ylabel('$\\chi^2$')\n",
      "cmap = cm.Spectral_r\n",
      "step = max(1 - haz.min(), haz.max() - 1)\n",
      "norm = colors.normalize(1 - step, 1 + step)\n",
      "for i,p in enumerate(ax1.patches):\n",
      "    p.set_facecolor(cmap(norm(haz.ix[i])))\n",
      "    \n",
      "cb1 = mpl.colorbar.ColorbarBase(ax2, cmap=cmap,\n",
      "                                   norm=norm,\n",
      "                                   orientation='vertical')\n",
      "cb1.set_label('Hazzard Ratio')\n",
      "\n",
      "#ax1.set_yscale('symlog')\n",
      "ax1.hlines(chi2.isf(.05, 1), 0, 25, linestyles='--')\n",
      "ax1.set_title(var)"
     ],
     "language": "python",
     "metadata": {},
     "outputs": [
      {
       "output_type": "pyout",
       "prompt_number": 833,
       "text": [
        "<matplotlib.text.Text at 0x2d3e62d0>"
       ]
      },
      {
       "output_type": "display_data",
       "png": "[encoded data removed]"
      }
     ],
     "prompt_number": 833
    },
    {
     "cell_type": "code",
     "collapsed": false,
     "input": [
      "get_last = lambda s: s[s.last_valid_index()] if s.last_valid_index() else nan\n",
      "get_surv_vec = lambda v: scores.ix[:, ['survival_5y', 'event_free_survival_5y'], v].apply(get_last)\n",
      "DataFrame({v: get_surv_vec(v) for v in ['age', 'rate']}).sort(columns='age').plot(kind='bar')\n",
      "plt.yscale('symlog')\n",
      "plt.hlines(chi2.isf(.05, 1), 0, 25, linestyles='--')"
     ],
     "language": "python",
     "metadata": {},
     "outputs": [
      {
       "output_type": "pyout",
       "prompt_number": 572,
       "text": [
        "<matplotlib.collections.LineCollection at 0xcb00350>"
       ]
      },
      {
       "output_type": "display_data",
       "png": "[encoded data removed]"
      }
     ],
     "prompt_number": 572
    },
    {
     "cell_type": "code",
     "collapsed": false,
     "input": [
      "get_last = lambda s: s[s.last_valid_index()] if s.last_valid_index() else nan\n",
      "get_surv_vec = lambda v: scores.ix[:, ['survival_5y', 'event_free_survival_5y'], v].apply(get_last)\n",
      "DataFrame({v: get_surv_vec(v) for v in ['methylation_pc1', 'methylation_pc2']}).abs().sort(columns='methylation_pc1').plot(kind='bar')\n",
      "plt.yscale('symlog')\n",
      "plt.hlines(chi2.isf(.05, 1), 0, 25, linestyles='--')"
     ],
     "language": "python",
     "metadata": {},
     "outputs": [
      {
       "output_type": "pyout",
       "prompt_number": 573,
       "text": [
        "<matplotlib.collections.LineCollection at 0x7c8f710>"
       ]
      },
      {
       "output_type": "display_data",
       "png": "[encoded data removed]"
      }
     ],
     "prompt_number": 573
    },
    {
     "cell_type": "code",
     "collapsed": false,
     "input": [
      "get_last = lambda s: s[s.last_valid_index()] if s.last_valid_index() else nan\n",
      "get_surv_vec = lambda v: scores.ix[:, ['survival_5y', 'event_free_survival_5y'], v].apply(get_last)\n",
      "DataFrame({v: get_surv_vec(v) for v in ['methylation_age', 'AMAR', 'age']}).sort(columns='AMAR').plot(kind='bar')\n",
      "plt.yscale('symlog')\n",
      "plt.hlines(chi2.isf(.05, 1), 0, 25, linestyles='--')"
     ],
     "language": "python",
     "metadata": {},
     "outputs": [
      {
       "output_type": "pyout",
       "prompt_number": 574,
       "text": [
        "<matplotlib.collections.LineCollection at 0x2309a1d0>"
       ]
      },
      {
       "output_type": "display_data",
       "png": "[encoded data removed]"
      }
     ],
     "prompt_number": 574
    },
    {
     "cell_type": "code",
     "collapsed": false,
     "input": [
      "get_last = lambda s: s[s.last_valid_index()] if s.last_valid_index() else nan\n",
      "get_surv_vec = lambda v: scores.ix[:, ['survival_5y', 'event_free_survival_5y'], v].apply(get_last)\n",
      "DataFrame({v: get_surv_vec(v) for v in ['rate_dbsnp', 'rate_non', 'rate_sil', 'rate']}).sort(columns='rate_non').plot(kind='bar')\n",
      "plt.yscale('symlog')\n",
      "plt.hlines(chi2.isf(.05, 1), 0, 25, linestyles='--')"
     ],
     "language": "python",
     "metadata": {},
     "outputs": [
      {
       "output_type": "pyout",
       "prompt_number": 575,
       "text": [
        "<matplotlib.collections.LineCollection at 0x1e7f0e90>"
       ]
      },
      {
       "output_type": "display_data",
       "png": "[encoded data removed]"
      }
     ],
     "prompt_number": 575
    },
    {
     "cell_type": "code",
     "collapsed": false,
     "input": [
      "get_last = lambda s: s[s.last_valid_index()] if s.last_valid_index() else nan\n",
      "get_surv_vec = lambda v: scores.ix[:, ['survival_5y', 'event_free_survival_5y'], v].apply(get_last)\n",
      "DataFrame({v: get_surv_vec(v) for v in ['exp_pc1', 'exp_pc2']}).abs().sort(columns='exp_pc1').plot(kind='bar')\n",
      "plt.yscale('symlog')\n",
      "plt.hlines(chi2.isf(.05, 1), 0, 25, linestyles='--')"
     ],
     "language": "python",
     "metadata": {},
     "outputs": [
      {
       "output_type": "pyout",
       "prompt_number": 576,
       "text": [
        "<matplotlib.collections.LineCollection at 0x22c0aed0>"
       ]
      },
      {
       "output_type": "display_data",
       "png": "[encoded data removed]"
      }
     ],
     "prompt_number": 576
    },
    {
     "cell_type": "code",
     "collapsed": false,
     "input": [
      "get_last = lambda s: s[s.last_valid_index()] if s.last_valid_index() else nan\n",
      "get_surv_vec = lambda v: scores.ix[:, ['survival_5y', 'event_free_survival_5y'], v].apply(get_last)\n",
      "DataFrame({v: get_surv_vec(v) for v in ['chrom_instability', 'gene_amp', 'gene_del']}).abs().sort(columns='chrom_instability').plot(kind='bar')\n",
      "plt.yscale('symlog')\n",
      "plt.hlines(chi2.isf(.05, 1), 0, 25, linestyles='--')"
     ],
     "language": "python",
     "metadata": {},
     "outputs": [
      {
       "output_type": "pyout",
       "prompt_number": 577,
       "text": [
        "<matplotlib.collections.LineCollection at 0x23af4850>"
       ]
      },
      {
       "output_type": "display_data",
       "png": "[encoded data removed]"
      }
     ],
     "prompt_number": 577
    },
    {
     "cell_type": "code",
     "collapsed": false,
     "input": [
      "p_global.minor_xs('survival_5y').dropna(axis=[0,1], thresh=3)"
     ],
     "language": "python",
     "metadata": {},
     "outputs": [
      {
       "html": [
        "<div style=\"max-height:1000px;max-width:1500px;overflow:auto;\">\n",
        "<table border=\"1\" class=\"dataframe\">\n",
        "  <thead>\n",
        "    <tr style=\"text-align: right;\">\n",
        "      <th></th>\n",
        "      <th>BRCA</th>\n",
        "      <th>COADREAD</th>\n",
        "      <th>GBM</th>\n",
        "      <th>KIRC</th>\n",
        "      <th>LAML</th>\n",
        "      <th>LUAD</th>\n",
        "      <th>LUSC</th>\n",
        "      <th>OV</th>\n",
        "      <th>PRAD</th>\n",
        "      <th>STAD</th>\n",
        "      <th>THCA</th>\n",
        "      <th>UCEC</th>\n",
        "    </tr>\n",
        "  </thead>\n",
        "  <tbody>\n",
        "    <tr>\n",
        "      <td><strong>*ApG->G</strong></td>\n",
        "      <td>      NaN</td>\n",
        "      <td>      NaN</td>\n",
        "      <td>      NaN</td>\n",
        "      <td> 0.340186</td>\n",
        "      <td>          NaN</td>\n",
        "      <td>      NaN</td>\n",
        "      <td>      NaN</td>\n",
        "      <td>      NaN</td>\n",
        "      <td> 1.230000</td>\n",
        "      <td> 0.607945</td>\n",
        "      <td>      NaN</td>\n",
        "      <td>      NaN</td>\n",
        "    </tr>\n",
        "    <tr>\n",
        "      <td><strong>*Cp(A_C_T)->T</strong></td>\n",
        "      <td> 0.985303</td>\n",
        "      <td>      NaN</td>\n",
        "      <td> 0.085128</td>\n",
        "      <td>      NaN</td>\n",
        "      <td> 3.127343e-01</td>\n",
        "      <td>      NaN</td>\n",
        "      <td>      NaN</td>\n",
        "      <td> 0.249197</td>\n",
        "      <td>      NaN</td>\n",
        "      <td>      NaN</td>\n",
        "      <td> 1.230000</td>\n",
        "      <td>      NaN</td>\n",
        "    </tr>\n",
        "    <tr>\n",
        "      <td><strong>*CpG->T</strong></td>\n",
        "      <td> 0.016099</td>\n",
        "      <td> 0.145517</td>\n",
        "      <td> 0.229376</td>\n",
        "      <td> 0.668519</td>\n",
        "      <td> 7.836525e-02</td>\n",
        "      <td>      NaN</td>\n",
        "      <td>      NaN</td>\n",
        "      <td> 0.006021</td>\n",
        "      <td> 1.230000</td>\n",
        "      <td> 0.774574</td>\n",
        "      <td> 1.230000</td>\n",
        "      <td> 0.456057</td>\n",
        "    </tr>\n",
        "    <tr>\n",
        "      <td><strong>*Np(A_C_T)->transit</strong></td>\n",
        "      <td>      NaN</td>\n",
        "      <td>      NaN</td>\n",
        "      <td>      NaN</td>\n",
        "      <td> 0.385951</td>\n",
        "      <td>          NaN</td>\n",
        "      <td>      NaN</td>\n",
        "      <td>      NaN</td>\n",
        "      <td>      NaN</td>\n",
        "      <td> 1.230000</td>\n",
        "      <td> 0.945758</td>\n",
        "      <td>      NaN</td>\n",
        "      <td>      NaN</td>\n",
        "    </tr>\n",
        "    <tr>\n",
        "      <td><strong>A->mut</strong></td>\n",
        "      <td> 0.319821</td>\n",
        "      <td> 0.541752</td>\n",
        "      <td> 0.388248</td>\n",
        "      <td>      NaN</td>\n",
        "      <td>          NaN</td>\n",
        "      <td> 0.865452</td>\n",
        "      <td> 0.804001</td>\n",
        "      <td> 0.235090</td>\n",
        "      <td>      NaN</td>\n",
        "      <td>      NaN</td>\n",
        "      <td>      NaN</td>\n",
        "      <td> 0.930592</td>\n",
        "    </tr>\n",
        "    <tr>\n",
        "      <td><strong>AMAR</strong></td>\n",
        "      <td> 0.118612</td>\n",
        "      <td> 0.663218</td>\n",
        "      <td> 0.031233</td>\n",
        "      <td> 0.007181</td>\n",
        "      <td> 3.899874e-02</td>\n",
        "      <td> 0.438507</td>\n",
        "      <td> 0.626606</td>\n",
        "      <td>      NaN</td>\n",
        "      <td> 0.378348</td>\n",
        "      <td> 0.167030</td>\n",
        "      <td> 0.999763</td>\n",
        "      <td> 0.221327</td>\n",
        "    </tr>\n",
        "    <tr>\n",
        "      <td><strong>C->(G_A)</strong></td>\n",
        "      <td> 0.000441</td>\n",
        "      <td>      NaN</td>\n",
        "      <td> 0.290380</td>\n",
        "      <td>      NaN</td>\n",
        "      <td>          NaN</td>\n",
        "      <td>      NaN</td>\n",
        "      <td>      NaN</td>\n",
        "      <td> 0.010964</td>\n",
        "      <td>      NaN</td>\n",
        "      <td>      NaN</td>\n",
        "      <td>      NaN</td>\n",
        "      <td>      NaN</td>\n",
        "    </tr>\n",
        "    <tr>\n",
        "      <td><strong>age</strong></td>\n",
        "      <td> 0.001193</td>\n",
        "      <td> 0.001733</td>\n",
        "      <td> 0.000000</td>\n",
        "      <td> 0.000777</td>\n",
        "      <td> 1.061141e-09</td>\n",
        "      <td> 0.034778</td>\n",
        "      <td> 0.036109</td>\n",
        "      <td> 0.000014</td>\n",
        "      <td> 0.119589</td>\n",
        "      <td> 0.422665</td>\n",
        "      <td> 0.998752</td>\n",
        "      <td> 0.042562</td>\n",
        "    </tr>\n",
        "    <tr>\n",
        "      <td><strong>chrom_instability</strong></td>\n",
        "      <td> 0.002837</td>\n",
        "      <td> 0.073215</td>\n",
        "      <td> 0.162797</td>\n",
        "      <td> 0.351497</td>\n",
        "      <td>          NaN</td>\n",
        "      <td> 0.202821</td>\n",
        "      <td> 0.593742</td>\n",
        "      <td> 0.454836</td>\n",
        "      <td> 0.999470</td>\n",
        "      <td> 0.097552</td>\n",
        "      <td> 0.999422</td>\n",
        "      <td> 0.000209</td>\n",
        "    </tr>\n",
        "    <tr>\n",
        "      <td><strong>double_null</strong></td>\n",
        "      <td> 0.593906</td>\n",
        "      <td> 0.407668</td>\n",
        "      <td> 0.989925</td>\n",
        "      <td> 0.705943</td>\n",
        "      <td> 2.939406e-01</td>\n",
        "      <td> 0.279504</td>\n",
        "      <td> 0.050218</td>\n",
        "      <td> 0.911729</td>\n",
        "      <td> 1.230000</td>\n",
        "      <td> 0.172112</td>\n",
        "      <td> 1.230000</td>\n",
        "      <td> 0.246776</td>\n",
        "    </tr>\n",
        "    <tr>\n",
        "      <td><strong>exp_pc1</strong></td>\n",
        "      <td> 0.927734</td>\n",
        "      <td> 0.265045</td>\n",
        "      <td> 0.259892</td>\n",
        "      <td> 0.054365</td>\n",
        "      <td>          NaN</td>\n",
        "      <td> 0.002533</td>\n",
        "      <td> 0.681250</td>\n",
        "      <td> 0.965081</td>\n",
        "      <td> 0.627604</td>\n",
        "      <td>      NaN</td>\n",
        "      <td> 0.999885</td>\n",
        "      <td> 0.381018</td>\n",
        "    </tr>\n",
        "    <tr>\n",
        "      <td><strong>exp_pc2</strong></td>\n",
        "      <td> 0.761425</td>\n",
        "      <td> 0.552866</td>\n",
        "      <td> 0.677765</td>\n",
        "      <td> 0.000144</td>\n",
        "      <td>          NaN</td>\n",
        "      <td> 0.034949</td>\n",
        "      <td> 0.065288</td>\n",
        "      <td> 0.598057</td>\n",
        "      <td> 0.746439</td>\n",
        "      <td>      NaN</td>\n",
        "      <td> 0.999710</td>\n",
        "      <td> 0.579460</td>\n",
        "    </tr>\n",
        "    <tr>\n",
        "      <td><strong>gene_amp</strong></td>\n",
        "      <td> 0.065650</td>\n",
        "      <td> 0.140215</td>\n",
        "      <td> 0.489431</td>\n",
        "      <td> 0.217428</td>\n",
        "      <td>          NaN</td>\n",
        "      <td> 0.286473</td>\n",
        "      <td> 0.513274</td>\n",
        "      <td> 0.419450</td>\n",
        "      <td> 0.560144</td>\n",
        "      <td> 0.110428</td>\n",
        "      <td> 0.998144</td>\n",
        "      <td> 0.001010</td>\n",
        "    </tr>\n",
        "    <tr>\n",
        "      <td><strong>gene_amp_high</strong></td>\n",
        "      <td> 0.214579</td>\n",
        "      <td> 0.425041</td>\n",
        "      <td> 0.744082</td>\n",
        "      <td> 0.789944</td>\n",
        "      <td>          NaN</td>\n",
        "      <td> 0.968485</td>\n",
        "      <td> 0.091569</td>\n",
        "      <td> 0.378896</td>\n",
        "      <td> 0.999882</td>\n",
        "      <td> 0.585884</td>\n",
        "      <td> 0.995099</td>\n",
        "      <td> 0.176992</td>\n",
        "    </tr>\n",
        "    <tr>\n",
        "      <td><strong>gene_del</strong></td>\n",
        "      <td> 0.081396</td>\n",
        "      <td> 0.134733</td>\n",
        "      <td> 0.318993</td>\n",
        "      <td> 0.004222</td>\n",
        "      <td>          NaN</td>\n",
        "      <td> 0.258150</td>\n",
        "      <td> 0.751117</td>\n",
        "      <td> 0.941745</td>\n",
        "      <td> 0.999834</td>\n",
        "      <td> 0.166533</td>\n",
        "      <td> 0.999973</td>\n",
        "      <td> 0.033532</td>\n",
        "    </tr>\n",
        "    <tr>\n",
        "      <td><strong>gene_del_homo</strong></td>\n",
        "      <td> 0.365760</td>\n",
        "      <td> 0.287816</td>\n",
        "      <td> 0.768833</td>\n",
        "      <td> 0.637016</td>\n",
        "      <td>          NaN</td>\n",
        "      <td> 0.513250</td>\n",
        "      <td> 0.622585</td>\n",
        "      <td> 0.478956</td>\n",
        "      <td> 0.814146</td>\n",
        "      <td> 0.673207</td>\n",
        "      <td> 0.989398</td>\n",
        "      <td> 0.097241</td>\n",
        "    </tr>\n",
        "    <tr>\n",
        "      <td><strong>indel+null</strong></td>\n",
        "      <td> 0.314711</td>\n",
        "      <td> 0.898990</td>\n",
        "      <td> 0.632555</td>\n",
        "      <td> 0.006092</td>\n",
        "      <td> 6.370844e-01</td>\n",
        "      <td> 0.995858</td>\n",
        "      <td> 0.254495</td>\n",
        "      <td> 0.907624</td>\n",
        "      <td> 1.230000</td>\n",
        "      <td> 0.424344</td>\n",
        "      <td> 1.230000</td>\n",
        "      <td> 0.361405</td>\n",
        "    </tr>\n",
        "    <tr>\n",
        "      <td><strong>lesion_amp</strong></td>\n",
        "      <td> 0.029901</td>\n",
        "      <td> 0.087152</td>\n",
        "      <td> 0.433942</td>\n",
        "      <td> 0.136643</td>\n",
        "      <td>          NaN</td>\n",
        "      <td> 0.564404</td>\n",
        "      <td> 0.281045</td>\n",
        "      <td> 0.702096</td>\n",
        "      <td> 0.985175</td>\n",
        "      <td> 0.120607</td>\n",
        "      <td>      NaN</td>\n",
        "      <td> 0.003804</td>\n",
        "    </tr>\n",
        "    <tr>\n",
        "      <td><strong>lesion_amp_high</strong></td>\n",
        "      <td> 0.000554</td>\n",
        "      <td> 0.124646</td>\n",
        "      <td> 0.349854</td>\n",
        "      <td> 0.758629</td>\n",
        "      <td>          NaN</td>\n",
        "      <td> 0.526591</td>\n",
        "      <td> 0.572497</td>\n",
        "      <td> 0.122811</td>\n",
        "      <td> 0.999543</td>\n",
        "      <td> 0.214397</td>\n",
        "      <td>      NaN</td>\n",
        "      <td> 0.000077</td>\n",
        "    </tr>\n",
        "    <tr>\n",
        "      <td><strong>lesion_del</strong></td>\n",
        "      <td> 0.018447</td>\n",
        "      <td> 0.127299</td>\n",
        "      <td> 0.837078</td>\n",
        "      <td> 0.015241</td>\n",
        "      <td>          NaN</td>\n",
        "      <td> 0.292983</td>\n",
        "      <td> 0.644838</td>\n",
        "      <td> 0.326601</td>\n",
        "      <td> 0.973391</td>\n",
        "      <td> 0.209928</td>\n",
        "      <td> 0.999913</td>\n",
        "      <td> 0.017343</td>\n",
        "    </tr>\n",
        "    <tr>\n",
        "      <td><strong>methylation_age</strong></td>\n",
        "      <td> 0.061186</td>\n",
        "      <td> 0.481379</td>\n",
        "      <td> 0.029976</td>\n",
        "      <td> 0.007006</td>\n",
        "      <td> 2.058765e-01</td>\n",
        "      <td> 0.534656</td>\n",
        "      <td> 0.311733</td>\n",
        "      <td>      NaN</td>\n",
        "      <td> 0.950913</td>\n",
        "      <td> 0.121376</td>\n",
        "      <td> 0.999860</td>\n",
        "      <td> 0.256460</td>\n",
        "    </tr>\n",
        "    <tr>\n",
        "      <td><strong>methylation_pc1</strong></td>\n",
        "      <td> 0.643908</td>\n",
        "      <td> 0.564134</td>\n",
        "      <td> 0.351770</td>\n",
        "      <td> 0.389581</td>\n",
        "      <td> 7.487734e-01</td>\n",
        "      <td> 0.890308</td>\n",
        "      <td> 0.229481</td>\n",
        "      <td>      NaN</td>\n",
        "      <td> 0.767048</td>\n",
        "      <td>      NaN</td>\n",
        "      <td> 0.999911</td>\n",
        "      <td> 0.805761</td>\n",
        "    </tr>\n",
        "    <tr>\n",
        "      <td><strong>methylation_pc2</strong></td>\n",
        "      <td> 0.043678</td>\n",
        "      <td> 0.763585</td>\n",
        "      <td> 0.398950</td>\n",
        "      <td> 0.035599</td>\n",
        "      <td> 9.498062e-01</td>\n",
        "      <td> 0.636949</td>\n",
        "      <td> 0.347037</td>\n",
        "      <td>      NaN</td>\n",
        "      <td> 0.413744</td>\n",
        "      <td>      NaN</td>\n",
        "      <td> 0.999662</td>\n",
        "      <td> 0.485553</td>\n",
        "    </tr>\n",
        "    <tr>\n",
        "      <td><strong>rate</strong></td>\n",
        "      <td> 0.026732</td>\n",
        "      <td> 0.563087</td>\n",
        "      <td> 0.931073</td>\n",
        "      <td> 0.026672</td>\n",
        "      <td> 1.230000e+00</td>\n",
        "      <td> 0.009396</td>\n",
        "      <td> 0.358900</td>\n",
        "      <td> 0.000717</td>\n",
        "      <td> 1.230000</td>\n",
        "      <td> 0.537038</td>\n",
        "      <td> 1.230000</td>\n",
        "      <td> 0.234282</td>\n",
        "    </tr>\n",
        "    <tr>\n",
        "      <td><strong>rate_dbsnp</strong></td>\n",
        "      <td> 0.102118</td>\n",
        "      <td> 0.572950</td>\n",
        "      <td> 0.556998</td>\n",
        "      <td> 0.568963</td>\n",
        "      <td> 6.104420e-01</td>\n",
        "      <td> 0.006513</td>\n",
        "      <td> 0.109726</td>\n",
        "      <td> 0.994137</td>\n",
        "      <td> 1.230000</td>\n",
        "      <td> 0.641293</td>\n",
        "      <td> 1.230000</td>\n",
        "      <td> 0.080685</td>\n",
        "    </tr>\n",
        "    <tr>\n",
        "      <td><strong>rate_non</strong></td>\n",
        "      <td> 0.006158</td>\n",
        "      <td> 0.872707</td>\n",
        "      <td> 0.898037</td>\n",
        "      <td> 0.007780</td>\n",
        "      <td> 8.451023e-01</td>\n",
        "      <td> 0.003337</td>\n",
        "      <td> 0.235014</td>\n",
        "      <td> 0.001562</td>\n",
        "      <td> 1.230000</td>\n",
        "      <td> 0.877031</td>\n",
        "      <td> 1.230000</td>\n",
        "      <td> 0.406710</td>\n",
        "    </tr>\n",
        "    <tr>\n",
        "      <td><strong>rate_sil</strong></td>\n",
        "      <td> 0.002124</td>\n",
        "      <td> 0.870797</td>\n",
        "      <td> 0.267068</td>\n",
        "      <td> 0.012700</td>\n",
        "      <td> 7.950354e-01</td>\n",
        "      <td> 0.001782</td>\n",
        "      <td> 0.270283</td>\n",
        "      <td> 0.007728</td>\n",
        "      <td> 1.230000</td>\n",
        "      <td> 0.968426</td>\n",
        "      <td> 1.230000</td>\n",
        "      <td> 0.381975</td>\n",
        "    </tr>\n",
        "    <tr>\n",
        "      <td><strong>transver</strong></td>\n",
        "      <td>      NaN</td>\n",
        "      <td>      NaN</td>\n",
        "      <td>      NaN</td>\n",
        "      <td> 0.465292</td>\n",
        "      <td> 6.382659e-01</td>\n",
        "      <td>      NaN</td>\n",
        "      <td>      NaN</td>\n",
        "      <td>      NaN</td>\n",
        "      <td> 1.230000</td>\n",
        "      <td> 0.378928</td>\n",
        "      <td> 1.230000</td>\n",
        "      <td>      NaN</td>\n",
        "    </tr>\n",
        "  </tbody>\n",
        "</table>\n",
        "</div>"
       ],
       "output_type": "pyout",
       "prompt_number": 15,
       "text": [
        "                         BRCA  COADREAD       GBM      KIRC          LAML      LUAD  \\\n",
        "*ApG->G                   NaN       NaN       NaN  0.340186           NaN       NaN   \n",
        "*Cp(A_C_T)->T        0.985303       NaN  0.085128       NaN  3.127343e-01       NaN   \n",
        "*CpG->T              0.016099  0.145517  0.229376  0.668519  7.836525e-02       NaN   \n",
        "*Np(A_C_T)->transit       NaN       NaN       NaN  0.385951           NaN       NaN   \n",
        "A->mut               0.319821  0.541752  0.388248       NaN           NaN  0.865452   \n",
        "AMAR                 0.118612  0.663218  0.031233  0.007181  3.899874e-02  0.438507   \n",
        "C->(G_A)             0.000441       NaN  0.290380       NaN           NaN       NaN   \n",
        "age                  0.001193  0.001733  0.000000  0.000777  1.061141e-09  0.034778   \n",
        "chrom_instability    0.002837  0.073215  0.162797  0.351497           NaN  0.202821   \n",
        "double_null          0.593906  0.407668  0.989925  0.705943  2.939406e-01  0.279504   \n",
        "exp_pc1              0.927734  0.265045  0.259892  0.054365           NaN  0.002533   \n",
        "exp_pc2              0.761425  0.552866  0.677765  0.000144           NaN  0.034949   \n",
        "gene_amp             0.065650  0.140215  0.489431  0.217428           NaN  0.286473   \n",
        "gene_amp_high        0.214579  0.425041  0.744082  0.789944           NaN  0.968485   \n",
        "gene_del             0.081396  0.134733  0.318993  0.004222           NaN  0.258150   \n",
        "gene_del_homo        0.365760  0.287816  0.768833  0.637016           NaN  0.513250   \n",
        "indel+null           0.314711  0.898990  0.632555  0.006092  6.370844e-01  0.995858   \n",
        "lesion_amp           0.029901  0.087152  0.433942  0.136643           NaN  0.564404   \n",
        "lesion_amp_high      0.000554  0.124646  0.349854  0.758629           NaN  0.526591   \n",
        "lesion_del           0.018447  0.127299  0.837078  0.015241           NaN  0.292983   \n",
        "methylation_age      0.061186  0.481379  0.029976  0.007006  2.058765e-01  0.534656   \n",
        "methylation_pc1      0.643908  0.564134  0.351770  0.389581  7.487734e-01  0.890308   \n",
        "methylation_pc2      0.043678  0.763585  0.398950  0.035599  9.498062e-01  0.636949   \n",
        "rate                 0.026732  0.563087  0.931073  0.026672  1.230000e+00  0.009396   \n",
        "rate_dbsnp           0.102118  0.572950  0.556998  0.568963  6.104420e-01  0.006513   \n",
        "rate_non             0.006158  0.872707  0.898037  0.007780  8.451023e-01  0.003337   \n",
        "rate_sil             0.002124  0.870797  0.267068  0.012700  7.950354e-01  0.001782   \n",
        "transver                  NaN       NaN       NaN  0.465292  6.382659e-01       NaN   \n",
        "\n",
        "                         LUSC        OV      PRAD      STAD      THCA      UCEC  \n",
        "*ApG->G                   NaN       NaN  1.230000  0.607945       NaN       NaN  \n",
        "*Cp(A_C_T)->T             NaN  0.249197       NaN       NaN  1.230000       NaN  \n",
        "*CpG->T                   NaN  0.006021  1.230000  0.774574  1.230000  0.456057  \n",
        "*Np(A_C_T)->transit       NaN       NaN  1.230000  0.945758       NaN       NaN  \n",
        "A->mut               0.804001  0.235090       NaN       NaN       NaN  0.930592  \n",
        "AMAR                 0.626606       NaN  0.378348  0.167030  0.999763  0.221327  \n",
        "C->(G_A)                  NaN  0.010964       NaN       NaN       NaN       NaN  \n",
        "age                  0.036109  0.000014  0.119589  0.422665  0.998752  0.042562  \n",
        "chrom_instability    0.593742  0.454836  0.999470  0.097552  0.999422  0.000209  \n",
        "double_null          0.050218  0.911729  1.230000  0.172112  1.230000  0.246776  \n",
        "exp_pc1              0.681250  0.965081  0.627604       NaN  0.999885  0.381018  \n",
        "exp_pc2              0.065288  0.598057  0.746439       NaN  0.999710  0.579460  \n",
        "gene_amp             0.513274  0.419450  0.560144  0.110428  0.998144  0.001010  \n",
        "gene_amp_high        0.091569  0.378896  0.999882  0.585884  0.995099  0.176992  \n",
        "gene_del             0.751117  0.941745  0.999834  0.166533  0.999973  0.033532  \n",
        "gene_del_homo        0.622585  0.478956  0.814146  0.673207  0.989398  0.097241  \n",
        "indel+null           0.254495  0.907624  1.230000  0.424344  1.230000  0.361405  \n",
        "lesion_amp           0.281045  0.702096  0.985175  0.120607       NaN  0.003804  \n",
        "lesion_amp_high      0.572497  0.122811  0.999543  0.214397       NaN  0.000077  \n",
        "lesion_del           0.644838  0.326601  0.973391  0.209928  0.999913  0.017343  \n",
        "methylation_age      0.311733       NaN  0.950913  0.121376  0.999860  0.256460  \n",
        "methylation_pc1      0.229481       NaN  0.767048       NaN  0.999911  0.805761  \n",
        "methylation_pc2      0.347037       NaN  0.413744       NaN  0.999662  0.485553  \n",
        "rate                 0.358900  0.000717  1.230000  0.537038  1.230000  0.234282  \n",
        "rate_dbsnp           0.109726  0.994137  1.230000  0.641293  1.230000  0.080685  \n",
        "rate_non             0.235014  0.001562  1.230000  0.877031  1.230000  0.406710  \n",
        "rate_sil             0.270283  0.007728  1.230000  0.968426  1.230000  0.381975  \n",
        "transver                  NaN       NaN  1.230000  0.378928  1.230000       NaN  "
       ]
      }
     ],
     "prompt_number": 15
    },
    {
     "cell_type": "code",
     "collapsed": false,
     "input": [
      "deceased_5y = (clinical.days < (365.25*5)) * clinical.deceased\n",
      "days_5y = clinical.days.clip_upper(int(365.25*5))\n",
      "\n",
      "event_5y = (clinical.event_free_survival < (365.25*5)) * clinical.event\n",
      "event_free_survival_5y = clinical.event_free_survival.clip_upper(int(365.25*5))"
     ],
     "language": "python",
     "metadata": {},
     "outputs": [],
     "prompt_number": 151
    },
    {
     "cell_type": "code",
     "collapsed": false,
     "input": [
      "p_global['KIRC'].dropna(axis=[0,1], how='all').sort('event_free_survival')"
     ],
     "language": "python",
     "metadata": {},
     "outputs": [
      {
       "html": [
        "<div style=\"max-height:1000px;max-width:1500px;overflow:auto;\">\n",
        "<table border=\"1\" class=\"dataframe\">\n",
        "  <thead>\n",
        "    <tr style=\"text-align: right;\">\n",
        "      <th></th>\n",
        "      <th>age</th>\n",
        "      <th>calcium_level</th>\n",
        "      <th>event_free_survival</th>\n",
        "      <th>gender</th>\n",
        "      <th>survival</th>\n",
        "      <th>tumor_t1t2</th>\n",
        "      <th>white_cell_count</th>\n",
        "    </tr>\n",
        "  </thead>\n",
        "  <tbody>\n",
        "    <tr>\n",
        "      <td><strong>exp_pc1</strong></td>\n",
        "      <td> 3.412291e-01</td>\n",
        "      <td> 0.871517</td>\n",
        "      <td> 0.001293</td>\n",
        "      <td> 1.384696e-03</td>\n",
        "      <td> 0.060588</td>\n",
        "      <td> 0.000101</td>\n",
        "      <td> 0.002060</td>\n",
        "    </tr>\n",
        "    <tr>\n",
        "      <td><strong>methylation_age</strong></td>\n",
        "      <td> 4.607618e-14</td>\n",
        "      <td> 0.981008</td>\n",
        "      <td> 0.006556</td>\n",
        "      <td> 1.994092e-03</td>\n",
        "      <td> 0.005764</td>\n",
        "      <td> 0.000374</td>\n",
        "      <td> 0.102331</td>\n",
        "    </tr>\n",
        "    <tr>\n",
        "      <td><strong>AMAR</strong></td>\n",
        "      <td> 2.903038e-08</td>\n",
        "      <td> 0.945988</td>\n",
        "      <td> 0.008954</td>\n",
        "      <td> 1.225332e-04</td>\n",
        "      <td> 0.005224</td>\n",
        "      <td> 0.098537</td>\n",
        "      <td> 0.721674</td>\n",
        "    </tr>\n",
        "    <tr>\n",
        "      <td><strong>lesion_amp</strong></td>\n",
        "      <td> 1.357210e-01</td>\n",
        "      <td> 0.394467</td>\n",
        "      <td> 0.012805</td>\n",
        "      <td> 2.509112e-01</td>\n",
        "      <td> 0.235784</td>\n",
        "      <td> 0.003579</td>\n",
        "      <td> 0.998969</td>\n",
        "    </tr>\n",
        "    <tr>\n",
        "      <td><strong>exp_pc2</strong></td>\n",
        "      <td> 7.381000e-01</td>\n",
        "      <td> 0.311039</td>\n",
        "      <td> 0.019772</td>\n",
        "      <td> 7.525150e-01</td>\n",
        "      <td> 0.000101</td>\n",
        "      <td> 0.000821</td>\n",
        "      <td> 0.987301</td>\n",
        "    </tr>\n",
        "    <tr>\n",
        "      <td><strong>gene_amp</strong></td>\n",
        "      <td> 6.733286e-02</td>\n",
        "      <td> 0.911674</td>\n",
        "      <td> 0.023401</td>\n",
        "      <td> 3.256332e-01</td>\n",
        "      <td> 0.335843</td>\n",
        "      <td> 0.000068</td>\n",
        "      <td> 0.926086</td>\n",
        "    </tr>\n",
        "    <tr>\n",
        "      <td><strong>gene_del</strong></td>\n",
        "      <td> 2.221345e-02</td>\n",
        "      <td> 0.614278</td>\n",
        "      <td> 0.041594</td>\n",
        "      <td> 1.972473e-04</td>\n",
        "      <td> 0.000734</td>\n",
        "      <td> 0.000012</td>\n",
        "      <td> 0.043298</td>\n",
        "    </tr>\n",
        "    <tr>\n",
        "      <td><strong>lesion_del</strong></td>\n",
        "      <td> 1.415689e-02</td>\n",
        "      <td> 0.644860</td>\n",
        "      <td> 0.044731</td>\n",
        "      <td> 6.225002e-05</td>\n",
        "      <td> 0.004319</td>\n",
        "      <td> 0.000023</td>\n",
        "      <td> 0.027090</td>\n",
        "    </tr>\n",
        "    <tr>\n",
        "      <td><strong>methylation_pc2</strong></td>\n",
        "      <td> 9.655579e-01</td>\n",
        "      <td> 0.731917</td>\n",
        "      <td> 0.045842</td>\n",
        "      <td> 4.334496e-33</td>\n",
        "      <td> 0.062187</td>\n",
        "      <td> 0.149249</td>\n",
        "      <td> 0.907537</td>\n",
        "    </tr>\n",
        "    <tr>\n",
        "      <td><strong>gene_amp_high</strong></td>\n",
        "      <td> 5.012626e-01</td>\n",
        "      <td> 0.911376</td>\n",
        "      <td> 0.047121</td>\n",
        "      <td> 4.957720e-01</td>\n",
        "      <td> 0.743154</td>\n",
        "      <td> 0.672491</td>\n",
        "      <td> 0.249781</td>\n",
        "    </tr>\n",
        "    <tr>\n",
        "      <td><strong>indel+null</strong></td>\n",
        "      <td> 8.832586e-01</td>\n",
        "      <td> 0.470412</td>\n",
        "      <td> 0.053907</td>\n",
        "      <td> 6.821287e-01</td>\n",
        "      <td> 0.007030</td>\n",
        "      <td> 0.337594</td>\n",
        "      <td> 0.753050</td>\n",
        "    </tr>\n",
        "    <tr>\n",
        "      <td><strong>chrom_instability</strong></td>\n",
        "      <td> 5.107974e-02</td>\n",
        "      <td> 0.775122</td>\n",
        "      <td> 0.222280</td>\n",
        "      <td> 6.560812e-02</td>\n",
        "      <td> 0.337926</td>\n",
        "      <td> 0.013462</td>\n",
        "      <td> 0.826945</td>\n",
        "    </tr>\n",
        "    <tr>\n",
        "      <td><strong>methylation_pc1</strong></td>\n",
        "      <td> 4.987618e-01</td>\n",
        "      <td> 0.893957</td>\n",
        "      <td> 0.231099</td>\n",
        "      <td> 7.183777e-01</td>\n",
        "      <td> 0.436873</td>\n",
        "      <td> 0.030174</td>\n",
        "      <td> 0.732550</td>\n",
        "    </tr>\n",
        "    <tr>\n",
        "      <td><strong>*CpG->T</strong></td>\n",
        "      <td> 3.191965e-01</td>\n",
        "      <td> 0.099457</td>\n",
        "      <td> 0.231728</td>\n",
        "      <td> 3.608949e-01</td>\n",
        "      <td> 0.955340</td>\n",
        "      <td> 0.191349</td>\n",
        "      <td> 0.160518</td>\n",
        "    </tr>\n",
        "    <tr>\n",
        "      <td><strong>double_null</strong></td>\n",
        "      <td> 5.532528e-01</td>\n",
        "      <td> 0.887523</td>\n",
        "      <td> 0.391363</td>\n",
        "      <td> 1.594267e-01</td>\n",
        "      <td> 0.918539</td>\n",
        "      <td> 0.397356</td>\n",
        "      <td> 0.940300</td>\n",
        "    </tr>\n",
        "    <tr>\n",
        "      <td><strong>*ApG->G</strong></td>\n",
        "      <td> 1.216279e-01</td>\n",
        "      <td> 0.564893</td>\n",
        "      <td> 0.428591</td>\n",
        "      <td> 3.581402e-01</td>\n",
        "      <td> 0.473929</td>\n",
        "      <td> 0.096402</td>\n",
        "      <td> 0.354062</td>\n",
        "    </tr>\n",
        "    <tr>\n",
        "      <td><strong>*Np(A_C_T)->transit</strong></td>\n",
        "      <td> 2.570387e-01</td>\n",
        "      <td> 0.003839</td>\n",
        "      <td> 0.486860</td>\n",
        "      <td> 4.129431e-01</td>\n",
        "      <td> 0.430286</td>\n",
        "      <td> 0.524318</td>\n",
        "      <td> 0.355996</td>\n",
        "    </tr>\n",
        "    <tr>\n",
        "      <td><strong>rate_sil</strong></td>\n",
        "      <td> 3.743104e-06</td>\n",
        "      <td> 0.000628</td>\n",
        "      <td> 0.577419</td>\n",
        "      <td> 6.915227e-02</td>\n",
        "      <td> 0.020526</td>\n",
        "      <td> 0.005041</td>\n",
        "      <td> 0.009104</td>\n",
        "    </tr>\n",
        "    <tr>\n",
        "      <td><strong>transver</strong></td>\n",
        "      <td> 2.994406e-01</td>\n",
        "      <td> 0.273941</td>\n",
        "      <td> 0.601411</td>\n",
        "      <td> 3.882566e-01</td>\n",
        "      <td> 0.503362</td>\n",
        "      <td> 0.169373</td>\n",
        "      <td> 0.547295</td>\n",
        "    </tr>\n",
        "    <tr>\n",
        "      <td><strong>rate_dbsnp</strong></td>\n",
        "      <td> 2.676617e-02</td>\n",
        "      <td> 0.017919</td>\n",
        "      <td> 0.641083</td>\n",
        "      <td> 9.718057e-02</td>\n",
        "      <td> 0.834277</td>\n",
        "      <td> 0.019679</td>\n",
        "      <td> 0.059872</td>\n",
        "    </tr>\n",
        "    <tr>\n",
        "      <td><strong>rate_non</strong></td>\n",
        "      <td> 4.749198e-11</td>\n",
        "      <td> 0.113537</td>\n",
        "      <td> 0.767561</td>\n",
        "      <td> 1.861514e-01</td>\n",
        "      <td> 0.028434</td>\n",
        "      <td> 0.007517</td>\n",
        "      <td> 0.012619</td>\n",
        "    </tr>\n",
        "    <tr>\n",
        "      <td><strong>gene_del_homo</strong></td>\n",
        "      <td> 5.206083e-01</td>\n",
        "      <td> 0.276337</td>\n",
        "      <td> 0.880023</td>\n",
        "      <td> 1.527331e-02</td>\n",
        "      <td> 0.612173</td>\n",
        "      <td> 0.265806</td>\n",
        "      <td> 0.356036</td>\n",
        "    </tr>\n",
        "    <tr>\n",
        "      <td><strong>lesion_amp_high</strong></td>\n",
        "      <td> 6.332946e-01</td>\n",
        "      <td> 0.454370</td>\n",
        "      <td> 0.892041</td>\n",
        "      <td> 7.891423e-01</td>\n",
        "      <td> 0.709326</td>\n",
        "      <td> 0.803579</td>\n",
        "      <td> 0.867117</td>\n",
        "    </tr>\n",
        "    <tr>\n",
        "      <td><strong>age</strong></td>\n",
        "      <td> 0.000000e+00</td>\n",
        "      <td> 0.996815</td>\n",
        "      <td> 0.955954</td>\n",
        "      <td> 1.444896e-03</td>\n",
        "      <td> 0.000072</td>\n",
        "      <td> 0.012138</td>\n",
        "      <td> 0.039282</td>\n",
        "    </tr>\n",
        "    <tr>\n",
        "      <td><strong>rate</strong></td>\n",
        "      <td> 2.647216e-13</td>\n",
        "      <td> 0.057824</td>\n",
        "      <td> 0.991765</td>\n",
        "      <td> 1.451430e-01</td>\n",
        "      <td> 0.078400</td>\n",
        "      <td> 0.002411</td>\n",
        "      <td> 0.004570</td>\n",
        "    </tr>\n",
        "    <tr>\n",
        "      <td><strong>lesion_del_homo</strong></td>\n",
        "      <td> 1.000000e+00</td>\n",
        "      <td>      NaN</td>\n",
        "      <td>      NaN</td>\n",
        "      <td>          NaN</td>\n",
        "      <td>      NaN</td>\n",
        "      <td>      NaN</td>\n",
        "      <td>      NaN</td>\n",
        "    </tr>\n",
        "  </tbody>\n",
        "</table>\n",
        "</div>"
       ],
       "output_type": "pyout",
       "prompt_number": 128,
       "text": [
        "                              age  calcium_level  event_free_survival  \\\n",
        "exp_pc1              3.412291e-01       0.871517             0.001293   \n",
        "methylation_age      4.607618e-14       0.981008             0.006556   \n",
        "AMAR                 2.903038e-08       0.945988             0.008954   \n",
        "lesion_amp           1.357210e-01       0.394467             0.012805   \n",
        "exp_pc2              7.381000e-01       0.311039             0.019772   \n",
        "gene_amp             6.733286e-02       0.911674             0.023401   \n",
        "gene_del             2.221345e-02       0.614278             0.041594   \n",
        "lesion_del           1.415689e-02       0.644860             0.044731   \n",
        "methylation_pc2      9.655579e-01       0.731917             0.045842   \n",
        "gene_amp_high        5.012626e-01       0.911376             0.047121   \n",
        "indel+null           8.832586e-01       0.470412             0.053907   \n",
        "chrom_instability    5.107974e-02       0.775122             0.222280   \n",
        "methylation_pc1      4.987618e-01       0.893957             0.231099   \n",
        "*CpG->T              3.191965e-01       0.099457             0.231728   \n",
        "double_null          5.532528e-01       0.887523             0.391363   \n",
        "*ApG->G              1.216279e-01       0.564893             0.428591   \n",
        "*Np(A_C_T)->transit  2.570387e-01       0.003839             0.486860   \n",
        "rate_sil             3.743104e-06       0.000628             0.577419   \n",
        "transver             2.994406e-01       0.273941             0.601411   \n",
        "rate_dbsnp           2.676617e-02       0.017919             0.641083   \n",
        "rate_non             4.749198e-11       0.113537             0.767561   \n",
        "gene_del_homo        5.206083e-01       0.276337             0.880023   \n",
        "lesion_amp_high      6.332946e-01       0.454370             0.892041   \n",
        "age                  0.000000e+00       0.996815             0.955954   \n",
        "rate                 2.647216e-13       0.057824             0.991765   \n",
        "lesion_del_homo      1.000000e+00            NaN                  NaN   \n",
        "\n",
        "                           gender  survival  tumor_t1t2  white_cell_count  \n",
        "exp_pc1              1.384696e-03  0.060588    0.000101          0.002060  \n",
        "methylation_age      1.994092e-03  0.005764    0.000374          0.102331  \n",
        "AMAR                 1.225332e-04  0.005224    0.098537          0.721674  \n",
        "lesion_amp           2.509112e-01  0.235784    0.003579          0.998969  \n",
        "exp_pc2              7.525150e-01  0.000101    0.000821          0.987301  \n",
        "gene_amp             3.256332e-01  0.335843    0.000068          0.926086  \n",
        "gene_del             1.972473e-04  0.000734    0.000012          0.043298  \n",
        "lesion_del           6.225002e-05  0.004319    0.000023          0.027090  \n",
        "methylation_pc2      4.334496e-33  0.062187    0.149249          0.907537  \n",
        "gene_amp_high        4.957720e-01  0.743154    0.672491          0.249781  \n",
        "indel+null           6.821287e-01  0.007030    0.337594          0.753050  \n",
        "chrom_instability    6.560812e-02  0.337926    0.013462          0.826945  \n",
        "methylation_pc1      7.183777e-01  0.436873    0.030174          0.732550  \n",
        "*CpG->T              3.608949e-01  0.955340    0.191349          0.160518  \n",
        "double_null          1.594267e-01  0.918539    0.397356          0.940300  \n",
        "*ApG->G              3.581402e-01  0.473929    0.096402          0.354062  \n",
        "*Np(A_C_T)->transit  4.129431e-01  0.430286    0.524318          0.355996  \n",
        "rate_sil             6.915227e-02  0.020526    0.005041          0.009104  \n",
        "transver             3.882566e-01  0.503362    0.169373          0.547295  \n",
        "rate_dbsnp           9.718057e-02  0.834277    0.019679          0.059872  \n",
        "rate_non             1.861514e-01  0.028434    0.007517          0.012619  \n",
        "gene_del_homo        1.527331e-02  0.612173    0.265806          0.356036  \n",
        "lesion_amp_high      7.891423e-01  0.709326    0.803579          0.867117  \n",
        "age                  1.444896e-03  0.000072    0.012138          0.039282  \n",
        "rate                 1.451430e-01  0.078400    0.002411          0.004570  \n",
        "lesion_del_homo               NaN       NaN         NaN               NaN  "
       ]
      }
     ],
     "prompt_number": 128
    }
   ],
   "metadata": {}
  }
 ]
}