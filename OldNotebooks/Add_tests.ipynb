{
 "metadata": {
  "name": "Add_tests"
 },
 "nbformat": 3,
 "nbformat_minor": 0,
 "worksheets": [
  {
   "cells": [
    {
     "cell_type": "code",
     "collapsed": false,
     "input": [
      "cd ../src/"
     ],
     "language": "python",
     "metadata": {},
     "outputs": [
      {
       "output_type": "stream",
       "stream": "stdout",
       "text": [
        "/cellar/users/agross/TCGA_Code/TCGA/Pathway_Merge/src\n"
       ]
      }
     ],
     "prompt_number": 103
    },
    {
     "cell_type": "code",
     "collapsed": false,
     "input": [
      "import pandas as pandas\n",
      "from Data.Pathways import read_in_pathways\n",
      "from Processing.Clinical import ClinicalObject\n",
      "import pickle as pickle\n",
      "import os as os\n",
      "\n",
      "pandas.set_printoptions(max_columns=300)"
     ],
     "language": "python",
     "metadata": {},
     "outputs": [],
     "prompt_number": 3
    },
    {
     "cell_type": "code",
     "collapsed": false,
     "input": [
      "firehose_path = '/cellar/users/agross/Data/TCGA/'\n",
      "date = '20120913'\n",
      "date_ = '_'.join([date[:4], date[4:6], date[6:8]])\n",
      "pathway_file = '/cellar/users/agross/Data/GeneSets/c2.cp.v3.0.symbols_edit.csv'\n",
      "gene_sets, gene_lookup = read_in_pathways(pathway_file)\n",
      "cancers = os.listdir(firehose_path + 'analyses__' + date_)"
     ],
     "language": "python",
     "metadata": {},
     "outputs": [],
     "prompt_number": 4
    },
    {
     "cell_type": "code",
     "collapsed": false,
     "input": [
      "report_ext = 'cov_age_rate_2'\n",
      "\n",
      "REAL_VARIABLES = ['AMAR','rate','age','karnofsky_performance', 'pack_years']\n",
      "BINARY_VARIABLES = ['gender', 'therapy', 'radiation', 'triple_neg', 'triple_pos',\n",
      "                    'ER_pos','PR_pos','her2_pos', 'lymphnode_n0n1', 'tumor_t1t2',\n",
      "                    'post_menopause', 'histo_g1g2', 'neo_status', 'chemo', 'hormones'\n",
      "                    'complete_response', 'metastatic_recurrence','new_tumor','smoker',\n",
      "                    'drinker']\n",
      "SURVIVAL_TESTS = {'survival' : {'event_var' : 'deceased', 'time_var' : 'days', \n",
      "                                'covariates' : ['age', 'rate']},\n",
      "                  'event_free_survival' : {'event_var' : 'event', \n",
      "                                           'time_var' : 'event_free_survival', \n",
      "                                           'covariates' : ['age', 'rate']}\n",
      "                  }"
     ],
     "language": "python",
     "metadata": {},
     "outputs": [],
     "prompt_number": 5
    },
    {
     "cell_type": "code",
     "collapsed": false,
     "input": [
      "cancer = 'COADREAD'\n",
      "data_path = firehose_path + 'analyses__' + date_ + '/' + cancer + '/' + date + '/'"
     ],
     "language": "python",
     "metadata": {},
     "outputs": [],
     "prompt_number": 6
    },
    {
     "cell_type": "code",
     "collapsed": false,
     "input": [
      "ClinicalObject?"
     ],
     "language": "python",
     "metadata": {},
     "outputs": [],
     "prompt_number": 104
    },
    {
     "cell_type": "code",
     "collapsed": false,
     "input": [
      "cancer = 'COADREAD'\n",
      "data_path = firehose_path + 'analyses__' + date_ + '/' + cancer + '/' + date + '/'\n",
      "cancer = ClinicalObject(cancer, data_path, gene_sets, data_type='mutation',\n",
      "                        survival_tests=SURVIVAL_TESTS, real_variables=REAL_VARIABLES,\n",
      "                        binary_variables=BINARY_VARIABLES)"
     ],
     "language": "python",
     "metadata": {},
     "outputs": [],
     "prompt_number": 376
    },
    {
     "cell_type": "code",
     "collapsed": false,
     "input": [
      "cancer.filter_bad_pathways(gene_lookup)\n",
      "if hasattr(cancer, 'tests'): del cancer.tests\n",
      "cancer.report_folder = cancer.data_path + cancer.data_type + '_' + report_ext\n",
      "if not os.path.isdir(cancer.report_folder):\n",
      "    os.makedirs(cancer.report_folder)\n",
      "pickle.dump(cancer, open(cancer.report_folder + '/ClinicalObject.p', 'wb'))"
     ],
     "language": "python",
     "metadata": {},
     "outputs": [],
     "prompt_number": 377
    },
    {
     "cell_type": "code",
     "collapsed": true,
     "input": [
      "f = data_path + 'mutation' + '_' + report_ext\n",
      "cancer = pickle.load(open(f.replace('COADREAD','GBM') + '/ClinicalObject.p', 'rb'))"
     ],
     "language": "python",
     "metadata": {},
     "outputs": [],
     "prompt_number": 106
    },
    {
     "cell_type": "code",
     "collapsed": false,
     "input": [
      "from Processing.Clinical import get_tests\n",
      "from pandas import Series"
     ],
     "language": "python",
     "metadata": {},
     "outputs": [],
     "prompt_number": 107
    },
    {
     "cell_type": "code",
     "collapsed": false,
     "input": [
      "f = get_tests(cancer.clinical, {}, ['rate'], [])['rate']"
     ],
     "language": "python",
     "metadata": {},
     "outputs": [],
     "prompt_number": 108
    },
    {
     "cell_type": "code",
     "collapsed": false,
     "input": [
      "def get_random_genes(bp, lengths):\n",
      "    s = 0\n",
      "    genes = []\n",
      "    new_gene = 0\n",
      "    while s < (bp + new_gene/2.):\n",
      "        i = random_integers(0, len(lengths)-1)\n",
      "        genes.append(i)\n",
      "        new_gene = lengths.ix[i]\n",
      "        s += new_gene\n",
      "    genes = lengths.index[genes]\n",
      "    return genes\n",
      "\n",
      "def do_perm(f, vec, hit_mat, bp, lengths, iterations):\n",
      "    real_val = f(vec > 0)\n",
      "    results = []\n",
      "    for i in range(iterations):\n",
      "        perm = hit_mat.ix[get_random_genes(bp, lengths)].sum() > 0\n",
      "        results.append(f(perm))\n",
      "    return sum(array(results) <  real_val) / float(len(results))\n",
      "\n",
      "def run_rate_permutation(df, hit_mat, gene_sets, lengths, f):\n",
      "    res = {}\n",
      "    for p,genes in gene_sets.iteritems():\n",
      "        if p not in df.index:\n",
      "            continue\n",
      "        bp = lengths[lengths.index.isin(genes)].sum()\n",
      "        iterations = 10\n",
      "        res[p] = do_perm(f, df.ix[p], hit_mat, bp, lengths, iterations)\n",
      "        while (res[p] <= (10./iterations)) and (iterations <= 2500):\n",
      "            res[p] = do_perm(f, df.ix[p], hit_mat, bp, lengths, iterations)\n",
      "            iterations = iterations * 5\n",
      "    res = np.sort(Series(res))\n",
      "    return res"
     ],
     "language": "python",
     "metadata": {},
     "outputs": [],
     "prompt_number": 109
    },
    {
     "cell_type": "code",
     "collapsed": false,
     "input": [
      "lengths = lengths.ix[hit_matrix.index].dropna()\n",
      "res = run_rate_permutation(cancer.meta_matrix, cancer.hit_matrix, gene_sets, \n",
      "                           lengths, f)\n",
      "cancer.q_pathways['rate']  = res"
     ],
     "language": "python",
     "metadata": {},
     "outputs": [],
     "prompt_number": 110
    },
    {
     "cell_type": "code",
     "collapsed": false,
     "input": [
      "l = pandas.read_csv('/cellar/users/agross/Data/GeneSets/coding_lengths.csv', index_col=0,\n",
      "                 squeeze=True)"
     ],
     "language": "python",
     "metadata": {},
     "outputs": [],
     "prompt_number": 117
    },
    {
     "cell_type": "code",
     "collapsed": false,
     "input": [],
     "language": "python",
     "metadata": {},
     "outputs": []
    }
   ],
   "metadata": {}
  }
 ]
}