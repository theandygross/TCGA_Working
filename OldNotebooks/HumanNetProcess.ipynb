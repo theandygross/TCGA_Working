{
 "metadata": {
  "name": "HumanNetProcess"
 },
 "nbformat": 3,
 "nbformat_minor": 0,
 "worksheets": [
  {
   "cells": [
    {
     "cell_type": "markdown",
     "metadata": {},
     "source": [
      "#Creating a networkx graph from the HumanNet flatfile"
     ]
    },
    {
     "cell_type": "code",
     "collapsed": false,
     "input": [
      "from pandas import read_table, read_csv\n",
      "from pandas import Series, DataFrame\n",
      "\n",
      "import networkx as nx"
     ],
     "language": "python",
     "metadata": {},
     "outputs": [],
     "prompt_number": 23
    },
    {
     "cell_type": "markdown",
     "metadata": {},
     "source": [
      "####Read in the flat file of interaction scores"
     ]
    },
    {
     "cell_type": "code",
     "collapsed": false,
     "input": [
      "graphEdgeFile = '/cellar/users/agross/Data/networks/HumanNet.v1.join.txt'\n",
      "edgeTypes = ['gene1','gene2','CE-CC','CE-CX','CE-GT','CE-LC','CE-YH','DM-PI','HS-CC','HS-CX',\n",
      "             'HS-DC','HS-GN','HS-LC','HS-MS','HS-PG','HS-YH','SC-CC','SC-CX',\n",
      "             'SC-GT','SC-LC','SC-MS','SC-TS','SC-YH','IntNet']\n",
      "tab = read_table(graphEdgeFile, names=edgeTypes)"
     ],
     "language": "python",
     "metadata": {},
     "outputs": [],
     "prompt_number": 20
    },
    {
     "cell_type": "markdown",
     "metadata": {},
     "source": [
      "####Read in entrez-to-HUGO mapping, create a conversion dictionary"
     ]
    },
    {
     "cell_type": "code",
     "collapsed": false,
     "input": [
      "entrez = read_csv('/cellar/users/agross/Data/networks/entrezIDs.txt')\n",
      "entrez = entrez[entrez['Entrez Gene ID'].notnull()]\n",
      "\n",
      "lookup = entrez.groupby('Approved Symbol').first()\n",
      "lookup = lookup['Entrez Gene ID']\n",
      "#lookup = lookup[mutation_scores.index]\n",
      "lookup = Series(lookup.index, lookup)"
     ],
     "language": "python",
     "metadata": {},
     "outputs": [],
     "prompt_number": 21
    },
    {
     "cell_type": "markdown",
     "metadata": {},
     "source": [
      "####Convert HumanNet IDs to HUGO then create a networkx graph"
     ]
    },
    {
     "cell_type": "code",
     "collapsed": false,
     "input": [
      "graph = DataFrame(dict(gene1=tab['gene1'].map(lookup), \n",
      "                       gene2=tab['gene2'].map(lookup),\n",
      "                       weight=tab['IntNet']))\n",
      "graph = graph.dropna(how='any')\n",
      "\n",
      "G = nx.Graph()\n",
      "G.add_weighted_edges_from(graph.as_matrix())"
     ],
     "language": "python",
     "metadata": {},
     "outputs": [],
     "prompt_number": 26
    },
    {
     "cell_type": "markdown",
     "metadata": {},
     "source": [
      "####Pull the adjacency matrix from the graph and put in DataFrame form\n",
      "* Since HumanNet is probablistic, I'm not smoothing (but could try that later)"
     ]
    },
    {
     "cell_type": "code",
     "collapsed": false,
     "input": [
      "similarity = nx.adj_matrix(G)\n",
      "similarityMatrix = DataFrame(similarity, index=G.nodes(), columns=G.nodes())"
     ],
     "language": "python",
     "metadata": {},
     "outputs": [],
     "prompt_number": 29
    },
    {
     "cell_type": "markdown",
     "metadata": {},
     "source": [
      "####Save results to file"
     ]
    },
    {
     "cell_type": "code",
     "collapsed": false,
     "input": [
      "graph.to_csv"
     ],
     "language": "python",
     "metadata": {},
     "outputs": []
    }
   ],
   "metadata": {}
  }
 ]
}