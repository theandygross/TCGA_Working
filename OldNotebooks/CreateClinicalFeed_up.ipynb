{
 "metadata": {
  "name": "CreateClinicalFeed_up"
 },
 "nbformat": 3,
 "nbformat_minor": 0,
 "worksheets": [
  {
   "cells": [
    {
     "cell_type": "code",
     "collapsed": false,
     "input": [
      "cd ../src"
     ],
     "language": "python",
     "metadata": {},
     "outputs": [
      {
       "output_type": "stream",
       "stream": "stdout",
       "text": [
        "/cellar/users/agross/TCGA_Code/TCGA/Pathway_Merge/src\n"
       ]
      }
     ],
     "prompt_number": 6
    },
    {
     "cell_type": "code",
     "collapsed": false,
     "input": [
      "import os\n",
      "import subprocess\n",
      "from itertools import product\n",
      "\n",
      "data_path = '/cellar/data/TCGA/Firehose__2012_10_24/'\n",
      "cancers = os.listdir(data_path + 'stddata')"
     ],
     "language": "python",
     "metadata": {},
     "outputs": [],
     "prompt_number": 7
    },
    {
     "cell_type": "code",
     "collapsed": false,
     "input": [
      "def run_function(cancer, data_type, data_path, report_folder): \n",
      "    r = subprocess.Popen(['nice', '-n', '5', './run_cancer.py', \n",
      "                         cancer, data_type, data_path, report_folder])\n",
      "    return r"
     ],
     "language": "python",
     "metadata": {},
     "outputs": [],
     "prompt_number": 8
    },
    {
     "cell_type": "code",
     "collapsed": false,
     "input": [
      "data_types = ['expression','methylation']\n",
      "report_ext = '_LR'"
     ],
     "language": "python",
     "metadata": {},
     "outputs": [],
     "prompt_number": 12
    },
    {
     "cell_type": "code",
     "collapsed": false,
     "input": [
      "processes = set()\n",
      "max_processes = 7\n",
      "\n",
      "for cancer, data_type in product(cancers, data_types):\n",
      "    report_folder = '/'.join(['ucsd_analyses', cancer, 'Clinical', \n",
      "                              data_type + report_ext,''])\n",
      "    if not os.path.isdir(data_path + report_folder):\n",
      "        os.makedirs(data_path + report_folder)\n",
      "    processes.add(run_function(cancer, data_type, data_path, report_folder))\n",
      "    if len(processes) >= max_processes:\n",
      "        os.wait()\n",
      "        processes.difference_update(\n",
      "            set([p for p in processes if p.poll() is not None]))\n"
     ],
     "language": "python",
     "metadata": {},
     "outputs": [],
     "prompt_number": 13
    },
    {
     "cell_type": "code",
     "collapsed": false,
     "input": [],
     "language": "python",
     "metadata": {},
     "outputs": []
    }
   ],
   "metadata": {}
  }
 ]
}