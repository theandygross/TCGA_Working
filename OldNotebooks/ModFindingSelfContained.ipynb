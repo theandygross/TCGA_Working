{
 "metadata": {
  "name": "ModFindingSelfContained"
 },
 "nbformat": 3,
 "nbformat_minor": 0,
 "worksheets": [
  {
   "cells": [
    {
     "cell_type": "code",
     "collapsed": false,
     "input": [
      "cd ../src"
     ],
     "language": "python",
     "metadata": {},
     "outputs": [
      {
       "output_type": "stream",
       "stream": "stdout",
       "text": [
        "/cellar/users/agross/TCGA_Code/TCGA/Pathway_Merge/src\n"
       ]
      }
     ],
     "prompt_number": 1
    },
    {
     "cell_type": "code",
     "collapsed": false,
     "input": [
      "import os as os\n",
      "import networkx as nx\n",
      "\n",
      "from pandas import read_table, read_csv\n",
      "from pandas import Series, DataFrame\n",
      "\n",
      "from Data.Firehose import get_mutation_matrix\n",
      "from NetworkModule.ModuleFinding import get_graph_weight, get_data_weight\n",
      "from NetworkModule.ModuleFinding import sparsify_df, get_candidates, pre_cluster"
     ],
     "language": "python",
     "metadata": {},
     "outputs": [],
     "prompt_number": 2
    },
    {
     "cell_type": "code",
     "collapsed": false,
     "input": [
      "firehose_path = '/cellar/users/agross/Data/TCGA/'\n",
      "date = '20120913'\n",
      "date_ = '_'.join([date[:4], date[4:6], date[6:8]])\n",
      "cancers = os.listdir(firehose_path + 'analyses__' + date_)\n",
      "\n",
      "\n",
      "graph = '/cellar/users/agross/Data/networks/HumanNet/HumanNet_HUGO.csv'"
     ],
     "language": "python",
     "metadata": {},
     "outputs": [],
     "prompt_number": 3
    },
    {
     "cell_type": "code",
     "collapsed": false,
     "input": [
      "cancer = 'BRCA'\n",
      "data_type = 'mutation'\n",
      "averageDegree = 4.0\n",
      "data_path = firehose_path + 'analyses__' + date_ + '/' + cancer + '/' + date + '/'"
     ],
     "language": "python",
     "metadata": {},
     "outputs": [],
     "prompt_number": 4
    },
    {
     "cell_type": "code",
     "collapsed": false,
     "input": [
      "mutation_matrix, mut_sig = get_mutation_matrix(cancer, data_path, get_mutsig=True)\n",
      "\n",
      "fix_round = lambda s: 1e-15 if (s.startswith('<') or (float(s)<1e-15)) else float(s)\n",
      "scores = mut_sig.p.apply(fix_round)\n",
      "scores = -np.log(scores.astype(float))\n",
      "mutation_scores = scores[scores > 0]\n",
      "\n",
      "mutation_scores = (mutation_scores)*.0001 + 1\n",
      "sparsity  = 2*averageDegree/len(mutation_scores)"
     ],
     "language": "python",
     "metadata": {},
     "outputs": [],
     "prompt_number": 5
    },
    {
     "cell_type": "code",
     "collapsed": false,
     "input": [
      "graph_weight = get_graph_weight(graph, mutation_scores.index)\n",
      "data_weight = get_data_weight(mutation_scores)\n",
      "weighted_similarity = data_weight.mul(graph_weight).fillna(0)\n",
      "\n",
      "#del graph_weight, data_weight"
     ],
     "language": "python",
     "metadata": {},
     "outputs": [],
     "prompt_number": 6
    },
    {
     "cell_type": "code",
     "collapsed": false,
     "input": [
      "weighted_similarity = sparsify_df(weighted_similarity, sparsity)\n",
      "\n",
      "gene_map = dict(list(enumerate(weighted_similarity.index)))\n",
      "translate_candidate = lambda can: array([gene_map[c] for c in can])\n",
      "\n",
      "Gr = nx.Graph(weighted_similarity.as_matrix())\n",
      "degrees = Gr.degree()\n",
      "Gr = Gr.subgraph([node for node in Gr.nodes() if degrees[node] > 0]) "
     ],
     "language": "python",
     "metadata": {},
     "outputs": [],
     "prompt_number": 7
    },
    {
     "cell_type": "code",
     "collapsed": false,
     "input": [
      "from NetworkModule.ModuleFinding import *"
     ],
     "language": "python",
     "metadata": {},
     "outputs": [],
     "prompt_number": 8
    },
    {
     "cell_type": "code",
     "collapsed": true,
     "input": [
      "membership = pre_cluster(Gr) \n",
      "membership = membership[membership > 0]\n",
      "\n",
      "candidates = get_candidates(membership, Gr)\n",
      "candidates = map(translate_candidate, candidates)\n",
      "\n",
      "candidates = [c for c in candidates if (mutation_matrix.ix[c] > 0).sum().sum() > 15]"
     ],
     "language": "python",
     "metadata": {},
     "outputs": [],
     "prompt_number": 9
    },
    {
     "cell_type": "code",
     "collapsed": false,
     "input": [
      "from Data.Pathways import read_in_pathways\n",
      "from Processing.Clinical import ClinicalObject\n",
      "\n",
      "PATHWAY_FILE = '/cellar/users/agross/Data/GeneSets/c2.cp.v3.0.symbols_edit.csv'\n",
      "gene_sets, gene_lookup = read_in_pathways(PATHWAY_FILE)\n",
      "\n",
      "REAL_VARIABLES = ['AMAR','rate','age','karnofsky_performance', 'pack_years']\n",
      "BINARY_VARIABLES = ['gender', 'therapy', 'radiation', 'triple_neg', 'triple_pos',\n",
      "                    'ER_pos','PR_pos','her2_pos', 'lymphnode_n0n1', 'tumor_t1t2',\n",
      "                    'post_menopause', 'histo_g1g2', 'neo_status', 'chemo', \n",
      "                    'hormones''complete_response', 'metastatic_recurrence',\n",
      "                    'new_tumor','smoker', 'drinker']\n",
      "SURVIVAL_TESTS = {'survival' : {'event_var' : 'deceased', 'time_var' : 'days', \n",
      "                                'covariates' : ['age', 'rate']},\n",
      "                  'event_free_survival' : {'event_var' : 'event', \n",
      "                                           'time_var' : 'event_free_survival', \n",
      "                                           'covariates' : ['age', 'rate']}\n",
      "                  }"
     ],
     "language": "python",
     "metadata": {},
     "outputs": [],
     "prompt_number": 10
    },
    {
     "cell_type": "code",
     "collapsed": false,
     "input": [
      "cancer_obj = ClinicalObject(cancer, data_path, dict(enumerate((candidates))), \n",
      "                                data_type,\n",
      "\t\t\t\t\t\t\t\tsurvival_tests=SURVIVAL_TESTS, \n",
      "\t\t\t\t\t\t\t\treal_variables=REAL_VARIABLES,\n",
      "                        \t\tbinary_variables=BINARY_VARIABLES,\n",
      "                        \t\tdrop_pc=False)\n",
      "cancer = cancer_obj"
     ],
     "language": "python",
     "metadata": {},
     "outputs": [],
     "prompt_number": 11
    },
    {
     "cell_type": "code",
     "collapsed": false,
     "input": [
      "s = Series(cancer.meta_matrix.sum(1), name='len')\n",
      "(cancer.q_pathways.join(s)[['survival','len']]).sort(columns='survival').head(20)"
     ],
     "language": "python",
     "metadata": {},
     "outputs": [
      {
       "html": [
        "<div style=\"max-height:1000px;max-width:1500px;overflow:auto;\">\n",
        "<table border=\"1\" class=\"dataframe\">\n",
        "  <thead>\n",
        "    <tr style=\"text-align: right;\">\n",
        "      <th></th>\n",
        "      <th>survival</th>\n",
        "      <th>len</th>\n",
        "    </tr>\n",
        "  </thead>\n",
        "  <tbody>\n",
        "    <tr>\n",
        "      <td><strong>46 </strong></td>\n",
        "      <td> 0.033433</td>\n",
        "      <td> 17</td>\n",
        "    </tr>\n",
        "    <tr>\n",
        "      <td><strong>34 </strong></td>\n",
        "      <td> 0.046152</td>\n",
        "      <td> 18</td>\n",
        "    </tr>\n",
        "    <tr>\n",
        "      <td><strong>81 </strong></td>\n",
        "      <td> 0.824409</td>\n",
        "      <td> 23</td>\n",
        "    </tr>\n",
        "    <tr>\n",
        "      <td><strong>124</strong></td>\n",
        "      <td> 0.824409</td>\n",
        "      <td> 30</td>\n",
        "    </tr>\n",
        "    <tr>\n",
        "      <td><strong>52 </strong></td>\n",
        "      <td> 0.824409</td>\n",
        "      <td> 76</td>\n",
        "    </tr>\n",
        "    <tr>\n",
        "      <td><strong>40 </strong></td>\n",
        "      <td> 0.824409</td>\n",
        "      <td> 21</td>\n",
        "    </tr>\n",
        "    <tr>\n",
        "      <td><strong>155</strong></td>\n",
        "      <td> 0.824409</td>\n",
        "      <td> 27</td>\n",
        "    </tr>\n",
        "    <tr>\n",
        "      <td><strong>145</strong></td>\n",
        "      <td> 0.905486</td>\n",
        "      <td> 35</td>\n",
        "    </tr>\n",
        "    <tr>\n",
        "      <td><strong>95 </strong></td>\n",
        "      <td> 0.905486</td>\n",
        "      <td> 31</td>\n",
        "    </tr>\n",
        "    <tr>\n",
        "      <td><strong>174</strong></td>\n",
        "      <td> 0.998044</td>\n",
        "      <td> 37</td>\n",
        "    </tr>\n",
        "    <tr>\n",
        "      <td><strong>118</strong></td>\n",
        "      <td> 0.998044</td>\n",
        "      <td> 51</td>\n",
        "    </tr>\n",
        "    <tr>\n",
        "      <td><strong>119</strong></td>\n",
        "      <td> 0.998044</td>\n",
        "      <td> 39</td>\n",
        "    </tr>\n",
        "    <tr>\n",
        "      <td><strong>120</strong></td>\n",
        "      <td> 0.998044</td>\n",
        "      <td> 21</td>\n",
        "    </tr>\n",
        "    <tr>\n",
        "      <td><strong>121</strong></td>\n",
        "      <td> 0.998044</td>\n",
        "      <td> 27</td>\n",
        "    </tr>\n",
        "    <tr>\n",
        "      <td><strong>122</strong></td>\n",
        "      <td> 0.998044</td>\n",
        "      <td> 27</td>\n",
        "    </tr>\n",
        "    <tr>\n",
        "      <td><strong>123</strong></td>\n",
        "      <td> 0.998044</td>\n",
        "      <td> 38</td>\n",
        "    </tr>\n",
        "    <tr>\n",
        "      <td><strong>181</strong></td>\n",
        "      <td> 0.998044</td>\n",
        "      <td> 28</td>\n",
        "    </tr>\n",
        "    <tr>\n",
        "      <td><strong>125</strong></td>\n",
        "      <td> 0.998044</td>\n",
        "      <td> 50</td>\n",
        "    </tr>\n",
        "    <tr>\n",
        "      <td><strong>126</strong></td>\n",
        "      <td> 0.998044</td>\n",
        "      <td> 52</td>\n",
        "    </tr>\n",
        "    <tr>\n",
        "      <td><strong>127</strong></td>\n",
        "      <td> 0.998044</td>\n",
        "      <td> 56</td>\n",
        "    </tr>\n",
        "  </tbody>\n",
        "</table>\n",
        "</div>"
       ],
       "output_type": "pyout",
       "prompt_number": 12,
       "text": [
        "     survival  len\n",
        "46   0.033433   17\n",
        "34   0.046152   18\n",
        "81   0.824409   23\n",
        "124  0.824409   30\n",
        "52   0.824409   76\n",
        "40   0.824409   21\n",
        "155  0.824409   27\n",
        "145  0.905486   35\n",
        "95   0.905486   31\n",
        "174  0.998044   37\n",
        "118  0.998044   51\n",
        "119  0.998044   39\n",
        "120  0.998044   21\n",
        "121  0.998044   27\n",
        "122  0.998044   27\n",
        "123  0.998044   38\n",
        "181  0.998044   28\n",
        "125  0.998044   50\n",
        "126  0.998044   52\n",
        "127  0.998044   56"
       ]
      }
     ],
     "prompt_number": 12
    },
    {
     "cell_type": "code",
     "collapsed": false,
     "input": [
      "from NetworkModule.Figures import *"
     ],
     "language": "python",
     "metadata": {},
     "outputs": [],
     "prompt_number": 13
    },
    {
     "cell_type": "code",
     "collapsed": false,
     "input": [
      "dp = drawMod(candidates[46], graph_weight, geneWeights=scores)"
     ],
     "language": "python",
     "metadata": {},
     "outputs": [
      {
       "output_type": "display_data",
       "png": "[encoded data removed]"
      }
     ],
     "prompt_number": 14
    },
    {
     "cell_type": "code",
     "collapsed": false,
     "input": [
      "from Reports.Figures import *"
     ],
     "language": "python",
     "metadata": {},
     "outputs": [],
     "prompt_number": 15
    },
    {
     "cell_type": "code",
     "collapsed": false,
     "input": [
      "from Reports.Figures import *\n",
      "def draw_survival_curves_KM(clinical, hit_vec, time_var='days', event_var='deceased',\n",
      "                            filename='tmp.png', show=False, ax=None, title=True, \n",
      "                            labels=['No Mutation', 'Mutation'], ann=None):\n",
      "    if not hasattr(hit_vec, 'name'):\n",
      "        hit_vec.name = 'pathway'\n",
      "    df = clinical[[time_var, event_var]].join(hit_vec)\n",
      "    df = df.dropna()\n",
      "    df_r = com.convert_to_r_dataframe(df) #@UndefinedVariable\n",
      "    fmla = robjects.Formula('Surv(' + time_var + ', ' + event_var + ') ~ ' + hit_vec.name)\n",
      "    fit = survival.survfit(fmla, df_r)\n",
      "    ls = r('2:' + str(len(set(hit_vec))+1)) #R line styles\n",
      "    if filename.endswith('.png'):\n",
      "        r.png(filename=filename, width=300, height=250, res=100, pointsize=8)\n",
      "    else:\n",
      "        r.pdf(filename, width=4.5, height=3.75)\n",
      "    s = survival.survdiff(fmla, df_r)\n",
      "    p = str(s).split('\\n\\n')[-1].strip().split(', ')[-1]\n",
      "    ls = r.c('blue','purple','red')\n",
      "    r.plot(survival.survfit(fmla, df_r), lty=1, col=ls, lwd=3, cex=1.5, \n",
      "                            xlab='Days to Event', ylab= 'Survival');\n",
      "    if title:\n",
      "        r('title')(hit_vec.name)\n",
      "    r('legend')(nanmax(df[time_var]) * .5,.9, labels, lty=1, col=ls, lwd=3)\n",
      "    if ann=='p':\n",
      "        r.text(0, labels='logrank ' + p, pos=4)\n",
      "    elif ann != None:\n",
      "        r.text(0, labels=ann, pos=4)\n",
      "    r('dev.off()')"
     ],
     "language": "python",
     "metadata": {},
     "outputs": [],
     "prompt_number": 16
    },
    {
     "cell_type": "code",
     "collapsed": false,
     "input": [
      "from IPython.display import Image"
     ],
     "language": "python",
     "metadata": {},
     "outputs": [],
     "prompt_number": 17
    },
    {
     "cell_type": "code",
     "collapsed": false,
     "input": [
      "covariates = ['age','rate']\n",
      "time_var = 'days'\n",
      "event_var = 'deceased'\n",
      "\n",
      "clinical = cancer.clinical[[time_var, event_var] + covariates].dropna()"
     ],
     "language": "python",
     "metadata": {},
     "outputs": [],
     "prompt_number": 18
    },
    {
     "cell_type": "code",
     "collapsed": false,
     "input": [
      "overlap = Series({s: len(g.intersection(set(candidates[46]))) for s,g in gene_sets.iteritems()})\n",
      "np.sort(overlap).tail()"
     ],
     "language": "python",
     "metadata": {},
     "outputs": [
      {
       "output_type": "pyout",
       "prompt_number": 19,
       "text": [
        "REACTOME_GAMMA_CARBOXYLATION_TRANSPORT_AND_AMINO_TERMINAL_CLEAVAGE_OF_PROTEINS    2\n",
        "REACTOME_HEMOSTASIS                                             2\n",
        "REACTOME_METABOLISM_OF_PROTEINS                                 2\n",
        "REACTOME_POST_TRANSLATIONAL_PROTEIN_MODIFICATION                2\n",
        "REACTOME_SIGNALING_IN_IMMUNE_SYSTEM                             2"
       ]
      }
     ],
     "prompt_number": 19
    },
    {
     "cell_type": "code",
     "collapsed": false,
     "input": [
      "cancer.patients = (cancer.clinical[['age','deceased']].dropna()).index"
     ],
     "language": "python",
     "metadata": {},
     "outputs": [],
     "prompt_number": 20
    },
    {
     "cell_type": "code",
     "collapsed": false,
     "input": [
      "def draw_pathway_count_bar(p, cancer, file_name='tmp.svg', colors='red'):\n",
      "    fig, ax = plt.subplots(1,1, figsize=(3+len(cancer.gene_sets[p])/30.,2))\n",
      "    m = cancer.hit_matrix.ix[list(cancer.gene_sets[p]), cancer.patients] > 0\n",
      "    m = sort(m[m.sum(1) > 0].sum(1))\n",
      "    #colors = ['orange']*(len(m))\n",
      "    m.plot(kind='bar', ax=ax, alpha=.7, color=colors);\n",
      "    ax.set_yticks(range(m.max()+1))\n",
      "    ax.set_yticklabels(range(m.max()+1), size=14)\n",
      "    ax.set_xticklabels(m.index, ha='center', va='bottom', position=(0,.1), size=20)\n",
      "    ax.set_ylabel('# Patients', size=16)\n",
      "    \n",
      "    fig.tight_layout()\n",
      "    fig.savefig(file_name)"
     ],
     "language": "python",
     "metadata": {},
     "outputs": [],
     "prompt_number": 21
    },
    {
     "cell_type": "code",
     "collapsed": false,
     "input": [
      "def draw_pathway_count_bar(p, cancer, file_name='tmp.svg', colors='red'):\n",
      "    fig, ax = plt.subplots(1,1, figsize=(4+len(cancer.gene_sets[p])/5.,2))\n",
      "    m = cancer.hit_matrix.ix[list(cancer.gene_sets[p]), cancer.patients] > 0\n",
      "    m = sort(m[m.sum(1) > 0].sum(1))\n",
      "    #colors = ['orange']*(len(m))\n",
      "    m.plot(kind='bar', ax=ax, alpha=.7, color=colors);\n",
      "    ax.set_yticks(range(m.max()+1))\n",
      "    ax.set_yticklabels(range(m.max()+1), size=14)\n",
      "    ax.set_xticklabels(m.index, ha='center', va='bottom', position=(0,.1), size=20)\n",
      "    ax.set_ylabel('# Patients', size=16)\n",
      "    \n",
      "    fig.tight_layout()\n",
      "    fig.savefig(file_name)"
     ],
     "language": "python",
     "metadata": {},
     "outputs": [],
     "prompt_number": 22
    },
    {
     "cell_type": "code",
     "collapsed": false,
     "input": [
      "draw_pathway_count_bar(46, cancer)"
     ],
     "language": "python",
     "metadata": {},
     "outputs": [
      {
       "output_type": "display_data",
       "png": "[encoded data removed]"
      }
     ],
     "prompt_number": 23
    },
    {
     "cell_type": "code",
     "collapsed": false,
     "input": [
      "hit_vec = cancer.meta_matrix.ix[46].clip_upper(1.)\n",
      "hit_vec.name = 'Module'\n",
      "draw_survival_curves(clinical, hit_vec, covariates, 'days', 'deceased',\n",
      "                        filename='tmp.png')\n",
      "Image(filename='tmp.png')"
     ],
     "language": "python",
     "metadata": {},
     "outputs": [
      {
       "output_type": "pyout",
       "png": "[encoded data removed]",
       "prompt_number": 24,
       "text": [
        "<IPython.core.display.Image at 0xf741a10>"
       ]
      }
     ],
     "prompt_number": 24
    },
    {
     "cell_type": "code",
     "collapsed": false,
     "input": [],
     "language": "python",
     "metadata": {},
     "outputs": [],
     "prompt_number": 24
    }
   ],
   "metadata": {}
  }
 ]
}