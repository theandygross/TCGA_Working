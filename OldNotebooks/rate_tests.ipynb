{
 "metadata": {
  "name": "rate_tests"
 },
 "nbformat": 3,
 "nbformat_minor": 0,
 "worksheets": [
  {
   "cells": [
    {
     "cell_type": "code",
     "collapsed": false,
     "input": [
      "cd ../src"
     ],
     "language": "python",
     "metadata": {},
     "outputs": [
      {
       "output_type": "stream",
       "stream": "stdout",
       "text": [
        "/cellar/users/agross/TCGA_Code/TCGA/Pathway_Merge/src\n"
       ]
      }
     ],
     "prompt_number": 136
    },
    {
     "cell_type": "code",
     "collapsed": false,
     "input": [
      "import os as os\n",
      "from pandas import DataFrame, Series, read_csv, read_table"
     ],
     "language": "python",
     "metadata": {},
     "outputs": [],
     "prompt_number": 2
    },
    {
     "cell_type": "code",
     "collapsed": false,
     "input": [
      "from Data.Firehose import get_mutation_matrix"
     ],
     "language": "python",
     "metadata": {},
     "outputs": [],
     "prompt_number": 3
    },
    {
     "cell_type": "code",
     "collapsed": false,
     "input": [
      "data_path = '/cellar/data/TCGA/Firehose__2012_10_24/'\n",
      "cancers = os.listdir(data_path + 'stddata')"
     ],
     "language": "python",
     "metadata": {},
     "outputs": [],
     "prompt_number": 4
    },
    {
     "cell_type": "markdown",
     "metadata": {},
     "source": [
      "####Pull mutation rates from mutsig"
     ]
    },
    {
     "cell_type": "code",
     "collapsed": false,
     "input": [
      "def get_rates(data_path, cancer):\n",
      "    mutsig_path = data_path + '/'.join(['broad_analyses', cancer, \n",
      "                                        'MutSigRun2', ''])\n",
      "    mutsig_path = mutsig_path + cancer + '.'\n",
      "    try:\n",
      "        mutation_rates = read_table(mutsig_path + 'patients.counts_and_rates.txt')\n",
      "    except:\n",
      "        return DataFrame([])\n",
      "    mutation_rates = mutation_rates.set_index('name')\n",
      "    mutation_rates = mutation_rates.rename(index=lambda s: \n",
      "                                           s.replace(cancer, 'TCGA')[:-3])\n",
      "    mutation_rates = mutation_rates[['rate_dbsnp', 'rate_sil', 'rate_non']]\n",
      "    \n",
      "    maf = read_table(mutsig_path + 'final_analysis_set.maf')\n",
      "    maf = maf.dropna(how='all', axis=[0,1])\n",
      "    maf.Tumor_Sample_Barcode = maf.Tumor_Sample_Barcode.map(lambda s: s[:12])\n",
      "    maf = maf.set_index(['Hugo_Symbol','Tumor_Sample_Barcode'])\n",
      "    \n",
      "    labels = read_table(mutsig_path + 'mutcategs.txt')\n",
      "    \n",
      "    non_silent = maf[maf.is_silent == 0]\n",
      "    df = DataFrame({pat: df.categ.value_counts() for pat, df in \n",
      "                    non_silent.groupby(level=1)}).T\n",
      "    df = df.fillna(0)\n",
      "    df = df.rename(columns=lambda s: labels.name[s-1])\n",
      "    pct = (df.T / df.sum(1)).T    \n",
      "    mutation_rates = mutation_rates.join(pct)\n",
      "    return mutation_rates"
     ],
     "language": "python",
     "metadata": {},
     "outputs": [],
     "prompt_number": 367
    },
    {
     "cell_type": "code",
     "collapsed": false,
     "input": [
      "mutation_rates = get_rates(data_path, 'LUAD')"
     ],
     "language": "python",
     "metadata": {},
     "outputs": [],
     "prompt_number": 101
    },
    {
     "cell_type": "code",
     "collapsed": false,
     "input": [
      "pct = mutation_rates.ix[:,3:].sort(columns='*CpG->A')\n",
      "fig, ax = subplots(figsize=(12,2))\n",
      "pct.plot(kind='bar', stacked=True, legend=True, ax=ax, xticks=[], yticks=[])\n",
      "for p in ax.patches:\n",
      "    p.set_width(1)\n",
      "    p.set_lw(0)\n",
      "ax.set_ybound(0,1)"
     ],
     "language": "python",
     "metadata": {},
     "outputs": [
      {
       "output_type": "display_data",
       "png": "[encoded data removed]"
      }
     ],
     "prompt_number": 107
    },
    {
     "cell_type": "code",
     "collapsed": false,
     "input": [
      "from Processing.Clinical import *\n",
      "from Processing.Helpers import *\n",
      "from Data.Pathways import read_in_pathways\n",
      "from Data.AgingData import get_age_signal"
     ],
     "language": "python",
     "metadata": {},
     "outputs": [],
     "prompt_number": 224
    },
    {
     "cell_type": "code",
     "collapsed": false,
     "input": [
      "PATHWAY_FILE = '/cellar/users/agross/Data/GeneSets/c2.cp.v3.0.symbols_edit.csv'\n",
      "gene_sets, gene_lookup = read_in_pathways(PATHWAY_FILE)"
     ],
     "language": "python",
     "metadata": {},
     "outputs": [],
     "prompt_number": 7
    },
    {
     "cell_type": "code",
     "collapsed": false,
     "input": [
      "cancer = 'GBM'\n",
      "mutation_rates = get_rates(data_path, cancer)"
     ],
     "language": "python",
     "metadata": {},
     "outputs": [],
     "prompt_number": 139
    },
    {
     "cell_type": "code",
     "collapsed": false,
     "input": [
      "def get_cna_rates(cancer, data_path):\n",
      "    gistic_ext = data_path + '/'.join(['broad_analyses', cancer, 'CopyNumber_Gistic2', ''])\n",
      "    try:\n",
      "        gistic = read_table(gistic_ext + 'all_thresholded.by_genes.txt', index_col=0)\n",
      "    except:\n",
      "        return DataFrame([])\n",
      "    gistic = gistic.rename(columns=lambda s: s[:12])\n",
      "    gistic = gistic.ix[:,2:]\n",
      "    \n",
      "    amp_gene_all = (gistic >= 1).astype(int).sum()\n",
      "    amp_gene_high = (gistic == 2).astype(int).sum()\n",
      "    del_gene_all = (gistic <= -1).astype(int).sum()\n",
      "    del_gene_homo = (gistic <= -2).astype(int).sum()\n",
      "    \n",
      "    gistic_lesions = read_table(gistic_ext + 'all_lesions.conf_99.txt', \n",
      "                                index_col=1)\n",
      "    gistic_lesions = gistic_lesions.rename(columns=lambda s: s[:12])\n",
      "    calls = gistic_lesions['Unique Name'].apply(lambda s: (s.find('CN') < 0) \n",
      "                                                and (s.find(call_label) == 0))\n",
      "    lesions = gistic_lesions[calls].select(lambda s: 'TCGA' in s, 1) \n",
      "    \n",
      "    amp_lesion_all = (lesions >= 1).astype(int).sum()\n",
      "    amp_lesion_high = (lesions == 2).astype(int).sum()\n",
      "    del_lesion_all = (lesions <= -1).astype(int).sum()\n",
      "    del_lesion_homo = (lesions <= -2).astype(int).sum()\n",
      "    \n",
      "    cna_df = DataFrame({'gene_amp': amp_gene_all, 'gene_amp_high': amp_gene_high, \n",
      "                        'gene_del': del_gene_all, 'gene_del_homo': del_gene_homo, \n",
      "                        'lesion_amp': amp_lesion_all, 'lesion_amp_high': amp_lesion_high, \n",
      "                        'lesion_del': del_lesion_all, 'lesion_del_homo': del_lesion_homo})"
     ],
     "language": "python",
     "metadata": {},
     "outputs": [],
     "prompt_number": 366
    },
    {
     "cell_type": "code",
     "collapsed": false,
     "input": [
      "def get_global_vars(cancer, data_path):\n",
      "    try:\n",
      "        data_matrix = read_rnaSeq(cancer, data_path)\n",
      "        data_matrix = data_matrix.groupby(by=lambda n: n.split('|')[0]).mean()\n",
      "        U, S, vH = frame_svd(data_matrix)\n",
      "        exp_pc1, exp_pc2 = vH[0], vH[1]\n",
      "    except:\n",
      "        exp_pc1, exp_pc2 = Series([]), Series([])\n",
      "    \n",
      "    try:\n",
      "        data_matrix = read_methylation(cancer, data_path)\n",
      "        U, S, vH = frame_svd(data_matrix)\n",
      "        meth_pc1, meth_pc2 = vH[0], vH[1]\n",
      "    except:\n",
      "        meth_pc1, meth_pc2 = Series([]), Series([])\n",
      "    try:\n",
      "        meth_age, amar = get_age_signal(data_path, cancer)   \n",
      "    except:\n",
      "        meth_age, amar = Series([]), Series([])\n",
      "        \n",
      "    global_vars = DataFrame({'exp_pc1': exp_pc1, 'exp_pc2': exp_pc2, \n",
      "                             'methylation_pc1': meth_pc1, 'methylation_pc2': meth_pc2, \n",
      "                             'methylation_age': meth_age, 'AMAR': amar})\n",
      "    cna_rates = get_cna_rates(data_path, cancer)\n",
      "    global_vars = global_vars.join(cna_rates, how='outer')\n",
      "    mutation_rates = get_rates(data_path, cancer)\n",
      "    global_vars = global_vars.join(mutation_rates, how='outer')\n",
      "    return global_vars"
     ],
     "language": "python",
     "metadata": {},
     "outputs": [],
     "prompt_number": 377
    },
    {
     "cell_type": "code",
     "collapsed": false,
     "input": [
      "class RateObject(object):\n",
      "    '''\n",
      "    Wrapper to store the data in a nice object rather than have to unpack it. \n",
      "    '''\n",
      "    def __init__(self, cancer, data_path, gene_sets, data_type='mutation'):\n",
      "        global_vars = get_global_vars(cancer, data_path)\n",
      "        if data_type in ['mutation', 'amplification','deletion']:\n",
      "            o_dict = run_clinical_bool(cancer, global_vars, data_path, gene_sets, \n",
      "                                       {}, global_vars.columns, [], data_type)\n",
      "        else:\n",
      "            o_dict = run_clinical_real(cancer, global_vars, data_path, gene_sets,\n",
      "                                       {}, global_vars.columns, [], data_type, True)\n",
      "        self.__dict__ = o_dict"
     ],
     "language": "python",
     "metadata": {},
     "outputs": [],
     "prompt_number": 378
    },
    {
     "cell_type": "code",
     "collapsed": false,
     "input": [
      "c = RateObject('LAML', data_path, gene_sets, data_type='methylation')"
     ],
     "language": "python",
     "metadata": {},
     "outputs": [],
     "prompt_number": 386
    },
    {
     "cell_type": "code",
     "collapsed": false,
     "input": [
      "characterize = lambda s: Series({'min': s.min(), 'idx': s.idxmin()})\n",
      "c.q_pathways.apply(characterize).T.sort(columns='min')"
     ],
     "language": "python",
     "metadata": {},
     "outputs": [
      {
       "html": [
        "<div style=\"max-height:1000px;max-width:1500px;overflow:auto;\">\n",
        "<table border=\"1\" class=\"dataframe\">\n",
        "  <thead>\n",
        "    <tr style=\"text-align: right;\">\n",
        "      <th></th>\n",
        "      <th>idx</th>\n",
        "      <th>min</th>\n",
        "    </tr>\n",
        "  </thead>\n",
        "  <tbody>\n",
        "    <tr>\n",
        "      <td><strong>AMAR</strong></td>\n",
        "      <td>                         BIOCARTA_SHH_PATHWAY</td>\n",
        "      <td> 1.810125e-36</td>\n",
        "    </tr>\n",
        "    <tr>\n",
        "      <td><strong>methylation_age</strong></td>\n",
        "      <td> KEGG_NEUROACTIVE_LIGAND_RECEPTOR_INTERACTION</td>\n",
        "      <td>  3.34677e-24</td>\n",
        "    </tr>\n",
        "    <tr>\n",
        "      <td><strong>methylation_pc2</strong></td>\n",
        "      <td>                 REACTOME_SHCMEDIATED_CASCADE</td>\n",
        "      <td> 1.439727e-17</td>\n",
        "    </tr>\n",
        "    <tr>\n",
        "      <td><strong>indel+null</strong></td>\n",
        "      <td>                     BIOCARTA_ARENRF2_PATHWAY</td>\n",
        "      <td>   0.02112374</td>\n",
        "    </tr>\n",
        "    <tr>\n",
        "      <td><strong>A->G</strong></td>\n",
        "      <td>                         BIOCARTA_RAB_PATHWAY</td>\n",
        "      <td>    0.3127549</td>\n",
        "    </tr>\n",
        "    <tr>\n",
        "      <td><strong>*CpG->T</strong></td>\n",
        "      <td>                         BIOCARTA_ACH_PATHWAY</td>\n",
        "      <td>    0.6047735</td>\n",
        "    </tr>\n",
        "    <tr>\n",
        "      <td><strong>transver</strong></td>\n",
        "      <td>                         BIOCARTA_ACH_PATHWAY</td>\n",
        "      <td>    0.7189871</td>\n",
        "    </tr>\n",
        "    <tr>\n",
        "      <td><strong>methylation_pc1</strong></td>\n",
        "      <td>                         BIOCARTA_ACH_PATHWAY</td>\n",
        "      <td>    0.8269626</td>\n",
        "    </tr>\n",
        "    <tr>\n",
        "      <td><strong>rate_non</strong></td>\n",
        "      <td>                      BIOCARTA_AKAP13_PATHWAY</td>\n",
        "      <td>    0.9241429</td>\n",
        "    </tr>\n",
        "    <tr>\n",
        "      <td><strong>rate_dbsnp</strong></td>\n",
        "      <td>                   REACTOME_ETHANOL_OXIDATION</td>\n",
        "      <td>    0.9496763</td>\n",
        "    </tr>\n",
        "    <tr>\n",
        "      <td><strong>rate_sil</strong></td>\n",
        "      <td>                         BIOCARTA_ACH_PATHWAY</td>\n",
        "      <td>    0.9788613</td>\n",
        "    </tr>\n",
        "    <tr>\n",
        "      <td><strong>*Cp(A/C/T)->T</strong></td>\n",
        "      <td>                         BIOCARTA_ACH_PATHWAY</td>\n",
        "      <td>    0.9968344</td>\n",
        "    </tr>\n",
        "    <tr>\n",
        "      <td><strong>double_null</strong></td>\n",
        "      <td>                         BIOCARTA_ACH_PATHWAY</td>\n",
        "      <td>    0.9992884</td>\n",
        "    </tr>\n",
        "  </tbody>\n",
        "</table>\n",
        "</div>"
       ],
       "output_type": "pyout",
       "prompt_number": 387,
       "text": [
        "                                                          idx           min\n",
        "AMAR                                     BIOCARTA_SHH_PATHWAY  1.810125e-36\n",
        "methylation_age  KEGG_NEUROACTIVE_LIGAND_RECEPTOR_INTERACTION   3.34677e-24\n",
        "methylation_pc2                  REACTOME_SHCMEDIATED_CASCADE  1.439727e-17\n",
        "indel+null                           BIOCARTA_ARENRF2_PATHWAY    0.02112374\n",
        "A->G                                     BIOCARTA_RAB_PATHWAY     0.3127549\n",
        "*CpG->T                                  BIOCARTA_ACH_PATHWAY     0.6047735\n",
        "transver                                 BIOCARTA_ACH_PATHWAY     0.7189871\n",
        "methylation_pc1                          BIOCARTA_ACH_PATHWAY     0.8269626\n",
        "rate_non                              BIOCARTA_AKAP13_PATHWAY     0.9241429\n",
        "rate_dbsnp                         REACTOME_ETHANOL_OXIDATION     0.9496763\n",
        "rate_sil                                 BIOCARTA_ACH_PATHWAY     0.9788613\n",
        "*Cp(A/C/T)->T                            BIOCARTA_ACH_PATHWAY     0.9968344\n",
        "double_null                              BIOCARTA_ACH_PATHWAY     0.9992884"
       ]
      }
     ],
     "prompt_number": 387
    },
    {
     "cell_type": "code",
     "collapsed": false,
     "input": [
      "pct = mutation_rates.ix[vec,3:].dropna()\n",
      "fig, ax = subplots(figsize=(1  2,2))\n",
      "pct.plot(kind='bar', stacked=True, legend=False, ax=ax, xticks=[], yticks=[])\n",
      "for p in ax.patches:\n",
      "    p.set_width(1)\n",
      "    p.set_lw(0)\n",
      "ax.set_ybound(0,1)"
     ],
     "language": "python",
     "metadata": {},
     "outputs": [
      {
       "output_type": "display_data",
       "png": "[encoded data removed]"
      }
     ],
     "prompt_number": 93
    },
    {
     "cell_type": "code",
     "collapsed": false,
     "input": [
      "c.q_pathways.ix['BIOCARTA_ETC_PATHWAY']"
     ],
     "language": "python",
     "metadata": {},
     "outputs": [
      {
       "output_type": "pyout",
       "prompt_number": 137,
       "text": [
        "A->mut           0.925730\n",
        "rate_dbsnp       0.004386\n",
        "*Cp(A/C/T)->T    0.990234\n",
        "rate_non         0.004959\n",
        "rate_sil         0.005347\n",
        "double_null      0.921243\n",
        "C->(G/A)         0.987119\n",
        "indel+null       0.999324\n",
        "*CpG->T          0.745972\n",
        "Name: BIOCARTA_ETC_PATHWAY"
       ]
      }
     ],
     "prompt_number": 137
    },
    {
     "cell_type": "code",
     "collapsed": false,
     "input": [
      "np.sort(c.p_pathways['rate_non'])[:20]"
     ],
     "language": "python",
     "metadata": {},
     "outputs": [
      {
       "output_type": "pyout",
       "prompt_number": 124,
       "text": [
        "BIOCARTA_ETC_PATHWAY                                            1.079140e-21\n",
        "REACTOME_REGULATED_PROTEOLYSIS_OF_P75NTR                        2.527402e-18\n",
        "REACTOME_CDC6_ASSOCIATION_WITH_THE_ORC:ORIGIN_COMPLEX           3.331016e-18\n",
        "REACTOME_NRIF_SIGNALS_CELL_DEATH_FROM_THE_NUCLEUS               4.350673e-18\n",
        "REACTOME_OPSINS                                                 5.669223e-17\n",
        "REACTOME_APOPTOSIS_INDUCED_DNA_FRAGMENTATION                    1.393553e-16\n",
        "REACTOME_PP2A_MEDIATED_DEPHOSPHORYLATION_OF_KEY_METABOLIC_FACTORS    3.371448e-16\n",
        "REACTOME_VIRAL_MESSENGER_RNA_SYNTHESIS                          4.317949e-16\n",
        "BIOCARTA_CK1_PATHWAY                                            4.585313e-16\n",
        "REACTOME_ZINC_INFLUX_INTO_CELLS_BY_THE_SLC39_GENES_FAMILY       1.023532e-15\n",
        "REACTOME_ASSOCIATION_OF_LICENSING_FACTORS_WITH_THE_PREREPLICATIVE_COMPLEX    2.070257e-15\n",
        "REACTOME_ACTIVATION_OF_CHAPERONES_BY_IRE1_ALPHA                 4.332408e-15\n",
        "REACTOME_P75NTR_RECRUITS_SIGNALLING_COMPLEXES                   5.443128e-15\n",
        "BIOCARTA_GLYCOLYSIS_PATHWAY                                     6.379186e-15\n",
        "BIOCARTA_PARKIN_PATHWAY                                         6.495123e-15\n",
        "REACTOME_FORMATION_OF_ATP_BY_CHEMIOSMOTIC_COUPLING              6.776623e-15\n",
        "REACTOME_AMINO_ACID_SYNTHESIS_AND_INTERCONVERSION               1.470927e-14\n",
        "BIOCARTA_PROTEASOME_PATHWAY                                     2.018006e-14\n",
        "REACTOME_SYNTHESIS_AND_INTERCONVERSION_OF_NUCLEOTIDE_DI_AND_TRIPHOSPHATES    2.740147e-14\n",
        "REACTOME_DEATH_RECEPTOR_SIGNALLING                              1.826183e-13\n",
        "Name: rate_non"
       ]
      }
     ],
     "prompt_number": 124
    },
    {
     "cell_type": "code",
     "collapsed": false,
     "input": [
      "series_scatter(c.pc.ix['BIOCARTA_CLASSIC_PATHWAY'], \n",
      "               -np.log(c.clinical['rate_non']));"
     ],
     "language": "python",
     "metadata": {},
     "outputs": [
      {
       "output_type": "display_data",
       "png": "[encoded data removed]"
      }
     ],
     "prompt_number": 135
    },
    {
     "cell_type": "code",
     "collapsed": false,
     "input": [
      "violin_plot_pandas(c.meta_matrix.ix['BIOCARTA_GLYCOLYSIS_PATHWAY'], c.clinical['rate_non']);"
     ],
     "language": "python",
     "metadata": {},
     "outputs": [
      {
       "output_type": "display_data",
       "png": "[encoded data removed]"
      }
     ],
     "prompt_number": 129
    },
    {
     "cell_type": "code",
     "collapsed": false,
     "input": [],
     "language": "python",
     "metadata": {},
     "outputs": []
    }
   ],
   "metadata": {}
  }
 ]
}