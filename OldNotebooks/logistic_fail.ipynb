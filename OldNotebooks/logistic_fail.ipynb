{
 "metadata": {
  "name": "logistic_fail"
 },
 "nbformat": 3,
 "nbformat_minor": 0,
 "worksheets": [
  {
   "cells": [
    {
     "cell_type": "code",
     "collapsed": false,
     "input": [
      "cd ../src"
     ],
     "language": "python",
     "metadata": {},
     "outputs": [],
     "prompt_number": "*"
    },
    {
     "cell_type": "code",
     "collapsed": false,
     "input": [
      "import os as os\n",
      "import pickle as pickle\n",
      "from pandas import Panel, DataFrame, Series\n",
      "from pandas import read_csv\n",
      "from Processing.Clinical import get_tests, run_tests"
     ],
     "language": "python",
     "metadata": {},
     "outputs": [],
     "prompt_number": 2
    },
    {
     "cell_type": "code",
     "collapsed": false,
     "input": [
      "REAL_VARIABLES = ['AMAR','rate','age','karnofsky_performance', 'pack_years',\n",
      "                  'pct_tumor_invasion', 'height', 'weight', 'neo_area']\n",
      "BINARY_VARIABLES = ['gender', 'therapy', 'radiation', 'triple_neg', 'triple_pos',\n",
      "                    'ER_pos','PR_pos','her2_pos', 'lymphnode_n0n1', 'tumor_t1t2',\n",
      "                    'post_menopause', 'histo_g1g2', 'neo_status', 'chemo', \n",
      "                    'hormones''complete_response', 'metastatic_recurrence',\n",
      "                    'new_tumor','smoker', 'drinker', 'aml_cyto_risk_favorable',\n",
      "                    'morphology_m1m2', 'normal_cyto', 'abnormallymphocyte', \n",
      "                    'bonemarrowbandcell', 'bonemarrowbasophil', 'bonemarrowblastcell',\n",
      "                    'bonemarrowcellularity', 'bonemarrowlabeosinophil', \n",
      "                    'bonemarrowlymphocyte', 'bonemarrowmyelocyte', 'bonemarrowneutrophil', \n",
      "                    'bonemarrowprolymphocyte', 'bonemarrowpromonocytecount', \n",
      "                    'bonemarrowpromyelocyte', 'monocyte', 'venous_invasion',\n",
      "                    'lymphatic_invasion', 'calcium_level', 'white_cell_count',\n",
      "                    'tumor_focality']\n",
      "SURVIVAL_TESTS = {'survival' : {'event_var' : 'deceased', 'time_var' : 'days', \n",
      "                                'covariates' : ['age']},\n",
      "                  'event_free_survival' : {'event_var' : 'event', \n",
      "                                           'time_var' : 'event_free_survival', \n",
      "                                           'covariates' : ['age']},\n",
      "                  'survival_5y' : {'event_var' : 'deceased_5y', 'time_var' : 'days_5y', \n",
      "                                   'covariates' : ['age']},\n",
      "                  'event_free_survival_5y' : {'event_var' : 'event_5y', \n",
      "                                           'time_var' : 'event_free_survival_5y', \n",
      "                                           'covariates' : ['age']}\n",
      "                  }"
     ],
     "language": "python",
     "metadata": {},
     "outputs": [],
     "prompt_number": 3
    },
    {
     "cell_type": "code",
     "collapsed": false,
     "input": [
      "data_path = '/cellar/data/TCGA/Firehose__2012_10_24/'\n",
      "cancers = os.listdir(data_path + 'ucsd_analyses')\n",
      "report_ext = ''"
     ],
     "language": "python",
     "metadata": {},
     "outputs": [],
     "prompt_number": 4
    },
    {
     "cell_type": "code",
     "collapsed": false,
     "input": [
      "def retreive_paths_for_datatype(data_type, report_ext, folder='Clinical', archive='ClinicalObject.p'):\n",
      "    clinical = {}\n",
      "    for cancer in cancers:\n",
      "        clinical_obj = data_path + '/'.join(['ucsd_analyses', cancer, folder, data_type + report_ext,\n",
      "                                             archive])\n",
      "        if os.path.isfile(clinical_obj):\n",
      "            clinical[cancer] = clinical_obj\n",
      "    return clinical"
     ],
     "language": "python",
     "metadata": {},
     "outputs": [],
     "prompt_number": 5
    },
    {
     "cell_type": "code",
     "collapsed": false,
     "input": [
      "rate_objects = retreive_paths_for_datatype('mutation', report_ext, folder='Globals', archive='RateObject.p')"
     ],
     "language": "python",
     "metadata": {},
     "outputs": [],
     "prompt_number": 6
    },
    {
     "cell_type": "code",
     "collapsed": false,
     "input": [
      "clinical = read_csv(data_path + '/'.join(['ucsd_processing', 'KIRC', \n",
      "                                                  'Clinical','compiled.csv']), index_col=0)\n",
      "        \n",
      "clinical['deceased_5y'] = (clinical.days < (365.25*5)) * clinical.deceased\n",
      "clinical['days_5y'] = clinical.days.clip_upper(int(365.25*5))"
     ],
     "language": "python",
     "metadata": {},
     "outputs": [],
     "prompt_number": 204
    },
    {
     "cell_type": "code",
     "collapsed": false,
     "input": [
      "r = pickle.load(open(rate_objects['KIRC'], 'rb'))"
     ],
     "language": "python",
     "metadata": {},
     "outputs": [],
     "prompt_number": 205
    },
    {
     "cell_type": "code",
     "collapsed": false,
     "input": [
      "rate_vars = r.clinical.dropna(how='all', axis=1)\n",
      "rate_vars = (rate_vars - rate_vars.mean()) / rate_vars.std()\n",
      "rate_vars = rate_vars.dropna(how='all', axis=1).fillna(0)"
     ],
     "language": "python",
     "metadata": {},
     "outputs": [],
     "prompt_number": 217
    },
    {
     "cell_type": "code",
     "collapsed": false,
     "input": [
      "def match_series(a,b):\n",
      "    a, b = a.align(b, join='inner', copy=False)\n",
      "    valid = notnull(a) & notnull(b)\n",
      "    a = a[valid]\n",
      "    b = b[valid]\n",
      "    return a,b"
     ],
     "language": "python",
     "metadata": {},
     "outputs": [],
     "prompt_number": 218
    },
    {
     "cell_type": "code",
     "collapsed": false,
     "input": [
      "def to_np(df, s):\n",
      "    idx = list(set.intersection(set(s.dropna().index), set(df.dropna().index)))\n",
      "    return df.ix[idx].as_matrix(), atleast_2d(s.ix[idx].tolist()).T, idx"
     ],
     "language": "python",
     "metadata": {},
     "outputs": [],
     "prompt_number": 219
    },
    {
     "cell_type": "code",
     "collapsed": false,
     "input": [
      "from sklearn import cross_validation, linear_model"
     ],
     "language": "python",
     "metadata": {},
     "outputs": [],
     "prompt_number": 220
    },
    {
     "cell_type": "code",
     "collapsed": false,
     "input": [
      "logistic = linear_model.LogisticRegression(penalty='l2', C=10, fit_intercept=True, intercept_scaling=1000)\n",
      "\n",
      "X, y, idx = to_np(rate_vars, clinical.tumor_t1t2.astype(int))\n",
      "fit = logistic.fit(X, y)"
     ],
     "language": "python",
     "metadata": {},
     "outputs": [],
     "prompt_number": 235
    },
    {
     "cell_type": "code",
     "collapsed": false,
     "input": [
      "scores = list()\n",
      "scores_std = list()\n",
      "\n",
      "logistic = linear_model.LogisticRegression(penalty='l2')\n",
      "\n",
      "C_s = np.logspace(-5, 5, 100)\n",
      "for C in C_s:\n",
      "    logistic.C = C\n",
      "    this_scores = cross_validation.cross_val_score(logistic, X, y, n_jobs=1, cv=cross_validation.KFold(n=len(y), k=3))\n",
      "    scores.append(mean(this_scores))\n",
      "    scores_std.append(std(this_scores))"
     ],
     "language": "python",
     "metadata": {},
     "outputs": [],
     "prompt_number": 254
    },
    {
     "cell_type": "code",
     "collapsed": false,
     "input": [
      "clinical.tumor_t1t2.value_counts()"
     ],
     "language": "python",
     "metadata": {},
     "outputs": [
      {
       "output_type": "pyout",
       "prompt_number": 255,
       "text": [
        "True     313\n",
        "False    189"
       ]
      }
     ],
     "prompt_number": 255
    },
    {
     "cell_type": "code",
     "collapsed": false,
     "input": [
      "C = C_s[np.argmax(scores)]\n",
      "logistic.C = C\n",
      "\n",
      "X, y, idx = to_np(rate_vars, clinical.tumor_t1t2)\n",
      "fit = logistic.fit(X, y)\n",
      "\n",
      "Series(fit.coef_.flat, index=rate_vars.columns).order().plot(kind='bar')"
     ],
     "language": "python",
     "metadata": {},
     "outputs": [
      {
       "output_type": "pyout",
       "prompt_number": 256,
       "text": [
        "<matplotlib.axes.AxesSubplot at 0x89d6110>"
       ]
      },
      {
       "output_type": "display_data",
       "png": "[encoded data removed]"
      }
     ],
     "prompt_number": 256
    },
    {
     "cell_type": "code",
     "collapsed": false,
     "input": [
      "p = fit.predict_proba(X)"
     ],
     "language": "python",
     "metadata": {},
     "outputs": [],
     "prompt_number": 257
    },
    {
     "cell_type": "code",
     "collapsed": false,
     "input": [
      "df = DataFrame(p, index=idx)"
     ],
     "language": "python",
     "metadata": {},
     "outputs": [],
     "prompt_number": 258
    },
    {
     "cell_type": "code",
     "collapsed": false,
     "input": [
      "df.sort(columns=0).join(Series(y.flat, idx, name='label')).sort(columns=['label', 0]).head()"
     ],
     "language": "python",
     "metadata": {},
     "outputs": [
      {
       "html": [
        "<div style=\"max-height:1000px;max-width:1500px;overflow:auto;\">\n",
        "<table border=\"1\" class=\"dataframe\">\n",
        "  <thead>\n",
        "    <tr style=\"text-align: right;\">\n",
        "      <th></th>\n",
        "      <th>0</th>\n",
        "      <th>1</th>\n",
        "      <th>label</th>\n",
        "    </tr>\n",
        "  </thead>\n",
        "  <tbody>\n",
        "    <tr>\n",
        "      <td><strong>TCGA-B0-5711</strong></td>\n",
        "      <td> 0.150615</td>\n",
        "      <td> 0.849385</td>\n",
        "      <td> False</td>\n",
        "    </tr>\n",
        "    <tr>\n",
        "      <td><strong>TCGA-BP-5183</strong></td>\n",
        "      <td> 0.159010</td>\n",
        "      <td> 0.840990</td>\n",
        "      <td> False</td>\n",
        "    </tr>\n",
        "    <tr>\n",
        "      <td><strong>TCGA-B0-4849</strong></td>\n",
        "      <td> 0.173324</td>\n",
        "      <td> 0.826676</td>\n",
        "      <td> False</td>\n",
        "    </tr>\n",
        "    <tr>\n",
        "      <td><strong>TCGA-B0-4846</strong></td>\n",
        "      <td> 0.182247</td>\n",
        "      <td> 0.817753</td>\n",
        "      <td> False</td>\n",
        "    </tr>\n",
        "    <tr>\n",
        "      <td><strong>TCGA-AK-3445</strong></td>\n",
        "      <td> 0.186407</td>\n",
        "      <td> 0.813593</td>\n",
        "      <td> False</td>\n",
        "    </tr>\n",
        "  </tbody>\n",
        "</table>\n",
        "</div>"
       ],
       "output_type": "pyout",
       "prompt_number": 259,
       "text": [
        "                     0         1  label\n",
        "TCGA-B0-5711  0.150615  0.849385  False\n",
        "TCGA-BP-5183  0.159010  0.840990  False\n",
        "TCGA-B0-4849  0.173324  0.826676  False\n",
        "TCGA-B0-4846  0.182247  0.817753  False\n",
        "TCGA-AK-3445  0.186407  0.813593  False"
       ]
      }
     ],
     "prompt_number": 259
    },
    {
     "cell_type": "code",
     "collapsed": false,
     "input": [
      "float(len(y) - sum(np.abs(fit.predict(X) - y.flat))) / len(y)"
     ],
     "language": "python",
     "metadata": {},
     "outputs": [
      {
       "output_type": "pyout",
       "prompt_number": 268,
       "text": [
        "0.6932270916334662"
       ]
      }
     ],
     "prompt_number": 268
    },
    {
     "cell_type": "code",
     "collapsed": false,
     "input": [
      "plot(scores)"
     ],
     "language": "python",
     "metadata": {},
     "outputs": [
      {
       "output_type": "pyout",
       "prompt_number": 261,
       "text": [
        "[<matplotlib.lines.Line2D at 0xfb35dd0>]"
       ]
      },
      {
       "output_type": "display_data",
       "png": "[encoded data removed]"
      }
     ],
     "prompt_number": 261
    },
    {
     "cell_type": "code",
     "collapsed": false,
     "input": [],
     "language": "python",
     "metadata": {},
     "outputs": []
    }
   ],
   "metadata": {}
  }
 ]
}