{
 "metadata": {
  "name": "PathwayStats"
 },
 "nbformat": 3,
 "nbformat_minor": 0,
 "worksheets": [
  {
   "cells": [
    {
     "cell_type": "code",
     "collapsed": false,
     "input": [
      "cd ../src/"
     ],
     "language": "python",
     "metadata": {},
     "outputs": [
      {
       "output_type": "stream",
       "stream": "stdout",
       "text": [
        "/cellar/users/agross/TCGA_Code/TCGA/Pathway_Merge/src\n"
       ]
      }
     ],
     "prompt_number": 1
    },
    {
     "cell_type": "code",
     "collapsed": false,
     "input": [
      "import os as os\n",
      "import pickle as pickle\n",
      "import pandas as pandas\n",
      "from Data.Pathways import read_in_pathways\n",
      "from Processing.Clinical import ClinicalObject\n",
      "from pandas import DataFrame, Series\n",
      "\n",
      "pandas.set_option('display.max_columns', 300)"
     ],
     "language": "python",
     "metadata": {},
     "outputs": [],
     "prompt_number": 3
    },
    {
     "cell_type": "code",
     "collapsed": false,
     "input": [
      "firehose_path = '/cellar/data/TCGA/Firehose__2012_10_24/'\n",
      "date = '20121024'\n",
      "date_ = '_'.join([date[:4], date[4:6], date[6:8]])\n",
      "pathway_file = '/cellar/users/agross/Data/GeneSets/c2.cp.v3.0.symbols_edit.csv'\n",
      "gene_sets, gene_lookup = read_in_pathways(pathway_file)"
     ],
     "language": "python",
     "metadata": {},
     "outputs": [],
     "prompt_number": 4
    },
    {
     "cell_type": "code",
     "collapsed": false,
     "input": [
      "data_path = '/cellar/data/TCGA/Firehose__2012_10_24/'\n",
      "cancers = os.listdir(data_path + 'ucsd_analyses')\n",
      "def retreive_paths_for_datatype(data_type, report_ext, folder='Clinical', archive='ClinicalObject.p'):\n",
      "    clinical = {}\n",
      "    for cancer in cancers:\n",
      "        clinical_obj = data_path + '/'.join(['ucsd_analyses', cancer, folder, data_type + report_ext,\n",
      "                                             archive])\n",
      "        if os.path.isfile(clinical_obj):\n",
      "            clinical[cancer] = clinical_obj\n",
      "    return clinical"
     ],
     "language": "python",
     "metadata": {},
     "outputs": [],
     "prompt_number": 5
    },
    {
     "cell_type": "code",
     "collapsed": false,
     "input": [
      "def get_clinical_objects(cancer, data_types, test=False):\n",
      "    clinical = {}\n",
      "    for data_type in data_types:\n",
      "        data_path = firehose_path + 'analyses__' + date_ + '/' + cancer + '/' + date + '/'\n",
      "        clinical_obj = data_path + data_type + '_' + report_ext[data_type] + '/ClinicalObject.p'\n",
      "        if os.path.isfile(clinical_obj):\n",
      "            if test:\n",
      "                clinical[data_type] = clinical_obj\n",
      "            else:\n",
      "                clinical[data_type] = pickle.load(open(clinical_obj, 'rb'))\n",
      "    return clinical"
     ],
     "language": "python",
     "metadata": {},
     "outputs": [],
     "prompt_number": 6
    },
    {
     "cell_type": "code",
     "collapsed": false,
     "input": [
      "def get_counts(cancer):\n",
      "    try:\n",
      "        val = 'event_free_survival_5y' if 'event_free_survival_5y' in cancer.clinical else 'survival_5y'\n",
      "        pathways = cancer.q_pathways[val].order()\n",
      "        res = [p for p in pathways.index[1:] if len(gene_sets[p].intersection(set.union(*[gene_sets[s] for s in  pathways[:p].index[:-1]]))) == 0]\n",
      "        res = res + [pathways.index[0]]\n",
      "        non_redundant = cancer.q_pathways.ix[res][val]\n",
      "        \n",
      "        n_pathways = (pathways < .2).sum()\n",
      "        n_non_redundant = (non_redundant < .2).sum()\n",
      "        n_genes = (cancer.q_genes[val] < .2).sum()\n",
      "    except:\n",
      "        n_pathways, n_non_redundant, n_genes = 0,0,0\n",
      "    return Series({'pathways': n_pathways, 'non_redundant': n_non_redundant, 'genes': n_genes}, name=cancer.cancer)"
     ],
     "language": "python",
     "metadata": {},
     "outputs": [],
     "prompt_number": 7
    },
    {
     "cell_type": "code",
     "collapsed": false,
     "input": [
      "data_type = 'mutation'\n",
      "obj = retreive_paths_for_datatype(data_type, '_LR')"
     ],
     "language": "python",
     "metadata": {},
     "outputs": [],
     "prompt_number": 56
    },
    {
     "cell_type": "code",
     "collapsed": false,
     "input": [
      "cancer_obj = pickle.load(open(obj['OV'],'rb'))"
     ],
     "language": "python",
     "metadata": {},
     "outputs": [],
     "prompt_number": 58
    },
    {
     "cell_type": "code",
     "collapsed": false,
     "input": [],
     "language": "python",
     "metadata": {},
     "outputs": [],
     "prompt_number": 66
    },
    {
     "cell_type": "code",
     "collapsed": false,
     "input": [
      "def get_fracs(cancer_obj):\n",
      "    val = 'event_free_survival_5y' if 'event_free_survival_5y' in cancer_obj.clinical else 'survival_5y'\n",
      "    hit_genes = set(list(cancer_obj.hit_matrix.index))\n",
      "    \n",
      "    p = cancer_obj.q_pathways[val].dropna()\n",
      "    p = p[p<.2]\n",
      "    \n",
      "    in_pathways = set.union(*[gene_sets[s] for s in p.index])\n",
      "    covered_genes = list(hit_genes.intersection(in_pathways))\n",
      "    \n",
      "    covered_mutations = cancer_obj.hit_matrix.ix[covered_genes].sum().sum()\n",
      "    covered_frac_p = float(covered_mutations) / cancer_obj.hit_matrix.sum().sum()\n",
      "    \n",
      "    g = cancer_obj.q_genes[val].dropna()\n",
      "    g = g[g<.2]\n",
      "    \n",
      "    covered_genes = list(g.index)\n",
      "    \n",
      "    covered_mutations = cancer_obj.hit_matrix.ix[covered_genes].sum().sum()\n",
      "    covered_frac_g = float(covered_mutations) / cancer_obj.hit_matrix.sum().sum()\n",
      "    return Series({'genes': covered_frac_g, 'pathways': covered_frac_p}, name=cancer_obj.cancer)"
     ],
     "language": "python",
     "metadata": {},
     "outputs": [],
     "prompt_number": 111
    },
    {
     "cell_type": "code",
     "collapsed": false,
     "input": [
      "counts = {}\n",
      "for cancer, report in obj.iteritems():\n",
      "    cancer_obj = pickle.load(open(report,'rb'))\n",
      "    try:\n",
      "        counts[cancer] = get_fracs(cancer_obj)\n",
      "    except:\n",
      "        continue"
     ],
     "language": "python",
     "metadata": {},
     "outputs": [],
     "prompt_number": 112
    },
    {
     "cell_type": "code",
     "collapsed": false,
     "input": [
      "DataFrame(counts)"
     ],
     "language": "python",
     "metadata": {},
     "outputs": [
      {
       "html": [
        "<div style=\"max-height:1000px;max-width:1500px;overflow:auto;\">\n",
        "<table border=\"1\" class=\"dataframe\">\n",
        "  <thead>\n",
        "    <tr style=\"text-align: right;\">\n",
        "      <th></th>\n",
        "      <th>BRCA</th>\n",
        "      <th>COADREAD</th>\n",
        "      <th>GBM</th>\n",
        "      <th>LAML</th>\n",
        "      <th>LUAD</th>\n",
        "      <th>LUSC</th>\n",
        "      <th>OV</th>\n",
        "      <th>STAD</th>\n",
        "      <th>UCEC</th>\n",
        "    </tr>\n",
        "  </thead>\n",
        "  <tbody>\n",
        "    <tr>\n",
        "      <td><strong>genes</strong></td>\n",
        "      <td> 0.002822</td>\n",
        "      <td> 0.010895</td>\n",
        "      <td> 0.009065</td>\n",
        "      <td> 0.036145</td>\n",
        "      <td> 0.019116</td>\n",
        "      <td> 0.025287</td>\n",
        "      <td> 0.000658</td>\n",
        "      <td> 0.005691</td>\n",
        "      <td> 0.001950</td>\n",
        "    </tr>\n",
        "    <tr>\n",
        "      <td><strong>pathways</strong></td>\n",
        "      <td> 0.000998</td>\n",
        "      <td> 0.161335</td>\n",
        "      <td> 0.159191</td>\n",
        "      <td> 0.114899</td>\n",
        "      <td> 0.199701</td>\n",
        "      <td> 0.119428</td>\n",
        "      <td> 0.169836</td>\n",
        "      <td> 0.121055</td>\n",
        "      <td> 0.042667</td>\n",
        "    </tr>\n",
        "  </tbody>\n",
        "</table>\n",
        "</div>"
       ],
       "output_type": "pyout",
       "prompt_number": 120,
       "text": [
        "              BRCA  COADREAD       GBM      LAML      LUAD      LUSC        OV  \\\n",
        "genes     0.002822  0.010895  0.009065  0.036145  0.019116  0.025287  0.000658   \n",
        "pathways  0.000998  0.161335  0.159191  0.114899  0.199701  0.119428  0.169836   \n",
        "\n",
        "              STAD      UCEC  \n",
        "genes     0.005691  0.001950  \n",
        "pathways  0.121055  0.042667  "
       ]
      }
     ],
     "prompt_number": 120
    },
    {
     "cell_type": "code",
     "collapsed": false,
     "input": [
      "DataFrame(counts).T.plot(kind='bar')"
     ],
     "language": "python",
     "metadata": {},
     "outputs": [
      {
       "output_type": "pyout",
       "prompt_number": 118,
       "text": [
        "<matplotlib.axes.AxesSubplot at 0x10226cd0>"
       ]
      },
      {
       "output_type": "display_data",
       "png": "[encoded data removed]"
      }
     ],
     "prompt_number": 118
    },
    {
     "cell_type": "code",
     "collapsed": false,
     "input": [
      "len(covered_genes)"
     ],
     "language": "python",
     "metadata": {},
     "outputs": [
      {
       "output_type": "pyout",
       "prompt_number": 81,
       "text": [
        "1285"
       ]
      }
     ],
     "prompt_number": 81
    },
    {
     "cell_type": "code",
     "collapsed": false,
     "input": [
      "counts = {}\n",
      "for cancer, report in obj.iteritems():\n",
      "    cancer_obj = pickle.load(open(report,'rb'))\n",
      "    counts[cancer] = get_counts(cancer_obj)"
     ],
     "language": "python",
     "metadata": {},
     "outputs": [],
     "prompt_number": 16
    },
    {
     "cell_type": "code",
     "collapsed": false,
     "input": [],
     "language": "python",
     "metadata": {},
     "outputs": [
      {
       "html": [
        "<div style=\"max-height:1000px;max-width:1500px;overflow:auto;\">\n",
        "<table border=\"1\" class=\"dataframe\">\n",
        "  <tbody>\n",
        "    <tr>\n",
        "      <td>Index([], dtype=object)</td>\n",
        "      <td>Empty DataFrame</td>\n",
        "    </tr>\n",
        "  </tbody>\n",
        "</table>\n",
        "</div>"
       ],
       "output_type": "pyout",
       "prompt_number": 108,
       "text": [
        "Empty DataFrame\n",
        "Columns: []\n",
        "Index: []"
       ]
      }
     ],
     "prompt_number": 108
    },
    {
     "cell_type": "code",
     "collapsed": false,
     "input": [
      "df = DataFrame(counts).T\n",
      "df['bands'] = Series(df.genes, name='bands')"
     ],
     "language": "python",
     "metadata": {},
     "outputs": [],
     "prompt_number": 47
    },
    {
     "cell_type": "code",
     "collapsed": false,
     "input": [
      "df = df[['bands', 'non_redundant','pathways']].T"
     ],
     "language": "python",
     "metadata": {},
     "outputs": [],
     "prompt_number": 48
    },
    {
     "cell_type": "code",
     "collapsed": false,
     "input": [
      "fig, ax = subplots()\n",
      "df.T.plot(kind='bar', ax=ax)\n",
      "ax.set_yscale('symlog')\n",
      "ax.set_ylabel('# Associations')\n",
      "ax.legend(fancybox=True)\n",
      "ax.set_title('Amplification')"
     ],
     "language": "python",
     "metadata": {},
     "outputs": [
      {
       "output_type": "pyout",
       "prompt_number": 49,
       "text": [
        "<matplotlib.text.Text at 0xb08b090>"
       ]
      },
      {
       "output_type": "display_data",
       "png": "[encoded data removed]"
      }
     ],
     "prompt_number": 49
    },
    {
     "cell_type": "code",
     "collapsed": false,
     "input": [
      "cancer = pickle.load(open(obj['LUSC'],'rb'))"
     ],
     "language": "python",
     "metadata": {},
     "outputs": [],
     "prompt_number": 13
    },
    {
     "cell_type": "code",
     "collapsed": false,
     "input": [
      "val = 'event_free_survival_5y' if 'event_free_survival_5y' in cancer.clinical else 'survival_5y'\n",
      "pathways = cancer.q_pathways[val].order()\n",
      "res = [p for p in pathways.index[1:] if len(gene_sets[p].intersection(set.union(*map(lambda s: gene_sets[s], pathways[:p].index[:-1])))) == 0]\n",
      "res = res + [pathways.index[0]]\n",
      "non_redundant = cancer.q_pathways.ix[res][val]\n",
      "\n",
      "fig, ax = subplots(figsize=(4,3))\n",
      "q = cancer.q_pathways[val]\n",
      "q = np.sort(q).dropna()\n",
      "\n",
      "ax.plot(*array([array((i,sum(q < i))) for i in arange(0, 1, .01) if sum(q < i) > 0]).T, lw=3, label='pathways')\n",
      "\n",
      "q = non_redundant\n",
      "ax.plot(*array([array((i,sum(q < i))) for i in arange(0, 1, .01) if sum(q < i) > 0]).T, lw=3, color='purple', label='non-redundant')\n",
      "\n",
      "q = cancer.q_genes[val]\n",
      "q = np.sort(q).dropna()\n",
      "\n",
      "ax.plot(*array([array((i,sum(q < i))) for i in arange(0, 1, .01) if sum(q < i) > 0]).T, lw=3, label='genes')\n",
      "\n",
      "\n",
      "ax.axvline(.2, color='r', lw=3, ls='--', alpha=.5)\n",
      "#yscale('symlog')\n",
      "legend(fancybox=True)\n",
      "ax.set_xlim(0, 1)\n",
      "ax.set_ylim(0,150);\n",
      "ax.set_title(cancer.cancer)"
     ],
     "language": "python",
     "metadata": {},
     "outputs": [
      {
       "output_type": "pyout",
       "prompt_number": 14,
       "text": [
        "<matplotlib.text.Text at 0x8ab8190>"
       ]
      },
      {
       "output_type": "display_data",
       "png": "[encoded data removed]"
      }
     ],
     "prompt_number": 14
    },
    {
     "cell_type": "code",
     "collapsed": false,
     "input": [
      "def get_patients(sets):\n",
      "    counts = cancer.meta_matrix.ix[sets].sum()\n",
      "    patients = set(counts[counts > 0].index)\n",
      "    return patients"
     ],
     "language": "python",
     "metadata": {},
     "outputs": [],
     "prompt_number": 92
    },
    {
     "cell_type": "code",
     "collapsed": false,
     "input": [
      "res = [p for p in pathways.index[1:] if len(get_patients([p]).intersection(get_patients(pathways[:p].index[:-1]))) < 5]\n",
      "res = [pathways.index[0]] + res\n",
      "exclusive = cancer.p_pathways.ix[res].event_free_survival_5y"
     ],
     "language": "python",
     "metadata": {},
     "outputs": [],
     "prompt_number": 93
    },
    {
     "cell_type": "code",
     "collapsed": false,
     "input": [
      "p = pathways[['REACTOME_P53_INDEPENDENT_DNA_DAMAGE_RESPONSE',\n",
      "              'REACTOME_NA_CL_DEPENDENT_NEUROTRANSMITTER_TRANSPORTERS',\n",
      "              'BIOCARTA_TGFB_PATHWAY']]"
     ],
     "language": "python",
     "metadata": {},
     "outputs": [],
     "prompt_number": 299
    },
    {
     "cell_type": "code",
     "collapsed": false,
     "input": [
      "p = exclusive"
     ],
     "language": "python",
     "metadata": {},
     "outputs": [],
     "prompt_number": 257
    },
    {
     "cell_type": "code",
     "collapsed": false,
     "input": [
      "m = (cancer.meta_matrix.ix[p.index[:10]] > 0).astype(int)\n",
      "o = np.sort(m.apply(lambda s: ''.join(map(str, s)))).index[::-1]"
     ],
     "language": "python",
     "metadata": {},
     "outputs": [
      {
       "ename": "TypeError",
       "evalue": "'builtin_function_or_method' object has no attribute '__getitem__'",
       "output_type": "pyerr",
       "traceback": [
        "\u001b[1;31m---------------------------------------------------------------------------\u001b[0m\n\u001b[1;31mTypeError\u001b[0m                                 Traceback (most recent call last)",
        "\u001b[1;32m<ipython-input-94-9277d5395233>\u001b[0m in \u001b[0;36m<module>\u001b[1;34m()\u001b[0m\n\u001b[1;32m----> 1\u001b[1;33m \u001b[0mm\u001b[0m \u001b[1;33m=\u001b[0m \u001b[1;33m(\u001b[0m\u001b[0mcancer\u001b[0m\u001b[1;33m.\u001b[0m\u001b[0mmeta_matrix\u001b[0m\u001b[1;33m.\u001b[0m\u001b[0mix\u001b[0m\u001b[1;33m[\u001b[0m\u001b[0mp\u001b[0m\u001b[1;33m.\u001b[0m\u001b[0mindex\u001b[0m\u001b[1;33m[\u001b[0m\u001b[1;33m:\u001b[0m\u001b[1;36m10\u001b[0m\u001b[1;33m]\u001b[0m\u001b[1;33m]\u001b[0m \u001b[1;33m>\u001b[0m \u001b[1;36m0\u001b[0m\u001b[1;33m)\u001b[0m\u001b[1;33m.\u001b[0m\u001b[0mastype\u001b[0m\u001b[1;33m(\u001b[0m\u001b[0mint\u001b[0m\u001b[1;33m)\u001b[0m\u001b[1;33m\u001b[0m\u001b[0m\n\u001b[0m\u001b[0;32m      2\u001b[0m \u001b[0mo\u001b[0m \u001b[1;33m=\u001b[0m \u001b[0mnp\u001b[0m\u001b[1;33m.\u001b[0m\u001b[0msort\u001b[0m\u001b[1;33m(\u001b[0m\u001b[0mm\u001b[0m\u001b[1;33m.\u001b[0m\u001b[0mapply\u001b[0m\u001b[1;33m(\u001b[0m\u001b[1;32mlambda\u001b[0m \u001b[0ms\u001b[0m\u001b[1;33m:\u001b[0m \u001b[1;34m''\u001b[0m\u001b[1;33m.\u001b[0m\u001b[0mjoin\u001b[0m\u001b[1;33m(\u001b[0m\u001b[0mmap\u001b[0m\u001b[1;33m(\u001b[0m\u001b[0mstr\u001b[0m\u001b[1;33m,\u001b[0m \u001b[0ms\u001b[0m\u001b[1;33m)\u001b[0m\u001b[1;33m)\u001b[0m\u001b[1;33m)\u001b[0m\u001b[1;33m)\u001b[0m\u001b[1;33m.\u001b[0m\u001b[0mindex\u001b[0m\u001b[1;33m[\u001b[0m\u001b[1;33m:\u001b[0m\u001b[1;33m:\u001b[0m\u001b[1;33m-\u001b[0m\u001b[1;36m1\u001b[0m\u001b[1;33m]\u001b[0m\u001b[1;33m\u001b[0m\u001b[0m\n",
        "\u001b[1;31mTypeError\u001b[0m: 'builtin_function_or_method' object has no attribute '__getitem__'"
       ]
      }
     ],
     "prompt_number": 94
    },
    {
     "cell_type": "code",
     "collapsed": false,
     "input": [
      "mat = m.ix[:,o[:51]]"
     ],
     "language": "python",
     "metadata": {},
     "outputs": [],
     "prompt_number": 302
    },
    {
     "cell_type": "code",
     "collapsed": false,
     "input": [
      "fig, ax = subplots(figsize=(15,4))\n",
      "ax.imshow(mat.as_matrix(), aspect=1, interpolation='nearest')\n",
      "ax.set_yticks(range(3))\n",
      "ax.set_yticklabels(p.index[:10])"
     ],
     "language": "python",
     "metadata": {},
     "outputs": [
      {
       "output_type": "pyout",
       "prompt_number": 303,
       "text": [
        "[<matplotlib.text.Text at 0xb374690>,\n",
        " <matplotlib.text.Text at 0xb409990>,\n",
        " <matplotlib.text.Text at 0xa75ef10>]"
       ]
      },
      {
       "output_type": "display_data",
       "png": "[encoded data removed]"
      }
     ],
     "prompt_number": 303
    },
    {
     "cell_type": "code",
     "collapsed": false,
     "input": [
      "p = pathways.index[1]"
     ],
     "language": "python",
     "metadata": {},
     "outputs": [],
     "prompt_number": 255
    },
    {
     "cell_type": "code",
     "collapsed": false,
     "input": [
      "get_patients([p]).intersection(get_patients(pathways[:p].index[:-1]))"
     ],
     "language": "python",
     "metadata": {},
     "outputs": [
      {
       "output_type": "pyout",
       "prompt_number": 256,
       "text": [
        "set(['TCGA-25-2401', 'TCGA-24-1560'])"
       ]
      }
     ],
     "prompt_number": 256
    },
    {
     "cell_type": "code",
     "collapsed": false,
     "input": [
      "mat.index"
     ],
     "language": "python",
     "metadata": {},
     "outputs": [
      {
       "output_type": "pyout",
       "prompt_number": 214,
       "text": [
        "Index([REACTOME_NA_CL_DEPENDENT_NEUROTRANSMITTER_TRANSPORTERS, BIOCARTA_TGFB_PATHWAY, REACTOME_P53_INDEPENDENT_DNA_DAMAGE_RESPONSE], dtype=object)"
       ]
      }
     ],
     "prompt_number": 214
    },
    {
     "cell_type": "code",
     "collapsed": false,
     "input": [
      "from matplotlib.patches import Rectangle, FancyBboxPatch\n",
      "\n",
      "def mut_box(x, y, width=.7, height=.9, small=False):\n",
      "    if small:\n",
      "        height = height / 2\n",
      "        y = y - height / 2\n",
      "    width = width - .2\n",
      "    height = height - .2\n",
      "    rect = FancyBboxPatch([x - width / 2, y - height / 2], width, height,\n",
      "                          facecolor='green', edgecolor='black', alpha=.8,\n",
      "                          lw=2, mutation_scale=.33)\n",
      "    return rect\n",
      "\n",
      "def null_box(x, y, width=.7, height=.9):\n",
      "    width = width - .2\n",
      "    height = height - .2\n",
      "    rect = FancyBboxPatch([x - width / 2, y - height / 2], width, height,\n",
      "                     facecolor='grey', edgecolor='black', alpha=.5,\n",
      "                     mutation_scale=.33)\n",
      "    return rect\n",
      "\n",
      "def memo_plot(df, ax=None):\n",
      "    if ax == None:\n",
      "        ax = plt.gca()\n",
      "    ax.patch.set_facecolor('white')\n",
      "    ax.set_aspect(3, 'box')\n",
      "    ax.set_xticks([])\n",
      "    ax.set_yticks(range(len(mat)))\n",
      "    ax.set_yticklabels(df.index[::-1])\n",
      "    \n",
      "    W = df.as_matrix().T[:, ::-1]\n",
      "    for (x,y),w in np.ndenumerate(W):\n",
      "        if w == 0: \n",
      "            rect = null_box(x, y)\n",
      "        else:     \n",
      "            rect = null_box(x, y)\n",
      "            ax.add_patch(rect)\n",
      "            rect = mut_box(x, y) \n",
      "        ax.add_patch(rect)\n",
      "    ax.set_xbound(-.5, len(W)-.5)\n",
      "    ax.set_ybound(-.5, len(W[0])-.5)"
     ],
     "language": "python",
     "metadata": {},
     "outputs": [],
     "prompt_number": 304
    },
    {
     "cell_type": "code",
     "collapsed": false,
     "input": [
      "mat = m.ix[:,o[:51]]"
     ],
     "language": "python",
     "metadata": {},
     "outputs": [],
     "prompt_number": 305
    },
    {
     "cell_type": "code",
     "collapsed": false,
     "input": [
      "memo_plot(mat)\n",
      "plt.gcf().savefig('memo_ov.svg')"
     ],
     "language": "python",
     "metadata": {},
     "outputs": [
      {
       "output_type": "display_data",
       "png": "[encoded data removed]"
      }
     ],
     "prompt_number": 306
    }
   ],
   "metadata": {}
  }
 ]
}